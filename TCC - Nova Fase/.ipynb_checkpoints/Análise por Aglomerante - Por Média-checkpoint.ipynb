{
 "cells": [
  {
   "cell_type": "code",
   "execution_count": 431,
   "metadata": {},
   "outputs": [],
   "source": [
    "import pandas as pd\n",
    "import numpy as np\n",
    "import datetime as dt\n",
    "import seaborn as sns\n",
    "import matplotlib.pyplot as plt\n",
    "import plotly.express as px\n",
    "from sklearn import preprocessing\n",
    "\n",
    "import xgboost as xgb\n",
    "from sklearn import metrics\n",
    "from sklearn.impute import SimpleImputer\n",
    "from sklearn.tree import DecisionTreeRegressor\n",
    "from sklearn.preprocessing import MinMaxScaler\n",
    "from sklearn.preprocessing import StandardScaler\n",
    "from sklearn.linear_model import LinearRegression\n",
    "from sklearn.linear_model import ElasticNet\n",
    "from sklearn.linear_model import BayesianRidge\n",
    "from sklearn.ensemble import GradientBoostingRegressor\n",
    "from sklearn import tree\n",
    "from sklearn.pipeline import Pipeline, FeatureUnion\n",
    "from sklearn.model_selection import train_test_split\n",
    "from sklearn.metrics import mean_squared_error, r2_score\n",
    "from sklearn.base import BaseEstimator, TransformerMixin"
   ]
  },
  {
   "cell_type": "code",
   "execution_count": 432,
   "metadata": {},
   "outputs": [
    {
     "data": {
      "text/html": [
       "<div>\n",
       "<style scoped>\n",
       "    .dataframe tbody tr th:only-of-type {\n",
       "        vertical-align: middle;\n",
       "    }\n",
       "\n",
       "    .dataframe tbody tr th {\n",
       "        vertical-align: top;\n",
       "    }\n",
       "\n",
       "    .dataframe thead th {\n",
       "        text-align: right;\n",
       "    }\n",
       "</style>\n",
       "<table border=\"1\" class=\"dataframe\">\n",
       "  <thead>\n",
       "    <tr style=\"text-align: right;\">\n",
       "      <th></th>\n",
       "      <th>CodigoReceita</th>\n",
       "      <th>Volume</th>\n",
       "      <th>TipoLancamento</th>\n",
       "      <th>DataEmissaoNotaFiscal</th>\n",
       "      <th>CodigoCliente</th>\n",
       "      <th>CodigoMotorista</th>\n",
       "      <th>TempoPermanenciaObra</th>\n",
       "      <th>ConsumoTotal</th>\n",
       "      <th>Idade</th>\n",
       "      <th>TipoTraco</th>\n",
       "      <th>CodigoAglomerante</th>\n",
       "      <th>FCK</th>\n",
       "      <th>Rompimento7Dias</th>\n",
       "      <th>Rompimento28Dias</th>\n",
       "      <th>ConsumoPorM3</th>\n",
       "      <th>DesvioAplicado</th>\n",
       "      <th>ResultadoProjetado</th>\n",
       "      <th>PercentualCrescimentoReal</th>\n",
       "      <th>PercentualCrescimentoProjetado</th>\n",
       "      <th>RelacaoAguaCimento</th>\n",
       "    </tr>\n",
       "  </thead>\n",
       "  <tbody>\n",
       "    <tr>\n",
       "      <th>0</th>\n",
       "      <td>672051</td>\n",
       "      <td>8.0</td>\n",
       "      <td>B</td>\n",
       "      <td>2015-01-16 07:35:31.770</td>\n",
       "      <td>6248051</td>\n",
       "      <td>11080</td>\n",
       "      <td>02:41:00</td>\n",
       "      <td>2.720.000</td>\n",
       "      <td>28</td>\n",
       "      <td>N</td>\n",
       "      <td>12051.0</td>\n",
       "      <td>30.0</td>\n",
       "      <td>20.83</td>\n",
       "      <td>31.81</td>\n",
       "      <td>340.0</td>\n",
       "      <td>3.5</td>\n",
       "      <td>33.321754</td>\n",
       "      <td>52.712434</td>\n",
       "      <td>59.970014</td>\n",
       "      <td>0.535294</td>\n",
       "    </tr>\n",
       "    <tr>\n",
       "      <th>1</th>\n",
       "      <td>672051</td>\n",
       "      <td>8.0</td>\n",
       "      <td>B</td>\n",
       "      <td>2015-01-16 08:20:03.153</td>\n",
       "      <td>6248051</td>\n",
       "      <td>87079</td>\n",
       "      <td>02:46:00</td>\n",
       "      <td>2.720.000</td>\n",
       "      <td>28</td>\n",
       "      <td>N</td>\n",
       "      <td>12051.0</td>\n",
       "      <td>30.0</td>\n",
       "      <td>19.62</td>\n",
       "      <td>31.21</td>\n",
       "      <td>340.0</td>\n",
       "      <td>3.5</td>\n",
       "      <td>31.799067</td>\n",
       "      <td>59.072375</td>\n",
       "      <td>62.074756</td>\n",
       "      <td>0.535294</td>\n",
       "    </tr>\n",
       "    <tr>\n",
       "      <th>2</th>\n",
       "      <td>672051</td>\n",
       "      <td>7.0</td>\n",
       "      <td>B</td>\n",
       "      <td>2015-01-16 10:05:20.293</td>\n",
       "      <td>6248051</td>\n",
       "      <td>43080</td>\n",
       "      <td>01:32:00</td>\n",
       "      <td>2.380.000</td>\n",
       "      <td>28</td>\n",
       "      <td>N</td>\n",
       "      <td>12051.0</td>\n",
       "      <td>30.0</td>\n",
       "      <td>21.97</td>\n",
       "      <td>36.68</td>\n",
       "      <td>340.0</td>\n",
       "      <td>3.5</td>\n",
       "      <td>34.733698</td>\n",
       "      <td>66.954939</td>\n",
       "      <td>58.096029</td>\n",
       "      <td>0.535294</td>\n",
       "    </tr>\n",
       "    <tr>\n",
       "      <th>3</th>\n",
       "      <td>672051</td>\n",
       "      <td>8.0</td>\n",
       "      <td>B</td>\n",
       "      <td>2015-01-20 18:52:57.373</td>\n",
       "      <td>12343051</td>\n",
       "      <td>43080</td>\n",
       "      <td>01:10:00</td>\n",
       "      <td>2.720.000</td>\n",
       "      <td>28</td>\n",
       "      <td>N</td>\n",
       "      <td>12051.0</td>\n",
       "      <td>30.0</td>\n",
       "      <td>28.21</td>\n",
       "      <td>40.21</td>\n",
       "      <td>340.0</td>\n",
       "      <td>3.5</td>\n",
       "      <td>42.118539</td>\n",
       "      <td>42.538107</td>\n",
       "      <td>49.303577</td>\n",
       "      <td>0.535294</td>\n",
       "    </tr>\n",
       "    <tr>\n",
       "      <th>4</th>\n",
       "      <td>672051</td>\n",
       "      <td>6.0</td>\n",
       "      <td>B</td>\n",
       "      <td>2015-01-21 07:08:54.847</td>\n",
       "      <td>6248051</td>\n",
       "      <td>42080</td>\n",
       "      <td>00:35:00</td>\n",
       "      <td>2.040.000</td>\n",
       "      <td>28</td>\n",
       "      <td>N</td>\n",
       "      <td>12051.0</td>\n",
       "      <td>30.0</td>\n",
       "      <td>25.80</td>\n",
       "      <td>38.74</td>\n",
       "      <td>340.0</td>\n",
       "      <td>3.5</td>\n",
       "      <td>39.330637</td>\n",
       "      <td>50.155039</td>\n",
       "      <td>52.444329</td>\n",
       "      <td>0.535294</td>\n",
       "    </tr>\n",
       "  </tbody>\n",
       "</table>\n",
       "</div>"
      ],
      "text/plain": [
       "   CodigoReceita  Volume TipoLancamento    DataEmissaoNotaFiscal  \\\n",
       "0         672051     8.0              B  2015-01-16 07:35:31.770   \n",
       "1         672051     8.0              B  2015-01-16 08:20:03.153   \n",
       "2         672051     7.0              B  2015-01-16 10:05:20.293   \n",
       "3         672051     8.0              B  2015-01-20 18:52:57.373   \n",
       "4         672051     6.0              B  2015-01-21 07:08:54.847   \n",
       "\n",
       "   CodigoCliente  CodigoMotorista TempoPermanenciaObra ConsumoTotal  Idade  \\\n",
       "0        6248051            11080             02:41:00    2.720.000     28   \n",
       "1        6248051            87079             02:46:00    2.720.000     28   \n",
       "2        6248051            43080             01:32:00    2.380.000     28   \n",
       "3       12343051            43080             01:10:00    2.720.000     28   \n",
       "4        6248051            42080             00:35:00    2.040.000     28   \n",
       "\n",
       "  TipoTraco  CodigoAglomerante   FCK  Rompimento7Dias  Rompimento28Dias  \\\n",
       "0         N            12051.0  30.0            20.83             31.81   \n",
       "1         N            12051.0  30.0            19.62             31.21   \n",
       "2         N            12051.0  30.0            21.97             36.68   \n",
       "3         N            12051.0  30.0            28.21             40.21   \n",
       "4         N            12051.0  30.0            25.80             38.74   \n",
       "\n",
       "   ConsumoPorM3  DesvioAplicado  ResultadoProjetado  \\\n",
       "0         340.0             3.5           33.321754   \n",
       "1         340.0             3.5           31.799067   \n",
       "2         340.0             3.5           34.733698   \n",
       "3         340.0             3.5           42.118539   \n",
       "4         340.0             3.5           39.330637   \n",
       "\n",
       "   PercentualCrescimentoReal  PercentualCrescimentoProjetado  \\\n",
       "0                  52.712434                       59.970014   \n",
       "1                  59.072375                       62.074756   \n",
       "2                  66.954939                       58.096029   \n",
       "3                  42.538107                       49.303577   \n",
       "4                  50.155039                       52.444329   \n",
       "\n",
       "   RelacaoAguaCimento  \n",
       "0            0.535294  \n",
       "1            0.535294  \n",
       "2            0.535294  \n",
       "3            0.535294  \n",
       "4            0.535294  "
      ]
     },
     "execution_count": 432,
     "metadata": {},
     "output_type": "execute_result"
    }
   ],
   "source": [
    "dados = pd.read_csv(\"dados_pre_processados.csv\")\n",
    "dados.drop(\"Unnamed: 0\", axis = \"columns\", inplace=True)\n",
    "dados.head()"
   ]
  },
  {
   "cell_type": "code",
   "execution_count": 433,
   "metadata": {},
   "outputs": [],
   "source": [
    "#dados_por_aglomerante = dados.groupby(\"CodigoAglomerante\")\n",
    "#dados_por_aglomerante.groups.keys()"
   ]
  },
  {
   "cell_type": "code",
   "execution_count": 434,
   "metadata": {},
   "outputs": [],
   "source": [
    "#da = dados_por_aglomerante.get_group(11051.0)\n",
    "#da.head()"
   ]
  },
  {
   "cell_type": "code",
   "execution_count": 435,
   "metadata": {},
   "outputs": [],
   "source": [
    "def EncontrarDataProjecao(item):\n",
    "    dataEmissao = pd.to_datetime(item[\"DataEmissaoNotaFiscal\"])    \n",
    "    diaDaSemana = dataEmissao.weekday()\n",
    "    \n",
    "    diasDeAdicao = 0\n",
    "    \n",
    "    if (diaDaSemana == 0):\n",
    "        diasDeAdicao = 4\n",
    "    elif (diaDaSemana == 1):\n",
    "        diasDeAdicao = 3\n",
    "    elif (diaDaSemana == 2):\n",
    "        diasDeAdicao = 2\n",
    "    elif (diaDaSemana == 3):\n",
    "        diasDeAdicao = 1\n",
    "    elif (diaDaSemana == 4):\n",
    "        diasDeAdicao = 0\n",
    "    elif (diaDaSemana == 5):\n",
    "        diasDeAdicao = 6\n",
    "    else:\n",
    "        diasDeAdicao = 5\n",
    "        \n",
    "    dataProjecao = dataEmissao + dt.timedelta(days=diasDeAdicao)\n",
    "    return dataProjecao.date()"
   ]
  },
  {
   "cell_type": "code",
   "execution_count": 436,
   "metadata": {},
   "outputs": [],
   "source": [
    "dados[\"DataProjecao\"] = dados.apply(EncontrarDataProjecao, axis = \"columns\")"
   ]
  },
  {
   "cell_type": "code",
   "execution_count": 437,
   "metadata": {},
   "outputs": [
    {
     "data": {
      "text/html": [
       "<div>\n",
       "<style scoped>\n",
       "    .dataframe tbody tr th:only-of-type {\n",
       "        vertical-align: middle;\n",
       "    }\n",
       "\n",
       "    .dataframe tbody tr th {\n",
       "        vertical-align: top;\n",
       "    }\n",
       "\n",
       "    .dataframe thead th {\n",
       "        text-align: right;\n",
       "    }\n",
       "</style>\n",
       "<table border=\"1\" class=\"dataframe\">\n",
       "  <thead>\n",
       "    <tr style=\"text-align: right;\">\n",
       "      <th></th>\n",
       "      <th>CodigoReceita</th>\n",
       "      <th>Volume</th>\n",
       "      <th>TipoLancamento</th>\n",
       "      <th>DataEmissaoNotaFiscal</th>\n",
       "      <th>CodigoCliente</th>\n",
       "      <th>CodigoMotorista</th>\n",
       "      <th>TempoPermanenciaObra</th>\n",
       "      <th>ConsumoTotal</th>\n",
       "      <th>Idade</th>\n",
       "      <th>TipoTraco</th>\n",
       "      <th>...</th>\n",
       "      <th>FCK</th>\n",
       "      <th>Rompimento7Dias</th>\n",
       "      <th>Rompimento28Dias</th>\n",
       "      <th>ConsumoPorM3</th>\n",
       "      <th>DesvioAplicado</th>\n",
       "      <th>ResultadoProjetado</th>\n",
       "      <th>PercentualCrescimentoReal</th>\n",
       "      <th>PercentualCrescimentoProjetado</th>\n",
       "      <th>RelacaoAguaCimento</th>\n",
       "      <th>DataProjecao</th>\n",
       "    </tr>\n",
       "  </thead>\n",
       "  <tbody>\n",
       "    <tr>\n",
       "      <th>2447</th>\n",
       "      <td>5006051</td>\n",
       "      <td>5.0</td>\n",
       "      <td>C</td>\n",
       "      <td>2015-01-08 10:18:19.693</td>\n",
       "      <td>94820051</td>\n",
       "      <td>702051</td>\n",
       "      <td>01:05:00</td>\n",
       "      <td>1.075.000</td>\n",
       "      <td>28</td>\n",
       "      <td>N</td>\n",
       "      <td>...</td>\n",
       "      <td>20.0</td>\n",
       "      <td>17.15</td>\n",
       "      <td>25.46</td>\n",
       "      <td>215.0</td>\n",
       "      <td>2.5</td>\n",
       "      <td>27.845988</td>\n",
       "      <td>48.454810</td>\n",
       "      <td>62.367279</td>\n",
       "      <td>0.716279</td>\n",
       "      <td>2015-01-09</td>\n",
       "    </tr>\n",
       "    <tr>\n",
       "      <th>2308</th>\n",
       "      <td>20823051</td>\n",
       "      <td>7.0</td>\n",
       "      <td>C</td>\n",
       "      <td>2015-01-09 14:50:27.520</td>\n",
       "      <td>13639051</td>\n",
       "      <td>11080</td>\n",
       "      <td>00:45:00</td>\n",
       "      <td>2.114.000</td>\n",
       "      <td>28</td>\n",
       "      <td>N</td>\n",
       "      <td>...</td>\n",
       "      <td>30.0</td>\n",
       "      <td>22.20</td>\n",
       "      <td>32.97</td>\n",
       "      <td>302.0</td>\n",
       "      <td>6.5</td>\n",
       "      <td>33.705596</td>\n",
       "      <td>48.513514</td>\n",
       "      <td>51.827010</td>\n",
       "      <td>0.523179</td>\n",
       "      <td>2015-01-09</td>\n",
       "    </tr>\n",
       "    <tr>\n",
       "      <th>2320</th>\n",
       "      <td>20848051</td>\n",
       "      <td>7.0</td>\n",
       "      <td>C</td>\n",
       "      <td>2015-01-07 13:20:25.370</td>\n",
       "      <td>13416051</td>\n",
       "      <td>342051</td>\n",
       "      <td>01:00:00</td>\n",
       "      <td>2.037.000</td>\n",
       "      <td>28</td>\n",
       "      <td>N</td>\n",
       "      <td>...</td>\n",
       "      <td>25.0</td>\n",
       "      <td>19.60</td>\n",
       "      <td>29.36</td>\n",
       "      <td>291.0</td>\n",
       "      <td>6.0</td>\n",
       "      <td>30.549117</td>\n",
       "      <td>49.795918</td>\n",
       "      <td>55.862842</td>\n",
       "      <td>0.577320</td>\n",
       "      <td>2015-01-09</td>\n",
       "    </tr>\n",
       "    <tr>\n",
       "      <th>2321</th>\n",
       "      <td>493051</td>\n",
       "      <td>7.0</td>\n",
       "      <td>B</td>\n",
       "      <td>2015-01-07 13:57:15.470</td>\n",
       "      <td>11625051</td>\n",
       "      <td>37079</td>\n",
       "      <td>01:41:00</td>\n",
       "      <td>1.477.000</td>\n",
       "      <td>28</td>\n",
       "      <td>N</td>\n",
       "      <td>...</td>\n",
       "      <td>15.0</td>\n",
       "      <td>11.89</td>\n",
       "      <td>18.01</td>\n",
       "      <td>211.0</td>\n",
       "      <td>4.0</td>\n",
       "      <td>20.388990</td>\n",
       "      <td>51.471825</td>\n",
       "      <td>71.480151</td>\n",
       "      <td>0.753555</td>\n",
       "      <td>2015-01-09</td>\n",
       "    </tr>\n",
       "    <tr>\n",
       "      <th>2338</th>\n",
       "      <td>21067051</td>\n",
       "      <td>5.0</td>\n",
       "      <td>B</td>\n",
       "      <td>2015-01-07 15:19:35.657</td>\n",
       "      <td>91006051</td>\n",
       "      <td>13148</td>\n",
       "      <td>02:23:00</td>\n",
       "      <td>1.600.000</td>\n",
       "      <td>28</td>\n",
       "      <td>E</td>\n",
       "      <td>...</td>\n",
       "      <td>25.0</td>\n",
       "      <td>20.29</td>\n",
       "      <td>32.65</td>\n",
       "      <td>320.0</td>\n",
       "      <td>NaN</td>\n",
       "      <td>31.397121</td>\n",
       "      <td>60.916708</td>\n",
       "      <td>54.741848</td>\n",
       "      <td>0.503125</td>\n",
       "      <td>2015-01-09</td>\n",
       "    </tr>\n",
       "  </tbody>\n",
       "</table>\n",
       "<p>5 rows × 21 columns</p>\n",
       "</div>"
      ],
      "text/plain": [
       "      CodigoReceita  Volume TipoLancamento    DataEmissaoNotaFiscal  \\\n",
       "2447        5006051     5.0              C  2015-01-08 10:18:19.693   \n",
       "2308       20823051     7.0              C  2015-01-09 14:50:27.520   \n",
       "2320       20848051     7.0              C  2015-01-07 13:20:25.370   \n",
       "2321         493051     7.0              B  2015-01-07 13:57:15.470   \n",
       "2338       21067051     5.0              B  2015-01-07 15:19:35.657   \n",
       "\n",
       "      CodigoCliente  CodigoMotorista TempoPermanenciaObra ConsumoTotal  Idade  \\\n",
       "2447       94820051           702051             01:05:00    1.075.000     28   \n",
       "2308       13639051            11080             00:45:00    2.114.000     28   \n",
       "2320       13416051           342051             01:00:00    2.037.000     28   \n",
       "2321       11625051            37079             01:41:00    1.477.000     28   \n",
       "2338       91006051            13148             02:23:00    1.600.000     28   \n",
       "\n",
       "     TipoTraco  ...   FCK  Rompimento7Dias  Rompimento28Dias  ConsumoPorM3  \\\n",
       "2447         N  ...  20.0            17.15             25.46         215.0   \n",
       "2308         N  ...  30.0            22.20             32.97         302.0   \n",
       "2320         N  ...  25.0            19.60             29.36         291.0   \n",
       "2321         N  ...  15.0            11.89             18.01         211.0   \n",
       "2338         E  ...  25.0            20.29             32.65         320.0   \n",
       "\n",
       "      DesvioAplicado  ResultadoProjetado  PercentualCrescimentoReal  \\\n",
       "2447             2.5           27.845988                  48.454810   \n",
       "2308             6.5           33.705596                  48.513514   \n",
       "2320             6.0           30.549117                  49.795918   \n",
       "2321             4.0           20.388990                  51.471825   \n",
       "2338             NaN           31.397121                  60.916708   \n",
       "\n",
       "      PercentualCrescimentoProjetado  RelacaoAguaCimento  DataProjecao  \n",
       "2447                       62.367279            0.716279    2015-01-09  \n",
       "2308                       51.827010            0.523179    2015-01-09  \n",
       "2320                       55.862842            0.577320    2015-01-09  \n",
       "2321                       71.480151            0.753555    2015-01-09  \n",
       "2338                       54.741848            0.503125    2015-01-09  \n",
       "\n",
       "[5 rows x 21 columns]"
      ]
     },
     "execution_count": 437,
     "metadata": {},
     "output_type": "execute_result"
    }
   ],
   "source": [
    "dados = dados.sort_values(\"DataProjecao\")\n",
    "dados.head()"
   ]
  },
  {
   "cell_type": "code",
   "execution_count": 635,
   "metadata": {},
   "outputs": [],
   "source": [
    "def ObtemDadosParaAnalise(data_projecao, dados):\n",
    "    data_inicio_busca_dados = data_projecao - dt.timedelta(weeks=12)\n",
    "    data_fim_busca_dados = data_projecao - dt.timedelta(weeks=4)\n",
    "\n",
    "    mask_data_inicio_busca_dados = da[\"DataProjecao\"] >= data_inicio_busca_dados\n",
    "    mask_data_fim_busca_dados = da[\"DataProjecao\"] <= data_fim_busca_dados\n",
    "    \n",
    "    indices = da[mask_data_inicio_busca_dados & mask_data_fim_busca_dados].index\n",
    "    #indices = da[mask_data_fim_busca_dados].index\n",
    "    \n",
    "    retorno = dados.loc[indices]\n",
    "    \n",
    "    retorno = RemoveOutliers(retorno, \"Rompimento7Dias\")\n",
    "    retorno = RemoveOutliers(retorno, \"Rompimento28Dias\")\n",
    "    #retorno = RemoveOutliers(retorno, \"RelacaoAguaCimento\")\n",
    "    \n",
    "    return retorno\n",
    "\n",
    "def ObtemDadosPesoMaior(data_projecao, dados):\n",
    "    data_inicio_busca_dados = data_projecao - dt.timedelta(weeks=6)\n",
    "    data_fim_busca_dados = data_projecao - dt.timedelta(weeks=4)\n",
    "\n",
    "    mask_data_inicio_busca_dados = da[\"DataProjecao\"] >= data_inicio_busca_dados\n",
    "    mask_data_fim_busca_dados = da[\"DataProjecao\"] <= data_fim_busca_dados\n",
    "    \n",
    "    indices = da[mask_data_inicio_busca_dados & mask_data_fim_busca_dados].index\n",
    "    \n",
    "    return dados.loc[indices]\n",
    "\n",
    "def ObtemDadosTeste(data_projecao, dados):\n",
    "    mask_data_projecao = da[\"DataProjecao\"] == data_projecao\n",
    "    \n",
    "    indices = da[mask_data_projecao].index\n",
    "    \n",
    "    retorno = dados.loc[indices]\n",
    "    \n",
    "    #retorno = RemoveOutliers(retorno, \"Rompimento7Dias\")\n",
    "    #retorno = RemoveOutliers(retorno, \"Rompimento28Dias\")\n",
    "    #retorno = RemoveOutliers(retorno, \"RelacaoAguaCimento\")\n",
    "    \n",
    "    return retorno\n",
    "\n",
    "def CalculaMediaMpaAcimaAnalise(data_projecao, dados):\n",
    "    dados_cheios = ObtemDadosParaAnalise(data_projecao, dados)\n",
    "    \n",
    "    mpaAcimaMedio = CalcularMediaMpaAcima(dados_cheios, \"Rompimento28Dias\")\n",
    "    return mpaAcimaMedio\n",
    "\n",
    "def CalculaMediaMpaAcimaTeste(data_projecao, dados, y_pred):\n",
    "    dados_cheios = ObtemDadosTeste(data_projecao, dados)\n",
    "    \n",
    "    mpaAcimaMedio = CalcularMediaMpaAcimaPredito(dados_cheios, y_pred)\n",
    "    return mpaAcimaMedio\n",
    "    \n",
    "def CalculaMediaMpaAcimaProjetado(data_projecao, dados):\n",
    "    dados_cheios = ObtemDadosTeste(data_projecao, dados)\n",
    "    \n",
    "    mpaAcimaMedio = CalcularMediaMpaAcima(dados_cheios, \"ResultadoProjetado\")\n",
    "    return mpaAcimaMedio\n",
    "    \n",
    "def CalcularMediaMpaAcima(dados, colunaRompimento28):\n",
    "    mpaAcimaxVolume = 0\n",
    "    volumeTotal = 0\n",
    "\n",
    "    for i in range(0, len(dados)):\n",
    "        volume = dados.iloc[i][\"Volume\"]        \n",
    "        rompimento28Dias = dados.iloc[i][colunaRompimento28]\n",
    "        fck = dados.iloc[i][\"FCK\"]\n",
    "        mpaAcima = rompimento28Dias - fck\n",
    "        \n",
    "        mpaAcimaxVolume = mpaAcimaxVolume + (mpaAcima * volume)\n",
    "        volumeTotal = volumeTotal + dados.iloc[i][\"Volume\"]\n",
    "        \n",
    "    return mpaAcimaxVolume/volumeTotal\n",
    "\n",
    "\n",
    "def CalcularMediaMpaAcimaPredito(dados, y_pred):\n",
    "    mpaAcimaxVolume = 0\n",
    "    volumeTotal = 0\n",
    "\n",
    "    for i in range(0, len(dados)):\n",
    "        volume = dados.iloc[i][\"Volume\"]        \n",
    "        rompimento28Dias = y_pred[i]\n",
    "        fck = dados.iloc[i][\"FCK\"]\n",
    "        mpaAcima = rompimento28Dias - fck\n",
    "        \n",
    "        mpaAcimaxVolume = mpaAcimaxVolume + (mpaAcima * volume)\n",
    "        volumeTotal = volumeTotal + dados.iloc[i][\"Volume\"]\n",
    "        \n",
    "    return mpaAcimaxVolume/volumeTotal\n",
    "\n",
    "def RemoveOutliers(dados, coluna):\n",
    "    q1 = dados[coluna].quantile(0.25)\n",
    "    q3 = dados[coluna].quantile(0.75)\n",
    "    iqr = q3 - q1\n",
    "\n",
    "    print(len(dados))\n",
    "    \n",
    "    maskOutlier = (dados[coluna] < (q1 - 1.5 * iqr)) | (dados[coluna] > (q3 + 1.5 * iqr))\n",
    "    retorno = dados[maskOutlier == False]\n",
    "    \n",
    "    print(\"Sem outlier:\",len(retorno))\n",
    "    return retorno"
   ]
  },
  {
   "cell_type": "code",
   "execution_count": 597,
   "metadata": {},
   "outputs": [
    {
     "data": {
      "text/html": [
       "<div>\n",
       "<style scoped>\n",
       "    .dataframe tbody tr th:only-of-type {\n",
       "        vertical-align: middle;\n",
       "    }\n",
       "\n",
       "    .dataframe tbody tr th {\n",
       "        vertical-align: top;\n",
       "    }\n",
       "\n",
       "    .dataframe thead th {\n",
       "        text-align: right;\n",
       "    }\n",
       "</style>\n",
       "<table border=\"1\" class=\"dataframe\">\n",
       "  <thead>\n",
       "    <tr style=\"text-align: right;\">\n",
       "      <th></th>\n",
       "      <th>CodigoReceita</th>\n",
       "      <th>Volume</th>\n",
       "      <th>TipoLancamento</th>\n",
       "      <th>DataEmissaoNotaFiscal</th>\n",
       "      <th>CodigoCliente</th>\n",
       "      <th>CodigoMotorista</th>\n",
       "      <th>TempoPermanenciaObra</th>\n",
       "      <th>ConsumoTotal</th>\n",
       "      <th>Idade</th>\n",
       "      <th>TipoTraco</th>\n",
       "      <th>CodigoAglomerante</th>\n",
       "      <th>FCK</th>\n",
       "      <th>Rompimento7Dias</th>\n",
       "      <th>Rompimento28Dias</th>\n",
       "      <th>ConsumoPorM3</th>\n",
       "      <th>DesvioAplicado</th>\n",
       "      <th>ResultadoProjetado</th>\n",
       "      <th>PercentualCrescimentoReal</th>\n",
       "      <th>PercentualCrescimentoProjetado</th>\n",
       "      <th>RelacaoAguaCimento</th>\n",
       "      <th>DataProjecao</th>\n",
       "    </tr>\n",
       "  </thead>\n",
       "  <tbody>\n",
       "    <tr>\n",
       "      <th>2447</th>\n",
       "      <td>5006051</td>\n",
       "      <td>5.0</td>\n",
       "      <td>0</td>\n",
       "      <td>2015-01-08 10:18:19.693</td>\n",
       "      <td>94820051</td>\n",
       "      <td>702051</td>\n",
       "      <td>01:05:00</td>\n",
       "      <td>1.075.000</td>\n",
       "      <td>28</td>\n",
       "      <td>0</td>\n",
       "      <td>25051.0</td>\n",
       "      <td>20.0</td>\n",
       "      <td>17.15</td>\n",
       "      <td>25.46</td>\n",
       "      <td>215.0</td>\n",
       "      <td>2.5</td>\n",
       "      <td>27.845988</td>\n",
       "      <td>48.454810</td>\n",
       "      <td>62.367279</td>\n",
       "      <td>0.716279</td>\n",
       "      <td>2015-01-09</td>\n",
       "    </tr>\n",
       "    <tr>\n",
       "      <th>2308</th>\n",
       "      <td>20823051</td>\n",
       "      <td>7.0</td>\n",
       "      <td>0</td>\n",
       "      <td>2015-01-09 14:50:27.520</td>\n",
       "      <td>13639051</td>\n",
       "      <td>11080</td>\n",
       "      <td>00:45:00</td>\n",
       "      <td>2.114.000</td>\n",
       "      <td>28</td>\n",
       "      <td>0</td>\n",
       "      <td>57051.0</td>\n",
       "      <td>30.0</td>\n",
       "      <td>22.20</td>\n",
       "      <td>32.97</td>\n",
       "      <td>302.0</td>\n",
       "      <td>6.5</td>\n",
       "      <td>33.705596</td>\n",
       "      <td>48.513514</td>\n",
       "      <td>51.827010</td>\n",
       "      <td>0.523179</td>\n",
       "      <td>2015-01-09</td>\n",
       "    </tr>\n",
       "    <tr>\n",
       "      <th>2320</th>\n",
       "      <td>20848051</td>\n",
       "      <td>7.0</td>\n",
       "      <td>0</td>\n",
       "      <td>2015-01-07 13:20:25.370</td>\n",
       "      <td>13416051</td>\n",
       "      <td>342051</td>\n",
       "      <td>01:00:00</td>\n",
       "      <td>2.037.000</td>\n",
       "      <td>28</td>\n",
       "      <td>0</td>\n",
       "      <td>57051.0</td>\n",
       "      <td>25.0</td>\n",
       "      <td>19.60</td>\n",
       "      <td>29.36</td>\n",
       "      <td>291.0</td>\n",
       "      <td>6.0</td>\n",
       "      <td>30.549117</td>\n",
       "      <td>49.795918</td>\n",
       "      <td>55.862842</td>\n",
       "      <td>0.577320</td>\n",
       "      <td>2015-01-09</td>\n",
       "    </tr>\n",
       "    <tr>\n",
       "      <th>2321</th>\n",
       "      <td>493051</td>\n",
       "      <td>7.0</td>\n",
       "      <td>1</td>\n",
       "      <td>2015-01-07 13:57:15.470</td>\n",
       "      <td>11625051</td>\n",
       "      <td>37079</td>\n",
       "      <td>01:41:00</td>\n",
       "      <td>1.477.000</td>\n",
       "      <td>28</td>\n",
       "      <td>0</td>\n",
       "      <td>3051.0</td>\n",
       "      <td>15.0</td>\n",
       "      <td>11.89</td>\n",
       "      <td>18.01</td>\n",
       "      <td>211.0</td>\n",
       "      <td>4.0</td>\n",
       "      <td>20.388990</td>\n",
       "      <td>51.471825</td>\n",
       "      <td>71.480151</td>\n",
       "      <td>0.753555</td>\n",
       "      <td>2015-01-09</td>\n",
       "    </tr>\n",
       "    <tr>\n",
       "      <th>2352</th>\n",
       "      <td>13258051</td>\n",
       "      <td>8.0</td>\n",
       "      <td>1</td>\n",
       "      <td>2015-01-08 07:11:10.983</td>\n",
       "      <td>6680051</td>\n",
       "      <td>727051</td>\n",
       "      <td>00:45:00</td>\n",
       "      <td>2.640.000</td>\n",
       "      <td>28</td>\n",
       "      <td>0</td>\n",
       "      <td>14051.0</td>\n",
       "      <td>25.0</td>\n",
       "      <td>27.00</td>\n",
       "      <td>36.01</td>\n",
       "      <td>330.0</td>\n",
       "      <td>4.0</td>\n",
       "      <td>36.620758</td>\n",
       "      <td>33.370370</td>\n",
       "      <td>35.632439</td>\n",
       "      <td>0.603030</td>\n",
       "      <td>2015-01-09</td>\n",
       "    </tr>\n",
       "  </tbody>\n",
       "</table>\n",
       "</div>"
      ],
      "text/plain": [
       "      CodigoReceita  Volume  TipoLancamento    DataEmissaoNotaFiscal  \\\n",
       "2447        5006051     5.0               0  2015-01-08 10:18:19.693   \n",
       "2308       20823051     7.0               0  2015-01-09 14:50:27.520   \n",
       "2320       20848051     7.0               0  2015-01-07 13:20:25.370   \n",
       "2321         493051     7.0               1  2015-01-07 13:57:15.470   \n",
       "2352       13258051     8.0               1  2015-01-08 07:11:10.983   \n",
       "\n",
       "      CodigoCliente  CodigoMotorista TempoPermanenciaObra ConsumoTotal  Idade  \\\n",
       "2447       94820051           702051             01:05:00    1.075.000     28   \n",
       "2308       13639051            11080             00:45:00    2.114.000     28   \n",
       "2320       13416051           342051             01:00:00    2.037.000     28   \n",
       "2321       11625051            37079             01:41:00    1.477.000     28   \n",
       "2352        6680051           727051             00:45:00    2.640.000     28   \n",
       "\n",
       "      TipoTraco  CodigoAglomerante   FCK  Rompimento7Dias  Rompimento28Dias  \\\n",
       "2447          0            25051.0  20.0            17.15             25.46   \n",
       "2308          0            57051.0  30.0            22.20             32.97   \n",
       "2320          0            57051.0  25.0            19.60             29.36   \n",
       "2321          0             3051.0  15.0            11.89             18.01   \n",
       "2352          0            14051.0  25.0            27.00             36.01   \n",
       "\n",
       "      ConsumoPorM3  DesvioAplicado  ResultadoProjetado  \\\n",
       "2447         215.0             2.5           27.845988   \n",
       "2308         302.0             6.5           33.705596   \n",
       "2320         291.0             6.0           30.549117   \n",
       "2321         211.0             4.0           20.388990   \n",
       "2352         330.0             4.0           36.620758   \n",
       "\n",
       "      PercentualCrescimentoReal  PercentualCrescimentoProjetado  \\\n",
       "2447                  48.454810                       62.367279   \n",
       "2308                  48.513514                       51.827010   \n",
       "2320                  49.795918                       55.862842   \n",
       "2321                  51.471825                       71.480151   \n",
       "2352                  33.370370                       35.632439   \n",
       "\n",
       "      RelacaoAguaCimento DataProjecao  \n",
       "2447            0.716279   2015-01-09  \n",
       "2308            0.523179   2015-01-09  \n",
       "2320            0.577320   2015-01-09  \n",
       "2321            0.753555   2015-01-09  \n",
       "2352            0.603030   2015-01-09  "
      ]
     },
     "execution_count": 597,
     "metadata": {},
     "output_type": "execute_result"
    }
   ],
   "source": [
    "dados = dados[dados[\"DesvioAplicado\"].notna()]\n",
    "dados = dados[dados[\"Volume\"] > 0]\n",
    "dados.head()"
   ]
  },
  {
   "cell_type": "code",
   "execution_count": 598,
   "metadata": {},
   "outputs": [],
   "source": [
    "#da2 = da[[\"CodigoReceita\", \"TipoLancamento\", \"TipoTraco\", \"FCK\", \"RelacaoAguaCimento\", \"ConsumoPorM3\", \"DesvioAplicado\", \"Rompimento7Dias\", \"PercentualCrescimentoProjetado\", \"PercentualCrescimentoReal\"]]\n",
    "#da2 = dados[[\"TipoLancamento\", \"TipoTraco\", \"FCK\", \"RelacaoAguaCimento\", \"Rompimento7Dias\", \"ResultadoProjetado\", \"Rompimento28Dias\"]]\n",
    "\n",
    "dados[\"TipoLancamento\"].replace('C', 0, inplace = True)\n",
    "dados[\"TipoLancamento\"].replace('B', 1, inplace = True)\n",
    "\n",
    "dados[\"TipoTraco\"].replace('N', 0, inplace = True)\n",
    "dados[\"TipoTraco\"].replace('E', 1, inplace = True)\n",
    "\n",
    "#da2.columns = ['CodigoReceita', 'EhLancamentoBombeavel', 'EhTracoEspecial', 'FCK', 'RelacaoAguaCimento',\n",
    "#       \"ConsumoPorM3\", \"DesvioAplicado\", 'Rompimento7Dias', 'PercentualCrescimentoProjetado', 'PercentualCrescimentoReal']\n",
    "#da2.columns = ['EhLancamentoBombeavel', 'EhTracoEspecial', 'FCK',\n",
    "#       \"RelacaoAguaCimento\", 'Rompimento7Dias', 'ResultadoProjetado', 'Rompimento28Dias']\n"
   ]
  },
  {
   "cell_type": "code",
   "execution_count": 626,
   "metadata": {},
   "outputs": [],
   "source": [
    "class TypeSelector(BaseEstimator, TransformerMixin):\n",
    "    def __init__(self, dtype):\n",
    "        self.dtype = dtype\n",
    "    def fit(self, X, y=None):\n",
    "        return self\n",
    "    def transform(self, X):        \n",
    "        assert isinstance(X, pd.DataFrame)\n",
    "        return X.select_dtypes(include=[self.dtype])\n",
    "    \n",
    "class Debug(BaseEstimator, TransformerMixin):\n",
    "    def __init__(self, dtype):\n",
    "        self.dtype = dtype\n",
    "    def fit(self, X, y=None):\n",
    "        return self\n",
    "    def transform(self, X):        \n",
    "        print(X)\n",
    "\n",
    "modelo = Pipeline([\n",
    "  ('features', FeatureUnion(\n",
    "      transformer_list=[\n",
    "          ('numericals', Pipeline([\n",
    "              ('selector', TypeSelector(np.number)),\n",
    "              ('scaler', MinMaxScaler())\n",
    "          ]))\n",
    "      ]\n",
    "  )),\n",
    "  ('model', GradientBoostingRegressor(learning_rate = 0.5, random_state = 1))\n",
    "    #('model', DecisionTreeRegressor())\n",
    "    ('model', xgb.XGBRegressor())\n",
    "])"
   ]
  },
  {
   "cell_type": "code",
   "execution_count": 627,
   "metadata": {},
   "outputs": [
    {
     "name": "stdout",
     "output_type": "stream",
     "text": [
      "dict_keys([3051.0, 4051.0, 7051.0, 10051.0, 11051.0, 12051.0, 13051.0, 14051.0, 15051.0, 17051.0, 18051.0, 24051.0, 25051.0, 28051.0, 29051.0, 41051.0, 42051.0, 44051.0, 45051.0, 46051.0, 55051.0, 56051.0, 57051.0, 58051.0, 59051.0, 60051.0, 61051.0, 62051.0, 63051.0, 64051.0, 65051.0, 66051.0, 67051.0, 68051.0, 69051.0, 70051.0, 71051.0, 72051.0, 74051.0, 75051.0, 77051.0, 78051.0, 79051.0, 81051.0, 82051.0, 83051.0, 84051.0, 85051.0, 88051.0, 91051.0, 92051.0, 93051.0, 94051.0, 95051.0, 96051.0, 106051.0, 107051.0, 108051.0, 109051.0, 111051.0, 112051.0, 113051.0, 114051.0, 115051.0, 116051.0, 117051.0, 118051.0, 119051.0, 120051.0, 122051.0])\n",
      "3051.0\n"
     ]
    },
    {
     "ename": "KeyboardInterrupt",
     "evalue": "",
     "output_type": "error",
     "traceback": [
      "\u001b[0;31m---------------------------------------------------------------------------\u001b[0m",
      "\u001b[0;31mKeyboardInterrupt\u001b[0m                         Traceback (most recent call last)",
      "\u001b[0;32m<ipython-input-627-33c056809750>\u001b[0m in \u001b[0;36m<module>\u001b[0;34m\u001b[0m\n\u001b[1;32m     67\u001b[0m             \u001b[0mmpaAcimaProj\u001b[0m \u001b[0;34m=\u001b[0m \u001b[0mCalculaMediaMpaAcimaProjetado\u001b[0m\u001b[0;34m(\u001b[0m\u001b[0mdata_projecao_atual\u001b[0m\u001b[0;34m,\u001b[0m \u001b[0mda\u001b[0m\u001b[0;34m)\u001b[0m\u001b[0;34m\u001b[0m\u001b[0;34m\u001b[0m\u001b[0m\n\u001b[1;32m     68\u001b[0m             \u001b[0mmpaAcimaPred\u001b[0m \u001b[0;34m=\u001b[0m \u001b[0mCalculaMediaMpaAcimaTeste\u001b[0m\u001b[0;34m(\u001b[0m\u001b[0mdata_projecao_atual\u001b[0m\u001b[0;34m,\u001b[0m \u001b[0mda\u001b[0m\u001b[0;34m,\u001b[0m \u001b[0my_pred\u001b[0m\u001b[0;34m)\u001b[0m\u001b[0;34m\u001b[0m\u001b[0;34m\u001b[0m\u001b[0m\n\u001b[0;32m---> 69\u001b[0;31m             \u001b[0mmpaAcimaReal\u001b[0m \u001b[0;34m=\u001b[0m \u001b[0mCalculaMediaMpaAcimaAnalise\u001b[0m\u001b[0;34m(\u001b[0m\u001b[0mdata_projecao_atual\u001b[0m\u001b[0;34m,\u001b[0m \u001b[0mda\u001b[0m\u001b[0;34m)\u001b[0m\u001b[0;34m\u001b[0m\u001b[0;34m\u001b[0m\u001b[0m\n\u001b[0m\u001b[1;32m     70\u001b[0m \u001b[0;34m\u001b[0m\u001b[0m\n\u001b[1;32m     71\u001b[0m             \u001b[0mlistaMpaAcimaReal\u001b[0m\u001b[0;34m.\u001b[0m\u001b[0mappend\u001b[0m\u001b[0;34m(\u001b[0m\u001b[0mmpaAcimaReal\u001b[0m\u001b[0;34m)\u001b[0m\u001b[0;34m\u001b[0m\u001b[0;34m\u001b[0m\u001b[0m\n",
      "\u001b[0;32m<ipython-input-619-f774717b8a80>\u001b[0m in \u001b[0;36mCalculaMediaMpaAcimaAnalise\u001b[0;34m(data_projecao, dados)\u001b[0m\n\u001b[1;32m     44\u001b[0m     \u001b[0mdados_cheios\u001b[0m \u001b[0;34m=\u001b[0m \u001b[0mObtemDadosParaAnalise\u001b[0m\u001b[0;34m(\u001b[0m\u001b[0mdata_projecao\u001b[0m\u001b[0;34m,\u001b[0m \u001b[0mdados\u001b[0m\u001b[0;34m)\u001b[0m\u001b[0;34m\u001b[0m\u001b[0;34m\u001b[0m\u001b[0m\n\u001b[1;32m     45\u001b[0m \u001b[0;34m\u001b[0m\u001b[0m\n\u001b[0;32m---> 46\u001b[0;31m     \u001b[0mmpaAcimaMedio\u001b[0m \u001b[0;34m=\u001b[0m \u001b[0mCalcularMediaMpaAcima\u001b[0m\u001b[0;34m(\u001b[0m\u001b[0mdados_cheios\u001b[0m\u001b[0;34m,\u001b[0m \u001b[0;34m\"Rompimento28Dias\"\u001b[0m\u001b[0;34m)\u001b[0m\u001b[0;34m\u001b[0m\u001b[0;34m\u001b[0m\u001b[0m\n\u001b[0m\u001b[1;32m     47\u001b[0m     \u001b[0;32mreturn\u001b[0m \u001b[0mmpaAcimaMedio\u001b[0m\u001b[0;34m\u001b[0m\u001b[0;34m\u001b[0m\u001b[0m\n\u001b[1;32m     48\u001b[0m \u001b[0;34m\u001b[0m\u001b[0m\n",
      "\u001b[0;32m<ipython-input-619-f774717b8a80>\u001b[0m in \u001b[0;36mCalcularMediaMpaAcima\u001b[0;34m(dados, colunaRompimento28)\u001b[0m\n\u001b[1;32m     65\u001b[0m     \u001b[0;32mfor\u001b[0m \u001b[0mi\u001b[0m \u001b[0;32min\u001b[0m \u001b[0mrange\u001b[0m\u001b[0;34m(\u001b[0m\u001b[0;36m0\u001b[0m\u001b[0;34m,\u001b[0m \u001b[0mlen\u001b[0m\u001b[0;34m(\u001b[0m\u001b[0mdados\u001b[0m\u001b[0;34m)\u001b[0m\u001b[0;34m)\u001b[0m\u001b[0;34m:\u001b[0m\u001b[0;34m\u001b[0m\u001b[0;34m\u001b[0m\u001b[0m\n\u001b[1;32m     66\u001b[0m         \u001b[0mvolume\u001b[0m \u001b[0;34m=\u001b[0m \u001b[0mdados\u001b[0m\u001b[0;34m.\u001b[0m\u001b[0miloc\u001b[0m\u001b[0;34m[\u001b[0m\u001b[0mi\u001b[0m\u001b[0;34m]\u001b[0m\u001b[0;34m[\u001b[0m\u001b[0;34m\"Volume\"\u001b[0m\u001b[0;34m]\u001b[0m\u001b[0;34m\u001b[0m\u001b[0;34m\u001b[0m\u001b[0m\n\u001b[0;32m---> 67\u001b[0;31m         \u001b[0mrompimento28Dias\u001b[0m \u001b[0;34m=\u001b[0m \u001b[0mdados\u001b[0m\u001b[0;34m.\u001b[0m\u001b[0miloc\u001b[0m\u001b[0;34m[\u001b[0m\u001b[0mi\u001b[0m\u001b[0;34m]\u001b[0m\u001b[0;34m[\u001b[0m\u001b[0mcolunaRompimento28\u001b[0m\u001b[0;34m]\u001b[0m\u001b[0;34m\u001b[0m\u001b[0;34m\u001b[0m\u001b[0m\n\u001b[0m\u001b[1;32m     68\u001b[0m         \u001b[0mfck\u001b[0m \u001b[0;34m=\u001b[0m \u001b[0mdados\u001b[0m\u001b[0;34m.\u001b[0m\u001b[0miloc\u001b[0m\u001b[0;34m[\u001b[0m\u001b[0mi\u001b[0m\u001b[0;34m]\u001b[0m\u001b[0;34m[\u001b[0m\u001b[0;34m\"FCK\"\u001b[0m\u001b[0;34m]\u001b[0m\u001b[0;34m\u001b[0m\u001b[0;34m\u001b[0m\u001b[0m\n\u001b[1;32m     69\u001b[0m         \u001b[0mmpaAcima\u001b[0m \u001b[0;34m=\u001b[0m \u001b[0mrompimento28Dias\u001b[0m \u001b[0;34m-\u001b[0m \u001b[0mfck\u001b[0m\u001b[0;34m\u001b[0m\u001b[0;34m\u001b[0m\u001b[0m\n",
      "\u001b[0;32m~/anaconda3/lib/python3.8/site-packages/pandas/core/series.py\u001b[0m in \u001b[0;36m__getitem__\u001b[0;34m(self, key)\u001b[0m\n\u001b[1;32m    867\u001b[0m \u001b[0;34m\u001b[0m\u001b[0m\n\u001b[1;32m    868\u001b[0m     \u001b[0;32mdef\u001b[0m \u001b[0m__getitem__\u001b[0m\u001b[0;34m(\u001b[0m\u001b[0mself\u001b[0m\u001b[0;34m,\u001b[0m \u001b[0mkey\u001b[0m\u001b[0;34m)\u001b[0m\u001b[0;34m:\u001b[0m\u001b[0;34m\u001b[0m\u001b[0;34m\u001b[0m\u001b[0m\n\u001b[0;32m--> 869\u001b[0;31m         \u001b[0mkey\u001b[0m \u001b[0;34m=\u001b[0m \u001b[0mcom\u001b[0m\u001b[0;34m.\u001b[0m\u001b[0mapply_if_callable\u001b[0m\u001b[0;34m(\u001b[0m\u001b[0mkey\u001b[0m\u001b[0;34m,\u001b[0m \u001b[0mself\u001b[0m\u001b[0;34m)\u001b[0m\u001b[0;34m\u001b[0m\u001b[0;34m\u001b[0m\u001b[0m\n\u001b[0m\u001b[1;32m    870\u001b[0m \u001b[0;34m\u001b[0m\u001b[0m\n\u001b[1;32m    871\u001b[0m         \u001b[0;32mif\u001b[0m \u001b[0mkey\u001b[0m \u001b[0;32mis\u001b[0m \u001b[0mEllipsis\u001b[0m\u001b[0;34m:\u001b[0m\u001b[0;34m\u001b[0m\u001b[0;34m\u001b[0m\u001b[0m\n",
      "\u001b[0;31mKeyboardInterrupt\u001b[0m: "
     ]
    }
   ],
   "source": [
    "aglomerantes = []\n",
    "perc_geral = []\n",
    "total_projecoes = []\n",
    "\n",
    "dados_por_aglomerante = dados.groupby(\"CodigoAglomerante\")\n",
    "codigosAglomerante = dados_por_aglomerante.groups.keys()\n",
    "\n",
    "print(codigosAglomerante)\n",
    "\n",
    "for codigoAglomerante in codigosAglomerante:\n",
    "    \n",
    "    aglomerantes.append(codigoAglomerante)\n",
    "    \n",
    "    print(codigoAglomerante)\n",
    "    \n",
    "    da = dados_por_aglomerante.get_group(codigoAglomerante)\n",
    "    \n",
    "    da2 = da[[\"TipoLancamento\", \"TipoTraco\", \"FCK\", \"RelacaoAguaCimento\", \"Rompimento7Dias\", \"ResultadoProjetado\", \"Rompimento28Dias\"]]\n",
    "    da2.columns = ['EhLancamentoBombeavel', 'EhTracoEspecial', 'FCK', \"RelacaoAguaCimento\", 'Rompimento7Dias', 'ResultadoProjetado', 'Rompimento28Dias']\n",
    "    \n",
    "    data_projecao_inicio = da.head(1)[\"DataProjecao\"].values[0]\n",
    "    data_projecao_fim = da.tail(1)[\"DataProjecao\"].values[0]\n",
    "    data_projecao = data_projecao_inicio + dt.timedelta(weeks=24)\n",
    "    \n",
    "    data_projecao_atual = data_projecao\n",
    "\n",
    "    datas_projecao = []\n",
    "    listaMpaAcimaReal = []\n",
    "    listaMpaAcimaProj = []\n",
    "    listaMpaAcimaPred = []\n",
    "    mais_prox = []\n",
    "    quantidade_dados_analise = []\n",
    "    quantidade_dados_teste = []\n",
    "    \n",
    "    while (data_projecao_atual <= data_projecao_fim):\n",
    "        dados_analise = ObtemDadosParaAnalise(data_projecao_atual, da2)    \n",
    "        dados_teste = ObtemDadosTeste(data_projecao_atual, da2)\n",
    "\n",
    "        if (len(dados_analise) < 10):\n",
    "            data_projecao_atual = data_projecao_atual + dt.timedelta(weeks=1)\n",
    "            continue\n",
    "        elif (len(dados_teste) == 0):\n",
    "            data_projecao_atual = data_projecao_atual + dt.timedelta(weeks=1)\n",
    "            continue\n",
    "        else:\n",
    "            quantidade_dados_analise.append(len(dados_analise))\n",
    "            quantidade_dados_teste.append(len(dados_teste))\n",
    "\n",
    "            x_train = dados_analise.drop([\"ResultadoProjetado\", \"Rompimento28Dias\"], axis=1)\n",
    "            y_train = dados_analise[\"Rompimento28Dias\"]\n",
    "\n",
    "            x_test = dados_teste.drop([\"ResultadoProjetado\", \"Rompimento28Dias\"], axis=1)\n",
    "            y_test = dados_teste[\"Rompimento28Dias\"]\n",
    "\n",
    "            pesos = np.ones(len(dados_analise))\n",
    "\n",
    "            dados_peso_maior = ObtemDadosPesoMaior(data_projecao_atual, da2)\n",
    "            quantidade_peso_maior = len(dados_peso_maior)\n",
    "\n",
    "            pesos[-quantidade_peso_maior:]*= 1.1\n",
    "\n",
    "            modelo.fit(x_train, y_train, **{'model__sample_weight': pesos})\n",
    "            #modelo.fit(x_train, y_train)\n",
    "            y_pred = modelo.predict(x_test)        \n",
    "            y_proj = dados_teste[\"ResultadoProjetado\"]\n",
    "\n",
    "            mpaAcimaProj = CalculaMediaMpaAcimaProjetado(data_projecao_atual, da)\n",
    "            mpaAcimaPred = CalculaMediaMpaAcimaTeste(data_projecao_atual, da, y_pred)\n",
    "            mpaAcimaReal = CalculaMediaMpaAcimaAnalise(data_projecao_atual, da)\n",
    "\n",
    "            listaMpaAcimaReal.append(mpaAcimaReal)\n",
    "            listaMpaAcimaProj.append(mpaAcimaProj)\n",
    "            listaMpaAcimaPred.append(mpaAcimaPred)\n",
    "\n",
    "            diff_real_proj = abs(mpaAcimaProj - mpaAcimaReal)\n",
    "            diff_real_pred = abs(mpaAcimaPred - mpaAcimaReal)\n",
    "\n",
    "            datas_projecao.append(data_projecao_atual)\n",
    "\n",
    "            if (diff_real_proj <= diff_real_pred):\n",
    "                mais_prox.append('ModeloVelho')\n",
    "            else:\n",
    "                mais_prox.append('ModeloNovo')\n",
    "\n",
    "            data_projecao_atual = data_projecao_atual + dt.timedelta(weeks=1)\n",
    "            \n",
    "    dados_resultado = pd.DataFrame(columns = [\"MPaAcimaMedioMaisProx\"])\n",
    "    dados_resultado[\"MPaAcimaMedioMaisProx\"] = mais_prox\n",
    "    \n",
    "    modelo_novo_melhor = len(dados_resultado[dados_resultado[\"MPaAcimaMedioMaisProx\"] == \"ModeloNovo\"])\n",
    "    todos_dados = len(dados_resultado)\n",
    "    \n",
    "    total_projecoes.append(todos_dados)\n",
    "\n",
    "    if(todos_dados > 0):\n",
    "        perc = modelo_novo_melhor * 100/todos_dados\n",
    "    else:\n",
    "        perc = 0\n",
    "\n",
    "    perc_geral.append(perc)"
   ]
  },
  {
   "cell_type": "code",
   "execution_count": null,
   "metadata": {},
   "outputs": [],
   "source": [
    "len(perc_geral)"
   ]
  },
  {
   "cell_type": "code",
   "execution_count": 594,
   "metadata": {},
   "outputs": [],
   "source": [
    "dados_aglomerante = pd.DataFrame(columns = [\"Aglomerante\", \"PercentualAcerto\", \"QtdDados\"])\n",
    "\n",
    "dados_aglomerante[\"Aglomerante\"] = aglomerantes\n",
    "dados_aglomerante[\"PercentualAcerto\"] = perc_geral\n",
    "dados_aglomerante[\"QtdDados\"] = total_projecoes"
   ]
  },
  {
   "cell_type": "code",
   "execution_count": 595,
   "metadata": {},
   "outputs": [
    {
     "data": {
      "text/html": [
       "<div>\n",
       "<style scoped>\n",
       "    .dataframe tbody tr th:only-of-type {\n",
       "        vertical-align: middle;\n",
       "    }\n",
       "\n",
       "    .dataframe tbody tr th {\n",
       "        vertical-align: top;\n",
       "    }\n",
       "\n",
       "    .dataframe thead th {\n",
       "        text-align: right;\n",
       "    }\n",
       "</style>\n",
       "<table border=\"1\" class=\"dataframe\">\n",
       "  <thead>\n",
       "    <tr style=\"text-align: right;\">\n",
       "      <th></th>\n",
       "      <th>Aglomerante</th>\n",
       "      <th>PercentualAcerto</th>\n",
       "      <th>QtdDados</th>\n",
       "    </tr>\n",
       "  </thead>\n",
       "  <tbody>\n",
       "    <tr>\n",
       "      <th>41</th>\n",
       "      <td>78051.0</td>\n",
       "      <td>100.000000</td>\n",
       "      <td>6</td>\n",
       "    </tr>\n",
       "    <tr>\n",
       "      <th>56</th>\n",
       "      <td>107051.0</td>\n",
       "      <td>100.000000</td>\n",
       "      <td>4</td>\n",
       "    </tr>\n",
       "    <tr>\n",
       "      <th>30</th>\n",
       "      <td>65051.0</td>\n",
       "      <td>92.857143</td>\n",
       "      <td>14</td>\n",
       "    </tr>\n",
       "    <tr>\n",
       "      <th>53</th>\n",
       "      <td>95051.0</td>\n",
       "      <td>88.888889</td>\n",
       "      <td>9</td>\n",
       "    </tr>\n",
       "    <tr>\n",
       "      <th>68</th>\n",
       "      <td>120051.0</td>\n",
       "      <td>84.615385</td>\n",
       "      <td>13</td>\n",
       "    </tr>\n",
       "    <tr>\n",
       "      <th>0</th>\n",
       "      <td>3051.0</td>\n",
       "      <td>75.757576</td>\n",
       "      <td>33</td>\n",
       "    </tr>\n",
       "    <tr>\n",
       "      <th>59</th>\n",
       "      <td>111051.0</td>\n",
       "      <td>75.000000</td>\n",
       "      <td>12</td>\n",
       "    </tr>\n",
       "    <tr>\n",
       "      <th>58</th>\n",
       "      <td>109051.0</td>\n",
       "      <td>74.193548</td>\n",
       "      <td>31</td>\n",
       "    </tr>\n",
       "    <tr>\n",
       "      <th>7</th>\n",
       "      <td>14051.0</td>\n",
       "      <td>73.076923</td>\n",
       "      <td>52</td>\n",
       "    </tr>\n",
       "    <tr>\n",
       "      <th>65</th>\n",
       "      <td>117051.0</td>\n",
       "      <td>72.727273</td>\n",
       "      <td>11</td>\n",
       "    </tr>\n",
       "    <tr>\n",
       "      <th>60</th>\n",
       "      <td>112051.0</td>\n",
       "      <td>69.230769</td>\n",
       "      <td>13</td>\n",
       "    </tr>\n",
       "    <tr>\n",
       "      <th>66</th>\n",
       "      <td>118051.0</td>\n",
       "      <td>66.666667</td>\n",
       "      <td>12</td>\n",
       "    </tr>\n",
       "    <tr>\n",
       "      <th>16</th>\n",
       "      <td>42051.0</td>\n",
       "      <td>66.666667</td>\n",
       "      <td>9</td>\n",
       "    </tr>\n",
       "    <tr>\n",
       "      <th>9</th>\n",
       "      <td>17051.0</td>\n",
       "      <td>66.233766</td>\n",
       "      <td>77</td>\n",
       "    </tr>\n",
       "    <tr>\n",
       "      <th>2</th>\n",
       "      <td>7051.0</td>\n",
       "      <td>64.000000</td>\n",
       "      <td>25</td>\n",
       "    </tr>\n",
       "    <tr>\n",
       "      <th>55</th>\n",
       "      <td>106051.0</td>\n",
       "      <td>62.500000</td>\n",
       "      <td>8</td>\n",
       "    </tr>\n",
       "    <tr>\n",
       "      <th>50</th>\n",
       "      <td>92051.0</td>\n",
       "      <td>62.500000</td>\n",
       "      <td>8</td>\n",
       "    </tr>\n",
       "    <tr>\n",
       "      <th>35</th>\n",
       "      <td>70051.0</td>\n",
       "      <td>61.956522</td>\n",
       "      <td>92</td>\n",
       "    </tr>\n",
       "    <tr>\n",
       "      <th>5</th>\n",
       "      <td>12051.0</td>\n",
       "      <td>61.904762</td>\n",
       "      <td>42</td>\n",
       "    </tr>\n",
       "    <tr>\n",
       "      <th>57</th>\n",
       "      <td>108051.0</td>\n",
       "      <td>61.290323</td>\n",
       "      <td>31</td>\n",
       "    </tr>\n",
       "    <tr>\n",
       "      <th>12</th>\n",
       "      <td>25051.0</td>\n",
       "      <td>61.111111</td>\n",
       "      <td>18</td>\n",
       "    </tr>\n",
       "    <tr>\n",
       "      <th>39</th>\n",
       "      <td>75051.0</td>\n",
       "      <td>60.784314</td>\n",
       "      <td>51</td>\n",
       "    </tr>\n",
       "    <tr>\n",
       "      <th>31</th>\n",
       "      <td>66051.0</td>\n",
       "      <td>58.064516</td>\n",
       "      <td>31</td>\n",
       "    </tr>\n",
       "    <tr>\n",
       "      <th>14</th>\n",
       "      <td>29051.0</td>\n",
       "      <td>55.384615</td>\n",
       "      <td>195</td>\n",
       "    </tr>\n",
       "    <tr>\n",
       "      <th>11</th>\n",
       "      <td>24051.0</td>\n",
       "      <td>54.651163</td>\n",
       "      <td>86</td>\n",
       "    </tr>\n",
       "    <tr>\n",
       "      <th>4</th>\n",
       "      <td>11051.0</td>\n",
       "      <td>54.639175</td>\n",
       "      <td>97</td>\n",
       "    </tr>\n",
       "    <tr>\n",
       "      <th>33</th>\n",
       "      <td>68051.0</td>\n",
       "      <td>54.385965</td>\n",
       "      <td>114</td>\n",
       "    </tr>\n",
       "    <tr>\n",
       "      <th>15</th>\n",
       "      <td>41051.0</td>\n",
       "      <td>54.166667</td>\n",
       "      <td>24</td>\n",
       "    </tr>\n",
       "    <tr>\n",
       "      <th>26</th>\n",
       "      <td>61051.0</td>\n",
       "      <td>53.448276</td>\n",
       "      <td>58</td>\n",
       "    </tr>\n",
       "    <tr>\n",
       "      <th>36</th>\n",
       "      <td>71051.0</td>\n",
       "      <td>52.272727</td>\n",
       "      <td>44</td>\n",
       "    </tr>\n",
       "  </tbody>\n",
       "</table>\n",
       "</div>"
      ],
      "text/plain": [
       "    Aglomerante  PercentualAcerto  QtdDados\n",
       "41      78051.0        100.000000         6\n",
       "56     107051.0        100.000000         4\n",
       "30      65051.0         92.857143        14\n",
       "53      95051.0         88.888889         9\n",
       "68     120051.0         84.615385        13\n",
       "0        3051.0         75.757576        33\n",
       "59     111051.0         75.000000        12\n",
       "58     109051.0         74.193548        31\n",
       "7       14051.0         73.076923        52\n",
       "65     117051.0         72.727273        11\n",
       "60     112051.0         69.230769        13\n",
       "66     118051.0         66.666667        12\n",
       "16      42051.0         66.666667         9\n",
       "9       17051.0         66.233766        77\n",
       "2        7051.0         64.000000        25\n",
       "55     106051.0         62.500000         8\n",
       "50      92051.0         62.500000         8\n",
       "35      70051.0         61.956522        92\n",
       "5       12051.0         61.904762        42\n",
       "57     108051.0         61.290323        31\n",
       "12      25051.0         61.111111        18\n",
       "39      75051.0         60.784314        51\n",
       "31      66051.0         58.064516        31\n",
       "14      29051.0         55.384615       195\n",
       "11      24051.0         54.651163        86\n",
       "4       11051.0         54.639175        97\n",
       "33      68051.0         54.385965       114\n",
       "15      41051.0         54.166667        24\n",
       "26      61051.0         53.448276        58\n",
       "36      71051.0         52.272727        44"
      ]
     },
     "execution_count": 595,
     "metadata": {},
     "output_type": "execute_result"
    }
   ],
   "source": [
    "dados_aglomerante.sort_values(by = \"PercentualAcerto\", ascending = False).head(30)"
   ]
  },
  {
   "cell_type": "code",
   "execution_count": 608,
   "metadata": {},
   "outputs": [],
   "source": [
    "da = dados_por_aglomerante.get_group(75051.0)\n",
    "\n",
    "da2 = da[[\"TipoLancamento\", \"TipoTraco\", \"FCK\", \"RelacaoAguaCimento\", \"Rompimento7Dias\", \"ResultadoProjetado\", \"Rompimento28Dias\"]]\n",
    "da2.columns = ['EhLancamentoBombeavel', 'EhTracoEspecial', 'FCK', \"RelacaoAguaCimento\", 'Rompimento7Dias', 'ResultadoProjetado', 'Rompimento28Dias']\n",
    "\n",
    "data_projecao_inicio = da.head(1)[\"DataProjecao\"].values[0]\n",
    "data_projecao_fim = da.tail(1)[\"DataProjecao\"].values[0]\n",
    "data_projecao = data_projecao_inicio + dt.timedelta(weeks=24)\n",
    "\n",
    "data_projecao_atual = data_projecao\n",
    "\n",
    "datas_projecao = []\n",
    "listaMpaAcimaReal = []\n",
    "listaMpaAcimaProj = []\n",
    "listaMpaAcimaPred = []\n",
    "mais_prox = []\n",
    "quantidade_dados_analise = []\n",
    "quantidade_dados_teste = []\n",
    "\n",
    "while (data_projecao_atual <= data_projecao_fim):\n",
    "    dados_analise = ObtemDadosParaAnalise(data_projecao_atual, da2)    \n",
    "    dados_teste = ObtemDadosTeste(data_projecao_atual, da2)\n",
    "\n",
    "    if (len(dados_analise) < 10):\n",
    "        data_projecao_atual = data_projecao_atual + dt.timedelta(weeks=1)\n",
    "        continue\n",
    "    elif (len(dados_teste) == 0):\n",
    "        data_projecao_atual = data_projecao_atual + dt.timedelta(weeks=1)\n",
    "        continue\n",
    "    else:\n",
    "        quantidade_dados_analise.append(len(dados_analise))\n",
    "        quantidade_dados_teste.append(len(dados_teste))\n",
    "\n",
    "        x_train = dados_analise.drop([\"ResultadoProjetado\", \"Rompimento28Dias\"], axis=1)\n",
    "        y_train = dados_analise[\"Rompimento28Dias\"]\n",
    "\n",
    "        x_test = dados_teste.drop([\"ResultadoProjetado\", \"Rompimento28Dias\"], axis=1)\n",
    "        y_test = dados_teste[\"Rompimento28Dias\"]\n",
    "\n",
    "        pesos = np.ones(len(dados_analise))\n",
    "\n",
    "        dados_peso_maior = ObtemDadosPesoMaior(data_projecao_atual, da2)\n",
    "        quantidade_peso_maior = len(dados_peso_maior)\n",
    "\n",
    "        pesos[-quantidade_peso_maior:]*= 1.1\n",
    "\n",
    "        modelo.fit(x_train, y_train, **{'model__sample_weight': pesos})\n",
    "        #modelo.fit(x_train, y_train)\n",
    "        y_pred = modelo.predict(x_test)        \n",
    "        y_proj = dados_teste[\"ResultadoProjetado\"]\n",
    "\n",
    "        mpaAcimaProj = CalculaMediaMpaAcimaProjetado(data_projecao_atual, da)\n",
    "        mpaAcimaPred = CalculaMediaMpaAcimaTeste(data_projecao_atual, da, y_pred)\n",
    "        mpaAcimaReal = CalculaMediaMpaAcimaAnalise(data_projecao_atual, da)\n",
    "\n",
    "        listaMpaAcimaReal.append(mpaAcimaReal)\n",
    "        listaMpaAcimaProj.append(mpaAcimaProj)\n",
    "        listaMpaAcimaPred.append(mpaAcimaPred)\n",
    "\n",
    "        diff_real_proj = abs(mpaAcimaProj - mpaAcimaReal)\n",
    "        diff_real_pred = abs(mpaAcimaPred - mpaAcimaReal)\n",
    "\n",
    "        datas_projecao.append(data_projecao_atual)\n",
    "\n",
    "        if (diff_real_proj < diff_real_pred):\n",
    "            mais_prox.append('ModeloVelho')\n",
    "        elif (diff_real_proj > diff_real_pred):\n",
    "            mais_prox.append('ModeloNovo')\n",
    "        else:\n",
    "            mais_prox.append('ModeloNovo')\n",
    "\n",
    "        data_projecao_atual = data_projecao_atual + dt.timedelta(weeks=1)"
   ]
  },
  {
   "cell_type": "code",
   "execution_count": 609,
   "metadata": {},
   "outputs": [
    {
     "data": {
      "text/html": [
       "<div>\n",
       "<style scoped>\n",
       "    .dataframe tbody tr th:only-of-type {\n",
       "        vertical-align: middle;\n",
       "    }\n",
       "\n",
       "    .dataframe tbody tr th {\n",
       "        vertical-align: top;\n",
       "    }\n",
       "\n",
       "    .dataframe thead th {\n",
       "        text-align: right;\n",
       "    }\n",
       "</style>\n",
       "<table border=\"1\" class=\"dataframe\">\n",
       "  <thead>\n",
       "    <tr style=\"text-align: right;\">\n",
       "      <th></th>\n",
       "      <th>DataProjecao</th>\n",
       "      <th>MPaAcimaMedioReal</th>\n",
       "      <th>MPaAcimaMedioProj</th>\n",
       "      <th>MPaAcimaMedioPred</th>\n",
       "      <th>MPaAcimaMedioMaisProx</th>\n",
       "      <th>QtdDadosAnalise</th>\n",
       "      <th>QtdDadosTeste</th>\n",
       "    </tr>\n",
       "  </thead>\n",
       "  <tbody>\n",
       "    <tr>\n",
       "      <th>0</th>\n",
       "      <td>2017-10-20</td>\n",
       "      <td>14.068333</td>\n",
       "      <td>7.649633</td>\n",
       "      <td>11.605219</td>\n",
       "      <td>ModeloNovo</td>\n",
       "      <td>12</td>\n",
       "      <td>19</td>\n",
       "    </tr>\n",
       "    <tr>\n",
       "      <th>1</th>\n",
       "      <td>2017-10-27</td>\n",
       "      <td>12.485325</td>\n",
       "      <td>6.745581</td>\n",
       "      <td>6.756324</td>\n",
       "      <td>ModeloNovo</td>\n",
       "      <td>12</td>\n",
       "      <td>12</td>\n",
       "    </tr>\n",
       "    <tr>\n",
       "      <th>2</th>\n",
       "      <td>2017-11-17</td>\n",
       "      <td>9.346417</td>\n",
       "      <td>3.834552</td>\n",
       "      <td>9.893913</td>\n",
       "      <td>ModeloNovo</td>\n",
       "      <td>19</td>\n",
       "      <td>1</td>\n",
       "    </tr>\n",
       "    <tr>\n",
       "      <th>3</th>\n",
       "      <td>2017-11-24</td>\n",
       "      <td>7.763827</td>\n",
       "      <td>3.817159</td>\n",
       "      <td>6.185963</td>\n",
       "      <td>ModeloNovo</td>\n",
       "      <td>28</td>\n",
       "      <td>1</td>\n",
       "    </tr>\n",
       "    <tr>\n",
       "      <th>4</th>\n",
       "      <td>2017-12-15</td>\n",
       "      <td>8.805179</td>\n",
       "      <td>1.971203</td>\n",
       "      <td>6.502580</td>\n",
       "      <td>ModeloNovo</td>\n",
       "      <td>60</td>\n",
       "      <td>2</td>\n",
       "    </tr>\n",
       "    <tr>\n",
       "      <th>5</th>\n",
       "      <td>2017-12-29</td>\n",
       "      <td>8.579111</td>\n",
       "      <td>-1.821357</td>\n",
       "      <td>2.362297</td>\n",
       "      <td>ModeloNovo</td>\n",
       "      <td>58</td>\n",
       "      <td>1</td>\n",
       "    </tr>\n",
       "    <tr>\n",
       "      <th>6</th>\n",
       "      <td>2018-01-05</td>\n",
       "      <td>8.579111</td>\n",
       "      <td>2.086315</td>\n",
       "      <td>5.800405</td>\n",
       "      <td>ModeloNovo</td>\n",
       "      <td>58</td>\n",
       "      <td>11</td>\n",
       "    </tr>\n",
       "    <tr>\n",
       "      <th>7</th>\n",
       "      <td>2018-01-12</td>\n",
       "      <td>8.579111</td>\n",
       "      <td>1.256008</td>\n",
       "      <td>4.424023</td>\n",
       "      <td>ModeloNovo</td>\n",
       "      <td>58</td>\n",
       "      <td>4</td>\n",
       "    </tr>\n",
       "    <tr>\n",
       "      <th>8</th>\n",
       "      <td>2018-01-26</td>\n",
       "      <td>8.915842</td>\n",
       "      <td>2.018553</td>\n",
       "      <td>2.627987</td>\n",
       "      <td>ModeloNovo</td>\n",
       "      <td>28</td>\n",
       "      <td>2</td>\n",
       "    </tr>\n",
       "    <tr>\n",
       "      <th>9</th>\n",
       "      <td>2018-03-09</td>\n",
       "      <td>4.725862</td>\n",
       "      <td>14.748961</td>\n",
       "      <td>7.552810</td>\n",
       "      <td>ModeloNovo</td>\n",
       "      <td>15</td>\n",
       "      <td>5</td>\n",
       "    </tr>\n",
       "    <tr>\n",
       "      <th>10</th>\n",
       "      <td>2018-03-16</td>\n",
       "      <td>5.399524</td>\n",
       "      <td>10.236127</td>\n",
       "      <td>10.629720</td>\n",
       "      <td>ModeloVelho</td>\n",
       "      <td>11</td>\n",
       "      <td>3</td>\n",
       "    </tr>\n",
       "    <tr>\n",
       "      <th>11</th>\n",
       "      <td>2018-08-17</td>\n",
       "      <td>6.288133</td>\n",
       "      <td>12.084923</td>\n",
       "      <td>8.901154</td>\n",
       "      <td>ModeloNovo</td>\n",
       "      <td>10</td>\n",
       "      <td>3</td>\n",
       "    </tr>\n",
       "    <tr>\n",
       "      <th>12</th>\n",
       "      <td>2018-08-24</td>\n",
       "      <td>6.288133</td>\n",
       "      <td>2.591167</td>\n",
       "      <td>3.811005</td>\n",
       "      <td>ModeloNovo</td>\n",
       "      <td>10</td>\n",
       "      <td>5</td>\n",
       "    </tr>\n",
       "    <tr>\n",
       "      <th>13</th>\n",
       "      <td>2018-08-31</td>\n",
       "      <td>4.742916</td>\n",
       "      <td>3.736237</td>\n",
       "      <td>3.811012</td>\n",
       "      <td>ModeloNovo</td>\n",
       "      <td>27</td>\n",
       "      <td>5</td>\n",
       "    </tr>\n",
       "    <tr>\n",
       "      <th>14</th>\n",
       "      <td>2018-09-07</td>\n",
       "      <td>5.236698</td>\n",
       "      <td>6.360841</td>\n",
       "      <td>3.806644</td>\n",
       "      <td>ModeloVelho</td>\n",
       "      <td>48</td>\n",
       "      <td>1</td>\n",
       "    </tr>\n",
       "    <tr>\n",
       "      <th>15</th>\n",
       "      <td>2018-09-21</td>\n",
       "      <td>5.441026</td>\n",
       "      <td>9.732307</td>\n",
       "      <td>6.847960</td>\n",
       "      <td>ModeloNovo</td>\n",
       "      <td>56</td>\n",
       "      <td>1</td>\n",
       "    </tr>\n",
       "    <tr>\n",
       "      <th>16</th>\n",
       "      <td>2018-09-28</td>\n",
       "      <td>5.126908</td>\n",
       "      <td>4.839007</td>\n",
       "      <td>2.753078</td>\n",
       "      <td>ModeloVelho</td>\n",
       "      <td>61</td>\n",
       "      <td>3</td>\n",
       "    </tr>\n",
       "    <tr>\n",
       "      <th>17</th>\n",
       "      <td>2018-10-05</td>\n",
       "      <td>5.023434</td>\n",
       "      <td>5.510170</td>\n",
       "      <td>3.832331</td>\n",
       "      <td>ModeloVelho</td>\n",
       "      <td>56</td>\n",
       "      <td>9</td>\n",
       "    </tr>\n",
       "    <tr>\n",
       "      <th>18</th>\n",
       "      <td>2018-10-12</td>\n",
       "      <td>4.916691</td>\n",
       "      <td>5.729301</td>\n",
       "      <td>3.977240</td>\n",
       "      <td>ModeloVelho</td>\n",
       "      <td>53</td>\n",
       "      <td>10</td>\n",
       "    </tr>\n",
       "    <tr>\n",
       "      <th>19</th>\n",
       "      <td>2018-10-19</td>\n",
       "      <td>4.772946</td>\n",
       "      <td>8.940708</td>\n",
       "      <td>6.711783</td>\n",
       "      <td>ModeloNovo</td>\n",
       "      <td>52</td>\n",
       "      <td>12</td>\n",
       "    </tr>\n",
       "    <tr>\n",
       "      <th>20</th>\n",
       "      <td>2018-10-26</td>\n",
       "      <td>4.717331</td>\n",
       "      <td>6.798027</td>\n",
       "      <td>3.917647</td>\n",
       "      <td>ModeloNovo</td>\n",
       "      <td>55</td>\n",
       "      <td>13</td>\n",
       "    </tr>\n",
       "    <tr>\n",
       "      <th>21</th>\n",
       "      <td>2018-11-02</td>\n",
       "      <td>4.654911</td>\n",
       "      <td>1.310725</td>\n",
       "      <td>4.040840</td>\n",
       "      <td>ModeloNovo</td>\n",
       "      <td>48</td>\n",
       "      <td>1</td>\n",
       "    </tr>\n",
       "    <tr>\n",
       "      <th>22</th>\n",
       "      <td>2018-11-09</td>\n",
       "      <td>3.113530</td>\n",
       "      <td>5.477102</td>\n",
       "      <td>4.550502</td>\n",
       "      <td>ModeloNovo</td>\n",
       "      <td>37</td>\n",
       "      <td>10</td>\n",
       "    </tr>\n",
       "    <tr>\n",
       "      <th>23</th>\n",
       "      <td>2018-11-16</td>\n",
       "      <td>3.109247</td>\n",
       "      <td>9.213622</td>\n",
       "      <td>6.871936</td>\n",
       "      <td>ModeloNovo</td>\n",
       "      <td>46</td>\n",
       "      <td>4</td>\n",
       "    </tr>\n",
       "    <tr>\n",
       "      <th>24</th>\n",
       "      <td>2018-11-23</td>\n",
       "      <td>3.795492</td>\n",
       "      <td>10.907537</td>\n",
       "      <td>11.011400</td>\n",
       "      <td>ModeloVelho</td>\n",
       "      <td>51</td>\n",
       "      <td>3</td>\n",
       "    </tr>\n",
       "    <tr>\n",
       "      <th>25</th>\n",
       "      <td>2018-11-30</td>\n",
       "      <td>3.897060</td>\n",
       "      <td>11.187093</td>\n",
       "      <td>9.045991</td>\n",
       "      <td>ModeloNovo</td>\n",
       "      <td>48</td>\n",
       "      <td>10</td>\n",
       "    </tr>\n",
       "    <tr>\n",
       "      <th>26</th>\n",
       "      <td>2018-12-07</td>\n",
       "      <td>4.281136</td>\n",
       "      <td>9.744129</td>\n",
       "      <td>7.172746</td>\n",
       "      <td>ModeloNovo</td>\n",
       "      <td>57</td>\n",
       "      <td>22</td>\n",
       "    </tr>\n",
       "    <tr>\n",
       "      <th>27</th>\n",
       "      <td>2018-12-14</td>\n",
       "      <td>4.368489</td>\n",
       "      <td>9.649458</td>\n",
       "      <td>5.638286</td>\n",
       "      <td>ModeloNovo</td>\n",
       "      <td>60</td>\n",
       "      <td>28</td>\n",
       "    </tr>\n",
       "    <tr>\n",
       "      <th>28</th>\n",
       "      <td>2018-12-21</td>\n",
       "      <td>4.943204</td>\n",
       "      <td>6.782202</td>\n",
       "      <td>4.786364</td>\n",
       "      <td>ModeloNovo</td>\n",
       "      <td>65</td>\n",
       "      <td>13</td>\n",
       "    </tr>\n",
       "    <tr>\n",
       "      <th>29</th>\n",
       "      <td>2018-12-28</td>\n",
       "      <td>5.769157</td>\n",
       "      <td>7.554783</td>\n",
       "      <td>4.147280</td>\n",
       "      <td>ModeloNovo</td>\n",
       "      <td>72</td>\n",
       "      <td>2</td>\n",
       "    </tr>\n",
       "    <tr>\n",
       "      <th>30</th>\n",
       "      <td>2019-01-04</td>\n",
       "      <td>6.990266</td>\n",
       "      <td>5.363283</td>\n",
       "      <td>4.433297</td>\n",
       "      <td>ModeloVelho</td>\n",
       "      <td>83</td>\n",
       "      <td>7</td>\n",
       "    </tr>\n",
       "    <tr>\n",
       "      <th>31</th>\n",
       "      <td>2019-01-11</td>\n",
       "      <td>7.714425</td>\n",
       "      <td>3.551299</td>\n",
       "      <td>5.210770</td>\n",
       "      <td>ModeloNovo</td>\n",
       "      <td>103</td>\n",
       "      <td>9</td>\n",
       "    </tr>\n",
       "    <tr>\n",
       "      <th>32</th>\n",
       "      <td>2019-01-18</td>\n",
       "      <td>7.644465</td>\n",
       "      <td>4.414281</td>\n",
       "      <td>4.548159</td>\n",
       "      <td>ModeloNovo</td>\n",
       "      <td>104</td>\n",
       "      <td>10</td>\n",
       "    </tr>\n",
       "    <tr>\n",
       "      <th>33</th>\n",
       "      <td>2019-01-25</td>\n",
       "      <td>8.082546</td>\n",
       "      <td>1.310592</td>\n",
       "      <td>3.228248</td>\n",
       "      <td>ModeloNovo</td>\n",
       "      <td>93</td>\n",
       "      <td>10</td>\n",
       "    </tr>\n",
       "    <tr>\n",
       "      <th>34</th>\n",
       "      <td>2019-02-01</td>\n",
       "      <td>7.922082</td>\n",
       "      <td>8.555629</td>\n",
       "      <td>7.142343</td>\n",
       "      <td>ModeloVelho</td>\n",
       "      <td>99</td>\n",
       "      <td>12</td>\n",
       "    </tr>\n",
       "    <tr>\n",
       "      <th>35</th>\n",
       "      <td>2019-02-08</td>\n",
       "      <td>7.817182</td>\n",
       "      <td>11.233262</td>\n",
       "      <td>8.550930</td>\n",
       "      <td>ModeloNovo</td>\n",
       "      <td>95</td>\n",
       "      <td>4</td>\n",
       "    </tr>\n",
       "    <tr>\n",
       "      <th>36</th>\n",
       "      <td>2019-03-01</td>\n",
       "      <td>5.195600</td>\n",
       "      <td>5.026583</td>\n",
       "      <td>5.684034</td>\n",
       "      <td>ModeloVelho</td>\n",
       "      <td>112</td>\n",
       "      <td>15</td>\n",
       "    </tr>\n",
       "    <tr>\n",
       "      <th>37</th>\n",
       "      <td>2019-03-08</td>\n",
       "      <td>4.436830</td>\n",
       "      <td>4.843957</td>\n",
       "      <td>5.522914</td>\n",
       "      <td>ModeloVelho</td>\n",
       "      <td>94</td>\n",
       "      <td>12</td>\n",
       "    </tr>\n",
       "    <tr>\n",
       "      <th>38</th>\n",
       "      <td>2019-03-15</td>\n",
       "      <td>3.010040</td>\n",
       "      <td>3.761155</td>\n",
       "      <td>5.740027</td>\n",
       "      <td>ModeloVelho</td>\n",
       "      <td>66</td>\n",
       "      <td>10</td>\n",
       "    </tr>\n",
       "    <tr>\n",
       "      <th>39</th>\n",
       "      <td>2019-03-22</td>\n",
       "      <td>2.288018</td>\n",
       "      <td>0.623272</td>\n",
       "      <td>3.019923</td>\n",
       "      <td>ModeloNovo</td>\n",
       "      <td>53</td>\n",
       "      <td>10</td>\n",
       "    </tr>\n",
       "    <tr>\n",
       "      <th>40</th>\n",
       "      <td>2019-04-05</td>\n",
       "      <td>2.581406</td>\n",
       "      <td>7.954596</td>\n",
       "      <td>6.369182</td>\n",
       "      <td>ModeloNovo</td>\n",
       "      <td>71</td>\n",
       "      <td>3</td>\n",
       "    </tr>\n",
       "  </tbody>\n",
       "</table>\n",
       "</div>"
      ],
      "text/plain": [
       "   DataProjecao  MPaAcimaMedioReal  MPaAcimaMedioProj  MPaAcimaMedioPred  \\\n",
       "0    2017-10-20          14.068333           7.649633          11.605219   \n",
       "1    2017-10-27          12.485325           6.745581           6.756324   \n",
       "2    2017-11-17           9.346417           3.834552           9.893913   \n",
       "3    2017-11-24           7.763827           3.817159           6.185963   \n",
       "4    2017-12-15           8.805179           1.971203           6.502580   \n",
       "5    2017-12-29           8.579111          -1.821357           2.362297   \n",
       "6    2018-01-05           8.579111           2.086315           5.800405   \n",
       "7    2018-01-12           8.579111           1.256008           4.424023   \n",
       "8    2018-01-26           8.915842           2.018553           2.627987   \n",
       "9    2018-03-09           4.725862          14.748961           7.552810   \n",
       "10   2018-03-16           5.399524          10.236127          10.629720   \n",
       "11   2018-08-17           6.288133          12.084923           8.901154   \n",
       "12   2018-08-24           6.288133           2.591167           3.811005   \n",
       "13   2018-08-31           4.742916           3.736237           3.811012   \n",
       "14   2018-09-07           5.236698           6.360841           3.806644   \n",
       "15   2018-09-21           5.441026           9.732307           6.847960   \n",
       "16   2018-09-28           5.126908           4.839007           2.753078   \n",
       "17   2018-10-05           5.023434           5.510170           3.832331   \n",
       "18   2018-10-12           4.916691           5.729301           3.977240   \n",
       "19   2018-10-19           4.772946           8.940708           6.711783   \n",
       "20   2018-10-26           4.717331           6.798027           3.917647   \n",
       "21   2018-11-02           4.654911           1.310725           4.040840   \n",
       "22   2018-11-09           3.113530           5.477102           4.550502   \n",
       "23   2018-11-16           3.109247           9.213622           6.871936   \n",
       "24   2018-11-23           3.795492          10.907537          11.011400   \n",
       "25   2018-11-30           3.897060          11.187093           9.045991   \n",
       "26   2018-12-07           4.281136           9.744129           7.172746   \n",
       "27   2018-12-14           4.368489           9.649458           5.638286   \n",
       "28   2018-12-21           4.943204           6.782202           4.786364   \n",
       "29   2018-12-28           5.769157           7.554783           4.147280   \n",
       "30   2019-01-04           6.990266           5.363283           4.433297   \n",
       "31   2019-01-11           7.714425           3.551299           5.210770   \n",
       "32   2019-01-18           7.644465           4.414281           4.548159   \n",
       "33   2019-01-25           8.082546           1.310592           3.228248   \n",
       "34   2019-02-01           7.922082           8.555629           7.142343   \n",
       "35   2019-02-08           7.817182          11.233262           8.550930   \n",
       "36   2019-03-01           5.195600           5.026583           5.684034   \n",
       "37   2019-03-08           4.436830           4.843957           5.522914   \n",
       "38   2019-03-15           3.010040           3.761155           5.740027   \n",
       "39   2019-03-22           2.288018           0.623272           3.019923   \n",
       "40   2019-04-05           2.581406           7.954596           6.369182   \n",
       "\n",
       "   MPaAcimaMedioMaisProx  QtdDadosAnalise  QtdDadosTeste  \n",
       "0             ModeloNovo               12             19  \n",
       "1             ModeloNovo               12             12  \n",
       "2             ModeloNovo               19              1  \n",
       "3             ModeloNovo               28              1  \n",
       "4             ModeloNovo               60              2  \n",
       "5             ModeloNovo               58              1  \n",
       "6             ModeloNovo               58             11  \n",
       "7             ModeloNovo               58              4  \n",
       "8             ModeloNovo               28              2  \n",
       "9             ModeloNovo               15              5  \n",
       "10           ModeloVelho               11              3  \n",
       "11            ModeloNovo               10              3  \n",
       "12            ModeloNovo               10              5  \n",
       "13            ModeloNovo               27              5  \n",
       "14           ModeloVelho               48              1  \n",
       "15            ModeloNovo               56              1  \n",
       "16           ModeloVelho               61              3  \n",
       "17           ModeloVelho               56              9  \n",
       "18           ModeloVelho               53             10  \n",
       "19            ModeloNovo               52             12  \n",
       "20            ModeloNovo               55             13  \n",
       "21            ModeloNovo               48              1  \n",
       "22            ModeloNovo               37             10  \n",
       "23            ModeloNovo               46              4  \n",
       "24           ModeloVelho               51              3  \n",
       "25            ModeloNovo               48             10  \n",
       "26            ModeloNovo               57             22  \n",
       "27            ModeloNovo               60             28  \n",
       "28            ModeloNovo               65             13  \n",
       "29            ModeloNovo               72              2  \n",
       "30           ModeloVelho               83              7  \n",
       "31            ModeloNovo              103              9  \n",
       "32            ModeloNovo              104             10  \n",
       "33            ModeloNovo               93             10  \n",
       "34           ModeloVelho               99             12  \n",
       "35            ModeloNovo               95              4  \n",
       "36           ModeloVelho              112             15  \n",
       "37           ModeloVelho               94             12  \n",
       "38           ModeloVelho               66             10  \n",
       "39            ModeloNovo               53             10  \n",
       "40            ModeloNovo               71              3  "
      ]
     },
     "execution_count": 609,
     "metadata": {},
     "output_type": "execute_result"
    }
   ],
   "source": [
    "dados_resultado = pd.DataFrame(columns = [\"DataProjecao\", \"MPaAcimaMedioReal\", \"MPaAcimaMedioProj\", \"MPaAcimaMedioPred\", \"MPaAcimaMedioMaisProx\", \"QtdDadosAnalise\", \"QtdDadosTeste\"])\n",
    "\n",
    "dados_resultado[\"DataProjecao\"] = datas_projecao\n",
    "dados_resultado[\"MPaAcimaMedioReal\"] = listaMpaAcimaReal\n",
    "dados_resultado[\"MPaAcimaMedioProj\"] = listaMpaAcimaProj\n",
    "dados_resultado[\"MPaAcimaMedioPred\"] = listaMpaAcimaPred\n",
    "dados_resultado[\"MPaAcimaMedioMaisProx\"] = mais_prox\n",
    "dados_resultado[\"QtdDadosAnalise\"] = quantidade_dados_analise\n",
    "dados_resultado[\"QtdDadosTeste\"] = quantidade_dados_teste\n",
    "\n",
    "#dados_resultados_com_teste = dados_resultado[dados_resultado[\"QtdDadosTeste\"] > 10]\n",
    "dados_resultados_com_teste = dados_resultado\n",
    "\n",
    "dados_resultados_com_teste"
   ]
  },
  {
   "cell_type": "code",
   "execution_count": 610,
   "metadata": {},
   "outputs": [
    {
     "name": "stdout",
     "output_type": "stream",
     "text": [
      "modelo foi melhor em 30\n",
      "total 41\n",
      "Percentual: 73.17073170731707\n"
     ]
    }
   ],
   "source": [
    "modelo_novo_melhor = len(dados_resultados_com_teste[dados_resultados_com_teste[\"MPaAcimaMedioMaisProx\"] == \"ModeloNovo\"])\n",
    "todos_dados = len(dados_resultados_com_teste)\n",
    "\n",
    "print(\"modelo foi melhor em\", modelo_novo_melhor)\n",
    "print(\"total\", todos_dados)\n",
    "\n",
    "perc = modelo_novo_melhor * 100/todos_dados\n",
    "\n",
    "print(\"Percentual:\", perc)"
   ]
  },
  {
   "cell_type": "code",
   "execution_count": null,
   "metadata": {},
   "outputs": [],
   "source": []
  },
  {
   "cell_type": "code",
   "execution_count": null,
   "metadata": {},
   "outputs": [],
   "source": []
  },
  {
   "cell_type": "code",
   "execution_count": 517,
   "metadata": {},
   "outputs": [
    {
     "data": {
      "text/html": [
       "<div>\n",
       "<style scoped>\n",
       "    .dataframe tbody tr th:only-of-type {\n",
       "        vertical-align: middle;\n",
       "    }\n",
       "\n",
       "    .dataframe tbody tr th {\n",
       "        vertical-align: top;\n",
       "    }\n",
       "\n",
       "    .dataframe thead th {\n",
       "        text-align: right;\n",
       "    }\n",
       "</style>\n",
       "<table border=\"1\" class=\"dataframe\">\n",
       "  <thead>\n",
       "    <tr style=\"text-align: right;\">\n",
       "      <th></th>\n",
       "      <th>CodigoReceita</th>\n",
       "      <th>Volume</th>\n",
       "      <th>TipoLancamento</th>\n",
       "      <th>DataEmissaoNotaFiscal</th>\n",
       "      <th>CodigoCliente</th>\n",
       "      <th>CodigoMotorista</th>\n",
       "      <th>TempoPermanenciaObra</th>\n",
       "      <th>ConsumoTotal</th>\n",
       "      <th>Idade</th>\n",
       "      <th>TipoTraco</th>\n",
       "      <th>...</th>\n",
       "      <th>FCK</th>\n",
       "      <th>Rompimento7Dias</th>\n",
       "      <th>Rompimento28Dias</th>\n",
       "      <th>ConsumoPorM3</th>\n",
       "      <th>DesvioAplicado</th>\n",
       "      <th>ResultadoProjetado</th>\n",
       "      <th>PercentualCrescimentoReal</th>\n",
       "      <th>PercentualCrescimentoProjetado</th>\n",
       "      <th>RelacaoAguaCimento</th>\n",
       "      <th>DataProjecao</th>\n",
       "    </tr>\n",
       "  </thead>\n",
       "  <tbody>\n",
       "    <tr>\n",
       "      <th>38008</th>\n",
       "      <td>33488051</td>\n",
       "      <td>6.0</td>\n",
       "      <td>1</td>\n",
       "      <td>2017-03-08 14:43:53.140</td>\n",
       "      <td>133258051</td>\n",
       "      <td>812051</td>\n",
       "      <td>00:54:00</td>\n",
       "      <td>2.172.000</td>\n",
       "      <td>28</td>\n",
       "      <td>0</td>\n",
       "      <td>...</td>\n",
       "      <td>30.0</td>\n",
       "      <td>25.73</td>\n",
       "      <td>35.08</td>\n",
       "      <td>362.0</td>\n",
       "      <td>6.0</td>\n",
       "      <td>35.882105</td>\n",
       "      <td>36.338904</td>\n",
       "      <td>39.456298</td>\n",
       "      <td>0.538674</td>\n",
       "      <td>2017-03-10</td>\n",
       "    </tr>\n",
       "    <tr>\n",
       "      <th>38106</th>\n",
       "      <td>33541051</td>\n",
       "      <td>6.0</td>\n",
       "      <td>1</td>\n",
       "      <td>2017-03-24 12:13:31.350</td>\n",
       "      <td>12560051</td>\n",
       "      <td>173051</td>\n",
       "      <td>00:18:00</td>\n",
       "      <td>2.124.000</td>\n",
       "      <td>28</td>\n",
       "      <td>0</td>\n",
       "      <td>...</td>\n",
       "      <td>30.0</td>\n",
       "      <td>23.26</td>\n",
       "      <td>30.93</td>\n",
       "      <td>354.0</td>\n",
       "      <td>6.0</td>\n",
       "      <td>32.951628</td>\n",
       "      <td>32.975064</td>\n",
       "      <td>41.666500</td>\n",
       "      <td>0.533898</td>\n",
       "      <td>2017-03-24</td>\n",
       "    </tr>\n",
       "    <tr>\n",
       "      <th>38107</th>\n",
       "      <td>33541051</td>\n",
       "      <td>6.0</td>\n",
       "      <td>1</td>\n",
       "      <td>2017-03-24 13:21:38.870</td>\n",
       "      <td>12560051</td>\n",
       "      <td>94079</td>\n",
       "      <td>00:30:00</td>\n",
       "      <td>2.124.000</td>\n",
       "      <td>28</td>\n",
       "      <td>0</td>\n",
       "      <td>...</td>\n",
       "      <td>30.0</td>\n",
       "      <td>22.32</td>\n",
       "      <td>31.90</td>\n",
       "      <td>354.0</td>\n",
       "      <td>6.0</td>\n",
       "      <td>31.821606</td>\n",
       "      <td>42.921147</td>\n",
       "      <td>42.569919</td>\n",
       "      <td>0.528249</td>\n",
       "      <td>2017-03-24</td>\n",
       "    </tr>\n",
       "    <tr>\n",
       "      <th>38108</th>\n",
       "      <td>33541051</td>\n",
       "      <td>7.0</td>\n",
       "      <td>1</td>\n",
       "      <td>2017-03-29 07:34:41.580</td>\n",
       "      <td>12560051</td>\n",
       "      <td>66079</td>\n",
       "      <td>00:32:00</td>\n",
       "      <td>2.478.000</td>\n",
       "      <td>28</td>\n",
       "      <td>0</td>\n",
       "      <td>...</td>\n",
       "      <td>30.0</td>\n",
       "      <td>23.09</td>\n",
       "      <td>31.30</td>\n",
       "      <td>354.0</td>\n",
       "      <td>6.0</td>\n",
       "      <td>32.747889</td>\n",
       "      <td>35.556518</td>\n",
       "      <td>41.827148</td>\n",
       "      <td>0.533898</td>\n",
       "      <td>2017-03-31</td>\n",
       "    </tr>\n",
       "    <tr>\n",
       "      <th>38110</th>\n",
       "      <td>33541051</td>\n",
       "      <td>7.0</td>\n",
       "      <td>1</td>\n",
       "      <td>2017-03-29 09:19:57.647</td>\n",
       "      <td>12560051</td>\n",
       "      <td>727051</td>\n",
       "      <td>00:22:00</td>\n",
       "      <td>2.478.000</td>\n",
       "      <td>28</td>\n",
       "      <td>0</td>\n",
       "      <td>...</td>\n",
       "      <td>30.0</td>\n",
       "      <td>23.24</td>\n",
       "      <td>31.02</td>\n",
       "      <td>354.0</td>\n",
       "      <td>6.0</td>\n",
       "      <td>32.927673</td>\n",
       "      <td>33.476764</td>\n",
       "      <td>41.685339</td>\n",
       "      <td>0.533898</td>\n",
       "      <td>2017-03-31</td>\n",
       "    </tr>\n",
       "  </tbody>\n",
       "</table>\n",
       "<p>5 rows × 21 columns</p>\n",
       "</div>"
      ],
      "text/plain": [
       "       CodigoReceita  Volume  TipoLancamento    DataEmissaoNotaFiscal  \\\n",
       "38008       33488051     6.0               1  2017-03-08 14:43:53.140   \n",
       "38106       33541051     6.0               1  2017-03-24 12:13:31.350   \n",
       "38107       33541051     6.0               1  2017-03-24 13:21:38.870   \n",
       "38108       33541051     7.0               1  2017-03-29 07:34:41.580   \n",
       "38110       33541051     7.0               1  2017-03-29 09:19:57.647   \n",
       "\n",
       "       CodigoCliente  CodigoMotorista TempoPermanenciaObra ConsumoTotal  \\\n",
       "38008      133258051           812051             00:54:00    2.172.000   \n",
       "38106       12560051           173051             00:18:00    2.124.000   \n",
       "38107       12560051            94079             00:30:00    2.124.000   \n",
       "38108       12560051            66079             00:32:00    2.478.000   \n",
       "38110       12560051           727051             00:22:00    2.478.000   \n",
       "\n",
       "       Idade  TipoTraco  ...   FCK  Rompimento7Dias  Rompimento28Dias  \\\n",
       "38008     28          0  ...  30.0            25.73             35.08   \n",
       "38106     28          0  ...  30.0            23.26             30.93   \n",
       "38107     28          0  ...  30.0            22.32             31.90   \n",
       "38108     28          0  ...  30.0            23.09             31.30   \n",
       "38110     28          0  ...  30.0            23.24             31.02   \n",
       "\n",
       "       ConsumoPorM3  DesvioAplicado  ResultadoProjetado  \\\n",
       "38008         362.0             6.0           35.882105   \n",
       "38106         354.0             6.0           32.951628   \n",
       "38107         354.0             6.0           31.821606   \n",
       "38108         354.0             6.0           32.747889   \n",
       "38110         354.0             6.0           32.927673   \n",
       "\n",
       "       PercentualCrescimentoReal  PercentualCrescimentoProjetado  \\\n",
       "38008                  36.338904                       39.456298   \n",
       "38106                  32.975064                       41.666500   \n",
       "38107                  42.921147                       42.569919   \n",
       "38108                  35.556518                       41.827148   \n",
       "38110                  33.476764                       41.685339   \n",
       "\n",
       "       RelacaoAguaCimento  DataProjecao  \n",
       "38008            0.538674    2017-03-10  \n",
       "38106            0.533898    2017-03-24  \n",
       "38107            0.528249    2017-03-24  \n",
       "38108            0.533898    2017-03-31  \n",
       "38110            0.533898    2017-03-31  \n",
       "\n",
       "[5 rows x 21 columns]"
      ]
     },
     "execution_count": 517,
     "metadata": {},
     "output_type": "execute_result"
    }
   ],
   "source": [
    "da.head()"
   ]
  },
  {
   "cell_type": "code",
   "execution_count": 636,
   "metadata": {
    "scrolled": false
   },
   "outputs": [
    {
     "name": "stdout",
     "output_type": "stream",
     "text": [
      "16\n",
      "Sem outlier: 16\n",
      "16\n",
      "Sem outlier: 16\n",
      "28\n",
      "Sem outlier: 28\n",
      "28\n",
      "Sem outlier: 28\n",
      "29\n",
      "Sem outlier: 29\n",
      "29\n",
      "Sem outlier: 29\n",
      "29\n",
      "Sem outlier: 29\n",
      "29\n",
      "Sem outlier: 29\n",
      "27\n",
      "Sem outlier: 27\n",
      "27\n",
      "Sem outlier: 26\n",
      "24\n",
      "Sem outlier: 24\n",
      "24\n",
      "Sem outlier: 24\n",
      "15\n",
      "Sem outlier: 14\n",
      "14\n",
      "Sem outlier: 13\n",
      "15\n",
      "Sem outlier: 14\n",
      "14\n",
      "Sem outlier: 13\n",
      "15\n",
      "Sem outlier: 14\n",
      "14\n",
      "Sem outlier: 13\n",
      "13\n",
      "Sem outlier: 13\n",
      "13\n",
      "Sem outlier: 13\n",
      "1\n",
      "Sem outlier: 1\n",
      "1\n",
      "Sem outlier: 1\n",
      "0\n",
      "Sem outlier: 0\n",
      "0\n",
      "Sem outlier: 0\n",
      "19\n",
      "Sem outlier: 19\n",
      "19\n",
      "Sem outlier: 19\n",
      "31\n",
      "Sem outlier: 30\n",
      "30\n",
      "Sem outlier: 28\n",
      "44\n",
      "Sem outlier: 43\n",
      "43\n",
      "Sem outlier: 40\n",
      "60\n",
      "Sem outlier: 60\n",
      "60\n",
      "Sem outlier: 60\n",
      "61\n",
      "Sem outlier: 61\n",
      "61\n",
      "Sem outlier: 60\n",
      "62\n",
      "Sem outlier: 62\n",
      "62\n",
      "Sem outlier: 59\n",
      "62\n",
      "Sem outlier: 62\n",
      "62\n",
      "Sem outlier: 59\n",
      "62\n",
      "Sem outlier: 62\n",
      "62\n",
      "Sem outlier: 59\n",
      "64\n",
      "Sem outlier: 64\n",
      "64\n",
      "Sem outlier: 61\n",
      "45\n",
      "Sem outlier: 45\n",
      "45\n",
      "Sem outlier: 43\n",
      "34\n",
      "Sem outlier: 34\n",
      "34\n",
      "Sem outlier: 31\n",
      "32\n",
      "Sem outlier: 32\n",
      "32\n",
      "Sem outlier: 32\n",
      "20\n",
      "Sem outlier: 20\n",
      "20\n",
      "Sem outlier: 20\n",
      "19\n",
      "Sem outlier: 19\n",
      "19\n",
      "Sem outlier: 19\n",
      "20\n",
      "Sem outlier: 20\n",
      "20\n",
      "Sem outlier: 20\n",
      "20\n",
      "Sem outlier: 20\n",
      "20\n",
      "Sem outlier: 20\n",
      "20\n",
      "Sem outlier: 20\n",
      "20\n",
      "Sem outlier: 20\n",
      "18\n",
      "Sem outlier: 18\n",
      "18\n",
      "Sem outlier: 18\n",
      "18\n",
      "Sem outlier: 18\n",
      "18\n",
      "Sem outlier: 18\n",
      "17\n",
      "Sem outlier: 17\n",
      "17\n",
      "Sem outlier: 16\n",
      "11\n",
      "Sem outlier: 11\n",
      "11\n",
      "Sem outlier: 11\n",
      "10\n",
      "Sem outlier: 10\n",
      "10\n",
      "Sem outlier: 10\n",
      "10\n",
      "Sem outlier: 10\n",
      "10\n",
      "Sem outlier: 10\n",
      "8\n",
      "Sem outlier: 8\n",
      "8\n",
      "Sem outlier: 8\n",
      "8\n",
      "Sem outlier: 8\n",
      "8\n",
      "Sem outlier: 8\n",
      "8\n",
      "Sem outlier: 8\n",
      "8\n",
      "Sem outlier: 8\n",
      "8\n",
      "Sem outlier: 8\n",
      "8\n",
      "Sem outlier: 8\n",
      "8\n",
      "Sem outlier: 8\n",
      "8\n",
      "Sem outlier: 8\n",
      "8\n",
      "Sem outlier: 8\n",
      "8\n",
      "Sem outlier: 8\n",
      "3\n",
      "Sem outlier: 3\n",
      "3\n",
      "Sem outlier: 3\n",
      "0\n",
      "Sem outlier: 0\n",
      "0\n",
      "Sem outlier: 0\n",
      "0\n",
      "Sem outlier: 0\n",
      "0\n",
      "Sem outlier: 0\n",
      "0\n",
      "Sem outlier: 0\n",
      "0\n",
      "Sem outlier: 0\n",
      "0\n",
      "Sem outlier: 0\n",
      "0\n",
      "Sem outlier: 0\n",
      "0\n",
      "Sem outlier: 0\n",
      "0\n",
      "Sem outlier: 0\n",
      "0\n",
      "Sem outlier: 0\n",
      "0\n",
      "Sem outlier: 0\n",
      "0\n",
      "Sem outlier: 0\n",
      "0\n",
      "Sem outlier: 0\n",
      "6\n",
      "Sem outlier: 6\n",
      "6\n",
      "Sem outlier: 6\n",
      "9\n",
      "Sem outlier: 9\n",
      "9\n",
      "Sem outlier: 9\n",
      "11\n",
      "Sem outlier: 11\n",
      "11\n",
      "Sem outlier: 11\n",
      "11\n",
      "Sem outlier: 11\n",
      "11\n",
      "Sem outlier: 11\n",
      "27\n",
      "Sem outlier: 27\n",
      "27\n",
      "Sem outlier: 27\n",
      "48\n",
      "Sem outlier: 48\n",
      "48\n",
      "Sem outlier: 48\n",
      "51\n",
      "Sem outlier: 51\n",
      "51\n",
      "Sem outlier: 51\n",
      "56\n",
      "Sem outlier: 56\n",
      "56\n",
      "Sem outlier: 56\n",
      "61\n",
      "Sem outlier: 61\n",
      "61\n",
      "Sem outlier: 61\n",
      "56\n",
      "Sem outlier: 56\n",
      "56\n",
      "Sem outlier: 56\n",
      "53\n",
      "Sem outlier: 53\n",
      "53\n",
      "Sem outlier: 53\n",
      "52\n",
      "Sem outlier: 52\n",
      "52\n",
      "Sem outlier: 52\n",
      "55\n",
      "Sem outlier: 55\n",
      "55\n",
      "Sem outlier: 55\n",
      "48\n",
      "Sem outlier: 48\n",
      "48\n",
      "Sem outlier: 48\n",
      "37\n",
      "Sem outlier: 37\n",
      "37\n",
      "Sem outlier: 37\n",
      "46\n",
      "Sem outlier: 46\n",
      "46\n",
      "Sem outlier: 46\n",
      "54\n",
      "Sem outlier: 52\n",
      "52\n",
      "Sem outlier: 52\n",
      "50\n",
      "Sem outlier: 50\n",
      "50\n",
      "Sem outlier: 49\n",
      "59\n",
      "Sem outlier: 58\n",
      "58\n",
      "Sem outlier: 57\n",
      "63\n",
      "Sem outlier: 61\n",
      "61\n",
      "Sem outlier: 60\n",
      "65\n",
      "Sem outlier: 65\n",
      "65\n",
      "Sem outlier: 65\n",
      "72\n",
      "Sem outlier: 72\n",
      "72\n",
      "Sem outlier: 72\n",
      "85\n",
      "Sem outlier: 84\n",
      "84\n",
      "Sem outlier: 83\n",
      "103\n",
      "Sem outlier: 103\n",
      "103\n",
      "Sem outlier: 103\n",
      "104\n",
      "Sem outlier: 104\n",
      "104\n",
      "Sem outlier: 104\n",
      "93\n",
      "Sem outlier: 93\n",
      "93\n",
      "Sem outlier: 93\n",
      "99\n",
      "Sem outlier: 99\n",
      "99\n",
      "Sem outlier: 99\n",
      "98\n",
      "Sem outlier: 98\n",
      "98\n",
      "Sem outlier: 95\n",
      "104\n",
      "Sem outlier: 103\n",
      "103\n",
      "Sem outlier: 101\n",
      "111\n",
      "Sem outlier: 110\n",
      "110\n",
      "Sem outlier: 109\n",
      "113\n",
      "Sem outlier: 112\n",
      "112\n",
      "Sem outlier: 112\n",
      "95\n",
      "Sem outlier: 94\n",
      "94\n",
      "Sem outlier: 94\n",
      "67\n",
      "Sem outlier: 66\n",
      "66\n",
      "Sem outlier: 66\n",
      "54\n",
      "Sem outlier: 53\n",
      "53\n",
      "Sem outlier: 53\n",
      "67\n",
      "Sem outlier: 66\n",
      "66\n",
      "Sem outlier: 66\n",
      "72\n",
      "Sem outlier: 71\n",
      "71\n",
      "Sem outlier: 71\n",
      "73\n",
      "Sem outlier: 72\n",
      "72\n",
      "Sem outlier: 72\n",
      "73\n",
      "Sem outlier: 72\n",
      "72\n",
      "Sem outlier: 72\n",
      "63\n",
      "Sem outlier: 61\n",
      "61\n",
      "Sem outlier: 61\n",
      "54\n",
      "Sem outlier: 52\n",
      "52\n",
      "Sem outlier: 52\n",
      "50\n",
      "Sem outlier: 48\n",
      "48\n",
      "Sem outlier: 48\n",
      "50\n",
      "Sem outlier: 48\n",
      "48\n",
      "Sem outlier: 48\n",
      "50\n",
      "Sem outlier: 48\n",
      "48\n",
      "Sem outlier: 48\n",
      "35\n",
      "Sem outlier: 30\n",
      "30\n",
      "Sem outlier: 30\n",
      "23\n",
      "Sem outlier: 23\n",
      "23\n",
      "Sem outlier: 23\n",
      "13\n",
      "Sem outlier: 13\n",
      "13\n",
      "Sem outlier: 13\n",
      "3\n",
      "Sem outlier: 3\n",
      "3\n",
      "Sem outlier: 3\n",
      "3\n",
      "Sem outlier: 3\n",
      "3\n",
      "Sem outlier: 3\n",
      "0\n",
      "Sem outlier: 0\n",
      "0\n",
      "Sem outlier: 0\n",
      "0\n",
      "Sem outlier: 0\n",
      "0\n",
      "Sem outlier: 0\n",
      "0\n",
      "Sem outlier: 0\n",
      "0\n",
      "Sem outlier: 0\n",
      "0\n",
      "Sem outlier: 0\n",
      "0\n",
      "Sem outlier: 0\n",
      "0\n",
      "Sem outlier: 0\n",
      "0\n",
      "Sem outlier: 0\n",
      "0\n",
      "Sem outlier: 0\n",
      "0\n",
      "Sem outlier: 0\n"
     ]
    }
   ],
   "source": [
    "da = dados_por_aglomerante.get_group(75051.0)\n",
    "\n",
    "da2 = da[[\"Rompimento7Dias\", \"ResultadoProjetado\", \"Rompimento28Dias\"]]\n",
    "da2.columns = ['Rompimento7Dias', 'ResultadoProjetado', 'Rompimento28Dias']\n",
    "\n",
    "data_projecao_inicio = da.head(1)[\"DataProjecao\"].values[0]\n",
    "data_projecao_fim = da.tail(1)[\"DataProjecao\"].values[0]\n",
    "data_projecao = data_projecao_inicio + dt.timedelta(weeks=24)\n",
    "\n",
    "data_projecao_atual = data_projecao\n",
    "\n",
    "datas_projecao = []\n",
    "perc_acerto = []\n",
    "quantidade_dados_analise = []\n",
    "quantidade_dados_teste = []\n",
    "\n",
    "while (data_projecao_atual <= data_projecao_fim):\n",
    "    dados_analise = ObtemDadosParaAnalise(data_projecao_atual, da2)    \n",
    "    dados_teste = ObtemDadosTeste(data_projecao_atual, da2)\n",
    "\n",
    "    if (len(dados_analise) < 10):\n",
    "        data_projecao_atual = data_projecao_atual + dt.timedelta(weeks=1)\n",
    "        continue\n",
    "    elif (len(dados_teste) == 0):\n",
    "        data_projecao_atual = data_projecao_atual + dt.timedelta(weeks=1)\n",
    "        continue\n",
    "    else:\n",
    "        quantidade_dados_analise.append(len(dados_analise))\n",
    "        quantidade_dados_teste.append(len(dados_teste))\n",
    "\n",
    "        x_train = dados_analise.drop([\"ResultadoProjetado\", \"Rompimento28Dias\"], axis=1)\n",
    "        y_train = dados_analise[\"Rompimento28Dias\"]\n",
    "\n",
    "        x_test = dados_teste.drop([\"ResultadoProjetado\", \"Rompimento28Dias\"], axis=1)\n",
    "        y_test = dados_teste[\"Rompimento28Dias\"]\n",
    "\n",
    "        pesos = np.ones(len(dados_analise))\n",
    "\n",
    "        dados_peso_maior = ObtemDadosPesoMaior(data_projecao_atual, da2)\n",
    "        quantidade_peso_maior = len(dados_peso_maior)\n",
    "\n",
    "        pesos[-quantidade_peso_maior:]*= 1.1\n",
    "\n",
    "        #modelo.fit(x_train, y_train, **{'model__sample_weight': pesos})\n",
    "        modelo.fit(x_train, y_train)\n",
    "        y_pred = modelo.predict(x_test)        \n",
    "        y_proj = dados_teste[\"ResultadoProjetado\"]\n",
    "\n",
    "        j = 0\n",
    "        resultado_final = []\n",
    "\n",
    "        for i in y_test.index:\n",
    "            diff_real_proj = (y_test[i] - y_proj[i])/y_test[i]\n",
    "            diff_real_pred = (y_test[i] - y_pred[j])/y_test[i]\n",
    "\n",
    "            if (diff_real_proj <= diff_real_pred):\n",
    "                resultado_final.append('ModeloAntigo')\n",
    "            else:\n",
    "                resultado_final.append('ModeloNovo')\n",
    "\n",
    "            j = j + 1\n",
    "            \n",
    "        perc_acerto_por_data_projecao = resultado_final.count('ModeloNovo') / (resultado_final.count('ModeloNovo') + resultado_final.count('ModeloAntigo'))\n",
    "\n",
    "        datas_projecao.append(data_projecao_atual)\n",
    "        perc_acerto.append(perc_acerto_por_data_projecao)\n",
    "\n",
    "        data_projecao_atual = data_projecao_atual + dt.timedelta(weeks=1)"
   ]
  },
  {
   "cell_type": "code",
   "execution_count": 632,
   "metadata": {},
   "outputs": [],
   "source": [
    "dados_resultado = pd.DataFrame(columns = [\"DataProjecao\", \"PercAcertoModeloNovo\", \"QuantidadeDadosTeste\"])\n",
    "\n",
    "dados_resultado[\"DataProjecao\"] = datas_projecao\n",
    "dados_resultado[\"PercAcertoModeloNovo\"] = perc_acerto\n",
    "dados_resultado[\"QuantidadeDadosTeste\"] = quantidade_dados_teste"
   ]
  },
  {
   "cell_type": "code",
   "execution_count": 633,
   "metadata": {},
   "outputs": [
    {
     "name": "stdout",
     "output_type": "stream",
     "text": [
      "Modelo novo foi melhor em 19  de 41\n"
     ]
    },
    {
     "data": {
      "text/html": [
       "<div>\n",
       "<style scoped>\n",
       "    .dataframe tbody tr th:only-of-type {\n",
       "        vertical-align: middle;\n",
       "    }\n",
       "\n",
       "    .dataframe tbody tr th {\n",
       "        vertical-align: top;\n",
       "    }\n",
       "\n",
       "    .dataframe thead th {\n",
       "        text-align: right;\n",
       "    }\n",
       "</style>\n",
       "<table border=\"1\" class=\"dataframe\">\n",
       "  <thead>\n",
       "    <tr style=\"text-align: right;\">\n",
       "      <th></th>\n",
       "      <th>DataProjecao</th>\n",
       "      <th>PercAcertoModeloNovo</th>\n",
       "      <th>QuantidadeDadosTeste</th>\n",
       "    </tr>\n",
       "  </thead>\n",
       "  <tbody>\n",
       "    <tr>\n",
       "      <th>0</th>\n",
       "      <td>2017-10-20</td>\n",
       "      <td>0.894737</td>\n",
       "      <td>19</td>\n",
       "    </tr>\n",
       "    <tr>\n",
       "      <th>1</th>\n",
       "      <td>2017-10-27</td>\n",
       "      <td>0.666667</td>\n",
       "      <td>12</td>\n",
       "    </tr>\n",
       "    <tr>\n",
       "      <th>2</th>\n",
       "      <td>2017-11-17</td>\n",
       "      <td>1.000000</td>\n",
       "      <td>1</td>\n",
       "    </tr>\n",
       "    <tr>\n",
       "      <th>3</th>\n",
       "      <td>2017-11-24</td>\n",
       "      <td>1.000000</td>\n",
       "      <td>1</td>\n",
       "    </tr>\n",
       "    <tr>\n",
       "      <th>4</th>\n",
       "      <td>2017-12-15</td>\n",
       "      <td>1.000000</td>\n",
       "      <td>2</td>\n",
       "    </tr>\n",
       "    <tr>\n",
       "      <th>5</th>\n",
       "      <td>2017-12-29</td>\n",
       "      <td>1.000000</td>\n",
       "      <td>1</td>\n",
       "    </tr>\n",
       "    <tr>\n",
       "      <th>6</th>\n",
       "      <td>2018-01-05</td>\n",
       "      <td>1.000000</td>\n",
       "      <td>11</td>\n",
       "    </tr>\n",
       "    <tr>\n",
       "      <th>7</th>\n",
       "      <td>2018-01-12</td>\n",
       "      <td>0.750000</td>\n",
       "      <td>4</td>\n",
       "    </tr>\n",
       "    <tr>\n",
       "      <th>8</th>\n",
       "      <td>2018-01-26</td>\n",
       "      <td>0.500000</td>\n",
       "      <td>2</td>\n",
       "    </tr>\n",
       "    <tr>\n",
       "      <th>9</th>\n",
       "      <td>2018-03-09</td>\n",
       "      <td>0.200000</td>\n",
       "      <td>5</td>\n",
       "    </tr>\n",
       "    <tr>\n",
       "      <th>10</th>\n",
       "      <td>2018-03-16</td>\n",
       "      <td>0.333333</td>\n",
       "      <td>3</td>\n",
       "    </tr>\n",
       "    <tr>\n",
       "      <th>11</th>\n",
       "      <td>2018-08-17</td>\n",
       "      <td>1.000000</td>\n",
       "      <td>3</td>\n",
       "    </tr>\n",
       "    <tr>\n",
       "      <th>12</th>\n",
       "      <td>2018-08-24</td>\n",
       "      <td>0.800000</td>\n",
       "      <td>5</td>\n",
       "    </tr>\n",
       "    <tr>\n",
       "      <th>13</th>\n",
       "      <td>2018-08-31</td>\n",
       "      <td>0.600000</td>\n",
       "      <td>5</td>\n",
       "    </tr>\n",
       "    <tr>\n",
       "      <th>14</th>\n",
       "      <td>2018-09-07</td>\n",
       "      <td>0.000000</td>\n",
       "      <td>1</td>\n",
       "    </tr>\n",
       "    <tr>\n",
       "      <th>15</th>\n",
       "      <td>2018-09-21</td>\n",
       "      <td>0.000000</td>\n",
       "      <td>1</td>\n",
       "    </tr>\n",
       "    <tr>\n",
       "      <th>16</th>\n",
       "      <td>2018-09-28</td>\n",
       "      <td>0.000000</td>\n",
       "      <td>3</td>\n",
       "    </tr>\n",
       "    <tr>\n",
       "      <th>17</th>\n",
       "      <td>2018-10-05</td>\n",
       "      <td>0.000000</td>\n",
       "      <td>9</td>\n",
       "    </tr>\n",
       "    <tr>\n",
       "      <th>18</th>\n",
       "      <td>2018-10-12</td>\n",
       "      <td>0.100000</td>\n",
       "      <td>10</td>\n",
       "    </tr>\n",
       "    <tr>\n",
       "      <th>19</th>\n",
       "      <td>2018-10-19</td>\n",
       "      <td>0.083333</td>\n",
       "      <td>12</td>\n",
       "    </tr>\n",
       "    <tr>\n",
       "      <th>20</th>\n",
       "      <td>2018-10-26</td>\n",
       "      <td>0.076923</td>\n",
       "      <td>13</td>\n",
       "    </tr>\n",
       "    <tr>\n",
       "      <th>21</th>\n",
       "      <td>2018-11-02</td>\n",
       "      <td>1.000000</td>\n",
       "      <td>1</td>\n",
       "    </tr>\n",
       "    <tr>\n",
       "      <th>22</th>\n",
       "      <td>2018-11-09</td>\n",
       "      <td>0.200000</td>\n",
       "      <td>10</td>\n",
       "    </tr>\n",
       "    <tr>\n",
       "      <th>23</th>\n",
       "      <td>2018-11-16</td>\n",
       "      <td>0.250000</td>\n",
       "      <td>4</td>\n",
       "    </tr>\n",
       "    <tr>\n",
       "      <th>24</th>\n",
       "      <td>2018-11-23</td>\n",
       "      <td>0.666667</td>\n",
       "      <td>3</td>\n",
       "    </tr>\n",
       "    <tr>\n",
       "      <th>25</th>\n",
       "      <td>2018-11-30</td>\n",
       "      <td>0.300000</td>\n",
       "      <td>10</td>\n",
       "    </tr>\n",
       "    <tr>\n",
       "      <th>26</th>\n",
       "      <td>2018-12-07</td>\n",
       "      <td>0.181818</td>\n",
       "      <td>22</td>\n",
       "    </tr>\n",
       "    <tr>\n",
       "      <th>27</th>\n",
       "      <td>2018-12-14</td>\n",
       "      <td>0.250000</td>\n",
       "      <td>28</td>\n",
       "    </tr>\n",
       "    <tr>\n",
       "      <th>28</th>\n",
       "      <td>2018-12-21</td>\n",
       "      <td>0.384615</td>\n",
       "      <td>13</td>\n",
       "    </tr>\n",
       "    <tr>\n",
       "      <th>29</th>\n",
       "      <td>2018-12-28</td>\n",
       "      <td>0.500000</td>\n",
       "      <td>2</td>\n",
       "    </tr>\n",
       "    <tr>\n",
       "      <th>30</th>\n",
       "      <td>2019-01-04</td>\n",
       "      <td>0.285714</td>\n",
       "      <td>7</td>\n",
       "    </tr>\n",
       "    <tr>\n",
       "      <th>31</th>\n",
       "      <td>2019-01-11</td>\n",
       "      <td>0.888889</td>\n",
       "      <td>9</td>\n",
       "    </tr>\n",
       "    <tr>\n",
       "      <th>32</th>\n",
       "      <td>2019-01-18</td>\n",
       "      <td>0.400000</td>\n",
       "      <td>10</td>\n",
       "    </tr>\n",
       "    <tr>\n",
       "      <th>33</th>\n",
       "      <td>2019-01-25</td>\n",
       "      <td>0.900000</td>\n",
       "      <td>10</td>\n",
       "    </tr>\n",
       "    <tr>\n",
       "      <th>34</th>\n",
       "      <td>2019-02-01</td>\n",
       "      <td>0.250000</td>\n",
       "      <td>12</td>\n",
       "    </tr>\n",
       "    <tr>\n",
       "      <th>35</th>\n",
       "      <td>2019-02-08</td>\n",
       "      <td>0.250000</td>\n",
       "      <td>4</td>\n",
       "    </tr>\n",
       "    <tr>\n",
       "      <th>36</th>\n",
       "      <td>2019-03-01</td>\n",
       "      <td>0.333333</td>\n",
       "      <td>15</td>\n",
       "    </tr>\n",
       "    <tr>\n",
       "      <th>37</th>\n",
       "      <td>2019-03-08</td>\n",
       "      <td>0.250000</td>\n",
       "      <td>12</td>\n",
       "    </tr>\n",
       "    <tr>\n",
       "      <th>38</th>\n",
       "      <td>2019-03-15</td>\n",
       "      <td>0.800000</td>\n",
       "      <td>10</td>\n",
       "    </tr>\n",
       "    <tr>\n",
       "      <th>39</th>\n",
       "      <td>2019-03-22</td>\n",
       "      <td>0.800000</td>\n",
       "      <td>10</td>\n",
       "    </tr>\n",
       "    <tr>\n",
       "      <th>40</th>\n",
       "      <td>2019-04-05</td>\n",
       "      <td>0.333333</td>\n",
       "      <td>3</td>\n",
       "    </tr>\n",
       "  </tbody>\n",
       "</table>\n",
       "</div>"
      ],
      "text/plain": [
       "   DataProjecao  PercAcertoModeloNovo  QuantidadeDadosTeste\n",
       "0    2017-10-20              0.894737                    19\n",
       "1    2017-10-27              0.666667                    12\n",
       "2    2017-11-17              1.000000                     1\n",
       "3    2017-11-24              1.000000                     1\n",
       "4    2017-12-15              1.000000                     2\n",
       "5    2017-12-29              1.000000                     1\n",
       "6    2018-01-05              1.000000                    11\n",
       "7    2018-01-12              0.750000                     4\n",
       "8    2018-01-26              0.500000                     2\n",
       "9    2018-03-09              0.200000                     5\n",
       "10   2018-03-16              0.333333                     3\n",
       "11   2018-08-17              1.000000                     3\n",
       "12   2018-08-24              0.800000                     5\n",
       "13   2018-08-31              0.600000                     5\n",
       "14   2018-09-07              0.000000                     1\n",
       "15   2018-09-21              0.000000                     1\n",
       "16   2018-09-28              0.000000                     3\n",
       "17   2018-10-05              0.000000                     9\n",
       "18   2018-10-12              0.100000                    10\n",
       "19   2018-10-19              0.083333                    12\n",
       "20   2018-10-26              0.076923                    13\n",
       "21   2018-11-02              1.000000                     1\n",
       "22   2018-11-09              0.200000                    10\n",
       "23   2018-11-16              0.250000                     4\n",
       "24   2018-11-23              0.666667                     3\n",
       "25   2018-11-30              0.300000                    10\n",
       "26   2018-12-07              0.181818                    22\n",
       "27   2018-12-14              0.250000                    28\n",
       "28   2018-12-21              0.384615                    13\n",
       "29   2018-12-28              0.500000                     2\n",
       "30   2019-01-04              0.285714                     7\n",
       "31   2019-01-11              0.888889                     9\n",
       "32   2019-01-18              0.400000                    10\n",
       "33   2019-01-25              0.900000                    10\n",
       "34   2019-02-01              0.250000                    12\n",
       "35   2019-02-08              0.250000                     4\n",
       "36   2019-03-01              0.333333                    15\n",
       "37   2019-03-08              0.250000                    12\n",
       "38   2019-03-15              0.800000                    10\n",
       "39   2019-03-22              0.800000                    10\n",
       "40   2019-04-05              0.333333                     3"
      ]
     },
     "execution_count": 633,
     "metadata": {},
     "output_type": "execute_result"
    }
   ],
   "source": [
    "mask_melhor_modelo_novo = dados_resultado[\"PercAcertoModeloNovo\"] >= 0.5\n",
    "\n",
    "print(\"Modelo novo foi melhor em\", len(dados_resultado[mask_melhor_modelo_novo]), \" de\", len(dados_resultado))\n",
    "\n",
    "dados_resultado"
   ]
  },
  {
   "cell_type": "code",
   "execution_count": 569,
   "metadata": {},
   "outputs": [
    {
     "data": {
      "text/html": [
       "<div>\n",
       "<style scoped>\n",
       "    .dataframe tbody tr th:only-of-type {\n",
       "        vertical-align: middle;\n",
       "    }\n",
       "\n",
       "    .dataframe tbody tr th {\n",
       "        vertical-align: top;\n",
       "    }\n",
       "\n",
       "    .dataframe thead th {\n",
       "        text-align: right;\n",
       "    }\n",
       "</style>\n",
       "<table border=\"1\" class=\"dataframe\">\n",
       "  <thead>\n",
       "    <tr style=\"text-align: right;\">\n",
       "      <th></th>\n",
       "      <th>CodigoReceita</th>\n",
       "      <th>Volume</th>\n",
       "      <th>TipoLancamento</th>\n",
       "      <th>DataEmissaoNotaFiscal</th>\n",
       "      <th>CodigoCliente</th>\n",
       "      <th>CodigoMotorista</th>\n",
       "      <th>TempoPermanenciaObra</th>\n",
       "      <th>ConsumoTotal</th>\n",
       "      <th>Idade</th>\n",
       "      <th>TipoTraco</th>\n",
       "      <th>CodigoAglomerante</th>\n",
       "      <th>FCK</th>\n",
       "      <th>Rompimento7Dias</th>\n",
       "      <th>Rompimento28Dias</th>\n",
       "      <th>ConsumoPorM3</th>\n",
       "      <th>DesvioAplicado</th>\n",
       "      <th>ResultadoProjetado</th>\n",
       "      <th>PercentualCrescimentoReal</th>\n",
       "      <th>PercentualCrescimentoProjetado</th>\n",
       "      <th>RelacaoAguaCimento</th>\n",
       "      <th>DataProjecao</th>\n",
       "    </tr>\n",
       "  </thead>\n",
       "  <tbody>\n",
       "    <tr>\n",
       "      <th>43787</th>\n",
       "      <td>37839051</td>\n",
       "      <td>8.0</td>\n",
       "      <td>1</td>\n",
       "      <td>2018-11-30 08:19:01.823</td>\n",
       "      <td>8809051</td>\n",
       "      <td>66079</td>\n",
       "      <td>00:25:00</td>\n",
       "      <td>2.720.000</td>\n",
       "      <td>28</td>\n",
       "      <td>0</td>\n",
       "      <td>75051.0</td>\n",
       "      <td>30.0</td>\n",
       "      <td>32.61</td>\n",
       "      <td>37.54</td>\n",
       "      <td>340.0</td>\n",
       "      <td>6.0</td>\n",
       "      <td>40.777279</td>\n",
       "      <td>15.118062</td>\n",
       "      <td>25.045320</td>\n",
       "      <td>0.591176</td>\n",
       "      <td>2018-11-30</td>\n",
       "    </tr>\n",
       "    <tr>\n",
       "      <th>43933</th>\n",
       "      <td>37949051</td>\n",
       "      <td>7.0</td>\n",
       "      <td>1</td>\n",
       "      <td>2018-11-30 11:48:55.177</td>\n",
       "      <td>680561998</td>\n",
       "      <td>94079</td>\n",
       "      <td>00:45:00</td>\n",
       "      <td>2.737.000</td>\n",
       "      <td>28</td>\n",
       "      <td>1</td>\n",
       "      <td>75051.0</td>\n",
       "      <td>25.0</td>\n",
       "      <td>30.72</td>\n",
       "      <td>37.04</td>\n",
       "      <td>391.0</td>\n",
       "      <td>7.0</td>\n",
       "      <td>40.291244</td>\n",
       "      <td>20.572917</td>\n",
       "      <td>31.156395</td>\n",
       "      <td>0.537084</td>\n",
       "      <td>2018-11-30</td>\n",
       "    </tr>\n",
       "    <tr>\n",
       "      <th>43788</th>\n",
       "      <td>37839051</td>\n",
       "      <td>8.0</td>\n",
       "      <td>1</td>\n",
       "      <td>2018-11-30 10:38:18.167</td>\n",
       "      <td>8809051</td>\n",
       "      <td>105079</td>\n",
       "      <td>00:23:00</td>\n",
       "      <td>2.720.000</td>\n",
       "      <td>28</td>\n",
       "      <td>0</td>\n",
       "      <td>75051.0</td>\n",
       "      <td>30.0</td>\n",
       "      <td>32.56</td>\n",
       "      <td>39.44</td>\n",
       "      <td>340.0</td>\n",
       "      <td>6.0</td>\n",
       "      <td>40.723699</td>\n",
       "      <td>21.130221</td>\n",
       "      <td>25.072787</td>\n",
       "      <td>0.597059</td>\n",
       "      <td>2018-11-30</td>\n",
       "    </tr>\n",
       "    <tr>\n",
       "      <th>42533</th>\n",
       "      <td>37260051</td>\n",
       "      <td>5.0</td>\n",
       "      <td>1</td>\n",
       "      <td>2018-11-26 09:50:31.987</td>\n",
       "      <td>77776998</td>\n",
       "      <td>911051</td>\n",
       "      <td>00:25:00</td>\n",
       "      <td>1.375.000</td>\n",
       "      <td>28</td>\n",
       "      <td>0</td>\n",
       "      <td>75051.0</td>\n",
       "      <td>25.0</td>\n",
       "      <td>29.05</td>\n",
       "      <td>38.75</td>\n",
       "      <td>275.0</td>\n",
       "      <td>6.0</td>\n",
       "      <td>36.926782</td>\n",
       "      <td>33.390706</td>\n",
       "      <td>27.114569</td>\n",
       "      <td>0.509091</td>\n",
       "      <td>2018-11-30</td>\n",
       "    </tr>\n",
       "    <tr>\n",
       "      <th>42532</th>\n",
       "      <td>37260051</td>\n",
       "      <td>6.0</td>\n",
       "      <td>1</td>\n",
       "      <td>2018-11-26 09:12:47.273</td>\n",
       "      <td>77776998</td>\n",
       "      <td>727051</td>\n",
       "      <td>00:40:00</td>\n",
       "      <td>1.650.000</td>\n",
       "      <td>28</td>\n",
       "      <td>0</td>\n",
       "      <td>75051.0</td>\n",
       "      <td>25.0</td>\n",
       "      <td>24.43</td>\n",
       "      <td>34.70</td>\n",
       "      <td>275.0</td>\n",
       "      <td>6.0</td>\n",
       "      <td>31.811517</td>\n",
       "      <td>42.038477</td>\n",
       "      <td>30.214967</td>\n",
       "      <td>0.509091</td>\n",
       "      <td>2018-11-30</td>\n",
       "    </tr>\n",
       "  </tbody>\n",
       "</table>\n",
       "</div>"
      ],
      "text/plain": [
       "       CodigoReceita  Volume  TipoLancamento    DataEmissaoNotaFiscal  \\\n",
       "43787       37839051     8.0               1  2018-11-30 08:19:01.823   \n",
       "43933       37949051     7.0               1  2018-11-30 11:48:55.177   \n",
       "43788       37839051     8.0               1  2018-11-30 10:38:18.167   \n",
       "42533       37260051     5.0               1  2018-11-26 09:50:31.987   \n",
       "42532       37260051     6.0               1  2018-11-26 09:12:47.273   \n",
       "\n",
       "       CodigoCliente  CodigoMotorista TempoPermanenciaObra ConsumoTotal  \\\n",
       "43787        8809051            66079             00:25:00    2.720.000   \n",
       "43933      680561998            94079             00:45:00    2.737.000   \n",
       "43788        8809051           105079             00:23:00    2.720.000   \n",
       "42533       77776998           911051             00:25:00    1.375.000   \n",
       "42532       77776998           727051             00:40:00    1.650.000   \n",
       "\n",
       "       Idade  TipoTraco  CodigoAglomerante   FCK  Rompimento7Dias  \\\n",
       "43787     28          0            75051.0  30.0            32.61   \n",
       "43933     28          1            75051.0  25.0            30.72   \n",
       "43788     28          0            75051.0  30.0            32.56   \n",
       "42533     28          0            75051.0  25.0            29.05   \n",
       "42532     28          0            75051.0  25.0            24.43   \n",
       "\n",
       "       Rompimento28Dias  ConsumoPorM3  DesvioAplicado  ResultadoProjetado  \\\n",
       "43787             37.54         340.0             6.0           40.777279   \n",
       "43933             37.04         391.0             7.0           40.291244   \n",
       "43788             39.44         340.0             6.0           40.723699   \n",
       "42533             38.75         275.0             6.0           36.926782   \n",
       "42532             34.70         275.0             6.0           31.811517   \n",
       "\n",
       "       PercentualCrescimentoReal  PercentualCrescimentoProjetado  \\\n",
       "43787                  15.118062                       25.045320   \n",
       "43933                  20.572917                       31.156395   \n",
       "43788                  21.130221                       25.072787   \n",
       "42533                  33.390706                       27.114569   \n",
       "42532                  42.038477                       30.214967   \n",
       "\n",
       "       RelacaoAguaCimento DataProjecao  \n",
       "43787            0.591176   2018-11-30  \n",
       "43933            0.537084   2018-11-30  \n",
       "43788            0.597059   2018-11-30  \n",
       "42533            0.509091   2018-11-30  \n",
       "42532            0.509091   2018-11-30  "
      ]
     },
     "execution_count": 569,
     "metadata": {},
     "output_type": "execute_result"
    }
   ],
   "source": [
    "da_esp = da[da[\"DataProjecao\"] == dt.date(2018, 11, 30)]\n",
    "da_esp.head()"
   ]
  },
  {
   "cell_type": "code",
   "execution_count": 555,
   "metadata": {},
   "outputs": [
    {
     "data": {
      "text/plain": [
       "25.0    220\n",
       "30.0    157\n",
       "20.0     47\n",
       "35.0     34\n",
       "15.0      8\n",
       "Name: FCK, dtype: int64"
      ]
     },
     "execution_count": 555,
     "metadata": {},
     "output_type": "execute_result"
    }
   ],
   "source": [
    "da[\"FCK\"].value_counts()"
   ]
  },
  {
   "cell_type": "code",
   "execution_count": 556,
   "metadata": {},
   "outputs": [
    {
     "data": {
      "text/plain": [
       "0    361\n",
       "1    105\n",
       "Name: TipoTraco, dtype: int64"
      ]
     },
     "execution_count": 556,
     "metadata": {},
     "output_type": "execute_result"
    }
   ],
   "source": [
    "da[\"TipoTraco\"].value_counts()"
   ]
  },
  {
   "cell_type": "code",
   "execution_count": 557,
   "metadata": {},
   "outputs": [
    {
     "data": {
      "text/html": [
       "<div>\n",
       "<style scoped>\n",
       "    .dataframe tbody tr th:only-of-type {\n",
       "        vertical-align: middle;\n",
       "    }\n",
       "\n",
       "    .dataframe tbody tr th {\n",
       "        vertical-align: top;\n",
       "    }\n",
       "\n",
       "    .dataframe thead th {\n",
       "        text-align: right;\n",
       "    }\n",
       "</style>\n",
       "<table border=\"1\" class=\"dataframe\">\n",
       "  <thead>\n",
       "    <tr style=\"text-align: right;\">\n",
       "      <th></th>\n",
       "      <th>CodigoReceita</th>\n",
       "      <th>Volume</th>\n",
       "      <th>TipoLancamento</th>\n",
       "      <th>DataEmissaoNotaFiscal</th>\n",
       "      <th>CodigoCliente</th>\n",
       "      <th>CodigoMotorista</th>\n",
       "      <th>TempoPermanenciaObra</th>\n",
       "      <th>ConsumoTotal</th>\n",
       "      <th>Idade</th>\n",
       "      <th>TipoTraco</th>\n",
       "      <th>...</th>\n",
       "      <th>FCK</th>\n",
       "      <th>Rompimento7Dias</th>\n",
       "      <th>Rompimento28Dias</th>\n",
       "      <th>ConsumoPorM3</th>\n",
       "      <th>DesvioAplicado</th>\n",
       "      <th>ResultadoProjetado</th>\n",
       "      <th>PercentualCrescimentoReal</th>\n",
       "      <th>PercentualCrescimentoProjetado</th>\n",
       "      <th>RelacaoAguaCimento</th>\n",
       "      <th>DataProjecao</th>\n",
       "    </tr>\n",
       "  </thead>\n",
       "  <tbody>\n",
       "    <tr>\n",
       "      <th>39423</th>\n",
       "      <td>34644051</td>\n",
       "      <td>7.0</td>\n",
       "      <td>0</td>\n",
       "      <td>2017-07-04 12:47:59.280</td>\n",
       "      <td>11129051</td>\n",
       "      <td>54079</td>\n",
       "      <td>01:26:00</td>\n",
       "      <td>2.044.000</td>\n",
       "      <td>28</td>\n",
       "      <td>0</td>\n",
       "      <td>...</td>\n",
       "      <td>25.0</td>\n",
       "      <td>26.57</td>\n",
       "      <td>36.56</td>\n",
       "      <td>292.0</td>\n",
       "      <td>6.0</td>\n",
       "      <td>31.414963</td>\n",
       "      <td>37.598796</td>\n",
       "      <td>18.234713</td>\n",
       "      <td>0.537671</td>\n",
       "      <td>2017-07-07</td>\n",
       "    </tr>\n",
       "    <tr>\n",
       "      <th>39427</th>\n",
       "      <td>34650051</td>\n",
       "      <td>8.0</td>\n",
       "      <td>1</td>\n",
       "      <td>2017-07-05 08:12:15.767</td>\n",
       "      <td>154417998</td>\n",
       "      <td>66079</td>\n",
       "      <td>00:45:00</td>\n",
       "      <td>2.312.000</td>\n",
       "      <td>28</td>\n",
       "      <td>0</td>\n",
       "      <td>...</td>\n",
       "      <td>25.0</td>\n",
       "      <td>22.89</td>\n",
       "      <td>26.77</td>\n",
       "      <td>289.0</td>\n",
       "      <td>6.0</td>\n",
       "      <td>28.118389</td>\n",
       "      <td>16.950633</td>\n",
       "      <td>22.841366</td>\n",
       "      <td>0.570934</td>\n",
       "      <td>2017-07-07</td>\n",
       "    </tr>\n",
       "    <tr>\n",
       "      <th>39429</th>\n",
       "      <td>34650051</td>\n",
       "      <td>8.0</td>\n",
       "      <td>1</td>\n",
       "      <td>2017-07-05 10:40:02.847</td>\n",
       "      <td>154417998</td>\n",
       "      <td>173051</td>\n",
       "      <td>01:20:00</td>\n",
       "      <td>2.312.000</td>\n",
       "      <td>28</td>\n",
       "      <td>0</td>\n",
       "      <td>...</td>\n",
       "      <td>25.0</td>\n",
       "      <td>17.81</td>\n",
       "      <td>26.67</td>\n",
       "      <td>289.0</td>\n",
       "      <td>6.0</td>\n",
       "      <td>23.259043</td>\n",
       "      <td>49.747333</td>\n",
       "      <td>30.595413</td>\n",
       "      <td>0.570934</td>\n",
       "      <td>2017-07-07</td>\n",
       "    </tr>\n",
       "    <tr>\n",
       "      <th>39428</th>\n",
       "      <td>34650051</td>\n",
       "      <td>8.0</td>\n",
       "      <td>1</td>\n",
       "      <td>2017-07-05 10:18:18.700</td>\n",
       "      <td>154417998</td>\n",
       "      <td>226051</td>\n",
       "      <td>00:28:00</td>\n",
       "      <td>2.312.000</td>\n",
       "      <td>28</td>\n",
       "      <td>0</td>\n",
       "      <td>...</td>\n",
       "      <td>25.0</td>\n",
       "      <td>16.88</td>\n",
       "      <td>24.99</td>\n",
       "      <td>289.0</td>\n",
       "      <td>6.0</td>\n",
       "      <td>22.324239</td>\n",
       "      <td>48.045024</td>\n",
       "      <td>32.252599</td>\n",
       "      <td>0.570934</td>\n",
       "      <td>2017-07-07</td>\n",
       "    </tr>\n",
       "    <tr>\n",
       "      <th>40103</th>\n",
       "      <td>34905051</td>\n",
       "      <td>8.0</td>\n",
       "      <td>0</td>\n",
       "      <td>2017-08-03 14:54:29.060</td>\n",
       "      <td>200789998</td>\n",
       "      <td>517051</td>\n",
       "      <td>02:18:00</td>\n",
       "      <td>2.224.000</td>\n",
       "      <td>28</td>\n",
       "      <td>0</td>\n",
       "      <td>...</td>\n",
       "      <td>25.0</td>\n",
       "      <td>22.14</td>\n",
       "      <td>29.67</td>\n",
       "      <td>278.0</td>\n",
       "      <td>6.0</td>\n",
       "      <td>27.424990</td>\n",
       "      <td>34.010840</td>\n",
       "      <td>23.870775</td>\n",
       "      <td>0.535971</td>\n",
       "      <td>2017-08-04</td>\n",
       "    </tr>\n",
       "  </tbody>\n",
       "</table>\n",
       "<p>5 rows × 21 columns</p>\n",
       "</div>"
      ],
      "text/plain": [
       "       CodigoReceita  Volume  TipoLancamento    DataEmissaoNotaFiscal  \\\n",
       "39423       34644051     7.0               0  2017-07-04 12:47:59.280   \n",
       "39427       34650051     8.0               1  2017-07-05 08:12:15.767   \n",
       "39429       34650051     8.0               1  2017-07-05 10:40:02.847   \n",
       "39428       34650051     8.0               1  2017-07-05 10:18:18.700   \n",
       "40103       34905051     8.0               0  2017-08-03 14:54:29.060   \n",
       "\n",
       "       CodigoCliente  CodigoMotorista TempoPermanenciaObra ConsumoTotal  \\\n",
       "39423       11129051            54079             01:26:00    2.044.000   \n",
       "39427      154417998            66079             00:45:00    2.312.000   \n",
       "39429      154417998           173051             01:20:00    2.312.000   \n",
       "39428      154417998           226051             00:28:00    2.312.000   \n",
       "40103      200789998           517051             02:18:00    2.224.000   \n",
       "\n",
       "       Idade  TipoTraco  ...   FCK  Rompimento7Dias  Rompimento28Dias  \\\n",
       "39423     28          0  ...  25.0            26.57             36.56   \n",
       "39427     28          0  ...  25.0            22.89             26.77   \n",
       "39429     28          0  ...  25.0            17.81             26.67   \n",
       "39428     28          0  ...  25.0            16.88             24.99   \n",
       "40103     28          0  ...  25.0            22.14             29.67   \n",
       "\n",
       "       ConsumoPorM3  DesvioAplicado  ResultadoProjetado  \\\n",
       "39423         292.0             6.0           31.414963   \n",
       "39427         289.0             6.0           28.118389   \n",
       "39429         289.0             6.0           23.259043   \n",
       "39428         289.0             6.0           22.324239   \n",
       "40103         278.0             6.0           27.424990   \n",
       "\n",
       "       PercentualCrescimentoReal  PercentualCrescimentoProjetado  \\\n",
       "39423                  37.598796                       18.234713   \n",
       "39427                  16.950633                       22.841366   \n",
       "39429                  49.747333                       30.595413   \n",
       "39428                  48.045024                       32.252599   \n",
       "40103                  34.010840                       23.870775   \n",
       "\n",
       "       RelacaoAguaCimento  DataProjecao  \n",
       "39423            0.537671    2017-07-07  \n",
       "39427            0.570934    2017-07-07  \n",
       "39429            0.570934    2017-07-07  \n",
       "39428            0.570934    2017-07-07  \n",
       "40103            0.535971    2017-08-04  \n",
       "\n",
       "[5 rows x 21 columns]"
      ]
     },
     "execution_count": 557,
     "metadata": {},
     "output_type": "execute_result"
    }
   ],
   "source": [
    "mask_fck = da[\"FCK\"] == 25\n",
    "mask_tipo_traco = da[\"TipoTraco\"] == 0\n",
    "\n",
    "da_fck_esp = da[mask_fck & mask_tipo_traco]\n",
    "da_fck_esp.head()"
   ]
  },
  {
   "cell_type": "code",
   "execution_count": 558,
   "metadata": {},
   "outputs": [
    {
     "data": {
      "text/html": [
       "<div>\n",
       "<style scoped>\n",
       "    .dataframe tbody tr th:only-of-type {\n",
       "        vertical-align: middle;\n",
       "    }\n",
       "\n",
       "    .dataframe tbody tr th {\n",
       "        vertical-align: top;\n",
       "    }\n",
       "\n",
       "    .dataframe thead th {\n",
       "        text-align: right;\n",
       "    }\n",
       "</style>\n",
       "<table border=\"1\" class=\"dataframe\">\n",
       "  <thead>\n",
       "    <tr style=\"text-align: right;\">\n",
       "      <th></th>\n",
       "      <th>CodigoReceita</th>\n",
       "      <th>Volume</th>\n",
       "      <th>TipoLancamento</th>\n",
       "      <th>CodigoCliente</th>\n",
       "      <th>CodigoMotorista</th>\n",
       "      <th>Idade</th>\n",
       "      <th>TipoTraco</th>\n",
       "      <th>CodigoAglomerante</th>\n",
       "      <th>FCK</th>\n",
       "      <th>Rompimento7Dias</th>\n",
       "      <th>Rompimento28Dias</th>\n",
       "      <th>ConsumoPorM3</th>\n",
       "      <th>DesvioAplicado</th>\n",
       "      <th>ResultadoProjetado</th>\n",
       "      <th>PercentualCrescimentoReal</th>\n",
       "      <th>PercentualCrescimentoProjetado</th>\n",
       "      <th>RelacaoAguaCimento</th>\n",
       "    </tr>\n",
       "  </thead>\n",
       "  <tbody>\n",
       "    <tr>\n",
       "      <th>count</th>\n",
       "      <td>1.830000e+02</td>\n",
       "      <td>183.000000</td>\n",
       "      <td>183.000000</td>\n",
       "      <td>1.830000e+02</td>\n",
       "      <td>183.000000</td>\n",
       "      <td>183.0</td>\n",
       "      <td>183.0</td>\n",
       "      <td>183.0</td>\n",
       "      <td>183.0</td>\n",
       "      <td>183.000000</td>\n",
       "      <td>183.000000</td>\n",
       "      <td>183.000000</td>\n",
       "      <td>183.000000</td>\n",
       "      <td>183.000000</td>\n",
       "      <td>183.000000</td>\n",
       "      <td>183.000000</td>\n",
       "      <td>183.000000</td>\n",
       "    </tr>\n",
       "    <tr>\n",
       "      <th>mean</th>\n",
       "      <td>3.628507e+07</td>\n",
       "      <td>7.207650</td>\n",
       "      <td>0.726776</td>\n",
       "      <td>1.702386e+08</td>\n",
       "      <td>375547.595628</td>\n",
       "      <td>28.0</td>\n",
       "      <td>0.0</td>\n",
       "      <td>75051.0</td>\n",
       "      <td>25.0</td>\n",
       "      <td>23.643443</td>\n",
       "      <td>30.944153</td>\n",
       "      <td>266.983607</td>\n",
       "      <td>5.759563</td>\n",
       "      <td>31.087012</td>\n",
       "      <td>31.262927</td>\n",
       "      <td>31.844015</td>\n",
       "      <td>0.682960</td>\n",
       "    </tr>\n",
       "    <tr>\n",
       "      <th>std</th>\n",
       "      <td>1.272439e+06</td>\n",
       "      <td>1.112144</td>\n",
       "      <td>0.446837</td>\n",
       "      <td>2.461529e+08</td>\n",
       "      <td>290484.422966</td>\n",
       "      <td>0.0</td>\n",
       "      <td>0.0</td>\n",
       "      <td>0.0</td>\n",
       "      <td>0.0</td>\n",
       "      <td>3.249365</td>\n",
       "      <td>4.217848</td>\n",
       "      <td>25.193422</td>\n",
       "      <td>0.818471</td>\n",
       "      <td>4.089483</td>\n",
       "      <td>10.190563</td>\n",
       "      <td>8.899881</td>\n",
       "      <td>0.087438</td>\n",
       "    </tr>\n",
       "    <tr>\n",
       "      <th>min</th>\n",
       "      <td>3.353505e+07</td>\n",
       "      <td>4.000000</td>\n",
       "      <td>0.000000</td>\n",
       "      <td>5.000510e+05</td>\n",
       "      <td>12080.000000</td>\n",
       "      <td>28.0</td>\n",
       "      <td>0.0</td>\n",
       "      <td>75051.0</td>\n",
       "      <td>25.0</td>\n",
       "      <td>16.140000</td>\n",
       "      <td>21.270000</td>\n",
       "      <td>221.000000</td>\n",
       "      <td>4.000000</td>\n",
       "      <td>19.576128</td>\n",
       "      <td>7.852292</td>\n",
       "      <td>10.423702</td>\n",
       "      <td>0.500000</td>\n",
       "    </tr>\n",
       "    <tr>\n",
       "      <th>25%</th>\n",
       "      <td>3.490705e+07</td>\n",
       "      <td>7.000000</td>\n",
       "      <td>0.000000</td>\n",
       "      <td>1.112905e+07</td>\n",
       "      <td>89579.000000</td>\n",
       "      <td>28.0</td>\n",
       "      <td>0.0</td>\n",
       "      <td>75051.0</td>\n",
       "      <td>25.0</td>\n",
       "      <td>21.385000</td>\n",
       "      <td>27.955000</td>\n",
       "      <td>253.000000</td>\n",
       "      <td>5.000000</td>\n",
       "      <td>28.715980</td>\n",
       "      <td>24.062048</td>\n",
       "      <td>26.007245</td>\n",
       "      <td>0.632503</td>\n",
       "    </tr>\n",
       "    <tr>\n",
       "      <th>50%</th>\n",
       "      <td>3.726005e+07</td>\n",
       "      <td>8.000000</td>\n",
       "      <td>1.000000</td>\n",
       "      <td>8.034500e+07</td>\n",
       "      <td>340051.000000</td>\n",
       "      <td>28.0</td>\n",
       "      <td>0.0</td>\n",
       "      <td>75051.0</td>\n",
       "      <td>25.0</td>\n",
       "      <td>23.260000</td>\n",
       "      <td>30.510000</td>\n",
       "      <td>268.000000</td>\n",
       "      <td>6.000000</td>\n",
       "      <td>31.004917</td>\n",
       "      <td>30.858086</td>\n",
       "      <td>32.372283</td>\n",
       "      <td>0.690299</td>\n",
       "    </tr>\n",
       "    <tr>\n",
       "      <th>75%</th>\n",
       "      <td>3.726005e+07</td>\n",
       "      <td>8.000000</td>\n",
       "      <td>1.000000</td>\n",
       "      <td>2.256440e+08</td>\n",
       "      <td>704051.000000</td>\n",
       "      <td>28.0</td>\n",
       "      <td>0.0</td>\n",
       "      <td>75051.0</td>\n",
       "      <td>25.0</td>\n",
       "      <td>25.520000</td>\n",
       "      <td>33.830000</td>\n",
       "      <td>278.000000</td>\n",
       "      <td>6.000000</td>\n",
       "      <td>33.673810</td>\n",
       "      <td>37.717265</td>\n",
       "      <td>36.702498</td>\n",
       "      <td>0.733947</td>\n",
       "    </tr>\n",
       "    <tr>\n",
       "      <th>max</th>\n",
       "      <td>3.780305e+07</td>\n",
       "      <td>8.000000</td>\n",
       "      <td>1.000000</td>\n",
       "      <td>9.885510e+08</td>\n",
       "      <td>951051.000000</td>\n",
       "      <td>28.0</td>\n",
       "      <td>0.0</td>\n",
       "      <td>75051.0</td>\n",
       "      <td>25.0</td>\n",
       "      <td>35.530000</td>\n",
       "      <td>43.190000</td>\n",
       "      <td>324.000000</td>\n",
       "      <td>8.000000</td>\n",
       "      <td>43.426797</td>\n",
       "      <td>54.097351</td>\n",
       "      <td>50.458068</td>\n",
       "      <td>0.852018</td>\n",
       "    </tr>\n",
       "  </tbody>\n",
       "</table>\n",
       "</div>"
      ],
      "text/plain": [
       "       CodigoReceita      Volume  TipoLancamento  CodigoCliente  \\\n",
       "count   1.830000e+02  183.000000      183.000000   1.830000e+02   \n",
       "mean    3.628507e+07    7.207650        0.726776   1.702386e+08   \n",
       "std     1.272439e+06    1.112144        0.446837   2.461529e+08   \n",
       "min     3.353505e+07    4.000000        0.000000   5.000510e+05   \n",
       "25%     3.490705e+07    7.000000        0.000000   1.112905e+07   \n",
       "50%     3.726005e+07    8.000000        1.000000   8.034500e+07   \n",
       "75%     3.726005e+07    8.000000        1.000000   2.256440e+08   \n",
       "max     3.780305e+07    8.000000        1.000000   9.885510e+08   \n",
       "\n",
       "       CodigoMotorista  Idade  TipoTraco  CodigoAglomerante    FCK  \\\n",
       "count       183.000000  183.0      183.0              183.0  183.0   \n",
       "mean     375547.595628   28.0        0.0            75051.0   25.0   \n",
       "std      290484.422966    0.0        0.0                0.0    0.0   \n",
       "min       12080.000000   28.0        0.0            75051.0   25.0   \n",
       "25%       89579.000000   28.0        0.0            75051.0   25.0   \n",
       "50%      340051.000000   28.0        0.0            75051.0   25.0   \n",
       "75%      704051.000000   28.0        0.0            75051.0   25.0   \n",
       "max      951051.000000   28.0        0.0            75051.0   25.0   \n",
       "\n",
       "       Rompimento7Dias  Rompimento28Dias  ConsumoPorM3  DesvioAplicado  \\\n",
       "count       183.000000        183.000000    183.000000      183.000000   \n",
       "mean         23.643443         30.944153    266.983607        5.759563   \n",
       "std           3.249365          4.217848     25.193422        0.818471   \n",
       "min          16.140000         21.270000    221.000000        4.000000   \n",
       "25%          21.385000         27.955000    253.000000        5.000000   \n",
       "50%          23.260000         30.510000    268.000000        6.000000   \n",
       "75%          25.520000         33.830000    278.000000        6.000000   \n",
       "max          35.530000         43.190000    324.000000        8.000000   \n",
       "\n",
       "       ResultadoProjetado  PercentualCrescimentoReal  \\\n",
       "count          183.000000                 183.000000   \n",
       "mean            31.087012                  31.262927   \n",
       "std              4.089483                  10.190563   \n",
       "min             19.576128                   7.852292   \n",
       "25%             28.715980                  24.062048   \n",
       "50%             31.004917                  30.858086   \n",
       "75%             33.673810                  37.717265   \n",
       "max             43.426797                  54.097351   \n",
       "\n",
       "       PercentualCrescimentoProjetado  RelacaoAguaCimento  \n",
       "count                      183.000000          183.000000  \n",
       "mean                        31.844015            0.682960  \n",
       "std                          8.899881            0.087438  \n",
       "min                         10.423702            0.500000  \n",
       "25%                         26.007245            0.632503  \n",
       "50%                         32.372283            0.690299  \n",
       "75%                         36.702498            0.733947  \n",
       "max                         50.458068            0.852018  "
      ]
     },
     "execution_count": 558,
     "metadata": {},
     "output_type": "execute_result"
    }
   ],
   "source": [
    "da_fck_esp.describe()"
   ]
  },
  {
   "cell_type": "code",
   "execution_count": null,
   "metadata": {},
   "outputs": [],
   "source": []
  },
  {
   "cell_type": "code",
   "execution_count": 548,
   "metadata": {},
   "outputs": [
    {
     "data": {
      "application/vnd.plotly.v1+json": {
       "config": {
        "plotlyServerURL": "https://plot.ly"
       },
       "data": [
        {
         "hovertemplate": "DataProjecao=%{x}<br>Rompimento28Dias=%{y}<extra></extra>",
         "legendgroup": "",
         "marker": {
          "color": "#636efa",
          "symbol": "circle"
         },
         "mode": "markers",
         "name": "",
         "orientation": "v",
         "showlegend": false,
         "type": "scatter",
         "x": [
          "2017-07-07",
          "2017-07-07",
          "2017-07-07",
          "2017-07-07",
          "2017-08-04",
          "2017-08-11",
          "2017-10-20",
          "2017-10-20",
          "2017-10-20",
          "2017-10-20",
          "2017-10-20",
          "2017-10-20",
          "2017-10-20",
          "2017-10-20",
          "2017-10-20",
          "2017-10-27",
          "2017-10-27",
          "2017-10-27",
          "2017-10-27",
          "2017-11-03",
          "2017-11-03",
          "2017-11-03",
          "2017-11-03",
          "2017-11-10",
          "2017-11-10",
          "2017-11-10",
          "2017-11-10",
          "2017-11-17",
          "2017-11-24",
          "2017-12-15",
          "2017-12-15",
          "2018-01-12",
          "2018-01-12",
          "2018-01-12",
          "2018-01-12",
          "2018-03-09",
          "2018-03-09",
          "2018-03-09",
          "2018-03-09",
          "2018-03-09",
          "2018-03-16",
          "2018-03-16",
          "2018-03-16",
          "2018-07-06",
          "2018-07-06",
          "2018-07-13",
          "2018-07-13",
          "2018-07-20",
          "2018-07-20",
          "2018-08-10",
          "2018-08-10",
          "2018-08-10",
          "2018-09-28",
          "2018-09-28",
          "2018-09-28",
          "2018-10-05",
          "2018-10-05",
          "2018-10-05",
          "2018-10-05",
          "2018-10-12",
          "2018-10-12",
          "2018-10-19",
          "2018-10-19",
          "2018-10-19",
          "2018-10-19",
          "2018-10-19",
          "2018-10-19",
          "2018-10-26",
          "2018-10-26",
          "2018-10-26",
          "2018-10-26",
          "2018-10-26",
          "2018-10-26",
          "2018-10-26",
          "2018-10-26",
          "2018-10-26",
          "2018-11-02",
          "2018-11-09",
          "2018-11-09",
          "2018-11-09",
          "2018-11-09",
          "2018-11-09",
          "2018-11-16",
          "2018-11-16",
          "2018-11-23",
          "2018-11-23",
          "2018-11-23",
          "2018-11-30",
          "2018-11-30",
          "2018-11-30",
          "2018-11-30",
          "2018-11-30",
          "2018-11-30",
          "2018-12-07",
          "2018-12-07",
          "2018-12-07",
          "2018-12-07",
          "2018-12-07",
          "2018-12-07",
          "2018-12-07",
          "2018-12-07",
          "2018-12-07",
          "2018-12-07",
          "2018-12-07",
          "2018-12-07",
          "2018-12-07",
          "2018-12-07",
          "2018-12-07",
          "2018-12-07",
          "2018-12-07",
          "2018-12-07",
          "2018-12-07",
          "2018-12-07",
          "2018-12-07",
          "2018-12-07",
          "2018-12-14",
          "2018-12-14",
          "2018-12-14",
          "2018-12-14",
          "2018-12-14",
          "2018-12-21",
          "2018-12-21",
          "2018-12-21",
          "2018-12-21",
          "2018-12-21",
          "2018-12-21",
          "2018-12-28",
          "2019-01-04",
          "2019-01-11",
          "2019-01-11",
          "2019-01-11",
          "2019-01-18",
          "2019-01-18",
          "2019-01-18",
          "2019-01-25",
          "2019-01-25",
          "2019-01-25",
          "2019-01-25",
          "2019-01-25",
          "2019-01-25",
          "2019-01-25",
          "2019-01-25",
          "2019-01-25",
          "2019-02-01",
          "2019-02-01",
          "2019-02-01",
          "2019-02-01",
          "2019-02-01",
          "2019-02-01",
          "2019-02-01",
          "2019-02-01",
          "2019-02-01",
          "2019-02-01",
          "2019-02-01",
          "2019-02-01",
          "2019-02-08",
          "2019-03-01",
          "2019-03-01",
          "2019-03-08",
          "2019-03-08",
          "2019-03-08",
          "2019-03-08",
          "2019-03-08",
          "2019-03-08",
          "2019-03-08",
          "2019-03-15",
          "2019-03-15",
          "2019-03-15",
          "2019-03-15",
          "2019-03-15",
          "2019-03-15",
          "2019-03-15",
          "2019-03-22",
          "2019-03-22",
          "2019-03-22",
          "2019-03-22",
          "2019-03-22",
          "2019-03-22",
          "2019-03-22",
          "2019-03-22",
          "2019-03-22",
          "2019-04-05",
          "2019-04-05"
         ],
         "xaxis": "x",
         "y": [
          36.56,
          26.77,
          26.67,
          24.99,
          29.67,
          29.5,
          29.06,
          30.69,
          36.28,
          34.07,
          27.93,
          30.76,
          35.22,
          36.01,
          29.78,
          32.35,
          28.5,
          30.51,
          29.84,
          33.45,
          33.71,
          34.28,
          32.74,
          30.4,
          37.59,
          34.38,
          31.79,
          33.4,
          31.72,
          28.39,
          31.12,
          31.63,
          27.61,
          29.7,
          27.47,
          38.36,
          42.61,
          43.19,
          38.3,
          37.46,
          32.51,
          31.07,
          33.02,
          27.15,
          33.9,
          28.25,
          31.71,
          35.72,
          34.49,
          28.73,
          29.67,
          28.49,
          29.56,
          27.56,
          28.85,
          27.98,
          26.02,
          29,
          27.06,
          26.39,
          24.03,
          34.8,
          29.48,
          33.72,
          28.94,
          33.17,
          34.65,
          29.46,
          30.02,
          29.92,
          30.16,
          28.41,
          31.39,
          27.43,
          30.78,
          29.74,
          27.31,
          28.38,
          29.64,
          28.53,
          31.74,
          32.92,
          30.5,
          35.62,
          39.69,
          40.23,
          38.09,
          38.75,
          34.7,
          35.81,
          35.4,
          37.81,
          36.31,
          35.11,
          36.2,
          35.07,
          29.37,
          33.09,
          31.39,
          31.19,
          31.76,
          30.49,
          34.47,
          29.24,
          31.72,
          38.11,
          35.69,
          37.13,
          34.04,
          33.82,
          32.46,
          30.58,
          33.84,
          30.32,
          38.61,
          29.93,
          32.54,
          32.56,
          38.16,
          34.49,
          32.31,
          31.26,
          32.16,
          31.26,
          29.51,
          32.6,
          33.01,
          30,
          23.67,
          21.27,
          26.39,
          25.79,
          29.67,
          27.15,
          22.79,
          27.62,
          24.96,
          22.79,
          22.12,
          22.21,
          23.59,
          25.69,
          22.14,
          25.56,
          26.66,
          26.07,
          32.84,
          26.82,
          25.29,
          26.95,
          27.64,
          25.14,
          25.41,
          28.99,
          27.87,
          29.98,
          32.4,
          25.54,
          27.28,
          27.28,
          28.72,
          30.44,
          30.26,
          27.53,
          28.01,
          29.56,
          31.61,
          37.24,
          33.4,
          25.21,
          36.56,
          37.67,
          24.54,
          32.73,
          25.01,
          34.88,
          32.45,
          29.1,
          25.68,
          31.51,
          34.54,
          34.88,
          33.07
         ],
         "yaxis": "y"
        }
       ],
       "layout": {
        "legend": {
         "tracegroupgap": 0
        },
        "template": {
         "data": {
          "bar": [
           {
            "error_x": {
             "color": "#2a3f5f"
            },
            "error_y": {
             "color": "#2a3f5f"
            },
            "marker": {
             "line": {
              "color": "#E5ECF6",
              "width": 0.5
             }
            },
            "type": "bar"
           }
          ],
          "barpolar": [
           {
            "marker": {
             "line": {
              "color": "#E5ECF6",
              "width": 0.5
             }
            },
            "type": "barpolar"
           }
          ],
          "carpet": [
           {
            "aaxis": {
             "endlinecolor": "#2a3f5f",
             "gridcolor": "white",
             "linecolor": "white",
             "minorgridcolor": "white",
             "startlinecolor": "#2a3f5f"
            },
            "baxis": {
             "endlinecolor": "#2a3f5f",
             "gridcolor": "white",
             "linecolor": "white",
             "minorgridcolor": "white",
             "startlinecolor": "#2a3f5f"
            },
            "type": "carpet"
           }
          ],
          "choropleth": [
           {
            "colorbar": {
             "outlinewidth": 0,
             "ticks": ""
            },
            "type": "choropleth"
           }
          ],
          "contour": [
           {
            "colorbar": {
             "outlinewidth": 0,
             "ticks": ""
            },
            "colorscale": [
             [
              0,
              "#0d0887"
             ],
             [
              0.1111111111111111,
              "#46039f"
             ],
             [
              0.2222222222222222,
              "#7201a8"
             ],
             [
              0.3333333333333333,
              "#9c179e"
             ],
             [
              0.4444444444444444,
              "#bd3786"
             ],
             [
              0.5555555555555556,
              "#d8576b"
             ],
             [
              0.6666666666666666,
              "#ed7953"
             ],
             [
              0.7777777777777778,
              "#fb9f3a"
             ],
             [
              0.8888888888888888,
              "#fdca26"
             ],
             [
              1,
              "#f0f921"
             ]
            ],
            "type": "contour"
           }
          ],
          "contourcarpet": [
           {
            "colorbar": {
             "outlinewidth": 0,
             "ticks": ""
            },
            "type": "contourcarpet"
           }
          ],
          "heatmap": [
           {
            "colorbar": {
             "outlinewidth": 0,
             "ticks": ""
            },
            "colorscale": [
             [
              0,
              "#0d0887"
             ],
             [
              0.1111111111111111,
              "#46039f"
             ],
             [
              0.2222222222222222,
              "#7201a8"
             ],
             [
              0.3333333333333333,
              "#9c179e"
             ],
             [
              0.4444444444444444,
              "#bd3786"
             ],
             [
              0.5555555555555556,
              "#d8576b"
             ],
             [
              0.6666666666666666,
              "#ed7953"
             ],
             [
              0.7777777777777778,
              "#fb9f3a"
             ],
             [
              0.8888888888888888,
              "#fdca26"
             ],
             [
              1,
              "#f0f921"
             ]
            ],
            "type": "heatmap"
           }
          ],
          "heatmapgl": [
           {
            "colorbar": {
             "outlinewidth": 0,
             "ticks": ""
            },
            "colorscale": [
             [
              0,
              "#0d0887"
             ],
             [
              0.1111111111111111,
              "#46039f"
             ],
             [
              0.2222222222222222,
              "#7201a8"
             ],
             [
              0.3333333333333333,
              "#9c179e"
             ],
             [
              0.4444444444444444,
              "#bd3786"
             ],
             [
              0.5555555555555556,
              "#d8576b"
             ],
             [
              0.6666666666666666,
              "#ed7953"
             ],
             [
              0.7777777777777778,
              "#fb9f3a"
             ],
             [
              0.8888888888888888,
              "#fdca26"
             ],
             [
              1,
              "#f0f921"
             ]
            ],
            "type": "heatmapgl"
           }
          ],
          "histogram": [
           {
            "marker": {
             "colorbar": {
              "outlinewidth": 0,
              "ticks": ""
             }
            },
            "type": "histogram"
           }
          ],
          "histogram2d": [
           {
            "colorbar": {
             "outlinewidth": 0,
             "ticks": ""
            },
            "colorscale": [
             [
              0,
              "#0d0887"
             ],
             [
              0.1111111111111111,
              "#46039f"
             ],
             [
              0.2222222222222222,
              "#7201a8"
             ],
             [
              0.3333333333333333,
              "#9c179e"
             ],
             [
              0.4444444444444444,
              "#bd3786"
             ],
             [
              0.5555555555555556,
              "#d8576b"
             ],
             [
              0.6666666666666666,
              "#ed7953"
             ],
             [
              0.7777777777777778,
              "#fb9f3a"
             ],
             [
              0.8888888888888888,
              "#fdca26"
             ],
             [
              1,
              "#f0f921"
             ]
            ],
            "type": "histogram2d"
           }
          ],
          "histogram2dcontour": [
           {
            "colorbar": {
             "outlinewidth": 0,
             "ticks": ""
            },
            "colorscale": [
             [
              0,
              "#0d0887"
             ],
             [
              0.1111111111111111,
              "#46039f"
             ],
             [
              0.2222222222222222,
              "#7201a8"
             ],
             [
              0.3333333333333333,
              "#9c179e"
             ],
             [
              0.4444444444444444,
              "#bd3786"
             ],
             [
              0.5555555555555556,
              "#d8576b"
             ],
             [
              0.6666666666666666,
              "#ed7953"
             ],
             [
              0.7777777777777778,
              "#fb9f3a"
             ],
             [
              0.8888888888888888,
              "#fdca26"
             ],
             [
              1,
              "#f0f921"
             ]
            ],
            "type": "histogram2dcontour"
           }
          ],
          "mesh3d": [
           {
            "colorbar": {
             "outlinewidth": 0,
             "ticks": ""
            },
            "type": "mesh3d"
           }
          ],
          "parcoords": [
           {
            "line": {
             "colorbar": {
              "outlinewidth": 0,
              "ticks": ""
             }
            },
            "type": "parcoords"
           }
          ],
          "pie": [
           {
            "automargin": true,
            "type": "pie"
           }
          ],
          "scatter": [
           {
            "marker": {
             "colorbar": {
              "outlinewidth": 0,
              "ticks": ""
             }
            },
            "type": "scatter"
           }
          ],
          "scatter3d": [
           {
            "line": {
             "colorbar": {
              "outlinewidth": 0,
              "ticks": ""
             }
            },
            "marker": {
             "colorbar": {
              "outlinewidth": 0,
              "ticks": ""
             }
            },
            "type": "scatter3d"
           }
          ],
          "scattercarpet": [
           {
            "marker": {
             "colorbar": {
              "outlinewidth": 0,
              "ticks": ""
             }
            },
            "type": "scattercarpet"
           }
          ],
          "scattergeo": [
           {
            "marker": {
             "colorbar": {
              "outlinewidth": 0,
              "ticks": ""
             }
            },
            "type": "scattergeo"
           }
          ],
          "scattergl": [
           {
            "marker": {
             "colorbar": {
              "outlinewidth": 0,
              "ticks": ""
             }
            },
            "type": "scattergl"
           }
          ],
          "scattermapbox": [
           {
            "marker": {
             "colorbar": {
              "outlinewidth": 0,
              "ticks": ""
             }
            },
            "type": "scattermapbox"
           }
          ],
          "scatterpolar": [
           {
            "marker": {
             "colorbar": {
              "outlinewidth": 0,
              "ticks": ""
             }
            },
            "type": "scatterpolar"
           }
          ],
          "scatterpolargl": [
           {
            "marker": {
             "colorbar": {
              "outlinewidth": 0,
              "ticks": ""
             }
            },
            "type": "scatterpolargl"
           }
          ],
          "scatterternary": [
           {
            "marker": {
             "colorbar": {
              "outlinewidth": 0,
              "ticks": ""
             }
            },
            "type": "scatterternary"
           }
          ],
          "surface": [
           {
            "colorbar": {
             "outlinewidth": 0,
             "ticks": ""
            },
            "colorscale": [
             [
              0,
              "#0d0887"
             ],
             [
              0.1111111111111111,
              "#46039f"
             ],
             [
              0.2222222222222222,
              "#7201a8"
             ],
             [
              0.3333333333333333,
              "#9c179e"
             ],
             [
              0.4444444444444444,
              "#bd3786"
             ],
             [
              0.5555555555555556,
              "#d8576b"
             ],
             [
              0.6666666666666666,
              "#ed7953"
             ],
             [
              0.7777777777777778,
              "#fb9f3a"
             ],
             [
              0.8888888888888888,
              "#fdca26"
             ],
             [
              1,
              "#f0f921"
             ]
            ],
            "type": "surface"
           }
          ],
          "table": [
           {
            "cells": {
             "fill": {
              "color": "#EBF0F8"
             },
             "line": {
              "color": "white"
             }
            },
            "header": {
             "fill": {
              "color": "#C8D4E3"
             },
             "line": {
              "color": "white"
             }
            },
            "type": "table"
           }
          ]
         },
         "layout": {
          "annotationdefaults": {
           "arrowcolor": "#2a3f5f",
           "arrowhead": 0,
           "arrowwidth": 1
          },
          "autotypenumbers": "strict",
          "coloraxis": {
           "colorbar": {
            "outlinewidth": 0,
            "ticks": ""
           }
          },
          "colorscale": {
           "diverging": [
            [
             0,
             "#8e0152"
            ],
            [
             0.1,
             "#c51b7d"
            ],
            [
             0.2,
             "#de77ae"
            ],
            [
             0.3,
             "#f1b6da"
            ],
            [
             0.4,
             "#fde0ef"
            ],
            [
             0.5,
             "#f7f7f7"
            ],
            [
             0.6,
             "#e6f5d0"
            ],
            [
             0.7,
             "#b8e186"
            ],
            [
             0.8,
             "#7fbc41"
            ],
            [
             0.9,
             "#4d9221"
            ],
            [
             1,
             "#276419"
            ]
           ],
           "sequential": [
            [
             0,
             "#0d0887"
            ],
            [
             0.1111111111111111,
             "#46039f"
            ],
            [
             0.2222222222222222,
             "#7201a8"
            ],
            [
             0.3333333333333333,
             "#9c179e"
            ],
            [
             0.4444444444444444,
             "#bd3786"
            ],
            [
             0.5555555555555556,
             "#d8576b"
            ],
            [
             0.6666666666666666,
             "#ed7953"
            ],
            [
             0.7777777777777778,
             "#fb9f3a"
            ],
            [
             0.8888888888888888,
             "#fdca26"
            ],
            [
             1,
             "#f0f921"
            ]
           ],
           "sequentialminus": [
            [
             0,
             "#0d0887"
            ],
            [
             0.1111111111111111,
             "#46039f"
            ],
            [
             0.2222222222222222,
             "#7201a8"
            ],
            [
             0.3333333333333333,
             "#9c179e"
            ],
            [
             0.4444444444444444,
             "#bd3786"
            ],
            [
             0.5555555555555556,
             "#d8576b"
            ],
            [
             0.6666666666666666,
             "#ed7953"
            ],
            [
             0.7777777777777778,
             "#fb9f3a"
            ],
            [
             0.8888888888888888,
             "#fdca26"
            ],
            [
             1,
             "#f0f921"
            ]
           ]
          },
          "colorway": [
           "#636efa",
           "#EF553B",
           "#00cc96",
           "#ab63fa",
           "#FFA15A",
           "#19d3f3",
           "#FF6692",
           "#B6E880",
           "#FF97FF",
           "#FECB52"
          ],
          "font": {
           "color": "#2a3f5f"
          },
          "geo": {
           "bgcolor": "white",
           "lakecolor": "white",
           "landcolor": "#E5ECF6",
           "showlakes": true,
           "showland": true,
           "subunitcolor": "white"
          },
          "hoverlabel": {
           "align": "left"
          },
          "hovermode": "closest",
          "mapbox": {
           "style": "light"
          },
          "paper_bgcolor": "white",
          "plot_bgcolor": "#E5ECF6",
          "polar": {
           "angularaxis": {
            "gridcolor": "white",
            "linecolor": "white",
            "ticks": ""
           },
           "bgcolor": "#E5ECF6",
           "radialaxis": {
            "gridcolor": "white",
            "linecolor": "white",
            "ticks": ""
           }
          },
          "scene": {
           "xaxis": {
            "backgroundcolor": "#E5ECF6",
            "gridcolor": "white",
            "gridwidth": 2,
            "linecolor": "white",
            "showbackground": true,
            "ticks": "",
            "zerolinecolor": "white"
           },
           "yaxis": {
            "backgroundcolor": "#E5ECF6",
            "gridcolor": "white",
            "gridwidth": 2,
            "linecolor": "white",
            "showbackground": true,
            "ticks": "",
            "zerolinecolor": "white"
           },
           "zaxis": {
            "backgroundcolor": "#E5ECF6",
            "gridcolor": "white",
            "gridwidth": 2,
            "linecolor": "white",
            "showbackground": true,
            "ticks": "",
            "zerolinecolor": "white"
           }
          },
          "shapedefaults": {
           "line": {
            "color": "#2a3f5f"
           }
          },
          "ternary": {
           "aaxis": {
            "gridcolor": "white",
            "linecolor": "white",
            "ticks": ""
           },
           "baxis": {
            "gridcolor": "white",
            "linecolor": "white",
            "ticks": ""
           },
           "bgcolor": "#E5ECF6",
           "caxis": {
            "gridcolor": "white",
            "linecolor": "white",
            "ticks": ""
           }
          },
          "title": {
           "x": 0.05
          },
          "xaxis": {
           "automargin": true,
           "gridcolor": "white",
           "linecolor": "white",
           "ticks": "",
           "title": {
            "standoff": 15
           },
           "zerolinecolor": "white",
           "zerolinewidth": 2
          },
          "yaxis": {
           "automargin": true,
           "gridcolor": "white",
           "linecolor": "white",
           "ticks": "",
           "title": {
            "standoff": 15
           },
           "zerolinecolor": "white",
           "zerolinewidth": 2
          }
         }
        },
        "title": {
         "text": "DadosAnalise: Tipo de Lançamento x Percentual Crescimento"
        },
        "xaxis": {
         "anchor": "y",
         "domain": [
          0,
          1
         ],
         "title": {
          "text": "DataProjecao"
         }
        },
        "yaxis": {
         "anchor": "x",
         "domain": [
          0,
          1
         ],
         "title": {
          "text": "Rompimento28Dias"
         }
        }
       }
      },
      "text/html": [
       "<div>                            <div id=\"13bae88a-a863-4a22-a714-0952d874b436\" class=\"plotly-graph-div\" style=\"height:525px; width:100%;\"></div>            <script type=\"text/javascript\">                require([\"plotly\"], function(Plotly) {                    window.PLOTLYENV=window.PLOTLYENV || {};                                    if (document.getElementById(\"13bae88a-a863-4a22-a714-0952d874b436\")) {                    Plotly.newPlot(                        \"13bae88a-a863-4a22-a714-0952d874b436\",                        [{\"hovertemplate\": \"DataProjecao=%{x}<br>Rompimento28Dias=%{y}<extra></extra>\", \"legendgroup\": \"\", \"marker\": {\"color\": \"#636efa\", \"symbol\": \"circle\"}, \"mode\": \"markers\", \"name\": \"\", \"orientation\": \"v\", \"showlegend\": false, \"type\": \"scatter\", \"x\": [\"2017-07-07\", \"2017-07-07\", \"2017-07-07\", \"2017-07-07\", \"2017-08-04\", \"2017-08-11\", \"2017-10-20\", \"2017-10-20\", \"2017-10-20\", \"2017-10-20\", \"2017-10-20\", \"2017-10-20\", \"2017-10-20\", \"2017-10-20\", \"2017-10-20\", \"2017-10-27\", \"2017-10-27\", \"2017-10-27\", \"2017-10-27\", \"2017-11-03\", \"2017-11-03\", \"2017-11-03\", \"2017-11-03\", \"2017-11-10\", \"2017-11-10\", \"2017-11-10\", \"2017-11-10\", \"2017-11-17\", \"2017-11-24\", \"2017-12-15\", \"2017-12-15\", \"2018-01-12\", \"2018-01-12\", \"2018-01-12\", \"2018-01-12\", \"2018-03-09\", \"2018-03-09\", \"2018-03-09\", \"2018-03-09\", \"2018-03-09\", \"2018-03-16\", \"2018-03-16\", \"2018-03-16\", \"2018-07-06\", \"2018-07-06\", \"2018-07-13\", \"2018-07-13\", \"2018-07-20\", \"2018-07-20\", \"2018-08-10\", \"2018-08-10\", \"2018-08-10\", \"2018-09-28\", \"2018-09-28\", \"2018-09-28\", \"2018-10-05\", \"2018-10-05\", \"2018-10-05\", \"2018-10-05\", \"2018-10-12\", \"2018-10-12\", \"2018-10-19\", \"2018-10-19\", \"2018-10-19\", \"2018-10-19\", \"2018-10-19\", \"2018-10-19\", \"2018-10-26\", \"2018-10-26\", \"2018-10-26\", \"2018-10-26\", \"2018-10-26\", \"2018-10-26\", \"2018-10-26\", \"2018-10-26\", \"2018-10-26\", \"2018-11-02\", \"2018-11-09\", \"2018-11-09\", \"2018-11-09\", \"2018-11-09\", \"2018-11-09\", \"2018-11-16\", \"2018-11-16\", \"2018-11-23\", \"2018-11-23\", \"2018-11-23\", \"2018-11-30\", \"2018-11-30\", \"2018-11-30\", \"2018-11-30\", \"2018-11-30\", \"2018-11-30\", \"2018-12-07\", \"2018-12-07\", \"2018-12-07\", \"2018-12-07\", \"2018-12-07\", \"2018-12-07\", \"2018-12-07\", \"2018-12-07\", \"2018-12-07\", \"2018-12-07\", \"2018-12-07\", \"2018-12-07\", \"2018-12-07\", \"2018-12-07\", \"2018-12-07\", \"2018-12-07\", \"2018-12-07\", \"2018-12-07\", \"2018-12-07\", \"2018-12-07\", \"2018-12-07\", \"2018-12-07\", \"2018-12-14\", \"2018-12-14\", \"2018-12-14\", \"2018-12-14\", \"2018-12-14\", \"2018-12-21\", \"2018-12-21\", \"2018-12-21\", \"2018-12-21\", \"2018-12-21\", \"2018-12-21\", \"2018-12-28\", \"2019-01-04\", \"2019-01-11\", \"2019-01-11\", \"2019-01-11\", \"2019-01-18\", \"2019-01-18\", \"2019-01-18\", \"2019-01-25\", \"2019-01-25\", \"2019-01-25\", \"2019-01-25\", \"2019-01-25\", \"2019-01-25\", \"2019-01-25\", \"2019-01-25\", \"2019-01-25\", \"2019-02-01\", \"2019-02-01\", \"2019-02-01\", \"2019-02-01\", \"2019-02-01\", \"2019-02-01\", \"2019-02-01\", \"2019-02-01\", \"2019-02-01\", \"2019-02-01\", \"2019-02-01\", \"2019-02-01\", \"2019-02-08\", \"2019-03-01\", \"2019-03-01\", \"2019-03-08\", \"2019-03-08\", \"2019-03-08\", \"2019-03-08\", \"2019-03-08\", \"2019-03-08\", \"2019-03-08\", \"2019-03-15\", \"2019-03-15\", \"2019-03-15\", \"2019-03-15\", \"2019-03-15\", \"2019-03-15\", \"2019-03-15\", \"2019-03-22\", \"2019-03-22\", \"2019-03-22\", \"2019-03-22\", \"2019-03-22\", \"2019-03-22\", \"2019-03-22\", \"2019-03-22\", \"2019-03-22\", \"2019-04-05\", \"2019-04-05\"], \"xaxis\": \"x\", \"y\": [36.56, 26.77, 26.67, 24.99, 29.67, 29.5, 29.06, 30.69, 36.28, 34.07, 27.93, 30.76, 35.22, 36.01, 29.78, 32.35, 28.5, 30.51, 29.84, 33.45, 33.71, 34.28, 32.74, 30.4, 37.59, 34.38, 31.79, 33.4, 31.72, 28.39, 31.12, 31.63, 27.61, 29.7, 27.47, 38.36, 42.61, 43.19, 38.3, 37.46, 32.51, 31.07, 33.02, 27.15, 33.9, 28.25, 31.71, 35.72, 34.49, 28.73, 29.67, 28.49, 29.56, 27.56, 28.85, 27.98, 26.02, 29.0, 27.06, 26.39, 24.03, 34.8, 29.48, 33.72, 28.94, 33.17, 34.65, 29.46, 30.02, 29.92, 30.16, 28.41, 31.39, 27.43, 30.78, 29.74, 27.31, 28.38, 29.64, 28.53, 31.74, 32.92, 30.5, 35.62, 39.69, 40.23, 38.09, 38.75, 34.7, 35.81, 35.4, 37.81, 36.31, 35.11, 36.2, 35.07, 29.37, 33.09, 31.39, 31.19, 31.76, 30.49, 34.47, 29.24, 31.72, 38.11, 35.69, 37.13, 34.04, 33.82, 32.46, 30.58, 33.84, 30.32, 38.61, 29.93, 32.54, 32.56, 38.16, 34.49, 32.31, 31.26, 32.16, 31.26, 29.51, 32.6, 33.01, 30.0, 23.67, 21.27, 26.39, 25.79, 29.67, 27.15, 22.79, 27.62, 24.96, 22.79, 22.12, 22.21, 23.59, 25.69, 22.14, 25.56, 26.66, 26.07, 32.84, 26.82, 25.29, 26.95, 27.64, 25.14, 25.41, 28.99, 27.87, 29.98, 32.4, 25.54, 27.28, 27.28, 28.72, 30.44, 30.26, 27.53, 28.01, 29.56, 31.61, 37.24, 33.4, 25.21, 36.56, 37.67, 24.54, 32.73, 25.01, 34.88, 32.45, 29.1, 25.68, 31.51, 34.54, 34.88, 33.07], \"yaxis\": \"y\"}],                        {\"legend\": {\"tracegroupgap\": 0}, \"template\": {\"data\": {\"bar\": [{\"error_x\": {\"color\": \"#2a3f5f\"}, \"error_y\": {\"color\": \"#2a3f5f\"}, \"marker\": {\"line\": {\"color\": \"#E5ECF6\", \"width\": 0.5}}, \"type\": \"bar\"}], \"barpolar\": [{\"marker\": {\"line\": {\"color\": \"#E5ECF6\", \"width\": 0.5}}, \"type\": \"barpolar\"}], \"carpet\": [{\"aaxis\": {\"endlinecolor\": \"#2a3f5f\", \"gridcolor\": \"white\", \"linecolor\": \"white\", \"minorgridcolor\": \"white\", \"startlinecolor\": \"#2a3f5f\"}, \"baxis\": {\"endlinecolor\": \"#2a3f5f\", \"gridcolor\": \"white\", \"linecolor\": \"white\", \"minorgridcolor\": \"white\", \"startlinecolor\": \"#2a3f5f\"}, \"type\": \"carpet\"}], \"choropleth\": [{\"colorbar\": {\"outlinewidth\": 0, \"ticks\": \"\"}, \"type\": \"choropleth\"}], \"contour\": [{\"colorbar\": {\"outlinewidth\": 0, \"ticks\": \"\"}, \"colorscale\": [[0.0, \"#0d0887\"], [0.1111111111111111, \"#46039f\"], [0.2222222222222222, \"#7201a8\"], [0.3333333333333333, \"#9c179e\"], [0.4444444444444444, \"#bd3786\"], [0.5555555555555556, \"#d8576b\"], [0.6666666666666666, \"#ed7953\"], [0.7777777777777778, \"#fb9f3a\"], [0.8888888888888888, \"#fdca26\"], [1.0, \"#f0f921\"]], \"type\": \"contour\"}], \"contourcarpet\": [{\"colorbar\": {\"outlinewidth\": 0, \"ticks\": \"\"}, \"type\": \"contourcarpet\"}], \"heatmap\": [{\"colorbar\": {\"outlinewidth\": 0, \"ticks\": \"\"}, \"colorscale\": [[0.0, \"#0d0887\"], [0.1111111111111111, \"#46039f\"], [0.2222222222222222, \"#7201a8\"], [0.3333333333333333, \"#9c179e\"], [0.4444444444444444, \"#bd3786\"], [0.5555555555555556, \"#d8576b\"], [0.6666666666666666, \"#ed7953\"], [0.7777777777777778, \"#fb9f3a\"], [0.8888888888888888, \"#fdca26\"], [1.0, \"#f0f921\"]], \"type\": \"heatmap\"}], \"heatmapgl\": [{\"colorbar\": {\"outlinewidth\": 0, \"ticks\": \"\"}, \"colorscale\": [[0.0, \"#0d0887\"], [0.1111111111111111, \"#46039f\"], [0.2222222222222222, \"#7201a8\"], [0.3333333333333333, \"#9c179e\"], [0.4444444444444444, \"#bd3786\"], [0.5555555555555556, \"#d8576b\"], [0.6666666666666666, \"#ed7953\"], [0.7777777777777778, \"#fb9f3a\"], [0.8888888888888888, \"#fdca26\"], [1.0, \"#f0f921\"]], \"type\": \"heatmapgl\"}], \"histogram\": [{\"marker\": {\"colorbar\": {\"outlinewidth\": 0, \"ticks\": \"\"}}, \"type\": \"histogram\"}], \"histogram2d\": [{\"colorbar\": {\"outlinewidth\": 0, \"ticks\": \"\"}, \"colorscale\": [[0.0, \"#0d0887\"], [0.1111111111111111, \"#46039f\"], [0.2222222222222222, \"#7201a8\"], [0.3333333333333333, \"#9c179e\"], [0.4444444444444444, \"#bd3786\"], [0.5555555555555556, \"#d8576b\"], [0.6666666666666666, \"#ed7953\"], [0.7777777777777778, \"#fb9f3a\"], [0.8888888888888888, \"#fdca26\"], [1.0, \"#f0f921\"]], \"type\": \"histogram2d\"}], \"histogram2dcontour\": [{\"colorbar\": {\"outlinewidth\": 0, \"ticks\": \"\"}, \"colorscale\": [[0.0, \"#0d0887\"], [0.1111111111111111, \"#46039f\"], [0.2222222222222222, \"#7201a8\"], [0.3333333333333333, \"#9c179e\"], [0.4444444444444444, \"#bd3786\"], [0.5555555555555556, \"#d8576b\"], [0.6666666666666666, \"#ed7953\"], [0.7777777777777778, \"#fb9f3a\"], [0.8888888888888888, \"#fdca26\"], [1.0, \"#f0f921\"]], \"type\": \"histogram2dcontour\"}], \"mesh3d\": [{\"colorbar\": {\"outlinewidth\": 0, \"ticks\": \"\"}, \"type\": \"mesh3d\"}], \"parcoords\": [{\"line\": {\"colorbar\": {\"outlinewidth\": 0, \"ticks\": \"\"}}, \"type\": \"parcoords\"}], \"pie\": [{\"automargin\": true, \"type\": \"pie\"}], \"scatter\": [{\"marker\": {\"colorbar\": {\"outlinewidth\": 0, \"ticks\": \"\"}}, \"type\": \"scatter\"}], \"scatter3d\": [{\"line\": {\"colorbar\": {\"outlinewidth\": 0, \"ticks\": \"\"}}, \"marker\": {\"colorbar\": {\"outlinewidth\": 0, \"ticks\": \"\"}}, \"type\": \"scatter3d\"}], \"scattercarpet\": [{\"marker\": {\"colorbar\": {\"outlinewidth\": 0, \"ticks\": \"\"}}, \"type\": \"scattercarpet\"}], \"scattergeo\": [{\"marker\": {\"colorbar\": {\"outlinewidth\": 0, \"ticks\": \"\"}}, \"type\": \"scattergeo\"}], \"scattergl\": [{\"marker\": {\"colorbar\": {\"outlinewidth\": 0, \"ticks\": \"\"}}, \"type\": \"scattergl\"}], \"scattermapbox\": [{\"marker\": {\"colorbar\": {\"outlinewidth\": 0, \"ticks\": \"\"}}, \"type\": \"scattermapbox\"}], \"scatterpolar\": [{\"marker\": {\"colorbar\": {\"outlinewidth\": 0, \"ticks\": \"\"}}, \"type\": \"scatterpolar\"}], \"scatterpolargl\": [{\"marker\": {\"colorbar\": {\"outlinewidth\": 0, \"ticks\": \"\"}}, \"type\": \"scatterpolargl\"}], \"scatterternary\": [{\"marker\": {\"colorbar\": {\"outlinewidth\": 0, \"ticks\": \"\"}}, \"type\": \"scatterternary\"}], \"surface\": [{\"colorbar\": {\"outlinewidth\": 0, \"ticks\": \"\"}, \"colorscale\": [[0.0, \"#0d0887\"], [0.1111111111111111, \"#46039f\"], [0.2222222222222222, \"#7201a8\"], [0.3333333333333333, \"#9c179e\"], [0.4444444444444444, \"#bd3786\"], [0.5555555555555556, \"#d8576b\"], [0.6666666666666666, \"#ed7953\"], [0.7777777777777778, \"#fb9f3a\"], [0.8888888888888888, \"#fdca26\"], [1.0, \"#f0f921\"]], \"type\": \"surface\"}], \"table\": [{\"cells\": {\"fill\": {\"color\": \"#EBF0F8\"}, \"line\": {\"color\": \"white\"}}, \"header\": {\"fill\": {\"color\": \"#C8D4E3\"}, \"line\": {\"color\": \"white\"}}, \"type\": \"table\"}]}, \"layout\": {\"annotationdefaults\": {\"arrowcolor\": \"#2a3f5f\", \"arrowhead\": 0, \"arrowwidth\": 1}, \"autotypenumbers\": \"strict\", \"coloraxis\": {\"colorbar\": {\"outlinewidth\": 0, \"ticks\": \"\"}}, \"colorscale\": {\"diverging\": [[0, \"#8e0152\"], [0.1, \"#c51b7d\"], [0.2, \"#de77ae\"], [0.3, \"#f1b6da\"], [0.4, \"#fde0ef\"], [0.5, \"#f7f7f7\"], [0.6, \"#e6f5d0\"], [0.7, \"#b8e186\"], [0.8, \"#7fbc41\"], [0.9, \"#4d9221\"], [1, \"#276419\"]], \"sequential\": [[0.0, \"#0d0887\"], [0.1111111111111111, \"#46039f\"], [0.2222222222222222, \"#7201a8\"], [0.3333333333333333, \"#9c179e\"], [0.4444444444444444, \"#bd3786\"], [0.5555555555555556, \"#d8576b\"], [0.6666666666666666, \"#ed7953\"], [0.7777777777777778, \"#fb9f3a\"], [0.8888888888888888, \"#fdca26\"], [1.0, \"#f0f921\"]], \"sequentialminus\": [[0.0, \"#0d0887\"], [0.1111111111111111, \"#46039f\"], [0.2222222222222222, \"#7201a8\"], [0.3333333333333333, \"#9c179e\"], [0.4444444444444444, \"#bd3786\"], [0.5555555555555556, \"#d8576b\"], [0.6666666666666666, \"#ed7953\"], [0.7777777777777778, \"#fb9f3a\"], [0.8888888888888888, \"#fdca26\"], [1.0, \"#f0f921\"]]}, \"colorway\": [\"#636efa\", \"#EF553B\", \"#00cc96\", \"#ab63fa\", \"#FFA15A\", \"#19d3f3\", \"#FF6692\", \"#B6E880\", \"#FF97FF\", \"#FECB52\"], \"font\": {\"color\": \"#2a3f5f\"}, \"geo\": {\"bgcolor\": \"white\", \"lakecolor\": \"white\", \"landcolor\": \"#E5ECF6\", \"showlakes\": true, \"showland\": true, \"subunitcolor\": \"white\"}, \"hoverlabel\": {\"align\": \"left\"}, \"hovermode\": \"closest\", \"mapbox\": {\"style\": \"light\"}, \"paper_bgcolor\": \"white\", \"plot_bgcolor\": \"#E5ECF6\", \"polar\": {\"angularaxis\": {\"gridcolor\": \"white\", \"linecolor\": \"white\", \"ticks\": \"\"}, \"bgcolor\": \"#E5ECF6\", \"radialaxis\": {\"gridcolor\": \"white\", \"linecolor\": \"white\", \"ticks\": \"\"}}, \"scene\": {\"xaxis\": {\"backgroundcolor\": \"#E5ECF6\", \"gridcolor\": \"white\", \"gridwidth\": 2, \"linecolor\": \"white\", \"showbackground\": true, \"ticks\": \"\", \"zerolinecolor\": \"white\"}, \"yaxis\": {\"backgroundcolor\": \"#E5ECF6\", \"gridcolor\": \"white\", \"gridwidth\": 2, \"linecolor\": \"white\", \"showbackground\": true, \"ticks\": \"\", \"zerolinecolor\": \"white\"}, \"zaxis\": {\"backgroundcolor\": \"#E5ECF6\", \"gridcolor\": \"white\", \"gridwidth\": 2, \"linecolor\": \"white\", \"showbackground\": true, \"ticks\": \"\", \"zerolinecolor\": \"white\"}}, \"shapedefaults\": {\"line\": {\"color\": \"#2a3f5f\"}}, \"ternary\": {\"aaxis\": {\"gridcolor\": \"white\", \"linecolor\": \"white\", \"ticks\": \"\"}, \"baxis\": {\"gridcolor\": \"white\", \"linecolor\": \"white\", \"ticks\": \"\"}, \"bgcolor\": \"#E5ECF6\", \"caxis\": {\"gridcolor\": \"white\", \"linecolor\": \"white\", \"ticks\": \"\"}}, \"title\": {\"x\": 0.05}, \"xaxis\": {\"automargin\": true, \"gridcolor\": \"white\", \"linecolor\": \"white\", \"ticks\": \"\", \"title\": {\"standoff\": 15}, \"zerolinecolor\": \"white\", \"zerolinewidth\": 2}, \"yaxis\": {\"automargin\": true, \"gridcolor\": \"white\", \"linecolor\": \"white\", \"ticks\": \"\", \"title\": {\"standoff\": 15}, \"zerolinecolor\": \"white\", \"zerolinewidth\": 2}}}, \"title\": {\"text\": \"DadosAnalise: Tipo de Lan\\u00e7amento x Percentual Crescimento\"}, \"xaxis\": {\"anchor\": \"y\", \"domain\": [0.0, 1.0], \"title\": {\"text\": \"DataProjecao\"}}, \"yaxis\": {\"anchor\": \"x\", \"domain\": [0.0, 1.0], \"title\": {\"text\": \"Rompimento28Dias\"}}},                        {\"responsive\": true}                    ).then(function(){\n",
       "                            \n",
       "var gd = document.getElementById('13bae88a-a863-4a22-a714-0952d874b436');\n",
       "var x = new MutationObserver(function (mutations, observer) {{\n",
       "        var display = window.getComputedStyle(gd).display;\n",
       "        if (!display || display === 'none') {{\n",
       "            console.log([gd, 'removed!']);\n",
       "            Plotly.purge(gd);\n",
       "            observer.disconnect();\n",
       "        }}\n",
       "}});\n",
       "\n",
       "// Listen for the removal of the full notebook cells\n",
       "var notebookContainer = gd.closest('#notebook-container');\n",
       "if (notebookContainer) {{\n",
       "    x.observe(notebookContainer, {childList: true});\n",
       "}}\n",
       "\n",
       "// Listen for the clearing of the current output cell\n",
       "var outputEl = gd.closest('.output');\n",
       "if (outputEl) {{\n",
       "    x.observe(outputEl, {childList: true});\n",
       "}}\n",
       "\n",
       "                        })                };                });            </script>        </div>"
      ]
     },
     "metadata": {},
     "output_type": "display_data"
    }
   ],
   "source": [
    "fig = px.scatter(da_fck_esp, x=\"DataProjecao\", y=\"Rompimento28Dias\", title='DadosAnalise: Tipo de Lançamento x Percentual Crescimento')\n",
    "fig.show()"
   ]
  },
  {
   "cell_type": "code",
   "execution_count": 549,
   "metadata": {},
   "outputs": [
    {
     "data": {
      "application/vnd.plotly.v1+json": {
       "config": {
        "plotlyServerURL": "https://plot.ly"
       },
       "data": [
        {
         "hovertemplate": "DataProjecao=%{x}<br>ConsumoPorM3=%{y}<extra></extra>",
         "legendgroup": "",
         "marker": {
          "color": "#636efa",
          "symbol": "circle"
         },
         "mode": "markers",
         "name": "",
         "orientation": "v",
         "showlegend": false,
         "type": "scatter",
         "x": [
          "2017-07-07",
          "2017-07-07",
          "2017-07-07",
          "2017-07-07",
          "2017-08-04",
          "2017-08-11",
          "2017-10-20",
          "2017-10-20",
          "2017-10-20",
          "2017-10-20",
          "2017-10-20",
          "2017-10-20",
          "2017-10-20",
          "2017-10-20",
          "2017-10-20",
          "2017-10-27",
          "2017-10-27",
          "2017-10-27",
          "2017-10-27",
          "2017-11-03",
          "2017-11-03",
          "2017-11-03",
          "2017-11-03",
          "2017-11-10",
          "2017-11-10",
          "2017-11-10",
          "2017-11-10",
          "2017-11-17",
          "2017-11-24",
          "2017-12-15",
          "2017-12-15",
          "2018-01-12",
          "2018-01-12",
          "2018-01-12",
          "2018-01-12",
          "2018-03-09",
          "2018-03-09",
          "2018-03-09",
          "2018-03-09",
          "2018-03-09",
          "2018-03-16",
          "2018-03-16",
          "2018-03-16",
          "2018-07-06",
          "2018-07-06",
          "2018-07-13",
          "2018-07-13",
          "2018-07-20",
          "2018-07-20",
          "2018-08-10",
          "2018-08-10",
          "2018-08-10",
          "2018-09-28",
          "2018-09-28",
          "2018-09-28",
          "2018-10-05",
          "2018-10-05",
          "2018-10-05",
          "2018-10-05",
          "2018-10-12",
          "2018-10-12",
          "2018-10-19",
          "2018-10-19",
          "2018-10-19",
          "2018-10-19",
          "2018-10-19",
          "2018-10-19",
          "2018-10-26",
          "2018-10-26",
          "2018-10-26",
          "2018-10-26",
          "2018-10-26",
          "2018-10-26",
          "2018-10-26",
          "2018-10-26",
          "2018-10-26",
          "2018-11-02",
          "2018-11-09",
          "2018-11-09",
          "2018-11-09",
          "2018-11-09",
          "2018-11-09",
          "2018-11-16",
          "2018-11-16",
          "2018-11-23",
          "2018-11-23",
          "2018-11-23",
          "2018-11-30",
          "2018-11-30",
          "2018-11-30",
          "2018-11-30",
          "2018-11-30",
          "2018-11-30",
          "2018-12-07",
          "2018-12-07",
          "2018-12-07",
          "2018-12-07",
          "2018-12-07",
          "2018-12-07",
          "2018-12-07",
          "2018-12-07",
          "2018-12-07",
          "2018-12-07",
          "2018-12-07",
          "2018-12-07",
          "2018-12-07",
          "2018-12-07",
          "2018-12-07",
          "2018-12-07",
          "2018-12-07",
          "2018-12-07",
          "2018-12-07",
          "2018-12-07",
          "2018-12-07",
          "2018-12-07",
          "2018-12-14",
          "2018-12-14",
          "2018-12-14",
          "2018-12-14",
          "2018-12-14",
          "2018-12-21",
          "2018-12-21",
          "2018-12-21",
          "2018-12-21",
          "2018-12-21",
          "2018-12-21",
          "2018-12-28",
          "2019-01-04",
          "2019-01-11",
          "2019-01-11",
          "2019-01-11",
          "2019-01-18",
          "2019-01-18",
          "2019-01-18",
          "2019-01-25",
          "2019-01-25",
          "2019-01-25",
          "2019-01-25",
          "2019-01-25",
          "2019-01-25",
          "2019-01-25",
          "2019-01-25",
          "2019-01-25",
          "2019-02-01",
          "2019-02-01",
          "2019-02-01",
          "2019-02-01",
          "2019-02-01",
          "2019-02-01",
          "2019-02-01",
          "2019-02-01",
          "2019-02-01",
          "2019-02-01",
          "2019-02-01",
          "2019-02-01",
          "2019-02-08",
          "2019-03-01",
          "2019-03-01",
          "2019-03-08",
          "2019-03-08",
          "2019-03-08",
          "2019-03-08",
          "2019-03-08",
          "2019-03-08",
          "2019-03-08",
          "2019-03-15",
          "2019-03-15",
          "2019-03-15",
          "2019-03-15",
          "2019-03-15",
          "2019-03-15",
          "2019-03-15",
          "2019-03-22",
          "2019-03-22",
          "2019-03-22",
          "2019-03-22",
          "2019-03-22",
          "2019-03-22",
          "2019-03-22",
          "2019-03-22",
          "2019-03-22",
          "2019-04-05",
          "2019-04-05"
         ],
         "xaxis": "x",
         "y": [
          292,
          289,
          289,
          289,
          278,
          289,
          289,
          278,
          278,
          278,
          272,
          272,
          272,
          272,
          272,
          272,
          272,
          272,
          272,
          272,
          272,
          272,
          272,
          272,
          292,
          292,
          289,
          320,
          320,
          320,
          320,
          324,
          324,
          324,
          324,
          321,
          321,
          321,
          321,
          321,
          321,
          321,
          321,
          287,
          281,
          275,
          281,
          281,
          281,
          281,
          281,
          281,
          256,
          256,
          256,
          268,
          268,
          268,
          268,
          268,
          268,
          283,
          283,
          283,
          283,
          268,
          311,
          273,
          268,
          268,
          268,
          268,
          268,
          268,
          262,
          262,
          266,
          268,
          268,
          264,
          264,
          264,
          268,
          264,
          275,
          275,
          264,
          275,
          275,
          275,
          264,
          264,
          264,
          264,
          264,
          253,
          253,
          253,
          253,
          253,
          253,
          253,
          253,
          253,
          253,
          253,
          253,
          253,
          253,
          253,
          253,
          253,
          253,
          253,
          283,
          253,
          253,
          253,
          253,
          253,
          254,
          254,
          254,
          254,
          254,
          254,
          254,
          244,
          229,
          223,
          244,
          229,
          229,
          229,
          229,
          229,
          223,
          229,
          223,
          229,
          229,
          229,
          229,
          229,
          229,
          229,
          229,
          229,
          229,
          229,
          229,
          244,
          244,
          244,
          244,
          233,
          267,
          227,
          267,
          261,
          273,
          268,
          273,
          273,
          285,
          277,
          277,
          277,
          277,
          227,
          277,
          277,
          227,
          227,
          221,
          264,
          295,
          295,
          295,
          295,
          272,
          277,
          277
         ],
         "yaxis": "y"
        }
       ],
       "layout": {
        "legend": {
         "tracegroupgap": 0
        },
        "template": {
         "data": {
          "bar": [
           {
            "error_x": {
             "color": "#2a3f5f"
            },
            "error_y": {
             "color": "#2a3f5f"
            },
            "marker": {
             "line": {
              "color": "#E5ECF6",
              "width": 0.5
             }
            },
            "type": "bar"
           }
          ],
          "barpolar": [
           {
            "marker": {
             "line": {
              "color": "#E5ECF6",
              "width": 0.5
             }
            },
            "type": "barpolar"
           }
          ],
          "carpet": [
           {
            "aaxis": {
             "endlinecolor": "#2a3f5f",
             "gridcolor": "white",
             "linecolor": "white",
             "minorgridcolor": "white",
             "startlinecolor": "#2a3f5f"
            },
            "baxis": {
             "endlinecolor": "#2a3f5f",
             "gridcolor": "white",
             "linecolor": "white",
             "minorgridcolor": "white",
             "startlinecolor": "#2a3f5f"
            },
            "type": "carpet"
           }
          ],
          "choropleth": [
           {
            "colorbar": {
             "outlinewidth": 0,
             "ticks": ""
            },
            "type": "choropleth"
           }
          ],
          "contour": [
           {
            "colorbar": {
             "outlinewidth": 0,
             "ticks": ""
            },
            "colorscale": [
             [
              0,
              "#0d0887"
             ],
             [
              0.1111111111111111,
              "#46039f"
             ],
             [
              0.2222222222222222,
              "#7201a8"
             ],
             [
              0.3333333333333333,
              "#9c179e"
             ],
             [
              0.4444444444444444,
              "#bd3786"
             ],
             [
              0.5555555555555556,
              "#d8576b"
             ],
             [
              0.6666666666666666,
              "#ed7953"
             ],
             [
              0.7777777777777778,
              "#fb9f3a"
             ],
             [
              0.8888888888888888,
              "#fdca26"
             ],
             [
              1,
              "#f0f921"
             ]
            ],
            "type": "contour"
           }
          ],
          "contourcarpet": [
           {
            "colorbar": {
             "outlinewidth": 0,
             "ticks": ""
            },
            "type": "contourcarpet"
           }
          ],
          "heatmap": [
           {
            "colorbar": {
             "outlinewidth": 0,
             "ticks": ""
            },
            "colorscale": [
             [
              0,
              "#0d0887"
             ],
             [
              0.1111111111111111,
              "#46039f"
             ],
             [
              0.2222222222222222,
              "#7201a8"
             ],
             [
              0.3333333333333333,
              "#9c179e"
             ],
             [
              0.4444444444444444,
              "#bd3786"
             ],
             [
              0.5555555555555556,
              "#d8576b"
             ],
             [
              0.6666666666666666,
              "#ed7953"
             ],
             [
              0.7777777777777778,
              "#fb9f3a"
             ],
             [
              0.8888888888888888,
              "#fdca26"
             ],
             [
              1,
              "#f0f921"
             ]
            ],
            "type": "heatmap"
           }
          ],
          "heatmapgl": [
           {
            "colorbar": {
             "outlinewidth": 0,
             "ticks": ""
            },
            "colorscale": [
             [
              0,
              "#0d0887"
             ],
             [
              0.1111111111111111,
              "#46039f"
             ],
             [
              0.2222222222222222,
              "#7201a8"
             ],
             [
              0.3333333333333333,
              "#9c179e"
             ],
             [
              0.4444444444444444,
              "#bd3786"
             ],
             [
              0.5555555555555556,
              "#d8576b"
             ],
             [
              0.6666666666666666,
              "#ed7953"
             ],
             [
              0.7777777777777778,
              "#fb9f3a"
             ],
             [
              0.8888888888888888,
              "#fdca26"
             ],
             [
              1,
              "#f0f921"
             ]
            ],
            "type": "heatmapgl"
           }
          ],
          "histogram": [
           {
            "marker": {
             "colorbar": {
              "outlinewidth": 0,
              "ticks": ""
             }
            },
            "type": "histogram"
           }
          ],
          "histogram2d": [
           {
            "colorbar": {
             "outlinewidth": 0,
             "ticks": ""
            },
            "colorscale": [
             [
              0,
              "#0d0887"
             ],
             [
              0.1111111111111111,
              "#46039f"
             ],
             [
              0.2222222222222222,
              "#7201a8"
             ],
             [
              0.3333333333333333,
              "#9c179e"
             ],
             [
              0.4444444444444444,
              "#bd3786"
             ],
             [
              0.5555555555555556,
              "#d8576b"
             ],
             [
              0.6666666666666666,
              "#ed7953"
             ],
             [
              0.7777777777777778,
              "#fb9f3a"
             ],
             [
              0.8888888888888888,
              "#fdca26"
             ],
             [
              1,
              "#f0f921"
             ]
            ],
            "type": "histogram2d"
           }
          ],
          "histogram2dcontour": [
           {
            "colorbar": {
             "outlinewidth": 0,
             "ticks": ""
            },
            "colorscale": [
             [
              0,
              "#0d0887"
             ],
             [
              0.1111111111111111,
              "#46039f"
             ],
             [
              0.2222222222222222,
              "#7201a8"
             ],
             [
              0.3333333333333333,
              "#9c179e"
             ],
             [
              0.4444444444444444,
              "#bd3786"
             ],
             [
              0.5555555555555556,
              "#d8576b"
             ],
             [
              0.6666666666666666,
              "#ed7953"
             ],
             [
              0.7777777777777778,
              "#fb9f3a"
             ],
             [
              0.8888888888888888,
              "#fdca26"
             ],
             [
              1,
              "#f0f921"
             ]
            ],
            "type": "histogram2dcontour"
           }
          ],
          "mesh3d": [
           {
            "colorbar": {
             "outlinewidth": 0,
             "ticks": ""
            },
            "type": "mesh3d"
           }
          ],
          "parcoords": [
           {
            "line": {
             "colorbar": {
              "outlinewidth": 0,
              "ticks": ""
             }
            },
            "type": "parcoords"
           }
          ],
          "pie": [
           {
            "automargin": true,
            "type": "pie"
           }
          ],
          "scatter": [
           {
            "marker": {
             "colorbar": {
              "outlinewidth": 0,
              "ticks": ""
             }
            },
            "type": "scatter"
           }
          ],
          "scatter3d": [
           {
            "line": {
             "colorbar": {
              "outlinewidth": 0,
              "ticks": ""
             }
            },
            "marker": {
             "colorbar": {
              "outlinewidth": 0,
              "ticks": ""
             }
            },
            "type": "scatter3d"
           }
          ],
          "scattercarpet": [
           {
            "marker": {
             "colorbar": {
              "outlinewidth": 0,
              "ticks": ""
             }
            },
            "type": "scattercarpet"
           }
          ],
          "scattergeo": [
           {
            "marker": {
             "colorbar": {
              "outlinewidth": 0,
              "ticks": ""
             }
            },
            "type": "scattergeo"
           }
          ],
          "scattergl": [
           {
            "marker": {
             "colorbar": {
              "outlinewidth": 0,
              "ticks": ""
             }
            },
            "type": "scattergl"
           }
          ],
          "scattermapbox": [
           {
            "marker": {
             "colorbar": {
              "outlinewidth": 0,
              "ticks": ""
             }
            },
            "type": "scattermapbox"
           }
          ],
          "scatterpolar": [
           {
            "marker": {
             "colorbar": {
              "outlinewidth": 0,
              "ticks": ""
             }
            },
            "type": "scatterpolar"
           }
          ],
          "scatterpolargl": [
           {
            "marker": {
             "colorbar": {
              "outlinewidth": 0,
              "ticks": ""
             }
            },
            "type": "scatterpolargl"
           }
          ],
          "scatterternary": [
           {
            "marker": {
             "colorbar": {
              "outlinewidth": 0,
              "ticks": ""
             }
            },
            "type": "scatterternary"
           }
          ],
          "surface": [
           {
            "colorbar": {
             "outlinewidth": 0,
             "ticks": ""
            },
            "colorscale": [
             [
              0,
              "#0d0887"
             ],
             [
              0.1111111111111111,
              "#46039f"
             ],
             [
              0.2222222222222222,
              "#7201a8"
             ],
             [
              0.3333333333333333,
              "#9c179e"
             ],
             [
              0.4444444444444444,
              "#bd3786"
             ],
             [
              0.5555555555555556,
              "#d8576b"
             ],
             [
              0.6666666666666666,
              "#ed7953"
             ],
             [
              0.7777777777777778,
              "#fb9f3a"
             ],
             [
              0.8888888888888888,
              "#fdca26"
             ],
             [
              1,
              "#f0f921"
             ]
            ],
            "type": "surface"
           }
          ],
          "table": [
           {
            "cells": {
             "fill": {
              "color": "#EBF0F8"
             },
             "line": {
              "color": "white"
             }
            },
            "header": {
             "fill": {
              "color": "#C8D4E3"
             },
             "line": {
              "color": "white"
             }
            },
            "type": "table"
           }
          ]
         },
         "layout": {
          "annotationdefaults": {
           "arrowcolor": "#2a3f5f",
           "arrowhead": 0,
           "arrowwidth": 1
          },
          "autotypenumbers": "strict",
          "coloraxis": {
           "colorbar": {
            "outlinewidth": 0,
            "ticks": ""
           }
          },
          "colorscale": {
           "diverging": [
            [
             0,
             "#8e0152"
            ],
            [
             0.1,
             "#c51b7d"
            ],
            [
             0.2,
             "#de77ae"
            ],
            [
             0.3,
             "#f1b6da"
            ],
            [
             0.4,
             "#fde0ef"
            ],
            [
             0.5,
             "#f7f7f7"
            ],
            [
             0.6,
             "#e6f5d0"
            ],
            [
             0.7,
             "#b8e186"
            ],
            [
             0.8,
             "#7fbc41"
            ],
            [
             0.9,
             "#4d9221"
            ],
            [
             1,
             "#276419"
            ]
           ],
           "sequential": [
            [
             0,
             "#0d0887"
            ],
            [
             0.1111111111111111,
             "#46039f"
            ],
            [
             0.2222222222222222,
             "#7201a8"
            ],
            [
             0.3333333333333333,
             "#9c179e"
            ],
            [
             0.4444444444444444,
             "#bd3786"
            ],
            [
             0.5555555555555556,
             "#d8576b"
            ],
            [
             0.6666666666666666,
             "#ed7953"
            ],
            [
             0.7777777777777778,
             "#fb9f3a"
            ],
            [
             0.8888888888888888,
             "#fdca26"
            ],
            [
             1,
             "#f0f921"
            ]
           ],
           "sequentialminus": [
            [
             0,
             "#0d0887"
            ],
            [
             0.1111111111111111,
             "#46039f"
            ],
            [
             0.2222222222222222,
             "#7201a8"
            ],
            [
             0.3333333333333333,
             "#9c179e"
            ],
            [
             0.4444444444444444,
             "#bd3786"
            ],
            [
             0.5555555555555556,
             "#d8576b"
            ],
            [
             0.6666666666666666,
             "#ed7953"
            ],
            [
             0.7777777777777778,
             "#fb9f3a"
            ],
            [
             0.8888888888888888,
             "#fdca26"
            ],
            [
             1,
             "#f0f921"
            ]
           ]
          },
          "colorway": [
           "#636efa",
           "#EF553B",
           "#00cc96",
           "#ab63fa",
           "#FFA15A",
           "#19d3f3",
           "#FF6692",
           "#B6E880",
           "#FF97FF",
           "#FECB52"
          ],
          "font": {
           "color": "#2a3f5f"
          },
          "geo": {
           "bgcolor": "white",
           "lakecolor": "white",
           "landcolor": "#E5ECF6",
           "showlakes": true,
           "showland": true,
           "subunitcolor": "white"
          },
          "hoverlabel": {
           "align": "left"
          },
          "hovermode": "closest",
          "mapbox": {
           "style": "light"
          },
          "paper_bgcolor": "white",
          "plot_bgcolor": "#E5ECF6",
          "polar": {
           "angularaxis": {
            "gridcolor": "white",
            "linecolor": "white",
            "ticks": ""
           },
           "bgcolor": "#E5ECF6",
           "radialaxis": {
            "gridcolor": "white",
            "linecolor": "white",
            "ticks": ""
           }
          },
          "scene": {
           "xaxis": {
            "backgroundcolor": "#E5ECF6",
            "gridcolor": "white",
            "gridwidth": 2,
            "linecolor": "white",
            "showbackground": true,
            "ticks": "",
            "zerolinecolor": "white"
           },
           "yaxis": {
            "backgroundcolor": "#E5ECF6",
            "gridcolor": "white",
            "gridwidth": 2,
            "linecolor": "white",
            "showbackground": true,
            "ticks": "",
            "zerolinecolor": "white"
           },
           "zaxis": {
            "backgroundcolor": "#E5ECF6",
            "gridcolor": "white",
            "gridwidth": 2,
            "linecolor": "white",
            "showbackground": true,
            "ticks": "",
            "zerolinecolor": "white"
           }
          },
          "shapedefaults": {
           "line": {
            "color": "#2a3f5f"
           }
          },
          "ternary": {
           "aaxis": {
            "gridcolor": "white",
            "linecolor": "white",
            "ticks": ""
           },
           "baxis": {
            "gridcolor": "white",
            "linecolor": "white",
            "ticks": ""
           },
           "bgcolor": "#E5ECF6",
           "caxis": {
            "gridcolor": "white",
            "linecolor": "white",
            "ticks": ""
           }
          },
          "title": {
           "x": 0.05
          },
          "xaxis": {
           "automargin": true,
           "gridcolor": "white",
           "linecolor": "white",
           "ticks": "",
           "title": {
            "standoff": 15
           },
           "zerolinecolor": "white",
           "zerolinewidth": 2
          },
          "yaxis": {
           "automargin": true,
           "gridcolor": "white",
           "linecolor": "white",
           "ticks": "",
           "title": {
            "standoff": 15
           },
           "zerolinecolor": "white",
           "zerolinewidth": 2
          }
         }
        },
        "title": {
         "text": "DadosAnalise: Tipo de Lançamento x Percentual Crescimento"
        },
        "xaxis": {
         "anchor": "y",
         "domain": [
          0,
          1
         ],
         "title": {
          "text": "DataProjecao"
         }
        },
        "yaxis": {
         "anchor": "x",
         "domain": [
          0,
          1
         ],
         "title": {
          "text": "ConsumoPorM3"
         }
        }
       }
      },
      "text/html": [
       "<div>                            <div id=\"83883397-113a-4652-b031-ec2ac06d1c6d\" class=\"plotly-graph-div\" style=\"height:525px; width:100%;\"></div>            <script type=\"text/javascript\">                require([\"plotly\"], function(Plotly) {                    window.PLOTLYENV=window.PLOTLYENV || {};                                    if (document.getElementById(\"83883397-113a-4652-b031-ec2ac06d1c6d\")) {                    Plotly.newPlot(                        \"83883397-113a-4652-b031-ec2ac06d1c6d\",                        [{\"hovertemplate\": \"DataProjecao=%{x}<br>ConsumoPorM3=%{y}<extra></extra>\", \"legendgroup\": \"\", \"marker\": {\"color\": \"#636efa\", \"symbol\": \"circle\"}, \"mode\": \"markers\", \"name\": \"\", \"orientation\": \"v\", \"showlegend\": false, \"type\": \"scatter\", \"x\": [\"2017-07-07\", \"2017-07-07\", \"2017-07-07\", \"2017-07-07\", \"2017-08-04\", \"2017-08-11\", \"2017-10-20\", \"2017-10-20\", \"2017-10-20\", \"2017-10-20\", \"2017-10-20\", \"2017-10-20\", \"2017-10-20\", \"2017-10-20\", \"2017-10-20\", \"2017-10-27\", \"2017-10-27\", \"2017-10-27\", \"2017-10-27\", \"2017-11-03\", \"2017-11-03\", \"2017-11-03\", \"2017-11-03\", \"2017-11-10\", \"2017-11-10\", \"2017-11-10\", \"2017-11-10\", \"2017-11-17\", \"2017-11-24\", \"2017-12-15\", \"2017-12-15\", \"2018-01-12\", \"2018-01-12\", \"2018-01-12\", \"2018-01-12\", \"2018-03-09\", \"2018-03-09\", \"2018-03-09\", \"2018-03-09\", \"2018-03-09\", \"2018-03-16\", \"2018-03-16\", \"2018-03-16\", \"2018-07-06\", \"2018-07-06\", \"2018-07-13\", \"2018-07-13\", \"2018-07-20\", \"2018-07-20\", \"2018-08-10\", \"2018-08-10\", \"2018-08-10\", \"2018-09-28\", \"2018-09-28\", \"2018-09-28\", \"2018-10-05\", \"2018-10-05\", \"2018-10-05\", \"2018-10-05\", \"2018-10-12\", \"2018-10-12\", \"2018-10-19\", \"2018-10-19\", \"2018-10-19\", \"2018-10-19\", \"2018-10-19\", \"2018-10-19\", \"2018-10-26\", \"2018-10-26\", \"2018-10-26\", \"2018-10-26\", \"2018-10-26\", \"2018-10-26\", \"2018-10-26\", \"2018-10-26\", \"2018-10-26\", \"2018-11-02\", \"2018-11-09\", \"2018-11-09\", \"2018-11-09\", \"2018-11-09\", \"2018-11-09\", \"2018-11-16\", \"2018-11-16\", \"2018-11-23\", \"2018-11-23\", \"2018-11-23\", \"2018-11-30\", \"2018-11-30\", \"2018-11-30\", \"2018-11-30\", \"2018-11-30\", \"2018-11-30\", \"2018-12-07\", \"2018-12-07\", \"2018-12-07\", \"2018-12-07\", \"2018-12-07\", \"2018-12-07\", \"2018-12-07\", \"2018-12-07\", \"2018-12-07\", \"2018-12-07\", \"2018-12-07\", \"2018-12-07\", \"2018-12-07\", \"2018-12-07\", \"2018-12-07\", \"2018-12-07\", \"2018-12-07\", \"2018-12-07\", \"2018-12-07\", \"2018-12-07\", \"2018-12-07\", \"2018-12-07\", \"2018-12-14\", \"2018-12-14\", \"2018-12-14\", \"2018-12-14\", \"2018-12-14\", \"2018-12-21\", \"2018-12-21\", \"2018-12-21\", \"2018-12-21\", \"2018-12-21\", \"2018-12-21\", \"2018-12-28\", \"2019-01-04\", \"2019-01-11\", \"2019-01-11\", \"2019-01-11\", \"2019-01-18\", \"2019-01-18\", \"2019-01-18\", \"2019-01-25\", \"2019-01-25\", \"2019-01-25\", \"2019-01-25\", \"2019-01-25\", \"2019-01-25\", \"2019-01-25\", \"2019-01-25\", \"2019-01-25\", \"2019-02-01\", \"2019-02-01\", \"2019-02-01\", \"2019-02-01\", \"2019-02-01\", \"2019-02-01\", \"2019-02-01\", \"2019-02-01\", \"2019-02-01\", \"2019-02-01\", \"2019-02-01\", \"2019-02-01\", \"2019-02-08\", \"2019-03-01\", \"2019-03-01\", \"2019-03-08\", \"2019-03-08\", \"2019-03-08\", \"2019-03-08\", \"2019-03-08\", \"2019-03-08\", \"2019-03-08\", \"2019-03-15\", \"2019-03-15\", \"2019-03-15\", \"2019-03-15\", \"2019-03-15\", \"2019-03-15\", \"2019-03-15\", \"2019-03-22\", \"2019-03-22\", \"2019-03-22\", \"2019-03-22\", \"2019-03-22\", \"2019-03-22\", \"2019-03-22\", \"2019-03-22\", \"2019-03-22\", \"2019-04-05\", \"2019-04-05\"], \"xaxis\": \"x\", \"y\": [292.0, 289.0, 289.0, 289.0, 278.0, 289.0, 289.0, 278.0, 278.0, 278.0, 272.0, 272.0, 272.0, 272.0, 272.0, 272.0, 272.0, 272.0, 272.0, 272.0, 272.0, 272.0, 272.0, 272.0, 292.0, 292.0, 289.0, 320.0, 320.0, 320.0, 320.0, 324.0, 324.0, 324.0, 324.0, 321.0, 321.0, 321.0, 321.0, 321.0, 321.0, 321.0, 321.0, 287.0, 281.0, 275.0, 281.0, 281.0, 281.0, 281.0, 281.0, 281.0, 256.0, 256.0, 256.0, 268.0, 268.0, 268.0, 268.0, 268.0, 268.0, 283.0, 283.0, 283.0, 283.0, 268.0, 311.0, 273.0, 268.0, 268.0, 268.0, 268.0, 268.0, 268.0, 262.0, 262.0, 266.0, 268.0, 268.0, 264.0, 264.0, 264.0, 268.0, 264.0, 275.0, 275.0, 264.0, 275.0, 275.0, 275.0, 264.0, 264.0, 264.0, 264.0, 264.0, 253.0, 253.0, 253.0, 253.0, 253.0, 253.0, 253.0, 253.0, 253.0, 253.0, 253.0, 253.0, 253.0, 253.0, 253.0, 253.0, 253.0, 253.0, 253.0, 283.0, 253.0, 253.0, 253.0, 253.0, 253.0, 254.0, 254.0, 254.0, 254.0, 254.0, 254.0, 254.0, 244.0, 229.0, 223.0, 244.0, 229.0, 229.0, 229.0, 229.0, 229.0, 223.0, 229.0, 223.0, 229.0, 229.0, 229.0, 229.0, 229.0, 229.0, 229.0, 229.0, 229.0, 229.0, 229.0, 229.0, 244.0, 244.0, 244.0, 244.0, 233.0, 267.0, 227.0, 267.0, 261.0, 273.0, 268.0, 273.0, 273.0, 285.0, 277.0, 277.0, 277.0, 277.0, 227.0, 277.0, 277.0, 227.0, 227.0, 221.0, 264.0, 295.0, 295.0, 295.0, 295.0, 272.0, 277.0, 277.0], \"yaxis\": \"y\"}],                        {\"legend\": {\"tracegroupgap\": 0}, \"template\": {\"data\": {\"bar\": [{\"error_x\": {\"color\": \"#2a3f5f\"}, \"error_y\": {\"color\": \"#2a3f5f\"}, \"marker\": {\"line\": {\"color\": \"#E5ECF6\", \"width\": 0.5}}, \"type\": \"bar\"}], \"barpolar\": [{\"marker\": {\"line\": {\"color\": \"#E5ECF6\", \"width\": 0.5}}, \"type\": \"barpolar\"}], \"carpet\": [{\"aaxis\": {\"endlinecolor\": \"#2a3f5f\", \"gridcolor\": \"white\", \"linecolor\": \"white\", \"minorgridcolor\": \"white\", \"startlinecolor\": \"#2a3f5f\"}, \"baxis\": {\"endlinecolor\": \"#2a3f5f\", \"gridcolor\": \"white\", \"linecolor\": \"white\", \"minorgridcolor\": \"white\", \"startlinecolor\": \"#2a3f5f\"}, \"type\": \"carpet\"}], \"choropleth\": [{\"colorbar\": {\"outlinewidth\": 0, \"ticks\": \"\"}, \"type\": \"choropleth\"}], \"contour\": [{\"colorbar\": {\"outlinewidth\": 0, \"ticks\": \"\"}, \"colorscale\": [[0.0, \"#0d0887\"], [0.1111111111111111, \"#46039f\"], [0.2222222222222222, \"#7201a8\"], [0.3333333333333333, \"#9c179e\"], [0.4444444444444444, \"#bd3786\"], [0.5555555555555556, \"#d8576b\"], [0.6666666666666666, \"#ed7953\"], [0.7777777777777778, \"#fb9f3a\"], [0.8888888888888888, \"#fdca26\"], [1.0, \"#f0f921\"]], \"type\": \"contour\"}], \"contourcarpet\": [{\"colorbar\": {\"outlinewidth\": 0, \"ticks\": \"\"}, \"type\": \"contourcarpet\"}], \"heatmap\": [{\"colorbar\": {\"outlinewidth\": 0, \"ticks\": \"\"}, \"colorscale\": [[0.0, \"#0d0887\"], [0.1111111111111111, \"#46039f\"], [0.2222222222222222, \"#7201a8\"], [0.3333333333333333, \"#9c179e\"], [0.4444444444444444, \"#bd3786\"], [0.5555555555555556, \"#d8576b\"], [0.6666666666666666, \"#ed7953\"], [0.7777777777777778, \"#fb9f3a\"], [0.8888888888888888, \"#fdca26\"], [1.0, \"#f0f921\"]], \"type\": \"heatmap\"}], \"heatmapgl\": [{\"colorbar\": {\"outlinewidth\": 0, \"ticks\": \"\"}, \"colorscale\": [[0.0, \"#0d0887\"], [0.1111111111111111, \"#46039f\"], [0.2222222222222222, \"#7201a8\"], [0.3333333333333333, \"#9c179e\"], [0.4444444444444444, \"#bd3786\"], [0.5555555555555556, \"#d8576b\"], [0.6666666666666666, \"#ed7953\"], [0.7777777777777778, \"#fb9f3a\"], [0.8888888888888888, \"#fdca26\"], [1.0, \"#f0f921\"]], \"type\": \"heatmapgl\"}], \"histogram\": [{\"marker\": {\"colorbar\": {\"outlinewidth\": 0, \"ticks\": \"\"}}, \"type\": \"histogram\"}], \"histogram2d\": [{\"colorbar\": {\"outlinewidth\": 0, \"ticks\": \"\"}, \"colorscale\": [[0.0, \"#0d0887\"], [0.1111111111111111, \"#46039f\"], [0.2222222222222222, \"#7201a8\"], [0.3333333333333333, \"#9c179e\"], [0.4444444444444444, \"#bd3786\"], [0.5555555555555556, \"#d8576b\"], [0.6666666666666666, \"#ed7953\"], [0.7777777777777778, \"#fb9f3a\"], [0.8888888888888888, \"#fdca26\"], [1.0, \"#f0f921\"]], \"type\": \"histogram2d\"}], \"histogram2dcontour\": [{\"colorbar\": {\"outlinewidth\": 0, \"ticks\": \"\"}, \"colorscale\": [[0.0, \"#0d0887\"], [0.1111111111111111, \"#46039f\"], [0.2222222222222222, \"#7201a8\"], [0.3333333333333333, \"#9c179e\"], [0.4444444444444444, \"#bd3786\"], [0.5555555555555556, \"#d8576b\"], [0.6666666666666666, \"#ed7953\"], [0.7777777777777778, \"#fb9f3a\"], [0.8888888888888888, \"#fdca26\"], [1.0, \"#f0f921\"]], \"type\": \"histogram2dcontour\"}], \"mesh3d\": [{\"colorbar\": {\"outlinewidth\": 0, \"ticks\": \"\"}, \"type\": \"mesh3d\"}], \"parcoords\": [{\"line\": {\"colorbar\": {\"outlinewidth\": 0, \"ticks\": \"\"}}, \"type\": \"parcoords\"}], \"pie\": [{\"automargin\": true, \"type\": \"pie\"}], \"scatter\": [{\"marker\": {\"colorbar\": {\"outlinewidth\": 0, \"ticks\": \"\"}}, \"type\": \"scatter\"}], \"scatter3d\": [{\"line\": {\"colorbar\": {\"outlinewidth\": 0, \"ticks\": \"\"}}, \"marker\": {\"colorbar\": {\"outlinewidth\": 0, \"ticks\": \"\"}}, \"type\": \"scatter3d\"}], \"scattercarpet\": [{\"marker\": {\"colorbar\": {\"outlinewidth\": 0, \"ticks\": \"\"}}, \"type\": \"scattercarpet\"}], \"scattergeo\": [{\"marker\": {\"colorbar\": {\"outlinewidth\": 0, \"ticks\": \"\"}}, \"type\": \"scattergeo\"}], \"scattergl\": [{\"marker\": {\"colorbar\": {\"outlinewidth\": 0, \"ticks\": \"\"}}, \"type\": \"scattergl\"}], \"scattermapbox\": [{\"marker\": {\"colorbar\": {\"outlinewidth\": 0, \"ticks\": \"\"}}, \"type\": \"scattermapbox\"}], \"scatterpolar\": [{\"marker\": {\"colorbar\": {\"outlinewidth\": 0, \"ticks\": \"\"}}, \"type\": \"scatterpolar\"}], \"scatterpolargl\": [{\"marker\": {\"colorbar\": {\"outlinewidth\": 0, \"ticks\": \"\"}}, \"type\": \"scatterpolargl\"}], \"scatterternary\": [{\"marker\": {\"colorbar\": {\"outlinewidth\": 0, \"ticks\": \"\"}}, \"type\": \"scatterternary\"}], \"surface\": [{\"colorbar\": {\"outlinewidth\": 0, \"ticks\": \"\"}, \"colorscale\": [[0.0, \"#0d0887\"], [0.1111111111111111, \"#46039f\"], [0.2222222222222222, \"#7201a8\"], [0.3333333333333333, \"#9c179e\"], [0.4444444444444444, \"#bd3786\"], [0.5555555555555556, \"#d8576b\"], [0.6666666666666666, \"#ed7953\"], [0.7777777777777778, \"#fb9f3a\"], [0.8888888888888888, \"#fdca26\"], [1.0, \"#f0f921\"]], \"type\": \"surface\"}], \"table\": [{\"cells\": {\"fill\": {\"color\": \"#EBF0F8\"}, \"line\": {\"color\": \"white\"}}, \"header\": {\"fill\": {\"color\": \"#C8D4E3\"}, \"line\": {\"color\": \"white\"}}, \"type\": \"table\"}]}, \"layout\": {\"annotationdefaults\": {\"arrowcolor\": \"#2a3f5f\", \"arrowhead\": 0, \"arrowwidth\": 1}, \"autotypenumbers\": \"strict\", \"coloraxis\": {\"colorbar\": {\"outlinewidth\": 0, \"ticks\": \"\"}}, \"colorscale\": {\"diverging\": [[0, \"#8e0152\"], [0.1, \"#c51b7d\"], [0.2, \"#de77ae\"], [0.3, \"#f1b6da\"], [0.4, \"#fde0ef\"], [0.5, \"#f7f7f7\"], [0.6, \"#e6f5d0\"], [0.7, \"#b8e186\"], [0.8, \"#7fbc41\"], [0.9, \"#4d9221\"], [1, \"#276419\"]], \"sequential\": [[0.0, \"#0d0887\"], [0.1111111111111111, \"#46039f\"], [0.2222222222222222, \"#7201a8\"], [0.3333333333333333, \"#9c179e\"], [0.4444444444444444, \"#bd3786\"], [0.5555555555555556, \"#d8576b\"], [0.6666666666666666, \"#ed7953\"], [0.7777777777777778, \"#fb9f3a\"], [0.8888888888888888, \"#fdca26\"], [1.0, \"#f0f921\"]], \"sequentialminus\": [[0.0, \"#0d0887\"], [0.1111111111111111, \"#46039f\"], [0.2222222222222222, \"#7201a8\"], [0.3333333333333333, \"#9c179e\"], [0.4444444444444444, \"#bd3786\"], [0.5555555555555556, \"#d8576b\"], [0.6666666666666666, \"#ed7953\"], [0.7777777777777778, \"#fb9f3a\"], [0.8888888888888888, \"#fdca26\"], [1.0, \"#f0f921\"]]}, \"colorway\": [\"#636efa\", \"#EF553B\", \"#00cc96\", \"#ab63fa\", \"#FFA15A\", \"#19d3f3\", \"#FF6692\", \"#B6E880\", \"#FF97FF\", \"#FECB52\"], \"font\": {\"color\": \"#2a3f5f\"}, \"geo\": {\"bgcolor\": \"white\", \"lakecolor\": \"white\", \"landcolor\": \"#E5ECF6\", \"showlakes\": true, \"showland\": true, \"subunitcolor\": \"white\"}, \"hoverlabel\": {\"align\": \"left\"}, \"hovermode\": \"closest\", \"mapbox\": {\"style\": \"light\"}, \"paper_bgcolor\": \"white\", \"plot_bgcolor\": \"#E5ECF6\", \"polar\": {\"angularaxis\": {\"gridcolor\": \"white\", \"linecolor\": \"white\", \"ticks\": \"\"}, \"bgcolor\": \"#E5ECF6\", \"radialaxis\": {\"gridcolor\": \"white\", \"linecolor\": \"white\", \"ticks\": \"\"}}, \"scene\": {\"xaxis\": {\"backgroundcolor\": \"#E5ECF6\", \"gridcolor\": \"white\", \"gridwidth\": 2, \"linecolor\": \"white\", \"showbackground\": true, \"ticks\": \"\", \"zerolinecolor\": \"white\"}, \"yaxis\": {\"backgroundcolor\": \"#E5ECF6\", \"gridcolor\": \"white\", \"gridwidth\": 2, \"linecolor\": \"white\", \"showbackground\": true, \"ticks\": \"\", \"zerolinecolor\": \"white\"}, \"zaxis\": {\"backgroundcolor\": \"#E5ECF6\", \"gridcolor\": \"white\", \"gridwidth\": 2, \"linecolor\": \"white\", \"showbackground\": true, \"ticks\": \"\", \"zerolinecolor\": \"white\"}}, \"shapedefaults\": {\"line\": {\"color\": \"#2a3f5f\"}}, \"ternary\": {\"aaxis\": {\"gridcolor\": \"white\", \"linecolor\": \"white\", \"ticks\": \"\"}, \"baxis\": {\"gridcolor\": \"white\", \"linecolor\": \"white\", \"ticks\": \"\"}, \"bgcolor\": \"#E5ECF6\", \"caxis\": {\"gridcolor\": \"white\", \"linecolor\": \"white\", \"ticks\": \"\"}}, \"title\": {\"x\": 0.05}, \"xaxis\": {\"automargin\": true, \"gridcolor\": \"white\", \"linecolor\": \"white\", \"ticks\": \"\", \"title\": {\"standoff\": 15}, \"zerolinecolor\": \"white\", \"zerolinewidth\": 2}, \"yaxis\": {\"automargin\": true, \"gridcolor\": \"white\", \"linecolor\": \"white\", \"ticks\": \"\", \"title\": {\"standoff\": 15}, \"zerolinecolor\": \"white\", \"zerolinewidth\": 2}}}, \"title\": {\"text\": \"DadosAnalise: Tipo de Lan\\u00e7amento x Percentual Crescimento\"}, \"xaxis\": {\"anchor\": \"y\", \"domain\": [0.0, 1.0], \"title\": {\"text\": \"DataProjecao\"}}, \"yaxis\": {\"anchor\": \"x\", \"domain\": [0.0, 1.0], \"title\": {\"text\": \"ConsumoPorM3\"}}},                        {\"responsive\": true}                    ).then(function(){\n",
       "                            \n",
       "var gd = document.getElementById('83883397-113a-4652-b031-ec2ac06d1c6d');\n",
       "var x = new MutationObserver(function (mutations, observer) {{\n",
       "        var display = window.getComputedStyle(gd).display;\n",
       "        if (!display || display === 'none') {{\n",
       "            console.log([gd, 'removed!']);\n",
       "            Plotly.purge(gd);\n",
       "            observer.disconnect();\n",
       "        }}\n",
       "}});\n",
       "\n",
       "// Listen for the removal of the full notebook cells\n",
       "var notebookContainer = gd.closest('#notebook-container');\n",
       "if (notebookContainer) {{\n",
       "    x.observe(notebookContainer, {childList: true});\n",
       "}}\n",
       "\n",
       "// Listen for the clearing of the current output cell\n",
       "var outputEl = gd.closest('.output');\n",
       "if (outputEl) {{\n",
       "    x.observe(outputEl, {childList: true});\n",
       "}}\n",
       "\n",
       "                        })                };                });            </script>        </div>"
      ]
     },
     "metadata": {},
     "output_type": "display_data"
    }
   ],
   "source": [
    "fig = px.scatter(da_fck_esp, x=\"DataProjecao\", y=\"ConsumoPorM3\", title='DadosAnalise: Tipo de Lançamento x Percentual Crescimento')\n",
    "fig.show()"
   ]
  },
  {
   "cell_type": "code",
   "execution_count": 561,
   "metadata": {},
   "outputs": [
    {
     "data": {
      "text/html": [
       "<div>\n",
       "<style scoped>\n",
       "    .dataframe tbody tr th:only-of-type {\n",
       "        vertical-align: middle;\n",
       "    }\n",
       "\n",
       "    .dataframe tbody tr th {\n",
       "        vertical-align: top;\n",
       "    }\n",
       "\n",
       "    .dataframe thead th {\n",
       "        text-align: right;\n",
       "    }\n",
       "</style>\n",
       "<table border=\"1\" class=\"dataframe\">\n",
       "  <thead>\n",
       "    <tr style=\"text-align: right;\">\n",
       "      <th></th>\n",
       "      <th>CodigoReceita</th>\n",
       "      <th>Volume</th>\n",
       "      <th>TipoLancamento</th>\n",
       "      <th>DataEmissaoNotaFiscal</th>\n",
       "      <th>CodigoCliente</th>\n",
       "      <th>CodigoMotorista</th>\n",
       "      <th>TempoPermanenciaObra</th>\n",
       "      <th>ConsumoTotal</th>\n",
       "      <th>Idade</th>\n",
       "      <th>TipoTraco</th>\n",
       "      <th>CodigoAglomerante</th>\n",
       "      <th>FCK</th>\n",
       "      <th>Rompimento7Dias</th>\n",
       "      <th>Rompimento28Dias</th>\n",
       "      <th>ConsumoPorM3</th>\n",
       "      <th>DesvioAplicado</th>\n",
       "      <th>ResultadoProjetado</th>\n",
       "      <th>PercentualCrescimentoReal</th>\n",
       "      <th>PercentualCrescimentoProjetado</th>\n",
       "      <th>RelacaoAguaCimento</th>\n",
       "      <th>DataProjecao</th>\n",
       "    </tr>\n",
       "  </thead>\n",
       "  <tbody>\n",
       "    <tr>\n",
       "      <th>40062</th>\n",
       "      <td>34907051</td>\n",
       "      <td>4.0</td>\n",
       "      <td>0</td>\n",
       "      <td>2017-10-17 14:18:20.130</td>\n",
       "      <td>135588051</td>\n",
       "      <td>727051</td>\n",
       "      <td>00:55:00</td>\n",
       "      <td>1.088.000</td>\n",
       "      <td>28</td>\n",
       "      <td>0</td>\n",
       "      <td>75051.0</td>\n",
       "      <td>25.0</td>\n",
       "      <td>21.06</td>\n",
       "      <td>27.93</td>\n",
       "      <td>272.0</td>\n",
       "      <td>6.0</td>\n",
       "      <td>28.137339</td>\n",
       "      <td>32.621083</td>\n",
       "      <td>33.605599</td>\n",
       "      <td>0.500000</td>\n",
       "      <td>2017-10-20</td>\n",
       "    </tr>\n",
       "    <tr>\n",
       "      <th>40063</th>\n",
       "      <td>34907051</td>\n",
       "      <td>5.0</td>\n",
       "      <td>0</td>\n",
       "      <td>2017-10-17 15:03:59.007</td>\n",
       "      <td>11129051</td>\n",
       "      <td>226051</td>\n",
       "      <td>00:39:00</td>\n",
       "      <td>1.360.000</td>\n",
       "      <td>28</td>\n",
       "      <td>0</td>\n",
       "      <td>75051.0</td>\n",
       "      <td>25.0</td>\n",
       "      <td>25.24</td>\n",
       "      <td>30.76</td>\n",
       "      <td>272.0</td>\n",
       "      <td>6.0</td>\n",
       "      <td>32.492773</td>\n",
       "      <td>21.870048</td>\n",
       "      <td>28.735232</td>\n",
       "      <td>0.500000</td>\n",
       "      <td>2017-10-20</td>\n",
       "    </tr>\n",
       "    <tr>\n",
       "      <th>40064</th>\n",
       "      <td>34907051</td>\n",
       "      <td>5.0</td>\n",
       "      <td>0</td>\n",
       "      <td>2017-10-19 15:00:35.337</td>\n",
       "      <td>11129051</td>\n",
       "      <td>731051</td>\n",
       "      <td>00:22:00</td>\n",
       "      <td>1.360.000</td>\n",
       "      <td>28</td>\n",
       "      <td>0</td>\n",
       "      <td>75051.0</td>\n",
       "      <td>25.0</td>\n",
       "      <td>23.39</td>\n",
       "      <td>35.22</td>\n",
       "      <td>272.0</td>\n",
       "      <td>6.0</td>\n",
       "      <td>30.590120</td>\n",
       "      <td>50.577170</td>\n",
       "      <td>30.782899</td>\n",
       "      <td>0.533088</td>\n",
       "      <td>2017-10-20</td>\n",
       "    </tr>\n",
       "    <tr>\n",
       "      <th>40065</th>\n",
       "      <td>34907051</td>\n",
       "      <td>7.0</td>\n",
       "      <td>0</td>\n",
       "      <td>2017-10-20 15:15:39.860</td>\n",
       "      <td>11129051</td>\n",
       "      <td>226051</td>\n",
       "      <td>00:58:00</td>\n",
       "      <td>1.904.000</td>\n",
       "      <td>28</td>\n",
       "      <td>0</td>\n",
       "      <td>75051.0</td>\n",
       "      <td>25.0</td>\n",
       "      <td>26.91</td>\n",
       "      <td>36.01</td>\n",
       "      <td>272.0</td>\n",
       "      <td>6.0</td>\n",
       "      <td>34.178877</td>\n",
       "      <td>33.816425</td>\n",
       "      <td>27.011805</td>\n",
       "      <td>0.507353</td>\n",
       "      <td>2017-10-20</td>\n",
       "    </tr>\n",
       "    <tr>\n",
       "      <th>40061</th>\n",
       "      <td>34907051</td>\n",
       "      <td>6.0</td>\n",
       "      <td>0</td>\n",
       "      <td>2017-10-16 16:51:51.757</td>\n",
       "      <td>11129051</td>\n",
       "      <td>66079</td>\n",
       "      <td>00:20:00</td>\n",
       "      <td>1.632.000</td>\n",
       "      <td>28</td>\n",
       "      <td>0</td>\n",
       "      <td>75051.0</td>\n",
       "      <td>25.0</td>\n",
       "      <td>21.02</td>\n",
       "      <td>29.78</td>\n",
       "      <td>272.0</td>\n",
       "      <td>6.0</td>\n",
       "      <td>28.094647</td>\n",
       "      <td>41.674596</td>\n",
       "      <td>33.656740</td>\n",
       "      <td>0.558824</td>\n",
       "      <td>2017-10-20</td>\n",
       "    </tr>\n",
       "    <tr>\n",
       "      <th>40104</th>\n",
       "      <td>34905051</td>\n",
       "      <td>6.0</td>\n",
       "      <td>0</td>\n",
       "      <td>2017-10-14 08:55:17.203</td>\n",
       "      <td>224941998</td>\n",
       "      <td>94079</td>\n",
       "      <td>02:30:00</td>\n",
       "      <td>1.668.000</td>\n",
       "      <td>28</td>\n",
       "      <td>0</td>\n",
       "      <td>75051.0</td>\n",
       "      <td>25.0</td>\n",
       "      <td>23.26</td>\n",
       "      <td>30.69</td>\n",
       "      <td>278.0</td>\n",
       "      <td>6.0</td>\n",
       "      <td>30.454975</td>\n",
       "      <td>31.943250</td>\n",
       "      <td>30.932825</td>\n",
       "      <td>0.503597</td>\n",
       "      <td>2017-10-20</td>\n",
       "    </tr>\n",
       "    <tr>\n",
       "      <th>40105</th>\n",
       "      <td>34905051</td>\n",
       "      <td>5.0</td>\n",
       "      <td>0</td>\n",
       "      <td>2017-10-18 14:36:29.980</td>\n",
       "      <td>130073127</td>\n",
       "      <td>120079</td>\n",
       "      <td>00:49:00</td>\n",
       "      <td>1.390.000</td>\n",
       "      <td>28</td>\n",
       "      <td>0</td>\n",
       "      <td>75051.0</td>\n",
       "      <td>25.0</td>\n",
       "      <td>26.90</td>\n",
       "      <td>36.28</td>\n",
       "      <td>278.0</td>\n",
       "      <td>6.0</td>\n",
       "      <td>34.168865</td>\n",
       "      <td>34.869888</td>\n",
       "      <td>27.021803</td>\n",
       "      <td>0.517986</td>\n",
       "      <td>2017-10-20</td>\n",
       "    </tr>\n",
       "    <tr>\n",
       "      <th>40106</th>\n",
       "      <td>34905051</td>\n",
       "      <td>8.0</td>\n",
       "      <td>0</td>\n",
       "      <td>2017-10-19 14:14:47.860</td>\n",
       "      <td>224809998</td>\n",
       "      <td>624051</td>\n",
       "      <td>00:40:00</td>\n",
       "      <td>2.224.000</td>\n",
       "      <td>28</td>\n",
       "      <td>0</td>\n",
       "      <td>75051.0</td>\n",
       "      <td>25.0</td>\n",
       "      <td>25.55</td>\n",
       "      <td>34.07</td>\n",
       "      <td>278.0</td>\n",
       "      <td>6.0</td>\n",
       "      <td>32.807952</td>\n",
       "      <td>33.346380</td>\n",
       "      <td>28.406856</td>\n",
       "      <td>0.535971</td>\n",
       "      <td>2017-10-20</td>\n",
       "    </tr>\n",
       "    <tr>\n",
       "      <th>39431</th>\n",
       "      <td>34650051</td>\n",
       "      <td>8.0</td>\n",
       "      <td>1</td>\n",
       "      <td>2017-10-17 07:11:43.210</td>\n",
       "      <td>11129051</td>\n",
       "      <td>911051</td>\n",
       "      <td>02:08:00</td>\n",
       "      <td>2.312.000</td>\n",
       "      <td>28</td>\n",
       "      <td>0</td>\n",
       "      <td>75051.0</td>\n",
       "      <td>25.0</td>\n",
       "      <td>20.60</td>\n",
       "      <td>29.06</td>\n",
       "      <td>289.0</td>\n",
       "      <td>6.0</td>\n",
       "      <td>27.645132</td>\n",
       "      <td>41.067961</td>\n",
       "      <td>34.199670</td>\n",
       "      <td>0.560554</td>\n",
       "      <td>2017-10-20</td>\n",
       "    </tr>\n",
       "  </tbody>\n",
       "</table>\n",
       "</div>"
      ],
      "text/plain": [
       "       CodigoReceita  Volume  TipoLancamento    DataEmissaoNotaFiscal  \\\n",
       "40062       34907051     4.0               0  2017-10-17 14:18:20.130   \n",
       "40063       34907051     5.0               0  2017-10-17 15:03:59.007   \n",
       "40064       34907051     5.0               0  2017-10-19 15:00:35.337   \n",
       "40065       34907051     7.0               0  2017-10-20 15:15:39.860   \n",
       "40061       34907051     6.0               0  2017-10-16 16:51:51.757   \n",
       "40104       34905051     6.0               0  2017-10-14 08:55:17.203   \n",
       "40105       34905051     5.0               0  2017-10-18 14:36:29.980   \n",
       "40106       34905051     8.0               0  2017-10-19 14:14:47.860   \n",
       "39431       34650051     8.0               1  2017-10-17 07:11:43.210   \n",
       "\n",
       "       CodigoCliente  CodigoMotorista TempoPermanenciaObra ConsumoTotal  \\\n",
       "40062      135588051           727051             00:55:00    1.088.000   \n",
       "40063       11129051           226051             00:39:00    1.360.000   \n",
       "40064       11129051           731051             00:22:00    1.360.000   \n",
       "40065       11129051           226051             00:58:00    1.904.000   \n",
       "40061       11129051            66079             00:20:00    1.632.000   \n",
       "40104      224941998            94079             02:30:00    1.668.000   \n",
       "40105      130073127           120079             00:49:00    1.390.000   \n",
       "40106      224809998           624051             00:40:00    2.224.000   \n",
       "39431       11129051           911051             02:08:00    2.312.000   \n",
       "\n",
       "       Idade  TipoTraco  CodigoAglomerante   FCK  Rompimento7Dias  \\\n",
       "40062     28          0            75051.0  25.0            21.06   \n",
       "40063     28          0            75051.0  25.0            25.24   \n",
       "40064     28          0            75051.0  25.0            23.39   \n",
       "40065     28          0            75051.0  25.0            26.91   \n",
       "40061     28          0            75051.0  25.0            21.02   \n",
       "40104     28          0            75051.0  25.0            23.26   \n",
       "40105     28          0            75051.0  25.0            26.90   \n",
       "40106     28          0            75051.0  25.0            25.55   \n",
       "39431     28          0            75051.0  25.0            20.60   \n",
       "\n",
       "       Rompimento28Dias  ConsumoPorM3  DesvioAplicado  ResultadoProjetado  \\\n",
       "40062             27.93         272.0             6.0           28.137339   \n",
       "40063             30.76         272.0             6.0           32.492773   \n",
       "40064             35.22         272.0             6.0           30.590120   \n",
       "40065             36.01         272.0             6.0           34.178877   \n",
       "40061             29.78         272.0             6.0           28.094647   \n",
       "40104             30.69         278.0             6.0           30.454975   \n",
       "40105             36.28         278.0             6.0           34.168865   \n",
       "40106             34.07         278.0             6.0           32.807952   \n",
       "39431             29.06         289.0             6.0           27.645132   \n",
       "\n",
       "       PercentualCrescimentoReal  PercentualCrescimentoProjetado  \\\n",
       "40062                  32.621083                       33.605599   \n",
       "40063                  21.870048                       28.735232   \n",
       "40064                  50.577170                       30.782899   \n",
       "40065                  33.816425                       27.011805   \n",
       "40061                  41.674596                       33.656740   \n",
       "40104                  31.943250                       30.932825   \n",
       "40105                  34.869888                       27.021803   \n",
       "40106                  33.346380                       28.406856   \n",
       "39431                  41.067961                       34.199670   \n",
       "\n",
       "       RelacaoAguaCimento DataProjecao  \n",
       "40062            0.500000   2017-10-20  \n",
       "40063            0.500000   2017-10-20  \n",
       "40064            0.533088   2017-10-20  \n",
       "40065            0.507353   2017-10-20  \n",
       "40061            0.558824   2017-10-20  \n",
       "40104            0.503597   2017-10-20  \n",
       "40105            0.517986   2017-10-20  \n",
       "40106            0.535971   2017-10-20  \n",
       "39431            0.560554   2017-10-20  "
      ]
     },
     "execution_count": 561,
     "metadata": {},
     "output_type": "execute_result"
    }
   ],
   "source": [
    "pd.set_option('max_columns', None)\n",
    "mask_data_projecao = da_fck_esp[\"DataProjecao\"] == dt.date(2017, 10, 20)\n",
    "\n",
    "da_fck_data_esp = da_fck_esp[mask_data_projecao]\n",
    "da_fck_data_esp.sort_values(by = \"ConsumoPorM3\")"
   ]
  },
  {
   "cell_type": "code",
   "execution_count": 563,
   "metadata": {},
   "outputs": [
    {
     "data": {
      "application/vnd.plotly.v1+json": {
       "config": {
        "plotlyServerURL": "https://plot.ly"
       },
       "data": [
        {
         "hovertemplate": "ConsumoPorM3=%{x}<br>Rompimento28Dias=%{y}<extra></extra>",
         "legendgroup": "",
         "marker": {
          "color": "#636efa",
          "symbol": "circle"
         },
         "mode": "markers",
         "name": "",
         "orientation": "v",
         "showlegend": false,
         "type": "scatter",
         "x": [
          289,
          278,
          278,
          278,
          272,
          272,
          272,
          272,
          272
         ],
         "xaxis": "x",
         "y": [
          29.06,
          30.69,
          36.28,
          34.07,
          27.93,
          30.76,
          35.22,
          36.01,
          29.78
         ],
         "yaxis": "y"
        }
       ],
       "layout": {
        "legend": {
         "tracegroupgap": 0
        },
        "template": {
         "data": {
          "bar": [
           {
            "error_x": {
             "color": "#2a3f5f"
            },
            "error_y": {
             "color": "#2a3f5f"
            },
            "marker": {
             "line": {
              "color": "#E5ECF6",
              "width": 0.5
             }
            },
            "type": "bar"
           }
          ],
          "barpolar": [
           {
            "marker": {
             "line": {
              "color": "#E5ECF6",
              "width": 0.5
             }
            },
            "type": "barpolar"
           }
          ],
          "carpet": [
           {
            "aaxis": {
             "endlinecolor": "#2a3f5f",
             "gridcolor": "white",
             "linecolor": "white",
             "minorgridcolor": "white",
             "startlinecolor": "#2a3f5f"
            },
            "baxis": {
             "endlinecolor": "#2a3f5f",
             "gridcolor": "white",
             "linecolor": "white",
             "minorgridcolor": "white",
             "startlinecolor": "#2a3f5f"
            },
            "type": "carpet"
           }
          ],
          "choropleth": [
           {
            "colorbar": {
             "outlinewidth": 0,
             "ticks": ""
            },
            "type": "choropleth"
           }
          ],
          "contour": [
           {
            "colorbar": {
             "outlinewidth": 0,
             "ticks": ""
            },
            "colorscale": [
             [
              0,
              "#0d0887"
             ],
             [
              0.1111111111111111,
              "#46039f"
             ],
             [
              0.2222222222222222,
              "#7201a8"
             ],
             [
              0.3333333333333333,
              "#9c179e"
             ],
             [
              0.4444444444444444,
              "#bd3786"
             ],
             [
              0.5555555555555556,
              "#d8576b"
             ],
             [
              0.6666666666666666,
              "#ed7953"
             ],
             [
              0.7777777777777778,
              "#fb9f3a"
             ],
             [
              0.8888888888888888,
              "#fdca26"
             ],
             [
              1,
              "#f0f921"
             ]
            ],
            "type": "contour"
           }
          ],
          "contourcarpet": [
           {
            "colorbar": {
             "outlinewidth": 0,
             "ticks": ""
            },
            "type": "contourcarpet"
           }
          ],
          "heatmap": [
           {
            "colorbar": {
             "outlinewidth": 0,
             "ticks": ""
            },
            "colorscale": [
             [
              0,
              "#0d0887"
             ],
             [
              0.1111111111111111,
              "#46039f"
             ],
             [
              0.2222222222222222,
              "#7201a8"
             ],
             [
              0.3333333333333333,
              "#9c179e"
             ],
             [
              0.4444444444444444,
              "#bd3786"
             ],
             [
              0.5555555555555556,
              "#d8576b"
             ],
             [
              0.6666666666666666,
              "#ed7953"
             ],
             [
              0.7777777777777778,
              "#fb9f3a"
             ],
             [
              0.8888888888888888,
              "#fdca26"
             ],
             [
              1,
              "#f0f921"
             ]
            ],
            "type": "heatmap"
           }
          ],
          "heatmapgl": [
           {
            "colorbar": {
             "outlinewidth": 0,
             "ticks": ""
            },
            "colorscale": [
             [
              0,
              "#0d0887"
             ],
             [
              0.1111111111111111,
              "#46039f"
             ],
             [
              0.2222222222222222,
              "#7201a8"
             ],
             [
              0.3333333333333333,
              "#9c179e"
             ],
             [
              0.4444444444444444,
              "#bd3786"
             ],
             [
              0.5555555555555556,
              "#d8576b"
             ],
             [
              0.6666666666666666,
              "#ed7953"
             ],
             [
              0.7777777777777778,
              "#fb9f3a"
             ],
             [
              0.8888888888888888,
              "#fdca26"
             ],
             [
              1,
              "#f0f921"
             ]
            ],
            "type": "heatmapgl"
           }
          ],
          "histogram": [
           {
            "marker": {
             "colorbar": {
              "outlinewidth": 0,
              "ticks": ""
             }
            },
            "type": "histogram"
           }
          ],
          "histogram2d": [
           {
            "colorbar": {
             "outlinewidth": 0,
             "ticks": ""
            },
            "colorscale": [
             [
              0,
              "#0d0887"
             ],
             [
              0.1111111111111111,
              "#46039f"
             ],
             [
              0.2222222222222222,
              "#7201a8"
             ],
             [
              0.3333333333333333,
              "#9c179e"
             ],
             [
              0.4444444444444444,
              "#bd3786"
             ],
             [
              0.5555555555555556,
              "#d8576b"
             ],
             [
              0.6666666666666666,
              "#ed7953"
             ],
             [
              0.7777777777777778,
              "#fb9f3a"
             ],
             [
              0.8888888888888888,
              "#fdca26"
             ],
             [
              1,
              "#f0f921"
             ]
            ],
            "type": "histogram2d"
           }
          ],
          "histogram2dcontour": [
           {
            "colorbar": {
             "outlinewidth": 0,
             "ticks": ""
            },
            "colorscale": [
             [
              0,
              "#0d0887"
             ],
             [
              0.1111111111111111,
              "#46039f"
             ],
             [
              0.2222222222222222,
              "#7201a8"
             ],
             [
              0.3333333333333333,
              "#9c179e"
             ],
             [
              0.4444444444444444,
              "#bd3786"
             ],
             [
              0.5555555555555556,
              "#d8576b"
             ],
             [
              0.6666666666666666,
              "#ed7953"
             ],
             [
              0.7777777777777778,
              "#fb9f3a"
             ],
             [
              0.8888888888888888,
              "#fdca26"
             ],
             [
              1,
              "#f0f921"
             ]
            ],
            "type": "histogram2dcontour"
           }
          ],
          "mesh3d": [
           {
            "colorbar": {
             "outlinewidth": 0,
             "ticks": ""
            },
            "type": "mesh3d"
           }
          ],
          "parcoords": [
           {
            "line": {
             "colorbar": {
              "outlinewidth": 0,
              "ticks": ""
             }
            },
            "type": "parcoords"
           }
          ],
          "pie": [
           {
            "automargin": true,
            "type": "pie"
           }
          ],
          "scatter": [
           {
            "marker": {
             "colorbar": {
              "outlinewidth": 0,
              "ticks": ""
             }
            },
            "type": "scatter"
           }
          ],
          "scatter3d": [
           {
            "line": {
             "colorbar": {
              "outlinewidth": 0,
              "ticks": ""
             }
            },
            "marker": {
             "colorbar": {
              "outlinewidth": 0,
              "ticks": ""
             }
            },
            "type": "scatter3d"
           }
          ],
          "scattercarpet": [
           {
            "marker": {
             "colorbar": {
              "outlinewidth": 0,
              "ticks": ""
             }
            },
            "type": "scattercarpet"
           }
          ],
          "scattergeo": [
           {
            "marker": {
             "colorbar": {
              "outlinewidth": 0,
              "ticks": ""
             }
            },
            "type": "scattergeo"
           }
          ],
          "scattergl": [
           {
            "marker": {
             "colorbar": {
              "outlinewidth": 0,
              "ticks": ""
             }
            },
            "type": "scattergl"
           }
          ],
          "scattermapbox": [
           {
            "marker": {
             "colorbar": {
              "outlinewidth": 0,
              "ticks": ""
             }
            },
            "type": "scattermapbox"
           }
          ],
          "scatterpolar": [
           {
            "marker": {
             "colorbar": {
              "outlinewidth": 0,
              "ticks": ""
             }
            },
            "type": "scatterpolar"
           }
          ],
          "scatterpolargl": [
           {
            "marker": {
             "colorbar": {
              "outlinewidth": 0,
              "ticks": ""
             }
            },
            "type": "scatterpolargl"
           }
          ],
          "scatterternary": [
           {
            "marker": {
             "colorbar": {
              "outlinewidth": 0,
              "ticks": ""
             }
            },
            "type": "scatterternary"
           }
          ],
          "surface": [
           {
            "colorbar": {
             "outlinewidth": 0,
             "ticks": ""
            },
            "colorscale": [
             [
              0,
              "#0d0887"
             ],
             [
              0.1111111111111111,
              "#46039f"
             ],
             [
              0.2222222222222222,
              "#7201a8"
             ],
             [
              0.3333333333333333,
              "#9c179e"
             ],
             [
              0.4444444444444444,
              "#bd3786"
             ],
             [
              0.5555555555555556,
              "#d8576b"
             ],
             [
              0.6666666666666666,
              "#ed7953"
             ],
             [
              0.7777777777777778,
              "#fb9f3a"
             ],
             [
              0.8888888888888888,
              "#fdca26"
             ],
             [
              1,
              "#f0f921"
             ]
            ],
            "type": "surface"
           }
          ],
          "table": [
           {
            "cells": {
             "fill": {
              "color": "#EBF0F8"
             },
             "line": {
              "color": "white"
             }
            },
            "header": {
             "fill": {
              "color": "#C8D4E3"
             },
             "line": {
              "color": "white"
             }
            },
            "type": "table"
           }
          ]
         },
         "layout": {
          "annotationdefaults": {
           "arrowcolor": "#2a3f5f",
           "arrowhead": 0,
           "arrowwidth": 1
          },
          "autotypenumbers": "strict",
          "coloraxis": {
           "colorbar": {
            "outlinewidth": 0,
            "ticks": ""
           }
          },
          "colorscale": {
           "diverging": [
            [
             0,
             "#8e0152"
            ],
            [
             0.1,
             "#c51b7d"
            ],
            [
             0.2,
             "#de77ae"
            ],
            [
             0.3,
             "#f1b6da"
            ],
            [
             0.4,
             "#fde0ef"
            ],
            [
             0.5,
             "#f7f7f7"
            ],
            [
             0.6,
             "#e6f5d0"
            ],
            [
             0.7,
             "#b8e186"
            ],
            [
             0.8,
             "#7fbc41"
            ],
            [
             0.9,
             "#4d9221"
            ],
            [
             1,
             "#276419"
            ]
           ],
           "sequential": [
            [
             0,
             "#0d0887"
            ],
            [
             0.1111111111111111,
             "#46039f"
            ],
            [
             0.2222222222222222,
             "#7201a8"
            ],
            [
             0.3333333333333333,
             "#9c179e"
            ],
            [
             0.4444444444444444,
             "#bd3786"
            ],
            [
             0.5555555555555556,
             "#d8576b"
            ],
            [
             0.6666666666666666,
             "#ed7953"
            ],
            [
             0.7777777777777778,
             "#fb9f3a"
            ],
            [
             0.8888888888888888,
             "#fdca26"
            ],
            [
             1,
             "#f0f921"
            ]
           ],
           "sequentialminus": [
            [
             0,
             "#0d0887"
            ],
            [
             0.1111111111111111,
             "#46039f"
            ],
            [
             0.2222222222222222,
             "#7201a8"
            ],
            [
             0.3333333333333333,
             "#9c179e"
            ],
            [
             0.4444444444444444,
             "#bd3786"
            ],
            [
             0.5555555555555556,
             "#d8576b"
            ],
            [
             0.6666666666666666,
             "#ed7953"
            ],
            [
             0.7777777777777778,
             "#fb9f3a"
            ],
            [
             0.8888888888888888,
             "#fdca26"
            ],
            [
             1,
             "#f0f921"
            ]
           ]
          },
          "colorway": [
           "#636efa",
           "#EF553B",
           "#00cc96",
           "#ab63fa",
           "#FFA15A",
           "#19d3f3",
           "#FF6692",
           "#B6E880",
           "#FF97FF",
           "#FECB52"
          ],
          "font": {
           "color": "#2a3f5f"
          },
          "geo": {
           "bgcolor": "white",
           "lakecolor": "white",
           "landcolor": "#E5ECF6",
           "showlakes": true,
           "showland": true,
           "subunitcolor": "white"
          },
          "hoverlabel": {
           "align": "left"
          },
          "hovermode": "closest",
          "mapbox": {
           "style": "light"
          },
          "paper_bgcolor": "white",
          "plot_bgcolor": "#E5ECF6",
          "polar": {
           "angularaxis": {
            "gridcolor": "white",
            "linecolor": "white",
            "ticks": ""
           },
           "bgcolor": "#E5ECF6",
           "radialaxis": {
            "gridcolor": "white",
            "linecolor": "white",
            "ticks": ""
           }
          },
          "scene": {
           "xaxis": {
            "backgroundcolor": "#E5ECF6",
            "gridcolor": "white",
            "gridwidth": 2,
            "linecolor": "white",
            "showbackground": true,
            "ticks": "",
            "zerolinecolor": "white"
           },
           "yaxis": {
            "backgroundcolor": "#E5ECF6",
            "gridcolor": "white",
            "gridwidth": 2,
            "linecolor": "white",
            "showbackground": true,
            "ticks": "",
            "zerolinecolor": "white"
           },
           "zaxis": {
            "backgroundcolor": "#E5ECF6",
            "gridcolor": "white",
            "gridwidth": 2,
            "linecolor": "white",
            "showbackground": true,
            "ticks": "",
            "zerolinecolor": "white"
           }
          },
          "shapedefaults": {
           "line": {
            "color": "#2a3f5f"
           }
          },
          "ternary": {
           "aaxis": {
            "gridcolor": "white",
            "linecolor": "white",
            "ticks": ""
           },
           "baxis": {
            "gridcolor": "white",
            "linecolor": "white",
            "ticks": ""
           },
           "bgcolor": "#E5ECF6",
           "caxis": {
            "gridcolor": "white",
            "linecolor": "white",
            "ticks": ""
           }
          },
          "title": {
           "x": 0.05
          },
          "xaxis": {
           "automargin": true,
           "gridcolor": "white",
           "linecolor": "white",
           "ticks": "",
           "title": {
            "standoff": 15
           },
           "zerolinecolor": "white",
           "zerolinewidth": 2
          },
          "yaxis": {
           "automargin": true,
           "gridcolor": "white",
           "linecolor": "white",
           "ticks": "",
           "title": {
            "standoff": 15
           },
           "zerolinecolor": "white",
           "zerolinewidth": 2
          }
         }
        },
        "title": {
         "text": "DadosAnalise: Tipo de Lançamento x Percentual Crescimento"
        },
        "xaxis": {
         "anchor": "y",
         "domain": [
          0,
          1
         ],
         "title": {
          "text": "ConsumoPorM3"
         }
        },
        "yaxis": {
         "anchor": "x",
         "domain": [
          0,
          1
         ],
         "title": {
          "text": "Rompimento28Dias"
         }
        }
       }
      },
      "text/html": [
       "<div>                            <div id=\"f3209453-2c3a-42d0-b42e-0268e135116a\" class=\"plotly-graph-div\" style=\"height:525px; width:100%;\"></div>            <script type=\"text/javascript\">                require([\"plotly\"], function(Plotly) {                    window.PLOTLYENV=window.PLOTLYENV || {};                                    if (document.getElementById(\"f3209453-2c3a-42d0-b42e-0268e135116a\")) {                    Plotly.newPlot(                        \"f3209453-2c3a-42d0-b42e-0268e135116a\",                        [{\"hovertemplate\": \"ConsumoPorM3=%{x}<br>Rompimento28Dias=%{y}<extra></extra>\", \"legendgroup\": \"\", \"marker\": {\"color\": \"#636efa\", \"symbol\": \"circle\"}, \"mode\": \"markers\", \"name\": \"\", \"orientation\": \"v\", \"showlegend\": false, \"type\": \"scatter\", \"x\": [289.0, 278.0, 278.0, 278.0, 272.0, 272.0, 272.0, 272.0, 272.0], \"xaxis\": \"x\", \"y\": [29.06, 30.69, 36.28, 34.07, 27.93, 30.76, 35.22, 36.01, 29.78], \"yaxis\": \"y\"}],                        {\"legend\": {\"tracegroupgap\": 0}, \"template\": {\"data\": {\"bar\": [{\"error_x\": {\"color\": \"#2a3f5f\"}, \"error_y\": {\"color\": \"#2a3f5f\"}, \"marker\": {\"line\": {\"color\": \"#E5ECF6\", \"width\": 0.5}}, \"type\": \"bar\"}], \"barpolar\": [{\"marker\": {\"line\": {\"color\": \"#E5ECF6\", \"width\": 0.5}}, \"type\": \"barpolar\"}], \"carpet\": [{\"aaxis\": {\"endlinecolor\": \"#2a3f5f\", \"gridcolor\": \"white\", \"linecolor\": \"white\", \"minorgridcolor\": \"white\", \"startlinecolor\": \"#2a3f5f\"}, \"baxis\": {\"endlinecolor\": \"#2a3f5f\", \"gridcolor\": \"white\", \"linecolor\": \"white\", \"minorgridcolor\": \"white\", \"startlinecolor\": \"#2a3f5f\"}, \"type\": \"carpet\"}], \"choropleth\": [{\"colorbar\": {\"outlinewidth\": 0, \"ticks\": \"\"}, \"type\": \"choropleth\"}], \"contour\": [{\"colorbar\": {\"outlinewidth\": 0, \"ticks\": \"\"}, \"colorscale\": [[0.0, \"#0d0887\"], [0.1111111111111111, \"#46039f\"], [0.2222222222222222, \"#7201a8\"], [0.3333333333333333, \"#9c179e\"], [0.4444444444444444, \"#bd3786\"], [0.5555555555555556, \"#d8576b\"], [0.6666666666666666, \"#ed7953\"], [0.7777777777777778, \"#fb9f3a\"], [0.8888888888888888, \"#fdca26\"], [1.0, \"#f0f921\"]], \"type\": \"contour\"}], \"contourcarpet\": [{\"colorbar\": {\"outlinewidth\": 0, \"ticks\": \"\"}, \"type\": \"contourcarpet\"}], \"heatmap\": [{\"colorbar\": {\"outlinewidth\": 0, \"ticks\": \"\"}, \"colorscale\": [[0.0, \"#0d0887\"], [0.1111111111111111, \"#46039f\"], [0.2222222222222222, \"#7201a8\"], [0.3333333333333333, \"#9c179e\"], [0.4444444444444444, \"#bd3786\"], [0.5555555555555556, \"#d8576b\"], [0.6666666666666666, \"#ed7953\"], [0.7777777777777778, \"#fb9f3a\"], [0.8888888888888888, \"#fdca26\"], [1.0, \"#f0f921\"]], \"type\": \"heatmap\"}], \"heatmapgl\": [{\"colorbar\": {\"outlinewidth\": 0, \"ticks\": \"\"}, \"colorscale\": [[0.0, \"#0d0887\"], [0.1111111111111111, \"#46039f\"], [0.2222222222222222, \"#7201a8\"], [0.3333333333333333, \"#9c179e\"], [0.4444444444444444, \"#bd3786\"], [0.5555555555555556, \"#d8576b\"], [0.6666666666666666, \"#ed7953\"], [0.7777777777777778, \"#fb9f3a\"], [0.8888888888888888, \"#fdca26\"], [1.0, \"#f0f921\"]], \"type\": \"heatmapgl\"}], \"histogram\": [{\"marker\": {\"colorbar\": {\"outlinewidth\": 0, \"ticks\": \"\"}}, \"type\": \"histogram\"}], \"histogram2d\": [{\"colorbar\": {\"outlinewidth\": 0, \"ticks\": \"\"}, \"colorscale\": [[0.0, \"#0d0887\"], [0.1111111111111111, \"#46039f\"], [0.2222222222222222, \"#7201a8\"], [0.3333333333333333, \"#9c179e\"], [0.4444444444444444, \"#bd3786\"], [0.5555555555555556, \"#d8576b\"], [0.6666666666666666, \"#ed7953\"], [0.7777777777777778, \"#fb9f3a\"], [0.8888888888888888, \"#fdca26\"], [1.0, \"#f0f921\"]], \"type\": \"histogram2d\"}], \"histogram2dcontour\": [{\"colorbar\": {\"outlinewidth\": 0, \"ticks\": \"\"}, \"colorscale\": [[0.0, \"#0d0887\"], [0.1111111111111111, \"#46039f\"], [0.2222222222222222, \"#7201a8\"], [0.3333333333333333, \"#9c179e\"], [0.4444444444444444, \"#bd3786\"], [0.5555555555555556, \"#d8576b\"], [0.6666666666666666, \"#ed7953\"], [0.7777777777777778, \"#fb9f3a\"], [0.8888888888888888, \"#fdca26\"], [1.0, \"#f0f921\"]], \"type\": \"histogram2dcontour\"}], \"mesh3d\": [{\"colorbar\": {\"outlinewidth\": 0, \"ticks\": \"\"}, \"type\": \"mesh3d\"}], \"parcoords\": [{\"line\": {\"colorbar\": {\"outlinewidth\": 0, \"ticks\": \"\"}}, \"type\": \"parcoords\"}], \"pie\": [{\"automargin\": true, \"type\": \"pie\"}], \"scatter\": [{\"marker\": {\"colorbar\": {\"outlinewidth\": 0, \"ticks\": \"\"}}, \"type\": \"scatter\"}], \"scatter3d\": [{\"line\": {\"colorbar\": {\"outlinewidth\": 0, \"ticks\": \"\"}}, \"marker\": {\"colorbar\": {\"outlinewidth\": 0, \"ticks\": \"\"}}, \"type\": \"scatter3d\"}], \"scattercarpet\": [{\"marker\": {\"colorbar\": {\"outlinewidth\": 0, \"ticks\": \"\"}}, \"type\": \"scattercarpet\"}], \"scattergeo\": [{\"marker\": {\"colorbar\": {\"outlinewidth\": 0, \"ticks\": \"\"}}, \"type\": \"scattergeo\"}], \"scattergl\": [{\"marker\": {\"colorbar\": {\"outlinewidth\": 0, \"ticks\": \"\"}}, \"type\": \"scattergl\"}], \"scattermapbox\": [{\"marker\": {\"colorbar\": {\"outlinewidth\": 0, \"ticks\": \"\"}}, \"type\": \"scattermapbox\"}], \"scatterpolar\": [{\"marker\": {\"colorbar\": {\"outlinewidth\": 0, \"ticks\": \"\"}}, \"type\": \"scatterpolar\"}], \"scatterpolargl\": [{\"marker\": {\"colorbar\": {\"outlinewidth\": 0, \"ticks\": \"\"}}, \"type\": \"scatterpolargl\"}], \"scatterternary\": [{\"marker\": {\"colorbar\": {\"outlinewidth\": 0, \"ticks\": \"\"}}, \"type\": \"scatterternary\"}], \"surface\": [{\"colorbar\": {\"outlinewidth\": 0, \"ticks\": \"\"}, \"colorscale\": [[0.0, \"#0d0887\"], [0.1111111111111111, \"#46039f\"], [0.2222222222222222, \"#7201a8\"], [0.3333333333333333, \"#9c179e\"], [0.4444444444444444, \"#bd3786\"], [0.5555555555555556, \"#d8576b\"], [0.6666666666666666, \"#ed7953\"], [0.7777777777777778, \"#fb9f3a\"], [0.8888888888888888, \"#fdca26\"], [1.0, \"#f0f921\"]], \"type\": \"surface\"}], \"table\": [{\"cells\": {\"fill\": {\"color\": \"#EBF0F8\"}, \"line\": {\"color\": \"white\"}}, \"header\": {\"fill\": {\"color\": \"#C8D4E3\"}, \"line\": {\"color\": \"white\"}}, \"type\": \"table\"}]}, \"layout\": {\"annotationdefaults\": {\"arrowcolor\": \"#2a3f5f\", \"arrowhead\": 0, \"arrowwidth\": 1}, \"autotypenumbers\": \"strict\", \"coloraxis\": {\"colorbar\": {\"outlinewidth\": 0, \"ticks\": \"\"}}, \"colorscale\": {\"diverging\": [[0, \"#8e0152\"], [0.1, \"#c51b7d\"], [0.2, \"#de77ae\"], [0.3, \"#f1b6da\"], [0.4, \"#fde0ef\"], [0.5, \"#f7f7f7\"], [0.6, \"#e6f5d0\"], [0.7, \"#b8e186\"], [0.8, \"#7fbc41\"], [0.9, \"#4d9221\"], [1, \"#276419\"]], \"sequential\": [[0.0, \"#0d0887\"], [0.1111111111111111, \"#46039f\"], [0.2222222222222222, \"#7201a8\"], [0.3333333333333333, \"#9c179e\"], [0.4444444444444444, \"#bd3786\"], [0.5555555555555556, \"#d8576b\"], [0.6666666666666666, \"#ed7953\"], [0.7777777777777778, \"#fb9f3a\"], [0.8888888888888888, \"#fdca26\"], [1.0, \"#f0f921\"]], \"sequentialminus\": [[0.0, \"#0d0887\"], [0.1111111111111111, \"#46039f\"], [0.2222222222222222, \"#7201a8\"], [0.3333333333333333, \"#9c179e\"], [0.4444444444444444, \"#bd3786\"], [0.5555555555555556, \"#d8576b\"], [0.6666666666666666, \"#ed7953\"], [0.7777777777777778, \"#fb9f3a\"], [0.8888888888888888, \"#fdca26\"], [1.0, \"#f0f921\"]]}, \"colorway\": [\"#636efa\", \"#EF553B\", \"#00cc96\", \"#ab63fa\", \"#FFA15A\", \"#19d3f3\", \"#FF6692\", \"#B6E880\", \"#FF97FF\", \"#FECB52\"], \"font\": {\"color\": \"#2a3f5f\"}, \"geo\": {\"bgcolor\": \"white\", \"lakecolor\": \"white\", \"landcolor\": \"#E5ECF6\", \"showlakes\": true, \"showland\": true, \"subunitcolor\": \"white\"}, \"hoverlabel\": {\"align\": \"left\"}, \"hovermode\": \"closest\", \"mapbox\": {\"style\": \"light\"}, \"paper_bgcolor\": \"white\", \"plot_bgcolor\": \"#E5ECF6\", \"polar\": {\"angularaxis\": {\"gridcolor\": \"white\", \"linecolor\": \"white\", \"ticks\": \"\"}, \"bgcolor\": \"#E5ECF6\", \"radialaxis\": {\"gridcolor\": \"white\", \"linecolor\": \"white\", \"ticks\": \"\"}}, \"scene\": {\"xaxis\": {\"backgroundcolor\": \"#E5ECF6\", \"gridcolor\": \"white\", \"gridwidth\": 2, \"linecolor\": \"white\", \"showbackground\": true, \"ticks\": \"\", \"zerolinecolor\": \"white\"}, \"yaxis\": {\"backgroundcolor\": \"#E5ECF6\", \"gridcolor\": \"white\", \"gridwidth\": 2, \"linecolor\": \"white\", \"showbackground\": true, \"ticks\": \"\", \"zerolinecolor\": \"white\"}, \"zaxis\": {\"backgroundcolor\": \"#E5ECF6\", \"gridcolor\": \"white\", \"gridwidth\": 2, \"linecolor\": \"white\", \"showbackground\": true, \"ticks\": \"\", \"zerolinecolor\": \"white\"}}, \"shapedefaults\": {\"line\": {\"color\": \"#2a3f5f\"}}, \"ternary\": {\"aaxis\": {\"gridcolor\": \"white\", \"linecolor\": \"white\", \"ticks\": \"\"}, \"baxis\": {\"gridcolor\": \"white\", \"linecolor\": \"white\", \"ticks\": \"\"}, \"bgcolor\": \"#E5ECF6\", \"caxis\": {\"gridcolor\": \"white\", \"linecolor\": \"white\", \"ticks\": \"\"}}, \"title\": {\"x\": 0.05}, \"xaxis\": {\"automargin\": true, \"gridcolor\": \"white\", \"linecolor\": \"white\", \"ticks\": \"\", \"title\": {\"standoff\": 15}, \"zerolinecolor\": \"white\", \"zerolinewidth\": 2}, \"yaxis\": {\"automargin\": true, \"gridcolor\": \"white\", \"linecolor\": \"white\", \"ticks\": \"\", \"title\": {\"standoff\": 15}, \"zerolinecolor\": \"white\", \"zerolinewidth\": 2}}}, \"title\": {\"text\": \"DadosAnalise: Tipo de Lan\\u00e7amento x Percentual Crescimento\"}, \"xaxis\": {\"anchor\": \"y\", \"domain\": [0.0, 1.0], \"title\": {\"text\": \"ConsumoPorM3\"}}, \"yaxis\": {\"anchor\": \"x\", \"domain\": [0.0, 1.0], \"title\": {\"text\": \"Rompimento28Dias\"}}},                        {\"responsive\": true}                    ).then(function(){\n",
       "                            \n",
       "var gd = document.getElementById('f3209453-2c3a-42d0-b42e-0268e135116a');\n",
       "var x = new MutationObserver(function (mutations, observer) {{\n",
       "        var display = window.getComputedStyle(gd).display;\n",
       "        if (!display || display === 'none') {{\n",
       "            console.log([gd, 'removed!']);\n",
       "            Plotly.purge(gd);\n",
       "            observer.disconnect();\n",
       "        }}\n",
       "}});\n",
       "\n",
       "// Listen for the removal of the full notebook cells\n",
       "var notebookContainer = gd.closest('#notebook-container');\n",
       "if (notebookContainer) {{\n",
       "    x.observe(notebookContainer, {childList: true});\n",
       "}}\n",
       "\n",
       "// Listen for the clearing of the current output cell\n",
       "var outputEl = gd.closest('.output');\n",
       "if (outputEl) {{\n",
       "    x.observe(outputEl, {childList: true});\n",
       "}}\n",
       "\n",
       "                        })                };                });            </script>        </div>"
      ]
     },
     "metadata": {},
     "output_type": "display_data"
    }
   ],
   "source": [
    "fig = px.scatter(da_fck_data_esp, x=\"ConsumoPorM3\", y=\"Rompimento28Dias\", title='DadosAnalise: Tipo de Lançamento x Percentual Crescimento')\n",
    "fig.show()"
   ]
  },
  {
   "cell_type": "code",
   "execution_count": 564,
   "metadata": {},
   "outputs": [
    {
     "data": {
      "application/vnd.plotly.v1+json": {
       "config": {
        "plotlyServerURL": "https://plot.ly"
       },
       "data": [
        {
         "hovertemplate": "ConsumoPorM3=%{x}<br>Rompimento7Dias=%{y}<extra></extra>",
         "legendgroup": "",
         "marker": {
          "color": "#636efa",
          "symbol": "circle"
         },
         "mode": "markers",
         "name": "",
         "orientation": "v",
         "showlegend": false,
         "type": "scatter",
         "x": [
          289,
          278,
          278,
          278,
          272,
          272,
          272,
          272,
          272
         ],
         "xaxis": "x",
         "y": [
          20.6,
          23.26,
          26.9,
          25.55,
          21.06,
          25.24,
          23.39,
          26.91,
          21.02
         ],
         "yaxis": "y"
        }
       ],
       "layout": {
        "legend": {
         "tracegroupgap": 0
        },
        "template": {
         "data": {
          "bar": [
           {
            "error_x": {
             "color": "#2a3f5f"
            },
            "error_y": {
             "color": "#2a3f5f"
            },
            "marker": {
             "line": {
              "color": "#E5ECF6",
              "width": 0.5
             }
            },
            "type": "bar"
           }
          ],
          "barpolar": [
           {
            "marker": {
             "line": {
              "color": "#E5ECF6",
              "width": 0.5
             }
            },
            "type": "barpolar"
           }
          ],
          "carpet": [
           {
            "aaxis": {
             "endlinecolor": "#2a3f5f",
             "gridcolor": "white",
             "linecolor": "white",
             "minorgridcolor": "white",
             "startlinecolor": "#2a3f5f"
            },
            "baxis": {
             "endlinecolor": "#2a3f5f",
             "gridcolor": "white",
             "linecolor": "white",
             "minorgridcolor": "white",
             "startlinecolor": "#2a3f5f"
            },
            "type": "carpet"
           }
          ],
          "choropleth": [
           {
            "colorbar": {
             "outlinewidth": 0,
             "ticks": ""
            },
            "type": "choropleth"
           }
          ],
          "contour": [
           {
            "colorbar": {
             "outlinewidth": 0,
             "ticks": ""
            },
            "colorscale": [
             [
              0,
              "#0d0887"
             ],
             [
              0.1111111111111111,
              "#46039f"
             ],
             [
              0.2222222222222222,
              "#7201a8"
             ],
             [
              0.3333333333333333,
              "#9c179e"
             ],
             [
              0.4444444444444444,
              "#bd3786"
             ],
             [
              0.5555555555555556,
              "#d8576b"
             ],
             [
              0.6666666666666666,
              "#ed7953"
             ],
             [
              0.7777777777777778,
              "#fb9f3a"
             ],
             [
              0.8888888888888888,
              "#fdca26"
             ],
             [
              1,
              "#f0f921"
             ]
            ],
            "type": "contour"
           }
          ],
          "contourcarpet": [
           {
            "colorbar": {
             "outlinewidth": 0,
             "ticks": ""
            },
            "type": "contourcarpet"
           }
          ],
          "heatmap": [
           {
            "colorbar": {
             "outlinewidth": 0,
             "ticks": ""
            },
            "colorscale": [
             [
              0,
              "#0d0887"
             ],
             [
              0.1111111111111111,
              "#46039f"
             ],
             [
              0.2222222222222222,
              "#7201a8"
             ],
             [
              0.3333333333333333,
              "#9c179e"
             ],
             [
              0.4444444444444444,
              "#bd3786"
             ],
             [
              0.5555555555555556,
              "#d8576b"
             ],
             [
              0.6666666666666666,
              "#ed7953"
             ],
             [
              0.7777777777777778,
              "#fb9f3a"
             ],
             [
              0.8888888888888888,
              "#fdca26"
             ],
             [
              1,
              "#f0f921"
             ]
            ],
            "type": "heatmap"
           }
          ],
          "heatmapgl": [
           {
            "colorbar": {
             "outlinewidth": 0,
             "ticks": ""
            },
            "colorscale": [
             [
              0,
              "#0d0887"
             ],
             [
              0.1111111111111111,
              "#46039f"
             ],
             [
              0.2222222222222222,
              "#7201a8"
             ],
             [
              0.3333333333333333,
              "#9c179e"
             ],
             [
              0.4444444444444444,
              "#bd3786"
             ],
             [
              0.5555555555555556,
              "#d8576b"
             ],
             [
              0.6666666666666666,
              "#ed7953"
             ],
             [
              0.7777777777777778,
              "#fb9f3a"
             ],
             [
              0.8888888888888888,
              "#fdca26"
             ],
             [
              1,
              "#f0f921"
             ]
            ],
            "type": "heatmapgl"
           }
          ],
          "histogram": [
           {
            "marker": {
             "colorbar": {
              "outlinewidth": 0,
              "ticks": ""
             }
            },
            "type": "histogram"
           }
          ],
          "histogram2d": [
           {
            "colorbar": {
             "outlinewidth": 0,
             "ticks": ""
            },
            "colorscale": [
             [
              0,
              "#0d0887"
             ],
             [
              0.1111111111111111,
              "#46039f"
             ],
             [
              0.2222222222222222,
              "#7201a8"
             ],
             [
              0.3333333333333333,
              "#9c179e"
             ],
             [
              0.4444444444444444,
              "#bd3786"
             ],
             [
              0.5555555555555556,
              "#d8576b"
             ],
             [
              0.6666666666666666,
              "#ed7953"
             ],
             [
              0.7777777777777778,
              "#fb9f3a"
             ],
             [
              0.8888888888888888,
              "#fdca26"
             ],
             [
              1,
              "#f0f921"
             ]
            ],
            "type": "histogram2d"
           }
          ],
          "histogram2dcontour": [
           {
            "colorbar": {
             "outlinewidth": 0,
             "ticks": ""
            },
            "colorscale": [
             [
              0,
              "#0d0887"
             ],
             [
              0.1111111111111111,
              "#46039f"
             ],
             [
              0.2222222222222222,
              "#7201a8"
             ],
             [
              0.3333333333333333,
              "#9c179e"
             ],
             [
              0.4444444444444444,
              "#bd3786"
             ],
             [
              0.5555555555555556,
              "#d8576b"
             ],
             [
              0.6666666666666666,
              "#ed7953"
             ],
             [
              0.7777777777777778,
              "#fb9f3a"
             ],
             [
              0.8888888888888888,
              "#fdca26"
             ],
             [
              1,
              "#f0f921"
             ]
            ],
            "type": "histogram2dcontour"
           }
          ],
          "mesh3d": [
           {
            "colorbar": {
             "outlinewidth": 0,
             "ticks": ""
            },
            "type": "mesh3d"
           }
          ],
          "parcoords": [
           {
            "line": {
             "colorbar": {
              "outlinewidth": 0,
              "ticks": ""
             }
            },
            "type": "parcoords"
           }
          ],
          "pie": [
           {
            "automargin": true,
            "type": "pie"
           }
          ],
          "scatter": [
           {
            "marker": {
             "colorbar": {
              "outlinewidth": 0,
              "ticks": ""
             }
            },
            "type": "scatter"
           }
          ],
          "scatter3d": [
           {
            "line": {
             "colorbar": {
              "outlinewidth": 0,
              "ticks": ""
             }
            },
            "marker": {
             "colorbar": {
              "outlinewidth": 0,
              "ticks": ""
             }
            },
            "type": "scatter3d"
           }
          ],
          "scattercarpet": [
           {
            "marker": {
             "colorbar": {
              "outlinewidth": 0,
              "ticks": ""
             }
            },
            "type": "scattercarpet"
           }
          ],
          "scattergeo": [
           {
            "marker": {
             "colorbar": {
              "outlinewidth": 0,
              "ticks": ""
             }
            },
            "type": "scattergeo"
           }
          ],
          "scattergl": [
           {
            "marker": {
             "colorbar": {
              "outlinewidth": 0,
              "ticks": ""
             }
            },
            "type": "scattergl"
           }
          ],
          "scattermapbox": [
           {
            "marker": {
             "colorbar": {
              "outlinewidth": 0,
              "ticks": ""
             }
            },
            "type": "scattermapbox"
           }
          ],
          "scatterpolar": [
           {
            "marker": {
             "colorbar": {
              "outlinewidth": 0,
              "ticks": ""
             }
            },
            "type": "scatterpolar"
           }
          ],
          "scatterpolargl": [
           {
            "marker": {
             "colorbar": {
              "outlinewidth": 0,
              "ticks": ""
             }
            },
            "type": "scatterpolargl"
           }
          ],
          "scatterternary": [
           {
            "marker": {
             "colorbar": {
              "outlinewidth": 0,
              "ticks": ""
             }
            },
            "type": "scatterternary"
           }
          ],
          "surface": [
           {
            "colorbar": {
             "outlinewidth": 0,
             "ticks": ""
            },
            "colorscale": [
             [
              0,
              "#0d0887"
             ],
             [
              0.1111111111111111,
              "#46039f"
             ],
             [
              0.2222222222222222,
              "#7201a8"
             ],
             [
              0.3333333333333333,
              "#9c179e"
             ],
             [
              0.4444444444444444,
              "#bd3786"
             ],
             [
              0.5555555555555556,
              "#d8576b"
             ],
             [
              0.6666666666666666,
              "#ed7953"
             ],
             [
              0.7777777777777778,
              "#fb9f3a"
             ],
             [
              0.8888888888888888,
              "#fdca26"
             ],
             [
              1,
              "#f0f921"
             ]
            ],
            "type": "surface"
           }
          ],
          "table": [
           {
            "cells": {
             "fill": {
              "color": "#EBF0F8"
             },
             "line": {
              "color": "white"
             }
            },
            "header": {
             "fill": {
              "color": "#C8D4E3"
             },
             "line": {
              "color": "white"
             }
            },
            "type": "table"
           }
          ]
         },
         "layout": {
          "annotationdefaults": {
           "arrowcolor": "#2a3f5f",
           "arrowhead": 0,
           "arrowwidth": 1
          },
          "autotypenumbers": "strict",
          "coloraxis": {
           "colorbar": {
            "outlinewidth": 0,
            "ticks": ""
           }
          },
          "colorscale": {
           "diverging": [
            [
             0,
             "#8e0152"
            ],
            [
             0.1,
             "#c51b7d"
            ],
            [
             0.2,
             "#de77ae"
            ],
            [
             0.3,
             "#f1b6da"
            ],
            [
             0.4,
             "#fde0ef"
            ],
            [
             0.5,
             "#f7f7f7"
            ],
            [
             0.6,
             "#e6f5d0"
            ],
            [
             0.7,
             "#b8e186"
            ],
            [
             0.8,
             "#7fbc41"
            ],
            [
             0.9,
             "#4d9221"
            ],
            [
             1,
             "#276419"
            ]
           ],
           "sequential": [
            [
             0,
             "#0d0887"
            ],
            [
             0.1111111111111111,
             "#46039f"
            ],
            [
             0.2222222222222222,
             "#7201a8"
            ],
            [
             0.3333333333333333,
             "#9c179e"
            ],
            [
             0.4444444444444444,
             "#bd3786"
            ],
            [
             0.5555555555555556,
             "#d8576b"
            ],
            [
             0.6666666666666666,
             "#ed7953"
            ],
            [
             0.7777777777777778,
             "#fb9f3a"
            ],
            [
             0.8888888888888888,
             "#fdca26"
            ],
            [
             1,
             "#f0f921"
            ]
           ],
           "sequentialminus": [
            [
             0,
             "#0d0887"
            ],
            [
             0.1111111111111111,
             "#46039f"
            ],
            [
             0.2222222222222222,
             "#7201a8"
            ],
            [
             0.3333333333333333,
             "#9c179e"
            ],
            [
             0.4444444444444444,
             "#bd3786"
            ],
            [
             0.5555555555555556,
             "#d8576b"
            ],
            [
             0.6666666666666666,
             "#ed7953"
            ],
            [
             0.7777777777777778,
             "#fb9f3a"
            ],
            [
             0.8888888888888888,
             "#fdca26"
            ],
            [
             1,
             "#f0f921"
            ]
           ]
          },
          "colorway": [
           "#636efa",
           "#EF553B",
           "#00cc96",
           "#ab63fa",
           "#FFA15A",
           "#19d3f3",
           "#FF6692",
           "#B6E880",
           "#FF97FF",
           "#FECB52"
          ],
          "font": {
           "color": "#2a3f5f"
          },
          "geo": {
           "bgcolor": "white",
           "lakecolor": "white",
           "landcolor": "#E5ECF6",
           "showlakes": true,
           "showland": true,
           "subunitcolor": "white"
          },
          "hoverlabel": {
           "align": "left"
          },
          "hovermode": "closest",
          "mapbox": {
           "style": "light"
          },
          "paper_bgcolor": "white",
          "plot_bgcolor": "#E5ECF6",
          "polar": {
           "angularaxis": {
            "gridcolor": "white",
            "linecolor": "white",
            "ticks": ""
           },
           "bgcolor": "#E5ECF6",
           "radialaxis": {
            "gridcolor": "white",
            "linecolor": "white",
            "ticks": ""
           }
          },
          "scene": {
           "xaxis": {
            "backgroundcolor": "#E5ECF6",
            "gridcolor": "white",
            "gridwidth": 2,
            "linecolor": "white",
            "showbackground": true,
            "ticks": "",
            "zerolinecolor": "white"
           },
           "yaxis": {
            "backgroundcolor": "#E5ECF6",
            "gridcolor": "white",
            "gridwidth": 2,
            "linecolor": "white",
            "showbackground": true,
            "ticks": "",
            "zerolinecolor": "white"
           },
           "zaxis": {
            "backgroundcolor": "#E5ECF6",
            "gridcolor": "white",
            "gridwidth": 2,
            "linecolor": "white",
            "showbackground": true,
            "ticks": "",
            "zerolinecolor": "white"
           }
          },
          "shapedefaults": {
           "line": {
            "color": "#2a3f5f"
           }
          },
          "ternary": {
           "aaxis": {
            "gridcolor": "white",
            "linecolor": "white",
            "ticks": ""
           },
           "baxis": {
            "gridcolor": "white",
            "linecolor": "white",
            "ticks": ""
           },
           "bgcolor": "#E5ECF6",
           "caxis": {
            "gridcolor": "white",
            "linecolor": "white",
            "ticks": ""
           }
          },
          "title": {
           "x": 0.05
          },
          "xaxis": {
           "automargin": true,
           "gridcolor": "white",
           "linecolor": "white",
           "ticks": "",
           "title": {
            "standoff": 15
           },
           "zerolinecolor": "white",
           "zerolinewidth": 2
          },
          "yaxis": {
           "automargin": true,
           "gridcolor": "white",
           "linecolor": "white",
           "ticks": "",
           "title": {
            "standoff": 15
           },
           "zerolinecolor": "white",
           "zerolinewidth": 2
          }
         }
        },
        "title": {
         "text": "DadosAnalise: Tipo de Lançamento x Percentual Crescimento"
        },
        "xaxis": {
         "anchor": "y",
         "domain": [
          0,
          1
         ],
         "title": {
          "text": "ConsumoPorM3"
         }
        },
        "yaxis": {
         "anchor": "x",
         "domain": [
          0,
          1
         ],
         "title": {
          "text": "Rompimento7Dias"
         }
        }
       }
      },
      "text/html": [
       "<div>                            <div id=\"ae651269-add4-4580-9576-0f68ffe2069c\" class=\"plotly-graph-div\" style=\"height:525px; width:100%;\"></div>            <script type=\"text/javascript\">                require([\"plotly\"], function(Plotly) {                    window.PLOTLYENV=window.PLOTLYENV || {};                                    if (document.getElementById(\"ae651269-add4-4580-9576-0f68ffe2069c\")) {                    Plotly.newPlot(                        \"ae651269-add4-4580-9576-0f68ffe2069c\",                        [{\"hovertemplate\": \"ConsumoPorM3=%{x}<br>Rompimento7Dias=%{y}<extra></extra>\", \"legendgroup\": \"\", \"marker\": {\"color\": \"#636efa\", \"symbol\": \"circle\"}, \"mode\": \"markers\", \"name\": \"\", \"orientation\": \"v\", \"showlegend\": false, \"type\": \"scatter\", \"x\": [289.0, 278.0, 278.0, 278.0, 272.0, 272.0, 272.0, 272.0, 272.0], \"xaxis\": \"x\", \"y\": [20.6, 23.26, 26.9, 25.55, 21.06, 25.24, 23.39, 26.91, 21.02], \"yaxis\": \"y\"}],                        {\"legend\": {\"tracegroupgap\": 0}, \"template\": {\"data\": {\"bar\": [{\"error_x\": {\"color\": \"#2a3f5f\"}, \"error_y\": {\"color\": \"#2a3f5f\"}, \"marker\": {\"line\": {\"color\": \"#E5ECF6\", \"width\": 0.5}}, \"type\": \"bar\"}], \"barpolar\": [{\"marker\": {\"line\": {\"color\": \"#E5ECF6\", \"width\": 0.5}}, \"type\": \"barpolar\"}], \"carpet\": [{\"aaxis\": {\"endlinecolor\": \"#2a3f5f\", \"gridcolor\": \"white\", \"linecolor\": \"white\", \"minorgridcolor\": \"white\", \"startlinecolor\": \"#2a3f5f\"}, \"baxis\": {\"endlinecolor\": \"#2a3f5f\", \"gridcolor\": \"white\", \"linecolor\": \"white\", \"minorgridcolor\": \"white\", \"startlinecolor\": \"#2a3f5f\"}, \"type\": \"carpet\"}], \"choropleth\": [{\"colorbar\": {\"outlinewidth\": 0, \"ticks\": \"\"}, \"type\": \"choropleth\"}], \"contour\": [{\"colorbar\": {\"outlinewidth\": 0, \"ticks\": \"\"}, \"colorscale\": [[0.0, \"#0d0887\"], [0.1111111111111111, \"#46039f\"], [0.2222222222222222, \"#7201a8\"], [0.3333333333333333, \"#9c179e\"], [0.4444444444444444, \"#bd3786\"], [0.5555555555555556, \"#d8576b\"], [0.6666666666666666, \"#ed7953\"], [0.7777777777777778, \"#fb9f3a\"], [0.8888888888888888, \"#fdca26\"], [1.0, \"#f0f921\"]], \"type\": \"contour\"}], \"contourcarpet\": [{\"colorbar\": {\"outlinewidth\": 0, \"ticks\": \"\"}, \"type\": \"contourcarpet\"}], \"heatmap\": [{\"colorbar\": {\"outlinewidth\": 0, \"ticks\": \"\"}, \"colorscale\": [[0.0, \"#0d0887\"], [0.1111111111111111, \"#46039f\"], [0.2222222222222222, \"#7201a8\"], [0.3333333333333333, \"#9c179e\"], [0.4444444444444444, \"#bd3786\"], [0.5555555555555556, \"#d8576b\"], [0.6666666666666666, \"#ed7953\"], [0.7777777777777778, \"#fb9f3a\"], [0.8888888888888888, \"#fdca26\"], [1.0, \"#f0f921\"]], \"type\": \"heatmap\"}], \"heatmapgl\": [{\"colorbar\": {\"outlinewidth\": 0, \"ticks\": \"\"}, \"colorscale\": [[0.0, \"#0d0887\"], [0.1111111111111111, \"#46039f\"], [0.2222222222222222, \"#7201a8\"], [0.3333333333333333, \"#9c179e\"], [0.4444444444444444, \"#bd3786\"], [0.5555555555555556, \"#d8576b\"], [0.6666666666666666, \"#ed7953\"], [0.7777777777777778, \"#fb9f3a\"], [0.8888888888888888, \"#fdca26\"], [1.0, \"#f0f921\"]], \"type\": \"heatmapgl\"}], \"histogram\": [{\"marker\": {\"colorbar\": {\"outlinewidth\": 0, \"ticks\": \"\"}}, \"type\": \"histogram\"}], \"histogram2d\": [{\"colorbar\": {\"outlinewidth\": 0, \"ticks\": \"\"}, \"colorscale\": [[0.0, \"#0d0887\"], [0.1111111111111111, \"#46039f\"], [0.2222222222222222, \"#7201a8\"], [0.3333333333333333, \"#9c179e\"], [0.4444444444444444, \"#bd3786\"], [0.5555555555555556, \"#d8576b\"], [0.6666666666666666, \"#ed7953\"], [0.7777777777777778, \"#fb9f3a\"], [0.8888888888888888, \"#fdca26\"], [1.0, \"#f0f921\"]], \"type\": \"histogram2d\"}], \"histogram2dcontour\": [{\"colorbar\": {\"outlinewidth\": 0, \"ticks\": \"\"}, \"colorscale\": [[0.0, \"#0d0887\"], [0.1111111111111111, \"#46039f\"], [0.2222222222222222, \"#7201a8\"], [0.3333333333333333, \"#9c179e\"], [0.4444444444444444, \"#bd3786\"], [0.5555555555555556, \"#d8576b\"], [0.6666666666666666, \"#ed7953\"], [0.7777777777777778, \"#fb9f3a\"], [0.8888888888888888, \"#fdca26\"], [1.0, \"#f0f921\"]], \"type\": \"histogram2dcontour\"}], \"mesh3d\": [{\"colorbar\": {\"outlinewidth\": 0, \"ticks\": \"\"}, \"type\": \"mesh3d\"}], \"parcoords\": [{\"line\": {\"colorbar\": {\"outlinewidth\": 0, \"ticks\": \"\"}}, \"type\": \"parcoords\"}], \"pie\": [{\"automargin\": true, \"type\": \"pie\"}], \"scatter\": [{\"marker\": {\"colorbar\": {\"outlinewidth\": 0, \"ticks\": \"\"}}, \"type\": \"scatter\"}], \"scatter3d\": [{\"line\": {\"colorbar\": {\"outlinewidth\": 0, \"ticks\": \"\"}}, \"marker\": {\"colorbar\": {\"outlinewidth\": 0, \"ticks\": \"\"}}, \"type\": \"scatter3d\"}], \"scattercarpet\": [{\"marker\": {\"colorbar\": {\"outlinewidth\": 0, \"ticks\": \"\"}}, \"type\": \"scattercarpet\"}], \"scattergeo\": [{\"marker\": {\"colorbar\": {\"outlinewidth\": 0, \"ticks\": \"\"}}, \"type\": \"scattergeo\"}], \"scattergl\": [{\"marker\": {\"colorbar\": {\"outlinewidth\": 0, \"ticks\": \"\"}}, \"type\": \"scattergl\"}], \"scattermapbox\": [{\"marker\": {\"colorbar\": {\"outlinewidth\": 0, \"ticks\": \"\"}}, \"type\": \"scattermapbox\"}], \"scatterpolar\": [{\"marker\": {\"colorbar\": {\"outlinewidth\": 0, \"ticks\": \"\"}}, \"type\": \"scatterpolar\"}], \"scatterpolargl\": [{\"marker\": {\"colorbar\": {\"outlinewidth\": 0, \"ticks\": \"\"}}, \"type\": \"scatterpolargl\"}], \"scatterternary\": [{\"marker\": {\"colorbar\": {\"outlinewidth\": 0, \"ticks\": \"\"}}, \"type\": \"scatterternary\"}], \"surface\": [{\"colorbar\": {\"outlinewidth\": 0, \"ticks\": \"\"}, \"colorscale\": [[0.0, \"#0d0887\"], [0.1111111111111111, \"#46039f\"], [0.2222222222222222, \"#7201a8\"], [0.3333333333333333, \"#9c179e\"], [0.4444444444444444, \"#bd3786\"], [0.5555555555555556, \"#d8576b\"], [0.6666666666666666, \"#ed7953\"], [0.7777777777777778, \"#fb9f3a\"], [0.8888888888888888, \"#fdca26\"], [1.0, \"#f0f921\"]], \"type\": \"surface\"}], \"table\": [{\"cells\": {\"fill\": {\"color\": \"#EBF0F8\"}, \"line\": {\"color\": \"white\"}}, \"header\": {\"fill\": {\"color\": \"#C8D4E3\"}, \"line\": {\"color\": \"white\"}}, \"type\": \"table\"}]}, \"layout\": {\"annotationdefaults\": {\"arrowcolor\": \"#2a3f5f\", \"arrowhead\": 0, \"arrowwidth\": 1}, \"autotypenumbers\": \"strict\", \"coloraxis\": {\"colorbar\": {\"outlinewidth\": 0, \"ticks\": \"\"}}, \"colorscale\": {\"diverging\": [[0, \"#8e0152\"], [0.1, \"#c51b7d\"], [0.2, \"#de77ae\"], [0.3, \"#f1b6da\"], [0.4, \"#fde0ef\"], [0.5, \"#f7f7f7\"], [0.6, \"#e6f5d0\"], [0.7, \"#b8e186\"], [0.8, \"#7fbc41\"], [0.9, \"#4d9221\"], [1, \"#276419\"]], \"sequential\": [[0.0, \"#0d0887\"], [0.1111111111111111, \"#46039f\"], [0.2222222222222222, \"#7201a8\"], [0.3333333333333333, \"#9c179e\"], [0.4444444444444444, \"#bd3786\"], [0.5555555555555556, \"#d8576b\"], [0.6666666666666666, \"#ed7953\"], [0.7777777777777778, \"#fb9f3a\"], [0.8888888888888888, \"#fdca26\"], [1.0, \"#f0f921\"]], \"sequentialminus\": [[0.0, \"#0d0887\"], [0.1111111111111111, \"#46039f\"], [0.2222222222222222, \"#7201a8\"], [0.3333333333333333, \"#9c179e\"], [0.4444444444444444, \"#bd3786\"], [0.5555555555555556, \"#d8576b\"], [0.6666666666666666, \"#ed7953\"], [0.7777777777777778, \"#fb9f3a\"], [0.8888888888888888, \"#fdca26\"], [1.0, \"#f0f921\"]]}, \"colorway\": [\"#636efa\", \"#EF553B\", \"#00cc96\", \"#ab63fa\", \"#FFA15A\", \"#19d3f3\", \"#FF6692\", \"#B6E880\", \"#FF97FF\", \"#FECB52\"], \"font\": {\"color\": \"#2a3f5f\"}, \"geo\": {\"bgcolor\": \"white\", \"lakecolor\": \"white\", \"landcolor\": \"#E5ECF6\", \"showlakes\": true, \"showland\": true, \"subunitcolor\": \"white\"}, \"hoverlabel\": {\"align\": \"left\"}, \"hovermode\": \"closest\", \"mapbox\": {\"style\": \"light\"}, \"paper_bgcolor\": \"white\", \"plot_bgcolor\": \"#E5ECF6\", \"polar\": {\"angularaxis\": {\"gridcolor\": \"white\", \"linecolor\": \"white\", \"ticks\": \"\"}, \"bgcolor\": \"#E5ECF6\", \"radialaxis\": {\"gridcolor\": \"white\", \"linecolor\": \"white\", \"ticks\": \"\"}}, \"scene\": {\"xaxis\": {\"backgroundcolor\": \"#E5ECF6\", \"gridcolor\": \"white\", \"gridwidth\": 2, \"linecolor\": \"white\", \"showbackground\": true, \"ticks\": \"\", \"zerolinecolor\": \"white\"}, \"yaxis\": {\"backgroundcolor\": \"#E5ECF6\", \"gridcolor\": \"white\", \"gridwidth\": 2, \"linecolor\": \"white\", \"showbackground\": true, \"ticks\": \"\", \"zerolinecolor\": \"white\"}, \"zaxis\": {\"backgroundcolor\": \"#E5ECF6\", \"gridcolor\": \"white\", \"gridwidth\": 2, \"linecolor\": \"white\", \"showbackground\": true, \"ticks\": \"\", \"zerolinecolor\": \"white\"}}, \"shapedefaults\": {\"line\": {\"color\": \"#2a3f5f\"}}, \"ternary\": {\"aaxis\": {\"gridcolor\": \"white\", \"linecolor\": \"white\", \"ticks\": \"\"}, \"baxis\": {\"gridcolor\": \"white\", \"linecolor\": \"white\", \"ticks\": \"\"}, \"bgcolor\": \"#E5ECF6\", \"caxis\": {\"gridcolor\": \"white\", \"linecolor\": \"white\", \"ticks\": \"\"}}, \"title\": {\"x\": 0.05}, \"xaxis\": {\"automargin\": true, \"gridcolor\": \"white\", \"linecolor\": \"white\", \"ticks\": \"\", \"title\": {\"standoff\": 15}, \"zerolinecolor\": \"white\", \"zerolinewidth\": 2}, \"yaxis\": {\"automargin\": true, \"gridcolor\": \"white\", \"linecolor\": \"white\", \"ticks\": \"\", \"title\": {\"standoff\": 15}, \"zerolinecolor\": \"white\", \"zerolinewidth\": 2}}}, \"title\": {\"text\": \"DadosAnalise: Tipo de Lan\\u00e7amento x Percentual Crescimento\"}, \"xaxis\": {\"anchor\": \"y\", \"domain\": [0.0, 1.0], \"title\": {\"text\": \"ConsumoPorM3\"}}, \"yaxis\": {\"anchor\": \"x\", \"domain\": [0.0, 1.0], \"title\": {\"text\": \"Rompimento7Dias\"}}},                        {\"responsive\": true}                    ).then(function(){\n",
       "                            \n",
       "var gd = document.getElementById('ae651269-add4-4580-9576-0f68ffe2069c');\n",
       "var x = new MutationObserver(function (mutations, observer) {{\n",
       "        var display = window.getComputedStyle(gd).display;\n",
       "        if (!display || display === 'none') {{\n",
       "            console.log([gd, 'removed!']);\n",
       "            Plotly.purge(gd);\n",
       "            observer.disconnect();\n",
       "        }}\n",
       "}});\n",
       "\n",
       "// Listen for the removal of the full notebook cells\n",
       "var notebookContainer = gd.closest('#notebook-container');\n",
       "if (notebookContainer) {{\n",
       "    x.observe(notebookContainer, {childList: true});\n",
       "}}\n",
       "\n",
       "// Listen for the clearing of the current output cell\n",
       "var outputEl = gd.closest('.output');\n",
       "if (outputEl) {{\n",
       "    x.observe(outputEl, {childList: true});\n",
       "}}\n",
       "\n",
       "                        })                };                });            </script>        </div>"
      ]
     },
     "metadata": {},
     "output_type": "display_data"
    }
   ],
   "source": [
    "fig = px.scatter(da_fck_data_esp, x=\"ConsumoPorM3\", y=\"Rompimento7Dias\", title='DadosAnalise: Tipo de Lançamento x Percentual Crescimento')\n",
    "fig.show()"
   ]
  },
  {
   "cell_type": "code",
   "execution_count": 617,
   "metadata": {},
   "outputs": [
    {
     "data": {
      "application/vnd.plotly.v1+json": {
       "config": {
        "plotlyServerURL": "https://plot.ly"
       },
       "data": [
        {
         "hovertemplate": "Rompimento7Dias=%{x}<br>Rompimento28Dias=%{y}<extra></extra>",
         "legendgroup": "",
         "marker": {
          "color": "#636efa",
          "symbol": "circle"
         },
         "mode": "markers",
         "name": "",
         "orientation": "v",
         "showlegend": false,
         "type": "scatter",
         "x": [
          26.57,
          22.89,
          17.81,
          16.88,
          22.14,
          26.44,
          20.6,
          23.26,
          26.9,
          25.55,
          21.06,
          25.24,
          23.39,
          26.91,
          21.02,
          24.59,
          25.13,
          23.59,
          22.91,
          26.48,
          27.6,
          29.33,
          26.69,
          24.76,
          29.47,
          28.36,
          25.91,
          24.26,
          24.24,
          20.88,
          23.45,
          25.09,
          19.72,
          20.37,
          20.41,
          31.29,
          35.53,
          34,
          28.87,
          28.59,
          28.04,
          26.38,
          26.62,
          20.76,
          24.11,
          19.49,
          23.1,
          23.81,
          22.72,
          21.17,
          22.43,
          23.13,
          21.81,
          19.29,
          19.09,
          21.64,
          20.97,
          20.78,
          20.79,
          21.49,
          19.53,
          25.46,
          22.51,
          25,
          21.14,
          25.26,
          26.72,
          21.95,
          21.92,
          21.64,
          23.96,
          22.86,
          23.41,
          21.28,
          22.3,
          21.69,
          19.11,
          20.06,
          21.56,
          19.88,
          24.54,
          22.52,
          21.74,
          25.6,
          27.24,
          30.17,
          27,
          29.05,
          24.43,
          26.01,
          27.82,
          29.57,
          27.05,
          30.42,
          28.72,
          27.43,
          23.13,
          25.42,
          24.66,
          23.24,
          24.89,
          24.31,
          27.53,
          22.8,
          25.09,
          25.33,
          29.14,
          28.62,
          27.23,
          25.13,
          24.11,
          23.36,
          26.47,
          23.82,
          30.68,
          23.49,
          21.63,
          24.81,
          26.85,
          26.47,
          25.49,
          21.13,
          22.15,
          22,
          21,
          22.11,
          22.4,
          20.18,
          19.72,
          17.44,
          20.95,
          19.66,
          22.21,
          21.97,
          20.06,
          22.96,
          19.66,
          18.06,
          19.95,
          19.92,
          19.85,
          20.67,
          18.17,
          23.32,
          22.11,
          20.86,
          28.2,
          22.07,
          21.16,
          24.15,
          23.64,
          21.56,
          23.56,
          24.67,
          24.57,
          23.82,
          23.37,
          19.5,
          22.48,
          22.94,
          23.16,
          24.59,
          26.15,
          22.82,
          20.98,
          22.75,
          23.5,
          26.9,
          22.91,
          19.2,
          24.35,
          27.89,
          16.14,
          23.14,
          16.23,
          25.32,
          21.92,
          22.35,
          19.67,
          23.19,
          24.56,
          22.86,
          25.92
         ],
         "xaxis": "x",
         "y": [
          36.56,
          26.77,
          26.67,
          24.99,
          29.67,
          29.5,
          29.06,
          30.69,
          36.28,
          34.07,
          27.93,
          30.76,
          35.22,
          36.01,
          29.78,
          32.35,
          28.5,
          30.51,
          29.84,
          33.45,
          33.71,
          34.28,
          32.74,
          30.4,
          37.59,
          34.38,
          31.79,
          33.4,
          31.72,
          28.39,
          31.12,
          31.63,
          27.61,
          29.7,
          27.47,
          38.36,
          42.61,
          43.19,
          38.3,
          37.46,
          32.51,
          31.07,
          33.02,
          27.15,
          33.9,
          28.25,
          31.71,
          35.72,
          34.49,
          28.73,
          29.67,
          28.49,
          29.56,
          27.56,
          28.85,
          27.98,
          26.02,
          29,
          27.06,
          26.39,
          24.03,
          34.8,
          29.48,
          33.72,
          28.94,
          33.17,
          34.65,
          29.46,
          30.02,
          29.92,
          30.16,
          28.41,
          31.39,
          27.43,
          30.78,
          29.74,
          27.31,
          28.38,
          29.64,
          28.53,
          31.74,
          32.92,
          30.5,
          35.62,
          39.69,
          40.23,
          38.09,
          38.75,
          34.7,
          35.81,
          35.4,
          37.81,
          36.31,
          35.11,
          36.2,
          35.07,
          29.37,
          33.09,
          31.39,
          31.19,
          31.76,
          30.49,
          34.47,
          29.24,
          31.72,
          38.11,
          35.69,
          37.13,
          34.04,
          33.82,
          32.46,
          30.58,
          33.84,
          30.32,
          38.61,
          29.93,
          32.54,
          32.56,
          38.16,
          34.49,
          32.31,
          31.26,
          32.16,
          31.26,
          29.51,
          32.6,
          33.01,
          30,
          23.67,
          21.27,
          26.39,
          25.79,
          29.67,
          27.15,
          22.79,
          27.62,
          24.96,
          22.79,
          22.12,
          22.21,
          23.59,
          25.69,
          22.14,
          25.56,
          26.66,
          26.07,
          32.84,
          26.82,
          25.29,
          26.95,
          27.64,
          25.14,
          25.41,
          28.99,
          27.87,
          29.98,
          32.4,
          25.54,
          27.28,
          27.28,
          28.72,
          30.44,
          30.26,
          27.53,
          28.01,
          29.56,
          31.61,
          37.24,
          33.4,
          25.21,
          36.56,
          37.67,
          24.54,
          32.73,
          25.01,
          34.88,
          32.45,
          29.1,
          25.68,
          31.51,
          34.54,
          34.88,
          33.07
         ],
         "yaxis": "y"
        }
       ],
       "layout": {
        "legend": {
         "tracegroupgap": 0
        },
        "template": {
         "data": {
          "bar": [
           {
            "error_x": {
             "color": "#2a3f5f"
            },
            "error_y": {
             "color": "#2a3f5f"
            },
            "marker": {
             "line": {
              "color": "#E5ECF6",
              "width": 0.5
             }
            },
            "type": "bar"
           }
          ],
          "barpolar": [
           {
            "marker": {
             "line": {
              "color": "#E5ECF6",
              "width": 0.5
             }
            },
            "type": "barpolar"
           }
          ],
          "carpet": [
           {
            "aaxis": {
             "endlinecolor": "#2a3f5f",
             "gridcolor": "white",
             "linecolor": "white",
             "minorgridcolor": "white",
             "startlinecolor": "#2a3f5f"
            },
            "baxis": {
             "endlinecolor": "#2a3f5f",
             "gridcolor": "white",
             "linecolor": "white",
             "minorgridcolor": "white",
             "startlinecolor": "#2a3f5f"
            },
            "type": "carpet"
           }
          ],
          "choropleth": [
           {
            "colorbar": {
             "outlinewidth": 0,
             "ticks": ""
            },
            "type": "choropleth"
           }
          ],
          "contour": [
           {
            "colorbar": {
             "outlinewidth": 0,
             "ticks": ""
            },
            "colorscale": [
             [
              0,
              "#0d0887"
             ],
             [
              0.1111111111111111,
              "#46039f"
             ],
             [
              0.2222222222222222,
              "#7201a8"
             ],
             [
              0.3333333333333333,
              "#9c179e"
             ],
             [
              0.4444444444444444,
              "#bd3786"
             ],
             [
              0.5555555555555556,
              "#d8576b"
             ],
             [
              0.6666666666666666,
              "#ed7953"
             ],
             [
              0.7777777777777778,
              "#fb9f3a"
             ],
             [
              0.8888888888888888,
              "#fdca26"
             ],
             [
              1,
              "#f0f921"
             ]
            ],
            "type": "contour"
           }
          ],
          "contourcarpet": [
           {
            "colorbar": {
             "outlinewidth": 0,
             "ticks": ""
            },
            "type": "contourcarpet"
           }
          ],
          "heatmap": [
           {
            "colorbar": {
             "outlinewidth": 0,
             "ticks": ""
            },
            "colorscale": [
             [
              0,
              "#0d0887"
             ],
             [
              0.1111111111111111,
              "#46039f"
             ],
             [
              0.2222222222222222,
              "#7201a8"
             ],
             [
              0.3333333333333333,
              "#9c179e"
             ],
             [
              0.4444444444444444,
              "#bd3786"
             ],
             [
              0.5555555555555556,
              "#d8576b"
             ],
             [
              0.6666666666666666,
              "#ed7953"
             ],
             [
              0.7777777777777778,
              "#fb9f3a"
             ],
             [
              0.8888888888888888,
              "#fdca26"
             ],
             [
              1,
              "#f0f921"
             ]
            ],
            "type": "heatmap"
           }
          ],
          "heatmapgl": [
           {
            "colorbar": {
             "outlinewidth": 0,
             "ticks": ""
            },
            "colorscale": [
             [
              0,
              "#0d0887"
             ],
             [
              0.1111111111111111,
              "#46039f"
             ],
             [
              0.2222222222222222,
              "#7201a8"
             ],
             [
              0.3333333333333333,
              "#9c179e"
             ],
             [
              0.4444444444444444,
              "#bd3786"
             ],
             [
              0.5555555555555556,
              "#d8576b"
             ],
             [
              0.6666666666666666,
              "#ed7953"
             ],
             [
              0.7777777777777778,
              "#fb9f3a"
             ],
             [
              0.8888888888888888,
              "#fdca26"
             ],
             [
              1,
              "#f0f921"
             ]
            ],
            "type": "heatmapgl"
           }
          ],
          "histogram": [
           {
            "marker": {
             "colorbar": {
              "outlinewidth": 0,
              "ticks": ""
             }
            },
            "type": "histogram"
           }
          ],
          "histogram2d": [
           {
            "colorbar": {
             "outlinewidth": 0,
             "ticks": ""
            },
            "colorscale": [
             [
              0,
              "#0d0887"
             ],
             [
              0.1111111111111111,
              "#46039f"
             ],
             [
              0.2222222222222222,
              "#7201a8"
             ],
             [
              0.3333333333333333,
              "#9c179e"
             ],
             [
              0.4444444444444444,
              "#bd3786"
             ],
             [
              0.5555555555555556,
              "#d8576b"
             ],
             [
              0.6666666666666666,
              "#ed7953"
             ],
             [
              0.7777777777777778,
              "#fb9f3a"
             ],
             [
              0.8888888888888888,
              "#fdca26"
             ],
             [
              1,
              "#f0f921"
             ]
            ],
            "type": "histogram2d"
           }
          ],
          "histogram2dcontour": [
           {
            "colorbar": {
             "outlinewidth": 0,
             "ticks": ""
            },
            "colorscale": [
             [
              0,
              "#0d0887"
             ],
             [
              0.1111111111111111,
              "#46039f"
             ],
             [
              0.2222222222222222,
              "#7201a8"
             ],
             [
              0.3333333333333333,
              "#9c179e"
             ],
             [
              0.4444444444444444,
              "#bd3786"
             ],
             [
              0.5555555555555556,
              "#d8576b"
             ],
             [
              0.6666666666666666,
              "#ed7953"
             ],
             [
              0.7777777777777778,
              "#fb9f3a"
             ],
             [
              0.8888888888888888,
              "#fdca26"
             ],
             [
              1,
              "#f0f921"
             ]
            ],
            "type": "histogram2dcontour"
           }
          ],
          "mesh3d": [
           {
            "colorbar": {
             "outlinewidth": 0,
             "ticks": ""
            },
            "type": "mesh3d"
           }
          ],
          "parcoords": [
           {
            "line": {
             "colorbar": {
              "outlinewidth": 0,
              "ticks": ""
             }
            },
            "type": "parcoords"
           }
          ],
          "pie": [
           {
            "automargin": true,
            "type": "pie"
           }
          ],
          "scatter": [
           {
            "marker": {
             "colorbar": {
              "outlinewidth": 0,
              "ticks": ""
             }
            },
            "type": "scatter"
           }
          ],
          "scatter3d": [
           {
            "line": {
             "colorbar": {
              "outlinewidth": 0,
              "ticks": ""
             }
            },
            "marker": {
             "colorbar": {
              "outlinewidth": 0,
              "ticks": ""
             }
            },
            "type": "scatter3d"
           }
          ],
          "scattercarpet": [
           {
            "marker": {
             "colorbar": {
              "outlinewidth": 0,
              "ticks": ""
             }
            },
            "type": "scattercarpet"
           }
          ],
          "scattergeo": [
           {
            "marker": {
             "colorbar": {
              "outlinewidth": 0,
              "ticks": ""
             }
            },
            "type": "scattergeo"
           }
          ],
          "scattergl": [
           {
            "marker": {
             "colorbar": {
              "outlinewidth": 0,
              "ticks": ""
             }
            },
            "type": "scattergl"
           }
          ],
          "scattermapbox": [
           {
            "marker": {
             "colorbar": {
              "outlinewidth": 0,
              "ticks": ""
             }
            },
            "type": "scattermapbox"
           }
          ],
          "scatterpolar": [
           {
            "marker": {
             "colorbar": {
              "outlinewidth": 0,
              "ticks": ""
             }
            },
            "type": "scatterpolar"
           }
          ],
          "scatterpolargl": [
           {
            "marker": {
             "colorbar": {
              "outlinewidth": 0,
              "ticks": ""
             }
            },
            "type": "scatterpolargl"
           }
          ],
          "scatterternary": [
           {
            "marker": {
             "colorbar": {
              "outlinewidth": 0,
              "ticks": ""
             }
            },
            "type": "scatterternary"
           }
          ],
          "surface": [
           {
            "colorbar": {
             "outlinewidth": 0,
             "ticks": ""
            },
            "colorscale": [
             [
              0,
              "#0d0887"
             ],
             [
              0.1111111111111111,
              "#46039f"
             ],
             [
              0.2222222222222222,
              "#7201a8"
             ],
             [
              0.3333333333333333,
              "#9c179e"
             ],
             [
              0.4444444444444444,
              "#bd3786"
             ],
             [
              0.5555555555555556,
              "#d8576b"
             ],
             [
              0.6666666666666666,
              "#ed7953"
             ],
             [
              0.7777777777777778,
              "#fb9f3a"
             ],
             [
              0.8888888888888888,
              "#fdca26"
             ],
             [
              1,
              "#f0f921"
             ]
            ],
            "type": "surface"
           }
          ],
          "table": [
           {
            "cells": {
             "fill": {
              "color": "#EBF0F8"
             },
             "line": {
              "color": "white"
             }
            },
            "header": {
             "fill": {
              "color": "#C8D4E3"
             },
             "line": {
              "color": "white"
             }
            },
            "type": "table"
           }
          ]
         },
         "layout": {
          "annotationdefaults": {
           "arrowcolor": "#2a3f5f",
           "arrowhead": 0,
           "arrowwidth": 1
          },
          "autotypenumbers": "strict",
          "coloraxis": {
           "colorbar": {
            "outlinewidth": 0,
            "ticks": ""
           }
          },
          "colorscale": {
           "diverging": [
            [
             0,
             "#8e0152"
            ],
            [
             0.1,
             "#c51b7d"
            ],
            [
             0.2,
             "#de77ae"
            ],
            [
             0.3,
             "#f1b6da"
            ],
            [
             0.4,
             "#fde0ef"
            ],
            [
             0.5,
             "#f7f7f7"
            ],
            [
             0.6,
             "#e6f5d0"
            ],
            [
             0.7,
             "#b8e186"
            ],
            [
             0.8,
             "#7fbc41"
            ],
            [
             0.9,
             "#4d9221"
            ],
            [
             1,
             "#276419"
            ]
           ],
           "sequential": [
            [
             0,
             "#0d0887"
            ],
            [
             0.1111111111111111,
             "#46039f"
            ],
            [
             0.2222222222222222,
             "#7201a8"
            ],
            [
             0.3333333333333333,
             "#9c179e"
            ],
            [
             0.4444444444444444,
             "#bd3786"
            ],
            [
             0.5555555555555556,
             "#d8576b"
            ],
            [
             0.6666666666666666,
             "#ed7953"
            ],
            [
             0.7777777777777778,
             "#fb9f3a"
            ],
            [
             0.8888888888888888,
             "#fdca26"
            ],
            [
             1,
             "#f0f921"
            ]
           ],
           "sequentialminus": [
            [
             0,
             "#0d0887"
            ],
            [
             0.1111111111111111,
             "#46039f"
            ],
            [
             0.2222222222222222,
             "#7201a8"
            ],
            [
             0.3333333333333333,
             "#9c179e"
            ],
            [
             0.4444444444444444,
             "#bd3786"
            ],
            [
             0.5555555555555556,
             "#d8576b"
            ],
            [
             0.6666666666666666,
             "#ed7953"
            ],
            [
             0.7777777777777778,
             "#fb9f3a"
            ],
            [
             0.8888888888888888,
             "#fdca26"
            ],
            [
             1,
             "#f0f921"
            ]
           ]
          },
          "colorway": [
           "#636efa",
           "#EF553B",
           "#00cc96",
           "#ab63fa",
           "#FFA15A",
           "#19d3f3",
           "#FF6692",
           "#B6E880",
           "#FF97FF",
           "#FECB52"
          ],
          "font": {
           "color": "#2a3f5f"
          },
          "geo": {
           "bgcolor": "white",
           "lakecolor": "white",
           "landcolor": "#E5ECF6",
           "showlakes": true,
           "showland": true,
           "subunitcolor": "white"
          },
          "hoverlabel": {
           "align": "left"
          },
          "hovermode": "closest",
          "mapbox": {
           "style": "light"
          },
          "paper_bgcolor": "white",
          "plot_bgcolor": "#E5ECF6",
          "polar": {
           "angularaxis": {
            "gridcolor": "white",
            "linecolor": "white",
            "ticks": ""
           },
           "bgcolor": "#E5ECF6",
           "radialaxis": {
            "gridcolor": "white",
            "linecolor": "white",
            "ticks": ""
           }
          },
          "scene": {
           "xaxis": {
            "backgroundcolor": "#E5ECF6",
            "gridcolor": "white",
            "gridwidth": 2,
            "linecolor": "white",
            "showbackground": true,
            "ticks": "",
            "zerolinecolor": "white"
           },
           "yaxis": {
            "backgroundcolor": "#E5ECF6",
            "gridcolor": "white",
            "gridwidth": 2,
            "linecolor": "white",
            "showbackground": true,
            "ticks": "",
            "zerolinecolor": "white"
           },
           "zaxis": {
            "backgroundcolor": "#E5ECF6",
            "gridcolor": "white",
            "gridwidth": 2,
            "linecolor": "white",
            "showbackground": true,
            "ticks": "",
            "zerolinecolor": "white"
           }
          },
          "shapedefaults": {
           "line": {
            "color": "#2a3f5f"
           }
          },
          "ternary": {
           "aaxis": {
            "gridcolor": "white",
            "linecolor": "white",
            "ticks": ""
           },
           "baxis": {
            "gridcolor": "white",
            "linecolor": "white",
            "ticks": ""
           },
           "bgcolor": "#E5ECF6",
           "caxis": {
            "gridcolor": "white",
            "linecolor": "white",
            "ticks": ""
           }
          },
          "title": {
           "x": 0.05
          },
          "xaxis": {
           "automargin": true,
           "gridcolor": "white",
           "linecolor": "white",
           "ticks": "",
           "title": {
            "standoff": 15
           },
           "zerolinecolor": "white",
           "zerolinewidth": 2
          },
          "yaxis": {
           "automargin": true,
           "gridcolor": "white",
           "linecolor": "white",
           "ticks": "",
           "title": {
            "standoff": 15
           },
           "zerolinecolor": "white",
           "zerolinewidth": 2
          }
         }
        },
        "title": {
         "text": "DadosAnalise: Tipo de Lançamento x Percentual Crescimento"
        },
        "xaxis": {
         "anchor": "y",
         "domain": [
          0,
          1
         ],
         "title": {
          "text": "Rompimento7Dias"
         }
        },
        "yaxis": {
         "anchor": "x",
         "domain": [
          0,
          1
         ],
         "title": {
          "text": "Rompimento28Dias"
         }
        }
       }
      },
      "text/html": [
       "<div>                            <div id=\"051d6c2b-0d80-4adb-aa39-593c6e65acae\" class=\"plotly-graph-div\" style=\"height:525px; width:100%;\"></div>            <script type=\"text/javascript\">                require([\"plotly\"], function(Plotly) {                    window.PLOTLYENV=window.PLOTLYENV || {};                                    if (document.getElementById(\"051d6c2b-0d80-4adb-aa39-593c6e65acae\")) {                    Plotly.newPlot(                        \"051d6c2b-0d80-4adb-aa39-593c6e65acae\",                        [{\"hovertemplate\": \"Rompimento7Dias=%{x}<br>Rompimento28Dias=%{y}<extra></extra>\", \"legendgroup\": \"\", \"marker\": {\"color\": \"#636efa\", \"symbol\": \"circle\"}, \"mode\": \"markers\", \"name\": \"\", \"orientation\": \"v\", \"showlegend\": false, \"type\": \"scatter\", \"x\": [26.57, 22.89, 17.81, 16.88, 22.14, 26.44, 20.6, 23.26, 26.9, 25.55, 21.06, 25.24, 23.39, 26.91, 21.02, 24.59, 25.13, 23.59, 22.91, 26.48, 27.6, 29.33, 26.69, 24.76, 29.47, 28.36, 25.91, 24.26, 24.24, 20.88, 23.45, 25.09, 19.72, 20.37, 20.41, 31.29, 35.53, 34.0, 28.87, 28.59, 28.04, 26.38, 26.62, 20.76, 24.11, 19.49, 23.1, 23.81, 22.72, 21.17, 22.43, 23.13, 21.81, 19.29, 19.09, 21.64, 20.97, 20.78, 20.79, 21.49, 19.53, 25.46, 22.51, 25.0, 21.14, 25.26, 26.72, 21.95, 21.92, 21.64, 23.96, 22.86, 23.41, 21.28, 22.3, 21.69, 19.11, 20.06, 21.56, 19.88, 24.54, 22.52, 21.74, 25.6, 27.24, 30.17, 27.0, 29.05, 24.43, 26.01, 27.82, 29.57, 27.05, 30.42, 28.72, 27.43, 23.13, 25.42, 24.66, 23.24, 24.89, 24.31, 27.53, 22.8, 25.09, 25.33, 29.14, 28.62, 27.23, 25.13, 24.11, 23.36, 26.47, 23.82, 30.68, 23.49, 21.63, 24.81, 26.85, 26.47, 25.49, 21.13, 22.15, 22.0, 21.0, 22.11, 22.4, 20.18, 19.72, 17.44, 20.95, 19.66, 22.21, 21.97, 20.06, 22.96, 19.66, 18.06, 19.95, 19.92, 19.85, 20.67, 18.17, 23.32, 22.11, 20.86, 28.2, 22.07, 21.16, 24.15, 23.64, 21.56, 23.56, 24.67, 24.57, 23.82, 23.37, 19.5, 22.48, 22.94, 23.16, 24.59, 26.15, 22.82, 20.98, 22.75, 23.5, 26.9, 22.91, 19.2, 24.35, 27.89, 16.14, 23.14, 16.23, 25.32, 21.92, 22.35, 19.67, 23.19, 24.56, 22.86, 25.92], \"xaxis\": \"x\", \"y\": [36.56, 26.77, 26.67, 24.99, 29.67, 29.5, 29.06, 30.69, 36.28, 34.07, 27.93, 30.76, 35.22, 36.01, 29.78, 32.35, 28.5, 30.51, 29.84, 33.45, 33.71, 34.28, 32.74, 30.4, 37.59, 34.38, 31.79, 33.4, 31.72, 28.39, 31.12, 31.63, 27.61, 29.7, 27.47, 38.36, 42.61, 43.19, 38.3, 37.46, 32.51, 31.07, 33.02, 27.15, 33.9, 28.25, 31.71, 35.72, 34.49, 28.73, 29.67, 28.49, 29.56, 27.56, 28.85, 27.98, 26.02, 29.0, 27.06, 26.39, 24.03, 34.8, 29.48, 33.72, 28.94, 33.17, 34.65, 29.46, 30.02, 29.92, 30.16, 28.41, 31.39, 27.43, 30.78, 29.74, 27.31, 28.38, 29.64, 28.53, 31.74, 32.92, 30.5, 35.62, 39.69, 40.23, 38.09, 38.75, 34.7, 35.81, 35.4, 37.81, 36.31, 35.11, 36.2, 35.07, 29.37, 33.09, 31.39, 31.19, 31.76, 30.49, 34.47, 29.24, 31.72, 38.11, 35.69, 37.13, 34.04, 33.82, 32.46, 30.58, 33.84, 30.32, 38.61, 29.93, 32.54, 32.56, 38.16, 34.49, 32.31, 31.26, 32.16, 31.26, 29.51, 32.6, 33.01, 30.0, 23.67, 21.27, 26.39, 25.79, 29.67, 27.15, 22.79, 27.62, 24.96, 22.79, 22.12, 22.21, 23.59, 25.69, 22.14, 25.56, 26.66, 26.07, 32.84, 26.82, 25.29, 26.95, 27.64, 25.14, 25.41, 28.99, 27.87, 29.98, 32.4, 25.54, 27.28, 27.28, 28.72, 30.44, 30.26, 27.53, 28.01, 29.56, 31.61, 37.24, 33.4, 25.21, 36.56, 37.67, 24.54, 32.73, 25.01, 34.88, 32.45, 29.1, 25.68, 31.51, 34.54, 34.88, 33.07], \"yaxis\": \"y\"}],                        {\"legend\": {\"tracegroupgap\": 0}, \"template\": {\"data\": {\"bar\": [{\"error_x\": {\"color\": \"#2a3f5f\"}, \"error_y\": {\"color\": \"#2a3f5f\"}, \"marker\": {\"line\": {\"color\": \"#E5ECF6\", \"width\": 0.5}}, \"type\": \"bar\"}], \"barpolar\": [{\"marker\": {\"line\": {\"color\": \"#E5ECF6\", \"width\": 0.5}}, \"type\": \"barpolar\"}], \"carpet\": [{\"aaxis\": {\"endlinecolor\": \"#2a3f5f\", \"gridcolor\": \"white\", \"linecolor\": \"white\", \"minorgridcolor\": \"white\", \"startlinecolor\": \"#2a3f5f\"}, \"baxis\": {\"endlinecolor\": \"#2a3f5f\", \"gridcolor\": \"white\", \"linecolor\": \"white\", \"minorgridcolor\": \"white\", \"startlinecolor\": \"#2a3f5f\"}, \"type\": \"carpet\"}], \"choropleth\": [{\"colorbar\": {\"outlinewidth\": 0, \"ticks\": \"\"}, \"type\": \"choropleth\"}], \"contour\": [{\"colorbar\": {\"outlinewidth\": 0, \"ticks\": \"\"}, \"colorscale\": [[0.0, \"#0d0887\"], [0.1111111111111111, \"#46039f\"], [0.2222222222222222, \"#7201a8\"], [0.3333333333333333, \"#9c179e\"], [0.4444444444444444, \"#bd3786\"], [0.5555555555555556, \"#d8576b\"], [0.6666666666666666, \"#ed7953\"], [0.7777777777777778, \"#fb9f3a\"], [0.8888888888888888, \"#fdca26\"], [1.0, \"#f0f921\"]], \"type\": \"contour\"}], \"contourcarpet\": [{\"colorbar\": {\"outlinewidth\": 0, \"ticks\": \"\"}, \"type\": \"contourcarpet\"}], \"heatmap\": [{\"colorbar\": {\"outlinewidth\": 0, \"ticks\": \"\"}, \"colorscale\": [[0.0, \"#0d0887\"], [0.1111111111111111, \"#46039f\"], [0.2222222222222222, \"#7201a8\"], [0.3333333333333333, \"#9c179e\"], [0.4444444444444444, \"#bd3786\"], [0.5555555555555556, \"#d8576b\"], [0.6666666666666666, \"#ed7953\"], [0.7777777777777778, \"#fb9f3a\"], [0.8888888888888888, \"#fdca26\"], [1.0, \"#f0f921\"]], \"type\": \"heatmap\"}], \"heatmapgl\": [{\"colorbar\": {\"outlinewidth\": 0, \"ticks\": \"\"}, \"colorscale\": [[0.0, \"#0d0887\"], [0.1111111111111111, \"#46039f\"], [0.2222222222222222, \"#7201a8\"], [0.3333333333333333, \"#9c179e\"], [0.4444444444444444, \"#bd3786\"], [0.5555555555555556, \"#d8576b\"], [0.6666666666666666, \"#ed7953\"], [0.7777777777777778, \"#fb9f3a\"], [0.8888888888888888, \"#fdca26\"], [1.0, \"#f0f921\"]], \"type\": \"heatmapgl\"}], \"histogram\": [{\"marker\": {\"colorbar\": {\"outlinewidth\": 0, \"ticks\": \"\"}}, \"type\": \"histogram\"}], \"histogram2d\": [{\"colorbar\": {\"outlinewidth\": 0, \"ticks\": \"\"}, \"colorscale\": [[0.0, \"#0d0887\"], [0.1111111111111111, \"#46039f\"], [0.2222222222222222, \"#7201a8\"], [0.3333333333333333, \"#9c179e\"], [0.4444444444444444, \"#bd3786\"], [0.5555555555555556, \"#d8576b\"], [0.6666666666666666, \"#ed7953\"], [0.7777777777777778, \"#fb9f3a\"], [0.8888888888888888, \"#fdca26\"], [1.0, \"#f0f921\"]], \"type\": \"histogram2d\"}], \"histogram2dcontour\": [{\"colorbar\": {\"outlinewidth\": 0, \"ticks\": \"\"}, \"colorscale\": [[0.0, \"#0d0887\"], [0.1111111111111111, \"#46039f\"], [0.2222222222222222, \"#7201a8\"], [0.3333333333333333, \"#9c179e\"], [0.4444444444444444, \"#bd3786\"], [0.5555555555555556, \"#d8576b\"], [0.6666666666666666, \"#ed7953\"], [0.7777777777777778, \"#fb9f3a\"], [0.8888888888888888, \"#fdca26\"], [1.0, \"#f0f921\"]], \"type\": \"histogram2dcontour\"}], \"mesh3d\": [{\"colorbar\": {\"outlinewidth\": 0, \"ticks\": \"\"}, \"type\": \"mesh3d\"}], \"parcoords\": [{\"line\": {\"colorbar\": {\"outlinewidth\": 0, \"ticks\": \"\"}}, \"type\": \"parcoords\"}], \"pie\": [{\"automargin\": true, \"type\": \"pie\"}], \"scatter\": [{\"marker\": {\"colorbar\": {\"outlinewidth\": 0, \"ticks\": \"\"}}, \"type\": \"scatter\"}], \"scatter3d\": [{\"line\": {\"colorbar\": {\"outlinewidth\": 0, \"ticks\": \"\"}}, \"marker\": {\"colorbar\": {\"outlinewidth\": 0, \"ticks\": \"\"}}, \"type\": \"scatter3d\"}], \"scattercarpet\": [{\"marker\": {\"colorbar\": {\"outlinewidth\": 0, \"ticks\": \"\"}}, \"type\": \"scattercarpet\"}], \"scattergeo\": [{\"marker\": {\"colorbar\": {\"outlinewidth\": 0, \"ticks\": \"\"}}, \"type\": \"scattergeo\"}], \"scattergl\": [{\"marker\": {\"colorbar\": {\"outlinewidth\": 0, \"ticks\": \"\"}}, \"type\": \"scattergl\"}], \"scattermapbox\": [{\"marker\": {\"colorbar\": {\"outlinewidth\": 0, \"ticks\": \"\"}}, \"type\": \"scattermapbox\"}], \"scatterpolar\": [{\"marker\": {\"colorbar\": {\"outlinewidth\": 0, \"ticks\": \"\"}}, \"type\": \"scatterpolar\"}], \"scatterpolargl\": [{\"marker\": {\"colorbar\": {\"outlinewidth\": 0, \"ticks\": \"\"}}, \"type\": \"scatterpolargl\"}], \"scatterternary\": [{\"marker\": {\"colorbar\": {\"outlinewidth\": 0, \"ticks\": \"\"}}, \"type\": \"scatterternary\"}], \"surface\": [{\"colorbar\": {\"outlinewidth\": 0, \"ticks\": \"\"}, \"colorscale\": [[0.0, \"#0d0887\"], [0.1111111111111111, \"#46039f\"], [0.2222222222222222, \"#7201a8\"], [0.3333333333333333, \"#9c179e\"], [0.4444444444444444, \"#bd3786\"], [0.5555555555555556, \"#d8576b\"], [0.6666666666666666, \"#ed7953\"], [0.7777777777777778, \"#fb9f3a\"], [0.8888888888888888, \"#fdca26\"], [1.0, \"#f0f921\"]], \"type\": \"surface\"}], \"table\": [{\"cells\": {\"fill\": {\"color\": \"#EBF0F8\"}, \"line\": {\"color\": \"white\"}}, \"header\": {\"fill\": {\"color\": \"#C8D4E3\"}, \"line\": {\"color\": \"white\"}}, \"type\": \"table\"}]}, \"layout\": {\"annotationdefaults\": {\"arrowcolor\": \"#2a3f5f\", \"arrowhead\": 0, \"arrowwidth\": 1}, \"autotypenumbers\": \"strict\", \"coloraxis\": {\"colorbar\": {\"outlinewidth\": 0, \"ticks\": \"\"}}, \"colorscale\": {\"diverging\": [[0, \"#8e0152\"], [0.1, \"#c51b7d\"], [0.2, \"#de77ae\"], [0.3, \"#f1b6da\"], [0.4, \"#fde0ef\"], [0.5, \"#f7f7f7\"], [0.6, \"#e6f5d0\"], [0.7, \"#b8e186\"], [0.8, \"#7fbc41\"], [0.9, \"#4d9221\"], [1, \"#276419\"]], \"sequential\": [[0.0, \"#0d0887\"], [0.1111111111111111, \"#46039f\"], [0.2222222222222222, \"#7201a8\"], [0.3333333333333333, \"#9c179e\"], [0.4444444444444444, \"#bd3786\"], [0.5555555555555556, \"#d8576b\"], [0.6666666666666666, \"#ed7953\"], [0.7777777777777778, \"#fb9f3a\"], [0.8888888888888888, \"#fdca26\"], [1.0, \"#f0f921\"]], \"sequentialminus\": [[0.0, \"#0d0887\"], [0.1111111111111111, \"#46039f\"], [0.2222222222222222, \"#7201a8\"], [0.3333333333333333, \"#9c179e\"], [0.4444444444444444, \"#bd3786\"], [0.5555555555555556, \"#d8576b\"], [0.6666666666666666, \"#ed7953\"], [0.7777777777777778, \"#fb9f3a\"], [0.8888888888888888, \"#fdca26\"], [1.0, \"#f0f921\"]]}, \"colorway\": [\"#636efa\", \"#EF553B\", \"#00cc96\", \"#ab63fa\", \"#FFA15A\", \"#19d3f3\", \"#FF6692\", \"#B6E880\", \"#FF97FF\", \"#FECB52\"], \"font\": {\"color\": \"#2a3f5f\"}, \"geo\": {\"bgcolor\": \"white\", \"lakecolor\": \"white\", \"landcolor\": \"#E5ECF6\", \"showlakes\": true, \"showland\": true, \"subunitcolor\": \"white\"}, \"hoverlabel\": {\"align\": \"left\"}, \"hovermode\": \"closest\", \"mapbox\": {\"style\": \"light\"}, \"paper_bgcolor\": \"white\", \"plot_bgcolor\": \"#E5ECF6\", \"polar\": {\"angularaxis\": {\"gridcolor\": \"white\", \"linecolor\": \"white\", \"ticks\": \"\"}, \"bgcolor\": \"#E5ECF6\", \"radialaxis\": {\"gridcolor\": \"white\", \"linecolor\": \"white\", \"ticks\": \"\"}}, \"scene\": {\"xaxis\": {\"backgroundcolor\": \"#E5ECF6\", \"gridcolor\": \"white\", \"gridwidth\": 2, \"linecolor\": \"white\", \"showbackground\": true, \"ticks\": \"\", \"zerolinecolor\": \"white\"}, \"yaxis\": {\"backgroundcolor\": \"#E5ECF6\", \"gridcolor\": \"white\", \"gridwidth\": 2, \"linecolor\": \"white\", \"showbackground\": true, \"ticks\": \"\", \"zerolinecolor\": \"white\"}, \"zaxis\": {\"backgroundcolor\": \"#E5ECF6\", \"gridcolor\": \"white\", \"gridwidth\": 2, \"linecolor\": \"white\", \"showbackground\": true, \"ticks\": \"\", \"zerolinecolor\": \"white\"}}, \"shapedefaults\": {\"line\": {\"color\": \"#2a3f5f\"}}, \"ternary\": {\"aaxis\": {\"gridcolor\": \"white\", \"linecolor\": \"white\", \"ticks\": \"\"}, \"baxis\": {\"gridcolor\": \"white\", \"linecolor\": \"white\", \"ticks\": \"\"}, \"bgcolor\": \"#E5ECF6\", \"caxis\": {\"gridcolor\": \"white\", \"linecolor\": \"white\", \"ticks\": \"\"}}, \"title\": {\"x\": 0.05}, \"xaxis\": {\"automargin\": true, \"gridcolor\": \"white\", \"linecolor\": \"white\", \"ticks\": \"\", \"title\": {\"standoff\": 15}, \"zerolinecolor\": \"white\", \"zerolinewidth\": 2}, \"yaxis\": {\"automargin\": true, \"gridcolor\": \"white\", \"linecolor\": \"white\", \"ticks\": \"\", \"title\": {\"standoff\": 15}, \"zerolinecolor\": \"white\", \"zerolinewidth\": 2}}}, \"title\": {\"text\": \"DadosAnalise: Tipo de Lan\\u00e7amento x Percentual Crescimento\"}, \"xaxis\": {\"anchor\": \"y\", \"domain\": [0.0, 1.0], \"title\": {\"text\": \"Rompimento7Dias\"}}, \"yaxis\": {\"anchor\": \"x\", \"domain\": [0.0, 1.0], \"title\": {\"text\": \"Rompimento28Dias\"}}},                        {\"responsive\": true}                    ).then(function(){\n",
       "                            \n",
       "var gd = document.getElementById('051d6c2b-0d80-4adb-aa39-593c6e65acae');\n",
       "var x = new MutationObserver(function (mutations, observer) {{\n",
       "        var display = window.getComputedStyle(gd).display;\n",
       "        if (!display || display === 'none') {{\n",
       "            console.log([gd, 'removed!']);\n",
       "            Plotly.purge(gd);\n",
       "            observer.disconnect();\n",
       "        }}\n",
       "}});\n",
       "\n",
       "// Listen for the removal of the full notebook cells\n",
       "var notebookContainer = gd.closest('#notebook-container');\n",
       "if (notebookContainer) {{\n",
       "    x.observe(notebookContainer, {childList: true});\n",
       "}}\n",
       "\n",
       "// Listen for the clearing of the current output cell\n",
       "var outputEl = gd.closest('.output');\n",
       "if (outputEl) {{\n",
       "    x.observe(outputEl, {childList: true});\n",
       "}}\n",
       "\n",
       "                        })                };                });            </script>        </div>"
      ]
     },
     "metadata": {},
     "output_type": "display_data"
    }
   ],
   "source": [
    "fig = px.scatter(da_fck_esp, x=\"Rompimento7Dias\", y=\"Rompimento28Dias\", title='DadosAnalise: Tipo de Lançamento x Percentual Crescimento')\n",
    "fig.show()"
   ]
  },
  {
   "cell_type": "code",
   "execution_count": null,
   "metadata": {},
   "outputs": [],
   "source": []
  },
  {
   "cell_type": "code",
   "execution_count": null,
   "metadata": {},
   "outputs": [],
   "source": []
  },
  {
   "cell_type": "code",
   "execution_count": 83,
   "metadata": {},
   "outputs": [
    {
     "name": "stdout",
     "output_type": "stream",
     "text": [
      "0.1576045302339427\n",
      "0.18300423063570884\n",
      "0.029301810820659233\n",
      "0.1890707102925553\n",
      "0.013846160671245325\n",
      "0.18727360175934202\n",
      "0.025290487210198144\n",
      "0.17519269679834382\n",
      "0.1240116122711156\n",
      "0.5599889168759845\n",
      "0.045377668208590655\n",
      "0.40862959945237354\n",
      "0.1788381733927478\n",
      "0.120676821726642\n",
      "0.1414985474150618\n",
      "0.18149173667015217\n",
      "0.031729158461039776\n",
      "0.1069442021356405\n",
      "0.020852011383686406\n",
      "0.36467859910551953\n",
      "44713    41.267480\n",
      "44298    39.943020\n",
      "44297    36.356038\n",
      "44296    36.243967\n",
      "44712    31.153131\n",
      "44295    34.022365\n",
      "44293    44.846218\n",
      "44292    43.107877\n",
      "44291    36.139722\n",
      "44294    35.642415\n",
      "Name: PercentualCrescimentoReal, dtype: float64\n",
      "[48.81960333 47.49507509 43.16456471 42.59364491 48.59853879 47.9249108\n",
      " 50.25811682 50.93160012 40.00465612 48.64044078]\n",
      "44713    34.763538\n",
      "44298    38.772617\n",
      "44297    36.859430\n",
      "44296    37.160594\n",
      "44712    35.016481\n",
      "44295    35.566221\n",
      "44293    36.826002\n",
      "44292    37.008175\n",
      "44291    37.286405\n",
      "44294    36.385631\n",
      "Name: PercentualCrescimentoProjetado, dtype: float64\n",
      "10.0\n"
     ]
    }
   ],
   "source": [
    "data_projecao_inicio = da.head(1)[\"DataProjecao\"].values[0]\n",
    "data_projecao_fim = da.tail(1)[\"DataProjecao\"].values[0]\n",
    "data_projecao = data_projecao_inicio + dt.timedelta(weeks=24)\n",
    "\n",
    "data_projecao_atual = dt.date(2019, 3, 29)\n",
    "\n",
    "datas_projecao = []\n",
    "percentuais = []\n",
    "quantidade_dados_analise = []\n",
    "quantidade_dados_teste = []\n",
    "\n",
    "dados_analise = ObtemDadosParaAnalise(data_projecao_atual)    \n",
    "dados_teste = ObtemDadosTeste(data_projecao_atual)\n",
    "\n",
    "if (len(dados_analise) < 10):\n",
    "    data_projecao_atual = data_projecao_atual + dt.timedelta(weeks=1)\n",
    "elif (len(dados_teste) == 0):\n",
    "    data_projecao_atual = data_projecao_atual + dt.timedelta(weeks=1)\n",
    "else:\n",
    "    quantidade_dados_analise.append(len(dados_analise))\n",
    "    quantidade_dados_teste.append(len(dados_teste))\n",
    "\n",
    "    x_train = dados_analise.drop(\"PercentualCrescimentoReal\", axis=1)\n",
    "    y_train = dados_analise[\"PercentualCrescimentoReal\"]\n",
    "\n",
    "    x_test = dados_teste.drop(\"PercentualCrescimentoReal\", axis=1)\n",
    "    y_test = dados_teste[\"PercentualCrescimentoReal\"]\n",
    "\n",
    "    modelo.fit(x_train, y_train)\n",
    "    y_pred = modelo.predict(x_test)        \n",
    "    y_proj = dados_teste[\"PercentualCrescimentoProjetado\"]\n",
    "\n",
    "    resultado_final = []\n",
    "    j = 0\n",
    "\n",
    "    for i in y_test.index:\n",
    "        diff_real_proj = abs((y_test[i] - y_proj[i])/y_test[i])\n",
    "        diff_real_pred = abs((y_test[i] - y_pred[j])/y_test[i])\n",
    "\n",
    "        print(diff_real_proj)\n",
    "        print(diff_real_pred)\n",
    "        \n",
    "        if (diff_real_proj <= diff_real_pred):\n",
    "            resultado_final.append('ModeloAntigo')\n",
    "        else:\n",
    "            resultado_final.append('ModeloNovo')\n",
    "\n",
    "        j = j + 1\n",
    "\n",
    "    perc_acerto = resultado_final.count('ModeloNovo') / (resultado_final.count('ModeloNovo') + resultado_final.count('ModeloAntigo'))        \n",
    "\n",
    "    #datas_projecao.append(data_projecao_atual)\n",
    "    \n",
    "    print(y_test)\n",
    "    print(y_pred)\n",
    "    print(y_proj)\n",
    "    \n",
    "    print(perc_acerto * 100)\n",
    "\n",
    "    data_projecao_atual = data_projecao_atual + dt.timedelta(weeks=1)\n"
   ]
  },
  {
   "cell_type": "code",
   "execution_count": null,
   "metadata": {},
   "outputs": [],
   "source": []
  },
  {
   "cell_type": "code",
   "execution_count": 170,
   "metadata": {},
   "outputs": [
    {
     "data": {
      "application/vnd.plotly.v1+json": {
       "config": {
        "plotlyServerURL": "https://plot.ly"
       },
       "data": [
        {
         "alignmentgroup": "True",
         "hovertemplate": "TipoLancamento=%{x}<br>PercentualCrescimentoReal=%{y}<extra></extra>",
         "legendgroup": "",
         "marker": {
          "color": "#636efa"
         },
         "name": "",
         "notched": false,
         "offsetgroup": "",
         "orientation": "v",
         "showlegend": false,
         "type": "box",
         "x": [
          "B",
          "C",
          "B",
          "B",
          "B",
          "C",
          "B",
          "B",
          "B",
          "B",
          "B",
          "B",
          "B",
          "B",
          "B",
          "B",
          "B",
          "B",
          "B",
          "B",
          "B",
          "C"
         ],
         "x0": " ",
         "xaxis": "x",
         "y": [
          31.112661318451337,
          23.393167342211928,
          30.83795440542205,
          36.67290886392009,
          30.66709844559585,
          30.765550239234443,
          34.91561181434597,
          35.48845470692719,
          45.56234279554439,
          21.57159047978845,
          32.57547521431234,
          33.94199785177228,
          43.341645885286766,
          54.66732869910624,
          33.216986620127955,
          34.82028241335045,
          39.157674904281244,
          44.48685326547923,
          35.66481994459833,
          31.753718436527173,
          29.360852197070564,
          21.210305572198923
         ],
         "y0": " ",
         "yaxis": "y"
        }
       ],
       "layout": {
        "boxmode": "group",
        "legend": {
         "tracegroupgap": 0
        },
        "template": {
         "data": {
          "bar": [
           {
            "error_x": {
             "color": "#2a3f5f"
            },
            "error_y": {
             "color": "#2a3f5f"
            },
            "marker": {
             "line": {
              "color": "#E5ECF6",
              "width": 0.5
             }
            },
            "type": "bar"
           }
          ],
          "barpolar": [
           {
            "marker": {
             "line": {
              "color": "#E5ECF6",
              "width": 0.5
             }
            },
            "type": "barpolar"
           }
          ],
          "carpet": [
           {
            "aaxis": {
             "endlinecolor": "#2a3f5f",
             "gridcolor": "white",
             "linecolor": "white",
             "minorgridcolor": "white",
             "startlinecolor": "#2a3f5f"
            },
            "baxis": {
             "endlinecolor": "#2a3f5f",
             "gridcolor": "white",
             "linecolor": "white",
             "minorgridcolor": "white",
             "startlinecolor": "#2a3f5f"
            },
            "type": "carpet"
           }
          ],
          "choropleth": [
           {
            "colorbar": {
             "outlinewidth": 0,
             "ticks": ""
            },
            "type": "choropleth"
           }
          ],
          "contour": [
           {
            "colorbar": {
             "outlinewidth": 0,
             "ticks": ""
            },
            "colorscale": [
             [
              0,
              "#0d0887"
             ],
             [
              0.1111111111111111,
              "#46039f"
             ],
             [
              0.2222222222222222,
              "#7201a8"
             ],
             [
              0.3333333333333333,
              "#9c179e"
             ],
             [
              0.4444444444444444,
              "#bd3786"
             ],
             [
              0.5555555555555556,
              "#d8576b"
             ],
             [
              0.6666666666666666,
              "#ed7953"
             ],
             [
              0.7777777777777778,
              "#fb9f3a"
             ],
             [
              0.8888888888888888,
              "#fdca26"
             ],
             [
              1,
              "#f0f921"
             ]
            ],
            "type": "contour"
           }
          ],
          "contourcarpet": [
           {
            "colorbar": {
             "outlinewidth": 0,
             "ticks": ""
            },
            "type": "contourcarpet"
           }
          ],
          "heatmap": [
           {
            "colorbar": {
             "outlinewidth": 0,
             "ticks": ""
            },
            "colorscale": [
             [
              0,
              "#0d0887"
             ],
             [
              0.1111111111111111,
              "#46039f"
             ],
             [
              0.2222222222222222,
              "#7201a8"
             ],
             [
              0.3333333333333333,
              "#9c179e"
             ],
             [
              0.4444444444444444,
              "#bd3786"
             ],
             [
              0.5555555555555556,
              "#d8576b"
             ],
             [
              0.6666666666666666,
              "#ed7953"
             ],
             [
              0.7777777777777778,
              "#fb9f3a"
             ],
             [
              0.8888888888888888,
              "#fdca26"
             ],
             [
              1,
              "#f0f921"
             ]
            ],
            "type": "heatmap"
           }
          ],
          "heatmapgl": [
           {
            "colorbar": {
             "outlinewidth": 0,
             "ticks": ""
            },
            "colorscale": [
             [
              0,
              "#0d0887"
             ],
             [
              0.1111111111111111,
              "#46039f"
             ],
             [
              0.2222222222222222,
              "#7201a8"
             ],
             [
              0.3333333333333333,
              "#9c179e"
             ],
             [
              0.4444444444444444,
              "#bd3786"
             ],
             [
              0.5555555555555556,
              "#d8576b"
             ],
             [
              0.6666666666666666,
              "#ed7953"
             ],
             [
              0.7777777777777778,
              "#fb9f3a"
             ],
             [
              0.8888888888888888,
              "#fdca26"
             ],
             [
              1,
              "#f0f921"
             ]
            ],
            "type": "heatmapgl"
           }
          ],
          "histogram": [
           {
            "marker": {
             "colorbar": {
              "outlinewidth": 0,
              "ticks": ""
             }
            },
            "type": "histogram"
           }
          ],
          "histogram2d": [
           {
            "colorbar": {
             "outlinewidth": 0,
             "ticks": ""
            },
            "colorscale": [
             [
              0,
              "#0d0887"
             ],
             [
              0.1111111111111111,
              "#46039f"
             ],
             [
              0.2222222222222222,
              "#7201a8"
             ],
             [
              0.3333333333333333,
              "#9c179e"
             ],
             [
              0.4444444444444444,
              "#bd3786"
             ],
             [
              0.5555555555555556,
              "#d8576b"
             ],
             [
              0.6666666666666666,
              "#ed7953"
             ],
             [
              0.7777777777777778,
              "#fb9f3a"
             ],
             [
              0.8888888888888888,
              "#fdca26"
             ],
             [
              1,
              "#f0f921"
             ]
            ],
            "type": "histogram2d"
           }
          ],
          "histogram2dcontour": [
           {
            "colorbar": {
             "outlinewidth": 0,
             "ticks": ""
            },
            "colorscale": [
             [
              0,
              "#0d0887"
             ],
             [
              0.1111111111111111,
              "#46039f"
             ],
             [
              0.2222222222222222,
              "#7201a8"
             ],
             [
              0.3333333333333333,
              "#9c179e"
             ],
             [
              0.4444444444444444,
              "#bd3786"
             ],
             [
              0.5555555555555556,
              "#d8576b"
             ],
             [
              0.6666666666666666,
              "#ed7953"
             ],
             [
              0.7777777777777778,
              "#fb9f3a"
             ],
             [
              0.8888888888888888,
              "#fdca26"
             ],
             [
              1,
              "#f0f921"
             ]
            ],
            "type": "histogram2dcontour"
           }
          ],
          "mesh3d": [
           {
            "colorbar": {
             "outlinewidth": 0,
             "ticks": ""
            },
            "type": "mesh3d"
           }
          ],
          "parcoords": [
           {
            "line": {
             "colorbar": {
              "outlinewidth": 0,
              "ticks": ""
             }
            },
            "type": "parcoords"
           }
          ],
          "pie": [
           {
            "automargin": true,
            "type": "pie"
           }
          ],
          "scatter": [
           {
            "marker": {
             "colorbar": {
              "outlinewidth": 0,
              "ticks": ""
             }
            },
            "type": "scatter"
           }
          ],
          "scatter3d": [
           {
            "line": {
             "colorbar": {
              "outlinewidth": 0,
              "ticks": ""
             }
            },
            "marker": {
             "colorbar": {
              "outlinewidth": 0,
              "ticks": ""
             }
            },
            "type": "scatter3d"
           }
          ],
          "scattercarpet": [
           {
            "marker": {
             "colorbar": {
              "outlinewidth": 0,
              "ticks": ""
             }
            },
            "type": "scattercarpet"
           }
          ],
          "scattergeo": [
           {
            "marker": {
             "colorbar": {
              "outlinewidth": 0,
              "ticks": ""
             }
            },
            "type": "scattergeo"
           }
          ],
          "scattergl": [
           {
            "marker": {
             "colorbar": {
              "outlinewidth": 0,
              "ticks": ""
             }
            },
            "type": "scattergl"
           }
          ],
          "scattermapbox": [
           {
            "marker": {
             "colorbar": {
              "outlinewidth": 0,
              "ticks": ""
             }
            },
            "type": "scattermapbox"
           }
          ],
          "scatterpolar": [
           {
            "marker": {
             "colorbar": {
              "outlinewidth": 0,
              "ticks": ""
             }
            },
            "type": "scatterpolar"
           }
          ],
          "scatterpolargl": [
           {
            "marker": {
             "colorbar": {
              "outlinewidth": 0,
              "ticks": ""
             }
            },
            "type": "scatterpolargl"
           }
          ],
          "scatterternary": [
           {
            "marker": {
             "colorbar": {
              "outlinewidth": 0,
              "ticks": ""
             }
            },
            "type": "scatterternary"
           }
          ],
          "surface": [
           {
            "colorbar": {
             "outlinewidth": 0,
             "ticks": ""
            },
            "colorscale": [
             [
              0,
              "#0d0887"
             ],
             [
              0.1111111111111111,
              "#46039f"
             ],
             [
              0.2222222222222222,
              "#7201a8"
             ],
             [
              0.3333333333333333,
              "#9c179e"
             ],
             [
              0.4444444444444444,
              "#bd3786"
             ],
             [
              0.5555555555555556,
              "#d8576b"
             ],
             [
              0.6666666666666666,
              "#ed7953"
             ],
             [
              0.7777777777777778,
              "#fb9f3a"
             ],
             [
              0.8888888888888888,
              "#fdca26"
             ],
             [
              1,
              "#f0f921"
             ]
            ],
            "type": "surface"
           }
          ],
          "table": [
           {
            "cells": {
             "fill": {
              "color": "#EBF0F8"
             },
             "line": {
              "color": "white"
             }
            },
            "header": {
             "fill": {
              "color": "#C8D4E3"
             },
             "line": {
              "color": "white"
             }
            },
            "type": "table"
           }
          ]
         },
         "layout": {
          "annotationdefaults": {
           "arrowcolor": "#2a3f5f",
           "arrowhead": 0,
           "arrowwidth": 1
          },
          "autotypenumbers": "strict",
          "coloraxis": {
           "colorbar": {
            "outlinewidth": 0,
            "ticks": ""
           }
          },
          "colorscale": {
           "diverging": [
            [
             0,
             "#8e0152"
            ],
            [
             0.1,
             "#c51b7d"
            ],
            [
             0.2,
             "#de77ae"
            ],
            [
             0.3,
             "#f1b6da"
            ],
            [
             0.4,
             "#fde0ef"
            ],
            [
             0.5,
             "#f7f7f7"
            ],
            [
             0.6,
             "#e6f5d0"
            ],
            [
             0.7,
             "#b8e186"
            ],
            [
             0.8,
             "#7fbc41"
            ],
            [
             0.9,
             "#4d9221"
            ],
            [
             1,
             "#276419"
            ]
           ],
           "sequential": [
            [
             0,
             "#0d0887"
            ],
            [
             0.1111111111111111,
             "#46039f"
            ],
            [
             0.2222222222222222,
             "#7201a8"
            ],
            [
             0.3333333333333333,
             "#9c179e"
            ],
            [
             0.4444444444444444,
             "#bd3786"
            ],
            [
             0.5555555555555556,
             "#d8576b"
            ],
            [
             0.6666666666666666,
             "#ed7953"
            ],
            [
             0.7777777777777778,
             "#fb9f3a"
            ],
            [
             0.8888888888888888,
             "#fdca26"
            ],
            [
             1,
             "#f0f921"
            ]
           ],
           "sequentialminus": [
            [
             0,
             "#0d0887"
            ],
            [
             0.1111111111111111,
             "#46039f"
            ],
            [
             0.2222222222222222,
             "#7201a8"
            ],
            [
             0.3333333333333333,
             "#9c179e"
            ],
            [
             0.4444444444444444,
             "#bd3786"
            ],
            [
             0.5555555555555556,
             "#d8576b"
            ],
            [
             0.6666666666666666,
             "#ed7953"
            ],
            [
             0.7777777777777778,
             "#fb9f3a"
            ],
            [
             0.8888888888888888,
             "#fdca26"
            ],
            [
             1,
             "#f0f921"
            ]
           ]
          },
          "colorway": [
           "#636efa",
           "#EF553B",
           "#00cc96",
           "#ab63fa",
           "#FFA15A",
           "#19d3f3",
           "#FF6692",
           "#B6E880",
           "#FF97FF",
           "#FECB52"
          ],
          "font": {
           "color": "#2a3f5f"
          },
          "geo": {
           "bgcolor": "white",
           "lakecolor": "white",
           "landcolor": "#E5ECF6",
           "showlakes": true,
           "showland": true,
           "subunitcolor": "white"
          },
          "hoverlabel": {
           "align": "left"
          },
          "hovermode": "closest",
          "mapbox": {
           "style": "light"
          },
          "paper_bgcolor": "white",
          "plot_bgcolor": "#E5ECF6",
          "polar": {
           "angularaxis": {
            "gridcolor": "white",
            "linecolor": "white",
            "ticks": ""
           },
           "bgcolor": "#E5ECF6",
           "radialaxis": {
            "gridcolor": "white",
            "linecolor": "white",
            "ticks": ""
           }
          },
          "scene": {
           "xaxis": {
            "backgroundcolor": "#E5ECF6",
            "gridcolor": "white",
            "gridwidth": 2,
            "linecolor": "white",
            "showbackground": true,
            "ticks": "",
            "zerolinecolor": "white"
           },
           "yaxis": {
            "backgroundcolor": "#E5ECF6",
            "gridcolor": "white",
            "gridwidth": 2,
            "linecolor": "white",
            "showbackground": true,
            "ticks": "",
            "zerolinecolor": "white"
           },
           "zaxis": {
            "backgroundcolor": "#E5ECF6",
            "gridcolor": "white",
            "gridwidth": 2,
            "linecolor": "white",
            "showbackground": true,
            "ticks": "",
            "zerolinecolor": "white"
           }
          },
          "shapedefaults": {
           "line": {
            "color": "#2a3f5f"
           }
          },
          "ternary": {
           "aaxis": {
            "gridcolor": "white",
            "linecolor": "white",
            "ticks": ""
           },
           "baxis": {
            "gridcolor": "white",
            "linecolor": "white",
            "ticks": ""
           },
           "bgcolor": "#E5ECF6",
           "caxis": {
            "gridcolor": "white",
            "linecolor": "white",
            "ticks": ""
           }
          },
          "title": {
           "x": 0.05
          },
          "xaxis": {
           "automargin": true,
           "gridcolor": "white",
           "linecolor": "white",
           "ticks": "",
           "title": {
            "standoff": 15
           },
           "zerolinecolor": "white",
           "zerolinewidth": 2
          },
          "yaxis": {
           "automargin": true,
           "gridcolor": "white",
           "linecolor": "white",
           "ticks": "",
           "title": {
            "standoff": 15
           },
           "zerolinecolor": "white",
           "zerolinewidth": 2
          }
         }
        },
        "title": {
         "text": "Tipo de Traço x Percentual Crescimento"
        },
        "xaxis": {
         "anchor": "y",
         "domain": [
          0,
          1
         ],
         "title": {
          "text": "TipoLancamento"
         }
        },
        "yaxis": {
         "anchor": "x",
         "domain": [
          0,
          1
         ],
         "title": {
          "text": "PercentualCrescimentoReal"
         }
        }
       }
      },
      "text/html": [
       "<div>                            <div id=\"9596356c-618b-49ef-8f79-986344b2b784\" class=\"plotly-graph-div\" style=\"height:525px; width:100%;\"></div>            <script type=\"text/javascript\">                require([\"plotly\"], function(Plotly) {                    window.PLOTLYENV=window.PLOTLYENV || {};                                    if (document.getElementById(\"9596356c-618b-49ef-8f79-986344b2b784\")) {                    Plotly.newPlot(                        \"9596356c-618b-49ef-8f79-986344b2b784\",                        [{\"alignmentgroup\": \"True\", \"hovertemplate\": \"TipoLancamento=%{x}<br>PercentualCrescimentoReal=%{y}<extra></extra>\", \"legendgroup\": \"\", \"marker\": {\"color\": \"#636efa\"}, \"name\": \"\", \"notched\": false, \"offsetgroup\": \"\", \"orientation\": \"v\", \"showlegend\": false, \"type\": \"box\", \"x\": [\"B\", \"C\", \"B\", \"B\", \"B\", \"C\", \"B\", \"B\", \"B\", \"B\", \"B\", \"B\", \"B\", \"B\", \"B\", \"B\", \"B\", \"B\", \"B\", \"B\", \"B\", \"C\"], \"x0\": \" \", \"xaxis\": \"x\", \"y\": [31.112661318451337, 23.393167342211928, 30.83795440542205, 36.67290886392009, 30.66709844559585, 30.765550239234443, 34.91561181434597, 35.48845470692719, 45.56234279554439, 21.57159047978845, 32.57547521431234, 33.94199785177228, 43.341645885286766, 54.66732869910624, 33.216986620127955, 34.82028241335045, 39.157674904281244, 44.48685326547923, 35.66481994459833, 31.753718436527173, 29.360852197070564, 21.210305572198923], \"y0\": \" \", \"yaxis\": \"y\"}],                        {\"boxmode\": \"group\", \"legend\": {\"tracegroupgap\": 0}, \"template\": {\"data\": {\"bar\": [{\"error_x\": {\"color\": \"#2a3f5f\"}, \"error_y\": {\"color\": \"#2a3f5f\"}, \"marker\": {\"line\": {\"color\": \"#E5ECF6\", \"width\": 0.5}}, \"type\": \"bar\"}], \"barpolar\": [{\"marker\": {\"line\": {\"color\": \"#E5ECF6\", \"width\": 0.5}}, \"type\": \"barpolar\"}], \"carpet\": [{\"aaxis\": {\"endlinecolor\": \"#2a3f5f\", \"gridcolor\": \"white\", \"linecolor\": \"white\", \"minorgridcolor\": \"white\", \"startlinecolor\": \"#2a3f5f\"}, \"baxis\": {\"endlinecolor\": \"#2a3f5f\", \"gridcolor\": \"white\", \"linecolor\": \"white\", \"minorgridcolor\": \"white\", \"startlinecolor\": \"#2a3f5f\"}, \"type\": \"carpet\"}], \"choropleth\": [{\"colorbar\": {\"outlinewidth\": 0, \"ticks\": \"\"}, \"type\": \"choropleth\"}], \"contour\": [{\"colorbar\": {\"outlinewidth\": 0, \"ticks\": \"\"}, \"colorscale\": [[0.0, \"#0d0887\"], [0.1111111111111111, \"#46039f\"], [0.2222222222222222, \"#7201a8\"], [0.3333333333333333, \"#9c179e\"], [0.4444444444444444, \"#bd3786\"], [0.5555555555555556, \"#d8576b\"], [0.6666666666666666, \"#ed7953\"], [0.7777777777777778, \"#fb9f3a\"], [0.8888888888888888, \"#fdca26\"], [1.0, \"#f0f921\"]], \"type\": \"contour\"}], \"contourcarpet\": [{\"colorbar\": {\"outlinewidth\": 0, \"ticks\": \"\"}, \"type\": \"contourcarpet\"}], \"heatmap\": [{\"colorbar\": {\"outlinewidth\": 0, \"ticks\": \"\"}, \"colorscale\": [[0.0, \"#0d0887\"], [0.1111111111111111, \"#46039f\"], [0.2222222222222222, \"#7201a8\"], [0.3333333333333333, \"#9c179e\"], [0.4444444444444444, \"#bd3786\"], [0.5555555555555556, \"#d8576b\"], [0.6666666666666666, \"#ed7953\"], [0.7777777777777778, \"#fb9f3a\"], [0.8888888888888888, \"#fdca26\"], [1.0, \"#f0f921\"]], \"type\": \"heatmap\"}], \"heatmapgl\": [{\"colorbar\": {\"outlinewidth\": 0, \"ticks\": \"\"}, \"colorscale\": [[0.0, \"#0d0887\"], [0.1111111111111111, \"#46039f\"], [0.2222222222222222, \"#7201a8\"], [0.3333333333333333, \"#9c179e\"], [0.4444444444444444, \"#bd3786\"], [0.5555555555555556, \"#d8576b\"], [0.6666666666666666, \"#ed7953\"], [0.7777777777777778, \"#fb9f3a\"], [0.8888888888888888, \"#fdca26\"], [1.0, \"#f0f921\"]], \"type\": \"heatmapgl\"}], \"histogram\": [{\"marker\": {\"colorbar\": {\"outlinewidth\": 0, \"ticks\": \"\"}}, \"type\": \"histogram\"}], \"histogram2d\": [{\"colorbar\": {\"outlinewidth\": 0, \"ticks\": \"\"}, \"colorscale\": [[0.0, \"#0d0887\"], [0.1111111111111111, \"#46039f\"], [0.2222222222222222, \"#7201a8\"], [0.3333333333333333, \"#9c179e\"], [0.4444444444444444, \"#bd3786\"], [0.5555555555555556, \"#d8576b\"], [0.6666666666666666, \"#ed7953\"], [0.7777777777777778, \"#fb9f3a\"], [0.8888888888888888, \"#fdca26\"], [1.0, \"#f0f921\"]], \"type\": \"histogram2d\"}], \"histogram2dcontour\": [{\"colorbar\": {\"outlinewidth\": 0, \"ticks\": \"\"}, \"colorscale\": [[0.0, \"#0d0887\"], [0.1111111111111111, \"#46039f\"], [0.2222222222222222, \"#7201a8\"], [0.3333333333333333, \"#9c179e\"], [0.4444444444444444, \"#bd3786\"], [0.5555555555555556, \"#d8576b\"], [0.6666666666666666, \"#ed7953\"], [0.7777777777777778, \"#fb9f3a\"], [0.8888888888888888, \"#fdca26\"], [1.0, \"#f0f921\"]], \"type\": \"histogram2dcontour\"}], \"mesh3d\": [{\"colorbar\": {\"outlinewidth\": 0, \"ticks\": \"\"}, \"type\": \"mesh3d\"}], \"parcoords\": [{\"line\": {\"colorbar\": {\"outlinewidth\": 0, \"ticks\": \"\"}}, \"type\": \"parcoords\"}], \"pie\": [{\"automargin\": true, \"type\": \"pie\"}], \"scatter\": [{\"marker\": {\"colorbar\": {\"outlinewidth\": 0, \"ticks\": \"\"}}, \"type\": \"scatter\"}], \"scatter3d\": [{\"line\": {\"colorbar\": {\"outlinewidth\": 0, \"ticks\": \"\"}}, \"marker\": {\"colorbar\": {\"outlinewidth\": 0, \"ticks\": \"\"}}, \"type\": \"scatter3d\"}], \"scattercarpet\": [{\"marker\": {\"colorbar\": {\"outlinewidth\": 0, \"ticks\": \"\"}}, \"type\": \"scattercarpet\"}], \"scattergeo\": [{\"marker\": {\"colorbar\": {\"outlinewidth\": 0, \"ticks\": \"\"}}, \"type\": \"scattergeo\"}], \"scattergl\": [{\"marker\": {\"colorbar\": {\"outlinewidth\": 0, \"ticks\": \"\"}}, \"type\": \"scattergl\"}], \"scattermapbox\": [{\"marker\": {\"colorbar\": {\"outlinewidth\": 0, \"ticks\": \"\"}}, \"type\": \"scattermapbox\"}], \"scatterpolar\": [{\"marker\": {\"colorbar\": {\"outlinewidth\": 0, \"ticks\": \"\"}}, \"type\": \"scatterpolar\"}], \"scatterpolargl\": [{\"marker\": {\"colorbar\": {\"outlinewidth\": 0, \"ticks\": \"\"}}, \"type\": \"scatterpolargl\"}], \"scatterternary\": [{\"marker\": {\"colorbar\": {\"outlinewidth\": 0, \"ticks\": \"\"}}, \"type\": \"scatterternary\"}], \"surface\": [{\"colorbar\": {\"outlinewidth\": 0, \"ticks\": \"\"}, \"colorscale\": [[0.0, \"#0d0887\"], [0.1111111111111111, \"#46039f\"], [0.2222222222222222, \"#7201a8\"], [0.3333333333333333, \"#9c179e\"], [0.4444444444444444, \"#bd3786\"], [0.5555555555555556, \"#d8576b\"], [0.6666666666666666, \"#ed7953\"], [0.7777777777777778, \"#fb9f3a\"], [0.8888888888888888, \"#fdca26\"], [1.0, \"#f0f921\"]], \"type\": \"surface\"}], \"table\": [{\"cells\": {\"fill\": {\"color\": \"#EBF0F8\"}, \"line\": {\"color\": \"white\"}}, \"header\": {\"fill\": {\"color\": \"#C8D4E3\"}, \"line\": {\"color\": \"white\"}}, \"type\": \"table\"}]}, \"layout\": {\"annotationdefaults\": {\"arrowcolor\": \"#2a3f5f\", \"arrowhead\": 0, \"arrowwidth\": 1}, \"autotypenumbers\": \"strict\", \"coloraxis\": {\"colorbar\": {\"outlinewidth\": 0, \"ticks\": \"\"}}, \"colorscale\": {\"diverging\": [[0, \"#8e0152\"], [0.1, \"#c51b7d\"], [0.2, \"#de77ae\"], [0.3, \"#f1b6da\"], [0.4, \"#fde0ef\"], [0.5, \"#f7f7f7\"], [0.6, \"#e6f5d0\"], [0.7, \"#b8e186\"], [0.8, \"#7fbc41\"], [0.9, \"#4d9221\"], [1, \"#276419\"]], \"sequential\": [[0.0, \"#0d0887\"], [0.1111111111111111, \"#46039f\"], [0.2222222222222222, \"#7201a8\"], [0.3333333333333333, \"#9c179e\"], [0.4444444444444444, \"#bd3786\"], [0.5555555555555556, \"#d8576b\"], [0.6666666666666666, \"#ed7953\"], [0.7777777777777778, \"#fb9f3a\"], [0.8888888888888888, \"#fdca26\"], [1.0, \"#f0f921\"]], \"sequentialminus\": [[0.0, \"#0d0887\"], [0.1111111111111111, \"#46039f\"], [0.2222222222222222, \"#7201a8\"], [0.3333333333333333, \"#9c179e\"], [0.4444444444444444, \"#bd3786\"], [0.5555555555555556, \"#d8576b\"], [0.6666666666666666, \"#ed7953\"], [0.7777777777777778, \"#fb9f3a\"], [0.8888888888888888, \"#fdca26\"], [1.0, \"#f0f921\"]]}, \"colorway\": [\"#636efa\", \"#EF553B\", \"#00cc96\", \"#ab63fa\", \"#FFA15A\", \"#19d3f3\", \"#FF6692\", \"#B6E880\", \"#FF97FF\", \"#FECB52\"], \"font\": {\"color\": \"#2a3f5f\"}, \"geo\": {\"bgcolor\": \"white\", \"lakecolor\": \"white\", \"landcolor\": \"#E5ECF6\", \"showlakes\": true, \"showland\": true, \"subunitcolor\": \"white\"}, \"hoverlabel\": {\"align\": \"left\"}, \"hovermode\": \"closest\", \"mapbox\": {\"style\": \"light\"}, \"paper_bgcolor\": \"white\", \"plot_bgcolor\": \"#E5ECF6\", \"polar\": {\"angularaxis\": {\"gridcolor\": \"white\", \"linecolor\": \"white\", \"ticks\": \"\"}, \"bgcolor\": \"#E5ECF6\", \"radialaxis\": {\"gridcolor\": \"white\", \"linecolor\": \"white\", \"ticks\": \"\"}}, \"scene\": {\"xaxis\": {\"backgroundcolor\": \"#E5ECF6\", \"gridcolor\": \"white\", \"gridwidth\": 2, \"linecolor\": \"white\", \"showbackground\": true, \"ticks\": \"\", \"zerolinecolor\": \"white\"}, \"yaxis\": {\"backgroundcolor\": \"#E5ECF6\", \"gridcolor\": \"white\", \"gridwidth\": 2, \"linecolor\": \"white\", \"showbackground\": true, \"ticks\": \"\", \"zerolinecolor\": \"white\"}, \"zaxis\": {\"backgroundcolor\": \"#E5ECF6\", \"gridcolor\": \"white\", \"gridwidth\": 2, \"linecolor\": \"white\", \"showbackground\": true, \"ticks\": \"\", \"zerolinecolor\": \"white\"}}, \"shapedefaults\": {\"line\": {\"color\": \"#2a3f5f\"}}, \"ternary\": {\"aaxis\": {\"gridcolor\": \"white\", \"linecolor\": \"white\", \"ticks\": \"\"}, \"baxis\": {\"gridcolor\": \"white\", \"linecolor\": \"white\", \"ticks\": \"\"}, \"bgcolor\": \"#E5ECF6\", \"caxis\": {\"gridcolor\": \"white\", \"linecolor\": \"white\", \"ticks\": \"\"}}, \"title\": {\"x\": 0.05}, \"xaxis\": {\"automargin\": true, \"gridcolor\": \"white\", \"linecolor\": \"white\", \"ticks\": \"\", \"title\": {\"standoff\": 15}, \"zerolinecolor\": \"white\", \"zerolinewidth\": 2}, \"yaxis\": {\"automargin\": true, \"gridcolor\": \"white\", \"linecolor\": \"white\", \"ticks\": \"\", \"title\": {\"standoff\": 15}, \"zerolinecolor\": \"white\", \"zerolinewidth\": 2}}}, \"title\": {\"text\": \"Tipo de Tra\\u00e7o x Percentual Crescimento\"}, \"xaxis\": {\"anchor\": \"y\", \"domain\": [0.0, 1.0], \"title\": {\"text\": \"TipoLancamento\"}}, \"yaxis\": {\"anchor\": \"x\", \"domain\": [0.0, 1.0], \"title\": {\"text\": \"PercentualCrescimentoReal\"}}},                        {\"responsive\": true}                    ).then(function(){\n",
       "                            \n",
       "var gd = document.getElementById('9596356c-618b-49ef-8f79-986344b2b784');\n",
       "var x = new MutationObserver(function (mutations, observer) {{\n",
       "        var display = window.getComputedStyle(gd).display;\n",
       "        if (!display || display === 'none') {{\n",
       "            console.log([gd, 'removed!']);\n",
       "            Plotly.purge(gd);\n",
       "            observer.disconnect();\n",
       "        }}\n",
       "}});\n",
       "\n",
       "// Listen for the removal of the full notebook cells\n",
       "var notebookContainer = gd.closest('#notebook-container');\n",
       "if (notebookContainer) {{\n",
       "    x.observe(notebookContainer, {childList: true});\n",
       "}}\n",
       "\n",
       "// Listen for the clearing of the current output cell\n",
       "var outputEl = gd.closest('.output');\n",
       "if (outputEl) {{\n",
       "    x.observe(outputEl, {childList: true});\n",
       "}}\n",
       "\n",
       "                        })                };                });            </script>        </div>"
      ]
     },
     "metadata": {},
     "output_type": "display_data"
    }
   ],
   "source": [
    "fig = px.box(dados_da, x=\"TipoLancamento\", y=\"PercentualCrescimentoReal\", title='Tipo de Traço x Percentual Crescimento')\n",
    "fig.show()"
   ]
  },
  {
   "cell_type": "code",
   "execution_count": 131,
   "metadata": {},
   "outputs": [
    {
     "data": {
      "application/vnd.plotly.v1+json": {
       "config": {
        "plotlyServerURL": "https://plot.ly"
       },
       "data": [
        {
         "alignmentgroup": "True",
         "hovertemplate": "TipoTraco=%{x}<br>PercentualCrescimentoReal=%{y}<extra></extra>",
         "legendgroup": "",
         "marker": {
          "color": "#636efa"
         },
         "name": "",
         "notched": false,
         "offsetgroup": "",
         "orientation": "v",
         "showlegend": false,
         "type": "box",
         "x": [
          "N",
          "N",
          "N",
          "N",
          "E",
          "N",
          "N",
          "N",
          "E",
          "N",
          "N",
          "N",
          "E",
          "E",
          "E",
          "E",
          "N",
          "N",
          "E",
          "E",
          "E",
          "N"
         ],
         "x0": " ",
         "xaxis": "x",
         "y": [
          31.112661318451337,
          23.393167342211928,
          30.83795440542205,
          36.67290886392009,
          30.66709844559585,
          30.765550239234443,
          34.91561181434597,
          35.48845470692719,
          45.56234279554439,
          21.57159047978845,
          32.57547521431234,
          33.94199785177228,
          43.341645885286766,
          54.66732869910624,
          33.216986620127955,
          34.82028241335045,
          39.157674904281244,
          44.48685326547923,
          35.66481994459833,
          31.753718436527173,
          29.360852197070564,
          21.210305572198923
         ],
         "y0": " ",
         "yaxis": "y"
        }
       ],
       "layout": {
        "boxmode": "group",
        "legend": {
         "tracegroupgap": 0
        },
        "template": {
         "data": {
          "bar": [
           {
            "error_x": {
             "color": "#2a3f5f"
            },
            "error_y": {
             "color": "#2a3f5f"
            },
            "marker": {
             "line": {
              "color": "#E5ECF6",
              "width": 0.5
             }
            },
            "type": "bar"
           }
          ],
          "barpolar": [
           {
            "marker": {
             "line": {
              "color": "#E5ECF6",
              "width": 0.5
             }
            },
            "type": "barpolar"
           }
          ],
          "carpet": [
           {
            "aaxis": {
             "endlinecolor": "#2a3f5f",
             "gridcolor": "white",
             "linecolor": "white",
             "minorgridcolor": "white",
             "startlinecolor": "#2a3f5f"
            },
            "baxis": {
             "endlinecolor": "#2a3f5f",
             "gridcolor": "white",
             "linecolor": "white",
             "minorgridcolor": "white",
             "startlinecolor": "#2a3f5f"
            },
            "type": "carpet"
           }
          ],
          "choropleth": [
           {
            "colorbar": {
             "outlinewidth": 0,
             "ticks": ""
            },
            "type": "choropleth"
           }
          ],
          "contour": [
           {
            "colorbar": {
             "outlinewidth": 0,
             "ticks": ""
            },
            "colorscale": [
             [
              0,
              "#0d0887"
             ],
             [
              0.1111111111111111,
              "#46039f"
             ],
             [
              0.2222222222222222,
              "#7201a8"
             ],
             [
              0.3333333333333333,
              "#9c179e"
             ],
             [
              0.4444444444444444,
              "#bd3786"
             ],
             [
              0.5555555555555556,
              "#d8576b"
             ],
             [
              0.6666666666666666,
              "#ed7953"
             ],
             [
              0.7777777777777778,
              "#fb9f3a"
             ],
             [
              0.8888888888888888,
              "#fdca26"
             ],
             [
              1,
              "#f0f921"
             ]
            ],
            "type": "contour"
           }
          ],
          "contourcarpet": [
           {
            "colorbar": {
             "outlinewidth": 0,
             "ticks": ""
            },
            "type": "contourcarpet"
           }
          ],
          "heatmap": [
           {
            "colorbar": {
             "outlinewidth": 0,
             "ticks": ""
            },
            "colorscale": [
             [
              0,
              "#0d0887"
             ],
             [
              0.1111111111111111,
              "#46039f"
             ],
             [
              0.2222222222222222,
              "#7201a8"
             ],
             [
              0.3333333333333333,
              "#9c179e"
             ],
             [
              0.4444444444444444,
              "#bd3786"
             ],
             [
              0.5555555555555556,
              "#d8576b"
             ],
             [
              0.6666666666666666,
              "#ed7953"
             ],
             [
              0.7777777777777778,
              "#fb9f3a"
             ],
             [
              0.8888888888888888,
              "#fdca26"
             ],
             [
              1,
              "#f0f921"
             ]
            ],
            "type": "heatmap"
           }
          ],
          "heatmapgl": [
           {
            "colorbar": {
             "outlinewidth": 0,
             "ticks": ""
            },
            "colorscale": [
             [
              0,
              "#0d0887"
             ],
             [
              0.1111111111111111,
              "#46039f"
             ],
             [
              0.2222222222222222,
              "#7201a8"
             ],
             [
              0.3333333333333333,
              "#9c179e"
             ],
             [
              0.4444444444444444,
              "#bd3786"
             ],
             [
              0.5555555555555556,
              "#d8576b"
             ],
             [
              0.6666666666666666,
              "#ed7953"
             ],
             [
              0.7777777777777778,
              "#fb9f3a"
             ],
             [
              0.8888888888888888,
              "#fdca26"
             ],
             [
              1,
              "#f0f921"
             ]
            ],
            "type": "heatmapgl"
           }
          ],
          "histogram": [
           {
            "marker": {
             "colorbar": {
              "outlinewidth": 0,
              "ticks": ""
             }
            },
            "type": "histogram"
           }
          ],
          "histogram2d": [
           {
            "colorbar": {
             "outlinewidth": 0,
             "ticks": ""
            },
            "colorscale": [
             [
              0,
              "#0d0887"
             ],
             [
              0.1111111111111111,
              "#46039f"
             ],
             [
              0.2222222222222222,
              "#7201a8"
             ],
             [
              0.3333333333333333,
              "#9c179e"
             ],
             [
              0.4444444444444444,
              "#bd3786"
             ],
             [
              0.5555555555555556,
              "#d8576b"
             ],
             [
              0.6666666666666666,
              "#ed7953"
             ],
             [
              0.7777777777777778,
              "#fb9f3a"
             ],
             [
              0.8888888888888888,
              "#fdca26"
             ],
             [
              1,
              "#f0f921"
             ]
            ],
            "type": "histogram2d"
           }
          ],
          "histogram2dcontour": [
           {
            "colorbar": {
             "outlinewidth": 0,
             "ticks": ""
            },
            "colorscale": [
             [
              0,
              "#0d0887"
             ],
             [
              0.1111111111111111,
              "#46039f"
             ],
             [
              0.2222222222222222,
              "#7201a8"
             ],
             [
              0.3333333333333333,
              "#9c179e"
             ],
             [
              0.4444444444444444,
              "#bd3786"
             ],
             [
              0.5555555555555556,
              "#d8576b"
             ],
             [
              0.6666666666666666,
              "#ed7953"
             ],
             [
              0.7777777777777778,
              "#fb9f3a"
             ],
             [
              0.8888888888888888,
              "#fdca26"
             ],
             [
              1,
              "#f0f921"
             ]
            ],
            "type": "histogram2dcontour"
           }
          ],
          "mesh3d": [
           {
            "colorbar": {
             "outlinewidth": 0,
             "ticks": ""
            },
            "type": "mesh3d"
           }
          ],
          "parcoords": [
           {
            "line": {
             "colorbar": {
              "outlinewidth": 0,
              "ticks": ""
             }
            },
            "type": "parcoords"
           }
          ],
          "pie": [
           {
            "automargin": true,
            "type": "pie"
           }
          ],
          "scatter": [
           {
            "marker": {
             "colorbar": {
              "outlinewidth": 0,
              "ticks": ""
             }
            },
            "type": "scatter"
           }
          ],
          "scatter3d": [
           {
            "line": {
             "colorbar": {
              "outlinewidth": 0,
              "ticks": ""
             }
            },
            "marker": {
             "colorbar": {
              "outlinewidth": 0,
              "ticks": ""
             }
            },
            "type": "scatter3d"
           }
          ],
          "scattercarpet": [
           {
            "marker": {
             "colorbar": {
              "outlinewidth": 0,
              "ticks": ""
             }
            },
            "type": "scattercarpet"
           }
          ],
          "scattergeo": [
           {
            "marker": {
             "colorbar": {
              "outlinewidth": 0,
              "ticks": ""
             }
            },
            "type": "scattergeo"
           }
          ],
          "scattergl": [
           {
            "marker": {
             "colorbar": {
              "outlinewidth": 0,
              "ticks": ""
             }
            },
            "type": "scattergl"
           }
          ],
          "scattermapbox": [
           {
            "marker": {
             "colorbar": {
              "outlinewidth": 0,
              "ticks": ""
             }
            },
            "type": "scattermapbox"
           }
          ],
          "scatterpolar": [
           {
            "marker": {
             "colorbar": {
              "outlinewidth": 0,
              "ticks": ""
             }
            },
            "type": "scatterpolar"
           }
          ],
          "scatterpolargl": [
           {
            "marker": {
             "colorbar": {
              "outlinewidth": 0,
              "ticks": ""
             }
            },
            "type": "scatterpolargl"
           }
          ],
          "scatterternary": [
           {
            "marker": {
             "colorbar": {
              "outlinewidth": 0,
              "ticks": ""
             }
            },
            "type": "scatterternary"
           }
          ],
          "surface": [
           {
            "colorbar": {
             "outlinewidth": 0,
             "ticks": ""
            },
            "colorscale": [
             [
              0,
              "#0d0887"
             ],
             [
              0.1111111111111111,
              "#46039f"
             ],
             [
              0.2222222222222222,
              "#7201a8"
             ],
             [
              0.3333333333333333,
              "#9c179e"
             ],
             [
              0.4444444444444444,
              "#bd3786"
             ],
             [
              0.5555555555555556,
              "#d8576b"
             ],
             [
              0.6666666666666666,
              "#ed7953"
             ],
             [
              0.7777777777777778,
              "#fb9f3a"
             ],
             [
              0.8888888888888888,
              "#fdca26"
             ],
             [
              1,
              "#f0f921"
             ]
            ],
            "type": "surface"
           }
          ],
          "table": [
           {
            "cells": {
             "fill": {
              "color": "#EBF0F8"
             },
             "line": {
              "color": "white"
             }
            },
            "header": {
             "fill": {
              "color": "#C8D4E3"
             },
             "line": {
              "color": "white"
             }
            },
            "type": "table"
           }
          ]
         },
         "layout": {
          "annotationdefaults": {
           "arrowcolor": "#2a3f5f",
           "arrowhead": 0,
           "arrowwidth": 1
          },
          "autotypenumbers": "strict",
          "coloraxis": {
           "colorbar": {
            "outlinewidth": 0,
            "ticks": ""
           }
          },
          "colorscale": {
           "diverging": [
            [
             0,
             "#8e0152"
            ],
            [
             0.1,
             "#c51b7d"
            ],
            [
             0.2,
             "#de77ae"
            ],
            [
             0.3,
             "#f1b6da"
            ],
            [
             0.4,
             "#fde0ef"
            ],
            [
             0.5,
             "#f7f7f7"
            ],
            [
             0.6,
             "#e6f5d0"
            ],
            [
             0.7,
             "#b8e186"
            ],
            [
             0.8,
             "#7fbc41"
            ],
            [
             0.9,
             "#4d9221"
            ],
            [
             1,
             "#276419"
            ]
           ],
           "sequential": [
            [
             0,
             "#0d0887"
            ],
            [
             0.1111111111111111,
             "#46039f"
            ],
            [
             0.2222222222222222,
             "#7201a8"
            ],
            [
             0.3333333333333333,
             "#9c179e"
            ],
            [
             0.4444444444444444,
             "#bd3786"
            ],
            [
             0.5555555555555556,
             "#d8576b"
            ],
            [
             0.6666666666666666,
             "#ed7953"
            ],
            [
             0.7777777777777778,
             "#fb9f3a"
            ],
            [
             0.8888888888888888,
             "#fdca26"
            ],
            [
             1,
             "#f0f921"
            ]
           ],
           "sequentialminus": [
            [
             0,
             "#0d0887"
            ],
            [
             0.1111111111111111,
             "#46039f"
            ],
            [
             0.2222222222222222,
             "#7201a8"
            ],
            [
             0.3333333333333333,
             "#9c179e"
            ],
            [
             0.4444444444444444,
             "#bd3786"
            ],
            [
             0.5555555555555556,
             "#d8576b"
            ],
            [
             0.6666666666666666,
             "#ed7953"
            ],
            [
             0.7777777777777778,
             "#fb9f3a"
            ],
            [
             0.8888888888888888,
             "#fdca26"
            ],
            [
             1,
             "#f0f921"
            ]
           ]
          },
          "colorway": [
           "#636efa",
           "#EF553B",
           "#00cc96",
           "#ab63fa",
           "#FFA15A",
           "#19d3f3",
           "#FF6692",
           "#B6E880",
           "#FF97FF",
           "#FECB52"
          ],
          "font": {
           "color": "#2a3f5f"
          },
          "geo": {
           "bgcolor": "white",
           "lakecolor": "white",
           "landcolor": "#E5ECF6",
           "showlakes": true,
           "showland": true,
           "subunitcolor": "white"
          },
          "hoverlabel": {
           "align": "left"
          },
          "hovermode": "closest",
          "mapbox": {
           "style": "light"
          },
          "paper_bgcolor": "white",
          "plot_bgcolor": "#E5ECF6",
          "polar": {
           "angularaxis": {
            "gridcolor": "white",
            "linecolor": "white",
            "ticks": ""
           },
           "bgcolor": "#E5ECF6",
           "radialaxis": {
            "gridcolor": "white",
            "linecolor": "white",
            "ticks": ""
           }
          },
          "scene": {
           "xaxis": {
            "backgroundcolor": "#E5ECF6",
            "gridcolor": "white",
            "gridwidth": 2,
            "linecolor": "white",
            "showbackground": true,
            "ticks": "",
            "zerolinecolor": "white"
           },
           "yaxis": {
            "backgroundcolor": "#E5ECF6",
            "gridcolor": "white",
            "gridwidth": 2,
            "linecolor": "white",
            "showbackground": true,
            "ticks": "",
            "zerolinecolor": "white"
           },
           "zaxis": {
            "backgroundcolor": "#E5ECF6",
            "gridcolor": "white",
            "gridwidth": 2,
            "linecolor": "white",
            "showbackground": true,
            "ticks": "",
            "zerolinecolor": "white"
           }
          },
          "shapedefaults": {
           "line": {
            "color": "#2a3f5f"
           }
          },
          "ternary": {
           "aaxis": {
            "gridcolor": "white",
            "linecolor": "white",
            "ticks": ""
           },
           "baxis": {
            "gridcolor": "white",
            "linecolor": "white",
            "ticks": ""
           },
           "bgcolor": "#E5ECF6",
           "caxis": {
            "gridcolor": "white",
            "linecolor": "white",
            "ticks": ""
           }
          },
          "title": {
           "x": 0.05
          },
          "xaxis": {
           "automargin": true,
           "gridcolor": "white",
           "linecolor": "white",
           "ticks": "",
           "title": {
            "standoff": 15
           },
           "zerolinecolor": "white",
           "zerolinewidth": 2
          },
          "yaxis": {
           "automargin": true,
           "gridcolor": "white",
           "linecolor": "white",
           "ticks": "",
           "title": {
            "standoff": 15
           },
           "zerolinecolor": "white",
           "zerolinewidth": 2
          }
         }
        },
        "title": {
         "text": "Tipo de Traço x Percentual Crescimento"
        },
        "xaxis": {
         "anchor": "y",
         "domain": [
          0,
          1
         ],
         "title": {
          "text": "TipoTraco"
         }
        },
        "yaxis": {
         "anchor": "x",
         "domain": [
          0,
          1
         ],
         "title": {
          "text": "PercentualCrescimentoReal"
         }
        }
       }
      },
      "text/html": [
       "<div>                            <div id=\"63f18257-6fae-4e70-a3aa-8cee54fceaf9\" class=\"plotly-graph-div\" style=\"height:525px; width:100%;\"></div>            <script type=\"text/javascript\">                require([\"plotly\"], function(Plotly) {                    window.PLOTLYENV=window.PLOTLYENV || {};                                    if (document.getElementById(\"63f18257-6fae-4e70-a3aa-8cee54fceaf9\")) {                    Plotly.newPlot(                        \"63f18257-6fae-4e70-a3aa-8cee54fceaf9\",                        [{\"alignmentgroup\": \"True\", \"hovertemplate\": \"TipoTraco=%{x}<br>PercentualCrescimentoReal=%{y}<extra></extra>\", \"legendgroup\": \"\", \"marker\": {\"color\": \"#636efa\"}, \"name\": \"\", \"notched\": false, \"offsetgroup\": \"\", \"orientation\": \"v\", \"showlegend\": false, \"type\": \"box\", \"x\": [\"N\", \"N\", \"N\", \"N\", \"E\", \"N\", \"N\", \"N\", \"E\", \"N\", \"N\", \"N\", \"E\", \"E\", \"E\", \"E\", \"N\", \"N\", \"E\", \"E\", \"E\", \"N\"], \"x0\": \" \", \"xaxis\": \"x\", \"y\": [31.112661318451337, 23.393167342211928, 30.83795440542205, 36.67290886392009, 30.66709844559585, 30.765550239234443, 34.91561181434597, 35.48845470692719, 45.56234279554439, 21.57159047978845, 32.57547521431234, 33.94199785177228, 43.341645885286766, 54.66732869910624, 33.216986620127955, 34.82028241335045, 39.157674904281244, 44.48685326547923, 35.66481994459833, 31.753718436527173, 29.360852197070564, 21.210305572198923], \"y0\": \" \", \"yaxis\": \"y\"}],                        {\"boxmode\": \"group\", \"legend\": {\"tracegroupgap\": 0}, \"template\": {\"data\": {\"bar\": [{\"error_x\": {\"color\": \"#2a3f5f\"}, \"error_y\": {\"color\": \"#2a3f5f\"}, \"marker\": {\"line\": {\"color\": \"#E5ECF6\", \"width\": 0.5}}, \"type\": \"bar\"}], \"barpolar\": [{\"marker\": {\"line\": {\"color\": \"#E5ECF6\", \"width\": 0.5}}, \"type\": \"barpolar\"}], \"carpet\": [{\"aaxis\": {\"endlinecolor\": \"#2a3f5f\", \"gridcolor\": \"white\", \"linecolor\": \"white\", \"minorgridcolor\": \"white\", \"startlinecolor\": \"#2a3f5f\"}, \"baxis\": {\"endlinecolor\": \"#2a3f5f\", \"gridcolor\": \"white\", \"linecolor\": \"white\", \"minorgridcolor\": \"white\", \"startlinecolor\": \"#2a3f5f\"}, \"type\": \"carpet\"}], \"choropleth\": [{\"colorbar\": {\"outlinewidth\": 0, \"ticks\": \"\"}, \"type\": \"choropleth\"}], \"contour\": [{\"colorbar\": {\"outlinewidth\": 0, \"ticks\": \"\"}, \"colorscale\": [[0.0, \"#0d0887\"], [0.1111111111111111, \"#46039f\"], [0.2222222222222222, \"#7201a8\"], [0.3333333333333333, \"#9c179e\"], [0.4444444444444444, \"#bd3786\"], [0.5555555555555556, \"#d8576b\"], [0.6666666666666666, \"#ed7953\"], [0.7777777777777778, \"#fb9f3a\"], [0.8888888888888888, \"#fdca26\"], [1.0, \"#f0f921\"]], \"type\": \"contour\"}], \"contourcarpet\": [{\"colorbar\": {\"outlinewidth\": 0, \"ticks\": \"\"}, \"type\": \"contourcarpet\"}], \"heatmap\": [{\"colorbar\": {\"outlinewidth\": 0, \"ticks\": \"\"}, \"colorscale\": [[0.0, \"#0d0887\"], [0.1111111111111111, \"#46039f\"], [0.2222222222222222, \"#7201a8\"], [0.3333333333333333, \"#9c179e\"], [0.4444444444444444, \"#bd3786\"], [0.5555555555555556, \"#d8576b\"], [0.6666666666666666, \"#ed7953\"], [0.7777777777777778, \"#fb9f3a\"], [0.8888888888888888, \"#fdca26\"], [1.0, \"#f0f921\"]], \"type\": \"heatmap\"}], \"heatmapgl\": [{\"colorbar\": {\"outlinewidth\": 0, \"ticks\": \"\"}, \"colorscale\": [[0.0, \"#0d0887\"], [0.1111111111111111, \"#46039f\"], [0.2222222222222222, \"#7201a8\"], [0.3333333333333333, \"#9c179e\"], [0.4444444444444444, \"#bd3786\"], [0.5555555555555556, \"#d8576b\"], [0.6666666666666666, \"#ed7953\"], [0.7777777777777778, \"#fb9f3a\"], [0.8888888888888888, \"#fdca26\"], [1.0, \"#f0f921\"]], \"type\": \"heatmapgl\"}], \"histogram\": [{\"marker\": {\"colorbar\": {\"outlinewidth\": 0, \"ticks\": \"\"}}, \"type\": \"histogram\"}], \"histogram2d\": [{\"colorbar\": {\"outlinewidth\": 0, \"ticks\": \"\"}, \"colorscale\": [[0.0, \"#0d0887\"], [0.1111111111111111, \"#46039f\"], [0.2222222222222222, \"#7201a8\"], [0.3333333333333333, \"#9c179e\"], [0.4444444444444444, \"#bd3786\"], [0.5555555555555556, \"#d8576b\"], [0.6666666666666666, \"#ed7953\"], [0.7777777777777778, \"#fb9f3a\"], [0.8888888888888888, \"#fdca26\"], [1.0, \"#f0f921\"]], \"type\": \"histogram2d\"}], \"histogram2dcontour\": [{\"colorbar\": {\"outlinewidth\": 0, \"ticks\": \"\"}, \"colorscale\": [[0.0, \"#0d0887\"], [0.1111111111111111, \"#46039f\"], [0.2222222222222222, \"#7201a8\"], [0.3333333333333333, \"#9c179e\"], [0.4444444444444444, \"#bd3786\"], [0.5555555555555556, \"#d8576b\"], [0.6666666666666666, \"#ed7953\"], [0.7777777777777778, \"#fb9f3a\"], [0.8888888888888888, \"#fdca26\"], [1.0, \"#f0f921\"]], \"type\": \"histogram2dcontour\"}], \"mesh3d\": [{\"colorbar\": {\"outlinewidth\": 0, \"ticks\": \"\"}, \"type\": \"mesh3d\"}], \"parcoords\": [{\"line\": {\"colorbar\": {\"outlinewidth\": 0, \"ticks\": \"\"}}, \"type\": \"parcoords\"}], \"pie\": [{\"automargin\": true, \"type\": \"pie\"}], \"scatter\": [{\"marker\": {\"colorbar\": {\"outlinewidth\": 0, \"ticks\": \"\"}}, \"type\": \"scatter\"}], \"scatter3d\": [{\"line\": {\"colorbar\": {\"outlinewidth\": 0, \"ticks\": \"\"}}, \"marker\": {\"colorbar\": {\"outlinewidth\": 0, \"ticks\": \"\"}}, \"type\": \"scatter3d\"}], \"scattercarpet\": [{\"marker\": {\"colorbar\": {\"outlinewidth\": 0, \"ticks\": \"\"}}, \"type\": \"scattercarpet\"}], \"scattergeo\": [{\"marker\": {\"colorbar\": {\"outlinewidth\": 0, \"ticks\": \"\"}}, \"type\": \"scattergeo\"}], \"scattergl\": [{\"marker\": {\"colorbar\": {\"outlinewidth\": 0, \"ticks\": \"\"}}, \"type\": \"scattergl\"}], \"scattermapbox\": [{\"marker\": {\"colorbar\": {\"outlinewidth\": 0, \"ticks\": \"\"}}, \"type\": \"scattermapbox\"}], \"scatterpolar\": [{\"marker\": {\"colorbar\": {\"outlinewidth\": 0, \"ticks\": \"\"}}, \"type\": \"scatterpolar\"}], \"scatterpolargl\": [{\"marker\": {\"colorbar\": {\"outlinewidth\": 0, \"ticks\": \"\"}}, \"type\": \"scatterpolargl\"}], \"scatterternary\": [{\"marker\": {\"colorbar\": {\"outlinewidth\": 0, \"ticks\": \"\"}}, \"type\": \"scatterternary\"}], \"surface\": [{\"colorbar\": {\"outlinewidth\": 0, \"ticks\": \"\"}, \"colorscale\": [[0.0, \"#0d0887\"], [0.1111111111111111, \"#46039f\"], [0.2222222222222222, \"#7201a8\"], [0.3333333333333333, \"#9c179e\"], [0.4444444444444444, \"#bd3786\"], [0.5555555555555556, \"#d8576b\"], [0.6666666666666666, \"#ed7953\"], [0.7777777777777778, \"#fb9f3a\"], [0.8888888888888888, \"#fdca26\"], [1.0, \"#f0f921\"]], \"type\": \"surface\"}], \"table\": [{\"cells\": {\"fill\": {\"color\": \"#EBF0F8\"}, \"line\": {\"color\": \"white\"}}, \"header\": {\"fill\": {\"color\": \"#C8D4E3\"}, \"line\": {\"color\": \"white\"}}, \"type\": \"table\"}]}, \"layout\": {\"annotationdefaults\": {\"arrowcolor\": \"#2a3f5f\", \"arrowhead\": 0, \"arrowwidth\": 1}, \"autotypenumbers\": \"strict\", \"coloraxis\": {\"colorbar\": {\"outlinewidth\": 0, \"ticks\": \"\"}}, \"colorscale\": {\"diverging\": [[0, \"#8e0152\"], [0.1, \"#c51b7d\"], [0.2, \"#de77ae\"], [0.3, \"#f1b6da\"], [0.4, \"#fde0ef\"], [0.5, \"#f7f7f7\"], [0.6, \"#e6f5d0\"], [0.7, \"#b8e186\"], [0.8, \"#7fbc41\"], [0.9, \"#4d9221\"], [1, \"#276419\"]], \"sequential\": [[0.0, \"#0d0887\"], [0.1111111111111111, \"#46039f\"], [0.2222222222222222, \"#7201a8\"], [0.3333333333333333, \"#9c179e\"], [0.4444444444444444, \"#bd3786\"], [0.5555555555555556, \"#d8576b\"], [0.6666666666666666, \"#ed7953\"], [0.7777777777777778, \"#fb9f3a\"], [0.8888888888888888, \"#fdca26\"], [1.0, \"#f0f921\"]], \"sequentialminus\": [[0.0, \"#0d0887\"], [0.1111111111111111, \"#46039f\"], [0.2222222222222222, \"#7201a8\"], [0.3333333333333333, \"#9c179e\"], [0.4444444444444444, \"#bd3786\"], [0.5555555555555556, \"#d8576b\"], [0.6666666666666666, \"#ed7953\"], [0.7777777777777778, \"#fb9f3a\"], [0.8888888888888888, \"#fdca26\"], [1.0, \"#f0f921\"]]}, \"colorway\": [\"#636efa\", \"#EF553B\", \"#00cc96\", \"#ab63fa\", \"#FFA15A\", \"#19d3f3\", \"#FF6692\", \"#B6E880\", \"#FF97FF\", \"#FECB52\"], \"font\": {\"color\": \"#2a3f5f\"}, \"geo\": {\"bgcolor\": \"white\", \"lakecolor\": \"white\", \"landcolor\": \"#E5ECF6\", \"showlakes\": true, \"showland\": true, \"subunitcolor\": \"white\"}, \"hoverlabel\": {\"align\": \"left\"}, \"hovermode\": \"closest\", \"mapbox\": {\"style\": \"light\"}, \"paper_bgcolor\": \"white\", \"plot_bgcolor\": \"#E5ECF6\", \"polar\": {\"angularaxis\": {\"gridcolor\": \"white\", \"linecolor\": \"white\", \"ticks\": \"\"}, \"bgcolor\": \"#E5ECF6\", \"radialaxis\": {\"gridcolor\": \"white\", \"linecolor\": \"white\", \"ticks\": \"\"}}, \"scene\": {\"xaxis\": {\"backgroundcolor\": \"#E5ECF6\", \"gridcolor\": \"white\", \"gridwidth\": 2, \"linecolor\": \"white\", \"showbackground\": true, \"ticks\": \"\", \"zerolinecolor\": \"white\"}, \"yaxis\": {\"backgroundcolor\": \"#E5ECF6\", \"gridcolor\": \"white\", \"gridwidth\": 2, \"linecolor\": \"white\", \"showbackground\": true, \"ticks\": \"\", \"zerolinecolor\": \"white\"}, \"zaxis\": {\"backgroundcolor\": \"#E5ECF6\", \"gridcolor\": \"white\", \"gridwidth\": 2, \"linecolor\": \"white\", \"showbackground\": true, \"ticks\": \"\", \"zerolinecolor\": \"white\"}}, \"shapedefaults\": {\"line\": {\"color\": \"#2a3f5f\"}}, \"ternary\": {\"aaxis\": {\"gridcolor\": \"white\", \"linecolor\": \"white\", \"ticks\": \"\"}, \"baxis\": {\"gridcolor\": \"white\", \"linecolor\": \"white\", \"ticks\": \"\"}, \"bgcolor\": \"#E5ECF6\", \"caxis\": {\"gridcolor\": \"white\", \"linecolor\": \"white\", \"ticks\": \"\"}}, \"title\": {\"x\": 0.05}, \"xaxis\": {\"automargin\": true, \"gridcolor\": \"white\", \"linecolor\": \"white\", \"ticks\": \"\", \"title\": {\"standoff\": 15}, \"zerolinecolor\": \"white\", \"zerolinewidth\": 2}, \"yaxis\": {\"automargin\": true, \"gridcolor\": \"white\", \"linecolor\": \"white\", \"ticks\": \"\", \"title\": {\"standoff\": 15}, \"zerolinecolor\": \"white\", \"zerolinewidth\": 2}}}, \"title\": {\"text\": \"Tipo de Tra\\u00e7o x Percentual Crescimento\"}, \"xaxis\": {\"anchor\": \"y\", \"domain\": [0.0, 1.0], \"title\": {\"text\": \"TipoTraco\"}}, \"yaxis\": {\"anchor\": \"x\", \"domain\": [0.0, 1.0], \"title\": {\"text\": \"PercentualCrescimentoReal\"}}},                        {\"responsive\": true}                    ).then(function(){\n",
       "                            \n",
       "var gd = document.getElementById('63f18257-6fae-4e70-a3aa-8cee54fceaf9');\n",
       "var x = new MutationObserver(function (mutations, observer) {{\n",
       "        var display = window.getComputedStyle(gd).display;\n",
       "        if (!display || display === 'none') {{\n",
       "            console.log([gd, 'removed!']);\n",
       "            Plotly.purge(gd);\n",
       "            observer.disconnect();\n",
       "        }}\n",
       "}});\n",
       "\n",
       "// Listen for the removal of the full notebook cells\n",
       "var notebookContainer = gd.closest('#notebook-container');\n",
       "if (notebookContainer) {{\n",
       "    x.observe(notebookContainer, {childList: true});\n",
       "}}\n",
       "\n",
       "// Listen for the clearing of the current output cell\n",
       "var outputEl = gd.closest('.output');\n",
       "if (outputEl) {{\n",
       "    x.observe(outputEl, {childList: true});\n",
       "}}\n",
       "\n",
       "                        })                };                });            </script>        </div>"
      ]
     },
     "metadata": {},
     "output_type": "display_data"
    }
   ],
   "source": [
    "fig = px.box(dados_da, x=\"TipoTraco\", y=\"PercentualCrescimentoReal\", title='Tipo de Traço x Percentual Crescimento')\n",
    "fig.show()"
   ]
  },
  {
   "cell_type": "code",
   "execution_count": 132,
   "metadata": {},
   "outputs": [
    {
     "data": {
      "application/vnd.plotly.v1+json": {
       "config": {
        "plotlyServerURL": "https://plot.ly"
       },
       "data": [
        {
         "alignmentgroup": "True",
         "hovertemplate": "FCK=%{x}<br>PercentualCrescimentoReal=%{y}<extra></extra>",
         "legendgroup": "",
         "marker": {
          "color": "#636efa"
         },
         "name": "",
         "notched": false,
         "offsetgroup": "",
         "orientation": "v",
         "showlegend": false,
         "type": "box",
         "x": [
          30,
          30,
          30,
          30,
          30,
          20,
          25,
          25,
          30,
          25,
          25,
          25,
          20,
          20,
          30,
          30,
          30,
          25,
          30,
          30,
          30,
          35
         ],
         "x0": " ",
         "xaxis": "x",
         "y": [
          31.112661318451337,
          23.393167342211928,
          30.83795440542205,
          36.67290886392009,
          30.66709844559585,
          30.765550239234443,
          34.91561181434597,
          35.48845470692719,
          45.56234279554439,
          21.57159047978845,
          32.57547521431234,
          33.94199785177228,
          43.341645885286766,
          54.66732869910624,
          33.216986620127955,
          34.82028241335045,
          39.157674904281244,
          44.48685326547923,
          35.66481994459833,
          31.753718436527173,
          29.360852197070564,
          21.210305572198923
         ],
         "y0": " ",
         "yaxis": "y"
        }
       ],
       "layout": {
        "boxmode": "group",
        "legend": {
         "tracegroupgap": 0
        },
        "template": {
         "data": {
          "bar": [
           {
            "error_x": {
             "color": "#2a3f5f"
            },
            "error_y": {
             "color": "#2a3f5f"
            },
            "marker": {
             "line": {
              "color": "#E5ECF6",
              "width": 0.5
             }
            },
            "type": "bar"
           }
          ],
          "barpolar": [
           {
            "marker": {
             "line": {
              "color": "#E5ECF6",
              "width": 0.5
             }
            },
            "type": "barpolar"
           }
          ],
          "carpet": [
           {
            "aaxis": {
             "endlinecolor": "#2a3f5f",
             "gridcolor": "white",
             "linecolor": "white",
             "minorgridcolor": "white",
             "startlinecolor": "#2a3f5f"
            },
            "baxis": {
             "endlinecolor": "#2a3f5f",
             "gridcolor": "white",
             "linecolor": "white",
             "minorgridcolor": "white",
             "startlinecolor": "#2a3f5f"
            },
            "type": "carpet"
           }
          ],
          "choropleth": [
           {
            "colorbar": {
             "outlinewidth": 0,
             "ticks": ""
            },
            "type": "choropleth"
           }
          ],
          "contour": [
           {
            "colorbar": {
             "outlinewidth": 0,
             "ticks": ""
            },
            "colorscale": [
             [
              0,
              "#0d0887"
             ],
             [
              0.1111111111111111,
              "#46039f"
             ],
             [
              0.2222222222222222,
              "#7201a8"
             ],
             [
              0.3333333333333333,
              "#9c179e"
             ],
             [
              0.4444444444444444,
              "#bd3786"
             ],
             [
              0.5555555555555556,
              "#d8576b"
             ],
             [
              0.6666666666666666,
              "#ed7953"
             ],
             [
              0.7777777777777778,
              "#fb9f3a"
             ],
             [
              0.8888888888888888,
              "#fdca26"
             ],
             [
              1,
              "#f0f921"
             ]
            ],
            "type": "contour"
           }
          ],
          "contourcarpet": [
           {
            "colorbar": {
             "outlinewidth": 0,
             "ticks": ""
            },
            "type": "contourcarpet"
           }
          ],
          "heatmap": [
           {
            "colorbar": {
             "outlinewidth": 0,
             "ticks": ""
            },
            "colorscale": [
             [
              0,
              "#0d0887"
             ],
             [
              0.1111111111111111,
              "#46039f"
             ],
             [
              0.2222222222222222,
              "#7201a8"
             ],
             [
              0.3333333333333333,
              "#9c179e"
             ],
             [
              0.4444444444444444,
              "#bd3786"
             ],
             [
              0.5555555555555556,
              "#d8576b"
             ],
             [
              0.6666666666666666,
              "#ed7953"
             ],
             [
              0.7777777777777778,
              "#fb9f3a"
             ],
             [
              0.8888888888888888,
              "#fdca26"
             ],
             [
              1,
              "#f0f921"
             ]
            ],
            "type": "heatmap"
           }
          ],
          "heatmapgl": [
           {
            "colorbar": {
             "outlinewidth": 0,
             "ticks": ""
            },
            "colorscale": [
             [
              0,
              "#0d0887"
             ],
             [
              0.1111111111111111,
              "#46039f"
             ],
             [
              0.2222222222222222,
              "#7201a8"
             ],
             [
              0.3333333333333333,
              "#9c179e"
             ],
             [
              0.4444444444444444,
              "#bd3786"
             ],
             [
              0.5555555555555556,
              "#d8576b"
             ],
             [
              0.6666666666666666,
              "#ed7953"
             ],
             [
              0.7777777777777778,
              "#fb9f3a"
             ],
             [
              0.8888888888888888,
              "#fdca26"
             ],
             [
              1,
              "#f0f921"
             ]
            ],
            "type": "heatmapgl"
           }
          ],
          "histogram": [
           {
            "marker": {
             "colorbar": {
              "outlinewidth": 0,
              "ticks": ""
             }
            },
            "type": "histogram"
           }
          ],
          "histogram2d": [
           {
            "colorbar": {
             "outlinewidth": 0,
             "ticks": ""
            },
            "colorscale": [
             [
              0,
              "#0d0887"
             ],
             [
              0.1111111111111111,
              "#46039f"
             ],
             [
              0.2222222222222222,
              "#7201a8"
             ],
             [
              0.3333333333333333,
              "#9c179e"
             ],
             [
              0.4444444444444444,
              "#bd3786"
             ],
             [
              0.5555555555555556,
              "#d8576b"
             ],
             [
              0.6666666666666666,
              "#ed7953"
             ],
             [
              0.7777777777777778,
              "#fb9f3a"
             ],
             [
              0.8888888888888888,
              "#fdca26"
             ],
             [
              1,
              "#f0f921"
             ]
            ],
            "type": "histogram2d"
           }
          ],
          "histogram2dcontour": [
           {
            "colorbar": {
             "outlinewidth": 0,
             "ticks": ""
            },
            "colorscale": [
             [
              0,
              "#0d0887"
             ],
             [
              0.1111111111111111,
              "#46039f"
             ],
             [
              0.2222222222222222,
              "#7201a8"
             ],
             [
              0.3333333333333333,
              "#9c179e"
             ],
             [
              0.4444444444444444,
              "#bd3786"
             ],
             [
              0.5555555555555556,
              "#d8576b"
             ],
             [
              0.6666666666666666,
              "#ed7953"
             ],
             [
              0.7777777777777778,
              "#fb9f3a"
             ],
             [
              0.8888888888888888,
              "#fdca26"
             ],
             [
              1,
              "#f0f921"
             ]
            ],
            "type": "histogram2dcontour"
           }
          ],
          "mesh3d": [
           {
            "colorbar": {
             "outlinewidth": 0,
             "ticks": ""
            },
            "type": "mesh3d"
           }
          ],
          "parcoords": [
           {
            "line": {
             "colorbar": {
              "outlinewidth": 0,
              "ticks": ""
             }
            },
            "type": "parcoords"
           }
          ],
          "pie": [
           {
            "automargin": true,
            "type": "pie"
           }
          ],
          "scatter": [
           {
            "marker": {
             "colorbar": {
              "outlinewidth": 0,
              "ticks": ""
             }
            },
            "type": "scatter"
           }
          ],
          "scatter3d": [
           {
            "line": {
             "colorbar": {
              "outlinewidth": 0,
              "ticks": ""
             }
            },
            "marker": {
             "colorbar": {
              "outlinewidth": 0,
              "ticks": ""
             }
            },
            "type": "scatter3d"
           }
          ],
          "scattercarpet": [
           {
            "marker": {
             "colorbar": {
              "outlinewidth": 0,
              "ticks": ""
             }
            },
            "type": "scattercarpet"
           }
          ],
          "scattergeo": [
           {
            "marker": {
             "colorbar": {
              "outlinewidth": 0,
              "ticks": ""
             }
            },
            "type": "scattergeo"
           }
          ],
          "scattergl": [
           {
            "marker": {
             "colorbar": {
              "outlinewidth": 0,
              "ticks": ""
             }
            },
            "type": "scattergl"
           }
          ],
          "scattermapbox": [
           {
            "marker": {
             "colorbar": {
              "outlinewidth": 0,
              "ticks": ""
             }
            },
            "type": "scattermapbox"
           }
          ],
          "scatterpolar": [
           {
            "marker": {
             "colorbar": {
              "outlinewidth": 0,
              "ticks": ""
             }
            },
            "type": "scatterpolar"
           }
          ],
          "scatterpolargl": [
           {
            "marker": {
             "colorbar": {
              "outlinewidth": 0,
              "ticks": ""
             }
            },
            "type": "scatterpolargl"
           }
          ],
          "scatterternary": [
           {
            "marker": {
             "colorbar": {
              "outlinewidth": 0,
              "ticks": ""
             }
            },
            "type": "scatterternary"
           }
          ],
          "surface": [
           {
            "colorbar": {
             "outlinewidth": 0,
             "ticks": ""
            },
            "colorscale": [
             [
              0,
              "#0d0887"
             ],
             [
              0.1111111111111111,
              "#46039f"
             ],
             [
              0.2222222222222222,
              "#7201a8"
             ],
             [
              0.3333333333333333,
              "#9c179e"
             ],
             [
              0.4444444444444444,
              "#bd3786"
             ],
             [
              0.5555555555555556,
              "#d8576b"
             ],
             [
              0.6666666666666666,
              "#ed7953"
             ],
             [
              0.7777777777777778,
              "#fb9f3a"
             ],
             [
              0.8888888888888888,
              "#fdca26"
             ],
             [
              1,
              "#f0f921"
             ]
            ],
            "type": "surface"
           }
          ],
          "table": [
           {
            "cells": {
             "fill": {
              "color": "#EBF0F8"
             },
             "line": {
              "color": "white"
             }
            },
            "header": {
             "fill": {
              "color": "#C8D4E3"
             },
             "line": {
              "color": "white"
             }
            },
            "type": "table"
           }
          ]
         },
         "layout": {
          "annotationdefaults": {
           "arrowcolor": "#2a3f5f",
           "arrowhead": 0,
           "arrowwidth": 1
          },
          "autotypenumbers": "strict",
          "coloraxis": {
           "colorbar": {
            "outlinewidth": 0,
            "ticks": ""
           }
          },
          "colorscale": {
           "diverging": [
            [
             0,
             "#8e0152"
            ],
            [
             0.1,
             "#c51b7d"
            ],
            [
             0.2,
             "#de77ae"
            ],
            [
             0.3,
             "#f1b6da"
            ],
            [
             0.4,
             "#fde0ef"
            ],
            [
             0.5,
             "#f7f7f7"
            ],
            [
             0.6,
             "#e6f5d0"
            ],
            [
             0.7,
             "#b8e186"
            ],
            [
             0.8,
             "#7fbc41"
            ],
            [
             0.9,
             "#4d9221"
            ],
            [
             1,
             "#276419"
            ]
           ],
           "sequential": [
            [
             0,
             "#0d0887"
            ],
            [
             0.1111111111111111,
             "#46039f"
            ],
            [
             0.2222222222222222,
             "#7201a8"
            ],
            [
             0.3333333333333333,
             "#9c179e"
            ],
            [
             0.4444444444444444,
             "#bd3786"
            ],
            [
             0.5555555555555556,
             "#d8576b"
            ],
            [
             0.6666666666666666,
             "#ed7953"
            ],
            [
             0.7777777777777778,
             "#fb9f3a"
            ],
            [
             0.8888888888888888,
             "#fdca26"
            ],
            [
             1,
             "#f0f921"
            ]
           ],
           "sequentialminus": [
            [
             0,
             "#0d0887"
            ],
            [
             0.1111111111111111,
             "#46039f"
            ],
            [
             0.2222222222222222,
             "#7201a8"
            ],
            [
             0.3333333333333333,
             "#9c179e"
            ],
            [
             0.4444444444444444,
             "#bd3786"
            ],
            [
             0.5555555555555556,
             "#d8576b"
            ],
            [
             0.6666666666666666,
             "#ed7953"
            ],
            [
             0.7777777777777778,
             "#fb9f3a"
            ],
            [
             0.8888888888888888,
             "#fdca26"
            ],
            [
             1,
             "#f0f921"
            ]
           ]
          },
          "colorway": [
           "#636efa",
           "#EF553B",
           "#00cc96",
           "#ab63fa",
           "#FFA15A",
           "#19d3f3",
           "#FF6692",
           "#B6E880",
           "#FF97FF",
           "#FECB52"
          ],
          "font": {
           "color": "#2a3f5f"
          },
          "geo": {
           "bgcolor": "white",
           "lakecolor": "white",
           "landcolor": "#E5ECF6",
           "showlakes": true,
           "showland": true,
           "subunitcolor": "white"
          },
          "hoverlabel": {
           "align": "left"
          },
          "hovermode": "closest",
          "mapbox": {
           "style": "light"
          },
          "paper_bgcolor": "white",
          "plot_bgcolor": "#E5ECF6",
          "polar": {
           "angularaxis": {
            "gridcolor": "white",
            "linecolor": "white",
            "ticks": ""
           },
           "bgcolor": "#E5ECF6",
           "radialaxis": {
            "gridcolor": "white",
            "linecolor": "white",
            "ticks": ""
           }
          },
          "scene": {
           "xaxis": {
            "backgroundcolor": "#E5ECF6",
            "gridcolor": "white",
            "gridwidth": 2,
            "linecolor": "white",
            "showbackground": true,
            "ticks": "",
            "zerolinecolor": "white"
           },
           "yaxis": {
            "backgroundcolor": "#E5ECF6",
            "gridcolor": "white",
            "gridwidth": 2,
            "linecolor": "white",
            "showbackground": true,
            "ticks": "",
            "zerolinecolor": "white"
           },
           "zaxis": {
            "backgroundcolor": "#E5ECF6",
            "gridcolor": "white",
            "gridwidth": 2,
            "linecolor": "white",
            "showbackground": true,
            "ticks": "",
            "zerolinecolor": "white"
           }
          },
          "shapedefaults": {
           "line": {
            "color": "#2a3f5f"
           }
          },
          "ternary": {
           "aaxis": {
            "gridcolor": "white",
            "linecolor": "white",
            "ticks": ""
           },
           "baxis": {
            "gridcolor": "white",
            "linecolor": "white",
            "ticks": ""
           },
           "bgcolor": "#E5ECF6",
           "caxis": {
            "gridcolor": "white",
            "linecolor": "white",
            "ticks": ""
           }
          },
          "title": {
           "x": 0.05
          },
          "xaxis": {
           "automargin": true,
           "gridcolor": "white",
           "linecolor": "white",
           "ticks": "",
           "title": {
            "standoff": 15
           },
           "zerolinecolor": "white",
           "zerolinewidth": 2
          },
          "yaxis": {
           "automargin": true,
           "gridcolor": "white",
           "linecolor": "white",
           "ticks": "",
           "title": {
            "standoff": 15
           },
           "zerolinecolor": "white",
           "zerolinewidth": 2
          }
         }
        },
        "title": {
         "text": "FCK x Percentual Crescimento"
        },
        "xaxis": {
         "anchor": "y",
         "domain": [
          0,
          1
         ],
         "title": {
          "text": "FCK"
         }
        },
        "yaxis": {
         "anchor": "x",
         "domain": [
          0,
          1
         ],
         "title": {
          "text": "PercentualCrescimentoReal"
         }
        }
       }
      },
      "text/html": [
       "<div>                            <div id=\"5e8fa047-3c3b-4807-8d6b-ba184295e96e\" class=\"plotly-graph-div\" style=\"height:525px; width:100%;\"></div>            <script type=\"text/javascript\">                require([\"plotly\"], function(Plotly) {                    window.PLOTLYENV=window.PLOTLYENV || {};                                    if (document.getElementById(\"5e8fa047-3c3b-4807-8d6b-ba184295e96e\")) {                    Plotly.newPlot(                        \"5e8fa047-3c3b-4807-8d6b-ba184295e96e\",                        [{\"alignmentgroup\": \"True\", \"hovertemplate\": \"FCK=%{x}<br>PercentualCrescimentoReal=%{y}<extra></extra>\", \"legendgroup\": \"\", \"marker\": {\"color\": \"#636efa\"}, \"name\": \"\", \"notched\": false, \"offsetgroup\": \"\", \"orientation\": \"v\", \"showlegend\": false, \"type\": \"box\", \"x\": [30.0, 30.0, 30.0, 30.0, 30.0, 20.0, 25.0, 25.0, 30.0, 25.0, 25.0, 25.0, 20.0, 20.0, 30.0, 30.0, 30.0, 25.0, 30.0, 30.0, 30.0, 35.0], \"x0\": \" \", \"xaxis\": \"x\", \"y\": [31.112661318451337, 23.393167342211928, 30.83795440542205, 36.67290886392009, 30.66709844559585, 30.765550239234443, 34.91561181434597, 35.48845470692719, 45.56234279554439, 21.57159047978845, 32.57547521431234, 33.94199785177228, 43.341645885286766, 54.66732869910624, 33.216986620127955, 34.82028241335045, 39.157674904281244, 44.48685326547923, 35.66481994459833, 31.753718436527173, 29.360852197070564, 21.210305572198923], \"y0\": \" \", \"yaxis\": \"y\"}],                        {\"boxmode\": \"group\", \"legend\": {\"tracegroupgap\": 0}, \"template\": {\"data\": {\"bar\": [{\"error_x\": {\"color\": \"#2a3f5f\"}, \"error_y\": {\"color\": \"#2a3f5f\"}, \"marker\": {\"line\": {\"color\": \"#E5ECF6\", \"width\": 0.5}}, \"type\": \"bar\"}], \"barpolar\": [{\"marker\": {\"line\": {\"color\": \"#E5ECF6\", \"width\": 0.5}}, \"type\": \"barpolar\"}], \"carpet\": [{\"aaxis\": {\"endlinecolor\": \"#2a3f5f\", \"gridcolor\": \"white\", \"linecolor\": \"white\", \"minorgridcolor\": \"white\", \"startlinecolor\": \"#2a3f5f\"}, \"baxis\": {\"endlinecolor\": \"#2a3f5f\", \"gridcolor\": \"white\", \"linecolor\": \"white\", \"minorgridcolor\": \"white\", \"startlinecolor\": \"#2a3f5f\"}, \"type\": \"carpet\"}], \"choropleth\": [{\"colorbar\": {\"outlinewidth\": 0, \"ticks\": \"\"}, \"type\": \"choropleth\"}], \"contour\": [{\"colorbar\": {\"outlinewidth\": 0, \"ticks\": \"\"}, \"colorscale\": [[0.0, \"#0d0887\"], [0.1111111111111111, \"#46039f\"], [0.2222222222222222, \"#7201a8\"], [0.3333333333333333, \"#9c179e\"], [0.4444444444444444, \"#bd3786\"], [0.5555555555555556, \"#d8576b\"], [0.6666666666666666, \"#ed7953\"], [0.7777777777777778, \"#fb9f3a\"], [0.8888888888888888, \"#fdca26\"], [1.0, \"#f0f921\"]], \"type\": \"contour\"}], \"contourcarpet\": [{\"colorbar\": {\"outlinewidth\": 0, \"ticks\": \"\"}, \"type\": \"contourcarpet\"}], \"heatmap\": [{\"colorbar\": {\"outlinewidth\": 0, \"ticks\": \"\"}, \"colorscale\": [[0.0, \"#0d0887\"], [0.1111111111111111, \"#46039f\"], [0.2222222222222222, \"#7201a8\"], [0.3333333333333333, \"#9c179e\"], [0.4444444444444444, \"#bd3786\"], [0.5555555555555556, \"#d8576b\"], [0.6666666666666666, \"#ed7953\"], [0.7777777777777778, \"#fb9f3a\"], [0.8888888888888888, \"#fdca26\"], [1.0, \"#f0f921\"]], \"type\": \"heatmap\"}], \"heatmapgl\": [{\"colorbar\": {\"outlinewidth\": 0, \"ticks\": \"\"}, \"colorscale\": [[0.0, \"#0d0887\"], [0.1111111111111111, \"#46039f\"], [0.2222222222222222, \"#7201a8\"], [0.3333333333333333, \"#9c179e\"], [0.4444444444444444, \"#bd3786\"], [0.5555555555555556, \"#d8576b\"], [0.6666666666666666, \"#ed7953\"], [0.7777777777777778, \"#fb9f3a\"], [0.8888888888888888, \"#fdca26\"], [1.0, \"#f0f921\"]], \"type\": \"heatmapgl\"}], \"histogram\": [{\"marker\": {\"colorbar\": {\"outlinewidth\": 0, \"ticks\": \"\"}}, \"type\": \"histogram\"}], \"histogram2d\": [{\"colorbar\": {\"outlinewidth\": 0, \"ticks\": \"\"}, \"colorscale\": [[0.0, \"#0d0887\"], [0.1111111111111111, \"#46039f\"], [0.2222222222222222, \"#7201a8\"], [0.3333333333333333, \"#9c179e\"], [0.4444444444444444, \"#bd3786\"], [0.5555555555555556, \"#d8576b\"], [0.6666666666666666, \"#ed7953\"], [0.7777777777777778, \"#fb9f3a\"], [0.8888888888888888, \"#fdca26\"], [1.0, \"#f0f921\"]], \"type\": \"histogram2d\"}], \"histogram2dcontour\": [{\"colorbar\": {\"outlinewidth\": 0, \"ticks\": \"\"}, \"colorscale\": [[0.0, \"#0d0887\"], [0.1111111111111111, \"#46039f\"], [0.2222222222222222, \"#7201a8\"], [0.3333333333333333, \"#9c179e\"], [0.4444444444444444, \"#bd3786\"], [0.5555555555555556, \"#d8576b\"], [0.6666666666666666, \"#ed7953\"], [0.7777777777777778, \"#fb9f3a\"], [0.8888888888888888, \"#fdca26\"], [1.0, \"#f0f921\"]], \"type\": \"histogram2dcontour\"}], \"mesh3d\": [{\"colorbar\": {\"outlinewidth\": 0, \"ticks\": \"\"}, \"type\": \"mesh3d\"}], \"parcoords\": [{\"line\": {\"colorbar\": {\"outlinewidth\": 0, \"ticks\": \"\"}}, \"type\": \"parcoords\"}], \"pie\": [{\"automargin\": true, \"type\": \"pie\"}], \"scatter\": [{\"marker\": {\"colorbar\": {\"outlinewidth\": 0, \"ticks\": \"\"}}, \"type\": \"scatter\"}], \"scatter3d\": [{\"line\": {\"colorbar\": {\"outlinewidth\": 0, \"ticks\": \"\"}}, \"marker\": {\"colorbar\": {\"outlinewidth\": 0, \"ticks\": \"\"}}, \"type\": \"scatter3d\"}], \"scattercarpet\": [{\"marker\": {\"colorbar\": {\"outlinewidth\": 0, \"ticks\": \"\"}}, \"type\": \"scattercarpet\"}], \"scattergeo\": [{\"marker\": {\"colorbar\": {\"outlinewidth\": 0, \"ticks\": \"\"}}, \"type\": \"scattergeo\"}], \"scattergl\": [{\"marker\": {\"colorbar\": {\"outlinewidth\": 0, \"ticks\": \"\"}}, \"type\": \"scattergl\"}], \"scattermapbox\": [{\"marker\": {\"colorbar\": {\"outlinewidth\": 0, \"ticks\": \"\"}}, \"type\": \"scattermapbox\"}], \"scatterpolar\": [{\"marker\": {\"colorbar\": {\"outlinewidth\": 0, \"ticks\": \"\"}}, \"type\": \"scatterpolar\"}], \"scatterpolargl\": [{\"marker\": {\"colorbar\": {\"outlinewidth\": 0, \"ticks\": \"\"}}, \"type\": \"scatterpolargl\"}], \"scatterternary\": [{\"marker\": {\"colorbar\": {\"outlinewidth\": 0, \"ticks\": \"\"}}, \"type\": \"scatterternary\"}], \"surface\": [{\"colorbar\": {\"outlinewidth\": 0, \"ticks\": \"\"}, \"colorscale\": [[0.0, \"#0d0887\"], [0.1111111111111111, \"#46039f\"], [0.2222222222222222, \"#7201a8\"], [0.3333333333333333, \"#9c179e\"], [0.4444444444444444, \"#bd3786\"], [0.5555555555555556, \"#d8576b\"], [0.6666666666666666, \"#ed7953\"], [0.7777777777777778, \"#fb9f3a\"], [0.8888888888888888, \"#fdca26\"], [1.0, \"#f0f921\"]], \"type\": \"surface\"}], \"table\": [{\"cells\": {\"fill\": {\"color\": \"#EBF0F8\"}, \"line\": {\"color\": \"white\"}}, \"header\": {\"fill\": {\"color\": \"#C8D4E3\"}, \"line\": {\"color\": \"white\"}}, \"type\": \"table\"}]}, \"layout\": {\"annotationdefaults\": {\"arrowcolor\": \"#2a3f5f\", \"arrowhead\": 0, \"arrowwidth\": 1}, \"autotypenumbers\": \"strict\", \"coloraxis\": {\"colorbar\": {\"outlinewidth\": 0, \"ticks\": \"\"}}, \"colorscale\": {\"diverging\": [[0, \"#8e0152\"], [0.1, \"#c51b7d\"], [0.2, \"#de77ae\"], [0.3, \"#f1b6da\"], [0.4, \"#fde0ef\"], [0.5, \"#f7f7f7\"], [0.6, \"#e6f5d0\"], [0.7, \"#b8e186\"], [0.8, \"#7fbc41\"], [0.9, \"#4d9221\"], [1, \"#276419\"]], \"sequential\": [[0.0, \"#0d0887\"], [0.1111111111111111, \"#46039f\"], [0.2222222222222222, \"#7201a8\"], [0.3333333333333333, \"#9c179e\"], [0.4444444444444444, \"#bd3786\"], [0.5555555555555556, \"#d8576b\"], [0.6666666666666666, \"#ed7953\"], [0.7777777777777778, \"#fb9f3a\"], [0.8888888888888888, \"#fdca26\"], [1.0, \"#f0f921\"]], \"sequentialminus\": [[0.0, \"#0d0887\"], [0.1111111111111111, \"#46039f\"], [0.2222222222222222, \"#7201a8\"], [0.3333333333333333, \"#9c179e\"], [0.4444444444444444, \"#bd3786\"], [0.5555555555555556, \"#d8576b\"], [0.6666666666666666, \"#ed7953\"], [0.7777777777777778, \"#fb9f3a\"], [0.8888888888888888, \"#fdca26\"], [1.0, \"#f0f921\"]]}, \"colorway\": [\"#636efa\", \"#EF553B\", \"#00cc96\", \"#ab63fa\", \"#FFA15A\", \"#19d3f3\", \"#FF6692\", \"#B6E880\", \"#FF97FF\", \"#FECB52\"], \"font\": {\"color\": \"#2a3f5f\"}, \"geo\": {\"bgcolor\": \"white\", \"lakecolor\": \"white\", \"landcolor\": \"#E5ECF6\", \"showlakes\": true, \"showland\": true, \"subunitcolor\": \"white\"}, \"hoverlabel\": {\"align\": \"left\"}, \"hovermode\": \"closest\", \"mapbox\": {\"style\": \"light\"}, \"paper_bgcolor\": \"white\", \"plot_bgcolor\": \"#E5ECF6\", \"polar\": {\"angularaxis\": {\"gridcolor\": \"white\", \"linecolor\": \"white\", \"ticks\": \"\"}, \"bgcolor\": \"#E5ECF6\", \"radialaxis\": {\"gridcolor\": \"white\", \"linecolor\": \"white\", \"ticks\": \"\"}}, \"scene\": {\"xaxis\": {\"backgroundcolor\": \"#E5ECF6\", \"gridcolor\": \"white\", \"gridwidth\": 2, \"linecolor\": \"white\", \"showbackground\": true, \"ticks\": \"\", \"zerolinecolor\": \"white\"}, \"yaxis\": {\"backgroundcolor\": \"#E5ECF6\", \"gridcolor\": \"white\", \"gridwidth\": 2, \"linecolor\": \"white\", \"showbackground\": true, \"ticks\": \"\", \"zerolinecolor\": \"white\"}, \"zaxis\": {\"backgroundcolor\": \"#E5ECF6\", \"gridcolor\": \"white\", \"gridwidth\": 2, \"linecolor\": \"white\", \"showbackground\": true, \"ticks\": \"\", \"zerolinecolor\": \"white\"}}, \"shapedefaults\": {\"line\": {\"color\": \"#2a3f5f\"}}, \"ternary\": {\"aaxis\": {\"gridcolor\": \"white\", \"linecolor\": \"white\", \"ticks\": \"\"}, \"baxis\": {\"gridcolor\": \"white\", \"linecolor\": \"white\", \"ticks\": \"\"}, \"bgcolor\": \"#E5ECF6\", \"caxis\": {\"gridcolor\": \"white\", \"linecolor\": \"white\", \"ticks\": \"\"}}, \"title\": {\"x\": 0.05}, \"xaxis\": {\"automargin\": true, \"gridcolor\": \"white\", \"linecolor\": \"white\", \"ticks\": \"\", \"title\": {\"standoff\": 15}, \"zerolinecolor\": \"white\", \"zerolinewidth\": 2}, \"yaxis\": {\"automargin\": true, \"gridcolor\": \"white\", \"linecolor\": \"white\", \"ticks\": \"\", \"title\": {\"standoff\": 15}, \"zerolinecolor\": \"white\", \"zerolinewidth\": 2}}}, \"title\": {\"text\": \"FCK x Percentual Crescimento\"}, \"xaxis\": {\"anchor\": \"y\", \"domain\": [0.0, 1.0], \"title\": {\"text\": \"FCK\"}}, \"yaxis\": {\"anchor\": \"x\", \"domain\": [0.0, 1.0], \"title\": {\"text\": \"PercentualCrescimentoReal\"}}},                        {\"responsive\": true}                    ).then(function(){\n",
       "                            \n",
       "var gd = document.getElementById('5e8fa047-3c3b-4807-8d6b-ba184295e96e');\n",
       "var x = new MutationObserver(function (mutations, observer) {{\n",
       "        var display = window.getComputedStyle(gd).display;\n",
       "        if (!display || display === 'none') {{\n",
       "            console.log([gd, 'removed!']);\n",
       "            Plotly.purge(gd);\n",
       "            observer.disconnect();\n",
       "        }}\n",
       "}});\n",
       "\n",
       "// Listen for the removal of the full notebook cells\n",
       "var notebookContainer = gd.closest('#notebook-container');\n",
       "if (notebookContainer) {{\n",
       "    x.observe(notebookContainer, {childList: true});\n",
       "}}\n",
       "\n",
       "// Listen for the clearing of the current output cell\n",
       "var outputEl = gd.closest('.output');\n",
       "if (outputEl) {{\n",
       "    x.observe(outputEl, {childList: true});\n",
       "}}\n",
       "\n",
       "                        })                };                });            </script>        </div>"
      ]
     },
     "metadata": {},
     "output_type": "display_data"
    }
   ],
   "source": [
    "fig = px.box(dados_da, x=\"FCK\", y=\"PercentualCrescimentoReal\", title='FCK x Percentual Crescimento')\n",
    "fig.show()"
   ]
  },
  {
   "cell_type": "code",
   "execution_count": 133,
   "metadata": {},
   "outputs": [
    {
     "data": {
      "application/vnd.plotly.v1+json": {
       "config": {
        "plotlyServerURL": "https://plot.ly"
       },
       "data": [
        {
         "hovertemplate": "Rompimento7Dias=%{x}<br>PercentualCrescimentoReal=%{y}<extra></extra>",
         "legendgroup": "",
         "marker": {
          "color": "#636efa",
          "symbol": "circle"
         },
         "mode": "markers",
         "name": "",
         "orientation": "v",
         "showlegend": false,
         "type": "scatter",
         "x": [
          28.67,
          34.54,
          32.46,
          32.04,
          30.88,
          20.9,
          28.44,
          28.15,
          27.83,
          26.47,
          26.83,
          27.93,
          20.05,
          20.14,
          34.38,
          31.16,
          28.73,
          23.58,
          28.88,
          28.91,
          30.04,
          33.38
         ],
         "xaxis": "x",
         "y": [
          31.112661318451337,
          23.393167342211928,
          30.83795440542205,
          36.67290886392009,
          30.66709844559585,
          30.765550239234443,
          34.91561181434597,
          35.48845470692719,
          45.56234279554439,
          21.57159047978845,
          32.57547521431234,
          33.94199785177228,
          43.341645885286766,
          54.66732869910624,
          33.216986620127955,
          34.82028241335045,
          39.157674904281244,
          44.48685326547923,
          35.66481994459833,
          31.753718436527173,
          29.360852197070564,
          21.210305572198923
         ],
         "yaxis": "y"
        }
       ],
       "layout": {
        "legend": {
         "tracegroupgap": 0
        },
        "template": {
         "data": {
          "bar": [
           {
            "error_x": {
             "color": "#2a3f5f"
            },
            "error_y": {
             "color": "#2a3f5f"
            },
            "marker": {
             "line": {
              "color": "#E5ECF6",
              "width": 0.5
             }
            },
            "type": "bar"
           }
          ],
          "barpolar": [
           {
            "marker": {
             "line": {
              "color": "#E5ECF6",
              "width": 0.5
             }
            },
            "type": "barpolar"
           }
          ],
          "carpet": [
           {
            "aaxis": {
             "endlinecolor": "#2a3f5f",
             "gridcolor": "white",
             "linecolor": "white",
             "minorgridcolor": "white",
             "startlinecolor": "#2a3f5f"
            },
            "baxis": {
             "endlinecolor": "#2a3f5f",
             "gridcolor": "white",
             "linecolor": "white",
             "minorgridcolor": "white",
             "startlinecolor": "#2a3f5f"
            },
            "type": "carpet"
           }
          ],
          "choropleth": [
           {
            "colorbar": {
             "outlinewidth": 0,
             "ticks": ""
            },
            "type": "choropleth"
           }
          ],
          "contour": [
           {
            "colorbar": {
             "outlinewidth": 0,
             "ticks": ""
            },
            "colorscale": [
             [
              0,
              "#0d0887"
             ],
             [
              0.1111111111111111,
              "#46039f"
             ],
             [
              0.2222222222222222,
              "#7201a8"
             ],
             [
              0.3333333333333333,
              "#9c179e"
             ],
             [
              0.4444444444444444,
              "#bd3786"
             ],
             [
              0.5555555555555556,
              "#d8576b"
             ],
             [
              0.6666666666666666,
              "#ed7953"
             ],
             [
              0.7777777777777778,
              "#fb9f3a"
             ],
             [
              0.8888888888888888,
              "#fdca26"
             ],
             [
              1,
              "#f0f921"
             ]
            ],
            "type": "contour"
           }
          ],
          "contourcarpet": [
           {
            "colorbar": {
             "outlinewidth": 0,
             "ticks": ""
            },
            "type": "contourcarpet"
           }
          ],
          "heatmap": [
           {
            "colorbar": {
             "outlinewidth": 0,
             "ticks": ""
            },
            "colorscale": [
             [
              0,
              "#0d0887"
             ],
             [
              0.1111111111111111,
              "#46039f"
             ],
             [
              0.2222222222222222,
              "#7201a8"
             ],
             [
              0.3333333333333333,
              "#9c179e"
             ],
             [
              0.4444444444444444,
              "#bd3786"
             ],
             [
              0.5555555555555556,
              "#d8576b"
             ],
             [
              0.6666666666666666,
              "#ed7953"
             ],
             [
              0.7777777777777778,
              "#fb9f3a"
             ],
             [
              0.8888888888888888,
              "#fdca26"
             ],
             [
              1,
              "#f0f921"
             ]
            ],
            "type": "heatmap"
           }
          ],
          "heatmapgl": [
           {
            "colorbar": {
             "outlinewidth": 0,
             "ticks": ""
            },
            "colorscale": [
             [
              0,
              "#0d0887"
             ],
             [
              0.1111111111111111,
              "#46039f"
             ],
             [
              0.2222222222222222,
              "#7201a8"
             ],
             [
              0.3333333333333333,
              "#9c179e"
             ],
             [
              0.4444444444444444,
              "#bd3786"
             ],
             [
              0.5555555555555556,
              "#d8576b"
             ],
             [
              0.6666666666666666,
              "#ed7953"
             ],
             [
              0.7777777777777778,
              "#fb9f3a"
             ],
             [
              0.8888888888888888,
              "#fdca26"
             ],
             [
              1,
              "#f0f921"
             ]
            ],
            "type": "heatmapgl"
           }
          ],
          "histogram": [
           {
            "marker": {
             "colorbar": {
              "outlinewidth": 0,
              "ticks": ""
             }
            },
            "type": "histogram"
           }
          ],
          "histogram2d": [
           {
            "colorbar": {
             "outlinewidth": 0,
             "ticks": ""
            },
            "colorscale": [
             [
              0,
              "#0d0887"
             ],
             [
              0.1111111111111111,
              "#46039f"
             ],
             [
              0.2222222222222222,
              "#7201a8"
             ],
             [
              0.3333333333333333,
              "#9c179e"
             ],
             [
              0.4444444444444444,
              "#bd3786"
             ],
             [
              0.5555555555555556,
              "#d8576b"
             ],
             [
              0.6666666666666666,
              "#ed7953"
             ],
             [
              0.7777777777777778,
              "#fb9f3a"
             ],
             [
              0.8888888888888888,
              "#fdca26"
             ],
             [
              1,
              "#f0f921"
             ]
            ],
            "type": "histogram2d"
           }
          ],
          "histogram2dcontour": [
           {
            "colorbar": {
             "outlinewidth": 0,
             "ticks": ""
            },
            "colorscale": [
             [
              0,
              "#0d0887"
             ],
             [
              0.1111111111111111,
              "#46039f"
             ],
             [
              0.2222222222222222,
              "#7201a8"
             ],
             [
              0.3333333333333333,
              "#9c179e"
             ],
             [
              0.4444444444444444,
              "#bd3786"
             ],
             [
              0.5555555555555556,
              "#d8576b"
             ],
             [
              0.6666666666666666,
              "#ed7953"
             ],
             [
              0.7777777777777778,
              "#fb9f3a"
             ],
             [
              0.8888888888888888,
              "#fdca26"
             ],
             [
              1,
              "#f0f921"
             ]
            ],
            "type": "histogram2dcontour"
           }
          ],
          "mesh3d": [
           {
            "colorbar": {
             "outlinewidth": 0,
             "ticks": ""
            },
            "type": "mesh3d"
           }
          ],
          "parcoords": [
           {
            "line": {
             "colorbar": {
              "outlinewidth": 0,
              "ticks": ""
             }
            },
            "type": "parcoords"
           }
          ],
          "pie": [
           {
            "automargin": true,
            "type": "pie"
           }
          ],
          "scatter": [
           {
            "marker": {
             "colorbar": {
              "outlinewidth": 0,
              "ticks": ""
             }
            },
            "type": "scatter"
           }
          ],
          "scatter3d": [
           {
            "line": {
             "colorbar": {
              "outlinewidth": 0,
              "ticks": ""
             }
            },
            "marker": {
             "colorbar": {
              "outlinewidth": 0,
              "ticks": ""
             }
            },
            "type": "scatter3d"
           }
          ],
          "scattercarpet": [
           {
            "marker": {
             "colorbar": {
              "outlinewidth": 0,
              "ticks": ""
             }
            },
            "type": "scattercarpet"
           }
          ],
          "scattergeo": [
           {
            "marker": {
             "colorbar": {
              "outlinewidth": 0,
              "ticks": ""
             }
            },
            "type": "scattergeo"
           }
          ],
          "scattergl": [
           {
            "marker": {
             "colorbar": {
              "outlinewidth": 0,
              "ticks": ""
             }
            },
            "type": "scattergl"
           }
          ],
          "scattermapbox": [
           {
            "marker": {
             "colorbar": {
              "outlinewidth": 0,
              "ticks": ""
             }
            },
            "type": "scattermapbox"
           }
          ],
          "scatterpolar": [
           {
            "marker": {
             "colorbar": {
              "outlinewidth": 0,
              "ticks": ""
             }
            },
            "type": "scatterpolar"
           }
          ],
          "scatterpolargl": [
           {
            "marker": {
             "colorbar": {
              "outlinewidth": 0,
              "ticks": ""
             }
            },
            "type": "scatterpolargl"
           }
          ],
          "scatterternary": [
           {
            "marker": {
             "colorbar": {
              "outlinewidth": 0,
              "ticks": ""
             }
            },
            "type": "scatterternary"
           }
          ],
          "surface": [
           {
            "colorbar": {
             "outlinewidth": 0,
             "ticks": ""
            },
            "colorscale": [
             [
              0,
              "#0d0887"
             ],
             [
              0.1111111111111111,
              "#46039f"
             ],
             [
              0.2222222222222222,
              "#7201a8"
             ],
             [
              0.3333333333333333,
              "#9c179e"
             ],
             [
              0.4444444444444444,
              "#bd3786"
             ],
             [
              0.5555555555555556,
              "#d8576b"
             ],
             [
              0.6666666666666666,
              "#ed7953"
             ],
             [
              0.7777777777777778,
              "#fb9f3a"
             ],
             [
              0.8888888888888888,
              "#fdca26"
             ],
             [
              1,
              "#f0f921"
             ]
            ],
            "type": "surface"
           }
          ],
          "table": [
           {
            "cells": {
             "fill": {
              "color": "#EBF0F8"
             },
             "line": {
              "color": "white"
             }
            },
            "header": {
             "fill": {
              "color": "#C8D4E3"
             },
             "line": {
              "color": "white"
             }
            },
            "type": "table"
           }
          ]
         },
         "layout": {
          "annotationdefaults": {
           "arrowcolor": "#2a3f5f",
           "arrowhead": 0,
           "arrowwidth": 1
          },
          "autotypenumbers": "strict",
          "coloraxis": {
           "colorbar": {
            "outlinewidth": 0,
            "ticks": ""
           }
          },
          "colorscale": {
           "diverging": [
            [
             0,
             "#8e0152"
            ],
            [
             0.1,
             "#c51b7d"
            ],
            [
             0.2,
             "#de77ae"
            ],
            [
             0.3,
             "#f1b6da"
            ],
            [
             0.4,
             "#fde0ef"
            ],
            [
             0.5,
             "#f7f7f7"
            ],
            [
             0.6,
             "#e6f5d0"
            ],
            [
             0.7,
             "#b8e186"
            ],
            [
             0.8,
             "#7fbc41"
            ],
            [
             0.9,
             "#4d9221"
            ],
            [
             1,
             "#276419"
            ]
           ],
           "sequential": [
            [
             0,
             "#0d0887"
            ],
            [
             0.1111111111111111,
             "#46039f"
            ],
            [
             0.2222222222222222,
             "#7201a8"
            ],
            [
             0.3333333333333333,
             "#9c179e"
            ],
            [
             0.4444444444444444,
             "#bd3786"
            ],
            [
             0.5555555555555556,
             "#d8576b"
            ],
            [
             0.6666666666666666,
             "#ed7953"
            ],
            [
             0.7777777777777778,
             "#fb9f3a"
            ],
            [
             0.8888888888888888,
             "#fdca26"
            ],
            [
             1,
             "#f0f921"
            ]
           ],
           "sequentialminus": [
            [
             0,
             "#0d0887"
            ],
            [
             0.1111111111111111,
             "#46039f"
            ],
            [
             0.2222222222222222,
             "#7201a8"
            ],
            [
             0.3333333333333333,
             "#9c179e"
            ],
            [
             0.4444444444444444,
             "#bd3786"
            ],
            [
             0.5555555555555556,
             "#d8576b"
            ],
            [
             0.6666666666666666,
             "#ed7953"
            ],
            [
             0.7777777777777778,
             "#fb9f3a"
            ],
            [
             0.8888888888888888,
             "#fdca26"
            ],
            [
             1,
             "#f0f921"
            ]
           ]
          },
          "colorway": [
           "#636efa",
           "#EF553B",
           "#00cc96",
           "#ab63fa",
           "#FFA15A",
           "#19d3f3",
           "#FF6692",
           "#B6E880",
           "#FF97FF",
           "#FECB52"
          ],
          "font": {
           "color": "#2a3f5f"
          },
          "geo": {
           "bgcolor": "white",
           "lakecolor": "white",
           "landcolor": "#E5ECF6",
           "showlakes": true,
           "showland": true,
           "subunitcolor": "white"
          },
          "hoverlabel": {
           "align": "left"
          },
          "hovermode": "closest",
          "mapbox": {
           "style": "light"
          },
          "paper_bgcolor": "white",
          "plot_bgcolor": "#E5ECF6",
          "polar": {
           "angularaxis": {
            "gridcolor": "white",
            "linecolor": "white",
            "ticks": ""
           },
           "bgcolor": "#E5ECF6",
           "radialaxis": {
            "gridcolor": "white",
            "linecolor": "white",
            "ticks": ""
           }
          },
          "scene": {
           "xaxis": {
            "backgroundcolor": "#E5ECF6",
            "gridcolor": "white",
            "gridwidth": 2,
            "linecolor": "white",
            "showbackground": true,
            "ticks": "",
            "zerolinecolor": "white"
           },
           "yaxis": {
            "backgroundcolor": "#E5ECF6",
            "gridcolor": "white",
            "gridwidth": 2,
            "linecolor": "white",
            "showbackground": true,
            "ticks": "",
            "zerolinecolor": "white"
           },
           "zaxis": {
            "backgroundcolor": "#E5ECF6",
            "gridcolor": "white",
            "gridwidth": 2,
            "linecolor": "white",
            "showbackground": true,
            "ticks": "",
            "zerolinecolor": "white"
           }
          },
          "shapedefaults": {
           "line": {
            "color": "#2a3f5f"
           }
          },
          "ternary": {
           "aaxis": {
            "gridcolor": "white",
            "linecolor": "white",
            "ticks": ""
           },
           "baxis": {
            "gridcolor": "white",
            "linecolor": "white",
            "ticks": ""
           },
           "bgcolor": "#E5ECF6",
           "caxis": {
            "gridcolor": "white",
            "linecolor": "white",
            "ticks": ""
           }
          },
          "title": {
           "x": 0.05
          },
          "xaxis": {
           "automargin": true,
           "gridcolor": "white",
           "linecolor": "white",
           "ticks": "",
           "title": {
            "standoff": 15
           },
           "zerolinecolor": "white",
           "zerolinewidth": 2
          },
          "yaxis": {
           "automargin": true,
           "gridcolor": "white",
           "linecolor": "white",
           "ticks": "",
           "title": {
            "standoff": 15
           },
           "zerolinecolor": "white",
           "zerolinewidth": 2
          }
         }
        },
        "title": {
         "text": "Rompimento 7 Dias x Percentual Crescimento"
        },
        "xaxis": {
         "anchor": "y",
         "domain": [
          0,
          1
         ],
         "title": {
          "text": "Rompimento7Dias"
         }
        },
        "yaxis": {
         "anchor": "x",
         "domain": [
          0,
          1
         ],
         "title": {
          "text": "PercentualCrescimentoReal"
         }
        }
       }
      },
      "text/html": [
       "<div>                            <div id=\"11223ed7-6766-4cf3-966e-4c0010f513f8\" class=\"plotly-graph-div\" style=\"height:525px; width:100%;\"></div>            <script type=\"text/javascript\">                require([\"plotly\"], function(Plotly) {                    window.PLOTLYENV=window.PLOTLYENV || {};                                    if (document.getElementById(\"11223ed7-6766-4cf3-966e-4c0010f513f8\")) {                    Plotly.newPlot(                        \"11223ed7-6766-4cf3-966e-4c0010f513f8\",                        [{\"hovertemplate\": \"Rompimento7Dias=%{x}<br>PercentualCrescimentoReal=%{y}<extra></extra>\", \"legendgroup\": \"\", \"marker\": {\"color\": \"#636efa\", \"symbol\": \"circle\"}, \"mode\": \"markers\", \"name\": \"\", \"orientation\": \"v\", \"showlegend\": false, \"type\": \"scatter\", \"x\": [28.67, 34.54, 32.46, 32.04, 30.88, 20.9, 28.44, 28.15, 27.83, 26.47, 26.83, 27.93, 20.05, 20.14, 34.38, 31.16, 28.73, 23.58, 28.88, 28.91, 30.04, 33.38], \"xaxis\": \"x\", \"y\": [31.112661318451337, 23.393167342211928, 30.83795440542205, 36.67290886392009, 30.66709844559585, 30.765550239234443, 34.91561181434597, 35.48845470692719, 45.56234279554439, 21.57159047978845, 32.57547521431234, 33.94199785177228, 43.341645885286766, 54.66732869910624, 33.216986620127955, 34.82028241335045, 39.157674904281244, 44.48685326547923, 35.66481994459833, 31.753718436527173, 29.360852197070564, 21.210305572198923], \"yaxis\": \"y\"}],                        {\"legend\": {\"tracegroupgap\": 0}, \"template\": {\"data\": {\"bar\": [{\"error_x\": {\"color\": \"#2a3f5f\"}, \"error_y\": {\"color\": \"#2a3f5f\"}, \"marker\": {\"line\": {\"color\": \"#E5ECF6\", \"width\": 0.5}}, \"type\": \"bar\"}], \"barpolar\": [{\"marker\": {\"line\": {\"color\": \"#E5ECF6\", \"width\": 0.5}}, \"type\": \"barpolar\"}], \"carpet\": [{\"aaxis\": {\"endlinecolor\": \"#2a3f5f\", \"gridcolor\": \"white\", \"linecolor\": \"white\", \"minorgridcolor\": \"white\", \"startlinecolor\": \"#2a3f5f\"}, \"baxis\": {\"endlinecolor\": \"#2a3f5f\", \"gridcolor\": \"white\", \"linecolor\": \"white\", \"minorgridcolor\": \"white\", \"startlinecolor\": \"#2a3f5f\"}, \"type\": \"carpet\"}], \"choropleth\": [{\"colorbar\": {\"outlinewidth\": 0, \"ticks\": \"\"}, \"type\": \"choropleth\"}], \"contour\": [{\"colorbar\": {\"outlinewidth\": 0, \"ticks\": \"\"}, \"colorscale\": [[0.0, \"#0d0887\"], [0.1111111111111111, \"#46039f\"], [0.2222222222222222, \"#7201a8\"], [0.3333333333333333, \"#9c179e\"], [0.4444444444444444, \"#bd3786\"], [0.5555555555555556, \"#d8576b\"], [0.6666666666666666, \"#ed7953\"], [0.7777777777777778, \"#fb9f3a\"], [0.8888888888888888, \"#fdca26\"], [1.0, \"#f0f921\"]], \"type\": \"contour\"}], \"contourcarpet\": [{\"colorbar\": {\"outlinewidth\": 0, \"ticks\": \"\"}, \"type\": \"contourcarpet\"}], \"heatmap\": [{\"colorbar\": {\"outlinewidth\": 0, \"ticks\": \"\"}, \"colorscale\": [[0.0, \"#0d0887\"], [0.1111111111111111, \"#46039f\"], [0.2222222222222222, \"#7201a8\"], [0.3333333333333333, \"#9c179e\"], [0.4444444444444444, \"#bd3786\"], [0.5555555555555556, \"#d8576b\"], [0.6666666666666666, \"#ed7953\"], [0.7777777777777778, \"#fb9f3a\"], [0.8888888888888888, \"#fdca26\"], [1.0, \"#f0f921\"]], \"type\": \"heatmap\"}], \"heatmapgl\": [{\"colorbar\": {\"outlinewidth\": 0, \"ticks\": \"\"}, \"colorscale\": [[0.0, \"#0d0887\"], [0.1111111111111111, \"#46039f\"], [0.2222222222222222, \"#7201a8\"], [0.3333333333333333, \"#9c179e\"], [0.4444444444444444, \"#bd3786\"], [0.5555555555555556, \"#d8576b\"], [0.6666666666666666, \"#ed7953\"], [0.7777777777777778, \"#fb9f3a\"], [0.8888888888888888, \"#fdca26\"], [1.0, \"#f0f921\"]], \"type\": \"heatmapgl\"}], \"histogram\": [{\"marker\": {\"colorbar\": {\"outlinewidth\": 0, \"ticks\": \"\"}}, \"type\": \"histogram\"}], \"histogram2d\": [{\"colorbar\": {\"outlinewidth\": 0, \"ticks\": \"\"}, \"colorscale\": [[0.0, \"#0d0887\"], [0.1111111111111111, \"#46039f\"], [0.2222222222222222, \"#7201a8\"], [0.3333333333333333, \"#9c179e\"], [0.4444444444444444, \"#bd3786\"], [0.5555555555555556, \"#d8576b\"], [0.6666666666666666, \"#ed7953\"], [0.7777777777777778, \"#fb9f3a\"], [0.8888888888888888, \"#fdca26\"], [1.0, \"#f0f921\"]], \"type\": \"histogram2d\"}], \"histogram2dcontour\": [{\"colorbar\": {\"outlinewidth\": 0, \"ticks\": \"\"}, \"colorscale\": [[0.0, \"#0d0887\"], [0.1111111111111111, \"#46039f\"], [0.2222222222222222, \"#7201a8\"], [0.3333333333333333, \"#9c179e\"], [0.4444444444444444, \"#bd3786\"], [0.5555555555555556, \"#d8576b\"], [0.6666666666666666, \"#ed7953\"], [0.7777777777777778, \"#fb9f3a\"], [0.8888888888888888, \"#fdca26\"], [1.0, \"#f0f921\"]], \"type\": \"histogram2dcontour\"}], \"mesh3d\": [{\"colorbar\": {\"outlinewidth\": 0, \"ticks\": \"\"}, \"type\": \"mesh3d\"}], \"parcoords\": [{\"line\": {\"colorbar\": {\"outlinewidth\": 0, \"ticks\": \"\"}}, \"type\": \"parcoords\"}], \"pie\": [{\"automargin\": true, \"type\": \"pie\"}], \"scatter\": [{\"marker\": {\"colorbar\": {\"outlinewidth\": 0, \"ticks\": \"\"}}, \"type\": \"scatter\"}], \"scatter3d\": [{\"line\": {\"colorbar\": {\"outlinewidth\": 0, \"ticks\": \"\"}}, \"marker\": {\"colorbar\": {\"outlinewidth\": 0, \"ticks\": \"\"}}, \"type\": \"scatter3d\"}], \"scattercarpet\": [{\"marker\": {\"colorbar\": {\"outlinewidth\": 0, \"ticks\": \"\"}}, \"type\": \"scattercarpet\"}], \"scattergeo\": [{\"marker\": {\"colorbar\": {\"outlinewidth\": 0, \"ticks\": \"\"}}, \"type\": \"scattergeo\"}], \"scattergl\": [{\"marker\": {\"colorbar\": {\"outlinewidth\": 0, \"ticks\": \"\"}}, \"type\": \"scattergl\"}], \"scattermapbox\": [{\"marker\": {\"colorbar\": {\"outlinewidth\": 0, \"ticks\": \"\"}}, \"type\": \"scattermapbox\"}], \"scatterpolar\": [{\"marker\": {\"colorbar\": {\"outlinewidth\": 0, \"ticks\": \"\"}}, \"type\": \"scatterpolar\"}], \"scatterpolargl\": [{\"marker\": {\"colorbar\": {\"outlinewidth\": 0, \"ticks\": \"\"}}, \"type\": \"scatterpolargl\"}], \"scatterternary\": [{\"marker\": {\"colorbar\": {\"outlinewidth\": 0, \"ticks\": \"\"}}, \"type\": \"scatterternary\"}], \"surface\": [{\"colorbar\": {\"outlinewidth\": 0, \"ticks\": \"\"}, \"colorscale\": [[0.0, \"#0d0887\"], [0.1111111111111111, \"#46039f\"], [0.2222222222222222, \"#7201a8\"], [0.3333333333333333, \"#9c179e\"], [0.4444444444444444, \"#bd3786\"], [0.5555555555555556, \"#d8576b\"], [0.6666666666666666, \"#ed7953\"], [0.7777777777777778, \"#fb9f3a\"], [0.8888888888888888, \"#fdca26\"], [1.0, \"#f0f921\"]], \"type\": \"surface\"}], \"table\": [{\"cells\": {\"fill\": {\"color\": \"#EBF0F8\"}, \"line\": {\"color\": \"white\"}}, \"header\": {\"fill\": {\"color\": \"#C8D4E3\"}, \"line\": {\"color\": \"white\"}}, \"type\": \"table\"}]}, \"layout\": {\"annotationdefaults\": {\"arrowcolor\": \"#2a3f5f\", \"arrowhead\": 0, \"arrowwidth\": 1}, \"autotypenumbers\": \"strict\", \"coloraxis\": {\"colorbar\": {\"outlinewidth\": 0, \"ticks\": \"\"}}, \"colorscale\": {\"diverging\": [[0, \"#8e0152\"], [0.1, \"#c51b7d\"], [0.2, \"#de77ae\"], [0.3, \"#f1b6da\"], [0.4, \"#fde0ef\"], [0.5, \"#f7f7f7\"], [0.6, \"#e6f5d0\"], [0.7, \"#b8e186\"], [0.8, \"#7fbc41\"], [0.9, \"#4d9221\"], [1, \"#276419\"]], \"sequential\": [[0.0, \"#0d0887\"], [0.1111111111111111, \"#46039f\"], [0.2222222222222222, \"#7201a8\"], [0.3333333333333333, \"#9c179e\"], [0.4444444444444444, \"#bd3786\"], [0.5555555555555556, \"#d8576b\"], [0.6666666666666666, \"#ed7953\"], [0.7777777777777778, \"#fb9f3a\"], [0.8888888888888888, \"#fdca26\"], [1.0, \"#f0f921\"]], \"sequentialminus\": [[0.0, \"#0d0887\"], [0.1111111111111111, \"#46039f\"], [0.2222222222222222, \"#7201a8\"], [0.3333333333333333, \"#9c179e\"], [0.4444444444444444, \"#bd3786\"], [0.5555555555555556, \"#d8576b\"], [0.6666666666666666, \"#ed7953\"], [0.7777777777777778, \"#fb9f3a\"], [0.8888888888888888, \"#fdca26\"], [1.0, \"#f0f921\"]]}, \"colorway\": [\"#636efa\", \"#EF553B\", \"#00cc96\", \"#ab63fa\", \"#FFA15A\", \"#19d3f3\", \"#FF6692\", \"#B6E880\", \"#FF97FF\", \"#FECB52\"], \"font\": {\"color\": \"#2a3f5f\"}, \"geo\": {\"bgcolor\": \"white\", \"lakecolor\": \"white\", \"landcolor\": \"#E5ECF6\", \"showlakes\": true, \"showland\": true, \"subunitcolor\": \"white\"}, \"hoverlabel\": {\"align\": \"left\"}, \"hovermode\": \"closest\", \"mapbox\": {\"style\": \"light\"}, \"paper_bgcolor\": \"white\", \"plot_bgcolor\": \"#E5ECF6\", \"polar\": {\"angularaxis\": {\"gridcolor\": \"white\", \"linecolor\": \"white\", \"ticks\": \"\"}, \"bgcolor\": \"#E5ECF6\", \"radialaxis\": {\"gridcolor\": \"white\", \"linecolor\": \"white\", \"ticks\": \"\"}}, \"scene\": {\"xaxis\": {\"backgroundcolor\": \"#E5ECF6\", \"gridcolor\": \"white\", \"gridwidth\": 2, \"linecolor\": \"white\", \"showbackground\": true, \"ticks\": \"\", \"zerolinecolor\": \"white\"}, \"yaxis\": {\"backgroundcolor\": \"#E5ECF6\", \"gridcolor\": \"white\", \"gridwidth\": 2, \"linecolor\": \"white\", \"showbackground\": true, \"ticks\": \"\", \"zerolinecolor\": \"white\"}, \"zaxis\": {\"backgroundcolor\": \"#E5ECF6\", \"gridcolor\": \"white\", \"gridwidth\": 2, \"linecolor\": \"white\", \"showbackground\": true, \"ticks\": \"\", \"zerolinecolor\": \"white\"}}, \"shapedefaults\": {\"line\": {\"color\": \"#2a3f5f\"}}, \"ternary\": {\"aaxis\": {\"gridcolor\": \"white\", \"linecolor\": \"white\", \"ticks\": \"\"}, \"baxis\": {\"gridcolor\": \"white\", \"linecolor\": \"white\", \"ticks\": \"\"}, \"bgcolor\": \"#E5ECF6\", \"caxis\": {\"gridcolor\": \"white\", \"linecolor\": \"white\", \"ticks\": \"\"}}, \"title\": {\"x\": 0.05}, \"xaxis\": {\"automargin\": true, \"gridcolor\": \"white\", \"linecolor\": \"white\", \"ticks\": \"\", \"title\": {\"standoff\": 15}, \"zerolinecolor\": \"white\", \"zerolinewidth\": 2}, \"yaxis\": {\"automargin\": true, \"gridcolor\": \"white\", \"linecolor\": \"white\", \"ticks\": \"\", \"title\": {\"standoff\": 15}, \"zerolinecolor\": \"white\", \"zerolinewidth\": 2}}}, \"title\": {\"text\": \"Rompimento 7 Dias x Percentual Crescimento\"}, \"xaxis\": {\"anchor\": \"y\", \"domain\": [0.0, 1.0], \"title\": {\"text\": \"Rompimento7Dias\"}}, \"yaxis\": {\"anchor\": \"x\", \"domain\": [0.0, 1.0], \"title\": {\"text\": \"PercentualCrescimentoReal\"}}},                        {\"responsive\": true}                    ).then(function(){\n",
       "                            \n",
       "var gd = document.getElementById('11223ed7-6766-4cf3-966e-4c0010f513f8');\n",
       "var x = new MutationObserver(function (mutations, observer) {{\n",
       "        var display = window.getComputedStyle(gd).display;\n",
       "        if (!display || display === 'none') {{\n",
       "            console.log([gd, 'removed!']);\n",
       "            Plotly.purge(gd);\n",
       "            observer.disconnect();\n",
       "        }}\n",
       "}});\n",
       "\n",
       "// Listen for the removal of the full notebook cells\n",
       "var notebookContainer = gd.closest('#notebook-container');\n",
       "if (notebookContainer) {{\n",
       "    x.observe(notebookContainer, {childList: true});\n",
       "}}\n",
       "\n",
       "// Listen for the clearing of the current output cell\n",
       "var outputEl = gd.closest('.output');\n",
       "if (outputEl) {{\n",
       "    x.observe(outputEl, {childList: true});\n",
       "}}\n",
       "\n",
       "                        })                };                });            </script>        </div>"
      ]
     },
     "metadata": {},
     "output_type": "display_data"
    }
   ],
   "source": [
    "fig = px.scatter(dados_da, x=\"Rompimento7Dias\", y=\"PercentualCrescimentoReal\", title='Rompimento 7 Dias x Percentual Crescimento')\n",
    "fig.show()"
   ]
  },
  {
   "cell_type": "code",
   "execution_count": 134,
   "metadata": {},
   "outputs": [
    {
     "data": {
      "application/vnd.plotly.v1+json": {
       "config": {
        "plotlyServerURL": "https://plot.ly"
       },
       "data": [
        {
         "hovertemplate": "RelacaoAguaCimento=%{x}<br>PercentualCrescimentoReal=%{y}<extra></extra>",
         "legendgroup": "",
         "marker": {
          "color": "#636efa",
          "symbol": "circle"
         },
         "mode": "markers",
         "name": "",
         "orientation": "v",
         "showlegend": false,
         "type": "scatter",
         "x": [
          0.5714285714285714,
          0.5617977528089888,
          0.5681318681318681,
          0.5714285714285714,
          0.4984709480122324,
          0.7,
          0.6334661354581673,
          0.6334661354581673,
          0.4755784061696658,
          0.6528925619834711,
          0.6528925619834711,
          0.6528925619834711,
          0.5175,
          0.5125,
          0.467866323907455,
          0.467866323907455,
          0.5912408759124088,
          0.6528925619834711,
          0.509090909090909,
          0.509090909090909,
          0.5030303030303029,
          0.5158227848101266
         ],
         "xaxis": "x",
         "y": [
          31.112661318451337,
          23.393167342211928,
          30.83795440542205,
          36.67290886392009,
          30.66709844559585,
          30.765550239234443,
          34.91561181434597,
          35.48845470692719,
          45.56234279554439,
          21.57159047978845,
          32.57547521431234,
          33.94199785177228,
          43.341645885286766,
          54.66732869910624,
          33.216986620127955,
          34.82028241335045,
          39.157674904281244,
          44.48685326547923,
          35.66481994459833,
          31.753718436527173,
          29.360852197070564,
          21.210305572198923
         ],
         "yaxis": "y"
        }
       ],
       "layout": {
        "legend": {
         "tracegroupgap": 0
        },
        "template": {
         "data": {
          "bar": [
           {
            "error_x": {
             "color": "#2a3f5f"
            },
            "error_y": {
             "color": "#2a3f5f"
            },
            "marker": {
             "line": {
              "color": "#E5ECF6",
              "width": 0.5
             }
            },
            "type": "bar"
           }
          ],
          "barpolar": [
           {
            "marker": {
             "line": {
              "color": "#E5ECF6",
              "width": 0.5
             }
            },
            "type": "barpolar"
           }
          ],
          "carpet": [
           {
            "aaxis": {
             "endlinecolor": "#2a3f5f",
             "gridcolor": "white",
             "linecolor": "white",
             "minorgridcolor": "white",
             "startlinecolor": "#2a3f5f"
            },
            "baxis": {
             "endlinecolor": "#2a3f5f",
             "gridcolor": "white",
             "linecolor": "white",
             "minorgridcolor": "white",
             "startlinecolor": "#2a3f5f"
            },
            "type": "carpet"
           }
          ],
          "choropleth": [
           {
            "colorbar": {
             "outlinewidth": 0,
             "ticks": ""
            },
            "type": "choropleth"
           }
          ],
          "contour": [
           {
            "colorbar": {
             "outlinewidth": 0,
             "ticks": ""
            },
            "colorscale": [
             [
              0,
              "#0d0887"
             ],
             [
              0.1111111111111111,
              "#46039f"
             ],
             [
              0.2222222222222222,
              "#7201a8"
             ],
             [
              0.3333333333333333,
              "#9c179e"
             ],
             [
              0.4444444444444444,
              "#bd3786"
             ],
             [
              0.5555555555555556,
              "#d8576b"
             ],
             [
              0.6666666666666666,
              "#ed7953"
             ],
             [
              0.7777777777777778,
              "#fb9f3a"
             ],
             [
              0.8888888888888888,
              "#fdca26"
             ],
             [
              1,
              "#f0f921"
             ]
            ],
            "type": "contour"
           }
          ],
          "contourcarpet": [
           {
            "colorbar": {
             "outlinewidth": 0,
             "ticks": ""
            },
            "type": "contourcarpet"
           }
          ],
          "heatmap": [
           {
            "colorbar": {
             "outlinewidth": 0,
             "ticks": ""
            },
            "colorscale": [
             [
              0,
              "#0d0887"
             ],
             [
              0.1111111111111111,
              "#46039f"
             ],
             [
              0.2222222222222222,
              "#7201a8"
             ],
             [
              0.3333333333333333,
              "#9c179e"
             ],
             [
              0.4444444444444444,
              "#bd3786"
             ],
             [
              0.5555555555555556,
              "#d8576b"
             ],
             [
              0.6666666666666666,
              "#ed7953"
             ],
             [
              0.7777777777777778,
              "#fb9f3a"
             ],
             [
              0.8888888888888888,
              "#fdca26"
             ],
             [
              1,
              "#f0f921"
             ]
            ],
            "type": "heatmap"
           }
          ],
          "heatmapgl": [
           {
            "colorbar": {
             "outlinewidth": 0,
             "ticks": ""
            },
            "colorscale": [
             [
              0,
              "#0d0887"
             ],
             [
              0.1111111111111111,
              "#46039f"
             ],
             [
              0.2222222222222222,
              "#7201a8"
             ],
             [
              0.3333333333333333,
              "#9c179e"
             ],
             [
              0.4444444444444444,
              "#bd3786"
             ],
             [
              0.5555555555555556,
              "#d8576b"
             ],
             [
              0.6666666666666666,
              "#ed7953"
             ],
             [
              0.7777777777777778,
              "#fb9f3a"
             ],
             [
              0.8888888888888888,
              "#fdca26"
             ],
             [
              1,
              "#f0f921"
             ]
            ],
            "type": "heatmapgl"
           }
          ],
          "histogram": [
           {
            "marker": {
             "colorbar": {
              "outlinewidth": 0,
              "ticks": ""
             }
            },
            "type": "histogram"
           }
          ],
          "histogram2d": [
           {
            "colorbar": {
             "outlinewidth": 0,
             "ticks": ""
            },
            "colorscale": [
             [
              0,
              "#0d0887"
             ],
             [
              0.1111111111111111,
              "#46039f"
             ],
             [
              0.2222222222222222,
              "#7201a8"
             ],
             [
              0.3333333333333333,
              "#9c179e"
             ],
             [
              0.4444444444444444,
              "#bd3786"
             ],
             [
              0.5555555555555556,
              "#d8576b"
             ],
             [
              0.6666666666666666,
              "#ed7953"
             ],
             [
              0.7777777777777778,
              "#fb9f3a"
             ],
             [
              0.8888888888888888,
              "#fdca26"
             ],
             [
              1,
              "#f0f921"
             ]
            ],
            "type": "histogram2d"
           }
          ],
          "histogram2dcontour": [
           {
            "colorbar": {
             "outlinewidth": 0,
             "ticks": ""
            },
            "colorscale": [
             [
              0,
              "#0d0887"
             ],
             [
              0.1111111111111111,
              "#46039f"
             ],
             [
              0.2222222222222222,
              "#7201a8"
             ],
             [
              0.3333333333333333,
              "#9c179e"
             ],
             [
              0.4444444444444444,
              "#bd3786"
             ],
             [
              0.5555555555555556,
              "#d8576b"
             ],
             [
              0.6666666666666666,
              "#ed7953"
             ],
             [
              0.7777777777777778,
              "#fb9f3a"
             ],
             [
              0.8888888888888888,
              "#fdca26"
             ],
             [
              1,
              "#f0f921"
             ]
            ],
            "type": "histogram2dcontour"
           }
          ],
          "mesh3d": [
           {
            "colorbar": {
             "outlinewidth": 0,
             "ticks": ""
            },
            "type": "mesh3d"
           }
          ],
          "parcoords": [
           {
            "line": {
             "colorbar": {
              "outlinewidth": 0,
              "ticks": ""
             }
            },
            "type": "parcoords"
           }
          ],
          "pie": [
           {
            "automargin": true,
            "type": "pie"
           }
          ],
          "scatter": [
           {
            "marker": {
             "colorbar": {
              "outlinewidth": 0,
              "ticks": ""
             }
            },
            "type": "scatter"
           }
          ],
          "scatter3d": [
           {
            "line": {
             "colorbar": {
              "outlinewidth": 0,
              "ticks": ""
             }
            },
            "marker": {
             "colorbar": {
              "outlinewidth": 0,
              "ticks": ""
             }
            },
            "type": "scatter3d"
           }
          ],
          "scattercarpet": [
           {
            "marker": {
             "colorbar": {
              "outlinewidth": 0,
              "ticks": ""
             }
            },
            "type": "scattercarpet"
           }
          ],
          "scattergeo": [
           {
            "marker": {
             "colorbar": {
              "outlinewidth": 0,
              "ticks": ""
             }
            },
            "type": "scattergeo"
           }
          ],
          "scattergl": [
           {
            "marker": {
             "colorbar": {
              "outlinewidth": 0,
              "ticks": ""
             }
            },
            "type": "scattergl"
           }
          ],
          "scattermapbox": [
           {
            "marker": {
             "colorbar": {
              "outlinewidth": 0,
              "ticks": ""
             }
            },
            "type": "scattermapbox"
           }
          ],
          "scatterpolar": [
           {
            "marker": {
             "colorbar": {
              "outlinewidth": 0,
              "ticks": ""
             }
            },
            "type": "scatterpolar"
           }
          ],
          "scatterpolargl": [
           {
            "marker": {
             "colorbar": {
              "outlinewidth": 0,
              "ticks": ""
             }
            },
            "type": "scatterpolargl"
           }
          ],
          "scatterternary": [
           {
            "marker": {
             "colorbar": {
              "outlinewidth": 0,
              "ticks": ""
             }
            },
            "type": "scatterternary"
           }
          ],
          "surface": [
           {
            "colorbar": {
             "outlinewidth": 0,
             "ticks": ""
            },
            "colorscale": [
             [
              0,
              "#0d0887"
             ],
             [
              0.1111111111111111,
              "#46039f"
             ],
             [
              0.2222222222222222,
              "#7201a8"
             ],
             [
              0.3333333333333333,
              "#9c179e"
             ],
             [
              0.4444444444444444,
              "#bd3786"
             ],
             [
              0.5555555555555556,
              "#d8576b"
             ],
             [
              0.6666666666666666,
              "#ed7953"
             ],
             [
              0.7777777777777778,
              "#fb9f3a"
             ],
             [
              0.8888888888888888,
              "#fdca26"
             ],
             [
              1,
              "#f0f921"
             ]
            ],
            "type": "surface"
           }
          ],
          "table": [
           {
            "cells": {
             "fill": {
              "color": "#EBF0F8"
             },
             "line": {
              "color": "white"
             }
            },
            "header": {
             "fill": {
              "color": "#C8D4E3"
             },
             "line": {
              "color": "white"
             }
            },
            "type": "table"
           }
          ]
         },
         "layout": {
          "annotationdefaults": {
           "arrowcolor": "#2a3f5f",
           "arrowhead": 0,
           "arrowwidth": 1
          },
          "autotypenumbers": "strict",
          "coloraxis": {
           "colorbar": {
            "outlinewidth": 0,
            "ticks": ""
           }
          },
          "colorscale": {
           "diverging": [
            [
             0,
             "#8e0152"
            ],
            [
             0.1,
             "#c51b7d"
            ],
            [
             0.2,
             "#de77ae"
            ],
            [
             0.3,
             "#f1b6da"
            ],
            [
             0.4,
             "#fde0ef"
            ],
            [
             0.5,
             "#f7f7f7"
            ],
            [
             0.6,
             "#e6f5d0"
            ],
            [
             0.7,
             "#b8e186"
            ],
            [
             0.8,
             "#7fbc41"
            ],
            [
             0.9,
             "#4d9221"
            ],
            [
             1,
             "#276419"
            ]
           ],
           "sequential": [
            [
             0,
             "#0d0887"
            ],
            [
             0.1111111111111111,
             "#46039f"
            ],
            [
             0.2222222222222222,
             "#7201a8"
            ],
            [
             0.3333333333333333,
             "#9c179e"
            ],
            [
             0.4444444444444444,
             "#bd3786"
            ],
            [
             0.5555555555555556,
             "#d8576b"
            ],
            [
             0.6666666666666666,
             "#ed7953"
            ],
            [
             0.7777777777777778,
             "#fb9f3a"
            ],
            [
             0.8888888888888888,
             "#fdca26"
            ],
            [
             1,
             "#f0f921"
            ]
           ],
           "sequentialminus": [
            [
             0,
             "#0d0887"
            ],
            [
             0.1111111111111111,
             "#46039f"
            ],
            [
             0.2222222222222222,
             "#7201a8"
            ],
            [
             0.3333333333333333,
             "#9c179e"
            ],
            [
             0.4444444444444444,
             "#bd3786"
            ],
            [
             0.5555555555555556,
             "#d8576b"
            ],
            [
             0.6666666666666666,
             "#ed7953"
            ],
            [
             0.7777777777777778,
             "#fb9f3a"
            ],
            [
             0.8888888888888888,
             "#fdca26"
            ],
            [
             1,
             "#f0f921"
            ]
           ]
          },
          "colorway": [
           "#636efa",
           "#EF553B",
           "#00cc96",
           "#ab63fa",
           "#FFA15A",
           "#19d3f3",
           "#FF6692",
           "#B6E880",
           "#FF97FF",
           "#FECB52"
          ],
          "font": {
           "color": "#2a3f5f"
          },
          "geo": {
           "bgcolor": "white",
           "lakecolor": "white",
           "landcolor": "#E5ECF6",
           "showlakes": true,
           "showland": true,
           "subunitcolor": "white"
          },
          "hoverlabel": {
           "align": "left"
          },
          "hovermode": "closest",
          "mapbox": {
           "style": "light"
          },
          "paper_bgcolor": "white",
          "plot_bgcolor": "#E5ECF6",
          "polar": {
           "angularaxis": {
            "gridcolor": "white",
            "linecolor": "white",
            "ticks": ""
           },
           "bgcolor": "#E5ECF6",
           "radialaxis": {
            "gridcolor": "white",
            "linecolor": "white",
            "ticks": ""
           }
          },
          "scene": {
           "xaxis": {
            "backgroundcolor": "#E5ECF6",
            "gridcolor": "white",
            "gridwidth": 2,
            "linecolor": "white",
            "showbackground": true,
            "ticks": "",
            "zerolinecolor": "white"
           },
           "yaxis": {
            "backgroundcolor": "#E5ECF6",
            "gridcolor": "white",
            "gridwidth": 2,
            "linecolor": "white",
            "showbackground": true,
            "ticks": "",
            "zerolinecolor": "white"
           },
           "zaxis": {
            "backgroundcolor": "#E5ECF6",
            "gridcolor": "white",
            "gridwidth": 2,
            "linecolor": "white",
            "showbackground": true,
            "ticks": "",
            "zerolinecolor": "white"
           }
          },
          "shapedefaults": {
           "line": {
            "color": "#2a3f5f"
           }
          },
          "ternary": {
           "aaxis": {
            "gridcolor": "white",
            "linecolor": "white",
            "ticks": ""
           },
           "baxis": {
            "gridcolor": "white",
            "linecolor": "white",
            "ticks": ""
           },
           "bgcolor": "#E5ECF6",
           "caxis": {
            "gridcolor": "white",
            "linecolor": "white",
            "ticks": ""
           }
          },
          "title": {
           "x": 0.05
          },
          "xaxis": {
           "automargin": true,
           "gridcolor": "white",
           "linecolor": "white",
           "ticks": "",
           "title": {
            "standoff": 15
           },
           "zerolinecolor": "white",
           "zerolinewidth": 2
          },
          "yaxis": {
           "automargin": true,
           "gridcolor": "white",
           "linecolor": "white",
           "ticks": "",
           "title": {
            "standoff": 15
           },
           "zerolinecolor": "white",
           "zerolinewidth": 2
          }
         }
        },
        "title": {
         "text": "Relação Água Cimento x Percentual Crescimento"
        },
        "xaxis": {
         "anchor": "y",
         "domain": [
          0,
          1
         ],
         "title": {
          "text": "RelacaoAguaCimento"
         }
        },
        "yaxis": {
         "anchor": "x",
         "domain": [
          0,
          1
         ],
         "title": {
          "text": "PercentualCrescimentoReal"
         }
        }
       }
      },
      "text/html": [
       "<div>                            <div id=\"0fdd02c7-4ef9-4ff0-a8e8-d049e3c2782a\" class=\"plotly-graph-div\" style=\"height:525px; width:100%;\"></div>            <script type=\"text/javascript\">                require([\"plotly\"], function(Plotly) {                    window.PLOTLYENV=window.PLOTLYENV || {};                                    if (document.getElementById(\"0fdd02c7-4ef9-4ff0-a8e8-d049e3c2782a\")) {                    Plotly.newPlot(                        \"0fdd02c7-4ef9-4ff0-a8e8-d049e3c2782a\",                        [{\"hovertemplate\": \"RelacaoAguaCimento=%{x}<br>PercentualCrescimentoReal=%{y}<extra></extra>\", \"legendgroup\": \"\", \"marker\": {\"color\": \"#636efa\", \"symbol\": \"circle\"}, \"mode\": \"markers\", \"name\": \"\", \"orientation\": \"v\", \"showlegend\": false, \"type\": \"scatter\", \"x\": [0.5714285714285714, 0.5617977528089888, 0.5681318681318681, 0.5714285714285714, 0.4984709480122324, 0.7, 0.6334661354581673, 0.6334661354581673, 0.4755784061696658, 0.6528925619834711, 0.6528925619834711, 0.6528925619834711, 0.5175, 0.5125, 0.467866323907455, 0.467866323907455, 0.5912408759124088, 0.6528925619834711, 0.509090909090909, 0.509090909090909, 0.5030303030303029, 0.5158227848101266], \"xaxis\": \"x\", \"y\": [31.112661318451337, 23.393167342211928, 30.83795440542205, 36.67290886392009, 30.66709844559585, 30.765550239234443, 34.91561181434597, 35.48845470692719, 45.56234279554439, 21.57159047978845, 32.57547521431234, 33.94199785177228, 43.341645885286766, 54.66732869910624, 33.216986620127955, 34.82028241335045, 39.157674904281244, 44.48685326547923, 35.66481994459833, 31.753718436527173, 29.360852197070564, 21.210305572198923], \"yaxis\": \"y\"}],                        {\"legend\": {\"tracegroupgap\": 0}, \"template\": {\"data\": {\"bar\": [{\"error_x\": {\"color\": \"#2a3f5f\"}, \"error_y\": {\"color\": \"#2a3f5f\"}, \"marker\": {\"line\": {\"color\": \"#E5ECF6\", \"width\": 0.5}}, \"type\": \"bar\"}], \"barpolar\": [{\"marker\": {\"line\": {\"color\": \"#E5ECF6\", \"width\": 0.5}}, \"type\": \"barpolar\"}], \"carpet\": [{\"aaxis\": {\"endlinecolor\": \"#2a3f5f\", \"gridcolor\": \"white\", \"linecolor\": \"white\", \"minorgridcolor\": \"white\", \"startlinecolor\": \"#2a3f5f\"}, \"baxis\": {\"endlinecolor\": \"#2a3f5f\", \"gridcolor\": \"white\", \"linecolor\": \"white\", \"minorgridcolor\": \"white\", \"startlinecolor\": \"#2a3f5f\"}, \"type\": \"carpet\"}], \"choropleth\": [{\"colorbar\": {\"outlinewidth\": 0, \"ticks\": \"\"}, \"type\": \"choropleth\"}], \"contour\": [{\"colorbar\": {\"outlinewidth\": 0, \"ticks\": \"\"}, \"colorscale\": [[0.0, \"#0d0887\"], [0.1111111111111111, \"#46039f\"], [0.2222222222222222, \"#7201a8\"], [0.3333333333333333, \"#9c179e\"], [0.4444444444444444, \"#bd3786\"], [0.5555555555555556, \"#d8576b\"], [0.6666666666666666, \"#ed7953\"], [0.7777777777777778, \"#fb9f3a\"], [0.8888888888888888, \"#fdca26\"], [1.0, \"#f0f921\"]], \"type\": \"contour\"}], \"contourcarpet\": [{\"colorbar\": {\"outlinewidth\": 0, \"ticks\": \"\"}, \"type\": \"contourcarpet\"}], \"heatmap\": [{\"colorbar\": {\"outlinewidth\": 0, \"ticks\": \"\"}, \"colorscale\": [[0.0, \"#0d0887\"], [0.1111111111111111, \"#46039f\"], [0.2222222222222222, \"#7201a8\"], [0.3333333333333333, \"#9c179e\"], [0.4444444444444444, \"#bd3786\"], [0.5555555555555556, \"#d8576b\"], [0.6666666666666666, \"#ed7953\"], [0.7777777777777778, \"#fb9f3a\"], [0.8888888888888888, \"#fdca26\"], [1.0, \"#f0f921\"]], \"type\": \"heatmap\"}], \"heatmapgl\": [{\"colorbar\": {\"outlinewidth\": 0, \"ticks\": \"\"}, \"colorscale\": [[0.0, \"#0d0887\"], [0.1111111111111111, \"#46039f\"], [0.2222222222222222, \"#7201a8\"], [0.3333333333333333, \"#9c179e\"], [0.4444444444444444, \"#bd3786\"], [0.5555555555555556, \"#d8576b\"], [0.6666666666666666, \"#ed7953\"], [0.7777777777777778, \"#fb9f3a\"], [0.8888888888888888, \"#fdca26\"], [1.0, \"#f0f921\"]], \"type\": \"heatmapgl\"}], \"histogram\": [{\"marker\": {\"colorbar\": {\"outlinewidth\": 0, \"ticks\": \"\"}}, \"type\": \"histogram\"}], \"histogram2d\": [{\"colorbar\": {\"outlinewidth\": 0, \"ticks\": \"\"}, \"colorscale\": [[0.0, \"#0d0887\"], [0.1111111111111111, \"#46039f\"], [0.2222222222222222, \"#7201a8\"], [0.3333333333333333, \"#9c179e\"], [0.4444444444444444, \"#bd3786\"], [0.5555555555555556, \"#d8576b\"], [0.6666666666666666, \"#ed7953\"], [0.7777777777777778, \"#fb9f3a\"], [0.8888888888888888, \"#fdca26\"], [1.0, \"#f0f921\"]], \"type\": \"histogram2d\"}], \"histogram2dcontour\": [{\"colorbar\": {\"outlinewidth\": 0, \"ticks\": \"\"}, \"colorscale\": [[0.0, \"#0d0887\"], [0.1111111111111111, \"#46039f\"], [0.2222222222222222, \"#7201a8\"], [0.3333333333333333, \"#9c179e\"], [0.4444444444444444, \"#bd3786\"], [0.5555555555555556, \"#d8576b\"], [0.6666666666666666, \"#ed7953\"], [0.7777777777777778, \"#fb9f3a\"], [0.8888888888888888, \"#fdca26\"], [1.0, \"#f0f921\"]], \"type\": \"histogram2dcontour\"}], \"mesh3d\": [{\"colorbar\": {\"outlinewidth\": 0, \"ticks\": \"\"}, \"type\": \"mesh3d\"}], \"parcoords\": [{\"line\": {\"colorbar\": {\"outlinewidth\": 0, \"ticks\": \"\"}}, \"type\": \"parcoords\"}], \"pie\": [{\"automargin\": true, \"type\": \"pie\"}], \"scatter\": [{\"marker\": {\"colorbar\": {\"outlinewidth\": 0, \"ticks\": \"\"}}, \"type\": \"scatter\"}], \"scatter3d\": [{\"line\": {\"colorbar\": {\"outlinewidth\": 0, \"ticks\": \"\"}}, \"marker\": {\"colorbar\": {\"outlinewidth\": 0, \"ticks\": \"\"}}, \"type\": \"scatter3d\"}], \"scattercarpet\": [{\"marker\": {\"colorbar\": {\"outlinewidth\": 0, \"ticks\": \"\"}}, \"type\": \"scattercarpet\"}], \"scattergeo\": [{\"marker\": {\"colorbar\": {\"outlinewidth\": 0, \"ticks\": \"\"}}, \"type\": \"scattergeo\"}], \"scattergl\": [{\"marker\": {\"colorbar\": {\"outlinewidth\": 0, \"ticks\": \"\"}}, \"type\": \"scattergl\"}], \"scattermapbox\": [{\"marker\": {\"colorbar\": {\"outlinewidth\": 0, \"ticks\": \"\"}}, \"type\": \"scattermapbox\"}], \"scatterpolar\": [{\"marker\": {\"colorbar\": {\"outlinewidth\": 0, \"ticks\": \"\"}}, \"type\": \"scatterpolar\"}], \"scatterpolargl\": [{\"marker\": {\"colorbar\": {\"outlinewidth\": 0, \"ticks\": \"\"}}, \"type\": \"scatterpolargl\"}], \"scatterternary\": [{\"marker\": {\"colorbar\": {\"outlinewidth\": 0, \"ticks\": \"\"}}, \"type\": \"scatterternary\"}], \"surface\": [{\"colorbar\": {\"outlinewidth\": 0, \"ticks\": \"\"}, \"colorscale\": [[0.0, \"#0d0887\"], [0.1111111111111111, \"#46039f\"], [0.2222222222222222, \"#7201a8\"], [0.3333333333333333, \"#9c179e\"], [0.4444444444444444, \"#bd3786\"], [0.5555555555555556, \"#d8576b\"], [0.6666666666666666, \"#ed7953\"], [0.7777777777777778, \"#fb9f3a\"], [0.8888888888888888, \"#fdca26\"], [1.0, \"#f0f921\"]], \"type\": \"surface\"}], \"table\": [{\"cells\": {\"fill\": {\"color\": \"#EBF0F8\"}, \"line\": {\"color\": \"white\"}}, \"header\": {\"fill\": {\"color\": \"#C8D4E3\"}, \"line\": {\"color\": \"white\"}}, \"type\": \"table\"}]}, \"layout\": {\"annotationdefaults\": {\"arrowcolor\": \"#2a3f5f\", \"arrowhead\": 0, \"arrowwidth\": 1}, \"autotypenumbers\": \"strict\", \"coloraxis\": {\"colorbar\": {\"outlinewidth\": 0, \"ticks\": \"\"}}, \"colorscale\": {\"diverging\": [[0, \"#8e0152\"], [0.1, \"#c51b7d\"], [0.2, \"#de77ae\"], [0.3, \"#f1b6da\"], [0.4, \"#fde0ef\"], [0.5, \"#f7f7f7\"], [0.6, \"#e6f5d0\"], [0.7, \"#b8e186\"], [0.8, \"#7fbc41\"], [0.9, \"#4d9221\"], [1, \"#276419\"]], \"sequential\": [[0.0, \"#0d0887\"], [0.1111111111111111, \"#46039f\"], [0.2222222222222222, \"#7201a8\"], [0.3333333333333333, \"#9c179e\"], [0.4444444444444444, \"#bd3786\"], [0.5555555555555556, \"#d8576b\"], [0.6666666666666666, \"#ed7953\"], [0.7777777777777778, \"#fb9f3a\"], [0.8888888888888888, \"#fdca26\"], [1.0, \"#f0f921\"]], \"sequentialminus\": [[0.0, \"#0d0887\"], [0.1111111111111111, \"#46039f\"], [0.2222222222222222, \"#7201a8\"], [0.3333333333333333, \"#9c179e\"], [0.4444444444444444, \"#bd3786\"], [0.5555555555555556, \"#d8576b\"], [0.6666666666666666, \"#ed7953\"], [0.7777777777777778, \"#fb9f3a\"], [0.8888888888888888, \"#fdca26\"], [1.0, \"#f0f921\"]]}, \"colorway\": [\"#636efa\", \"#EF553B\", \"#00cc96\", \"#ab63fa\", \"#FFA15A\", \"#19d3f3\", \"#FF6692\", \"#B6E880\", \"#FF97FF\", \"#FECB52\"], \"font\": {\"color\": \"#2a3f5f\"}, \"geo\": {\"bgcolor\": \"white\", \"lakecolor\": \"white\", \"landcolor\": \"#E5ECF6\", \"showlakes\": true, \"showland\": true, \"subunitcolor\": \"white\"}, \"hoverlabel\": {\"align\": \"left\"}, \"hovermode\": \"closest\", \"mapbox\": {\"style\": \"light\"}, \"paper_bgcolor\": \"white\", \"plot_bgcolor\": \"#E5ECF6\", \"polar\": {\"angularaxis\": {\"gridcolor\": \"white\", \"linecolor\": \"white\", \"ticks\": \"\"}, \"bgcolor\": \"#E5ECF6\", \"radialaxis\": {\"gridcolor\": \"white\", \"linecolor\": \"white\", \"ticks\": \"\"}}, \"scene\": {\"xaxis\": {\"backgroundcolor\": \"#E5ECF6\", \"gridcolor\": \"white\", \"gridwidth\": 2, \"linecolor\": \"white\", \"showbackground\": true, \"ticks\": \"\", \"zerolinecolor\": \"white\"}, \"yaxis\": {\"backgroundcolor\": \"#E5ECF6\", \"gridcolor\": \"white\", \"gridwidth\": 2, \"linecolor\": \"white\", \"showbackground\": true, \"ticks\": \"\", \"zerolinecolor\": \"white\"}, \"zaxis\": {\"backgroundcolor\": \"#E5ECF6\", \"gridcolor\": \"white\", \"gridwidth\": 2, \"linecolor\": \"white\", \"showbackground\": true, \"ticks\": \"\", \"zerolinecolor\": \"white\"}}, \"shapedefaults\": {\"line\": {\"color\": \"#2a3f5f\"}}, \"ternary\": {\"aaxis\": {\"gridcolor\": \"white\", \"linecolor\": \"white\", \"ticks\": \"\"}, \"baxis\": {\"gridcolor\": \"white\", \"linecolor\": \"white\", \"ticks\": \"\"}, \"bgcolor\": \"#E5ECF6\", \"caxis\": {\"gridcolor\": \"white\", \"linecolor\": \"white\", \"ticks\": \"\"}}, \"title\": {\"x\": 0.05}, \"xaxis\": {\"automargin\": true, \"gridcolor\": \"white\", \"linecolor\": \"white\", \"ticks\": \"\", \"title\": {\"standoff\": 15}, \"zerolinecolor\": \"white\", \"zerolinewidth\": 2}, \"yaxis\": {\"automargin\": true, \"gridcolor\": \"white\", \"linecolor\": \"white\", \"ticks\": \"\", \"title\": {\"standoff\": 15}, \"zerolinecolor\": \"white\", \"zerolinewidth\": 2}}}, \"title\": {\"text\": \"Rela\\u00e7\\u00e3o \\u00c1gua Cimento x Percentual Crescimento\"}, \"xaxis\": {\"anchor\": \"y\", \"domain\": [0.0, 1.0], \"title\": {\"text\": \"RelacaoAguaCimento\"}}, \"yaxis\": {\"anchor\": \"x\", \"domain\": [0.0, 1.0], \"title\": {\"text\": \"PercentualCrescimentoReal\"}}},                        {\"responsive\": true}                    ).then(function(){\n",
       "                            \n",
       "var gd = document.getElementById('0fdd02c7-4ef9-4ff0-a8e8-d049e3c2782a');\n",
       "var x = new MutationObserver(function (mutations, observer) {{\n",
       "        var display = window.getComputedStyle(gd).display;\n",
       "        if (!display || display === 'none') {{\n",
       "            console.log([gd, 'removed!']);\n",
       "            Plotly.purge(gd);\n",
       "            observer.disconnect();\n",
       "        }}\n",
       "}});\n",
       "\n",
       "// Listen for the removal of the full notebook cells\n",
       "var notebookContainer = gd.closest('#notebook-container');\n",
       "if (notebookContainer) {{\n",
       "    x.observe(notebookContainer, {childList: true});\n",
       "}}\n",
       "\n",
       "// Listen for the clearing of the current output cell\n",
       "var outputEl = gd.closest('.output');\n",
       "if (outputEl) {{\n",
       "    x.observe(outputEl, {childList: true});\n",
       "}}\n",
       "\n",
       "                        })                };                });            </script>        </div>"
      ]
     },
     "metadata": {},
     "output_type": "display_data"
    }
   ],
   "source": [
    "fig = px.scatter(dados_da, x=\"RelacaoAguaCimento\", y=\"PercentualCrescimentoReal\", title='Relação Água Cimento x Percentual Crescimento')\n",
    "fig.show()"
   ]
  },
  {
   "cell_type": "code",
   "execution_count": 135,
   "metadata": {},
   "outputs": [
    {
     "data": {
      "application/vnd.plotly.v1+json": {
       "config": {
        "plotlyServerURL": "https://plot.ly"
       },
       "data": [
        {
         "hovertemplate": "TempoPermanenciaObra=%{x}<br>PercentualCrescimentoReal=%{y}<extra></extra>",
         "legendgroup": "",
         "marker": {
          "color": "#636efa",
          "symbol": "circle"
         },
         "mode": "markers",
         "name": "",
         "orientation": "v",
         "showlegend": false,
         "type": "scatter",
         "x": [
          "00:30:00",
          "01:15:00",
          "00:18:00",
          "00:28:00",
          "00:53:00",
          "00:55:00",
          "00:15:00",
          "00:21:00",
          "01:23:00",
          "00:13:00",
          "00:19:00",
          "00:24:00",
          "00:37:00",
          "01:28:00",
          "00:31:00",
          "00:28:00",
          "00:26:00",
          "00:37:00",
          "01:05:00",
          "00:35:00",
          "00:30:00",
          "02:03:00"
         ],
         "xaxis": "x",
         "y": [
          31.112661318451337,
          23.393167342211928,
          30.83795440542205,
          36.67290886392009,
          30.66709844559585,
          30.765550239234443,
          34.91561181434597,
          35.48845470692719,
          45.56234279554439,
          21.57159047978845,
          32.57547521431234,
          33.94199785177228,
          43.341645885286766,
          54.66732869910624,
          33.216986620127955,
          34.82028241335045,
          39.157674904281244,
          44.48685326547923,
          35.66481994459833,
          31.753718436527173,
          29.360852197070564,
          21.210305572198923
         ],
         "yaxis": "y"
        }
       ],
       "layout": {
        "legend": {
         "tracegroupgap": 0
        },
        "template": {
         "data": {
          "bar": [
           {
            "error_x": {
             "color": "#2a3f5f"
            },
            "error_y": {
             "color": "#2a3f5f"
            },
            "marker": {
             "line": {
              "color": "#E5ECF6",
              "width": 0.5
             }
            },
            "type": "bar"
           }
          ],
          "barpolar": [
           {
            "marker": {
             "line": {
              "color": "#E5ECF6",
              "width": 0.5
             }
            },
            "type": "barpolar"
           }
          ],
          "carpet": [
           {
            "aaxis": {
             "endlinecolor": "#2a3f5f",
             "gridcolor": "white",
             "linecolor": "white",
             "minorgridcolor": "white",
             "startlinecolor": "#2a3f5f"
            },
            "baxis": {
             "endlinecolor": "#2a3f5f",
             "gridcolor": "white",
             "linecolor": "white",
             "minorgridcolor": "white",
             "startlinecolor": "#2a3f5f"
            },
            "type": "carpet"
           }
          ],
          "choropleth": [
           {
            "colorbar": {
             "outlinewidth": 0,
             "ticks": ""
            },
            "type": "choropleth"
           }
          ],
          "contour": [
           {
            "colorbar": {
             "outlinewidth": 0,
             "ticks": ""
            },
            "colorscale": [
             [
              0,
              "#0d0887"
             ],
             [
              0.1111111111111111,
              "#46039f"
             ],
             [
              0.2222222222222222,
              "#7201a8"
             ],
             [
              0.3333333333333333,
              "#9c179e"
             ],
             [
              0.4444444444444444,
              "#bd3786"
             ],
             [
              0.5555555555555556,
              "#d8576b"
             ],
             [
              0.6666666666666666,
              "#ed7953"
             ],
             [
              0.7777777777777778,
              "#fb9f3a"
             ],
             [
              0.8888888888888888,
              "#fdca26"
             ],
             [
              1,
              "#f0f921"
             ]
            ],
            "type": "contour"
           }
          ],
          "contourcarpet": [
           {
            "colorbar": {
             "outlinewidth": 0,
             "ticks": ""
            },
            "type": "contourcarpet"
           }
          ],
          "heatmap": [
           {
            "colorbar": {
             "outlinewidth": 0,
             "ticks": ""
            },
            "colorscale": [
             [
              0,
              "#0d0887"
             ],
             [
              0.1111111111111111,
              "#46039f"
             ],
             [
              0.2222222222222222,
              "#7201a8"
             ],
             [
              0.3333333333333333,
              "#9c179e"
             ],
             [
              0.4444444444444444,
              "#bd3786"
             ],
             [
              0.5555555555555556,
              "#d8576b"
             ],
             [
              0.6666666666666666,
              "#ed7953"
             ],
             [
              0.7777777777777778,
              "#fb9f3a"
             ],
             [
              0.8888888888888888,
              "#fdca26"
             ],
             [
              1,
              "#f0f921"
             ]
            ],
            "type": "heatmap"
           }
          ],
          "heatmapgl": [
           {
            "colorbar": {
             "outlinewidth": 0,
             "ticks": ""
            },
            "colorscale": [
             [
              0,
              "#0d0887"
             ],
             [
              0.1111111111111111,
              "#46039f"
             ],
             [
              0.2222222222222222,
              "#7201a8"
             ],
             [
              0.3333333333333333,
              "#9c179e"
             ],
             [
              0.4444444444444444,
              "#bd3786"
             ],
             [
              0.5555555555555556,
              "#d8576b"
             ],
             [
              0.6666666666666666,
              "#ed7953"
             ],
             [
              0.7777777777777778,
              "#fb9f3a"
             ],
             [
              0.8888888888888888,
              "#fdca26"
             ],
             [
              1,
              "#f0f921"
             ]
            ],
            "type": "heatmapgl"
           }
          ],
          "histogram": [
           {
            "marker": {
             "colorbar": {
              "outlinewidth": 0,
              "ticks": ""
             }
            },
            "type": "histogram"
           }
          ],
          "histogram2d": [
           {
            "colorbar": {
             "outlinewidth": 0,
             "ticks": ""
            },
            "colorscale": [
             [
              0,
              "#0d0887"
             ],
             [
              0.1111111111111111,
              "#46039f"
             ],
             [
              0.2222222222222222,
              "#7201a8"
             ],
             [
              0.3333333333333333,
              "#9c179e"
             ],
             [
              0.4444444444444444,
              "#bd3786"
             ],
             [
              0.5555555555555556,
              "#d8576b"
             ],
             [
              0.6666666666666666,
              "#ed7953"
             ],
             [
              0.7777777777777778,
              "#fb9f3a"
             ],
             [
              0.8888888888888888,
              "#fdca26"
             ],
             [
              1,
              "#f0f921"
             ]
            ],
            "type": "histogram2d"
           }
          ],
          "histogram2dcontour": [
           {
            "colorbar": {
             "outlinewidth": 0,
             "ticks": ""
            },
            "colorscale": [
             [
              0,
              "#0d0887"
             ],
             [
              0.1111111111111111,
              "#46039f"
             ],
             [
              0.2222222222222222,
              "#7201a8"
             ],
             [
              0.3333333333333333,
              "#9c179e"
             ],
             [
              0.4444444444444444,
              "#bd3786"
             ],
             [
              0.5555555555555556,
              "#d8576b"
             ],
             [
              0.6666666666666666,
              "#ed7953"
             ],
             [
              0.7777777777777778,
              "#fb9f3a"
             ],
             [
              0.8888888888888888,
              "#fdca26"
             ],
             [
              1,
              "#f0f921"
             ]
            ],
            "type": "histogram2dcontour"
           }
          ],
          "mesh3d": [
           {
            "colorbar": {
             "outlinewidth": 0,
             "ticks": ""
            },
            "type": "mesh3d"
           }
          ],
          "parcoords": [
           {
            "line": {
             "colorbar": {
              "outlinewidth": 0,
              "ticks": ""
             }
            },
            "type": "parcoords"
           }
          ],
          "pie": [
           {
            "automargin": true,
            "type": "pie"
           }
          ],
          "scatter": [
           {
            "marker": {
             "colorbar": {
              "outlinewidth": 0,
              "ticks": ""
             }
            },
            "type": "scatter"
           }
          ],
          "scatter3d": [
           {
            "line": {
             "colorbar": {
              "outlinewidth": 0,
              "ticks": ""
             }
            },
            "marker": {
             "colorbar": {
              "outlinewidth": 0,
              "ticks": ""
             }
            },
            "type": "scatter3d"
           }
          ],
          "scattercarpet": [
           {
            "marker": {
             "colorbar": {
              "outlinewidth": 0,
              "ticks": ""
             }
            },
            "type": "scattercarpet"
           }
          ],
          "scattergeo": [
           {
            "marker": {
             "colorbar": {
              "outlinewidth": 0,
              "ticks": ""
             }
            },
            "type": "scattergeo"
           }
          ],
          "scattergl": [
           {
            "marker": {
             "colorbar": {
              "outlinewidth": 0,
              "ticks": ""
             }
            },
            "type": "scattergl"
           }
          ],
          "scattermapbox": [
           {
            "marker": {
             "colorbar": {
              "outlinewidth": 0,
              "ticks": ""
             }
            },
            "type": "scattermapbox"
           }
          ],
          "scatterpolar": [
           {
            "marker": {
             "colorbar": {
              "outlinewidth": 0,
              "ticks": ""
             }
            },
            "type": "scatterpolar"
           }
          ],
          "scatterpolargl": [
           {
            "marker": {
             "colorbar": {
              "outlinewidth": 0,
              "ticks": ""
             }
            },
            "type": "scatterpolargl"
           }
          ],
          "scatterternary": [
           {
            "marker": {
             "colorbar": {
              "outlinewidth": 0,
              "ticks": ""
             }
            },
            "type": "scatterternary"
           }
          ],
          "surface": [
           {
            "colorbar": {
             "outlinewidth": 0,
             "ticks": ""
            },
            "colorscale": [
             [
              0,
              "#0d0887"
             ],
             [
              0.1111111111111111,
              "#46039f"
             ],
             [
              0.2222222222222222,
              "#7201a8"
             ],
             [
              0.3333333333333333,
              "#9c179e"
             ],
             [
              0.4444444444444444,
              "#bd3786"
             ],
             [
              0.5555555555555556,
              "#d8576b"
             ],
             [
              0.6666666666666666,
              "#ed7953"
             ],
             [
              0.7777777777777778,
              "#fb9f3a"
             ],
             [
              0.8888888888888888,
              "#fdca26"
             ],
             [
              1,
              "#f0f921"
             ]
            ],
            "type": "surface"
           }
          ],
          "table": [
           {
            "cells": {
             "fill": {
              "color": "#EBF0F8"
             },
             "line": {
              "color": "white"
             }
            },
            "header": {
             "fill": {
              "color": "#C8D4E3"
             },
             "line": {
              "color": "white"
             }
            },
            "type": "table"
           }
          ]
         },
         "layout": {
          "annotationdefaults": {
           "arrowcolor": "#2a3f5f",
           "arrowhead": 0,
           "arrowwidth": 1
          },
          "autotypenumbers": "strict",
          "coloraxis": {
           "colorbar": {
            "outlinewidth": 0,
            "ticks": ""
           }
          },
          "colorscale": {
           "diverging": [
            [
             0,
             "#8e0152"
            ],
            [
             0.1,
             "#c51b7d"
            ],
            [
             0.2,
             "#de77ae"
            ],
            [
             0.3,
             "#f1b6da"
            ],
            [
             0.4,
             "#fde0ef"
            ],
            [
             0.5,
             "#f7f7f7"
            ],
            [
             0.6,
             "#e6f5d0"
            ],
            [
             0.7,
             "#b8e186"
            ],
            [
             0.8,
             "#7fbc41"
            ],
            [
             0.9,
             "#4d9221"
            ],
            [
             1,
             "#276419"
            ]
           ],
           "sequential": [
            [
             0,
             "#0d0887"
            ],
            [
             0.1111111111111111,
             "#46039f"
            ],
            [
             0.2222222222222222,
             "#7201a8"
            ],
            [
             0.3333333333333333,
             "#9c179e"
            ],
            [
             0.4444444444444444,
             "#bd3786"
            ],
            [
             0.5555555555555556,
             "#d8576b"
            ],
            [
             0.6666666666666666,
             "#ed7953"
            ],
            [
             0.7777777777777778,
             "#fb9f3a"
            ],
            [
             0.8888888888888888,
             "#fdca26"
            ],
            [
             1,
             "#f0f921"
            ]
           ],
           "sequentialminus": [
            [
             0,
             "#0d0887"
            ],
            [
             0.1111111111111111,
             "#46039f"
            ],
            [
             0.2222222222222222,
             "#7201a8"
            ],
            [
             0.3333333333333333,
             "#9c179e"
            ],
            [
             0.4444444444444444,
             "#bd3786"
            ],
            [
             0.5555555555555556,
             "#d8576b"
            ],
            [
             0.6666666666666666,
             "#ed7953"
            ],
            [
             0.7777777777777778,
             "#fb9f3a"
            ],
            [
             0.8888888888888888,
             "#fdca26"
            ],
            [
             1,
             "#f0f921"
            ]
           ]
          },
          "colorway": [
           "#636efa",
           "#EF553B",
           "#00cc96",
           "#ab63fa",
           "#FFA15A",
           "#19d3f3",
           "#FF6692",
           "#B6E880",
           "#FF97FF",
           "#FECB52"
          ],
          "font": {
           "color": "#2a3f5f"
          },
          "geo": {
           "bgcolor": "white",
           "lakecolor": "white",
           "landcolor": "#E5ECF6",
           "showlakes": true,
           "showland": true,
           "subunitcolor": "white"
          },
          "hoverlabel": {
           "align": "left"
          },
          "hovermode": "closest",
          "mapbox": {
           "style": "light"
          },
          "paper_bgcolor": "white",
          "plot_bgcolor": "#E5ECF6",
          "polar": {
           "angularaxis": {
            "gridcolor": "white",
            "linecolor": "white",
            "ticks": ""
           },
           "bgcolor": "#E5ECF6",
           "radialaxis": {
            "gridcolor": "white",
            "linecolor": "white",
            "ticks": ""
           }
          },
          "scene": {
           "xaxis": {
            "backgroundcolor": "#E5ECF6",
            "gridcolor": "white",
            "gridwidth": 2,
            "linecolor": "white",
            "showbackground": true,
            "ticks": "",
            "zerolinecolor": "white"
           },
           "yaxis": {
            "backgroundcolor": "#E5ECF6",
            "gridcolor": "white",
            "gridwidth": 2,
            "linecolor": "white",
            "showbackground": true,
            "ticks": "",
            "zerolinecolor": "white"
           },
           "zaxis": {
            "backgroundcolor": "#E5ECF6",
            "gridcolor": "white",
            "gridwidth": 2,
            "linecolor": "white",
            "showbackground": true,
            "ticks": "",
            "zerolinecolor": "white"
           }
          },
          "shapedefaults": {
           "line": {
            "color": "#2a3f5f"
           }
          },
          "ternary": {
           "aaxis": {
            "gridcolor": "white",
            "linecolor": "white",
            "ticks": ""
           },
           "baxis": {
            "gridcolor": "white",
            "linecolor": "white",
            "ticks": ""
           },
           "bgcolor": "#E5ECF6",
           "caxis": {
            "gridcolor": "white",
            "linecolor": "white",
            "ticks": ""
           }
          },
          "title": {
           "x": 0.05
          },
          "xaxis": {
           "automargin": true,
           "gridcolor": "white",
           "linecolor": "white",
           "ticks": "",
           "title": {
            "standoff": 15
           },
           "zerolinecolor": "white",
           "zerolinewidth": 2
          },
          "yaxis": {
           "automargin": true,
           "gridcolor": "white",
           "linecolor": "white",
           "ticks": "",
           "title": {
            "standoff": 15
           },
           "zerolinecolor": "white",
           "zerolinewidth": 2
          }
         }
        },
        "title": {
         "text": "Tempo Permanência Obra x Percentual Crescimento"
        },
        "xaxis": {
         "anchor": "y",
         "categoryorder": "category ascending",
         "domain": [
          0,
          1
         ],
         "title": {
          "text": "TempoPermanenciaObra"
         }
        },
        "yaxis": {
         "anchor": "x",
         "domain": [
          0,
          1
         ],
         "title": {
          "text": "PercentualCrescimentoReal"
         }
        }
       }
      },
      "text/html": [
       "<div>                            <div id=\"f31f4533-ad9c-483a-a1e4-3c25da046ddc\" class=\"plotly-graph-div\" style=\"height:525px; width:100%;\"></div>            <script type=\"text/javascript\">                require([\"plotly\"], function(Plotly) {                    window.PLOTLYENV=window.PLOTLYENV || {};                                    if (document.getElementById(\"f31f4533-ad9c-483a-a1e4-3c25da046ddc\")) {                    Plotly.newPlot(                        \"f31f4533-ad9c-483a-a1e4-3c25da046ddc\",                        [{\"hovertemplate\": \"TempoPermanenciaObra=%{x}<br>PercentualCrescimentoReal=%{y}<extra></extra>\", \"legendgroup\": \"\", \"marker\": {\"color\": \"#636efa\", \"symbol\": \"circle\"}, \"mode\": \"markers\", \"name\": \"\", \"orientation\": \"v\", \"showlegend\": false, \"type\": \"scatter\", \"x\": [\"00:30:00\", \"01:15:00\", \"00:18:00\", \"00:28:00\", \"00:53:00\", \"00:55:00\", \"00:15:00\", \"00:21:00\", \"01:23:00\", \"00:13:00\", \"00:19:00\", \"00:24:00\", \"00:37:00\", \"01:28:00\", \"00:31:00\", \"00:28:00\", \"00:26:00\", \"00:37:00\", \"01:05:00\", \"00:35:00\", \"00:30:00\", \"02:03:00\"], \"xaxis\": \"x\", \"y\": [31.112661318451337, 23.393167342211928, 30.83795440542205, 36.67290886392009, 30.66709844559585, 30.765550239234443, 34.91561181434597, 35.48845470692719, 45.56234279554439, 21.57159047978845, 32.57547521431234, 33.94199785177228, 43.341645885286766, 54.66732869910624, 33.216986620127955, 34.82028241335045, 39.157674904281244, 44.48685326547923, 35.66481994459833, 31.753718436527173, 29.360852197070564, 21.210305572198923], \"yaxis\": \"y\"}],                        {\"legend\": {\"tracegroupgap\": 0}, \"template\": {\"data\": {\"bar\": [{\"error_x\": {\"color\": \"#2a3f5f\"}, \"error_y\": {\"color\": \"#2a3f5f\"}, \"marker\": {\"line\": {\"color\": \"#E5ECF6\", \"width\": 0.5}}, \"type\": \"bar\"}], \"barpolar\": [{\"marker\": {\"line\": {\"color\": \"#E5ECF6\", \"width\": 0.5}}, \"type\": \"barpolar\"}], \"carpet\": [{\"aaxis\": {\"endlinecolor\": \"#2a3f5f\", \"gridcolor\": \"white\", \"linecolor\": \"white\", \"minorgridcolor\": \"white\", \"startlinecolor\": \"#2a3f5f\"}, \"baxis\": {\"endlinecolor\": \"#2a3f5f\", \"gridcolor\": \"white\", \"linecolor\": \"white\", \"minorgridcolor\": \"white\", \"startlinecolor\": \"#2a3f5f\"}, \"type\": \"carpet\"}], \"choropleth\": [{\"colorbar\": {\"outlinewidth\": 0, \"ticks\": \"\"}, \"type\": \"choropleth\"}], \"contour\": [{\"colorbar\": {\"outlinewidth\": 0, \"ticks\": \"\"}, \"colorscale\": [[0.0, \"#0d0887\"], [0.1111111111111111, \"#46039f\"], [0.2222222222222222, \"#7201a8\"], [0.3333333333333333, \"#9c179e\"], [0.4444444444444444, \"#bd3786\"], [0.5555555555555556, \"#d8576b\"], [0.6666666666666666, \"#ed7953\"], [0.7777777777777778, \"#fb9f3a\"], [0.8888888888888888, \"#fdca26\"], [1.0, \"#f0f921\"]], \"type\": \"contour\"}], \"contourcarpet\": [{\"colorbar\": {\"outlinewidth\": 0, \"ticks\": \"\"}, \"type\": \"contourcarpet\"}], \"heatmap\": [{\"colorbar\": {\"outlinewidth\": 0, \"ticks\": \"\"}, \"colorscale\": [[0.0, \"#0d0887\"], [0.1111111111111111, \"#46039f\"], [0.2222222222222222, \"#7201a8\"], [0.3333333333333333, \"#9c179e\"], [0.4444444444444444, \"#bd3786\"], [0.5555555555555556, \"#d8576b\"], [0.6666666666666666, \"#ed7953\"], [0.7777777777777778, \"#fb9f3a\"], [0.8888888888888888, \"#fdca26\"], [1.0, \"#f0f921\"]], \"type\": \"heatmap\"}], \"heatmapgl\": [{\"colorbar\": {\"outlinewidth\": 0, \"ticks\": \"\"}, \"colorscale\": [[0.0, \"#0d0887\"], [0.1111111111111111, \"#46039f\"], [0.2222222222222222, \"#7201a8\"], [0.3333333333333333, \"#9c179e\"], [0.4444444444444444, \"#bd3786\"], [0.5555555555555556, \"#d8576b\"], [0.6666666666666666, \"#ed7953\"], [0.7777777777777778, \"#fb9f3a\"], [0.8888888888888888, \"#fdca26\"], [1.0, \"#f0f921\"]], \"type\": \"heatmapgl\"}], \"histogram\": [{\"marker\": {\"colorbar\": {\"outlinewidth\": 0, \"ticks\": \"\"}}, \"type\": \"histogram\"}], \"histogram2d\": [{\"colorbar\": {\"outlinewidth\": 0, \"ticks\": \"\"}, \"colorscale\": [[0.0, \"#0d0887\"], [0.1111111111111111, \"#46039f\"], [0.2222222222222222, \"#7201a8\"], [0.3333333333333333, \"#9c179e\"], [0.4444444444444444, \"#bd3786\"], [0.5555555555555556, \"#d8576b\"], [0.6666666666666666, \"#ed7953\"], [0.7777777777777778, \"#fb9f3a\"], [0.8888888888888888, \"#fdca26\"], [1.0, \"#f0f921\"]], \"type\": \"histogram2d\"}], \"histogram2dcontour\": [{\"colorbar\": {\"outlinewidth\": 0, \"ticks\": \"\"}, \"colorscale\": [[0.0, \"#0d0887\"], [0.1111111111111111, \"#46039f\"], [0.2222222222222222, \"#7201a8\"], [0.3333333333333333, \"#9c179e\"], [0.4444444444444444, \"#bd3786\"], [0.5555555555555556, \"#d8576b\"], [0.6666666666666666, \"#ed7953\"], [0.7777777777777778, \"#fb9f3a\"], [0.8888888888888888, \"#fdca26\"], [1.0, \"#f0f921\"]], \"type\": \"histogram2dcontour\"}], \"mesh3d\": [{\"colorbar\": {\"outlinewidth\": 0, \"ticks\": \"\"}, \"type\": \"mesh3d\"}], \"parcoords\": [{\"line\": {\"colorbar\": {\"outlinewidth\": 0, \"ticks\": \"\"}}, \"type\": \"parcoords\"}], \"pie\": [{\"automargin\": true, \"type\": \"pie\"}], \"scatter\": [{\"marker\": {\"colorbar\": {\"outlinewidth\": 0, \"ticks\": \"\"}}, \"type\": \"scatter\"}], \"scatter3d\": [{\"line\": {\"colorbar\": {\"outlinewidth\": 0, \"ticks\": \"\"}}, \"marker\": {\"colorbar\": {\"outlinewidth\": 0, \"ticks\": \"\"}}, \"type\": \"scatter3d\"}], \"scattercarpet\": [{\"marker\": {\"colorbar\": {\"outlinewidth\": 0, \"ticks\": \"\"}}, \"type\": \"scattercarpet\"}], \"scattergeo\": [{\"marker\": {\"colorbar\": {\"outlinewidth\": 0, \"ticks\": \"\"}}, \"type\": \"scattergeo\"}], \"scattergl\": [{\"marker\": {\"colorbar\": {\"outlinewidth\": 0, \"ticks\": \"\"}}, \"type\": \"scattergl\"}], \"scattermapbox\": [{\"marker\": {\"colorbar\": {\"outlinewidth\": 0, \"ticks\": \"\"}}, \"type\": \"scattermapbox\"}], \"scatterpolar\": [{\"marker\": {\"colorbar\": {\"outlinewidth\": 0, \"ticks\": \"\"}}, \"type\": \"scatterpolar\"}], \"scatterpolargl\": [{\"marker\": {\"colorbar\": {\"outlinewidth\": 0, \"ticks\": \"\"}}, \"type\": \"scatterpolargl\"}], \"scatterternary\": [{\"marker\": {\"colorbar\": {\"outlinewidth\": 0, \"ticks\": \"\"}}, \"type\": \"scatterternary\"}], \"surface\": [{\"colorbar\": {\"outlinewidth\": 0, \"ticks\": \"\"}, \"colorscale\": [[0.0, \"#0d0887\"], [0.1111111111111111, \"#46039f\"], [0.2222222222222222, \"#7201a8\"], [0.3333333333333333, \"#9c179e\"], [0.4444444444444444, \"#bd3786\"], [0.5555555555555556, \"#d8576b\"], [0.6666666666666666, \"#ed7953\"], [0.7777777777777778, \"#fb9f3a\"], [0.8888888888888888, \"#fdca26\"], [1.0, \"#f0f921\"]], \"type\": \"surface\"}], \"table\": [{\"cells\": {\"fill\": {\"color\": \"#EBF0F8\"}, \"line\": {\"color\": \"white\"}}, \"header\": {\"fill\": {\"color\": \"#C8D4E3\"}, \"line\": {\"color\": \"white\"}}, \"type\": \"table\"}]}, \"layout\": {\"annotationdefaults\": {\"arrowcolor\": \"#2a3f5f\", \"arrowhead\": 0, \"arrowwidth\": 1}, \"autotypenumbers\": \"strict\", \"coloraxis\": {\"colorbar\": {\"outlinewidth\": 0, \"ticks\": \"\"}}, \"colorscale\": {\"diverging\": [[0, \"#8e0152\"], [0.1, \"#c51b7d\"], [0.2, \"#de77ae\"], [0.3, \"#f1b6da\"], [0.4, \"#fde0ef\"], [0.5, \"#f7f7f7\"], [0.6, \"#e6f5d0\"], [0.7, \"#b8e186\"], [0.8, \"#7fbc41\"], [0.9, \"#4d9221\"], [1, \"#276419\"]], \"sequential\": [[0.0, \"#0d0887\"], [0.1111111111111111, \"#46039f\"], [0.2222222222222222, \"#7201a8\"], [0.3333333333333333, \"#9c179e\"], [0.4444444444444444, \"#bd3786\"], [0.5555555555555556, \"#d8576b\"], [0.6666666666666666, \"#ed7953\"], [0.7777777777777778, \"#fb9f3a\"], [0.8888888888888888, \"#fdca26\"], [1.0, \"#f0f921\"]], \"sequentialminus\": [[0.0, \"#0d0887\"], [0.1111111111111111, \"#46039f\"], [0.2222222222222222, \"#7201a8\"], [0.3333333333333333, \"#9c179e\"], [0.4444444444444444, \"#bd3786\"], [0.5555555555555556, \"#d8576b\"], [0.6666666666666666, \"#ed7953\"], [0.7777777777777778, \"#fb9f3a\"], [0.8888888888888888, \"#fdca26\"], [1.0, \"#f0f921\"]]}, \"colorway\": [\"#636efa\", \"#EF553B\", \"#00cc96\", \"#ab63fa\", \"#FFA15A\", \"#19d3f3\", \"#FF6692\", \"#B6E880\", \"#FF97FF\", \"#FECB52\"], \"font\": {\"color\": \"#2a3f5f\"}, \"geo\": {\"bgcolor\": \"white\", \"lakecolor\": \"white\", \"landcolor\": \"#E5ECF6\", \"showlakes\": true, \"showland\": true, \"subunitcolor\": \"white\"}, \"hoverlabel\": {\"align\": \"left\"}, \"hovermode\": \"closest\", \"mapbox\": {\"style\": \"light\"}, \"paper_bgcolor\": \"white\", \"plot_bgcolor\": \"#E5ECF6\", \"polar\": {\"angularaxis\": {\"gridcolor\": \"white\", \"linecolor\": \"white\", \"ticks\": \"\"}, \"bgcolor\": \"#E5ECF6\", \"radialaxis\": {\"gridcolor\": \"white\", \"linecolor\": \"white\", \"ticks\": \"\"}}, \"scene\": {\"xaxis\": {\"backgroundcolor\": \"#E5ECF6\", \"gridcolor\": \"white\", \"gridwidth\": 2, \"linecolor\": \"white\", \"showbackground\": true, \"ticks\": \"\", \"zerolinecolor\": \"white\"}, \"yaxis\": {\"backgroundcolor\": \"#E5ECF6\", \"gridcolor\": \"white\", \"gridwidth\": 2, \"linecolor\": \"white\", \"showbackground\": true, \"ticks\": \"\", \"zerolinecolor\": \"white\"}, \"zaxis\": {\"backgroundcolor\": \"#E5ECF6\", \"gridcolor\": \"white\", \"gridwidth\": 2, \"linecolor\": \"white\", \"showbackground\": true, \"ticks\": \"\", \"zerolinecolor\": \"white\"}}, \"shapedefaults\": {\"line\": {\"color\": \"#2a3f5f\"}}, \"ternary\": {\"aaxis\": {\"gridcolor\": \"white\", \"linecolor\": \"white\", \"ticks\": \"\"}, \"baxis\": {\"gridcolor\": \"white\", \"linecolor\": \"white\", \"ticks\": \"\"}, \"bgcolor\": \"#E5ECF6\", \"caxis\": {\"gridcolor\": \"white\", \"linecolor\": \"white\", \"ticks\": \"\"}}, \"title\": {\"x\": 0.05}, \"xaxis\": {\"automargin\": true, \"gridcolor\": \"white\", \"linecolor\": \"white\", \"ticks\": \"\", \"title\": {\"standoff\": 15}, \"zerolinecolor\": \"white\", \"zerolinewidth\": 2}, \"yaxis\": {\"automargin\": true, \"gridcolor\": \"white\", \"linecolor\": \"white\", \"ticks\": \"\", \"title\": {\"standoff\": 15}, \"zerolinecolor\": \"white\", \"zerolinewidth\": 2}}}, \"title\": {\"text\": \"Tempo Perman\\u00eancia Obra x Percentual Crescimento\"}, \"xaxis\": {\"anchor\": \"y\", \"categoryorder\": \"category ascending\", \"domain\": [0.0, 1.0], \"title\": {\"text\": \"TempoPermanenciaObra\"}}, \"yaxis\": {\"anchor\": \"x\", \"domain\": [0.0, 1.0], \"title\": {\"text\": \"PercentualCrescimentoReal\"}}},                        {\"responsive\": true}                    ).then(function(){\n",
       "                            \n",
       "var gd = document.getElementById('f31f4533-ad9c-483a-a1e4-3c25da046ddc');\n",
       "var x = new MutationObserver(function (mutations, observer) {{\n",
       "        var display = window.getComputedStyle(gd).display;\n",
       "        if (!display || display === 'none') {{\n",
       "            console.log([gd, 'removed!']);\n",
       "            Plotly.purge(gd);\n",
       "            observer.disconnect();\n",
       "        }}\n",
       "}});\n",
       "\n",
       "// Listen for the removal of the full notebook cells\n",
       "var notebookContainer = gd.closest('#notebook-container');\n",
       "if (notebookContainer) {{\n",
       "    x.observe(notebookContainer, {childList: true});\n",
       "}}\n",
       "\n",
       "// Listen for the clearing of the current output cell\n",
       "var outputEl = gd.closest('.output');\n",
       "if (outputEl) {{\n",
       "    x.observe(outputEl, {childList: true});\n",
       "}}\n",
       "\n",
       "                        })                };                });            </script>        </div>"
      ]
     },
     "metadata": {},
     "output_type": "display_data"
    }
   ],
   "source": [
    "fig = px.scatter(dados_da, x=\"TempoPermanenciaObra\", y=\"PercentualCrescimentoReal\", title='Tempo Permanência Obra x Percentual Crescimento')\n",
    "fig.update_xaxes(categoryorder='category ascending')\n",
    "fig.show()"
   ]
  },
  {
   "cell_type": "code",
   "execution_count": 136,
   "metadata": {},
   "outputs": [
    {
     "data": {
      "text/plain": [
       "<AxesSubplot:>"
      ]
     },
     "execution_count": 136,
     "metadata": {},
     "output_type": "execute_result"
    },
    {
     "data": {
      "image/png": "[encoded data removed]",
      "text/plain": [
       "<Figure size 720x432 with 2 Axes>"
      ]
     },
     "metadata": {
      "needs_background": "light"
     },
     "output_type": "display_data"
    }
   ],
   "source": [
    "features_numericas = dados_da.select_dtypes(include=['int', 'float'])\n",
    "\n",
    "k = features_numericas.shape[1] #number of variables for heatmap\n",
    "cols = dados_da.corr().index\n",
    "cm = dados_da[cols].corr()\n",
    "plt.figure(figsize=(10,6))\n",
    "sns.heatmap(cm, annot=True, cmap = 'viridis')"
   ]
  },
  {
   "cell_type": "code",
   "execution_count": 137,
   "metadata": {},
   "outputs": [
    {
     "data": {
      "text/html": [
       "<div>\n",
       "<style scoped>\n",
       "    .dataframe tbody tr th:only-of-type {\n",
       "        vertical-align: middle;\n",
       "    }\n",
       "\n",
       "    .dataframe tbody tr th {\n",
       "        vertical-align: top;\n",
       "    }\n",
       "\n",
       "    .dataframe thead th {\n",
       "        text-align: right;\n",
       "    }\n",
       "</style>\n",
       "<table border=\"1\" class=\"dataframe\">\n",
       "  <thead>\n",
       "    <tr style=\"text-align: right;\">\n",
       "      <th></th>\n",
       "      <th>CodigoReceita</th>\n",
       "      <th>TipoLancamento</th>\n",
       "      <th>DataEmissaoNotaFiscal</th>\n",
       "      <th>CodigoCliente</th>\n",
       "      <th>CodigoMotorista</th>\n",
       "      <th>TempoPermanenciaObra</th>\n",
       "      <th>Idade</th>\n",
       "      <th>TipoTraco</th>\n",
       "      <th>CodigoAglomerante</th>\n",
       "      <th>FCK</th>\n",
       "      <th>Rompimento7Dias</th>\n",
       "      <th>Rompimento28Dias</th>\n",
       "      <th>UsaCimentoPuro</th>\n",
       "      <th>ResultadoProjetado</th>\n",
       "      <th>PercentualCrescimentoReal</th>\n",
       "      <th>PercentualCrescimentoProjetado</th>\n",
       "      <th>RelacaoAguaCimento</th>\n",
       "      <th>DataProjecao</th>\n",
       "    </tr>\n",
       "  </thead>\n",
       "  <tbody>\n",
       "    <tr>\n",
       "      <th>47841</th>\n",
       "      <td>12645051</td>\n",
       "      <td>B</td>\n",
       "      <td>2019-04-29 16:09:14.163</td>\n",
       "      <td>87878998</td>\n",
       "      <td>92079</td>\n",
       "      <td>00:30:00</td>\n",
       "      <td>28</td>\n",
       "      <td>N</td>\n",
       "      <td>17051.0</td>\n",
       "      <td>30.0</td>\n",
       "      <td>28.67</td>\n",
       "      <td>37.59</td>\n",
       "      <td>1</td>\n",
       "      <td>40.944186</td>\n",
       "      <td>31.112661</td>\n",
       "      <td>42.811951</td>\n",
       "      <td>0.571429</td>\n",
       "      <td>2019-05-03</td>\n",
       "    </tr>\n",
       "    <tr>\n",
       "      <th>48007</th>\n",
       "      <td>5749051</td>\n",
       "      <td>C</td>\n",
       "      <td>2019-05-03 12:30:28.247</td>\n",
       "      <td>854896998</td>\n",
       "      <td>49080</td>\n",
       "      <td>01:15:00</td>\n",
       "      <td>28</td>\n",
       "      <td>N</td>\n",
       "      <td>17051.0</td>\n",
       "      <td>30.0</td>\n",
       "      <td>34.54</td>\n",
       "      <td>42.62</td>\n",
       "      <td>1</td>\n",
       "      <td>47.981839</td>\n",
       "      <td>23.393167</td>\n",
       "      <td>38.916732</td>\n",
       "      <td>0.561798</td>\n",
       "      <td>2019-05-03</td>\n",
       "    </tr>\n",
       "    <tr>\n",
       "      <th>47843</th>\n",
       "      <td>12645051</td>\n",
       "      <td>B</td>\n",
       "      <td>2019-04-30 15:15:25.020</td>\n",
       "      <td>50467998</td>\n",
       "      <td>399051</td>\n",
       "      <td>00:18:00</td>\n",
       "      <td>28</td>\n",
       "      <td>N</td>\n",
       "      <td>17051.0</td>\n",
       "      <td>30.0</td>\n",
       "      <td>32.46</td>\n",
       "      <td>42.47</td>\n",
       "      <td>1</td>\n",
       "      <td>46.229004</td>\n",
       "      <td>30.837954</td>\n",
       "      <td>42.418373</td>\n",
       "      <td>0.568132</td>\n",
       "      <td>2019-05-03</td>\n",
       "    </tr>\n",
       "    <tr>\n",
       "      <th>47842</th>\n",
       "      <td>12645051</td>\n",
       "      <td>B</td>\n",
       "      <td>2019-04-30 11:53:26.733</td>\n",
       "      <td>50467998</td>\n",
       "      <td>340051</td>\n",
       "      <td>00:28:00</td>\n",
       "      <td>28</td>\n",
       "      <td>N</td>\n",
       "      <td>17051.0</td>\n",
       "      <td>30.0</td>\n",
       "      <td>32.04</td>\n",
       "      <td>43.79</td>\n",
       "      <td>1</td>\n",
       "      <td>45.644074</td>\n",
       "      <td>36.672909</td>\n",
       "      <td>42.459657</td>\n",
       "      <td>0.571429</td>\n",
       "      <td>2019-05-03</td>\n",
       "    </tr>\n",
       "    <tr>\n",
       "      <th>48004</th>\n",
       "      <td>42834051</td>\n",
       "      <td>B</td>\n",
       "      <td>2019-05-03 07:04:18.073</td>\n",
       "      <td>81763998</td>\n",
       "      <td>11148</td>\n",
       "      <td>00:53:00</td>\n",
       "      <td>28</td>\n",
       "      <td>E</td>\n",
       "      <td>17051.0</td>\n",
       "      <td>30.0</td>\n",
       "      <td>30.88</td>\n",
       "      <td>40.35</td>\n",
       "      <td>1</td>\n",
       "      <td>43.052097</td>\n",
       "      <td>30.667098</td>\n",
       "      <td>39.417414</td>\n",
       "      <td>0.498471</td>\n",
       "      <td>2019-05-03</td>\n",
       "    </tr>\n",
       "  </tbody>\n",
       "</table>\n",
       "</div>"
      ],
      "text/plain": [
       "       CodigoReceita TipoLancamento    DataEmissaoNotaFiscal  CodigoCliente  \\\n",
       "47841       12645051              B  2019-04-29 16:09:14.163       87878998   \n",
       "48007        5749051              C  2019-05-03 12:30:28.247      854896998   \n",
       "47843       12645051              B  2019-04-30 15:15:25.020       50467998   \n",
       "47842       12645051              B  2019-04-30 11:53:26.733       50467998   \n",
       "48004       42834051              B  2019-05-03 07:04:18.073       81763998   \n",
       "\n",
       "       CodigoMotorista TempoPermanenciaObra  Idade TipoTraco  \\\n",
       "47841            92079             00:30:00     28         N   \n",
       "48007            49080             01:15:00     28         N   \n",
       "47843           399051             00:18:00     28         N   \n",
       "47842           340051             00:28:00     28         N   \n",
       "48004            11148             00:53:00     28         E   \n",
       "\n",
       "       CodigoAglomerante   FCK  Rompimento7Dias  Rompimento28Dias  \\\n",
       "47841            17051.0  30.0            28.67             37.59   \n",
       "48007            17051.0  30.0            34.54             42.62   \n",
       "47843            17051.0  30.0            32.46             42.47   \n",
       "47842            17051.0  30.0            32.04             43.79   \n",
       "48004            17051.0  30.0            30.88             40.35   \n",
       "\n",
       "       UsaCimentoPuro  ResultadoProjetado  PercentualCrescimentoReal  \\\n",
       "47841               1           40.944186                  31.112661   \n",
       "48007               1           47.981839                  23.393167   \n",
       "47843               1           46.229004                  30.837954   \n",
       "47842               1           45.644074                  36.672909   \n",
       "48004               1           43.052097                  30.667098   \n",
       "\n",
       "       PercentualCrescimentoProjetado  RelacaoAguaCimento DataProjecao  \n",
       "47841                       42.811951            0.571429   2019-05-03  \n",
       "48007                       38.916732            0.561798   2019-05-03  \n",
       "47843                       42.418373            0.568132   2019-05-03  \n",
       "47842                       42.459657            0.571429   2019-05-03  \n",
       "48004                       39.417414            0.498471   2019-05-03  "
      ]
     },
     "execution_count": 137,
     "metadata": {},
     "output_type": "execute_result"
    }
   ],
   "source": [
    "dados_da.head()"
   ]
  },
  {
   "cell_type": "code",
   "execution_count": 138,
   "metadata": {},
   "outputs": [
    {
     "data": {
      "application/vnd.plotly.v1+json": {
       "config": {
        "plotlyServerURL": "https://plot.ly"
       },
       "data": [
        {
         "alignmentgroup": "True",
         "hovertemplate": "TempoPermanenciaObra=%{x}<extra></extra>",
         "legendgroup": "",
         "marker": {
          "color": "#636efa"
         },
         "name": "",
         "notched": false,
         "offsetgroup": "",
         "orientation": "h",
         "showlegend": false,
         "type": "box",
         "x": [
          "00:30:00",
          "01:15:00",
          "00:18:00",
          "00:28:00",
          "00:53:00",
          "00:55:00",
          "00:15:00",
          "00:21:00",
          "01:23:00",
          "00:13:00",
          "00:19:00",
          "00:24:00",
          "00:37:00",
          "01:28:00",
          "00:31:00",
          "00:28:00",
          "00:26:00",
          "00:37:00",
          "01:05:00",
          "00:35:00",
          "00:30:00",
          "02:03:00"
         ],
         "x0": " ",
         "xaxis": "x",
         "y0": " ",
         "yaxis": "y"
        }
       ],
       "layout": {
        "boxmode": "group",
        "legend": {
         "tracegroupgap": 0
        },
        "template": {
         "data": {
          "bar": [
           {
            "error_x": {
             "color": "#2a3f5f"
            },
            "error_y": {
             "color": "#2a3f5f"
            },
            "marker": {
             "line": {
              "color": "#E5ECF6",
              "width": 0.5
             }
            },
            "type": "bar"
           }
          ],
          "barpolar": [
           {
            "marker": {
             "line": {
              "color": "#E5ECF6",
              "width": 0.5
             }
            },
            "type": "barpolar"
           }
          ],
          "carpet": [
           {
            "aaxis": {
             "endlinecolor": "#2a3f5f",
             "gridcolor": "white",
             "linecolor": "white",
             "minorgridcolor": "white",
             "startlinecolor": "#2a3f5f"
            },
            "baxis": {
             "endlinecolor": "#2a3f5f",
             "gridcolor": "white",
             "linecolor": "white",
             "minorgridcolor": "white",
             "startlinecolor": "#2a3f5f"
            },
            "type": "carpet"
           }
          ],
          "choropleth": [
           {
            "colorbar": {
             "outlinewidth": 0,
             "ticks": ""
            },
            "type": "choropleth"
           }
          ],
          "contour": [
           {
            "colorbar": {
             "outlinewidth": 0,
             "ticks": ""
            },
            "colorscale": [
             [
              0,
              "#0d0887"
             ],
             [
              0.1111111111111111,
              "#46039f"
             ],
             [
              0.2222222222222222,
              "#7201a8"
             ],
             [
              0.3333333333333333,
              "#9c179e"
             ],
             [
              0.4444444444444444,
              "#bd3786"
             ],
             [
              0.5555555555555556,
              "#d8576b"
             ],
             [
              0.6666666666666666,
              "#ed7953"
             ],
             [
              0.7777777777777778,
              "#fb9f3a"
             ],
             [
              0.8888888888888888,
              "#fdca26"
             ],
             [
              1,
              "#f0f921"
             ]
            ],
            "type": "contour"
           }
          ],
          "contourcarpet": [
           {
            "colorbar": {
             "outlinewidth": 0,
             "ticks": ""
            },
            "type": "contourcarpet"
           }
          ],
          "heatmap": [
           {
            "colorbar": {
             "outlinewidth": 0,
             "ticks": ""
            },
            "colorscale": [
             [
              0,
              "#0d0887"
             ],
             [
              0.1111111111111111,
              "#46039f"
             ],
             [
              0.2222222222222222,
              "#7201a8"
             ],
             [
              0.3333333333333333,
              "#9c179e"
             ],
             [
              0.4444444444444444,
              "#bd3786"
             ],
             [
              0.5555555555555556,
              "#d8576b"
             ],
             [
              0.6666666666666666,
              "#ed7953"
             ],
             [
              0.7777777777777778,
              "#fb9f3a"
             ],
             [
              0.8888888888888888,
              "#fdca26"
             ],
             [
              1,
              "#f0f921"
             ]
            ],
            "type": "heatmap"
           }
          ],
          "heatmapgl": [
           {
            "colorbar": {
             "outlinewidth": 0,
             "ticks": ""
            },
            "colorscale": [
             [
              0,
              "#0d0887"
             ],
             [
              0.1111111111111111,
              "#46039f"
             ],
             [
              0.2222222222222222,
              "#7201a8"
             ],
             [
              0.3333333333333333,
              "#9c179e"
             ],
             [
              0.4444444444444444,
              "#bd3786"
             ],
             [
              0.5555555555555556,
              "#d8576b"
             ],
             [
              0.6666666666666666,
              "#ed7953"
             ],
             [
              0.7777777777777778,
              "#fb9f3a"
             ],
             [
              0.8888888888888888,
              "#fdca26"
             ],
             [
              1,
              "#f0f921"
             ]
            ],
            "type": "heatmapgl"
           }
          ],
          "histogram": [
           {
            "marker": {
             "colorbar": {
              "outlinewidth": 0,
              "ticks": ""
             }
            },
            "type": "histogram"
           }
          ],
          "histogram2d": [
           {
            "colorbar": {
             "outlinewidth": 0,
             "ticks": ""
            },
            "colorscale": [
             [
              0,
              "#0d0887"
             ],
             [
              0.1111111111111111,
              "#46039f"
             ],
             [
              0.2222222222222222,
              "#7201a8"
             ],
             [
              0.3333333333333333,
              "#9c179e"
             ],
             [
              0.4444444444444444,
              "#bd3786"
             ],
             [
              0.5555555555555556,
              "#d8576b"
             ],
             [
              0.6666666666666666,
              "#ed7953"
             ],
             [
              0.7777777777777778,
              "#fb9f3a"
             ],
             [
              0.8888888888888888,
              "#fdca26"
             ],
             [
              1,
              "#f0f921"
             ]
            ],
            "type": "histogram2d"
           }
          ],
          "histogram2dcontour": [
           {
            "colorbar": {
             "outlinewidth": 0,
             "ticks": ""
            },
            "colorscale": [
             [
              0,
              "#0d0887"
             ],
             [
              0.1111111111111111,
              "#46039f"
             ],
             [
              0.2222222222222222,
              "#7201a8"
             ],
             [
              0.3333333333333333,
              "#9c179e"
             ],
             [
              0.4444444444444444,
              "#bd3786"
             ],
             [
              0.5555555555555556,
              "#d8576b"
             ],
             [
              0.6666666666666666,
              "#ed7953"
             ],
             [
              0.7777777777777778,
              "#fb9f3a"
             ],
             [
              0.8888888888888888,
              "#fdca26"
             ],
             [
              1,
              "#f0f921"
             ]
            ],
            "type": "histogram2dcontour"
           }
          ],
          "mesh3d": [
           {
            "colorbar": {
             "outlinewidth": 0,
             "ticks": ""
            },
            "type": "mesh3d"
           }
          ],
          "parcoords": [
           {
            "line": {
             "colorbar": {
              "outlinewidth": 0,
              "ticks": ""
             }
            },
            "type": "parcoords"
           }
          ],
          "pie": [
           {
            "automargin": true,
            "type": "pie"
           }
          ],
          "scatter": [
           {
            "marker": {
             "colorbar": {
              "outlinewidth": 0,
              "ticks": ""
             }
            },
            "type": "scatter"
           }
          ],
          "scatter3d": [
           {
            "line": {
             "colorbar": {
              "outlinewidth": 0,
              "ticks": ""
             }
            },
            "marker": {
             "colorbar": {
              "outlinewidth": 0,
              "ticks": ""
             }
            },
            "type": "scatter3d"
           }
          ],
          "scattercarpet": [
           {
            "marker": {
             "colorbar": {
              "outlinewidth": 0,
              "ticks": ""
             }
            },
            "type": "scattercarpet"
           }
          ],
          "scattergeo": [
           {
            "marker": {
             "colorbar": {
              "outlinewidth": 0,
              "ticks": ""
             }
            },
            "type": "scattergeo"
           }
          ],
          "scattergl": [
           {
            "marker": {
             "colorbar": {
              "outlinewidth": 0,
              "ticks": ""
             }
            },
            "type": "scattergl"
           }
          ],
          "scattermapbox": [
           {
            "marker": {
             "colorbar": {
              "outlinewidth": 0,
              "ticks": ""
             }
            },
            "type": "scattermapbox"
           }
          ],
          "scatterpolar": [
           {
            "marker": {
             "colorbar": {
              "outlinewidth": 0,
              "ticks": ""
             }
            },
            "type": "scatterpolar"
           }
          ],
          "scatterpolargl": [
           {
            "marker": {
             "colorbar": {
              "outlinewidth": 0,
              "ticks": ""
             }
            },
            "type": "scatterpolargl"
           }
          ],
          "scatterternary": [
           {
            "marker": {
             "colorbar": {
              "outlinewidth": 0,
              "ticks": ""
             }
            },
            "type": "scatterternary"
           }
          ],
          "surface": [
           {
            "colorbar": {
             "outlinewidth": 0,
             "ticks": ""
            },
            "colorscale": [
             [
              0,
              "#0d0887"
             ],
             [
              0.1111111111111111,
              "#46039f"
             ],
             [
              0.2222222222222222,
              "#7201a8"
             ],
             [
              0.3333333333333333,
              "#9c179e"
             ],
             [
              0.4444444444444444,
              "#bd3786"
             ],
             [
              0.5555555555555556,
              "#d8576b"
             ],
             [
              0.6666666666666666,
              "#ed7953"
             ],
             [
              0.7777777777777778,
              "#fb9f3a"
             ],
             [
              0.8888888888888888,
              "#fdca26"
             ],
             [
              1,
              "#f0f921"
             ]
            ],
            "type": "surface"
           }
          ],
          "table": [
           {
            "cells": {
             "fill": {
              "color": "#EBF0F8"
             },
             "line": {
              "color": "white"
             }
            },
            "header": {
             "fill": {
              "color": "#C8D4E3"
             },
             "line": {
              "color": "white"
             }
            },
            "type": "table"
           }
          ]
         },
         "layout": {
          "annotationdefaults": {
           "arrowcolor": "#2a3f5f",
           "arrowhead": 0,
           "arrowwidth": 1
          },
          "autotypenumbers": "strict",
          "coloraxis": {
           "colorbar": {
            "outlinewidth": 0,
            "ticks": ""
           }
          },
          "colorscale": {
           "diverging": [
            [
             0,
             "#8e0152"
            ],
            [
             0.1,
             "#c51b7d"
            ],
            [
             0.2,
             "#de77ae"
            ],
            [
             0.3,
             "#f1b6da"
            ],
            [
             0.4,
             "#fde0ef"
            ],
            [
             0.5,
             "#f7f7f7"
            ],
            [
             0.6,
             "#e6f5d0"
            ],
            [
             0.7,
             "#b8e186"
            ],
            [
             0.8,
             "#7fbc41"
            ],
            [
             0.9,
             "#4d9221"
            ],
            [
             1,
             "#276419"
            ]
           ],
           "sequential": [
            [
             0,
             "#0d0887"
            ],
            [
             0.1111111111111111,
             "#46039f"
            ],
            [
             0.2222222222222222,
             "#7201a8"
            ],
            [
             0.3333333333333333,
             "#9c179e"
            ],
            [
             0.4444444444444444,
             "#bd3786"
            ],
            [
             0.5555555555555556,
             "#d8576b"
            ],
            [
             0.6666666666666666,
             "#ed7953"
            ],
            [
             0.7777777777777778,
             "#fb9f3a"
            ],
            [
             0.8888888888888888,
             "#fdca26"
            ],
            [
             1,
             "#f0f921"
            ]
           ],
           "sequentialminus": [
            [
             0,
             "#0d0887"
            ],
            [
             0.1111111111111111,
             "#46039f"
            ],
            [
             0.2222222222222222,
             "#7201a8"
            ],
            [
             0.3333333333333333,
             "#9c179e"
            ],
            [
             0.4444444444444444,
             "#bd3786"
            ],
            [
             0.5555555555555556,
             "#d8576b"
            ],
            [
             0.6666666666666666,
             "#ed7953"
            ],
            [
             0.7777777777777778,
             "#fb9f3a"
            ],
            [
             0.8888888888888888,
             "#fdca26"
            ],
            [
             1,
             "#f0f921"
            ]
           ]
          },
          "colorway": [
           "#636efa",
           "#EF553B",
           "#00cc96",
           "#ab63fa",
           "#FFA15A",
           "#19d3f3",
           "#FF6692",
           "#B6E880",
           "#FF97FF",
           "#FECB52"
          ],
          "font": {
           "color": "#2a3f5f"
          },
          "geo": {
           "bgcolor": "white",
           "lakecolor": "white",
           "landcolor": "#E5ECF6",
           "showlakes": true,
           "showland": true,
           "subunitcolor": "white"
          },
          "hoverlabel": {
           "align": "left"
          },
          "hovermode": "closest",
          "mapbox": {
           "style": "light"
          },
          "paper_bgcolor": "white",
          "plot_bgcolor": "#E5ECF6",
          "polar": {
           "angularaxis": {
            "gridcolor": "white",
            "linecolor": "white",
            "ticks": ""
           },
           "bgcolor": "#E5ECF6",
           "radialaxis": {
            "gridcolor": "white",
            "linecolor": "white",
            "ticks": ""
           }
          },
          "scene": {
           "xaxis": {
            "backgroundcolor": "#E5ECF6",
            "gridcolor": "white",
            "gridwidth": 2,
            "linecolor": "white",
            "showbackground": true,
            "ticks": "",
            "zerolinecolor": "white"
           },
           "yaxis": {
            "backgroundcolor": "#E5ECF6",
            "gridcolor": "white",
            "gridwidth": 2,
            "linecolor": "white",
            "showbackground": true,
            "ticks": "",
            "zerolinecolor": "white"
           },
           "zaxis": {
            "backgroundcolor": "#E5ECF6",
            "gridcolor": "white",
            "gridwidth": 2,
            "linecolor": "white",
            "showbackground": true,
            "ticks": "",
            "zerolinecolor": "white"
           }
          },
          "shapedefaults": {
           "line": {
            "color": "#2a3f5f"
           }
          },
          "ternary": {
           "aaxis": {
            "gridcolor": "white",
            "linecolor": "white",
            "ticks": ""
           },
           "baxis": {
            "gridcolor": "white",
            "linecolor": "white",
            "ticks": ""
           },
           "bgcolor": "#E5ECF6",
           "caxis": {
            "gridcolor": "white",
            "linecolor": "white",
            "ticks": ""
           }
          },
          "title": {
           "x": 0.05
          },
          "xaxis": {
           "automargin": true,
           "gridcolor": "white",
           "linecolor": "white",
           "ticks": "",
           "title": {
            "standoff": 15
           },
           "zerolinecolor": "white",
           "zerolinewidth": 2
          },
          "yaxis": {
           "automargin": true,
           "gridcolor": "white",
           "linecolor": "white",
           "ticks": "",
           "title": {
            "standoff": 15
           },
           "zerolinecolor": "white",
           "zerolinewidth": 2
          }
         }
        },
        "title": {
         "text": "FCK x Percentual Crescimento"
        },
        "xaxis": {
         "anchor": "y",
         "categoryorder": "category ascending",
         "domain": [
          0,
          1
         ],
         "title": {
          "text": "TempoPermanenciaObra"
         }
        },
        "yaxis": {
         "anchor": "x",
         "domain": [
          0,
          1
         ]
        }
       }
      },
      "text/html": [
       "<div>                            <div id=\"8fba73a5-37ed-4ed5-8369-555b0c7552be\" class=\"plotly-graph-div\" style=\"height:525px; width:100%;\"></div>            <script type=\"text/javascript\">                require([\"plotly\"], function(Plotly) {                    window.PLOTLYENV=window.PLOTLYENV || {};                                    if (document.getElementById(\"8fba73a5-37ed-4ed5-8369-555b0c7552be\")) {                    Plotly.newPlot(                        \"8fba73a5-37ed-4ed5-8369-555b0c7552be\",                        [{\"alignmentgroup\": \"True\", \"hovertemplate\": \"TempoPermanenciaObra=%{x}<extra></extra>\", \"legendgroup\": \"\", \"marker\": {\"color\": \"#636efa\"}, \"name\": \"\", \"notched\": false, \"offsetgroup\": \"\", \"orientation\": \"h\", \"showlegend\": false, \"type\": \"box\", \"x\": [\"00:30:00\", \"01:15:00\", \"00:18:00\", \"00:28:00\", \"00:53:00\", \"00:55:00\", \"00:15:00\", \"00:21:00\", \"01:23:00\", \"00:13:00\", \"00:19:00\", \"00:24:00\", \"00:37:00\", \"01:28:00\", \"00:31:00\", \"00:28:00\", \"00:26:00\", \"00:37:00\", \"01:05:00\", \"00:35:00\", \"00:30:00\", \"02:03:00\"], \"x0\": \" \", \"xaxis\": \"x\", \"y0\": \" \", \"yaxis\": \"y\"}],                        {\"boxmode\": \"group\", \"legend\": {\"tracegroupgap\": 0}, \"template\": {\"data\": {\"bar\": [{\"error_x\": {\"color\": \"#2a3f5f\"}, \"error_y\": {\"color\": \"#2a3f5f\"}, \"marker\": {\"line\": {\"color\": \"#E5ECF6\", \"width\": 0.5}}, \"type\": \"bar\"}], \"barpolar\": [{\"marker\": {\"line\": {\"color\": \"#E5ECF6\", \"width\": 0.5}}, \"type\": \"barpolar\"}], \"carpet\": [{\"aaxis\": {\"endlinecolor\": \"#2a3f5f\", \"gridcolor\": \"white\", \"linecolor\": \"white\", \"minorgridcolor\": \"white\", \"startlinecolor\": \"#2a3f5f\"}, \"baxis\": {\"endlinecolor\": \"#2a3f5f\", \"gridcolor\": \"white\", \"linecolor\": \"white\", \"minorgridcolor\": \"white\", \"startlinecolor\": \"#2a3f5f\"}, \"type\": \"carpet\"}], \"choropleth\": [{\"colorbar\": {\"outlinewidth\": 0, \"ticks\": \"\"}, \"type\": \"choropleth\"}], \"contour\": [{\"colorbar\": {\"outlinewidth\": 0, \"ticks\": \"\"}, \"colorscale\": [[0.0, \"#0d0887\"], [0.1111111111111111, \"#46039f\"], [0.2222222222222222, \"#7201a8\"], [0.3333333333333333, \"#9c179e\"], [0.4444444444444444, \"#bd3786\"], [0.5555555555555556, \"#d8576b\"], [0.6666666666666666, \"#ed7953\"], [0.7777777777777778, \"#fb9f3a\"], [0.8888888888888888, \"#fdca26\"], [1.0, \"#f0f921\"]], \"type\": \"contour\"}], \"contourcarpet\": [{\"colorbar\": {\"outlinewidth\": 0, \"ticks\": \"\"}, \"type\": \"contourcarpet\"}], \"heatmap\": [{\"colorbar\": {\"outlinewidth\": 0, \"ticks\": \"\"}, \"colorscale\": [[0.0, \"#0d0887\"], [0.1111111111111111, \"#46039f\"], [0.2222222222222222, \"#7201a8\"], [0.3333333333333333, \"#9c179e\"], [0.4444444444444444, \"#bd3786\"], [0.5555555555555556, \"#d8576b\"], [0.6666666666666666, \"#ed7953\"], [0.7777777777777778, \"#fb9f3a\"], [0.8888888888888888, \"#fdca26\"], [1.0, \"#f0f921\"]], \"type\": \"heatmap\"}], \"heatmapgl\": [{\"colorbar\": {\"outlinewidth\": 0, \"ticks\": \"\"}, \"colorscale\": [[0.0, \"#0d0887\"], [0.1111111111111111, \"#46039f\"], [0.2222222222222222, \"#7201a8\"], [0.3333333333333333, \"#9c179e\"], [0.4444444444444444, \"#bd3786\"], [0.5555555555555556, \"#d8576b\"], [0.6666666666666666, \"#ed7953\"], [0.7777777777777778, \"#fb9f3a\"], [0.8888888888888888, \"#fdca26\"], [1.0, \"#f0f921\"]], \"type\": \"heatmapgl\"}], \"histogram\": [{\"marker\": {\"colorbar\": {\"outlinewidth\": 0, \"ticks\": \"\"}}, \"type\": \"histogram\"}], \"histogram2d\": [{\"colorbar\": {\"outlinewidth\": 0, \"ticks\": \"\"}, \"colorscale\": [[0.0, \"#0d0887\"], [0.1111111111111111, \"#46039f\"], [0.2222222222222222, \"#7201a8\"], [0.3333333333333333, \"#9c179e\"], [0.4444444444444444, \"#bd3786\"], [0.5555555555555556, \"#d8576b\"], [0.6666666666666666, \"#ed7953\"], [0.7777777777777778, \"#fb9f3a\"], [0.8888888888888888, \"#fdca26\"], [1.0, \"#f0f921\"]], \"type\": \"histogram2d\"}], \"histogram2dcontour\": [{\"colorbar\": {\"outlinewidth\": 0, \"ticks\": \"\"}, \"colorscale\": [[0.0, \"#0d0887\"], [0.1111111111111111, \"#46039f\"], [0.2222222222222222, \"#7201a8\"], [0.3333333333333333, \"#9c179e\"], [0.4444444444444444, \"#bd3786\"], [0.5555555555555556, \"#d8576b\"], [0.6666666666666666, \"#ed7953\"], [0.7777777777777778, \"#fb9f3a\"], [0.8888888888888888, \"#fdca26\"], [1.0, \"#f0f921\"]], \"type\": \"histogram2dcontour\"}], \"mesh3d\": [{\"colorbar\": {\"outlinewidth\": 0, \"ticks\": \"\"}, \"type\": \"mesh3d\"}], \"parcoords\": [{\"line\": {\"colorbar\": {\"outlinewidth\": 0, \"ticks\": \"\"}}, \"type\": \"parcoords\"}], \"pie\": [{\"automargin\": true, \"type\": \"pie\"}], \"scatter\": [{\"marker\": {\"colorbar\": {\"outlinewidth\": 0, \"ticks\": \"\"}}, \"type\": \"scatter\"}], \"scatter3d\": [{\"line\": {\"colorbar\": {\"outlinewidth\": 0, \"ticks\": \"\"}}, \"marker\": {\"colorbar\": {\"outlinewidth\": 0, \"ticks\": \"\"}}, \"type\": \"scatter3d\"}], \"scattercarpet\": [{\"marker\": {\"colorbar\": {\"outlinewidth\": 0, \"ticks\": \"\"}}, \"type\": \"scattercarpet\"}], \"scattergeo\": [{\"marker\": {\"colorbar\": {\"outlinewidth\": 0, \"ticks\": \"\"}}, \"type\": \"scattergeo\"}], \"scattergl\": [{\"marker\": {\"colorbar\": {\"outlinewidth\": 0, \"ticks\": \"\"}}, \"type\": \"scattergl\"}], \"scattermapbox\": [{\"marker\": {\"colorbar\": {\"outlinewidth\": 0, \"ticks\": \"\"}}, \"type\": \"scattermapbox\"}], \"scatterpolar\": [{\"marker\": {\"colorbar\": {\"outlinewidth\": 0, \"ticks\": \"\"}}, \"type\": \"scatterpolar\"}], \"scatterpolargl\": [{\"marker\": {\"colorbar\": {\"outlinewidth\": 0, \"ticks\": \"\"}}, \"type\": \"scatterpolargl\"}], \"scatterternary\": [{\"marker\": {\"colorbar\": {\"outlinewidth\": 0, \"ticks\": \"\"}}, \"type\": \"scatterternary\"}], \"surface\": [{\"colorbar\": {\"outlinewidth\": 0, \"ticks\": \"\"}, \"colorscale\": [[0.0, \"#0d0887\"], [0.1111111111111111, \"#46039f\"], [0.2222222222222222, \"#7201a8\"], [0.3333333333333333, \"#9c179e\"], [0.4444444444444444, \"#bd3786\"], [0.5555555555555556, \"#d8576b\"], [0.6666666666666666, \"#ed7953\"], [0.7777777777777778, \"#fb9f3a\"], [0.8888888888888888, \"#fdca26\"], [1.0, \"#f0f921\"]], \"type\": \"surface\"}], \"table\": [{\"cells\": {\"fill\": {\"color\": \"#EBF0F8\"}, \"line\": {\"color\": \"white\"}}, \"header\": {\"fill\": {\"color\": \"#C8D4E3\"}, \"line\": {\"color\": \"white\"}}, \"type\": \"table\"}]}, \"layout\": {\"annotationdefaults\": {\"arrowcolor\": \"#2a3f5f\", \"arrowhead\": 0, \"arrowwidth\": 1}, \"autotypenumbers\": \"strict\", \"coloraxis\": {\"colorbar\": {\"outlinewidth\": 0, \"ticks\": \"\"}}, \"colorscale\": {\"diverging\": [[0, \"#8e0152\"], [0.1, \"#c51b7d\"], [0.2, \"#de77ae\"], [0.3, \"#f1b6da\"], [0.4, \"#fde0ef\"], [0.5, \"#f7f7f7\"], [0.6, \"#e6f5d0\"], [0.7, \"#b8e186\"], [0.8, \"#7fbc41\"], [0.9, \"#4d9221\"], [1, \"#276419\"]], \"sequential\": [[0.0, \"#0d0887\"], [0.1111111111111111, \"#46039f\"], [0.2222222222222222, \"#7201a8\"], [0.3333333333333333, \"#9c179e\"], [0.4444444444444444, \"#bd3786\"], [0.5555555555555556, \"#d8576b\"], [0.6666666666666666, \"#ed7953\"], [0.7777777777777778, \"#fb9f3a\"], [0.8888888888888888, \"#fdca26\"], [1.0, \"#f0f921\"]], \"sequentialminus\": [[0.0, \"#0d0887\"], [0.1111111111111111, \"#46039f\"], [0.2222222222222222, \"#7201a8\"], [0.3333333333333333, \"#9c179e\"], [0.4444444444444444, \"#bd3786\"], [0.5555555555555556, \"#d8576b\"], [0.6666666666666666, \"#ed7953\"], [0.7777777777777778, \"#fb9f3a\"], [0.8888888888888888, \"#fdca26\"], [1.0, \"#f0f921\"]]}, \"colorway\": [\"#636efa\", \"#EF553B\", \"#00cc96\", \"#ab63fa\", \"#FFA15A\", \"#19d3f3\", \"#FF6692\", \"#B6E880\", \"#FF97FF\", \"#FECB52\"], \"font\": {\"color\": \"#2a3f5f\"}, \"geo\": {\"bgcolor\": \"white\", \"lakecolor\": \"white\", \"landcolor\": \"#E5ECF6\", \"showlakes\": true, \"showland\": true, \"subunitcolor\": \"white\"}, \"hoverlabel\": {\"align\": \"left\"}, \"hovermode\": \"closest\", \"mapbox\": {\"style\": \"light\"}, \"paper_bgcolor\": \"white\", \"plot_bgcolor\": \"#E5ECF6\", \"polar\": {\"angularaxis\": {\"gridcolor\": \"white\", \"linecolor\": \"white\", \"ticks\": \"\"}, \"bgcolor\": \"#E5ECF6\", \"radialaxis\": {\"gridcolor\": \"white\", \"linecolor\": \"white\", \"ticks\": \"\"}}, \"scene\": {\"xaxis\": {\"backgroundcolor\": \"#E5ECF6\", \"gridcolor\": \"white\", \"gridwidth\": 2, \"linecolor\": \"white\", \"showbackground\": true, \"ticks\": \"\", \"zerolinecolor\": \"white\"}, \"yaxis\": {\"backgroundcolor\": \"#E5ECF6\", \"gridcolor\": \"white\", \"gridwidth\": 2, \"linecolor\": \"white\", \"showbackground\": true, \"ticks\": \"\", \"zerolinecolor\": \"white\"}, \"zaxis\": {\"backgroundcolor\": \"#E5ECF6\", \"gridcolor\": \"white\", \"gridwidth\": 2, \"linecolor\": \"white\", \"showbackground\": true, \"ticks\": \"\", \"zerolinecolor\": \"white\"}}, \"shapedefaults\": {\"line\": {\"color\": \"#2a3f5f\"}}, \"ternary\": {\"aaxis\": {\"gridcolor\": \"white\", \"linecolor\": \"white\", \"ticks\": \"\"}, \"baxis\": {\"gridcolor\": \"white\", \"linecolor\": \"white\", \"ticks\": \"\"}, \"bgcolor\": \"#E5ECF6\", \"caxis\": {\"gridcolor\": \"white\", \"linecolor\": \"white\", \"ticks\": \"\"}}, \"title\": {\"x\": 0.05}, \"xaxis\": {\"automargin\": true, \"gridcolor\": \"white\", \"linecolor\": \"white\", \"ticks\": \"\", \"title\": {\"standoff\": 15}, \"zerolinecolor\": \"white\", \"zerolinewidth\": 2}, \"yaxis\": {\"automargin\": true, \"gridcolor\": \"white\", \"linecolor\": \"white\", \"ticks\": \"\", \"title\": {\"standoff\": 15}, \"zerolinecolor\": \"white\", \"zerolinewidth\": 2}}}, \"title\": {\"text\": \"FCK x Percentual Crescimento\"}, \"xaxis\": {\"anchor\": \"y\", \"categoryorder\": \"category ascending\", \"domain\": [0.0, 1.0], \"title\": {\"text\": \"TempoPermanenciaObra\"}}, \"yaxis\": {\"anchor\": \"x\", \"domain\": [0.0, 1.0]}},                        {\"responsive\": true}                    ).then(function(){\n",
       "                            \n",
       "var gd = document.getElementById('8fba73a5-37ed-4ed5-8369-555b0c7552be');\n",
       "var x = new MutationObserver(function (mutations, observer) {{\n",
       "        var display = window.getComputedStyle(gd).display;\n",
       "        if (!display || display === 'none') {{\n",
       "            console.log([gd, 'removed!']);\n",
       "            Plotly.purge(gd);\n",
       "            observer.disconnect();\n",
       "        }}\n",
       "}});\n",
       "\n",
       "// Listen for the removal of the full notebook cells\n",
       "var notebookContainer = gd.closest('#notebook-container');\n",
       "if (notebookContainer) {{\n",
       "    x.observe(notebookContainer, {childList: true});\n",
       "}}\n",
       "\n",
       "// Listen for the clearing of the current output cell\n",
       "var outputEl = gd.closest('.output');\n",
       "if (outputEl) {{\n",
       "    x.observe(outputEl, {childList: true});\n",
       "}}\n",
       "\n",
       "                        })                };                });            </script>        </div>"
      ]
     },
     "metadata": {},
     "output_type": "display_data"
    }
   ],
   "source": [
    "fig = px.box(dados_da, x=\"TempoPermanenciaObra\", title='FCK x Percentual Crescimento')\n",
    "fig.update_xaxes(categoryorder='category ascending')\n",
    "fig.show()"
   ]
  },
  {
   "cell_type": "code",
   "execution_count": 139,
   "metadata": {},
   "outputs": [],
   "source": [
    "def ClassificarTempoPermanenciaObra(item):\n",
    "    if (item[\"TempoPermanenciaObra\"] <= '00:30:00'):\n",
    "        return 1\n",
    "    elif (item[\"TempoPermanenciaObra\"] <= '01:00:00'):\n",
    "        return 2\n",
    "    elif (item[\"TempoPermanenciaObra\"] <= '01:30:00'):\n",
    "        return 3\n",
    "    elif (item[\"TempoPermanenciaObra\"] <= '02:00:00'):\n",
    "        return 4\n",
    "    else:\n",
    "        return 5"
   ]
  },
  {
   "cell_type": "code",
   "execution_count": 140,
   "metadata": {},
   "outputs": [],
   "source": [
    "#da[\"ClassificacaoTempoPermanenciaObra\"] = da.apply(ClassificarTempoPermanenciaObra, axis = \"columns\")"
   ]
  },
  {
   "cell_type": "code",
   "execution_count": 157,
   "metadata": {},
   "outputs": [],
   "source": [
    "dados_finais = dados_da[[\"CodigoReceita\", \"TipoLancamento\", \"TipoTraco\", \"FCK\", \"RelacaoAguaCimento\", \"Rompimento7Dias\", \"PercentualCrescimentoReal\"]]\n",
    "dados_finais_teste = dados_teste[[\"CodigoReceita\", \"TipoLancamento\", \"TipoTraco\", \"FCK\", \"RelacaoAguaCimento\", \"Rompimento7Dias\", \"PercentualCrescimentoReal\"]]"
   ]
  },
  {
   "cell_type": "code",
   "execution_count": 158,
   "metadata": {},
   "outputs": [
    {
     "name": "stderr",
     "output_type": "stream",
     "text": [
      "/home/marina/anaconda3/lib/python3.8/site-packages/pandas/core/series.py:4563: SettingWithCopyWarning:\n",
      "\n",
      "\n",
      "A value is trying to be set on a copy of a slice from a DataFrame\n",
      "\n",
      "See the caveats in the documentation: https://pandas.pydata.org/pandas-docs/stable/user_guide/indexing.html#returning-a-view-versus-a-copy\n",
      "\n"
     ]
    }
   ],
   "source": [
    "dados_finais[\"TipoLancamento\"].replace('C', 0, inplace = True)\n",
    "dados_finais[\"TipoLancamento\"].replace('B', 1, inplace = True)\n",
    "\n",
    "dados_finais_teste[\"TipoLancamento\"].replace('C', 0, inplace = True)\n",
    "dados_finais_teste[\"TipoLancamento\"].replace('B', 1, inplace = True)\n",
    "\n",
    "dados_finais[\"TipoTraco\"].replace('N', 0, inplace = True)\n",
    "dados_finais[\"TipoTraco\"].replace('E', 1, inplace = True)\n",
    "\n",
    "dados_finais_teste[\"TipoTraco\"].replace('N', 0, inplace = True)\n",
    "dados_finais_teste[\"TipoTraco\"].replace('E', 1, inplace = True)"
   ]
  },
  {
   "cell_type": "code",
   "execution_count": 159,
   "metadata": {},
   "outputs": [],
   "source": [
    "dados_finais.columns = ['CodigoReceita', 'EhLancamentoBombeavel', 'EhTracoEspecial', 'FCK', 'RelacaoAguaCimento',\n",
    "       'Rompimento7Dias', 'PercentualCrescimentoReal']\n",
    "\n",
    "dados_finais_teste.columns = ['CodigoReceita', 'EhLancamentoBombeavel', 'EhTracoEspecial', 'FCK', 'RelacaoAguaCimento',\n",
    "       'Rompimento7Dias', 'PercentualCrescimentoReal']"
   ]
  },
  {
   "cell_type": "code",
   "execution_count": 160,
   "metadata": {},
   "outputs": [
    {
     "data": {
      "text/html": [
       "<div>\n",
       "<style scoped>\n",
       "    .dataframe tbody tr th:only-of-type {\n",
       "        vertical-align: middle;\n",
       "    }\n",
       "\n",
       "    .dataframe tbody tr th {\n",
       "        vertical-align: top;\n",
       "    }\n",
       "\n",
       "    .dataframe thead th {\n",
       "        text-align: right;\n",
       "    }\n",
       "</style>\n",
       "<table border=\"1\" class=\"dataframe\">\n",
       "  <thead>\n",
       "    <tr style=\"text-align: right;\">\n",
       "      <th></th>\n",
       "      <th>CodigoReceita</th>\n",
       "      <th>EhLancamentoBombeavel</th>\n",
       "      <th>EhTracoEspecial</th>\n",
       "      <th>FCK</th>\n",
       "      <th>RelacaoAguaCimento</th>\n",
       "      <th>Rompimento7Dias</th>\n",
       "      <th>PercentualCrescimentoReal</th>\n",
       "    </tr>\n",
       "  </thead>\n",
       "  <tbody>\n",
       "    <tr>\n",
       "      <th>47841</th>\n",
       "      <td>12645051</td>\n",
       "      <td>1</td>\n",
       "      <td>0</td>\n",
       "      <td>30.0</td>\n",
       "      <td>0.571429</td>\n",
       "      <td>28.67</td>\n",
       "      <td>31.112661</td>\n",
       "    </tr>\n",
       "    <tr>\n",
       "      <th>48007</th>\n",
       "      <td>5749051</td>\n",
       "      <td>0</td>\n",
       "      <td>0</td>\n",
       "      <td>30.0</td>\n",
       "      <td>0.561798</td>\n",
       "      <td>34.54</td>\n",
       "      <td>23.393167</td>\n",
       "    </tr>\n",
       "    <tr>\n",
       "      <th>47843</th>\n",
       "      <td>12645051</td>\n",
       "      <td>1</td>\n",
       "      <td>0</td>\n",
       "      <td>30.0</td>\n",
       "      <td>0.568132</td>\n",
       "      <td>32.46</td>\n",
       "      <td>30.837954</td>\n",
       "    </tr>\n",
       "    <tr>\n",
       "      <th>47842</th>\n",
       "      <td>12645051</td>\n",
       "      <td>1</td>\n",
       "      <td>0</td>\n",
       "      <td>30.0</td>\n",
       "      <td>0.571429</td>\n",
       "      <td>32.04</td>\n",
       "      <td>36.672909</td>\n",
       "    </tr>\n",
       "    <tr>\n",
       "      <th>48004</th>\n",
       "      <td>42834051</td>\n",
       "      <td>1</td>\n",
       "      <td>1</td>\n",
       "      <td>30.0</td>\n",
       "      <td>0.498471</td>\n",
       "      <td>30.88</td>\n",
       "      <td>30.667098</td>\n",
       "    </tr>\n",
       "  </tbody>\n",
       "</table>\n",
       "</div>"
      ],
      "text/plain": [
       "       CodigoReceita  EhLancamentoBombeavel  EhTracoEspecial   FCK  \\\n",
       "47841       12645051                      1                0  30.0   \n",
       "48007        5749051                      0                0  30.0   \n",
       "47843       12645051                      1                0  30.0   \n",
       "47842       12645051                      1                0  30.0   \n",
       "48004       42834051                      1                1  30.0   \n",
       "\n",
       "       RelacaoAguaCimento  Rompimento7Dias  PercentualCrescimentoReal  \n",
       "47841            0.571429            28.67                  31.112661  \n",
       "48007            0.561798            34.54                  23.393167  \n",
       "47843            0.568132            32.46                  30.837954  \n",
       "47842            0.571429            32.04                  36.672909  \n",
       "48004            0.498471            30.88                  30.667098  "
      ]
     },
     "execution_count": 160,
     "metadata": {},
     "output_type": "execute_result"
    }
   ],
   "source": [
    "dados_finais.head()"
   ]
  },
  {
   "cell_type": "code",
   "execution_count": 161,
   "metadata": {},
   "outputs": [
    {
     "name": "stdout",
     "output_type": "stream",
     "text": [
      "<class 'pandas.core.frame.DataFrame'>\n",
      "Int64Index: 22 entries, 47841 to 48368\n",
      "Data columns (total 7 columns):\n",
      " #   Column                     Non-Null Count  Dtype  \n",
      "---  ------                     --------------  -----  \n",
      " 0   CodigoReceita              22 non-null     int64  \n",
      " 1   EhLancamentoBombeavel      22 non-null     int64  \n",
      " 2   EhTracoEspecial            22 non-null     int64  \n",
      " 3   FCK                        22 non-null     float64\n",
      " 4   RelacaoAguaCimento         22 non-null     float64\n",
      " 5   Rompimento7Dias            22 non-null     float64\n",
      " 6   PercentualCrescimentoReal  22 non-null     float64\n",
      "dtypes: float64(4), int64(3)\n",
      "memory usage: 1.4 KB\n"
     ]
    }
   ],
   "source": [
    "dados_finais.info()"
   ]
  },
  {
   "cell_type": "code",
   "execution_count": 162,
   "metadata": {},
   "outputs": [],
   "source": [
    "class TypeSelector(BaseEstimator, TransformerMixin):\n",
    "    def __init__(self, dtype):\n",
    "        self.dtype = dtype\n",
    "    def fit(self, X, y=None):\n",
    "        return self\n",
    "    def transform(self, X):        \n",
    "        assert isinstance(X, pd.DataFrame)\n",
    "        return X.select_dtypes(include=[self.dtype])\n",
    "    \n",
    "class Debug(BaseEstimator, TransformerMixin):\n",
    "    def __init__(self, dtype):\n",
    "        self.dtype = dtype\n",
    "    def fit(self, X, y=None):\n",
    "        return self\n",
    "    def transform(self, X):        \n",
    "        print(X)\n",
    "\n",
    "modelo = Pipeline([\n",
    "  ('features', FeatureUnion(\n",
    "      transformer_list=[\n",
    "          ('numericals', Pipeline([\n",
    "              ('selector', TypeSelector(np.number)),\n",
    "              ('scaler', MinMaxScaler())\n",
    "          ]))\n",
    "      ]\n",
    "  )),\n",
    "  ('model', GradientBoostingRegressor())\n",
    "])"
   ]
  },
  {
   "cell_type": "code",
   "execution_count": 163,
   "metadata": {},
   "outputs": [
    {
     "data": {
      "text/plain": [
       "Pipeline(steps=[('features',\n",
       "                 FeatureUnion(transformer_list=[('numericals',\n",
       "                                                 Pipeline(steps=[('selector',\n",
       "                                                                  TypeSelector(dtype=<class 'numpy.number'>)),\n",
       "                                                                 ('scaler',\n",
       "                                                                  MinMaxScaler())]))])),\n",
       "                ('model', GradientBoostingRegressor())])"
      ]
     },
     "execution_count": 163,
     "metadata": {},
     "output_type": "execute_result"
    }
   ],
   "source": [
    "x_train = dados_finais.drop(\"PercentualCrescimentoReal\", axis=1)\n",
    "y_train = dados_finais[\"PercentualCrescimentoReal\"]\n",
    "\n",
    "x_test = dados_finais_teste.drop(\"PercentualCrescimentoReal\", axis=1)\n",
    "y_test = dados_finais_teste[\"PercentualCrescimentoReal\"]\n",
    "\n",
    "#x_train, x_test, y_train, y_test = train_test_split(X, Y, test_size=0.3, random_state = 123)\n",
    "modelo.fit(x_train, y_train)"
   ]
  },
  {
   "cell_type": "code",
   "execution_count": 164,
   "metadata": {},
   "outputs": [],
   "source": [
    "y_pred = modelo.predict(x_test)"
   ]
  },
  {
   "cell_type": "code",
   "execution_count": 165,
   "metadata": {},
   "outputs": [],
   "source": [
    "dados_teste = da.loc[y_test.index]\n",
    "y_proj = dados_teste[\"PercentualCrescimentoProjetado\"]"
   ]
  },
  {
   "cell_type": "code",
   "execution_count": 166,
   "metadata": {},
   "outputs": [],
   "source": [
    "j = 0\n",
    "\n",
    "resultado_final_arvore = []\n",
    "\n",
    "for i in y_test.index:\n",
    "    diff_real_proj = (y_test[i] - y_proj[i])/y_test[i]\n",
    "    diff_real_pred = (y_test[i] - y_pred[j])/y_test[i]\n",
    "    \n",
    "    if (diff_real_proj <= diff_real_pred):\n",
    "        resultado_final_arvore.append('ModeloAntigo')\n",
    "    else:\n",
    "        resultado_final_arvore.append('ModeloNovo')\n",
    "        \n",
    "    j = j + 1"
   ]
  },
  {
   "cell_type": "code",
   "execution_count": 167,
   "metadata": {},
   "outputs": [
    {
     "data": {
      "text/plain": [
       "29"
      ]
     },
     "execution_count": 167,
     "metadata": {},
     "output_type": "execute_result"
    }
   ],
   "source": [
    "resultado_final_arvore.count('ModeloNovo')"
   ]
  },
  {
   "cell_type": "code",
   "execution_count": 168,
   "metadata": {
    "scrolled": true
   },
   "outputs": [
    {
     "data": {
      "text/plain": [
       "2"
      ]
     },
     "execution_count": 168,
     "metadata": {},
     "output_type": "execute_result"
    }
   ],
   "source": [
    "resultado_final_arvore.count('ModeloAntigo')"
   ]
  },
  {
   "cell_type": "code",
   "execution_count": 169,
   "metadata": {},
   "outputs": [
    {
     "data": {
      "text/plain": [
       "0.9354838709677419"
      ]
     },
     "execution_count": 169,
     "metadata": {},
     "output_type": "execute_result"
    }
   ],
   "source": [
    "resultado_final_arvore.count('ModeloNovo') / (resultado_final_arvore.count('ModeloNovo') + resultado_final_arvore.count('ModeloAntigo'))"
   ]
  },
  {
   "cell_type": "code",
   "execution_count": null,
   "metadata": {},
   "outputs": [],
   "source": []
  }
 ],
 "metadata": {
  "kernelspec": {
   "display_name": "Python 3",
   "language": "python",
   "name": "python3"
  },
  "language_info": {
   "codemirror_mode": {
    "name": "ipython",
    "version": 3
   },
   "file_extension": ".py",
   "mimetype": "text/x-python",
   "name": "python",
   "nbconvert_exporter": "python",
   "pygments_lexer": "ipython3",
   "version": "3.8.5"
  }
 },
 "nbformat": 4,
 "nbformat_minor": 4
}

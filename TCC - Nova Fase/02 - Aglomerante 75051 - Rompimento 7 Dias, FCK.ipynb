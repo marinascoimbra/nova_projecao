{
 "cells": [
  {
   "cell_type": "code",
   "execution_count": 49,
   "metadata": {},
   "outputs": [],
   "source": [
    "import pandas as pd\n",
    "import numpy as np\n",
    "import datetime as dt\n",
    "import seaborn as sns\n",
    "import matplotlib.pyplot as plt\n",
    "import plotly.express as px\n",
    "\n",
    "import xgboost as xgb\n",
    "from sklearn.preprocessing import MinMaxScaler\n",
    "from sklearn.ensemble import GradientBoostingRegressor\n",
    "from sklearn.pipeline import Pipeline, FeatureUnion\n",
    "from sklearn.model_selection import train_test_split\n",
    "from sklearn.base import BaseEstimator, TransformerMixin"
   ]
  },
  {
   "cell_type": "code",
   "execution_count": 50,
   "metadata": {},
   "outputs": [
    {
     "data": {
      "text/html": [
       "<div>\n",
       "<style scoped>\n",
       "    .dataframe tbody tr th:only-of-type {\n",
       "        vertical-align: middle;\n",
       "    }\n",
       "\n",
       "    .dataframe tbody tr th {\n",
       "        vertical-align: top;\n",
       "    }\n",
       "\n",
       "    .dataframe thead th {\n",
       "        text-align: right;\n",
       "    }\n",
       "</style>\n",
       "<table border=\"1\" class=\"dataframe\">\n",
       "  <thead>\n",
       "    <tr style=\"text-align: right;\">\n",
       "      <th></th>\n",
       "      <th>CodigoReceita</th>\n",
       "      <th>Volume</th>\n",
       "      <th>TipoLancamento</th>\n",
       "      <th>DataEmissaoNotaFiscal</th>\n",
       "      <th>CodigoCliente</th>\n",
       "      <th>CodigoMotorista</th>\n",
       "      <th>TempoPermanenciaObra</th>\n",
       "      <th>ConsumoTotal</th>\n",
       "      <th>Idade</th>\n",
       "      <th>TipoTraco</th>\n",
       "      <th>...</th>\n",
       "      <th>FCK</th>\n",
       "      <th>Rompimento7Dias</th>\n",
       "      <th>Rompimento28Dias</th>\n",
       "      <th>ConsumoPorM3</th>\n",
       "      <th>DesvioAplicado</th>\n",
       "      <th>ResultadoProjetado</th>\n",
       "      <th>PercentualCrescimentoReal</th>\n",
       "      <th>PercentualCrescimentoProjetado</th>\n",
       "      <th>RelacaoAguaCimento</th>\n",
       "      <th>DataProjecao</th>\n",
       "    </tr>\n",
       "  </thead>\n",
       "  <tbody>\n",
       "    <tr>\n",
       "      <th>0</th>\n",
       "      <td>672051</td>\n",
       "      <td>8.0</td>\n",
       "      <td>B</td>\n",
       "      <td>2015-01-16 07:35:31.770</td>\n",
       "      <td>6248051</td>\n",
       "      <td>11080</td>\n",
       "      <td>02:41:00</td>\n",
       "      <td>2.720.000</td>\n",
       "      <td>28</td>\n",
       "      <td>N</td>\n",
       "      <td>...</td>\n",
       "      <td>30.0</td>\n",
       "      <td>20.83</td>\n",
       "      <td>31.81</td>\n",
       "      <td>340.0</td>\n",
       "      <td>3.5</td>\n",
       "      <td>33.321754</td>\n",
       "      <td>52.712434</td>\n",
       "      <td>59.970014</td>\n",
       "      <td>0.535294</td>\n",
       "      <td>2015-01-16</td>\n",
       "    </tr>\n",
       "    <tr>\n",
       "      <th>1</th>\n",
       "      <td>672051</td>\n",
       "      <td>8.0</td>\n",
       "      <td>B</td>\n",
       "      <td>2015-01-16 08:20:03.153</td>\n",
       "      <td>6248051</td>\n",
       "      <td>87079</td>\n",
       "      <td>02:46:00</td>\n",
       "      <td>2.720.000</td>\n",
       "      <td>28</td>\n",
       "      <td>N</td>\n",
       "      <td>...</td>\n",
       "      <td>30.0</td>\n",
       "      <td>19.62</td>\n",
       "      <td>31.21</td>\n",
       "      <td>340.0</td>\n",
       "      <td>3.5</td>\n",
       "      <td>31.799067</td>\n",
       "      <td>59.072375</td>\n",
       "      <td>62.074756</td>\n",
       "      <td>0.535294</td>\n",
       "      <td>2015-01-16</td>\n",
       "    </tr>\n",
       "    <tr>\n",
       "      <th>2</th>\n",
       "      <td>672051</td>\n",
       "      <td>7.0</td>\n",
       "      <td>B</td>\n",
       "      <td>2015-01-16 10:05:20.293</td>\n",
       "      <td>6248051</td>\n",
       "      <td>43080</td>\n",
       "      <td>01:32:00</td>\n",
       "      <td>2.380.000</td>\n",
       "      <td>28</td>\n",
       "      <td>N</td>\n",
       "      <td>...</td>\n",
       "      <td>30.0</td>\n",
       "      <td>21.97</td>\n",
       "      <td>36.68</td>\n",
       "      <td>340.0</td>\n",
       "      <td>3.5</td>\n",
       "      <td>34.733698</td>\n",
       "      <td>66.954939</td>\n",
       "      <td>58.096029</td>\n",
       "      <td>0.535294</td>\n",
       "      <td>2015-01-16</td>\n",
       "    </tr>\n",
       "    <tr>\n",
       "      <th>3</th>\n",
       "      <td>672051</td>\n",
       "      <td>8.0</td>\n",
       "      <td>B</td>\n",
       "      <td>2015-01-20 18:52:57.373</td>\n",
       "      <td>12343051</td>\n",
       "      <td>43080</td>\n",
       "      <td>01:10:00</td>\n",
       "      <td>2.720.000</td>\n",
       "      <td>28</td>\n",
       "      <td>N</td>\n",
       "      <td>...</td>\n",
       "      <td>30.0</td>\n",
       "      <td>28.21</td>\n",
       "      <td>40.21</td>\n",
       "      <td>340.0</td>\n",
       "      <td>3.5</td>\n",
       "      <td>42.118539</td>\n",
       "      <td>42.538107</td>\n",
       "      <td>49.303577</td>\n",
       "      <td>0.535294</td>\n",
       "      <td>2015-01-23</td>\n",
       "    </tr>\n",
       "    <tr>\n",
       "      <th>4</th>\n",
       "      <td>672051</td>\n",
       "      <td>6.0</td>\n",
       "      <td>B</td>\n",
       "      <td>2015-01-21 07:08:54.847</td>\n",
       "      <td>6248051</td>\n",
       "      <td>42080</td>\n",
       "      <td>00:35:00</td>\n",
       "      <td>2.040.000</td>\n",
       "      <td>28</td>\n",
       "      <td>N</td>\n",
       "      <td>...</td>\n",
       "      <td>30.0</td>\n",
       "      <td>25.80</td>\n",
       "      <td>38.74</td>\n",
       "      <td>340.0</td>\n",
       "      <td>3.5</td>\n",
       "      <td>39.330637</td>\n",
       "      <td>50.155039</td>\n",
       "      <td>52.444329</td>\n",
       "      <td>0.535294</td>\n",
       "      <td>2015-01-23</td>\n",
       "    </tr>\n",
       "  </tbody>\n",
       "</table>\n",
       "<p>5 rows × 21 columns</p>\n",
       "</div>"
      ],
      "text/plain": [
       "   CodigoReceita  Volume TipoLancamento    DataEmissaoNotaFiscal  \\\n",
       "0         672051     8.0              B  2015-01-16 07:35:31.770   \n",
       "1         672051     8.0              B  2015-01-16 08:20:03.153   \n",
       "2         672051     7.0              B  2015-01-16 10:05:20.293   \n",
       "3         672051     8.0              B  2015-01-20 18:52:57.373   \n",
       "4         672051     6.0              B  2015-01-21 07:08:54.847   \n",
       "\n",
       "   CodigoCliente  CodigoMotorista TempoPermanenciaObra ConsumoTotal  Idade  \\\n",
       "0        6248051            11080             02:41:00    2.720.000     28   \n",
       "1        6248051            87079             02:46:00    2.720.000     28   \n",
       "2        6248051            43080             01:32:00    2.380.000     28   \n",
       "3       12343051            43080             01:10:00    2.720.000     28   \n",
       "4        6248051            42080             00:35:00    2.040.000     28   \n",
       "\n",
       "  TipoTraco  ...   FCK  Rompimento7Dias  Rompimento28Dias  ConsumoPorM3  \\\n",
       "0         N  ...  30.0            20.83             31.81         340.0   \n",
       "1         N  ...  30.0            19.62             31.21         340.0   \n",
       "2         N  ...  30.0            21.97             36.68         340.0   \n",
       "3         N  ...  30.0            28.21             40.21         340.0   \n",
       "4         N  ...  30.0            25.80             38.74         340.0   \n",
       "\n",
       "   DesvioAplicado  ResultadoProjetado  PercentualCrescimentoReal  \\\n",
       "0             3.5           33.321754                  52.712434   \n",
       "1             3.5           31.799067                  59.072375   \n",
       "2             3.5           34.733698                  66.954939   \n",
       "3             3.5           42.118539                  42.538107   \n",
       "4             3.5           39.330637                  50.155039   \n",
       "\n",
       "   PercentualCrescimentoProjetado  RelacaoAguaCimento  DataProjecao  \n",
       "0                       59.970014            0.535294    2015-01-16  \n",
       "1                       62.074756            0.535294    2015-01-16  \n",
       "2                       58.096029            0.535294    2015-01-16  \n",
       "3                       49.303577            0.535294    2015-01-23  \n",
       "4                       52.444329            0.535294    2015-01-23  \n",
       "\n",
       "[5 rows x 21 columns]"
      ]
     },
     "execution_count": 50,
     "metadata": {},
     "output_type": "execute_result"
    }
   ],
   "source": [
    "dados = pd.read_csv(\"dados_pre_processados.csv\")\n",
    "dados.drop(\"Unnamed: 0\", axis = \"columns\", inplace=True)\n",
    "dados.head()"
   ]
  },
  {
   "cell_type": "code",
   "execution_count": 51,
   "metadata": {},
   "outputs": [
    {
     "data": {
      "text/html": [
       "<div>\n",
       "<style scoped>\n",
       "    .dataframe tbody tr th:only-of-type {\n",
       "        vertical-align: middle;\n",
       "    }\n",
       "\n",
       "    .dataframe tbody tr th {\n",
       "        vertical-align: top;\n",
       "    }\n",
       "\n",
       "    .dataframe thead th {\n",
       "        text-align: right;\n",
       "    }\n",
       "</style>\n",
       "<table border=\"1\" class=\"dataframe\">\n",
       "  <thead>\n",
       "    <tr style=\"text-align: right;\">\n",
       "      <th></th>\n",
       "      <th>CodigoReceita</th>\n",
       "      <th>Volume</th>\n",
       "      <th>TipoLancamento</th>\n",
       "      <th>DataEmissaoNotaFiscal</th>\n",
       "      <th>CodigoCliente</th>\n",
       "      <th>CodigoMotorista</th>\n",
       "      <th>TempoPermanenciaObra</th>\n",
       "      <th>ConsumoTotal</th>\n",
       "      <th>Idade</th>\n",
       "      <th>TipoTraco</th>\n",
       "      <th>...</th>\n",
       "      <th>FCK</th>\n",
       "      <th>Rompimento7Dias</th>\n",
       "      <th>Rompimento28Dias</th>\n",
       "      <th>ConsumoPorM3</th>\n",
       "      <th>DesvioAplicado</th>\n",
       "      <th>ResultadoProjetado</th>\n",
       "      <th>PercentualCrescimentoReal</th>\n",
       "      <th>PercentualCrescimentoProjetado</th>\n",
       "      <th>RelacaoAguaCimento</th>\n",
       "      <th>DataProjecao</th>\n",
       "    </tr>\n",
       "  </thead>\n",
       "  <tbody>\n",
       "    <tr>\n",
       "      <th>38008</th>\n",
       "      <td>33488051</td>\n",
       "      <td>6.0</td>\n",
       "      <td>B</td>\n",
       "      <td>2017-03-08 14:43:53.140</td>\n",
       "      <td>133258051</td>\n",
       "      <td>812051</td>\n",
       "      <td>00:54:00</td>\n",
       "      <td>2.172.000</td>\n",
       "      <td>28</td>\n",
       "      <td>N</td>\n",
       "      <td>...</td>\n",
       "      <td>30.0</td>\n",
       "      <td>25.73</td>\n",
       "      <td>35.08</td>\n",
       "      <td>362.0</td>\n",
       "      <td>6.0</td>\n",
       "      <td>35.882105</td>\n",
       "      <td>36.338904</td>\n",
       "      <td>39.456298</td>\n",
       "      <td>0.538674</td>\n",
       "      <td>2017-03-10</td>\n",
       "    </tr>\n",
       "    <tr>\n",
       "      <th>38066</th>\n",
       "      <td>33535051</td>\n",
       "      <td>8.0</td>\n",
       "      <td>B</td>\n",
       "      <td>2017-11-13 08:06:27.303</td>\n",
       "      <td>225643998</td>\n",
       "      <td>85079</td>\n",
       "      <td>01:05:00</td>\n",
       "      <td>2.560.000</td>\n",
       "      <td>28</td>\n",
       "      <td>N</td>\n",
       "      <td>...</td>\n",
       "      <td>25.0</td>\n",
       "      <td>24.26</td>\n",
       "      <td>33.40</td>\n",
       "      <td>320.0</td>\n",
       "      <td>6.0</td>\n",
       "      <td>28.834552</td>\n",
       "      <td>37.675185</td>\n",
       "      <td>18.856358</td>\n",
       "      <td>0.559375</td>\n",
       "      <td>2017-11-17</td>\n",
       "    </tr>\n",
       "    <tr>\n",
       "      <th>38067</th>\n",
       "      <td>33535051</td>\n",
       "      <td>8.0</td>\n",
       "      <td>B</td>\n",
       "      <td>2017-11-21 07:35:58.153</td>\n",
       "      <td>225643998</td>\n",
       "      <td>624051</td>\n",
       "      <td>01:39:00</td>\n",
       "      <td>2.560.000</td>\n",
       "      <td>28</td>\n",
       "      <td>N</td>\n",
       "      <td>...</td>\n",
       "      <td>25.0</td>\n",
       "      <td>24.24</td>\n",
       "      <td>31.72</td>\n",
       "      <td>320.0</td>\n",
       "      <td>6.0</td>\n",
       "      <td>28.817159</td>\n",
       "      <td>30.858086</td>\n",
       "      <td>18.882667</td>\n",
       "      <td>0.678125</td>\n",
       "      <td>2017-11-24</td>\n",
       "    </tr>\n",
       "    <tr>\n",
       "      <th>38068</th>\n",
       "      <td>33535051</td>\n",
       "      <td>8.0</td>\n",
       "      <td>B</td>\n",
       "      <td>2017-12-11 08:50:55.937</td>\n",
       "      <td>225643998</td>\n",
       "      <td>731051</td>\n",
       "      <td>01:09:00</td>\n",
       "      <td>2.560.000</td>\n",
       "      <td>28</td>\n",
       "      <td>N</td>\n",
       "      <td>...</td>\n",
       "      <td>25.0</td>\n",
       "      <td>23.45</td>\n",
       "      <td>31.12</td>\n",
       "      <td>320.0</td>\n",
       "      <td>6.0</td>\n",
       "      <td>28.125844</td>\n",
       "      <td>32.707889</td>\n",
       "      <td>19.939631</td>\n",
       "      <td>0.678125</td>\n",
       "      <td>2017-12-15</td>\n",
       "    </tr>\n",
       "    <tr>\n",
       "      <th>38069</th>\n",
       "      <td>33535051</td>\n",
       "      <td>8.0</td>\n",
       "      <td>B</td>\n",
       "      <td>2017-12-12 08:02:35.123</td>\n",
       "      <td>225643998</td>\n",
       "      <td>340051</td>\n",
       "      <td>01:28:00</td>\n",
       "      <td>2.560.000</td>\n",
       "      <td>28</td>\n",
       "      <td>N</td>\n",
       "      <td>...</td>\n",
       "      <td>25.0</td>\n",
       "      <td>20.88</td>\n",
       "      <td>28.39</td>\n",
       "      <td>320.0</td>\n",
       "      <td>6.0</td>\n",
       "      <td>25.816563</td>\n",
       "      <td>35.967433</td>\n",
       "      <td>23.642543</td>\n",
       "      <td>0.678125</td>\n",
       "      <td>2017-12-15</td>\n",
       "    </tr>\n",
       "  </tbody>\n",
       "</table>\n",
       "<p>5 rows × 21 columns</p>\n",
       "</div>"
      ],
      "text/plain": [
       "       CodigoReceita  Volume TipoLancamento    DataEmissaoNotaFiscal  \\\n",
       "38008       33488051     6.0              B  2017-03-08 14:43:53.140   \n",
       "38066       33535051     8.0              B  2017-11-13 08:06:27.303   \n",
       "38067       33535051     8.0              B  2017-11-21 07:35:58.153   \n",
       "38068       33535051     8.0              B  2017-12-11 08:50:55.937   \n",
       "38069       33535051     8.0              B  2017-12-12 08:02:35.123   \n",
       "\n",
       "       CodigoCliente  CodigoMotorista TempoPermanenciaObra ConsumoTotal  \\\n",
       "38008      133258051           812051             00:54:00    2.172.000   \n",
       "38066      225643998            85079             01:05:00    2.560.000   \n",
       "38067      225643998           624051             01:39:00    2.560.000   \n",
       "38068      225643998           731051             01:09:00    2.560.000   \n",
       "38069      225643998           340051             01:28:00    2.560.000   \n",
       "\n",
       "       Idade TipoTraco  ...   FCK  Rompimento7Dias  Rompimento28Dias  \\\n",
       "38008     28         N  ...  30.0            25.73             35.08   \n",
       "38066     28         N  ...  25.0            24.26             33.40   \n",
       "38067     28         N  ...  25.0            24.24             31.72   \n",
       "38068     28         N  ...  25.0            23.45             31.12   \n",
       "38069     28         N  ...  25.0            20.88             28.39   \n",
       "\n",
       "       ConsumoPorM3  DesvioAplicado  ResultadoProjetado  \\\n",
       "38008         362.0             6.0           35.882105   \n",
       "38066         320.0             6.0           28.834552   \n",
       "38067         320.0             6.0           28.817159   \n",
       "38068         320.0             6.0           28.125844   \n",
       "38069         320.0             6.0           25.816563   \n",
       "\n",
       "       PercentualCrescimentoReal  PercentualCrescimentoProjetado  \\\n",
       "38008                  36.338904                       39.456298   \n",
       "38066                  37.675185                       18.856358   \n",
       "38067                  30.858086                       18.882667   \n",
       "38068                  32.707889                       19.939631   \n",
       "38069                  35.967433                       23.642543   \n",
       "\n",
       "       RelacaoAguaCimento  DataProjecao  \n",
       "38008            0.538674    2017-03-10  \n",
       "38066            0.559375    2017-11-17  \n",
       "38067            0.678125    2017-11-24  \n",
       "38068            0.678125    2017-12-15  \n",
       "38069            0.678125    2017-12-15  \n",
       "\n",
       "[5 rows x 21 columns]"
      ]
     },
     "execution_count": 51,
     "metadata": {},
     "output_type": "execute_result"
    }
   ],
   "source": [
    "mask_aglomerante = dados[\"CodigoAglomerante\"] == 75051\n",
    "dados_aglomerante = dados[mask_aglomerante]\n",
    "dados_aglomerante.head()"
   ]
  },
  {
   "cell_type": "code",
   "execution_count": 52,
   "metadata": {},
   "outputs": [
    {
     "data": {
      "text/plain": [
       "466"
      ]
     },
     "execution_count": 52,
     "metadata": {},
     "output_type": "execute_result"
    }
   ],
   "source": [
    "len(dados_aglomerante)"
   ]
  },
  {
   "cell_type": "code",
   "execution_count": 53,
   "metadata": {},
   "outputs": [
    {
     "data": {
      "application/vnd.plotly.v1+json": {
       "config": {
        "plotlyServerURL": "https://plot.ly"
       },
       "data": [
        {
         "alignmentgroup": "True",
         "hovertemplate": "TipoLancamento=%{x}<br>Rompimento28Dias=%{y}<extra></extra>",
         "legendgroup": "",
         "marker": {
          "color": "#636efa"
         },
         "name": "",
         "notched": false,
         "offsetgroup": "",
         "orientation": "v",
         "showlegend": false,
         "type": "box",
         "x": [
          "B",
          "B",
          "B",
          "B",
          "B",
          "B",
          "B",
          "B",
          "B",
          "C",
          "C",
          "C",
          "C",
          "C",
          "C",
          "B",
          "B",
          "B",
          "B",
          "B",
          "B",
          "B",
          "B",
          "B",
          "B",
          "B",
          "B",
          "B",
          "B",
          "B",
          "B",
          "B",
          "B",
          "B",
          "B",
          "B",
          "B",
          "B",
          "B",
          "B",
          "B",
          "B",
          "B",
          "B",
          "B",
          "B",
          "B",
          "B",
          "B",
          "B",
          "B",
          "B",
          "B",
          "B",
          "B",
          "B",
          "B",
          "B",
          "B",
          "B",
          "B",
          "B",
          "B",
          "B",
          "B",
          "B",
          "C",
          "C",
          "C",
          "C",
          "C",
          "C",
          "C",
          "C",
          "C",
          "C",
          "C",
          "C",
          "C",
          "C",
          "C",
          "C",
          "C",
          "C",
          "C",
          "C",
          "C",
          "C",
          "C",
          "C",
          "C",
          "C",
          "C",
          "C",
          "C",
          "B",
          "B",
          "B",
          "B",
          "B",
          "B",
          "B",
          "B",
          "B",
          "B",
          "B",
          "C",
          "C",
          "C",
          "B",
          "B",
          "B",
          "B",
          "B",
          "B",
          "B",
          "B",
          "B",
          "B",
          "B",
          "B",
          "B",
          "B",
          "B",
          "B",
          "B",
          "B",
          "B",
          "B",
          "B",
          "B",
          "B",
          "B",
          "B",
          "B",
          "B",
          "B",
          "B",
          "B",
          "B",
          "B",
          "B",
          "B",
          "B",
          "B",
          "B",
          "B",
          "B",
          "B",
          "B",
          "B",
          "B",
          "B",
          "B",
          "B",
          "B",
          "B",
          "B",
          "B",
          "B",
          "B",
          "B",
          "B",
          "B",
          "B",
          "B",
          "B",
          "B",
          "B",
          "B",
          "B",
          "B",
          "B",
          "B",
          "B",
          "B",
          "B",
          "B",
          "B",
          "C",
          "C",
          "C",
          "C",
          "C",
          "C",
          "C",
          "C",
          "C",
          "C",
          "C",
          "C",
          "C",
          "C",
          "C",
          "C",
          "C",
          "C",
          "C",
          "C",
          "C",
          "C",
          "C",
          "C",
          "C",
          "C",
          "C",
          "C",
          "C",
          "C",
          "C",
          "C",
          "C",
          "C",
          "C",
          "C",
          "C",
          "C",
          "C",
          "C",
          "C",
          "C",
          "C",
          "C",
          "C",
          "C",
          "C",
          "B",
          "B",
          "B",
          "B",
          "B",
          "B",
          "B",
          "B",
          "B",
          "B",
          "B",
          "B",
          "B",
          "B",
          "B",
          "B",
          "B",
          "B",
          "B",
          "B",
          "B",
          "B",
          "B",
          "B",
          "B",
          "B",
          "B",
          "B",
          "B",
          "B",
          "B",
          "B",
          "B",
          "B",
          "B",
          "B",
          "B",
          "B",
          "B",
          "B",
          "B",
          "B",
          "B",
          "B",
          "B",
          "B",
          "B",
          "B",
          "B",
          "B",
          "B",
          "B",
          "B",
          "B",
          "B",
          "B",
          "B",
          "B",
          "B",
          "B",
          "B",
          "B",
          "B",
          "B",
          "B",
          "B",
          "B",
          "B",
          "B",
          "B",
          "B",
          "B",
          "B",
          "B",
          "B",
          "B",
          "B",
          "B",
          "B",
          "B",
          "B",
          "B",
          "B",
          "B",
          "B",
          "B",
          "B",
          "B",
          "B",
          "B",
          "B",
          "B",
          "B",
          "B",
          "B",
          "B",
          "B",
          "B",
          "B",
          "B",
          "B",
          "B",
          "B",
          "B",
          "B",
          "B",
          "B",
          "B",
          "B",
          "B",
          "B",
          "B",
          "B",
          "B",
          "B",
          "B",
          "B",
          "B",
          "B",
          "B",
          "B",
          "B",
          "B",
          "B",
          "B",
          "B",
          "B",
          "B",
          "B",
          "B",
          "B",
          "B",
          "B",
          "B",
          "B",
          "B",
          "B",
          "B",
          "B",
          "B",
          "B",
          "B",
          "B",
          "B",
          "B",
          "B",
          "B",
          "B",
          "B",
          "B",
          "B",
          "B",
          "B",
          "B",
          "B",
          "B",
          "B",
          "B",
          "B",
          "B",
          "B",
          "B",
          "B",
          "B",
          "B",
          "B",
          "B",
          "B",
          "B",
          "B",
          "B",
          "B",
          "B",
          "B",
          "B",
          "B",
          "B",
          "B",
          "B",
          "B",
          "B",
          "B",
          "B",
          "C",
          "C",
          "C",
          "C",
          "C",
          "C",
          "C",
          "C",
          "B",
          "B",
          "B",
          "B",
          "B",
          "B",
          "B",
          "B",
          "B",
          "B",
          "B",
          "B",
          "B",
          "B",
          "B",
          "B",
          "B",
          "B",
          "B",
          "B",
          "B",
          "B",
          "B",
          "B",
          "B",
          "B",
          "B",
          "B",
          "B",
          "B",
          "B",
          "B",
          "B",
          "B",
          "B",
          "B",
          "B",
          "C",
          "B",
          "B",
          "B",
          "B",
          "B",
          "C",
          "C",
          "C",
          "C",
          "C",
          "C"
         ],
         "x0": " ",
         "xaxis": "x",
         "y": [
          35.08,
          33.4,
          31.72,
          31.12,
          28.39,
          29.7,
          27.47,
          27.61,
          31.63,
          26.3,
          27.13,
          22.49,
          24.66,
          16.96,
          20.15,
          30.93,
          31.9,
          31.3,
          30.83,
          31.02,
          30.3,
          30.6,
          30.6,
          33.52,
          32.47,
          32.41,
          32.14,
          33.9,
          32.83,
          35.01,
          51.28,
          43.52,
          42.89,
          49.06,
          44.21,
          45.48,
          44.6,
          38.14,
          33.43,
          46.48,
          46.74,
          46.78,
          42.62,
          46.6,
          46.46,
          52,
          49.79,
          51.63,
          49.51,
          41.84,
          38.95,
          52.97,
          49.15,
          33.26,
          33.77,
          38.85,
          37.04,
          35.9,
          37.06,
          36.23,
          33.84,
          36.62,
          33.86,
          36.65,
          34.59,
          37.24,
          25.32,
          26.27,
          25.46,
          28.11,
          30.02,
          25,
          31.89,
          30.4,
          30.58,
          32.55,
          27.38,
          23.81,
          22.79,
          20.28,
          23.33,
          24.34,
          20.74,
          18.1,
          21.53,
          22.81,
          20.43,
          21.72,
          20.52,
          23.31,
          22.72,
          22.04,
          24.11,
          26.34,
          25.23,
          39.12,
          34.09,
          31.18,
          31.25,
          30.49,
          31.01,
          34.94,
          34.73,
          33.26,
          30.4,
          39.45,
          36.56,
          37.59,
          34.38,
          27.27,
          26.77,
          24.99,
          26.67,
          29.5,
          29.06,
          31.79,
          27.15,
          28.49,
          29.67,
          28.73,
          38.37,
          37.64,
          44.87,
          43.54,
          45.08,
          37.38,
          44.91,
          37.72,
          35.68,
          31.77,
          30.22,
          32.61,
          33.11,
          36.06,
          33.79,
          31.01,
          34.14,
          36.59,
          32.32,
          36.4,
          35.01,
          36.48,
          35.68,
          37.27,
          38.2,
          39.58,
          41.4,
          38.88,
          37.34,
          33.03,
          37.85,
          36.12,
          41.45,
          32.42,
          33.51,
          37.2,
          33.63,
          38.44,
          32.46,
          32.78,
          28.08,
          33.8,
          30.87,
          26.86,
          40.19,
          38.51,
          39.11,
          43.12,
          39.79,
          38.92,
          40.86,
          42.29,
          33.2,
          34.45,
          38.18,
          43.15,
          37.24,
          34.5,
          45.71,
          29.78,
          27.93,
          30.76,
          35.22,
          36.01,
          29.84,
          30.51,
          28.5,
          32.35,
          34.28,
          32.74,
          33.45,
          33.71,
          30.4,
          29.56,
          27.56,
          28.85,
          29.74,
          30.78,
          28.53,
          31.74,
          32.92,
          35.62,
          38.09,
          36.31,
          37.81,
          35.4,
          36.2,
          35.11,
          30,
          26.39,
          27.87,
          28.99,
          25.41,
          25.14,
          29.98,
          25.54,
          25.21,
          32.73,
          25.01,
          24.54,
          34.88,
          29.67,
          30.69,
          36.28,
          34.07,
          28.25,
          37.54,
          39.53,
          31.48,
          29.69,
          32.49,
          35.22,
          34.09,
          35.22,
          33.79,
          37.96,
          37.03,
          37.66,
          40,
          32.44,
          35.92,
          31.86,
          35.2,
          35.89,
          35.39,
          40.53,
          40.14,
          34.91,
          38.42,
          36.59,
          30.88,
          34,
          32.64,
          30.87,
          35.15,
          31.94,
          35.39,
          37.73,
          37.77,
          32.05,
          38.36,
          42.61,
          43.19,
          38.3,
          37.46,
          31.07,
          32.51,
          33.02,
          38.61,
          28.72,
          30.44,
          30.26,
          27.53,
          34.54,
          26.54,
          27.39,
          21.2,
          33.9,
          31.71,
          34.49,
          35.72,
          27.98,
          26.02,
          29,
          27.06,
          26.39,
          24.03,
          33.17,
          27.43,
          31.39,
          28.41,
          30.16,
          29.92,
          30.02,
          29.46,
          27.31,
          28.38,
          29.64,
          30.5,
          40.23,
          39.69,
          35.81,
          34.7,
          38.75,
          30.32,
          35.07,
          29.37,
          33.09,
          31.39,
          31.19,
          31.76,
          33.84,
          30.49,
          34.47,
          29.24,
          31.72,
          38.11,
          35.69,
          37.13,
          34.04,
          33.82,
          32.46,
          30.58,
          29.93,
          34.49,
          38.16,
          32.56,
          32.54,
          32.31,
          32.6,
          29.51,
          31.26,
          32.16,
          31.26,
          33.01,
          21.27,
          23.67,
          25.79,
          29.67,
          27.15,
          22.14,
          25.69,
          23.59,
          27.62,
          24.96,
          22.79,
          22.12,
          22.21,
          22.79,
          26.82,
          25.29,
          32.84,
          26.07,
          25.56,
          26.66,
          27.64,
          26.95,
          32.4,
          27.28,
          27.28,
          29.56,
          31.61,
          37.24,
          33.4,
          36.56,
          37.67,
          33.07,
          34.88,
          39.48,
          37.77,
          41.83,
          40.1,
          39.59,
          40.66,
          31.24,
          40.21,
          39.14,
          36.4,
          38.04,
          40.48,
          36.24,
          35.22,
          37.81,
          25.1,
          26.16,
          29.65,
          25.89,
          28.43,
          27.34,
          28.71,
          30.68,
          27.69,
          33.25,
          31.54,
          28.22,
          32.02,
          38.06,
          37.31,
          33.48,
          38.79,
          42.01,
          38.08,
          34.63,
          28.4,
          32.64,
          33.01,
          38.7,
          33.66,
          34.69,
          22.25,
          27.36,
          31.42,
          31.74,
          30.62,
          29.6,
          28.29,
          37.17,
          34.45,
          37.54,
          39.44,
          42.79,
          37.86,
          37.46,
          36.98,
          41.96,
          44.3,
          39.97,
          42.35,
          37.32,
          36.4,
          35.29,
          35.55,
          33.93,
          34.74,
          36.2,
          32.68,
          30,
          30.44,
          31.34,
          29.48,
          33.72,
          28.94,
          34.8,
          21.92,
          33.07,
          31.74,
          29.56,
          37.04,
          34.65,
          33.19,
          34.38,
          36.17,
          49.94,
          38.19,
          28.88,
          28.01,
          29.1,
          32.45,
          25.68,
          31.51,
          22.32,
          20.79,
          33.29,
          49.8,
          48.35,
          46.11
         ],
         "y0": " ",
         "yaxis": "y"
        }
       ],
       "layout": {
        "boxmode": "group",
        "legend": {
         "tracegroupgap": 0
        },
        "template": {
         "data": {
          "bar": [
           {
            "error_x": {
             "color": "#2a3f5f"
            },
            "error_y": {
             "color": "#2a3f5f"
            },
            "marker": {
             "line": {
              "color": "#E5ECF6",
              "width": 0.5
             }
            },
            "type": "bar"
           }
          ],
          "barpolar": [
           {
            "marker": {
             "line": {
              "color": "#E5ECF6",
              "width": 0.5
             }
            },
            "type": "barpolar"
           }
          ],
          "carpet": [
           {
            "aaxis": {
             "endlinecolor": "#2a3f5f",
             "gridcolor": "white",
             "linecolor": "white",
             "minorgridcolor": "white",
             "startlinecolor": "#2a3f5f"
            },
            "baxis": {
             "endlinecolor": "#2a3f5f",
             "gridcolor": "white",
             "linecolor": "white",
             "minorgridcolor": "white",
             "startlinecolor": "#2a3f5f"
            },
            "type": "carpet"
           }
          ],
          "choropleth": [
           {
            "colorbar": {
             "outlinewidth": 0,
             "ticks": ""
            },
            "type": "choropleth"
           }
          ],
          "contour": [
           {
            "colorbar": {
             "outlinewidth": 0,
             "ticks": ""
            },
            "colorscale": [
             [
              0,
              "#0d0887"
             ],
             [
              0.1111111111111111,
              "#46039f"
             ],
             [
              0.2222222222222222,
              "#7201a8"
             ],
             [
              0.3333333333333333,
              "#9c179e"
             ],
             [
              0.4444444444444444,
              "#bd3786"
             ],
             [
              0.5555555555555556,
              "#d8576b"
             ],
             [
              0.6666666666666666,
              "#ed7953"
             ],
             [
              0.7777777777777778,
              "#fb9f3a"
             ],
             [
              0.8888888888888888,
              "#fdca26"
             ],
             [
              1,
              "#f0f921"
             ]
            ],
            "type": "contour"
           }
          ],
          "contourcarpet": [
           {
            "colorbar": {
             "outlinewidth": 0,
             "ticks": ""
            },
            "type": "contourcarpet"
           }
          ],
          "heatmap": [
           {
            "colorbar": {
             "outlinewidth": 0,
             "ticks": ""
            },
            "colorscale": [
             [
              0,
              "#0d0887"
             ],
             [
              0.1111111111111111,
              "#46039f"
             ],
             [
              0.2222222222222222,
              "#7201a8"
             ],
             [
              0.3333333333333333,
              "#9c179e"
             ],
             [
              0.4444444444444444,
              "#bd3786"
             ],
             [
              0.5555555555555556,
              "#d8576b"
             ],
             [
              0.6666666666666666,
              "#ed7953"
             ],
             [
              0.7777777777777778,
              "#fb9f3a"
             ],
             [
              0.8888888888888888,
              "#fdca26"
             ],
             [
              1,
              "#f0f921"
             ]
            ],
            "type": "heatmap"
           }
          ],
          "heatmapgl": [
           {
            "colorbar": {
             "outlinewidth": 0,
             "ticks": ""
            },
            "colorscale": [
             [
              0,
              "#0d0887"
             ],
             [
              0.1111111111111111,
              "#46039f"
             ],
             [
              0.2222222222222222,
              "#7201a8"
             ],
             [
              0.3333333333333333,
              "#9c179e"
             ],
             [
              0.4444444444444444,
              "#bd3786"
             ],
             [
              0.5555555555555556,
              "#d8576b"
             ],
             [
              0.6666666666666666,
              "#ed7953"
             ],
             [
              0.7777777777777778,
              "#fb9f3a"
             ],
             [
              0.8888888888888888,
              "#fdca26"
             ],
             [
              1,
              "#f0f921"
             ]
            ],
            "type": "heatmapgl"
           }
          ],
          "histogram": [
           {
            "marker": {
             "colorbar": {
              "outlinewidth": 0,
              "ticks": ""
             }
            },
            "type": "histogram"
           }
          ],
          "histogram2d": [
           {
            "colorbar": {
             "outlinewidth": 0,
             "ticks": ""
            },
            "colorscale": [
             [
              0,
              "#0d0887"
             ],
             [
              0.1111111111111111,
              "#46039f"
             ],
             [
              0.2222222222222222,
              "#7201a8"
             ],
             [
              0.3333333333333333,
              "#9c179e"
             ],
             [
              0.4444444444444444,
              "#bd3786"
             ],
             [
              0.5555555555555556,
              "#d8576b"
             ],
             [
              0.6666666666666666,
              "#ed7953"
             ],
             [
              0.7777777777777778,
              "#fb9f3a"
             ],
             [
              0.8888888888888888,
              "#fdca26"
             ],
             [
              1,
              "#f0f921"
             ]
            ],
            "type": "histogram2d"
           }
          ],
          "histogram2dcontour": [
           {
            "colorbar": {
             "outlinewidth": 0,
             "ticks": ""
            },
            "colorscale": [
             [
              0,
              "#0d0887"
             ],
             [
              0.1111111111111111,
              "#46039f"
             ],
             [
              0.2222222222222222,
              "#7201a8"
             ],
             [
              0.3333333333333333,
              "#9c179e"
             ],
             [
              0.4444444444444444,
              "#bd3786"
             ],
             [
              0.5555555555555556,
              "#d8576b"
             ],
             [
              0.6666666666666666,
              "#ed7953"
             ],
             [
              0.7777777777777778,
              "#fb9f3a"
             ],
             [
              0.8888888888888888,
              "#fdca26"
             ],
             [
              1,
              "#f0f921"
             ]
            ],
            "type": "histogram2dcontour"
           }
          ],
          "mesh3d": [
           {
            "colorbar": {
             "outlinewidth": 0,
             "ticks": ""
            },
            "type": "mesh3d"
           }
          ],
          "parcoords": [
           {
            "line": {
             "colorbar": {
              "outlinewidth": 0,
              "ticks": ""
             }
            },
            "type": "parcoords"
           }
          ],
          "pie": [
           {
            "automargin": true,
            "type": "pie"
           }
          ],
          "scatter": [
           {
            "marker": {
             "colorbar": {
              "outlinewidth": 0,
              "ticks": ""
             }
            },
            "type": "scatter"
           }
          ],
          "scatter3d": [
           {
            "line": {
             "colorbar": {
              "outlinewidth": 0,
              "ticks": ""
             }
            },
            "marker": {
             "colorbar": {
              "outlinewidth": 0,
              "ticks": ""
             }
            },
            "type": "scatter3d"
           }
          ],
          "scattercarpet": [
           {
            "marker": {
             "colorbar": {
              "outlinewidth": 0,
              "ticks": ""
             }
            },
            "type": "scattercarpet"
           }
          ],
          "scattergeo": [
           {
            "marker": {
             "colorbar": {
              "outlinewidth": 0,
              "ticks": ""
             }
            },
            "type": "scattergeo"
           }
          ],
          "scattergl": [
           {
            "marker": {
             "colorbar": {
              "outlinewidth": 0,
              "ticks": ""
             }
            },
            "type": "scattergl"
           }
          ],
          "scattermapbox": [
           {
            "marker": {
             "colorbar": {
              "outlinewidth": 0,
              "ticks": ""
             }
            },
            "type": "scattermapbox"
           }
          ],
          "scatterpolar": [
           {
            "marker": {
             "colorbar": {
              "outlinewidth": 0,
              "ticks": ""
             }
            },
            "type": "scatterpolar"
           }
          ],
          "scatterpolargl": [
           {
            "marker": {
             "colorbar": {
              "outlinewidth": 0,
              "ticks": ""
             }
            },
            "type": "scatterpolargl"
           }
          ],
          "scatterternary": [
           {
            "marker": {
             "colorbar": {
              "outlinewidth": 0,
              "ticks": ""
             }
            },
            "type": "scatterternary"
           }
          ],
          "surface": [
           {
            "colorbar": {
             "outlinewidth": 0,
             "ticks": ""
            },
            "colorscale": [
             [
              0,
              "#0d0887"
             ],
             [
              0.1111111111111111,
              "#46039f"
             ],
             [
              0.2222222222222222,
              "#7201a8"
             ],
             [
              0.3333333333333333,
              "#9c179e"
             ],
             [
              0.4444444444444444,
              "#bd3786"
             ],
             [
              0.5555555555555556,
              "#d8576b"
             ],
             [
              0.6666666666666666,
              "#ed7953"
             ],
             [
              0.7777777777777778,
              "#fb9f3a"
             ],
             [
              0.8888888888888888,
              "#fdca26"
             ],
             [
              1,
              "#f0f921"
             ]
            ],
            "type": "surface"
           }
          ],
          "table": [
           {
            "cells": {
             "fill": {
              "color": "#EBF0F8"
             },
             "line": {
              "color": "white"
             }
            },
            "header": {
             "fill": {
              "color": "#C8D4E3"
             },
             "line": {
              "color": "white"
             }
            },
            "type": "table"
           }
          ]
         },
         "layout": {
          "annotationdefaults": {
           "arrowcolor": "#2a3f5f",
           "arrowhead": 0,
           "arrowwidth": 1
          },
          "autotypenumbers": "strict",
          "coloraxis": {
           "colorbar": {
            "outlinewidth": 0,
            "ticks": ""
           }
          },
          "colorscale": {
           "diverging": [
            [
             0,
             "#8e0152"
            ],
            [
             0.1,
             "#c51b7d"
            ],
            [
             0.2,
             "#de77ae"
            ],
            [
             0.3,
             "#f1b6da"
            ],
            [
             0.4,
             "#fde0ef"
            ],
            [
             0.5,
             "#f7f7f7"
            ],
            [
             0.6,
             "#e6f5d0"
            ],
            [
             0.7,
             "#b8e186"
            ],
            [
             0.8,
             "#7fbc41"
            ],
            [
             0.9,
             "#4d9221"
            ],
            [
             1,
             "#276419"
            ]
           ],
           "sequential": [
            [
             0,
             "#0d0887"
            ],
            [
             0.1111111111111111,
             "#46039f"
            ],
            [
             0.2222222222222222,
             "#7201a8"
            ],
            [
             0.3333333333333333,
             "#9c179e"
            ],
            [
             0.4444444444444444,
             "#bd3786"
            ],
            [
             0.5555555555555556,
             "#d8576b"
            ],
            [
             0.6666666666666666,
             "#ed7953"
            ],
            [
             0.7777777777777778,
             "#fb9f3a"
            ],
            [
             0.8888888888888888,
             "#fdca26"
            ],
            [
             1,
             "#f0f921"
            ]
           ],
           "sequentialminus": [
            [
             0,
             "#0d0887"
            ],
            [
             0.1111111111111111,
             "#46039f"
            ],
            [
             0.2222222222222222,
             "#7201a8"
            ],
            [
             0.3333333333333333,
             "#9c179e"
            ],
            [
             0.4444444444444444,
             "#bd3786"
            ],
            [
             0.5555555555555556,
             "#d8576b"
            ],
            [
             0.6666666666666666,
             "#ed7953"
            ],
            [
             0.7777777777777778,
             "#fb9f3a"
            ],
            [
             0.8888888888888888,
             "#fdca26"
            ],
            [
             1,
             "#f0f921"
            ]
           ]
          },
          "colorway": [
           "#636efa",
           "#EF553B",
           "#00cc96",
           "#ab63fa",
           "#FFA15A",
           "#19d3f3",
           "#FF6692",
           "#B6E880",
           "#FF97FF",
           "#FECB52"
          ],
          "font": {
           "color": "#2a3f5f"
          },
          "geo": {
           "bgcolor": "white",
           "lakecolor": "white",
           "landcolor": "#E5ECF6",
           "showlakes": true,
           "showland": true,
           "subunitcolor": "white"
          },
          "hoverlabel": {
           "align": "left"
          },
          "hovermode": "closest",
          "mapbox": {
           "style": "light"
          },
          "paper_bgcolor": "white",
          "plot_bgcolor": "#E5ECF6",
          "polar": {
           "angularaxis": {
            "gridcolor": "white",
            "linecolor": "white",
            "ticks": ""
           },
           "bgcolor": "#E5ECF6",
           "radialaxis": {
            "gridcolor": "white",
            "linecolor": "white",
            "ticks": ""
           }
          },
          "scene": {
           "xaxis": {
            "backgroundcolor": "#E5ECF6",
            "gridcolor": "white",
            "gridwidth": 2,
            "linecolor": "white",
            "showbackground": true,
            "ticks": "",
            "zerolinecolor": "white"
           },
           "yaxis": {
            "backgroundcolor": "#E5ECF6",
            "gridcolor": "white",
            "gridwidth": 2,
            "linecolor": "white",
            "showbackground": true,
            "ticks": "",
            "zerolinecolor": "white"
           },
           "zaxis": {
            "backgroundcolor": "#E5ECF6",
            "gridcolor": "white",
            "gridwidth": 2,
            "linecolor": "white",
            "showbackground": true,
            "ticks": "",
            "zerolinecolor": "white"
           }
          },
          "shapedefaults": {
           "line": {
            "color": "#2a3f5f"
           }
          },
          "ternary": {
           "aaxis": {
            "gridcolor": "white",
            "linecolor": "white",
            "ticks": ""
           },
           "baxis": {
            "gridcolor": "white",
            "linecolor": "white",
            "ticks": ""
           },
           "bgcolor": "#E5ECF6",
           "caxis": {
            "gridcolor": "white",
            "linecolor": "white",
            "ticks": ""
           }
          },
          "title": {
           "x": 0.05
          },
          "xaxis": {
           "automargin": true,
           "gridcolor": "white",
           "linecolor": "white",
           "ticks": "",
           "title": {
            "standoff": 15
           },
           "zerolinecolor": "white",
           "zerolinewidth": 2
          },
          "yaxis": {
           "automargin": true,
           "gridcolor": "white",
           "linecolor": "white",
           "ticks": "",
           "title": {
            "standoff": 15
           },
           "zerolinecolor": "white",
           "zerolinewidth": 2
          }
         }
        },
        "title": {
         "text": "Tipo de Lançamento x Rompimento 28 Dias"
        },
        "xaxis": {
         "anchor": "y",
         "domain": [
          0,
          1
         ],
         "title": {
          "text": "TipoLancamento"
         }
        },
        "yaxis": {
         "anchor": "x",
         "domain": [
          0,
          1
         ],
         "title": {
          "text": "Rompimento28Dias"
         }
        }
       }
      },
      "text/html": [
       "<div>                            <div id=\"8c8a3dda-8b98-4e60-a6e0-7b5a1279456a\" class=\"plotly-graph-div\" style=\"height:525px; width:100%;\"></div>            <script type=\"text/javascript\">                require([\"plotly\"], function(Plotly) {                    window.PLOTLYENV=window.PLOTLYENV || {};                                    if (document.getElementById(\"8c8a3dda-8b98-4e60-a6e0-7b5a1279456a\")) {                    Plotly.newPlot(                        \"8c8a3dda-8b98-4e60-a6e0-7b5a1279456a\",                        [{\"alignmentgroup\": \"True\", \"hovertemplate\": \"TipoLancamento=%{x}<br>Rompimento28Dias=%{y}<extra></extra>\", \"legendgroup\": \"\", \"marker\": {\"color\": \"#636efa\"}, \"name\": \"\", \"notched\": false, \"offsetgroup\": \"\", \"orientation\": \"v\", \"showlegend\": false, \"type\": \"box\", \"x\": [\"B\", \"B\", \"B\", \"B\", \"B\", \"B\", \"B\", \"B\", \"B\", \"C\", \"C\", \"C\", \"C\", \"C\", \"C\", \"B\", \"B\", \"B\", \"B\", \"B\", \"B\", \"B\", \"B\", \"B\", \"B\", \"B\", \"B\", \"B\", \"B\", \"B\", \"B\", \"B\", \"B\", \"B\", \"B\", \"B\", \"B\", \"B\", \"B\", \"B\", \"B\", \"B\", \"B\", \"B\", \"B\", \"B\", \"B\", \"B\", \"B\", \"B\", \"B\", \"B\", \"B\", \"B\", \"B\", \"B\", \"B\", \"B\", \"B\", \"B\", \"B\", \"B\", \"B\", \"B\", \"B\", \"B\", \"C\", \"C\", \"C\", \"C\", \"C\", \"C\", \"C\", \"C\", \"C\", \"C\", \"C\", \"C\", \"C\", \"C\", \"C\", \"C\", \"C\", \"C\", \"C\", \"C\", \"C\", \"C\", \"C\", \"C\", \"C\", \"C\", \"C\", \"C\", \"C\", \"B\", \"B\", \"B\", \"B\", \"B\", \"B\", \"B\", \"B\", \"B\", \"B\", \"B\", \"C\", \"C\", \"C\", \"B\", \"B\", \"B\", \"B\", \"B\", \"B\", \"B\", \"B\", \"B\", \"B\", \"B\", \"B\", \"B\", \"B\", \"B\", \"B\", \"B\", \"B\", \"B\", \"B\", \"B\", \"B\", \"B\", \"B\", \"B\", \"B\", \"B\", \"B\", \"B\", \"B\", \"B\", \"B\", \"B\", \"B\", \"B\", \"B\", \"B\", \"B\", \"B\", \"B\", \"B\", \"B\", \"B\", \"B\", \"B\", \"B\", \"B\", \"B\", \"B\", \"B\", \"B\", \"B\", \"B\", \"B\", \"B\", \"B\", \"B\", \"B\", \"B\", \"B\", \"B\", \"B\", \"B\", \"B\", \"B\", \"B\", \"B\", \"B\", \"B\", \"B\", \"C\", \"C\", \"C\", \"C\", \"C\", \"C\", \"C\", \"C\", \"C\", \"C\", \"C\", \"C\", \"C\", \"C\", \"C\", \"C\", \"C\", \"C\", \"C\", \"C\", \"C\", \"C\", \"C\", \"C\", \"C\", \"C\", \"C\", \"C\", \"C\", \"C\", \"C\", \"C\", \"C\", \"C\", \"C\", \"C\", \"C\", \"C\", \"C\", \"C\", \"C\", \"C\", \"C\", \"C\", \"C\", \"C\", \"C\", \"B\", \"B\", \"B\", \"B\", \"B\", \"B\", \"B\", \"B\", \"B\", \"B\", \"B\", \"B\", \"B\", \"B\", \"B\", \"B\", \"B\", \"B\", \"B\", \"B\", \"B\", \"B\", \"B\", \"B\", \"B\", \"B\", \"B\", \"B\", \"B\", \"B\", \"B\", \"B\", \"B\", \"B\", \"B\", \"B\", \"B\", \"B\", \"B\", \"B\", \"B\", \"B\", \"B\", \"B\", \"B\", \"B\", \"B\", \"B\", \"B\", \"B\", \"B\", \"B\", \"B\", \"B\", \"B\", \"B\", \"B\", \"B\", \"B\", \"B\", \"B\", \"B\", \"B\", \"B\", \"B\", \"B\", \"B\", \"B\", \"B\", \"B\", \"B\", \"B\", \"B\", \"B\", \"B\", \"B\", \"B\", \"B\", \"B\", \"B\", \"B\", \"B\", \"B\", \"B\", \"B\", \"B\", \"B\", \"B\", \"B\", \"B\", \"B\", \"B\", \"B\", \"B\", \"B\", \"B\", \"B\", \"B\", \"B\", \"B\", \"B\", \"B\", \"B\", \"B\", \"B\", \"B\", \"B\", \"B\", \"B\", \"B\", \"B\", \"B\", \"B\", \"B\", \"B\", \"B\", \"B\", \"B\", \"B\", \"B\", \"B\", \"B\", \"B\", \"B\", \"B\", \"B\", \"B\", \"B\", \"B\", \"B\", \"B\", \"B\", \"B\", \"B\", \"B\", \"B\", \"B\", \"B\", \"B\", \"B\", \"B\", \"B\", \"B\", \"B\", \"B\", \"B\", \"B\", \"B\", \"B\", \"B\", \"B\", \"B\", \"B\", \"B\", \"B\", \"B\", \"B\", \"B\", \"B\", \"B\", \"B\", \"B\", \"B\", \"B\", \"B\", \"B\", \"B\", \"B\", \"B\", \"B\", \"B\", \"B\", \"B\", \"B\", \"B\", \"B\", \"B\", \"B\", \"B\", \"B\", \"B\", \"B\", \"B\", \"C\", \"C\", \"C\", \"C\", \"C\", \"C\", \"C\", \"C\", \"B\", \"B\", \"B\", \"B\", \"B\", \"B\", \"B\", \"B\", \"B\", \"B\", \"B\", \"B\", \"B\", \"B\", \"B\", \"B\", \"B\", \"B\", \"B\", \"B\", \"B\", \"B\", \"B\", \"B\", \"B\", \"B\", \"B\", \"B\", \"B\", \"B\", \"B\", \"B\", \"B\", \"B\", \"B\", \"B\", \"B\", \"C\", \"B\", \"B\", \"B\", \"B\", \"B\", \"C\", \"C\", \"C\", \"C\", \"C\", \"C\"], \"x0\": \" \", \"xaxis\": \"x\", \"y\": [35.08, 33.4, 31.72, 31.12, 28.39, 29.7, 27.47, 27.61, 31.63, 26.3, 27.13, 22.49, 24.66, 16.96, 20.15, 30.93, 31.9, 31.3, 30.83, 31.02, 30.3, 30.6, 30.6, 33.52, 32.47, 32.41, 32.14, 33.9, 32.83, 35.01, 51.28, 43.52, 42.89, 49.06, 44.21, 45.48, 44.6, 38.14, 33.43, 46.48, 46.74, 46.78, 42.62, 46.6, 46.46, 52.0, 49.79, 51.63, 49.51, 41.84, 38.95, 52.97, 49.15, 33.26, 33.77, 38.85, 37.04, 35.9, 37.06, 36.23, 33.84, 36.62, 33.86, 36.65, 34.59, 37.24, 25.32, 26.27, 25.46, 28.11, 30.02, 25.0, 31.89, 30.4, 30.58, 32.55, 27.38, 23.81, 22.79, 20.28, 23.33, 24.34, 20.74, 18.1, 21.53, 22.81, 20.43, 21.72, 20.52, 23.31, 22.72, 22.04, 24.11, 26.34, 25.23, 39.12, 34.09, 31.18, 31.25, 30.49, 31.01, 34.94, 34.73, 33.26, 30.4, 39.45, 36.56, 37.59, 34.38, 27.27, 26.77, 24.99, 26.67, 29.5, 29.06, 31.79, 27.15, 28.49, 29.67, 28.73, 38.37, 37.64, 44.87, 43.54, 45.08, 37.38, 44.91, 37.72, 35.68, 31.77, 30.22, 32.61, 33.11, 36.06, 33.79, 31.01, 34.14, 36.59, 32.32, 36.4, 35.01, 36.48, 35.68, 37.27, 38.2, 39.58, 41.4, 38.88, 37.34, 33.03, 37.85, 36.12, 41.45, 32.42, 33.51, 37.2, 33.63, 38.44, 32.46, 32.78, 28.08, 33.8, 30.87, 26.86, 40.19, 38.51, 39.11, 43.12, 39.79, 38.92, 40.86, 42.29, 33.2, 34.45, 38.18, 43.15, 37.24, 34.5, 45.71, 29.78, 27.93, 30.76, 35.22, 36.01, 29.84, 30.51, 28.5, 32.35, 34.28, 32.74, 33.45, 33.71, 30.4, 29.56, 27.56, 28.85, 29.74, 30.78, 28.53, 31.74, 32.92, 35.62, 38.09, 36.31, 37.81, 35.4, 36.2, 35.11, 30.0, 26.39, 27.87, 28.99, 25.41, 25.14, 29.98, 25.54, 25.21, 32.73, 25.01, 24.54, 34.88, 29.67, 30.69, 36.28, 34.07, 28.25, 37.54, 39.53, 31.48, 29.69, 32.49, 35.22, 34.09, 35.22, 33.79, 37.96, 37.03, 37.66, 40.0, 32.44, 35.92, 31.86, 35.2, 35.89, 35.39, 40.53, 40.14, 34.91, 38.42, 36.59, 30.88, 34.0, 32.64, 30.87, 35.15, 31.94, 35.39, 37.73, 37.77, 32.05, 38.36, 42.61, 43.19, 38.3, 37.46, 31.07, 32.51, 33.02, 38.61, 28.72, 30.44, 30.26, 27.53, 34.54, 26.54, 27.39, 21.2, 33.9, 31.71, 34.49, 35.72, 27.98, 26.02, 29.0, 27.06, 26.39, 24.03, 33.17, 27.43, 31.39, 28.41, 30.16, 29.92, 30.02, 29.46, 27.31, 28.38, 29.64, 30.5, 40.23, 39.69, 35.81, 34.7, 38.75, 30.32, 35.07, 29.37, 33.09, 31.39, 31.19, 31.76, 33.84, 30.49, 34.47, 29.24, 31.72, 38.11, 35.69, 37.13, 34.04, 33.82, 32.46, 30.58, 29.93, 34.49, 38.16, 32.56, 32.54, 32.31, 32.6, 29.51, 31.26, 32.16, 31.26, 33.01, 21.27, 23.67, 25.79, 29.67, 27.15, 22.14, 25.69, 23.59, 27.62, 24.96, 22.79, 22.12, 22.21, 22.79, 26.82, 25.29, 32.84, 26.07, 25.56, 26.66, 27.64, 26.95, 32.4, 27.28, 27.28, 29.56, 31.61, 37.24, 33.4, 36.56, 37.67, 33.07, 34.88, 39.48, 37.77, 41.83, 40.1, 39.59, 40.66, 31.24, 40.21, 39.14, 36.4, 38.04, 40.48, 36.24, 35.22, 37.81, 25.1, 26.16, 29.65, 25.89, 28.43, 27.34, 28.71, 30.68, 27.69, 33.25, 31.54, 28.22, 32.02, 38.06, 37.31, 33.48, 38.79, 42.01, 38.08, 34.63, 28.4, 32.64, 33.01, 38.7, 33.66, 34.69, 22.25, 27.36, 31.42, 31.74, 30.62, 29.6, 28.29, 37.17, 34.45, 37.54, 39.44, 42.79, 37.86, 37.46, 36.98, 41.96, 44.3, 39.97, 42.35, 37.32, 36.4, 35.29, 35.55, 33.93, 34.74, 36.2, 32.68, 30.0, 30.44, 31.34, 29.48, 33.72, 28.94, 34.8, 21.92, 33.07, 31.74, 29.56, 37.04, 34.65, 33.19, 34.38, 36.17, 49.94, 38.19, 28.88, 28.01, 29.1, 32.45, 25.68, 31.51, 22.32, 20.79, 33.29, 49.8, 48.35, 46.11], \"y0\": \" \", \"yaxis\": \"y\"}],                        {\"boxmode\": \"group\", \"legend\": {\"tracegroupgap\": 0}, \"template\": {\"data\": {\"bar\": [{\"error_x\": {\"color\": \"#2a3f5f\"}, \"error_y\": {\"color\": \"#2a3f5f\"}, \"marker\": {\"line\": {\"color\": \"#E5ECF6\", \"width\": 0.5}}, \"type\": \"bar\"}], \"barpolar\": [{\"marker\": {\"line\": {\"color\": \"#E5ECF6\", \"width\": 0.5}}, \"type\": \"barpolar\"}], \"carpet\": [{\"aaxis\": {\"endlinecolor\": \"#2a3f5f\", \"gridcolor\": \"white\", \"linecolor\": \"white\", \"minorgridcolor\": \"white\", \"startlinecolor\": \"#2a3f5f\"}, \"baxis\": {\"endlinecolor\": \"#2a3f5f\", \"gridcolor\": \"white\", \"linecolor\": \"white\", \"minorgridcolor\": \"white\", \"startlinecolor\": \"#2a3f5f\"}, \"type\": \"carpet\"}], \"choropleth\": [{\"colorbar\": {\"outlinewidth\": 0, \"ticks\": \"\"}, \"type\": \"choropleth\"}], \"contour\": [{\"colorbar\": {\"outlinewidth\": 0, \"ticks\": \"\"}, \"colorscale\": [[0.0, \"#0d0887\"], [0.1111111111111111, \"#46039f\"], [0.2222222222222222, \"#7201a8\"], [0.3333333333333333, \"#9c179e\"], [0.4444444444444444, \"#bd3786\"], [0.5555555555555556, \"#d8576b\"], [0.6666666666666666, \"#ed7953\"], [0.7777777777777778, \"#fb9f3a\"], [0.8888888888888888, \"#fdca26\"], [1.0, \"#f0f921\"]], \"type\": \"contour\"}], \"contourcarpet\": [{\"colorbar\": {\"outlinewidth\": 0, \"ticks\": \"\"}, \"type\": \"contourcarpet\"}], \"heatmap\": [{\"colorbar\": {\"outlinewidth\": 0, \"ticks\": \"\"}, \"colorscale\": [[0.0, \"#0d0887\"], [0.1111111111111111, \"#46039f\"], [0.2222222222222222, \"#7201a8\"], [0.3333333333333333, \"#9c179e\"], [0.4444444444444444, \"#bd3786\"], [0.5555555555555556, \"#d8576b\"], [0.6666666666666666, \"#ed7953\"], [0.7777777777777778, \"#fb9f3a\"], [0.8888888888888888, \"#fdca26\"], [1.0, \"#f0f921\"]], \"type\": \"heatmap\"}], \"heatmapgl\": [{\"colorbar\": {\"outlinewidth\": 0, \"ticks\": \"\"}, \"colorscale\": [[0.0, \"#0d0887\"], [0.1111111111111111, \"#46039f\"], [0.2222222222222222, \"#7201a8\"], [0.3333333333333333, \"#9c179e\"], [0.4444444444444444, \"#bd3786\"], [0.5555555555555556, \"#d8576b\"], [0.6666666666666666, \"#ed7953\"], [0.7777777777777778, \"#fb9f3a\"], [0.8888888888888888, \"#fdca26\"], [1.0, \"#f0f921\"]], \"type\": \"heatmapgl\"}], \"histogram\": [{\"marker\": {\"colorbar\": {\"outlinewidth\": 0, \"ticks\": \"\"}}, \"type\": \"histogram\"}], \"histogram2d\": [{\"colorbar\": {\"outlinewidth\": 0, \"ticks\": \"\"}, \"colorscale\": [[0.0, \"#0d0887\"], [0.1111111111111111, \"#46039f\"], [0.2222222222222222, \"#7201a8\"], [0.3333333333333333, \"#9c179e\"], [0.4444444444444444, \"#bd3786\"], [0.5555555555555556, \"#d8576b\"], [0.6666666666666666, \"#ed7953\"], [0.7777777777777778, \"#fb9f3a\"], [0.8888888888888888, \"#fdca26\"], [1.0, \"#f0f921\"]], \"type\": \"histogram2d\"}], \"histogram2dcontour\": [{\"colorbar\": {\"outlinewidth\": 0, \"ticks\": \"\"}, \"colorscale\": [[0.0, \"#0d0887\"], [0.1111111111111111, \"#46039f\"], [0.2222222222222222, \"#7201a8\"], [0.3333333333333333, \"#9c179e\"], [0.4444444444444444, \"#bd3786\"], [0.5555555555555556, \"#d8576b\"], [0.6666666666666666, \"#ed7953\"], [0.7777777777777778, \"#fb9f3a\"], [0.8888888888888888, \"#fdca26\"], [1.0, \"#f0f921\"]], \"type\": \"histogram2dcontour\"}], \"mesh3d\": [{\"colorbar\": {\"outlinewidth\": 0, \"ticks\": \"\"}, \"type\": \"mesh3d\"}], \"parcoords\": [{\"line\": {\"colorbar\": {\"outlinewidth\": 0, \"ticks\": \"\"}}, \"type\": \"parcoords\"}], \"pie\": [{\"automargin\": true, \"type\": \"pie\"}], \"scatter\": [{\"marker\": {\"colorbar\": {\"outlinewidth\": 0, \"ticks\": \"\"}}, \"type\": \"scatter\"}], \"scatter3d\": [{\"line\": {\"colorbar\": {\"outlinewidth\": 0, \"ticks\": \"\"}}, \"marker\": {\"colorbar\": {\"outlinewidth\": 0, \"ticks\": \"\"}}, \"type\": \"scatter3d\"}], \"scattercarpet\": [{\"marker\": {\"colorbar\": {\"outlinewidth\": 0, \"ticks\": \"\"}}, \"type\": \"scattercarpet\"}], \"scattergeo\": [{\"marker\": {\"colorbar\": {\"outlinewidth\": 0, \"ticks\": \"\"}}, \"type\": \"scattergeo\"}], \"scattergl\": [{\"marker\": {\"colorbar\": {\"outlinewidth\": 0, \"ticks\": \"\"}}, \"type\": \"scattergl\"}], \"scattermapbox\": [{\"marker\": {\"colorbar\": {\"outlinewidth\": 0, \"ticks\": \"\"}}, \"type\": \"scattermapbox\"}], \"scatterpolar\": [{\"marker\": {\"colorbar\": {\"outlinewidth\": 0, \"ticks\": \"\"}}, \"type\": \"scatterpolar\"}], \"scatterpolargl\": [{\"marker\": {\"colorbar\": {\"outlinewidth\": 0, \"ticks\": \"\"}}, \"type\": \"scatterpolargl\"}], \"scatterternary\": [{\"marker\": {\"colorbar\": {\"outlinewidth\": 0, \"ticks\": \"\"}}, \"type\": \"scatterternary\"}], \"surface\": [{\"colorbar\": {\"outlinewidth\": 0, \"ticks\": \"\"}, \"colorscale\": [[0.0, \"#0d0887\"], [0.1111111111111111, \"#46039f\"], [0.2222222222222222, \"#7201a8\"], [0.3333333333333333, \"#9c179e\"], [0.4444444444444444, \"#bd3786\"], [0.5555555555555556, \"#d8576b\"], [0.6666666666666666, \"#ed7953\"], [0.7777777777777778, \"#fb9f3a\"], [0.8888888888888888, \"#fdca26\"], [1.0, \"#f0f921\"]], \"type\": \"surface\"}], \"table\": [{\"cells\": {\"fill\": {\"color\": \"#EBF0F8\"}, \"line\": {\"color\": \"white\"}}, \"header\": {\"fill\": {\"color\": \"#C8D4E3\"}, \"line\": {\"color\": \"white\"}}, \"type\": \"table\"}]}, \"layout\": {\"annotationdefaults\": {\"arrowcolor\": \"#2a3f5f\", \"arrowhead\": 0, \"arrowwidth\": 1}, \"autotypenumbers\": \"strict\", \"coloraxis\": {\"colorbar\": {\"outlinewidth\": 0, \"ticks\": \"\"}}, \"colorscale\": {\"diverging\": [[0, \"#8e0152\"], [0.1, \"#c51b7d\"], [0.2, \"#de77ae\"], [0.3, \"#f1b6da\"], [0.4, \"#fde0ef\"], [0.5, \"#f7f7f7\"], [0.6, \"#e6f5d0\"], [0.7, \"#b8e186\"], [0.8, \"#7fbc41\"], [0.9, \"#4d9221\"], [1, \"#276419\"]], \"sequential\": [[0.0, \"#0d0887\"], [0.1111111111111111, \"#46039f\"], [0.2222222222222222, \"#7201a8\"], [0.3333333333333333, \"#9c179e\"], [0.4444444444444444, \"#bd3786\"], [0.5555555555555556, \"#d8576b\"], [0.6666666666666666, \"#ed7953\"], [0.7777777777777778, \"#fb9f3a\"], [0.8888888888888888, \"#fdca26\"], [1.0, \"#f0f921\"]], \"sequentialminus\": [[0.0, \"#0d0887\"], [0.1111111111111111, \"#46039f\"], [0.2222222222222222, \"#7201a8\"], [0.3333333333333333, \"#9c179e\"], [0.4444444444444444, \"#bd3786\"], [0.5555555555555556, \"#d8576b\"], [0.6666666666666666, \"#ed7953\"], [0.7777777777777778, \"#fb9f3a\"], [0.8888888888888888, \"#fdca26\"], [1.0, \"#f0f921\"]]}, \"colorway\": [\"#636efa\", \"#EF553B\", \"#00cc96\", \"#ab63fa\", \"#FFA15A\", \"#19d3f3\", \"#FF6692\", \"#B6E880\", \"#FF97FF\", \"#FECB52\"], \"font\": {\"color\": \"#2a3f5f\"}, \"geo\": {\"bgcolor\": \"white\", \"lakecolor\": \"white\", \"landcolor\": \"#E5ECF6\", \"showlakes\": true, \"showland\": true, \"subunitcolor\": \"white\"}, \"hoverlabel\": {\"align\": \"left\"}, \"hovermode\": \"closest\", \"mapbox\": {\"style\": \"light\"}, \"paper_bgcolor\": \"white\", \"plot_bgcolor\": \"#E5ECF6\", \"polar\": {\"angularaxis\": {\"gridcolor\": \"white\", \"linecolor\": \"white\", \"ticks\": \"\"}, \"bgcolor\": \"#E5ECF6\", \"radialaxis\": {\"gridcolor\": \"white\", \"linecolor\": \"white\", \"ticks\": \"\"}}, \"scene\": {\"xaxis\": {\"backgroundcolor\": \"#E5ECF6\", \"gridcolor\": \"white\", \"gridwidth\": 2, \"linecolor\": \"white\", \"showbackground\": true, \"ticks\": \"\", \"zerolinecolor\": \"white\"}, \"yaxis\": {\"backgroundcolor\": \"#E5ECF6\", \"gridcolor\": \"white\", \"gridwidth\": 2, \"linecolor\": \"white\", \"showbackground\": true, \"ticks\": \"\", \"zerolinecolor\": \"white\"}, \"zaxis\": {\"backgroundcolor\": \"#E5ECF6\", \"gridcolor\": \"white\", \"gridwidth\": 2, \"linecolor\": \"white\", \"showbackground\": true, \"ticks\": \"\", \"zerolinecolor\": \"white\"}}, \"shapedefaults\": {\"line\": {\"color\": \"#2a3f5f\"}}, \"ternary\": {\"aaxis\": {\"gridcolor\": \"white\", \"linecolor\": \"white\", \"ticks\": \"\"}, \"baxis\": {\"gridcolor\": \"white\", \"linecolor\": \"white\", \"ticks\": \"\"}, \"bgcolor\": \"#E5ECF6\", \"caxis\": {\"gridcolor\": \"white\", \"linecolor\": \"white\", \"ticks\": \"\"}}, \"title\": {\"x\": 0.05}, \"xaxis\": {\"automargin\": true, \"gridcolor\": \"white\", \"linecolor\": \"white\", \"ticks\": \"\", \"title\": {\"standoff\": 15}, \"zerolinecolor\": \"white\", \"zerolinewidth\": 2}, \"yaxis\": {\"automargin\": true, \"gridcolor\": \"white\", \"linecolor\": \"white\", \"ticks\": \"\", \"title\": {\"standoff\": 15}, \"zerolinecolor\": \"white\", \"zerolinewidth\": 2}}}, \"title\": {\"text\": \"Tipo de Lan\\u00e7amento x Rompimento 28 Dias\"}, \"xaxis\": {\"anchor\": \"y\", \"domain\": [0.0, 1.0], \"title\": {\"text\": \"TipoLancamento\"}}, \"yaxis\": {\"anchor\": \"x\", \"domain\": [0.0, 1.0], \"title\": {\"text\": \"Rompimento28Dias\"}}},                        {\"responsive\": true}                    ).then(function(){\n",
       "                            \n",
       "var gd = document.getElementById('8c8a3dda-8b98-4e60-a6e0-7b5a1279456a');\n",
       "var x = new MutationObserver(function (mutations, observer) {{\n",
       "        var display = window.getComputedStyle(gd).display;\n",
       "        if (!display || display === 'none') {{\n",
       "            console.log([gd, 'removed!']);\n",
       "            Plotly.purge(gd);\n",
       "            observer.disconnect();\n",
       "        }}\n",
       "}});\n",
       "\n",
       "// Listen for the removal of the full notebook cells\n",
       "var notebookContainer = gd.closest('#notebook-container');\n",
       "if (notebookContainer) {{\n",
       "    x.observe(notebookContainer, {childList: true});\n",
       "}}\n",
       "\n",
       "// Listen for the clearing of the current output cell\n",
       "var outputEl = gd.closest('.output');\n",
       "if (outputEl) {{\n",
       "    x.observe(outputEl, {childList: true});\n",
       "}}\n",
       "\n",
       "                        })                };                });            </script>        </div>"
      ]
     },
     "metadata": {},
     "output_type": "display_data"
    }
   ],
   "source": [
    "fig = px.box(dados_aglomerante, x=\"TipoLancamento\", y=\"Rompimento28Dias\", title='Tipo de Lançamento x Rompimento 28 Dias')\n",
    "fig.show()"
   ]
  },
  {
   "cell_type": "code",
   "execution_count": 54,
   "metadata": {},
   "outputs": [
    {
     "data": {
      "application/vnd.plotly.v1+json": {
       "config": {
        "plotlyServerURL": "https://plot.ly"
       },
       "data": [
        {
         "alignmentgroup": "True",
         "hovertemplate": "TipoTraco=%{x}<br>Rompimento28Dias=%{y}<extra></extra>",
         "legendgroup": "",
         "marker": {
          "color": "#636efa"
         },
         "name": "",
         "notched": false,
         "offsetgroup": "",
         "orientation": "v",
         "showlegend": false,
         "type": "box",
         "x": [
          "N",
          "N",
          "N",
          "N",
          "N",
          "N",
          "N",
          "N",
          "N",
          "N",
          "N",
          "N",
          "N",
          "N",
          "N",
          "N",
          "N",
          "N",
          "N",
          "N",
          "N",
          "N",
          "N",
          "N",
          "N",
          "N",
          "N",
          "N",
          "N",
          "N",
          "E",
          "E",
          "E",
          "E",
          "E",
          "E",
          "E",
          "E",
          "E",
          "E",
          "E",
          "E",
          "E",
          "E",
          "E",
          "E",
          "E",
          "E",
          "E",
          "E",
          "E",
          "E",
          "E",
          "E",
          "E",
          "E",
          "E",
          "E",
          "E",
          "E",
          "E",
          "E",
          "E",
          "E",
          "E",
          "E",
          "N",
          "N",
          "N",
          "N",
          "N",
          "N",
          "N",
          "N",
          "N",
          "N",
          "N",
          "N",
          "N",
          "N",
          "N",
          "N",
          "N",
          "N",
          "N",
          "N",
          "N",
          "N",
          "N",
          "N",
          "N",
          "N",
          "N",
          "N",
          "N",
          "E",
          "E",
          "E",
          "E",
          "E",
          "E",
          "E",
          "E",
          "E",
          "E",
          "E",
          "N",
          "N",
          "N",
          "N",
          "N",
          "N",
          "N",
          "N",
          "N",
          "N",
          "N",
          "N",
          "N",
          "N",
          "N",
          "N",
          "N",
          "N",
          "N",
          "N",
          "N",
          "N",
          "N",
          "N",
          "N",
          "N",
          "N",
          "N",
          "N",
          "N",
          "N",
          "N",
          "N",
          "N",
          "N",
          "N",
          "N",
          "N",
          "N",
          "N",
          "N",
          "N",
          "N",
          "N",
          "N",
          "N",
          "N",
          "N",
          "N",
          "N",
          "N",
          "N",
          "N",
          "N",
          "N",
          "N",
          "N",
          "N",
          "N",
          "E",
          "E",
          "E",
          "E",
          "E",
          "E",
          "E",
          "E",
          "E",
          "E",
          "E",
          "E",
          "E",
          "E",
          "N",
          "N",
          "N",
          "N",
          "N",
          "N",
          "N",
          "N",
          "N",
          "N",
          "N",
          "N",
          "N",
          "N",
          "N",
          "N",
          "N",
          "N",
          "N",
          "N",
          "N",
          "N",
          "N",
          "N",
          "N",
          "N",
          "N",
          "N",
          "N",
          "N",
          "N",
          "N",
          "N",
          "N",
          "N",
          "N",
          "N",
          "N",
          "N",
          "N",
          "N",
          "N",
          "N",
          "N",
          "N",
          "N",
          "N",
          "N",
          "N",
          "N",
          "N",
          "N",
          "N",
          "N",
          "N",
          "N",
          "N",
          "N",
          "N",
          "N",
          "N",
          "N",
          "N",
          "N",
          "N",
          "N",
          "N",
          "N",
          "N",
          "N",
          "N",
          "N",
          "N",
          "N",
          "N",
          "N",
          "N",
          "N",
          "N",
          "N",
          "E",
          "N",
          "N",
          "N",
          "N",
          "N",
          "N",
          "N",
          "N",
          "N",
          "N",
          "N",
          "N",
          "N",
          "N",
          "N",
          "N",
          "N",
          "N",
          "N",
          "N",
          "N",
          "N",
          "N",
          "N",
          "N",
          "N",
          "N",
          "N",
          "N",
          "N",
          "N",
          "N",
          "N",
          "N",
          "N",
          "N",
          "N",
          "N",
          "N",
          "N",
          "N",
          "N",
          "N",
          "N",
          "N",
          "N",
          "N",
          "N",
          "N",
          "N",
          "N",
          "N",
          "N",
          "N",
          "N",
          "N",
          "N",
          "N",
          "N",
          "N",
          "N",
          "N",
          "N",
          "N",
          "N",
          "N",
          "N",
          "N",
          "N",
          "N",
          "N",
          "N",
          "N",
          "N",
          "N",
          "N",
          "N",
          "N",
          "N",
          "N",
          "N",
          "N",
          "N",
          "N",
          "N",
          "N",
          "N",
          "N",
          "N",
          "N",
          "N",
          "N",
          "N",
          "N",
          "N",
          "N",
          "N",
          "N",
          "N",
          "N",
          "N",
          "N",
          "N",
          "N",
          "N",
          "N",
          "N",
          "N",
          "E",
          "E",
          "E",
          "E",
          "E",
          "E",
          "E",
          "N",
          "N",
          "N",
          "N",
          "N",
          "N",
          "N",
          "N",
          "E",
          "E",
          "E",
          "E",
          "E",
          "E",
          "E",
          "E",
          "E",
          "E",
          "E",
          "E",
          "E",
          "E",
          "E",
          "E",
          "E",
          "E",
          "E",
          "E",
          "E",
          "E",
          "E",
          "E",
          "E",
          "E",
          "N",
          "N",
          "N",
          "N",
          "N",
          "N",
          "N",
          "N",
          "N",
          "N",
          "N",
          "N",
          "N",
          "N",
          "N",
          "N",
          "N",
          "N",
          "N",
          "N",
          "N",
          "N",
          "N",
          "N",
          "N",
          "N",
          "N",
          "N",
          "N",
          "N",
          "N",
          "N",
          "N",
          "N",
          "N",
          "E",
          "E",
          "E",
          "E",
          "N",
          "E",
          "E",
          "E",
          "N",
          "N",
          "N",
          "N",
          "N",
          "N",
          "N",
          "N",
          "N",
          "N",
          "N",
          "E",
          "E",
          "E"
         ],
         "x0": " ",
         "xaxis": "x",
         "y": [
          35.08,
          33.4,
          31.72,
          31.12,
          28.39,
          29.7,
          27.47,
          27.61,
          31.63,
          26.3,
          27.13,
          22.49,
          24.66,
          16.96,
          20.15,
          30.93,
          31.9,
          31.3,
          30.83,
          31.02,
          30.3,
          30.6,
          30.6,
          33.52,
          32.47,
          32.41,
          32.14,
          33.9,
          32.83,
          35.01,
          51.28,
          43.52,
          42.89,
          49.06,
          44.21,
          45.48,
          44.6,
          38.14,
          33.43,
          46.48,
          46.74,
          46.78,
          42.62,
          46.6,
          46.46,
          52,
          49.79,
          51.63,
          49.51,
          41.84,
          38.95,
          52.97,
          49.15,
          33.26,
          33.77,
          38.85,
          37.04,
          35.9,
          37.06,
          36.23,
          33.84,
          36.62,
          33.86,
          36.65,
          34.59,
          37.24,
          25.32,
          26.27,
          25.46,
          28.11,
          30.02,
          25,
          31.89,
          30.4,
          30.58,
          32.55,
          27.38,
          23.81,
          22.79,
          20.28,
          23.33,
          24.34,
          20.74,
          18.1,
          21.53,
          22.81,
          20.43,
          21.72,
          20.52,
          23.31,
          22.72,
          22.04,
          24.11,
          26.34,
          25.23,
          39.12,
          34.09,
          31.18,
          31.25,
          30.49,
          31.01,
          34.94,
          34.73,
          33.26,
          30.4,
          39.45,
          36.56,
          37.59,
          34.38,
          27.27,
          26.77,
          24.99,
          26.67,
          29.5,
          29.06,
          31.79,
          27.15,
          28.49,
          29.67,
          28.73,
          38.37,
          37.64,
          44.87,
          43.54,
          45.08,
          37.38,
          44.91,
          37.72,
          35.68,
          31.77,
          30.22,
          32.61,
          33.11,
          36.06,
          33.79,
          31.01,
          34.14,
          36.59,
          32.32,
          36.4,
          35.01,
          36.48,
          35.68,
          37.27,
          38.2,
          39.58,
          41.4,
          38.88,
          37.34,
          33.03,
          37.85,
          36.12,
          41.45,
          32.42,
          33.51,
          37.2,
          33.63,
          38.44,
          32.46,
          32.78,
          28.08,
          33.8,
          30.87,
          26.86,
          40.19,
          38.51,
          39.11,
          43.12,
          39.79,
          38.92,
          40.86,
          42.29,
          33.2,
          34.45,
          38.18,
          43.15,
          37.24,
          34.5,
          45.71,
          29.78,
          27.93,
          30.76,
          35.22,
          36.01,
          29.84,
          30.51,
          28.5,
          32.35,
          34.28,
          32.74,
          33.45,
          33.71,
          30.4,
          29.56,
          27.56,
          28.85,
          29.74,
          30.78,
          28.53,
          31.74,
          32.92,
          35.62,
          38.09,
          36.31,
          37.81,
          35.4,
          36.2,
          35.11,
          30,
          26.39,
          27.87,
          28.99,
          25.41,
          25.14,
          29.98,
          25.54,
          25.21,
          32.73,
          25.01,
          24.54,
          34.88,
          29.67,
          30.69,
          36.28,
          34.07,
          28.25,
          37.54,
          39.53,
          31.48,
          29.69,
          32.49,
          35.22,
          34.09,
          35.22,
          33.79,
          37.96,
          37.03,
          37.66,
          40,
          32.44,
          35.92,
          31.86,
          35.2,
          35.89,
          35.39,
          40.53,
          40.14,
          34.91,
          38.42,
          36.59,
          30.88,
          34,
          32.64,
          30.87,
          35.15,
          31.94,
          35.39,
          37.73,
          37.77,
          32.05,
          38.36,
          42.61,
          43.19,
          38.3,
          37.46,
          31.07,
          32.51,
          33.02,
          38.61,
          28.72,
          30.44,
          30.26,
          27.53,
          34.54,
          26.54,
          27.39,
          21.2,
          33.9,
          31.71,
          34.49,
          35.72,
          27.98,
          26.02,
          29,
          27.06,
          26.39,
          24.03,
          33.17,
          27.43,
          31.39,
          28.41,
          30.16,
          29.92,
          30.02,
          29.46,
          27.31,
          28.38,
          29.64,
          30.5,
          40.23,
          39.69,
          35.81,
          34.7,
          38.75,
          30.32,
          35.07,
          29.37,
          33.09,
          31.39,
          31.19,
          31.76,
          33.84,
          30.49,
          34.47,
          29.24,
          31.72,
          38.11,
          35.69,
          37.13,
          34.04,
          33.82,
          32.46,
          30.58,
          29.93,
          34.49,
          38.16,
          32.56,
          32.54,
          32.31,
          32.6,
          29.51,
          31.26,
          32.16,
          31.26,
          33.01,
          21.27,
          23.67,
          25.79,
          29.67,
          27.15,
          22.14,
          25.69,
          23.59,
          27.62,
          24.96,
          22.79,
          22.12,
          22.21,
          22.79,
          26.82,
          25.29,
          32.84,
          26.07,
          25.56,
          26.66,
          27.64,
          26.95,
          32.4,
          27.28,
          27.28,
          29.56,
          31.61,
          37.24,
          33.4,
          36.56,
          37.67,
          33.07,
          34.88,
          39.48,
          37.77,
          41.83,
          40.1,
          39.59,
          40.66,
          31.24,
          40.21,
          39.14,
          36.4,
          38.04,
          40.48,
          36.24,
          35.22,
          37.81,
          25.1,
          26.16,
          29.65,
          25.89,
          28.43,
          27.34,
          28.71,
          30.68,
          27.69,
          33.25,
          31.54,
          28.22,
          32.02,
          38.06,
          37.31,
          33.48,
          38.79,
          42.01,
          38.08,
          34.63,
          28.4,
          32.64,
          33.01,
          38.7,
          33.66,
          34.69,
          22.25,
          27.36,
          31.42,
          31.74,
          30.62,
          29.6,
          28.29,
          37.17,
          34.45,
          37.54,
          39.44,
          42.79,
          37.86,
          37.46,
          36.98,
          41.96,
          44.3,
          39.97,
          42.35,
          37.32,
          36.4,
          35.29,
          35.55,
          33.93,
          34.74,
          36.2,
          32.68,
          30,
          30.44,
          31.34,
          29.48,
          33.72,
          28.94,
          34.8,
          21.92,
          33.07,
          31.74,
          29.56,
          37.04,
          34.65,
          33.19,
          34.38,
          36.17,
          49.94,
          38.19,
          28.88,
          28.01,
          29.1,
          32.45,
          25.68,
          31.51,
          22.32,
          20.79,
          33.29,
          49.8,
          48.35,
          46.11
         ],
         "y0": " ",
         "yaxis": "y"
        }
       ],
       "layout": {
        "boxmode": "group",
        "legend": {
         "tracegroupgap": 0
        },
        "template": {
         "data": {
          "bar": [
           {
            "error_x": {
             "color": "#2a3f5f"
            },
            "error_y": {
             "color": "#2a3f5f"
            },
            "marker": {
             "line": {
              "color": "#E5ECF6",
              "width": 0.5
             }
            },
            "type": "bar"
           }
          ],
          "barpolar": [
           {
            "marker": {
             "line": {
              "color": "#E5ECF6",
              "width": 0.5
             }
            },
            "type": "barpolar"
           }
          ],
          "carpet": [
           {
            "aaxis": {
             "endlinecolor": "#2a3f5f",
             "gridcolor": "white",
             "linecolor": "white",
             "minorgridcolor": "white",
             "startlinecolor": "#2a3f5f"
            },
            "baxis": {
             "endlinecolor": "#2a3f5f",
             "gridcolor": "white",
             "linecolor": "white",
             "minorgridcolor": "white",
             "startlinecolor": "#2a3f5f"
            },
            "type": "carpet"
           }
          ],
          "choropleth": [
           {
            "colorbar": {
             "outlinewidth": 0,
             "ticks": ""
            },
            "type": "choropleth"
           }
          ],
          "contour": [
           {
            "colorbar": {
             "outlinewidth": 0,
             "ticks": ""
            },
            "colorscale": [
             [
              0,
              "#0d0887"
             ],
             [
              0.1111111111111111,
              "#46039f"
             ],
             [
              0.2222222222222222,
              "#7201a8"
             ],
             [
              0.3333333333333333,
              "#9c179e"
             ],
             [
              0.4444444444444444,
              "#bd3786"
             ],
             [
              0.5555555555555556,
              "#d8576b"
             ],
             [
              0.6666666666666666,
              "#ed7953"
             ],
             [
              0.7777777777777778,
              "#fb9f3a"
             ],
             [
              0.8888888888888888,
              "#fdca26"
             ],
             [
              1,
              "#f0f921"
             ]
            ],
            "type": "contour"
           }
          ],
          "contourcarpet": [
           {
            "colorbar": {
             "outlinewidth": 0,
             "ticks": ""
            },
            "type": "contourcarpet"
           }
          ],
          "heatmap": [
           {
            "colorbar": {
             "outlinewidth": 0,
             "ticks": ""
            },
            "colorscale": [
             [
              0,
              "#0d0887"
             ],
             [
              0.1111111111111111,
              "#46039f"
             ],
             [
              0.2222222222222222,
              "#7201a8"
             ],
             [
              0.3333333333333333,
              "#9c179e"
             ],
             [
              0.4444444444444444,
              "#bd3786"
             ],
             [
              0.5555555555555556,
              "#d8576b"
             ],
             [
              0.6666666666666666,
              "#ed7953"
             ],
             [
              0.7777777777777778,
              "#fb9f3a"
             ],
             [
              0.8888888888888888,
              "#fdca26"
             ],
             [
              1,
              "#f0f921"
             ]
            ],
            "type": "heatmap"
           }
          ],
          "heatmapgl": [
           {
            "colorbar": {
             "outlinewidth": 0,
             "ticks": ""
            },
            "colorscale": [
             [
              0,
              "#0d0887"
             ],
             [
              0.1111111111111111,
              "#46039f"
             ],
             [
              0.2222222222222222,
              "#7201a8"
             ],
             [
              0.3333333333333333,
              "#9c179e"
             ],
             [
              0.4444444444444444,
              "#bd3786"
             ],
             [
              0.5555555555555556,
              "#d8576b"
             ],
             [
              0.6666666666666666,
              "#ed7953"
             ],
             [
              0.7777777777777778,
              "#fb9f3a"
             ],
             [
              0.8888888888888888,
              "#fdca26"
             ],
             [
              1,
              "#f0f921"
             ]
            ],
            "type": "heatmapgl"
           }
          ],
          "histogram": [
           {
            "marker": {
             "colorbar": {
              "outlinewidth": 0,
              "ticks": ""
             }
            },
            "type": "histogram"
           }
          ],
          "histogram2d": [
           {
            "colorbar": {
             "outlinewidth": 0,
             "ticks": ""
            },
            "colorscale": [
             [
              0,
              "#0d0887"
             ],
             [
              0.1111111111111111,
              "#46039f"
             ],
             [
              0.2222222222222222,
              "#7201a8"
             ],
             [
              0.3333333333333333,
              "#9c179e"
             ],
             [
              0.4444444444444444,
              "#bd3786"
             ],
             [
              0.5555555555555556,
              "#d8576b"
             ],
             [
              0.6666666666666666,
              "#ed7953"
             ],
             [
              0.7777777777777778,
              "#fb9f3a"
             ],
             [
              0.8888888888888888,
              "#fdca26"
             ],
             [
              1,
              "#f0f921"
             ]
            ],
            "type": "histogram2d"
           }
          ],
          "histogram2dcontour": [
           {
            "colorbar": {
             "outlinewidth": 0,
             "ticks": ""
            },
            "colorscale": [
             [
              0,
              "#0d0887"
             ],
             [
              0.1111111111111111,
              "#46039f"
             ],
             [
              0.2222222222222222,
              "#7201a8"
             ],
             [
              0.3333333333333333,
              "#9c179e"
             ],
             [
              0.4444444444444444,
              "#bd3786"
             ],
             [
              0.5555555555555556,
              "#d8576b"
             ],
             [
              0.6666666666666666,
              "#ed7953"
             ],
             [
              0.7777777777777778,
              "#fb9f3a"
             ],
             [
              0.8888888888888888,
              "#fdca26"
             ],
             [
              1,
              "#f0f921"
             ]
            ],
            "type": "histogram2dcontour"
           }
          ],
          "mesh3d": [
           {
            "colorbar": {
             "outlinewidth": 0,
             "ticks": ""
            },
            "type": "mesh3d"
           }
          ],
          "parcoords": [
           {
            "line": {
             "colorbar": {
              "outlinewidth": 0,
              "ticks": ""
             }
            },
            "type": "parcoords"
           }
          ],
          "pie": [
           {
            "automargin": true,
            "type": "pie"
           }
          ],
          "scatter": [
           {
            "marker": {
             "colorbar": {
              "outlinewidth": 0,
              "ticks": ""
             }
            },
            "type": "scatter"
           }
          ],
          "scatter3d": [
           {
            "line": {
             "colorbar": {
              "outlinewidth": 0,
              "ticks": ""
             }
            },
            "marker": {
             "colorbar": {
              "outlinewidth": 0,
              "ticks": ""
             }
            },
            "type": "scatter3d"
           }
          ],
          "scattercarpet": [
           {
            "marker": {
             "colorbar": {
              "outlinewidth": 0,
              "ticks": ""
             }
            },
            "type": "scattercarpet"
           }
          ],
          "scattergeo": [
           {
            "marker": {
             "colorbar": {
              "outlinewidth": 0,
              "ticks": ""
             }
            },
            "type": "scattergeo"
           }
          ],
          "scattergl": [
           {
            "marker": {
             "colorbar": {
              "outlinewidth": 0,
              "ticks": ""
             }
            },
            "type": "scattergl"
           }
          ],
          "scattermapbox": [
           {
            "marker": {
             "colorbar": {
              "outlinewidth": 0,
              "ticks": ""
             }
            },
            "type": "scattermapbox"
           }
          ],
          "scatterpolar": [
           {
            "marker": {
             "colorbar": {
              "outlinewidth": 0,
              "ticks": ""
             }
            },
            "type": "scatterpolar"
           }
          ],
          "scatterpolargl": [
           {
            "marker": {
             "colorbar": {
              "outlinewidth": 0,
              "ticks": ""
             }
            },
            "type": "scatterpolargl"
           }
          ],
          "scatterternary": [
           {
            "marker": {
             "colorbar": {
              "outlinewidth": 0,
              "ticks": ""
             }
            },
            "type": "scatterternary"
           }
          ],
          "surface": [
           {
            "colorbar": {
             "outlinewidth": 0,
             "ticks": ""
            },
            "colorscale": [
             [
              0,
              "#0d0887"
             ],
             [
              0.1111111111111111,
              "#46039f"
             ],
             [
              0.2222222222222222,
              "#7201a8"
             ],
             [
              0.3333333333333333,
              "#9c179e"
             ],
             [
              0.4444444444444444,
              "#bd3786"
             ],
             [
              0.5555555555555556,
              "#d8576b"
             ],
             [
              0.6666666666666666,
              "#ed7953"
             ],
             [
              0.7777777777777778,
              "#fb9f3a"
             ],
             [
              0.8888888888888888,
              "#fdca26"
             ],
             [
              1,
              "#f0f921"
             ]
            ],
            "type": "surface"
           }
          ],
          "table": [
           {
            "cells": {
             "fill": {
              "color": "#EBF0F8"
             },
             "line": {
              "color": "white"
             }
            },
            "header": {
             "fill": {
              "color": "#C8D4E3"
             },
             "line": {
              "color": "white"
             }
            },
            "type": "table"
           }
          ]
         },
         "layout": {
          "annotationdefaults": {
           "arrowcolor": "#2a3f5f",
           "arrowhead": 0,
           "arrowwidth": 1
          },
          "autotypenumbers": "strict",
          "coloraxis": {
           "colorbar": {
            "outlinewidth": 0,
            "ticks": ""
           }
          },
          "colorscale": {
           "diverging": [
            [
             0,
             "#8e0152"
            ],
            [
             0.1,
             "#c51b7d"
            ],
            [
             0.2,
             "#de77ae"
            ],
            [
             0.3,
             "#f1b6da"
            ],
            [
             0.4,
             "#fde0ef"
            ],
            [
             0.5,
             "#f7f7f7"
            ],
            [
             0.6,
             "#e6f5d0"
            ],
            [
             0.7,
             "#b8e186"
            ],
            [
             0.8,
             "#7fbc41"
            ],
            [
             0.9,
             "#4d9221"
            ],
            [
             1,
             "#276419"
            ]
           ],
           "sequential": [
            [
             0,
             "#0d0887"
            ],
            [
             0.1111111111111111,
             "#46039f"
            ],
            [
             0.2222222222222222,
             "#7201a8"
            ],
            [
             0.3333333333333333,
             "#9c179e"
            ],
            [
             0.4444444444444444,
             "#bd3786"
            ],
            [
             0.5555555555555556,
             "#d8576b"
            ],
            [
             0.6666666666666666,
             "#ed7953"
            ],
            [
             0.7777777777777778,
             "#fb9f3a"
            ],
            [
             0.8888888888888888,
             "#fdca26"
            ],
            [
             1,
             "#f0f921"
            ]
           ],
           "sequentialminus": [
            [
             0,
             "#0d0887"
            ],
            [
             0.1111111111111111,
             "#46039f"
            ],
            [
             0.2222222222222222,
             "#7201a8"
            ],
            [
             0.3333333333333333,
             "#9c179e"
            ],
            [
             0.4444444444444444,
             "#bd3786"
            ],
            [
             0.5555555555555556,
             "#d8576b"
            ],
            [
             0.6666666666666666,
             "#ed7953"
            ],
            [
             0.7777777777777778,
             "#fb9f3a"
            ],
            [
             0.8888888888888888,
             "#fdca26"
            ],
            [
             1,
             "#f0f921"
            ]
           ]
          },
          "colorway": [
           "#636efa",
           "#EF553B",
           "#00cc96",
           "#ab63fa",
           "#FFA15A",
           "#19d3f3",
           "#FF6692",
           "#B6E880",
           "#FF97FF",
           "#FECB52"
          ],
          "font": {
           "color": "#2a3f5f"
          },
          "geo": {
           "bgcolor": "white",
           "lakecolor": "white",
           "landcolor": "#E5ECF6",
           "showlakes": true,
           "showland": true,
           "subunitcolor": "white"
          },
          "hoverlabel": {
           "align": "left"
          },
          "hovermode": "closest",
          "mapbox": {
           "style": "light"
          },
          "paper_bgcolor": "white",
          "plot_bgcolor": "#E5ECF6",
          "polar": {
           "angularaxis": {
            "gridcolor": "white",
            "linecolor": "white",
            "ticks": ""
           },
           "bgcolor": "#E5ECF6",
           "radialaxis": {
            "gridcolor": "white",
            "linecolor": "white",
            "ticks": ""
           }
          },
          "scene": {
           "xaxis": {
            "backgroundcolor": "#E5ECF6",
            "gridcolor": "white",
            "gridwidth": 2,
            "linecolor": "white",
            "showbackground": true,
            "ticks": "",
            "zerolinecolor": "white"
           },
           "yaxis": {
            "backgroundcolor": "#E5ECF6",
            "gridcolor": "white",
            "gridwidth": 2,
            "linecolor": "white",
            "showbackground": true,
            "ticks": "",
            "zerolinecolor": "white"
           },
           "zaxis": {
            "backgroundcolor": "#E5ECF6",
            "gridcolor": "white",
            "gridwidth": 2,
            "linecolor": "white",
            "showbackground": true,
            "ticks": "",
            "zerolinecolor": "white"
           }
          },
          "shapedefaults": {
           "line": {
            "color": "#2a3f5f"
           }
          },
          "ternary": {
           "aaxis": {
            "gridcolor": "white",
            "linecolor": "white",
            "ticks": ""
           },
           "baxis": {
            "gridcolor": "white",
            "linecolor": "white",
            "ticks": ""
           },
           "bgcolor": "#E5ECF6",
           "caxis": {
            "gridcolor": "white",
            "linecolor": "white",
            "ticks": ""
           }
          },
          "title": {
           "x": 0.05
          },
          "xaxis": {
           "automargin": true,
           "gridcolor": "white",
           "linecolor": "white",
           "ticks": "",
           "title": {
            "standoff": 15
           },
           "zerolinecolor": "white",
           "zerolinewidth": 2
          },
          "yaxis": {
           "automargin": true,
           "gridcolor": "white",
           "linecolor": "white",
           "ticks": "",
           "title": {
            "standoff": 15
           },
           "zerolinecolor": "white",
           "zerolinewidth": 2
          }
         }
        },
        "title": {
         "text": "Tipo de Traço x Rompimento 28 Dias"
        },
        "xaxis": {
         "anchor": "y",
         "domain": [
          0,
          1
         ],
         "title": {
          "text": "TipoTraco"
         }
        },
        "yaxis": {
         "anchor": "x",
         "domain": [
          0,
          1
         ],
         "title": {
          "text": "Rompimento28Dias"
         }
        }
       }
      },
      "text/html": [
       "<div>                            <div id=\"cde7b26a-73b7-468f-bf0d-9d319741f8a3\" class=\"plotly-graph-div\" style=\"height:525px; width:100%;\"></div>            <script type=\"text/javascript\">                require([\"plotly\"], function(Plotly) {                    window.PLOTLYENV=window.PLOTLYENV || {};                                    if (document.getElementById(\"cde7b26a-73b7-468f-bf0d-9d319741f8a3\")) {                    Plotly.newPlot(                        \"cde7b26a-73b7-468f-bf0d-9d319741f8a3\",                        [{\"alignmentgroup\": \"True\", \"hovertemplate\": \"TipoTraco=%{x}<br>Rompimento28Dias=%{y}<extra></extra>\", \"legendgroup\": \"\", \"marker\": {\"color\": \"#636efa\"}, \"name\": \"\", \"notched\": false, \"offsetgroup\": \"\", \"orientation\": \"v\", \"showlegend\": false, \"type\": \"box\", \"x\": [\"N\", \"N\", \"N\", \"N\", \"N\", \"N\", \"N\", \"N\", \"N\", \"N\", \"N\", \"N\", \"N\", \"N\", \"N\", \"N\", \"N\", \"N\", \"N\", \"N\", \"N\", \"N\", \"N\", \"N\", \"N\", \"N\", \"N\", \"N\", \"N\", \"N\", \"E\", \"E\", \"E\", \"E\", \"E\", \"E\", \"E\", \"E\", \"E\", \"E\", \"E\", \"E\", \"E\", \"E\", \"E\", \"E\", \"E\", \"E\", \"E\", \"E\", \"E\", \"E\", \"E\", \"E\", \"E\", \"E\", \"E\", \"E\", \"E\", \"E\", \"E\", \"E\", \"E\", \"E\", \"E\", \"E\", \"N\", \"N\", \"N\", \"N\", \"N\", \"N\", \"N\", \"N\", \"N\", \"N\", \"N\", \"N\", \"N\", \"N\", \"N\", \"N\", \"N\", \"N\", \"N\", \"N\", \"N\", \"N\", \"N\", \"N\", \"N\", \"N\", \"N\", \"N\", \"N\", \"E\", \"E\", \"E\", \"E\", \"E\", \"E\", \"E\", \"E\", \"E\", \"E\", \"E\", \"N\", \"N\", \"N\", \"N\", \"N\", \"N\", \"N\", \"N\", \"N\", \"N\", \"N\", \"N\", \"N\", \"N\", \"N\", \"N\", \"N\", \"N\", \"N\", \"N\", \"N\", \"N\", \"N\", \"N\", \"N\", \"N\", \"N\", \"N\", \"N\", \"N\", \"N\", \"N\", \"N\", \"N\", \"N\", \"N\", \"N\", \"N\", \"N\", \"N\", \"N\", \"N\", \"N\", \"N\", \"N\", \"N\", \"N\", \"N\", \"N\", \"N\", \"N\", \"N\", \"N\", \"N\", \"N\", \"N\", \"N\", \"N\", \"N\", \"E\", \"E\", \"E\", \"E\", \"E\", \"E\", \"E\", \"E\", \"E\", \"E\", \"E\", \"E\", \"E\", \"E\", \"N\", \"N\", \"N\", \"N\", \"N\", \"N\", \"N\", \"N\", \"N\", \"N\", \"N\", \"N\", \"N\", \"N\", \"N\", \"N\", \"N\", \"N\", \"N\", \"N\", \"N\", \"N\", \"N\", \"N\", \"N\", \"N\", \"N\", \"N\", \"N\", \"N\", \"N\", \"N\", \"N\", \"N\", \"N\", \"N\", \"N\", \"N\", \"N\", \"N\", \"N\", \"N\", \"N\", \"N\", \"N\", \"N\", \"N\", \"N\", \"N\", \"N\", \"N\", \"N\", \"N\", \"N\", \"N\", \"N\", \"N\", \"N\", \"N\", \"N\", \"N\", \"N\", \"N\", \"N\", \"N\", \"N\", \"N\", \"N\", \"N\", \"N\", \"N\", \"N\", \"N\", \"N\", \"N\", \"N\", \"N\", \"N\", \"N\", \"N\", \"E\", \"N\", \"N\", \"N\", \"N\", \"N\", \"N\", \"N\", \"N\", \"N\", \"N\", \"N\", \"N\", \"N\", \"N\", \"N\", \"N\", \"N\", \"N\", \"N\", \"N\", \"N\", \"N\", \"N\", \"N\", \"N\", \"N\", \"N\", \"N\", \"N\", \"N\", \"N\", \"N\", \"N\", \"N\", \"N\", \"N\", \"N\", \"N\", \"N\", \"N\", \"N\", \"N\", \"N\", \"N\", \"N\", \"N\", \"N\", \"N\", \"N\", \"N\", \"N\", \"N\", \"N\", \"N\", \"N\", \"N\", \"N\", \"N\", \"N\", \"N\", \"N\", \"N\", \"N\", \"N\", \"N\", \"N\", \"N\", \"N\", \"N\", \"N\", \"N\", \"N\", \"N\", \"N\", \"N\", \"N\", \"N\", \"N\", \"N\", \"N\", \"N\", \"N\", \"N\", \"N\", \"N\", \"N\", \"N\", \"N\", \"N\", \"N\", \"N\", \"N\", \"N\", \"N\", \"N\", \"N\", \"N\", \"N\", \"N\", \"N\", \"N\", \"N\", \"N\", \"N\", \"N\", \"N\", \"N\", \"N\", \"E\", \"E\", \"E\", \"E\", \"E\", \"E\", \"E\", \"N\", \"N\", \"N\", \"N\", \"N\", \"N\", \"N\", \"N\", \"E\", \"E\", \"E\", \"E\", \"E\", \"E\", \"E\", \"E\", \"E\", \"E\", \"E\", \"E\", \"E\", \"E\", \"E\", \"E\", \"E\", \"E\", \"E\", \"E\", \"E\", \"E\", \"E\", \"E\", \"E\", \"E\", \"N\", \"N\", \"N\", \"N\", \"N\", \"N\", \"N\", \"N\", \"N\", \"N\", \"N\", \"N\", \"N\", \"N\", \"N\", \"N\", \"N\", \"N\", \"N\", \"N\", \"N\", \"N\", \"N\", \"N\", \"N\", \"N\", \"N\", \"N\", \"N\", \"N\", \"N\", \"N\", \"N\", \"N\", \"N\", \"E\", \"E\", \"E\", \"E\", \"N\", \"E\", \"E\", \"E\", \"N\", \"N\", \"N\", \"N\", \"N\", \"N\", \"N\", \"N\", \"N\", \"N\", \"N\", \"E\", \"E\", \"E\"], \"x0\": \" \", \"xaxis\": \"x\", \"y\": [35.08, 33.4, 31.72, 31.12, 28.39, 29.7, 27.47, 27.61, 31.63, 26.3, 27.13, 22.49, 24.66, 16.96, 20.15, 30.93, 31.9, 31.3, 30.83, 31.02, 30.3, 30.6, 30.6, 33.52, 32.47, 32.41, 32.14, 33.9, 32.83, 35.01, 51.28, 43.52, 42.89, 49.06, 44.21, 45.48, 44.6, 38.14, 33.43, 46.48, 46.74, 46.78, 42.62, 46.6, 46.46, 52.0, 49.79, 51.63, 49.51, 41.84, 38.95, 52.97, 49.15, 33.26, 33.77, 38.85, 37.04, 35.9, 37.06, 36.23, 33.84, 36.62, 33.86, 36.65, 34.59, 37.24, 25.32, 26.27, 25.46, 28.11, 30.02, 25.0, 31.89, 30.4, 30.58, 32.55, 27.38, 23.81, 22.79, 20.28, 23.33, 24.34, 20.74, 18.1, 21.53, 22.81, 20.43, 21.72, 20.52, 23.31, 22.72, 22.04, 24.11, 26.34, 25.23, 39.12, 34.09, 31.18, 31.25, 30.49, 31.01, 34.94, 34.73, 33.26, 30.4, 39.45, 36.56, 37.59, 34.38, 27.27, 26.77, 24.99, 26.67, 29.5, 29.06, 31.79, 27.15, 28.49, 29.67, 28.73, 38.37, 37.64, 44.87, 43.54, 45.08, 37.38, 44.91, 37.72, 35.68, 31.77, 30.22, 32.61, 33.11, 36.06, 33.79, 31.01, 34.14, 36.59, 32.32, 36.4, 35.01, 36.48, 35.68, 37.27, 38.2, 39.58, 41.4, 38.88, 37.34, 33.03, 37.85, 36.12, 41.45, 32.42, 33.51, 37.2, 33.63, 38.44, 32.46, 32.78, 28.08, 33.8, 30.87, 26.86, 40.19, 38.51, 39.11, 43.12, 39.79, 38.92, 40.86, 42.29, 33.2, 34.45, 38.18, 43.15, 37.24, 34.5, 45.71, 29.78, 27.93, 30.76, 35.22, 36.01, 29.84, 30.51, 28.5, 32.35, 34.28, 32.74, 33.45, 33.71, 30.4, 29.56, 27.56, 28.85, 29.74, 30.78, 28.53, 31.74, 32.92, 35.62, 38.09, 36.31, 37.81, 35.4, 36.2, 35.11, 30.0, 26.39, 27.87, 28.99, 25.41, 25.14, 29.98, 25.54, 25.21, 32.73, 25.01, 24.54, 34.88, 29.67, 30.69, 36.28, 34.07, 28.25, 37.54, 39.53, 31.48, 29.69, 32.49, 35.22, 34.09, 35.22, 33.79, 37.96, 37.03, 37.66, 40.0, 32.44, 35.92, 31.86, 35.2, 35.89, 35.39, 40.53, 40.14, 34.91, 38.42, 36.59, 30.88, 34.0, 32.64, 30.87, 35.15, 31.94, 35.39, 37.73, 37.77, 32.05, 38.36, 42.61, 43.19, 38.3, 37.46, 31.07, 32.51, 33.02, 38.61, 28.72, 30.44, 30.26, 27.53, 34.54, 26.54, 27.39, 21.2, 33.9, 31.71, 34.49, 35.72, 27.98, 26.02, 29.0, 27.06, 26.39, 24.03, 33.17, 27.43, 31.39, 28.41, 30.16, 29.92, 30.02, 29.46, 27.31, 28.38, 29.64, 30.5, 40.23, 39.69, 35.81, 34.7, 38.75, 30.32, 35.07, 29.37, 33.09, 31.39, 31.19, 31.76, 33.84, 30.49, 34.47, 29.24, 31.72, 38.11, 35.69, 37.13, 34.04, 33.82, 32.46, 30.58, 29.93, 34.49, 38.16, 32.56, 32.54, 32.31, 32.6, 29.51, 31.26, 32.16, 31.26, 33.01, 21.27, 23.67, 25.79, 29.67, 27.15, 22.14, 25.69, 23.59, 27.62, 24.96, 22.79, 22.12, 22.21, 22.79, 26.82, 25.29, 32.84, 26.07, 25.56, 26.66, 27.64, 26.95, 32.4, 27.28, 27.28, 29.56, 31.61, 37.24, 33.4, 36.56, 37.67, 33.07, 34.88, 39.48, 37.77, 41.83, 40.1, 39.59, 40.66, 31.24, 40.21, 39.14, 36.4, 38.04, 40.48, 36.24, 35.22, 37.81, 25.1, 26.16, 29.65, 25.89, 28.43, 27.34, 28.71, 30.68, 27.69, 33.25, 31.54, 28.22, 32.02, 38.06, 37.31, 33.48, 38.79, 42.01, 38.08, 34.63, 28.4, 32.64, 33.01, 38.7, 33.66, 34.69, 22.25, 27.36, 31.42, 31.74, 30.62, 29.6, 28.29, 37.17, 34.45, 37.54, 39.44, 42.79, 37.86, 37.46, 36.98, 41.96, 44.3, 39.97, 42.35, 37.32, 36.4, 35.29, 35.55, 33.93, 34.74, 36.2, 32.68, 30.0, 30.44, 31.34, 29.48, 33.72, 28.94, 34.8, 21.92, 33.07, 31.74, 29.56, 37.04, 34.65, 33.19, 34.38, 36.17, 49.94, 38.19, 28.88, 28.01, 29.1, 32.45, 25.68, 31.51, 22.32, 20.79, 33.29, 49.8, 48.35, 46.11], \"y0\": \" \", \"yaxis\": \"y\"}],                        {\"boxmode\": \"group\", \"legend\": {\"tracegroupgap\": 0}, \"template\": {\"data\": {\"bar\": [{\"error_x\": {\"color\": \"#2a3f5f\"}, \"error_y\": {\"color\": \"#2a3f5f\"}, \"marker\": {\"line\": {\"color\": \"#E5ECF6\", \"width\": 0.5}}, \"type\": \"bar\"}], \"barpolar\": [{\"marker\": {\"line\": {\"color\": \"#E5ECF6\", \"width\": 0.5}}, \"type\": \"barpolar\"}], \"carpet\": [{\"aaxis\": {\"endlinecolor\": \"#2a3f5f\", \"gridcolor\": \"white\", \"linecolor\": \"white\", \"minorgridcolor\": \"white\", \"startlinecolor\": \"#2a3f5f\"}, \"baxis\": {\"endlinecolor\": \"#2a3f5f\", \"gridcolor\": \"white\", \"linecolor\": \"white\", \"minorgridcolor\": \"white\", \"startlinecolor\": \"#2a3f5f\"}, \"type\": \"carpet\"}], \"choropleth\": [{\"colorbar\": {\"outlinewidth\": 0, \"ticks\": \"\"}, \"type\": \"choropleth\"}], \"contour\": [{\"colorbar\": {\"outlinewidth\": 0, \"ticks\": \"\"}, \"colorscale\": [[0.0, \"#0d0887\"], [0.1111111111111111, \"#46039f\"], [0.2222222222222222, \"#7201a8\"], [0.3333333333333333, \"#9c179e\"], [0.4444444444444444, \"#bd3786\"], [0.5555555555555556, \"#d8576b\"], [0.6666666666666666, \"#ed7953\"], [0.7777777777777778, \"#fb9f3a\"], [0.8888888888888888, \"#fdca26\"], [1.0, \"#f0f921\"]], \"type\": \"contour\"}], \"contourcarpet\": [{\"colorbar\": {\"outlinewidth\": 0, \"ticks\": \"\"}, \"type\": \"contourcarpet\"}], \"heatmap\": [{\"colorbar\": {\"outlinewidth\": 0, \"ticks\": \"\"}, \"colorscale\": [[0.0, \"#0d0887\"], [0.1111111111111111, \"#46039f\"], [0.2222222222222222, \"#7201a8\"], [0.3333333333333333, \"#9c179e\"], [0.4444444444444444, \"#bd3786\"], [0.5555555555555556, \"#d8576b\"], [0.6666666666666666, \"#ed7953\"], [0.7777777777777778, \"#fb9f3a\"], [0.8888888888888888, \"#fdca26\"], [1.0, \"#f0f921\"]], \"type\": \"heatmap\"}], \"heatmapgl\": [{\"colorbar\": {\"outlinewidth\": 0, \"ticks\": \"\"}, \"colorscale\": [[0.0, \"#0d0887\"], [0.1111111111111111, \"#46039f\"], [0.2222222222222222, \"#7201a8\"], [0.3333333333333333, \"#9c179e\"], [0.4444444444444444, \"#bd3786\"], [0.5555555555555556, \"#d8576b\"], [0.6666666666666666, \"#ed7953\"], [0.7777777777777778, \"#fb9f3a\"], [0.8888888888888888, \"#fdca26\"], [1.0, \"#f0f921\"]], \"type\": \"heatmapgl\"}], \"histogram\": [{\"marker\": {\"colorbar\": {\"outlinewidth\": 0, \"ticks\": \"\"}}, \"type\": \"histogram\"}], \"histogram2d\": [{\"colorbar\": {\"outlinewidth\": 0, \"ticks\": \"\"}, \"colorscale\": [[0.0, \"#0d0887\"], [0.1111111111111111, \"#46039f\"], [0.2222222222222222, \"#7201a8\"], [0.3333333333333333, \"#9c179e\"], [0.4444444444444444, \"#bd3786\"], [0.5555555555555556, \"#d8576b\"], [0.6666666666666666, \"#ed7953\"], [0.7777777777777778, \"#fb9f3a\"], [0.8888888888888888, \"#fdca26\"], [1.0, \"#f0f921\"]], \"type\": \"histogram2d\"}], \"histogram2dcontour\": [{\"colorbar\": {\"outlinewidth\": 0, \"ticks\": \"\"}, \"colorscale\": [[0.0, \"#0d0887\"], [0.1111111111111111, \"#46039f\"], [0.2222222222222222, \"#7201a8\"], [0.3333333333333333, \"#9c179e\"], [0.4444444444444444, \"#bd3786\"], [0.5555555555555556, \"#d8576b\"], [0.6666666666666666, \"#ed7953\"], [0.7777777777777778, \"#fb9f3a\"], [0.8888888888888888, \"#fdca26\"], [1.0, \"#f0f921\"]], \"type\": \"histogram2dcontour\"}], \"mesh3d\": [{\"colorbar\": {\"outlinewidth\": 0, \"ticks\": \"\"}, \"type\": \"mesh3d\"}], \"parcoords\": [{\"line\": {\"colorbar\": {\"outlinewidth\": 0, \"ticks\": \"\"}}, \"type\": \"parcoords\"}], \"pie\": [{\"automargin\": true, \"type\": \"pie\"}], \"scatter\": [{\"marker\": {\"colorbar\": {\"outlinewidth\": 0, \"ticks\": \"\"}}, \"type\": \"scatter\"}], \"scatter3d\": [{\"line\": {\"colorbar\": {\"outlinewidth\": 0, \"ticks\": \"\"}}, \"marker\": {\"colorbar\": {\"outlinewidth\": 0, \"ticks\": \"\"}}, \"type\": \"scatter3d\"}], \"scattercarpet\": [{\"marker\": {\"colorbar\": {\"outlinewidth\": 0, \"ticks\": \"\"}}, \"type\": \"scattercarpet\"}], \"scattergeo\": [{\"marker\": {\"colorbar\": {\"outlinewidth\": 0, \"ticks\": \"\"}}, \"type\": \"scattergeo\"}], \"scattergl\": [{\"marker\": {\"colorbar\": {\"outlinewidth\": 0, \"ticks\": \"\"}}, \"type\": \"scattergl\"}], \"scattermapbox\": [{\"marker\": {\"colorbar\": {\"outlinewidth\": 0, \"ticks\": \"\"}}, \"type\": \"scattermapbox\"}], \"scatterpolar\": [{\"marker\": {\"colorbar\": {\"outlinewidth\": 0, \"ticks\": \"\"}}, \"type\": \"scatterpolar\"}], \"scatterpolargl\": [{\"marker\": {\"colorbar\": {\"outlinewidth\": 0, \"ticks\": \"\"}}, \"type\": \"scatterpolargl\"}], \"scatterternary\": [{\"marker\": {\"colorbar\": {\"outlinewidth\": 0, \"ticks\": \"\"}}, \"type\": \"scatterternary\"}], \"surface\": [{\"colorbar\": {\"outlinewidth\": 0, \"ticks\": \"\"}, \"colorscale\": [[0.0, \"#0d0887\"], [0.1111111111111111, \"#46039f\"], [0.2222222222222222, \"#7201a8\"], [0.3333333333333333, \"#9c179e\"], [0.4444444444444444, \"#bd3786\"], [0.5555555555555556, \"#d8576b\"], [0.6666666666666666, \"#ed7953\"], [0.7777777777777778, \"#fb9f3a\"], [0.8888888888888888, \"#fdca26\"], [1.0, \"#f0f921\"]], \"type\": \"surface\"}], \"table\": [{\"cells\": {\"fill\": {\"color\": \"#EBF0F8\"}, \"line\": {\"color\": \"white\"}}, \"header\": {\"fill\": {\"color\": \"#C8D4E3\"}, \"line\": {\"color\": \"white\"}}, \"type\": \"table\"}]}, \"layout\": {\"annotationdefaults\": {\"arrowcolor\": \"#2a3f5f\", \"arrowhead\": 0, \"arrowwidth\": 1}, \"autotypenumbers\": \"strict\", \"coloraxis\": {\"colorbar\": {\"outlinewidth\": 0, \"ticks\": \"\"}}, \"colorscale\": {\"diverging\": [[0, \"#8e0152\"], [0.1, \"#c51b7d\"], [0.2, \"#de77ae\"], [0.3, \"#f1b6da\"], [0.4, \"#fde0ef\"], [0.5, \"#f7f7f7\"], [0.6, \"#e6f5d0\"], [0.7, \"#b8e186\"], [0.8, \"#7fbc41\"], [0.9, \"#4d9221\"], [1, \"#276419\"]], \"sequential\": [[0.0, \"#0d0887\"], [0.1111111111111111, \"#46039f\"], [0.2222222222222222, \"#7201a8\"], [0.3333333333333333, \"#9c179e\"], [0.4444444444444444, \"#bd3786\"], [0.5555555555555556, \"#d8576b\"], [0.6666666666666666, \"#ed7953\"], [0.7777777777777778, \"#fb9f3a\"], [0.8888888888888888, \"#fdca26\"], [1.0, \"#f0f921\"]], \"sequentialminus\": [[0.0, \"#0d0887\"], [0.1111111111111111, \"#46039f\"], [0.2222222222222222, \"#7201a8\"], [0.3333333333333333, \"#9c179e\"], [0.4444444444444444, \"#bd3786\"], [0.5555555555555556, \"#d8576b\"], [0.6666666666666666, \"#ed7953\"], [0.7777777777777778, \"#fb9f3a\"], [0.8888888888888888, \"#fdca26\"], [1.0, \"#f0f921\"]]}, \"colorway\": [\"#636efa\", \"#EF553B\", \"#00cc96\", \"#ab63fa\", \"#FFA15A\", \"#19d3f3\", \"#FF6692\", \"#B6E880\", \"#FF97FF\", \"#FECB52\"], \"font\": {\"color\": \"#2a3f5f\"}, \"geo\": {\"bgcolor\": \"white\", \"lakecolor\": \"white\", \"landcolor\": \"#E5ECF6\", \"showlakes\": true, \"showland\": true, \"subunitcolor\": \"white\"}, \"hoverlabel\": {\"align\": \"left\"}, \"hovermode\": \"closest\", \"mapbox\": {\"style\": \"light\"}, \"paper_bgcolor\": \"white\", \"plot_bgcolor\": \"#E5ECF6\", \"polar\": {\"angularaxis\": {\"gridcolor\": \"white\", \"linecolor\": \"white\", \"ticks\": \"\"}, \"bgcolor\": \"#E5ECF6\", \"radialaxis\": {\"gridcolor\": \"white\", \"linecolor\": \"white\", \"ticks\": \"\"}}, \"scene\": {\"xaxis\": {\"backgroundcolor\": \"#E5ECF6\", \"gridcolor\": \"white\", \"gridwidth\": 2, \"linecolor\": \"white\", \"showbackground\": true, \"ticks\": \"\", \"zerolinecolor\": \"white\"}, \"yaxis\": {\"backgroundcolor\": \"#E5ECF6\", \"gridcolor\": \"white\", \"gridwidth\": 2, \"linecolor\": \"white\", \"showbackground\": true, \"ticks\": \"\", \"zerolinecolor\": \"white\"}, \"zaxis\": {\"backgroundcolor\": \"#E5ECF6\", \"gridcolor\": \"white\", \"gridwidth\": 2, \"linecolor\": \"white\", \"showbackground\": true, \"ticks\": \"\", \"zerolinecolor\": \"white\"}}, \"shapedefaults\": {\"line\": {\"color\": \"#2a3f5f\"}}, \"ternary\": {\"aaxis\": {\"gridcolor\": \"white\", \"linecolor\": \"white\", \"ticks\": \"\"}, \"baxis\": {\"gridcolor\": \"white\", \"linecolor\": \"white\", \"ticks\": \"\"}, \"bgcolor\": \"#E5ECF6\", \"caxis\": {\"gridcolor\": \"white\", \"linecolor\": \"white\", \"ticks\": \"\"}}, \"title\": {\"x\": 0.05}, \"xaxis\": {\"automargin\": true, \"gridcolor\": \"white\", \"linecolor\": \"white\", \"ticks\": \"\", \"title\": {\"standoff\": 15}, \"zerolinecolor\": \"white\", \"zerolinewidth\": 2}, \"yaxis\": {\"automargin\": true, \"gridcolor\": \"white\", \"linecolor\": \"white\", \"ticks\": \"\", \"title\": {\"standoff\": 15}, \"zerolinecolor\": \"white\", \"zerolinewidth\": 2}}}, \"title\": {\"text\": \"Tipo de Tra\\u00e7o x Rompimento 28 Dias\"}, \"xaxis\": {\"anchor\": \"y\", \"domain\": [0.0, 1.0], \"title\": {\"text\": \"TipoTraco\"}}, \"yaxis\": {\"anchor\": \"x\", \"domain\": [0.0, 1.0], \"title\": {\"text\": \"Rompimento28Dias\"}}},                        {\"responsive\": true}                    ).then(function(){\n",
       "                            \n",
       "var gd = document.getElementById('cde7b26a-73b7-468f-bf0d-9d319741f8a3');\n",
       "var x = new MutationObserver(function (mutations, observer) {{\n",
       "        var display = window.getComputedStyle(gd).display;\n",
       "        if (!display || display === 'none') {{\n",
       "            console.log([gd, 'removed!']);\n",
       "            Plotly.purge(gd);\n",
       "            observer.disconnect();\n",
       "        }}\n",
       "}});\n",
       "\n",
       "// Listen for the removal of the full notebook cells\n",
       "var notebookContainer = gd.closest('#notebook-container');\n",
       "if (notebookContainer) {{\n",
       "    x.observe(notebookContainer, {childList: true});\n",
       "}}\n",
       "\n",
       "// Listen for the clearing of the current output cell\n",
       "var outputEl = gd.closest('.output');\n",
       "if (outputEl) {{\n",
       "    x.observe(outputEl, {childList: true});\n",
       "}}\n",
       "\n",
       "                        })                };                });            </script>        </div>"
      ]
     },
     "metadata": {},
     "output_type": "display_data"
    }
   ],
   "source": [
    "fig = px.box(dados_aglomerante, x=\"TipoTraco\", y=\"Rompimento28Dias\", title='Tipo de Traço x Rompimento 28 Dias')\n",
    "fig.show()"
   ]
  },
  {
   "cell_type": "code",
   "execution_count": 55,
   "metadata": {},
   "outputs": [
    {
     "data": {
      "application/vnd.plotly.v1+json": {
       "config": {
        "plotlyServerURL": "https://plot.ly"
       },
       "data": [
        {
         "alignmentgroup": "True",
         "hovertemplate": "FCK=%{x}<br>Rompimento28Dias=%{y}<extra></extra>",
         "legendgroup": "",
         "marker": {
          "color": "#636efa"
         },
         "name": "",
         "notched": false,
         "offsetgroup": "",
         "orientation": "v",
         "showlegend": false,
         "type": "box",
         "x": [
          30,
          25,
          25,
          25,
          25,
          25,
          25,
          25,
          25,
          15,
          15,
          15,
          15,
          15,
          15,
          30,
          30,
          30,
          30,
          30,
          30,
          30,
          30,
          35,
          35,
          35,
          35,
          35,
          35,
          35,
          35,
          35,
          35,
          35,
          35,
          35,
          35,
          35,
          35,
          35,
          35,
          35,
          35,
          35,
          35,
          35,
          35,
          35,
          35,
          35,
          35,
          35,
          35,
          30,
          30,
          30,
          30,
          30,
          30,
          30,
          30,
          30,
          30,
          30,
          30,
          30,
          20,
          20,
          20,
          20,
          20,
          20,
          20,
          20,
          20,
          20,
          20,
          20,
          20,
          20,
          20,
          20,
          20,
          20,
          20,
          20,
          20,
          20,
          20,
          20,
          20,
          20,
          20,
          20,
          20,
          30,
          20,
          20,
          20,
          20,
          20,
          20,
          20,
          20,
          20,
          20,
          25,
          25,
          25,
          20,
          25,
          25,
          25,
          25,
          25,
          25,
          25,
          25,
          25,
          25,
          30,
          30,
          30,
          30,
          30,
          30,
          30,
          30,
          30,
          30,
          30,
          30,
          30,
          30,
          30,
          30,
          30,
          30,
          30,
          30,
          30,
          30,
          30,
          30,
          30,
          30,
          30,
          30,
          30,
          30,
          30,
          30,
          30,
          30,
          30,
          30,
          30,
          30,
          30,
          30,
          30,
          30,
          30,
          30,
          30,
          25,
          25,
          25,
          25,
          25,
          25,
          25,
          25,
          25,
          25,
          25,
          25,
          25,
          25,
          25,
          25,
          25,
          25,
          25,
          25,
          25,
          25,
          25,
          25,
          25,
          25,
          25,
          25,
          25,
          25,
          25,
          25,
          25,
          25,
          25,
          25,
          25,
          25,
          25,
          25,
          25,
          25,
          25,
          25,
          25,
          25,
          25,
          25,
          25,
          25,
          25,
          25,
          25,
          25,
          25,
          25,
          25,
          25,
          25,
          25,
          25,
          30,
          30,
          30,
          30,
          30,
          30,
          30,
          30,
          30,
          30,
          30,
          30,
          30,
          30,
          30,
          30,
          30,
          30,
          30,
          30,
          30,
          30,
          30,
          30,
          30,
          30,
          30,
          30,
          30,
          30,
          30,
          35,
          35,
          30,
          25,
          25,
          25,
          25,
          25,
          25,
          25,
          25,
          25,
          25,
          25,
          25,
          25,
          25,
          20,
          20,
          20,
          25,
          25,
          25,
          25,
          25,
          25,
          25,
          25,
          25,
          25,
          25,
          25,
          25,
          25,
          25,
          25,
          25,
          25,
          25,
          25,
          25,
          25,
          25,
          25,
          25,
          25,
          25,
          25,
          25,
          25,
          25,
          25,
          25,
          25,
          25,
          25,
          25,
          25,
          25,
          25,
          25,
          25,
          25,
          25,
          25,
          25,
          25,
          25,
          25,
          25,
          25,
          25,
          25,
          25,
          25,
          25,
          25,
          25,
          25,
          25,
          25,
          25,
          25,
          25,
          25,
          25,
          25,
          25,
          25,
          25,
          25,
          25,
          25,
          25,
          25,
          25,
          25,
          25,
          25,
          25,
          25,
          25,
          25,
          25,
          25,
          25,
          25,
          25,
          25,
          25,
          25,
          25,
          25,
          25,
          25,
          25,
          25,
          25,
          30,
          30,
          30,
          30,
          30,
          30,
          30,
          30,
          25,
          25,
          25,
          25,
          25,
          25,
          25,
          25,
          25,
          25,
          25,
          25,
          30,
          30,
          30,
          30,
          30,
          30,
          30,
          30,
          30,
          30,
          30,
          30,
          30,
          30,
          20,
          20,
          30,
          30,
          30,
          30,
          30,
          30,
          30,
          30,
          30,
          30,
          30,
          30,
          30,
          30,
          30,
          30,
          30,
          30,
          30,
          30,
          30,
          30,
          30,
          30,
          30,
          30,
          30,
          30,
          25,
          25,
          25,
          25,
          20,
          25,
          25,
          25,
          25,
          25,
          30,
          30,
          30,
          35,
          35,
          30,
          25,
          25,
          25,
          25,
          25,
          15,
          15,
          20,
          30,
          30,
          30
         ],
         "x0": " ",
         "xaxis": "x",
         "y": [
          35.08,
          33.4,
          31.72,
          31.12,
          28.39,
          29.7,
          27.47,
          27.61,
          31.63,
          26.3,
          27.13,
          22.49,
          24.66,
          16.96,
          20.15,
          30.93,
          31.9,
          31.3,
          30.83,
          31.02,
          30.3,
          30.6,
          30.6,
          33.52,
          32.47,
          32.41,
          32.14,
          33.9,
          32.83,
          35.01,
          51.28,
          43.52,
          42.89,
          49.06,
          44.21,
          45.48,
          44.6,
          38.14,
          33.43,
          46.48,
          46.74,
          46.78,
          42.62,
          46.6,
          46.46,
          52,
          49.79,
          51.63,
          49.51,
          41.84,
          38.95,
          52.97,
          49.15,
          33.26,
          33.77,
          38.85,
          37.04,
          35.9,
          37.06,
          36.23,
          33.84,
          36.62,
          33.86,
          36.65,
          34.59,
          37.24,
          25.32,
          26.27,
          25.46,
          28.11,
          30.02,
          25,
          31.89,
          30.4,
          30.58,
          32.55,
          27.38,
          23.81,
          22.79,
          20.28,
          23.33,
          24.34,
          20.74,
          18.1,
          21.53,
          22.81,
          20.43,
          21.72,
          20.52,
          23.31,
          22.72,
          22.04,
          24.11,
          26.34,
          25.23,
          39.12,
          34.09,
          31.18,
          31.25,
          30.49,
          31.01,
          34.94,
          34.73,
          33.26,
          30.4,
          39.45,
          36.56,
          37.59,
          34.38,
          27.27,
          26.77,
          24.99,
          26.67,
          29.5,
          29.06,
          31.79,
          27.15,
          28.49,
          29.67,
          28.73,
          38.37,
          37.64,
          44.87,
          43.54,
          45.08,
          37.38,
          44.91,
          37.72,
          35.68,
          31.77,
          30.22,
          32.61,
          33.11,
          36.06,
          33.79,
          31.01,
          34.14,
          36.59,
          32.32,
          36.4,
          35.01,
          36.48,
          35.68,
          37.27,
          38.2,
          39.58,
          41.4,
          38.88,
          37.34,
          33.03,
          37.85,
          36.12,
          41.45,
          32.42,
          33.51,
          37.2,
          33.63,
          38.44,
          32.46,
          32.78,
          28.08,
          33.8,
          30.87,
          26.86,
          40.19,
          38.51,
          39.11,
          43.12,
          39.79,
          38.92,
          40.86,
          42.29,
          33.2,
          34.45,
          38.18,
          43.15,
          37.24,
          34.5,
          45.71,
          29.78,
          27.93,
          30.76,
          35.22,
          36.01,
          29.84,
          30.51,
          28.5,
          32.35,
          34.28,
          32.74,
          33.45,
          33.71,
          30.4,
          29.56,
          27.56,
          28.85,
          29.74,
          30.78,
          28.53,
          31.74,
          32.92,
          35.62,
          38.09,
          36.31,
          37.81,
          35.4,
          36.2,
          35.11,
          30,
          26.39,
          27.87,
          28.99,
          25.41,
          25.14,
          29.98,
          25.54,
          25.21,
          32.73,
          25.01,
          24.54,
          34.88,
          29.67,
          30.69,
          36.28,
          34.07,
          28.25,
          37.54,
          39.53,
          31.48,
          29.69,
          32.49,
          35.22,
          34.09,
          35.22,
          33.79,
          37.96,
          37.03,
          37.66,
          40,
          32.44,
          35.92,
          31.86,
          35.2,
          35.89,
          35.39,
          40.53,
          40.14,
          34.91,
          38.42,
          36.59,
          30.88,
          34,
          32.64,
          30.87,
          35.15,
          31.94,
          35.39,
          37.73,
          37.77,
          32.05,
          38.36,
          42.61,
          43.19,
          38.3,
          37.46,
          31.07,
          32.51,
          33.02,
          38.61,
          28.72,
          30.44,
          30.26,
          27.53,
          34.54,
          26.54,
          27.39,
          21.2,
          33.9,
          31.71,
          34.49,
          35.72,
          27.98,
          26.02,
          29,
          27.06,
          26.39,
          24.03,
          33.17,
          27.43,
          31.39,
          28.41,
          30.16,
          29.92,
          30.02,
          29.46,
          27.31,
          28.38,
          29.64,
          30.5,
          40.23,
          39.69,
          35.81,
          34.7,
          38.75,
          30.32,
          35.07,
          29.37,
          33.09,
          31.39,
          31.19,
          31.76,
          33.84,
          30.49,
          34.47,
          29.24,
          31.72,
          38.11,
          35.69,
          37.13,
          34.04,
          33.82,
          32.46,
          30.58,
          29.93,
          34.49,
          38.16,
          32.56,
          32.54,
          32.31,
          32.6,
          29.51,
          31.26,
          32.16,
          31.26,
          33.01,
          21.27,
          23.67,
          25.79,
          29.67,
          27.15,
          22.14,
          25.69,
          23.59,
          27.62,
          24.96,
          22.79,
          22.12,
          22.21,
          22.79,
          26.82,
          25.29,
          32.84,
          26.07,
          25.56,
          26.66,
          27.64,
          26.95,
          32.4,
          27.28,
          27.28,
          29.56,
          31.61,
          37.24,
          33.4,
          36.56,
          37.67,
          33.07,
          34.88,
          39.48,
          37.77,
          41.83,
          40.1,
          39.59,
          40.66,
          31.24,
          40.21,
          39.14,
          36.4,
          38.04,
          40.48,
          36.24,
          35.22,
          37.81,
          25.1,
          26.16,
          29.65,
          25.89,
          28.43,
          27.34,
          28.71,
          30.68,
          27.69,
          33.25,
          31.54,
          28.22,
          32.02,
          38.06,
          37.31,
          33.48,
          38.79,
          42.01,
          38.08,
          34.63,
          28.4,
          32.64,
          33.01,
          38.7,
          33.66,
          34.69,
          22.25,
          27.36,
          31.42,
          31.74,
          30.62,
          29.6,
          28.29,
          37.17,
          34.45,
          37.54,
          39.44,
          42.79,
          37.86,
          37.46,
          36.98,
          41.96,
          44.3,
          39.97,
          42.35,
          37.32,
          36.4,
          35.29,
          35.55,
          33.93,
          34.74,
          36.2,
          32.68,
          30,
          30.44,
          31.34,
          29.48,
          33.72,
          28.94,
          34.8,
          21.92,
          33.07,
          31.74,
          29.56,
          37.04,
          34.65,
          33.19,
          34.38,
          36.17,
          49.94,
          38.19,
          28.88,
          28.01,
          29.1,
          32.45,
          25.68,
          31.51,
          22.32,
          20.79,
          33.29,
          49.8,
          48.35,
          46.11
         ],
         "y0": " ",
         "yaxis": "y"
        }
       ],
       "layout": {
        "boxmode": "group",
        "legend": {
         "tracegroupgap": 0
        },
        "template": {
         "data": {
          "bar": [
           {
            "error_x": {
             "color": "#2a3f5f"
            },
            "error_y": {
             "color": "#2a3f5f"
            },
            "marker": {
             "line": {
              "color": "#E5ECF6",
              "width": 0.5
             }
            },
            "type": "bar"
           }
          ],
          "barpolar": [
           {
            "marker": {
             "line": {
              "color": "#E5ECF6",
              "width": 0.5
             }
            },
            "type": "barpolar"
           }
          ],
          "carpet": [
           {
            "aaxis": {
             "endlinecolor": "#2a3f5f",
             "gridcolor": "white",
             "linecolor": "white",
             "minorgridcolor": "white",
             "startlinecolor": "#2a3f5f"
            },
            "baxis": {
             "endlinecolor": "#2a3f5f",
             "gridcolor": "white",
             "linecolor": "white",
             "minorgridcolor": "white",
             "startlinecolor": "#2a3f5f"
            },
            "type": "carpet"
           }
          ],
          "choropleth": [
           {
            "colorbar": {
             "outlinewidth": 0,
             "ticks": ""
            },
            "type": "choropleth"
           }
          ],
          "contour": [
           {
            "colorbar": {
             "outlinewidth": 0,
             "ticks": ""
            },
            "colorscale": [
             [
              0,
              "#0d0887"
             ],
             [
              0.1111111111111111,
              "#46039f"
             ],
             [
              0.2222222222222222,
              "#7201a8"
             ],
             [
              0.3333333333333333,
              "#9c179e"
             ],
             [
              0.4444444444444444,
              "#bd3786"
             ],
             [
              0.5555555555555556,
              "#d8576b"
             ],
             [
              0.6666666666666666,
              "#ed7953"
             ],
             [
              0.7777777777777778,
              "#fb9f3a"
             ],
             [
              0.8888888888888888,
              "#fdca26"
             ],
             [
              1,
              "#f0f921"
             ]
            ],
            "type": "contour"
           }
          ],
          "contourcarpet": [
           {
            "colorbar": {
             "outlinewidth": 0,
             "ticks": ""
            },
            "type": "contourcarpet"
           }
          ],
          "heatmap": [
           {
            "colorbar": {
             "outlinewidth": 0,
             "ticks": ""
            },
            "colorscale": [
             [
              0,
              "#0d0887"
             ],
             [
              0.1111111111111111,
              "#46039f"
             ],
             [
              0.2222222222222222,
              "#7201a8"
             ],
             [
              0.3333333333333333,
              "#9c179e"
             ],
             [
              0.4444444444444444,
              "#bd3786"
             ],
             [
              0.5555555555555556,
              "#d8576b"
             ],
             [
              0.6666666666666666,
              "#ed7953"
             ],
             [
              0.7777777777777778,
              "#fb9f3a"
             ],
             [
              0.8888888888888888,
              "#fdca26"
             ],
             [
              1,
              "#f0f921"
             ]
            ],
            "type": "heatmap"
           }
          ],
          "heatmapgl": [
           {
            "colorbar": {
             "outlinewidth": 0,
             "ticks": ""
            },
            "colorscale": [
             [
              0,
              "#0d0887"
             ],
             [
              0.1111111111111111,
              "#46039f"
             ],
             [
              0.2222222222222222,
              "#7201a8"
             ],
             [
              0.3333333333333333,
              "#9c179e"
             ],
             [
              0.4444444444444444,
              "#bd3786"
             ],
             [
              0.5555555555555556,
              "#d8576b"
             ],
             [
              0.6666666666666666,
              "#ed7953"
             ],
             [
              0.7777777777777778,
              "#fb9f3a"
             ],
             [
              0.8888888888888888,
              "#fdca26"
             ],
             [
              1,
              "#f0f921"
             ]
            ],
            "type": "heatmapgl"
           }
          ],
          "histogram": [
           {
            "marker": {
             "colorbar": {
              "outlinewidth": 0,
              "ticks": ""
             }
            },
            "type": "histogram"
           }
          ],
          "histogram2d": [
           {
            "colorbar": {
             "outlinewidth": 0,
             "ticks": ""
            },
            "colorscale": [
             [
              0,
              "#0d0887"
             ],
             [
              0.1111111111111111,
              "#46039f"
             ],
             [
              0.2222222222222222,
              "#7201a8"
             ],
             [
              0.3333333333333333,
              "#9c179e"
             ],
             [
              0.4444444444444444,
              "#bd3786"
             ],
             [
              0.5555555555555556,
              "#d8576b"
             ],
             [
              0.6666666666666666,
              "#ed7953"
             ],
             [
              0.7777777777777778,
              "#fb9f3a"
             ],
             [
              0.8888888888888888,
              "#fdca26"
             ],
             [
              1,
              "#f0f921"
             ]
            ],
            "type": "histogram2d"
           }
          ],
          "histogram2dcontour": [
           {
            "colorbar": {
             "outlinewidth": 0,
             "ticks": ""
            },
            "colorscale": [
             [
              0,
              "#0d0887"
             ],
             [
              0.1111111111111111,
              "#46039f"
             ],
             [
              0.2222222222222222,
              "#7201a8"
             ],
             [
              0.3333333333333333,
              "#9c179e"
             ],
             [
              0.4444444444444444,
              "#bd3786"
             ],
             [
              0.5555555555555556,
              "#d8576b"
             ],
             [
              0.6666666666666666,
              "#ed7953"
             ],
             [
              0.7777777777777778,
              "#fb9f3a"
             ],
             [
              0.8888888888888888,
              "#fdca26"
             ],
             [
              1,
              "#f0f921"
             ]
            ],
            "type": "histogram2dcontour"
           }
          ],
          "mesh3d": [
           {
            "colorbar": {
             "outlinewidth": 0,
             "ticks": ""
            },
            "type": "mesh3d"
           }
          ],
          "parcoords": [
           {
            "line": {
             "colorbar": {
              "outlinewidth": 0,
              "ticks": ""
             }
            },
            "type": "parcoords"
           }
          ],
          "pie": [
           {
            "automargin": true,
            "type": "pie"
           }
          ],
          "scatter": [
           {
            "marker": {
             "colorbar": {
              "outlinewidth": 0,
              "ticks": ""
             }
            },
            "type": "scatter"
           }
          ],
          "scatter3d": [
           {
            "line": {
             "colorbar": {
              "outlinewidth": 0,
              "ticks": ""
             }
            },
            "marker": {
             "colorbar": {
              "outlinewidth": 0,
              "ticks": ""
             }
            },
            "type": "scatter3d"
           }
          ],
          "scattercarpet": [
           {
            "marker": {
             "colorbar": {
              "outlinewidth": 0,
              "ticks": ""
             }
            },
            "type": "scattercarpet"
           }
          ],
          "scattergeo": [
           {
            "marker": {
             "colorbar": {
              "outlinewidth": 0,
              "ticks": ""
             }
            },
            "type": "scattergeo"
           }
          ],
          "scattergl": [
           {
            "marker": {
             "colorbar": {
              "outlinewidth": 0,
              "ticks": ""
             }
            },
            "type": "scattergl"
           }
          ],
          "scattermapbox": [
           {
            "marker": {
             "colorbar": {
              "outlinewidth": 0,
              "ticks": ""
             }
            },
            "type": "scattermapbox"
           }
          ],
          "scatterpolar": [
           {
            "marker": {
             "colorbar": {
              "outlinewidth": 0,
              "ticks": ""
             }
            },
            "type": "scatterpolar"
           }
          ],
          "scatterpolargl": [
           {
            "marker": {
             "colorbar": {
              "outlinewidth": 0,
              "ticks": ""
             }
            },
            "type": "scatterpolargl"
           }
          ],
          "scatterternary": [
           {
            "marker": {
             "colorbar": {
              "outlinewidth": 0,
              "ticks": ""
             }
            },
            "type": "scatterternary"
           }
          ],
          "surface": [
           {
            "colorbar": {
             "outlinewidth": 0,
             "ticks": ""
            },
            "colorscale": [
             [
              0,
              "#0d0887"
             ],
             [
              0.1111111111111111,
              "#46039f"
             ],
             [
              0.2222222222222222,
              "#7201a8"
             ],
             [
              0.3333333333333333,
              "#9c179e"
             ],
             [
              0.4444444444444444,
              "#bd3786"
             ],
             [
              0.5555555555555556,
              "#d8576b"
             ],
             [
              0.6666666666666666,
              "#ed7953"
             ],
             [
              0.7777777777777778,
              "#fb9f3a"
             ],
             [
              0.8888888888888888,
              "#fdca26"
             ],
             [
              1,
              "#f0f921"
             ]
            ],
            "type": "surface"
           }
          ],
          "table": [
           {
            "cells": {
             "fill": {
              "color": "#EBF0F8"
             },
             "line": {
              "color": "white"
             }
            },
            "header": {
             "fill": {
              "color": "#C8D4E3"
             },
             "line": {
              "color": "white"
             }
            },
            "type": "table"
           }
          ]
         },
         "layout": {
          "annotationdefaults": {
           "arrowcolor": "#2a3f5f",
           "arrowhead": 0,
           "arrowwidth": 1
          },
          "autotypenumbers": "strict",
          "coloraxis": {
           "colorbar": {
            "outlinewidth": 0,
            "ticks": ""
           }
          },
          "colorscale": {
           "diverging": [
            [
             0,
             "#8e0152"
            ],
            [
             0.1,
             "#c51b7d"
            ],
            [
             0.2,
             "#de77ae"
            ],
            [
             0.3,
             "#f1b6da"
            ],
            [
             0.4,
             "#fde0ef"
            ],
            [
             0.5,
             "#f7f7f7"
            ],
            [
             0.6,
             "#e6f5d0"
            ],
            [
             0.7,
             "#b8e186"
            ],
            [
             0.8,
             "#7fbc41"
            ],
            [
             0.9,
             "#4d9221"
            ],
            [
             1,
             "#276419"
            ]
           ],
           "sequential": [
            [
             0,
             "#0d0887"
            ],
            [
             0.1111111111111111,
             "#46039f"
            ],
            [
             0.2222222222222222,
             "#7201a8"
            ],
            [
             0.3333333333333333,
             "#9c179e"
            ],
            [
             0.4444444444444444,
             "#bd3786"
            ],
            [
             0.5555555555555556,
             "#d8576b"
            ],
            [
             0.6666666666666666,
             "#ed7953"
            ],
            [
             0.7777777777777778,
             "#fb9f3a"
            ],
            [
             0.8888888888888888,
             "#fdca26"
            ],
            [
             1,
             "#f0f921"
            ]
           ],
           "sequentialminus": [
            [
             0,
             "#0d0887"
            ],
            [
             0.1111111111111111,
             "#46039f"
            ],
            [
             0.2222222222222222,
             "#7201a8"
            ],
            [
             0.3333333333333333,
             "#9c179e"
            ],
            [
             0.4444444444444444,
             "#bd3786"
            ],
            [
             0.5555555555555556,
             "#d8576b"
            ],
            [
             0.6666666666666666,
             "#ed7953"
            ],
            [
             0.7777777777777778,
             "#fb9f3a"
            ],
            [
             0.8888888888888888,
             "#fdca26"
            ],
            [
             1,
             "#f0f921"
            ]
           ]
          },
          "colorway": [
           "#636efa",
           "#EF553B",
           "#00cc96",
           "#ab63fa",
           "#FFA15A",
           "#19d3f3",
           "#FF6692",
           "#B6E880",
           "#FF97FF",
           "#FECB52"
          ],
          "font": {
           "color": "#2a3f5f"
          },
          "geo": {
           "bgcolor": "white",
           "lakecolor": "white",
           "landcolor": "#E5ECF6",
           "showlakes": true,
           "showland": true,
           "subunitcolor": "white"
          },
          "hoverlabel": {
           "align": "left"
          },
          "hovermode": "closest",
          "mapbox": {
           "style": "light"
          },
          "paper_bgcolor": "white",
          "plot_bgcolor": "#E5ECF6",
          "polar": {
           "angularaxis": {
            "gridcolor": "white",
            "linecolor": "white",
            "ticks": ""
           },
           "bgcolor": "#E5ECF6",
           "radialaxis": {
            "gridcolor": "white",
            "linecolor": "white",
            "ticks": ""
           }
          },
          "scene": {
           "xaxis": {
            "backgroundcolor": "#E5ECF6",
            "gridcolor": "white",
            "gridwidth": 2,
            "linecolor": "white",
            "showbackground": true,
            "ticks": "",
            "zerolinecolor": "white"
           },
           "yaxis": {
            "backgroundcolor": "#E5ECF6",
            "gridcolor": "white",
            "gridwidth": 2,
            "linecolor": "white",
            "showbackground": true,
            "ticks": "",
            "zerolinecolor": "white"
           },
           "zaxis": {
            "backgroundcolor": "#E5ECF6",
            "gridcolor": "white",
            "gridwidth": 2,
            "linecolor": "white",
            "showbackground": true,
            "ticks": "",
            "zerolinecolor": "white"
           }
          },
          "shapedefaults": {
           "line": {
            "color": "#2a3f5f"
           }
          },
          "ternary": {
           "aaxis": {
            "gridcolor": "white",
            "linecolor": "white",
            "ticks": ""
           },
           "baxis": {
            "gridcolor": "white",
            "linecolor": "white",
            "ticks": ""
           },
           "bgcolor": "#E5ECF6",
           "caxis": {
            "gridcolor": "white",
            "linecolor": "white",
            "ticks": ""
           }
          },
          "title": {
           "x": 0.05
          },
          "xaxis": {
           "automargin": true,
           "gridcolor": "white",
           "linecolor": "white",
           "ticks": "",
           "title": {
            "standoff": 15
           },
           "zerolinecolor": "white",
           "zerolinewidth": 2
          },
          "yaxis": {
           "automargin": true,
           "gridcolor": "white",
           "linecolor": "white",
           "ticks": "",
           "title": {
            "standoff": 15
           },
           "zerolinecolor": "white",
           "zerolinewidth": 2
          }
         }
        },
        "title": {
         "text": "FCK x Rompimento 28 Dias"
        },
        "xaxis": {
         "anchor": "y",
         "domain": [
          0,
          1
         ],
         "title": {
          "text": "FCK"
         }
        },
        "yaxis": {
         "anchor": "x",
         "domain": [
          0,
          1
         ],
         "title": {
          "text": "Rompimento28Dias"
         }
        }
       }
      },
      "text/html": [
       "<div>                            <div id=\"111bb700-fbcd-4ff7-ba8d-c2bc6ee62b77\" class=\"plotly-graph-div\" style=\"height:525px; width:100%;\"></div>            <script type=\"text/javascript\">                require([\"plotly\"], function(Plotly) {                    window.PLOTLYENV=window.PLOTLYENV || {};                                    if (document.getElementById(\"111bb700-fbcd-4ff7-ba8d-c2bc6ee62b77\")) {                    Plotly.newPlot(                        \"111bb700-fbcd-4ff7-ba8d-c2bc6ee62b77\",                        [{\"alignmentgroup\": \"True\", \"hovertemplate\": \"FCK=%{x}<br>Rompimento28Dias=%{y}<extra></extra>\", \"legendgroup\": \"\", \"marker\": {\"color\": \"#636efa\"}, \"name\": \"\", \"notched\": false, \"offsetgroup\": \"\", \"orientation\": \"v\", \"showlegend\": false, \"type\": \"box\", \"x\": [30.0, 25.0, 25.0, 25.0, 25.0, 25.0, 25.0, 25.0, 25.0, 15.0, 15.0, 15.0, 15.0, 15.0, 15.0, 30.0, 30.0, 30.0, 30.0, 30.0, 30.0, 30.0, 30.0, 35.0, 35.0, 35.0, 35.0, 35.0, 35.0, 35.0, 35.0, 35.0, 35.0, 35.0, 35.0, 35.0, 35.0, 35.0, 35.0, 35.0, 35.0, 35.0, 35.0, 35.0, 35.0, 35.0, 35.0, 35.0, 35.0, 35.0, 35.0, 35.0, 35.0, 30.0, 30.0, 30.0, 30.0, 30.0, 30.0, 30.0, 30.0, 30.0, 30.0, 30.0, 30.0, 30.0, 20.0, 20.0, 20.0, 20.0, 20.0, 20.0, 20.0, 20.0, 20.0, 20.0, 20.0, 20.0, 20.0, 20.0, 20.0, 20.0, 20.0, 20.0, 20.0, 20.0, 20.0, 20.0, 20.0, 20.0, 20.0, 20.0, 20.0, 20.0, 20.0, 30.0, 20.0, 20.0, 20.0, 20.0, 20.0, 20.0, 20.0, 20.0, 20.0, 20.0, 25.0, 25.0, 25.0, 20.0, 25.0, 25.0, 25.0, 25.0, 25.0, 25.0, 25.0, 25.0, 25.0, 25.0, 30.0, 30.0, 30.0, 30.0, 30.0, 30.0, 30.0, 30.0, 30.0, 30.0, 30.0, 30.0, 30.0, 30.0, 30.0, 30.0, 30.0, 30.0, 30.0, 30.0, 30.0, 30.0, 30.0, 30.0, 30.0, 30.0, 30.0, 30.0, 30.0, 30.0, 30.0, 30.0, 30.0, 30.0, 30.0, 30.0, 30.0, 30.0, 30.0, 30.0, 30.0, 30.0, 30.0, 30.0, 30.0, 25.0, 25.0, 25.0, 25.0, 25.0, 25.0, 25.0, 25.0, 25.0, 25.0, 25.0, 25.0, 25.0, 25.0, 25.0, 25.0, 25.0, 25.0, 25.0, 25.0, 25.0, 25.0, 25.0, 25.0, 25.0, 25.0, 25.0, 25.0, 25.0, 25.0, 25.0, 25.0, 25.0, 25.0, 25.0, 25.0, 25.0, 25.0, 25.0, 25.0, 25.0, 25.0, 25.0, 25.0, 25.0, 25.0, 25.0, 25.0, 25.0, 25.0, 25.0, 25.0, 25.0, 25.0, 25.0, 25.0, 25.0, 25.0, 25.0, 25.0, 25.0, 30.0, 30.0, 30.0, 30.0, 30.0, 30.0, 30.0, 30.0, 30.0, 30.0, 30.0, 30.0, 30.0, 30.0, 30.0, 30.0, 30.0, 30.0, 30.0, 30.0, 30.0, 30.0, 30.0, 30.0, 30.0, 30.0, 30.0, 30.0, 30.0, 30.0, 30.0, 35.0, 35.0, 30.0, 25.0, 25.0, 25.0, 25.0, 25.0, 25.0, 25.0, 25.0, 25.0, 25.0, 25.0, 25.0, 25.0, 25.0, 20.0, 20.0, 20.0, 25.0, 25.0, 25.0, 25.0, 25.0, 25.0, 25.0, 25.0, 25.0, 25.0, 25.0, 25.0, 25.0, 25.0, 25.0, 25.0, 25.0, 25.0, 25.0, 25.0, 25.0, 25.0, 25.0, 25.0, 25.0, 25.0, 25.0, 25.0, 25.0, 25.0, 25.0, 25.0, 25.0, 25.0, 25.0, 25.0, 25.0, 25.0, 25.0, 25.0, 25.0, 25.0, 25.0, 25.0, 25.0, 25.0, 25.0, 25.0, 25.0, 25.0, 25.0, 25.0, 25.0, 25.0, 25.0, 25.0, 25.0, 25.0, 25.0, 25.0, 25.0, 25.0, 25.0, 25.0, 25.0, 25.0, 25.0, 25.0, 25.0, 25.0, 25.0, 25.0, 25.0, 25.0, 25.0, 25.0, 25.0, 25.0, 25.0, 25.0, 25.0, 25.0, 25.0, 25.0, 25.0, 25.0, 25.0, 25.0, 25.0, 25.0, 25.0, 25.0, 25.0, 25.0, 25.0, 25.0, 25.0, 25.0, 30.0, 30.0, 30.0, 30.0, 30.0, 30.0, 30.0, 30.0, 25.0, 25.0, 25.0, 25.0, 25.0, 25.0, 25.0, 25.0, 25.0, 25.0, 25.0, 25.0, 30.0, 30.0, 30.0, 30.0, 30.0, 30.0, 30.0, 30.0, 30.0, 30.0, 30.0, 30.0, 30.0, 30.0, 20.0, 20.0, 30.0, 30.0, 30.0, 30.0, 30.0, 30.0, 30.0, 30.0, 30.0, 30.0, 30.0, 30.0, 30.0, 30.0, 30.0, 30.0, 30.0, 30.0, 30.0, 30.0, 30.0, 30.0, 30.0, 30.0, 30.0, 30.0, 30.0, 30.0, 25.0, 25.0, 25.0, 25.0, 20.0, 25.0, 25.0, 25.0, 25.0, 25.0, 30.0, 30.0, 30.0, 35.0, 35.0, 30.0, 25.0, 25.0, 25.0, 25.0, 25.0, 15.0, 15.0, 20.0, 30.0, 30.0, 30.0], \"x0\": \" \", \"xaxis\": \"x\", \"y\": [35.08, 33.4, 31.72, 31.12, 28.39, 29.7, 27.47, 27.61, 31.63, 26.3, 27.13, 22.49, 24.66, 16.96, 20.15, 30.93, 31.9, 31.3, 30.83, 31.02, 30.3, 30.6, 30.6, 33.52, 32.47, 32.41, 32.14, 33.9, 32.83, 35.01, 51.28, 43.52, 42.89, 49.06, 44.21, 45.48, 44.6, 38.14, 33.43, 46.48, 46.74, 46.78, 42.62, 46.6, 46.46, 52.0, 49.79, 51.63, 49.51, 41.84, 38.95, 52.97, 49.15, 33.26, 33.77, 38.85, 37.04, 35.9, 37.06, 36.23, 33.84, 36.62, 33.86, 36.65, 34.59, 37.24, 25.32, 26.27, 25.46, 28.11, 30.02, 25.0, 31.89, 30.4, 30.58, 32.55, 27.38, 23.81, 22.79, 20.28, 23.33, 24.34, 20.74, 18.1, 21.53, 22.81, 20.43, 21.72, 20.52, 23.31, 22.72, 22.04, 24.11, 26.34, 25.23, 39.12, 34.09, 31.18, 31.25, 30.49, 31.01, 34.94, 34.73, 33.26, 30.4, 39.45, 36.56, 37.59, 34.38, 27.27, 26.77, 24.99, 26.67, 29.5, 29.06, 31.79, 27.15, 28.49, 29.67, 28.73, 38.37, 37.64, 44.87, 43.54, 45.08, 37.38, 44.91, 37.72, 35.68, 31.77, 30.22, 32.61, 33.11, 36.06, 33.79, 31.01, 34.14, 36.59, 32.32, 36.4, 35.01, 36.48, 35.68, 37.27, 38.2, 39.58, 41.4, 38.88, 37.34, 33.03, 37.85, 36.12, 41.45, 32.42, 33.51, 37.2, 33.63, 38.44, 32.46, 32.78, 28.08, 33.8, 30.87, 26.86, 40.19, 38.51, 39.11, 43.12, 39.79, 38.92, 40.86, 42.29, 33.2, 34.45, 38.18, 43.15, 37.24, 34.5, 45.71, 29.78, 27.93, 30.76, 35.22, 36.01, 29.84, 30.51, 28.5, 32.35, 34.28, 32.74, 33.45, 33.71, 30.4, 29.56, 27.56, 28.85, 29.74, 30.78, 28.53, 31.74, 32.92, 35.62, 38.09, 36.31, 37.81, 35.4, 36.2, 35.11, 30.0, 26.39, 27.87, 28.99, 25.41, 25.14, 29.98, 25.54, 25.21, 32.73, 25.01, 24.54, 34.88, 29.67, 30.69, 36.28, 34.07, 28.25, 37.54, 39.53, 31.48, 29.69, 32.49, 35.22, 34.09, 35.22, 33.79, 37.96, 37.03, 37.66, 40.0, 32.44, 35.92, 31.86, 35.2, 35.89, 35.39, 40.53, 40.14, 34.91, 38.42, 36.59, 30.88, 34.0, 32.64, 30.87, 35.15, 31.94, 35.39, 37.73, 37.77, 32.05, 38.36, 42.61, 43.19, 38.3, 37.46, 31.07, 32.51, 33.02, 38.61, 28.72, 30.44, 30.26, 27.53, 34.54, 26.54, 27.39, 21.2, 33.9, 31.71, 34.49, 35.72, 27.98, 26.02, 29.0, 27.06, 26.39, 24.03, 33.17, 27.43, 31.39, 28.41, 30.16, 29.92, 30.02, 29.46, 27.31, 28.38, 29.64, 30.5, 40.23, 39.69, 35.81, 34.7, 38.75, 30.32, 35.07, 29.37, 33.09, 31.39, 31.19, 31.76, 33.84, 30.49, 34.47, 29.24, 31.72, 38.11, 35.69, 37.13, 34.04, 33.82, 32.46, 30.58, 29.93, 34.49, 38.16, 32.56, 32.54, 32.31, 32.6, 29.51, 31.26, 32.16, 31.26, 33.01, 21.27, 23.67, 25.79, 29.67, 27.15, 22.14, 25.69, 23.59, 27.62, 24.96, 22.79, 22.12, 22.21, 22.79, 26.82, 25.29, 32.84, 26.07, 25.56, 26.66, 27.64, 26.95, 32.4, 27.28, 27.28, 29.56, 31.61, 37.24, 33.4, 36.56, 37.67, 33.07, 34.88, 39.48, 37.77, 41.83, 40.1, 39.59, 40.66, 31.24, 40.21, 39.14, 36.4, 38.04, 40.48, 36.24, 35.22, 37.81, 25.1, 26.16, 29.65, 25.89, 28.43, 27.34, 28.71, 30.68, 27.69, 33.25, 31.54, 28.22, 32.02, 38.06, 37.31, 33.48, 38.79, 42.01, 38.08, 34.63, 28.4, 32.64, 33.01, 38.7, 33.66, 34.69, 22.25, 27.36, 31.42, 31.74, 30.62, 29.6, 28.29, 37.17, 34.45, 37.54, 39.44, 42.79, 37.86, 37.46, 36.98, 41.96, 44.3, 39.97, 42.35, 37.32, 36.4, 35.29, 35.55, 33.93, 34.74, 36.2, 32.68, 30.0, 30.44, 31.34, 29.48, 33.72, 28.94, 34.8, 21.92, 33.07, 31.74, 29.56, 37.04, 34.65, 33.19, 34.38, 36.17, 49.94, 38.19, 28.88, 28.01, 29.1, 32.45, 25.68, 31.51, 22.32, 20.79, 33.29, 49.8, 48.35, 46.11], \"y0\": \" \", \"yaxis\": \"y\"}],                        {\"boxmode\": \"group\", \"legend\": {\"tracegroupgap\": 0}, \"template\": {\"data\": {\"bar\": [{\"error_x\": {\"color\": \"#2a3f5f\"}, \"error_y\": {\"color\": \"#2a3f5f\"}, \"marker\": {\"line\": {\"color\": \"#E5ECF6\", \"width\": 0.5}}, \"type\": \"bar\"}], \"barpolar\": [{\"marker\": {\"line\": {\"color\": \"#E5ECF6\", \"width\": 0.5}}, \"type\": \"barpolar\"}], \"carpet\": [{\"aaxis\": {\"endlinecolor\": \"#2a3f5f\", \"gridcolor\": \"white\", \"linecolor\": \"white\", \"minorgridcolor\": \"white\", \"startlinecolor\": \"#2a3f5f\"}, \"baxis\": {\"endlinecolor\": \"#2a3f5f\", \"gridcolor\": \"white\", \"linecolor\": \"white\", \"minorgridcolor\": \"white\", \"startlinecolor\": \"#2a3f5f\"}, \"type\": \"carpet\"}], \"choropleth\": [{\"colorbar\": {\"outlinewidth\": 0, \"ticks\": \"\"}, \"type\": \"choropleth\"}], \"contour\": [{\"colorbar\": {\"outlinewidth\": 0, \"ticks\": \"\"}, \"colorscale\": [[0.0, \"#0d0887\"], [0.1111111111111111, \"#46039f\"], [0.2222222222222222, \"#7201a8\"], [0.3333333333333333, \"#9c179e\"], [0.4444444444444444, \"#bd3786\"], [0.5555555555555556, \"#d8576b\"], [0.6666666666666666, \"#ed7953\"], [0.7777777777777778, \"#fb9f3a\"], [0.8888888888888888, \"#fdca26\"], [1.0, \"#f0f921\"]], \"type\": \"contour\"}], \"contourcarpet\": [{\"colorbar\": {\"outlinewidth\": 0, \"ticks\": \"\"}, \"type\": \"contourcarpet\"}], \"heatmap\": [{\"colorbar\": {\"outlinewidth\": 0, \"ticks\": \"\"}, \"colorscale\": [[0.0, \"#0d0887\"], [0.1111111111111111, \"#46039f\"], [0.2222222222222222, \"#7201a8\"], [0.3333333333333333, \"#9c179e\"], [0.4444444444444444, \"#bd3786\"], [0.5555555555555556, \"#d8576b\"], [0.6666666666666666, \"#ed7953\"], [0.7777777777777778, \"#fb9f3a\"], [0.8888888888888888, \"#fdca26\"], [1.0, \"#f0f921\"]], \"type\": \"heatmap\"}], \"heatmapgl\": [{\"colorbar\": {\"outlinewidth\": 0, \"ticks\": \"\"}, \"colorscale\": [[0.0, \"#0d0887\"], [0.1111111111111111, \"#46039f\"], [0.2222222222222222, \"#7201a8\"], [0.3333333333333333, \"#9c179e\"], [0.4444444444444444, \"#bd3786\"], [0.5555555555555556, \"#d8576b\"], [0.6666666666666666, \"#ed7953\"], [0.7777777777777778, \"#fb9f3a\"], [0.8888888888888888, \"#fdca26\"], [1.0, \"#f0f921\"]], \"type\": \"heatmapgl\"}], \"histogram\": [{\"marker\": {\"colorbar\": {\"outlinewidth\": 0, \"ticks\": \"\"}}, \"type\": \"histogram\"}], \"histogram2d\": [{\"colorbar\": {\"outlinewidth\": 0, \"ticks\": \"\"}, \"colorscale\": [[0.0, \"#0d0887\"], [0.1111111111111111, \"#46039f\"], [0.2222222222222222, \"#7201a8\"], [0.3333333333333333, \"#9c179e\"], [0.4444444444444444, \"#bd3786\"], [0.5555555555555556, \"#d8576b\"], [0.6666666666666666, \"#ed7953\"], [0.7777777777777778, \"#fb9f3a\"], [0.8888888888888888, \"#fdca26\"], [1.0, \"#f0f921\"]], \"type\": \"histogram2d\"}], \"histogram2dcontour\": [{\"colorbar\": {\"outlinewidth\": 0, \"ticks\": \"\"}, \"colorscale\": [[0.0, \"#0d0887\"], [0.1111111111111111, \"#46039f\"], [0.2222222222222222, \"#7201a8\"], [0.3333333333333333, \"#9c179e\"], [0.4444444444444444, \"#bd3786\"], [0.5555555555555556, \"#d8576b\"], [0.6666666666666666, \"#ed7953\"], [0.7777777777777778, \"#fb9f3a\"], [0.8888888888888888, \"#fdca26\"], [1.0, \"#f0f921\"]], \"type\": \"histogram2dcontour\"}], \"mesh3d\": [{\"colorbar\": {\"outlinewidth\": 0, \"ticks\": \"\"}, \"type\": \"mesh3d\"}], \"parcoords\": [{\"line\": {\"colorbar\": {\"outlinewidth\": 0, \"ticks\": \"\"}}, \"type\": \"parcoords\"}], \"pie\": [{\"automargin\": true, \"type\": \"pie\"}], \"scatter\": [{\"marker\": {\"colorbar\": {\"outlinewidth\": 0, \"ticks\": \"\"}}, \"type\": \"scatter\"}], \"scatter3d\": [{\"line\": {\"colorbar\": {\"outlinewidth\": 0, \"ticks\": \"\"}}, \"marker\": {\"colorbar\": {\"outlinewidth\": 0, \"ticks\": \"\"}}, \"type\": \"scatter3d\"}], \"scattercarpet\": [{\"marker\": {\"colorbar\": {\"outlinewidth\": 0, \"ticks\": \"\"}}, \"type\": \"scattercarpet\"}], \"scattergeo\": [{\"marker\": {\"colorbar\": {\"outlinewidth\": 0, \"ticks\": \"\"}}, \"type\": \"scattergeo\"}], \"scattergl\": [{\"marker\": {\"colorbar\": {\"outlinewidth\": 0, \"ticks\": \"\"}}, \"type\": \"scattergl\"}], \"scattermapbox\": [{\"marker\": {\"colorbar\": {\"outlinewidth\": 0, \"ticks\": \"\"}}, \"type\": \"scattermapbox\"}], \"scatterpolar\": [{\"marker\": {\"colorbar\": {\"outlinewidth\": 0, \"ticks\": \"\"}}, \"type\": \"scatterpolar\"}], \"scatterpolargl\": [{\"marker\": {\"colorbar\": {\"outlinewidth\": 0, \"ticks\": \"\"}}, \"type\": \"scatterpolargl\"}], \"scatterternary\": [{\"marker\": {\"colorbar\": {\"outlinewidth\": 0, \"ticks\": \"\"}}, \"type\": \"scatterternary\"}], \"surface\": [{\"colorbar\": {\"outlinewidth\": 0, \"ticks\": \"\"}, \"colorscale\": [[0.0, \"#0d0887\"], [0.1111111111111111, \"#46039f\"], [0.2222222222222222, \"#7201a8\"], [0.3333333333333333, \"#9c179e\"], [0.4444444444444444, \"#bd3786\"], [0.5555555555555556, \"#d8576b\"], [0.6666666666666666, \"#ed7953\"], [0.7777777777777778, \"#fb9f3a\"], [0.8888888888888888, \"#fdca26\"], [1.0, \"#f0f921\"]], \"type\": \"surface\"}], \"table\": [{\"cells\": {\"fill\": {\"color\": \"#EBF0F8\"}, \"line\": {\"color\": \"white\"}}, \"header\": {\"fill\": {\"color\": \"#C8D4E3\"}, \"line\": {\"color\": \"white\"}}, \"type\": \"table\"}]}, \"layout\": {\"annotationdefaults\": {\"arrowcolor\": \"#2a3f5f\", \"arrowhead\": 0, \"arrowwidth\": 1}, \"autotypenumbers\": \"strict\", \"coloraxis\": {\"colorbar\": {\"outlinewidth\": 0, \"ticks\": \"\"}}, \"colorscale\": {\"diverging\": [[0, \"#8e0152\"], [0.1, \"#c51b7d\"], [0.2, \"#de77ae\"], [0.3, \"#f1b6da\"], [0.4, \"#fde0ef\"], [0.5, \"#f7f7f7\"], [0.6, \"#e6f5d0\"], [0.7, \"#b8e186\"], [0.8, \"#7fbc41\"], [0.9, \"#4d9221\"], [1, \"#276419\"]], \"sequential\": [[0.0, \"#0d0887\"], [0.1111111111111111, \"#46039f\"], [0.2222222222222222, \"#7201a8\"], [0.3333333333333333, \"#9c179e\"], [0.4444444444444444, \"#bd3786\"], [0.5555555555555556, \"#d8576b\"], [0.6666666666666666, \"#ed7953\"], [0.7777777777777778, \"#fb9f3a\"], [0.8888888888888888, \"#fdca26\"], [1.0, \"#f0f921\"]], \"sequentialminus\": [[0.0, \"#0d0887\"], [0.1111111111111111, \"#46039f\"], [0.2222222222222222, \"#7201a8\"], [0.3333333333333333, \"#9c179e\"], [0.4444444444444444, \"#bd3786\"], [0.5555555555555556, \"#d8576b\"], [0.6666666666666666, \"#ed7953\"], [0.7777777777777778, \"#fb9f3a\"], [0.8888888888888888, \"#fdca26\"], [1.0, \"#f0f921\"]]}, \"colorway\": [\"#636efa\", \"#EF553B\", \"#00cc96\", \"#ab63fa\", \"#FFA15A\", \"#19d3f3\", \"#FF6692\", \"#B6E880\", \"#FF97FF\", \"#FECB52\"], \"font\": {\"color\": \"#2a3f5f\"}, \"geo\": {\"bgcolor\": \"white\", \"lakecolor\": \"white\", \"landcolor\": \"#E5ECF6\", \"showlakes\": true, \"showland\": true, \"subunitcolor\": \"white\"}, \"hoverlabel\": {\"align\": \"left\"}, \"hovermode\": \"closest\", \"mapbox\": {\"style\": \"light\"}, \"paper_bgcolor\": \"white\", \"plot_bgcolor\": \"#E5ECF6\", \"polar\": {\"angularaxis\": {\"gridcolor\": \"white\", \"linecolor\": \"white\", \"ticks\": \"\"}, \"bgcolor\": \"#E5ECF6\", \"radialaxis\": {\"gridcolor\": \"white\", \"linecolor\": \"white\", \"ticks\": \"\"}}, \"scene\": {\"xaxis\": {\"backgroundcolor\": \"#E5ECF6\", \"gridcolor\": \"white\", \"gridwidth\": 2, \"linecolor\": \"white\", \"showbackground\": true, \"ticks\": \"\", \"zerolinecolor\": \"white\"}, \"yaxis\": {\"backgroundcolor\": \"#E5ECF6\", \"gridcolor\": \"white\", \"gridwidth\": 2, \"linecolor\": \"white\", \"showbackground\": true, \"ticks\": \"\", \"zerolinecolor\": \"white\"}, \"zaxis\": {\"backgroundcolor\": \"#E5ECF6\", \"gridcolor\": \"white\", \"gridwidth\": 2, \"linecolor\": \"white\", \"showbackground\": true, \"ticks\": \"\", \"zerolinecolor\": \"white\"}}, \"shapedefaults\": {\"line\": {\"color\": \"#2a3f5f\"}}, \"ternary\": {\"aaxis\": {\"gridcolor\": \"white\", \"linecolor\": \"white\", \"ticks\": \"\"}, \"baxis\": {\"gridcolor\": \"white\", \"linecolor\": \"white\", \"ticks\": \"\"}, \"bgcolor\": \"#E5ECF6\", \"caxis\": {\"gridcolor\": \"white\", \"linecolor\": \"white\", \"ticks\": \"\"}}, \"title\": {\"x\": 0.05}, \"xaxis\": {\"automargin\": true, \"gridcolor\": \"white\", \"linecolor\": \"white\", \"ticks\": \"\", \"title\": {\"standoff\": 15}, \"zerolinecolor\": \"white\", \"zerolinewidth\": 2}, \"yaxis\": {\"automargin\": true, \"gridcolor\": \"white\", \"linecolor\": \"white\", \"ticks\": \"\", \"title\": {\"standoff\": 15}, \"zerolinecolor\": \"white\", \"zerolinewidth\": 2}}}, \"title\": {\"text\": \"FCK x Rompimento 28 Dias\"}, \"xaxis\": {\"anchor\": \"y\", \"domain\": [0.0, 1.0], \"title\": {\"text\": \"FCK\"}}, \"yaxis\": {\"anchor\": \"x\", \"domain\": [0.0, 1.0], \"title\": {\"text\": \"Rompimento28Dias\"}}},                        {\"responsive\": true}                    ).then(function(){\n",
       "                            \n",
       "var gd = document.getElementById('111bb700-fbcd-4ff7-ba8d-c2bc6ee62b77');\n",
       "var x = new MutationObserver(function (mutations, observer) {{\n",
       "        var display = window.getComputedStyle(gd).display;\n",
       "        if (!display || display === 'none') {{\n",
       "            console.log([gd, 'removed!']);\n",
       "            Plotly.purge(gd);\n",
       "            observer.disconnect();\n",
       "        }}\n",
       "}});\n",
       "\n",
       "// Listen for the removal of the full notebook cells\n",
       "var notebookContainer = gd.closest('#notebook-container');\n",
       "if (notebookContainer) {{\n",
       "    x.observe(notebookContainer, {childList: true});\n",
       "}}\n",
       "\n",
       "// Listen for the clearing of the current output cell\n",
       "var outputEl = gd.closest('.output');\n",
       "if (outputEl) {{\n",
       "    x.observe(outputEl, {childList: true});\n",
       "}}\n",
       "\n",
       "                        })                };                });            </script>        </div>"
      ]
     },
     "metadata": {},
     "output_type": "display_data"
    }
   ],
   "source": [
    "fig = px.box(dados_aglomerante, x=\"FCK\", y=\"Rompimento28Dias\", title='FCK x Rompimento 28 Dias')\n",
    "fig.show()"
   ]
  },
  {
   "cell_type": "code",
   "execution_count": 56,
   "metadata": {},
   "outputs": [
    {
     "data": {
      "application/vnd.plotly.v1+json": {
       "config": {
        "plotlyServerURL": "https://plot.ly"
       },
       "data": [
        {
         "hovertemplate": "Rompimento7Dias=%{x}<br>Rompimento28Dias=%{y}<extra></extra>",
         "legendgroup": "",
         "marker": {
          "color": "#636efa",
          "symbol": "circle"
         },
         "mode": "markers",
         "name": "",
         "orientation": "v",
         "showlegend": false,
         "type": "scatter",
         "x": [
          25.73,
          24.26,
          24.24,
          23.45,
          20.88,
          20.37,
          20.41,
          19.72,
          25.09,
          19.17,
          18.98,
          16.07,
          17.12,
          12.34,
          12.86,
          23.26,
          22.32,
          23.09,
          22.74,
          23.24,
          19.91,
          21.95,
          22.01,
          25.01,
          23.95,
          23.6,
          26.43,
          26.24,
          25.5,
          25.96,
          40.19,
          36.04,
          36.9,
          38.47,
          36.43,
          35.27,
          33.96,
          31.77,
          28.25,
          36.28,
          37.49,
          37.27,
          35.33,
          33.66,
          36.8,
          41.59,
          37.68,
          37.62,
          37.9,
          30.25,
          34.43,
          37.2,
          38.51,
          27.38,
          22.24,
          31.19,
          28.62,
          26.1,
          31.84,
          28.8,
          27.03,
          29.1,
          27.92,
          30.22,
          31.57,
          32.02,
          18.52,
          16.57,
          16.33,
          18.99,
          21.53,
          17.1,
          21.48,
          21.62,
          17.63,
          23.58,
          21.16,
          17.85,
          15.77,
          13.02,
          14.1,
          17.41,
          13.24,
          13.61,
          14.28,
          15.29,
          14.04,
          15.65,
          13.52,
          18.6,
          17.1,
          15.99,
          20.2,
          18.8,
          18.29,
          28.63,
          25.43,
          22.4,
          24.62,
          22.42,
          22.43,
          26.39,
          27.56,
          27.52,
          22.52,
          33.14,
          26.57,
          29.47,
          28.36,
          18.41,
          22.89,
          16.88,
          17.81,
          26.44,
          20.6,
          25.91,
          20.76,
          23.13,
          22.43,
          21.17,
          32.88,
          30.86,
          34.09,
          31.04,
          36.76,
          30.51,
          38.14,
          29.53,
          26.63,
          22.46,
          24.93,
          25.01,
          26.55,
          26.91,
          24.84,
          24.31,
          25.55,
          27.27,
          23.56,
          29.28,
          26.57,
          27.14,
          27.65,
          26.75,
          26.4,
          31.43,
          31.37,
          32.07,
          32.72,
          23.54,
          31.66,
          32.09,
          29.01,
          24.25,
          25.24,
          28.13,
          25.82,
          28.03,
          24.24,
          27.5,
          23.73,
          28.29,
          27.59,
          24.17,
          29.81,
          31.72,
          30.46,
          32.25,
          30.92,
          27.71,
          33.42,
          31.9,
          25.42,
          29.42,
          31.72,
          30.04,
          33.82,
          23.37,
          36.97,
          21.02,
          21.06,
          25.24,
          23.39,
          26.91,
          22.91,
          23.59,
          25.13,
          24.59,
          29.33,
          26.69,
          26.48,
          27.6,
          24.76,
          21.81,
          19.29,
          19.09,
          21.69,
          22.3,
          19.88,
          24.54,
          22.52,
          25.6,
          27,
          27.05,
          29.57,
          27.82,
          28.72,
          30.42,
          20.18,
          20.95,
          24.57,
          24.67,
          23.56,
          21.56,
          23.82,
          19.5,
          19.2,
          23.14,
          16.23,
          16.14,
          25.32,
          22.14,
          23.26,
          26.9,
          25.55,
          19.49,
          29.7,
          30.72,
          26.19,
          25.84,
          28.15,
          30.44,
          26.12,
          31.04,
          30.51,
          33.79,
          35.27,
          32.98,
          32.16,
          22.79,
          26.76,
          24.63,
          28.76,
          30.35,
          28.76,
          30.69,
          31.57,
          26.58,
          27.7,
          29.22,
          25.75,
          27.08,
          25.5,
          25.49,
          28.63,
          28.25,
          28.52,
          33.28,
          35.44,
          23.51,
          31.29,
          35.53,
          34,
          28.87,
          28.59,
          26.38,
          28.04,
          26.62,
          30.68,
          23.16,
          24.59,
          26.15,
          22.82,
          24.56,
          19.01,
          19.66,
          17.71,
          24.11,
          23.1,
          22.72,
          23.81,
          21.64,
          20.97,
          20.78,
          20.79,
          21.49,
          19.53,
          25.26,
          21.28,
          23.41,
          22.86,
          23.96,
          21.64,
          21.92,
          21.95,
          19.11,
          20.06,
          21.56,
          21.74,
          30.17,
          27.24,
          26.01,
          24.43,
          29.05,
          23.82,
          27.43,
          23.13,
          25.42,
          24.66,
          23.24,
          24.89,
          26.47,
          24.31,
          27.53,
          22.8,
          25.09,
          25.33,
          29.14,
          28.62,
          27.23,
          25.13,
          24.11,
          23.36,
          23.49,
          26.47,
          26.85,
          24.81,
          21.63,
          25.49,
          22.11,
          21,
          22,
          22.15,
          21.13,
          22.4,
          17.44,
          19.72,
          19.66,
          22.21,
          21.97,
          18.17,
          20.67,
          19.85,
          22.96,
          19.66,
          18.06,
          19.95,
          19.92,
          20.06,
          22.07,
          21.16,
          28.2,
          20.86,
          23.32,
          22.11,
          23.64,
          24.15,
          23.37,
          22.48,
          22.94,
          22.75,
          23.5,
          26.9,
          22.91,
          24.35,
          27.89,
          25.92,
          22.86,
          30.62,
          28.71,
          32.26,
          29.13,
          29.28,
          28.18,
          24.43,
          27.43,
          31.9,
          31.44,
          31.07,
          31.67,
          29.09,
          29.01,
          30.93,
          19.13,
          20.02,
          22.67,
          18.74,
          22.81,
          22.42,
          20.5,
          23.09,
          21.25,
          27.82,
          26.41,
          22.32,
          21.17,
          26.57,
          30.11,
          24.98,
          31.42,
          34.93,
          33.09,
          24.62,
          19.03,
          23.61,
          22.8,
          30.51,
          24.7,
          28.35,
          16.21,
          19.13,
          24.9,
          24.71,
          25.1,
          25.05,
          22.76,
          28.07,
          25.04,
          32.61,
          32.56,
          34.85,
          29.18,
          29.48,
          29.95,
          33.33,
          35.49,
          31.23,
          33.14,
          33.12,
          30.64,
          27.98,
          27.08,
          26.02,
          25.32,
          25.52,
          28.71,
          26.86,
          26.3,
          24.58,
          22.51,
          25,
          21.14,
          25.46,
          16.87,
          26.72,
          24.7,
          24.35,
          30.72,
          26.72,
          25.78,
          26.57,
          30.21,
          43.57,
          31.15,
          21.88,
          20.98,
          22.35,
          21.92,
          19.67,
          23.19,
          16.61,
          15.63,
          24.53,
          31.15,
          38.23,
          33.15
         ],
         "xaxis": "x",
         "y": [
          35.08,
          33.4,
          31.72,
          31.12,
          28.39,
          29.7,
          27.47,
          27.61,
          31.63,
          26.3,
          27.13,
          22.49,
          24.66,
          16.96,
          20.15,
          30.93,
          31.9,
          31.3,
          30.83,
          31.02,
          30.3,
          30.6,
          30.6,
          33.52,
          32.47,
          32.41,
          32.14,
          33.9,
          32.83,
          35.01,
          51.28,
          43.52,
          42.89,
          49.06,
          44.21,
          45.48,
          44.6,
          38.14,
          33.43,
          46.48,
          46.74,
          46.78,
          42.62,
          46.6,
          46.46,
          52,
          49.79,
          51.63,
          49.51,
          41.84,
          38.95,
          52.97,
          49.15,
          33.26,
          33.77,
          38.85,
          37.04,
          35.9,
          37.06,
          36.23,
          33.84,
          36.62,
          33.86,
          36.65,
          34.59,
          37.24,
          25.32,
          26.27,
          25.46,
          28.11,
          30.02,
          25,
          31.89,
          30.4,
          30.58,
          32.55,
          27.38,
          23.81,
          22.79,
          20.28,
          23.33,
          24.34,
          20.74,
          18.1,
          21.53,
          22.81,
          20.43,
          21.72,
          20.52,
          23.31,
          22.72,
          22.04,
          24.11,
          26.34,
          25.23,
          39.12,
          34.09,
          31.18,
          31.25,
          30.49,
          31.01,
          34.94,
          34.73,
          33.26,
          30.4,
          39.45,
          36.56,
          37.59,
          34.38,
          27.27,
          26.77,
          24.99,
          26.67,
          29.5,
          29.06,
          31.79,
          27.15,
          28.49,
          29.67,
          28.73,
          38.37,
          37.64,
          44.87,
          43.54,
          45.08,
          37.38,
          44.91,
          37.72,
          35.68,
          31.77,
          30.22,
          32.61,
          33.11,
          36.06,
          33.79,
          31.01,
          34.14,
          36.59,
          32.32,
          36.4,
          35.01,
          36.48,
          35.68,
          37.27,
          38.2,
          39.58,
          41.4,
          38.88,
          37.34,
          33.03,
          37.85,
          36.12,
          41.45,
          32.42,
          33.51,
          37.2,
          33.63,
          38.44,
          32.46,
          32.78,
          28.08,
          33.8,
          30.87,
          26.86,
          40.19,
          38.51,
          39.11,
          43.12,
          39.79,
          38.92,
          40.86,
          42.29,
          33.2,
          34.45,
          38.18,
          43.15,
          37.24,
          34.5,
          45.71,
          29.78,
          27.93,
          30.76,
          35.22,
          36.01,
          29.84,
          30.51,
          28.5,
          32.35,
          34.28,
          32.74,
          33.45,
          33.71,
          30.4,
          29.56,
          27.56,
          28.85,
          29.74,
          30.78,
          28.53,
          31.74,
          32.92,
          35.62,
          38.09,
          36.31,
          37.81,
          35.4,
          36.2,
          35.11,
          30,
          26.39,
          27.87,
          28.99,
          25.41,
          25.14,
          29.98,
          25.54,
          25.21,
          32.73,
          25.01,
          24.54,
          34.88,
          29.67,
          30.69,
          36.28,
          34.07,
          28.25,
          37.54,
          39.53,
          31.48,
          29.69,
          32.49,
          35.22,
          34.09,
          35.22,
          33.79,
          37.96,
          37.03,
          37.66,
          40,
          32.44,
          35.92,
          31.86,
          35.2,
          35.89,
          35.39,
          40.53,
          40.14,
          34.91,
          38.42,
          36.59,
          30.88,
          34,
          32.64,
          30.87,
          35.15,
          31.94,
          35.39,
          37.73,
          37.77,
          32.05,
          38.36,
          42.61,
          43.19,
          38.3,
          37.46,
          31.07,
          32.51,
          33.02,
          38.61,
          28.72,
          30.44,
          30.26,
          27.53,
          34.54,
          26.54,
          27.39,
          21.2,
          33.9,
          31.71,
          34.49,
          35.72,
          27.98,
          26.02,
          29,
          27.06,
          26.39,
          24.03,
          33.17,
          27.43,
          31.39,
          28.41,
          30.16,
          29.92,
          30.02,
          29.46,
          27.31,
          28.38,
          29.64,
          30.5,
          40.23,
          39.69,
          35.81,
          34.7,
          38.75,
          30.32,
          35.07,
          29.37,
          33.09,
          31.39,
          31.19,
          31.76,
          33.84,
          30.49,
          34.47,
          29.24,
          31.72,
          38.11,
          35.69,
          37.13,
          34.04,
          33.82,
          32.46,
          30.58,
          29.93,
          34.49,
          38.16,
          32.56,
          32.54,
          32.31,
          32.6,
          29.51,
          31.26,
          32.16,
          31.26,
          33.01,
          21.27,
          23.67,
          25.79,
          29.67,
          27.15,
          22.14,
          25.69,
          23.59,
          27.62,
          24.96,
          22.79,
          22.12,
          22.21,
          22.79,
          26.82,
          25.29,
          32.84,
          26.07,
          25.56,
          26.66,
          27.64,
          26.95,
          32.4,
          27.28,
          27.28,
          29.56,
          31.61,
          37.24,
          33.4,
          36.56,
          37.67,
          33.07,
          34.88,
          39.48,
          37.77,
          41.83,
          40.1,
          39.59,
          40.66,
          31.24,
          40.21,
          39.14,
          36.4,
          38.04,
          40.48,
          36.24,
          35.22,
          37.81,
          25.1,
          26.16,
          29.65,
          25.89,
          28.43,
          27.34,
          28.71,
          30.68,
          27.69,
          33.25,
          31.54,
          28.22,
          32.02,
          38.06,
          37.31,
          33.48,
          38.79,
          42.01,
          38.08,
          34.63,
          28.4,
          32.64,
          33.01,
          38.7,
          33.66,
          34.69,
          22.25,
          27.36,
          31.42,
          31.74,
          30.62,
          29.6,
          28.29,
          37.17,
          34.45,
          37.54,
          39.44,
          42.79,
          37.86,
          37.46,
          36.98,
          41.96,
          44.3,
          39.97,
          42.35,
          37.32,
          36.4,
          35.29,
          35.55,
          33.93,
          34.74,
          36.2,
          32.68,
          30,
          30.44,
          31.34,
          29.48,
          33.72,
          28.94,
          34.8,
          21.92,
          33.07,
          31.74,
          29.56,
          37.04,
          34.65,
          33.19,
          34.38,
          36.17,
          49.94,
          38.19,
          28.88,
          28.01,
          29.1,
          32.45,
          25.68,
          31.51,
          22.32,
          20.79,
          33.29,
          49.8,
          48.35,
          46.11
         ],
         "yaxis": "y"
        }
       ],
       "layout": {
        "legend": {
         "tracegroupgap": 0
        },
        "template": {
         "data": {
          "bar": [
           {
            "error_x": {
             "color": "#2a3f5f"
            },
            "error_y": {
             "color": "#2a3f5f"
            },
            "marker": {
             "line": {
              "color": "#E5ECF6",
              "width": 0.5
             }
            },
            "type": "bar"
           }
          ],
          "barpolar": [
           {
            "marker": {
             "line": {
              "color": "#E5ECF6",
              "width": 0.5
             }
            },
            "type": "barpolar"
           }
          ],
          "carpet": [
           {
            "aaxis": {
             "endlinecolor": "#2a3f5f",
             "gridcolor": "white",
             "linecolor": "white",
             "minorgridcolor": "white",
             "startlinecolor": "#2a3f5f"
            },
            "baxis": {
             "endlinecolor": "#2a3f5f",
             "gridcolor": "white",
             "linecolor": "white",
             "minorgridcolor": "white",
             "startlinecolor": "#2a3f5f"
            },
            "type": "carpet"
           }
          ],
          "choropleth": [
           {
            "colorbar": {
             "outlinewidth": 0,
             "ticks": ""
            },
            "type": "choropleth"
           }
          ],
          "contour": [
           {
            "colorbar": {
             "outlinewidth": 0,
             "ticks": ""
            },
            "colorscale": [
             [
              0,
              "#0d0887"
             ],
             [
              0.1111111111111111,
              "#46039f"
             ],
             [
              0.2222222222222222,
              "#7201a8"
             ],
             [
              0.3333333333333333,
              "#9c179e"
             ],
             [
              0.4444444444444444,
              "#bd3786"
             ],
             [
              0.5555555555555556,
              "#d8576b"
             ],
             [
              0.6666666666666666,
              "#ed7953"
             ],
             [
              0.7777777777777778,
              "#fb9f3a"
             ],
             [
              0.8888888888888888,
              "#fdca26"
             ],
             [
              1,
              "#f0f921"
             ]
            ],
            "type": "contour"
           }
          ],
          "contourcarpet": [
           {
            "colorbar": {
             "outlinewidth": 0,
             "ticks": ""
            },
            "type": "contourcarpet"
           }
          ],
          "heatmap": [
           {
            "colorbar": {
             "outlinewidth": 0,
             "ticks": ""
            },
            "colorscale": [
             [
              0,
              "#0d0887"
             ],
             [
              0.1111111111111111,
              "#46039f"
             ],
             [
              0.2222222222222222,
              "#7201a8"
             ],
             [
              0.3333333333333333,
              "#9c179e"
             ],
             [
              0.4444444444444444,
              "#bd3786"
             ],
             [
              0.5555555555555556,
              "#d8576b"
             ],
             [
              0.6666666666666666,
              "#ed7953"
             ],
             [
              0.7777777777777778,
              "#fb9f3a"
             ],
             [
              0.8888888888888888,
              "#fdca26"
             ],
             [
              1,
              "#f0f921"
             ]
            ],
            "type": "heatmap"
           }
          ],
          "heatmapgl": [
           {
            "colorbar": {
             "outlinewidth": 0,
             "ticks": ""
            },
            "colorscale": [
             [
              0,
              "#0d0887"
             ],
             [
              0.1111111111111111,
              "#46039f"
             ],
             [
              0.2222222222222222,
              "#7201a8"
             ],
             [
              0.3333333333333333,
              "#9c179e"
             ],
             [
              0.4444444444444444,
              "#bd3786"
             ],
             [
              0.5555555555555556,
              "#d8576b"
             ],
             [
              0.6666666666666666,
              "#ed7953"
             ],
             [
              0.7777777777777778,
              "#fb9f3a"
             ],
             [
              0.8888888888888888,
              "#fdca26"
             ],
             [
              1,
              "#f0f921"
             ]
            ],
            "type": "heatmapgl"
           }
          ],
          "histogram": [
           {
            "marker": {
             "colorbar": {
              "outlinewidth": 0,
              "ticks": ""
             }
            },
            "type": "histogram"
           }
          ],
          "histogram2d": [
           {
            "colorbar": {
             "outlinewidth": 0,
             "ticks": ""
            },
            "colorscale": [
             [
              0,
              "#0d0887"
             ],
             [
              0.1111111111111111,
              "#46039f"
             ],
             [
              0.2222222222222222,
              "#7201a8"
             ],
             [
              0.3333333333333333,
              "#9c179e"
             ],
             [
              0.4444444444444444,
              "#bd3786"
             ],
             [
              0.5555555555555556,
              "#d8576b"
             ],
             [
              0.6666666666666666,
              "#ed7953"
             ],
             [
              0.7777777777777778,
              "#fb9f3a"
             ],
             [
              0.8888888888888888,
              "#fdca26"
             ],
             [
              1,
              "#f0f921"
             ]
            ],
            "type": "histogram2d"
           }
          ],
          "histogram2dcontour": [
           {
            "colorbar": {
             "outlinewidth": 0,
             "ticks": ""
            },
            "colorscale": [
             [
              0,
              "#0d0887"
             ],
             [
              0.1111111111111111,
              "#46039f"
             ],
             [
              0.2222222222222222,
              "#7201a8"
             ],
             [
              0.3333333333333333,
              "#9c179e"
             ],
             [
              0.4444444444444444,
              "#bd3786"
             ],
             [
              0.5555555555555556,
              "#d8576b"
             ],
             [
              0.6666666666666666,
              "#ed7953"
             ],
             [
              0.7777777777777778,
              "#fb9f3a"
             ],
             [
              0.8888888888888888,
              "#fdca26"
             ],
             [
              1,
              "#f0f921"
             ]
            ],
            "type": "histogram2dcontour"
           }
          ],
          "mesh3d": [
           {
            "colorbar": {
             "outlinewidth": 0,
             "ticks": ""
            },
            "type": "mesh3d"
           }
          ],
          "parcoords": [
           {
            "line": {
             "colorbar": {
              "outlinewidth": 0,
              "ticks": ""
             }
            },
            "type": "parcoords"
           }
          ],
          "pie": [
           {
            "automargin": true,
            "type": "pie"
           }
          ],
          "scatter": [
           {
            "marker": {
             "colorbar": {
              "outlinewidth": 0,
              "ticks": ""
             }
            },
            "type": "scatter"
           }
          ],
          "scatter3d": [
           {
            "line": {
             "colorbar": {
              "outlinewidth": 0,
              "ticks": ""
             }
            },
            "marker": {
             "colorbar": {
              "outlinewidth": 0,
              "ticks": ""
             }
            },
            "type": "scatter3d"
           }
          ],
          "scattercarpet": [
           {
            "marker": {
             "colorbar": {
              "outlinewidth": 0,
              "ticks": ""
             }
            },
            "type": "scattercarpet"
           }
          ],
          "scattergeo": [
           {
            "marker": {
             "colorbar": {
              "outlinewidth": 0,
              "ticks": ""
             }
            },
            "type": "scattergeo"
           }
          ],
          "scattergl": [
           {
            "marker": {
             "colorbar": {
              "outlinewidth": 0,
              "ticks": ""
             }
            },
            "type": "scattergl"
           }
          ],
          "scattermapbox": [
           {
            "marker": {
             "colorbar": {
              "outlinewidth": 0,
              "ticks": ""
             }
            },
            "type": "scattermapbox"
           }
          ],
          "scatterpolar": [
           {
            "marker": {
             "colorbar": {
              "outlinewidth": 0,
              "ticks": ""
             }
            },
            "type": "scatterpolar"
           }
          ],
          "scatterpolargl": [
           {
            "marker": {
             "colorbar": {
              "outlinewidth": 0,
              "ticks": ""
             }
            },
            "type": "scatterpolargl"
           }
          ],
          "scatterternary": [
           {
            "marker": {
             "colorbar": {
              "outlinewidth": 0,
              "ticks": ""
             }
            },
            "type": "scatterternary"
           }
          ],
          "surface": [
           {
            "colorbar": {
             "outlinewidth": 0,
             "ticks": ""
            },
            "colorscale": [
             [
              0,
              "#0d0887"
             ],
             [
              0.1111111111111111,
              "#46039f"
             ],
             [
              0.2222222222222222,
              "#7201a8"
             ],
             [
              0.3333333333333333,
              "#9c179e"
             ],
             [
              0.4444444444444444,
              "#bd3786"
             ],
             [
              0.5555555555555556,
              "#d8576b"
             ],
             [
              0.6666666666666666,
              "#ed7953"
             ],
             [
              0.7777777777777778,
              "#fb9f3a"
             ],
             [
              0.8888888888888888,
              "#fdca26"
             ],
             [
              1,
              "#f0f921"
             ]
            ],
            "type": "surface"
           }
          ],
          "table": [
           {
            "cells": {
             "fill": {
              "color": "#EBF0F8"
             },
             "line": {
              "color": "white"
             }
            },
            "header": {
             "fill": {
              "color": "#C8D4E3"
             },
             "line": {
              "color": "white"
             }
            },
            "type": "table"
           }
          ]
         },
         "layout": {
          "annotationdefaults": {
           "arrowcolor": "#2a3f5f",
           "arrowhead": 0,
           "arrowwidth": 1
          },
          "autotypenumbers": "strict",
          "coloraxis": {
           "colorbar": {
            "outlinewidth": 0,
            "ticks": ""
           }
          },
          "colorscale": {
           "diverging": [
            [
             0,
             "#8e0152"
            ],
            [
             0.1,
             "#c51b7d"
            ],
            [
             0.2,
             "#de77ae"
            ],
            [
             0.3,
             "#f1b6da"
            ],
            [
             0.4,
             "#fde0ef"
            ],
            [
             0.5,
             "#f7f7f7"
            ],
            [
             0.6,
             "#e6f5d0"
            ],
            [
             0.7,
             "#b8e186"
            ],
            [
             0.8,
             "#7fbc41"
            ],
            [
             0.9,
             "#4d9221"
            ],
            [
             1,
             "#276419"
            ]
           ],
           "sequential": [
            [
             0,
             "#0d0887"
            ],
            [
             0.1111111111111111,
             "#46039f"
            ],
            [
             0.2222222222222222,
             "#7201a8"
            ],
            [
             0.3333333333333333,
             "#9c179e"
            ],
            [
             0.4444444444444444,
             "#bd3786"
            ],
            [
             0.5555555555555556,
             "#d8576b"
            ],
            [
             0.6666666666666666,
             "#ed7953"
            ],
            [
             0.7777777777777778,
             "#fb9f3a"
            ],
            [
             0.8888888888888888,
             "#fdca26"
            ],
            [
             1,
             "#f0f921"
            ]
           ],
           "sequentialminus": [
            [
             0,
             "#0d0887"
            ],
            [
             0.1111111111111111,
             "#46039f"
            ],
            [
             0.2222222222222222,
             "#7201a8"
            ],
            [
             0.3333333333333333,
             "#9c179e"
            ],
            [
             0.4444444444444444,
             "#bd3786"
            ],
            [
             0.5555555555555556,
             "#d8576b"
            ],
            [
             0.6666666666666666,
             "#ed7953"
            ],
            [
             0.7777777777777778,
             "#fb9f3a"
            ],
            [
             0.8888888888888888,
             "#fdca26"
            ],
            [
             1,
             "#f0f921"
            ]
           ]
          },
          "colorway": [
           "#636efa",
           "#EF553B",
           "#00cc96",
           "#ab63fa",
           "#FFA15A",
           "#19d3f3",
           "#FF6692",
           "#B6E880",
           "#FF97FF",
           "#FECB52"
          ],
          "font": {
           "color": "#2a3f5f"
          },
          "geo": {
           "bgcolor": "white",
           "lakecolor": "white",
           "landcolor": "#E5ECF6",
           "showlakes": true,
           "showland": true,
           "subunitcolor": "white"
          },
          "hoverlabel": {
           "align": "left"
          },
          "hovermode": "closest",
          "mapbox": {
           "style": "light"
          },
          "paper_bgcolor": "white",
          "plot_bgcolor": "#E5ECF6",
          "polar": {
           "angularaxis": {
            "gridcolor": "white",
            "linecolor": "white",
            "ticks": ""
           },
           "bgcolor": "#E5ECF6",
           "radialaxis": {
            "gridcolor": "white",
            "linecolor": "white",
            "ticks": ""
           }
          },
          "scene": {
           "xaxis": {
            "backgroundcolor": "#E5ECF6",
            "gridcolor": "white",
            "gridwidth": 2,
            "linecolor": "white",
            "showbackground": true,
            "ticks": "",
            "zerolinecolor": "white"
           },
           "yaxis": {
            "backgroundcolor": "#E5ECF6",
            "gridcolor": "white",
            "gridwidth": 2,
            "linecolor": "white",
            "showbackground": true,
            "ticks": "",
            "zerolinecolor": "white"
           },
           "zaxis": {
            "backgroundcolor": "#E5ECF6",
            "gridcolor": "white",
            "gridwidth": 2,
            "linecolor": "white",
            "showbackground": true,
            "ticks": "",
            "zerolinecolor": "white"
           }
          },
          "shapedefaults": {
           "line": {
            "color": "#2a3f5f"
           }
          },
          "ternary": {
           "aaxis": {
            "gridcolor": "white",
            "linecolor": "white",
            "ticks": ""
           },
           "baxis": {
            "gridcolor": "white",
            "linecolor": "white",
            "ticks": ""
           },
           "bgcolor": "#E5ECF6",
           "caxis": {
            "gridcolor": "white",
            "linecolor": "white",
            "ticks": ""
           }
          },
          "title": {
           "x": 0.05
          },
          "xaxis": {
           "automargin": true,
           "gridcolor": "white",
           "linecolor": "white",
           "ticks": "",
           "title": {
            "standoff": 15
           },
           "zerolinecolor": "white",
           "zerolinewidth": 2
          },
          "yaxis": {
           "automargin": true,
           "gridcolor": "white",
           "linecolor": "white",
           "ticks": "",
           "title": {
            "standoff": 15
           },
           "zerolinecolor": "white",
           "zerolinewidth": 2
          }
         }
        },
        "title": {
         "text": "Rompimento7Dias x Rompimento 28 Dias"
        },
        "xaxis": {
         "anchor": "y",
         "domain": [
          0,
          1
         ],
         "title": {
          "text": "Rompimento7Dias"
         }
        },
        "yaxis": {
         "anchor": "x",
         "domain": [
          0,
          1
         ],
         "title": {
          "text": "Rompimento28Dias"
         }
        }
       }
      },
      "text/html": [
       "<div>                            <div id=\"d29a1ee8-706c-40e4-9615-48caaca48a31\" class=\"plotly-graph-div\" style=\"height:525px; width:100%;\"></div>            <script type=\"text/javascript\">                require([\"plotly\"], function(Plotly) {                    window.PLOTLYENV=window.PLOTLYENV || {};                                    if (document.getElementById(\"d29a1ee8-706c-40e4-9615-48caaca48a31\")) {                    Plotly.newPlot(                        \"d29a1ee8-706c-40e4-9615-48caaca48a31\",                        [{\"hovertemplate\": \"Rompimento7Dias=%{x}<br>Rompimento28Dias=%{y}<extra></extra>\", \"legendgroup\": \"\", \"marker\": {\"color\": \"#636efa\", \"symbol\": \"circle\"}, \"mode\": \"markers\", \"name\": \"\", \"orientation\": \"v\", \"showlegend\": false, \"type\": \"scatter\", \"x\": [25.73, 24.26, 24.24, 23.45, 20.88, 20.37, 20.41, 19.72, 25.09, 19.17, 18.98, 16.07, 17.12, 12.34, 12.86, 23.26, 22.32, 23.09, 22.74, 23.24, 19.91, 21.95, 22.01, 25.01, 23.95, 23.6, 26.43, 26.24, 25.5, 25.96, 40.19, 36.04, 36.9, 38.47, 36.43, 35.27, 33.96, 31.77, 28.25, 36.28, 37.49, 37.27, 35.33, 33.66, 36.8, 41.59, 37.68, 37.62, 37.9, 30.25, 34.43, 37.2, 38.51, 27.38, 22.24, 31.19, 28.62, 26.1, 31.84, 28.8, 27.03, 29.1, 27.92, 30.22, 31.57, 32.02, 18.52, 16.57, 16.33, 18.99, 21.53, 17.1, 21.48, 21.62, 17.63, 23.58, 21.16, 17.85, 15.77, 13.02, 14.1, 17.41, 13.24, 13.61, 14.28, 15.29, 14.04, 15.65, 13.52, 18.6, 17.1, 15.99, 20.2, 18.8, 18.29, 28.63, 25.43, 22.4, 24.62, 22.42, 22.43, 26.39, 27.56, 27.52, 22.52, 33.14, 26.57, 29.47, 28.36, 18.41, 22.89, 16.88, 17.81, 26.44, 20.6, 25.91, 20.76, 23.13, 22.43, 21.17, 32.88, 30.86, 34.09, 31.04, 36.76, 30.51, 38.14, 29.53, 26.63, 22.46, 24.93, 25.01, 26.55, 26.91, 24.84, 24.31, 25.55, 27.27, 23.56, 29.28, 26.57, 27.14, 27.65, 26.75, 26.4, 31.43, 31.37, 32.07, 32.72, 23.54, 31.66, 32.09, 29.01, 24.25, 25.24, 28.13, 25.82, 28.03, 24.24, 27.5, 23.73, 28.29, 27.59, 24.17, 29.81, 31.72, 30.46, 32.25, 30.92, 27.71, 33.42, 31.9, 25.42, 29.42, 31.72, 30.04, 33.82, 23.37, 36.97, 21.02, 21.06, 25.24, 23.39, 26.91, 22.91, 23.59, 25.13, 24.59, 29.33, 26.69, 26.48, 27.6, 24.76, 21.81, 19.29, 19.09, 21.69, 22.3, 19.88, 24.54, 22.52, 25.6, 27.0, 27.05, 29.57, 27.82, 28.72, 30.42, 20.18, 20.95, 24.57, 24.67, 23.56, 21.56, 23.82, 19.5, 19.2, 23.14, 16.23, 16.14, 25.32, 22.14, 23.26, 26.9, 25.55, 19.49, 29.7, 30.72, 26.19, 25.84, 28.15, 30.44, 26.12, 31.04, 30.51, 33.79, 35.27, 32.98, 32.16, 22.79, 26.76, 24.63, 28.76, 30.35, 28.76, 30.69, 31.57, 26.58, 27.7, 29.22, 25.75, 27.08, 25.5, 25.49, 28.63, 28.25, 28.52, 33.28, 35.44, 23.51, 31.29, 35.53, 34.0, 28.87, 28.59, 26.38, 28.04, 26.62, 30.68, 23.16, 24.59, 26.15, 22.82, 24.56, 19.01, 19.66, 17.71, 24.11, 23.1, 22.72, 23.81, 21.64, 20.97, 20.78, 20.79, 21.49, 19.53, 25.26, 21.28, 23.41, 22.86, 23.96, 21.64, 21.92, 21.95, 19.11, 20.06, 21.56, 21.74, 30.17, 27.24, 26.01, 24.43, 29.05, 23.82, 27.43, 23.13, 25.42, 24.66, 23.24, 24.89, 26.47, 24.31, 27.53, 22.8, 25.09, 25.33, 29.14, 28.62, 27.23, 25.13, 24.11, 23.36, 23.49, 26.47, 26.85, 24.81, 21.63, 25.49, 22.11, 21.0, 22.0, 22.15, 21.13, 22.4, 17.44, 19.72, 19.66, 22.21, 21.97, 18.17, 20.67, 19.85, 22.96, 19.66, 18.06, 19.95, 19.92, 20.06, 22.07, 21.16, 28.2, 20.86, 23.32, 22.11, 23.64, 24.15, 23.37, 22.48, 22.94, 22.75, 23.5, 26.9, 22.91, 24.35, 27.89, 25.92, 22.86, 30.62, 28.71, 32.26, 29.13, 29.28, 28.18, 24.43, 27.43, 31.9, 31.44, 31.07, 31.67, 29.09, 29.01, 30.93, 19.13, 20.02, 22.67, 18.74, 22.81, 22.42, 20.5, 23.09, 21.25, 27.82, 26.41, 22.32, 21.17, 26.57, 30.11, 24.98, 31.42, 34.93, 33.09, 24.62, 19.03, 23.61, 22.8, 30.51, 24.7, 28.35, 16.21, 19.13, 24.9, 24.71, 25.1, 25.05, 22.76, 28.07, 25.04, 32.61, 32.56, 34.85, 29.18, 29.48, 29.95, 33.33, 35.49, 31.23, 33.14, 33.12, 30.64, 27.98, 27.08, 26.02, 25.32, 25.52, 28.71, 26.86, 26.3, 24.58, 22.51, 25.0, 21.14, 25.46, 16.87, 26.72, 24.7, 24.35, 30.72, 26.72, 25.78, 26.57, 30.21, 43.57, 31.15, 21.88, 20.98, 22.35, 21.92, 19.67, 23.19, 16.61, 15.63, 24.53, 31.15, 38.23, 33.15], \"xaxis\": \"x\", \"y\": [35.08, 33.4, 31.72, 31.12, 28.39, 29.7, 27.47, 27.61, 31.63, 26.3, 27.13, 22.49, 24.66, 16.96, 20.15, 30.93, 31.9, 31.3, 30.83, 31.02, 30.3, 30.6, 30.6, 33.52, 32.47, 32.41, 32.14, 33.9, 32.83, 35.01, 51.28, 43.52, 42.89, 49.06, 44.21, 45.48, 44.6, 38.14, 33.43, 46.48, 46.74, 46.78, 42.62, 46.6, 46.46, 52.0, 49.79, 51.63, 49.51, 41.84, 38.95, 52.97, 49.15, 33.26, 33.77, 38.85, 37.04, 35.9, 37.06, 36.23, 33.84, 36.62, 33.86, 36.65, 34.59, 37.24, 25.32, 26.27, 25.46, 28.11, 30.02, 25.0, 31.89, 30.4, 30.58, 32.55, 27.38, 23.81, 22.79, 20.28, 23.33, 24.34, 20.74, 18.1, 21.53, 22.81, 20.43, 21.72, 20.52, 23.31, 22.72, 22.04, 24.11, 26.34, 25.23, 39.12, 34.09, 31.18, 31.25, 30.49, 31.01, 34.94, 34.73, 33.26, 30.4, 39.45, 36.56, 37.59, 34.38, 27.27, 26.77, 24.99, 26.67, 29.5, 29.06, 31.79, 27.15, 28.49, 29.67, 28.73, 38.37, 37.64, 44.87, 43.54, 45.08, 37.38, 44.91, 37.72, 35.68, 31.77, 30.22, 32.61, 33.11, 36.06, 33.79, 31.01, 34.14, 36.59, 32.32, 36.4, 35.01, 36.48, 35.68, 37.27, 38.2, 39.58, 41.4, 38.88, 37.34, 33.03, 37.85, 36.12, 41.45, 32.42, 33.51, 37.2, 33.63, 38.44, 32.46, 32.78, 28.08, 33.8, 30.87, 26.86, 40.19, 38.51, 39.11, 43.12, 39.79, 38.92, 40.86, 42.29, 33.2, 34.45, 38.18, 43.15, 37.24, 34.5, 45.71, 29.78, 27.93, 30.76, 35.22, 36.01, 29.84, 30.51, 28.5, 32.35, 34.28, 32.74, 33.45, 33.71, 30.4, 29.56, 27.56, 28.85, 29.74, 30.78, 28.53, 31.74, 32.92, 35.62, 38.09, 36.31, 37.81, 35.4, 36.2, 35.11, 30.0, 26.39, 27.87, 28.99, 25.41, 25.14, 29.98, 25.54, 25.21, 32.73, 25.01, 24.54, 34.88, 29.67, 30.69, 36.28, 34.07, 28.25, 37.54, 39.53, 31.48, 29.69, 32.49, 35.22, 34.09, 35.22, 33.79, 37.96, 37.03, 37.66, 40.0, 32.44, 35.92, 31.86, 35.2, 35.89, 35.39, 40.53, 40.14, 34.91, 38.42, 36.59, 30.88, 34.0, 32.64, 30.87, 35.15, 31.94, 35.39, 37.73, 37.77, 32.05, 38.36, 42.61, 43.19, 38.3, 37.46, 31.07, 32.51, 33.02, 38.61, 28.72, 30.44, 30.26, 27.53, 34.54, 26.54, 27.39, 21.2, 33.9, 31.71, 34.49, 35.72, 27.98, 26.02, 29.0, 27.06, 26.39, 24.03, 33.17, 27.43, 31.39, 28.41, 30.16, 29.92, 30.02, 29.46, 27.31, 28.38, 29.64, 30.5, 40.23, 39.69, 35.81, 34.7, 38.75, 30.32, 35.07, 29.37, 33.09, 31.39, 31.19, 31.76, 33.84, 30.49, 34.47, 29.24, 31.72, 38.11, 35.69, 37.13, 34.04, 33.82, 32.46, 30.58, 29.93, 34.49, 38.16, 32.56, 32.54, 32.31, 32.6, 29.51, 31.26, 32.16, 31.26, 33.01, 21.27, 23.67, 25.79, 29.67, 27.15, 22.14, 25.69, 23.59, 27.62, 24.96, 22.79, 22.12, 22.21, 22.79, 26.82, 25.29, 32.84, 26.07, 25.56, 26.66, 27.64, 26.95, 32.4, 27.28, 27.28, 29.56, 31.61, 37.24, 33.4, 36.56, 37.67, 33.07, 34.88, 39.48, 37.77, 41.83, 40.1, 39.59, 40.66, 31.24, 40.21, 39.14, 36.4, 38.04, 40.48, 36.24, 35.22, 37.81, 25.1, 26.16, 29.65, 25.89, 28.43, 27.34, 28.71, 30.68, 27.69, 33.25, 31.54, 28.22, 32.02, 38.06, 37.31, 33.48, 38.79, 42.01, 38.08, 34.63, 28.4, 32.64, 33.01, 38.7, 33.66, 34.69, 22.25, 27.36, 31.42, 31.74, 30.62, 29.6, 28.29, 37.17, 34.45, 37.54, 39.44, 42.79, 37.86, 37.46, 36.98, 41.96, 44.3, 39.97, 42.35, 37.32, 36.4, 35.29, 35.55, 33.93, 34.74, 36.2, 32.68, 30.0, 30.44, 31.34, 29.48, 33.72, 28.94, 34.8, 21.92, 33.07, 31.74, 29.56, 37.04, 34.65, 33.19, 34.38, 36.17, 49.94, 38.19, 28.88, 28.01, 29.1, 32.45, 25.68, 31.51, 22.32, 20.79, 33.29, 49.8, 48.35, 46.11], \"yaxis\": \"y\"}],                        {\"legend\": {\"tracegroupgap\": 0}, \"template\": {\"data\": {\"bar\": [{\"error_x\": {\"color\": \"#2a3f5f\"}, \"error_y\": {\"color\": \"#2a3f5f\"}, \"marker\": {\"line\": {\"color\": \"#E5ECF6\", \"width\": 0.5}}, \"type\": \"bar\"}], \"barpolar\": [{\"marker\": {\"line\": {\"color\": \"#E5ECF6\", \"width\": 0.5}}, \"type\": \"barpolar\"}], \"carpet\": [{\"aaxis\": {\"endlinecolor\": \"#2a3f5f\", \"gridcolor\": \"white\", \"linecolor\": \"white\", \"minorgridcolor\": \"white\", \"startlinecolor\": \"#2a3f5f\"}, \"baxis\": {\"endlinecolor\": \"#2a3f5f\", \"gridcolor\": \"white\", \"linecolor\": \"white\", \"minorgridcolor\": \"white\", \"startlinecolor\": \"#2a3f5f\"}, \"type\": \"carpet\"}], \"choropleth\": [{\"colorbar\": {\"outlinewidth\": 0, \"ticks\": \"\"}, \"type\": \"choropleth\"}], \"contour\": [{\"colorbar\": {\"outlinewidth\": 0, \"ticks\": \"\"}, \"colorscale\": [[0.0, \"#0d0887\"], [0.1111111111111111, \"#46039f\"], [0.2222222222222222, \"#7201a8\"], [0.3333333333333333, \"#9c179e\"], [0.4444444444444444, \"#bd3786\"], [0.5555555555555556, \"#d8576b\"], [0.6666666666666666, \"#ed7953\"], [0.7777777777777778, \"#fb9f3a\"], [0.8888888888888888, \"#fdca26\"], [1.0, \"#f0f921\"]], \"type\": \"contour\"}], \"contourcarpet\": [{\"colorbar\": {\"outlinewidth\": 0, \"ticks\": \"\"}, \"type\": \"contourcarpet\"}], \"heatmap\": [{\"colorbar\": {\"outlinewidth\": 0, \"ticks\": \"\"}, \"colorscale\": [[0.0, \"#0d0887\"], [0.1111111111111111, \"#46039f\"], [0.2222222222222222, \"#7201a8\"], [0.3333333333333333, \"#9c179e\"], [0.4444444444444444, \"#bd3786\"], [0.5555555555555556, \"#d8576b\"], [0.6666666666666666, \"#ed7953\"], [0.7777777777777778, \"#fb9f3a\"], [0.8888888888888888, \"#fdca26\"], [1.0, \"#f0f921\"]], \"type\": \"heatmap\"}], \"heatmapgl\": [{\"colorbar\": {\"outlinewidth\": 0, \"ticks\": \"\"}, \"colorscale\": [[0.0, \"#0d0887\"], [0.1111111111111111, \"#46039f\"], [0.2222222222222222, \"#7201a8\"], [0.3333333333333333, \"#9c179e\"], [0.4444444444444444, \"#bd3786\"], [0.5555555555555556, \"#d8576b\"], [0.6666666666666666, \"#ed7953\"], [0.7777777777777778, \"#fb9f3a\"], [0.8888888888888888, \"#fdca26\"], [1.0, \"#f0f921\"]], \"type\": \"heatmapgl\"}], \"histogram\": [{\"marker\": {\"colorbar\": {\"outlinewidth\": 0, \"ticks\": \"\"}}, \"type\": \"histogram\"}], \"histogram2d\": [{\"colorbar\": {\"outlinewidth\": 0, \"ticks\": \"\"}, \"colorscale\": [[0.0, \"#0d0887\"], [0.1111111111111111, \"#46039f\"], [0.2222222222222222, \"#7201a8\"], [0.3333333333333333, \"#9c179e\"], [0.4444444444444444, \"#bd3786\"], [0.5555555555555556, \"#d8576b\"], [0.6666666666666666, \"#ed7953\"], [0.7777777777777778, \"#fb9f3a\"], [0.8888888888888888, \"#fdca26\"], [1.0, \"#f0f921\"]], \"type\": \"histogram2d\"}], \"histogram2dcontour\": [{\"colorbar\": {\"outlinewidth\": 0, \"ticks\": \"\"}, \"colorscale\": [[0.0, \"#0d0887\"], [0.1111111111111111, \"#46039f\"], [0.2222222222222222, \"#7201a8\"], [0.3333333333333333, \"#9c179e\"], [0.4444444444444444, \"#bd3786\"], [0.5555555555555556, \"#d8576b\"], [0.6666666666666666, \"#ed7953\"], [0.7777777777777778, \"#fb9f3a\"], [0.8888888888888888, \"#fdca26\"], [1.0, \"#f0f921\"]], \"type\": \"histogram2dcontour\"}], \"mesh3d\": [{\"colorbar\": {\"outlinewidth\": 0, \"ticks\": \"\"}, \"type\": \"mesh3d\"}], \"parcoords\": [{\"line\": {\"colorbar\": {\"outlinewidth\": 0, \"ticks\": \"\"}}, \"type\": \"parcoords\"}], \"pie\": [{\"automargin\": true, \"type\": \"pie\"}], \"scatter\": [{\"marker\": {\"colorbar\": {\"outlinewidth\": 0, \"ticks\": \"\"}}, \"type\": \"scatter\"}], \"scatter3d\": [{\"line\": {\"colorbar\": {\"outlinewidth\": 0, \"ticks\": \"\"}}, \"marker\": {\"colorbar\": {\"outlinewidth\": 0, \"ticks\": \"\"}}, \"type\": \"scatter3d\"}], \"scattercarpet\": [{\"marker\": {\"colorbar\": {\"outlinewidth\": 0, \"ticks\": \"\"}}, \"type\": \"scattercarpet\"}], \"scattergeo\": [{\"marker\": {\"colorbar\": {\"outlinewidth\": 0, \"ticks\": \"\"}}, \"type\": \"scattergeo\"}], \"scattergl\": [{\"marker\": {\"colorbar\": {\"outlinewidth\": 0, \"ticks\": \"\"}}, \"type\": \"scattergl\"}], \"scattermapbox\": [{\"marker\": {\"colorbar\": {\"outlinewidth\": 0, \"ticks\": \"\"}}, \"type\": \"scattermapbox\"}], \"scatterpolar\": [{\"marker\": {\"colorbar\": {\"outlinewidth\": 0, \"ticks\": \"\"}}, \"type\": \"scatterpolar\"}], \"scatterpolargl\": [{\"marker\": {\"colorbar\": {\"outlinewidth\": 0, \"ticks\": \"\"}}, \"type\": \"scatterpolargl\"}], \"scatterternary\": [{\"marker\": {\"colorbar\": {\"outlinewidth\": 0, \"ticks\": \"\"}}, \"type\": \"scatterternary\"}], \"surface\": [{\"colorbar\": {\"outlinewidth\": 0, \"ticks\": \"\"}, \"colorscale\": [[0.0, \"#0d0887\"], [0.1111111111111111, \"#46039f\"], [0.2222222222222222, \"#7201a8\"], [0.3333333333333333, \"#9c179e\"], [0.4444444444444444, \"#bd3786\"], [0.5555555555555556, \"#d8576b\"], [0.6666666666666666, \"#ed7953\"], [0.7777777777777778, \"#fb9f3a\"], [0.8888888888888888, \"#fdca26\"], [1.0, \"#f0f921\"]], \"type\": \"surface\"}], \"table\": [{\"cells\": {\"fill\": {\"color\": \"#EBF0F8\"}, \"line\": {\"color\": \"white\"}}, \"header\": {\"fill\": {\"color\": \"#C8D4E3\"}, \"line\": {\"color\": \"white\"}}, \"type\": \"table\"}]}, \"layout\": {\"annotationdefaults\": {\"arrowcolor\": \"#2a3f5f\", \"arrowhead\": 0, \"arrowwidth\": 1}, \"autotypenumbers\": \"strict\", \"coloraxis\": {\"colorbar\": {\"outlinewidth\": 0, \"ticks\": \"\"}}, \"colorscale\": {\"diverging\": [[0, \"#8e0152\"], [0.1, \"#c51b7d\"], [0.2, \"#de77ae\"], [0.3, \"#f1b6da\"], [0.4, \"#fde0ef\"], [0.5, \"#f7f7f7\"], [0.6, \"#e6f5d0\"], [0.7, \"#b8e186\"], [0.8, \"#7fbc41\"], [0.9, \"#4d9221\"], [1, \"#276419\"]], \"sequential\": [[0.0, \"#0d0887\"], [0.1111111111111111, \"#46039f\"], [0.2222222222222222, \"#7201a8\"], [0.3333333333333333, \"#9c179e\"], [0.4444444444444444, \"#bd3786\"], [0.5555555555555556, \"#d8576b\"], [0.6666666666666666, \"#ed7953\"], [0.7777777777777778, \"#fb9f3a\"], [0.8888888888888888, \"#fdca26\"], [1.0, \"#f0f921\"]], \"sequentialminus\": [[0.0, \"#0d0887\"], [0.1111111111111111, \"#46039f\"], [0.2222222222222222, \"#7201a8\"], [0.3333333333333333, \"#9c179e\"], [0.4444444444444444, \"#bd3786\"], [0.5555555555555556, \"#d8576b\"], [0.6666666666666666, \"#ed7953\"], [0.7777777777777778, \"#fb9f3a\"], [0.8888888888888888, \"#fdca26\"], [1.0, \"#f0f921\"]]}, \"colorway\": [\"#636efa\", \"#EF553B\", \"#00cc96\", \"#ab63fa\", \"#FFA15A\", \"#19d3f3\", \"#FF6692\", \"#B6E880\", \"#FF97FF\", \"#FECB52\"], \"font\": {\"color\": \"#2a3f5f\"}, \"geo\": {\"bgcolor\": \"white\", \"lakecolor\": \"white\", \"landcolor\": \"#E5ECF6\", \"showlakes\": true, \"showland\": true, \"subunitcolor\": \"white\"}, \"hoverlabel\": {\"align\": \"left\"}, \"hovermode\": \"closest\", \"mapbox\": {\"style\": \"light\"}, \"paper_bgcolor\": \"white\", \"plot_bgcolor\": \"#E5ECF6\", \"polar\": {\"angularaxis\": {\"gridcolor\": \"white\", \"linecolor\": \"white\", \"ticks\": \"\"}, \"bgcolor\": \"#E5ECF6\", \"radialaxis\": {\"gridcolor\": \"white\", \"linecolor\": \"white\", \"ticks\": \"\"}}, \"scene\": {\"xaxis\": {\"backgroundcolor\": \"#E5ECF6\", \"gridcolor\": \"white\", \"gridwidth\": 2, \"linecolor\": \"white\", \"showbackground\": true, \"ticks\": \"\", \"zerolinecolor\": \"white\"}, \"yaxis\": {\"backgroundcolor\": \"#E5ECF6\", \"gridcolor\": \"white\", \"gridwidth\": 2, \"linecolor\": \"white\", \"showbackground\": true, \"ticks\": \"\", \"zerolinecolor\": \"white\"}, \"zaxis\": {\"backgroundcolor\": \"#E5ECF6\", \"gridcolor\": \"white\", \"gridwidth\": 2, \"linecolor\": \"white\", \"showbackground\": true, \"ticks\": \"\", \"zerolinecolor\": \"white\"}}, \"shapedefaults\": {\"line\": {\"color\": \"#2a3f5f\"}}, \"ternary\": {\"aaxis\": {\"gridcolor\": \"white\", \"linecolor\": \"white\", \"ticks\": \"\"}, \"baxis\": {\"gridcolor\": \"white\", \"linecolor\": \"white\", \"ticks\": \"\"}, \"bgcolor\": \"#E5ECF6\", \"caxis\": {\"gridcolor\": \"white\", \"linecolor\": \"white\", \"ticks\": \"\"}}, \"title\": {\"x\": 0.05}, \"xaxis\": {\"automargin\": true, \"gridcolor\": \"white\", \"linecolor\": \"white\", \"ticks\": \"\", \"title\": {\"standoff\": 15}, \"zerolinecolor\": \"white\", \"zerolinewidth\": 2}, \"yaxis\": {\"automargin\": true, \"gridcolor\": \"white\", \"linecolor\": \"white\", \"ticks\": \"\", \"title\": {\"standoff\": 15}, \"zerolinecolor\": \"white\", \"zerolinewidth\": 2}}}, \"title\": {\"text\": \"Rompimento7Dias x Rompimento 28 Dias\"}, \"xaxis\": {\"anchor\": \"y\", \"domain\": [0.0, 1.0], \"title\": {\"text\": \"Rompimento7Dias\"}}, \"yaxis\": {\"anchor\": \"x\", \"domain\": [0.0, 1.0], \"title\": {\"text\": \"Rompimento28Dias\"}}},                        {\"responsive\": true}                    ).then(function(){\n",
       "                            \n",
       "var gd = document.getElementById('d29a1ee8-706c-40e4-9615-48caaca48a31');\n",
       "var x = new MutationObserver(function (mutations, observer) {{\n",
       "        var display = window.getComputedStyle(gd).display;\n",
       "        if (!display || display === 'none') {{\n",
       "            console.log([gd, 'removed!']);\n",
       "            Plotly.purge(gd);\n",
       "            observer.disconnect();\n",
       "        }}\n",
       "}});\n",
       "\n",
       "// Listen for the removal of the full notebook cells\n",
       "var notebookContainer = gd.closest('#notebook-container');\n",
       "if (notebookContainer) {{\n",
       "    x.observe(notebookContainer, {childList: true});\n",
       "}}\n",
       "\n",
       "// Listen for the clearing of the current output cell\n",
       "var outputEl = gd.closest('.output');\n",
       "if (outputEl) {{\n",
       "    x.observe(outputEl, {childList: true});\n",
       "}}\n",
       "\n",
       "                        })                };                });            </script>        </div>"
      ]
     },
     "metadata": {},
     "output_type": "display_data"
    }
   ],
   "source": [
    "fig = px.scatter(dados_aglomerante, x=\"Rompimento7Dias\", y=\"Rompimento28Dias\", title='Rompimento7Dias x Rompimento 28 Dias')\n",
    "fig.show()"
   ]
  },
  {
   "cell_type": "code",
   "execution_count": 57,
   "metadata": {},
   "outputs": [
    {
     "data": {
      "application/vnd.plotly.v1+json": {
       "config": {
        "plotlyServerURL": "https://plot.ly"
       },
       "data": [
        {
         "hovertemplate": "RelacaoAguaCimento=%{x}<br>Rompimento28Dias=%{y}<extra></extra>",
         "legendgroup": "",
         "marker": {
          "color": "#636efa",
          "symbol": "circle"
         },
         "mode": "markers",
         "name": "",
         "orientation": "v",
         "showlegend": false,
         "type": "scatter",
         "x": [
          0.5386740331491713,
          0.559375,
          0.678125,
          0.678125,
          0.678125,
          0.5802469135802469,
          0.5802469135802469,
          0.5802469135802469,
          0.6697530864197531,
          0.616822429906542,
          0.616822429906542,
          0.616822429906542,
          0.616822429906542,
          0.9230769230769232,
          0.9123711340206184,
          0.5338983050847458,
          0.5282485875706214,
          0.5338983050847458,
          0.5338983050847458,
          0.5338983050847458,
          0.5338983050847458,
          0.5338983050847458,
          0.53954802259887,
          0.4932975871313673,
          0.4932975871313673,
          0.4932975871313673,
          0.4932975871313673,
          0.4932975871313673,
          0.4932975871313673,
          0.4423592493297587,
          0.4060913705583756,
          0.4060913705583756,
          0.4060913705583756,
          0.4060913705583756,
          0.4060913705583756,
          0.4060913705583756,
          0.4060913705583756,
          0.4060913705583756,
          0.4342053885201093,
          0.44416243654822335,
          0.4289340101522843,
          0.434010152284264,
          0.434010152284264,
          0.434010152284264,
          0.434010152284264,
          0.434010152284264,
          0.4137055837563452,
          0.4137055837563452,
          0.4060913705583756,
          0.4060913705583756,
          0.4060913705583756,
          0.4060913705583756,
          0.39867239359625145,
          0.5412087912087912,
          0.5412087912087912,
          0.5412087912087912,
          0.5412087912087912,
          0.5412087912087912,
          0.5412087912087912,
          0.5412087912087912,
          0.5412087912087912,
          0.5412087912087912,
          0.4120879120879121,
          0.4120879120879121,
          0.5420054200542005,
          0.5311653116531165,
          0.6182572614107884,
          0.6182572614107884,
          0.6182572614107884,
          0.6182572614107884,
          0.6016597510373444,
          0.5518672199170125,
          0.5684647302904564,
          0.5601659751037344,
          0.5601659751037344,
          0.5684647302904564,
          0.5684647302904564,
          0.7811158798283262,
          0.8127853881278538,
          0.8127853881278538,
          0.8264840182648402,
          0.8401826484018264,
          0.8401826484018264,
          0.8401826484018264,
          0.8401826484018264,
          0.8401826484018264,
          0.8401826484018264,
          0.8264840182648402,
          0.8264840182648402,
          0.8264840182648402,
          0.8264840182648402,
          0.776824034334764,
          0.7552742616033755,
          0.7412280701754386,
          0.7324561403508771,
          0.4303477344573235,
          0.475,
          0.5175,
          0.4825,
          0.4825,
          0.4825,
          0.4825,
          0.4825,
          0.4825,
          0.4825,
          0.5,
          0.5376712328767124,
          0.5958904109589042,
          0.5958904109589042,
          0.5682656826568265,
          0.5709342560553633,
          0.5709342560553633,
          0.5709342560553633,
          0.5605536332179931,
          0.5605536332179931,
          0.5190311418685121,
          0.6794425087108014,
          0.6832740213523132,
          0.6832740213523132,
          0.5587188612099644,
          0.4937106918238994,
          0.4937106918238994,
          0.4622641509433962,
          0.4622641509433962,
          0.4622641509433962,
          0.4622641509433962,
          0.4716981132075472,
          0.4716981132075472,
          0.6146496815286624,
          0.6372881355932203,
          0.6324503311258278,
          0.6324503311258278,
          0.6490066225165563,
          0.6490066225165563,
          0.6490066225165563,
          0.6357615894039735,
          0.6158940397350994,
          0.6158940397350994,
          0.6158940397350994,
          0.6158940397350994,
          0.6096774193548387,
          0.6096774193548387,
          0.6096774193548387,
          0.6096774193548387,
          0.6096774193548387,
          0.6096774193548387,
          0.6096774193548387,
          0.6141479099678456,
          0.6187290969899666,
          0.6220735785953178,
          0.6287625418060201,
          0.6472602739726028,
          0.6267123287671232,
          0.6702898550724637,
          0.6702898550724637,
          0.6702898550724637,
          0.6702898550724637,
          0.6702898550724637,
          0.7105263157894737,
          0.7105263157894737,
          0.7269230769230769,
          0.7142857142857143,
          0.7142857142857143,
          0.7255639097744361,
          0.6084142394822006,
          0.5125,
          0.5125,
          0.5225,
          0.5225,
          0.5225,
          0.5225,
          0.5,
          0.4925,
          0.4925,
          0.4925,
          0.4925,
          0.4925,
          0.4825,
          0.41116751269035534,
          0.5588235294117647,
          0.5,
          0.5,
          0.5330882352941176,
          0.5073529411764706,
          0.5073529411764706,
          0.5073529411764706,
          0.5183823529411765,
          0.5183823529411765,
          0.5588235294117647,
          0.5183823529411765,
          0.5183823529411765,
          0.5183823529411765,
          0.5187165775401069,
          0.703125,
          0.703125,
          0.703125,
          0.6908396946564885,
          0.6717557251908397,
          0.6856060606060606,
          0.678030303030303,
          0.6590909090909091,
          0.6856060606060606,
          0.6439393939393939,
          0.6856060606060606,
          0.6856060606060606,
          0.6856060606060606,
          0.6818181818181818,
          0.6818181818181818,
          0.7131147540983607,
          0.7377049180327869,
          0.639344262295082,
          0.6311475409836066,
          0.6311475409836066,
          0.6311475409836066,
          0.6309012875536479,
          0.7665198237885462,
          0.8017621145374451,
          0.7841409691629956,
          0.8144796380090498,
          0.8017621145374451,
          0.6893939393939394,
          0.5359712230215827,
          0.5035971223021583,
          0.5179856115107914,
          0.5359712230215827,
          0.68,
          0.4861538461538462,
          0.4861538461538462,
          0.4646153846153846,
          0.4646153846153846,
          0.4646153846153846,
          0.4738461538461538,
          0.4738461538461538,
          0.4953846153846154,
          0.4953846153846154,
          0.4953846153846154,
          0.4953846153846154,
          0.4953846153846154,
          0.4953846153846154,
          0.6132075471698113,
          0.610062893081761,
          0.610062893081761,
          0.5835866261398176,
          0.5835866261398176,
          0.5835866261398176,
          0.5927051671732523,
          0.5927051671732523,
          0.5927051671732523,
          0.5927051671732523,
          0.5927051671732523,
          0.5927051671732523,
          0.5927051671732523,
          0.6416938110749185,
          0.6416938110749185,
          0.6175548589341693,
          0.6175548589341693,
          0.6175548589341693,
          0.5422885572139303,
          0.5422885572139303,
          0.4951690821256038,
          0.6261682242990654,
          0.6261682242990654,
          0.6261682242990654,
          0.6261682242990654,
          0.6261682242990654,
          0.6323987538940811,
          0.6323987538940811,
          0.6326064382139148,
          0.7208480565371025,
          0.7326007326007326,
          0.746268656716418,
          0.7326007326007326,
          0.7326007326007326,
          0.7352941176470589,
          0.7670682730923695,
          0.7670682730923695,
          0.7991803278688525,
          0.6797153024911032,
          0.6797153024911032,
          0.6797153024911032,
          0.6797153024911032,
          0.7089552238805971,
          0.7089552238805971,
          0.7089552238805971,
          0.7089552238805971,
          0.7276119402985075,
          0.7276119402985075,
          0.7089552238805971,
          0.6902985074626866,
          0.6902985074626866,
          0.6902985074626866,
          0.6902985074626866,
          0.7014925373134329,
          0.7014925373134329,
          0.6925894618202311,
          0.6992481203007519,
          0.7014925373134329,
          0.7014925373134329,
          0.6865671641791045,
          0.6581818181818182,
          0.6436363636363637,
          0.509090909090909,
          0.509090909090909,
          0.509090909090909,
          0.7391304347826086,
          0.7391304347826086,
          0.7391304347826086,
          0.7391304347826086,
          0.7391304347826086,
          0.7391304347826086,
          0.7391304347826086,
          0.7470355731225297,
          0.7470355731225297,
          0.7470355731225297,
          0.7233201581027668,
          0.7233201581027668,
          0.7233201581027668,
          0.7233201581027668,
          0.7233201581027668,
          0.7233201581027668,
          0.7233201581027668,
          0.7233201581027668,
          0.7233201581027668,
          0.7430830039525692,
          0.7391304347826086,
          0.7391304347826086,
          0.7391304347826086,
          0.7391304347826086,
          0.7401574803149606,
          0.7322834645669292,
          0.7401574803149606,
          0.7401574803149606,
          0.7401574803149606,
          0.7401574803149606,
          0.7401574803149606,
          0.8430493273542601,
          0.8209606986899564,
          0.8384279475982532,
          0.8209606986899564,
          0.8384279475982532,
          0.8296943231441049,
          0.8296943231441049,
          0.8296943231441049,
          0.8296943231441049,
          0.852017937219731,
          0.8296943231441049,
          0.852017937219731,
          0.8296943231441049,
          0.8384279475982532,
          0.8427947598253275,
          0.8427947598253275,
          0.8427947598253275,
          0.7161572052401747,
          0.7161572052401747,
          0.7161572052401747,
          0.7161572052401747,
          0.7161572052401747,
          0.7116104868913857,
          0.704119850187266,
          0.7203065134099617,
          0.6859205776173285,
          0.6859205776173285,
          0.6859205776173285,
          0.6859205776173285,
          0.6859205776173285,
          0.6859205776173285,
          0.6787003610108303,
          0.6787003610108303,
          0.5837837837837838,
          0.5783783783783784,
          0.5783783783783784,
          0.5783783783783784,
          0.5783783783783784,
          0.5783783783783784,
          0.6101694915254238,
          0.6044749188018765,
          0.5947712418300654,
          0.5947712418300654,
          0.5947712418300654,
          0.5980392156862745,
          0.5980392156862745,
          0.6405228758169934,
          0.6405228758169934,
          0.5855855855855856,
          0.5855855855855856,
          0.5855855855855856,
          0.5855855855855856,
          0.5855855855855856,
          0.5855855855855856,
          0.5825825825825826,
          0.5825825825825826,
          0.5825825825825826,
          0.486646884272997,
          0.486646884272997,
          0.486646884272997,
          0.4875621890547264,
          0.4875621890547264,
          0.4875621890547264,
          0.4875621890547264,
          0.41791044776119396,
          0.41791044776119396,
          0.41791044776119396,
          0.482587064676617,
          0.482587064676617,
          0.482587064676617,
          0.482587064676617,
          0.482587064676617,
          0.482587064676617,
          0.482587064676617,
          0.7738095238095238,
          0.7658730158730159,
          0.6113289760348584,
          0.6113289760348584,
          0.6274509803921569,
          0.6274509803921569,
          0.6274509803921569,
          0.6111111111111112,
          0.6158536585365854,
          0.5911764705882353,
          0.5970588235294118,
          0.5941176470588235,
          0.5941176470588235,
          0.5941176470588235,
          0.5941176470588235,
          0.5941176470588235,
          0.5941176470588235,
          0.5852941176470589,
          0.5852941176470589,
          0.5941176470588235,
          0.5941176470588235,
          0.6349206349206349,
          0.6349206349206349,
          0.6349206349206349,
          0.6349206349206349,
          0.6285714285714286,
          0.6317460317460317,
          0.6317460317460317,
          0.6822742474916388,
          0.6666666666666666,
          0.6925795053003534,
          0.6925795053003534,
          0.6925795053003534,
          0.6925795053003534,
          0.8,
          0.5396419437340153,
          0.5396419437340153,
          0.5396419437340153,
          0.5370843989769821,
          0.6881028938906752,
          0.480952380952381,
          0.4880952380952381,
          0.4880952380952381,
          0.554016620498615,
          0.554016620498615,
          0.6391752577319587,
          0.7052631578947368,
          0.6779661016949152,
          0.6779661016949152,
          0.688135593220339,
          0.688135593220339,
          0.8546255506607929,
          0.8595203132648067,
          0.76171875,
          0.55,
          0.55,
          0.55
         ],
         "xaxis": "x",
         "y": [
          35.08,
          33.4,
          31.72,
          31.12,
          28.39,
          29.7,
          27.47,
          27.61,
          31.63,
          26.3,
          27.13,
          22.49,
          24.66,
          16.96,
          20.15,
          30.93,
          31.9,
          31.3,
          30.83,
          31.02,
          30.3,
          30.6,
          30.6,
          33.52,
          32.47,
          32.41,
          32.14,
          33.9,
          32.83,
          35.01,
          51.28,
          43.52,
          42.89,
          49.06,
          44.21,
          45.48,
          44.6,
          38.14,
          33.43,
          46.48,
          46.74,
          46.78,
          42.62,
          46.6,
          46.46,
          52,
          49.79,
          51.63,
          49.51,
          41.84,
          38.95,
          52.97,
          49.15,
          33.26,
          33.77,
          38.85,
          37.04,
          35.9,
          37.06,
          36.23,
          33.84,
          36.62,
          33.86,
          36.65,
          34.59,
          37.24,
          25.32,
          26.27,
          25.46,
          28.11,
          30.02,
          25,
          31.89,
          30.4,
          30.58,
          32.55,
          27.38,
          23.81,
          22.79,
          20.28,
          23.33,
          24.34,
          20.74,
          18.1,
          21.53,
          22.81,
          20.43,
          21.72,
          20.52,
          23.31,
          22.72,
          22.04,
          24.11,
          26.34,
          25.23,
          39.12,
          34.09,
          31.18,
          31.25,
          30.49,
          31.01,
          34.94,
          34.73,
          33.26,
          30.4,
          39.45,
          36.56,
          37.59,
          34.38,
          27.27,
          26.77,
          24.99,
          26.67,
          29.5,
          29.06,
          31.79,
          27.15,
          28.49,
          29.67,
          28.73,
          38.37,
          37.64,
          44.87,
          43.54,
          45.08,
          37.38,
          44.91,
          37.72,
          35.68,
          31.77,
          30.22,
          32.61,
          33.11,
          36.06,
          33.79,
          31.01,
          34.14,
          36.59,
          32.32,
          36.4,
          35.01,
          36.48,
          35.68,
          37.27,
          38.2,
          39.58,
          41.4,
          38.88,
          37.34,
          33.03,
          37.85,
          36.12,
          41.45,
          32.42,
          33.51,
          37.2,
          33.63,
          38.44,
          32.46,
          32.78,
          28.08,
          33.8,
          30.87,
          26.86,
          40.19,
          38.51,
          39.11,
          43.12,
          39.79,
          38.92,
          40.86,
          42.29,
          33.2,
          34.45,
          38.18,
          43.15,
          37.24,
          34.5,
          45.71,
          29.78,
          27.93,
          30.76,
          35.22,
          36.01,
          29.84,
          30.51,
          28.5,
          32.35,
          34.28,
          32.74,
          33.45,
          33.71,
          30.4,
          29.56,
          27.56,
          28.85,
          29.74,
          30.78,
          28.53,
          31.74,
          32.92,
          35.62,
          38.09,
          36.31,
          37.81,
          35.4,
          36.2,
          35.11,
          30,
          26.39,
          27.87,
          28.99,
          25.41,
          25.14,
          29.98,
          25.54,
          25.21,
          32.73,
          25.01,
          24.54,
          34.88,
          29.67,
          30.69,
          36.28,
          34.07,
          28.25,
          37.54,
          39.53,
          31.48,
          29.69,
          32.49,
          35.22,
          34.09,
          35.22,
          33.79,
          37.96,
          37.03,
          37.66,
          40,
          32.44,
          35.92,
          31.86,
          35.2,
          35.89,
          35.39,
          40.53,
          40.14,
          34.91,
          38.42,
          36.59,
          30.88,
          34,
          32.64,
          30.87,
          35.15,
          31.94,
          35.39,
          37.73,
          37.77,
          32.05,
          38.36,
          42.61,
          43.19,
          38.3,
          37.46,
          31.07,
          32.51,
          33.02,
          38.61,
          28.72,
          30.44,
          30.26,
          27.53,
          34.54,
          26.54,
          27.39,
          21.2,
          33.9,
          31.71,
          34.49,
          35.72,
          27.98,
          26.02,
          29,
          27.06,
          26.39,
          24.03,
          33.17,
          27.43,
          31.39,
          28.41,
          30.16,
          29.92,
          30.02,
          29.46,
          27.31,
          28.38,
          29.64,
          30.5,
          40.23,
          39.69,
          35.81,
          34.7,
          38.75,
          30.32,
          35.07,
          29.37,
          33.09,
          31.39,
          31.19,
          31.76,
          33.84,
          30.49,
          34.47,
          29.24,
          31.72,
          38.11,
          35.69,
          37.13,
          34.04,
          33.82,
          32.46,
          30.58,
          29.93,
          34.49,
          38.16,
          32.56,
          32.54,
          32.31,
          32.6,
          29.51,
          31.26,
          32.16,
          31.26,
          33.01,
          21.27,
          23.67,
          25.79,
          29.67,
          27.15,
          22.14,
          25.69,
          23.59,
          27.62,
          24.96,
          22.79,
          22.12,
          22.21,
          22.79,
          26.82,
          25.29,
          32.84,
          26.07,
          25.56,
          26.66,
          27.64,
          26.95,
          32.4,
          27.28,
          27.28,
          29.56,
          31.61,
          37.24,
          33.4,
          36.56,
          37.67,
          33.07,
          34.88,
          39.48,
          37.77,
          41.83,
          40.1,
          39.59,
          40.66,
          31.24,
          40.21,
          39.14,
          36.4,
          38.04,
          40.48,
          36.24,
          35.22,
          37.81,
          25.1,
          26.16,
          29.65,
          25.89,
          28.43,
          27.34,
          28.71,
          30.68,
          27.69,
          33.25,
          31.54,
          28.22,
          32.02,
          38.06,
          37.31,
          33.48,
          38.79,
          42.01,
          38.08,
          34.63,
          28.4,
          32.64,
          33.01,
          38.7,
          33.66,
          34.69,
          22.25,
          27.36,
          31.42,
          31.74,
          30.62,
          29.6,
          28.29,
          37.17,
          34.45,
          37.54,
          39.44,
          42.79,
          37.86,
          37.46,
          36.98,
          41.96,
          44.3,
          39.97,
          42.35,
          37.32,
          36.4,
          35.29,
          35.55,
          33.93,
          34.74,
          36.2,
          32.68,
          30,
          30.44,
          31.34,
          29.48,
          33.72,
          28.94,
          34.8,
          21.92,
          33.07,
          31.74,
          29.56,
          37.04,
          34.65,
          33.19,
          34.38,
          36.17,
          49.94,
          38.19,
          28.88,
          28.01,
          29.1,
          32.45,
          25.68,
          31.51,
          22.32,
          20.79,
          33.29,
          49.8,
          48.35,
          46.11
         ],
         "yaxis": "y"
        }
       ],
       "layout": {
        "legend": {
         "tracegroupgap": 0
        },
        "template": {
         "data": {
          "bar": [
           {
            "error_x": {
             "color": "#2a3f5f"
            },
            "error_y": {
             "color": "#2a3f5f"
            },
            "marker": {
             "line": {
              "color": "#E5ECF6",
              "width": 0.5
             }
            },
            "type": "bar"
           }
          ],
          "barpolar": [
           {
            "marker": {
             "line": {
              "color": "#E5ECF6",
              "width": 0.5
             }
            },
            "type": "barpolar"
           }
          ],
          "carpet": [
           {
            "aaxis": {
             "endlinecolor": "#2a3f5f",
             "gridcolor": "white",
             "linecolor": "white",
             "minorgridcolor": "white",
             "startlinecolor": "#2a3f5f"
            },
            "baxis": {
             "endlinecolor": "#2a3f5f",
             "gridcolor": "white",
             "linecolor": "white",
             "minorgridcolor": "white",
             "startlinecolor": "#2a3f5f"
            },
            "type": "carpet"
           }
          ],
          "choropleth": [
           {
            "colorbar": {
             "outlinewidth": 0,
             "ticks": ""
            },
            "type": "choropleth"
           }
          ],
          "contour": [
           {
            "colorbar": {
             "outlinewidth": 0,
             "ticks": ""
            },
            "colorscale": [
             [
              0,
              "#0d0887"
             ],
             [
              0.1111111111111111,
              "#46039f"
             ],
             [
              0.2222222222222222,
              "#7201a8"
             ],
             [
              0.3333333333333333,
              "#9c179e"
             ],
             [
              0.4444444444444444,
              "#bd3786"
             ],
             [
              0.5555555555555556,
              "#d8576b"
             ],
             [
              0.6666666666666666,
              "#ed7953"
             ],
             [
              0.7777777777777778,
              "#fb9f3a"
             ],
             [
              0.8888888888888888,
              "#fdca26"
             ],
             [
              1,
              "#f0f921"
             ]
            ],
            "type": "contour"
           }
          ],
          "contourcarpet": [
           {
            "colorbar": {
             "outlinewidth": 0,
             "ticks": ""
            },
            "type": "contourcarpet"
           }
          ],
          "heatmap": [
           {
            "colorbar": {
             "outlinewidth": 0,
             "ticks": ""
            },
            "colorscale": [
             [
              0,
              "#0d0887"
             ],
             [
              0.1111111111111111,
              "#46039f"
             ],
             [
              0.2222222222222222,
              "#7201a8"
             ],
             [
              0.3333333333333333,
              "#9c179e"
             ],
             [
              0.4444444444444444,
              "#bd3786"
             ],
             [
              0.5555555555555556,
              "#d8576b"
             ],
             [
              0.6666666666666666,
              "#ed7953"
             ],
             [
              0.7777777777777778,
              "#fb9f3a"
             ],
             [
              0.8888888888888888,
              "#fdca26"
             ],
             [
              1,
              "#f0f921"
             ]
            ],
            "type": "heatmap"
           }
          ],
          "heatmapgl": [
           {
            "colorbar": {
             "outlinewidth": 0,
             "ticks": ""
            },
            "colorscale": [
             [
              0,
              "#0d0887"
             ],
             [
              0.1111111111111111,
              "#46039f"
             ],
             [
              0.2222222222222222,
              "#7201a8"
             ],
             [
              0.3333333333333333,
              "#9c179e"
             ],
             [
              0.4444444444444444,
              "#bd3786"
             ],
             [
              0.5555555555555556,
              "#d8576b"
             ],
             [
              0.6666666666666666,
              "#ed7953"
             ],
             [
              0.7777777777777778,
              "#fb9f3a"
             ],
             [
              0.8888888888888888,
              "#fdca26"
             ],
             [
              1,
              "#f0f921"
             ]
            ],
            "type": "heatmapgl"
           }
          ],
          "histogram": [
           {
            "marker": {
             "colorbar": {
              "outlinewidth": 0,
              "ticks": ""
             }
            },
            "type": "histogram"
           }
          ],
          "histogram2d": [
           {
            "colorbar": {
             "outlinewidth": 0,
             "ticks": ""
            },
            "colorscale": [
             [
              0,
              "#0d0887"
             ],
             [
              0.1111111111111111,
              "#46039f"
             ],
             [
              0.2222222222222222,
              "#7201a8"
             ],
             [
              0.3333333333333333,
              "#9c179e"
             ],
             [
              0.4444444444444444,
              "#bd3786"
             ],
             [
              0.5555555555555556,
              "#d8576b"
             ],
             [
              0.6666666666666666,
              "#ed7953"
             ],
             [
              0.7777777777777778,
              "#fb9f3a"
             ],
             [
              0.8888888888888888,
              "#fdca26"
             ],
             [
              1,
              "#f0f921"
             ]
            ],
            "type": "histogram2d"
           }
          ],
          "histogram2dcontour": [
           {
            "colorbar": {
             "outlinewidth": 0,
             "ticks": ""
            },
            "colorscale": [
             [
              0,
              "#0d0887"
             ],
             [
              0.1111111111111111,
              "#46039f"
             ],
             [
              0.2222222222222222,
              "#7201a8"
             ],
             [
              0.3333333333333333,
              "#9c179e"
             ],
             [
              0.4444444444444444,
              "#bd3786"
             ],
             [
              0.5555555555555556,
              "#d8576b"
             ],
             [
              0.6666666666666666,
              "#ed7953"
             ],
             [
              0.7777777777777778,
              "#fb9f3a"
             ],
             [
              0.8888888888888888,
              "#fdca26"
             ],
             [
              1,
              "#f0f921"
             ]
            ],
            "type": "histogram2dcontour"
           }
          ],
          "mesh3d": [
           {
            "colorbar": {
             "outlinewidth": 0,
             "ticks": ""
            },
            "type": "mesh3d"
           }
          ],
          "parcoords": [
           {
            "line": {
             "colorbar": {
              "outlinewidth": 0,
              "ticks": ""
             }
            },
            "type": "parcoords"
           }
          ],
          "pie": [
           {
            "automargin": true,
            "type": "pie"
           }
          ],
          "scatter": [
           {
            "marker": {
             "colorbar": {
              "outlinewidth": 0,
              "ticks": ""
             }
            },
            "type": "scatter"
           }
          ],
          "scatter3d": [
           {
            "line": {
             "colorbar": {
              "outlinewidth": 0,
              "ticks": ""
             }
            },
            "marker": {
             "colorbar": {
              "outlinewidth": 0,
              "ticks": ""
             }
            },
            "type": "scatter3d"
           }
          ],
          "scattercarpet": [
           {
            "marker": {
             "colorbar": {
              "outlinewidth": 0,
              "ticks": ""
             }
            },
            "type": "scattercarpet"
           }
          ],
          "scattergeo": [
           {
            "marker": {
             "colorbar": {
              "outlinewidth": 0,
              "ticks": ""
             }
            },
            "type": "scattergeo"
           }
          ],
          "scattergl": [
           {
            "marker": {
             "colorbar": {
              "outlinewidth": 0,
              "ticks": ""
             }
            },
            "type": "scattergl"
           }
          ],
          "scattermapbox": [
           {
            "marker": {
             "colorbar": {
              "outlinewidth": 0,
              "ticks": ""
             }
            },
            "type": "scattermapbox"
           }
          ],
          "scatterpolar": [
           {
            "marker": {
             "colorbar": {
              "outlinewidth": 0,
              "ticks": ""
             }
            },
            "type": "scatterpolar"
           }
          ],
          "scatterpolargl": [
           {
            "marker": {
             "colorbar": {
              "outlinewidth": 0,
              "ticks": ""
             }
            },
            "type": "scatterpolargl"
           }
          ],
          "scatterternary": [
           {
            "marker": {
             "colorbar": {
              "outlinewidth": 0,
              "ticks": ""
             }
            },
            "type": "scatterternary"
           }
          ],
          "surface": [
           {
            "colorbar": {
             "outlinewidth": 0,
             "ticks": ""
            },
            "colorscale": [
             [
              0,
              "#0d0887"
             ],
             [
              0.1111111111111111,
              "#46039f"
             ],
             [
              0.2222222222222222,
              "#7201a8"
             ],
             [
              0.3333333333333333,
              "#9c179e"
             ],
             [
              0.4444444444444444,
              "#bd3786"
             ],
             [
              0.5555555555555556,
              "#d8576b"
             ],
             [
              0.6666666666666666,
              "#ed7953"
             ],
             [
              0.7777777777777778,
              "#fb9f3a"
             ],
             [
              0.8888888888888888,
              "#fdca26"
             ],
             [
              1,
              "#f0f921"
             ]
            ],
            "type": "surface"
           }
          ],
          "table": [
           {
            "cells": {
             "fill": {
              "color": "#EBF0F8"
             },
             "line": {
              "color": "white"
             }
            },
            "header": {
             "fill": {
              "color": "#C8D4E3"
             },
             "line": {
              "color": "white"
             }
            },
            "type": "table"
           }
          ]
         },
         "layout": {
          "annotationdefaults": {
           "arrowcolor": "#2a3f5f",
           "arrowhead": 0,
           "arrowwidth": 1
          },
          "autotypenumbers": "strict",
          "coloraxis": {
           "colorbar": {
            "outlinewidth": 0,
            "ticks": ""
           }
          },
          "colorscale": {
           "diverging": [
            [
             0,
             "#8e0152"
            ],
            [
             0.1,
             "#c51b7d"
            ],
            [
             0.2,
             "#de77ae"
            ],
            [
             0.3,
             "#f1b6da"
            ],
            [
             0.4,
             "#fde0ef"
            ],
            [
             0.5,
             "#f7f7f7"
            ],
            [
             0.6,
             "#e6f5d0"
            ],
            [
             0.7,
             "#b8e186"
            ],
            [
             0.8,
             "#7fbc41"
            ],
            [
             0.9,
             "#4d9221"
            ],
            [
             1,
             "#276419"
            ]
           ],
           "sequential": [
            [
             0,
             "#0d0887"
            ],
            [
             0.1111111111111111,
             "#46039f"
            ],
            [
             0.2222222222222222,
             "#7201a8"
            ],
            [
             0.3333333333333333,
             "#9c179e"
            ],
            [
             0.4444444444444444,
             "#bd3786"
            ],
            [
             0.5555555555555556,
             "#d8576b"
            ],
            [
             0.6666666666666666,
             "#ed7953"
            ],
            [
             0.7777777777777778,
             "#fb9f3a"
            ],
            [
             0.8888888888888888,
             "#fdca26"
            ],
            [
             1,
             "#f0f921"
            ]
           ],
           "sequentialminus": [
            [
             0,
             "#0d0887"
            ],
            [
             0.1111111111111111,
             "#46039f"
            ],
            [
             0.2222222222222222,
             "#7201a8"
            ],
            [
             0.3333333333333333,
             "#9c179e"
            ],
            [
             0.4444444444444444,
             "#bd3786"
            ],
            [
             0.5555555555555556,
             "#d8576b"
            ],
            [
             0.6666666666666666,
             "#ed7953"
            ],
            [
             0.7777777777777778,
             "#fb9f3a"
            ],
            [
             0.8888888888888888,
             "#fdca26"
            ],
            [
             1,
             "#f0f921"
            ]
           ]
          },
          "colorway": [
           "#636efa",
           "#EF553B",
           "#00cc96",
           "#ab63fa",
           "#FFA15A",
           "#19d3f3",
           "#FF6692",
           "#B6E880",
           "#FF97FF",
           "#FECB52"
          ],
          "font": {
           "color": "#2a3f5f"
          },
          "geo": {
           "bgcolor": "white",
           "lakecolor": "white",
           "landcolor": "#E5ECF6",
           "showlakes": true,
           "showland": true,
           "subunitcolor": "white"
          },
          "hoverlabel": {
           "align": "left"
          },
          "hovermode": "closest",
          "mapbox": {
           "style": "light"
          },
          "paper_bgcolor": "white",
          "plot_bgcolor": "#E5ECF6",
          "polar": {
           "angularaxis": {
            "gridcolor": "white",
            "linecolor": "white",
            "ticks": ""
           },
           "bgcolor": "#E5ECF6",
           "radialaxis": {
            "gridcolor": "white",
            "linecolor": "white",
            "ticks": ""
           }
          },
          "scene": {
           "xaxis": {
            "backgroundcolor": "#E5ECF6",
            "gridcolor": "white",
            "gridwidth": 2,
            "linecolor": "white",
            "showbackground": true,
            "ticks": "",
            "zerolinecolor": "white"
           },
           "yaxis": {
            "backgroundcolor": "#E5ECF6",
            "gridcolor": "white",
            "gridwidth": 2,
            "linecolor": "white",
            "showbackground": true,
            "ticks": "",
            "zerolinecolor": "white"
           },
           "zaxis": {
            "backgroundcolor": "#E5ECF6",
            "gridcolor": "white",
            "gridwidth": 2,
            "linecolor": "white",
            "showbackground": true,
            "ticks": "",
            "zerolinecolor": "white"
           }
          },
          "shapedefaults": {
           "line": {
            "color": "#2a3f5f"
           }
          },
          "ternary": {
           "aaxis": {
            "gridcolor": "white",
            "linecolor": "white",
            "ticks": ""
           },
           "baxis": {
            "gridcolor": "white",
            "linecolor": "white",
            "ticks": ""
           },
           "bgcolor": "#E5ECF6",
           "caxis": {
            "gridcolor": "white",
            "linecolor": "white",
            "ticks": ""
           }
          },
          "title": {
           "x": 0.05
          },
          "xaxis": {
           "automargin": true,
           "gridcolor": "white",
           "linecolor": "white",
           "ticks": "",
           "title": {
            "standoff": 15
           },
           "zerolinecolor": "white",
           "zerolinewidth": 2
          },
          "yaxis": {
           "automargin": true,
           "gridcolor": "white",
           "linecolor": "white",
           "ticks": "",
           "title": {
            "standoff": 15
           },
           "zerolinecolor": "white",
           "zerolinewidth": 2
          }
         }
        },
        "title": {
         "text": "Rompimento7Dias x Rompimento 28 Dias"
        },
        "xaxis": {
         "anchor": "y",
         "domain": [
          0,
          1
         ],
         "title": {
          "text": "RelacaoAguaCimento"
         }
        },
        "yaxis": {
         "anchor": "x",
         "domain": [
          0,
          1
         ],
         "title": {
          "text": "Rompimento28Dias"
         }
        }
       }
      },
      "text/html": [
       "<div>                            <div id=\"2bcf5700-33e9-48de-b1bf-5620d1783ca1\" class=\"plotly-graph-div\" style=\"height:525px; width:100%;\"></div>            <script type=\"text/javascript\">                require([\"plotly\"], function(Plotly) {                    window.PLOTLYENV=window.PLOTLYENV || {};                                    if (document.getElementById(\"2bcf5700-33e9-48de-b1bf-5620d1783ca1\")) {                    Plotly.newPlot(                        \"2bcf5700-33e9-48de-b1bf-5620d1783ca1\",                        [{\"hovertemplate\": \"RelacaoAguaCimento=%{x}<br>Rompimento28Dias=%{y}<extra></extra>\", \"legendgroup\": \"\", \"marker\": {\"color\": \"#636efa\", \"symbol\": \"circle\"}, \"mode\": \"markers\", \"name\": \"\", \"orientation\": \"v\", \"showlegend\": false, \"type\": \"scatter\", \"x\": [0.5386740331491713, 0.559375, 0.678125, 0.678125, 0.678125, 0.5802469135802469, 0.5802469135802469, 0.5802469135802469, 0.6697530864197531, 0.616822429906542, 0.616822429906542, 0.616822429906542, 0.616822429906542, 0.9230769230769232, 0.9123711340206184, 0.5338983050847458, 0.5282485875706214, 0.5338983050847458, 0.5338983050847458, 0.5338983050847458, 0.5338983050847458, 0.5338983050847458, 0.53954802259887, 0.4932975871313673, 0.4932975871313673, 0.4932975871313673, 0.4932975871313673, 0.4932975871313673, 0.4932975871313673, 0.4423592493297587, 0.4060913705583756, 0.4060913705583756, 0.4060913705583756, 0.4060913705583756, 0.4060913705583756, 0.4060913705583756, 0.4060913705583756, 0.4060913705583756, 0.4342053885201093, 0.44416243654822335, 0.4289340101522843, 0.434010152284264, 0.434010152284264, 0.434010152284264, 0.434010152284264, 0.434010152284264, 0.4137055837563452, 0.4137055837563452, 0.4060913705583756, 0.4060913705583756, 0.4060913705583756, 0.4060913705583756, 0.39867239359625145, 0.5412087912087912, 0.5412087912087912, 0.5412087912087912, 0.5412087912087912, 0.5412087912087912, 0.5412087912087912, 0.5412087912087912, 0.5412087912087912, 0.5412087912087912, 0.4120879120879121, 0.4120879120879121, 0.5420054200542005, 0.5311653116531165, 0.6182572614107884, 0.6182572614107884, 0.6182572614107884, 0.6182572614107884, 0.6016597510373444, 0.5518672199170125, 0.5684647302904564, 0.5601659751037344, 0.5601659751037344, 0.5684647302904564, 0.5684647302904564, 0.7811158798283262, 0.8127853881278538, 0.8127853881278538, 0.8264840182648402, 0.8401826484018264, 0.8401826484018264, 0.8401826484018264, 0.8401826484018264, 0.8401826484018264, 0.8401826484018264, 0.8264840182648402, 0.8264840182648402, 0.8264840182648402, 0.8264840182648402, 0.776824034334764, 0.7552742616033755, 0.7412280701754386, 0.7324561403508771, 0.4303477344573235, 0.475, 0.5175, 0.4825, 0.4825, 0.4825, 0.4825, 0.4825, 0.4825, 0.4825, 0.5, 0.5376712328767124, 0.5958904109589042, 0.5958904109589042, 0.5682656826568265, 0.5709342560553633, 0.5709342560553633, 0.5709342560553633, 0.5605536332179931, 0.5605536332179931, 0.5190311418685121, 0.6794425087108014, 0.6832740213523132, 0.6832740213523132, 0.5587188612099644, 0.4937106918238994, 0.4937106918238994, 0.4622641509433962, 0.4622641509433962, 0.4622641509433962, 0.4622641509433962, 0.4716981132075472, 0.4716981132075472, 0.6146496815286624, 0.6372881355932203, 0.6324503311258278, 0.6324503311258278, 0.6490066225165563, 0.6490066225165563, 0.6490066225165563, 0.6357615894039735, 0.6158940397350994, 0.6158940397350994, 0.6158940397350994, 0.6158940397350994, 0.6096774193548387, 0.6096774193548387, 0.6096774193548387, 0.6096774193548387, 0.6096774193548387, 0.6096774193548387, 0.6096774193548387, 0.6141479099678456, 0.6187290969899666, 0.6220735785953178, 0.6287625418060201, 0.6472602739726028, 0.6267123287671232, 0.6702898550724637, 0.6702898550724637, 0.6702898550724637, 0.6702898550724637, 0.6702898550724637, 0.7105263157894737, 0.7105263157894737, 0.7269230769230769, 0.7142857142857143, 0.7142857142857143, 0.7255639097744361, 0.6084142394822006, 0.5125, 0.5125, 0.5225, 0.5225, 0.5225, 0.5225, 0.5, 0.4925, 0.4925, 0.4925, 0.4925, 0.4925, 0.4825, 0.41116751269035534, 0.5588235294117647, 0.5, 0.5, 0.5330882352941176, 0.5073529411764706, 0.5073529411764706, 0.5073529411764706, 0.5183823529411765, 0.5183823529411765, 0.5588235294117647, 0.5183823529411765, 0.5183823529411765, 0.5183823529411765, 0.5187165775401069, 0.703125, 0.703125, 0.703125, 0.6908396946564885, 0.6717557251908397, 0.6856060606060606, 0.678030303030303, 0.6590909090909091, 0.6856060606060606, 0.6439393939393939, 0.6856060606060606, 0.6856060606060606, 0.6856060606060606, 0.6818181818181818, 0.6818181818181818, 0.7131147540983607, 0.7377049180327869, 0.639344262295082, 0.6311475409836066, 0.6311475409836066, 0.6311475409836066, 0.6309012875536479, 0.7665198237885462, 0.8017621145374451, 0.7841409691629956, 0.8144796380090498, 0.8017621145374451, 0.6893939393939394, 0.5359712230215827, 0.5035971223021583, 0.5179856115107914, 0.5359712230215827, 0.68, 0.4861538461538462, 0.4861538461538462, 0.4646153846153846, 0.4646153846153846, 0.4646153846153846, 0.4738461538461538, 0.4738461538461538, 0.4953846153846154, 0.4953846153846154, 0.4953846153846154, 0.4953846153846154, 0.4953846153846154, 0.4953846153846154, 0.6132075471698113, 0.610062893081761, 0.610062893081761, 0.5835866261398176, 0.5835866261398176, 0.5835866261398176, 0.5927051671732523, 0.5927051671732523, 0.5927051671732523, 0.5927051671732523, 0.5927051671732523, 0.5927051671732523, 0.5927051671732523, 0.6416938110749185, 0.6416938110749185, 0.6175548589341693, 0.6175548589341693, 0.6175548589341693, 0.5422885572139303, 0.5422885572139303, 0.4951690821256038, 0.6261682242990654, 0.6261682242990654, 0.6261682242990654, 0.6261682242990654, 0.6261682242990654, 0.6323987538940811, 0.6323987538940811, 0.6326064382139148, 0.7208480565371025, 0.7326007326007326, 0.746268656716418, 0.7326007326007326, 0.7326007326007326, 0.7352941176470589, 0.7670682730923695, 0.7670682730923695, 0.7991803278688525, 0.6797153024911032, 0.6797153024911032, 0.6797153024911032, 0.6797153024911032, 0.7089552238805971, 0.7089552238805971, 0.7089552238805971, 0.7089552238805971, 0.7276119402985075, 0.7276119402985075, 0.7089552238805971, 0.6902985074626866, 0.6902985074626866, 0.6902985074626866, 0.6902985074626866, 0.7014925373134329, 0.7014925373134329, 0.6925894618202311, 0.6992481203007519, 0.7014925373134329, 0.7014925373134329, 0.6865671641791045, 0.6581818181818182, 0.6436363636363637, 0.509090909090909, 0.509090909090909, 0.509090909090909, 0.7391304347826086, 0.7391304347826086, 0.7391304347826086, 0.7391304347826086, 0.7391304347826086, 0.7391304347826086, 0.7391304347826086, 0.7470355731225297, 0.7470355731225297, 0.7470355731225297, 0.7233201581027668, 0.7233201581027668, 0.7233201581027668, 0.7233201581027668, 0.7233201581027668, 0.7233201581027668, 0.7233201581027668, 0.7233201581027668, 0.7233201581027668, 0.7430830039525692, 0.7391304347826086, 0.7391304347826086, 0.7391304347826086, 0.7391304347826086, 0.7401574803149606, 0.7322834645669292, 0.7401574803149606, 0.7401574803149606, 0.7401574803149606, 0.7401574803149606, 0.7401574803149606, 0.8430493273542601, 0.8209606986899564, 0.8384279475982532, 0.8209606986899564, 0.8384279475982532, 0.8296943231441049, 0.8296943231441049, 0.8296943231441049, 0.8296943231441049, 0.852017937219731, 0.8296943231441049, 0.852017937219731, 0.8296943231441049, 0.8384279475982532, 0.8427947598253275, 0.8427947598253275, 0.8427947598253275, 0.7161572052401747, 0.7161572052401747, 0.7161572052401747, 0.7161572052401747, 0.7161572052401747, 0.7116104868913857, 0.704119850187266, 0.7203065134099617, 0.6859205776173285, 0.6859205776173285, 0.6859205776173285, 0.6859205776173285, 0.6859205776173285, 0.6859205776173285, 0.6787003610108303, 0.6787003610108303, 0.5837837837837838, 0.5783783783783784, 0.5783783783783784, 0.5783783783783784, 0.5783783783783784, 0.5783783783783784, 0.6101694915254238, 0.6044749188018765, 0.5947712418300654, 0.5947712418300654, 0.5947712418300654, 0.5980392156862745, 0.5980392156862745, 0.6405228758169934, 0.6405228758169934, 0.5855855855855856, 0.5855855855855856, 0.5855855855855856, 0.5855855855855856, 0.5855855855855856, 0.5855855855855856, 0.5825825825825826, 0.5825825825825826, 0.5825825825825826, 0.486646884272997, 0.486646884272997, 0.486646884272997, 0.4875621890547264, 0.4875621890547264, 0.4875621890547264, 0.4875621890547264, 0.41791044776119396, 0.41791044776119396, 0.41791044776119396, 0.482587064676617, 0.482587064676617, 0.482587064676617, 0.482587064676617, 0.482587064676617, 0.482587064676617, 0.482587064676617, 0.7738095238095238, 0.7658730158730159, 0.6113289760348584, 0.6113289760348584, 0.6274509803921569, 0.6274509803921569, 0.6274509803921569, 0.6111111111111112, 0.6158536585365854, 0.5911764705882353, 0.5970588235294118, 0.5941176470588235, 0.5941176470588235, 0.5941176470588235, 0.5941176470588235, 0.5941176470588235, 0.5941176470588235, 0.5852941176470589, 0.5852941176470589, 0.5941176470588235, 0.5941176470588235, 0.6349206349206349, 0.6349206349206349, 0.6349206349206349, 0.6349206349206349, 0.6285714285714286, 0.6317460317460317, 0.6317460317460317, 0.6822742474916388, 0.6666666666666666, 0.6925795053003534, 0.6925795053003534, 0.6925795053003534, 0.6925795053003534, 0.8, 0.5396419437340153, 0.5396419437340153, 0.5396419437340153, 0.5370843989769821, 0.6881028938906752, 0.480952380952381, 0.4880952380952381, 0.4880952380952381, 0.554016620498615, 0.554016620498615, 0.6391752577319587, 0.7052631578947368, 0.6779661016949152, 0.6779661016949152, 0.688135593220339, 0.688135593220339, 0.8546255506607929, 0.8595203132648067, 0.76171875, 0.55, 0.55, 0.55], \"xaxis\": \"x\", \"y\": [35.08, 33.4, 31.72, 31.12, 28.39, 29.7, 27.47, 27.61, 31.63, 26.3, 27.13, 22.49, 24.66, 16.96, 20.15, 30.93, 31.9, 31.3, 30.83, 31.02, 30.3, 30.6, 30.6, 33.52, 32.47, 32.41, 32.14, 33.9, 32.83, 35.01, 51.28, 43.52, 42.89, 49.06, 44.21, 45.48, 44.6, 38.14, 33.43, 46.48, 46.74, 46.78, 42.62, 46.6, 46.46, 52.0, 49.79, 51.63, 49.51, 41.84, 38.95, 52.97, 49.15, 33.26, 33.77, 38.85, 37.04, 35.9, 37.06, 36.23, 33.84, 36.62, 33.86, 36.65, 34.59, 37.24, 25.32, 26.27, 25.46, 28.11, 30.02, 25.0, 31.89, 30.4, 30.58, 32.55, 27.38, 23.81, 22.79, 20.28, 23.33, 24.34, 20.74, 18.1, 21.53, 22.81, 20.43, 21.72, 20.52, 23.31, 22.72, 22.04, 24.11, 26.34, 25.23, 39.12, 34.09, 31.18, 31.25, 30.49, 31.01, 34.94, 34.73, 33.26, 30.4, 39.45, 36.56, 37.59, 34.38, 27.27, 26.77, 24.99, 26.67, 29.5, 29.06, 31.79, 27.15, 28.49, 29.67, 28.73, 38.37, 37.64, 44.87, 43.54, 45.08, 37.38, 44.91, 37.72, 35.68, 31.77, 30.22, 32.61, 33.11, 36.06, 33.79, 31.01, 34.14, 36.59, 32.32, 36.4, 35.01, 36.48, 35.68, 37.27, 38.2, 39.58, 41.4, 38.88, 37.34, 33.03, 37.85, 36.12, 41.45, 32.42, 33.51, 37.2, 33.63, 38.44, 32.46, 32.78, 28.08, 33.8, 30.87, 26.86, 40.19, 38.51, 39.11, 43.12, 39.79, 38.92, 40.86, 42.29, 33.2, 34.45, 38.18, 43.15, 37.24, 34.5, 45.71, 29.78, 27.93, 30.76, 35.22, 36.01, 29.84, 30.51, 28.5, 32.35, 34.28, 32.74, 33.45, 33.71, 30.4, 29.56, 27.56, 28.85, 29.74, 30.78, 28.53, 31.74, 32.92, 35.62, 38.09, 36.31, 37.81, 35.4, 36.2, 35.11, 30.0, 26.39, 27.87, 28.99, 25.41, 25.14, 29.98, 25.54, 25.21, 32.73, 25.01, 24.54, 34.88, 29.67, 30.69, 36.28, 34.07, 28.25, 37.54, 39.53, 31.48, 29.69, 32.49, 35.22, 34.09, 35.22, 33.79, 37.96, 37.03, 37.66, 40.0, 32.44, 35.92, 31.86, 35.2, 35.89, 35.39, 40.53, 40.14, 34.91, 38.42, 36.59, 30.88, 34.0, 32.64, 30.87, 35.15, 31.94, 35.39, 37.73, 37.77, 32.05, 38.36, 42.61, 43.19, 38.3, 37.46, 31.07, 32.51, 33.02, 38.61, 28.72, 30.44, 30.26, 27.53, 34.54, 26.54, 27.39, 21.2, 33.9, 31.71, 34.49, 35.72, 27.98, 26.02, 29.0, 27.06, 26.39, 24.03, 33.17, 27.43, 31.39, 28.41, 30.16, 29.92, 30.02, 29.46, 27.31, 28.38, 29.64, 30.5, 40.23, 39.69, 35.81, 34.7, 38.75, 30.32, 35.07, 29.37, 33.09, 31.39, 31.19, 31.76, 33.84, 30.49, 34.47, 29.24, 31.72, 38.11, 35.69, 37.13, 34.04, 33.82, 32.46, 30.58, 29.93, 34.49, 38.16, 32.56, 32.54, 32.31, 32.6, 29.51, 31.26, 32.16, 31.26, 33.01, 21.27, 23.67, 25.79, 29.67, 27.15, 22.14, 25.69, 23.59, 27.62, 24.96, 22.79, 22.12, 22.21, 22.79, 26.82, 25.29, 32.84, 26.07, 25.56, 26.66, 27.64, 26.95, 32.4, 27.28, 27.28, 29.56, 31.61, 37.24, 33.4, 36.56, 37.67, 33.07, 34.88, 39.48, 37.77, 41.83, 40.1, 39.59, 40.66, 31.24, 40.21, 39.14, 36.4, 38.04, 40.48, 36.24, 35.22, 37.81, 25.1, 26.16, 29.65, 25.89, 28.43, 27.34, 28.71, 30.68, 27.69, 33.25, 31.54, 28.22, 32.02, 38.06, 37.31, 33.48, 38.79, 42.01, 38.08, 34.63, 28.4, 32.64, 33.01, 38.7, 33.66, 34.69, 22.25, 27.36, 31.42, 31.74, 30.62, 29.6, 28.29, 37.17, 34.45, 37.54, 39.44, 42.79, 37.86, 37.46, 36.98, 41.96, 44.3, 39.97, 42.35, 37.32, 36.4, 35.29, 35.55, 33.93, 34.74, 36.2, 32.68, 30.0, 30.44, 31.34, 29.48, 33.72, 28.94, 34.8, 21.92, 33.07, 31.74, 29.56, 37.04, 34.65, 33.19, 34.38, 36.17, 49.94, 38.19, 28.88, 28.01, 29.1, 32.45, 25.68, 31.51, 22.32, 20.79, 33.29, 49.8, 48.35, 46.11], \"yaxis\": \"y\"}],                        {\"legend\": {\"tracegroupgap\": 0}, \"template\": {\"data\": {\"bar\": [{\"error_x\": {\"color\": \"#2a3f5f\"}, \"error_y\": {\"color\": \"#2a3f5f\"}, \"marker\": {\"line\": {\"color\": \"#E5ECF6\", \"width\": 0.5}}, \"type\": \"bar\"}], \"barpolar\": [{\"marker\": {\"line\": {\"color\": \"#E5ECF6\", \"width\": 0.5}}, \"type\": \"barpolar\"}], \"carpet\": [{\"aaxis\": {\"endlinecolor\": \"#2a3f5f\", \"gridcolor\": \"white\", \"linecolor\": \"white\", \"minorgridcolor\": \"white\", \"startlinecolor\": \"#2a3f5f\"}, \"baxis\": {\"endlinecolor\": \"#2a3f5f\", \"gridcolor\": \"white\", \"linecolor\": \"white\", \"minorgridcolor\": \"white\", \"startlinecolor\": \"#2a3f5f\"}, \"type\": \"carpet\"}], \"choropleth\": [{\"colorbar\": {\"outlinewidth\": 0, \"ticks\": \"\"}, \"type\": \"choropleth\"}], \"contour\": [{\"colorbar\": {\"outlinewidth\": 0, \"ticks\": \"\"}, \"colorscale\": [[0.0, \"#0d0887\"], [0.1111111111111111, \"#46039f\"], [0.2222222222222222, \"#7201a8\"], [0.3333333333333333, \"#9c179e\"], [0.4444444444444444, \"#bd3786\"], [0.5555555555555556, \"#d8576b\"], [0.6666666666666666, \"#ed7953\"], [0.7777777777777778, \"#fb9f3a\"], [0.8888888888888888, \"#fdca26\"], [1.0, \"#f0f921\"]], \"type\": \"contour\"}], \"contourcarpet\": [{\"colorbar\": {\"outlinewidth\": 0, \"ticks\": \"\"}, \"type\": \"contourcarpet\"}], \"heatmap\": [{\"colorbar\": {\"outlinewidth\": 0, \"ticks\": \"\"}, \"colorscale\": [[0.0, \"#0d0887\"], [0.1111111111111111, \"#46039f\"], [0.2222222222222222, \"#7201a8\"], [0.3333333333333333, \"#9c179e\"], [0.4444444444444444, \"#bd3786\"], [0.5555555555555556, \"#d8576b\"], [0.6666666666666666, \"#ed7953\"], [0.7777777777777778, \"#fb9f3a\"], [0.8888888888888888, \"#fdca26\"], [1.0, \"#f0f921\"]], \"type\": \"heatmap\"}], \"heatmapgl\": [{\"colorbar\": {\"outlinewidth\": 0, \"ticks\": \"\"}, \"colorscale\": [[0.0, \"#0d0887\"], [0.1111111111111111, \"#46039f\"], [0.2222222222222222, \"#7201a8\"], [0.3333333333333333, \"#9c179e\"], [0.4444444444444444, \"#bd3786\"], [0.5555555555555556, \"#d8576b\"], [0.6666666666666666, \"#ed7953\"], [0.7777777777777778, \"#fb9f3a\"], [0.8888888888888888, \"#fdca26\"], [1.0, \"#f0f921\"]], \"type\": \"heatmapgl\"}], \"histogram\": [{\"marker\": {\"colorbar\": {\"outlinewidth\": 0, \"ticks\": \"\"}}, \"type\": \"histogram\"}], \"histogram2d\": [{\"colorbar\": {\"outlinewidth\": 0, \"ticks\": \"\"}, \"colorscale\": [[0.0, \"#0d0887\"], [0.1111111111111111, \"#46039f\"], [0.2222222222222222, \"#7201a8\"], [0.3333333333333333, \"#9c179e\"], [0.4444444444444444, \"#bd3786\"], [0.5555555555555556, \"#d8576b\"], [0.6666666666666666, \"#ed7953\"], [0.7777777777777778, \"#fb9f3a\"], [0.8888888888888888, \"#fdca26\"], [1.0, \"#f0f921\"]], \"type\": \"histogram2d\"}], \"histogram2dcontour\": [{\"colorbar\": {\"outlinewidth\": 0, \"ticks\": \"\"}, \"colorscale\": [[0.0, \"#0d0887\"], [0.1111111111111111, \"#46039f\"], [0.2222222222222222, \"#7201a8\"], [0.3333333333333333, \"#9c179e\"], [0.4444444444444444, \"#bd3786\"], [0.5555555555555556, \"#d8576b\"], [0.6666666666666666, \"#ed7953\"], [0.7777777777777778, \"#fb9f3a\"], [0.8888888888888888, \"#fdca26\"], [1.0, \"#f0f921\"]], \"type\": \"histogram2dcontour\"}], \"mesh3d\": [{\"colorbar\": {\"outlinewidth\": 0, \"ticks\": \"\"}, \"type\": \"mesh3d\"}], \"parcoords\": [{\"line\": {\"colorbar\": {\"outlinewidth\": 0, \"ticks\": \"\"}}, \"type\": \"parcoords\"}], \"pie\": [{\"automargin\": true, \"type\": \"pie\"}], \"scatter\": [{\"marker\": {\"colorbar\": {\"outlinewidth\": 0, \"ticks\": \"\"}}, \"type\": \"scatter\"}], \"scatter3d\": [{\"line\": {\"colorbar\": {\"outlinewidth\": 0, \"ticks\": \"\"}}, \"marker\": {\"colorbar\": {\"outlinewidth\": 0, \"ticks\": \"\"}}, \"type\": \"scatter3d\"}], \"scattercarpet\": [{\"marker\": {\"colorbar\": {\"outlinewidth\": 0, \"ticks\": \"\"}}, \"type\": \"scattercarpet\"}], \"scattergeo\": [{\"marker\": {\"colorbar\": {\"outlinewidth\": 0, \"ticks\": \"\"}}, \"type\": \"scattergeo\"}], \"scattergl\": [{\"marker\": {\"colorbar\": {\"outlinewidth\": 0, \"ticks\": \"\"}}, \"type\": \"scattergl\"}], \"scattermapbox\": [{\"marker\": {\"colorbar\": {\"outlinewidth\": 0, \"ticks\": \"\"}}, \"type\": \"scattermapbox\"}], \"scatterpolar\": [{\"marker\": {\"colorbar\": {\"outlinewidth\": 0, \"ticks\": \"\"}}, \"type\": \"scatterpolar\"}], \"scatterpolargl\": [{\"marker\": {\"colorbar\": {\"outlinewidth\": 0, \"ticks\": \"\"}}, \"type\": \"scatterpolargl\"}], \"scatterternary\": [{\"marker\": {\"colorbar\": {\"outlinewidth\": 0, \"ticks\": \"\"}}, \"type\": \"scatterternary\"}], \"surface\": [{\"colorbar\": {\"outlinewidth\": 0, \"ticks\": \"\"}, \"colorscale\": [[0.0, \"#0d0887\"], [0.1111111111111111, \"#46039f\"], [0.2222222222222222, \"#7201a8\"], [0.3333333333333333, \"#9c179e\"], [0.4444444444444444, \"#bd3786\"], [0.5555555555555556, \"#d8576b\"], [0.6666666666666666, \"#ed7953\"], [0.7777777777777778, \"#fb9f3a\"], [0.8888888888888888, \"#fdca26\"], [1.0, \"#f0f921\"]], \"type\": \"surface\"}], \"table\": [{\"cells\": {\"fill\": {\"color\": \"#EBF0F8\"}, \"line\": {\"color\": \"white\"}}, \"header\": {\"fill\": {\"color\": \"#C8D4E3\"}, \"line\": {\"color\": \"white\"}}, \"type\": \"table\"}]}, \"layout\": {\"annotationdefaults\": {\"arrowcolor\": \"#2a3f5f\", \"arrowhead\": 0, \"arrowwidth\": 1}, \"autotypenumbers\": \"strict\", \"coloraxis\": {\"colorbar\": {\"outlinewidth\": 0, \"ticks\": \"\"}}, \"colorscale\": {\"diverging\": [[0, \"#8e0152\"], [0.1, \"#c51b7d\"], [0.2, \"#de77ae\"], [0.3, \"#f1b6da\"], [0.4, \"#fde0ef\"], [0.5, \"#f7f7f7\"], [0.6, \"#e6f5d0\"], [0.7, \"#b8e186\"], [0.8, \"#7fbc41\"], [0.9, \"#4d9221\"], [1, \"#276419\"]], \"sequential\": [[0.0, \"#0d0887\"], [0.1111111111111111, \"#46039f\"], [0.2222222222222222, \"#7201a8\"], [0.3333333333333333, \"#9c179e\"], [0.4444444444444444, \"#bd3786\"], [0.5555555555555556, \"#d8576b\"], [0.6666666666666666, \"#ed7953\"], [0.7777777777777778, \"#fb9f3a\"], [0.8888888888888888, \"#fdca26\"], [1.0, \"#f0f921\"]], \"sequentialminus\": [[0.0, \"#0d0887\"], [0.1111111111111111, \"#46039f\"], [0.2222222222222222, \"#7201a8\"], [0.3333333333333333, \"#9c179e\"], [0.4444444444444444, \"#bd3786\"], [0.5555555555555556, \"#d8576b\"], [0.6666666666666666, \"#ed7953\"], [0.7777777777777778, \"#fb9f3a\"], [0.8888888888888888, \"#fdca26\"], [1.0, \"#f0f921\"]]}, \"colorway\": [\"#636efa\", \"#EF553B\", \"#00cc96\", \"#ab63fa\", \"#FFA15A\", \"#19d3f3\", \"#FF6692\", \"#B6E880\", \"#FF97FF\", \"#FECB52\"], \"font\": {\"color\": \"#2a3f5f\"}, \"geo\": {\"bgcolor\": \"white\", \"lakecolor\": \"white\", \"landcolor\": \"#E5ECF6\", \"showlakes\": true, \"showland\": true, \"subunitcolor\": \"white\"}, \"hoverlabel\": {\"align\": \"left\"}, \"hovermode\": \"closest\", \"mapbox\": {\"style\": \"light\"}, \"paper_bgcolor\": \"white\", \"plot_bgcolor\": \"#E5ECF6\", \"polar\": {\"angularaxis\": {\"gridcolor\": \"white\", \"linecolor\": \"white\", \"ticks\": \"\"}, \"bgcolor\": \"#E5ECF6\", \"radialaxis\": {\"gridcolor\": \"white\", \"linecolor\": \"white\", \"ticks\": \"\"}}, \"scene\": {\"xaxis\": {\"backgroundcolor\": \"#E5ECF6\", \"gridcolor\": \"white\", \"gridwidth\": 2, \"linecolor\": \"white\", \"showbackground\": true, \"ticks\": \"\", \"zerolinecolor\": \"white\"}, \"yaxis\": {\"backgroundcolor\": \"#E5ECF6\", \"gridcolor\": \"white\", \"gridwidth\": 2, \"linecolor\": \"white\", \"showbackground\": true, \"ticks\": \"\", \"zerolinecolor\": \"white\"}, \"zaxis\": {\"backgroundcolor\": \"#E5ECF6\", \"gridcolor\": \"white\", \"gridwidth\": 2, \"linecolor\": \"white\", \"showbackground\": true, \"ticks\": \"\", \"zerolinecolor\": \"white\"}}, \"shapedefaults\": {\"line\": {\"color\": \"#2a3f5f\"}}, \"ternary\": {\"aaxis\": {\"gridcolor\": \"white\", \"linecolor\": \"white\", \"ticks\": \"\"}, \"baxis\": {\"gridcolor\": \"white\", \"linecolor\": \"white\", \"ticks\": \"\"}, \"bgcolor\": \"#E5ECF6\", \"caxis\": {\"gridcolor\": \"white\", \"linecolor\": \"white\", \"ticks\": \"\"}}, \"title\": {\"x\": 0.05}, \"xaxis\": {\"automargin\": true, \"gridcolor\": \"white\", \"linecolor\": \"white\", \"ticks\": \"\", \"title\": {\"standoff\": 15}, \"zerolinecolor\": \"white\", \"zerolinewidth\": 2}, \"yaxis\": {\"automargin\": true, \"gridcolor\": \"white\", \"linecolor\": \"white\", \"ticks\": \"\", \"title\": {\"standoff\": 15}, \"zerolinecolor\": \"white\", \"zerolinewidth\": 2}}}, \"title\": {\"text\": \"Rompimento7Dias x Rompimento 28 Dias\"}, \"xaxis\": {\"anchor\": \"y\", \"domain\": [0.0, 1.0], \"title\": {\"text\": \"RelacaoAguaCimento\"}}, \"yaxis\": {\"anchor\": \"x\", \"domain\": [0.0, 1.0], \"title\": {\"text\": \"Rompimento28Dias\"}}},                        {\"responsive\": true}                    ).then(function(){\n",
       "                            \n",
       "var gd = document.getElementById('2bcf5700-33e9-48de-b1bf-5620d1783ca1');\n",
       "var x = new MutationObserver(function (mutations, observer) {{\n",
       "        var display = window.getComputedStyle(gd).display;\n",
       "        if (!display || display === 'none') {{\n",
       "            console.log([gd, 'removed!']);\n",
       "            Plotly.purge(gd);\n",
       "            observer.disconnect();\n",
       "        }}\n",
       "}});\n",
       "\n",
       "// Listen for the removal of the full notebook cells\n",
       "var notebookContainer = gd.closest('#notebook-container');\n",
       "if (notebookContainer) {{\n",
       "    x.observe(notebookContainer, {childList: true});\n",
       "}}\n",
       "\n",
       "// Listen for the clearing of the current output cell\n",
       "var outputEl = gd.closest('.output');\n",
       "if (outputEl) {{\n",
       "    x.observe(outputEl, {childList: true});\n",
       "}}\n",
       "\n",
       "                        })                };                });            </script>        </div>"
      ]
     },
     "metadata": {},
     "output_type": "display_data"
    }
   ],
   "source": [
    "fig = px.scatter(dados_aglomerante, x=\"RelacaoAguaCimento\", y=\"Rompimento28Dias\", title='Rompimento7Dias x Rompimento 28 Dias')\n",
    "fig.show()"
   ]
  },
  {
   "cell_type": "code",
   "execution_count": 78,
   "metadata": {},
   "outputs": [
    {
     "data": {
      "application/vnd.plotly.v1+json": {
       "config": {
        "plotlyServerURL": "https://plot.ly"
       },
       "data": [
        {
         "hovertemplate": "ConsumoPorM3=%{x}<br>RelacaoAguaCimento=%{y}<extra></extra>",
         "legendgroup": "",
         "marker": {
          "color": "#636efa",
          "symbol": "circle"
         },
         "mode": "markers",
         "name": "",
         "orientation": "v",
         "showlegend": false,
         "type": "scatter",
         "x": [
          362,
          320,
          320,
          320,
          320,
          324,
          324,
          324,
          324,
          214,
          214,
          214,
          214,
          194,
          354,
          354,
          354,
          354,
          354,
          354,
          354,
          354,
          373,
          373,
          373,
          373,
          373,
          373,
          373,
          394,
          394,
          394,
          394,
          394,
          394,
          394,
          394,
          394,
          394,
          394,
          394,
          394,
          394,
          394,
          364,
          364,
          364,
          364,
          364,
          364,
          364,
          364,
          364,
          364,
          364,
          369,
          369,
          241,
          241,
          241,
          241,
          241,
          241,
          241,
          241,
          241,
          241,
          241,
          233,
          219,
          219,
          219,
          219,
          219,
          219,
          219,
          219,
          219,
          219,
          219,
          219,
          219,
          233,
          237,
          228,
          228,
          365,
          400,
          400,
          400,
          400,
          400,
          400,
          400,
          400,
          400,
          400,
          292,
          292,
          292,
          271,
          289,
          289,
          289,
          289,
          289,
          289,
          287,
          281,
          281,
          281,
          318,
          318,
          318,
          318,
          318,
          318,
          318,
          318,
          314,
          295,
          302,
          302,
          302,
          302,
          302,
          302,
          302,
          302,
          302,
          302,
          310,
          310,
          310,
          310,
          310,
          310,
          310,
          311,
          299,
          299,
          299,
          292,
          292,
          276,
          276,
          276,
          276,
          276,
          266,
          266,
          260,
          266,
          266,
          266,
          309,
          400,
          400,
          400,
          400,
          400,
          400,
          400,
          400,
          400,
          400,
          400,
          400,
          400,
          394,
          272,
          272,
          272,
          272,
          272,
          272,
          272,
          272,
          272,
          272,
          272,
          272,
          272,
          272,
          256,
          256,
          256,
          262,
          262,
          264,
          264,
          264,
          264,
          264,
          264,
          264,
          264,
          264,
          264,
          244,
          244,
          244,
          244,
          244,
          244,
          233,
          227,
          227,
          227,
          221,
          227,
          264,
          278,
          278,
          278,
          278,
          275,
          325,
          325,
          325,
          325,
          325,
          325,
          325,
          325,
          325,
          325,
          325,
          325,
          325,
          318,
          318,
          318,
          329,
          329,
          329,
          329,
          329,
          329,
          329,
          329,
          329,
          329,
          307,
          307,
          319,
          319,
          319,
          402,
          402,
          414,
          321,
          321,
          321,
          321,
          321,
          321,
          321,
          321,
          283,
          273,
          268,
          273,
          273,
          272,
          249,
          249,
          244,
          281,
          281,
          281,
          281,
          268,
          268,
          268,
          268,
          268,
          268,
          268,
          268,
          268,
          268,
          268,
          268,
          268,
          273,
          266,
          268,
          268,
          268,
          275,
          275,
          275,
          275,
          275,
          253,
          253,
          253,
          253,
          253,
          253,
          253,
          253,
          253,
          253,
          253,
          253,
          253,
          253,
          253,
          253,
          253,
          253,
          253,
          253,
          253,
          253,
          253,
          253,
          254,
          254,
          254,
          254,
          254,
          254,
          254,
          223,
          229,
          229,
          229,
          229,
          229,
          229,
          229,
          229,
          223,
          229,
          223,
          229,
          229,
          229,
          229,
          229,
          229,
          229,
          229,
          229,
          229,
          267,
          267,
          261,
          277,
          277,
          277,
          277,
          277,
          277,
          277,
          277,
          370,
          370,
          370,
          370,
          370,
          370,
          354,
          326,
          306,
          306,
          306,
          306,
          306,
          306,
          306,
          333,
          333,
          333,
          333,
          333,
          333,
          333,
          333,
          333,
          337,
          337,
          337,
          402,
          402,
          402,
          402,
          402,
          402,
          402,
          402,
          402,
          402,
          402,
          402,
          402,
          402,
          252,
          252,
          306,
          306,
          306,
          306,
          306,
          306,
          328,
          340,
          340,
          340,
          340,
          340,
          340,
          340,
          340,
          340,
          340,
          340,
          340,
          315,
          315,
          315,
          315,
          315,
          315,
          315,
          299,
          306,
          283,
          283,
          283,
          283,
          250,
          391,
          391,
          391,
          391,
          311,
          420,
          420,
          420,
          361,
          291,
          285,
          295,
          295,
          295,
          295,
          227,
          227,
          256,
          380,
          380
         ],
         "xaxis": "x",
         "y": [
          0.5386740331491713,
          0.559375,
          0.678125,
          0.678125,
          0.678125,
          0.5802469135802469,
          0.5802469135802469,
          0.5802469135802469,
          0.6697530864197531,
          0.616822429906542,
          0.616822429906542,
          0.616822429906542,
          0.616822429906542,
          0.9123711340206184,
          0.5338983050847458,
          0.5282485875706214,
          0.5338983050847458,
          0.5338983050847458,
          0.5338983050847458,
          0.5338983050847458,
          0.5338983050847458,
          0.53954802259887,
          0.4932975871313673,
          0.4932975871313673,
          0.4932975871313673,
          0.4932975871313673,
          0.4932975871313673,
          0.4932975871313673,
          0.4423592493297587,
          0.4060913705583756,
          0.4060913705583756,
          0.4060913705583756,
          0.4060913705583756,
          0.4060913705583756,
          0.4060913705583756,
          0.4342053885201093,
          0.44416243654822335,
          0.4289340101522843,
          0.434010152284264,
          0.434010152284264,
          0.434010152284264,
          0.434010152284264,
          0.4060913705583756,
          0.4060913705583756,
          0.5412087912087912,
          0.5412087912087912,
          0.5412087912087912,
          0.5412087912087912,
          0.5412087912087912,
          0.5412087912087912,
          0.5412087912087912,
          0.5412087912087912,
          0.5412087912087912,
          0.4120879120879121,
          0.4120879120879121,
          0.5420054200542005,
          0.5311653116531165,
          0.6182572614107884,
          0.6182572614107884,
          0.6182572614107884,
          0.6182572614107884,
          0.6016597510373444,
          0.5518672199170125,
          0.5684647302904564,
          0.5601659751037344,
          0.5601659751037344,
          0.5684647302904564,
          0.5684647302904564,
          0.7811158798283262,
          0.8127853881278538,
          0.8127853881278538,
          0.8264840182648402,
          0.8401826484018264,
          0.8401826484018264,
          0.8401826484018264,
          0.8401826484018264,
          0.8401826484018264,
          0.8401826484018264,
          0.8264840182648402,
          0.8264840182648402,
          0.8264840182648402,
          0.8264840182648402,
          0.776824034334764,
          0.7552742616033755,
          0.7412280701754386,
          0.7324561403508771,
          0.4303477344573235,
          0.475,
          0.5175,
          0.4825,
          0.4825,
          0.4825,
          0.4825,
          0.4825,
          0.4825,
          0.4825,
          0.5,
          0.5376712328767124,
          0.5958904109589042,
          0.5958904109589042,
          0.5682656826568265,
          0.5709342560553633,
          0.5709342560553633,
          0.5709342560553633,
          0.5605536332179931,
          0.5605536332179931,
          0.5190311418685121,
          0.6794425087108014,
          0.6832740213523132,
          0.6832740213523132,
          0.5587188612099644,
          0.4937106918238994,
          0.4937106918238994,
          0.4622641509433962,
          0.4622641509433962,
          0.4622641509433962,
          0.4622641509433962,
          0.4716981132075472,
          0.4716981132075472,
          0.6146496815286624,
          0.6372881355932203,
          0.6324503311258278,
          0.6324503311258278,
          0.6490066225165563,
          0.6490066225165563,
          0.6490066225165563,
          0.6357615894039735,
          0.6158940397350994,
          0.6158940397350994,
          0.6158940397350994,
          0.6158940397350994,
          0.6096774193548387,
          0.6096774193548387,
          0.6096774193548387,
          0.6096774193548387,
          0.6096774193548387,
          0.6096774193548387,
          0.6096774193548387,
          0.6141479099678456,
          0.6187290969899666,
          0.6220735785953178,
          0.6287625418060201,
          0.6472602739726028,
          0.6267123287671232,
          0.6702898550724637,
          0.6702898550724637,
          0.6702898550724637,
          0.6702898550724637,
          0.6702898550724637,
          0.7105263157894737,
          0.7105263157894737,
          0.7269230769230769,
          0.7142857142857143,
          0.7142857142857143,
          0.7255639097744361,
          0.6084142394822006,
          0.5125,
          0.5125,
          0.5225,
          0.5225,
          0.5225,
          0.5225,
          0.5,
          0.4925,
          0.4925,
          0.4925,
          0.4925,
          0.4925,
          0.4825,
          0.41116751269035534,
          0.5588235294117647,
          0.5,
          0.5,
          0.5330882352941176,
          0.5073529411764706,
          0.5073529411764706,
          0.5073529411764706,
          0.5183823529411765,
          0.5183823529411765,
          0.5588235294117647,
          0.5183823529411765,
          0.5183823529411765,
          0.5183823529411765,
          0.5187165775401069,
          0.703125,
          0.703125,
          0.703125,
          0.6908396946564885,
          0.6717557251908397,
          0.6856060606060606,
          0.678030303030303,
          0.6590909090909091,
          0.6856060606060606,
          0.6439393939393939,
          0.6856060606060606,
          0.6856060606060606,
          0.6856060606060606,
          0.6818181818181818,
          0.6818181818181818,
          0.7131147540983607,
          0.7377049180327869,
          0.639344262295082,
          0.6311475409836066,
          0.6311475409836066,
          0.6311475409836066,
          0.6309012875536479,
          0.7665198237885462,
          0.8017621145374451,
          0.7841409691629956,
          0.8144796380090498,
          0.8017621145374451,
          0.6893939393939394,
          0.5359712230215827,
          0.5035971223021583,
          0.5179856115107914,
          0.5359712230215827,
          0.68,
          0.4861538461538462,
          0.4861538461538462,
          0.4646153846153846,
          0.4646153846153846,
          0.4646153846153846,
          0.4738461538461538,
          0.4738461538461538,
          0.4953846153846154,
          0.4953846153846154,
          0.4953846153846154,
          0.4953846153846154,
          0.4953846153846154,
          0.4953846153846154,
          0.6132075471698113,
          0.610062893081761,
          0.610062893081761,
          0.5835866261398176,
          0.5835866261398176,
          0.5835866261398176,
          0.5927051671732523,
          0.5927051671732523,
          0.5927051671732523,
          0.5927051671732523,
          0.5927051671732523,
          0.5927051671732523,
          0.5927051671732523,
          0.6416938110749185,
          0.6416938110749185,
          0.6175548589341693,
          0.6175548589341693,
          0.6175548589341693,
          0.5422885572139303,
          0.5422885572139303,
          0.4951690821256038,
          0.6261682242990654,
          0.6261682242990654,
          0.6261682242990654,
          0.6261682242990654,
          0.6261682242990654,
          0.6323987538940811,
          0.6323987538940811,
          0.6326064382139148,
          0.7208480565371025,
          0.7326007326007326,
          0.746268656716418,
          0.7326007326007326,
          0.7326007326007326,
          0.7352941176470589,
          0.7670682730923695,
          0.7670682730923695,
          0.7991803278688525,
          0.6797153024911032,
          0.6797153024911032,
          0.6797153024911032,
          0.6797153024911032,
          0.7089552238805971,
          0.7089552238805971,
          0.7089552238805971,
          0.7089552238805971,
          0.7276119402985075,
          0.7276119402985075,
          0.7089552238805971,
          0.6902985074626866,
          0.6902985074626866,
          0.6902985074626866,
          0.6902985074626866,
          0.7014925373134329,
          0.7014925373134329,
          0.6925894618202311,
          0.6992481203007519,
          0.7014925373134329,
          0.7014925373134329,
          0.6865671641791045,
          0.6581818181818182,
          0.6436363636363637,
          0.509090909090909,
          0.509090909090909,
          0.509090909090909,
          0.7391304347826086,
          0.7391304347826086,
          0.7391304347826086,
          0.7391304347826086,
          0.7391304347826086,
          0.7391304347826086,
          0.7391304347826086,
          0.7470355731225297,
          0.7470355731225297,
          0.7470355731225297,
          0.7233201581027668,
          0.7233201581027668,
          0.7233201581027668,
          0.7233201581027668,
          0.7233201581027668,
          0.7233201581027668,
          0.7233201581027668,
          0.7233201581027668,
          0.7233201581027668,
          0.7430830039525692,
          0.7391304347826086,
          0.7391304347826086,
          0.7391304347826086,
          0.7391304347826086,
          0.7401574803149606,
          0.7322834645669292,
          0.7401574803149606,
          0.7401574803149606,
          0.7401574803149606,
          0.7401574803149606,
          0.7401574803149606,
          0.8430493273542601,
          0.8209606986899564,
          0.8384279475982532,
          0.8209606986899564,
          0.8384279475982532,
          0.8296943231441049,
          0.8296943231441049,
          0.8296943231441049,
          0.8296943231441049,
          0.852017937219731,
          0.8296943231441049,
          0.852017937219731,
          0.8296943231441049,
          0.8384279475982532,
          0.8427947598253275,
          0.8427947598253275,
          0.8427947598253275,
          0.7161572052401747,
          0.7161572052401747,
          0.7161572052401747,
          0.7161572052401747,
          0.7161572052401747,
          0.7116104868913857,
          0.704119850187266,
          0.7203065134099617,
          0.6859205776173285,
          0.6859205776173285,
          0.6859205776173285,
          0.6859205776173285,
          0.6859205776173285,
          0.6859205776173285,
          0.6787003610108303,
          0.6787003610108303,
          0.5837837837837838,
          0.5783783783783784,
          0.5783783783783784,
          0.5783783783783784,
          0.5783783783783784,
          0.5783783783783784,
          0.6101694915254238,
          0.6044749188018765,
          0.5947712418300654,
          0.5947712418300654,
          0.5947712418300654,
          0.5980392156862745,
          0.5980392156862745,
          0.6405228758169934,
          0.6405228758169934,
          0.5855855855855856,
          0.5855855855855856,
          0.5855855855855856,
          0.5855855855855856,
          0.5855855855855856,
          0.5855855855855856,
          0.5825825825825826,
          0.5825825825825826,
          0.5825825825825826,
          0.486646884272997,
          0.486646884272997,
          0.486646884272997,
          0.4875621890547264,
          0.4875621890547264,
          0.4875621890547264,
          0.4875621890547264,
          0.41791044776119396,
          0.41791044776119396,
          0.41791044776119396,
          0.482587064676617,
          0.482587064676617,
          0.482587064676617,
          0.482587064676617,
          0.482587064676617,
          0.482587064676617,
          0.482587064676617,
          0.7738095238095238,
          0.7658730158730159,
          0.6113289760348584,
          0.6113289760348584,
          0.6274509803921569,
          0.6274509803921569,
          0.6274509803921569,
          0.6111111111111112,
          0.6158536585365854,
          0.5911764705882353,
          0.5970588235294118,
          0.5941176470588235,
          0.5941176470588235,
          0.5941176470588235,
          0.5941176470588235,
          0.5941176470588235,
          0.5941176470588235,
          0.5852941176470589,
          0.5852941176470589,
          0.5941176470588235,
          0.5941176470588235,
          0.6349206349206349,
          0.6349206349206349,
          0.6349206349206349,
          0.6349206349206349,
          0.6285714285714286,
          0.6317460317460317,
          0.6317460317460317,
          0.6822742474916388,
          0.6666666666666666,
          0.6925795053003534,
          0.6925795053003534,
          0.6925795053003534,
          0.6925795053003534,
          0.8,
          0.5396419437340153,
          0.5396419437340153,
          0.5396419437340153,
          0.5370843989769821,
          0.6881028938906752,
          0.480952380952381,
          0.4880952380952381,
          0.4880952380952381,
          0.554016620498615,
          0.6391752577319587,
          0.7052631578947368,
          0.6779661016949152,
          0.6779661016949152,
          0.688135593220339,
          0.688135593220339,
          0.8546255506607929,
          0.8595203132648067,
          0.76171875,
          0.55,
          0.55
         ],
         "yaxis": "y"
        }
       ],
       "layout": {
        "legend": {
         "tracegroupgap": 0
        },
        "template": {
         "data": {
          "bar": [
           {
            "error_x": {
             "color": "#2a3f5f"
            },
            "error_y": {
             "color": "#2a3f5f"
            },
            "marker": {
             "line": {
              "color": "#E5ECF6",
              "width": 0.5
             }
            },
            "type": "bar"
           }
          ],
          "barpolar": [
           {
            "marker": {
             "line": {
              "color": "#E5ECF6",
              "width": 0.5
             }
            },
            "type": "barpolar"
           }
          ],
          "carpet": [
           {
            "aaxis": {
             "endlinecolor": "#2a3f5f",
             "gridcolor": "white",
             "linecolor": "white",
             "minorgridcolor": "white",
             "startlinecolor": "#2a3f5f"
            },
            "baxis": {
             "endlinecolor": "#2a3f5f",
             "gridcolor": "white",
             "linecolor": "white",
             "minorgridcolor": "white",
             "startlinecolor": "#2a3f5f"
            },
            "type": "carpet"
           }
          ],
          "choropleth": [
           {
            "colorbar": {
             "outlinewidth": 0,
             "ticks": ""
            },
            "type": "choropleth"
           }
          ],
          "contour": [
           {
            "colorbar": {
             "outlinewidth": 0,
             "ticks": ""
            },
            "colorscale": [
             [
              0,
              "#0d0887"
             ],
             [
              0.1111111111111111,
              "#46039f"
             ],
             [
              0.2222222222222222,
              "#7201a8"
             ],
             [
              0.3333333333333333,
              "#9c179e"
             ],
             [
              0.4444444444444444,
              "#bd3786"
             ],
             [
              0.5555555555555556,
              "#d8576b"
             ],
             [
              0.6666666666666666,
              "#ed7953"
             ],
             [
              0.7777777777777778,
              "#fb9f3a"
             ],
             [
              0.8888888888888888,
              "#fdca26"
             ],
             [
              1,
              "#f0f921"
             ]
            ],
            "type": "contour"
           }
          ],
          "contourcarpet": [
           {
            "colorbar": {
             "outlinewidth": 0,
             "ticks": ""
            },
            "type": "contourcarpet"
           }
          ],
          "heatmap": [
           {
            "colorbar": {
             "outlinewidth": 0,
             "ticks": ""
            },
            "colorscale": [
             [
              0,
              "#0d0887"
             ],
             [
              0.1111111111111111,
              "#46039f"
             ],
             [
              0.2222222222222222,
              "#7201a8"
             ],
             [
              0.3333333333333333,
              "#9c179e"
             ],
             [
              0.4444444444444444,
              "#bd3786"
             ],
             [
              0.5555555555555556,
              "#d8576b"
             ],
             [
              0.6666666666666666,
              "#ed7953"
             ],
             [
              0.7777777777777778,
              "#fb9f3a"
             ],
             [
              0.8888888888888888,
              "#fdca26"
             ],
             [
              1,
              "#f0f921"
             ]
            ],
            "type": "heatmap"
           }
          ],
          "heatmapgl": [
           {
            "colorbar": {
             "outlinewidth": 0,
             "ticks": ""
            },
            "colorscale": [
             [
              0,
              "#0d0887"
             ],
             [
              0.1111111111111111,
              "#46039f"
             ],
             [
              0.2222222222222222,
              "#7201a8"
             ],
             [
              0.3333333333333333,
              "#9c179e"
             ],
             [
              0.4444444444444444,
              "#bd3786"
             ],
             [
              0.5555555555555556,
              "#d8576b"
             ],
             [
              0.6666666666666666,
              "#ed7953"
             ],
             [
              0.7777777777777778,
              "#fb9f3a"
             ],
             [
              0.8888888888888888,
              "#fdca26"
             ],
             [
              1,
              "#f0f921"
             ]
            ],
            "type": "heatmapgl"
           }
          ],
          "histogram": [
           {
            "marker": {
             "colorbar": {
              "outlinewidth": 0,
              "ticks": ""
             }
            },
            "type": "histogram"
           }
          ],
          "histogram2d": [
           {
            "colorbar": {
             "outlinewidth": 0,
             "ticks": ""
            },
            "colorscale": [
             [
              0,
              "#0d0887"
             ],
             [
              0.1111111111111111,
              "#46039f"
             ],
             [
              0.2222222222222222,
              "#7201a8"
             ],
             [
              0.3333333333333333,
              "#9c179e"
             ],
             [
              0.4444444444444444,
              "#bd3786"
             ],
             [
              0.5555555555555556,
              "#d8576b"
             ],
             [
              0.6666666666666666,
              "#ed7953"
             ],
             [
              0.7777777777777778,
              "#fb9f3a"
             ],
             [
              0.8888888888888888,
              "#fdca26"
             ],
             [
              1,
              "#f0f921"
             ]
            ],
            "type": "histogram2d"
           }
          ],
          "histogram2dcontour": [
           {
            "colorbar": {
             "outlinewidth": 0,
             "ticks": ""
            },
            "colorscale": [
             [
              0,
              "#0d0887"
             ],
             [
              0.1111111111111111,
              "#46039f"
             ],
             [
              0.2222222222222222,
              "#7201a8"
             ],
             [
              0.3333333333333333,
              "#9c179e"
             ],
             [
              0.4444444444444444,
              "#bd3786"
             ],
             [
              0.5555555555555556,
              "#d8576b"
             ],
             [
              0.6666666666666666,
              "#ed7953"
             ],
             [
              0.7777777777777778,
              "#fb9f3a"
             ],
             [
              0.8888888888888888,
              "#fdca26"
             ],
             [
              1,
              "#f0f921"
             ]
            ],
            "type": "histogram2dcontour"
           }
          ],
          "mesh3d": [
           {
            "colorbar": {
             "outlinewidth": 0,
             "ticks": ""
            },
            "type": "mesh3d"
           }
          ],
          "parcoords": [
           {
            "line": {
             "colorbar": {
              "outlinewidth": 0,
              "ticks": ""
             }
            },
            "type": "parcoords"
           }
          ],
          "pie": [
           {
            "automargin": true,
            "type": "pie"
           }
          ],
          "scatter": [
           {
            "marker": {
             "colorbar": {
              "outlinewidth": 0,
              "ticks": ""
             }
            },
            "type": "scatter"
           }
          ],
          "scatter3d": [
           {
            "line": {
             "colorbar": {
              "outlinewidth": 0,
              "ticks": ""
             }
            },
            "marker": {
             "colorbar": {
              "outlinewidth": 0,
              "ticks": ""
             }
            },
            "type": "scatter3d"
           }
          ],
          "scattercarpet": [
           {
            "marker": {
             "colorbar": {
              "outlinewidth": 0,
              "ticks": ""
             }
            },
            "type": "scattercarpet"
           }
          ],
          "scattergeo": [
           {
            "marker": {
             "colorbar": {
              "outlinewidth": 0,
              "ticks": ""
             }
            },
            "type": "scattergeo"
           }
          ],
          "scattergl": [
           {
            "marker": {
             "colorbar": {
              "outlinewidth": 0,
              "ticks": ""
             }
            },
            "type": "scattergl"
           }
          ],
          "scattermapbox": [
           {
            "marker": {
             "colorbar": {
              "outlinewidth": 0,
              "ticks": ""
             }
            },
            "type": "scattermapbox"
           }
          ],
          "scatterpolar": [
           {
            "marker": {
             "colorbar": {
              "outlinewidth": 0,
              "ticks": ""
             }
            },
            "type": "scatterpolar"
           }
          ],
          "scatterpolargl": [
           {
            "marker": {
             "colorbar": {
              "outlinewidth": 0,
              "ticks": ""
             }
            },
            "type": "scatterpolargl"
           }
          ],
          "scatterternary": [
           {
            "marker": {
             "colorbar": {
              "outlinewidth": 0,
              "ticks": ""
             }
            },
            "type": "scatterternary"
           }
          ],
          "surface": [
           {
            "colorbar": {
             "outlinewidth": 0,
             "ticks": ""
            },
            "colorscale": [
             [
              0,
              "#0d0887"
             ],
             [
              0.1111111111111111,
              "#46039f"
             ],
             [
              0.2222222222222222,
              "#7201a8"
             ],
             [
              0.3333333333333333,
              "#9c179e"
             ],
             [
              0.4444444444444444,
              "#bd3786"
             ],
             [
              0.5555555555555556,
              "#d8576b"
             ],
             [
              0.6666666666666666,
              "#ed7953"
             ],
             [
              0.7777777777777778,
              "#fb9f3a"
             ],
             [
              0.8888888888888888,
              "#fdca26"
             ],
             [
              1,
              "#f0f921"
             ]
            ],
            "type": "surface"
           }
          ],
          "table": [
           {
            "cells": {
             "fill": {
              "color": "#EBF0F8"
             },
             "line": {
              "color": "white"
             }
            },
            "header": {
             "fill": {
              "color": "#C8D4E3"
             },
             "line": {
              "color": "white"
             }
            },
            "type": "table"
           }
          ]
         },
         "layout": {
          "annotationdefaults": {
           "arrowcolor": "#2a3f5f",
           "arrowhead": 0,
           "arrowwidth": 1
          },
          "autotypenumbers": "strict",
          "coloraxis": {
           "colorbar": {
            "outlinewidth": 0,
            "ticks": ""
           }
          },
          "colorscale": {
           "diverging": [
            [
             0,
             "#8e0152"
            ],
            [
             0.1,
             "#c51b7d"
            ],
            [
             0.2,
             "#de77ae"
            ],
            [
             0.3,
             "#f1b6da"
            ],
            [
             0.4,
             "#fde0ef"
            ],
            [
             0.5,
             "#f7f7f7"
            ],
            [
             0.6,
             "#e6f5d0"
            ],
            [
             0.7,
             "#b8e186"
            ],
            [
             0.8,
             "#7fbc41"
            ],
            [
             0.9,
             "#4d9221"
            ],
            [
             1,
             "#276419"
            ]
           ],
           "sequential": [
            [
             0,
             "#0d0887"
            ],
            [
             0.1111111111111111,
             "#46039f"
            ],
            [
             0.2222222222222222,
             "#7201a8"
            ],
            [
             0.3333333333333333,
             "#9c179e"
            ],
            [
             0.4444444444444444,
             "#bd3786"
            ],
            [
             0.5555555555555556,
             "#d8576b"
            ],
            [
             0.6666666666666666,
             "#ed7953"
            ],
            [
             0.7777777777777778,
             "#fb9f3a"
            ],
            [
             0.8888888888888888,
             "#fdca26"
            ],
            [
             1,
             "#f0f921"
            ]
           ],
           "sequentialminus": [
            [
             0,
             "#0d0887"
            ],
            [
             0.1111111111111111,
             "#46039f"
            ],
            [
             0.2222222222222222,
             "#7201a8"
            ],
            [
             0.3333333333333333,
             "#9c179e"
            ],
            [
             0.4444444444444444,
             "#bd3786"
            ],
            [
             0.5555555555555556,
             "#d8576b"
            ],
            [
             0.6666666666666666,
             "#ed7953"
            ],
            [
             0.7777777777777778,
             "#fb9f3a"
            ],
            [
             0.8888888888888888,
             "#fdca26"
            ],
            [
             1,
             "#f0f921"
            ]
           ]
          },
          "colorway": [
           "#636efa",
           "#EF553B",
           "#00cc96",
           "#ab63fa",
           "#FFA15A",
           "#19d3f3",
           "#FF6692",
           "#B6E880",
           "#FF97FF",
           "#FECB52"
          ],
          "font": {
           "color": "#2a3f5f"
          },
          "geo": {
           "bgcolor": "white",
           "lakecolor": "white",
           "landcolor": "#E5ECF6",
           "showlakes": true,
           "showland": true,
           "subunitcolor": "white"
          },
          "hoverlabel": {
           "align": "left"
          },
          "hovermode": "closest",
          "mapbox": {
           "style": "light"
          },
          "paper_bgcolor": "white",
          "plot_bgcolor": "#E5ECF6",
          "polar": {
           "angularaxis": {
            "gridcolor": "white",
            "linecolor": "white",
            "ticks": ""
           },
           "bgcolor": "#E5ECF6",
           "radialaxis": {
            "gridcolor": "white",
            "linecolor": "white",
            "ticks": ""
           }
          },
          "scene": {
           "xaxis": {
            "backgroundcolor": "#E5ECF6",
            "gridcolor": "white",
            "gridwidth": 2,
            "linecolor": "white",
            "showbackground": true,
            "ticks": "",
            "zerolinecolor": "white"
           },
           "yaxis": {
            "backgroundcolor": "#E5ECF6",
            "gridcolor": "white",
            "gridwidth": 2,
            "linecolor": "white",
            "showbackground": true,
            "ticks": "",
            "zerolinecolor": "white"
           },
           "zaxis": {
            "backgroundcolor": "#E5ECF6",
            "gridcolor": "white",
            "gridwidth": 2,
            "linecolor": "white",
            "showbackground": true,
            "ticks": "",
            "zerolinecolor": "white"
           }
          },
          "shapedefaults": {
           "line": {
            "color": "#2a3f5f"
           }
          },
          "ternary": {
           "aaxis": {
            "gridcolor": "white",
            "linecolor": "white",
            "ticks": ""
           },
           "baxis": {
            "gridcolor": "white",
            "linecolor": "white",
            "ticks": ""
           },
           "bgcolor": "#E5ECF6",
           "caxis": {
            "gridcolor": "white",
            "linecolor": "white",
            "ticks": ""
           }
          },
          "title": {
           "x": 0.05
          },
          "xaxis": {
           "automargin": true,
           "gridcolor": "white",
           "linecolor": "white",
           "ticks": "",
           "title": {
            "standoff": 15
           },
           "zerolinecolor": "white",
           "zerolinewidth": 2
          },
          "yaxis": {
           "automargin": true,
           "gridcolor": "white",
           "linecolor": "white",
           "ticks": "",
           "title": {
            "standoff": 15
           },
           "zerolinecolor": "white",
           "zerolinewidth": 2
          }
         }
        },
        "title": {
         "text": "Rompimento7Dias x Rompimento 28 Dias"
        },
        "xaxis": {
         "anchor": "y",
         "domain": [
          0,
          1
         ],
         "title": {
          "text": "ConsumoPorM3"
         }
        },
        "yaxis": {
         "anchor": "x",
         "domain": [
          0,
          1
         ],
         "title": {
          "text": "RelacaoAguaCimento"
         }
        }
       }
      },
      "text/html": [
       "<div>                            <div id=\"6b5cb91c-7c43-4fd4-a4e8-470feae4565c\" class=\"plotly-graph-div\" style=\"height:525px; width:100%;\"></div>            <script type=\"text/javascript\">                require([\"plotly\"], function(Plotly) {                    window.PLOTLYENV=window.PLOTLYENV || {};                                    if (document.getElementById(\"6b5cb91c-7c43-4fd4-a4e8-470feae4565c\")) {                    Plotly.newPlot(                        \"6b5cb91c-7c43-4fd4-a4e8-470feae4565c\",                        [{\"hovertemplate\": \"ConsumoPorM3=%{x}<br>RelacaoAguaCimento=%{y}<extra></extra>\", \"legendgroup\": \"\", \"marker\": {\"color\": \"#636efa\", \"symbol\": \"circle\"}, \"mode\": \"markers\", \"name\": \"\", \"orientation\": \"v\", \"showlegend\": false, \"type\": \"scatter\", \"x\": [362.0, 320.0, 320.0, 320.0, 320.0, 324.0, 324.0, 324.0, 324.0, 214.0, 214.0, 214.0, 214.0, 194.0, 354.0, 354.0, 354.0, 354.0, 354.0, 354.0, 354.0, 354.0, 373.0, 373.0, 373.0, 373.0, 373.0, 373.0, 373.0, 394.0, 394.0, 394.0, 394.0, 394.0, 394.0, 394.0, 394.0, 394.0, 394.0, 394.0, 394.0, 394.0, 394.0, 394.0, 364.0, 364.0, 364.0, 364.0, 364.0, 364.0, 364.0, 364.0, 364.0, 364.0, 364.0, 369.0, 369.0, 241.0, 241.0, 241.0, 241.0, 241.0, 241.0, 241.0, 241.0, 241.0, 241.0, 241.0, 233.0, 219.0, 219.0, 219.0, 219.0, 219.0, 219.0, 219.0, 219.0, 219.0, 219.0, 219.0, 219.0, 219.0, 233.0, 237.0, 228.0, 228.0, 365.0, 400.0, 400.0, 400.0, 400.0, 400.0, 400.0, 400.0, 400.0, 400.0, 400.0, 292.0, 292.0, 292.0, 271.0, 289.0, 289.0, 289.0, 289.0, 289.0, 289.0, 287.0, 281.0, 281.0, 281.0, 318.0, 318.0, 318.0, 318.0, 318.0, 318.0, 318.0, 318.0, 314.0, 295.0, 302.0, 302.0, 302.0, 302.0, 302.0, 302.0, 302.0, 302.0, 302.0, 302.0, 310.0, 310.0, 310.0, 310.0, 310.0, 310.0, 310.0, 311.0, 299.0, 299.0, 299.0, 292.0, 292.0, 276.0, 276.0, 276.0, 276.0, 276.0, 266.0, 266.0, 260.0, 266.0, 266.0, 266.0, 309.0, 400.0, 400.0, 400.0, 400.0, 400.0, 400.0, 400.0, 400.0, 400.0, 400.0, 400.0, 400.0, 400.0, 394.0, 272.0, 272.0, 272.0, 272.0, 272.0, 272.0, 272.0, 272.0, 272.0, 272.0, 272.0, 272.0, 272.0, 272.0, 256.0, 256.0, 256.0, 262.0, 262.0, 264.0, 264.0, 264.0, 264.0, 264.0, 264.0, 264.0, 264.0, 264.0, 264.0, 244.0, 244.0, 244.0, 244.0, 244.0, 244.0, 233.0, 227.0, 227.0, 227.0, 221.0, 227.0, 264.0, 278.0, 278.0, 278.0, 278.0, 275.0, 325.0, 325.0, 325.0, 325.0, 325.0, 325.0, 325.0, 325.0, 325.0, 325.0, 325.0, 325.0, 325.0, 318.0, 318.0, 318.0, 329.0, 329.0, 329.0, 329.0, 329.0, 329.0, 329.0, 329.0, 329.0, 329.0, 307.0, 307.0, 319.0, 319.0, 319.0, 402.0, 402.0, 414.0, 321.0, 321.0, 321.0, 321.0, 321.0, 321.0, 321.0, 321.0, 283.0, 273.0, 268.0, 273.0, 273.0, 272.0, 249.0, 249.0, 244.0, 281.0, 281.0, 281.0, 281.0, 268.0, 268.0, 268.0, 268.0, 268.0, 268.0, 268.0, 268.0, 268.0, 268.0, 268.0, 268.0, 268.0, 273.0, 266.0, 268.0, 268.0, 268.0, 275.0, 275.0, 275.0, 275.0, 275.0, 253.0, 253.0, 253.0, 253.0, 253.0, 253.0, 253.0, 253.0, 253.0, 253.0, 253.0, 253.0, 253.0, 253.0, 253.0, 253.0, 253.0, 253.0, 253.0, 253.0, 253.0, 253.0, 253.0, 253.0, 254.0, 254.0, 254.0, 254.0, 254.0, 254.0, 254.0, 223.0, 229.0, 229.0, 229.0, 229.0, 229.0, 229.0, 229.0, 229.0, 223.0, 229.0, 223.0, 229.0, 229.0, 229.0, 229.0, 229.0, 229.0, 229.0, 229.0, 229.0, 229.0, 267.0, 267.0, 261.0, 277.0, 277.0, 277.0, 277.0, 277.0, 277.0, 277.0, 277.0, 370.0, 370.0, 370.0, 370.0, 370.0, 370.0, 354.0, 326.0, 306.0, 306.0, 306.0, 306.0, 306.0, 306.0, 306.0, 333.0, 333.0, 333.0, 333.0, 333.0, 333.0, 333.0, 333.0, 333.0, 337.0, 337.0, 337.0, 402.0, 402.0, 402.0, 402.0, 402.0, 402.0, 402.0, 402.0, 402.0, 402.0, 402.0, 402.0, 402.0, 402.0, 252.0, 252.0, 306.0, 306.0, 306.0, 306.0, 306.0, 306.0, 328.0, 340.0, 340.0, 340.0, 340.0, 340.0, 340.0, 340.0, 340.0, 340.0, 340.0, 340.0, 340.0, 315.0, 315.0, 315.0, 315.0, 315.0, 315.0, 315.0, 299.0, 306.0, 283.0, 283.0, 283.0, 283.0, 250.0, 391.0, 391.0, 391.0, 391.0, 311.0, 420.0, 420.0, 420.0, 361.0, 291.0, 285.0, 295.0, 295.0, 295.0, 295.0, 227.0, 227.0, 256.0, 380.0, 380.0], \"xaxis\": \"x\", \"y\": [0.5386740331491713, 0.559375, 0.678125, 0.678125, 0.678125, 0.5802469135802469, 0.5802469135802469, 0.5802469135802469, 0.6697530864197531, 0.616822429906542, 0.616822429906542, 0.616822429906542, 0.616822429906542, 0.9123711340206184, 0.5338983050847458, 0.5282485875706214, 0.5338983050847458, 0.5338983050847458, 0.5338983050847458, 0.5338983050847458, 0.5338983050847458, 0.53954802259887, 0.4932975871313673, 0.4932975871313673, 0.4932975871313673, 0.4932975871313673, 0.4932975871313673, 0.4932975871313673, 0.4423592493297587, 0.4060913705583756, 0.4060913705583756, 0.4060913705583756, 0.4060913705583756, 0.4060913705583756, 0.4060913705583756, 0.4342053885201093, 0.44416243654822335, 0.4289340101522843, 0.434010152284264, 0.434010152284264, 0.434010152284264, 0.434010152284264, 0.4060913705583756, 0.4060913705583756, 0.5412087912087912, 0.5412087912087912, 0.5412087912087912, 0.5412087912087912, 0.5412087912087912, 0.5412087912087912, 0.5412087912087912, 0.5412087912087912, 0.5412087912087912, 0.4120879120879121, 0.4120879120879121, 0.5420054200542005, 0.5311653116531165, 0.6182572614107884, 0.6182572614107884, 0.6182572614107884, 0.6182572614107884, 0.6016597510373444, 0.5518672199170125, 0.5684647302904564, 0.5601659751037344, 0.5601659751037344, 0.5684647302904564, 0.5684647302904564, 0.7811158798283262, 0.8127853881278538, 0.8127853881278538, 0.8264840182648402, 0.8401826484018264, 0.8401826484018264, 0.8401826484018264, 0.8401826484018264, 0.8401826484018264, 0.8401826484018264, 0.8264840182648402, 0.8264840182648402, 0.8264840182648402, 0.8264840182648402, 0.776824034334764, 0.7552742616033755, 0.7412280701754386, 0.7324561403508771, 0.4303477344573235, 0.475, 0.5175, 0.4825, 0.4825, 0.4825, 0.4825, 0.4825, 0.4825, 0.4825, 0.5, 0.5376712328767124, 0.5958904109589042, 0.5958904109589042, 0.5682656826568265, 0.5709342560553633, 0.5709342560553633, 0.5709342560553633, 0.5605536332179931, 0.5605536332179931, 0.5190311418685121, 0.6794425087108014, 0.6832740213523132, 0.6832740213523132, 0.5587188612099644, 0.4937106918238994, 0.4937106918238994, 0.4622641509433962, 0.4622641509433962, 0.4622641509433962, 0.4622641509433962, 0.4716981132075472, 0.4716981132075472, 0.6146496815286624, 0.6372881355932203, 0.6324503311258278, 0.6324503311258278, 0.6490066225165563, 0.6490066225165563, 0.6490066225165563, 0.6357615894039735, 0.6158940397350994, 0.6158940397350994, 0.6158940397350994, 0.6158940397350994, 0.6096774193548387, 0.6096774193548387, 0.6096774193548387, 0.6096774193548387, 0.6096774193548387, 0.6096774193548387, 0.6096774193548387, 0.6141479099678456, 0.6187290969899666, 0.6220735785953178, 0.6287625418060201, 0.6472602739726028, 0.6267123287671232, 0.6702898550724637, 0.6702898550724637, 0.6702898550724637, 0.6702898550724637, 0.6702898550724637, 0.7105263157894737, 0.7105263157894737, 0.7269230769230769, 0.7142857142857143, 0.7142857142857143, 0.7255639097744361, 0.6084142394822006, 0.5125, 0.5125, 0.5225, 0.5225, 0.5225, 0.5225, 0.5, 0.4925, 0.4925, 0.4925, 0.4925, 0.4925, 0.4825, 0.41116751269035534, 0.5588235294117647, 0.5, 0.5, 0.5330882352941176, 0.5073529411764706, 0.5073529411764706, 0.5073529411764706, 0.5183823529411765, 0.5183823529411765, 0.5588235294117647, 0.5183823529411765, 0.5183823529411765, 0.5183823529411765, 0.5187165775401069, 0.703125, 0.703125, 0.703125, 0.6908396946564885, 0.6717557251908397, 0.6856060606060606, 0.678030303030303, 0.6590909090909091, 0.6856060606060606, 0.6439393939393939, 0.6856060606060606, 0.6856060606060606, 0.6856060606060606, 0.6818181818181818, 0.6818181818181818, 0.7131147540983607, 0.7377049180327869, 0.639344262295082, 0.6311475409836066, 0.6311475409836066, 0.6311475409836066, 0.6309012875536479, 0.7665198237885462, 0.8017621145374451, 0.7841409691629956, 0.8144796380090498, 0.8017621145374451, 0.6893939393939394, 0.5359712230215827, 0.5035971223021583, 0.5179856115107914, 0.5359712230215827, 0.68, 0.4861538461538462, 0.4861538461538462, 0.4646153846153846, 0.4646153846153846, 0.4646153846153846, 0.4738461538461538, 0.4738461538461538, 0.4953846153846154, 0.4953846153846154, 0.4953846153846154, 0.4953846153846154, 0.4953846153846154, 0.4953846153846154, 0.6132075471698113, 0.610062893081761, 0.610062893081761, 0.5835866261398176, 0.5835866261398176, 0.5835866261398176, 0.5927051671732523, 0.5927051671732523, 0.5927051671732523, 0.5927051671732523, 0.5927051671732523, 0.5927051671732523, 0.5927051671732523, 0.6416938110749185, 0.6416938110749185, 0.6175548589341693, 0.6175548589341693, 0.6175548589341693, 0.5422885572139303, 0.5422885572139303, 0.4951690821256038, 0.6261682242990654, 0.6261682242990654, 0.6261682242990654, 0.6261682242990654, 0.6261682242990654, 0.6323987538940811, 0.6323987538940811, 0.6326064382139148, 0.7208480565371025, 0.7326007326007326, 0.746268656716418, 0.7326007326007326, 0.7326007326007326, 0.7352941176470589, 0.7670682730923695, 0.7670682730923695, 0.7991803278688525, 0.6797153024911032, 0.6797153024911032, 0.6797153024911032, 0.6797153024911032, 0.7089552238805971, 0.7089552238805971, 0.7089552238805971, 0.7089552238805971, 0.7276119402985075, 0.7276119402985075, 0.7089552238805971, 0.6902985074626866, 0.6902985074626866, 0.6902985074626866, 0.6902985074626866, 0.7014925373134329, 0.7014925373134329, 0.6925894618202311, 0.6992481203007519, 0.7014925373134329, 0.7014925373134329, 0.6865671641791045, 0.6581818181818182, 0.6436363636363637, 0.509090909090909, 0.509090909090909, 0.509090909090909, 0.7391304347826086, 0.7391304347826086, 0.7391304347826086, 0.7391304347826086, 0.7391304347826086, 0.7391304347826086, 0.7391304347826086, 0.7470355731225297, 0.7470355731225297, 0.7470355731225297, 0.7233201581027668, 0.7233201581027668, 0.7233201581027668, 0.7233201581027668, 0.7233201581027668, 0.7233201581027668, 0.7233201581027668, 0.7233201581027668, 0.7233201581027668, 0.7430830039525692, 0.7391304347826086, 0.7391304347826086, 0.7391304347826086, 0.7391304347826086, 0.7401574803149606, 0.7322834645669292, 0.7401574803149606, 0.7401574803149606, 0.7401574803149606, 0.7401574803149606, 0.7401574803149606, 0.8430493273542601, 0.8209606986899564, 0.8384279475982532, 0.8209606986899564, 0.8384279475982532, 0.8296943231441049, 0.8296943231441049, 0.8296943231441049, 0.8296943231441049, 0.852017937219731, 0.8296943231441049, 0.852017937219731, 0.8296943231441049, 0.8384279475982532, 0.8427947598253275, 0.8427947598253275, 0.8427947598253275, 0.7161572052401747, 0.7161572052401747, 0.7161572052401747, 0.7161572052401747, 0.7161572052401747, 0.7116104868913857, 0.704119850187266, 0.7203065134099617, 0.6859205776173285, 0.6859205776173285, 0.6859205776173285, 0.6859205776173285, 0.6859205776173285, 0.6859205776173285, 0.6787003610108303, 0.6787003610108303, 0.5837837837837838, 0.5783783783783784, 0.5783783783783784, 0.5783783783783784, 0.5783783783783784, 0.5783783783783784, 0.6101694915254238, 0.6044749188018765, 0.5947712418300654, 0.5947712418300654, 0.5947712418300654, 0.5980392156862745, 0.5980392156862745, 0.6405228758169934, 0.6405228758169934, 0.5855855855855856, 0.5855855855855856, 0.5855855855855856, 0.5855855855855856, 0.5855855855855856, 0.5855855855855856, 0.5825825825825826, 0.5825825825825826, 0.5825825825825826, 0.486646884272997, 0.486646884272997, 0.486646884272997, 0.4875621890547264, 0.4875621890547264, 0.4875621890547264, 0.4875621890547264, 0.41791044776119396, 0.41791044776119396, 0.41791044776119396, 0.482587064676617, 0.482587064676617, 0.482587064676617, 0.482587064676617, 0.482587064676617, 0.482587064676617, 0.482587064676617, 0.7738095238095238, 0.7658730158730159, 0.6113289760348584, 0.6113289760348584, 0.6274509803921569, 0.6274509803921569, 0.6274509803921569, 0.6111111111111112, 0.6158536585365854, 0.5911764705882353, 0.5970588235294118, 0.5941176470588235, 0.5941176470588235, 0.5941176470588235, 0.5941176470588235, 0.5941176470588235, 0.5941176470588235, 0.5852941176470589, 0.5852941176470589, 0.5941176470588235, 0.5941176470588235, 0.6349206349206349, 0.6349206349206349, 0.6349206349206349, 0.6349206349206349, 0.6285714285714286, 0.6317460317460317, 0.6317460317460317, 0.6822742474916388, 0.6666666666666666, 0.6925795053003534, 0.6925795053003534, 0.6925795053003534, 0.6925795053003534, 0.8, 0.5396419437340153, 0.5396419437340153, 0.5396419437340153, 0.5370843989769821, 0.6881028938906752, 0.480952380952381, 0.4880952380952381, 0.4880952380952381, 0.554016620498615, 0.6391752577319587, 0.7052631578947368, 0.6779661016949152, 0.6779661016949152, 0.688135593220339, 0.688135593220339, 0.8546255506607929, 0.8595203132648067, 0.76171875, 0.55, 0.55], \"yaxis\": \"y\"}],                        {\"legend\": {\"tracegroupgap\": 0}, \"template\": {\"data\": {\"bar\": [{\"error_x\": {\"color\": \"#2a3f5f\"}, \"error_y\": {\"color\": \"#2a3f5f\"}, \"marker\": {\"line\": {\"color\": \"#E5ECF6\", \"width\": 0.5}}, \"type\": \"bar\"}], \"barpolar\": [{\"marker\": {\"line\": {\"color\": \"#E5ECF6\", \"width\": 0.5}}, \"type\": \"barpolar\"}], \"carpet\": [{\"aaxis\": {\"endlinecolor\": \"#2a3f5f\", \"gridcolor\": \"white\", \"linecolor\": \"white\", \"minorgridcolor\": \"white\", \"startlinecolor\": \"#2a3f5f\"}, \"baxis\": {\"endlinecolor\": \"#2a3f5f\", \"gridcolor\": \"white\", \"linecolor\": \"white\", \"minorgridcolor\": \"white\", \"startlinecolor\": \"#2a3f5f\"}, \"type\": \"carpet\"}], \"choropleth\": [{\"colorbar\": {\"outlinewidth\": 0, \"ticks\": \"\"}, \"type\": \"choropleth\"}], \"contour\": [{\"colorbar\": {\"outlinewidth\": 0, \"ticks\": \"\"}, \"colorscale\": [[0.0, \"#0d0887\"], [0.1111111111111111, \"#46039f\"], [0.2222222222222222, \"#7201a8\"], [0.3333333333333333, \"#9c179e\"], [0.4444444444444444, \"#bd3786\"], [0.5555555555555556, \"#d8576b\"], [0.6666666666666666, \"#ed7953\"], [0.7777777777777778, \"#fb9f3a\"], [0.8888888888888888, \"#fdca26\"], [1.0, \"#f0f921\"]], \"type\": \"contour\"}], \"contourcarpet\": [{\"colorbar\": {\"outlinewidth\": 0, \"ticks\": \"\"}, \"type\": \"contourcarpet\"}], \"heatmap\": [{\"colorbar\": {\"outlinewidth\": 0, \"ticks\": \"\"}, \"colorscale\": [[0.0, \"#0d0887\"], [0.1111111111111111, \"#46039f\"], [0.2222222222222222, \"#7201a8\"], [0.3333333333333333, \"#9c179e\"], [0.4444444444444444, \"#bd3786\"], [0.5555555555555556, \"#d8576b\"], [0.6666666666666666, \"#ed7953\"], [0.7777777777777778, \"#fb9f3a\"], [0.8888888888888888, \"#fdca26\"], [1.0, \"#f0f921\"]], \"type\": \"heatmap\"}], \"heatmapgl\": [{\"colorbar\": {\"outlinewidth\": 0, \"ticks\": \"\"}, \"colorscale\": [[0.0, \"#0d0887\"], [0.1111111111111111, \"#46039f\"], [0.2222222222222222, \"#7201a8\"], [0.3333333333333333, \"#9c179e\"], [0.4444444444444444, \"#bd3786\"], [0.5555555555555556, \"#d8576b\"], [0.6666666666666666, \"#ed7953\"], [0.7777777777777778, \"#fb9f3a\"], [0.8888888888888888, \"#fdca26\"], [1.0, \"#f0f921\"]], \"type\": \"heatmapgl\"}], \"histogram\": [{\"marker\": {\"colorbar\": {\"outlinewidth\": 0, \"ticks\": \"\"}}, \"type\": \"histogram\"}], \"histogram2d\": [{\"colorbar\": {\"outlinewidth\": 0, \"ticks\": \"\"}, \"colorscale\": [[0.0, \"#0d0887\"], [0.1111111111111111, \"#46039f\"], [0.2222222222222222, \"#7201a8\"], [0.3333333333333333, \"#9c179e\"], [0.4444444444444444, \"#bd3786\"], [0.5555555555555556, \"#d8576b\"], [0.6666666666666666, \"#ed7953\"], [0.7777777777777778, \"#fb9f3a\"], [0.8888888888888888, \"#fdca26\"], [1.0, \"#f0f921\"]], \"type\": \"histogram2d\"}], \"histogram2dcontour\": [{\"colorbar\": {\"outlinewidth\": 0, \"ticks\": \"\"}, \"colorscale\": [[0.0, \"#0d0887\"], [0.1111111111111111, \"#46039f\"], [0.2222222222222222, \"#7201a8\"], [0.3333333333333333, \"#9c179e\"], [0.4444444444444444, \"#bd3786\"], [0.5555555555555556, \"#d8576b\"], [0.6666666666666666, \"#ed7953\"], [0.7777777777777778, \"#fb9f3a\"], [0.8888888888888888, \"#fdca26\"], [1.0, \"#f0f921\"]], \"type\": \"histogram2dcontour\"}], \"mesh3d\": [{\"colorbar\": {\"outlinewidth\": 0, \"ticks\": \"\"}, \"type\": \"mesh3d\"}], \"parcoords\": [{\"line\": {\"colorbar\": {\"outlinewidth\": 0, \"ticks\": \"\"}}, \"type\": \"parcoords\"}], \"pie\": [{\"automargin\": true, \"type\": \"pie\"}], \"scatter\": [{\"marker\": {\"colorbar\": {\"outlinewidth\": 0, \"ticks\": \"\"}}, \"type\": \"scatter\"}], \"scatter3d\": [{\"line\": {\"colorbar\": {\"outlinewidth\": 0, \"ticks\": \"\"}}, \"marker\": {\"colorbar\": {\"outlinewidth\": 0, \"ticks\": \"\"}}, \"type\": \"scatter3d\"}], \"scattercarpet\": [{\"marker\": {\"colorbar\": {\"outlinewidth\": 0, \"ticks\": \"\"}}, \"type\": \"scattercarpet\"}], \"scattergeo\": [{\"marker\": {\"colorbar\": {\"outlinewidth\": 0, \"ticks\": \"\"}}, \"type\": \"scattergeo\"}], \"scattergl\": [{\"marker\": {\"colorbar\": {\"outlinewidth\": 0, \"ticks\": \"\"}}, \"type\": \"scattergl\"}], \"scattermapbox\": [{\"marker\": {\"colorbar\": {\"outlinewidth\": 0, \"ticks\": \"\"}}, \"type\": \"scattermapbox\"}], \"scatterpolar\": [{\"marker\": {\"colorbar\": {\"outlinewidth\": 0, \"ticks\": \"\"}}, \"type\": \"scatterpolar\"}], \"scatterpolargl\": [{\"marker\": {\"colorbar\": {\"outlinewidth\": 0, \"ticks\": \"\"}}, \"type\": \"scatterpolargl\"}], \"scatterternary\": [{\"marker\": {\"colorbar\": {\"outlinewidth\": 0, \"ticks\": \"\"}}, \"type\": \"scatterternary\"}], \"surface\": [{\"colorbar\": {\"outlinewidth\": 0, \"ticks\": \"\"}, \"colorscale\": [[0.0, \"#0d0887\"], [0.1111111111111111, \"#46039f\"], [0.2222222222222222, \"#7201a8\"], [0.3333333333333333, \"#9c179e\"], [0.4444444444444444, \"#bd3786\"], [0.5555555555555556, \"#d8576b\"], [0.6666666666666666, \"#ed7953\"], [0.7777777777777778, \"#fb9f3a\"], [0.8888888888888888, \"#fdca26\"], [1.0, \"#f0f921\"]], \"type\": \"surface\"}], \"table\": [{\"cells\": {\"fill\": {\"color\": \"#EBF0F8\"}, \"line\": {\"color\": \"white\"}}, \"header\": {\"fill\": {\"color\": \"#C8D4E3\"}, \"line\": {\"color\": \"white\"}}, \"type\": \"table\"}]}, \"layout\": {\"annotationdefaults\": {\"arrowcolor\": \"#2a3f5f\", \"arrowhead\": 0, \"arrowwidth\": 1}, \"autotypenumbers\": \"strict\", \"coloraxis\": {\"colorbar\": {\"outlinewidth\": 0, \"ticks\": \"\"}}, \"colorscale\": {\"diverging\": [[0, \"#8e0152\"], [0.1, \"#c51b7d\"], [0.2, \"#de77ae\"], [0.3, \"#f1b6da\"], [0.4, \"#fde0ef\"], [0.5, \"#f7f7f7\"], [0.6, \"#e6f5d0\"], [0.7, \"#b8e186\"], [0.8, \"#7fbc41\"], [0.9, \"#4d9221\"], [1, \"#276419\"]], \"sequential\": [[0.0, \"#0d0887\"], [0.1111111111111111, \"#46039f\"], [0.2222222222222222, \"#7201a8\"], [0.3333333333333333, \"#9c179e\"], [0.4444444444444444, \"#bd3786\"], [0.5555555555555556, \"#d8576b\"], [0.6666666666666666, \"#ed7953\"], [0.7777777777777778, \"#fb9f3a\"], [0.8888888888888888, \"#fdca26\"], [1.0, \"#f0f921\"]], \"sequentialminus\": [[0.0, \"#0d0887\"], [0.1111111111111111, \"#46039f\"], [0.2222222222222222, \"#7201a8\"], [0.3333333333333333, \"#9c179e\"], [0.4444444444444444, \"#bd3786\"], [0.5555555555555556, \"#d8576b\"], [0.6666666666666666, \"#ed7953\"], [0.7777777777777778, \"#fb9f3a\"], [0.8888888888888888, \"#fdca26\"], [1.0, \"#f0f921\"]]}, \"colorway\": [\"#636efa\", \"#EF553B\", \"#00cc96\", \"#ab63fa\", \"#FFA15A\", \"#19d3f3\", \"#FF6692\", \"#B6E880\", \"#FF97FF\", \"#FECB52\"], \"font\": {\"color\": \"#2a3f5f\"}, \"geo\": {\"bgcolor\": \"white\", \"lakecolor\": \"white\", \"landcolor\": \"#E5ECF6\", \"showlakes\": true, \"showland\": true, \"subunitcolor\": \"white\"}, \"hoverlabel\": {\"align\": \"left\"}, \"hovermode\": \"closest\", \"mapbox\": {\"style\": \"light\"}, \"paper_bgcolor\": \"white\", \"plot_bgcolor\": \"#E5ECF6\", \"polar\": {\"angularaxis\": {\"gridcolor\": \"white\", \"linecolor\": \"white\", \"ticks\": \"\"}, \"bgcolor\": \"#E5ECF6\", \"radialaxis\": {\"gridcolor\": \"white\", \"linecolor\": \"white\", \"ticks\": \"\"}}, \"scene\": {\"xaxis\": {\"backgroundcolor\": \"#E5ECF6\", \"gridcolor\": \"white\", \"gridwidth\": 2, \"linecolor\": \"white\", \"showbackground\": true, \"ticks\": \"\", \"zerolinecolor\": \"white\"}, \"yaxis\": {\"backgroundcolor\": \"#E5ECF6\", \"gridcolor\": \"white\", \"gridwidth\": 2, \"linecolor\": \"white\", \"showbackground\": true, \"ticks\": \"\", \"zerolinecolor\": \"white\"}, \"zaxis\": {\"backgroundcolor\": \"#E5ECF6\", \"gridcolor\": \"white\", \"gridwidth\": 2, \"linecolor\": \"white\", \"showbackground\": true, \"ticks\": \"\", \"zerolinecolor\": \"white\"}}, \"shapedefaults\": {\"line\": {\"color\": \"#2a3f5f\"}}, \"ternary\": {\"aaxis\": {\"gridcolor\": \"white\", \"linecolor\": \"white\", \"ticks\": \"\"}, \"baxis\": {\"gridcolor\": \"white\", \"linecolor\": \"white\", \"ticks\": \"\"}, \"bgcolor\": \"#E5ECF6\", \"caxis\": {\"gridcolor\": \"white\", \"linecolor\": \"white\", \"ticks\": \"\"}}, \"title\": {\"x\": 0.05}, \"xaxis\": {\"automargin\": true, \"gridcolor\": \"white\", \"linecolor\": \"white\", \"ticks\": \"\", \"title\": {\"standoff\": 15}, \"zerolinecolor\": \"white\", \"zerolinewidth\": 2}, \"yaxis\": {\"automargin\": true, \"gridcolor\": \"white\", \"linecolor\": \"white\", \"ticks\": \"\", \"title\": {\"standoff\": 15}, \"zerolinecolor\": \"white\", \"zerolinewidth\": 2}}}, \"title\": {\"text\": \"Rompimento7Dias x Rompimento 28 Dias\"}, \"xaxis\": {\"anchor\": \"y\", \"domain\": [0.0, 1.0], \"title\": {\"text\": \"ConsumoPorM3\"}}, \"yaxis\": {\"anchor\": \"x\", \"domain\": [0.0, 1.0], \"title\": {\"text\": \"RelacaoAguaCimento\"}}},                        {\"responsive\": true}                    ).then(function(){\n",
       "                            \n",
       "var gd = document.getElementById('6b5cb91c-7c43-4fd4-a4e8-470feae4565c');\n",
       "var x = new MutationObserver(function (mutations, observer) {{\n",
       "        var display = window.getComputedStyle(gd).display;\n",
       "        if (!display || display === 'none') {{\n",
       "            console.log([gd, 'removed!']);\n",
       "            Plotly.purge(gd);\n",
       "            observer.disconnect();\n",
       "        }}\n",
       "}});\n",
       "\n",
       "// Listen for the removal of the full notebook cells\n",
       "var notebookContainer = gd.closest('#notebook-container');\n",
       "if (notebookContainer) {{\n",
       "    x.observe(notebookContainer, {childList: true});\n",
       "}}\n",
       "\n",
       "// Listen for the clearing of the current output cell\n",
       "var outputEl = gd.closest('.output');\n",
       "if (outputEl) {{\n",
       "    x.observe(outputEl, {childList: true});\n",
       "}}\n",
       "\n",
       "                        })                };                });            </script>        </div>"
      ]
     },
     "metadata": {},
     "output_type": "display_data"
    }
   ],
   "source": [
    "fig = px.scatter(dados_aglomerante, x=\"ConsumoPorM3\", y=\"RelacaoAguaCimento\", title='Rompimento7Dias x Rompimento 28 Dias')\n",
    "fig.show()"
   ]
  },
  {
   "cell_type": "code",
   "execution_count": 73,
   "metadata": {},
   "outputs": [
    {
     "data": {
      "application/vnd.plotly.v1+json": {
       "config": {
        "plotlyServerURL": "https://plot.ly"
       },
       "data": [
        {
         "hovertemplate": "ConsumoPorM3=%{x}<br>Rompimento28Dias=%{y}<extra></extra>",
         "legendgroup": "",
         "marker": {
          "color": "#636efa",
          "symbol": "circle"
         },
         "mode": "markers",
         "name": "",
         "orientation": "v",
         "showlegend": false,
         "type": "scatter",
         "x": [
          362,
          320,
          320,
          320,
          320,
          324,
          324,
          324,
          324,
          214,
          214,
          214,
          214,
          194,
          354,
          354,
          354,
          354,
          354,
          354,
          354,
          354,
          373,
          373,
          373,
          373,
          373,
          373,
          373,
          394,
          394,
          394,
          394,
          394,
          394,
          394,
          394,
          394,
          394,
          394,
          394,
          394,
          394,
          394,
          364,
          364,
          364,
          364,
          364,
          364,
          364,
          364,
          364,
          364,
          364,
          369,
          369,
          241,
          241,
          241,
          241,
          241,
          241,
          241,
          241,
          241,
          241,
          241,
          233,
          219,
          219,
          219,
          219,
          219,
          219,
          219,
          219,
          219,
          219,
          219,
          219,
          219,
          233,
          237,
          228,
          228,
          365,
          400,
          400,
          400,
          400,
          400,
          400,
          400,
          400,
          400,
          400,
          292,
          292,
          292,
          271,
          289,
          289,
          289,
          289,
          289,
          289,
          287,
          281,
          281,
          281,
          318,
          318,
          318,
          318,
          318,
          318,
          318,
          318,
          314,
          295,
          302,
          302,
          302,
          302,
          302,
          302,
          302,
          302,
          302,
          302,
          310,
          310,
          310,
          310,
          310,
          310,
          310,
          311,
          299,
          299,
          299,
          292,
          292,
          276,
          276,
          276,
          276,
          276,
          266,
          266,
          260,
          266,
          266,
          266,
          309,
          400,
          400,
          400,
          400,
          400,
          400,
          400,
          400,
          400,
          400,
          400,
          400,
          400,
          394,
          272,
          272,
          272,
          272,
          272,
          272,
          272,
          272,
          272,
          272,
          272,
          272,
          272,
          272,
          256,
          256,
          256,
          262,
          262,
          264,
          264,
          264,
          264,
          264,
          264,
          264,
          264,
          264,
          264,
          244,
          244,
          244,
          244,
          244,
          244,
          233,
          227,
          227,
          227,
          221,
          227,
          264,
          278,
          278,
          278,
          278,
          275,
          325,
          325,
          325,
          325,
          325,
          325,
          325,
          325,
          325,
          325,
          325,
          325,
          325,
          318,
          318,
          318,
          329,
          329,
          329,
          329,
          329,
          329,
          329,
          329,
          329,
          329,
          307,
          307,
          319,
          319,
          319,
          402,
          402,
          414,
          321,
          321,
          321,
          321,
          321,
          321,
          321,
          321,
          283,
          273,
          268,
          273,
          273,
          272,
          249,
          249,
          244,
          281,
          281,
          281,
          281,
          268,
          268,
          268,
          268,
          268,
          268,
          268,
          268,
          268,
          268,
          268,
          268,
          268,
          273,
          266,
          268,
          268,
          268,
          275,
          275,
          275,
          275,
          275,
          253,
          253,
          253,
          253,
          253,
          253,
          253,
          253,
          253,
          253,
          253,
          253,
          253,
          253,
          253,
          253,
          253,
          253,
          253,
          253,
          253,
          253,
          253,
          253,
          254,
          254,
          254,
          254,
          254,
          254,
          254,
          223,
          229,
          229,
          229,
          229,
          229,
          229,
          229,
          229,
          223,
          229,
          223,
          229,
          229,
          229,
          229,
          229,
          229,
          229,
          229,
          229,
          229,
          267,
          267,
          261,
          277,
          277,
          277,
          277,
          277,
          277,
          277,
          277,
          370,
          370,
          370,
          370,
          370,
          370,
          354,
          326,
          306,
          306,
          306,
          306,
          306,
          306,
          306,
          333,
          333,
          333,
          333,
          333,
          333,
          333,
          333,
          333,
          337,
          337,
          337,
          402,
          402,
          402,
          402,
          402,
          402,
          402,
          402,
          402,
          402,
          402,
          402,
          402,
          402,
          252,
          252,
          306,
          306,
          306,
          306,
          306,
          306,
          328,
          340,
          340,
          340,
          340,
          340,
          340,
          340,
          340,
          340,
          340,
          340,
          340,
          315,
          315,
          315,
          315,
          315,
          315,
          315,
          299,
          306,
          283,
          283,
          283,
          283,
          250,
          391,
          391,
          391,
          391,
          311,
          420,
          420,
          420,
          361,
          291,
          285,
          295,
          295,
          295,
          295,
          227,
          227,
          256,
          380,
          380
         ],
         "xaxis": "x",
         "y": [
          35.08,
          33.4,
          31.72,
          31.12,
          28.39,
          29.7,
          27.47,
          27.61,
          31.63,
          26.3,
          27.13,
          22.49,
          24.66,
          20.15,
          30.93,
          31.9,
          31.3,
          30.83,
          31.02,
          30.3,
          30.6,
          30.6,
          33.52,
          32.47,
          32.41,
          32.14,
          33.9,
          32.83,
          35.01,
          43.52,
          42.89,
          44.21,
          45.48,
          44.6,
          38.14,
          33.43,
          46.48,
          46.74,
          46.78,
          42.62,
          46.6,
          46.46,
          41.84,
          38.95,
          33.26,
          33.77,
          38.85,
          37.04,
          35.9,
          37.06,
          36.23,
          33.84,
          36.62,
          33.86,
          36.65,
          34.59,
          37.24,
          25.32,
          26.27,
          25.46,
          28.11,
          30.02,
          25,
          31.89,
          30.4,
          30.58,
          32.55,
          27.38,
          23.81,
          22.79,
          20.28,
          23.33,
          24.34,
          20.74,
          18.1,
          21.53,
          22.81,
          20.43,
          21.72,
          20.52,
          23.31,
          22.72,
          22.04,
          24.11,
          26.34,
          25.23,
          39.12,
          34.09,
          31.18,
          31.25,
          30.49,
          31.01,
          34.94,
          34.73,
          33.26,
          30.4,
          39.45,
          36.56,
          37.59,
          34.38,
          27.27,
          26.77,
          24.99,
          26.67,
          29.5,
          29.06,
          31.79,
          27.15,
          28.49,
          29.67,
          28.73,
          38.37,
          37.64,
          44.87,
          43.54,
          45.08,
          37.38,
          44.91,
          37.72,
          35.68,
          31.77,
          30.22,
          32.61,
          33.11,
          36.06,
          33.79,
          31.01,
          34.14,
          36.59,
          32.32,
          36.4,
          35.01,
          36.48,
          35.68,
          37.27,
          38.2,
          39.58,
          41.4,
          38.88,
          37.34,
          33.03,
          37.85,
          36.12,
          41.45,
          32.42,
          33.51,
          37.2,
          33.63,
          38.44,
          32.46,
          32.78,
          28.08,
          33.8,
          30.87,
          26.86,
          40.19,
          38.51,
          39.11,
          43.12,
          39.79,
          38.92,
          40.86,
          42.29,
          33.2,
          34.45,
          38.18,
          43.15,
          37.24,
          34.5,
          45.71,
          29.78,
          27.93,
          30.76,
          35.22,
          36.01,
          29.84,
          30.51,
          28.5,
          32.35,
          34.28,
          32.74,
          33.45,
          33.71,
          30.4,
          29.56,
          27.56,
          28.85,
          29.74,
          30.78,
          28.53,
          31.74,
          32.92,
          35.62,
          38.09,
          36.31,
          37.81,
          35.4,
          36.2,
          35.11,
          30,
          26.39,
          27.87,
          28.99,
          25.41,
          25.14,
          29.98,
          25.54,
          25.21,
          32.73,
          25.01,
          24.54,
          34.88,
          29.67,
          30.69,
          36.28,
          34.07,
          28.25,
          37.54,
          39.53,
          31.48,
          29.69,
          32.49,
          35.22,
          34.09,
          35.22,
          33.79,
          37.96,
          37.03,
          37.66,
          40,
          32.44,
          35.92,
          31.86,
          35.2,
          35.89,
          35.39,
          40.53,
          40.14,
          34.91,
          38.42,
          36.59,
          30.88,
          34,
          32.64,
          30.87,
          35.15,
          31.94,
          35.39,
          37.73,
          37.77,
          32.05,
          38.36,
          42.61,
          43.19,
          38.3,
          37.46,
          31.07,
          32.51,
          33.02,
          38.61,
          28.72,
          30.44,
          30.26,
          27.53,
          34.54,
          26.54,
          27.39,
          21.2,
          33.9,
          31.71,
          34.49,
          35.72,
          27.98,
          26.02,
          29,
          27.06,
          26.39,
          24.03,
          33.17,
          27.43,
          31.39,
          28.41,
          30.16,
          29.92,
          30.02,
          29.46,
          27.31,
          28.38,
          29.64,
          30.5,
          40.23,
          39.69,
          35.81,
          34.7,
          38.75,
          30.32,
          35.07,
          29.37,
          33.09,
          31.39,
          31.19,
          31.76,
          33.84,
          30.49,
          34.47,
          29.24,
          31.72,
          38.11,
          35.69,
          37.13,
          34.04,
          33.82,
          32.46,
          30.58,
          29.93,
          34.49,
          38.16,
          32.56,
          32.54,
          32.31,
          32.6,
          29.51,
          31.26,
          32.16,
          31.26,
          33.01,
          21.27,
          23.67,
          25.79,
          29.67,
          27.15,
          22.14,
          25.69,
          23.59,
          27.62,
          24.96,
          22.79,
          22.12,
          22.21,
          22.79,
          26.82,
          25.29,
          32.84,
          26.07,
          25.56,
          26.66,
          27.64,
          26.95,
          32.4,
          27.28,
          27.28,
          29.56,
          31.61,
          37.24,
          33.4,
          36.56,
          37.67,
          33.07,
          34.88,
          39.48,
          37.77,
          41.83,
          40.1,
          39.59,
          40.66,
          31.24,
          40.21,
          39.14,
          36.4,
          38.04,
          40.48,
          36.24,
          35.22,
          37.81,
          25.1,
          26.16,
          29.65,
          25.89,
          28.43,
          27.34,
          28.71,
          30.68,
          27.69,
          33.25,
          31.54,
          28.22,
          32.02,
          38.06,
          37.31,
          33.48,
          38.79,
          42.01,
          38.08,
          34.63,
          28.4,
          32.64,
          33.01,
          38.7,
          33.66,
          34.69,
          22.25,
          27.36,
          31.42,
          31.74,
          30.62,
          29.6,
          28.29,
          37.17,
          34.45,
          37.54,
          39.44,
          42.79,
          37.86,
          37.46,
          36.98,
          41.96,
          44.3,
          39.97,
          42.35,
          37.32,
          36.4,
          35.29,
          35.55,
          33.93,
          34.74,
          36.2,
          32.68,
          30,
          30.44,
          31.34,
          29.48,
          33.72,
          28.94,
          34.8,
          21.92,
          33.07,
          31.74,
          29.56,
          37.04,
          34.65,
          33.19,
          34.38,
          36.17,
          38.19,
          28.88,
          28.01,
          29.1,
          32.45,
          25.68,
          31.51,
          22.32,
          20.79,
          33.29,
          48.35,
          46.11
         ],
         "yaxis": "y"
        }
       ],
       "layout": {
        "legend": {
         "tracegroupgap": 0
        },
        "template": {
         "data": {
          "bar": [
           {
            "error_x": {
             "color": "#2a3f5f"
            },
            "error_y": {
             "color": "#2a3f5f"
            },
            "marker": {
             "line": {
              "color": "#E5ECF6",
              "width": 0.5
             }
            },
            "type": "bar"
           }
          ],
          "barpolar": [
           {
            "marker": {
             "line": {
              "color": "#E5ECF6",
              "width": 0.5
             }
            },
            "type": "barpolar"
           }
          ],
          "carpet": [
           {
            "aaxis": {
             "endlinecolor": "#2a3f5f",
             "gridcolor": "white",
             "linecolor": "white",
             "minorgridcolor": "white",
             "startlinecolor": "#2a3f5f"
            },
            "baxis": {
             "endlinecolor": "#2a3f5f",
             "gridcolor": "white",
             "linecolor": "white",
             "minorgridcolor": "white",
             "startlinecolor": "#2a3f5f"
            },
            "type": "carpet"
           }
          ],
          "choropleth": [
           {
            "colorbar": {
             "outlinewidth": 0,
             "ticks": ""
            },
            "type": "choropleth"
           }
          ],
          "contour": [
           {
            "colorbar": {
             "outlinewidth": 0,
             "ticks": ""
            },
            "colorscale": [
             [
              0,
              "#0d0887"
             ],
             [
              0.1111111111111111,
              "#46039f"
             ],
             [
              0.2222222222222222,
              "#7201a8"
             ],
             [
              0.3333333333333333,
              "#9c179e"
             ],
             [
              0.4444444444444444,
              "#bd3786"
             ],
             [
              0.5555555555555556,
              "#d8576b"
             ],
             [
              0.6666666666666666,
              "#ed7953"
             ],
             [
              0.7777777777777778,
              "#fb9f3a"
             ],
             [
              0.8888888888888888,
              "#fdca26"
             ],
             [
              1,
              "#f0f921"
             ]
            ],
            "type": "contour"
           }
          ],
          "contourcarpet": [
           {
            "colorbar": {
             "outlinewidth": 0,
             "ticks": ""
            },
            "type": "contourcarpet"
           }
          ],
          "heatmap": [
           {
            "colorbar": {
             "outlinewidth": 0,
             "ticks": ""
            },
            "colorscale": [
             [
              0,
              "#0d0887"
             ],
             [
              0.1111111111111111,
              "#46039f"
             ],
             [
              0.2222222222222222,
              "#7201a8"
             ],
             [
              0.3333333333333333,
              "#9c179e"
             ],
             [
              0.4444444444444444,
              "#bd3786"
             ],
             [
              0.5555555555555556,
              "#d8576b"
             ],
             [
              0.6666666666666666,
              "#ed7953"
             ],
             [
              0.7777777777777778,
              "#fb9f3a"
             ],
             [
              0.8888888888888888,
              "#fdca26"
             ],
             [
              1,
              "#f0f921"
             ]
            ],
            "type": "heatmap"
           }
          ],
          "heatmapgl": [
           {
            "colorbar": {
             "outlinewidth": 0,
             "ticks": ""
            },
            "colorscale": [
             [
              0,
              "#0d0887"
             ],
             [
              0.1111111111111111,
              "#46039f"
             ],
             [
              0.2222222222222222,
              "#7201a8"
             ],
             [
              0.3333333333333333,
              "#9c179e"
             ],
             [
              0.4444444444444444,
              "#bd3786"
             ],
             [
              0.5555555555555556,
              "#d8576b"
             ],
             [
              0.6666666666666666,
              "#ed7953"
             ],
             [
              0.7777777777777778,
              "#fb9f3a"
             ],
             [
              0.8888888888888888,
              "#fdca26"
             ],
             [
              1,
              "#f0f921"
             ]
            ],
            "type": "heatmapgl"
           }
          ],
          "histogram": [
           {
            "marker": {
             "colorbar": {
              "outlinewidth": 0,
              "ticks": ""
             }
            },
            "type": "histogram"
           }
          ],
          "histogram2d": [
           {
            "colorbar": {
             "outlinewidth": 0,
             "ticks": ""
            },
            "colorscale": [
             [
              0,
              "#0d0887"
             ],
             [
              0.1111111111111111,
              "#46039f"
             ],
             [
              0.2222222222222222,
              "#7201a8"
             ],
             [
              0.3333333333333333,
              "#9c179e"
             ],
             [
              0.4444444444444444,
              "#bd3786"
             ],
             [
              0.5555555555555556,
              "#d8576b"
             ],
             [
              0.6666666666666666,
              "#ed7953"
             ],
             [
              0.7777777777777778,
              "#fb9f3a"
             ],
             [
              0.8888888888888888,
              "#fdca26"
             ],
             [
              1,
              "#f0f921"
             ]
            ],
            "type": "histogram2d"
           }
          ],
          "histogram2dcontour": [
           {
            "colorbar": {
             "outlinewidth": 0,
             "ticks": ""
            },
            "colorscale": [
             [
              0,
              "#0d0887"
             ],
             [
              0.1111111111111111,
              "#46039f"
             ],
             [
              0.2222222222222222,
              "#7201a8"
             ],
             [
              0.3333333333333333,
              "#9c179e"
             ],
             [
              0.4444444444444444,
              "#bd3786"
             ],
             [
              0.5555555555555556,
              "#d8576b"
             ],
             [
              0.6666666666666666,
              "#ed7953"
             ],
             [
              0.7777777777777778,
              "#fb9f3a"
             ],
             [
              0.8888888888888888,
              "#fdca26"
             ],
             [
              1,
              "#f0f921"
             ]
            ],
            "type": "histogram2dcontour"
           }
          ],
          "mesh3d": [
           {
            "colorbar": {
             "outlinewidth": 0,
             "ticks": ""
            },
            "type": "mesh3d"
           }
          ],
          "parcoords": [
           {
            "line": {
             "colorbar": {
              "outlinewidth": 0,
              "ticks": ""
             }
            },
            "type": "parcoords"
           }
          ],
          "pie": [
           {
            "automargin": true,
            "type": "pie"
           }
          ],
          "scatter": [
           {
            "marker": {
             "colorbar": {
              "outlinewidth": 0,
              "ticks": ""
             }
            },
            "type": "scatter"
           }
          ],
          "scatter3d": [
           {
            "line": {
             "colorbar": {
              "outlinewidth": 0,
              "ticks": ""
             }
            },
            "marker": {
             "colorbar": {
              "outlinewidth": 0,
              "ticks": ""
             }
            },
            "type": "scatter3d"
           }
          ],
          "scattercarpet": [
           {
            "marker": {
             "colorbar": {
              "outlinewidth": 0,
              "ticks": ""
             }
            },
            "type": "scattercarpet"
           }
          ],
          "scattergeo": [
           {
            "marker": {
             "colorbar": {
              "outlinewidth": 0,
              "ticks": ""
             }
            },
            "type": "scattergeo"
           }
          ],
          "scattergl": [
           {
            "marker": {
             "colorbar": {
              "outlinewidth": 0,
              "ticks": ""
             }
            },
            "type": "scattergl"
           }
          ],
          "scattermapbox": [
           {
            "marker": {
             "colorbar": {
              "outlinewidth": 0,
              "ticks": ""
             }
            },
            "type": "scattermapbox"
           }
          ],
          "scatterpolar": [
           {
            "marker": {
             "colorbar": {
              "outlinewidth": 0,
              "ticks": ""
             }
            },
            "type": "scatterpolar"
           }
          ],
          "scatterpolargl": [
           {
            "marker": {
             "colorbar": {
              "outlinewidth": 0,
              "ticks": ""
             }
            },
            "type": "scatterpolargl"
           }
          ],
          "scatterternary": [
           {
            "marker": {
             "colorbar": {
              "outlinewidth": 0,
              "ticks": ""
             }
            },
            "type": "scatterternary"
           }
          ],
          "surface": [
           {
            "colorbar": {
             "outlinewidth": 0,
             "ticks": ""
            },
            "colorscale": [
             [
              0,
              "#0d0887"
             ],
             [
              0.1111111111111111,
              "#46039f"
             ],
             [
              0.2222222222222222,
              "#7201a8"
             ],
             [
              0.3333333333333333,
              "#9c179e"
             ],
             [
              0.4444444444444444,
              "#bd3786"
             ],
             [
              0.5555555555555556,
              "#d8576b"
             ],
             [
              0.6666666666666666,
              "#ed7953"
             ],
             [
              0.7777777777777778,
              "#fb9f3a"
             ],
             [
              0.8888888888888888,
              "#fdca26"
             ],
             [
              1,
              "#f0f921"
             ]
            ],
            "type": "surface"
           }
          ],
          "table": [
           {
            "cells": {
             "fill": {
              "color": "#EBF0F8"
             },
             "line": {
              "color": "white"
             }
            },
            "header": {
             "fill": {
              "color": "#C8D4E3"
             },
             "line": {
              "color": "white"
             }
            },
            "type": "table"
           }
          ]
         },
         "layout": {
          "annotationdefaults": {
           "arrowcolor": "#2a3f5f",
           "arrowhead": 0,
           "arrowwidth": 1
          },
          "autotypenumbers": "strict",
          "coloraxis": {
           "colorbar": {
            "outlinewidth": 0,
            "ticks": ""
           }
          },
          "colorscale": {
           "diverging": [
            [
             0,
             "#8e0152"
            ],
            [
             0.1,
             "#c51b7d"
            ],
            [
             0.2,
             "#de77ae"
            ],
            [
             0.3,
             "#f1b6da"
            ],
            [
             0.4,
             "#fde0ef"
            ],
            [
             0.5,
             "#f7f7f7"
            ],
            [
             0.6,
             "#e6f5d0"
            ],
            [
             0.7,
             "#b8e186"
            ],
            [
             0.8,
             "#7fbc41"
            ],
            [
             0.9,
             "#4d9221"
            ],
            [
             1,
             "#276419"
            ]
           ],
           "sequential": [
            [
             0,
             "#0d0887"
            ],
            [
             0.1111111111111111,
             "#46039f"
            ],
            [
             0.2222222222222222,
             "#7201a8"
            ],
            [
             0.3333333333333333,
             "#9c179e"
            ],
            [
             0.4444444444444444,
             "#bd3786"
            ],
            [
             0.5555555555555556,
             "#d8576b"
            ],
            [
             0.6666666666666666,
             "#ed7953"
            ],
            [
             0.7777777777777778,
             "#fb9f3a"
            ],
            [
             0.8888888888888888,
             "#fdca26"
            ],
            [
             1,
             "#f0f921"
            ]
           ],
           "sequentialminus": [
            [
             0,
             "#0d0887"
            ],
            [
             0.1111111111111111,
             "#46039f"
            ],
            [
             0.2222222222222222,
             "#7201a8"
            ],
            [
             0.3333333333333333,
             "#9c179e"
            ],
            [
             0.4444444444444444,
             "#bd3786"
            ],
            [
             0.5555555555555556,
             "#d8576b"
            ],
            [
             0.6666666666666666,
             "#ed7953"
            ],
            [
             0.7777777777777778,
             "#fb9f3a"
            ],
            [
             0.8888888888888888,
             "#fdca26"
            ],
            [
             1,
             "#f0f921"
            ]
           ]
          },
          "colorway": [
           "#636efa",
           "#EF553B",
           "#00cc96",
           "#ab63fa",
           "#FFA15A",
           "#19d3f3",
           "#FF6692",
           "#B6E880",
           "#FF97FF",
           "#FECB52"
          ],
          "font": {
           "color": "#2a3f5f"
          },
          "geo": {
           "bgcolor": "white",
           "lakecolor": "white",
           "landcolor": "#E5ECF6",
           "showlakes": true,
           "showland": true,
           "subunitcolor": "white"
          },
          "hoverlabel": {
           "align": "left"
          },
          "hovermode": "closest",
          "mapbox": {
           "style": "light"
          },
          "paper_bgcolor": "white",
          "plot_bgcolor": "#E5ECF6",
          "polar": {
           "angularaxis": {
            "gridcolor": "white",
            "linecolor": "white",
            "ticks": ""
           },
           "bgcolor": "#E5ECF6",
           "radialaxis": {
            "gridcolor": "white",
            "linecolor": "white",
            "ticks": ""
           }
          },
          "scene": {
           "xaxis": {
            "backgroundcolor": "#E5ECF6",
            "gridcolor": "white",
            "gridwidth": 2,
            "linecolor": "white",
            "showbackground": true,
            "ticks": "",
            "zerolinecolor": "white"
           },
           "yaxis": {
            "backgroundcolor": "#E5ECF6",
            "gridcolor": "white",
            "gridwidth": 2,
            "linecolor": "white",
            "showbackground": true,
            "ticks": "",
            "zerolinecolor": "white"
           },
           "zaxis": {
            "backgroundcolor": "#E5ECF6",
            "gridcolor": "white",
            "gridwidth": 2,
            "linecolor": "white",
            "showbackground": true,
            "ticks": "",
            "zerolinecolor": "white"
           }
          },
          "shapedefaults": {
           "line": {
            "color": "#2a3f5f"
           }
          },
          "ternary": {
           "aaxis": {
            "gridcolor": "white",
            "linecolor": "white",
            "ticks": ""
           },
           "baxis": {
            "gridcolor": "white",
            "linecolor": "white",
            "ticks": ""
           },
           "bgcolor": "#E5ECF6",
           "caxis": {
            "gridcolor": "white",
            "linecolor": "white",
            "ticks": ""
           }
          },
          "title": {
           "x": 0.05
          },
          "xaxis": {
           "automargin": true,
           "gridcolor": "white",
           "linecolor": "white",
           "ticks": "",
           "title": {
            "standoff": 15
           },
           "zerolinecolor": "white",
           "zerolinewidth": 2
          },
          "yaxis": {
           "automargin": true,
           "gridcolor": "white",
           "linecolor": "white",
           "ticks": "",
           "title": {
            "standoff": 15
           },
           "zerolinecolor": "white",
           "zerolinewidth": 2
          }
         }
        },
        "title": {
         "text": "Rompimento7Dias x Rompimento 28 Dias"
        },
        "xaxis": {
         "anchor": "y",
         "domain": [
          0,
          1
         ],
         "title": {
          "text": "ConsumoPorM3"
         }
        },
        "yaxis": {
         "anchor": "x",
         "domain": [
          0,
          1
         ],
         "title": {
          "text": "Rompimento28Dias"
         }
        }
       }
      },
      "text/html": [
       "<div>                            <div id=\"820cc16f-0505-478d-81c2-3c3f1c256ac1\" class=\"plotly-graph-div\" style=\"height:525px; width:100%;\"></div>            <script type=\"text/javascript\">                require([\"plotly\"], function(Plotly) {                    window.PLOTLYENV=window.PLOTLYENV || {};                                    if (document.getElementById(\"820cc16f-0505-478d-81c2-3c3f1c256ac1\")) {                    Plotly.newPlot(                        \"820cc16f-0505-478d-81c2-3c3f1c256ac1\",                        [{\"hovertemplate\": \"ConsumoPorM3=%{x}<br>Rompimento28Dias=%{y}<extra></extra>\", \"legendgroup\": \"\", \"marker\": {\"color\": \"#636efa\", \"symbol\": \"circle\"}, \"mode\": \"markers\", \"name\": \"\", \"orientation\": \"v\", \"showlegend\": false, \"type\": \"scatter\", \"x\": [362.0, 320.0, 320.0, 320.0, 320.0, 324.0, 324.0, 324.0, 324.0, 214.0, 214.0, 214.0, 214.0, 194.0, 354.0, 354.0, 354.0, 354.0, 354.0, 354.0, 354.0, 354.0, 373.0, 373.0, 373.0, 373.0, 373.0, 373.0, 373.0, 394.0, 394.0, 394.0, 394.0, 394.0, 394.0, 394.0, 394.0, 394.0, 394.0, 394.0, 394.0, 394.0, 394.0, 394.0, 364.0, 364.0, 364.0, 364.0, 364.0, 364.0, 364.0, 364.0, 364.0, 364.0, 364.0, 369.0, 369.0, 241.0, 241.0, 241.0, 241.0, 241.0, 241.0, 241.0, 241.0, 241.0, 241.0, 241.0, 233.0, 219.0, 219.0, 219.0, 219.0, 219.0, 219.0, 219.0, 219.0, 219.0, 219.0, 219.0, 219.0, 219.0, 233.0, 237.0, 228.0, 228.0, 365.0, 400.0, 400.0, 400.0, 400.0, 400.0, 400.0, 400.0, 400.0, 400.0, 400.0, 292.0, 292.0, 292.0, 271.0, 289.0, 289.0, 289.0, 289.0, 289.0, 289.0, 287.0, 281.0, 281.0, 281.0, 318.0, 318.0, 318.0, 318.0, 318.0, 318.0, 318.0, 318.0, 314.0, 295.0, 302.0, 302.0, 302.0, 302.0, 302.0, 302.0, 302.0, 302.0, 302.0, 302.0, 310.0, 310.0, 310.0, 310.0, 310.0, 310.0, 310.0, 311.0, 299.0, 299.0, 299.0, 292.0, 292.0, 276.0, 276.0, 276.0, 276.0, 276.0, 266.0, 266.0, 260.0, 266.0, 266.0, 266.0, 309.0, 400.0, 400.0, 400.0, 400.0, 400.0, 400.0, 400.0, 400.0, 400.0, 400.0, 400.0, 400.0, 400.0, 394.0, 272.0, 272.0, 272.0, 272.0, 272.0, 272.0, 272.0, 272.0, 272.0, 272.0, 272.0, 272.0, 272.0, 272.0, 256.0, 256.0, 256.0, 262.0, 262.0, 264.0, 264.0, 264.0, 264.0, 264.0, 264.0, 264.0, 264.0, 264.0, 264.0, 244.0, 244.0, 244.0, 244.0, 244.0, 244.0, 233.0, 227.0, 227.0, 227.0, 221.0, 227.0, 264.0, 278.0, 278.0, 278.0, 278.0, 275.0, 325.0, 325.0, 325.0, 325.0, 325.0, 325.0, 325.0, 325.0, 325.0, 325.0, 325.0, 325.0, 325.0, 318.0, 318.0, 318.0, 329.0, 329.0, 329.0, 329.0, 329.0, 329.0, 329.0, 329.0, 329.0, 329.0, 307.0, 307.0, 319.0, 319.0, 319.0, 402.0, 402.0, 414.0, 321.0, 321.0, 321.0, 321.0, 321.0, 321.0, 321.0, 321.0, 283.0, 273.0, 268.0, 273.0, 273.0, 272.0, 249.0, 249.0, 244.0, 281.0, 281.0, 281.0, 281.0, 268.0, 268.0, 268.0, 268.0, 268.0, 268.0, 268.0, 268.0, 268.0, 268.0, 268.0, 268.0, 268.0, 273.0, 266.0, 268.0, 268.0, 268.0, 275.0, 275.0, 275.0, 275.0, 275.0, 253.0, 253.0, 253.0, 253.0, 253.0, 253.0, 253.0, 253.0, 253.0, 253.0, 253.0, 253.0, 253.0, 253.0, 253.0, 253.0, 253.0, 253.0, 253.0, 253.0, 253.0, 253.0, 253.0, 253.0, 254.0, 254.0, 254.0, 254.0, 254.0, 254.0, 254.0, 223.0, 229.0, 229.0, 229.0, 229.0, 229.0, 229.0, 229.0, 229.0, 223.0, 229.0, 223.0, 229.0, 229.0, 229.0, 229.0, 229.0, 229.0, 229.0, 229.0, 229.0, 229.0, 267.0, 267.0, 261.0, 277.0, 277.0, 277.0, 277.0, 277.0, 277.0, 277.0, 277.0, 370.0, 370.0, 370.0, 370.0, 370.0, 370.0, 354.0, 326.0, 306.0, 306.0, 306.0, 306.0, 306.0, 306.0, 306.0, 333.0, 333.0, 333.0, 333.0, 333.0, 333.0, 333.0, 333.0, 333.0, 337.0, 337.0, 337.0, 402.0, 402.0, 402.0, 402.0, 402.0, 402.0, 402.0, 402.0, 402.0, 402.0, 402.0, 402.0, 402.0, 402.0, 252.0, 252.0, 306.0, 306.0, 306.0, 306.0, 306.0, 306.0, 328.0, 340.0, 340.0, 340.0, 340.0, 340.0, 340.0, 340.0, 340.0, 340.0, 340.0, 340.0, 340.0, 315.0, 315.0, 315.0, 315.0, 315.0, 315.0, 315.0, 299.0, 306.0, 283.0, 283.0, 283.0, 283.0, 250.0, 391.0, 391.0, 391.0, 391.0, 311.0, 420.0, 420.0, 420.0, 361.0, 291.0, 285.0, 295.0, 295.0, 295.0, 295.0, 227.0, 227.0, 256.0, 380.0, 380.0], \"xaxis\": \"x\", \"y\": [35.08, 33.4, 31.72, 31.12, 28.39, 29.7, 27.47, 27.61, 31.63, 26.3, 27.13, 22.49, 24.66, 20.15, 30.93, 31.9, 31.3, 30.83, 31.02, 30.3, 30.6, 30.6, 33.52, 32.47, 32.41, 32.14, 33.9, 32.83, 35.01, 43.52, 42.89, 44.21, 45.48, 44.6, 38.14, 33.43, 46.48, 46.74, 46.78, 42.62, 46.6, 46.46, 41.84, 38.95, 33.26, 33.77, 38.85, 37.04, 35.9, 37.06, 36.23, 33.84, 36.62, 33.86, 36.65, 34.59, 37.24, 25.32, 26.27, 25.46, 28.11, 30.02, 25.0, 31.89, 30.4, 30.58, 32.55, 27.38, 23.81, 22.79, 20.28, 23.33, 24.34, 20.74, 18.1, 21.53, 22.81, 20.43, 21.72, 20.52, 23.31, 22.72, 22.04, 24.11, 26.34, 25.23, 39.12, 34.09, 31.18, 31.25, 30.49, 31.01, 34.94, 34.73, 33.26, 30.4, 39.45, 36.56, 37.59, 34.38, 27.27, 26.77, 24.99, 26.67, 29.5, 29.06, 31.79, 27.15, 28.49, 29.67, 28.73, 38.37, 37.64, 44.87, 43.54, 45.08, 37.38, 44.91, 37.72, 35.68, 31.77, 30.22, 32.61, 33.11, 36.06, 33.79, 31.01, 34.14, 36.59, 32.32, 36.4, 35.01, 36.48, 35.68, 37.27, 38.2, 39.58, 41.4, 38.88, 37.34, 33.03, 37.85, 36.12, 41.45, 32.42, 33.51, 37.2, 33.63, 38.44, 32.46, 32.78, 28.08, 33.8, 30.87, 26.86, 40.19, 38.51, 39.11, 43.12, 39.79, 38.92, 40.86, 42.29, 33.2, 34.45, 38.18, 43.15, 37.24, 34.5, 45.71, 29.78, 27.93, 30.76, 35.22, 36.01, 29.84, 30.51, 28.5, 32.35, 34.28, 32.74, 33.45, 33.71, 30.4, 29.56, 27.56, 28.85, 29.74, 30.78, 28.53, 31.74, 32.92, 35.62, 38.09, 36.31, 37.81, 35.4, 36.2, 35.11, 30.0, 26.39, 27.87, 28.99, 25.41, 25.14, 29.98, 25.54, 25.21, 32.73, 25.01, 24.54, 34.88, 29.67, 30.69, 36.28, 34.07, 28.25, 37.54, 39.53, 31.48, 29.69, 32.49, 35.22, 34.09, 35.22, 33.79, 37.96, 37.03, 37.66, 40.0, 32.44, 35.92, 31.86, 35.2, 35.89, 35.39, 40.53, 40.14, 34.91, 38.42, 36.59, 30.88, 34.0, 32.64, 30.87, 35.15, 31.94, 35.39, 37.73, 37.77, 32.05, 38.36, 42.61, 43.19, 38.3, 37.46, 31.07, 32.51, 33.02, 38.61, 28.72, 30.44, 30.26, 27.53, 34.54, 26.54, 27.39, 21.2, 33.9, 31.71, 34.49, 35.72, 27.98, 26.02, 29.0, 27.06, 26.39, 24.03, 33.17, 27.43, 31.39, 28.41, 30.16, 29.92, 30.02, 29.46, 27.31, 28.38, 29.64, 30.5, 40.23, 39.69, 35.81, 34.7, 38.75, 30.32, 35.07, 29.37, 33.09, 31.39, 31.19, 31.76, 33.84, 30.49, 34.47, 29.24, 31.72, 38.11, 35.69, 37.13, 34.04, 33.82, 32.46, 30.58, 29.93, 34.49, 38.16, 32.56, 32.54, 32.31, 32.6, 29.51, 31.26, 32.16, 31.26, 33.01, 21.27, 23.67, 25.79, 29.67, 27.15, 22.14, 25.69, 23.59, 27.62, 24.96, 22.79, 22.12, 22.21, 22.79, 26.82, 25.29, 32.84, 26.07, 25.56, 26.66, 27.64, 26.95, 32.4, 27.28, 27.28, 29.56, 31.61, 37.24, 33.4, 36.56, 37.67, 33.07, 34.88, 39.48, 37.77, 41.83, 40.1, 39.59, 40.66, 31.24, 40.21, 39.14, 36.4, 38.04, 40.48, 36.24, 35.22, 37.81, 25.1, 26.16, 29.65, 25.89, 28.43, 27.34, 28.71, 30.68, 27.69, 33.25, 31.54, 28.22, 32.02, 38.06, 37.31, 33.48, 38.79, 42.01, 38.08, 34.63, 28.4, 32.64, 33.01, 38.7, 33.66, 34.69, 22.25, 27.36, 31.42, 31.74, 30.62, 29.6, 28.29, 37.17, 34.45, 37.54, 39.44, 42.79, 37.86, 37.46, 36.98, 41.96, 44.3, 39.97, 42.35, 37.32, 36.4, 35.29, 35.55, 33.93, 34.74, 36.2, 32.68, 30.0, 30.44, 31.34, 29.48, 33.72, 28.94, 34.8, 21.92, 33.07, 31.74, 29.56, 37.04, 34.65, 33.19, 34.38, 36.17, 38.19, 28.88, 28.01, 29.1, 32.45, 25.68, 31.51, 22.32, 20.79, 33.29, 48.35, 46.11], \"yaxis\": \"y\"}],                        {\"legend\": {\"tracegroupgap\": 0}, \"template\": {\"data\": {\"bar\": [{\"error_x\": {\"color\": \"#2a3f5f\"}, \"error_y\": {\"color\": \"#2a3f5f\"}, \"marker\": {\"line\": {\"color\": \"#E5ECF6\", \"width\": 0.5}}, \"type\": \"bar\"}], \"barpolar\": [{\"marker\": {\"line\": {\"color\": \"#E5ECF6\", \"width\": 0.5}}, \"type\": \"barpolar\"}], \"carpet\": [{\"aaxis\": {\"endlinecolor\": \"#2a3f5f\", \"gridcolor\": \"white\", \"linecolor\": \"white\", \"minorgridcolor\": \"white\", \"startlinecolor\": \"#2a3f5f\"}, \"baxis\": {\"endlinecolor\": \"#2a3f5f\", \"gridcolor\": \"white\", \"linecolor\": \"white\", \"minorgridcolor\": \"white\", \"startlinecolor\": \"#2a3f5f\"}, \"type\": \"carpet\"}], \"choropleth\": [{\"colorbar\": {\"outlinewidth\": 0, \"ticks\": \"\"}, \"type\": \"choropleth\"}], \"contour\": [{\"colorbar\": {\"outlinewidth\": 0, \"ticks\": \"\"}, \"colorscale\": [[0.0, \"#0d0887\"], [0.1111111111111111, \"#46039f\"], [0.2222222222222222, \"#7201a8\"], [0.3333333333333333, \"#9c179e\"], [0.4444444444444444, \"#bd3786\"], [0.5555555555555556, \"#d8576b\"], [0.6666666666666666, \"#ed7953\"], [0.7777777777777778, \"#fb9f3a\"], [0.8888888888888888, \"#fdca26\"], [1.0, \"#f0f921\"]], \"type\": \"contour\"}], \"contourcarpet\": [{\"colorbar\": {\"outlinewidth\": 0, \"ticks\": \"\"}, \"type\": \"contourcarpet\"}], \"heatmap\": [{\"colorbar\": {\"outlinewidth\": 0, \"ticks\": \"\"}, \"colorscale\": [[0.0, \"#0d0887\"], [0.1111111111111111, \"#46039f\"], [0.2222222222222222, \"#7201a8\"], [0.3333333333333333, \"#9c179e\"], [0.4444444444444444, \"#bd3786\"], [0.5555555555555556, \"#d8576b\"], [0.6666666666666666, \"#ed7953\"], [0.7777777777777778, \"#fb9f3a\"], [0.8888888888888888, \"#fdca26\"], [1.0, \"#f0f921\"]], \"type\": \"heatmap\"}], \"heatmapgl\": [{\"colorbar\": {\"outlinewidth\": 0, \"ticks\": \"\"}, \"colorscale\": [[0.0, \"#0d0887\"], [0.1111111111111111, \"#46039f\"], [0.2222222222222222, \"#7201a8\"], [0.3333333333333333, \"#9c179e\"], [0.4444444444444444, \"#bd3786\"], [0.5555555555555556, \"#d8576b\"], [0.6666666666666666, \"#ed7953\"], [0.7777777777777778, \"#fb9f3a\"], [0.8888888888888888, \"#fdca26\"], [1.0, \"#f0f921\"]], \"type\": \"heatmapgl\"}], \"histogram\": [{\"marker\": {\"colorbar\": {\"outlinewidth\": 0, \"ticks\": \"\"}}, \"type\": \"histogram\"}], \"histogram2d\": [{\"colorbar\": {\"outlinewidth\": 0, \"ticks\": \"\"}, \"colorscale\": [[0.0, \"#0d0887\"], [0.1111111111111111, \"#46039f\"], [0.2222222222222222, \"#7201a8\"], [0.3333333333333333, \"#9c179e\"], [0.4444444444444444, \"#bd3786\"], [0.5555555555555556, \"#d8576b\"], [0.6666666666666666, \"#ed7953\"], [0.7777777777777778, \"#fb9f3a\"], [0.8888888888888888, \"#fdca26\"], [1.0, \"#f0f921\"]], \"type\": \"histogram2d\"}], \"histogram2dcontour\": [{\"colorbar\": {\"outlinewidth\": 0, \"ticks\": \"\"}, \"colorscale\": [[0.0, \"#0d0887\"], [0.1111111111111111, \"#46039f\"], [0.2222222222222222, \"#7201a8\"], [0.3333333333333333, \"#9c179e\"], [0.4444444444444444, \"#bd3786\"], [0.5555555555555556, \"#d8576b\"], [0.6666666666666666, \"#ed7953\"], [0.7777777777777778, \"#fb9f3a\"], [0.8888888888888888, \"#fdca26\"], [1.0, \"#f0f921\"]], \"type\": \"histogram2dcontour\"}], \"mesh3d\": [{\"colorbar\": {\"outlinewidth\": 0, \"ticks\": \"\"}, \"type\": \"mesh3d\"}], \"parcoords\": [{\"line\": {\"colorbar\": {\"outlinewidth\": 0, \"ticks\": \"\"}}, \"type\": \"parcoords\"}], \"pie\": [{\"automargin\": true, \"type\": \"pie\"}], \"scatter\": [{\"marker\": {\"colorbar\": {\"outlinewidth\": 0, \"ticks\": \"\"}}, \"type\": \"scatter\"}], \"scatter3d\": [{\"line\": {\"colorbar\": {\"outlinewidth\": 0, \"ticks\": \"\"}}, \"marker\": {\"colorbar\": {\"outlinewidth\": 0, \"ticks\": \"\"}}, \"type\": \"scatter3d\"}], \"scattercarpet\": [{\"marker\": {\"colorbar\": {\"outlinewidth\": 0, \"ticks\": \"\"}}, \"type\": \"scattercarpet\"}], \"scattergeo\": [{\"marker\": {\"colorbar\": {\"outlinewidth\": 0, \"ticks\": \"\"}}, \"type\": \"scattergeo\"}], \"scattergl\": [{\"marker\": {\"colorbar\": {\"outlinewidth\": 0, \"ticks\": \"\"}}, \"type\": \"scattergl\"}], \"scattermapbox\": [{\"marker\": {\"colorbar\": {\"outlinewidth\": 0, \"ticks\": \"\"}}, \"type\": \"scattermapbox\"}], \"scatterpolar\": [{\"marker\": {\"colorbar\": {\"outlinewidth\": 0, \"ticks\": \"\"}}, \"type\": \"scatterpolar\"}], \"scatterpolargl\": [{\"marker\": {\"colorbar\": {\"outlinewidth\": 0, \"ticks\": \"\"}}, \"type\": \"scatterpolargl\"}], \"scatterternary\": [{\"marker\": {\"colorbar\": {\"outlinewidth\": 0, \"ticks\": \"\"}}, \"type\": \"scatterternary\"}], \"surface\": [{\"colorbar\": {\"outlinewidth\": 0, \"ticks\": \"\"}, \"colorscale\": [[0.0, \"#0d0887\"], [0.1111111111111111, \"#46039f\"], [0.2222222222222222, \"#7201a8\"], [0.3333333333333333, \"#9c179e\"], [0.4444444444444444, \"#bd3786\"], [0.5555555555555556, \"#d8576b\"], [0.6666666666666666, \"#ed7953\"], [0.7777777777777778, \"#fb9f3a\"], [0.8888888888888888, \"#fdca26\"], [1.0, \"#f0f921\"]], \"type\": \"surface\"}], \"table\": [{\"cells\": {\"fill\": {\"color\": \"#EBF0F8\"}, \"line\": {\"color\": \"white\"}}, \"header\": {\"fill\": {\"color\": \"#C8D4E3\"}, \"line\": {\"color\": \"white\"}}, \"type\": \"table\"}]}, \"layout\": {\"annotationdefaults\": {\"arrowcolor\": \"#2a3f5f\", \"arrowhead\": 0, \"arrowwidth\": 1}, \"autotypenumbers\": \"strict\", \"coloraxis\": {\"colorbar\": {\"outlinewidth\": 0, \"ticks\": \"\"}}, \"colorscale\": {\"diverging\": [[0, \"#8e0152\"], [0.1, \"#c51b7d\"], [0.2, \"#de77ae\"], [0.3, \"#f1b6da\"], [0.4, \"#fde0ef\"], [0.5, \"#f7f7f7\"], [0.6, \"#e6f5d0\"], [0.7, \"#b8e186\"], [0.8, \"#7fbc41\"], [0.9, \"#4d9221\"], [1, \"#276419\"]], \"sequential\": [[0.0, \"#0d0887\"], [0.1111111111111111, \"#46039f\"], [0.2222222222222222, \"#7201a8\"], [0.3333333333333333, \"#9c179e\"], [0.4444444444444444, \"#bd3786\"], [0.5555555555555556, \"#d8576b\"], [0.6666666666666666, \"#ed7953\"], [0.7777777777777778, \"#fb9f3a\"], [0.8888888888888888, \"#fdca26\"], [1.0, \"#f0f921\"]], \"sequentialminus\": [[0.0, \"#0d0887\"], [0.1111111111111111, \"#46039f\"], [0.2222222222222222, \"#7201a8\"], [0.3333333333333333, \"#9c179e\"], [0.4444444444444444, \"#bd3786\"], [0.5555555555555556, \"#d8576b\"], [0.6666666666666666, \"#ed7953\"], [0.7777777777777778, \"#fb9f3a\"], [0.8888888888888888, \"#fdca26\"], [1.0, \"#f0f921\"]]}, \"colorway\": [\"#636efa\", \"#EF553B\", \"#00cc96\", \"#ab63fa\", \"#FFA15A\", \"#19d3f3\", \"#FF6692\", \"#B6E880\", \"#FF97FF\", \"#FECB52\"], \"font\": {\"color\": \"#2a3f5f\"}, \"geo\": {\"bgcolor\": \"white\", \"lakecolor\": \"white\", \"landcolor\": \"#E5ECF6\", \"showlakes\": true, \"showland\": true, \"subunitcolor\": \"white\"}, \"hoverlabel\": {\"align\": \"left\"}, \"hovermode\": \"closest\", \"mapbox\": {\"style\": \"light\"}, \"paper_bgcolor\": \"white\", \"plot_bgcolor\": \"#E5ECF6\", \"polar\": {\"angularaxis\": {\"gridcolor\": \"white\", \"linecolor\": \"white\", \"ticks\": \"\"}, \"bgcolor\": \"#E5ECF6\", \"radialaxis\": {\"gridcolor\": \"white\", \"linecolor\": \"white\", \"ticks\": \"\"}}, \"scene\": {\"xaxis\": {\"backgroundcolor\": \"#E5ECF6\", \"gridcolor\": \"white\", \"gridwidth\": 2, \"linecolor\": \"white\", \"showbackground\": true, \"ticks\": \"\", \"zerolinecolor\": \"white\"}, \"yaxis\": {\"backgroundcolor\": \"#E5ECF6\", \"gridcolor\": \"white\", \"gridwidth\": 2, \"linecolor\": \"white\", \"showbackground\": true, \"ticks\": \"\", \"zerolinecolor\": \"white\"}, \"zaxis\": {\"backgroundcolor\": \"#E5ECF6\", \"gridcolor\": \"white\", \"gridwidth\": 2, \"linecolor\": \"white\", \"showbackground\": true, \"ticks\": \"\", \"zerolinecolor\": \"white\"}}, \"shapedefaults\": {\"line\": {\"color\": \"#2a3f5f\"}}, \"ternary\": {\"aaxis\": {\"gridcolor\": \"white\", \"linecolor\": \"white\", \"ticks\": \"\"}, \"baxis\": {\"gridcolor\": \"white\", \"linecolor\": \"white\", \"ticks\": \"\"}, \"bgcolor\": \"#E5ECF6\", \"caxis\": {\"gridcolor\": \"white\", \"linecolor\": \"white\", \"ticks\": \"\"}}, \"title\": {\"x\": 0.05}, \"xaxis\": {\"automargin\": true, \"gridcolor\": \"white\", \"linecolor\": \"white\", \"ticks\": \"\", \"title\": {\"standoff\": 15}, \"zerolinecolor\": \"white\", \"zerolinewidth\": 2}, \"yaxis\": {\"automargin\": true, \"gridcolor\": \"white\", \"linecolor\": \"white\", \"ticks\": \"\", \"title\": {\"standoff\": 15}, \"zerolinecolor\": \"white\", \"zerolinewidth\": 2}}}, \"title\": {\"text\": \"Rompimento7Dias x Rompimento 28 Dias\"}, \"xaxis\": {\"anchor\": \"y\", \"domain\": [0.0, 1.0], \"title\": {\"text\": \"ConsumoPorM3\"}}, \"yaxis\": {\"anchor\": \"x\", \"domain\": [0.0, 1.0], \"title\": {\"text\": \"Rompimento28Dias\"}}},                        {\"responsive\": true}                    ).then(function(){\n",
       "                            \n",
       "var gd = document.getElementById('820cc16f-0505-478d-81c2-3c3f1c256ac1');\n",
       "var x = new MutationObserver(function (mutations, observer) {{\n",
       "        var display = window.getComputedStyle(gd).display;\n",
       "        if (!display || display === 'none') {{\n",
       "            console.log([gd, 'removed!']);\n",
       "            Plotly.purge(gd);\n",
       "            observer.disconnect();\n",
       "        }}\n",
       "}});\n",
       "\n",
       "// Listen for the removal of the full notebook cells\n",
       "var notebookContainer = gd.closest('#notebook-container');\n",
       "if (notebookContainer) {{\n",
       "    x.observe(notebookContainer, {childList: true});\n",
       "}}\n",
       "\n",
       "// Listen for the clearing of the current output cell\n",
       "var outputEl = gd.closest('.output');\n",
       "if (outputEl) {{\n",
       "    x.observe(outputEl, {childList: true});\n",
       "}}\n",
       "\n",
       "                        })                };                });            </script>        </div>"
      ]
     },
     "metadata": {},
     "output_type": "display_data"
    }
   ],
   "source": [
    "fig = px.scatter(dados_aglomerante, x=\"ConsumoPorM3\", y=\"Rompimento28Dias\", title='Rompimento7Dias x Rompimento 28 Dias')\n",
    "fig.show()"
   ]
  },
  {
   "cell_type": "code",
   "execution_count": 74,
   "metadata": {},
   "outputs": [
    {
     "data": {
      "application/vnd.plotly.v1+json": {
       "config": {
        "plotlyServerURL": "https://plot.ly"
       },
       "data": [
        {
         "hovertemplate": "ConsumoPorM3=%{x}<br>Rompimento28Dias=%{y}<br>RelacaoAguaCimento=%{z}<br>TipoTraco=%{marker.color}<extra></extra>",
         "legendgroup": "",
         "marker": {
          "color": [
           0,
           0,
           0,
           0,
           0,
           0,
           0,
           0,
           0,
           0,
           0,
           0,
           0,
           0,
           0,
           0,
           0,
           0,
           0,
           0,
           0,
           0,
           0,
           0,
           0,
           0,
           0,
           0,
           0,
           1,
           1,
           1,
           1,
           1,
           1,
           1,
           1,
           1,
           1,
           1,
           1,
           1,
           1,
           1,
           1,
           1,
           1,
           1,
           1,
           1,
           1,
           1,
           1,
           1,
           1,
           1,
           1,
           0,
           0,
           0,
           0,
           0,
           0,
           0,
           0,
           0,
           0,
           0,
           0,
           0,
           0,
           0,
           0,
           0,
           0,
           0,
           0,
           0,
           0,
           0,
           0,
           0,
           0,
           0,
           0,
           0,
           1,
           1,
           1,
           1,
           1,
           1,
           1,
           1,
           1,
           1,
           1,
           0,
           0,
           0,
           0,
           0,
           0,
           0,
           0,
           0,
           0,
           0,
           0,
           0,
           0,
           0,
           0,
           0,
           0,
           0,
           0,
           0,
           0,
           0,
           0,
           0,
           0,
           0,
           0,
           0,
           0,
           0,
           0,
           0,
           0,
           0,
           0,
           0,
           0,
           0,
           0,
           0,
           0,
           0,
           0,
           0,
           0,
           0,
           0,
           0,
           0,
           0,
           0,
           0,
           0,
           0,
           0,
           0,
           0,
           0,
           1,
           1,
           1,
           1,
           1,
           1,
           1,
           1,
           1,
           1,
           1,
           1,
           1,
           1,
           0,
           0,
           0,
           0,
           0,
           0,
           0,
           0,
           0,
           0,
           0,
           0,
           0,
           0,
           0,
           0,
           0,
           0,
           0,
           0,
           0,
           0,
           0,
           0,
           0,
           0,
           0,
           0,
           0,
           0,
           0,
           0,
           0,
           0,
           0,
           0,
           0,
           0,
           0,
           0,
           0,
           0,
           0,
           0,
           0,
           0,
           0,
           0,
           0,
           0,
           0,
           0,
           0,
           0,
           0,
           0,
           0,
           0,
           0,
           0,
           0,
           0,
           0,
           0,
           0,
           0,
           0,
           0,
           0,
           0,
           0,
           0,
           0,
           0,
           0,
           0,
           0,
           0,
           0,
           0,
           1,
           0,
           0,
           0,
           0,
           0,
           0,
           0,
           0,
           0,
           0,
           0,
           0,
           0,
           0,
           0,
           0,
           0,
           0,
           0,
           0,
           0,
           0,
           0,
           0,
           0,
           0,
           0,
           0,
           0,
           0,
           0,
           0,
           0,
           0,
           0,
           0,
           0,
           0,
           0,
           0,
           0,
           0,
           0,
           0,
           0,
           0,
           0,
           0,
           0,
           0,
           0,
           0,
           0,
           0,
           0,
           0,
           0,
           0,
           0,
           0,
           0,
           0,
           0,
           0,
           0,
           0,
           0,
           0,
           0,
           0,
           0,
           0,
           0,
           0,
           0,
           0,
           0,
           0,
           0,
           0,
           0,
           0,
           0,
           0,
           0,
           0,
           0,
           0,
           0,
           0,
           0,
           0,
           0,
           0,
           0,
           0,
           0,
           0,
           0,
           0,
           0,
           0,
           0,
           0,
           0,
           0,
           0,
           0,
           1,
           1,
           1,
           1,
           1,
           1,
           1,
           0,
           0,
           0,
           0,
           0,
           0,
           0,
           0,
           1,
           1,
           1,
           1,
           1,
           1,
           1,
           1,
           1,
           1,
           1,
           1,
           1,
           1,
           1,
           1,
           1,
           1,
           1,
           1,
           1,
           1,
           1,
           1,
           1,
           1,
           0,
           0,
           0,
           0,
           0,
           0,
           0,
           0,
           0,
           0,
           0,
           0,
           0,
           0,
           0,
           0,
           0,
           0,
           0,
           0,
           0,
           0,
           0,
           0,
           0,
           0,
           0,
           0,
           0,
           0,
           0,
           0,
           0,
           0,
           0,
           1,
           1,
           1,
           1,
           0,
           1,
           1,
           1,
           0,
           0,
           0,
           0,
           0,
           0,
           0,
           0,
           0,
           0,
           1,
           1
          ],
          "coloraxis": "coloraxis",
          "symbol": "circle"
         },
         "mode": "markers",
         "name": "",
         "scene": "scene",
         "showlegend": false,
         "type": "scatter3d",
         "x": [
          362,
          320,
          320,
          320,
          320,
          324,
          324,
          324,
          324,
          214,
          214,
          214,
          214,
          194,
          354,
          354,
          354,
          354,
          354,
          354,
          354,
          354,
          373,
          373,
          373,
          373,
          373,
          373,
          373,
          394,
          394,
          394,
          394,
          394,
          394,
          394,
          394,
          394,
          394,
          394,
          394,
          394,
          394,
          394,
          364,
          364,
          364,
          364,
          364,
          364,
          364,
          364,
          364,
          364,
          364,
          369,
          369,
          241,
          241,
          241,
          241,
          241,
          241,
          241,
          241,
          241,
          241,
          241,
          233,
          219,
          219,
          219,
          219,
          219,
          219,
          219,
          219,
          219,
          219,
          219,
          219,
          219,
          233,
          237,
          228,
          228,
          365,
          400,
          400,
          400,
          400,
          400,
          400,
          400,
          400,
          400,
          400,
          292,
          292,
          292,
          271,
          289,
          289,
          289,
          289,
          289,
          289,
          287,
          281,
          281,
          281,
          318,
          318,
          318,
          318,
          318,
          318,
          318,
          318,
          314,
          295,
          302,
          302,
          302,
          302,
          302,
          302,
          302,
          302,
          302,
          302,
          310,
          310,
          310,
          310,
          310,
          310,
          310,
          311,
          299,
          299,
          299,
          292,
          292,
          276,
          276,
          276,
          276,
          276,
          266,
          266,
          260,
          266,
          266,
          266,
          309,
          400,
          400,
          400,
          400,
          400,
          400,
          400,
          400,
          400,
          400,
          400,
          400,
          400,
          394,
          272,
          272,
          272,
          272,
          272,
          272,
          272,
          272,
          272,
          272,
          272,
          272,
          272,
          272,
          256,
          256,
          256,
          262,
          262,
          264,
          264,
          264,
          264,
          264,
          264,
          264,
          264,
          264,
          264,
          244,
          244,
          244,
          244,
          244,
          244,
          233,
          227,
          227,
          227,
          221,
          227,
          264,
          278,
          278,
          278,
          278,
          275,
          325,
          325,
          325,
          325,
          325,
          325,
          325,
          325,
          325,
          325,
          325,
          325,
          325,
          318,
          318,
          318,
          329,
          329,
          329,
          329,
          329,
          329,
          329,
          329,
          329,
          329,
          307,
          307,
          319,
          319,
          319,
          402,
          402,
          414,
          321,
          321,
          321,
          321,
          321,
          321,
          321,
          321,
          283,
          273,
          268,
          273,
          273,
          272,
          249,
          249,
          244,
          281,
          281,
          281,
          281,
          268,
          268,
          268,
          268,
          268,
          268,
          268,
          268,
          268,
          268,
          268,
          268,
          268,
          273,
          266,
          268,
          268,
          268,
          275,
          275,
          275,
          275,
          275,
          253,
          253,
          253,
          253,
          253,
          253,
          253,
          253,
          253,
          253,
          253,
          253,
          253,
          253,
          253,
          253,
          253,
          253,
          253,
          253,
          253,
          253,
          253,
          253,
          254,
          254,
          254,
          254,
          254,
          254,
          254,
          223,
          229,
          229,
          229,
          229,
          229,
          229,
          229,
          229,
          223,
          229,
          223,
          229,
          229,
          229,
          229,
          229,
          229,
          229,
          229,
          229,
          229,
          267,
          267,
          261,
          277,
          277,
          277,
          277,
          277,
          277,
          277,
          277,
          370,
          370,
          370,
          370,
          370,
          370,
          354,
          326,
          306,
          306,
          306,
          306,
          306,
          306,
          306,
          333,
          333,
          333,
          333,
          333,
          333,
          333,
          333,
          333,
          337,
          337,
          337,
          402,
          402,
          402,
          402,
          402,
          402,
          402,
          402,
          402,
          402,
          402,
          402,
          402,
          402,
          252,
          252,
          306,
          306,
          306,
          306,
          306,
          306,
          328,
          340,
          340,
          340,
          340,
          340,
          340,
          340,
          340,
          340,
          340,
          340,
          340,
          315,
          315,
          315,
          315,
          315,
          315,
          315,
          299,
          306,
          283,
          283,
          283,
          283,
          250,
          391,
          391,
          391,
          391,
          311,
          420,
          420,
          420,
          361,
          291,
          285,
          295,
          295,
          295,
          295,
          227,
          227,
          256,
          380,
          380
         ],
         "y": [
          35.08,
          33.4,
          31.72,
          31.12,
          28.39,
          29.7,
          27.47,
          27.61,
          31.63,
          26.3,
          27.13,
          22.49,
          24.66,
          20.15,
          30.93,
          31.9,
          31.3,
          30.83,
          31.02,
          30.3,
          30.6,
          30.6,
          33.52,
          32.47,
          32.41,
          32.14,
          33.9,
          32.83,
          35.01,
          43.52,
          42.89,
          44.21,
          45.48,
          44.6,
          38.14,
          33.43,
          46.48,
          46.74,
          46.78,
          42.62,
          46.6,
          46.46,
          41.84,
          38.95,
          33.26,
          33.77,
          38.85,
          37.04,
          35.9,
          37.06,
          36.23,
          33.84,
          36.62,
          33.86,
          36.65,
          34.59,
          37.24,
          25.32,
          26.27,
          25.46,
          28.11,
          30.02,
          25,
          31.89,
          30.4,
          30.58,
          32.55,
          27.38,
          23.81,
          22.79,
          20.28,
          23.33,
          24.34,
          20.74,
          18.1,
          21.53,
          22.81,
          20.43,
          21.72,
          20.52,
          23.31,
          22.72,
          22.04,
          24.11,
          26.34,
          25.23,
          39.12,
          34.09,
          31.18,
          31.25,
          30.49,
          31.01,
          34.94,
          34.73,
          33.26,
          30.4,
          39.45,
          36.56,
          37.59,
          34.38,
          27.27,
          26.77,
          24.99,
          26.67,
          29.5,
          29.06,
          31.79,
          27.15,
          28.49,
          29.67,
          28.73,
          38.37,
          37.64,
          44.87,
          43.54,
          45.08,
          37.38,
          44.91,
          37.72,
          35.68,
          31.77,
          30.22,
          32.61,
          33.11,
          36.06,
          33.79,
          31.01,
          34.14,
          36.59,
          32.32,
          36.4,
          35.01,
          36.48,
          35.68,
          37.27,
          38.2,
          39.58,
          41.4,
          38.88,
          37.34,
          33.03,
          37.85,
          36.12,
          41.45,
          32.42,
          33.51,
          37.2,
          33.63,
          38.44,
          32.46,
          32.78,
          28.08,
          33.8,
          30.87,
          26.86,
          40.19,
          38.51,
          39.11,
          43.12,
          39.79,
          38.92,
          40.86,
          42.29,
          33.2,
          34.45,
          38.18,
          43.15,
          37.24,
          34.5,
          45.71,
          29.78,
          27.93,
          30.76,
          35.22,
          36.01,
          29.84,
          30.51,
          28.5,
          32.35,
          34.28,
          32.74,
          33.45,
          33.71,
          30.4,
          29.56,
          27.56,
          28.85,
          29.74,
          30.78,
          28.53,
          31.74,
          32.92,
          35.62,
          38.09,
          36.31,
          37.81,
          35.4,
          36.2,
          35.11,
          30,
          26.39,
          27.87,
          28.99,
          25.41,
          25.14,
          29.98,
          25.54,
          25.21,
          32.73,
          25.01,
          24.54,
          34.88,
          29.67,
          30.69,
          36.28,
          34.07,
          28.25,
          37.54,
          39.53,
          31.48,
          29.69,
          32.49,
          35.22,
          34.09,
          35.22,
          33.79,
          37.96,
          37.03,
          37.66,
          40,
          32.44,
          35.92,
          31.86,
          35.2,
          35.89,
          35.39,
          40.53,
          40.14,
          34.91,
          38.42,
          36.59,
          30.88,
          34,
          32.64,
          30.87,
          35.15,
          31.94,
          35.39,
          37.73,
          37.77,
          32.05,
          38.36,
          42.61,
          43.19,
          38.3,
          37.46,
          31.07,
          32.51,
          33.02,
          38.61,
          28.72,
          30.44,
          30.26,
          27.53,
          34.54,
          26.54,
          27.39,
          21.2,
          33.9,
          31.71,
          34.49,
          35.72,
          27.98,
          26.02,
          29,
          27.06,
          26.39,
          24.03,
          33.17,
          27.43,
          31.39,
          28.41,
          30.16,
          29.92,
          30.02,
          29.46,
          27.31,
          28.38,
          29.64,
          30.5,
          40.23,
          39.69,
          35.81,
          34.7,
          38.75,
          30.32,
          35.07,
          29.37,
          33.09,
          31.39,
          31.19,
          31.76,
          33.84,
          30.49,
          34.47,
          29.24,
          31.72,
          38.11,
          35.69,
          37.13,
          34.04,
          33.82,
          32.46,
          30.58,
          29.93,
          34.49,
          38.16,
          32.56,
          32.54,
          32.31,
          32.6,
          29.51,
          31.26,
          32.16,
          31.26,
          33.01,
          21.27,
          23.67,
          25.79,
          29.67,
          27.15,
          22.14,
          25.69,
          23.59,
          27.62,
          24.96,
          22.79,
          22.12,
          22.21,
          22.79,
          26.82,
          25.29,
          32.84,
          26.07,
          25.56,
          26.66,
          27.64,
          26.95,
          32.4,
          27.28,
          27.28,
          29.56,
          31.61,
          37.24,
          33.4,
          36.56,
          37.67,
          33.07,
          34.88,
          39.48,
          37.77,
          41.83,
          40.1,
          39.59,
          40.66,
          31.24,
          40.21,
          39.14,
          36.4,
          38.04,
          40.48,
          36.24,
          35.22,
          37.81,
          25.1,
          26.16,
          29.65,
          25.89,
          28.43,
          27.34,
          28.71,
          30.68,
          27.69,
          33.25,
          31.54,
          28.22,
          32.02,
          38.06,
          37.31,
          33.48,
          38.79,
          42.01,
          38.08,
          34.63,
          28.4,
          32.64,
          33.01,
          38.7,
          33.66,
          34.69,
          22.25,
          27.36,
          31.42,
          31.74,
          30.62,
          29.6,
          28.29,
          37.17,
          34.45,
          37.54,
          39.44,
          42.79,
          37.86,
          37.46,
          36.98,
          41.96,
          44.3,
          39.97,
          42.35,
          37.32,
          36.4,
          35.29,
          35.55,
          33.93,
          34.74,
          36.2,
          32.68,
          30,
          30.44,
          31.34,
          29.48,
          33.72,
          28.94,
          34.8,
          21.92,
          33.07,
          31.74,
          29.56,
          37.04,
          34.65,
          33.19,
          34.38,
          36.17,
          38.19,
          28.88,
          28.01,
          29.1,
          32.45,
          25.68,
          31.51,
          22.32,
          20.79,
          33.29,
          48.35,
          46.11
         ],
         "z": [
          0.5386740331491713,
          0.559375,
          0.678125,
          0.678125,
          0.678125,
          0.5802469135802469,
          0.5802469135802469,
          0.5802469135802469,
          0.6697530864197531,
          0.616822429906542,
          0.616822429906542,
          0.616822429906542,
          0.616822429906542,
          0.9123711340206184,
          0.5338983050847458,
          0.5282485875706214,
          0.5338983050847458,
          0.5338983050847458,
          0.5338983050847458,
          0.5338983050847458,
          0.5338983050847458,
          0.53954802259887,
          0.4932975871313673,
          0.4932975871313673,
          0.4932975871313673,
          0.4932975871313673,
          0.4932975871313673,
          0.4932975871313673,
          0.4423592493297587,
          0.4060913705583756,
          0.4060913705583756,
          0.4060913705583756,
          0.4060913705583756,
          0.4060913705583756,
          0.4060913705583756,
          0.4342053885201093,
          0.44416243654822335,
          0.4289340101522843,
          0.434010152284264,
          0.434010152284264,
          0.434010152284264,
          0.434010152284264,
          0.4060913705583756,
          0.4060913705583756,
          0.5412087912087912,
          0.5412087912087912,
          0.5412087912087912,
          0.5412087912087912,
          0.5412087912087912,
          0.5412087912087912,
          0.5412087912087912,
          0.5412087912087912,
          0.5412087912087912,
          0.4120879120879121,
          0.4120879120879121,
          0.5420054200542005,
          0.5311653116531165,
          0.6182572614107884,
          0.6182572614107884,
          0.6182572614107884,
          0.6182572614107884,
          0.6016597510373444,
          0.5518672199170125,
          0.5684647302904564,
          0.5601659751037344,
          0.5601659751037344,
          0.5684647302904564,
          0.5684647302904564,
          0.7811158798283262,
          0.8127853881278538,
          0.8127853881278538,
          0.8264840182648402,
          0.8401826484018264,
          0.8401826484018264,
          0.8401826484018264,
          0.8401826484018264,
          0.8401826484018264,
          0.8401826484018264,
          0.8264840182648402,
          0.8264840182648402,
          0.8264840182648402,
          0.8264840182648402,
          0.776824034334764,
          0.7552742616033755,
          0.7412280701754386,
          0.7324561403508771,
          0.4303477344573235,
          0.475,
          0.5175,
          0.4825,
          0.4825,
          0.4825,
          0.4825,
          0.4825,
          0.4825,
          0.4825,
          0.5,
          0.5376712328767124,
          0.5958904109589042,
          0.5958904109589042,
          0.5682656826568265,
          0.5709342560553633,
          0.5709342560553633,
          0.5709342560553633,
          0.5605536332179931,
          0.5605536332179931,
          0.5190311418685121,
          0.6794425087108014,
          0.6832740213523132,
          0.6832740213523132,
          0.5587188612099644,
          0.4937106918238994,
          0.4937106918238994,
          0.4622641509433962,
          0.4622641509433962,
          0.4622641509433962,
          0.4622641509433962,
          0.4716981132075472,
          0.4716981132075472,
          0.6146496815286624,
          0.6372881355932203,
          0.6324503311258278,
          0.6324503311258278,
          0.6490066225165563,
          0.6490066225165563,
          0.6490066225165563,
          0.6357615894039735,
          0.6158940397350994,
          0.6158940397350994,
          0.6158940397350994,
          0.6158940397350994,
          0.6096774193548387,
          0.6096774193548387,
          0.6096774193548387,
          0.6096774193548387,
          0.6096774193548387,
          0.6096774193548387,
          0.6096774193548387,
          0.6141479099678456,
          0.6187290969899666,
          0.6220735785953178,
          0.6287625418060201,
          0.6472602739726028,
          0.6267123287671232,
          0.6702898550724637,
          0.6702898550724637,
          0.6702898550724637,
          0.6702898550724637,
          0.6702898550724637,
          0.7105263157894737,
          0.7105263157894737,
          0.7269230769230769,
          0.7142857142857143,
          0.7142857142857143,
          0.7255639097744361,
          0.6084142394822006,
          0.5125,
          0.5125,
          0.5225,
          0.5225,
          0.5225,
          0.5225,
          0.5,
          0.4925,
          0.4925,
          0.4925,
          0.4925,
          0.4925,
          0.4825,
          0.41116751269035534,
          0.5588235294117647,
          0.5,
          0.5,
          0.5330882352941176,
          0.5073529411764706,
          0.5073529411764706,
          0.5073529411764706,
          0.5183823529411765,
          0.5183823529411765,
          0.5588235294117647,
          0.5183823529411765,
          0.5183823529411765,
          0.5183823529411765,
          0.5187165775401069,
          0.703125,
          0.703125,
          0.703125,
          0.6908396946564885,
          0.6717557251908397,
          0.6856060606060606,
          0.678030303030303,
          0.6590909090909091,
          0.6856060606060606,
          0.6439393939393939,
          0.6856060606060606,
          0.6856060606060606,
          0.6856060606060606,
          0.6818181818181818,
          0.6818181818181818,
          0.7131147540983607,
          0.7377049180327869,
          0.639344262295082,
          0.6311475409836066,
          0.6311475409836066,
          0.6311475409836066,
          0.6309012875536479,
          0.7665198237885462,
          0.8017621145374451,
          0.7841409691629956,
          0.8144796380090498,
          0.8017621145374451,
          0.6893939393939394,
          0.5359712230215827,
          0.5035971223021583,
          0.5179856115107914,
          0.5359712230215827,
          0.68,
          0.4861538461538462,
          0.4861538461538462,
          0.4646153846153846,
          0.4646153846153846,
          0.4646153846153846,
          0.4738461538461538,
          0.4738461538461538,
          0.4953846153846154,
          0.4953846153846154,
          0.4953846153846154,
          0.4953846153846154,
          0.4953846153846154,
          0.4953846153846154,
          0.6132075471698113,
          0.610062893081761,
          0.610062893081761,
          0.5835866261398176,
          0.5835866261398176,
          0.5835866261398176,
          0.5927051671732523,
          0.5927051671732523,
          0.5927051671732523,
          0.5927051671732523,
          0.5927051671732523,
          0.5927051671732523,
          0.5927051671732523,
          0.6416938110749185,
          0.6416938110749185,
          0.6175548589341693,
          0.6175548589341693,
          0.6175548589341693,
          0.5422885572139303,
          0.5422885572139303,
          0.4951690821256038,
          0.6261682242990654,
          0.6261682242990654,
          0.6261682242990654,
          0.6261682242990654,
          0.6261682242990654,
          0.6323987538940811,
          0.6323987538940811,
          0.6326064382139148,
          0.7208480565371025,
          0.7326007326007326,
          0.746268656716418,
          0.7326007326007326,
          0.7326007326007326,
          0.7352941176470589,
          0.7670682730923695,
          0.7670682730923695,
          0.7991803278688525,
          0.6797153024911032,
          0.6797153024911032,
          0.6797153024911032,
          0.6797153024911032,
          0.7089552238805971,
          0.7089552238805971,
          0.7089552238805971,
          0.7089552238805971,
          0.7276119402985075,
          0.7276119402985075,
          0.7089552238805971,
          0.6902985074626866,
          0.6902985074626866,
          0.6902985074626866,
          0.6902985074626866,
          0.7014925373134329,
          0.7014925373134329,
          0.6925894618202311,
          0.6992481203007519,
          0.7014925373134329,
          0.7014925373134329,
          0.6865671641791045,
          0.6581818181818182,
          0.6436363636363637,
          0.509090909090909,
          0.509090909090909,
          0.509090909090909,
          0.7391304347826086,
          0.7391304347826086,
          0.7391304347826086,
          0.7391304347826086,
          0.7391304347826086,
          0.7391304347826086,
          0.7391304347826086,
          0.7470355731225297,
          0.7470355731225297,
          0.7470355731225297,
          0.7233201581027668,
          0.7233201581027668,
          0.7233201581027668,
          0.7233201581027668,
          0.7233201581027668,
          0.7233201581027668,
          0.7233201581027668,
          0.7233201581027668,
          0.7233201581027668,
          0.7430830039525692,
          0.7391304347826086,
          0.7391304347826086,
          0.7391304347826086,
          0.7391304347826086,
          0.7401574803149606,
          0.7322834645669292,
          0.7401574803149606,
          0.7401574803149606,
          0.7401574803149606,
          0.7401574803149606,
          0.7401574803149606,
          0.8430493273542601,
          0.8209606986899564,
          0.8384279475982532,
          0.8209606986899564,
          0.8384279475982532,
          0.8296943231441049,
          0.8296943231441049,
          0.8296943231441049,
          0.8296943231441049,
          0.852017937219731,
          0.8296943231441049,
          0.852017937219731,
          0.8296943231441049,
          0.8384279475982532,
          0.8427947598253275,
          0.8427947598253275,
          0.8427947598253275,
          0.7161572052401747,
          0.7161572052401747,
          0.7161572052401747,
          0.7161572052401747,
          0.7161572052401747,
          0.7116104868913857,
          0.704119850187266,
          0.7203065134099617,
          0.6859205776173285,
          0.6859205776173285,
          0.6859205776173285,
          0.6859205776173285,
          0.6859205776173285,
          0.6859205776173285,
          0.6787003610108303,
          0.6787003610108303,
          0.5837837837837838,
          0.5783783783783784,
          0.5783783783783784,
          0.5783783783783784,
          0.5783783783783784,
          0.5783783783783784,
          0.6101694915254238,
          0.6044749188018765,
          0.5947712418300654,
          0.5947712418300654,
          0.5947712418300654,
          0.5980392156862745,
          0.5980392156862745,
          0.6405228758169934,
          0.6405228758169934,
          0.5855855855855856,
          0.5855855855855856,
          0.5855855855855856,
          0.5855855855855856,
          0.5855855855855856,
          0.5855855855855856,
          0.5825825825825826,
          0.5825825825825826,
          0.5825825825825826,
          0.486646884272997,
          0.486646884272997,
          0.486646884272997,
          0.4875621890547264,
          0.4875621890547264,
          0.4875621890547264,
          0.4875621890547264,
          0.41791044776119396,
          0.41791044776119396,
          0.41791044776119396,
          0.482587064676617,
          0.482587064676617,
          0.482587064676617,
          0.482587064676617,
          0.482587064676617,
          0.482587064676617,
          0.482587064676617,
          0.7738095238095238,
          0.7658730158730159,
          0.6113289760348584,
          0.6113289760348584,
          0.6274509803921569,
          0.6274509803921569,
          0.6274509803921569,
          0.6111111111111112,
          0.6158536585365854,
          0.5911764705882353,
          0.5970588235294118,
          0.5941176470588235,
          0.5941176470588235,
          0.5941176470588235,
          0.5941176470588235,
          0.5941176470588235,
          0.5941176470588235,
          0.5852941176470589,
          0.5852941176470589,
          0.5941176470588235,
          0.5941176470588235,
          0.6349206349206349,
          0.6349206349206349,
          0.6349206349206349,
          0.6349206349206349,
          0.6285714285714286,
          0.6317460317460317,
          0.6317460317460317,
          0.6822742474916388,
          0.6666666666666666,
          0.6925795053003534,
          0.6925795053003534,
          0.6925795053003534,
          0.6925795053003534,
          0.8,
          0.5396419437340153,
          0.5396419437340153,
          0.5396419437340153,
          0.5370843989769821,
          0.6881028938906752,
          0.480952380952381,
          0.4880952380952381,
          0.4880952380952381,
          0.554016620498615,
          0.6391752577319587,
          0.7052631578947368,
          0.6779661016949152,
          0.6779661016949152,
          0.688135593220339,
          0.688135593220339,
          0.8546255506607929,
          0.8595203132648067,
          0.76171875,
          0.55,
          0.55
         ]
        }
       ],
       "layout": {
        "coloraxis": {
         "colorbar": {
          "title": {
           "text": "TipoTraco"
          }
         },
         "colorscale": [
          [
           0,
           "#0d0887"
          ],
          [
           0.1111111111111111,
           "#46039f"
          ],
          [
           0.2222222222222222,
           "#7201a8"
          ],
          [
           0.3333333333333333,
           "#9c179e"
          ],
          [
           0.4444444444444444,
           "#bd3786"
          ],
          [
           0.5555555555555556,
           "#d8576b"
          ],
          [
           0.6666666666666666,
           "#ed7953"
          ],
          [
           0.7777777777777778,
           "#fb9f3a"
          ],
          [
           0.8888888888888888,
           "#fdca26"
          ],
          [
           1,
           "#f0f921"
          ]
         ]
        },
        "legend": {
         "tracegroupgap": 0
        },
        "scene": {
         "domain": {
          "x": [
           0,
           1
          ],
          "y": [
           0,
           1
          ]
         },
         "xaxis": {
          "title": {
           "text": "ConsumoPorM3"
          }
         },
         "yaxis": {
          "title": {
           "text": "Rompimento28Dias"
          }
         },
         "zaxis": {
          "title": {
           "text": "RelacaoAguaCimento"
          }
         }
        },
        "template": {
         "data": {
          "bar": [
           {
            "error_x": {
             "color": "#2a3f5f"
            },
            "error_y": {
             "color": "#2a3f5f"
            },
            "marker": {
             "line": {
              "color": "#E5ECF6",
              "width": 0.5
             }
            },
            "type": "bar"
           }
          ],
          "barpolar": [
           {
            "marker": {
             "line": {
              "color": "#E5ECF6",
              "width": 0.5
             }
            },
            "type": "barpolar"
           }
          ],
          "carpet": [
           {
            "aaxis": {
             "endlinecolor": "#2a3f5f",
             "gridcolor": "white",
             "linecolor": "white",
             "minorgridcolor": "white",
             "startlinecolor": "#2a3f5f"
            },
            "baxis": {
             "endlinecolor": "#2a3f5f",
             "gridcolor": "white",
             "linecolor": "white",
             "minorgridcolor": "white",
             "startlinecolor": "#2a3f5f"
            },
            "type": "carpet"
           }
          ],
          "choropleth": [
           {
            "colorbar": {
             "outlinewidth": 0,
             "ticks": ""
            },
            "type": "choropleth"
           }
          ],
          "contour": [
           {
            "colorbar": {
             "outlinewidth": 0,
             "ticks": ""
            },
            "colorscale": [
             [
              0,
              "#0d0887"
             ],
             [
              0.1111111111111111,
              "#46039f"
             ],
             [
              0.2222222222222222,
              "#7201a8"
             ],
             [
              0.3333333333333333,
              "#9c179e"
             ],
             [
              0.4444444444444444,
              "#bd3786"
             ],
             [
              0.5555555555555556,
              "#d8576b"
             ],
             [
              0.6666666666666666,
              "#ed7953"
             ],
             [
              0.7777777777777778,
              "#fb9f3a"
             ],
             [
              0.8888888888888888,
              "#fdca26"
             ],
             [
              1,
              "#f0f921"
             ]
            ],
            "type": "contour"
           }
          ],
          "contourcarpet": [
           {
            "colorbar": {
             "outlinewidth": 0,
             "ticks": ""
            },
            "type": "contourcarpet"
           }
          ],
          "heatmap": [
           {
            "colorbar": {
             "outlinewidth": 0,
             "ticks": ""
            },
            "colorscale": [
             [
              0,
              "#0d0887"
             ],
             [
              0.1111111111111111,
              "#46039f"
             ],
             [
              0.2222222222222222,
              "#7201a8"
             ],
             [
              0.3333333333333333,
              "#9c179e"
             ],
             [
              0.4444444444444444,
              "#bd3786"
             ],
             [
              0.5555555555555556,
              "#d8576b"
             ],
             [
              0.6666666666666666,
              "#ed7953"
             ],
             [
              0.7777777777777778,
              "#fb9f3a"
             ],
             [
              0.8888888888888888,
              "#fdca26"
             ],
             [
              1,
              "#f0f921"
             ]
            ],
            "type": "heatmap"
           }
          ],
          "heatmapgl": [
           {
            "colorbar": {
             "outlinewidth": 0,
             "ticks": ""
            },
            "colorscale": [
             [
              0,
              "#0d0887"
             ],
             [
              0.1111111111111111,
              "#46039f"
             ],
             [
              0.2222222222222222,
              "#7201a8"
             ],
             [
              0.3333333333333333,
              "#9c179e"
             ],
             [
              0.4444444444444444,
              "#bd3786"
             ],
             [
              0.5555555555555556,
              "#d8576b"
             ],
             [
              0.6666666666666666,
              "#ed7953"
             ],
             [
              0.7777777777777778,
              "#fb9f3a"
             ],
             [
              0.8888888888888888,
              "#fdca26"
             ],
             [
              1,
              "#f0f921"
             ]
            ],
            "type": "heatmapgl"
           }
          ],
          "histogram": [
           {
            "marker": {
             "colorbar": {
              "outlinewidth": 0,
              "ticks": ""
             }
            },
            "type": "histogram"
           }
          ],
          "histogram2d": [
           {
            "colorbar": {
             "outlinewidth": 0,
             "ticks": ""
            },
            "colorscale": [
             [
              0,
              "#0d0887"
             ],
             [
              0.1111111111111111,
              "#46039f"
             ],
             [
              0.2222222222222222,
              "#7201a8"
             ],
             [
              0.3333333333333333,
              "#9c179e"
             ],
             [
              0.4444444444444444,
              "#bd3786"
             ],
             [
              0.5555555555555556,
              "#d8576b"
             ],
             [
              0.6666666666666666,
              "#ed7953"
             ],
             [
              0.7777777777777778,
              "#fb9f3a"
             ],
             [
              0.8888888888888888,
              "#fdca26"
             ],
             [
              1,
              "#f0f921"
             ]
            ],
            "type": "histogram2d"
           }
          ],
          "histogram2dcontour": [
           {
            "colorbar": {
             "outlinewidth": 0,
             "ticks": ""
            },
            "colorscale": [
             [
              0,
              "#0d0887"
             ],
             [
              0.1111111111111111,
              "#46039f"
             ],
             [
              0.2222222222222222,
              "#7201a8"
             ],
             [
              0.3333333333333333,
              "#9c179e"
             ],
             [
              0.4444444444444444,
              "#bd3786"
             ],
             [
              0.5555555555555556,
              "#d8576b"
             ],
             [
              0.6666666666666666,
              "#ed7953"
             ],
             [
              0.7777777777777778,
              "#fb9f3a"
             ],
             [
              0.8888888888888888,
              "#fdca26"
             ],
             [
              1,
              "#f0f921"
             ]
            ],
            "type": "histogram2dcontour"
           }
          ],
          "mesh3d": [
           {
            "colorbar": {
             "outlinewidth": 0,
             "ticks": ""
            },
            "type": "mesh3d"
           }
          ],
          "parcoords": [
           {
            "line": {
             "colorbar": {
              "outlinewidth": 0,
              "ticks": ""
             }
            },
            "type": "parcoords"
           }
          ],
          "pie": [
           {
            "automargin": true,
            "type": "pie"
           }
          ],
          "scatter": [
           {
            "marker": {
             "colorbar": {
              "outlinewidth": 0,
              "ticks": ""
             }
            },
            "type": "scatter"
           }
          ],
          "scatter3d": [
           {
            "line": {
             "colorbar": {
              "outlinewidth": 0,
              "ticks": ""
             }
            },
            "marker": {
             "colorbar": {
              "outlinewidth": 0,
              "ticks": ""
             }
            },
            "type": "scatter3d"
           }
          ],
          "scattercarpet": [
           {
            "marker": {
             "colorbar": {
              "outlinewidth": 0,
              "ticks": ""
             }
            },
            "type": "scattercarpet"
           }
          ],
          "scattergeo": [
           {
            "marker": {
             "colorbar": {
              "outlinewidth": 0,
              "ticks": ""
             }
            },
            "type": "scattergeo"
           }
          ],
          "scattergl": [
           {
            "marker": {
             "colorbar": {
              "outlinewidth": 0,
              "ticks": ""
             }
            },
            "type": "scattergl"
           }
          ],
          "scattermapbox": [
           {
            "marker": {
             "colorbar": {
              "outlinewidth": 0,
              "ticks": ""
             }
            },
            "type": "scattermapbox"
           }
          ],
          "scatterpolar": [
           {
            "marker": {
             "colorbar": {
              "outlinewidth": 0,
              "ticks": ""
             }
            },
            "type": "scatterpolar"
           }
          ],
          "scatterpolargl": [
           {
            "marker": {
             "colorbar": {
              "outlinewidth": 0,
              "ticks": ""
             }
            },
            "type": "scatterpolargl"
           }
          ],
          "scatterternary": [
           {
            "marker": {
             "colorbar": {
              "outlinewidth": 0,
              "ticks": ""
             }
            },
            "type": "scatterternary"
           }
          ],
          "surface": [
           {
            "colorbar": {
             "outlinewidth": 0,
             "ticks": ""
            },
            "colorscale": [
             [
              0,
              "#0d0887"
             ],
             [
              0.1111111111111111,
              "#46039f"
             ],
             [
              0.2222222222222222,
              "#7201a8"
             ],
             [
              0.3333333333333333,
              "#9c179e"
             ],
             [
              0.4444444444444444,
              "#bd3786"
             ],
             [
              0.5555555555555556,
              "#d8576b"
             ],
             [
              0.6666666666666666,
              "#ed7953"
             ],
             [
              0.7777777777777778,
              "#fb9f3a"
             ],
             [
              0.8888888888888888,
              "#fdca26"
             ],
             [
              1,
              "#f0f921"
             ]
            ],
            "type": "surface"
           }
          ],
          "table": [
           {
            "cells": {
             "fill": {
              "color": "#EBF0F8"
             },
             "line": {
              "color": "white"
             }
            },
            "header": {
             "fill": {
              "color": "#C8D4E3"
             },
             "line": {
              "color": "white"
             }
            },
            "type": "table"
           }
          ]
         },
         "layout": {
          "annotationdefaults": {
           "arrowcolor": "#2a3f5f",
           "arrowhead": 0,
           "arrowwidth": 1
          },
          "autotypenumbers": "strict",
          "coloraxis": {
           "colorbar": {
            "outlinewidth": 0,
            "ticks": ""
           }
          },
          "colorscale": {
           "diverging": [
            [
             0,
             "#8e0152"
            ],
            [
             0.1,
             "#c51b7d"
            ],
            [
             0.2,
             "#de77ae"
            ],
            [
             0.3,
             "#f1b6da"
            ],
            [
             0.4,
             "#fde0ef"
            ],
            [
             0.5,
             "#f7f7f7"
            ],
            [
             0.6,
             "#e6f5d0"
            ],
            [
             0.7,
             "#b8e186"
            ],
            [
             0.8,
             "#7fbc41"
            ],
            [
             0.9,
             "#4d9221"
            ],
            [
             1,
             "#276419"
            ]
           ],
           "sequential": [
            [
             0,
             "#0d0887"
            ],
            [
             0.1111111111111111,
             "#46039f"
            ],
            [
             0.2222222222222222,
             "#7201a8"
            ],
            [
             0.3333333333333333,
             "#9c179e"
            ],
            [
             0.4444444444444444,
             "#bd3786"
            ],
            [
             0.5555555555555556,
             "#d8576b"
            ],
            [
             0.6666666666666666,
             "#ed7953"
            ],
            [
             0.7777777777777778,
             "#fb9f3a"
            ],
            [
             0.8888888888888888,
             "#fdca26"
            ],
            [
             1,
             "#f0f921"
            ]
           ],
           "sequentialminus": [
            [
             0,
             "#0d0887"
            ],
            [
             0.1111111111111111,
             "#46039f"
            ],
            [
             0.2222222222222222,
             "#7201a8"
            ],
            [
             0.3333333333333333,
             "#9c179e"
            ],
            [
             0.4444444444444444,
             "#bd3786"
            ],
            [
             0.5555555555555556,
             "#d8576b"
            ],
            [
             0.6666666666666666,
             "#ed7953"
            ],
            [
             0.7777777777777778,
             "#fb9f3a"
            ],
            [
             0.8888888888888888,
             "#fdca26"
            ],
            [
             1,
             "#f0f921"
            ]
           ]
          },
          "colorway": [
           "#636efa",
           "#EF553B",
           "#00cc96",
           "#ab63fa",
           "#FFA15A",
           "#19d3f3",
           "#FF6692",
           "#B6E880",
           "#FF97FF",
           "#FECB52"
          ],
          "font": {
           "color": "#2a3f5f"
          },
          "geo": {
           "bgcolor": "white",
           "lakecolor": "white",
           "landcolor": "#E5ECF6",
           "showlakes": true,
           "showland": true,
           "subunitcolor": "white"
          },
          "hoverlabel": {
           "align": "left"
          },
          "hovermode": "closest",
          "mapbox": {
           "style": "light"
          },
          "paper_bgcolor": "white",
          "plot_bgcolor": "#E5ECF6",
          "polar": {
           "angularaxis": {
            "gridcolor": "white",
            "linecolor": "white",
            "ticks": ""
           },
           "bgcolor": "#E5ECF6",
           "radialaxis": {
            "gridcolor": "white",
            "linecolor": "white",
            "ticks": ""
           }
          },
          "scene": {
           "xaxis": {
            "backgroundcolor": "#E5ECF6",
            "gridcolor": "white",
            "gridwidth": 2,
            "linecolor": "white",
            "showbackground": true,
            "ticks": "",
            "zerolinecolor": "white"
           },
           "yaxis": {
            "backgroundcolor": "#E5ECF6",
            "gridcolor": "white",
            "gridwidth": 2,
            "linecolor": "white",
            "showbackground": true,
            "ticks": "",
            "zerolinecolor": "white"
           },
           "zaxis": {
            "backgroundcolor": "#E5ECF6",
            "gridcolor": "white",
            "gridwidth": 2,
            "linecolor": "white",
            "showbackground": true,
            "ticks": "",
            "zerolinecolor": "white"
           }
          },
          "shapedefaults": {
           "line": {
            "color": "#2a3f5f"
           }
          },
          "ternary": {
           "aaxis": {
            "gridcolor": "white",
            "linecolor": "white",
            "ticks": ""
           },
           "baxis": {
            "gridcolor": "white",
            "linecolor": "white",
            "ticks": ""
           },
           "bgcolor": "#E5ECF6",
           "caxis": {
            "gridcolor": "white",
            "linecolor": "white",
            "ticks": ""
           }
          },
          "title": {
           "x": 0.05
          },
          "xaxis": {
           "automargin": true,
           "gridcolor": "white",
           "linecolor": "white",
           "ticks": "",
           "title": {
            "standoff": 15
           },
           "zerolinecolor": "white",
           "zerolinewidth": 2
          },
          "yaxis": {
           "automargin": true,
           "gridcolor": "white",
           "linecolor": "white",
           "ticks": "",
           "title": {
            "standoff": 15
           },
           "zerolinecolor": "white",
           "zerolinewidth": 2
          }
         }
        },
        "title": {
         "text": "Rompimento7Dias x Rompimento 28 Dias"
        }
       }
      },
      "text/html": [
       "<div>                            <div id=\"9ca431a7-7262-44cb-8f9a-6bfbdbb019b2\" class=\"plotly-graph-div\" style=\"height:525px; width:100%;\"></div>            <script type=\"text/javascript\">                require([\"plotly\"], function(Plotly) {                    window.PLOTLYENV=window.PLOTLYENV || {};                                    if (document.getElementById(\"9ca431a7-7262-44cb-8f9a-6bfbdbb019b2\")) {                    Plotly.newPlot(                        \"9ca431a7-7262-44cb-8f9a-6bfbdbb019b2\",                        [{\"hovertemplate\": \"ConsumoPorM3=%{x}<br>Rompimento28Dias=%{y}<br>RelacaoAguaCimento=%{z}<br>TipoTraco=%{marker.color}<extra></extra>\", \"legendgroup\": \"\", \"marker\": {\"color\": [0, 0, 0, 0, 0, 0, 0, 0, 0, 0, 0, 0, 0, 0, 0, 0, 0, 0, 0, 0, 0, 0, 0, 0, 0, 0, 0, 0, 0, 1, 1, 1, 1, 1, 1, 1, 1, 1, 1, 1, 1, 1, 1, 1, 1, 1, 1, 1, 1, 1, 1, 1, 1, 1, 1, 1, 1, 0, 0, 0, 0, 0, 0, 0, 0, 0, 0, 0, 0, 0, 0, 0, 0, 0, 0, 0, 0, 0, 0, 0, 0, 0, 0, 0, 0, 0, 1, 1, 1, 1, 1, 1, 1, 1, 1, 1, 1, 0, 0, 0, 0, 0, 0, 0, 0, 0, 0, 0, 0, 0, 0, 0, 0, 0, 0, 0, 0, 0, 0, 0, 0, 0, 0, 0, 0, 0, 0, 0, 0, 0, 0, 0, 0, 0, 0, 0, 0, 0, 0, 0, 0, 0, 0, 0, 0, 0, 0, 0, 0, 0, 0, 0, 0, 0, 0, 0, 1, 1, 1, 1, 1, 1, 1, 1, 1, 1, 1, 1, 1, 1, 0, 0, 0, 0, 0, 0, 0, 0, 0, 0, 0, 0, 0, 0, 0, 0, 0, 0, 0, 0, 0, 0, 0, 0, 0, 0, 0, 0, 0, 0, 0, 0, 0, 0, 0, 0, 0, 0, 0, 0, 0, 0, 0, 0, 0, 0, 0, 0, 0, 0, 0, 0, 0, 0, 0, 0, 0, 0, 0, 0, 0, 0, 0, 0, 0, 0, 0, 0, 0, 0, 0, 0, 0, 0, 0, 0, 0, 0, 0, 0, 1, 0, 0, 0, 0, 0, 0, 0, 0, 0, 0, 0, 0, 0, 0, 0, 0, 0, 0, 0, 0, 0, 0, 0, 0, 0, 0, 0, 0, 0, 0, 0, 0, 0, 0, 0, 0, 0, 0, 0, 0, 0, 0, 0, 0, 0, 0, 0, 0, 0, 0, 0, 0, 0, 0, 0, 0, 0, 0, 0, 0, 0, 0, 0, 0, 0, 0, 0, 0, 0, 0, 0, 0, 0, 0, 0, 0, 0, 0, 0, 0, 0, 0, 0, 0, 0, 0, 0, 0, 0, 0, 0, 0, 0, 0, 0, 0, 0, 0, 0, 0, 0, 0, 0, 0, 0, 0, 0, 0, 1, 1, 1, 1, 1, 1, 1, 0, 0, 0, 0, 0, 0, 0, 0, 1, 1, 1, 1, 1, 1, 1, 1, 1, 1, 1, 1, 1, 1, 1, 1, 1, 1, 1, 1, 1, 1, 1, 1, 1, 1, 0, 0, 0, 0, 0, 0, 0, 0, 0, 0, 0, 0, 0, 0, 0, 0, 0, 0, 0, 0, 0, 0, 0, 0, 0, 0, 0, 0, 0, 0, 0, 0, 0, 0, 0, 1, 1, 1, 1, 0, 1, 1, 1, 0, 0, 0, 0, 0, 0, 0, 0, 0, 0, 1, 1], \"coloraxis\": \"coloraxis\", \"symbol\": \"circle\"}, \"mode\": \"markers\", \"name\": \"\", \"scene\": \"scene\", \"showlegend\": false, \"type\": \"scatter3d\", \"x\": [362.0, 320.0, 320.0, 320.0, 320.0, 324.0, 324.0, 324.0, 324.0, 214.0, 214.0, 214.0, 214.0, 194.0, 354.0, 354.0, 354.0, 354.0, 354.0, 354.0, 354.0, 354.0, 373.0, 373.0, 373.0, 373.0, 373.0, 373.0, 373.0, 394.0, 394.0, 394.0, 394.0, 394.0, 394.0, 394.0, 394.0, 394.0, 394.0, 394.0, 394.0, 394.0, 394.0, 394.0, 364.0, 364.0, 364.0, 364.0, 364.0, 364.0, 364.0, 364.0, 364.0, 364.0, 364.0, 369.0, 369.0, 241.0, 241.0, 241.0, 241.0, 241.0, 241.0, 241.0, 241.0, 241.0, 241.0, 241.0, 233.0, 219.0, 219.0, 219.0, 219.0, 219.0, 219.0, 219.0, 219.0, 219.0, 219.0, 219.0, 219.0, 219.0, 233.0, 237.0, 228.0, 228.0, 365.0, 400.0, 400.0, 400.0, 400.0, 400.0, 400.0, 400.0, 400.0, 400.0, 400.0, 292.0, 292.0, 292.0, 271.0, 289.0, 289.0, 289.0, 289.0, 289.0, 289.0, 287.0, 281.0, 281.0, 281.0, 318.0, 318.0, 318.0, 318.0, 318.0, 318.0, 318.0, 318.0, 314.0, 295.0, 302.0, 302.0, 302.0, 302.0, 302.0, 302.0, 302.0, 302.0, 302.0, 302.0, 310.0, 310.0, 310.0, 310.0, 310.0, 310.0, 310.0, 311.0, 299.0, 299.0, 299.0, 292.0, 292.0, 276.0, 276.0, 276.0, 276.0, 276.0, 266.0, 266.0, 260.0, 266.0, 266.0, 266.0, 309.0, 400.0, 400.0, 400.0, 400.0, 400.0, 400.0, 400.0, 400.0, 400.0, 400.0, 400.0, 400.0, 400.0, 394.0, 272.0, 272.0, 272.0, 272.0, 272.0, 272.0, 272.0, 272.0, 272.0, 272.0, 272.0, 272.0, 272.0, 272.0, 256.0, 256.0, 256.0, 262.0, 262.0, 264.0, 264.0, 264.0, 264.0, 264.0, 264.0, 264.0, 264.0, 264.0, 264.0, 244.0, 244.0, 244.0, 244.0, 244.0, 244.0, 233.0, 227.0, 227.0, 227.0, 221.0, 227.0, 264.0, 278.0, 278.0, 278.0, 278.0, 275.0, 325.0, 325.0, 325.0, 325.0, 325.0, 325.0, 325.0, 325.0, 325.0, 325.0, 325.0, 325.0, 325.0, 318.0, 318.0, 318.0, 329.0, 329.0, 329.0, 329.0, 329.0, 329.0, 329.0, 329.0, 329.0, 329.0, 307.0, 307.0, 319.0, 319.0, 319.0, 402.0, 402.0, 414.0, 321.0, 321.0, 321.0, 321.0, 321.0, 321.0, 321.0, 321.0, 283.0, 273.0, 268.0, 273.0, 273.0, 272.0, 249.0, 249.0, 244.0, 281.0, 281.0, 281.0, 281.0, 268.0, 268.0, 268.0, 268.0, 268.0, 268.0, 268.0, 268.0, 268.0, 268.0, 268.0, 268.0, 268.0, 273.0, 266.0, 268.0, 268.0, 268.0, 275.0, 275.0, 275.0, 275.0, 275.0, 253.0, 253.0, 253.0, 253.0, 253.0, 253.0, 253.0, 253.0, 253.0, 253.0, 253.0, 253.0, 253.0, 253.0, 253.0, 253.0, 253.0, 253.0, 253.0, 253.0, 253.0, 253.0, 253.0, 253.0, 254.0, 254.0, 254.0, 254.0, 254.0, 254.0, 254.0, 223.0, 229.0, 229.0, 229.0, 229.0, 229.0, 229.0, 229.0, 229.0, 223.0, 229.0, 223.0, 229.0, 229.0, 229.0, 229.0, 229.0, 229.0, 229.0, 229.0, 229.0, 229.0, 267.0, 267.0, 261.0, 277.0, 277.0, 277.0, 277.0, 277.0, 277.0, 277.0, 277.0, 370.0, 370.0, 370.0, 370.0, 370.0, 370.0, 354.0, 326.0, 306.0, 306.0, 306.0, 306.0, 306.0, 306.0, 306.0, 333.0, 333.0, 333.0, 333.0, 333.0, 333.0, 333.0, 333.0, 333.0, 337.0, 337.0, 337.0, 402.0, 402.0, 402.0, 402.0, 402.0, 402.0, 402.0, 402.0, 402.0, 402.0, 402.0, 402.0, 402.0, 402.0, 252.0, 252.0, 306.0, 306.0, 306.0, 306.0, 306.0, 306.0, 328.0, 340.0, 340.0, 340.0, 340.0, 340.0, 340.0, 340.0, 340.0, 340.0, 340.0, 340.0, 340.0, 315.0, 315.0, 315.0, 315.0, 315.0, 315.0, 315.0, 299.0, 306.0, 283.0, 283.0, 283.0, 283.0, 250.0, 391.0, 391.0, 391.0, 391.0, 311.0, 420.0, 420.0, 420.0, 361.0, 291.0, 285.0, 295.0, 295.0, 295.0, 295.0, 227.0, 227.0, 256.0, 380.0, 380.0], \"y\": [35.08, 33.4, 31.72, 31.12, 28.39, 29.7, 27.47, 27.61, 31.63, 26.3, 27.13, 22.49, 24.66, 20.15, 30.93, 31.9, 31.3, 30.83, 31.02, 30.3, 30.6, 30.6, 33.52, 32.47, 32.41, 32.14, 33.9, 32.83, 35.01, 43.52, 42.89, 44.21, 45.48, 44.6, 38.14, 33.43, 46.48, 46.74, 46.78, 42.62, 46.6, 46.46, 41.84, 38.95, 33.26, 33.77, 38.85, 37.04, 35.9, 37.06, 36.23, 33.84, 36.62, 33.86, 36.65, 34.59, 37.24, 25.32, 26.27, 25.46, 28.11, 30.02, 25.0, 31.89, 30.4, 30.58, 32.55, 27.38, 23.81, 22.79, 20.28, 23.33, 24.34, 20.74, 18.1, 21.53, 22.81, 20.43, 21.72, 20.52, 23.31, 22.72, 22.04, 24.11, 26.34, 25.23, 39.12, 34.09, 31.18, 31.25, 30.49, 31.01, 34.94, 34.73, 33.26, 30.4, 39.45, 36.56, 37.59, 34.38, 27.27, 26.77, 24.99, 26.67, 29.5, 29.06, 31.79, 27.15, 28.49, 29.67, 28.73, 38.37, 37.64, 44.87, 43.54, 45.08, 37.38, 44.91, 37.72, 35.68, 31.77, 30.22, 32.61, 33.11, 36.06, 33.79, 31.01, 34.14, 36.59, 32.32, 36.4, 35.01, 36.48, 35.68, 37.27, 38.2, 39.58, 41.4, 38.88, 37.34, 33.03, 37.85, 36.12, 41.45, 32.42, 33.51, 37.2, 33.63, 38.44, 32.46, 32.78, 28.08, 33.8, 30.87, 26.86, 40.19, 38.51, 39.11, 43.12, 39.79, 38.92, 40.86, 42.29, 33.2, 34.45, 38.18, 43.15, 37.24, 34.5, 45.71, 29.78, 27.93, 30.76, 35.22, 36.01, 29.84, 30.51, 28.5, 32.35, 34.28, 32.74, 33.45, 33.71, 30.4, 29.56, 27.56, 28.85, 29.74, 30.78, 28.53, 31.74, 32.92, 35.62, 38.09, 36.31, 37.81, 35.4, 36.2, 35.11, 30.0, 26.39, 27.87, 28.99, 25.41, 25.14, 29.98, 25.54, 25.21, 32.73, 25.01, 24.54, 34.88, 29.67, 30.69, 36.28, 34.07, 28.25, 37.54, 39.53, 31.48, 29.69, 32.49, 35.22, 34.09, 35.22, 33.79, 37.96, 37.03, 37.66, 40.0, 32.44, 35.92, 31.86, 35.2, 35.89, 35.39, 40.53, 40.14, 34.91, 38.42, 36.59, 30.88, 34.0, 32.64, 30.87, 35.15, 31.94, 35.39, 37.73, 37.77, 32.05, 38.36, 42.61, 43.19, 38.3, 37.46, 31.07, 32.51, 33.02, 38.61, 28.72, 30.44, 30.26, 27.53, 34.54, 26.54, 27.39, 21.2, 33.9, 31.71, 34.49, 35.72, 27.98, 26.02, 29.0, 27.06, 26.39, 24.03, 33.17, 27.43, 31.39, 28.41, 30.16, 29.92, 30.02, 29.46, 27.31, 28.38, 29.64, 30.5, 40.23, 39.69, 35.81, 34.7, 38.75, 30.32, 35.07, 29.37, 33.09, 31.39, 31.19, 31.76, 33.84, 30.49, 34.47, 29.24, 31.72, 38.11, 35.69, 37.13, 34.04, 33.82, 32.46, 30.58, 29.93, 34.49, 38.16, 32.56, 32.54, 32.31, 32.6, 29.51, 31.26, 32.16, 31.26, 33.01, 21.27, 23.67, 25.79, 29.67, 27.15, 22.14, 25.69, 23.59, 27.62, 24.96, 22.79, 22.12, 22.21, 22.79, 26.82, 25.29, 32.84, 26.07, 25.56, 26.66, 27.64, 26.95, 32.4, 27.28, 27.28, 29.56, 31.61, 37.24, 33.4, 36.56, 37.67, 33.07, 34.88, 39.48, 37.77, 41.83, 40.1, 39.59, 40.66, 31.24, 40.21, 39.14, 36.4, 38.04, 40.48, 36.24, 35.22, 37.81, 25.1, 26.16, 29.65, 25.89, 28.43, 27.34, 28.71, 30.68, 27.69, 33.25, 31.54, 28.22, 32.02, 38.06, 37.31, 33.48, 38.79, 42.01, 38.08, 34.63, 28.4, 32.64, 33.01, 38.7, 33.66, 34.69, 22.25, 27.36, 31.42, 31.74, 30.62, 29.6, 28.29, 37.17, 34.45, 37.54, 39.44, 42.79, 37.86, 37.46, 36.98, 41.96, 44.3, 39.97, 42.35, 37.32, 36.4, 35.29, 35.55, 33.93, 34.74, 36.2, 32.68, 30.0, 30.44, 31.34, 29.48, 33.72, 28.94, 34.8, 21.92, 33.07, 31.74, 29.56, 37.04, 34.65, 33.19, 34.38, 36.17, 38.19, 28.88, 28.01, 29.1, 32.45, 25.68, 31.51, 22.32, 20.79, 33.29, 48.35, 46.11], \"z\": [0.5386740331491713, 0.559375, 0.678125, 0.678125, 0.678125, 0.5802469135802469, 0.5802469135802469, 0.5802469135802469, 0.6697530864197531, 0.616822429906542, 0.616822429906542, 0.616822429906542, 0.616822429906542, 0.9123711340206184, 0.5338983050847458, 0.5282485875706214, 0.5338983050847458, 0.5338983050847458, 0.5338983050847458, 0.5338983050847458, 0.5338983050847458, 0.53954802259887, 0.4932975871313673, 0.4932975871313673, 0.4932975871313673, 0.4932975871313673, 0.4932975871313673, 0.4932975871313673, 0.4423592493297587, 0.4060913705583756, 0.4060913705583756, 0.4060913705583756, 0.4060913705583756, 0.4060913705583756, 0.4060913705583756, 0.4342053885201093, 0.44416243654822335, 0.4289340101522843, 0.434010152284264, 0.434010152284264, 0.434010152284264, 0.434010152284264, 0.4060913705583756, 0.4060913705583756, 0.5412087912087912, 0.5412087912087912, 0.5412087912087912, 0.5412087912087912, 0.5412087912087912, 0.5412087912087912, 0.5412087912087912, 0.5412087912087912, 0.5412087912087912, 0.4120879120879121, 0.4120879120879121, 0.5420054200542005, 0.5311653116531165, 0.6182572614107884, 0.6182572614107884, 0.6182572614107884, 0.6182572614107884, 0.6016597510373444, 0.5518672199170125, 0.5684647302904564, 0.5601659751037344, 0.5601659751037344, 0.5684647302904564, 0.5684647302904564, 0.7811158798283262, 0.8127853881278538, 0.8127853881278538, 0.8264840182648402, 0.8401826484018264, 0.8401826484018264, 0.8401826484018264, 0.8401826484018264, 0.8401826484018264, 0.8401826484018264, 0.8264840182648402, 0.8264840182648402, 0.8264840182648402, 0.8264840182648402, 0.776824034334764, 0.7552742616033755, 0.7412280701754386, 0.7324561403508771, 0.4303477344573235, 0.475, 0.5175, 0.4825, 0.4825, 0.4825, 0.4825, 0.4825, 0.4825, 0.4825, 0.5, 0.5376712328767124, 0.5958904109589042, 0.5958904109589042, 0.5682656826568265, 0.5709342560553633, 0.5709342560553633, 0.5709342560553633, 0.5605536332179931, 0.5605536332179931, 0.5190311418685121, 0.6794425087108014, 0.6832740213523132, 0.6832740213523132, 0.5587188612099644, 0.4937106918238994, 0.4937106918238994, 0.4622641509433962, 0.4622641509433962, 0.4622641509433962, 0.4622641509433962, 0.4716981132075472, 0.4716981132075472, 0.6146496815286624, 0.6372881355932203, 0.6324503311258278, 0.6324503311258278, 0.6490066225165563, 0.6490066225165563, 0.6490066225165563, 0.6357615894039735, 0.6158940397350994, 0.6158940397350994, 0.6158940397350994, 0.6158940397350994, 0.6096774193548387, 0.6096774193548387, 0.6096774193548387, 0.6096774193548387, 0.6096774193548387, 0.6096774193548387, 0.6096774193548387, 0.6141479099678456, 0.6187290969899666, 0.6220735785953178, 0.6287625418060201, 0.6472602739726028, 0.6267123287671232, 0.6702898550724637, 0.6702898550724637, 0.6702898550724637, 0.6702898550724637, 0.6702898550724637, 0.7105263157894737, 0.7105263157894737, 0.7269230769230769, 0.7142857142857143, 0.7142857142857143, 0.7255639097744361, 0.6084142394822006, 0.5125, 0.5125, 0.5225, 0.5225, 0.5225, 0.5225, 0.5, 0.4925, 0.4925, 0.4925, 0.4925, 0.4925, 0.4825, 0.41116751269035534, 0.5588235294117647, 0.5, 0.5, 0.5330882352941176, 0.5073529411764706, 0.5073529411764706, 0.5073529411764706, 0.5183823529411765, 0.5183823529411765, 0.5588235294117647, 0.5183823529411765, 0.5183823529411765, 0.5183823529411765, 0.5187165775401069, 0.703125, 0.703125, 0.703125, 0.6908396946564885, 0.6717557251908397, 0.6856060606060606, 0.678030303030303, 0.6590909090909091, 0.6856060606060606, 0.6439393939393939, 0.6856060606060606, 0.6856060606060606, 0.6856060606060606, 0.6818181818181818, 0.6818181818181818, 0.7131147540983607, 0.7377049180327869, 0.639344262295082, 0.6311475409836066, 0.6311475409836066, 0.6311475409836066, 0.6309012875536479, 0.7665198237885462, 0.8017621145374451, 0.7841409691629956, 0.8144796380090498, 0.8017621145374451, 0.6893939393939394, 0.5359712230215827, 0.5035971223021583, 0.5179856115107914, 0.5359712230215827, 0.68, 0.4861538461538462, 0.4861538461538462, 0.4646153846153846, 0.4646153846153846, 0.4646153846153846, 0.4738461538461538, 0.4738461538461538, 0.4953846153846154, 0.4953846153846154, 0.4953846153846154, 0.4953846153846154, 0.4953846153846154, 0.4953846153846154, 0.6132075471698113, 0.610062893081761, 0.610062893081761, 0.5835866261398176, 0.5835866261398176, 0.5835866261398176, 0.5927051671732523, 0.5927051671732523, 0.5927051671732523, 0.5927051671732523, 0.5927051671732523, 0.5927051671732523, 0.5927051671732523, 0.6416938110749185, 0.6416938110749185, 0.6175548589341693, 0.6175548589341693, 0.6175548589341693, 0.5422885572139303, 0.5422885572139303, 0.4951690821256038, 0.6261682242990654, 0.6261682242990654, 0.6261682242990654, 0.6261682242990654, 0.6261682242990654, 0.6323987538940811, 0.6323987538940811, 0.6326064382139148, 0.7208480565371025, 0.7326007326007326, 0.746268656716418, 0.7326007326007326, 0.7326007326007326, 0.7352941176470589, 0.7670682730923695, 0.7670682730923695, 0.7991803278688525, 0.6797153024911032, 0.6797153024911032, 0.6797153024911032, 0.6797153024911032, 0.7089552238805971, 0.7089552238805971, 0.7089552238805971, 0.7089552238805971, 0.7276119402985075, 0.7276119402985075, 0.7089552238805971, 0.6902985074626866, 0.6902985074626866, 0.6902985074626866, 0.6902985074626866, 0.7014925373134329, 0.7014925373134329, 0.6925894618202311, 0.6992481203007519, 0.7014925373134329, 0.7014925373134329, 0.6865671641791045, 0.6581818181818182, 0.6436363636363637, 0.509090909090909, 0.509090909090909, 0.509090909090909, 0.7391304347826086, 0.7391304347826086, 0.7391304347826086, 0.7391304347826086, 0.7391304347826086, 0.7391304347826086, 0.7391304347826086, 0.7470355731225297, 0.7470355731225297, 0.7470355731225297, 0.7233201581027668, 0.7233201581027668, 0.7233201581027668, 0.7233201581027668, 0.7233201581027668, 0.7233201581027668, 0.7233201581027668, 0.7233201581027668, 0.7233201581027668, 0.7430830039525692, 0.7391304347826086, 0.7391304347826086, 0.7391304347826086, 0.7391304347826086, 0.7401574803149606, 0.7322834645669292, 0.7401574803149606, 0.7401574803149606, 0.7401574803149606, 0.7401574803149606, 0.7401574803149606, 0.8430493273542601, 0.8209606986899564, 0.8384279475982532, 0.8209606986899564, 0.8384279475982532, 0.8296943231441049, 0.8296943231441049, 0.8296943231441049, 0.8296943231441049, 0.852017937219731, 0.8296943231441049, 0.852017937219731, 0.8296943231441049, 0.8384279475982532, 0.8427947598253275, 0.8427947598253275, 0.8427947598253275, 0.7161572052401747, 0.7161572052401747, 0.7161572052401747, 0.7161572052401747, 0.7161572052401747, 0.7116104868913857, 0.704119850187266, 0.7203065134099617, 0.6859205776173285, 0.6859205776173285, 0.6859205776173285, 0.6859205776173285, 0.6859205776173285, 0.6859205776173285, 0.6787003610108303, 0.6787003610108303, 0.5837837837837838, 0.5783783783783784, 0.5783783783783784, 0.5783783783783784, 0.5783783783783784, 0.5783783783783784, 0.6101694915254238, 0.6044749188018765, 0.5947712418300654, 0.5947712418300654, 0.5947712418300654, 0.5980392156862745, 0.5980392156862745, 0.6405228758169934, 0.6405228758169934, 0.5855855855855856, 0.5855855855855856, 0.5855855855855856, 0.5855855855855856, 0.5855855855855856, 0.5855855855855856, 0.5825825825825826, 0.5825825825825826, 0.5825825825825826, 0.486646884272997, 0.486646884272997, 0.486646884272997, 0.4875621890547264, 0.4875621890547264, 0.4875621890547264, 0.4875621890547264, 0.41791044776119396, 0.41791044776119396, 0.41791044776119396, 0.482587064676617, 0.482587064676617, 0.482587064676617, 0.482587064676617, 0.482587064676617, 0.482587064676617, 0.482587064676617, 0.7738095238095238, 0.7658730158730159, 0.6113289760348584, 0.6113289760348584, 0.6274509803921569, 0.6274509803921569, 0.6274509803921569, 0.6111111111111112, 0.6158536585365854, 0.5911764705882353, 0.5970588235294118, 0.5941176470588235, 0.5941176470588235, 0.5941176470588235, 0.5941176470588235, 0.5941176470588235, 0.5941176470588235, 0.5852941176470589, 0.5852941176470589, 0.5941176470588235, 0.5941176470588235, 0.6349206349206349, 0.6349206349206349, 0.6349206349206349, 0.6349206349206349, 0.6285714285714286, 0.6317460317460317, 0.6317460317460317, 0.6822742474916388, 0.6666666666666666, 0.6925795053003534, 0.6925795053003534, 0.6925795053003534, 0.6925795053003534, 0.8, 0.5396419437340153, 0.5396419437340153, 0.5396419437340153, 0.5370843989769821, 0.6881028938906752, 0.480952380952381, 0.4880952380952381, 0.4880952380952381, 0.554016620498615, 0.6391752577319587, 0.7052631578947368, 0.6779661016949152, 0.6779661016949152, 0.688135593220339, 0.688135593220339, 0.8546255506607929, 0.8595203132648067, 0.76171875, 0.55, 0.55]}],                        {\"coloraxis\": {\"colorbar\": {\"title\": {\"text\": \"TipoTraco\"}}, \"colorscale\": [[0.0, \"#0d0887\"], [0.1111111111111111, \"#46039f\"], [0.2222222222222222, \"#7201a8\"], [0.3333333333333333, \"#9c179e\"], [0.4444444444444444, \"#bd3786\"], [0.5555555555555556, \"#d8576b\"], [0.6666666666666666, \"#ed7953\"], [0.7777777777777778, \"#fb9f3a\"], [0.8888888888888888, \"#fdca26\"], [1.0, \"#f0f921\"]]}, \"legend\": {\"tracegroupgap\": 0}, \"scene\": {\"domain\": {\"x\": [0.0, 1.0], \"y\": [0.0, 1.0]}, \"xaxis\": {\"title\": {\"text\": \"ConsumoPorM3\"}}, \"yaxis\": {\"title\": {\"text\": \"Rompimento28Dias\"}}, \"zaxis\": {\"title\": {\"text\": \"RelacaoAguaCimento\"}}}, \"template\": {\"data\": {\"bar\": [{\"error_x\": {\"color\": \"#2a3f5f\"}, \"error_y\": {\"color\": \"#2a3f5f\"}, \"marker\": {\"line\": {\"color\": \"#E5ECF6\", \"width\": 0.5}}, \"type\": \"bar\"}], \"barpolar\": [{\"marker\": {\"line\": {\"color\": \"#E5ECF6\", \"width\": 0.5}}, \"type\": \"barpolar\"}], \"carpet\": [{\"aaxis\": {\"endlinecolor\": \"#2a3f5f\", \"gridcolor\": \"white\", \"linecolor\": \"white\", \"minorgridcolor\": \"white\", \"startlinecolor\": \"#2a3f5f\"}, \"baxis\": {\"endlinecolor\": \"#2a3f5f\", \"gridcolor\": \"white\", \"linecolor\": \"white\", \"minorgridcolor\": \"white\", \"startlinecolor\": \"#2a3f5f\"}, \"type\": \"carpet\"}], \"choropleth\": [{\"colorbar\": {\"outlinewidth\": 0, \"ticks\": \"\"}, \"type\": \"choropleth\"}], \"contour\": [{\"colorbar\": {\"outlinewidth\": 0, \"ticks\": \"\"}, \"colorscale\": [[0.0, \"#0d0887\"], [0.1111111111111111, \"#46039f\"], [0.2222222222222222, \"#7201a8\"], [0.3333333333333333, \"#9c179e\"], [0.4444444444444444, \"#bd3786\"], [0.5555555555555556, \"#d8576b\"], [0.6666666666666666, \"#ed7953\"], [0.7777777777777778, \"#fb9f3a\"], [0.8888888888888888, \"#fdca26\"], [1.0, \"#f0f921\"]], \"type\": \"contour\"}], \"contourcarpet\": [{\"colorbar\": {\"outlinewidth\": 0, \"ticks\": \"\"}, \"type\": \"contourcarpet\"}], \"heatmap\": [{\"colorbar\": {\"outlinewidth\": 0, \"ticks\": \"\"}, \"colorscale\": [[0.0, \"#0d0887\"], [0.1111111111111111, \"#46039f\"], [0.2222222222222222, \"#7201a8\"], [0.3333333333333333, \"#9c179e\"], [0.4444444444444444, \"#bd3786\"], [0.5555555555555556, \"#d8576b\"], [0.6666666666666666, \"#ed7953\"], [0.7777777777777778, \"#fb9f3a\"], [0.8888888888888888, \"#fdca26\"], [1.0, \"#f0f921\"]], \"type\": \"heatmap\"}], \"heatmapgl\": [{\"colorbar\": {\"outlinewidth\": 0, \"ticks\": \"\"}, \"colorscale\": [[0.0, \"#0d0887\"], [0.1111111111111111, \"#46039f\"], [0.2222222222222222, \"#7201a8\"], [0.3333333333333333, \"#9c179e\"], [0.4444444444444444, \"#bd3786\"], [0.5555555555555556, \"#d8576b\"], [0.6666666666666666, \"#ed7953\"], [0.7777777777777778, \"#fb9f3a\"], [0.8888888888888888, \"#fdca26\"], [1.0, \"#f0f921\"]], \"type\": \"heatmapgl\"}], \"histogram\": [{\"marker\": {\"colorbar\": {\"outlinewidth\": 0, \"ticks\": \"\"}}, \"type\": \"histogram\"}], \"histogram2d\": [{\"colorbar\": {\"outlinewidth\": 0, \"ticks\": \"\"}, \"colorscale\": [[0.0, \"#0d0887\"], [0.1111111111111111, \"#46039f\"], [0.2222222222222222, \"#7201a8\"], [0.3333333333333333, \"#9c179e\"], [0.4444444444444444, \"#bd3786\"], [0.5555555555555556, \"#d8576b\"], [0.6666666666666666, \"#ed7953\"], [0.7777777777777778, \"#fb9f3a\"], [0.8888888888888888, \"#fdca26\"], [1.0, \"#f0f921\"]], \"type\": \"histogram2d\"}], \"histogram2dcontour\": [{\"colorbar\": {\"outlinewidth\": 0, \"ticks\": \"\"}, \"colorscale\": [[0.0, \"#0d0887\"], [0.1111111111111111, \"#46039f\"], [0.2222222222222222, \"#7201a8\"], [0.3333333333333333, \"#9c179e\"], [0.4444444444444444, \"#bd3786\"], [0.5555555555555556, \"#d8576b\"], [0.6666666666666666, \"#ed7953\"], [0.7777777777777778, \"#fb9f3a\"], [0.8888888888888888, \"#fdca26\"], [1.0, \"#f0f921\"]], \"type\": \"histogram2dcontour\"}], \"mesh3d\": [{\"colorbar\": {\"outlinewidth\": 0, \"ticks\": \"\"}, \"type\": \"mesh3d\"}], \"parcoords\": [{\"line\": {\"colorbar\": {\"outlinewidth\": 0, \"ticks\": \"\"}}, \"type\": \"parcoords\"}], \"pie\": [{\"automargin\": true, \"type\": \"pie\"}], \"scatter\": [{\"marker\": {\"colorbar\": {\"outlinewidth\": 0, \"ticks\": \"\"}}, \"type\": \"scatter\"}], \"scatter3d\": [{\"line\": {\"colorbar\": {\"outlinewidth\": 0, \"ticks\": \"\"}}, \"marker\": {\"colorbar\": {\"outlinewidth\": 0, \"ticks\": \"\"}}, \"type\": \"scatter3d\"}], \"scattercarpet\": [{\"marker\": {\"colorbar\": {\"outlinewidth\": 0, \"ticks\": \"\"}}, \"type\": \"scattercarpet\"}], \"scattergeo\": [{\"marker\": {\"colorbar\": {\"outlinewidth\": 0, \"ticks\": \"\"}}, \"type\": \"scattergeo\"}], \"scattergl\": [{\"marker\": {\"colorbar\": {\"outlinewidth\": 0, \"ticks\": \"\"}}, \"type\": \"scattergl\"}], \"scattermapbox\": [{\"marker\": {\"colorbar\": {\"outlinewidth\": 0, \"ticks\": \"\"}}, \"type\": \"scattermapbox\"}], \"scatterpolar\": [{\"marker\": {\"colorbar\": {\"outlinewidth\": 0, \"ticks\": \"\"}}, \"type\": \"scatterpolar\"}], \"scatterpolargl\": [{\"marker\": {\"colorbar\": {\"outlinewidth\": 0, \"ticks\": \"\"}}, \"type\": \"scatterpolargl\"}], \"scatterternary\": [{\"marker\": {\"colorbar\": {\"outlinewidth\": 0, \"ticks\": \"\"}}, \"type\": \"scatterternary\"}], \"surface\": [{\"colorbar\": {\"outlinewidth\": 0, \"ticks\": \"\"}, \"colorscale\": [[0.0, \"#0d0887\"], [0.1111111111111111, \"#46039f\"], [0.2222222222222222, \"#7201a8\"], [0.3333333333333333, \"#9c179e\"], [0.4444444444444444, \"#bd3786\"], [0.5555555555555556, \"#d8576b\"], [0.6666666666666666, \"#ed7953\"], [0.7777777777777778, \"#fb9f3a\"], [0.8888888888888888, \"#fdca26\"], [1.0, \"#f0f921\"]], \"type\": \"surface\"}], \"table\": [{\"cells\": {\"fill\": {\"color\": \"#EBF0F8\"}, \"line\": {\"color\": \"white\"}}, \"header\": {\"fill\": {\"color\": \"#C8D4E3\"}, \"line\": {\"color\": \"white\"}}, \"type\": \"table\"}]}, \"layout\": {\"annotationdefaults\": {\"arrowcolor\": \"#2a3f5f\", \"arrowhead\": 0, \"arrowwidth\": 1}, \"autotypenumbers\": \"strict\", \"coloraxis\": {\"colorbar\": {\"outlinewidth\": 0, \"ticks\": \"\"}}, \"colorscale\": {\"diverging\": [[0, \"#8e0152\"], [0.1, \"#c51b7d\"], [0.2, \"#de77ae\"], [0.3, \"#f1b6da\"], [0.4, \"#fde0ef\"], [0.5, \"#f7f7f7\"], [0.6, \"#e6f5d0\"], [0.7, \"#b8e186\"], [0.8, \"#7fbc41\"], [0.9, \"#4d9221\"], [1, \"#276419\"]], \"sequential\": [[0.0, \"#0d0887\"], [0.1111111111111111, \"#46039f\"], [0.2222222222222222, \"#7201a8\"], [0.3333333333333333, \"#9c179e\"], [0.4444444444444444, \"#bd3786\"], [0.5555555555555556, \"#d8576b\"], [0.6666666666666666, \"#ed7953\"], [0.7777777777777778, \"#fb9f3a\"], [0.8888888888888888, \"#fdca26\"], [1.0, \"#f0f921\"]], \"sequentialminus\": [[0.0, \"#0d0887\"], [0.1111111111111111, \"#46039f\"], [0.2222222222222222, \"#7201a8\"], [0.3333333333333333, \"#9c179e\"], [0.4444444444444444, \"#bd3786\"], [0.5555555555555556, \"#d8576b\"], [0.6666666666666666, \"#ed7953\"], [0.7777777777777778, \"#fb9f3a\"], [0.8888888888888888, \"#fdca26\"], [1.0, \"#f0f921\"]]}, \"colorway\": [\"#636efa\", \"#EF553B\", \"#00cc96\", \"#ab63fa\", \"#FFA15A\", \"#19d3f3\", \"#FF6692\", \"#B6E880\", \"#FF97FF\", \"#FECB52\"], \"font\": {\"color\": \"#2a3f5f\"}, \"geo\": {\"bgcolor\": \"white\", \"lakecolor\": \"white\", \"landcolor\": \"#E5ECF6\", \"showlakes\": true, \"showland\": true, \"subunitcolor\": \"white\"}, \"hoverlabel\": {\"align\": \"left\"}, \"hovermode\": \"closest\", \"mapbox\": {\"style\": \"light\"}, \"paper_bgcolor\": \"white\", \"plot_bgcolor\": \"#E5ECF6\", \"polar\": {\"angularaxis\": {\"gridcolor\": \"white\", \"linecolor\": \"white\", \"ticks\": \"\"}, \"bgcolor\": \"#E5ECF6\", \"radialaxis\": {\"gridcolor\": \"white\", \"linecolor\": \"white\", \"ticks\": \"\"}}, \"scene\": {\"xaxis\": {\"backgroundcolor\": \"#E5ECF6\", \"gridcolor\": \"white\", \"gridwidth\": 2, \"linecolor\": \"white\", \"showbackground\": true, \"ticks\": \"\", \"zerolinecolor\": \"white\"}, \"yaxis\": {\"backgroundcolor\": \"#E5ECF6\", \"gridcolor\": \"white\", \"gridwidth\": 2, \"linecolor\": \"white\", \"showbackground\": true, \"ticks\": \"\", \"zerolinecolor\": \"white\"}, \"zaxis\": {\"backgroundcolor\": \"#E5ECF6\", \"gridcolor\": \"white\", \"gridwidth\": 2, \"linecolor\": \"white\", \"showbackground\": true, \"ticks\": \"\", \"zerolinecolor\": \"white\"}}, \"shapedefaults\": {\"line\": {\"color\": \"#2a3f5f\"}}, \"ternary\": {\"aaxis\": {\"gridcolor\": \"white\", \"linecolor\": \"white\", \"ticks\": \"\"}, \"baxis\": {\"gridcolor\": \"white\", \"linecolor\": \"white\", \"ticks\": \"\"}, \"bgcolor\": \"#E5ECF6\", \"caxis\": {\"gridcolor\": \"white\", \"linecolor\": \"white\", \"ticks\": \"\"}}, \"title\": {\"x\": 0.05}, \"xaxis\": {\"automargin\": true, \"gridcolor\": \"white\", \"linecolor\": \"white\", \"ticks\": \"\", \"title\": {\"standoff\": 15}, \"zerolinecolor\": \"white\", \"zerolinewidth\": 2}, \"yaxis\": {\"automargin\": true, \"gridcolor\": \"white\", \"linecolor\": \"white\", \"ticks\": \"\", \"title\": {\"standoff\": 15}, \"zerolinecolor\": \"white\", \"zerolinewidth\": 2}}}, \"title\": {\"text\": \"Rompimento7Dias x Rompimento 28 Dias\"}},                        {\"responsive\": true}                    ).then(function(){\n",
       "                            \n",
       "var gd = document.getElementById('9ca431a7-7262-44cb-8f9a-6bfbdbb019b2');\n",
       "var x = new MutationObserver(function (mutations, observer) {{\n",
       "        var display = window.getComputedStyle(gd).display;\n",
       "        if (!display || display === 'none') {{\n",
       "            console.log([gd, 'removed!']);\n",
       "            Plotly.purge(gd);\n",
       "            observer.disconnect();\n",
       "        }}\n",
       "}});\n",
       "\n",
       "// Listen for the removal of the full notebook cells\n",
       "var notebookContainer = gd.closest('#notebook-container');\n",
       "if (notebookContainer) {{\n",
       "    x.observe(notebookContainer, {childList: true});\n",
       "}}\n",
       "\n",
       "// Listen for the clearing of the current output cell\n",
       "var outputEl = gd.closest('.output');\n",
       "if (outputEl) {{\n",
       "    x.observe(outputEl, {childList: true});\n",
       "}}\n",
       "\n",
       "                        })                };                });            </script>        </div>"
      ]
     },
     "metadata": {},
     "output_type": "display_data"
    }
   ],
   "source": [
    "fig = px.scatter_3d(dados_aglomerante, x=\"ConsumoPorM3\", y=\"Rompimento28Dias\", z=\"RelacaoAguaCimento\", color=\"TipoTraco\", title='Rompimento7Dias x Rompimento 28 Dias')\n",
    "fig.show()"
   ]
  },
  {
   "cell_type": "code",
   "execution_count": 58,
   "metadata": {},
   "outputs": [
    {
     "name": "stderr",
     "output_type": "stream",
     "text": [
      "/home/marina/anaconda3/lib/python3.8/site-packages/pandas/core/series.py:4563: SettingWithCopyWarning:\n",
      "\n",
      "\n",
      "A value is trying to be set on a copy of a slice from a DataFrame\n",
      "\n",
      "See the caveats in the documentation: https://pandas.pydata.org/pandas-docs/stable/user_guide/indexing.html#returning-a-view-versus-a-copy\n",
      "\n"
     ]
    }
   ],
   "source": [
    "dados_aglomerante[\"TipoLancamento\"].replace('C', 0, inplace = True)\n",
    "dados_aglomerante[\"TipoLancamento\"].replace('B', 1, inplace = True)\n",
    "\n",
    "dados_aglomerante[\"TipoTraco\"].replace('N', 0, inplace = True)\n",
    "dados_aglomerante[\"TipoTraco\"].replace('E', 1, inplace = True)"
   ]
  },
  {
   "cell_type": "code",
   "execution_count": 59,
   "metadata": {},
   "outputs": [],
   "source": [
    "class TypeSelector(BaseEstimator, TransformerMixin):\n",
    "    def __init__(self, dtype):\n",
    "        self.dtype = dtype\n",
    "    def fit(self, X, y=None):\n",
    "        return self\n",
    "    def transform(self, X):        \n",
    "        assert isinstance(X, pd.DataFrame)\n",
    "        return X.select_dtypes(include=[self.dtype])\n",
    "    \n",
    "class Debug(BaseEstimator, TransformerMixin):\n",
    "    def __init__(self, dtype):\n",
    "        self.dtype = dtype\n",
    "    def fit(self, X, y=None):\n",
    "        return self\n",
    "    def transform(self, X):        \n",
    "        print(X)\n",
    "\n",
    "modelo = Pipeline([\n",
    "  ('features', FeatureUnion(\n",
    "      transformer_list=[\n",
    "          ('numericals', Pipeline([\n",
    "              ('scaler', MinMaxScaler())\n",
    "          ]))\n",
    "      ]\n",
    "  )),\n",
    "  ('model', GradientBoostingRegressor(learning_rate = 0.3, min_samples_split = 4, random_state = 1))\n",
    "  #('model', DecisionTreeRegressor())\n",
    "  #('model', xgb.XGBRegressor())\n",
    "])"
   ]
  },
  {
   "cell_type": "code",
   "execution_count": 60,
   "metadata": {},
   "outputs": [
    {
     "data": {
      "text/html": [
       "<div>\n",
       "<style scoped>\n",
       "    .dataframe tbody tr th:only-of-type {\n",
       "        vertical-align: middle;\n",
       "    }\n",
       "\n",
       "    .dataframe tbody tr th {\n",
       "        vertical-align: top;\n",
       "    }\n",
       "\n",
       "    .dataframe thead th {\n",
       "        text-align: right;\n",
       "    }\n",
       "</style>\n",
       "<table border=\"1\" class=\"dataframe\">\n",
       "  <thead>\n",
       "    <tr style=\"text-align: right;\">\n",
       "      <th></th>\n",
       "      <th>CodigoReceita</th>\n",
       "      <th>Volume</th>\n",
       "      <th>TipoLancamento</th>\n",
       "      <th>DataEmissaoNotaFiscal</th>\n",
       "      <th>CodigoCliente</th>\n",
       "      <th>CodigoMotorista</th>\n",
       "      <th>TempoPermanenciaObra</th>\n",
       "      <th>ConsumoTotal</th>\n",
       "      <th>Idade</th>\n",
       "      <th>TipoTraco</th>\n",
       "      <th>...</th>\n",
       "      <th>FCK</th>\n",
       "      <th>Rompimento7Dias</th>\n",
       "      <th>Rompimento28Dias</th>\n",
       "      <th>ConsumoPorM3</th>\n",
       "      <th>DesvioAplicado</th>\n",
       "      <th>ResultadoProjetado</th>\n",
       "      <th>PercentualCrescimentoReal</th>\n",
       "      <th>PercentualCrescimentoProjetado</th>\n",
       "      <th>RelacaoAguaCimento</th>\n",
       "      <th>DataProjecao</th>\n",
       "    </tr>\n",
       "  </thead>\n",
       "  <tbody>\n",
       "    <tr>\n",
       "      <th>38008</th>\n",
       "      <td>33488051</td>\n",
       "      <td>6.0</td>\n",
       "      <td>1</td>\n",
       "      <td>2017-03-08 14:43:53.140</td>\n",
       "      <td>133258051</td>\n",
       "      <td>812051</td>\n",
       "      <td>00:54:00</td>\n",
       "      <td>2.172.000</td>\n",
       "      <td>28</td>\n",
       "      <td>0</td>\n",
       "      <td>...</td>\n",
       "      <td>30.0</td>\n",
       "      <td>25.73</td>\n",
       "      <td>35.08</td>\n",
       "      <td>362.0</td>\n",
       "      <td>6.0</td>\n",
       "      <td>35.882105</td>\n",
       "      <td>36.338904</td>\n",
       "      <td>39.456298</td>\n",
       "      <td>0.538674</td>\n",
       "      <td>2017-03-10</td>\n",
       "    </tr>\n",
       "    <tr>\n",
       "      <th>38066</th>\n",
       "      <td>33535051</td>\n",
       "      <td>8.0</td>\n",
       "      <td>1</td>\n",
       "      <td>2017-11-13 08:06:27.303</td>\n",
       "      <td>225643998</td>\n",
       "      <td>85079</td>\n",
       "      <td>01:05:00</td>\n",
       "      <td>2.560.000</td>\n",
       "      <td>28</td>\n",
       "      <td>0</td>\n",
       "      <td>...</td>\n",
       "      <td>25.0</td>\n",
       "      <td>24.26</td>\n",
       "      <td>33.40</td>\n",
       "      <td>320.0</td>\n",
       "      <td>6.0</td>\n",
       "      <td>28.834552</td>\n",
       "      <td>37.675185</td>\n",
       "      <td>18.856358</td>\n",
       "      <td>0.559375</td>\n",
       "      <td>2017-11-17</td>\n",
       "    </tr>\n",
       "    <tr>\n",
       "      <th>38067</th>\n",
       "      <td>33535051</td>\n",
       "      <td>8.0</td>\n",
       "      <td>1</td>\n",
       "      <td>2017-11-21 07:35:58.153</td>\n",
       "      <td>225643998</td>\n",
       "      <td>624051</td>\n",
       "      <td>01:39:00</td>\n",
       "      <td>2.560.000</td>\n",
       "      <td>28</td>\n",
       "      <td>0</td>\n",
       "      <td>...</td>\n",
       "      <td>25.0</td>\n",
       "      <td>24.24</td>\n",
       "      <td>31.72</td>\n",
       "      <td>320.0</td>\n",
       "      <td>6.0</td>\n",
       "      <td>28.817159</td>\n",
       "      <td>30.858086</td>\n",
       "      <td>18.882667</td>\n",
       "      <td>0.678125</td>\n",
       "      <td>2017-11-24</td>\n",
       "    </tr>\n",
       "    <tr>\n",
       "      <th>38068</th>\n",
       "      <td>33535051</td>\n",
       "      <td>8.0</td>\n",
       "      <td>1</td>\n",
       "      <td>2017-12-11 08:50:55.937</td>\n",
       "      <td>225643998</td>\n",
       "      <td>731051</td>\n",
       "      <td>01:09:00</td>\n",
       "      <td>2.560.000</td>\n",
       "      <td>28</td>\n",
       "      <td>0</td>\n",
       "      <td>...</td>\n",
       "      <td>25.0</td>\n",
       "      <td>23.45</td>\n",
       "      <td>31.12</td>\n",
       "      <td>320.0</td>\n",
       "      <td>6.0</td>\n",
       "      <td>28.125844</td>\n",
       "      <td>32.707889</td>\n",
       "      <td>19.939631</td>\n",
       "      <td>0.678125</td>\n",
       "      <td>2017-12-15</td>\n",
       "    </tr>\n",
       "    <tr>\n",
       "      <th>38069</th>\n",
       "      <td>33535051</td>\n",
       "      <td>8.0</td>\n",
       "      <td>1</td>\n",
       "      <td>2017-12-12 08:02:35.123</td>\n",
       "      <td>225643998</td>\n",
       "      <td>340051</td>\n",
       "      <td>01:28:00</td>\n",
       "      <td>2.560.000</td>\n",
       "      <td>28</td>\n",
       "      <td>0</td>\n",
       "      <td>...</td>\n",
       "      <td>25.0</td>\n",
       "      <td>20.88</td>\n",
       "      <td>28.39</td>\n",
       "      <td>320.0</td>\n",
       "      <td>6.0</td>\n",
       "      <td>25.816563</td>\n",
       "      <td>35.967433</td>\n",
       "      <td>23.642543</td>\n",
       "      <td>0.678125</td>\n",
       "      <td>2017-12-15</td>\n",
       "    </tr>\n",
       "  </tbody>\n",
       "</table>\n",
       "<p>5 rows × 21 columns</p>\n",
       "</div>"
      ],
      "text/plain": [
       "       CodigoReceita  Volume  TipoLancamento    DataEmissaoNotaFiscal  \\\n",
       "38008       33488051     6.0               1  2017-03-08 14:43:53.140   \n",
       "38066       33535051     8.0               1  2017-11-13 08:06:27.303   \n",
       "38067       33535051     8.0               1  2017-11-21 07:35:58.153   \n",
       "38068       33535051     8.0               1  2017-12-11 08:50:55.937   \n",
       "38069       33535051     8.0               1  2017-12-12 08:02:35.123   \n",
       "\n",
       "       CodigoCliente  CodigoMotorista TempoPermanenciaObra ConsumoTotal  \\\n",
       "38008      133258051           812051             00:54:00    2.172.000   \n",
       "38066      225643998            85079             01:05:00    2.560.000   \n",
       "38067      225643998           624051             01:39:00    2.560.000   \n",
       "38068      225643998           731051             01:09:00    2.560.000   \n",
       "38069      225643998           340051             01:28:00    2.560.000   \n",
       "\n",
       "       Idade  TipoTraco  ...   FCK  Rompimento7Dias  Rompimento28Dias  \\\n",
       "38008     28          0  ...  30.0            25.73             35.08   \n",
       "38066     28          0  ...  25.0            24.26             33.40   \n",
       "38067     28          0  ...  25.0            24.24             31.72   \n",
       "38068     28          0  ...  25.0            23.45             31.12   \n",
       "38069     28          0  ...  25.0            20.88             28.39   \n",
       "\n",
       "       ConsumoPorM3  DesvioAplicado  ResultadoProjetado  \\\n",
       "38008         362.0             6.0           35.882105   \n",
       "38066         320.0             6.0           28.834552   \n",
       "38067         320.0             6.0           28.817159   \n",
       "38068         320.0             6.0           28.125844   \n",
       "38069         320.0             6.0           25.816563   \n",
       "\n",
       "       PercentualCrescimentoReal  PercentualCrescimentoProjetado  \\\n",
       "38008                  36.338904                       39.456298   \n",
       "38066                  37.675185                       18.856358   \n",
       "38067                  30.858086                       18.882667   \n",
       "38068                  32.707889                       19.939631   \n",
       "38069                  35.967433                       23.642543   \n",
       "\n",
       "       RelacaoAguaCimento  DataProjecao  \n",
       "38008            0.538674    2017-03-10  \n",
       "38066            0.559375    2017-11-17  \n",
       "38067            0.678125    2017-11-24  \n",
       "38068            0.678125    2017-12-15  \n",
       "38069            0.678125    2017-12-15  \n",
       "\n",
       "[5 rows x 21 columns]"
      ]
     },
     "execution_count": 60,
     "metadata": {},
     "output_type": "execute_result"
    }
   ],
   "source": [
    "dados_aglomerante.head()"
   ]
  },
  {
   "cell_type": "code",
   "execution_count": 61,
   "metadata": {},
   "outputs": [],
   "source": [
    "def RemoveOutliers(dados, coluna):\n",
    "    q1 = dados[coluna].quantile(0.25)\n",
    "    q3 = dados[coluna].quantile(0.75)\n",
    "    iqr = q3 - q1\n",
    "    \n",
    "    maskOutlier = (dados[coluna] < (q1 - 1.5 * iqr)) | (dados[coluna] > (q3 + 1.5 * iqr))\n",
    "    retorno = dados[maskOutlier == False]\n",
    "    \n",
    "    return retorno\n",
    "\n",
    "\n",
    "dados_aglomerante = RemoveOutliers(dados_aglomerante, \"Rompimento7Dias\")\n",
    "dados_aglomerante = RemoveOutliers(dados_aglomerante, \"Rompimento28Dias\")\n",
    "dados_aglomerante = RemoveOutliers(dados_aglomerante, \"RelacaoAguaCimento\")"
   ]
  },
  {
   "cell_type": "code",
   "execution_count": 62,
   "metadata": {},
   "outputs": [],
   "source": [
    "dados_aglomerante_modelo = dados_aglomerante[[\"Rompimento7Dias\", \"ConsumoPorM3\", \"RelacaoAguaCimento\", \"TipoLancamento\", \"TipoTraco\", \"Rompimento28Dias\", \"ResultadoProjetado\"]]\n",
    "\n",
    "X = dados_aglomerante_modelo[[\"Rompimento7Dias\", \"ConsumoPorM3\", \"RelacaoAguaCimento\", \"TipoLancamento\", \"TipoTraco\", \"ResultadoProjetado\"]]\n",
    "Y = dados_aglomerante_modelo[\"Rompimento28Dias\"].values\n",
    "\n",
    "x_train, x_test, y_train, y_test = train_test_split(X, Y, test_size=0.33, random_state = 1)"
   ]
  },
  {
   "cell_type": "code",
   "execution_count": 63,
   "metadata": {},
   "outputs": [],
   "source": [
    "y_train = y_train.reshape(-1, 1)\n",
    "#x_train = x_train.reshape(-1, 1)\n",
    "y_test = y_test.reshape(-1, 1)\n",
    "#x_test = x_test.reshape(-1, 1)"
   ]
  },
  {
   "cell_type": "code",
   "execution_count": 64,
   "metadata": {},
   "outputs": [],
   "source": [
    "x_train_modelo = x_train[[\"Rompimento7Dias\", \"ConsumoPorM3\", \"RelacaoAguaCimento\", \"TipoLancamento\", \"TipoTraco\"]]\n",
    "x_test_modelo = x_test[[\"Rompimento7Dias\", \"ConsumoPorM3\", \"RelacaoAguaCimento\", \"TipoLancamento\", \"TipoTraco\"]]"
   ]
  },
  {
   "cell_type": "code",
   "execution_count": 65,
   "metadata": {},
   "outputs": [
    {
     "name": "stderr",
     "output_type": "stream",
     "text": [
      "/home/marina/anaconda3/lib/python3.8/site-packages/sklearn/utils/validation.py:72: DataConversionWarning:\n",
      "\n",
      "A column-vector y was passed when a 1d array was expected. Please change the shape of y to (n_samples, ), for example using ravel().\n",
      "\n"
     ]
    }
   ],
   "source": [
    "modelo.fit(x_train_modelo, y_train)\n",
    "y_pred = modelo.predict(x_test_modelo)"
   ]
  },
  {
   "cell_type": "code",
   "execution_count": 66,
   "metadata": {},
   "outputs": [],
   "source": [
    "df = pd.DataFrame(columns = [\"Rompimento28Dias\", \"ResultadoProjetado\", \"ResultadoPredito\"])\n",
    "\n",
    "df[\"Rompimento28Dias\"] = y_test.reshape(1, -1)[0]\n",
    "df[\"ResultadoProjetado\"] = x_test[\"ResultadoProjetado\"].values\n",
    "df[\"ResultadoPredito\"] = y_pred"
   ]
  },
  {
   "cell_type": "code",
   "execution_count": 67,
   "metadata": {},
   "outputs": [
    {
     "data": {
      "text/html": [
       "<div>\n",
       "<style scoped>\n",
       "    .dataframe tbody tr th:only-of-type {\n",
       "        vertical-align: middle;\n",
       "    }\n",
       "\n",
       "    .dataframe tbody tr th {\n",
       "        vertical-align: top;\n",
       "    }\n",
       "\n",
       "    .dataframe thead th {\n",
       "        text-align: right;\n",
       "    }\n",
       "</style>\n",
       "<table border=\"1\" class=\"dataframe\">\n",
       "  <thead>\n",
       "    <tr style=\"text-align: right;\">\n",
       "      <th></th>\n",
       "      <th>Rompimento28Dias</th>\n",
       "      <th>ResultadoProjetado</th>\n",
       "      <th>ResultadoPredito</th>\n",
       "    </tr>\n",
       "  </thead>\n",
       "  <tbody>\n",
       "    <tr>\n",
       "      <th>0</th>\n",
       "      <td>27.38</td>\n",
       "      <td>26.072846</td>\n",
       "      <td>29.999091</td>\n",
       "    </tr>\n",
       "    <tr>\n",
       "      <th>1</th>\n",
       "      <td>37.20</td>\n",
       "      <td>37.953019</td>\n",
       "      <td>37.350226</td>\n",
       "    </tr>\n",
       "    <tr>\n",
       "      <th>2</th>\n",
       "      <td>31.26</td>\n",
       "      <td>30.044325</td>\n",
       "      <td>29.446034</td>\n",
       "    </tr>\n",
       "    <tr>\n",
       "      <th>3</th>\n",
       "      <td>32.05</td>\n",
       "      <td>28.178643</td>\n",
       "      <td>31.309057</td>\n",
       "    </tr>\n",
       "    <tr>\n",
       "      <th>4</th>\n",
       "      <td>34.09</td>\n",
       "      <td>29.838738</td>\n",
       "      <td>30.986952</td>\n",
       "    </tr>\n",
       "  </tbody>\n",
       "</table>\n",
       "</div>"
      ],
      "text/plain": [
       "   Rompimento28Dias  ResultadoProjetado  ResultadoPredito\n",
       "0             27.38           26.072846         29.999091\n",
       "1             37.20           37.953019         37.350226\n",
       "2             31.26           30.044325         29.446034\n",
       "3             32.05           28.178643         31.309057\n",
       "4             34.09           29.838738         30.986952"
      ]
     },
     "execution_count": 67,
     "metadata": {},
     "output_type": "execute_result"
    }
   ],
   "source": [
    "df.head()"
   ]
  },
  {
   "cell_type": "code",
   "execution_count": 68,
   "metadata": {},
   "outputs": [],
   "source": [
    "df[\"ErroProjetado\"] = abs(df[\"ResultadoProjetado\"] - df[\"Rompimento28Dias\"])\n",
    "df[\"ErroPredito\"] = abs(df[\"ResultadoPredito\"] - df[\"Rompimento28Dias\"])"
   ]
  },
  {
   "cell_type": "code",
   "execution_count": 69,
   "metadata": {},
   "outputs": [
    {
     "data": {
      "text/html": [
       "<div>\n",
       "<style scoped>\n",
       "    .dataframe tbody tr th:only-of-type {\n",
       "        vertical-align: middle;\n",
       "    }\n",
       "\n",
       "    .dataframe tbody tr th {\n",
       "        vertical-align: top;\n",
       "    }\n",
       "\n",
       "    .dataframe thead th {\n",
       "        text-align: right;\n",
       "    }\n",
       "</style>\n",
       "<table border=\"1\" class=\"dataframe\">\n",
       "  <thead>\n",
       "    <tr style=\"text-align: right;\">\n",
       "      <th></th>\n",
       "      <th>Rompimento28Dias</th>\n",
       "      <th>ResultadoProjetado</th>\n",
       "      <th>ResultadoPredito</th>\n",
       "      <th>ErroProjetado</th>\n",
       "      <th>ErroPredito</th>\n",
       "    </tr>\n",
       "  </thead>\n",
       "  <tbody>\n",
       "    <tr>\n",
       "      <th>0</th>\n",
       "      <td>27.38</td>\n",
       "      <td>26.072846</td>\n",
       "      <td>29.999091</td>\n",
       "      <td>1.307154</td>\n",
       "      <td>2.619091</td>\n",
       "    </tr>\n",
       "    <tr>\n",
       "      <th>1</th>\n",
       "      <td>37.20</td>\n",
       "      <td>37.953019</td>\n",
       "      <td>37.350226</td>\n",
       "      <td>0.753019</td>\n",
       "      <td>0.150226</td>\n",
       "    </tr>\n",
       "    <tr>\n",
       "      <th>2</th>\n",
       "      <td>31.26</td>\n",
       "      <td>30.044325</td>\n",
       "      <td>29.446034</td>\n",
       "      <td>1.215675</td>\n",
       "      <td>1.813966</td>\n",
       "    </tr>\n",
       "    <tr>\n",
       "      <th>3</th>\n",
       "      <td>32.05</td>\n",
       "      <td>28.178643</td>\n",
       "      <td>31.309057</td>\n",
       "      <td>3.871357</td>\n",
       "      <td>0.740943</td>\n",
       "    </tr>\n",
       "    <tr>\n",
       "      <th>4</th>\n",
       "      <td>34.09</td>\n",
       "      <td>29.838738</td>\n",
       "      <td>30.986952</td>\n",
       "      <td>4.251262</td>\n",
       "      <td>3.103048</td>\n",
       "    </tr>\n",
       "  </tbody>\n",
       "</table>\n",
       "</div>"
      ],
      "text/plain": [
       "   Rompimento28Dias  ResultadoProjetado  ResultadoPredito  ErroProjetado  \\\n",
       "0             27.38           26.072846         29.999091       1.307154   \n",
       "1             37.20           37.953019         37.350226       0.753019   \n",
       "2             31.26           30.044325         29.446034       1.215675   \n",
       "3             32.05           28.178643         31.309057       3.871357   \n",
       "4             34.09           29.838738         30.986952       4.251262   \n",
       "\n",
       "   ErroPredito  \n",
       "0     2.619091  \n",
       "1     0.150226  \n",
       "2     1.813966  \n",
       "3     0.740943  \n",
       "4     3.103048  "
      ]
     },
     "execution_count": 69,
     "metadata": {},
     "output_type": "execute_result"
    }
   ],
   "source": [
    "df.head()"
   ]
  },
  {
   "cell_type": "code",
   "execution_count": 70,
   "metadata": {},
   "outputs": [
    {
     "data": {
      "text/plain": [
       "382.75437903972056"
      ]
     },
     "execution_count": 70,
     "metadata": {},
     "output_type": "execute_result"
    }
   ],
   "source": [
    "df[\"ErroProjetado\"].sum()"
   ]
  },
  {
   "cell_type": "code",
   "execution_count": 71,
   "metadata": {},
   "outputs": [
    {
     "data": {
      "text/plain": [
       "241.29277496454154"
      ]
     },
     "execution_count": 71,
     "metadata": {},
     "output_type": "execute_result"
    }
   ],
   "source": [
    "df[\"ErroPredito\"].sum()"
   ]
  },
  {
   "cell_type": "code",
   "execution_count": 72,
   "metadata": {},
   "outputs": [
    {
     "data": {
      "text/plain": [
       "0.7019867549668874"
      ]
     },
     "execution_count": 72,
     "metadata": {},
     "output_type": "execute_result"
    }
   ],
   "source": [
    "mask_modelo_predito_melhor = df[\"ErroPredito\"] < df[\"ErroProjetado\"]\n",
    "quantidade_nf_modelo_eh_melhor = len(df[mask_modelo_predito_melhor])\n",
    "quantidade_total = len(df)\n",
    "\n",
    "quantidade_nf_modelo_eh_melhor/quantidade_total"
   ]
  },
  {
   "cell_type": "code",
   "execution_count": 566,
   "metadata": {},
   "outputs": [
    {
     "ename": "SyntaxError",
     "evalue": "cannot assign to operator (<ipython-input-566-943311438422>, line 1)",
     "output_type": "error",
     "traceback": [
      "\u001b[0;36m  File \u001b[0;32m\"<ipython-input-566-943311438422>\"\u001b[0;36m, line \u001b[0;32m1\u001b[0m\n\u001b[0;31m    0.6818181818181818 - 0,3 - min_samples_split = 4 - GradientBoostingRegressor | Romp7Dias, ConsumoPorM3, RelacaoAguaCimento, TipoLancamento, TipoTraco\u001b[0m\n\u001b[0m    ^\u001b[0m\n\u001b[0;31mSyntaxError\u001b[0m\u001b[0;31m:\u001b[0m cannot assign to operator\n"
     ]
    }
   ],
   "source": [
    "0.7019867549668874 - 0,3 - min_samples_split = 4 - GradientBoostingRegressor | Romp7Dias, ConsumoPorM3, RelacaoAguaCimento, TipoLancamento, TipoTraco | Removendo outliers"
   ]
  },
  {
   "cell_type": "code",
   "execution_count": 75,
   "metadata": {},
   "outputs": [
    {
     "data": {
      "text/html": [
       "<div>\n",
       "<style scoped>\n",
       "    .dataframe tbody tr th:only-of-type {\n",
       "        vertical-align: middle;\n",
       "    }\n",
       "\n",
       "    .dataframe tbody tr th {\n",
       "        vertical-align: top;\n",
       "    }\n",
       "\n",
       "    .dataframe thead th {\n",
       "        text-align: right;\n",
       "    }\n",
       "</style>\n",
       "<table border=\"1\" class=\"dataframe\">\n",
       "  <thead>\n",
       "    <tr style=\"text-align: right;\">\n",
       "      <th></th>\n",
       "      <th>Rompimento28Dias</th>\n",
       "      <th>ResultadoProjetado</th>\n",
       "      <th>ResultadoPredito</th>\n",
       "      <th>ErroProjetado</th>\n",
       "      <th>ErroPredito</th>\n",
       "    </tr>\n",
       "  </thead>\n",
       "  <tbody>\n",
       "    <tr>\n",
       "      <th>count</th>\n",
       "      <td>151.000000</td>\n",
       "      <td>151.000000</td>\n",
       "      <td>151.000000</td>\n",
       "      <td>151.000000</td>\n",
       "      <td>151.000000</td>\n",
       "    </tr>\n",
       "    <tr>\n",
       "      <th>mean</th>\n",
       "      <td>32.371722</td>\n",
       "      <td>32.517567</td>\n",
       "      <td>32.342284</td>\n",
       "      <td>2.534797</td>\n",
       "      <td>1.597965</td>\n",
       "    </tr>\n",
       "    <tr>\n",
       "      <th>std</th>\n",
       "      <td>5.621110</td>\n",
       "      <td>5.654231</td>\n",
       "      <td>5.316987</td>\n",
       "      <td>1.671750</td>\n",
       "      <td>1.140082</td>\n",
       "    </tr>\n",
       "    <tr>\n",
       "      <th>min</th>\n",
       "      <td>20.150000</td>\n",
       "      <td>15.878297</td>\n",
       "      <td>20.231588</td>\n",
       "      <td>0.042719</td>\n",
       "      <td>0.015537</td>\n",
       "    </tr>\n",
       "    <tr>\n",
       "      <th>25%</th>\n",
       "      <td>28.715000</td>\n",
       "      <td>28.715980</td>\n",
       "      <td>28.739299</td>\n",
       "      <td>1.306476</td>\n",
       "      <td>0.733631</td>\n",
       "    </tr>\n",
       "    <tr>\n",
       "      <th>50%</th>\n",
       "      <td>32.510000</td>\n",
       "      <td>32.263872</td>\n",
       "      <td>31.838203</td>\n",
       "      <td>2.009991</td>\n",
       "      <td>1.288044</td>\n",
       "    </tr>\n",
       "    <tr>\n",
       "      <th>75%</th>\n",
       "      <td>35.925000</td>\n",
       "      <td>36.005115</td>\n",
       "      <td>36.029348</td>\n",
       "      <td>3.809451</td>\n",
       "      <td>2.122222</td>\n",
       "    </tr>\n",
       "    <tr>\n",
       "      <th>max</th>\n",
       "      <td>46.600000</td>\n",
       "      <td>48.436012</td>\n",
       "      <td>47.008568</td>\n",
       "      <td>7.980361</td>\n",
       "      <td>5.715299</td>\n",
       "    </tr>\n",
       "  </tbody>\n",
       "</table>\n",
       "</div>"
      ],
      "text/plain": [
       "       Rompimento28Dias  ResultadoProjetado  ResultadoPredito  ErroProjetado  \\\n",
       "count        151.000000          151.000000        151.000000     151.000000   \n",
       "mean          32.371722           32.517567         32.342284       2.534797   \n",
       "std            5.621110            5.654231          5.316987       1.671750   \n",
       "min           20.150000           15.878297         20.231588       0.042719   \n",
       "25%           28.715000           28.715980         28.739299       1.306476   \n",
       "50%           32.510000           32.263872         31.838203       2.009991   \n",
       "75%           35.925000           36.005115         36.029348       3.809451   \n",
       "max           46.600000           48.436012         47.008568       7.980361   \n",
       "\n",
       "       ErroPredito  \n",
       "count   151.000000  \n",
       "mean      1.597965  \n",
       "std       1.140082  \n",
       "min       0.015537  \n",
       "25%       0.733631  \n",
       "50%       1.288044  \n",
       "75%       2.122222  \n",
       "max       5.715299  "
      ]
     },
     "execution_count": 75,
     "metadata": {},
     "output_type": "execute_result"
    }
   ],
   "source": [
    "df.describe()"
   ]
  },
  {
   "cell_type": "code",
   "execution_count": null,
   "metadata": {},
   "outputs": [],
   "source": []
  }
 ],
 "metadata": {
  "kernelspec": {
   "display_name": "Python 3",
   "language": "python",
   "name": "python3"
  },
  "language_info": {
   "codemirror_mode": {
    "name": "ipython",
    "version": 3
   },
   "file_extension": ".py",
   "mimetype": "text/x-python",
   "name": "python",
   "nbconvert_exporter": "python",
   "pygments_lexer": "ipython3",
   "version": "3.8.5"
  }
 },
 "nbformat": 4,
 "nbformat_minor": 4
}

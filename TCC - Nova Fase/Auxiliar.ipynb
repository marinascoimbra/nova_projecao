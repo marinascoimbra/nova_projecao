{
 "cells": [
  {
   "cell_type": "code",
   "execution_count": 1,
   "metadata": {},
   "outputs": [],
   "source": [
    "import pandas as pd"
   ]
  },
  {
   "cell_type": "code",
   "execution_count": 4,
   "metadata": {},
   "outputs": [
    {
     "data": {
      "text/html": [
       "<div>\n",
       "<style scoped>\n",
       "    .dataframe tbody tr th:only-of-type {\n",
       "        vertical-align: middle;\n",
       "    }\n",
       "\n",
       "    .dataframe tbody tr th {\n",
       "        vertical-align: top;\n",
       "    }\n",
       "\n",
       "    .dataframe thead th {\n",
       "        text-align: right;\n",
       "    }\n",
       "</style>\n",
       "<table border=\"1\" class=\"dataframe\">\n",
       "  <thead>\n",
       "    <tr style=\"text-align: right;\">\n",
       "      <th></th>\n",
       "      <th>Unnamed: 0</th>\n",
       "      <th>CodigoReceita</th>\n",
       "      <th>Volume</th>\n",
       "      <th>TipoLancamento</th>\n",
       "      <th>QuantidadeAgua</th>\n",
       "      <th>ConsumoTotal</th>\n",
       "      <th>FCK</th>\n",
       "      <th>Rompimento7Dias</th>\n",
       "      <th>Rompimento28Dias</th>\n",
       "      <th>ResultadoEsperado</th>\n",
       "    </tr>\n",
       "  </thead>\n",
       "  <tbody>\n",
       "    <tr>\n",
       "      <th>0</th>\n",
       "      <td>2781</td>\n",
       "      <td>23009051</td>\n",
       "      <td>8.0</td>\n",
       "      <td>B</td>\n",
       "      <td>1368.0</td>\n",
       "      <td>2480.0</td>\n",
       "      <td>25.0</td>\n",
       "      <td>20.66</td>\n",
       "      <td>29.42</td>\n",
       "      <td>43.601321</td>\n",
       "    </tr>\n",
       "    <tr>\n",
       "      <th>1</th>\n",
       "      <td>2782</td>\n",
       "      <td>23009051</td>\n",
       "      <td>8.0</td>\n",
       "      <td>B</td>\n",
       "      <td>1368.0</td>\n",
       "      <td>2480.0</td>\n",
       "      <td>25.0</td>\n",
       "      <td>21.54</td>\n",
       "      <td>32.70</td>\n",
       "      <td>43.601321</td>\n",
       "    </tr>\n",
       "    <tr>\n",
       "      <th>2</th>\n",
       "      <td>2785</td>\n",
       "      <td>23009051</td>\n",
       "      <td>8.0</td>\n",
       "      <td>B</td>\n",
       "      <td>1368.0</td>\n",
       "      <td>2480.0</td>\n",
       "      <td>25.0</td>\n",
       "      <td>18.46</td>\n",
       "      <td>28.26</td>\n",
       "      <td>43.601321</td>\n",
       "    </tr>\n",
       "    <tr>\n",
       "      <th>3</th>\n",
       "      <td>2786</td>\n",
       "      <td>23009051</td>\n",
       "      <td>8.0</td>\n",
       "      <td>B</td>\n",
       "      <td>1368.0</td>\n",
       "      <td>2480.0</td>\n",
       "      <td>25.0</td>\n",
       "      <td>19.59</td>\n",
       "      <td>30.59</td>\n",
       "      <td>43.601321</td>\n",
       "    </tr>\n",
       "    <tr>\n",
       "      <th>4</th>\n",
       "      <td>2787</td>\n",
       "      <td>23009051</td>\n",
       "      <td>8.0</td>\n",
       "      <td>B</td>\n",
       "      <td>1368.0</td>\n",
       "      <td>2480.0</td>\n",
       "      <td>25.0</td>\n",
       "      <td>NaN</td>\n",
       "      <td>NaN</td>\n",
       "      <td>43.601321</td>\n",
       "    </tr>\n",
       "  </tbody>\n",
       "</table>\n",
       "</div>"
      ],
      "text/plain": [
       "   Unnamed: 0  CodigoReceita  Volume TipoLancamento  QuantidadeAgua  \\\n",
       "0        2781       23009051     8.0              B          1368.0   \n",
       "1        2782       23009051     8.0              B          1368.0   \n",
       "2        2785       23009051     8.0              B          1368.0   \n",
       "3        2786       23009051     8.0              B          1368.0   \n",
       "4        2787       23009051     8.0              B          1368.0   \n",
       "\n",
       "   ConsumoTotal   FCK  Rompimento7Dias  Rompimento28Dias  ResultadoEsperado  \n",
       "0        2480.0  25.0            20.66             29.42          43.601321  \n",
       "1        2480.0  25.0            21.54             32.70          43.601321  \n",
       "2        2480.0  25.0            18.46             28.26          43.601321  \n",
       "3        2480.0  25.0            19.59             30.59          43.601321  \n",
       "4        2480.0  25.0              NaN               NaN          43.601321  "
      ]
     },
     "execution_count": 4,
     "metadata": {},
     "output_type": "execute_result"
    }
   ],
   "source": [
    "dados = pd.read_csv(\"dados_29051.csv\")\n",
    "dados = dados[dados[\"TipoTraco\"] == 'N']\n",
    "dados.drop(\"TipoTraco\", axis = \"columns\", inplace=True)\n",
    "dados.head()"
   ]
  },
  {
   "cell_type": "code",
   "execution_count": 5,
   "metadata": {},
   "outputs": [],
   "source": [
    "dados.to_csv(\"dados_29051_normais.csv\")"
   ]
  },
  {
   "cell_type": "code",
   "execution_count": null,
   "metadata": {},
   "outputs": [],
   "source": []
  }
 ],
 "metadata": {
  "kernelspec": {
   "display_name": "Python 3",
   "language": "python",
   "name": "python3"
  },
  "language_info": {
   "codemirror_mode": {
    "name": "ipython",
    "version": 3
   },
   "file_extension": ".py",
   "mimetype": "text/x-python",
   "name": "python",
   "nbconvert_exporter": "python",
   "pygments_lexer": "ipython3",
   "version": "3.8.5"
  }
 },
 "nbformat": 4,
 "nbformat_minor": 4
}

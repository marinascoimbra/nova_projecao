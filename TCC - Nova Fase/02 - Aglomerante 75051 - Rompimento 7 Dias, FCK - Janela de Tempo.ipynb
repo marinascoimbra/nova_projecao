{
 "cells": [
  {
   "cell_type": "code",
   "execution_count": 2098,
   "metadata": {},
   "outputs": [],
   "source": [
    "import pandas as pd\n",
    "import numpy as np\n",
    "import datetime as dt\n",
    "import seaborn as sns\n",
    "import matplotlib.pyplot as plt\n",
    "import plotly.express as px\n",
    "\n",
    "import xgboost as xgb\n",
    "from sklearn.preprocessing import MinMaxScaler\n",
    "from sklearn.manifold import LocallyLinearEmbedding\n",
    "from sklearn.linear_model import LinearRegression\n",
    "from sklearn.model_selection import GridSearchCV\n",
    "import sklearn.metrics as metrics\n",
    "from sklearn.tree import DecisionTreeRegressor\n",
    "from sklearn.ensemble import GradientBoostingRegressor\n",
    "from sklearn.pipeline import Pipeline, FeatureUnion\n",
    "from sklearn.model_selection import train_test_split\n",
    "from sklearn.base import BaseEstimator, TransformerMixin"
   ]
  },
  {
   "cell_type": "code",
   "execution_count": 2099,
   "metadata": {},
   "outputs": [],
   "source": [
    "pd.set_option('max_columns', None)"
   ]
  },
  {
   "cell_type": "code",
   "execution_count": 2101,
   "metadata": {},
   "outputs": [
    {
     "data": {
      "text/html": [
       "<div>\n",
       "<style scoped>\n",
       "    .dataframe tbody tr th:only-of-type {\n",
       "        vertical-align: middle;\n",
       "    }\n",
       "\n",
       "    .dataframe tbody tr th {\n",
       "        vertical-align: top;\n",
       "    }\n",
       "\n",
       "    .dataframe thead th {\n",
       "        text-align: right;\n",
       "    }\n",
       "</style>\n",
       "<table border=\"1\" class=\"dataframe\">\n",
       "  <thead>\n",
       "    <tr style=\"text-align: right;\">\n",
       "      <th></th>\n",
       "      <th>CodigoNotaFiscal</th>\n",
       "      <th>CodigoCentroSaida</th>\n",
       "      <th>CodigoReceita</th>\n",
       "      <th>Volume</th>\n",
       "      <th>TipoLancamento</th>\n",
       "      <th>DataEmissaoNotaFiscal</th>\n",
       "      <th>CodigoCliente</th>\n",
       "      <th>CodigoMotorista</th>\n",
       "      <th>Status</th>\n",
       "      <th>QuantidadeAgua</th>\n",
       "      <th>TempoPermanenciaObra</th>\n",
       "      <th>ConsumoTotal</th>\n",
       "      <th>Idade</th>\n",
       "      <th>TipoTraco</th>\n",
       "      <th>CodigoAglomerante</th>\n",
       "      <th>FCK</th>\n",
       "      <th>Rompimento7Dias</th>\n",
       "      <th>Rompimento28Dias</th>\n",
       "      <th>ConsumoPorM3</th>\n",
       "      <th>DesvioAplicado</th>\n",
       "      <th>ResultadoEsperado</th>\n",
       "      <th>ResultadoProjetado</th>\n",
       "      <th>PercentualCrescimentoReal</th>\n",
       "      <th>PercentualCrescimentoProjetado</th>\n",
       "      <th>RelacaoAguaCimento</th>\n",
       "      <th>DataProjecao</th>\n",
       "      <th>QuantidadeAguaM3</th>\n",
       "    </tr>\n",
       "  </thead>\n",
       "  <tbody>\n",
       "    <tr>\n",
       "      <th>0</th>\n",
       "      <td>346641</td>\n",
       "      <td>80020</td>\n",
       "      <td>672051</td>\n",
       "      <td>8.0</td>\n",
       "      <td>B</td>\n",
       "      <td>2015-01-16 07:35:31.770</td>\n",
       "      <td>6248051</td>\n",
       "      <td>11080</td>\n",
       "      <td>N</td>\n",
       "      <td>1456.0</td>\n",
       "      <td>02:41:00</td>\n",
       "      <td>2720.0</td>\n",
       "      <td>28</td>\n",
       "      <td>N</td>\n",
       "      <td>12051.0</td>\n",
       "      <td>30.0</td>\n",
       "      <td>20.83</td>\n",
       "      <td>31.81</td>\n",
       "      <td>340.0</td>\n",
       "      <td>3.5</td>\n",
       "      <td>39.430782</td>\n",
       "      <td>33.321754</td>\n",
       "      <td>52.712434</td>\n",
       "      <td>59.970014</td>\n",
       "      <td>0.535294</td>\n",
       "      <td>2015-01-16</td>\n",
       "      <td>182.0</td>\n",
       "    </tr>\n",
       "    <tr>\n",
       "      <th>1</th>\n",
       "      <td>346661</td>\n",
       "      <td>80020</td>\n",
       "      <td>672051</td>\n",
       "      <td>8.0</td>\n",
       "      <td>B</td>\n",
       "      <td>2015-01-16 08:20:03.153</td>\n",
       "      <td>6248051</td>\n",
       "      <td>87079</td>\n",
       "      <td>N</td>\n",
       "      <td>1456.0</td>\n",
       "      <td>02:46:00</td>\n",
       "      <td>2720.0</td>\n",
       "      <td>28</td>\n",
       "      <td>N</td>\n",
       "      <td>12051.0</td>\n",
       "      <td>30.0</td>\n",
       "      <td>19.62</td>\n",
       "      <td>31.21</td>\n",
       "      <td>340.0</td>\n",
       "      <td>3.5</td>\n",
       "      <td>39.430782</td>\n",
       "      <td>31.799067</td>\n",
       "      <td>59.072375</td>\n",
       "      <td>62.074756</td>\n",
       "      <td>0.535294</td>\n",
       "      <td>2015-01-16</td>\n",
       "      <td>182.0</td>\n",
       "    </tr>\n",
       "    <tr>\n",
       "      <th>2</th>\n",
       "      <td>346695</td>\n",
       "      <td>80020</td>\n",
       "      <td>672051</td>\n",
       "      <td>7.0</td>\n",
       "      <td>B</td>\n",
       "      <td>2015-01-16 10:05:20.293</td>\n",
       "      <td>6248051</td>\n",
       "      <td>43080</td>\n",
       "      <td>N</td>\n",
       "      <td>1274.0</td>\n",
       "      <td>01:32:00</td>\n",
       "      <td>2380.0</td>\n",
       "      <td>28</td>\n",
       "      <td>N</td>\n",
       "      <td>12051.0</td>\n",
       "      <td>30.0</td>\n",
       "      <td>21.97</td>\n",
       "      <td>36.68</td>\n",
       "      <td>340.0</td>\n",
       "      <td>3.5</td>\n",
       "      <td>39.430782</td>\n",
       "      <td>34.733698</td>\n",
       "      <td>66.954939</td>\n",
       "      <td>58.096029</td>\n",
       "      <td>0.535294</td>\n",
       "      <td>2015-01-16</td>\n",
       "      <td>182.0</td>\n",
       "    </tr>\n",
       "    <tr>\n",
       "      <th>3</th>\n",
       "      <td>347367</td>\n",
       "      <td>80020</td>\n",
       "      <td>672051</td>\n",
       "      <td>8.0</td>\n",
       "      <td>B</td>\n",
       "      <td>2015-01-20 18:52:57.373</td>\n",
       "      <td>12343051</td>\n",
       "      <td>43080</td>\n",
       "      <td>N</td>\n",
       "      <td>1456.0</td>\n",
       "      <td>01:10:00</td>\n",
       "      <td>2720.0</td>\n",
       "      <td>28</td>\n",
       "      <td>N</td>\n",
       "      <td>12051.0</td>\n",
       "      <td>30.0</td>\n",
       "      <td>28.21</td>\n",
       "      <td>40.21</td>\n",
       "      <td>340.0</td>\n",
       "      <td>3.5</td>\n",
       "      <td>39.430782</td>\n",
       "      <td>42.118539</td>\n",
       "      <td>42.538107</td>\n",
       "      <td>49.303577</td>\n",
       "      <td>0.535294</td>\n",
       "      <td>2015-01-23</td>\n",
       "      <td>182.0</td>\n",
       "    </tr>\n",
       "    <tr>\n",
       "      <th>4</th>\n",
       "      <td>347388</td>\n",
       "      <td>80020</td>\n",
       "      <td>672051</td>\n",
       "      <td>6.0</td>\n",
       "      <td>B</td>\n",
       "      <td>2015-01-21 07:08:54.847</td>\n",
       "      <td>6248051</td>\n",
       "      <td>42080</td>\n",
       "      <td>N</td>\n",
       "      <td>1092.0</td>\n",
       "      <td>00:35:00</td>\n",
       "      <td>2040.0</td>\n",
       "      <td>28</td>\n",
       "      <td>N</td>\n",
       "      <td>12051.0</td>\n",
       "      <td>30.0</td>\n",
       "      <td>25.80</td>\n",
       "      <td>38.74</td>\n",
       "      <td>340.0</td>\n",
       "      <td>3.5</td>\n",
       "      <td>39.430782</td>\n",
       "      <td>39.330637</td>\n",
       "      <td>50.155039</td>\n",
       "      <td>52.444329</td>\n",
       "      <td>0.535294</td>\n",
       "      <td>2015-01-23</td>\n",
       "      <td>182.0</td>\n",
       "    </tr>\n",
       "  </tbody>\n",
       "</table>\n",
       "</div>"
      ],
      "text/plain": [
       "   CodigoNotaFiscal  CodigoCentroSaida  CodigoReceita  Volume TipoLancamento  \\\n",
       "0            346641              80020         672051     8.0              B   \n",
       "1            346661              80020         672051     8.0              B   \n",
       "2            346695              80020         672051     7.0              B   \n",
       "3            347367              80020         672051     8.0              B   \n",
       "4            347388              80020         672051     6.0              B   \n",
       "\n",
       "     DataEmissaoNotaFiscal  CodigoCliente  CodigoMotorista Status  \\\n",
       "0  2015-01-16 07:35:31.770        6248051            11080      N   \n",
       "1  2015-01-16 08:20:03.153        6248051            87079      N   \n",
       "2  2015-01-16 10:05:20.293        6248051            43080      N   \n",
       "3  2015-01-20 18:52:57.373       12343051            43080      N   \n",
       "4  2015-01-21 07:08:54.847        6248051            42080      N   \n",
       "\n",
       "   QuantidadeAgua TempoPermanenciaObra  ConsumoTotal  Idade TipoTraco  \\\n",
       "0          1456.0             02:41:00        2720.0     28         N   \n",
       "1          1456.0             02:46:00        2720.0     28         N   \n",
       "2          1274.0             01:32:00        2380.0     28         N   \n",
       "3          1456.0             01:10:00        2720.0     28         N   \n",
       "4          1092.0             00:35:00        2040.0     28         N   \n",
       "\n",
       "   CodigoAglomerante   FCK  Rompimento7Dias  Rompimento28Dias  ConsumoPorM3  \\\n",
       "0            12051.0  30.0            20.83             31.81         340.0   \n",
       "1            12051.0  30.0            19.62             31.21         340.0   \n",
       "2            12051.0  30.0            21.97             36.68         340.0   \n",
       "3            12051.0  30.0            28.21             40.21         340.0   \n",
       "4            12051.0  30.0            25.80             38.74         340.0   \n",
       "\n",
       "   DesvioAplicado  ResultadoEsperado  ResultadoProjetado  \\\n",
       "0             3.5          39.430782           33.321754   \n",
       "1             3.5          39.430782           31.799067   \n",
       "2             3.5          39.430782           34.733698   \n",
       "3             3.5          39.430782           42.118539   \n",
       "4             3.5          39.430782           39.330637   \n",
       "\n",
       "   PercentualCrescimentoReal  PercentualCrescimentoProjetado  \\\n",
       "0                  52.712434                       59.970014   \n",
       "1                  59.072375                       62.074756   \n",
       "2                  66.954939                       58.096029   \n",
       "3                  42.538107                       49.303577   \n",
       "4                  50.155039                       52.444329   \n",
       "\n",
       "   RelacaoAguaCimento DataProjecao  QuantidadeAguaM3  \n",
       "0            0.535294   2015-01-16             182.0  \n",
       "1            0.535294   2015-01-16             182.0  \n",
       "2            0.535294   2015-01-16             182.0  \n",
       "3            0.535294   2015-01-23             182.0  \n",
       "4            0.535294   2015-01-23             182.0  "
      ]
     },
     "execution_count": 2101,
     "metadata": {},
     "output_type": "execute_result"
    }
   ],
   "source": [
    "dados = pd.read_csv(\"dados_pre_processados.csv\")\n",
    "dados.drop(\"Unnamed: 0\", axis = \"columns\", inplace=True)\n",
    "#mask_tipo_traco = dados[\"TipoTraco\"] == 'N'\n",
    "#dados = dados[mask_tipo_traco]\n",
    "dados.head()"
   ]
  },
  {
   "cell_type": "code",
   "execution_count": 2102,
   "metadata": {},
   "outputs": [
    {
     "data": {
      "text/plain": [
       "60051.0    6749\n",
       "29051.0    6388\n",
       "68051.0    4729\n",
       "70051.0    3244\n",
       "11051.0    2826\n",
       "           ... \n",
       "45051.0      21\n",
       "82051.0      14\n",
       "51051.0       5\n",
       "84051.0       4\n",
       "67051.0       1\n",
       "Name: CodigoAglomerante, Length: 71, dtype: int64"
      ]
     },
     "execution_count": 2102,
     "metadata": {},
     "output_type": "execute_result"
    }
   ],
   "source": [
    "dados[\"CodigoAglomerante\"].value_counts()"
   ]
  },
  {
   "cell_type": "code",
   "execution_count": 1255,
   "metadata": {},
   "outputs": [
    {
     "data": {
      "text/html": [
       "<div>\n",
       "<style scoped>\n",
       "    .dataframe tbody tr th:only-of-type {\n",
       "        vertical-align: middle;\n",
       "    }\n",
       "\n",
       "    .dataframe tbody tr th {\n",
       "        vertical-align: top;\n",
       "    }\n",
       "\n",
       "    .dataframe thead th {\n",
       "        text-align: right;\n",
       "    }\n",
       "</style>\n",
       "<table border=\"1\" class=\"dataframe\">\n",
       "  <thead>\n",
       "    <tr style=\"text-align: right;\">\n",
       "      <th></th>\n",
       "      <th>CodigoReceita</th>\n",
       "      <th>Volume</th>\n",
       "      <th>TipoLancamento</th>\n",
       "      <th>QuantidadeAgua</th>\n",
       "      <th>TempoPermanenciaObra</th>\n",
       "      <th>ConsumoTotal</th>\n",
       "      <th>FCK</th>\n",
       "      <th>Rompimento7Dias</th>\n",
       "      <th>Rompimento28Dias</th>\n",
       "      <th>DesvioAplicado</th>\n",
       "      <th>ResultadoProjetado</th>\n",
       "      <th>DataProjecao</th>\n",
       "    </tr>\n",
       "  </thead>\n",
       "  <tbody>\n",
       "    <tr>\n",
       "      <th>0</th>\n",
       "      <td>672051</td>\n",
       "      <td>8.0</td>\n",
       "      <td>B</td>\n",
       "      <td>1456.0</td>\n",
       "      <td>02:41:00</td>\n",
       "      <td>2720.0</td>\n",
       "      <td>30.0</td>\n",
       "      <td>20.83</td>\n",
       "      <td>31.81</td>\n",
       "      <td>3.5</td>\n",
       "      <td>33.321754</td>\n",
       "      <td>2015-01-16</td>\n",
       "    </tr>\n",
       "    <tr>\n",
       "      <th>1</th>\n",
       "      <td>672051</td>\n",
       "      <td>8.0</td>\n",
       "      <td>B</td>\n",
       "      <td>1456.0</td>\n",
       "      <td>02:46:00</td>\n",
       "      <td>2720.0</td>\n",
       "      <td>30.0</td>\n",
       "      <td>19.62</td>\n",
       "      <td>31.21</td>\n",
       "      <td>3.5</td>\n",
       "      <td>31.799067</td>\n",
       "      <td>2015-01-16</td>\n",
       "    </tr>\n",
       "    <tr>\n",
       "      <th>2</th>\n",
       "      <td>672051</td>\n",
       "      <td>7.0</td>\n",
       "      <td>B</td>\n",
       "      <td>1274.0</td>\n",
       "      <td>01:32:00</td>\n",
       "      <td>2380.0</td>\n",
       "      <td>30.0</td>\n",
       "      <td>21.97</td>\n",
       "      <td>36.68</td>\n",
       "      <td>3.5</td>\n",
       "      <td>34.733698</td>\n",
       "      <td>2015-01-16</td>\n",
       "    </tr>\n",
       "    <tr>\n",
       "      <th>3</th>\n",
       "      <td>672051</td>\n",
       "      <td>8.0</td>\n",
       "      <td>B</td>\n",
       "      <td>1456.0</td>\n",
       "      <td>01:10:00</td>\n",
       "      <td>2720.0</td>\n",
       "      <td>30.0</td>\n",
       "      <td>28.21</td>\n",
       "      <td>40.21</td>\n",
       "      <td>3.5</td>\n",
       "      <td>42.118539</td>\n",
       "      <td>2015-01-23</td>\n",
       "    </tr>\n",
       "    <tr>\n",
       "      <th>4</th>\n",
       "      <td>672051</td>\n",
       "      <td>6.0</td>\n",
       "      <td>B</td>\n",
       "      <td>1092.0</td>\n",
       "      <td>00:35:00</td>\n",
       "      <td>2040.0</td>\n",
       "      <td>30.0</td>\n",
       "      <td>25.80</td>\n",
       "      <td>38.74</td>\n",
       "      <td>3.5</td>\n",
       "      <td>39.330637</td>\n",
       "      <td>2015-01-23</td>\n",
       "    </tr>\n",
       "  </tbody>\n",
       "</table>\n",
       "</div>"
      ],
      "text/plain": [
       "   CodigoReceita  Volume TipoLancamento  QuantidadeAgua TempoPermanenciaObra  \\\n",
       "0         672051     8.0              B          1456.0             02:41:00   \n",
       "1         672051     8.0              B          1456.0             02:46:00   \n",
       "2         672051     7.0              B          1274.0             01:32:00   \n",
       "3         672051     8.0              B          1456.0             01:10:00   \n",
       "4         672051     6.0              B          1092.0             00:35:00   \n",
       "\n",
       "   ConsumoTotal   FCK  Rompimento7Dias  Rompimento28Dias  DesvioAplicado  \\\n",
       "0        2720.0  30.0            20.83             31.81             3.5   \n",
       "1        2720.0  30.0            19.62             31.21             3.5   \n",
       "2        2380.0  30.0            21.97             36.68             3.5   \n",
       "3        2720.0  30.0            28.21             40.21             3.5   \n",
       "4        2040.0  30.0            25.80             38.74             3.5   \n",
       "\n",
       "   ResultadoProjetado DataProjecao  \n",
       "0           33.321754   2015-01-16  \n",
       "1           31.799067   2015-01-16  \n",
       "2           34.733698   2015-01-16  \n",
       "3           42.118539   2015-01-23  \n",
       "4           39.330637   2015-01-23  "
      ]
     },
     "execution_count": 1255,
     "metadata": {},
     "output_type": "execute_result"
    }
   ],
   "source": [
    "dados_latex = dados[[\"CodigoReceita\", \"Volume\", \"TipoLancamento\", \"QuantidadeAgua\", \"TempoPermanenciaObra\", \"ConsumoTotal\", \"FCK\", \"Rompimento7Dias\", \"Rompimento28Dias\", \"DesvioAplicado\", \"ResultadoProjetado\", \"DataProjecao\"]]\n",
    "dados_latex.head()"
   ]
  },
  {
   "cell_type": "code",
   "execution_count": 1256,
   "metadata": {},
   "outputs": [
    {
     "data": {
      "text/html": [
       "<div>\n",
       "<style scoped>\n",
       "    .dataframe tbody tr th:only-of-type {\n",
       "        vertical-align: middle;\n",
       "    }\n",
       "\n",
       "    .dataframe tbody tr th {\n",
       "        vertical-align: top;\n",
       "    }\n",
       "\n",
       "    .dataframe thead th {\n",
       "        text-align: right;\n",
       "    }\n",
       "</style>\n",
       "<table border=\"1\" class=\"dataframe\">\n",
       "  <thead>\n",
       "    <tr style=\"text-align: right;\">\n",
       "      <th></th>\n",
       "      <th>CodigoReceita</th>\n",
       "      <th>Volume</th>\n",
       "      <th>TipoLancamento</th>\n",
       "      <th>QuantidadeAgua</th>\n",
       "      <th>TempoPermanenciaObra</th>\n",
       "      <th>ConsumoTotal</th>\n",
       "      <th>FCK</th>\n",
       "      <th>Rompimento7Dias</th>\n",
       "      <th>Rompimento28Dias</th>\n",
       "      <th>DesvioAplicado</th>\n",
       "      <th>ResultadoProjetado</th>\n",
       "      <th>DataProjecao</th>\n",
       "    </tr>\n",
       "  </thead>\n",
       "  <tbody>\n",
       "    <tr>\n",
       "      <th>0</th>\n",
       "      <td>672051</td>\n",
       "      <td>8.0</td>\n",
       "      <td>B</td>\n",
       "      <td>1456.0</td>\n",
       "      <td>02:41:00</td>\n",
       "      <td>2720.0</td>\n",
       "      <td>30.0</td>\n",
       "      <td>20.83</td>\n",
       "      <td>31.81</td>\n",
       "      <td>3.5</td>\n",
       "      <td>33.321754</td>\n",
       "      <td>2015-01-16</td>\n",
       "    </tr>\n",
       "    <tr>\n",
       "      <th>1</th>\n",
       "      <td>672051</td>\n",
       "      <td>8.0</td>\n",
       "      <td>B</td>\n",
       "      <td>1456.0</td>\n",
       "      <td>02:46:00</td>\n",
       "      <td>2720.0</td>\n",
       "      <td>30.0</td>\n",
       "      <td>19.62</td>\n",
       "      <td>31.21</td>\n",
       "      <td>3.5</td>\n",
       "      <td>31.799067</td>\n",
       "      <td>2015-01-16</td>\n",
       "    </tr>\n",
       "    <tr>\n",
       "      <th>2</th>\n",
       "      <td>672051</td>\n",
       "      <td>7.0</td>\n",
       "      <td>B</td>\n",
       "      <td>1274.0</td>\n",
       "      <td>01:32:00</td>\n",
       "      <td>2380.0</td>\n",
       "      <td>30.0</td>\n",
       "      <td>21.97</td>\n",
       "      <td>36.68</td>\n",
       "      <td>3.5</td>\n",
       "      <td>34.733698</td>\n",
       "      <td>2015-01-16</td>\n",
       "    </tr>\n",
       "    <tr>\n",
       "      <th>3</th>\n",
       "      <td>672051</td>\n",
       "      <td>8.0</td>\n",
       "      <td>B</td>\n",
       "      <td>1456.0</td>\n",
       "      <td>01:10:00</td>\n",
       "      <td>2720.0</td>\n",
       "      <td>30.0</td>\n",
       "      <td>28.21</td>\n",
       "      <td>40.21</td>\n",
       "      <td>3.5</td>\n",
       "      <td>42.118539</td>\n",
       "      <td>2015-01-23</td>\n",
       "    </tr>\n",
       "    <tr>\n",
       "      <th>4</th>\n",
       "      <td>672051</td>\n",
       "      <td>6.0</td>\n",
       "      <td>B</td>\n",
       "      <td>1092.0</td>\n",
       "      <td>00:35:00</td>\n",
       "      <td>2040.0</td>\n",
       "      <td>30.0</td>\n",
       "      <td>25.80</td>\n",
       "      <td>38.74</td>\n",
       "      <td>3.5</td>\n",
       "      <td>39.330637</td>\n",
       "      <td>2015-01-23</td>\n",
       "    </tr>\n",
       "    <tr>\n",
       "      <th>...</th>\n",
       "      <td>...</td>\n",
       "      <td>...</td>\n",
       "      <td>...</td>\n",
       "      <td>...</td>\n",
       "      <td>...</td>\n",
       "      <td>...</td>\n",
       "      <td>...</td>\n",
       "      <td>...</td>\n",
       "      <td>...</td>\n",
       "      <td>...</td>\n",
       "      <td>...</td>\n",
       "      <td>...</td>\n",
       "    </tr>\n",
       "    <tr>\n",
       "      <th>64537</th>\n",
       "      <td>56258051</td>\n",
       "      <td>6.0</td>\n",
       "      <td>C</td>\n",
       "      <td>1188.0</td>\n",
       "      <td>01:17:00</td>\n",
       "      <td>1950.0</td>\n",
       "      <td>35.0</td>\n",
       "      <td>35.81</td>\n",
       "      <td>49.99</td>\n",
       "      <td>5.0</td>\n",
       "      <td>48.009372</td>\n",
       "      <td>2020-12-04</td>\n",
       "    </tr>\n",
       "    <tr>\n",
       "      <th>64576</th>\n",
       "      <td>9435051</td>\n",
       "      <td>8.0</td>\n",
       "      <td>B</td>\n",
       "      <td>1696.0</td>\n",
       "      <td>00:55:00</td>\n",
       "      <td>2728.0</td>\n",
       "      <td>35.0</td>\n",
       "      <td>29.92</td>\n",
       "      <td>42.29</td>\n",
       "      <td>3.0</td>\n",
       "      <td>40.867076</td>\n",
       "      <td>2020-12-11</td>\n",
       "    </tr>\n",
       "    <tr>\n",
       "      <th>64577</th>\n",
       "      <td>5741051</td>\n",
       "      <td>4.0</td>\n",
       "      <td>B</td>\n",
       "      <td>848.0</td>\n",
       "      <td>01:00:00</td>\n",
       "      <td>1364.0</td>\n",
       "      <td>35.0</td>\n",
       "      <td>31.21</td>\n",
       "      <td>43.73</td>\n",
       "      <td>3.0</td>\n",
       "      <td>40.002277</td>\n",
       "      <td>2020-12-11</td>\n",
       "    </tr>\n",
       "    <tr>\n",
       "      <th>64605</th>\n",
       "      <td>54235051</td>\n",
       "      <td>4.0</td>\n",
       "      <td>B</td>\n",
       "      <td>816.0</td>\n",
       "      <td>01:20:00</td>\n",
       "      <td>1072.0</td>\n",
       "      <td>25.0</td>\n",
       "      <td>18.38</td>\n",
       "      <td>26.55</td>\n",
       "      <td>2.0</td>\n",
       "      <td>27.635075</td>\n",
       "      <td>2020-12-18</td>\n",
       "    </tr>\n",
       "    <tr>\n",
       "      <th>64607</th>\n",
       "      <td>56263051</td>\n",
       "      <td>8.0</td>\n",
       "      <td>C</td>\n",
       "      <td>1576.0</td>\n",
       "      <td>01:48:00</td>\n",
       "      <td>2512.0</td>\n",
       "      <td>35.0</td>\n",
       "      <td>37.01</td>\n",
       "      <td>45.66</td>\n",
       "      <td>3.5</td>\n",
       "      <td>48.747083</td>\n",
       "      <td>2020-12-18</td>\n",
       "    </tr>\n",
       "  </tbody>\n",
       "</table>\n",
       "<p>42293 rows × 12 columns</p>\n",
       "</div>"
      ],
      "text/plain": [
       "       CodigoReceita  Volume TipoLancamento  QuantidadeAgua  \\\n",
       "0             672051     8.0              B          1456.0   \n",
       "1             672051     8.0              B          1456.0   \n",
       "2             672051     7.0              B          1274.0   \n",
       "3             672051     8.0              B          1456.0   \n",
       "4             672051     6.0              B          1092.0   \n",
       "...              ...     ...            ...             ...   \n",
       "64537       56258051     6.0              C          1188.0   \n",
       "64576        9435051     8.0              B          1696.0   \n",
       "64577        5741051     4.0              B           848.0   \n",
       "64605       54235051     4.0              B           816.0   \n",
       "64607       56263051     8.0              C          1576.0   \n",
       "\n",
       "      TempoPermanenciaObra  ConsumoTotal   FCK  Rompimento7Dias  \\\n",
       "0                 02:41:00        2720.0  30.0            20.83   \n",
       "1                 02:46:00        2720.0  30.0            19.62   \n",
       "2                 01:32:00        2380.0  30.0            21.97   \n",
       "3                 01:10:00        2720.0  30.0            28.21   \n",
       "4                 00:35:00        2040.0  30.0            25.80   \n",
       "...                    ...           ...   ...              ...   \n",
       "64537             01:17:00        1950.0  35.0            35.81   \n",
       "64576             00:55:00        2728.0  35.0            29.92   \n",
       "64577             01:00:00        1364.0  35.0            31.21   \n",
       "64605             01:20:00        1072.0  25.0            18.38   \n",
       "64607             01:48:00        2512.0  35.0            37.01   \n",
       "\n",
       "       Rompimento28Dias  DesvioAplicado  ResultadoProjetado DataProjecao  \n",
       "0                 31.81             3.5           33.321754   2015-01-16  \n",
       "1                 31.21             3.5           31.799067   2015-01-16  \n",
       "2                 36.68             3.5           34.733698   2015-01-16  \n",
       "3                 40.21             3.5           42.118539   2015-01-23  \n",
       "4                 38.74             3.5           39.330637   2015-01-23  \n",
       "...                 ...             ...                 ...          ...  \n",
       "64537             49.99             5.0           48.009372   2020-12-04  \n",
       "64576             42.29             3.0           40.867076   2020-12-11  \n",
       "64577             43.73             3.0           40.002277   2020-12-11  \n",
       "64605             26.55             2.0           27.635075   2020-12-18  \n",
       "64607             45.66             3.5           48.747083   2020-12-18  \n",
       "\n",
       "[42293 rows x 12 columns]"
      ]
     },
     "execution_count": 1256,
     "metadata": {},
     "output_type": "execute_result"
    }
   ],
   "source": [
    "dados_latex"
   ]
  },
  {
   "cell_type": "code",
   "execution_count": 1257,
   "metadata": {},
   "outputs": [
    {
     "data": {
      "text/html": [
       "<div>\n",
       "<style scoped>\n",
       "    .dataframe tbody tr th:only-of-type {\n",
       "        vertical-align: middle;\n",
       "    }\n",
       "\n",
       "    .dataframe tbody tr th {\n",
       "        vertical-align: top;\n",
       "    }\n",
       "\n",
       "    .dataframe thead th {\n",
       "        text-align: right;\n",
       "    }\n",
       "</style>\n",
       "<table border=\"1\" class=\"dataframe\">\n",
       "  <thead>\n",
       "    <tr style=\"text-align: right;\">\n",
       "      <th></th>\n",
       "      <th>CodigoNotaFiscal</th>\n",
       "      <th>CodigoCentroSaida</th>\n",
       "      <th>CodigoReceita</th>\n",
       "      <th>Volume</th>\n",
       "      <th>TipoLancamento</th>\n",
       "      <th>DataEmissaoNotaFiscal</th>\n",
       "      <th>CodigoCliente</th>\n",
       "      <th>CodigoMotorista</th>\n",
       "      <th>Status</th>\n",
       "      <th>QuantidadeAgua</th>\n",
       "      <th>TempoPermanenciaObra</th>\n",
       "      <th>ConsumoTotal</th>\n",
       "      <th>Idade</th>\n",
       "      <th>TipoTraco</th>\n",
       "      <th>CodigoAglomerante</th>\n",
       "      <th>FCK</th>\n",
       "      <th>Rompimento7Dias</th>\n",
       "      <th>Rompimento28Dias</th>\n",
       "      <th>ConsumoPorM3</th>\n",
       "      <th>DesvioAplicado</th>\n",
       "      <th>ResultadoEsperado</th>\n",
       "      <th>ResultadoProjetado</th>\n",
       "      <th>PercentualCrescimentoReal</th>\n",
       "      <th>PercentualCrescimentoProjetado</th>\n",
       "      <th>RelacaoAguaCimento</th>\n",
       "      <th>DataProjecao</th>\n",
       "      <th>QuantidadeAguaM3</th>\n",
       "    </tr>\n",
       "  </thead>\n",
       "  <tbody>\n",
       "    <tr>\n",
       "      <th>38008</th>\n",
       "      <td>445227</td>\n",
       "      <td>51020</td>\n",
       "      <td>33488051</td>\n",
       "      <td>6.0</td>\n",
       "      <td>B</td>\n",
       "      <td>2017-03-08 14:43:53.140</td>\n",
       "      <td>133258051</td>\n",
       "      <td>812051</td>\n",
       "      <td>N</td>\n",
       "      <td>1170.0</td>\n",
       "      <td>00:54:00</td>\n",
       "      <td>2172.0</td>\n",
       "      <td>28</td>\n",
       "      <td>N</td>\n",
       "      <td>75051.0</td>\n",
       "      <td>30.0</td>\n",
       "      <td>25.73</td>\n",
       "      <td>35.08</td>\n",
       "      <td>362.0</td>\n",
       "      <td>6.0</td>\n",
       "      <td>46.095231</td>\n",
       "      <td>35.882105</td>\n",
       "      <td>36.338904</td>\n",
       "      <td>39.456298</td>\n",
       "      <td>0.538674</td>\n",
       "      <td>2017-03-10</td>\n",
       "      <td>195.0</td>\n",
       "    </tr>\n",
       "    <tr>\n",
       "      <th>38066</th>\n",
       "      <td>472682</td>\n",
       "      <td>51020</td>\n",
       "      <td>33535051</td>\n",
       "      <td>8.0</td>\n",
       "      <td>B</td>\n",
       "      <td>2017-11-13 08:06:27.303</td>\n",
       "      <td>225643998</td>\n",
       "      <td>85079</td>\n",
       "      <td>N</td>\n",
       "      <td>1432.0</td>\n",
       "      <td>01:05:00</td>\n",
       "      <td>2560.0</td>\n",
       "      <td>28</td>\n",
       "      <td>N</td>\n",
       "      <td>75051.0</td>\n",
       "      <td>25.0</td>\n",
       "      <td>24.26</td>\n",
       "      <td>33.40</td>\n",
       "      <td>320.0</td>\n",
       "      <td>6.0</td>\n",
       "      <td>44.353206</td>\n",
       "      <td>28.834552</td>\n",
       "      <td>37.675185</td>\n",
       "      <td>18.856358</td>\n",
       "      <td>0.559375</td>\n",
       "      <td>2017-11-17</td>\n",
       "      <td>179.0</td>\n",
       "    </tr>\n",
       "    <tr>\n",
       "      <th>38067</th>\n",
       "      <td>473524</td>\n",
       "      <td>51020</td>\n",
       "      <td>33535051</td>\n",
       "      <td>8.0</td>\n",
       "      <td>B</td>\n",
       "      <td>2017-11-21 07:35:58.153</td>\n",
       "      <td>225643998</td>\n",
       "      <td>624051</td>\n",
       "      <td>N</td>\n",
       "      <td>1736.0</td>\n",
       "      <td>01:39:00</td>\n",
       "      <td>2560.0</td>\n",
       "      <td>28</td>\n",
       "      <td>N</td>\n",
       "      <td>75051.0</td>\n",
       "      <td>25.0</td>\n",
       "      <td>24.24</td>\n",
       "      <td>31.72</td>\n",
       "      <td>320.0</td>\n",
       "      <td>6.0</td>\n",
       "      <td>35.558927</td>\n",
       "      <td>28.817159</td>\n",
       "      <td>30.858086</td>\n",
       "      <td>18.882667</td>\n",
       "      <td>0.678125</td>\n",
       "      <td>2017-11-24</td>\n",
       "      <td>217.0</td>\n",
       "    </tr>\n",
       "    <tr>\n",
       "      <th>38068</th>\n",
       "      <td>475527</td>\n",
       "      <td>51020</td>\n",
       "      <td>33535051</td>\n",
       "      <td>8.0</td>\n",
       "      <td>B</td>\n",
       "      <td>2017-12-11 08:50:55.937</td>\n",
       "      <td>225643998</td>\n",
       "      <td>731051</td>\n",
       "      <td>N</td>\n",
       "      <td>1736.0</td>\n",
       "      <td>01:09:00</td>\n",
       "      <td>2560.0</td>\n",
       "      <td>28</td>\n",
       "      <td>N</td>\n",
       "      <td>75051.0</td>\n",
       "      <td>25.0</td>\n",
       "      <td>23.45</td>\n",
       "      <td>31.12</td>\n",
       "      <td>320.0</td>\n",
       "      <td>6.0</td>\n",
       "      <td>35.558927</td>\n",
       "      <td>28.125844</td>\n",
       "      <td>32.707889</td>\n",
       "      <td>19.939631</td>\n",
       "      <td>0.678125</td>\n",
       "      <td>2017-12-15</td>\n",
       "      <td>217.0</td>\n",
       "    </tr>\n",
       "    <tr>\n",
       "      <th>38069</th>\n",
       "      <td>475669</td>\n",
       "      <td>51020</td>\n",
       "      <td>33535051</td>\n",
       "      <td>8.0</td>\n",
       "      <td>B</td>\n",
       "      <td>2017-12-12 08:02:35.123</td>\n",
       "      <td>225643998</td>\n",
       "      <td>340051</td>\n",
       "      <td>N</td>\n",
       "      <td>1736.0</td>\n",
       "      <td>01:28:00</td>\n",
       "      <td>2560.0</td>\n",
       "      <td>28</td>\n",
       "      <td>N</td>\n",
       "      <td>75051.0</td>\n",
       "      <td>25.0</td>\n",
       "      <td>20.88</td>\n",
       "      <td>28.39</td>\n",
       "      <td>320.0</td>\n",
       "      <td>6.0</td>\n",
       "      <td>35.558927</td>\n",
       "      <td>25.816563</td>\n",
       "      <td>35.967433</td>\n",
       "      <td>23.642543</td>\n",
       "      <td>0.678125</td>\n",
       "      <td>2017-12-15</td>\n",
       "      <td>217.0</td>\n",
       "    </tr>\n",
       "  </tbody>\n",
       "</table>\n",
       "</div>"
      ],
      "text/plain": [
       "       CodigoNotaFiscal  CodigoCentroSaida  CodigoReceita  Volume  \\\n",
       "38008            445227              51020       33488051     6.0   \n",
       "38066            472682              51020       33535051     8.0   \n",
       "38067            473524              51020       33535051     8.0   \n",
       "38068            475527              51020       33535051     8.0   \n",
       "38069            475669              51020       33535051     8.0   \n",
       "\n",
       "      TipoLancamento    DataEmissaoNotaFiscal  CodigoCliente  CodigoMotorista  \\\n",
       "38008              B  2017-03-08 14:43:53.140      133258051           812051   \n",
       "38066              B  2017-11-13 08:06:27.303      225643998            85079   \n",
       "38067              B  2017-11-21 07:35:58.153      225643998           624051   \n",
       "38068              B  2017-12-11 08:50:55.937      225643998           731051   \n",
       "38069              B  2017-12-12 08:02:35.123      225643998           340051   \n",
       "\n",
       "      Status  QuantidadeAgua TempoPermanenciaObra  ConsumoTotal  Idade  \\\n",
       "38008      N          1170.0             00:54:00        2172.0     28   \n",
       "38066      N          1432.0             01:05:00        2560.0     28   \n",
       "38067      N          1736.0             01:39:00        2560.0     28   \n",
       "38068      N          1736.0             01:09:00        2560.0     28   \n",
       "38069      N          1736.0             01:28:00        2560.0     28   \n",
       "\n",
       "      TipoTraco  CodigoAglomerante   FCK  Rompimento7Dias  Rompimento28Dias  \\\n",
       "38008         N            75051.0  30.0            25.73             35.08   \n",
       "38066         N            75051.0  25.0            24.26             33.40   \n",
       "38067         N            75051.0  25.0            24.24             31.72   \n",
       "38068         N            75051.0  25.0            23.45             31.12   \n",
       "38069         N            75051.0  25.0            20.88             28.39   \n",
       "\n",
       "       ConsumoPorM3  DesvioAplicado  ResultadoEsperado  ResultadoProjetado  \\\n",
       "38008         362.0             6.0          46.095231           35.882105   \n",
       "38066         320.0             6.0          44.353206           28.834552   \n",
       "38067         320.0             6.0          35.558927           28.817159   \n",
       "38068         320.0             6.0          35.558927           28.125844   \n",
       "38069         320.0             6.0          35.558927           25.816563   \n",
       "\n",
       "       PercentualCrescimentoReal  PercentualCrescimentoProjetado  \\\n",
       "38008                  36.338904                       39.456298   \n",
       "38066                  37.675185                       18.856358   \n",
       "38067                  30.858086                       18.882667   \n",
       "38068                  32.707889                       19.939631   \n",
       "38069                  35.967433                       23.642543   \n",
       "\n",
       "       RelacaoAguaCimento DataProjecao  QuantidadeAguaM3  \n",
       "38008            0.538674   2017-03-10             195.0  \n",
       "38066            0.559375   2017-11-17             179.0  \n",
       "38067            0.678125   2017-11-24             217.0  \n",
       "38068            0.678125   2017-12-15             217.0  \n",
       "38069            0.678125   2017-12-15             217.0  "
      ]
     },
     "execution_count": 1257,
     "metadata": {},
     "output_type": "execute_result"
    }
   ],
   "source": [
    "mask_aglomerante = dados[\"CodigoAglomerante\"] == 75051\n",
    "dados_aglomerante = dados[mask_aglomerante]\n",
    "dados_aglomerante.head()"
   ]
  },
  {
   "cell_type": "code",
   "execution_count": 1258,
   "metadata": {},
   "outputs": [
    {
     "data": {
      "text/plain": [
       "N    361\n",
       "Name: TipoTraco, dtype: int64"
      ]
     },
     "execution_count": 1258,
     "metadata": {},
     "output_type": "execute_result"
    }
   ],
   "source": [
    "dados_aglomerante[\"TipoTraco\"].value_counts()"
   ]
  },
  {
   "cell_type": "code",
   "execution_count": 1259,
   "metadata": {},
   "outputs": [
    {
     "data": {
      "text/plain": [
       "B    264\n",
       "C     97\n",
       "Name: TipoLancamento, dtype: int64"
      ]
     },
     "execution_count": 1259,
     "metadata": {},
     "output_type": "execute_result"
    }
   ],
   "source": [
    "dados_aglomerante[\"TipoLancamento\"].value_counts()"
   ]
  },
  {
   "cell_type": "code",
   "execution_count": 1260,
   "metadata": {},
   "outputs": [
    {
     "data": {
      "text/plain": [
       "361"
      ]
     },
     "execution_count": 1260,
     "metadata": {},
     "output_type": "execute_result"
    }
   ],
   "source": [
    "len(dados_aglomerante)"
   ]
  },
  {
   "cell_type": "code",
   "execution_count": 1261,
   "metadata": {},
   "outputs": [
    {
     "name": "stderr",
     "output_type": "stream",
     "text": [
      "<ipython-input-1261-336d0659c33b>:1: SettingWithCopyWarning:\n",
      "\n",
      "\n",
      "A value is trying to be set on a copy of a slice from a DataFrame.\n",
      "Try using .loc[row_indexer,col_indexer] = value instead\n",
      "\n",
      "See the caveats in the documentation: https://pandas.pydata.org/pandas-docs/stable/user_guide/indexing.html#returning-a-view-versus-a-copy\n",
      "\n"
     ]
    }
   ],
   "source": [
    "dados_aglomerante[\"LogRompimento7Dias\"] = np.log(dados_aglomerante[\"Rompimento7Dias\"])"
   ]
  },
  {
   "cell_type": "code",
   "execution_count": 1262,
   "metadata": {},
   "outputs": [
    {
     "data": {
      "application/vnd.plotly.v1+json": {
       "config": {
        "plotlyServerURL": "https://plot.ly"
       },
       "data": [
        {
         "alignmentgroup": "True",
         "hovertemplate": "TipoLancamento=%{x}<br>Rompimento28Dias=%{y}<extra></extra>",
         "legendgroup": "",
         "marker": {
          "color": "#636efa"
         },
         "name": "",
         "notched": false,
         "offsetgroup": "",
         "orientation": "v",
         "showlegend": false,
         "type": "box",
         "x": [
          "B",
          "B",
          "B",
          "B",
          "B",
          "B",
          "B",
          "B",
          "B",
          "C",
          "C",
          "C",
          "C",
          "C",
          "C",
          "B",
          "B",
          "B",
          "B",
          "B",
          "B",
          "B",
          "B",
          "B",
          "B",
          "B",
          "B",
          "B",
          "B",
          "B",
          "C",
          "C",
          "C",
          "C",
          "C",
          "C",
          "C",
          "C",
          "C",
          "C",
          "C",
          "C",
          "C",
          "C",
          "C",
          "C",
          "C",
          "C",
          "C",
          "C",
          "C",
          "C",
          "C",
          "C",
          "C",
          "C",
          "C",
          "C",
          "C",
          "C",
          "C",
          "C",
          "B",
          "B",
          "B",
          "B",
          "B",
          "B",
          "B",
          "B",
          "B",
          "B",
          "B",
          "B",
          "B",
          "B",
          "B",
          "B",
          "B",
          "B",
          "B",
          "B",
          "B",
          "B",
          "B",
          "B",
          "B",
          "B",
          "B",
          "B",
          "B",
          "B",
          "B",
          "B",
          "B",
          "B",
          "B",
          "B",
          "B",
          "B",
          "B",
          "B",
          "B",
          "B",
          "B",
          "B",
          "B",
          "B",
          "B",
          "B",
          "B",
          "B",
          "B",
          "B",
          "B",
          "B",
          "B",
          "B",
          "C",
          "C",
          "C",
          "C",
          "C",
          "C",
          "C",
          "C",
          "C",
          "C",
          "C",
          "C",
          "C",
          "C",
          "C",
          "C",
          "C",
          "C",
          "C",
          "C",
          "C",
          "C",
          "C",
          "C",
          "C",
          "C",
          "C",
          "C",
          "C",
          "C",
          "C",
          "C",
          "C",
          "C",
          "C",
          "C",
          "C",
          "C",
          "C",
          "C",
          "C",
          "C",
          "C",
          "C",
          "C",
          "C",
          "C",
          "B",
          "B",
          "B",
          "B",
          "B",
          "B",
          "B",
          "B",
          "B",
          "B",
          "B",
          "B",
          "B",
          "B",
          "B",
          "B",
          "B",
          "B",
          "B",
          "B",
          "B",
          "B",
          "B",
          "B",
          "B",
          "B",
          "B",
          "B",
          "B",
          "B",
          "B",
          "B",
          "B",
          "B",
          "B",
          "B",
          "B",
          "B",
          "B",
          "B",
          "B",
          "B",
          "B",
          "B",
          "B",
          "B",
          "B",
          "B",
          "B",
          "B",
          "B",
          "B",
          "B",
          "B",
          "B",
          "B",
          "B",
          "B",
          "B",
          "B",
          "B",
          "B",
          "B",
          "B",
          "B",
          "B",
          "B",
          "B",
          "B",
          "B",
          "B",
          "B",
          "B",
          "B",
          "B",
          "B",
          "B",
          "B",
          "B",
          "B",
          "B",
          "B",
          "B",
          "B",
          "B",
          "B",
          "B",
          "B",
          "B",
          "B",
          "B",
          "B",
          "B",
          "B",
          "B",
          "B",
          "B",
          "B",
          "B",
          "B",
          "B",
          "B",
          "B",
          "B",
          "B",
          "B",
          "B",
          "B",
          "B",
          "B",
          "B",
          "B",
          "B",
          "B",
          "B",
          "B",
          "B",
          "B",
          "B",
          "B",
          "B",
          "B",
          "B",
          "B",
          "B",
          "B",
          "B",
          "B",
          "B",
          "B",
          "B",
          "B",
          "B",
          "B",
          "B",
          "B",
          "B",
          "B",
          "B",
          "B",
          "B",
          "B",
          "B",
          "B",
          "B",
          "B",
          "B",
          "B",
          "B",
          "C",
          "C",
          "C",
          "C",
          "C",
          "C",
          "C",
          "C",
          "B",
          "B",
          "B",
          "B",
          "B",
          "B",
          "B",
          "B",
          "B",
          "B",
          "B",
          "B",
          "B",
          "B",
          "B",
          "B",
          "B",
          "B",
          "B",
          "B",
          "B",
          "B",
          "B",
          "B",
          "B",
          "B",
          "B",
          "B",
          "B",
          "B",
          "C",
          "B",
          "B",
          "B",
          "B",
          "B",
          "C",
          "C",
          "C"
         ],
         "x0": " ",
         "xaxis": "x",
         "y": [
          35.08,
          33.4,
          31.72,
          31.12,
          28.39,
          29.7,
          27.47,
          27.61,
          31.63,
          26.3,
          27.13,
          22.49,
          24.66,
          16.96,
          20.15,
          30.93,
          31.9,
          31.3,
          30.83,
          31.02,
          30.3,
          30.6,
          30.6,
          33.52,
          32.47,
          32.41,
          32.14,
          33.9,
          32.83,
          35.01,
          25.32,
          26.27,
          25.46,
          28.11,
          30.02,
          25,
          31.89,
          30.4,
          30.58,
          32.55,
          27.38,
          23.81,
          22.79,
          20.28,
          23.33,
          24.34,
          20.74,
          18.1,
          21.53,
          22.81,
          20.43,
          21.72,
          20.52,
          23.31,
          22.72,
          22.04,
          24.11,
          26.34,
          25.23,
          36.56,
          37.59,
          34.38,
          27.27,
          26.77,
          24.99,
          26.67,
          29.5,
          29.06,
          31.79,
          27.15,
          28.49,
          29.67,
          28.73,
          38.37,
          37.64,
          44.87,
          43.54,
          45.08,
          37.38,
          44.91,
          37.72,
          35.68,
          31.77,
          30.22,
          32.61,
          33.11,
          36.06,
          33.79,
          31.01,
          34.14,
          36.59,
          32.32,
          36.4,
          35.01,
          36.48,
          35.68,
          37.27,
          38.2,
          39.58,
          41.4,
          38.88,
          37.34,
          33.03,
          37.85,
          36.12,
          41.45,
          32.42,
          33.51,
          37.2,
          33.63,
          38.44,
          32.46,
          32.78,
          28.08,
          33.8,
          30.87,
          26.86,
          40.19,
          29.78,
          27.93,
          30.76,
          35.22,
          36.01,
          29.84,
          30.51,
          28.5,
          32.35,
          34.28,
          32.74,
          33.45,
          33.71,
          30.4,
          29.56,
          27.56,
          28.85,
          29.74,
          30.78,
          28.53,
          31.74,
          32.92,
          35.62,
          38.09,
          36.31,
          37.81,
          35.4,
          36.2,
          35.11,
          30,
          26.39,
          27.87,
          28.99,
          25.41,
          25.14,
          29.98,
          25.54,
          25.21,
          32.73,
          25.01,
          24.54,
          34.88,
          29.67,
          30.69,
          36.28,
          34.07,
          28.25,
          37.54,
          39.53,
          31.48,
          29.69,
          32.49,
          35.22,
          34.09,
          35.22,
          33.79,
          37.96,
          37.03,
          37.66,
          40,
          32.44,
          35.92,
          31.86,
          35.2,
          35.89,
          35.39,
          40.53,
          40.14,
          34.91,
          38.42,
          36.59,
          30.88,
          34,
          32.64,
          30.87,
          35.15,
          31.94,
          35.39,
          37.73,
          37.77,
          38.36,
          42.61,
          43.19,
          38.3,
          37.46,
          31.07,
          32.51,
          33.02,
          38.61,
          28.72,
          30.44,
          30.26,
          27.53,
          34.54,
          26.54,
          27.39,
          21.2,
          33.9,
          31.71,
          34.49,
          35.72,
          27.98,
          26.02,
          29,
          27.06,
          26.39,
          24.03,
          33.17,
          27.43,
          31.39,
          28.41,
          30.16,
          29.92,
          30.02,
          29.46,
          27.31,
          28.38,
          29.64,
          30.5,
          40.23,
          39.69,
          35.81,
          34.7,
          38.75,
          30.32,
          35.07,
          29.37,
          33.09,
          31.39,
          31.19,
          31.76,
          33.84,
          30.49,
          34.47,
          29.24,
          31.72,
          38.11,
          35.69,
          37.13,
          34.04,
          33.82,
          32.46,
          30.58,
          29.93,
          34.49,
          38.16,
          32.56,
          32.54,
          32.31,
          32.6,
          29.51,
          31.26,
          32.16,
          31.26,
          33.01,
          21.27,
          23.67,
          25.79,
          29.67,
          27.15,
          22.14,
          25.69,
          23.59,
          27.62,
          24.96,
          22.79,
          22.12,
          22.21,
          22.79,
          26.82,
          25.29,
          32.84,
          26.07,
          25.56,
          26.66,
          27.64,
          26.95,
          32.4,
          27.28,
          27.28,
          29.56,
          31.61,
          37.24,
          33.4,
          36.56,
          37.67,
          33.07,
          34.88,
          40.21,
          39.14,
          36.4,
          38.04,
          40.48,
          36.24,
          35.22,
          37.81,
          22.25,
          27.36,
          31.42,
          31.74,
          30.62,
          29.6,
          28.29,
          37.17,
          34.45,
          37.54,
          39.44,
          42.79,
          37.86,
          37.46,
          36.98,
          41.96,
          44.3,
          39.97,
          42.35,
          37.32,
          36.4,
          35.29,
          35.55,
          33.93,
          34.74,
          36.2,
          32.68,
          30,
          30.44,
          31.34,
          29.48,
          33.72,
          28.94,
          34.8,
          21.92,
          34.65,
          49.94,
          38.19,
          28.88,
          28.01,
          29.1,
          32.45,
          25.68,
          31.51,
          22.32,
          20.79,
          33.29
         ],
         "y0": " ",
         "yaxis": "y"
        }
       ],
       "layout": {
        "boxmode": "group",
        "legend": {
         "tracegroupgap": 0
        },
        "template": {
         "data": {
          "bar": [
           {
            "error_x": {
             "color": "#2a3f5f"
            },
            "error_y": {
             "color": "#2a3f5f"
            },
            "marker": {
             "line": {
              "color": "#E5ECF6",
              "width": 0.5
             }
            },
            "type": "bar"
           }
          ],
          "barpolar": [
           {
            "marker": {
             "line": {
              "color": "#E5ECF6",
              "width": 0.5
             }
            },
            "type": "barpolar"
           }
          ],
          "carpet": [
           {
            "aaxis": {
             "endlinecolor": "#2a3f5f",
             "gridcolor": "white",
             "linecolor": "white",
             "minorgridcolor": "white",
             "startlinecolor": "#2a3f5f"
            },
            "baxis": {
             "endlinecolor": "#2a3f5f",
             "gridcolor": "white",
             "linecolor": "white",
             "minorgridcolor": "white",
             "startlinecolor": "#2a3f5f"
            },
            "type": "carpet"
           }
          ],
          "choropleth": [
           {
            "colorbar": {
             "outlinewidth": 0,
             "ticks": ""
            },
            "type": "choropleth"
           }
          ],
          "contour": [
           {
            "colorbar": {
             "outlinewidth": 0,
             "ticks": ""
            },
            "colorscale": [
             [
              0,
              "#0d0887"
             ],
             [
              0.1111111111111111,
              "#46039f"
             ],
             [
              0.2222222222222222,
              "#7201a8"
             ],
             [
              0.3333333333333333,
              "#9c179e"
             ],
             [
              0.4444444444444444,
              "#bd3786"
             ],
             [
              0.5555555555555556,
              "#d8576b"
             ],
             [
              0.6666666666666666,
              "#ed7953"
             ],
             [
              0.7777777777777778,
              "#fb9f3a"
             ],
             [
              0.8888888888888888,
              "#fdca26"
             ],
             [
              1,
              "#f0f921"
             ]
            ],
            "type": "contour"
           }
          ],
          "contourcarpet": [
           {
            "colorbar": {
             "outlinewidth": 0,
             "ticks": ""
            },
            "type": "contourcarpet"
           }
          ],
          "heatmap": [
           {
            "colorbar": {
             "outlinewidth": 0,
             "ticks": ""
            },
            "colorscale": [
             [
              0,
              "#0d0887"
             ],
             [
              0.1111111111111111,
              "#46039f"
             ],
             [
              0.2222222222222222,
              "#7201a8"
             ],
             [
              0.3333333333333333,
              "#9c179e"
             ],
             [
              0.4444444444444444,
              "#bd3786"
             ],
             [
              0.5555555555555556,
              "#d8576b"
             ],
             [
              0.6666666666666666,
              "#ed7953"
             ],
             [
              0.7777777777777778,
              "#fb9f3a"
             ],
             [
              0.8888888888888888,
              "#fdca26"
             ],
             [
              1,
              "#f0f921"
             ]
            ],
            "type": "heatmap"
           }
          ],
          "heatmapgl": [
           {
            "colorbar": {
             "outlinewidth": 0,
             "ticks": ""
            },
            "colorscale": [
             [
              0,
              "#0d0887"
             ],
             [
              0.1111111111111111,
              "#46039f"
             ],
             [
              0.2222222222222222,
              "#7201a8"
             ],
             [
              0.3333333333333333,
              "#9c179e"
             ],
             [
              0.4444444444444444,
              "#bd3786"
             ],
             [
              0.5555555555555556,
              "#d8576b"
             ],
             [
              0.6666666666666666,
              "#ed7953"
             ],
             [
              0.7777777777777778,
              "#fb9f3a"
             ],
             [
              0.8888888888888888,
              "#fdca26"
             ],
             [
              1,
              "#f0f921"
             ]
            ],
            "type": "heatmapgl"
           }
          ],
          "histogram": [
           {
            "marker": {
             "colorbar": {
              "outlinewidth": 0,
              "ticks": ""
             }
            },
            "type": "histogram"
           }
          ],
          "histogram2d": [
           {
            "colorbar": {
             "outlinewidth": 0,
             "ticks": ""
            },
            "colorscale": [
             [
              0,
              "#0d0887"
             ],
             [
              0.1111111111111111,
              "#46039f"
             ],
             [
              0.2222222222222222,
              "#7201a8"
             ],
             [
              0.3333333333333333,
              "#9c179e"
             ],
             [
              0.4444444444444444,
              "#bd3786"
             ],
             [
              0.5555555555555556,
              "#d8576b"
             ],
             [
              0.6666666666666666,
              "#ed7953"
             ],
             [
              0.7777777777777778,
              "#fb9f3a"
             ],
             [
              0.8888888888888888,
              "#fdca26"
             ],
             [
              1,
              "#f0f921"
             ]
            ],
            "type": "histogram2d"
           }
          ],
          "histogram2dcontour": [
           {
            "colorbar": {
             "outlinewidth": 0,
             "ticks": ""
            },
            "colorscale": [
             [
              0,
              "#0d0887"
             ],
             [
              0.1111111111111111,
              "#46039f"
             ],
             [
              0.2222222222222222,
              "#7201a8"
             ],
             [
              0.3333333333333333,
              "#9c179e"
             ],
             [
              0.4444444444444444,
              "#bd3786"
             ],
             [
              0.5555555555555556,
              "#d8576b"
             ],
             [
              0.6666666666666666,
              "#ed7953"
             ],
             [
              0.7777777777777778,
              "#fb9f3a"
             ],
             [
              0.8888888888888888,
              "#fdca26"
             ],
             [
              1,
              "#f0f921"
             ]
            ],
            "type": "histogram2dcontour"
           }
          ],
          "mesh3d": [
           {
            "colorbar": {
             "outlinewidth": 0,
             "ticks": ""
            },
            "type": "mesh3d"
           }
          ],
          "parcoords": [
           {
            "line": {
             "colorbar": {
              "outlinewidth": 0,
              "ticks": ""
             }
            },
            "type": "parcoords"
           }
          ],
          "pie": [
           {
            "automargin": true,
            "type": "pie"
           }
          ],
          "scatter": [
           {
            "marker": {
             "colorbar": {
              "outlinewidth": 0,
              "ticks": ""
             }
            },
            "type": "scatter"
           }
          ],
          "scatter3d": [
           {
            "line": {
             "colorbar": {
              "outlinewidth": 0,
              "ticks": ""
             }
            },
            "marker": {
             "colorbar": {
              "outlinewidth": 0,
              "ticks": ""
             }
            },
            "type": "scatter3d"
           }
          ],
          "scattercarpet": [
           {
            "marker": {
             "colorbar": {
              "outlinewidth": 0,
              "ticks": ""
             }
            },
            "type": "scattercarpet"
           }
          ],
          "scattergeo": [
           {
            "marker": {
             "colorbar": {
              "outlinewidth": 0,
              "ticks": ""
             }
            },
            "type": "scattergeo"
           }
          ],
          "scattergl": [
           {
            "marker": {
             "colorbar": {
              "outlinewidth": 0,
              "ticks": ""
             }
            },
            "type": "scattergl"
           }
          ],
          "scattermapbox": [
           {
            "marker": {
             "colorbar": {
              "outlinewidth": 0,
              "ticks": ""
             }
            },
            "type": "scattermapbox"
           }
          ],
          "scatterpolar": [
           {
            "marker": {
             "colorbar": {
              "outlinewidth": 0,
              "ticks": ""
             }
            },
            "type": "scatterpolar"
           }
          ],
          "scatterpolargl": [
           {
            "marker": {
             "colorbar": {
              "outlinewidth": 0,
              "ticks": ""
             }
            },
            "type": "scatterpolargl"
           }
          ],
          "scatterternary": [
           {
            "marker": {
             "colorbar": {
              "outlinewidth": 0,
              "ticks": ""
             }
            },
            "type": "scatterternary"
           }
          ],
          "surface": [
           {
            "colorbar": {
             "outlinewidth": 0,
             "ticks": ""
            },
            "colorscale": [
             [
              0,
              "#0d0887"
             ],
             [
              0.1111111111111111,
              "#46039f"
             ],
             [
              0.2222222222222222,
              "#7201a8"
             ],
             [
              0.3333333333333333,
              "#9c179e"
             ],
             [
              0.4444444444444444,
              "#bd3786"
             ],
             [
              0.5555555555555556,
              "#d8576b"
             ],
             [
              0.6666666666666666,
              "#ed7953"
             ],
             [
              0.7777777777777778,
              "#fb9f3a"
             ],
             [
              0.8888888888888888,
              "#fdca26"
             ],
             [
              1,
              "#f0f921"
             ]
            ],
            "type": "surface"
           }
          ],
          "table": [
           {
            "cells": {
             "fill": {
              "color": "#EBF0F8"
             },
             "line": {
              "color": "white"
             }
            },
            "header": {
             "fill": {
              "color": "#C8D4E3"
             },
             "line": {
              "color": "white"
             }
            },
            "type": "table"
           }
          ]
         },
         "layout": {
          "annotationdefaults": {
           "arrowcolor": "#2a3f5f",
           "arrowhead": 0,
           "arrowwidth": 1
          },
          "autotypenumbers": "strict",
          "coloraxis": {
           "colorbar": {
            "outlinewidth": 0,
            "ticks": ""
           }
          },
          "colorscale": {
           "diverging": [
            [
             0,
             "#8e0152"
            ],
            [
             0.1,
             "#c51b7d"
            ],
            [
             0.2,
             "#de77ae"
            ],
            [
             0.3,
             "#f1b6da"
            ],
            [
             0.4,
             "#fde0ef"
            ],
            [
             0.5,
             "#f7f7f7"
            ],
            [
             0.6,
             "#e6f5d0"
            ],
            [
             0.7,
             "#b8e186"
            ],
            [
             0.8,
             "#7fbc41"
            ],
            [
             0.9,
             "#4d9221"
            ],
            [
             1,
             "#276419"
            ]
           ],
           "sequential": [
            [
             0,
             "#0d0887"
            ],
            [
             0.1111111111111111,
             "#46039f"
            ],
            [
             0.2222222222222222,
             "#7201a8"
            ],
            [
             0.3333333333333333,
             "#9c179e"
            ],
            [
             0.4444444444444444,
             "#bd3786"
            ],
            [
             0.5555555555555556,
             "#d8576b"
            ],
            [
             0.6666666666666666,
             "#ed7953"
            ],
            [
             0.7777777777777778,
             "#fb9f3a"
            ],
            [
             0.8888888888888888,
             "#fdca26"
            ],
            [
             1,
             "#f0f921"
            ]
           ],
           "sequentialminus": [
            [
             0,
             "#0d0887"
            ],
            [
             0.1111111111111111,
             "#46039f"
            ],
            [
             0.2222222222222222,
             "#7201a8"
            ],
            [
             0.3333333333333333,
             "#9c179e"
            ],
            [
             0.4444444444444444,
             "#bd3786"
            ],
            [
             0.5555555555555556,
             "#d8576b"
            ],
            [
             0.6666666666666666,
             "#ed7953"
            ],
            [
             0.7777777777777778,
             "#fb9f3a"
            ],
            [
             0.8888888888888888,
             "#fdca26"
            ],
            [
             1,
             "#f0f921"
            ]
           ]
          },
          "colorway": [
           "#636efa",
           "#EF553B",
           "#00cc96",
           "#ab63fa",
           "#FFA15A",
           "#19d3f3",
           "#FF6692",
           "#B6E880",
           "#FF97FF",
           "#FECB52"
          ],
          "font": {
           "color": "#2a3f5f"
          },
          "geo": {
           "bgcolor": "white",
           "lakecolor": "white",
           "landcolor": "#E5ECF6",
           "showlakes": true,
           "showland": true,
           "subunitcolor": "white"
          },
          "hoverlabel": {
           "align": "left"
          },
          "hovermode": "closest",
          "mapbox": {
           "style": "light"
          },
          "paper_bgcolor": "white",
          "plot_bgcolor": "#E5ECF6",
          "polar": {
           "angularaxis": {
            "gridcolor": "white",
            "linecolor": "white",
            "ticks": ""
           },
           "bgcolor": "#E5ECF6",
           "radialaxis": {
            "gridcolor": "white",
            "linecolor": "white",
            "ticks": ""
           }
          },
          "scene": {
           "xaxis": {
            "backgroundcolor": "#E5ECF6",
            "gridcolor": "white",
            "gridwidth": 2,
            "linecolor": "white",
            "showbackground": true,
            "ticks": "",
            "zerolinecolor": "white"
           },
           "yaxis": {
            "backgroundcolor": "#E5ECF6",
            "gridcolor": "white",
            "gridwidth": 2,
            "linecolor": "white",
            "showbackground": true,
            "ticks": "",
            "zerolinecolor": "white"
           },
           "zaxis": {
            "backgroundcolor": "#E5ECF6",
            "gridcolor": "white",
            "gridwidth": 2,
            "linecolor": "white",
            "showbackground": true,
            "ticks": "",
            "zerolinecolor": "white"
           }
          },
          "shapedefaults": {
           "line": {
            "color": "#2a3f5f"
           }
          },
          "ternary": {
           "aaxis": {
            "gridcolor": "white",
            "linecolor": "white",
            "ticks": ""
           },
           "baxis": {
            "gridcolor": "white",
            "linecolor": "white",
            "ticks": ""
           },
           "bgcolor": "#E5ECF6",
           "caxis": {
            "gridcolor": "white",
            "linecolor": "white",
            "ticks": ""
           }
          },
          "title": {
           "x": 0.05
          },
          "xaxis": {
           "automargin": true,
           "gridcolor": "white",
           "linecolor": "white",
           "ticks": "",
           "title": {
            "standoff": 15
           },
           "zerolinecolor": "white",
           "zerolinewidth": 2
          },
          "yaxis": {
           "automargin": true,
           "gridcolor": "white",
           "linecolor": "white",
           "ticks": "",
           "title": {
            "standoff": 15
           },
           "zerolinecolor": "white",
           "zerolinewidth": 2
          }
         }
        },
        "title": {
         "text": "Tipo de Lançamento x Rompimento 28 Dias"
        },
        "xaxis": {
         "anchor": "y",
         "domain": [
          0,
          1
         ],
         "title": {
          "text": "TipoLancamento"
         }
        },
        "yaxis": {
         "anchor": "x",
         "domain": [
          0,
          1
         ],
         "title": {
          "text": "Rompimento28Dias"
         }
        }
       }
      },
      "text/html": [
       "<div>                            <div id=\"2b4e587f-7a97-447e-b725-a6cd8c1135ef\" class=\"plotly-graph-div\" style=\"height:525px; width:100%;\"></div>            <script type=\"text/javascript\">                require([\"plotly\"], function(Plotly) {                    window.PLOTLYENV=window.PLOTLYENV || {};                                    if (document.getElementById(\"2b4e587f-7a97-447e-b725-a6cd8c1135ef\")) {                    Plotly.newPlot(                        \"2b4e587f-7a97-447e-b725-a6cd8c1135ef\",                        [{\"alignmentgroup\": \"True\", \"hovertemplate\": \"TipoLancamento=%{x}<br>Rompimento28Dias=%{y}<extra></extra>\", \"legendgroup\": \"\", \"marker\": {\"color\": \"#636efa\"}, \"name\": \"\", \"notched\": false, \"offsetgroup\": \"\", \"orientation\": \"v\", \"showlegend\": false, \"type\": \"box\", \"x\": [\"B\", \"B\", \"B\", \"B\", \"B\", \"B\", \"B\", \"B\", \"B\", \"C\", \"C\", \"C\", \"C\", \"C\", \"C\", \"B\", \"B\", \"B\", \"B\", \"B\", \"B\", \"B\", \"B\", \"B\", \"B\", \"B\", \"B\", \"B\", \"B\", \"B\", \"C\", \"C\", \"C\", \"C\", \"C\", \"C\", \"C\", \"C\", \"C\", \"C\", \"C\", \"C\", \"C\", \"C\", \"C\", \"C\", \"C\", \"C\", \"C\", \"C\", \"C\", \"C\", \"C\", \"C\", \"C\", \"C\", \"C\", \"C\", \"C\", \"C\", \"C\", \"C\", \"B\", \"B\", \"B\", \"B\", \"B\", \"B\", \"B\", \"B\", \"B\", \"B\", \"B\", \"B\", \"B\", \"B\", \"B\", \"B\", \"B\", \"B\", \"B\", \"B\", \"B\", \"B\", \"B\", \"B\", \"B\", \"B\", \"B\", \"B\", \"B\", \"B\", \"B\", \"B\", \"B\", \"B\", \"B\", \"B\", \"B\", \"B\", \"B\", \"B\", \"B\", \"B\", \"B\", \"B\", \"B\", \"B\", \"B\", \"B\", \"B\", \"B\", \"B\", \"B\", \"B\", \"B\", \"B\", \"B\", \"C\", \"C\", \"C\", \"C\", \"C\", \"C\", \"C\", \"C\", \"C\", \"C\", \"C\", \"C\", \"C\", \"C\", \"C\", \"C\", \"C\", \"C\", \"C\", \"C\", \"C\", \"C\", \"C\", \"C\", \"C\", \"C\", \"C\", \"C\", \"C\", \"C\", \"C\", \"C\", \"C\", \"C\", \"C\", \"C\", \"C\", \"C\", \"C\", \"C\", \"C\", \"C\", \"C\", \"C\", \"C\", \"C\", \"C\", \"B\", \"B\", \"B\", \"B\", \"B\", \"B\", \"B\", \"B\", \"B\", \"B\", \"B\", \"B\", \"B\", \"B\", \"B\", \"B\", \"B\", \"B\", \"B\", \"B\", \"B\", \"B\", \"B\", \"B\", \"B\", \"B\", \"B\", \"B\", \"B\", \"B\", \"B\", \"B\", \"B\", \"B\", \"B\", \"B\", \"B\", \"B\", \"B\", \"B\", \"B\", \"B\", \"B\", \"B\", \"B\", \"B\", \"B\", \"B\", \"B\", \"B\", \"B\", \"B\", \"B\", \"B\", \"B\", \"B\", \"B\", \"B\", \"B\", \"B\", \"B\", \"B\", \"B\", \"B\", \"B\", \"B\", \"B\", \"B\", \"B\", \"B\", \"B\", \"B\", \"B\", \"B\", \"B\", \"B\", \"B\", \"B\", \"B\", \"B\", \"B\", \"B\", \"B\", \"B\", \"B\", \"B\", \"B\", \"B\", \"B\", \"B\", \"B\", \"B\", \"B\", \"B\", \"B\", \"B\", \"B\", \"B\", \"B\", \"B\", \"B\", \"B\", \"B\", \"B\", \"B\", \"B\", \"B\", \"B\", \"B\", \"B\", \"B\", \"B\", \"B\", \"B\", \"B\", \"B\", \"B\", \"B\", \"B\", \"B\", \"B\", \"B\", \"B\", \"B\", \"B\", \"B\", \"B\", \"B\", \"B\", \"B\", \"B\", \"B\", \"B\", \"B\", \"B\", \"B\", \"B\", \"B\", \"B\", \"B\", \"B\", \"B\", \"B\", \"B\", \"B\", \"B\", \"B\", \"B\", \"B\", \"C\", \"C\", \"C\", \"C\", \"C\", \"C\", \"C\", \"C\", \"B\", \"B\", \"B\", \"B\", \"B\", \"B\", \"B\", \"B\", \"B\", \"B\", \"B\", \"B\", \"B\", \"B\", \"B\", \"B\", \"B\", \"B\", \"B\", \"B\", \"B\", \"B\", \"B\", \"B\", \"B\", \"B\", \"B\", \"B\", \"B\", \"B\", \"C\", \"B\", \"B\", \"B\", \"B\", \"B\", \"C\", \"C\", \"C\"], \"x0\": \" \", \"xaxis\": \"x\", \"y\": [35.08, 33.4, 31.72, 31.12, 28.39, 29.7, 27.47, 27.61, 31.63, 26.3, 27.13, 22.49, 24.66, 16.96, 20.15, 30.93, 31.9, 31.3, 30.83, 31.02, 30.3, 30.6, 30.6, 33.52, 32.47, 32.41, 32.14, 33.9, 32.83, 35.01, 25.32, 26.27, 25.46, 28.11, 30.02, 25.0, 31.89, 30.4, 30.58, 32.55, 27.38, 23.81, 22.79, 20.28, 23.33, 24.34, 20.74, 18.1, 21.53, 22.81, 20.43, 21.72, 20.52, 23.31, 22.72, 22.04, 24.11, 26.34, 25.23, 36.56, 37.59, 34.38, 27.27, 26.77, 24.99, 26.67, 29.5, 29.06, 31.79, 27.15, 28.49, 29.67, 28.73, 38.37, 37.64, 44.87, 43.54, 45.08, 37.38, 44.91, 37.72, 35.68, 31.77, 30.22, 32.61, 33.11, 36.06, 33.79, 31.01, 34.14, 36.59, 32.32, 36.4, 35.01, 36.48, 35.68, 37.27, 38.2, 39.58, 41.4, 38.88, 37.34, 33.03, 37.85, 36.12, 41.45, 32.42, 33.51, 37.2, 33.63, 38.44, 32.46, 32.78, 28.08, 33.8, 30.87, 26.86, 40.19, 29.78, 27.93, 30.76, 35.22, 36.01, 29.84, 30.51, 28.5, 32.35, 34.28, 32.74, 33.45, 33.71, 30.4, 29.56, 27.56, 28.85, 29.74, 30.78, 28.53, 31.74, 32.92, 35.62, 38.09, 36.31, 37.81, 35.4, 36.2, 35.11, 30.0, 26.39, 27.87, 28.99, 25.41, 25.14, 29.98, 25.54, 25.21, 32.73, 25.01, 24.54, 34.88, 29.67, 30.69, 36.28, 34.07, 28.25, 37.54, 39.53, 31.48, 29.69, 32.49, 35.22, 34.09, 35.22, 33.79, 37.96, 37.03, 37.66, 40.0, 32.44, 35.92, 31.86, 35.2, 35.89, 35.39, 40.53, 40.14, 34.91, 38.42, 36.59, 30.88, 34.0, 32.64, 30.87, 35.15, 31.94, 35.39, 37.73, 37.77, 38.36, 42.61, 43.19, 38.3, 37.46, 31.07, 32.51, 33.02, 38.61, 28.72, 30.44, 30.26, 27.53, 34.54, 26.54, 27.39, 21.2, 33.9, 31.71, 34.49, 35.72, 27.98, 26.02, 29.0, 27.06, 26.39, 24.03, 33.17, 27.43, 31.39, 28.41, 30.16, 29.92, 30.02, 29.46, 27.31, 28.38, 29.64, 30.5, 40.23, 39.69, 35.81, 34.7, 38.75, 30.32, 35.07, 29.37, 33.09, 31.39, 31.19, 31.76, 33.84, 30.49, 34.47, 29.24, 31.72, 38.11, 35.69, 37.13, 34.04, 33.82, 32.46, 30.58, 29.93, 34.49, 38.16, 32.56, 32.54, 32.31, 32.6, 29.51, 31.26, 32.16, 31.26, 33.01, 21.27, 23.67, 25.79, 29.67, 27.15, 22.14, 25.69, 23.59, 27.62, 24.96, 22.79, 22.12, 22.21, 22.79, 26.82, 25.29, 32.84, 26.07, 25.56, 26.66, 27.64, 26.95, 32.4, 27.28, 27.28, 29.56, 31.61, 37.24, 33.4, 36.56, 37.67, 33.07, 34.88, 40.21, 39.14, 36.4, 38.04, 40.48, 36.24, 35.22, 37.81, 22.25, 27.36, 31.42, 31.74, 30.62, 29.6, 28.29, 37.17, 34.45, 37.54, 39.44, 42.79, 37.86, 37.46, 36.98, 41.96, 44.3, 39.97, 42.35, 37.32, 36.4, 35.29, 35.55, 33.93, 34.74, 36.2, 32.68, 30.0, 30.44, 31.34, 29.48, 33.72, 28.94, 34.8, 21.92, 34.65, 49.94, 38.19, 28.88, 28.01, 29.1, 32.45, 25.68, 31.51, 22.32, 20.79, 33.29], \"y0\": \" \", \"yaxis\": \"y\"}],                        {\"boxmode\": \"group\", \"legend\": {\"tracegroupgap\": 0}, \"template\": {\"data\": {\"bar\": [{\"error_x\": {\"color\": \"#2a3f5f\"}, \"error_y\": {\"color\": \"#2a3f5f\"}, \"marker\": {\"line\": {\"color\": \"#E5ECF6\", \"width\": 0.5}}, \"type\": \"bar\"}], \"barpolar\": [{\"marker\": {\"line\": {\"color\": \"#E5ECF6\", \"width\": 0.5}}, \"type\": \"barpolar\"}], \"carpet\": [{\"aaxis\": {\"endlinecolor\": \"#2a3f5f\", \"gridcolor\": \"white\", \"linecolor\": \"white\", \"minorgridcolor\": \"white\", \"startlinecolor\": \"#2a3f5f\"}, \"baxis\": {\"endlinecolor\": \"#2a3f5f\", \"gridcolor\": \"white\", \"linecolor\": \"white\", \"minorgridcolor\": \"white\", \"startlinecolor\": \"#2a3f5f\"}, \"type\": \"carpet\"}], \"choropleth\": [{\"colorbar\": {\"outlinewidth\": 0, \"ticks\": \"\"}, \"type\": \"choropleth\"}], \"contour\": [{\"colorbar\": {\"outlinewidth\": 0, \"ticks\": \"\"}, \"colorscale\": [[0.0, \"#0d0887\"], [0.1111111111111111, \"#46039f\"], [0.2222222222222222, \"#7201a8\"], [0.3333333333333333, \"#9c179e\"], [0.4444444444444444, \"#bd3786\"], [0.5555555555555556, \"#d8576b\"], [0.6666666666666666, \"#ed7953\"], [0.7777777777777778, \"#fb9f3a\"], [0.8888888888888888, \"#fdca26\"], [1.0, \"#f0f921\"]], \"type\": \"contour\"}], \"contourcarpet\": [{\"colorbar\": {\"outlinewidth\": 0, \"ticks\": \"\"}, \"type\": \"contourcarpet\"}], \"heatmap\": [{\"colorbar\": {\"outlinewidth\": 0, \"ticks\": \"\"}, \"colorscale\": [[0.0, \"#0d0887\"], [0.1111111111111111, \"#46039f\"], [0.2222222222222222, \"#7201a8\"], [0.3333333333333333, \"#9c179e\"], [0.4444444444444444, \"#bd3786\"], [0.5555555555555556, \"#d8576b\"], [0.6666666666666666, \"#ed7953\"], [0.7777777777777778, \"#fb9f3a\"], [0.8888888888888888, \"#fdca26\"], [1.0, \"#f0f921\"]], \"type\": \"heatmap\"}], \"heatmapgl\": [{\"colorbar\": {\"outlinewidth\": 0, \"ticks\": \"\"}, \"colorscale\": [[0.0, \"#0d0887\"], [0.1111111111111111, \"#46039f\"], [0.2222222222222222, \"#7201a8\"], [0.3333333333333333, \"#9c179e\"], [0.4444444444444444, \"#bd3786\"], [0.5555555555555556, \"#d8576b\"], [0.6666666666666666, \"#ed7953\"], [0.7777777777777778, \"#fb9f3a\"], [0.8888888888888888, \"#fdca26\"], [1.0, \"#f0f921\"]], \"type\": \"heatmapgl\"}], \"histogram\": [{\"marker\": {\"colorbar\": {\"outlinewidth\": 0, \"ticks\": \"\"}}, \"type\": \"histogram\"}], \"histogram2d\": [{\"colorbar\": {\"outlinewidth\": 0, \"ticks\": \"\"}, \"colorscale\": [[0.0, \"#0d0887\"], [0.1111111111111111, \"#46039f\"], [0.2222222222222222, \"#7201a8\"], [0.3333333333333333, \"#9c179e\"], [0.4444444444444444, \"#bd3786\"], [0.5555555555555556, \"#d8576b\"], [0.6666666666666666, \"#ed7953\"], [0.7777777777777778, \"#fb9f3a\"], [0.8888888888888888, \"#fdca26\"], [1.0, \"#f0f921\"]], \"type\": \"histogram2d\"}], \"histogram2dcontour\": [{\"colorbar\": {\"outlinewidth\": 0, \"ticks\": \"\"}, \"colorscale\": [[0.0, \"#0d0887\"], [0.1111111111111111, \"#46039f\"], [0.2222222222222222, \"#7201a8\"], [0.3333333333333333, \"#9c179e\"], [0.4444444444444444, \"#bd3786\"], [0.5555555555555556, \"#d8576b\"], [0.6666666666666666, \"#ed7953\"], [0.7777777777777778, \"#fb9f3a\"], [0.8888888888888888, \"#fdca26\"], [1.0, \"#f0f921\"]], \"type\": \"histogram2dcontour\"}], \"mesh3d\": [{\"colorbar\": {\"outlinewidth\": 0, \"ticks\": \"\"}, \"type\": \"mesh3d\"}], \"parcoords\": [{\"line\": {\"colorbar\": {\"outlinewidth\": 0, \"ticks\": \"\"}}, \"type\": \"parcoords\"}], \"pie\": [{\"automargin\": true, \"type\": \"pie\"}], \"scatter\": [{\"marker\": {\"colorbar\": {\"outlinewidth\": 0, \"ticks\": \"\"}}, \"type\": \"scatter\"}], \"scatter3d\": [{\"line\": {\"colorbar\": {\"outlinewidth\": 0, \"ticks\": \"\"}}, \"marker\": {\"colorbar\": {\"outlinewidth\": 0, \"ticks\": \"\"}}, \"type\": \"scatter3d\"}], \"scattercarpet\": [{\"marker\": {\"colorbar\": {\"outlinewidth\": 0, \"ticks\": \"\"}}, \"type\": \"scattercarpet\"}], \"scattergeo\": [{\"marker\": {\"colorbar\": {\"outlinewidth\": 0, \"ticks\": \"\"}}, \"type\": \"scattergeo\"}], \"scattergl\": [{\"marker\": {\"colorbar\": {\"outlinewidth\": 0, \"ticks\": \"\"}}, \"type\": \"scattergl\"}], \"scattermapbox\": [{\"marker\": {\"colorbar\": {\"outlinewidth\": 0, \"ticks\": \"\"}}, \"type\": \"scattermapbox\"}], \"scatterpolar\": [{\"marker\": {\"colorbar\": {\"outlinewidth\": 0, \"ticks\": \"\"}}, \"type\": \"scatterpolar\"}], \"scatterpolargl\": [{\"marker\": {\"colorbar\": {\"outlinewidth\": 0, \"ticks\": \"\"}}, \"type\": \"scatterpolargl\"}], \"scatterternary\": [{\"marker\": {\"colorbar\": {\"outlinewidth\": 0, \"ticks\": \"\"}}, \"type\": \"scatterternary\"}], \"surface\": [{\"colorbar\": {\"outlinewidth\": 0, \"ticks\": \"\"}, \"colorscale\": [[0.0, \"#0d0887\"], [0.1111111111111111, \"#46039f\"], [0.2222222222222222, \"#7201a8\"], [0.3333333333333333, \"#9c179e\"], [0.4444444444444444, \"#bd3786\"], [0.5555555555555556, \"#d8576b\"], [0.6666666666666666, \"#ed7953\"], [0.7777777777777778, \"#fb9f3a\"], [0.8888888888888888, \"#fdca26\"], [1.0, \"#f0f921\"]], \"type\": \"surface\"}], \"table\": [{\"cells\": {\"fill\": {\"color\": \"#EBF0F8\"}, \"line\": {\"color\": \"white\"}}, \"header\": {\"fill\": {\"color\": \"#C8D4E3\"}, \"line\": {\"color\": \"white\"}}, \"type\": \"table\"}]}, \"layout\": {\"annotationdefaults\": {\"arrowcolor\": \"#2a3f5f\", \"arrowhead\": 0, \"arrowwidth\": 1}, \"autotypenumbers\": \"strict\", \"coloraxis\": {\"colorbar\": {\"outlinewidth\": 0, \"ticks\": \"\"}}, \"colorscale\": {\"diverging\": [[0, \"#8e0152\"], [0.1, \"#c51b7d\"], [0.2, \"#de77ae\"], [0.3, \"#f1b6da\"], [0.4, \"#fde0ef\"], [0.5, \"#f7f7f7\"], [0.6, \"#e6f5d0\"], [0.7, \"#b8e186\"], [0.8, \"#7fbc41\"], [0.9, \"#4d9221\"], [1, \"#276419\"]], \"sequential\": [[0.0, \"#0d0887\"], [0.1111111111111111, \"#46039f\"], [0.2222222222222222, \"#7201a8\"], [0.3333333333333333, \"#9c179e\"], [0.4444444444444444, \"#bd3786\"], [0.5555555555555556, \"#d8576b\"], [0.6666666666666666, \"#ed7953\"], [0.7777777777777778, \"#fb9f3a\"], [0.8888888888888888, \"#fdca26\"], [1.0, \"#f0f921\"]], \"sequentialminus\": [[0.0, \"#0d0887\"], [0.1111111111111111, \"#46039f\"], [0.2222222222222222, \"#7201a8\"], [0.3333333333333333, \"#9c179e\"], [0.4444444444444444, \"#bd3786\"], [0.5555555555555556, \"#d8576b\"], [0.6666666666666666, \"#ed7953\"], [0.7777777777777778, \"#fb9f3a\"], [0.8888888888888888, \"#fdca26\"], [1.0, \"#f0f921\"]]}, \"colorway\": [\"#636efa\", \"#EF553B\", \"#00cc96\", \"#ab63fa\", \"#FFA15A\", \"#19d3f3\", \"#FF6692\", \"#B6E880\", \"#FF97FF\", \"#FECB52\"], \"font\": {\"color\": \"#2a3f5f\"}, \"geo\": {\"bgcolor\": \"white\", \"lakecolor\": \"white\", \"landcolor\": \"#E5ECF6\", \"showlakes\": true, \"showland\": true, \"subunitcolor\": \"white\"}, \"hoverlabel\": {\"align\": \"left\"}, \"hovermode\": \"closest\", \"mapbox\": {\"style\": \"light\"}, \"paper_bgcolor\": \"white\", \"plot_bgcolor\": \"#E5ECF6\", \"polar\": {\"angularaxis\": {\"gridcolor\": \"white\", \"linecolor\": \"white\", \"ticks\": \"\"}, \"bgcolor\": \"#E5ECF6\", \"radialaxis\": {\"gridcolor\": \"white\", \"linecolor\": \"white\", \"ticks\": \"\"}}, \"scene\": {\"xaxis\": {\"backgroundcolor\": \"#E5ECF6\", \"gridcolor\": \"white\", \"gridwidth\": 2, \"linecolor\": \"white\", \"showbackground\": true, \"ticks\": \"\", \"zerolinecolor\": \"white\"}, \"yaxis\": {\"backgroundcolor\": \"#E5ECF6\", \"gridcolor\": \"white\", \"gridwidth\": 2, \"linecolor\": \"white\", \"showbackground\": true, \"ticks\": \"\", \"zerolinecolor\": \"white\"}, \"zaxis\": {\"backgroundcolor\": \"#E5ECF6\", \"gridcolor\": \"white\", \"gridwidth\": 2, \"linecolor\": \"white\", \"showbackground\": true, \"ticks\": \"\", \"zerolinecolor\": \"white\"}}, \"shapedefaults\": {\"line\": {\"color\": \"#2a3f5f\"}}, \"ternary\": {\"aaxis\": {\"gridcolor\": \"white\", \"linecolor\": \"white\", \"ticks\": \"\"}, \"baxis\": {\"gridcolor\": \"white\", \"linecolor\": \"white\", \"ticks\": \"\"}, \"bgcolor\": \"#E5ECF6\", \"caxis\": {\"gridcolor\": \"white\", \"linecolor\": \"white\", \"ticks\": \"\"}}, \"title\": {\"x\": 0.05}, \"xaxis\": {\"automargin\": true, \"gridcolor\": \"white\", \"linecolor\": \"white\", \"ticks\": \"\", \"title\": {\"standoff\": 15}, \"zerolinecolor\": \"white\", \"zerolinewidth\": 2}, \"yaxis\": {\"automargin\": true, \"gridcolor\": \"white\", \"linecolor\": \"white\", \"ticks\": \"\", \"title\": {\"standoff\": 15}, \"zerolinecolor\": \"white\", \"zerolinewidth\": 2}}}, \"title\": {\"text\": \"Tipo de Lan\\u00e7amento x Rompimento 28 Dias\"}, \"xaxis\": {\"anchor\": \"y\", \"domain\": [0.0, 1.0], \"title\": {\"text\": \"TipoLancamento\"}}, \"yaxis\": {\"anchor\": \"x\", \"domain\": [0.0, 1.0], \"title\": {\"text\": \"Rompimento28Dias\"}}},                        {\"responsive\": true}                    ).then(function(){\n",
       "                            \n",
       "var gd = document.getElementById('2b4e587f-7a97-447e-b725-a6cd8c1135ef');\n",
       "var x = new MutationObserver(function (mutations, observer) {{\n",
       "        var display = window.getComputedStyle(gd).display;\n",
       "        if (!display || display === 'none') {{\n",
       "            console.log([gd, 'removed!']);\n",
       "            Plotly.purge(gd);\n",
       "            observer.disconnect();\n",
       "        }}\n",
       "}});\n",
       "\n",
       "// Listen for the removal of the full notebook cells\n",
       "var notebookContainer = gd.closest('#notebook-container');\n",
       "if (notebookContainer) {{\n",
       "    x.observe(notebookContainer, {childList: true});\n",
       "}}\n",
       "\n",
       "// Listen for the clearing of the current output cell\n",
       "var outputEl = gd.closest('.output');\n",
       "if (outputEl) {{\n",
       "    x.observe(outputEl, {childList: true});\n",
       "}}\n",
       "\n",
       "                        })                };                });            </script>        </div>"
      ]
     },
     "metadata": {},
     "output_type": "display_data"
    }
   ],
   "source": [
    "fig = px.box(dados_aglomerante, x=\"TipoLancamento\", y=\"Rompimento28Dias\", title='Tipo de Lançamento x Rompimento 28 Dias')\n",
    "fig.show()"
   ]
  },
  {
   "cell_type": "code",
   "execution_count": 1263,
   "metadata": {},
   "outputs": [
    {
     "data": {
      "application/vnd.plotly.v1+json": {
       "config": {
        "plotlyServerURL": "https://plot.ly"
       },
       "data": [
        {
         "alignmentgroup": "True",
         "hovertemplate": "TipoTraco=%{x}<br>Rompimento28Dias=%{y}<extra></extra>",
         "legendgroup": "",
         "marker": {
          "color": "#636efa"
         },
         "name": "",
         "notched": false,
         "offsetgroup": "",
         "orientation": "v",
         "showlegend": false,
         "type": "box",
         "x": [
          "N",
          "N",
          "N",
          "N",
          "N",
          "N",
          "N",
          "N",
          "N",
          "N",
          "N",
          "N",
          "N",
          "N",
          "N",
          "N",
          "N",
          "N",
          "N",
          "N",
          "N",
          "N",
          "N",
          "N",
          "N",
          "N",
          "N",
          "N",
          "N",
          "N",
          "N",
          "N",
          "N",
          "N",
          "N",
          "N",
          "N",
          "N",
          "N",
          "N",
          "N",
          "N",
          "N",
          "N",
          "N",
          "N",
          "N",
          "N",
          "N",
          "N",
          "N",
          "N",
          "N",
          "N",
          "N",
          "N",
          "N",
          "N",
          "N",
          "N",
          "N",
          "N",
          "N",
          "N",
          "N",
          "N",
          "N",
          "N",
          "N",
          "N",
          "N",
          "N",
          "N",
          "N",
          "N",
          "N",
          "N",
          "N",
          "N",
          "N",
          "N",
          "N",
          "N",
          "N",
          "N",
          "N",
          "N",
          "N",
          "N",
          "N",
          "N",
          "N",
          "N",
          "N",
          "N",
          "N",
          "N",
          "N",
          "N",
          "N",
          "N",
          "N",
          "N",
          "N",
          "N",
          "N",
          "N",
          "N",
          "N",
          "N",
          "N",
          "N",
          "N",
          "N",
          "N",
          "N",
          "N",
          "N",
          "N",
          "N",
          "N",
          "N",
          "N",
          "N",
          "N",
          "N",
          "N",
          "N",
          "N",
          "N",
          "N",
          "N",
          "N",
          "N",
          "N",
          "N",
          "N",
          "N",
          "N",
          "N",
          "N",
          "N",
          "N",
          "N",
          "N",
          "N",
          "N",
          "N",
          "N",
          "N",
          "N",
          "N",
          "N",
          "N",
          "N",
          "N",
          "N",
          "N",
          "N",
          "N",
          "N",
          "N",
          "N",
          "N",
          "N",
          "N",
          "N",
          "N",
          "N",
          "N",
          "N",
          "N",
          "N",
          "N",
          "N",
          "N",
          "N",
          "N",
          "N",
          "N",
          "N",
          "N",
          "N",
          "N",
          "N",
          "N",
          "N",
          "N",
          "N",
          "N",
          "N",
          "N",
          "N",
          "N",
          "N",
          "N",
          "N",
          "N",
          "N",
          "N",
          "N",
          "N",
          "N",
          "N",
          "N",
          "N",
          "N",
          "N",
          "N",
          "N",
          "N",
          "N",
          "N",
          "N",
          "N",
          "N",
          "N",
          "N",
          "N",
          "N",
          "N",
          "N",
          "N",
          "N",
          "N",
          "N",
          "N",
          "N",
          "N",
          "N",
          "N",
          "N",
          "N",
          "N",
          "N",
          "N",
          "N",
          "N",
          "N",
          "N",
          "N",
          "N",
          "N",
          "N",
          "N",
          "N",
          "N",
          "N",
          "N",
          "N",
          "N",
          "N",
          "N",
          "N",
          "N",
          "N",
          "N",
          "N",
          "N",
          "N",
          "N",
          "N",
          "N",
          "N",
          "N",
          "N",
          "N",
          "N",
          "N",
          "N",
          "N",
          "N",
          "N",
          "N",
          "N",
          "N",
          "N",
          "N",
          "N",
          "N",
          "N",
          "N",
          "N",
          "N",
          "N",
          "N",
          "N",
          "N",
          "N",
          "N",
          "N",
          "N",
          "N",
          "N",
          "N",
          "N",
          "N",
          "N",
          "N",
          "N",
          "N",
          "N",
          "N",
          "N",
          "N",
          "N",
          "N",
          "N",
          "N",
          "N",
          "N",
          "N",
          "N",
          "N",
          "N",
          "N",
          "N",
          "N",
          "N",
          "N",
          "N",
          "N",
          "N",
          "N",
          "N",
          "N",
          "N",
          "N",
          "N",
          "N",
          "N",
          "N",
          "N",
          "N",
          "N",
          "N",
          "N",
          "N",
          "N",
          "N",
          "N",
          "N",
          "N",
          "N",
          "N",
          "N",
          "N",
          "N",
          "N",
          "N",
          "N",
          "N",
          "N",
          "N",
          "N",
          "N",
          "N",
          "N",
          "N",
          "N",
          "N"
         ],
         "x0": " ",
         "xaxis": "x",
         "y": [
          35.08,
          33.4,
          31.72,
          31.12,
          28.39,
          29.7,
          27.47,
          27.61,
          31.63,
          26.3,
          27.13,
          22.49,
          24.66,
          16.96,
          20.15,
          30.93,
          31.9,
          31.3,
          30.83,
          31.02,
          30.3,
          30.6,
          30.6,
          33.52,
          32.47,
          32.41,
          32.14,
          33.9,
          32.83,
          35.01,
          25.32,
          26.27,
          25.46,
          28.11,
          30.02,
          25,
          31.89,
          30.4,
          30.58,
          32.55,
          27.38,
          23.81,
          22.79,
          20.28,
          23.33,
          24.34,
          20.74,
          18.1,
          21.53,
          22.81,
          20.43,
          21.72,
          20.52,
          23.31,
          22.72,
          22.04,
          24.11,
          26.34,
          25.23,
          36.56,
          37.59,
          34.38,
          27.27,
          26.77,
          24.99,
          26.67,
          29.5,
          29.06,
          31.79,
          27.15,
          28.49,
          29.67,
          28.73,
          38.37,
          37.64,
          44.87,
          43.54,
          45.08,
          37.38,
          44.91,
          37.72,
          35.68,
          31.77,
          30.22,
          32.61,
          33.11,
          36.06,
          33.79,
          31.01,
          34.14,
          36.59,
          32.32,
          36.4,
          35.01,
          36.48,
          35.68,
          37.27,
          38.2,
          39.58,
          41.4,
          38.88,
          37.34,
          33.03,
          37.85,
          36.12,
          41.45,
          32.42,
          33.51,
          37.2,
          33.63,
          38.44,
          32.46,
          32.78,
          28.08,
          33.8,
          30.87,
          26.86,
          40.19,
          29.78,
          27.93,
          30.76,
          35.22,
          36.01,
          29.84,
          30.51,
          28.5,
          32.35,
          34.28,
          32.74,
          33.45,
          33.71,
          30.4,
          29.56,
          27.56,
          28.85,
          29.74,
          30.78,
          28.53,
          31.74,
          32.92,
          35.62,
          38.09,
          36.31,
          37.81,
          35.4,
          36.2,
          35.11,
          30,
          26.39,
          27.87,
          28.99,
          25.41,
          25.14,
          29.98,
          25.54,
          25.21,
          32.73,
          25.01,
          24.54,
          34.88,
          29.67,
          30.69,
          36.28,
          34.07,
          28.25,
          37.54,
          39.53,
          31.48,
          29.69,
          32.49,
          35.22,
          34.09,
          35.22,
          33.79,
          37.96,
          37.03,
          37.66,
          40,
          32.44,
          35.92,
          31.86,
          35.2,
          35.89,
          35.39,
          40.53,
          40.14,
          34.91,
          38.42,
          36.59,
          30.88,
          34,
          32.64,
          30.87,
          35.15,
          31.94,
          35.39,
          37.73,
          37.77,
          38.36,
          42.61,
          43.19,
          38.3,
          37.46,
          31.07,
          32.51,
          33.02,
          38.61,
          28.72,
          30.44,
          30.26,
          27.53,
          34.54,
          26.54,
          27.39,
          21.2,
          33.9,
          31.71,
          34.49,
          35.72,
          27.98,
          26.02,
          29,
          27.06,
          26.39,
          24.03,
          33.17,
          27.43,
          31.39,
          28.41,
          30.16,
          29.92,
          30.02,
          29.46,
          27.31,
          28.38,
          29.64,
          30.5,
          40.23,
          39.69,
          35.81,
          34.7,
          38.75,
          30.32,
          35.07,
          29.37,
          33.09,
          31.39,
          31.19,
          31.76,
          33.84,
          30.49,
          34.47,
          29.24,
          31.72,
          38.11,
          35.69,
          37.13,
          34.04,
          33.82,
          32.46,
          30.58,
          29.93,
          34.49,
          38.16,
          32.56,
          32.54,
          32.31,
          32.6,
          29.51,
          31.26,
          32.16,
          31.26,
          33.01,
          21.27,
          23.67,
          25.79,
          29.67,
          27.15,
          22.14,
          25.69,
          23.59,
          27.62,
          24.96,
          22.79,
          22.12,
          22.21,
          22.79,
          26.82,
          25.29,
          32.84,
          26.07,
          25.56,
          26.66,
          27.64,
          26.95,
          32.4,
          27.28,
          27.28,
          29.56,
          31.61,
          37.24,
          33.4,
          36.56,
          37.67,
          33.07,
          34.88,
          40.21,
          39.14,
          36.4,
          38.04,
          40.48,
          36.24,
          35.22,
          37.81,
          22.25,
          27.36,
          31.42,
          31.74,
          30.62,
          29.6,
          28.29,
          37.17,
          34.45,
          37.54,
          39.44,
          42.79,
          37.86,
          37.46,
          36.98,
          41.96,
          44.3,
          39.97,
          42.35,
          37.32,
          36.4,
          35.29,
          35.55,
          33.93,
          34.74,
          36.2,
          32.68,
          30,
          30.44,
          31.34,
          29.48,
          33.72,
          28.94,
          34.8,
          21.92,
          34.65,
          49.94,
          38.19,
          28.88,
          28.01,
          29.1,
          32.45,
          25.68,
          31.51,
          22.32,
          20.79,
          33.29
         ],
         "y0": " ",
         "yaxis": "y"
        }
       ],
       "layout": {
        "boxmode": "group",
        "legend": {
         "tracegroupgap": 0
        },
        "template": {
         "data": {
          "bar": [
           {
            "error_x": {
             "color": "#2a3f5f"
            },
            "error_y": {
             "color": "#2a3f5f"
            },
            "marker": {
             "line": {
              "color": "#E5ECF6",
              "width": 0.5
             }
            },
            "type": "bar"
           }
          ],
          "barpolar": [
           {
            "marker": {
             "line": {
              "color": "#E5ECF6",
              "width": 0.5
             }
            },
            "type": "barpolar"
           }
          ],
          "carpet": [
           {
            "aaxis": {
             "endlinecolor": "#2a3f5f",
             "gridcolor": "white",
             "linecolor": "white",
             "minorgridcolor": "white",
             "startlinecolor": "#2a3f5f"
            },
            "baxis": {
             "endlinecolor": "#2a3f5f",
             "gridcolor": "white",
             "linecolor": "white",
             "minorgridcolor": "white",
             "startlinecolor": "#2a3f5f"
            },
            "type": "carpet"
           }
          ],
          "choropleth": [
           {
            "colorbar": {
             "outlinewidth": 0,
             "ticks": ""
            },
            "type": "choropleth"
           }
          ],
          "contour": [
           {
            "colorbar": {
             "outlinewidth": 0,
             "ticks": ""
            },
            "colorscale": [
             [
              0,
              "#0d0887"
             ],
             [
              0.1111111111111111,
              "#46039f"
             ],
             [
              0.2222222222222222,
              "#7201a8"
             ],
             [
              0.3333333333333333,
              "#9c179e"
             ],
             [
              0.4444444444444444,
              "#bd3786"
             ],
             [
              0.5555555555555556,
              "#d8576b"
             ],
             [
              0.6666666666666666,
              "#ed7953"
             ],
             [
              0.7777777777777778,
              "#fb9f3a"
             ],
             [
              0.8888888888888888,
              "#fdca26"
             ],
             [
              1,
              "#f0f921"
             ]
            ],
            "type": "contour"
           }
          ],
          "contourcarpet": [
           {
            "colorbar": {
             "outlinewidth": 0,
             "ticks": ""
            },
            "type": "contourcarpet"
           }
          ],
          "heatmap": [
           {
            "colorbar": {
             "outlinewidth": 0,
             "ticks": ""
            },
            "colorscale": [
             [
              0,
              "#0d0887"
             ],
             [
              0.1111111111111111,
              "#46039f"
             ],
             [
              0.2222222222222222,
              "#7201a8"
             ],
             [
              0.3333333333333333,
              "#9c179e"
             ],
             [
              0.4444444444444444,
              "#bd3786"
             ],
             [
              0.5555555555555556,
              "#d8576b"
             ],
             [
              0.6666666666666666,
              "#ed7953"
             ],
             [
              0.7777777777777778,
              "#fb9f3a"
             ],
             [
              0.8888888888888888,
              "#fdca26"
             ],
             [
              1,
              "#f0f921"
             ]
            ],
            "type": "heatmap"
           }
          ],
          "heatmapgl": [
           {
            "colorbar": {
             "outlinewidth": 0,
             "ticks": ""
            },
            "colorscale": [
             [
              0,
              "#0d0887"
             ],
             [
              0.1111111111111111,
              "#46039f"
             ],
             [
              0.2222222222222222,
              "#7201a8"
             ],
             [
              0.3333333333333333,
              "#9c179e"
             ],
             [
              0.4444444444444444,
              "#bd3786"
             ],
             [
              0.5555555555555556,
              "#d8576b"
             ],
             [
              0.6666666666666666,
              "#ed7953"
             ],
             [
              0.7777777777777778,
              "#fb9f3a"
             ],
             [
              0.8888888888888888,
              "#fdca26"
             ],
             [
              1,
              "#f0f921"
             ]
            ],
            "type": "heatmapgl"
           }
          ],
          "histogram": [
           {
            "marker": {
             "colorbar": {
              "outlinewidth": 0,
              "ticks": ""
             }
            },
            "type": "histogram"
           }
          ],
          "histogram2d": [
           {
            "colorbar": {
             "outlinewidth": 0,
             "ticks": ""
            },
            "colorscale": [
             [
              0,
              "#0d0887"
             ],
             [
              0.1111111111111111,
              "#46039f"
             ],
             [
              0.2222222222222222,
              "#7201a8"
             ],
             [
              0.3333333333333333,
              "#9c179e"
             ],
             [
              0.4444444444444444,
              "#bd3786"
             ],
             [
              0.5555555555555556,
              "#d8576b"
             ],
             [
              0.6666666666666666,
              "#ed7953"
             ],
             [
              0.7777777777777778,
              "#fb9f3a"
             ],
             [
              0.8888888888888888,
              "#fdca26"
             ],
             [
              1,
              "#f0f921"
             ]
            ],
            "type": "histogram2d"
           }
          ],
          "histogram2dcontour": [
           {
            "colorbar": {
             "outlinewidth": 0,
             "ticks": ""
            },
            "colorscale": [
             [
              0,
              "#0d0887"
             ],
             [
              0.1111111111111111,
              "#46039f"
             ],
             [
              0.2222222222222222,
              "#7201a8"
             ],
             [
              0.3333333333333333,
              "#9c179e"
             ],
             [
              0.4444444444444444,
              "#bd3786"
             ],
             [
              0.5555555555555556,
              "#d8576b"
             ],
             [
              0.6666666666666666,
              "#ed7953"
             ],
             [
              0.7777777777777778,
              "#fb9f3a"
             ],
             [
              0.8888888888888888,
              "#fdca26"
             ],
             [
              1,
              "#f0f921"
             ]
            ],
            "type": "histogram2dcontour"
           }
          ],
          "mesh3d": [
           {
            "colorbar": {
             "outlinewidth": 0,
             "ticks": ""
            },
            "type": "mesh3d"
           }
          ],
          "parcoords": [
           {
            "line": {
             "colorbar": {
              "outlinewidth": 0,
              "ticks": ""
             }
            },
            "type": "parcoords"
           }
          ],
          "pie": [
           {
            "automargin": true,
            "type": "pie"
           }
          ],
          "scatter": [
           {
            "marker": {
             "colorbar": {
              "outlinewidth": 0,
              "ticks": ""
             }
            },
            "type": "scatter"
           }
          ],
          "scatter3d": [
           {
            "line": {
             "colorbar": {
              "outlinewidth": 0,
              "ticks": ""
             }
            },
            "marker": {
             "colorbar": {
              "outlinewidth": 0,
              "ticks": ""
             }
            },
            "type": "scatter3d"
           }
          ],
          "scattercarpet": [
           {
            "marker": {
             "colorbar": {
              "outlinewidth": 0,
              "ticks": ""
             }
            },
            "type": "scattercarpet"
           }
          ],
          "scattergeo": [
           {
            "marker": {
             "colorbar": {
              "outlinewidth": 0,
              "ticks": ""
             }
            },
            "type": "scattergeo"
           }
          ],
          "scattergl": [
           {
            "marker": {
             "colorbar": {
              "outlinewidth": 0,
              "ticks": ""
             }
            },
            "type": "scattergl"
           }
          ],
          "scattermapbox": [
           {
            "marker": {
             "colorbar": {
              "outlinewidth": 0,
              "ticks": ""
             }
            },
            "type": "scattermapbox"
           }
          ],
          "scatterpolar": [
           {
            "marker": {
             "colorbar": {
              "outlinewidth": 0,
              "ticks": ""
             }
            },
            "type": "scatterpolar"
           }
          ],
          "scatterpolargl": [
           {
            "marker": {
             "colorbar": {
              "outlinewidth": 0,
              "ticks": ""
             }
            },
            "type": "scatterpolargl"
           }
          ],
          "scatterternary": [
           {
            "marker": {
             "colorbar": {
              "outlinewidth": 0,
              "ticks": ""
             }
            },
            "type": "scatterternary"
           }
          ],
          "surface": [
           {
            "colorbar": {
             "outlinewidth": 0,
             "ticks": ""
            },
            "colorscale": [
             [
              0,
              "#0d0887"
             ],
             [
              0.1111111111111111,
              "#46039f"
             ],
             [
              0.2222222222222222,
              "#7201a8"
             ],
             [
              0.3333333333333333,
              "#9c179e"
             ],
             [
              0.4444444444444444,
              "#bd3786"
             ],
             [
              0.5555555555555556,
              "#d8576b"
             ],
             [
              0.6666666666666666,
              "#ed7953"
             ],
             [
              0.7777777777777778,
              "#fb9f3a"
             ],
             [
              0.8888888888888888,
              "#fdca26"
             ],
             [
              1,
              "#f0f921"
             ]
            ],
            "type": "surface"
           }
          ],
          "table": [
           {
            "cells": {
             "fill": {
              "color": "#EBF0F8"
             },
             "line": {
              "color": "white"
             }
            },
            "header": {
             "fill": {
              "color": "#C8D4E3"
             },
             "line": {
              "color": "white"
             }
            },
            "type": "table"
           }
          ]
         },
         "layout": {
          "annotationdefaults": {
           "arrowcolor": "#2a3f5f",
           "arrowhead": 0,
           "arrowwidth": 1
          },
          "autotypenumbers": "strict",
          "coloraxis": {
           "colorbar": {
            "outlinewidth": 0,
            "ticks": ""
           }
          },
          "colorscale": {
           "diverging": [
            [
             0,
             "#8e0152"
            ],
            [
             0.1,
             "#c51b7d"
            ],
            [
             0.2,
             "#de77ae"
            ],
            [
             0.3,
             "#f1b6da"
            ],
            [
             0.4,
             "#fde0ef"
            ],
            [
             0.5,
             "#f7f7f7"
            ],
            [
             0.6,
             "#e6f5d0"
            ],
            [
             0.7,
             "#b8e186"
            ],
            [
             0.8,
             "#7fbc41"
            ],
            [
             0.9,
             "#4d9221"
            ],
            [
             1,
             "#276419"
            ]
           ],
           "sequential": [
            [
             0,
             "#0d0887"
            ],
            [
             0.1111111111111111,
             "#46039f"
            ],
            [
             0.2222222222222222,
             "#7201a8"
            ],
            [
             0.3333333333333333,
             "#9c179e"
            ],
            [
             0.4444444444444444,
             "#bd3786"
            ],
            [
             0.5555555555555556,
             "#d8576b"
            ],
            [
             0.6666666666666666,
             "#ed7953"
            ],
            [
             0.7777777777777778,
             "#fb9f3a"
            ],
            [
             0.8888888888888888,
             "#fdca26"
            ],
            [
             1,
             "#f0f921"
            ]
           ],
           "sequentialminus": [
            [
             0,
             "#0d0887"
            ],
            [
             0.1111111111111111,
             "#46039f"
            ],
            [
             0.2222222222222222,
             "#7201a8"
            ],
            [
             0.3333333333333333,
             "#9c179e"
            ],
            [
             0.4444444444444444,
             "#bd3786"
            ],
            [
             0.5555555555555556,
             "#d8576b"
            ],
            [
             0.6666666666666666,
             "#ed7953"
            ],
            [
             0.7777777777777778,
             "#fb9f3a"
            ],
            [
             0.8888888888888888,
             "#fdca26"
            ],
            [
             1,
             "#f0f921"
            ]
           ]
          },
          "colorway": [
           "#636efa",
           "#EF553B",
           "#00cc96",
           "#ab63fa",
           "#FFA15A",
           "#19d3f3",
           "#FF6692",
           "#B6E880",
           "#FF97FF",
           "#FECB52"
          ],
          "font": {
           "color": "#2a3f5f"
          },
          "geo": {
           "bgcolor": "white",
           "lakecolor": "white",
           "landcolor": "#E5ECF6",
           "showlakes": true,
           "showland": true,
           "subunitcolor": "white"
          },
          "hoverlabel": {
           "align": "left"
          },
          "hovermode": "closest",
          "mapbox": {
           "style": "light"
          },
          "paper_bgcolor": "white",
          "plot_bgcolor": "#E5ECF6",
          "polar": {
           "angularaxis": {
            "gridcolor": "white",
            "linecolor": "white",
            "ticks": ""
           },
           "bgcolor": "#E5ECF6",
           "radialaxis": {
            "gridcolor": "white",
            "linecolor": "white",
            "ticks": ""
           }
          },
          "scene": {
           "xaxis": {
            "backgroundcolor": "#E5ECF6",
            "gridcolor": "white",
            "gridwidth": 2,
            "linecolor": "white",
            "showbackground": true,
            "ticks": "",
            "zerolinecolor": "white"
           },
           "yaxis": {
            "backgroundcolor": "#E5ECF6",
            "gridcolor": "white",
            "gridwidth": 2,
            "linecolor": "white",
            "showbackground": true,
            "ticks": "",
            "zerolinecolor": "white"
           },
           "zaxis": {
            "backgroundcolor": "#E5ECF6",
            "gridcolor": "white",
            "gridwidth": 2,
            "linecolor": "white",
            "showbackground": true,
            "ticks": "",
            "zerolinecolor": "white"
           }
          },
          "shapedefaults": {
           "line": {
            "color": "#2a3f5f"
           }
          },
          "ternary": {
           "aaxis": {
            "gridcolor": "white",
            "linecolor": "white",
            "ticks": ""
           },
           "baxis": {
            "gridcolor": "white",
            "linecolor": "white",
            "ticks": ""
           },
           "bgcolor": "#E5ECF6",
           "caxis": {
            "gridcolor": "white",
            "linecolor": "white",
            "ticks": ""
           }
          },
          "title": {
           "x": 0.05
          },
          "xaxis": {
           "automargin": true,
           "gridcolor": "white",
           "linecolor": "white",
           "ticks": "",
           "title": {
            "standoff": 15
           },
           "zerolinecolor": "white",
           "zerolinewidth": 2
          },
          "yaxis": {
           "automargin": true,
           "gridcolor": "white",
           "linecolor": "white",
           "ticks": "",
           "title": {
            "standoff": 15
           },
           "zerolinecolor": "white",
           "zerolinewidth": 2
          }
         }
        },
        "title": {
         "text": "Tipo de Traço x Rompimento 28 Dias"
        },
        "xaxis": {
         "anchor": "y",
         "domain": [
          0,
          1
         ],
         "title": {
          "text": "TipoTraco"
         }
        },
        "yaxis": {
         "anchor": "x",
         "domain": [
          0,
          1
         ],
         "title": {
          "text": "Rompimento28Dias"
         }
        }
       }
      },
      "text/html": [
       "<div>                            <div id=\"f83fd960-81a7-47ed-8b22-2e4aee0099bc\" class=\"plotly-graph-div\" style=\"height:525px; width:100%;\"></div>            <script type=\"text/javascript\">                require([\"plotly\"], function(Plotly) {                    window.PLOTLYENV=window.PLOTLYENV || {};                                    if (document.getElementById(\"f83fd960-81a7-47ed-8b22-2e4aee0099bc\")) {                    Plotly.newPlot(                        \"f83fd960-81a7-47ed-8b22-2e4aee0099bc\",                        [{\"alignmentgroup\": \"True\", \"hovertemplate\": \"TipoTraco=%{x}<br>Rompimento28Dias=%{y}<extra></extra>\", \"legendgroup\": \"\", \"marker\": {\"color\": \"#636efa\"}, \"name\": \"\", \"notched\": false, \"offsetgroup\": \"\", \"orientation\": \"v\", \"showlegend\": false, \"type\": \"box\", \"x\": [\"N\", \"N\", \"N\", \"N\", \"N\", \"N\", \"N\", \"N\", \"N\", \"N\", \"N\", \"N\", \"N\", \"N\", \"N\", \"N\", \"N\", \"N\", \"N\", \"N\", \"N\", \"N\", \"N\", \"N\", \"N\", \"N\", \"N\", \"N\", \"N\", \"N\", \"N\", \"N\", \"N\", \"N\", \"N\", \"N\", \"N\", \"N\", \"N\", \"N\", \"N\", \"N\", \"N\", \"N\", \"N\", \"N\", \"N\", \"N\", \"N\", \"N\", \"N\", \"N\", \"N\", \"N\", \"N\", \"N\", \"N\", \"N\", \"N\", \"N\", \"N\", \"N\", \"N\", \"N\", \"N\", \"N\", \"N\", \"N\", \"N\", \"N\", \"N\", \"N\", \"N\", \"N\", \"N\", \"N\", \"N\", \"N\", \"N\", \"N\", \"N\", \"N\", \"N\", \"N\", \"N\", \"N\", \"N\", \"N\", \"N\", \"N\", \"N\", \"N\", \"N\", \"N\", \"N\", \"N\", \"N\", \"N\", \"N\", \"N\", \"N\", \"N\", \"N\", \"N\", \"N\", \"N\", \"N\", \"N\", \"N\", \"N\", \"N\", \"N\", \"N\", \"N\", \"N\", \"N\", \"N\", \"N\", \"N\", \"N\", \"N\", \"N\", \"N\", \"N\", \"N\", \"N\", \"N\", \"N\", \"N\", \"N\", \"N\", \"N\", \"N\", \"N\", \"N\", \"N\", \"N\", \"N\", \"N\", \"N\", \"N\", \"N\", \"N\", \"N\", \"N\", \"N\", \"N\", \"N\", \"N\", \"N\", \"N\", \"N\", \"N\", \"N\", \"N\", \"N\", \"N\", \"N\", \"N\", \"N\", \"N\", \"N\", \"N\", \"N\", \"N\", \"N\", \"N\", \"N\", \"N\", \"N\", \"N\", \"N\", \"N\", \"N\", \"N\", \"N\", \"N\", \"N\", \"N\", \"N\", \"N\", \"N\", \"N\", \"N\", \"N\", \"N\", \"N\", \"N\", \"N\", \"N\", \"N\", \"N\", \"N\", \"N\", \"N\", \"N\", \"N\", \"N\", \"N\", \"N\", \"N\", \"N\", \"N\", \"N\", \"N\", \"N\", \"N\", \"N\", \"N\", \"N\", \"N\", \"N\", \"N\", \"N\", \"N\", \"N\", \"N\", \"N\", \"N\", \"N\", \"N\", \"N\", \"N\", \"N\", \"N\", \"N\", \"N\", \"N\", \"N\", \"N\", \"N\", \"N\", \"N\", \"N\", \"N\", \"N\", \"N\", \"N\", \"N\", \"N\", \"N\", \"N\", \"N\", \"N\", \"N\", \"N\", \"N\", \"N\", \"N\", \"N\", \"N\", \"N\", \"N\", \"N\", \"N\", \"N\", \"N\", \"N\", \"N\", \"N\", \"N\", \"N\", \"N\", \"N\", \"N\", \"N\", \"N\", \"N\", \"N\", \"N\", \"N\", \"N\", \"N\", \"N\", \"N\", \"N\", \"N\", \"N\", \"N\", \"N\", \"N\", \"N\", \"N\", \"N\", \"N\", \"N\", \"N\", \"N\", \"N\", \"N\", \"N\", \"N\", \"N\", \"N\", \"N\", \"N\", \"N\", \"N\", \"N\", \"N\", \"N\", \"N\", \"N\", \"N\", \"N\", \"N\", \"N\", \"N\", \"N\", \"N\", \"N\", \"N\", \"N\", \"N\", \"N\", \"N\", \"N\", \"N\", \"N\", \"N\", \"N\", \"N\", \"N\", \"N\", \"N\", \"N\", \"N\", \"N\", \"N\", \"N\", \"N\", \"N\", \"N\", \"N\", \"N\", \"N\", \"N\", \"N\", \"N\", \"N\", \"N\", \"N\", \"N\", \"N\", \"N\", \"N\", \"N\", \"N\", \"N\", \"N\", \"N\", \"N\", \"N\", \"N\", \"N\", \"N\", \"N\", \"N\", \"N\", \"N\", \"N\"], \"x0\": \" \", \"xaxis\": \"x\", \"y\": [35.08, 33.4, 31.72, 31.12, 28.39, 29.7, 27.47, 27.61, 31.63, 26.3, 27.13, 22.49, 24.66, 16.96, 20.15, 30.93, 31.9, 31.3, 30.83, 31.02, 30.3, 30.6, 30.6, 33.52, 32.47, 32.41, 32.14, 33.9, 32.83, 35.01, 25.32, 26.27, 25.46, 28.11, 30.02, 25.0, 31.89, 30.4, 30.58, 32.55, 27.38, 23.81, 22.79, 20.28, 23.33, 24.34, 20.74, 18.1, 21.53, 22.81, 20.43, 21.72, 20.52, 23.31, 22.72, 22.04, 24.11, 26.34, 25.23, 36.56, 37.59, 34.38, 27.27, 26.77, 24.99, 26.67, 29.5, 29.06, 31.79, 27.15, 28.49, 29.67, 28.73, 38.37, 37.64, 44.87, 43.54, 45.08, 37.38, 44.91, 37.72, 35.68, 31.77, 30.22, 32.61, 33.11, 36.06, 33.79, 31.01, 34.14, 36.59, 32.32, 36.4, 35.01, 36.48, 35.68, 37.27, 38.2, 39.58, 41.4, 38.88, 37.34, 33.03, 37.85, 36.12, 41.45, 32.42, 33.51, 37.2, 33.63, 38.44, 32.46, 32.78, 28.08, 33.8, 30.87, 26.86, 40.19, 29.78, 27.93, 30.76, 35.22, 36.01, 29.84, 30.51, 28.5, 32.35, 34.28, 32.74, 33.45, 33.71, 30.4, 29.56, 27.56, 28.85, 29.74, 30.78, 28.53, 31.74, 32.92, 35.62, 38.09, 36.31, 37.81, 35.4, 36.2, 35.11, 30.0, 26.39, 27.87, 28.99, 25.41, 25.14, 29.98, 25.54, 25.21, 32.73, 25.01, 24.54, 34.88, 29.67, 30.69, 36.28, 34.07, 28.25, 37.54, 39.53, 31.48, 29.69, 32.49, 35.22, 34.09, 35.22, 33.79, 37.96, 37.03, 37.66, 40.0, 32.44, 35.92, 31.86, 35.2, 35.89, 35.39, 40.53, 40.14, 34.91, 38.42, 36.59, 30.88, 34.0, 32.64, 30.87, 35.15, 31.94, 35.39, 37.73, 37.77, 38.36, 42.61, 43.19, 38.3, 37.46, 31.07, 32.51, 33.02, 38.61, 28.72, 30.44, 30.26, 27.53, 34.54, 26.54, 27.39, 21.2, 33.9, 31.71, 34.49, 35.72, 27.98, 26.02, 29.0, 27.06, 26.39, 24.03, 33.17, 27.43, 31.39, 28.41, 30.16, 29.92, 30.02, 29.46, 27.31, 28.38, 29.64, 30.5, 40.23, 39.69, 35.81, 34.7, 38.75, 30.32, 35.07, 29.37, 33.09, 31.39, 31.19, 31.76, 33.84, 30.49, 34.47, 29.24, 31.72, 38.11, 35.69, 37.13, 34.04, 33.82, 32.46, 30.58, 29.93, 34.49, 38.16, 32.56, 32.54, 32.31, 32.6, 29.51, 31.26, 32.16, 31.26, 33.01, 21.27, 23.67, 25.79, 29.67, 27.15, 22.14, 25.69, 23.59, 27.62, 24.96, 22.79, 22.12, 22.21, 22.79, 26.82, 25.29, 32.84, 26.07, 25.56, 26.66, 27.64, 26.95, 32.4, 27.28, 27.28, 29.56, 31.61, 37.24, 33.4, 36.56, 37.67, 33.07, 34.88, 40.21, 39.14, 36.4, 38.04, 40.48, 36.24, 35.22, 37.81, 22.25, 27.36, 31.42, 31.74, 30.62, 29.6, 28.29, 37.17, 34.45, 37.54, 39.44, 42.79, 37.86, 37.46, 36.98, 41.96, 44.3, 39.97, 42.35, 37.32, 36.4, 35.29, 35.55, 33.93, 34.74, 36.2, 32.68, 30.0, 30.44, 31.34, 29.48, 33.72, 28.94, 34.8, 21.92, 34.65, 49.94, 38.19, 28.88, 28.01, 29.1, 32.45, 25.68, 31.51, 22.32, 20.79, 33.29], \"y0\": \" \", \"yaxis\": \"y\"}],                        {\"boxmode\": \"group\", \"legend\": {\"tracegroupgap\": 0}, \"template\": {\"data\": {\"bar\": [{\"error_x\": {\"color\": \"#2a3f5f\"}, \"error_y\": {\"color\": \"#2a3f5f\"}, \"marker\": {\"line\": {\"color\": \"#E5ECF6\", \"width\": 0.5}}, \"type\": \"bar\"}], \"barpolar\": [{\"marker\": {\"line\": {\"color\": \"#E5ECF6\", \"width\": 0.5}}, \"type\": \"barpolar\"}], \"carpet\": [{\"aaxis\": {\"endlinecolor\": \"#2a3f5f\", \"gridcolor\": \"white\", \"linecolor\": \"white\", \"minorgridcolor\": \"white\", \"startlinecolor\": \"#2a3f5f\"}, \"baxis\": {\"endlinecolor\": \"#2a3f5f\", \"gridcolor\": \"white\", \"linecolor\": \"white\", \"minorgridcolor\": \"white\", \"startlinecolor\": \"#2a3f5f\"}, \"type\": \"carpet\"}], \"choropleth\": [{\"colorbar\": {\"outlinewidth\": 0, \"ticks\": \"\"}, \"type\": \"choropleth\"}], \"contour\": [{\"colorbar\": {\"outlinewidth\": 0, \"ticks\": \"\"}, \"colorscale\": [[0.0, \"#0d0887\"], [0.1111111111111111, \"#46039f\"], [0.2222222222222222, \"#7201a8\"], [0.3333333333333333, \"#9c179e\"], [0.4444444444444444, \"#bd3786\"], [0.5555555555555556, \"#d8576b\"], [0.6666666666666666, \"#ed7953\"], [0.7777777777777778, \"#fb9f3a\"], [0.8888888888888888, \"#fdca26\"], [1.0, \"#f0f921\"]], \"type\": \"contour\"}], \"contourcarpet\": [{\"colorbar\": {\"outlinewidth\": 0, \"ticks\": \"\"}, \"type\": \"contourcarpet\"}], \"heatmap\": [{\"colorbar\": {\"outlinewidth\": 0, \"ticks\": \"\"}, \"colorscale\": [[0.0, \"#0d0887\"], [0.1111111111111111, \"#46039f\"], [0.2222222222222222, \"#7201a8\"], [0.3333333333333333, \"#9c179e\"], [0.4444444444444444, \"#bd3786\"], [0.5555555555555556, \"#d8576b\"], [0.6666666666666666, \"#ed7953\"], [0.7777777777777778, \"#fb9f3a\"], [0.8888888888888888, \"#fdca26\"], [1.0, \"#f0f921\"]], \"type\": \"heatmap\"}], \"heatmapgl\": [{\"colorbar\": {\"outlinewidth\": 0, \"ticks\": \"\"}, \"colorscale\": [[0.0, \"#0d0887\"], [0.1111111111111111, \"#46039f\"], [0.2222222222222222, \"#7201a8\"], [0.3333333333333333, \"#9c179e\"], [0.4444444444444444, \"#bd3786\"], [0.5555555555555556, \"#d8576b\"], [0.6666666666666666, \"#ed7953\"], [0.7777777777777778, \"#fb9f3a\"], [0.8888888888888888, \"#fdca26\"], [1.0, \"#f0f921\"]], \"type\": \"heatmapgl\"}], \"histogram\": [{\"marker\": {\"colorbar\": {\"outlinewidth\": 0, \"ticks\": \"\"}}, \"type\": \"histogram\"}], \"histogram2d\": [{\"colorbar\": {\"outlinewidth\": 0, \"ticks\": \"\"}, \"colorscale\": [[0.0, \"#0d0887\"], [0.1111111111111111, \"#46039f\"], [0.2222222222222222, \"#7201a8\"], [0.3333333333333333, \"#9c179e\"], [0.4444444444444444, \"#bd3786\"], [0.5555555555555556, \"#d8576b\"], [0.6666666666666666, \"#ed7953\"], [0.7777777777777778, \"#fb9f3a\"], [0.8888888888888888, \"#fdca26\"], [1.0, \"#f0f921\"]], \"type\": \"histogram2d\"}], \"histogram2dcontour\": [{\"colorbar\": {\"outlinewidth\": 0, \"ticks\": \"\"}, \"colorscale\": [[0.0, \"#0d0887\"], [0.1111111111111111, \"#46039f\"], [0.2222222222222222, \"#7201a8\"], [0.3333333333333333, \"#9c179e\"], [0.4444444444444444, \"#bd3786\"], [0.5555555555555556, \"#d8576b\"], [0.6666666666666666, \"#ed7953\"], [0.7777777777777778, \"#fb9f3a\"], [0.8888888888888888, \"#fdca26\"], [1.0, \"#f0f921\"]], \"type\": \"histogram2dcontour\"}], \"mesh3d\": [{\"colorbar\": {\"outlinewidth\": 0, \"ticks\": \"\"}, \"type\": \"mesh3d\"}], \"parcoords\": [{\"line\": {\"colorbar\": {\"outlinewidth\": 0, \"ticks\": \"\"}}, \"type\": \"parcoords\"}], \"pie\": [{\"automargin\": true, \"type\": \"pie\"}], \"scatter\": [{\"marker\": {\"colorbar\": {\"outlinewidth\": 0, \"ticks\": \"\"}}, \"type\": \"scatter\"}], \"scatter3d\": [{\"line\": {\"colorbar\": {\"outlinewidth\": 0, \"ticks\": \"\"}}, \"marker\": {\"colorbar\": {\"outlinewidth\": 0, \"ticks\": \"\"}}, \"type\": \"scatter3d\"}], \"scattercarpet\": [{\"marker\": {\"colorbar\": {\"outlinewidth\": 0, \"ticks\": \"\"}}, \"type\": \"scattercarpet\"}], \"scattergeo\": [{\"marker\": {\"colorbar\": {\"outlinewidth\": 0, \"ticks\": \"\"}}, \"type\": \"scattergeo\"}], \"scattergl\": [{\"marker\": {\"colorbar\": {\"outlinewidth\": 0, \"ticks\": \"\"}}, \"type\": \"scattergl\"}], \"scattermapbox\": [{\"marker\": {\"colorbar\": {\"outlinewidth\": 0, \"ticks\": \"\"}}, \"type\": \"scattermapbox\"}], \"scatterpolar\": [{\"marker\": {\"colorbar\": {\"outlinewidth\": 0, \"ticks\": \"\"}}, \"type\": \"scatterpolar\"}], \"scatterpolargl\": [{\"marker\": {\"colorbar\": {\"outlinewidth\": 0, \"ticks\": \"\"}}, \"type\": \"scatterpolargl\"}], \"scatterternary\": [{\"marker\": {\"colorbar\": {\"outlinewidth\": 0, \"ticks\": \"\"}}, \"type\": \"scatterternary\"}], \"surface\": [{\"colorbar\": {\"outlinewidth\": 0, \"ticks\": \"\"}, \"colorscale\": [[0.0, \"#0d0887\"], [0.1111111111111111, \"#46039f\"], [0.2222222222222222, \"#7201a8\"], [0.3333333333333333, \"#9c179e\"], [0.4444444444444444, \"#bd3786\"], [0.5555555555555556, \"#d8576b\"], [0.6666666666666666, \"#ed7953\"], [0.7777777777777778, \"#fb9f3a\"], [0.8888888888888888, \"#fdca26\"], [1.0, \"#f0f921\"]], \"type\": \"surface\"}], \"table\": [{\"cells\": {\"fill\": {\"color\": \"#EBF0F8\"}, \"line\": {\"color\": \"white\"}}, \"header\": {\"fill\": {\"color\": \"#C8D4E3\"}, \"line\": {\"color\": \"white\"}}, \"type\": \"table\"}]}, \"layout\": {\"annotationdefaults\": {\"arrowcolor\": \"#2a3f5f\", \"arrowhead\": 0, \"arrowwidth\": 1}, \"autotypenumbers\": \"strict\", \"coloraxis\": {\"colorbar\": {\"outlinewidth\": 0, \"ticks\": \"\"}}, \"colorscale\": {\"diverging\": [[0, \"#8e0152\"], [0.1, \"#c51b7d\"], [0.2, \"#de77ae\"], [0.3, \"#f1b6da\"], [0.4, \"#fde0ef\"], [0.5, \"#f7f7f7\"], [0.6, \"#e6f5d0\"], [0.7, \"#b8e186\"], [0.8, \"#7fbc41\"], [0.9, \"#4d9221\"], [1, \"#276419\"]], \"sequential\": [[0.0, \"#0d0887\"], [0.1111111111111111, \"#46039f\"], [0.2222222222222222, \"#7201a8\"], [0.3333333333333333, \"#9c179e\"], [0.4444444444444444, \"#bd3786\"], [0.5555555555555556, \"#d8576b\"], [0.6666666666666666, \"#ed7953\"], [0.7777777777777778, \"#fb9f3a\"], [0.8888888888888888, \"#fdca26\"], [1.0, \"#f0f921\"]], \"sequentialminus\": [[0.0, \"#0d0887\"], [0.1111111111111111, \"#46039f\"], [0.2222222222222222, \"#7201a8\"], [0.3333333333333333, \"#9c179e\"], [0.4444444444444444, \"#bd3786\"], [0.5555555555555556, \"#d8576b\"], [0.6666666666666666, \"#ed7953\"], [0.7777777777777778, \"#fb9f3a\"], [0.8888888888888888, \"#fdca26\"], [1.0, \"#f0f921\"]]}, \"colorway\": [\"#636efa\", \"#EF553B\", \"#00cc96\", \"#ab63fa\", \"#FFA15A\", \"#19d3f3\", \"#FF6692\", \"#B6E880\", \"#FF97FF\", \"#FECB52\"], \"font\": {\"color\": \"#2a3f5f\"}, \"geo\": {\"bgcolor\": \"white\", \"lakecolor\": \"white\", \"landcolor\": \"#E5ECF6\", \"showlakes\": true, \"showland\": true, \"subunitcolor\": \"white\"}, \"hoverlabel\": {\"align\": \"left\"}, \"hovermode\": \"closest\", \"mapbox\": {\"style\": \"light\"}, \"paper_bgcolor\": \"white\", \"plot_bgcolor\": \"#E5ECF6\", \"polar\": {\"angularaxis\": {\"gridcolor\": \"white\", \"linecolor\": \"white\", \"ticks\": \"\"}, \"bgcolor\": \"#E5ECF6\", \"radialaxis\": {\"gridcolor\": \"white\", \"linecolor\": \"white\", \"ticks\": \"\"}}, \"scene\": {\"xaxis\": {\"backgroundcolor\": \"#E5ECF6\", \"gridcolor\": \"white\", \"gridwidth\": 2, \"linecolor\": \"white\", \"showbackground\": true, \"ticks\": \"\", \"zerolinecolor\": \"white\"}, \"yaxis\": {\"backgroundcolor\": \"#E5ECF6\", \"gridcolor\": \"white\", \"gridwidth\": 2, \"linecolor\": \"white\", \"showbackground\": true, \"ticks\": \"\", \"zerolinecolor\": \"white\"}, \"zaxis\": {\"backgroundcolor\": \"#E5ECF6\", \"gridcolor\": \"white\", \"gridwidth\": 2, \"linecolor\": \"white\", \"showbackground\": true, \"ticks\": \"\", \"zerolinecolor\": \"white\"}}, \"shapedefaults\": {\"line\": {\"color\": \"#2a3f5f\"}}, \"ternary\": {\"aaxis\": {\"gridcolor\": \"white\", \"linecolor\": \"white\", \"ticks\": \"\"}, \"baxis\": {\"gridcolor\": \"white\", \"linecolor\": \"white\", \"ticks\": \"\"}, \"bgcolor\": \"#E5ECF6\", \"caxis\": {\"gridcolor\": \"white\", \"linecolor\": \"white\", \"ticks\": \"\"}}, \"title\": {\"x\": 0.05}, \"xaxis\": {\"automargin\": true, \"gridcolor\": \"white\", \"linecolor\": \"white\", \"ticks\": \"\", \"title\": {\"standoff\": 15}, \"zerolinecolor\": \"white\", \"zerolinewidth\": 2}, \"yaxis\": {\"automargin\": true, \"gridcolor\": \"white\", \"linecolor\": \"white\", \"ticks\": \"\", \"title\": {\"standoff\": 15}, \"zerolinecolor\": \"white\", \"zerolinewidth\": 2}}}, \"title\": {\"text\": \"Tipo de Tra\\u00e7o x Rompimento 28 Dias\"}, \"xaxis\": {\"anchor\": \"y\", \"domain\": [0.0, 1.0], \"title\": {\"text\": \"TipoTraco\"}}, \"yaxis\": {\"anchor\": \"x\", \"domain\": [0.0, 1.0], \"title\": {\"text\": \"Rompimento28Dias\"}}},                        {\"responsive\": true}                    ).then(function(){\n",
       "                            \n",
       "var gd = document.getElementById('f83fd960-81a7-47ed-8b22-2e4aee0099bc');\n",
       "var x = new MutationObserver(function (mutations, observer) {{\n",
       "        var display = window.getComputedStyle(gd).display;\n",
       "        if (!display || display === 'none') {{\n",
       "            console.log([gd, 'removed!']);\n",
       "            Plotly.purge(gd);\n",
       "            observer.disconnect();\n",
       "        }}\n",
       "}});\n",
       "\n",
       "// Listen for the removal of the full notebook cells\n",
       "var notebookContainer = gd.closest('#notebook-container');\n",
       "if (notebookContainer) {{\n",
       "    x.observe(notebookContainer, {childList: true});\n",
       "}}\n",
       "\n",
       "// Listen for the clearing of the current output cell\n",
       "var outputEl = gd.closest('.output');\n",
       "if (outputEl) {{\n",
       "    x.observe(outputEl, {childList: true});\n",
       "}}\n",
       "\n",
       "                        })                };                });            </script>        </div>"
      ]
     },
     "metadata": {},
     "output_type": "display_data"
    }
   ],
   "source": [
    "fig = px.box(dados_aglomerante, x=\"TipoTraco\", y=\"Rompimento28Dias\", title='Tipo de Traço x Rompimento 28 Dias')\n",
    "fig.show()"
   ]
  },
  {
   "cell_type": "code",
   "execution_count": 1264,
   "metadata": {},
   "outputs": [
    {
     "data": {
      "application/vnd.plotly.v1+json": {
       "config": {
        "plotlyServerURL": "https://plot.ly"
       },
       "data": [
        {
         "alignmentgroup": "True",
         "hovertemplate": "FCK=%{x}<br>Rompimento28Dias=%{y}<extra></extra>",
         "legendgroup": "",
         "marker": {
          "color": "#636efa"
         },
         "name": "",
         "notched": false,
         "offsetgroup": "",
         "orientation": "v",
         "showlegend": false,
         "type": "box",
         "x": [
          30,
          25,
          25,
          25,
          25,
          25,
          25,
          25,
          25,
          15,
          15,
          15,
          15,
          15,
          15,
          30,
          30,
          30,
          30,
          30,
          30,
          30,
          30,
          35,
          35,
          35,
          35,
          35,
          35,
          35,
          20,
          20,
          20,
          20,
          20,
          20,
          20,
          20,
          20,
          20,
          20,
          20,
          20,
          20,
          20,
          20,
          20,
          20,
          20,
          20,
          20,
          20,
          20,
          20,
          20,
          20,
          20,
          20,
          20,
          25,
          25,
          25,
          20,
          25,
          25,
          25,
          25,
          25,
          25,
          25,
          25,
          25,
          25,
          30,
          30,
          30,
          30,
          30,
          30,
          30,
          30,
          30,
          30,
          30,
          30,
          30,
          30,
          30,
          30,
          30,
          30,
          30,
          30,
          30,
          30,
          30,
          30,
          30,
          30,
          30,
          30,
          30,
          30,
          30,
          30,
          30,
          30,
          30,
          30,
          30,
          30,
          30,
          30,
          30,
          30,
          30,
          30,
          30,
          25,
          25,
          25,
          25,
          25,
          25,
          25,
          25,
          25,
          25,
          25,
          25,
          25,
          25,
          25,
          25,
          25,
          25,
          25,
          25,
          25,
          25,
          25,
          25,
          25,
          25,
          25,
          25,
          25,
          25,
          25,
          25,
          25,
          25,
          25,
          25,
          25,
          25,
          25,
          25,
          25,
          25,
          25,
          25,
          25,
          25,
          25,
          30,
          30,
          30,
          30,
          30,
          30,
          30,
          30,
          30,
          30,
          30,
          30,
          30,
          30,
          30,
          30,
          30,
          30,
          30,
          30,
          30,
          30,
          30,
          30,
          30,
          30,
          30,
          30,
          30,
          30,
          30,
          35,
          35,
          25,
          25,
          25,
          25,
          25,
          25,
          25,
          25,
          25,
          25,
          25,
          25,
          25,
          25,
          20,
          20,
          20,
          25,
          25,
          25,
          25,
          25,
          25,
          25,
          25,
          25,
          25,
          25,
          25,
          25,
          25,
          25,
          25,
          25,
          25,
          25,
          25,
          25,
          25,
          25,
          25,
          25,
          25,
          25,
          25,
          25,
          25,
          25,
          25,
          25,
          25,
          25,
          25,
          25,
          25,
          25,
          25,
          25,
          25,
          25,
          25,
          25,
          25,
          25,
          25,
          25,
          25,
          25,
          25,
          25,
          25,
          25,
          25,
          25,
          25,
          25,
          25,
          25,
          25,
          25,
          25,
          25,
          25,
          25,
          25,
          25,
          25,
          25,
          25,
          25,
          25,
          25,
          25,
          25,
          25,
          25,
          25,
          25,
          25,
          25,
          25,
          25,
          25,
          25,
          25,
          25,
          25,
          25,
          30,
          30,
          30,
          30,
          30,
          30,
          30,
          30,
          20,
          20,
          30,
          30,
          30,
          30,
          30,
          30,
          30,
          30,
          30,
          30,
          30,
          30,
          30,
          30,
          30,
          30,
          30,
          30,
          30,
          30,
          30,
          30,
          30,
          30,
          30,
          30,
          30,
          30,
          25,
          25,
          25,
          25,
          20,
          25,
          35,
          35,
          30,
          25,
          25,
          25,
          25,
          25,
          15,
          15,
          20
         ],
         "x0": " ",
         "xaxis": "x",
         "y": [
          35.08,
          33.4,
          31.72,
          31.12,
          28.39,
          29.7,
          27.47,
          27.61,
          31.63,
          26.3,
          27.13,
          22.49,
          24.66,
          16.96,
          20.15,
          30.93,
          31.9,
          31.3,
          30.83,
          31.02,
          30.3,
          30.6,
          30.6,
          33.52,
          32.47,
          32.41,
          32.14,
          33.9,
          32.83,
          35.01,
          25.32,
          26.27,
          25.46,
          28.11,
          30.02,
          25,
          31.89,
          30.4,
          30.58,
          32.55,
          27.38,
          23.81,
          22.79,
          20.28,
          23.33,
          24.34,
          20.74,
          18.1,
          21.53,
          22.81,
          20.43,
          21.72,
          20.52,
          23.31,
          22.72,
          22.04,
          24.11,
          26.34,
          25.23,
          36.56,
          37.59,
          34.38,
          27.27,
          26.77,
          24.99,
          26.67,
          29.5,
          29.06,
          31.79,
          27.15,
          28.49,
          29.67,
          28.73,
          38.37,
          37.64,
          44.87,
          43.54,
          45.08,
          37.38,
          44.91,
          37.72,
          35.68,
          31.77,
          30.22,
          32.61,
          33.11,
          36.06,
          33.79,
          31.01,
          34.14,
          36.59,
          32.32,
          36.4,
          35.01,
          36.48,
          35.68,
          37.27,
          38.2,
          39.58,
          41.4,
          38.88,
          37.34,
          33.03,
          37.85,
          36.12,
          41.45,
          32.42,
          33.51,
          37.2,
          33.63,
          38.44,
          32.46,
          32.78,
          28.08,
          33.8,
          30.87,
          26.86,
          40.19,
          29.78,
          27.93,
          30.76,
          35.22,
          36.01,
          29.84,
          30.51,
          28.5,
          32.35,
          34.28,
          32.74,
          33.45,
          33.71,
          30.4,
          29.56,
          27.56,
          28.85,
          29.74,
          30.78,
          28.53,
          31.74,
          32.92,
          35.62,
          38.09,
          36.31,
          37.81,
          35.4,
          36.2,
          35.11,
          30,
          26.39,
          27.87,
          28.99,
          25.41,
          25.14,
          29.98,
          25.54,
          25.21,
          32.73,
          25.01,
          24.54,
          34.88,
          29.67,
          30.69,
          36.28,
          34.07,
          28.25,
          37.54,
          39.53,
          31.48,
          29.69,
          32.49,
          35.22,
          34.09,
          35.22,
          33.79,
          37.96,
          37.03,
          37.66,
          40,
          32.44,
          35.92,
          31.86,
          35.2,
          35.89,
          35.39,
          40.53,
          40.14,
          34.91,
          38.42,
          36.59,
          30.88,
          34,
          32.64,
          30.87,
          35.15,
          31.94,
          35.39,
          37.73,
          37.77,
          38.36,
          42.61,
          43.19,
          38.3,
          37.46,
          31.07,
          32.51,
          33.02,
          38.61,
          28.72,
          30.44,
          30.26,
          27.53,
          34.54,
          26.54,
          27.39,
          21.2,
          33.9,
          31.71,
          34.49,
          35.72,
          27.98,
          26.02,
          29,
          27.06,
          26.39,
          24.03,
          33.17,
          27.43,
          31.39,
          28.41,
          30.16,
          29.92,
          30.02,
          29.46,
          27.31,
          28.38,
          29.64,
          30.5,
          40.23,
          39.69,
          35.81,
          34.7,
          38.75,
          30.32,
          35.07,
          29.37,
          33.09,
          31.39,
          31.19,
          31.76,
          33.84,
          30.49,
          34.47,
          29.24,
          31.72,
          38.11,
          35.69,
          37.13,
          34.04,
          33.82,
          32.46,
          30.58,
          29.93,
          34.49,
          38.16,
          32.56,
          32.54,
          32.31,
          32.6,
          29.51,
          31.26,
          32.16,
          31.26,
          33.01,
          21.27,
          23.67,
          25.79,
          29.67,
          27.15,
          22.14,
          25.69,
          23.59,
          27.62,
          24.96,
          22.79,
          22.12,
          22.21,
          22.79,
          26.82,
          25.29,
          32.84,
          26.07,
          25.56,
          26.66,
          27.64,
          26.95,
          32.4,
          27.28,
          27.28,
          29.56,
          31.61,
          37.24,
          33.4,
          36.56,
          37.67,
          33.07,
          34.88,
          40.21,
          39.14,
          36.4,
          38.04,
          40.48,
          36.24,
          35.22,
          37.81,
          22.25,
          27.36,
          31.42,
          31.74,
          30.62,
          29.6,
          28.29,
          37.17,
          34.45,
          37.54,
          39.44,
          42.79,
          37.86,
          37.46,
          36.98,
          41.96,
          44.3,
          39.97,
          42.35,
          37.32,
          36.4,
          35.29,
          35.55,
          33.93,
          34.74,
          36.2,
          32.68,
          30,
          30.44,
          31.34,
          29.48,
          33.72,
          28.94,
          34.8,
          21.92,
          34.65,
          49.94,
          38.19,
          28.88,
          28.01,
          29.1,
          32.45,
          25.68,
          31.51,
          22.32,
          20.79,
          33.29
         ],
         "y0": " ",
         "yaxis": "y"
        }
       ],
       "layout": {
        "boxmode": "group",
        "legend": {
         "tracegroupgap": 0
        },
        "template": {
         "data": {
          "bar": [
           {
            "error_x": {
             "color": "#2a3f5f"
            },
            "error_y": {
             "color": "#2a3f5f"
            },
            "marker": {
             "line": {
              "color": "#E5ECF6",
              "width": 0.5
             }
            },
            "type": "bar"
           }
          ],
          "barpolar": [
           {
            "marker": {
             "line": {
              "color": "#E5ECF6",
              "width": 0.5
             }
            },
            "type": "barpolar"
           }
          ],
          "carpet": [
           {
            "aaxis": {
             "endlinecolor": "#2a3f5f",
             "gridcolor": "white",
             "linecolor": "white",
             "minorgridcolor": "white",
             "startlinecolor": "#2a3f5f"
            },
            "baxis": {
             "endlinecolor": "#2a3f5f",
             "gridcolor": "white",
             "linecolor": "white",
             "minorgridcolor": "white",
             "startlinecolor": "#2a3f5f"
            },
            "type": "carpet"
           }
          ],
          "choropleth": [
           {
            "colorbar": {
             "outlinewidth": 0,
             "ticks": ""
            },
            "type": "choropleth"
           }
          ],
          "contour": [
           {
            "colorbar": {
             "outlinewidth": 0,
             "ticks": ""
            },
            "colorscale": [
             [
              0,
              "#0d0887"
             ],
             [
              0.1111111111111111,
              "#46039f"
             ],
             [
              0.2222222222222222,
              "#7201a8"
             ],
             [
              0.3333333333333333,
              "#9c179e"
             ],
             [
              0.4444444444444444,
              "#bd3786"
             ],
             [
              0.5555555555555556,
              "#d8576b"
             ],
             [
              0.6666666666666666,
              "#ed7953"
             ],
             [
              0.7777777777777778,
              "#fb9f3a"
             ],
             [
              0.8888888888888888,
              "#fdca26"
             ],
             [
              1,
              "#f0f921"
             ]
            ],
            "type": "contour"
           }
          ],
          "contourcarpet": [
           {
            "colorbar": {
             "outlinewidth": 0,
             "ticks": ""
            },
            "type": "contourcarpet"
           }
          ],
          "heatmap": [
           {
            "colorbar": {
             "outlinewidth": 0,
             "ticks": ""
            },
            "colorscale": [
             [
              0,
              "#0d0887"
             ],
             [
              0.1111111111111111,
              "#46039f"
             ],
             [
              0.2222222222222222,
              "#7201a8"
             ],
             [
              0.3333333333333333,
              "#9c179e"
             ],
             [
              0.4444444444444444,
              "#bd3786"
             ],
             [
              0.5555555555555556,
              "#d8576b"
             ],
             [
              0.6666666666666666,
              "#ed7953"
             ],
             [
              0.7777777777777778,
              "#fb9f3a"
             ],
             [
              0.8888888888888888,
              "#fdca26"
             ],
             [
              1,
              "#f0f921"
             ]
            ],
            "type": "heatmap"
           }
          ],
          "heatmapgl": [
           {
            "colorbar": {
             "outlinewidth": 0,
             "ticks": ""
            },
            "colorscale": [
             [
              0,
              "#0d0887"
             ],
             [
              0.1111111111111111,
              "#46039f"
             ],
             [
              0.2222222222222222,
              "#7201a8"
             ],
             [
              0.3333333333333333,
              "#9c179e"
             ],
             [
              0.4444444444444444,
              "#bd3786"
             ],
             [
              0.5555555555555556,
              "#d8576b"
             ],
             [
              0.6666666666666666,
              "#ed7953"
             ],
             [
              0.7777777777777778,
              "#fb9f3a"
             ],
             [
              0.8888888888888888,
              "#fdca26"
             ],
             [
              1,
              "#f0f921"
             ]
            ],
            "type": "heatmapgl"
           }
          ],
          "histogram": [
           {
            "marker": {
             "colorbar": {
              "outlinewidth": 0,
              "ticks": ""
             }
            },
            "type": "histogram"
           }
          ],
          "histogram2d": [
           {
            "colorbar": {
             "outlinewidth": 0,
             "ticks": ""
            },
            "colorscale": [
             [
              0,
              "#0d0887"
             ],
             [
              0.1111111111111111,
              "#46039f"
             ],
             [
              0.2222222222222222,
              "#7201a8"
             ],
             [
              0.3333333333333333,
              "#9c179e"
             ],
             [
              0.4444444444444444,
              "#bd3786"
             ],
             [
              0.5555555555555556,
              "#d8576b"
             ],
             [
              0.6666666666666666,
              "#ed7953"
             ],
             [
              0.7777777777777778,
              "#fb9f3a"
             ],
             [
              0.8888888888888888,
              "#fdca26"
             ],
             [
              1,
              "#f0f921"
             ]
            ],
            "type": "histogram2d"
           }
          ],
          "histogram2dcontour": [
           {
            "colorbar": {
             "outlinewidth": 0,
             "ticks": ""
            },
            "colorscale": [
             [
              0,
              "#0d0887"
             ],
             [
              0.1111111111111111,
              "#46039f"
             ],
             [
              0.2222222222222222,
              "#7201a8"
             ],
             [
              0.3333333333333333,
              "#9c179e"
             ],
             [
              0.4444444444444444,
              "#bd3786"
             ],
             [
              0.5555555555555556,
              "#d8576b"
             ],
             [
              0.6666666666666666,
              "#ed7953"
             ],
             [
              0.7777777777777778,
              "#fb9f3a"
             ],
             [
              0.8888888888888888,
              "#fdca26"
             ],
             [
              1,
              "#f0f921"
             ]
            ],
            "type": "histogram2dcontour"
           }
          ],
          "mesh3d": [
           {
            "colorbar": {
             "outlinewidth": 0,
             "ticks": ""
            },
            "type": "mesh3d"
           }
          ],
          "parcoords": [
           {
            "line": {
             "colorbar": {
              "outlinewidth": 0,
              "ticks": ""
             }
            },
            "type": "parcoords"
           }
          ],
          "pie": [
           {
            "automargin": true,
            "type": "pie"
           }
          ],
          "scatter": [
           {
            "marker": {
             "colorbar": {
              "outlinewidth": 0,
              "ticks": ""
             }
            },
            "type": "scatter"
           }
          ],
          "scatter3d": [
           {
            "line": {
             "colorbar": {
              "outlinewidth": 0,
              "ticks": ""
             }
            },
            "marker": {
             "colorbar": {
              "outlinewidth": 0,
              "ticks": ""
             }
            },
            "type": "scatter3d"
           }
          ],
          "scattercarpet": [
           {
            "marker": {
             "colorbar": {
              "outlinewidth": 0,
              "ticks": ""
             }
            },
            "type": "scattercarpet"
           }
          ],
          "scattergeo": [
           {
            "marker": {
             "colorbar": {
              "outlinewidth": 0,
              "ticks": ""
             }
            },
            "type": "scattergeo"
           }
          ],
          "scattergl": [
           {
            "marker": {
             "colorbar": {
              "outlinewidth": 0,
              "ticks": ""
             }
            },
            "type": "scattergl"
           }
          ],
          "scattermapbox": [
           {
            "marker": {
             "colorbar": {
              "outlinewidth": 0,
              "ticks": ""
             }
            },
            "type": "scattermapbox"
           }
          ],
          "scatterpolar": [
           {
            "marker": {
             "colorbar": {
              "outlinewidth": 0,
              "ticks": ""
             }
            },
            "type": "scatterpolar"
           }
          ],
          "scatterpolargl": [
           {
            "marker": {
             "colorbar": {
              "outlinewidth": 0,
              "ticks": ""
             }
            },
            "type": "scatterpolargl"
           }
          ],
          "scatterternary": [
           {
            "marker": {
             "colorbar": {
              "outlinewidth": 0,
              "ticks": ""
             }
            },
            "type": "scatterternary"
           }
          ],
          "surface": [
           {
            "colorbar": {
             "outlinewidth": 0,
             "ticks": ""
            },
            "colorscale": [
             [
              0,
              "#0d0887"
             ],
             [
              0.1111111111111111,
              "#46039f"
             ],
             [
              0.2222222222222222,
              "#7201a8"
             ],
             [
              0.3333333333333333,
              "#9c179e"
             ],
             [
              0.4444444444444444,
              "#bd3786"
             ],
             [
              0.5555555555555556,
              "#d8576b"
             ],
             [
              0.6666666666666666,
              "#ed7953"
             ],
             [
              0.7777777777777778,
              "#fb9f3a"
             ],
             [
              0.8888888888888888,
              "#fdca26"
             ],
             [
              1,
              "#f0f921"
             ]
            ],
            "type": "surface"
           }
          ],
          "table": [
           {
            "cells": {
             "fill": {
              "color": "#EBF0F8"
             },
             "line": {
              "color": "white"
             }
            },
            "header": {
             "fill": {
              "color": "#C8D4E3"
             },
             "line": {
              "color": "white"
             }
            },
            "type": "table"
           }
          ]
         },
         "layout": {
          "annotationdefaults": {
           "arrowcolor": "#2a3f5f",
           "arrowhead": 0,
           "arrowwidth": 1
          },
          "autotypenumbers": "strict",
          "coloraxis": {
           "colorbar": {
            "outlinewidth": 0,
            "ticks": ""
           }
          },
          "colorscale": {
           "diverging": [
            [
             0,
             "#8e0152"
            ],
            [
             0.1,
             "#c51b7d"
            ],
            [
             0.2,
             "#de77ae"
            ],
            [
             0.3,
             "#f1b6da"
            ],
            [
             0.4,
             "#fde0ef"
            ],
            [
             0.5,
             "#f7f7f7"
            ],
            [
             0.6,
             "#e6f5d0"
            ],
            [
             0.7,
             "#b8e186"
            ],
            [
             0.8,
             "#7fbc41"
            ],
            [
             0.9,
             "#4d9221"
            ],
            [
             1,
             "#276419"
            ]
           ],
           "sequential": [
            [
             0,
             "#0d0887"
            ],
            [
             0.1111111111111111,
             "#46039f"
            ],
            [
             0.2222222222222222,
             "#7201a8"
            ],
            [
             0.3333333333333333,
             "#9c179e"
            ],
            [
             0.4444444444444444,
             "#bd3786"
            ],
            [
             0.5555555555555556,
             "#d8576b"
            ],
            [
             0.6666666666666666,
             "#ed7953"
            ],
            [
             0.7777777777777778,
             "#fb9f3a"
            ],
            [
             0.8888888888888888,
             "#fdca26"
            ],
            [
             1,
             "#f0f921"
            ]
           ],
           "sequentialminus": [
            [
             0,
             "#0d0887"
            ],
            [
             0.1111111111111111,
             "#46039f"
            ],
            [
             0.2222222222222222,
             "#7201a8"
            ],
            [
             0.3333333333333333,
             "#9c179e"
            ],
            [
             0.4444444444444444,
             "#bd3786"
            ],
            [
             0.5555555555555556,
             "#d8576b"
            ],
            [
             0.6666666666666666,
             "#ed7953"
            ],
            [
             0.7777777777777778,
             "#fb9f3a"
            ],
            [
             0.8888888888888888,
             "#fdca26"
            ],
            [
             1,
             "#f0f921"
            ]
           ]
          },
          "colorway": [
           "#636efa",
           "#EF553B",
           "#00cc96",
           "#ab63fa",
           "#FFA15A",
           "#19d3f3",
           "#FF6692",
           "#B6E880",
           "#FF97FF",
           "#FECB52"
          ],
          "font": {
           "color": "#2a3f5f"
          },
          "geo": {
           "bgcolor": "white",
           "lakecolor": "white",
           "landcolor": "#E5ECF6",
           "showlakes": true,
           "showland": true,
           "subunitcolor": "white"
          },
          "hoverlabel": {
           "align": "left"
          },
          "hovermode": "closest",
          "mapbox": {
           "style": "light"
          },
          "paper_bgcolor": "white",
          "plot_bgcolor": "#E5ECF6",
          "polar": {
           "angularaxis": {
            "gridcolor": "white",
            "linecolor": "white",
            "ticks": ""
           },
           "bgcolor": "#E5ECF6",
           "radialaxis": {
            "gridcolor": "white",
            "linecolor": "white",
            "ticks": ""
           }
          },
          "scene": {
           "xaxis": {
            "backgroundcolor": "#E5ECF6",
            "gridcolor": "white",
            "gridwidth": 2,
            "linecolor": "white",
            "showbackground": true,
            "ticks": "",
            "zerolinecolor": "white"
           },
           "yaxis": {
            "backgroundcolor": "#E5ECF6",
            "gridcolor": "white",
            "gridwidth": 2,
            "linecolor": "white",
            "showbackground": true,
            "ticks": "",
            "zerolinecolor": "white"
           },
           "zaxis": {
            "backgroundcolor": "#E5ECF6",
            "gridcolor": "white",
            "gridwidth": 2,
            "linecolor": "white",
            "showbackground": true,
            "ticks": "",
            "zerolinecolor": "white"
           }
          },
          "shapedefaults": {
           "line": {
            "color": "#2a3f5f"
           }
          },
          "ternary": {
           "aaxis": {
            "gridcolor": "white",
            "linecolor": "white",
            "ticks": ""
           },
           "baxis": {
            "gridcolor": "white",
            "linecolor": "white",
            "ticks": ""
           },
           "bgcolor": "#E5ECF6",
           "caxis": {
            "gridcolor": "white",
            "linecolor": "white",
            "ticks": ""
           }
          },
          "title": {
           "x": 0.05
          },
          "xaxis": {
           "automargin": true,
           "gridcolor": "white",
           "linecolor": "white",
           "ticks": "",
           "title": {
            "standoff": 15
           },
           "zerolinecolor": "white",
           "zerolinewidth": 2
          },
          "yaxis": {
           "automargin": true,
           "gridcolor": "white",
           "linecolor": "white",
           "ticks": "",
           "title": {
            "standoff": 15
           },
           "zerolinecolor": "white",
           "zerolinewidth": 2
          }
         }
        },
        "title": {
         "text": "FCK x Rompimento 28 Dias"
        },
        "xaxis": {
         "anchor": "y",
         "domain": [
          0,
          1
         ],
         "title": {
          "text": "FCK"
         }
        },
        "yaxis": {
         "anchor": "x",
         "domain": [
          0,
          1
         ],
         "title": {
          "text": "Rompimento28Dias"
         }
        }
       }
      },
      "text/html": [
       "<div>                            <div id=\"f5bf8978-6f89-4e3a-bf4e-998093576762\" class=\"plotly-graph-div\" style=\"height:525px; width:100%;\"></div>            <script type=\"text/javascript\">                require([\"plotly\"], function(Plotly) {                    window.PLOTLYENV=window.PLOTLYENV || {};                                    if (document.getElementById(\"f5bf8978-6f89-4e3a-bf4e-998093576762\")) {                    Plotly.newPlot(                        \"f5bf8978-6f89-4e3a-bf4e-998093576762\",                        [{\"alignmentgroup\": \"True\", \"hovertemplate\": \"FCK=%{x}<br>Rompimento28Dias=%{y}<extra></extra>\", \"legendgroup\": \"\", \"marker\": {\"color\": \"#636efa\"}, \"name\": \"\", \"notched\": false, \"offsetgroup\": \"\", \"orientation\": \"v\", \"showlegend\": false, \"type\": \"box\", \"x\": [30.0, 25.0, 25.0, 25.0, 25.0, 25.0, 25.0, 25.0, 25.0, 15.0, 15.0, 15.0, 15.0, 15.0, 15.0, 30.0, 30.0, 30.0, 30.0, 30.0, 30.0, 30.0, 30.0, 35.0, 35.0, 35.0, 35.0, 35.0, 35.0, 35.0, 20.0, 20.0, 20.0, 20.0, 20.0, 20.0, 20.0, 20.0, 20.0, 20.0, 20.0, 20.0, 20.0, 20.0, 20.0, 20.0, 20.0, 20.0, 20.0, 20.0, 20.0, 20.0, 20.0, 20.0, 20.0, 20.0, 20.0, 20.0, 20.0, 25.0, 25.0, 25.0, 20.0, 25.0, 25.0, 25.0, 25.0, 25.0, 25.0, 25.0, 25.0, 25.0, 25.0, 30.0, 30.0, 30.0, 30.0, 30.0, 30.0, 30.0, 30.0, 30.0, 30.0, 30.0, 30.0, 30.0, 30.0, 30.0, 30.0, 30.0, 30.0, 30.0, 30.0, 30.0, 30.0, 30.0, 30.0, 30.0, 30.0, 30.0, 30.0, 30.0, 30.0, 30.0, 30.0, 30.0, 30.0, 30.0, 30.0, 30.0, 30.0, 30.0, 30.0, 30.0, 30.0, 30.0, 30.0, 30.0, 25.0, 25.0, 25.0, 25.0, 25.0, 25.0, 25.0, 25.0, 25.0, 25.0, 25.0, 25.0, 25.0, 25.0, 25.0, 25.0, 25.0, 25.0, 25.0, 25.0, 25.0, 25.0, 25.0, 25.0, 25.0, 25.0, 25.0, 25.0, 25.0, 25.0, 25.0, 25.0, 25.0, 25.0, 25.0, 25.0, 25.0, 25.0, 25.0, 25.0, 25.0, 25.0, 25.0, 25.0, 25.0, 25.0, 25.0, 30.0, 30.0, 30.0, 30.0, 30.0, 30.0, 30.0, 30.0, 30.0, 30.0, 30.0, 30.0, 30.0, 30.0, 30.0, 30.0, 30.0, 30.0, 30.0, 30.0, 30.0, 30.0, 30.0, 30.0, 30.0, 30.0, 30.0, 30.0, 30.0, 30.0, 30.0, 35.0, 35.0, 25.0, 25.0, 25.0, 25.0, 25.0, 25.0, 25.0, 25.0, 25.0, 25.0, 25.0, 25.0, 25.0, 25.0, 20.0, 20.0, 20.0, 25.0, 25.0, 25.0, 25.0, 25.0, 25.0, 25.0, 25.0, 25.0, 25.0, 25.0, 25.0, 25.0, 25.0, 25.0, 25.0, 25.0, 25.0, 25.0, 25.0, 25.0, 25.0, 25.0, 25.0, 25.0, 25.0, 25.0, 25.0, 25.0, 25.0, 25.0, 25.0, 25.0, 25.0, 25.0, 25.0, 25.0, 25.0, 25.0, 25.0, 25.0, 25.0, 25.0, 25.0, 25.0, 25.0, 25.0, 25.0, 25.0, 25.0, 25.0, 25.0, 25.0, 25.0, 25.0, 25.0, 25.0, 25.0, 25.0, 25.0, 25.0, 25.0, 25.0, 25.0, 25.0, 25.0, 25.0, 25.0, 25.0, 25.0, 25.0, 25.0, 25.0, 25.0, 25.0, 25.0, 25.0, 25.0, 25.0, 25.0, 25.0, 25.0, 25.0, 25.0, 25.0, 25.0, 25.0, 25.0, 25.0, 25.0, 25.0, 30.0, 30.0, 30.0, 30.0, 30.0, 30.0, 30.0, 30.0, 20.0, 20.0, 30.0, 30.0, 30.0, 30.0, 30.0, 30.0, 30.0, 30.0, 30.0, 30.0, 30.0, 30.0, 30.0, 30.0, 30.0, 30.0, 30.0, 30.0, 30.0, 30.0, 30.0, 30.0, 30.0, 30.0, 30.0, 30.0, 30.0, 30.0, 25.0, 25.0, 25.0, 25.0, 20.0, 25.0, 35.0, 35.0, 30.0, 25.0, 25.0, 25.0, 25.0, 25.0, 15.0, 15.0, 20.0], \"x0\": \" \", \"xaxis\": \"x\", \"y\": [35.08, 33.4, 31.72, 31.12, 28.39, 29.7, 27.47, 27.61, 31.63, 26.3, 27.13, 22.49, 24.66, 16.96, 20.15, 30.93, 31.9, 31.3, 30.83, 31.02, 30.3, 30.6, 30.6, 33.52, 32.47, 32.41, 32.14, 33.9, 32.83, 35.01, 25.32, 26.27, 25.46, 28.11, 30.02, 25.0, 31.89, 30.4, 30.58, 32.55, 27.38, 23.81, 22.79, 20.28, 23.33, 24.34, 20.74, 18.1, 21.53, 22.81, 20.43, 21.72, 20.52, 23.31, 22.72, 22.04, 24.11, 26.34, 25.23, 36.56, 37.59, 34.38, 27.27, 26.77, 24.99, 26.67, 29.5, 29.06, 31.79, 27.15, 28.49, 29.67, 28.73, 38.37, 37.64, 44.87, 43.54, 45.08, 37.38, 44.91, 37.72, 35.68, 31.77, 30.22, 32.61, 33.11, 36.06, 33.79, 31.01, 34.14, 36.59, 32.32, 36.4, 35.01, 36.48, 35.68, 37.27, 38.2, 39.58, 41.4, 38.88, 37.34, 33.03, 37.85, 36.12, 41.45, 32.42, 33.51, 37.2, 33.63, 38.44, 32.46, 32.78, 28.08, 33.8, 30.87, 26.86, 40.19, 29.78, 27.93, 30.76, 35.22, 36.01, 29.84, 30.51, 28.5, 32.35, 34.28, 32.74, 33.45, 33.71, 30.4, 29.56, 27.56, 28.85, 29.74, 30.78, 28.53, 31.74, 32.92, 35.62, 38.09, 36.31, 37.81, 35.4, 36.2, 35.11, 30.0, 26.39, 27.87, 28.99, 25.41, 25.14, 29.98, 25.54, 25.21, 32.73, 25.01, 24.54, 34.88, 29.67, 30.69, 36.28, 34.07, 28.25, 37.54, 39.53, 31.48, 29.69, 32.49, 35.22, 34.09, 35.22, 33.79, 37.96, 37.03, 37.66, 40.0, 32.44, 35.92, 31.86, 35.2, 35.89, 35.39, 40.53, 40.14, 34.91, 38.42, 36.59, 30.88, 34.0, 32.64, 30.87, 35.15, 31.94, 35.39, 37.73, 37.77, 38.36, 42.61, 43.19, 38.3, 37.46, 31.07, 32.51, 33.02, 38.61, 28.72, 30.44, 30.26, 27.53, 34.54, 26.54, 27.39, 21.2, 33.9, 31.71, 34.49, 35.72, 27.98, 26.02, 29.0, 27.06, 26.39, 24.03, 33.17, 27.43, 31.39, 28.41, 30.16, 29.92, 30.02, 29.46, 27.31, 28.38, 29.64, 30.5, 40.23, 39.69, 35.81, 34.7, 38.75, 30.32, 35.07, 29.37, 33.09, 31.39, 31.19, 31.76, 33.84, 30.49, 34.47, 29.24, 31.72, 38.11, 35.69, 37.13, 34.04, 33.82, 32.46, 30.58, 29.93, 34.49, 38.16, 32.56, 32.54, 32.31, 32.6, 29.51, 31.26, 32.16, 31.26, 33.01, 21.27, 23.67, 25.79, 29.67, 27.15, 22.14, 25.69, 23.59, 27.62, 24.96, 22.79, 22.12, 22.21, 22.79, 26.82, 25.29, 32.84, 26.07, 25.56, 26.66, 27.64, 26.95, 32.4, 27.28, 27.28, 29.56, 31.61, 37.24, 33.4, 36.56, 37.67, 33.07, 34.88, 40.21, 39.14, 36.4, 38.04, 40.48, 36.24, 35.22, 37.81, 22.25, 27.36, 31.42, 31.74, 30.62, 29.6, 28.29, 37.17, 34.45, 37.54, 39.44, 42.79, 37.86, 37.46, 36.98, 41.96, 44.3, 39.97, 42.35, 37.32, 36.4, 35.29, 35.55, 33.93, 34.74, 36.2, 32.68, 30.0, 30.44, 31.34, 29.48, 33.72, 28.94, 34.8, 21.92, 34.65, 49.94, 38.19, 28.88, 28.01, 29.1, 32.45, 25.68, 31.51, 22.32, 20.79, 33.29], \"y0\": \" \", \"yaxis\": \"y\"}],                        {\"boxmode\": \"group\", \"legend\": {\"tracegroupgap\": 0}, \"template\": {\"data\": {\"bar\": [{\"error_x\": {\"color\": \"#2a3f5f\"}, \"error_y\": {\"color\": \"#2a3f5f\"}, \"marker\": {\"line\": {\"color\": \"#E5ECF6\", \"width\": 0.5}}, \"type\": \"bar\"}], \"barpolar\": [{\"marker\": {\"line\": {\"color\": \"#E5ECF6\", \"width\": 0.5}}, \"type\": \"barpolar\"}], \"carpet\": [{\"aaxis\": {\"endlinecolor\": \"#2a3f5f\", \"gridcolor\": \"white\", \"linecolor\": \"white\", \"minorgridcolor\": \"white\", \"startlinecolor\": \"#2a3f5f\"}, \"baxis\": {\"endlinecolor\": \"#2a3f5f\", \"gridcolor\": \"white\", \"linecolor\": \"white\", \"minorgridcolor\": \"white\", \"startlinecolor\": \"#2a3f5f\"}, \"type\": \"carpet\"}], \"choropleth\": [{\"colorbar\": {\"outlinewidth\": 0, \"ticks\": \"\"}, \"type\": \"choropleth\"}], \"contour\": [{\"colorbar\": {\"outlinewidth\": 0, \"ticks\": \"\"}, \"colorscale\": [[0.0, \"#0d0887\"], [0.1111111111111111, \"#46039f\"], [0.2222222222222222, \"#7201a8\"], [0.3333333333333333, \"#9c179e\"], [0.4444444444444444, \"#bd3786\"], [0.5555555555555556, \"#d8576b\"], [0.6666666666666666, \"#ed7953\"], [0.7777777777777778, \"#fb9f3a\"], [0.8888888888888888, \"#fdca26\"], [1.0, \"#f0f921\"]], \"type\": \"contour\"}], \"contourcarpet\": [{\"colorbar\": {\"outlinewidth\": 0, \"ticks\": \"\"}, \"type\": \"contourcarpet\"}], \"heatmap\": [{\"colorbar\": {\"outlinewidth\": 0, \"ticks\": \"\"}, \"colorscale\": [[0.0, \"#0d0887\"], [0.1111111111111111, \"#46039f\"], [0.2222222222222222, \"#7201a8\"], [0.3333333333333333, \"#9c179e\"], [0.4444444444444444, \"#bd3786\"], [0.5555555555555556, \"#d8576b\"], [0.6666666666666666, \"#ed7953\"], [0.7777777777777778, \"#fb9f3a\"], [0.8888888888888888, \"#fdca26\"], [1.0, \"#f0f921\"]], \"type\": \"heatmap\"}], \"heatmapgl\": [{\"colorbar\": {\"outlinewidth\": 0, \"ticks\": \"\"}, \"colorscale\": [[0.0, \"#0d0887\"], [0.1111111111111111, \"#46039f\"], [0.2222222222222222, \"#7201a8\"], [0.3333333333333333, \"#9c179e\"], [0.4444444444444444, \"#bd3786\"], [0.5555555555555556, \"#d8576b\"], [0.6666666666666666, \"#ed7953\"], [0.7777777777777778, \"#fb9f3a\"], [0.8888888888888888, \"#fdca26\"], [1.0, \"#f0f921\"]], \"type\": \"heatmapgl\"}], \"histogram\": [{\"marker\": {\"colorbar\": {\"outlinewidth\": 0, \"ticks\": \"\"}}, \"type\": \"histogram\"}], \"histogram2d\": [{\"colorbar\": {\"outlinewidth\": 0, \"ticks\": \"\"}, \"colorscale\": [[0.0, \"#0d0887\"], [0.1111111111111111, \"#46039f\"], [0.2222222222222222, \"#7201a8\"], [0.3333333333333333, \"#9c179e\"], [0.4444444444444444, \"#bd3786\"], [0.5555555555555556, \"#d8576b\"], [0.6666666666666666, \"#ed7953\"], [0.7777777777777778, \"#fb9f3a\"], [0.8888888888888888, \"#fdca26\"], [1.0, \"#f0f921\"]], \"type\": \"histogram2d\"}], \"histogram2dcontour\": [{\"colorbar\": {\"outlinewidth\": 0, \"ticks\": \"\"}, \"colorscale\": [[0.0, \"#0d0887\"], [0.1111111111111111, \"#46039f\"], [0.2222222222222222, \"#7201a8\"], [0.3333333333333333, \"#9c179e\"], [0.4444444444444444, \"#bd3786\"], [0.5555555555555556, \"#d8576b\"], [0.6666666666666666, \"#ed7953\"], [0.7777777777777778, \"#fb9f3a\"], [0.8888888888888888, \"#fdca26\"], [1.0, \"#f0f921\"]], \"type\": \"histogram2dcontour\"}], \"mesh3d\": [{\"colorbar\": {\"outlinewidth\": 0, \"ticks\": \"\"}, \"type\": \"mesh3d\"}], \"parcoords\": [{\"line\": {\"colorbar\": {\"outlinewidth\": 0, \"ticks\": \"\"}}, \"type\": \"parcoords\"}], \"pie\": [{\"automargin\": true, \"type\": \"pie\"}], \"scatter\": [{\"marker\": {\"colorbar\": {\"outlinewidth\": 0, \"ticks\": \"\"}}, \"type\": \"scatter\"}], \"scatter3d\": [{\"line\": {\"colorbar\": {\"outlinewidth\": 0, \"ticks\": \"\"}}, \"marker\": {\"colorbar\": {\"outlinewidth\": 0, \"ticks\": \"\"}}, \"type\": \"scatter3d\"}], \"scattercarpet\": [{\"marker\": {\"colorbar\": {\"outlinewidth\": 0, \"ticks\": \"\"}}, \"type\": \"scattercarpet\"}], \"scattergeo\": [{\"marker\": {\"colorbar\": {\"outlinewidth\": 0, \"ticks\": \"\"}}, \"type\": \"scattergeo\"}], \"scattergl\": [{\"marker\": {\"colorbar\": {\"outlinewidth\": 0, \"ticks\": \"\"}}, \"type\": \"scattergl\"}], \"scattermapbox\": [{\"marker\": {\"colorbar\": {\"outlinewidth\": 0, \"ticks\": \"\"}}, \"type\": \"scattermapbox\"}], \"scatterpolar\": [{\"marker\": {\"colorbar\": {\"outlinewidth\": 0, \"ticks\": \"\"}}, \"type\": \"scatterpolar\"}], \"scatterpolargl\": [{\"marker\": {\"colorbar\": {\"outlinewidth\": 0, \"ticks\": \"\"}}, \"type\": \"scatterpolargl\"}], \"scatterternary\": [{\"marker\": {\"colorbar\": {\"outlinewidth\": 0, \"ticks\": \"\"}}, \"type\": \"scatterternary\"}], \"surface\": [{\"colorbar\": {\"outlinewidth\": 0, \"ticks\": \"\"}, \"colorscale\": [[0.0, \"#0d0887\"], [0.1111111111111111, \"#46039f\"], [0.2222222222222222, \"#7201a8\"], [0.3333333333333333, \"#9c179e\"], [0.4444444444444444, \"#bd3786\"], [0.5555555555555556, \"#d8576b\"], [0.6666666666666666, \"#ed7953\"], [0.7777777777777778, \"#fb9f3a\"], [0.8888888888888888, \"#fdca26\"], [1.0, \"#f0f921\"]], \"type\": \"surface\"}], \"table\": [{\"cells\": {\"fill\": {\"color\": \"#EBF0F8\"}, \"line\": {\"color\": \"white\"}}, \"header\": {\"fill\": {\"color\": \"#C8D4E3\"}, \"line\": {\"color\": \"white\"}}, \"type\": \"table\"}]}, \"layout\": {\"annotationdefaults\": {\"arrowcolor\": \"#2a3f5f\", \"arrowhead\": 0, \"arrowwidth\": 1}, \"autotypenumbers\": \"strict\", \"coloraxis\": {\"colorbar\": {\"outlinewidth\": 0, \"ticks\": \"\"}}, \"colorscale\": {\"diverging\": [[0, \"#8e0152\"], [0.1, \"#c51b7d\"], [0.2, \"#de77ae\"], [0.3, \"#f1b6da\"], [0.4, \"#fde0ef\"], [0.5, \"#f7f7f7\"], [0.6, \"#e6f5d0\"], [0.7, \"#b8e186\"], [0.8, \"#7fbc41\"], [0.9, \"#4d9221\"], [1, \"#276419\"]], \"sequential\": [[0.0, \"#0d0887\"], [0.1111111111111111, \"#46039f\"], [0.2222222222222222, \"#7201a8\"], [0.3333333333333333, \"#9c179e\"], [0.4444444444444444, \"#bd3786\"], [0.5555555555555556, \"#d8576b\"], [0.6666666666666666, \"#ed7953\"], [0.7777777777777778, \"#fb9f3a\"], [0.8888888888888888, \"#fdca26\"], [1.0, \"#f0f921\"]], \"sequentialminus\": [[0.0, \"#0d0887\"], [0.1111111111111111, \"#46039f\"], [0.2222222222222222, \"#7201a8\"], [0.3333333333333333, \"#9c179e\"], [0.4444444444444444, \"#bd3786\"], [0.5555555555555556, \"#d8576b\"], [0.6666666666666666, \"#ed7953\"], [0.7777777777777778, \"#fb9f3a\"], [0.8888888888888888, \"#fdca26\"], [1.0, \"#f0f921\"]]}, \"colorway\": [\"#636efa\", \"#EF553B\", \"#00cc96\", \"#ab63fa\", \"#FFA15A\", \"#19d3f3\", \"#FF6692\", \"#B6E880\", \"#FF97FF\", \"#FECB52\"], \"font\": {\"color\": \"#2a3f5f\"}, \"geo\": {\"bgcolor\": \"white\", \"lakecolor\": \"white\", \"landcolor\": \"#E5ECF6\", \"showlakes\": true, \"showland\": true, \"subunitcolor\": \"white\"}, \"hoverlabel\": {\"align\": \"left\"}, \"hovermode\": \"closest\", \"mapbox\": {\"style\": \"light\"}, \"paper_bgcolor\": \"white\", \"plot_bgcolor\": \"#E5ECF6\", \"polar\": {\"angularaxis\": {\"gridcolor\": \"white\", \"linecolor\": \"white\", \"ticks\": \"\"}, \"bgcolor\": \"#E5ECF6\", \"radialaxis\": {\"gridcolor\": \"white\", \"linecolor\": \"white\", \"ticks\": \"\"}}, \"scene\": {\"xaxis\": {\"backgroundcolor\": \"#E5ECF6\", \"gridcolor\": \"white\", \"gridwidth\": 2, \"linecolor\": \"white\", \"showbackground\": true, \"ticks\": \"\", \"zerolinecolor\": \"white\"}, \"yaxis\": {\"backgroundcolor\": \"#E5ECF6\", \"gridcolor\": \"white\", \"gridwidth\": 2, \"linecolor\": \"white\", \"showbackground\": true, \"ticks\": \"\", \"zerolinecolor\": \"white\"}, \"zaxis\": {\"backgroundcolor\": \"#E5ECF6\", \"gridcolor\": \"white\", \"gridwidth\": 2, \"linecolor\": \"white\", \"showbackground\": true, \"ticks\": \"\", \"zerolinecolor\": \"white\"}}, \"shapedefaults\": {\"line\": {\"color\": \"#2a3f5f\"}}, \"ternary\": {\"aaxis\": {\"gridcolor\": \"white\", \"linecolor\": \"white\", \"ticks\": \"\"}, \"baxis\": {\"gridcolor\": \"white\", \"linecolor\": \"white\", \"ticks\": \"\"}, \"bgcolor\": \"#E5ECF6\", \"caxis\": {\"gridcolor\": \"white\", \"linecolor\": \"white\", \"ticks\": \"\"}}, \"title\": {\"x\": 0.05}, \"xaxis\": {\"automargin\": true, \"gridcolor\": \"white\", \"linecolor\": \"white\", \"ticks\": \"\", \"title\": {\"standoff\": 15}, \"zerolinecolor\": \"white\", \"zerolinewidth\": 2}, \"yaxis\": {\"automargin\": true, \"gridcolor\": \"white\", \"linecolor\": \"white\", \"ticks\": \"\", \"title\": {\"standoff\": 15}, \"zerolinecolor\": \"white\", \"zerolinewidth\": 2}}}, \"title\": {\"text\": \"FCK x Rompimento 28 Dias\"}, \"xaxis\": {\"anchor\": \"y\", \"domain\": [0.0, 1.0], \"title\": {\"text\": \"FCK\"}}, \"yaxis\": {\"anchor\": \"x\", \"domain\": [0.0, 1.0], \"title\": {\"text\": \"Rompimento28Dias\"}}},                        {\"responsive\": true}                    ).then(function(){\n",
       "                            \n",
       "var gd = document.getElementById('f5bf8978-6f89-4e3a-bf4e-998093576762');\n",
       "var x = new MutationObserver(function (mutations, observer) {{\n",
       "        var display = window.getComputedStyle(gd).display;\n",
       "        if (!display || display === 'none') {{\n",
       "            console.log([gd, 'removed!']);\n",
       "            Plotly.purge(gd);\n",
       "            observer.disconnect();\n",
       "        }}\n",
       "}});\n",
       "\n",
       "// Listen for the removal of the full notebook cells\n",
       "var notebookContainer = gd.closest('#notebook-container');\n",
       "if (notebookContainer) {{\n",
       "    x.observe(notebookContainer, {childList: true});\n",
       "}}\n",
       "\n",
       "// Listen for the clearing of the current output cell\n",
       "var outputEl = gd.closest('.output');\n",
       "if (outputEl) {{\n",
       "    x.observe(outputEl, {childList: true});\n",
       "}}\n",
       "\n",
       "                        })                };                });            </script>        </div>"
      ]
     },
     "metadata": {},
     "output_type": "display_data"
    }
   ],
   "source": [
    "fig = px.box(dados_aglomerante, x=\"FCK\", y=\"Rompimento28Dias\", title='FCK x Rompimento 28 Dias')\n",
    "fig.show()"
   ]
  },
  {
   "cell_type": "code",
   "execution_count": 1265,
   "metadata": {},
   "outputs": [
    {
     "data": {
      "application/vnd.plotly.v1+json": {
       "config": {
        "plotlyServerURL": "https://plot.ly"
       },
       "data": [
        {
         "hovertemplate": "LogRompimento7Dias=%{x}<br>Rompimento28Dias=%{y}<extra></extra>",
         "legendgroup": "",
         "marker": {
          "color": "#636efa",
          "symbol": "circle"
         },
         "mode": "markers",
         "name": "",
         "orientation": "v",
         "showlegend": false,
         "type": "scatter",
         "x": [
          3.2476576262936527,
          3.1888289035159043,
          3.1880041612011136,
          3.1548704948922883,
          3.038791763014438,
          3.0140632302387145,
          3.0160249768217535,
          2.9816333491744893,
          3.222469360378331,
          2.9533465570575532,
          2.9433857931817817,
          2.776954179749421,
          2.840247370713596,
          2.5128460184772416,
          2.554121718809473,
          3.1467351470905185,
          3.1054831375131102,
          3.139399623366404,
          3.12412548832239,
          3.1458749319837103,
          2.991222118076105,
          3.08876713952118,
          3.0914968955383704,
          3.219275744889528,
          3.175968323856924,
          3.1612467120315646,
          3.2744997286161976,
          3.267284964075888,
          3.2386784521643803,
          3.2565568918358894,
          2.918851229218033,
          2.8075938314384716,
          2.7930039069823738,
          2.9439125248241944,
          3.0694473113762717,
          2.8390784635086144,
          3.067122269640664,
          3.073618812211062,
          2.869601996409779,
          3.160398895109225,
          3.052112606990099,
          2.8820035082256483,
          2.758109400974947,
          2.5664866367804233,
          2.6461747973841225,
          2.8570447537800976,
          2.5832425505088623,
          2.6108048166633746,
          2.658859956911438,
          2.727199019940971,
          2.641910398597665,
          2.750470916986162,
          2.604170070614818,
          2.9231615807191558,
          2.8390784635086144,
          2.771963526845863,
          3.005682604407159,
          2.9338568698359038,
          2.906354462402774,
          3.279782759771722,
          3.3833727967496032,
          3.344979701663927,
          2.9128939952449864,
          3.1307001339644756,
          2.826129489167811,
          2.87976009730157,
          3.2748780149834857,
          3.0252910757955354,
          3.2546289945740186,
          3.033028058297688,
          3.141130476243348,
          3.110399348532117,
          3.0525850851467737,
          3.492864570187979,
          3.4294608469350147,
          3.5290040861498118,
          3.435276695315018,
          3.6044102974874863,
          3.418054498728578,
          3.641263600172273,
          3.3854066957558313,
          3.282038399825841,
          3.111735949310297,
          3.2160718975354663,
          3.219275744889528,
          3.279029747687948,
          3.2924979647388146,
          3.212455257065278,
          3.1908877883280318,
          3.2406373166497136,
          3.305787196857497,
          3.159550358783386,
          3.3769046890931107,
          3.279782759771722,
          3.301008654406723,
          3.3196257279683437,
          3.2865344733420154,
          3.2733640101522705,
          3.447762850809476,
          3.445852022202587,
          3.4679210137050633,
          3.487986511734546,
          3.1587011018321305,
          3.4550540544528663,
          3.4685444551217657,
          3.367640598133313,
          3.188416617383492,
          3.228430037673012,
          3.3368366225017656,
          3.2511493854184965,
          3.333275365176697,
          3.1880041612011136,
          3.3141860046725258,
          3.166740070447672,
          3.342508385313476,
          3.3174533882291946,
          3.1851121947153915,
          3.39484390768998,
          3.045474365448805,
          3.0473755067058295,
          3.228430037673012,
          3.1523085805960878,
          3.2924979647388146,
          3.1315734964654043,
          3.1608228934195837,
          3.2240623515555007,
          3.202339856228101,
          3.3786108829893595,
          3.284288963416433,
          3.2763897310688073,
          3.3178157727231046,
          3.2092294478163956,
          3.0823685802135374,
          2.9595868269176377,
          2.949164637737656,
          3.076851324838783,
          3.104586678466073,
          2.989714201228428,
          3.2003044392827653,
          3.1144038032714896,
          3.242592351485517,
          3.295836866004329,
          3.2976870052924907,
          3.3867603338643857,
          3.325755186495297,
          3.3575937441800234,
          3.4151002868311466,
          3.004692014925463,
          3.0421386463681466,
          3.201526186533088,
          3.2055879305412653,
          3.159550358783386,
          3.070839746040796,
          3.170525563927154,
          2.970414465569701,
          2.954910279033736,
          3.1415627217655304,
          2.7868613815264998,
          2.7813006628418027,
          3.2315945972759756,
          3.0973859272804907,
          3.1467351470905185,
          3.292126286607793,
          3.2406373166497136,
          2.9699015135194693,
          3.391147045808654,
          3.4249139082794713,
          3.2653776585196206,
          3.2519236789144013,
          3.3375473545856993,
          3.415757532993485,
          3.2627013044082305,
          3.435276695315018,
          3.418054498728578,
          3.5201649007261984,
          3.563032744247961,
          3.4959013171314526,
          3.4707234443107655,
          3.126321843257593,
          3.286908235260028,
          3.2039652121324464,
          3.358985532852846,
          3.4127965175055075,
          3.358985532852846,
          3.4239368686316447,
          3.4522073025699003,
          3.2801590532850993,
          3.3214324131932926,
          3.3748534063225533,
          3.248434627109745,
          3.298795448044074,
          3.2386784521643803,
          3.238286218388024,
          3.354455119110024,
          3.34109345759245,
          3.3506055955460954,
          3.5049566159530077,
          3.56784112573688,
          3.443298557680791,
          3.5703774100329357,
          3.5263605246161616,
          3.3628029936748436,
          3.3530570063342204,
          3.2726061472891685,
          3.3336320621663895,
          3.2816628129669656,
          3.4236109764990554,
          3.1424266527047946,
          3.202339856228101,
          3.263849190510932,
          3.1276373444339294,
          3.2011191032789417,
          2.944965156500338,
          2.9785861147190205,
          2.8741294517947424,
          3.1826266921930797,
          3.139832617527748,
          3.1232455938529506,
          3.170105660498771,
          3.074543453978281,
          3.0430928449138284,
          3.0339909856710814,
          3.0344721018699214,
          3.067587710654419,
          2.9719517448885875,
          3.229222116922345,
          3.0577676644734435,
          3.1531632815028194,
          3.1293886583666644,
          3.1763857732472487,
          3.074543453978281,
          3.087399462079815,
          3.08876713952118,
          2.950211758252182,
          2.9987277825337895,
          3.070839746040796,
          3.0791538816930633,
          3.40684805317097,
          3.3046864812813115,
          3.25848107946056,
          3.195811885269649,
          3.3690184832979204,
          3.170525563927154,
          3.311637304949512,
          3.141130476243348,
          3.2355362657613083,
          3.2051824977361982,
          3.1458749319837103,
          3.2144661163795005,
          3.27601201623901,
          3.1908877883280318,
          3.315276319154516,
          3.126760535960395,
          3.222469360378331,
          3.231989464013584,
          3.3721118007670587,
          3.3541057741283047,
          3.3043193066856684,
          3.2240623515555007,
          3.1826266921930797,
          3.151025157960026,
          3.1565747986708215,
          3.27601201623901,
          3.2902658209548736,
          3.21124679770371,
          3.0740812399649675,
          3.238286218388024,
          3.096029994869355,
          3.044522437723423,
          3.091042453358316,
          3.0978374964911444,
          3.0506938316279655,
          3.109060958860994,
          2.8587664184808337,
          2.9816333491744893,
          2.9785861147190205,
          3.100542637906336,
          3.089677886396519,
          2.89977188240808,
          3.028683373693677,
          2.9882040071331994,
          3.133753571451366,
          2.9785861147190205,
          2.8936995479888394,
          2.9932291433358724,
          2.991724252156452,
          2.9987277825337895,
          3.094219220268645,
          3.052112606990099,
          3.339321977944068,
          3.0378334495726262,
          3.1493113614822916,
          3.096029994869355,
          3.1629401925378975,
          3.184284380098582,
          3.1514531485507664,
          3.1126260250254902,
          3.1328821117012247,
          3.1245651453969594,
          3.1570004211501135,
          3.292126286607793,
          3.1315734964654043,
          3.192531849528599,
          3.3282682016393976,
          3.255014871484074,
          3.1293886583666644,
          3.311637304949512,
          3.462606009790799,
          3.448080967561006,
          3.436242723404956,
          3.4553698605505483,
          3.3703944725071104,
          3.367640598133313,
          3.4317265866969784,
          2.785628335747585,
          2.9512577834521614,
          3.214867803470662,
          3.2072080200005186,
          3.2228678461377385,
          3.2208738275308737,
          3.1250046092581303,
          3.334701390373791,
          3.2204745462318978,
          3.484618989801228,
          3.4830845411343394,
          3.551053137206533,
          3.3734835430946397,
          3.383712067321136,
          3.3995293245614584,
          3.506457892319648,
          3.569250966658405,
          3.441379171294987,
          3.500741011998417,
          3.500137329517059,
          3.4223063448723905,
          3.331489969237335,
          3.298795448044074,
          3.2588654730843594,
          3.2315945972759756,
          3.239462458476589,
          3.3572454941329726,
          3.2906381910950917,
          3.269568939183719,
          3.201933104137889,
          3.113959654918641,
          3.2188758248682006,
          3.051166980442092,
          3.2371085931292605,
          2.825536896557877,
          3.285412348668445,
          3.774368840129351,
          3.4388142452334622,
          3.0855729775537806,
          3.043569602968151,
          3.106826321059578,
          3.087399462079815,
          2.979094632400968,
          3.1437211512674406,
          2.8100049236252036,
          2.749192144433385,
          3.199896858270398
         ],
         "xaxis": "x",
         "y": [
          35.08,
          33.4,
          31.72,
          31.12,
          28.39,
          29.7,
          27.47,
          27.61,
          31.63,
          26.3,
          27.13,
          22.49,
          24.66,
          16.96,
          20.15,
          30.93,
          31.9,
          31.3,
          30.83,
          31.02,
          30.3,
          30.6,
          30.6,
          33.52,
          32.47,
          32.41,
          32.14,
          33.9,
          32.83,
          35.01,
          25.32,
          26.27,
          25.46,
          28.11,
          30.02,
          25,
          31.89,
          30.4,
          30.58,
          32.55,
          27.38,
          23.81,
          22.79,
          20.28,
          23.33,
          24.34,
          20.74,
          18.1,
          21.53,
          22.81,
          20.43,
          21.72,
          20.52,
          23.31,
          22.72,
          22.04,
          24.11,
          26.34,
          25.23,
          36.56,
          37.59,
          34.38,
          27.27,
          26.77,
          24.99,
          26.67,
          29.5,
          29.06,
          31.79,
          27.15,
          28.49,
          29.67,
          28.73,
          38.37,
          37.64,
          44.87,
          43.54,
          45.08,
          37.38,
          44.91,
          37.72,
          35.68,
          31.77,
          30.22,
          32.61,
          33.11,
          36.06,
          33.79,
          31.01,
          34.14,
          36.59,
          32.32,
          36.4,
          35.01,
          36.48,
          35.68,
          37.27,
          38.2,
          39.58,
          41.4,
          38.88,
          37.34,
          33.03,
          37.85,
          36.12,
          41.45,
          32.42,
          33.51,
          37.2,
          33.63,
          38.44,
          32.46,
          32.78,
          28.08,
          33.8,
          30.87,
          26.86,
          40.19,
          29.78,
          27.93,
          30.76,
          35.22,
          36.01,
          29.84,
          30.51,
          28.5,
          32.35,
          34.28,
          32.74,
          33.45,
          33.71,
          30.4,
          29.56,
          27.56,
          28.85,
          29.74,
          30.78,
          28.53,
          31.74,
          32.92,
          35.62,
          38.09,
          36.31,
          37.81,
          35.4,
          36.2,
          35.11,
          30,
          26.39,
          27.87,
          28.99,
          25.41,
          25.14,
          29.98,
          25.54,
          25.21,
          32.73,
          25.01,
          24.54,
          34.88,
          29.67,
          30.69,
          36.28,
          34.07,
          28.25,
          37.54,
          39.53,
          31.48,
          29.69,
          32.49,
          35.22,
          34.09,
          35.22,
          33.79,
          37.96,
          37.03,
          37.66,
          40,
          32.44,
          35.92,
          31.86,
          35.2,
          35.89,
          35.39,
          40.53,
          40.14,
          34.91,
          38.42,
          36.59,
          30.88,
          34,
          32.64,
          30.87,
          35.15,
          31.94,
          35.39,
          37.73,
          37.77,
          38.36,
          42.61,
          43.19,
          38.3,
          37.46,
          31.07,
          32.51,
          33.02,
          38.61,
          28.72,
          30.44,
          30.26,
          27.53,
          34.54,
          26.54,
          27.39,
          21.2,
          33.9,
          31.71,
          34.49,
          35.72,
          27.98,
          26.02,
          29,
          27.06,
          26.39,
          24.03,
          33.17,
          27.43,
          31.39,
          28.41,
          30.16,
          29.92,
          30.02,
          29.46,
          27.31,
          28.38,
          29.64,
          30.5,
          40.23,
          39.69,
          35.81,
          34.7,
          38.75,
          30.32,
          35.07,
          29.37,
          33.09,
          31.39,
          31.19,
          31.76,
          33.84,
          30.49,
          34.47,
          29.24,
          31.72,
          38.11,
          35.69,
          37.13,
          34.04,
          33.82,
          32.46,
          30.58,
          29.93,
          34.49,
          38.16,
          32.56,
          32.54,
          32.31,
          32.6,
          29.51,
          31.26,
          32.16,
          31.26,
          33.01,
          21.27,
          23.67,
          25.79,
          29.67,
          27.15,
          22.14,
          25.69,
          23.59,
          27.62,
          24.96,
          22.79,
          22.12,
          22.21,
          22.79,
          26.82,
          25.29,
          32.84,
          26.07,
          25.56,
          26.66,
          27.64,
          26.95,
          32.4,
          27.28,
          27.28,
          29.56,
          31.61,
          37.24,
          33.4,
          36.56,
          37.67,
          33.07,
          34.88,
          40.21,
          39.14,
          36.4,
          38.04,
          40.48,
          36.24,
          35.22,
          37.81,
          22.25,
          27.36,
          31.42,
          31.74,
          30.62,
          29.6,
          28.29,
          37.17,
          34.45,
          37.54,
          39.44,
          42.79,
          37.86,
          37.46,
          36.98,
          41.96,
          44.3,
          39.97,
          42.35,
          37.32,
          36.4,
          35.29,
          35.55,
          33.93,
          34.74,
          36.2,
          32.68,
          30,
          30.44,
          31.34,
          29.48,
          33.72,
          28.94,
          34.8,
          21.92,
          34.65,
          49.94,
          38.19,
          28.88,
          28.01,
          29.1,
          32.45,
          25.68,
          31.51,
          22.32,
          20.79,
          33.29
         ],
         "yaxis": "y"
        }
       ],
       "layout": {
        "legend": {
         "tracegroupgap": 0
        },
        "template": {
         "data": {
          "bar": [
           {
            "error_x": {
             "color": "#2a3f5f"
            },
            "error_y": {
             "color": "#2a3f5f"
            },
            "marker": {
             "line": {
              "color": "#E5ECF6",
              "width": 0.5
             }
            },
            "type": "bar"
           }
          ],
          "barpolar": [
           {
            "marker": {
             "line": {
              "color": "#E5ECF6",
              "width": 0.5
             }
            },
            "type": "barpolar"
           }
          ],
          "carpet": [
           {
            "aaxis": {
             "endlinecolor": "#2a3f5f",
             "gridcolor": "white",
             "linecolor": "white",
             "minorgridcolor": "white",
             "startlinecolor": "#2a3f5f"
            },
            "baxis": {
             "endlinecolor": "#2a3f5f",
             "gridcolor": "white",
             "linecolor": "white",
             "minorgridcolor": "white",
             "startlinecolor": "#2a3f5f"
            },
            "type": "carpet"
           }
          ],
          "choropleth": [
           {
            "colorbar": {
             "outlinewidth": 0,
             "ticks": ""
            },
            "type": "choropleth"
           }
          ],
          "contour": [
           {
            "colorbar": {
             "outlinewidth": 0,
             "ticks": ""
            },
            "colorscale": [
             [
              0,
              "#0d0887"
             ],
             [
              0.1111111111111111,
              "#46039f"
             ],
             [
              0.2222222222222222,
              "#7201a8"
             ],
             [
              0.3333333333333333,
              "#9c179e"
             ],
             [
              0.4444444444444444,
              "#bd3786"
             ],
             [
              0.5555555555555556,
              "#d8576b"
             ],
             [
              0.6666666666666666,
              "#ed7953"
             ],
             [
              0.7777777777777778,
              "#fb9f3a"
             ],
             [
              0.8888888888888888,
              "#fdca26"
             ],
             [
              1,
              "#f0f921"
             ]
            ],
            "type": "contour"
           }
          ],
          "contourcarpet": [
           {
            "colorbar": {
             "outlinewidth": 0,
             "ticks": ""
            },
            "type": "contourcarpet"
           }
          ],
          "heatmap": [
           {
            "colorbar": {
             "outlinewidth": 0,
             "ticks": ""
            },
            "colorscale": [
             [
              0,
              "#0d0887"
             ],
             [
              0.1111111111111111,
              "#46039f"
             ],
             [
              0.2222222222222222,
              "#7201a8"
             ],
             [
              0.3333333333333333,
              "#9c179e"
             ],
             [
              0.4444444444444444,
              "#bd3786"
             ],
             [
              0.5555555555555556,
              "#d8576b"
             ],
             [
              0.6666666666666666,
              "#ed7953"
             ],
             [
              0.7777777777777778,
              "#fb9f3a"
             ],
             [
              0.8888888888888888,
              "#fdca26"
             ],
             [
              1,
              "#f0f921"
             ]
            ],
            "type": "heatmap"
           }
          ],
          "heatmapgl": [
           {
            "colorbar": {
             "outlinewidth": 0,
             "ticks": ""
            },
            "colorscale": [
             [
              0,
              "#0d0887"
             ],
             [
              0.1111111111111111,
              "#46039f"
             ],
             [
              0.2222222222222222,
              "#7201a8"
             ],
             [
              0.3333333333333333,
              "#9c179e"
             ],
             [
              0.4444444444444444,
              "#bd3786"
             ],
             [
              0.5555555555555556,
              "#d8576b"
             ],
             [
              0.6666666666666666,
              "#ed7953"
             ],
             [
              0.7777777777777778,
              "#fb9f3a"
             ],
             [
              0.8888888888888888,
              "#fdca26"
             ],
             [
              1,
              "#f0f921"
             ]
            ],
            "type": "heatmapgl"
           }
          ],
          "histogram": [
           {
            "marker": {
             "colorbar": {
              "outlinewidth": 0,
              "ticks": ""
             }
            },
            "type": "histogram"
           }
          ],
          "histogram2d": [
           {
            "colorbar": {
             "outlinewidth": 0,
             "ticks": ""
            },
            "colorscale": [
             [
              0,
              "#0d0887"
             ],
             [
              0.1111111111111111,
              "#46039f"
             ],
             [
              0.2222222222222222,
              "#7201a8"
             ],
             [
              0.3333333333333333,
              "#9c179e"
             ],
             [
              0.4444444444444444,
              "#bd3786"
             ],
             [
              0.5555555555555556,
              "#d8576b"
             ],
             [
              0.6666666666666666,
              "#ed7953"
             ],
             [
              0.7777777777777778,
              "#fb9f3a"
             ],
             [
              0.8888888888888888,
              "#fdca26"
             ],
             [
              1,
              "#f0f921"
             ]
            ],
            "type": "histogram2d"
           }
          ],
          "histogram2dcontour": [
           {
            "colorbar": {
             "outlinewidth": 0,
             "ticks": ""
            },
            "colorscale": [
             [
              0,
              "#0d0887"
             ],
             [
              0.1111111111111111,
              "#46039f"
             ],
             [
              0.2222222222222222,
              "#7201a8"
             ],
             [
              0.3333333333333333,
              "#9c179e"
             ],
             [
              0.4444444444444444,
              "#bd3786"
             ],
             [
              0.5555555555555556,
              "#d8576b"
             ],
             [
              0.6666666666666666,
              "#ed7953"
             ],
             [
              0.7777777777777778,
              "#fb9f3a"
             ],
             [
              0.8888888888888888,
              "#fdca26"
             ],
             [
              1,
              "#f0f921"
             ]
            ],
            "type": "histogram2dcontour"
           }
          ],
          "mesh3d": [
           {
            "colorbar": {
             "outlinewidth": 0,
             "ticks": ""
            },
            "type": "mesh3d"
           }
          ],
          "parcoords": [
           {
            "line": {
             "colorbar": {
              "outlinewidth": 0,
              "ticks": ""
             }
            },
            "type": "parcoords"
           }
          ],
          "pie": [
           {
            "automargin": true,
            "type": "pie"
           }
          ],
          "scatter": [
           {
            "marker": {
             "colorbar": {
              "outlinewidth": 0,
              "ticks": ""
             }
            },
            "type": "scatter"
           }
          ],
          "scatter3d": [
           {
            "line": {
             "colorbar": {
              "outlinewidth": 0,
              "ticks": ""
             }
            },
            "marker": {
             "colorbar": {
              "outlinewidth": 0,
              "ticks": ""
             }
            },
            "type": "scatter3d"
           }
          ],
          "scattercarpet": [
           {
            "marker": {
             "colorbar": {
              "outlinewidth": 0,
              "ticks": ""
             }
            },
            "type": "scattercarpet"
           }
          ],
          "scattergeo": [
           {
            "marker": {
             "colorbar": {
              "outlinewidth": 0,
              "ticks": ""
             }
            },
            "type": "scattergeo"
           }
          ],
          "scattergl": [
           {
            "marker": {
             "colorbar": {
              "outlinewidth": 0,
              "ticks": ""
             }
            },
            "type": "scattergl"
           }
          ],
          "scattermapbox": [
           {
            "marker": {
             "colorbar": {
              "outlinewidth": 0,
              "ticks": ""
             }
            },
            "type": "scattermapbox"
           }
          ],
          "scatterpolar": [
           {
            "marker": {
             "colorbar": {
              "outlinewidth": 0,
              "ticks": ""
             }
            },
            "type": "scatterpolar"
           }
          ],
          "scatterpolargl": [
           {
            "marker": {
             "colorbar": {
              "outlinewidth": 0,
              "ticks": ""
             }
            },
            "type": "scatterpolargl"
           }
          ],
          "scatterternary": [
           {
            "marker": {
             "colorbar": {
              "outlinewidth": 0,
              "ticks": ""
             }
            },
            "type": "scatterternary"
           }
          ],
          "surface": [
           {
            "colorbar": {
             "outlinewidth": 0,
             "ticks": ""
            },
            "colorscale": [
             [
              0,
              "#0d0887"
             ],
             [
              0.1111111111111111,
              "#46039f"
             ],
             [
              0.2222222222222222,
              "#7201a8"
             ],
             [
              0.3333333333333333,
              "#9c179e"
             ],
             [
              0.4444444444444444,
              "#bd3786"
             ],
             [
              0.5555555555555556,
              "#d8576b"
             ],
             [
              0.6666666666666666,
              "#ed7953"
             ],
             [
              0.7777777777777778,
              "#fb9f3a"
             ],
             [
              0.8888888888888888,
              "#fdca26"
             ],
             [
              1,
              "#f0f921"
             ]
            ],
            "type": "surface"
           }
          ],
          "table": [
           {
            "cells": {
             "fill": {
              "color": "#EBF0F8"
             },
             "line": {
              "color": "white"
             }
            },
            "header": {
             "fill": {
              "color": "#C8D4E3"
             },
             "line": {
              "color": "white"
             }
            },
            "type": "table"
           }
          ]
         },
         "layout": {
          "annotationdefaults": {
           "arrowcolor": "#2a3f5f",
           "arrowhead": 0,
           "arrowwidth": 1
          },
          "autotypenumbers": "strict",
          "coloraxis": {
           "colorbar": {
            "outlinewidth": 0,
            "ticks": ""
           }
          },
          "colorscale": {
           "diverging": [
            [
             0,
             "#8e0152"
            ],
            [
             0.1,
             "#c51b7d"
            ],
            [
             0.2,
             "#de77ae"
            ],
            [
             0.3,
             "#f1b6da"
            ],
            [
             0.4,
             "#fde0ef"
            ],
            [
             0.5,
             "#f7f7f7"
            ],
            [
             0.6,
             "#e6f5d0"
            ],
            [
             0.7,
             "#b8e186"
            ],
            [
             0.8,
             "#7fbc41"
            ],
            [
             0.9,
             "#4d9221"
            ],
            [
             1,
             "#276419"
            ]
           ],
           "sequential": [
            [
             0,
             "#0d0887"
            ],
            [
             0.1111111111111111,
             "#46039f"
            ],
            [
             0.2222222222222222,
             "#7201a8"
            ],
            [
             0.3333333333333333,
             "#9c179e"
            ],
            [
             0.4444444444444444,
             "#bd3786"
            ],
            [
             0.5555555555555556,
             "#d8576b"
            ],
            [
             0.6666666666666666,
             "#ed7953"
            ],
            [
             0.7777777777777778,
             "#fb9f3a"
            ],
            [
             0.8888888888888888,
             "#fdca26"
            ],
            [
             1,
             "#f0f921"
            ]
           ],
           "sequentialminus": [
            [
             0,
             "#0d0887"
            ],
            [
             0.1111111111111111,
             "#46039f"
            ],
            [
             0.2222222222222222,
             "#7201a8"
            ],
            [
             0.3333333333333333,
             "#9c179e"
            ],
            [
             0.4444444444444444,
             "#bd3786"
            ],
            [
             0.5555555555555556,
             "#d8576b"
            ],
            [
             0.6666666666666666,
             "#ed7953"
            ],
            [
             0.7777777777777778,
             "#fb9f3a"
            ],
            [
             0.8888888888888888,
             "#fdca26"
            ],
            [
             1,
             "#f0f921"
            ]
           ]
          },
          "colorway": [
           "#636efa",
           "#EF553B",
           "#00cc96",
           "#ab63fa",
           "#FFA15A",
           "#19d3f3",
           "#FF6692",
           "#B6E880",
           "#FF97FF",
           "#FECB52"
          ],
          "font": {
           "color": "#2a3f5f"
          },
          "geo": {
           "bgcolor": "white",
           "lakecolor": "white",
           "landcolor": "#E5ECF6",
           "showlakes": true,
           "showland": true,
           "subunitcolor": "white"
          },
          "hoverlabel": {
           "align": "left"
          },
          "hovermode": "closest",
          "mapbox": {
           "style": "light"
          },
          "paper_bgcolor": "white",
          "plot_bgcolor": "#E5ECF6",
          "polar": {
           "angularaxis": {
            "gridcolor": "white",
            "linecolor": "white",
            "ticks": ""
           },
           "bgcolor": "#E5ECF6",
           "radialaxis": {
            "gridcolor": "white",
            "linecolor": "white",
            "ticks": ""
           }
          },
          "scene": {
           "xaxis": {
            "backgroundcolor": "#E5ECF6",
            "gridcolor": "white",
            "gridwidth": 2,
            "linecolor": "white",
            "showbackground": true,
            "ticks": "",
            "zerolinecolor": "white"
           },
           "yaxis": {
            "backgroundcolor": "#E5ECF6",
            "gridcolor": "white",
            "gridwidth": 2,
            "linecolor": "white",
            "showbackground": true,
            "ticks": "",
            "zerolinecolor": "white"
           },
           "zaxis": {
            "backgroundcolor": "#E5ECF6",
            "gridcolor": "white",
            "gridwidth": 2,
            "linecolor": "white",
            "showbackground": true,
            "ticks": "",
            "zerolinecolor": "white"
           }
          },
          "shapedefaults": {
           "line": {
            "color": "#2a3f5f"
           }
          },
          "ternary": {
           "aaxis": {
            "gridcolor": "white",
            "linecolor": "white",
            "ticks": ""
           },
           "baxis": {
            "gridcolor": "white",
            "linecolor": "white",
            "ticks": ""
           },
           "bgcolor": "#E5ECF6",
           "caxis": {
            "gridcolor": "white",
            "linecolor": "white",
            "ticks": ""
           }
          },
          "title": {
           "x": 0.05
          },
          "xaxis": {
           "automargin": true,
           "gridcolor": "white",
           "linecolor": "white",
           "ticks": "",
           "title": {
            "standoff": 15
           },
           "zerolinecolor": "white",
           "zerolinewidth": 2
          },
          "yaxis": {
           "automargin": true,
           "gridcolor": "white",
           "linecolor": "white",
           "ticks": "",
           "title": {
            "standoff": 15
           },
           "zerolinecolor": "white",
           "zerolinewidth": 2
          }
         }
        },
        "title": {
         "text": "Rompimento7Dias x Rompimento 28 Dias"
        },
        "xaxis": {
         "anchor": "y",
         "domain": [
          0,
          1
         ],
         "title": {
          "text": "LogRompimento7Dias"
         }
        },
        "yaxis": {
         "anchor": "x",
         "domain": [
          0,
          1
         ],
         "title": {
          "text": "Rompimento28Dias"
         }
        }
       }
      },
      "text/html": [
       "<div>                            <div id=\"d8a1f69d-054d-482d-b4eb-f4f9d5764f14\" class=\"plotly-graph-div\" style=\"height:525px; width:100%;\"></div>            <script type=\"text/javascript\">                require([\"plotly\"], function(Plotly) {                    window.PLOTLYENV=window.PLOTLYENV || {};                                    if (document.getElementById(\"d8a1f69d-054d-482d-b4eb-f4f9d5764f14\")) {                    Plotly.newPlot(                        \"d8a1f69d-054d-482d-b4eb-f4f9d5764f14\",                        [{\"hovertemplate\": \"LogRompimento7Dias=%{x}<br>Rompimento28Dias=%{y}<extra></extra>\", \"legendgroup\": \"\", \"marker\": {\"color\": \"#636efa\", \"symbol\": \"circle\"}, \"mode\": \"markers\", \"name\": \"\", \"orientation\": \"v\", \"showlegend\": false, \"type\": \"scatter\", \"x\": [3.2476576262936527, 3.1888289035159043, 3.1880041612011136, 3.1548704948922883, 3.038791763014438, 3.0140632302387145, 3.0160249768217535, 2.9816333491744893, 3.222469360378331, 2.9533465570575532, 2.9433857931817817, 2.776954179749421, 2.840247370713596, 2.5128460184772416, 2.554121718809473, 3.1467351470905185, 3.1054831375131102, 3.139399623366404, 3.12412548832239, 3.1458749319837103, 2.991222118076105, 3.08876713952118, 3.0914968955383704, 3.219275744889528, 3.175968323856924, 3.1612467120315646, 3.2744997286161976, 3.267284964075888, 3.2386784521643803, 3.2565568918358894, 2.918851229218033, 2.8075938314384716, 2.7930039069823738, 2.9439125248241944, 3.0694473113762717, 2.8390784635086144, 3.067122269640664, 3.073618812211062, 2.869601996409779, 3.160398895109225, 3.052112606990099, 2.8820035082256483, 2.758109400974947, 2.5664866367804233, 2.6461747973841225, 2.8570447537800976, 2.5832425505088623, 2.6108048166633746, 2.658859956911438, 2.727199019940971, 2.641910398597665, 2.750470916986162, 2.604170070614818, 2.9231615807191558, 2.8390784635086144, 2.771963526845863, 3.005682604407159, 2.9338568698359038, 2.906354462402774, 3.279782759771722, 3.3833727967496032, 3.344979701663927, 2.9128939952449864, 3.1307001339644756, 2.826129489167811, 2.87976009730157, 3.2748780149834857, 3.0252910757955354, 3.2546289945740186, 3.033028058297688, 3.141130476243348, 3.110399348532117, 3.0525850851467737, 3.492864570187979, 3.4294608469350147, 3.5290040861498118, 3.435276695315018, 3.6044102974874863, 3.418054498728578, 3.641263600172273, 3.3854066957558313, 3.282038399825841, 3.111735949310297, 3.2160718975354663, 3.219275744889528, 3.279029747687948, 3.2924979647388146, 3.212455257065278, 3.1908877883280318, 3.2406373166497136, 3.305787196857497, 3.159550358783386, 3.3769046890931107, 3.279782759771722, 3.301008654406723, 3.3196257279683437, 3.2865344733420154, 3.2733640101522705, 3.447762850809476, 3.445852022202587, 3.4679210137050633, 3.487986511734546, 3.1587011018321305, 3.4550540544528663, 3.4685444551217657, 3.367640598133313, 3.188416617383492, 3.228430037673012, 3.3368366225017656, 3.2511493854184965, 3.333275365176697, 3.1880041612011136, 3.3141860046725258, 3.166740070447672, 3.342508385313476, 3.3174533882291946, 3.1851121947153915, 3.39484390768998, 3.045474365448805, 3.0473755067058295, 3.228430037673012, 3.1523085805960878, 3.2924979647388146, 3.1315734964654043, 3.1608228934195837, 3.2240623515555007, 3.202339856228101, 3.3786108829893595, 3.284288963416433, 3.2763897310688073, 3.3178157727231046, 3.2092294478163956, 3.0823685802135374, 2.9595868269176377, 2.949164637737656, 3.076851324838783, 3.104586678466073, 2.989714201228428, 3.2003044392827653, 3.1144038032714896, 3.242592351485517, 3.295836866004329, 3.2976870052924907, 3.3867603338643857, 3.325755186495297, 3.3575937441800234, 3.4151002868311466, 3.004692014925463, 3.0421386463681466, 3.201526186533088, 3.2055879305412653, 3.159550358783386, 3.070839746040796, 3.170525563927154, 2.970414465569701, 2.954910279033736, 3.1415627217655304, 2.7868613815264998, 2.7813006628418027, 3.2315945972759756, 3.0973859272804907, 3.1467351470905185, 3.292126286607793, 3.2406373166497136, 2.9699015135194693, 3.391147045808654, 3.4249139082794713, 3.2653776585196206, 3.2519236789144013, 3.3375473545856993, 3.415757532993485, 3.2627013044082305, 3.435276695315018, 3.418054498728578, 3.5201649007261984, 3.563032744247961, 3.4959013171314526, 3.4707234443107655, 3.126321843257593, 3.286908235260028, 3.2039652121324464, 3.358985532852846, 3.4127965175055075, 3.358985532852846, 3.4239368686316447, 3.4522073025699003, 3.2801590532850993, 3.3214324131932926, 3.3748534063225533, 3.248434627109745, 3.298795448044074, 3.2386784521643803, 3.238286218388024, 3.354455119110024, 3.34109345759245, 3.3506055955460954, 3.5049566159530077, 3.56784112573688, 3.443298557680791, 3.5703774100329357, 3.5263605246161616, 3.3628029936748436, 3.3530570063342204, 3.2726061472891685, 3.3336320621663895, 3.2816628129669656, 3.4236109764990554, 3.1424266527047946, 3.202339856228101, 3.263849190510932, 3.1276373444339294, 3.2011191032789417, 2.944965156500338, 2.9785861147190205, 2.8741294517947424, 3.1826266921930797, 3.139832617527748, 3.1232455938529506, 3.170105660498771, 3.074543453978281, 3.0430928449138284, 3.0339909856710814, 3.0344721018699214, 3.067587710654419, 2.9719517448885875, 3.229222116922345, 3.0577676644734435, 3.1531632815028194, 3.1293886583666644, 3.1763857732472487, 3.074543453978281, 3.087399462079815, 3.08876713952118, 2.950211758252182, 2.9987277825337895, 3.070839746040796, 3.0791538816930633, 3.40684805317097, 3.3046864812813115, 3.25848107946056, 3.195811885269649, 3.3690184832979204, 3.170525563927154, 3.311637304949512, 3.141130476243348, 3.2355362657613083, 3.2051824977361982, 3.1458749319837103, 3.2144661163795005, 3.27601201623901, 3.1908877883280318, 3.315276319154516, 3.126760535960395, 3.222469360378331, 3.231989464013584, 3.3721118007670587, 3.3541057741283047, 3.3043193066856684, 3.2240623515555007, 3.1826266921930797, 3.151025157960026, 3.1565747986708215, 3.27601201623901, 3.2902658209548736, 3.21124679770371, 3.0740812399649675, 3.238286218388024, 3.096029994869355, 3.044522437723423, 3.091042453358316, 3.0978374964911444, 3.0506938316279655, 3.109060958860994, 2.8587664184808337, 2.9816333491744893, 2.9785861147190205, 3.100542637906336, 3.089677886396519, 2.89977188240808, 3.028683373693677, 2.9882040071331994, 3.133753571451366, 2.9785861147190205, 2.8936995479888394, 2.9932291433358724, 2.991724252156452, 2.9987277825337895, 3.094219220268645, 3.052112606990099, 3.339321977944068, 3.0378334495726262, 3.1493113614822916, 3.096029994869355, 3.1629401925378975, 3.184284380098582, 3.1514531485507664, 3.1126260250254902, 3.1328821117012247, 3.1245651453969594, 3.1570004211501135, 3.292126286607793, 3.1315734964654043, 3.192531849528599, 3.3282682016393976, 3.255014871484074, 3.1293886583666644, 3.311637304949512, 3.462606009790799, 3.448080967561006, 3.436242723404956, 3.4553698605505483, 3.3703944725071104, 3.367640598133313, 3.4317265866969784, 2.785628335747585, 2.9512577834521614, 3.214867803470662, 3.2072080200005186, 3.2228678461377385, 3.2208738275308737, 3.1250046092581303, 3.334701390373791, 3.2204745462318978, 3.484618989801228, 3.4830845411343394, 3.551053137206533, 3.3734835430946397, 3.383712067321136, 3.3995293245614584, 3.506457892319648, 3.569250966658405, 3.441379171294987, 3.500741011998417, 3.500137329517059, 3.4223063448723905, 3.331489969237335, 3.298795448044074, 3.2588654730843594, 3.2315945972759756, 3.239462458476589, 3.3572454941329726, 3.2906381910950917, 3.269568939183719, 3.201933104137889, 3.113959654918641, 3.2188758248682006, 3.051166980442092, 3.2371085931292605, 2.825536896557877, 3.285412348668445, 3.774368840129351, 3.4388142452334622, 3.0855729775537806, 3.043569602968151, 3.106826321059578, 3.087399462079815, 2.979094632400968, 3.1437211512674406, 2.8100049236252036, 2.749192144433385, 3.199896858270398], \"xaxis\": \"x\", \"y\": [35.08, 33.4, 31.72, 31.12, 28.39, 29.7, 27.47, 27.61, 31.63, 26.3, 27.13, 22.49, 24.66, 16.96, 20.15, 30.93, 31.9, 31.3, 30.83, 31.02, 30.3, 30.6, 30.6, 33.52, 32.47, 32.41, 32.14, 33.9, 32.83, 35.01, 25.32, 26.27, 25.46, 28.11, 30.02, 25.0, 31.89, 30.4, 30.58, 32.55, 27.38, 23.81, 22.79, 20.28, 23.33, 24.34, 20.74, 18.1, 21.53, 22.81, 20.43, 21.72, 20.52, 23.31, 22.72, 22.04, 24.11, 26.34, 25.23, 36.56, 37.59, 34.38, 27.27, 26.77, 24.99, 26.67, 29.5, 29.06, 31.79, 27.15, 28.49, 29.67, 28.73, 38.37, 37.64, 44.87, 43.54, 45.08, 37.38, 44.91, 37.72, 35.68, 31.77, 30.22, 32.61, 33.11, 36.06, 33.79, 31.01, 34.14, 36.59, 32.32, 36.4, 35.01, 36.48, 35.68, 37.27, 38.2, 39.58, 41.4, 38.88, 37.34, 33.03, 37.85, 36.12, 41.45, 32.42, 33.51, 37.2, 33.63, 38.44, 32.46, 32.78, 28.08, 33.8, 30.87, 26.86, 40.19, 29.78, 27.93, 30.76, 35.22, 36.01, 29.84, 30.51, 28.5, 32.35, 34.28, 32.74, 33.45, 33.71, 30.4, 29.56, 27.56, 28.85, 29.74, 30.78, 28.53, 31.74, 32.92, 35.62, 38.09, 36.31, 37.81, 35.4, 36.2, 35.11, 30.0, 26.39, 27.87, 28.99, 25.41, 25.14, 29.98, 25.54, 25.21, 32.73, 25.01, 24.54, 34.88, 29.67, 30.69, 36.28, 34.07, 28.25, 37.54, 39.53, 31.48, 29.69, 32.49, 35.22, 34.09, 35.22, 33.79, 37.96, 37.03, 37.66, 40.0, 32.44, 35.92, 31.86, 35.2, 35.89, 35.39, 40.53, 40.14, 34.91, 38.42, 36.59, 30.88, 34.0, 32.64, 30.87, 35.15, 31.94, 35.39, 37.73, 37.77, 38.36, 42.61, 43.19, 38.3, 37.46, 31.07, 32.51, 33.02, 38.61, 28.72, 30.44, 30.26, 27.53, 34.54, 26.54, 27.39, 21.2, 33.9, 31.71, 34.49, 35.72, 27.98, 26.02, 29.0, 27.06, 26.39, 24.03, 33.17, 27.43, 31.39, 28.41, 30.16, 29.92, 30.02, 29.46, 27.31, 28.38, 29.64, 30.5, 40.23, 39.69, 35.81, 34.7, 38.75, 30.32, 35.07, 29.37, 33.09, 31.39, 31.19, 31.76, 33.84, 30.49, 34.47, 29.24, 31.72, 38.11, 35.69, 37.13, 34.04, 33.82, 32.46, 30.58, 29.93, 34.49, 38.16, 32.56, 32.54, 32.31, 32.6, 29.51, 31.26, 32.16, 31.26, 33.01, 21.27, 23.67, 25.79, 29.67, 27.15, 22.14, 25.69, 23.59, 27.62, 24.96, 22.79, 22.12, 22.21, 22.79, 26.82, 25.29, 32.84, 26.07, 25.56, 26.66, 27.64, 26.95, 32.4, 27.28, 27.28, 29.56, 31.61, 37.24, 33.4, 36.56, 37.67, 33.07, 34.88, 40.21, 39.14, 36.4, 38.04, 40.48, 36.24, 35.22, 37.81, 22.25, 27.36, 31.42, 31.74, 30.62, 29.6, 28.29, 37.17, 34.45, 37.54, 39.44, 42.79, 37.86, 37.46, 36.98, 41.96, 44.3, 39.97, 42.35, 37.32, 36.4, 35.29, 35.55, 33.93, 34.74, 36.2, 32.68, 30.0, 30.44, 31.34, 29.48, 33.72, 28.94, 34.8, 21.92, 34.65, 49.94, 38.19, 28.88, 28.01, 29.1, 32.45, 25.68, 31.51, 22.32, 20.79, 33.29], \"yaxis\": \"y\"}],                        {\"legend\": {\"tracegroupgap\": 0}, \"template\": {\"data\": {\"bar\": [{\"error_x\": {\"color\": \"#2a3f5f\"}, \"error_y\": {\"color\": \"#2a3f5f\"}, \"marker\": {\"line\": {\"color\": \"#E5ECF6\", \"width\": 0.5}}, \"type\": \"bar\"}], \"barpolar\": [{\"marker\": {\"line\": {\"color\": \"#E5ECF6\", \"width\": 0.5}}, \"type\": \"barpolar\"}], \"carpet\": [{\"aaxis\": {\"endlinecolor\": \"#2a3f5f\", \"gridcolor\": \"white\", \"linecolor\": \"white\", \"minorgridcolor\": \"white\", \"startlinecolor\": \"#2a3f5f\"}, \"baxis\": {\"endlinecolor\": \"#2a3f5f\", \"gridcolor\": \"white\", \"linecolor\": \"white\", \"minorgridcolor\": \"white\", \"startlinecolor\": \"#2a3f5f\"}, \"type\": \"carpet\"}], \"choropleth\": [{\"colorbar\": {\"outlinewidth\": 0, \"ticks\": \"\"}, \"type\": \"choropleth\"}], \"contour\": [{\"colorbar\": {\"outlinewidth\": 0, \"ticks\": \"\"}, \"colorscale\": [[0.0, \"#0d0887\"], [0.1111111111111111, \"#46039f\"], [0.2222222222222222, \"#7201a8\"], [0.3333333333333333, \"#9c179e\"], [0.4444444444444444, \"#bd3786\"], [0.5555555555555556, \"#d8576b\"], [0.6666666666666666, \"#ed7953\"], [0.7777777777777778, \"#fb9f3a\"], [0.8888888888888888, \"#fdca26\"], [1.0, \"#f0f921\"]], \"type\": \"contour\"}], \"contourcarpet\": [{\"colorbar\": {\"outlinewidth\": 0, \"ticks\": \"\"}, \"type\": \"contourcarpet\"}], \"heatmap\": [{\"colorbar\": {\"outlinewidth\": 0, \"ticks\": \"\"}, \"colorscale\": [[0.0, \"#0d0887\"], [0.1111111111111111, \"#46039f\"], [0.2222222222222222, \"#7201a8\"], [0.3333333333333333, \"#9c179e\"], [0.4444444444444444, \"#bd3786\"], [0.5555555555555556, \"#d8576b\"], [0.6666666666666666, \"#ed7953\"], [0.7777777777777778, \"#fb9f3a\"], [0.8888888888888888, \"#fdca26\"], [1.0, \"#f0f921\"]], \"type\": \"heatmap\"}], \"heatmapgl\": [{\"colorbar\": {\"outlinewidth\": 0, \"ticks\": \"\"}, \"colorscale\": [[0.0, \"#0d0887\"], [0.1111111111111111, \"#46039f\"], [0.2222222222222222, \"#7201a8\"], [0.3333333333333333, \"#9c179e\"], [0.4444444444444444, \"#bd3786\"], [0.5555555555555556, \"#d8576b\"], [0.6666666666666666, \"#ed7953\"], [0.7777777777777778, \"#fb9f3a\"], [0.8888888888888888, \"#fdca26\"], [1.0, \"#f0f921\"]], \"type\": \"heatmapgl\"}], \"histogram\": [{\"marker\": {\"colorbar\": {\"outlinewidth\": 0, \"ticks\": \"\"}}, \"type\": \"histogram\"}], \"histogram2d\": [{\"colorbar\": {\"outlinewidth\": 0, \"ticks\": \"\"}, \"colorscale\": [[0.0, \"#0d0887\"], [0.1111111111111111, \"#46039f\"], [0.2222222222222222, \"#7201a8\"], [0.3333333333333333, \"#9c179e\"], [0.4444444444444444, \"#bd3786\"], [0.5555555555555556, \"#d8576b\"], [0.6666666666666666, \"#ed7953\"], [0.7777777777777778, \"#fb9f3a\"], [0.8888888888888888, \"#fdca26\"], [1.0, \"#f0f921\"]], \"type\": \"histogram2d\"}], \"histogram2dcontour\": [{\"colorbar\": {\"outlinewidth\": 0, \"ticks\": \"\"}, \"colorscale\": [[0.0, \"#0d0887\"], [0.1111111111111111, \"#46039f\"], [0.2222222222222222, \"#7201a8\"], [0.3333333333333333, \"#9c179e\"], [0.4444444444444444, \"#bd3786\"], [0.5555555555555556, \"#d8576b\"], [0.6666666666666666, \"#ed7953\"], [0.7777777777777778, \"#fb9f3a\"], [0.8888888888888888, \"#fdca26\"], [1.0, \"#f0f921\"]], \"type\": \"histogram2dcontour\"}], \"mesh3d\": [{\"colorbar\": {\"outlinewidth\": 0, \"ticks\": \"\"}, \"type\": \"mesh3d\"}], \"parcoords\": [{\"line\": {\"colorbar\": {\"outlinewidth\": 0, \"ticks\": \"\"}}, \"type\": \"parcoords\"}], \"pie\": [{\"automargin\": true, \"type\": \"pie\"}], \"scatter\": [{\"marker\": {\"colorbar\": {\"outlinewidth\": 0, \"ticks\": \"\"}}, \"type\": \"scatter\"}], \"scatter3d\": [{\"line\": {\"colorbar\": {\"outlinewidth\": 0, \"ticks\": \"\"}}, \"marker\": {\"colorbar\": {\"outlinewidth\": 0, \"ticks\": \"\"}}, \"type\": \"scatter3d\"}], \"scattercarpet\": [{\"marker\": {\"colorbar\": {\"outlinewidth\": 0, \"ticks\": \"\"}}, \"type\": \"scattercarpet\"}], \"scattergeo\": [{\"marker\": {\"colorbar\": {\"outlinewidth\": 0, \"ticks\": \"\"}}, \"type\": \"scattergeo\"}], \"scattergl\": [{\"marker\": {\"colorbar\": {\"outlinewidth\": 0, \"ticks\": \"\"}}, \"type\": \"scattergl\"}], \"scattermapbox\": [{\"marker\": {\"colorbar\": {\"outlinewidth\": 0, \"ticks\": \"\"}}, \"type\": \"scattermapbox\"}], \"scatterpolar\": [{\"marker\": {\"colorbar\": {\"outlinewidth\": 0, \"ticks\": \"\"}}, \"type\": \"scatterpolar\"}], \"scatterpolargl\": [{\"marker\": {\"colorbar\": {\"outlinewidth\": 0, \"ticks\": \"\"}}, \"type\": \"scatterpolargl\"}], \"scatterternary\": [{\"marker\": {\"colorbar\": {\"outlinewidth\": 0, \"ticks\": \"\"}}, \"type\": \"scatterternary\"}], \"surface\": [{\"colorbar\": {\"outlinewidth\": 0, \"ticks\": \"\"}, \"colorscale\": [[0.0, \"#0d0887\"], [0.1111111111111111, \"#46039f\"], [0.2222222222222222, \"#7201a8\"], [0.3333333333333333, \"#9c179e\"], [0.4444444444444444, \"#bd3786\"], [0.5555555555555556, \"#d8576b\"], [0.6666666666666666, \"#ed7953\"], [0.7777777777777778, \"#fb9f3a\"], [0.8888888888888888, \"#fdca26\"], [1.0, \"#f0f921\"]], \"type\": \"surface\"}], \"table\": [{\"cells\": {\"fill\": {\"color\": \"#EBF0F8\"}, \"line\": {\"color\": \"white\"}}, \"header\": {\"fill\": {\"color\": \"#C8D4E3\"}, \"line\": {\"color\": \"white\"}}, \"type\": \"table\"}]}, \"layout\": {\"annotationdefaults\": {\"arrowcolor\": \"#2a3f5f\", \"arrowhead\": 0, \"arrowwidth\": 1}, \"autotypenumbers\": \"strict\", \"coloraxis\": {\"colorbar\": {\"outlinewidth\": 0, \"ticks\": \"\"}}, \"colorscale\": {\"diverging\": [[0, \"#8e0152\"], [0.1, \"#c51b7d\"], [0.2, \"#de77ae\"], [0.3, \"#f1b6da\"], [0.4, \"#fde0ef\"], [0.5, \"#f7f7f7\"], [0.6, \"#e6f5d0\"], [0.7, \"#b8e186\"], [0.8, \"#7fbc41\"], [0.9, \"#4d9221\"], [1, \"#276419\"]], \"sequential\": [[0.0, \"#0d0887\"], [0.1111111111111111, \"#46039f\"], [0.2222222222222222, \"#7201a8\"], [0.3333333333333333, \"#9c179e\"], [0.4444444444444444, \"#bd3786\"], [0.5555555555555556, \"#d8576b\"], [0.6666666666666666, \"#ed7953\"], [0.7777777777777778, \"#fb9f3a\"], [0.8888888888888888, \"#fdca26\"], [1.0, \"#f0f921\"]], \"sequentialminus\": [[0.0, \"#0d0887\"], [0.1111111111111111, \"#46039f\"], [0.2222222222222222, \"#7201a8\"], [0.3333333333333333, \"#9c179e\"], [0.4444444444444444, \"#bd3786\"], [0.5555555555555556, \"#d8576b\"], [0.6666666666666666, \"#ed7953\"], [0.7777777777777778, \"#fb9f3a\"], [0.8888888888888888, \"#fdca26\"], [1.0, \"#f0f921\"]]}, \"colorway\": [\"#636efa\", \"#EF553B\", \"#00cc96\", \"#ab63fa\", \"#FFA15A\", \"#19d3f3\", \"#FF6692\", \"#B6E880\", \"#FF97FF\", \"#FECB52\"], \"font\": {\"color\": \"#2a3f5f\"}, \"geo\": {\"bgcolor\": \"white\", \"lakecolor\": \"white\", \"landcolor\": \"#E5ECF6\", \"showlakes\": true, \"showland\": true, \"subunitcolor\": \"white\"}, \"hoverlabel\": {\"align\": \"left\"}, \"hovermode\": \"closest\", \"mapbox\": {\"style\": \"light\"}, \"paper_bgcolor\": \"white\", \"plot_bgcolor\": \"#E5ECF6\", \"polar\": {\"angularaxis\": {\"gridcolor\": \"white\", \"linecolor\": \"white\", \"ticks\": \"\"}, \"bgcolor\": \"#E5ECF6\", \"radialaxis\": {\"gridcolor\": \"white\", \"linecolor\": \"white\", \"ticks\": \"\"}}, \"scene\": {\"xaxis\": {\"backgroundcolor\": \"#E5ECF6\", \"gridcolor\": \"white\", \"gridwidth\": 2, \"linecolor\": \"white\", \"showbackground\": true, \"ticks\": \"\", \"zerolinecolor\": \"white\"}, \"yaxis\": {\"backgroundcolor\": \"#E5ECF6\", \"gridcolor\": \"white\", \"gridwidth\": 2, \"linecolor\": \"white\", \"showbackground\": true, \"ticks\": \"\", \"zerolinecolor\": \"white\"}, \"zaxis\": {\"backgroundcolor\": \"#E5ECF6\", \"gridcolor\": \"white\", \"gridwidth\": 2, \"linecolor\": \"white\", \"showbackground\": true, \"ticks\": \"\", \"zerolinecolor\": \"white\"}}, \"shapedefaults\": {\"line\": {\"color\": \"#2a3f5f\"}}, \"ternary\": {\"aaxis\": {\"gridcolor\": \"white\", \"linecolor\": \"white\", \"ticks\": \"\"}, \"baxis\": {\"gridcolor\": \"white\", \"linecolor\": \"white\", \"ticks\": \"\"}, \"bgcolor\": \"#E5ECF6\", \"caxis\": {\"gridcolor\": \"white\", \"linecolor\": \"white\", \"ticks\": \"\"}}, \"title\": {\"x\": 0.05}, \"xaxis\": {\"automargin\": true, \"gridcolor\": \"white\", \"linecolor\": \"white\", \"ticks\": \"\", \"title\": {\"standoff\": 15}, \"zerolinecolor\": \"white\", \"zerolinewidth\": 2}, \"yaxis\": {\"automargin\": true, \"gridcolor\": \"white\", \"linecolor\": \"white\", \"ticks\": \"\", \"title\": {\"standoff\": 15}, \"zerolinecolor\": \"white\", \"zerolinewidth\": 2}}}, \"title\": {\"text\": \"Rompimento7Dias x Rompimento 28 Dias\"}, \"xaxis\": {\"anchor\": \"y\", \"domain\": [0.0, 1.0], \"title\": {\"text\": \"LogRompimento7Dias\"}}, \"yaxis\": {\"anchor\": \"x\", \"domain\": [0.0, 1.0], \"title\": {\"text\": \"Rompimento28Dias\"}}},                        {\"responsive\": true}                    ).then(function(){\n",
       "                            \n",
       "var gd = document.getElementById('d8a1f69d-054d-482d-b4eb-f4f9d5764f14');\n",
       "var x = new MutationObserver(function (mutations, observer) {{\n",
       "        var display = window.getComputedStyle(gd).display;\n",
       "        if (!display || display === 'none') {{\n",
       "            console.log([gd, 'removed!']);\n",
       "            Plotly.purge(gd);\n",
       "            observer.disconnect();\n",
       "        }}\n",
       "}});\n",
       "\n",
       "// Listen for the removal of the full notebook cells\n",
       "var notebookContainer = gd.closest('#notebook-container');\n",
       "if (notebookContainer) {{\n",
       "    x.observe(notebookContainer, {childList: true});\n",
       "}}\n",
       "\n",
       "// Listen for the clearing of the current output cell\n",
       "var outputEl = gd.closest('.output');\n",
       "if (outputEl) {{\n",
       "    x.observe(outputEl, {childList: true});\n",
       "}}\n",
       "\n",
       "                        })                };                });            </script>        </div>"
      ]
     },
     "metadata": {},
     "output_type": "display_data"
    }
   ],
   "source": [
    "fig = px.scatter(dados_aglomerante, x=\"LogRompimento7Dias\", y=\"Rompimento28Dias\", title='Rompimento7Dias x Rompimento 28 Dias')\n",
    "fig.show()"
   ]
  },
  {
   "cell_type": "code",
   "execution_count": 1266,
   "metadata": {},
   "outputs": [
    {
     "data": {
      "application/vnd.plotly.v1+json": {
       "config": {
        "plotlyServerURL": "https://plot.ly"
       },
       "data": [
        {
         "hovertemplate": "RelacaoAguaCimento=%{x}<br>Rompimento28Dias=%{y}<extra></extra>",
         "legendgroup": "",
         "marker": {
          "color": "#636efa",
          "symbol": "circle"
         },
         "mode": "markers",
         "name": "",
         "orientation": "v",
         "showlegend": false,
         "type": "scatter",
         "x": [
          0.5386740331491713,
          0.559375,
          0.678125,
          0.678125,
          0.678125,
          0.5802469135802469,
          0.5802469135802469,
          0.5802469135802469,
          0.6697530864197531,
          0.616822429906542,
          0.616822429906542,
          0.616822429906542,
          0.616822429906542,
          0.9230769230769232,
          0.9123711340206184,
          0.5338983050847458,
          0.5282485875706214,
          0.5338983050847458,
          0.5338983050847458,
          0.5338983050847458,
          0.5338983050847458,
          0.5338983050847458,
          0.53954802259887,
          0.4932975871313673,
          0.4932975871313673,
          0.4932975871313673,
          0.4932975871313673,
          0.4932975871313673,
          0.4932975871313673,
          0.4423592493297587,
          0.6182572614107884,
          0.6182572614107884,
          0.6182572614107884,
          0.6182572614107884,
          0.6016597510373444,
          0.5518672199170125,
          0.5684647302904564,
          0.5601659751037344,
          0.5601659751037344,
          0.5684647302904564,
          0.5684647302904564,
          0.7811158798283262,
          0.8127853881278538,
          0.8127853881278538,
          0.8264840182648402,
          0.8401826484018264,
          0.8401826484018264,
          0.8401826484018264,
          0.8401826484018264,
          0.8401826484018264,
          0.8401826484018264,
          0.8264840182648402,
          0.8264840182648402,
          0.8264840182648402,
          0.8264840182648402,
          0.776824034334764,
          0.7552742616033755,
          0.7412280701754386,
          0.7324561403508771,
          0.5376712328767124,
          0.5958904109589042,
          0.5958904109589042,
          0.5682656826568265,
          0.5709342560553633,
          0.5709342560553633,
          0.5709342560553633,
          0.5605536332179931,
          0.5605536332179931,
          0.5190311418685121,
          0.6794425087108014,
          0.6832740213523132,
          0.6832740213523132,
          0.5587188612099644,
          0.4937106918238994,
          0.4937106918238994,
          0.4622641509433962,
          0.4622641509433962,
          0.4622641509433962,
          0.4622641509433962,
          0.4716981132075472,
          0.4716981132075472,
          0.6146496815286624,
          0.6372881355932203,
          0.6324503311258278,
          0.6324503311258278,
          0.6490066225165563,
          0.6490066225165563,
          0.6490066225165563,
          0.6357615894039735,
          0.6158940397350994,
          0.6158940397350994,
          0.6158940397350994,
          0.6158940397350994,
          0.6096774193548387,
          0.6096774193548387,
          0.6096774193548387,
          0.6096774193548387,
          0.6096774193548387,
          0.6096774193548387,
          0.6096774193548387,
          0.6141479099678456,
          0.6187290969899666,
          0.6220735785953178,
          0.6287625418060201,
          0.6472602739726028,
          0.6267123287671232,
          0.6702898550724637,
          0.6702898550724637,
          0.6702898550724637,
          0.6702898550724637,
          0.6702898550724637,
          0.7105263157894737,
          0.7105263157894737,
          0.7269230769230769,
          0.7142857142857143,
          0.7142857142857143,
          0.7255639097744361,
          0.6084142394822006,
          0.5588235294117647,
          0.5,
          0.5,
          0.5330882352941176,
          0.5073529411764706,
          0.5073529411764706,
          0.5073529411764706,
          0.5183823529411765,
          0.5183823529411765,
          0.5588235294117647,
          0.5183823529411765,
          0.5183823529411765,
          0.5183823529411765,
          0.5187165775401069,
          0.703125,
          0.703125,
          0.703125,
          0.6908396946564885,
          0.6717557251908397,
          0.6856060606060606,
          0.678030303030303,
          0.6590909090909091,
          0.6856060606060606,
          0.6439393939393939,
          0.6856060606060606,
          0.6856060606060606,
          0.6856060606060606,
          0.6818181818181818,
          0.6818181818181818,
          0.7131147540983607,
          0.7377049180327869,
          0.639344262295082,
          0.6311475409836066,
          0.6311475409836066,
          0.6311475409836066,
          0.6309012875536479,
          0.7665198237885462,
          0.8017621145374451,
          0.7841409691629956,
          0.8144796380090498,
          0.8017621145374451,
          0.6893939393939394,
          0.5359712230215827,
          0.5035971223021583,
          0.5179856115107914,
          0.5359712230215827,
          0.68,
          0.4861538461538462,
          0.4861538461538462,
          0.4646153846153846,
          0.4646153846153846,
          0.4646153846153846,
          0.4738461538461538,
          0.4738461538461538,
          0.4953846153846154,
          0.4953846153846154,
          0.4953846153846154,
          0.4953846153846154,
          0.4953846153846154,
          0.4953846153846154,
          0.6132075471698113,
          0.610062893081761,
          0.610062893081761,
          0.5835866261398176,
          0.5835866261398176,
          0.5835866261398176,
          0.5927051671732523,
          0.5927051671732523,
          0.5927051671732523,
          0.5927051671732523,
          0.5927051671732523,
          0.5927051671732523,
          0.5927051671732523,
          0.6416938110749185,
          0.6416938110749185,
          0.6175548589341693,
          0.6175548589341693,
          0.6175548589341693,
          0.5422885572139303,
          0.5422885572139303,
          0.6261682242990654,
          0.6261682242990654,
          0.6261682242990654,
          0.6261682242990654,
          0.6261682242990654,
          0.6323987538940811,
          0.6323987538940811,
          0.6326064382139148,
          0.7208480565371025,
          0.7326007326007326,
          0.746268656716418,
          0.7326007326007326,
          0.7326007326007326,
          0.7352941176470589,
          0.7670682730923695,
          0.7670682730923695,
          0.7991803278688525,
          0.6797153024911032,
          0.6797153024911032,
          0.6797153024911032,
          0.6797153024911032,
          0.7089552238805971,
          0.7089552238805971,
          0.7089552238805971,
          0.7089552238805971,
          0.7276119402985075,
          0.7276119402985075,
          0.7089552238805971,
          0.6902985074626866,
          0.6902985074626866,
          0.6902985074626866,
          0.6902985074626866,
          0.7014925373134329,
          0.7014925373134329,
          0.6925894618202311,
          0.6992481203007519,
          0.7014925373134329,
          0.7014925373134329,
          0.6865671641791045,
          0.6581818181818182,
          0.6436363636363637,
          0.509090909090909,
          0.509090909090909,
          0.509090909090909,
          0.7391304347826086,
          0.7391304347826086,
          0.7391304347826086,
          0.7391304347826086,
          0.7391304347826086,
          0.7391304347826086,
          0.7391304347826086,
          0.7470355731225297,
          0.7470355731225297,
          0.7470355731225297,
          0.7233201581027668,
          0.7233201581027668,
          0.7233201581027668,
          0.7233201581027668,
          0.7233201581027668,
          0.7233201581027668,
          0.7233201581027668,
          0.7233201581027668,
          0.7233201581027668,
          0.7430830039525692,
          0.7391304347826086,
          0.7391304347826086,
          0.7391304347826086,
          0.7391304347826086,
          0.7401574803149606,
          0.7322834645669292,
          0.7401574803149606,
          0.7401574803149606,
          0.7401574803149606,
          0.7401574803149606,
          0.7401574803149606,
          0.8430493273542601,
          0.8209606986899564,
          0.8384279475982532,
          0.8209606986899564,
          0.8384279475982532,
          0.8296943231441049,
          0.8296943231441049,
          0.8296943231441049,
          0.8296943231441049,
          0.852017937219731,
          0.8296943231441049,
          0.852017937219731,
          0.8296943231441049,
          0.8384279475982532,
          0.8427947598253275,
          0.8427947598253275,
          0.8427947598253275,
          0.7161572052401747,
          0.7161572052401747,
          0.7161572052401747,
          0.7161572052401747,
          0.7161572052401747,
          0.7116104868913857,
          0.704119850187266,
          0.7203065134099617,
          0.6859205776173285,
          0.6859205776173285,
          0.6859205776173285,
          0.6859205776173285,
          0.6859205776173285,
          0.6859205776173285,
          0.6787003610108303,
          0.6787003610108303,
          0.6044749188018765,
          0.5947712418300654,
          0.5947712418300654,
          0.5947712418300654,
          0.5980392156862745,
          0.5980392156862745,
          0.6405228758169934,
          0.6405228758169934,
          0.7738095238095238,
          0.7658730158730159,
          0.6113289760348584,
          0.6113289760348584,
          0.6274509803921569,
          0.6274509803921569,
          0.6274509803921569,
          0.6111111111111112,
          0.6158536585365854,
          0.5911764705882353,
          0.5970588235294118,
          0.5941176470588235,
          0.5941176470588235,
          0.5941176470588235,
          0.5941176470588235,
          0.5941176470588235,
          0.5941176470588235,
          0.5852941176470589,
          0.5852941176470589,
          0.5941176470588235,
          0.5941176470588235,
          0.6349206349206349,
          0.6349206349206349,
          0.6349206349206349,
          0.6349206349206349,
          0.6285714285714286,
          0.6317460317460317,
          0.6317460317460317,
          0.6822742474916388,
          0.6666666666666666,
          0.6925795053003534,
          0.6925795053003534,
          0.6925795053003534,
          0.6925795053003534,
          0.8,
          0.6881028938906752,
          0.554016620498615,
          0.554016620498615,
          0.6391752577319587,
          0.7052631578947368,
          0.6779661016949152,
          0.6779661016949152,
          0.688135593220339,
          0.688135593220339,
          0.8546255506607929,
          0.8595203132648067,
          0.76171875
         ],
         "xaxis": "x",
         "y": [
          35.08,
          33.4,
          31.72,
          31.12,
          28.39,
          29.7,
          27.47,
          27.61,
          31.63,
          26.3,
          27.13,
          22.49,
          24.66,
          16.96,
          20.15,
          30.93,
          31.9,
          31.3,
          30.83,
          31.02,
          30.3,
          30.6,
          30.6,
          33.52,
          32.47,
          32.41,
          32.14,
          33.9,
          32.83,
          35.01,
          25.32,
          26.27,
          25.46,
          28.11,
          30.02,
          25,
          31.89,
          30.4,
          30.58,
          32.55,
          27.38,
          23.81,
          22.79,
          20.28,
          23.33,
          24.34,
          20.74,
          18.1,
          21.53,
          22.81,
          20.43,
          21.72,
          20.52,
          23.31,
          22.72,
          22.04,
          24.11,
          26.34,
          25.23,
          36.56,
          37.59,
          34.38,
          27.27,
          26.77,
          24.99,
          26.67,
          29.5,
          29.06,
          31.79,
          27.15,
          28.49,
          29.67,
          28.73,
          38.37,
          37.64,
          44.87,
          43.54,
          45.08,
          37.38,
          44.91,
          37.72,
          35.68,
          31.77,
          30.22,
          32.61,
          33.11,
          36.06,
          33.79,
          31.01,
          34.14,
          36.59,
          32.32,
          36.4,
          35.01,
          36.48,
          35.68,
          37.27,
          38.2,
          39.58,
          41.4,
          38.88,
          37.34,
          33.03,
          37.85,
          36.12,
          41.45,
          32.42,
          33.51,
          37.2,
          33.63,
          38.44,
          32.46,
          32.78,
          28.08,
          33.8,
          30.87,
          26.86,
          40.19,
          29.78,
          27.93,
          30.76,
          35.22,
          36.01,
          29.84,
          30.51,
          28.5,
          32.35,
          34.28,
          32.74,
          33.45,
          33.71,
          30.4,
          29.56,
          27.56,
          28.85,
          29.74,
          30.78,
          28.53,
          31.74,
          32.92,
          35.62,
          38.09,
          36.31,
          37.81,
          35.4,
          36.2,
          35.11,
          30,
          26.39,
          27.87,
          28.99,
          25.41,
          25.14,
          29.98,
          25.54,
          25.21,
          32.73,
          25.01,
          24.54,
          34.88,
          29.67,
          30.69,
          36.28,
          34.07,
          28.25,
          37.54,
          39.53,
          31.48,
          29.69,
          32.49,
          35.22,
          34.09,
          35.22,
          33.79,
          37.96,
          37.03,
          37.66,
          40,
          32.44,
          35.92,
          31.86,
          35.2,
          35.89,
          35.39,
          40.53,
          40.14,
          34.91,
          38.42,
          36.59,
          30.88,
          34,
          32.64,
          30.87,
          35.15,
          31.94,
          35.39,
          37.73,
          37.77,
          38.36,
          42.61,
          43.19,
          38.3,
          37.46,
          31.07,
          32.51,
          33.02,
          38.61,
          28.72,
          30.44,
          30.26,
          27.53,
          34.54,
          26.54,
          27.39,
          21.2,
          33.9,
          31.71,
          34.49,
          35.72,
          27.98,
          26.02,
          29,
          27.06,
          26.39,
          24.03,
          33.17,
          27.43,
          31.39,
          28.41,
          30.16,
          29.92,
          30.02,
          29.46,
          27.31,
          28.38,
          29.64,
          30.5,
          40.23,
          39.69,
          35.81,
          34.7,
          38.75,
          30.32,
          35.07,
          29.37,
          33.09,
          31.39,
          31.19,
          31.76,
          33.84,
          30.49,
          34.47,
          29.24,
          31.72,
          38.11,
          35.69,
          37.13,
          34.04,
          33.82,
          32.46,
          30.58,
          29.93,
          34.49,
          38.16,
          32.56,
          32.54,
          32.31,
          32.6,
          29.51,
          31.26,
          32.16,
          31.26,
          33.01,
          21.27,
          23.67,
          25.79,
          29.67,
          27.15,
          22.14,
          25.69,
          23.59,
          27.62,
          24.96,
          22.79,
          22.12,
          22.21,
          22.79,
          26.82,
          25.29,
          32.84,
          26.07,
          25.56,
          26.66,
          27.64,
          26.95,
          32.4,
          27.28,
          27.28,
          29.56,
          31.61,
          37.24,
          33.4,
          36.56,
          37.67,
          33.07,
          34.88,
          40.21,
          39.14,
          36.4,
          38.04,
          40.48,
          36.24,
          35.22,
          37.81,
          22.25,
          27.36,
          31.42,
          31.74,
          30.62,
          29.6,
          28.29,
          37.17,
          34.45,
          37.54,
          39.44,
          42.79,
          37.86,
          37.46,
          36.98,
          41.96,
          44.3,
          39.97,
          42.35,
          37.32,
          36.4,
          35.29,
          35.55,
          33.93,
          34.74,
          36.2,
          32.68,
          30,
          30.44,
          31.34,
          29.48,
          33.72,
          28.94,
          34.8,
          21.92,
          34.65,
          49.94,
          38.19,
          28.88,
          28.01,
          29.1,
          32.45,
          25.68,
          31.51,
          22.32,
          20.79,
          33.29
         ],
         "yaxis": "y"
        }
       ],
       "layout": {
        "legend": {
         "tracegroupgap": 0
        },
        "template": {
         "data": {
          "bar": [
           {
            "error_x": {
             "color": "#2a3f5f"
            },
            "error_y": {
             "color": "#2a3f5f"
            },
            "marker": {
             "line": {
              "color": "#E5ECF6",
              "width": 0.5
             }
            },
            "type": "bar"
           }
          ],
          "barpolar": [
           {
            "marker": {
             "line": {
              "color": "#E5ECF6",
              "width": 0.5
             }
            },
            "type": "barpolar"
           }
          ],
          "carpet": [
           {
            "aaxis": {
             "endlinecolor": "#2a3f5f",
             "gridcolor": "white",
             "linecolor": "white",
             "minorgridcolor": "white",
             "startlinecolor": "#2a3f5f"
            },
            "baxis": {
             "endlinecolor": "#2a3f5f",
             "gridcolor": "white",
             "linecolor": "white",
             "minorgridcolor": "white",
             "startlinecolor": "#2a3f5f"
            },
            "type": "carpet"
           }
          ],
          "choropleth": [
           {
            "colorbar": {
             "outlinewidth": 0,
             "ticks": ""
            },
            "type": "choropleth"
           }
          ],
          "contour": [
           {
            "colorbar": {
             "outlinewidth": 0,
             "ticks": ""
            },
            "colorscale": [
             [
              0,
              "#0d0887"
             ],
             [
              0.1111111111111111,
              "#46039f"
             ],
             [
              0.2222222222222222,
              "#7201a8"
             ],
             [
              0.3333333333333333,
              "#9c179e"
             ],
             [
              0.4444444444444444,
              "#bd3786"
             ],
             [
              0.5555555555555556,
              "#d8576b"
             ],
             [
              0.6666666666666666,
              "#ed7953"
             ],
             [
              0.7777777777777778,
              "#fb9f3a"
             ],
             [
              0.8888888888888888,
              "#fdca26"
             ],
             [
              1,
              "#f0f921"
             ]
            ],
            "type": "contour"
           }
          ],
          "contourcarpet": [
           {
            "colorbar": {
             "outlinewidth": 0,
             "ticks": ""
            },
            "type": "contourcarpet"
           }
          ],
          "heatmap": [
           {
            "colorbar": {
             "outlinewidth": 0,
             "ticks": ""
            },
            "colorscale": [
             [
              0,
              "#0d0887"
             ],
             [
              0.1111111111111111,
              "#46039f"
             ],
             [
              0.2222222222222222,
              "#7201a8"
             ],
             [
              0.3333333333333333,
              "#9c179e"
             ],
             [
              0.4444444444444444,
              "#bd3786"
             ],
             [
              0.5555555555555556,
              "#d8576b"
             ],
             [
              0.6666666666666666,
              "#ed7953"
             ],
             [
              0.7777777777777778,
              "#fb9f3a"
             ],
             [
              0.8888888888888888,
              "#fdca26"
             ],
             [
              1,
              "#f0f921"
             ]
            ],
            "type": "heatmap"
           }
          ],
          "heatmapgl": [
           {
            "colorbar": {
             "outlinewidth": 0,
             "ticks": ""
            },
            "colorscale": [
             [
              0,
              "#0d0887"
             ],
             [
              0.1111111111111111,
              "#46039f"
             ],
             [
              0.2222222222222222,
              "#7201a8"
             ],
             [
              0.3333333333333333,
              "#9c179e"
             ],
             [
              0.4444444444444444,
              "#bd3786"
             ],
             [
              0.5555555555555556,
              "#d8576b"
             ],
             [
              0.6666666666666666,
              "#ed7953"
             ],
             [
              0.7777777777777778,
              "#fb9f3a"
             ],
             [
              0.8888888888888888,
              "#fdca26"
             ],
             [
              1,
              "#f0f921"
             ]
            ],
            "type": "heatmapgl"
           }
          ],
          "histogram": [
           {
            "marker": {
             "colorbar": {
              "outlinewidth": 0,
              "ticks": ""
             }
            },
            "type": "histogram"
           }
          ],
          "histogram2d": [
           {
            "colorbar": {
             "outlinewidth": 0,
             "ticks": ""
            },
            "colorscale": [
             [
              0,
              "#0d0887"
             ],
             [
              0.1111111111111111,
              "#46039f"
             ],
             [
              0.2222222222222222,
              "#7201a8"
             ],
             [
              0.3333333333333333,
              "#9c179e"
             ],
             [
              0.4444444444444444,
              "#bd3786"
             ],
             [
              0.5555555555555556,
              "#d8576b"
             ],
             [
              0.6666666666666666,
              "#ed7953"
             ],
             [
              0.7777777777777778,
              "#fb9f3a"
             ],
             [
              0.8888888888888888,
              "#fdca26"
             ],
             [
              1,
              "#f0f921"
             ]
            ],
            "type": "histogram2d"
           }
          ],
          "histogram2dcontour": [
           {
            "colorbar": {
             "outlinewidth": 0,
             "ticks": ""
            },
            "colorscale": [
             [
              0,
              "#0d0887"
             ],
             [
              0.1111111111111111,
              "#46039f"
             ],
             [
              0.2222222222222222,
              "#7201a8"
             ],
             [
              0.3333333333333333,
              "#9c179e"
             ],
             [
              0.4444444444444444,
              "#bd3786"
             ],
             [
              0.5555555555555556,
              "#d8576b"
             ],
             [
              0.6666666666666666,
              "#ed7953"
             ],
             [
              0.7777777777777778,
              "#fb9f3a"
             ],
             [
              0.8888888888888888,
              "#fdca26"
             ],
             [
              1,
              "#f0f921"
             ]
            ],
            "type": "histogram2dcontour"
           }
          ],
          "mesh3d": [
           {
            "colorbar": {
             "outlinewidth": 0,
             "ticks": ""
            },
            "type": "mesh3d"
           }
          ],
          "parcoords": [
           {
            "line": {
             "colorbar": {
              "outlinewidth": 0,
              "ticks": ""
             }
            },
            "type": "parcoords"
           }
          ],
          "pie": [
           {
            "automargin": true,
            "type": "pie"
           }
          ],
          "scatter": [
           {
            "marker": {
             "colorbar": {
              "outlinewidth": 0,
              "ticks": ""
             }
            },
            "type": "scatter"
           }
          ],
          "scatter3d": [
           {
            "line": {
             "colorbar": {
              "outlinewidth": 0,
              "ticks": ""
             }
            },
            "marker": {
             "colorbar": {
              "outlinewidth": 0,
              "ticks": ""
             }
            },
            "type": "scatter3d"
           }
          ],
          "scattercarpet": [
           {
            "marker": {
             "colorbar": {
              "outlinewidth": 0,
              "ticks": ""
             }
            },
            "type": "scattercarpet"
           }
          ],
          "scattergeo": [
           {
            "marker": {
             "colorbar": {
              "outlinewidth": 0,
              "ticks": ""
             }
            },
            "type": "scattergeo"
           }
          ],
          "scattergl": [
           {
            "marker": {
             "colorbar": {
              "outlinewidth": 0,
              "ticks": ""
             }
            },
            "type": "scattergl"
           }
          ],
          "scattermapbox": [
           {
            "marker": {
             "colorbar": {
              "outlinewidth": 0,
              "ticks": ""
             }
            },
            "type": "scattermapbox"
           }
          ],
          "scatterpolar": [
           {
            "marker": {
             "colorbar": {
              "outlinewidth": 0,
              "ticks": ""
             }
            },
            "type": "scatterpolar"
           }
          ],
          "scatterpolargl": [
           {
            "marker": {
             "colorbar": {
              "outlinewidth": 0,
              "ticks": ""
             }
            },
            "type": "scatterpolargl"
           }
          ],
          "scatterternary": [
           {
            "marker": {
             "colorbar": {
              "outlinewidth": 0,
              "ticks": ""
             }
            },
            "type": "scatterternary"
           }
          ],
          "surface": [
           {
            "colorbar": {
             "outlinewidth": 0,
             "ticks": ""
            },
            "colorscale": [
             [
              0,
              "#0d0887"
             ],
             [
              0.1111111111111111,
              "#46039f"
             ],
             [
              0.2222222222222222,
              "#7201a8"
             ],
             [
              0.3333333333333333,
              "#9c179e"
             ],
             [
              0.4444444444444444,
              "#bd3786"
             ],
             [
              0.5555555555555556,
              "#d8576b"
             ],
             [
              0.6666666666666666,
              "#ed7953"
             ],
             [
              0.7777777777777778,
              "#fb9f3a"
             ],
             [
              0.8888888888888888,
              "#fdca26"
             ],
             [
              1,
              "#f0f921"
             ]
            ],
            "type": "surface"
           }
          ],
          "table": [
           {
            "cells": {
             "fill": {
              "color": "#EBF0F8"
             },
             "line": {
              "color": "white"
             }
            },
            "header": {
             "fill": {
              "color": "#C8D4E3"
             },
             "line": {
              "color": "white"
             }
            },
            "type": "table"
           }
          ]
         },
         "layout": {
          "annotationdefaults": {
           "arrowcolor": "#2a3f5f",
           "arrowhead": 0,
           "arrowwidth": 1
          },
          "autotypenumbers": "strict",
          "coloraxis": {
           "colorbar": {
            "outlinewidth": 0,
            "ticks": ""
           }
          },
          "colorscale": {
           "diverging": [
            [
             0,
             "#8e0152"
            ],
            [
             0.1,
             "#c51b7d"
            ],
            [
             0.2,
             "#de77ae"
            ],
            [
             0.3,
             "#f1b6da"
            ],
            [
             0.4,
             "#fde0ef"
            ],
            [
             0.5,
             "#f7f7f7"
            ],
            [
             0.6,
             "#e6f5d0"
            ],
            [
             0.7,
             "#b8e186"
            ],
            [
             0.8,
             "#7fbc41"
            ],
            [
             0.9,
             "#4d9221"
            ],
            [
             1,
             "#276419"
            ]
           ],
           "sequential": [
            [
             0,
             "#0d0887"
            ],
            [
             0.1111111111111111,
             "#46039f"
            ],
            [
             0.2222222222222222,
             "#7201a8"
            ],
            [
             0.3333333333333333,
             "#9c179e"
            ],
            [
             0.4444444444444444,
             "#bd3786"
            ],
            [
             0.5555555555555556,
             "#d8576b"
            ],
            [
             0.6666666666666666,
             "#ed7953"
            ],
            [
             0.7777777777777778,
             "#fb9f3a"
            ],
            [
             0.8888888888888888,
             "#fdca26"
            ],
            [
             1,
             "#f0f921"
            ]
           ],
           "sequentialminus": [
            [
             0,
             "#0d0887"
            ],
            [
             0.1111111111111111,
             "#46039f"
            ],
            [
             0.2222222222222222,
             "#7201a8"
            ],
            [
             0.3333333333333333,
             "#9c179e"
            ],
            [
             0.4444444444444444,
             "#bd3786"
            ],
            [
             0.5555555555555556,
             "#d8576b"
            ],
            [
             0.6666666666666666,
             "#ed7953"
            ],
            [
             0.7777777777777778,
             "#fb9f3a"
            ],
            [
             0.8888888888888888,
             "#fdca26"
            ],
            [
             1,
             "#f0f921"
            ]
           ]
          },
          "colorway": [
           "#636efa",
           "#EF553B",
           "#00cc96",
           "#ab63fa",
           "#FFA15A",
           "#19d3f3",
           "#FF6692",
           "#B6E880",
           "#FF97FF",
           "#FECB52"
          ],
          "font": {
           "color": "#2a3f5f"
          },
          "geo": {
           "bgcolor": "white",
           "lakecolor": "white",
           "landcolor": "#E5ECF6",
           "showlakes": true,
           "showland": true,
           "subunitcolor": "white"
          },
          "hoverlabel": {
           "align": "left"
          },
          "hovermode": "closest",
          "mapbox": {
           "style": "light"
          },
          "paper_bgcolor": "white",
          "plot_bgcolor": "#E5ECF6",
          "polar": {
           "angularaxis": {
            "gridcolor": "white",
            "linecolor": "white",
            "ticks": ""
           },
           "bgcolor": "#E5ECF6",
           "radialaxis": {
            "gridcolor": "white",
            "linecolor": "white",
            "ticks": ""
           }
          },
          "scene": {
           "xaxis": {
            "backgroundcolor": "#E5ECF6",
            "gridcolor": "white",
            "gridwidth": 2,
            "linecolor": "white",
            "showbackground": true,
            "ticks": "",
            "zerolinecolor": "white"
           },
           "yaxis": {
            "backgroundcolor": "#E5ECF6",
            "gridcolor": "white",
            "gridwidth": 2,
            "linecolor": "white",
            "showbackground": true,
            "ticks": "",
            "zerolinecolor": "white"
           },
           "zaxis": {
            "backgroundcolor": "#E5ECF6",
            "gridcolor": "white",
            "gridwidth": 2,
            "linecolor": "white",
            "showbackground": true,
            "ticks": "",
            "zerolinecolor": "white"
           }
          },
          "shapedefaults": {
           "line": {
            "color": "#2a3f5f"
           }
          },
          "ternary": {
           "aaxis": {
            "gridcolor": "white",
            "linecolor": "white",
            "ticks": ""
           },
           "baxis": {
            "gridcolor": "white",
            "linecolor": "white",
            "ticks": ""
           },
           "bgcolor": "#E5ECF6",
           "caxis": {
            "gridcolor": "white",
            "linecolor": "white",
            "ticks": ""
           }
          },
          "title": {
           "x": 0.05
          },
          "xaxis": {
           "automargin": true,
           "gridcolor": "white",
           "linecolor": "white",
           "ticks": "",
           "title": {
            "standoff": 15
           },
           "zerolinecolor": "white",
           "zerolinewidth": 2
          },
          "yaxis": {
           "automargin": true,
           "gridcolor": "white",
           "linecolor": "white",
           "ticks": "",
           "title": {
            "standoff": 15
           },
           "zerolinecolor": "white",
           "zerolinewidth": 2
          }
         }
        },
        "title": {
         "text": "Rompimento7Dias x Rompimento 28 Dias"
        },
        "xaxis": {
         "anchor": "y",
         "domain": [
          0,
          1
         ],
         "title": {
          "text": "RelacaoAguaCimento"
         }
        },
        "yaxis": {
         "anchor": "x",
         "domain": [
          0,
          1
         ],
         "title": {
          "text": "Rompimento28Dias"
         }
        }
       }
      },
      "text/html": [
       "<div>                            <div id=\"cc3185e6-ce8b-471d-bf21-d0b973296b17\" class=\"plotly-graph-div\" style=\"height:525px; width:100%;\"></div>            <script type=\"text/javascript\">                require([\"plotly\"], function(Plotly) {                    window.PLOTLYENV=window.PLOTLYENV || {};                                    if (document.getElementById(\"cc3185e6-ce8b-471d-bf21-d0b973296b17\")) {                    Plotly.newPlot(                        \"cc3185e6-ce8b-471d-bf21-d0b973296b17\",                        [{\"hovertemplate\": \"RelacaoAguaCimento=%{x}<br>Rompimento28Dias=%{y}<extra></extra>\", \"legendgroup\": \"\", \"marker\": {\"color\": \"#636efa\", \"symbol\": \"circle\"}, \"mode\": \"markers\", \"name\": \"\", \"orientation\": \"v\", \"showlegend\": false, \"type\": \"scatter\", \"x\": [0.5386740331491713, 0.559375, 0.678125, 0.678125, 0.678125, 0.5802469135802469, 0.5802469135802469, 0.5802469135802469, 0.6697530864197531, 0.616822429906542, 0.616822429906542, 0.616822429906542, 0.616822429906542, 0.9230769230769232, 0.9123711340206184, 0.5338983050847458, 0.5282485875706214, 0.5338983050847458, 0.5338983050847458, 0.5338983050847458, 0.5338983050847458, 0.5338983050847458, 0.53954802259887, 0.4932975871313673, 0.4932975871313673, 0.4932975871313673, 0.4932975871313673, 0.4932975871313673, 0.4932975871313673, 0.4423592493297587, 0.6182572614107884, 0.6182572614107884, 0.6182572614107884, 0.6182572614107884, 0.6016597510373444, 0.5518672199170125, 0.5684647302904564, 0.5601659751037344, 0.5601659751037344, 0.5684647302904564, 0.5684647302904564, 0.7811158798283262, 0.8127853881278538, 0.8127853881278538, 0.8264840182648402, 0.8401826484018264, 0.8401826484018264, 0.8401826484018264, 0.8401826484018264, 0.8401826484018264, 0.8401826484018264, 0.8264840182648402, 0.8264840182648402, 0.8264840182648402, 0.8264840182648402, 0.776824034334764, 0.7552742616033755, 0.7412280701754386, 0.7324561403508771, 0.5376712328767124, 0.5958904109589042, 0.5958904109589042, 0.5682656826568265, 0.5709342560553633, 0.5709342560553633, 0.5709342560553633, 0.5605536332179931, 0.5605536332179931, 0.5190311418685121, 0.6794425087108014, 0.6832740213523132, 0.6832740213523132, 0.5587188612099644, 0.4937106918238994, 0.4937106918238994, 0.4622641509433962, 0.4622641509433962, 0.4622641509433962, 0.4622641509433962, 0.4716981132075472, 0.4716981132075472, 0.6146496815286624, 0.6372881355932203, 0.6324503311258278, 0.6324503311258278, 0.6490066225165563, 0.6490066225165563, 0.6490066225165563, 0.6357615894039735, 0.6158940397350994, 0.6158940397350994, 0.6158940397350994, 0.6158940397350994, 0.6096774193548387, 0.6096774193548387, 0.6096774193548387, 0.6096774193548387, 0.6096774193548387, 0.6096774193548387, 0.6096774193548387, 0.6141479099678456, 0.6187290969899666, 0.6220735785953178, 0.6287625418060201, 0.6472602739726028, 0.6267123287671232, 0.6702898550724637, 0.6702898550724637, 0.6702898550724637, 0.6702898550724637, 0.6702898550724637, 0.7105263157894737, 0.7105263157894737, 0.7269230769230769, 0.7142857142857143, 0.7142857142857143, 0.7255639097744361, 0.6084142394822006, 0.5588235294117647, 0.5, 0.5, 0.5330882352941176, 0.5073529411764706, 0.5073529411764706, 0.5073529411764706, 0.5183823529411765, 0.5183823529411765, 0.5588235294117647, 0.5183823529411765, 0.5183823529411765, 0.5183823529411765, 0.5187165775401069, 0.703125, 0.703125, 0.703125, 0.6908396946564885, 0.6717557251908397, 0.6856060606060606, 0.678030303030303, 0.6590909090909091, 0.6856060606060606, 0.6439393939393939, 0.6856060606060606, 0.6856060606060606, 0.6856060606060606, 0.6818181818181818, 0.6818181818181818, 0.7131147540983607, 0.7377049180327869, 0.639344262295082, 0.6311475409836066, 0.6311475409836066, 0.6311475409836066, 0.6309012875536479, 0.7665198237885462, 0.8017621145374451, 0.7841409691629956, 0.8144796380090498, 0.8017621145374451, 0.6893939393939394, 0.5359712230215827, 0.5035971223021583, 0.5179856115107914, 0.5359712230215827, 0.68, 0.4861538461538462, 0.4861538461538462, 0.4646153846153846, 0.4646153846153846, 0.4646153846153846, 0.4738461538461538, 0.4738461538461538, 0.4953846153846154, 0.4953846153846154, 0.4953846153846154, 0.4953846153846154, 0.4953846153846154, 0.4953846153846154, 0.6132075471698113, 0.610062893081761, 0.610062893081761, 0.5835866261398176, 0.5835866261398176, 0.5835866261398176, 0.5927051671732523, 0.5927051671732523, 0.5927051671732523, 0.5927051671732523, 0.5927051671732523, 0.5927051671732523, 0.5927051671732523, 0.6416938110749185, 0.6416938110749185, 0.6175548589341693, 0.6175548589341693, 0.6175548589341693, 0.5422885572139303, 0.5422885572139303, 0.6261682242990654, 0.6261682242990654, 0.6261682242990654, 0.6261682242990654, 0.6261682242990654, 0.6323987538940811, 0.6323987538940811, 0.6326064382139148, 0.7208480565371025, 0.7326007326007326, 0.746268656716418, 0.7326007326007326, 0.7326007326007326, 0.7352941176470589, 0.7670682730923695, 0.7670682730923695, 0.7991803278688525, 0.6797153024911032, 0.6797153024911032, 0.6797153024911032, 0.6797153024911032, 0.7089552238805971, 0.7089552238805971, 0.7089552238805971, 0.7089552238805971, 0.7276119402985075, 0.7276119402985075, 0.7089552238805971, 0.6902985074626866, 0.6902985074626866, 0.6902985074626866, 0.6902985074626866, 0.7014925373134329, 0.7014925373134329, 0.6925894618202311, 0.6992481203007519, 0.7014925373134329, 0.7014925373134329, 0.6865671641791045, 0.6581818181818182, 0.6436363636363637, 0.509090909090909, 0.509090909090909, 0.509090909090909, 0.7391304347826086, 0.7391304347826086, 0.7391304347826086, 0.7391304347826086, 0.7391304347826086, 0.7391304347826086, 0.7391304347826086, 0.7470355731225297, 0.7470355731225297, 0.7470355731225297, 0.7233201581027668, 0.7233201581027668, 0.7233201581027668, 0.7233201581027668, 0.7233201581027668, 0.7233201581027668, 0.7233201581027668, 0.7233201581027668, 0.7233201581027668, 0.7430830039525692, 0.7391304347826086, 0.7391304347826086, 0.7391304347826086, 0.7391304347826086, 0.7401574803149606, 0.7322834645669292, 0.7401574803149606, 0.7401574803149606, 0.7401574803149606, 0.7401574803149606, 0.7401574803149606, 0.8430493273542601, 0.8209606986899564, 0.8384279475982532, 0.8209606986899564, 0.8384279475982532, 0.8296943231441049, 0.8296943231441049, 0.8296943231441049, 0.8296943231441049, 0.852017937219731, 0.8296943231441049, 0.852017937219731, 0.8296943231441049, 0.8384279475982532, 0.8427947598253275, 0.8427947598253275, 0.8427947598253275, 0.7161572052401747, 0.7161572052401747, 0.7161572052401747, 0.7161572052401747, 0.7161572052401747, 0.7116104868913857, 0.704119850187266, 0.7203065134099617, 0.6859205776173285, 0.6859205776173285, 0.6859205776173285, 0.6859205776173285, 0.6859205776173285, 0.6859205776173285, 0.6787003610108303, 0.6787003610108303, 0.6044749188018765, 0.5947712418300654, 0.5947712418300654, 0.5947712418300654, 0.5980392156862745, 0.5980392156862745, 0.6405228758169934, 0.6405228758169934, 0.7738095238095238, 0.7658730158730159, 0.6113289760348584, 0.6113289760348584, 0.6274509803921569, 0.6274509803921569, 0.6274509803921569, 0.6111111111111112, 0.6158536585365854, 0.5911764705882353, 0.5970588235294118, 0.5941176470588235, 0.5941176470588235, 0.5941176470588235, 0.5941176470588235, 0.5941176470588235, 0.5941176470588235, 0.5852941176470589, 0.5852941176470589, 0.5941176470588235, 0.5941176470588235, 0.6349206349206349, 0.6349206349206349, 0.6349206349206349, 0.6349206349206349, 0.6285714285714286, 0.6317460317460317, 0.6317460317460317, 0.6822742474916388, 0.6666666666666666, 0.6925795053003534, 0.6925795053003534, 0.6925795053003534, 0.6925795053003534, 0.8, 0.6881028938906752, 0.554016620498615, 0.554016620498615, 0.6391752577319587, 0.7052631578947368, 0.6779661016949152, 0.6779661016949152, 0.688135593220339, 0.688135593220339, 0.8546255506607929, 0.8595203132648067, 0.76171875], \"xaxis\": \"x\", \"y\": [35.08, 33.4, 31.72, 31.12, 28.39, 29.7, 27.47, 27.61, 31.63, 26.3, 27.13, 22.49, 24.66, 16.96, 20.15, 30.93, 31.9, 31.3, 30.83, 31.02, 30.3, 30.6, 30.6, 33.52, 32.47, 32.41, 32.14, 33.9, 32.83, 35.01, 25.32, 26.27, 25.46, 28.11, 30.02, 25.0, 31.89, 30.4, 30.58, 32.55, 27.38, 23.81, 22.79, 20.28, 23.33, 24.34, 20.74, 18.1, 21.53, 22.81, 20.43, 21.72, 20.52, 23.31, 22.72, 22.04, 24.11, 26.34, 25.23, 36.56, 37.59, 34.38, 27.27, 26.77, 24.99, 26.67, 29.5, 29.06, 31.79, 27.15, 28.49, 29.67, 28.73, 38.37, 37.64, 44.87, 43.54, 45.08, 37.38, 44.91, 37.72, 35.68, 31.77, 30.22, 32.61, 33.11, 36.06, 33.79, 31.01, 34.14, 36.59, 32.32, 36.4, 35.01, 36.48, 35.68, 37.27, 38.2, 39.58, 41.4, 38.88, 37.34, 33.03, 37.85, 36.12, 41.45, 32.42, 33.51, 37.2, 33.63, 38.44, 32.46, 32.78, 28.08, 33.8, 30.87, 26.86, 40.19, 29.78, 27.93, 30.76, 35.22, 36.01, 29.84, 30.51, 28.5, 32.35, 34.28, 32.74, 33.45, 33.71, 30.4, 29.56, 27.56, 28.85, 29.74, 30.78, 28.53, 31.74, 32.92, 35.62, 38.09, 36.31, 37.81, 35.4, 36.2, 35.11, 30.0, 26.39, 27.87, 28.99, 25.41, 25.14, 29.98, 25.54, 25.21, 32.73, 25.01, 24.54, 34.88, 29.67, 30.69, 36.28, 34.07, 28.25, 37.54, 39.53, 31.48, 29.69, 32.49, 35.22, 34.09, 35.22, 33.79, 37.96, 37.03, 37.66, 40.0, 32.44, 35.92, 31.86, 35.2, 35.89, 35.39, 40.53, 40.14, 34.91, 38.42, 36.59, 30.88, 34.0, 32.64, 30.87, 35.15, 31.94, 35.39, 37.73, 37.77, 38.36, 42.61, 43.19, 38.3, 37.46, 31.07, 32.51, 33.02, 38.61, 28.72, 30.44, 30.26, 27.53, 34.54, 26.54, 27.39, 21.2, 33.9, 31.71, 34.49, 35.72, 27.98, 26.02, 29.0, 27.06, 26.39, 24.03, 33.17, 27.43, 31.39, 28.41, 30.16, 29.92, 30.02, 29.46, 27.31, 28.38, 29.64, 30.5, 40.23, 39.69, 35.81, 34.7, 38.75, 30.32, 35.07, 29.37, 33.09, 31.39, 31.19, 31.76, 33.84, 30.49, 34.47, 29.24, 31.72, 38.11, 35.69, 37.13, 34.04, 33.82, 32.46, 30.58, 29.93, 34.49, 38.16, 32.56, 32.54, 32.31, 32.6, 29.51, 31.26, 32.16, 31.26, 33.01, 21.27, 23.67, 25.79, 29.67, 27.15, 22.14, 25.69, 23.59, 27.62, 24.96, 22.79, 22.12, 22.21, 22.79, 26.82, 25.29, 32.84, 26.07, 25.56, 26.66, 27.64, 26.95, 32.4, 27.28, 27.28, 29.56, 31.61, 37.24, 33.4, 36.56, 37.67, 33.07, 34.88, 40.21, 39.14, 36.4, 38.04, 40.48, 36.24, 35.22, 37.81, 22.25, 27.36, 31.42, 31.74, 30.62, 29.6, 28.29, 37.17, 34.45, 37.54, 39.44, 42.79, 37.86, 37.46, 36.98, 41.96, 44.3, 39.97, 42.35, 37.32, 36.4, 35.29, 35.55, 33.93, 34.74, 36.2, 32.68, 30.0, 30.44, 31.34, 29.48, 33.72, 28.94, 34.8, 21.92, 34.65, 49.94, 38.19, 28.88, 28.01, 29.1, 32.45, 25.68, 31.51, 22.32, 20.79, 33.29], \"yaxis\": \"y\"}],                        {\"legend\": {\"tracegroupgap\": 0}, \"template\": {\"data\": {\"bar\": [{\"error_x\": {\"color\": \"#2a3f5f\"}, \"error_y\": {\"color\": \"#2a3f5f\"}, \"marker\": {\"line\": {\"color\": \"#E5ECF6\", \"width\": 0.5}}, \"type\": \"bar\"}], \"barpolar\": [{\"marker\": {\"line\": {\"color\": \"#E5ECF6\", \"width\": 0.5}}, \"type\": \"barpolar\"}], \"carpet\": [{\"aaxis\": {\"endlinecolor\": \"#2a3f5f\", \"gridcolor\": \"white\", \"linecolor\": \"white\", \"minorgridcolor\": \"white\", \"startlinecolor\": \"#2a3f5f\"}, \"baxis\": {\"endlinecolor\": \"#2a3f5f\", \"gridcolor\": \"white\", \"linecolor\": \"white\", \"minorgridcolor\": \"white\", \"startlinecolor\": \"#2a3f5f\"}, \"type\": \"carpet\"}], \"choropleth\": [{\"colorbar\": {\"outlinewidth\": 0, \"ticks\": \"\"}, \"type\": \"choropleth\"}], \"contour\": [{\"colorbar\": {\"outlinewidth\": 0, \"ticks\": \"\"}, \"colorscale\": [[0.0, \"#0d0887\"], [0.1111111111111111, \"#46039f\"], [0.2222222222222222, \"#7201a8\"], [0.3333333333333333, \"#9c179e\"], [0.4444444444444444, \"#bd3786\"], [0.5555555555555556, \"#d8576b\"], [0.6666666666666666, \"#ed7953\"], [0.7777777777777778, \"#fb9f3a\"], [0.8888888888888888, \"#fdca26\"], [1.0, \"#f0f921\"]], \"type\": \"contour\"}], \"contourcarpet\": [{\"colorbar\": {\"outlinewidth\": 0, \"ticks\": \"\"}, \"type\": \"contourcarpet\"}], \"heatmap\": [{\"colorbar\": {\"outlinewidth\": 0, \"ticks\": \"\"}, \"colorscale\": [[0.0, \"#0d0887\"], [0.1111111111111111, \"#46039f\"], [0.2222222222222222, \"#7201a8\"], [0.3333333333333333, \"#9c179e\"], [0.4444444444444444, \"#bd3786\"], [0.5555555555555556, \"#d8576b\"], [0.6666666666666666, \"#ed7953\"], [0.7777777777777778, \"#fb9f3a\"], [0.8888888888888888, \"#fdca26\"], [1.0, \"#f0f921\"]], \"type\": \"heatmap\"}], \"heatmapgl\": [{\"colorbar\": {\"outlinewidth\": 0, \"ticks\": \"\"}, \"colorscale\": [[0.0, \"#0d0887\"], [0.1111111111111111, \"#46039f\"], [0.2222222222222222, \"#7201a8\"], [0.3333333333333333, \"#9c179e\"], [0.4444444444444444, \"#bd3786\"], [0.5555555555555556, \"#d8576b\"], [0.6666666666666666, \"#ed7953\"], [0.7777777777777778, \"#fb9f3a\"], [0.8888888888888888, \"#fdca26\"], [1.0, \"#f0f921\"]], \"type\": \"heatmapgl\"}], \"histogram\": [{\"marker\": {\"colorbar\": {\"outlinewidth\": 0, \"ticks\": \"\"}}, \"type\": \"histogram\"}], \"histogram2d\": [{\"colorbar\": {\"outlinewidth\": 0, \"ticks\": \"\"}, \"colorscale\": [[0.0, \"#0d0887\"], [0.1111111111111111, \"#46039f\"], [0.2222222222222222, \"#7201a8\"], [0.3333333333333333, \"#9c179e\"], [0.4444444444444444, \"#bd3786\"], [0.5555555555555556, \"#d8576b\"], [0.6666666666666666, \"#ed7953\"], [0.7777777777777778, \"#fb9f3a\"], [0.8888888888888888, \"#fdca26\"], [1.0, \"#f0f921\"]], \"type\": \"histogram2d\"}], \"histogram2dcontour\": [{\"colorbar\": {\"outlinewidth\": 0, \"ticks\": \"\"}, \"colorscale\": [[0.0, \"#0d0887\"], [0.1111111111111111, \"#46039f\"], [0.2222222222222222, \"#7201a8\"], [0.3333333333333333, \"#9c179e\"], [0.4444444444444444, \"#bd3786\"], [0.5555555555555556, \"#d8576b\"], [0.6666666666666666, \"#ed7953\"], [0.7777777777777778, \"#fb9f3a\"], [0.8888888888888888, \"#fdca26\"], [1.0, \"#f0f921\"]], \"type\": \"histogram2dcontour\"}], \"mesh3d\": [{\"colorbar\": {\"outlinewidth\": 0, \"ticks\": \"\"}, \"type\": \"mesh3d\"}], \"parcoords\": [{\"line\": {\"colorbar\": {\"outlinewidth\": 0, \"ticks\": \"\"}}, \"type\": \"parcoords\"}], \"pie\": [{\"automargin\": true, \"type\": \"pie\"}], \"scatter\": [{\"marker\": {\"colorbar\": {\"outlinewidth\": 0, \"ticks\": \"\"}}, \"type\": \"scatter\"}], \"scatter3d\": [{\"line\": {\"colorbar\": {\"outlinewidth\": 0, \"ticks\": \"\"}}, \"marker\": {\"colorbar\": {\"outlinewidth\": 0, \"ticks\": \"\"}}, \"type\": \"scatter3d\"}], \"scattercarpet\": [{\"marker\": {\"colorbar\": {\"outlinewidth\": 0, \"ticks\": \"\"}}, \"type\": \"scattercarpet\"}], \"scattergeo\": [{\"marker\": {\"colorbar\": {\"outlinewidth\": 0, \"ticks\": \"\"}}, \"type\": \"scattergeo\"}], \"scattergl\": [{\"marker\": {\"colorbar\": {\"outlinewidth\": 0, \"ticks\": \"\"}}, \"type\": \"scattergl\"}], \"scattermapbox\": [{\"marker\": {\"colorbar\": {\"outlinewidth\": 0, \"ticks\": \"\"}}, \"type\": \"scattermapbox\"}], \"scatterpolar\": [{\"marker\": {\"colorbar\": {\"outlinewidth\": 0, \"ticks\": \"\"}}, \"type\": \"scatterpolar\"}], \"scatterpolargl\": [{\"marker\": {\"colorbar\": {\"outlinewidth\": 0, \"ticks\": \"\"}}, \"type\": \"scatterpolargl\"}], \"scatterternary\": [{\"marker\": {\"colorbar\": {\"outlinewidth\": 0, \"ticks\": \"\"}}, \"type\": \"scatterternary\"}], \"surface\": [{\"colorbar\": {\"outlinewidth\": 0, \"ticks\": \"\"}, \"colorscale\": [[0.0, \"#0d0887\"], [0.1111111111111111, \"#46039f\"], [0.2222222222222222, \"#7201a8\"], [0.3333333333333333, \"#9c179e\"], [0.4444444444444444, \"#bd3786\"], [0.5555555555555556, \"#d8576b\"], [0.6666666666666666, \"#ed7953\"], [0.7777777777777778, \"#fb9f3a\"], [0.8888888888888888, \"#fdca26\"], [1.0, \"#f0f921\"]], \"type\": \"surface\"}], \"table\": [{\"cells\": {\"fill\": {\"color\": \"#EBF0F8\"}, \"line\": {\"color\": \"white\"}}, \"header\": {\"fill\": {\"color\": \"#C8D4E3\"}, \"line\": {\"color\": \"white\"}}, \"type\": \"table\"}]}, \"layout\": {\"annotationdefaults\": {\"arrowcolor\": \"#2a3f5f\", \"arrowhead\": 0, \"arrowwidth\": 1}, \"autotypenumbers\": \"strict\", \"coloraxis\": {\"colorbar\": {\"outlinewidth\": 0, \"ticks\": \"\"}}, \"colorscale\": {\"diverging\": [[0, \"#8e0152\"], [0.1, \"#c51b7d\"], [0.2, \"#de77ae\"], [0.3, \"#f1b6da\"], [0.4, \"#fde0ef\"], [0.5, \"#f7f7f7\"], [0.6, \"#e6f5d0\"], [0.7, \"#b8e186\"], [0.8, \"#7fbc41\"], [0.9, \"#4d9221\"], [1, \"#276419\"]], \"sequential\": [[0.0, \"#0d0887\"], [0.1111111111111111, \"#46039f\"], [0.2222222222222222, \"#7201a8\"], [0.3333333333333333, \"#9c179e\"], [0.4444444444444444, \"#bd3786\"], [0.5555555555555556, \"#d8576b\"], [0.6666666666666666, \"#ed7953\"], [0.7777777777777778, \"#fb9f3a\"], [0.8888888888888888, \"#fdca26\"], [1.0, \"#f0f921\"]], \"sequentialminus\": [[0.0, \"#0d0887\"], [0.1111111111111111, \"#46039f\"], [0.2222222222222222, \"#7201a8\"], [0.3333333333333333, \"#9c179e\"], [0.4444444444444444, \"#bd3786\"], [0.5555555555555556, \"#d8576b\"], [0.6666666666666666, \"#ed7953\"], [0.7777777777777778, \"#fb9f3a\"], [0.8888888888888888, \"#fdca26\"], [1.0, \"#f0f921\"]]}, \"colorway\": [\"#636efa\", \"#EF553B\", \"#00cc96\", \"#ab63fa\", \"#FFA15A\", \"#19d3f3\", \"#FF6692\", \"#B6E880\", \"#FF97FF\", \"#FECB52\"], \"font\": {\"color\": \"#2a3f5f\"}, \"geo\": {\"bgcolor\": \"white\", \"lakecolor\": \"white\", \"landcolor\": \"#E5ECF6\", \"showlakes\": true, \"showland\": true, \"subunitcolor\": \"white\"}, \"hoverlabel\": {\"align\": \"left\"}, \"hovermode\": \"closest\", \"mapbox\": {\"style\": \"light\"}, \"paper_bgcolor\": \"white\", \"plot_bgcolor\": \"#E5ECF6\", \"polar\": {\"angularaxis\": {\"gridcolor\": \"white\", \"linecolor\": \"white\", \"ticks\": \"\"}, \"bgcolor\": \"#E5ECF6\", \"radialaxis\": {\"gridcolor\": \"white\", \"linecolor\": \"white\", \"ticks\": \"\"}}, \"scene\": {\"xaxis\": {\"backgroundcolor\": \"#E5ECF6\", \"gridcolor\": \"white\", \"gridwidth\": 2, \"linecolor\": \"white\", \"showbackground\": true, \"ticks\": \"\", \"zerolinecolor\": \"white\"}, \"yaxis\": {\"backgroundcolor\": \"#E5ECF6\", \"gridcolor\": \"white\", \"gridwidth\": 2, \"linecolor\": \"white\", \"showbackground\": true, \"ticks\": \"\", \"zerolinecolor\": \"white\"}, \"zaxis\": {\"backgroundcolor\": \"#E5ECF6\", \"gridcolor\": \"white\", \"gridwidth\": 2, \"linecolor\": \"white\", \"showbackground\": true, \"ticks\": \"\", \"zerolinecolor\": \"white\"}}, \"shapedefaults\": {\"line\": {\"color\": \"#2a3f5f\"}}, \"ternary\": {\"aaxis\": {\"gridcolor\": \"white\", \"linecolor\": \"white\", \"ticks\": \"\"}, \"baxis\": {\"gridcolor\": \"white\", \"linecolor\": \"white\", \"ticks\": \"\"}, \"bgcolor\": \"#E5ECF6\", \"caxis\": {\"gridcolor\": \"white\", \"linecolor\": \"white\", \"ticks\": \"\"}}, \"title\": {\"x\": 0.05}, \"xaxis\": {\"automargin\": true, \"gridcolor\": \"white\", \"linecolor\": \"white\", \"ticks\": \"\", \"title\": {\"standoff\": 15}, \"zerolinecolor\": \"white\", \"zerolinewidth\": 2}, \"yaxis\": {\"automargin\": true, \"gridcolor\": \"white\", \"linecolor\": \"white\", \"ticks\": \"\", \"title\": {\"standoff\": 15}, \"zerolinecolor\": \"white\", \"zerolinewidth\": 2}}}, \"title\": {\"text\": \"Rompimento7Dias x Rompimento 28 Dias\"}, \"xaxis\": {\"anchor\": \"y\", \"domain\": [0.0, 1.0], \"title\": {\"text\": \"RelacaoAguaCimento\"}}, \"yaxis\": {\"anchor\": \"x\", \"domain\": [0.0, 1.0], \"title\": {\"text\": \"Rompimento28Dias\"}}},                        {\"responsive\": true}                    ).then(function(){\n",
       "                            \n",
       "var gd = document.getElementById('cc3185e6-ce8b-471d-bf21-d0b973296b17');\n",
       "var x = new MutationObserver(function (mutations, observer) {{\n",
       "        var display = window.getComputedStyle(gd).display;\n",
       "        if (!display || display === 'none') {{\n",
       "            console.log([gd, 'removed!']);\n",
       "            Plotly.purge(gd);\n",
       "            observer.disconnect();\n",
       "        }}\n",
       "}});\n",
       "\n",
       "// Listen for the removal of the full notebook cells\n",
       "var notebookContainer = gd.closest('#notebook-container');\n",
       "if (notebookContainer) {{\n",
       "    x.observe(notebookContainer, {childList: true});\n",
       "}}\n",
       "\n",
       "// Listen for the clearing of the current output cell\n",
       "var outputEl = gd.closest('.output');\n",
       "if (outputEl) {{\n",
       "    x.observe(outputEl, {childList: true});\n",
       "}}\n",
       "\n",
       "                        })                };                });            </script>        </div>"
      ]
     },
     "metadata": {},
     "output_type": "display_data"
    }
   ],
   "source": [
    "fig = px.scatter(dados_aglomerante, x=\"RelacaoAguaCimento\", y=\"Rompimento28Dias\", title='Rompimento7Dias x Rompimento 28 Dias')\n",
    "fig.show()"
   ]
  },
  {
   "cell_type": "code",
   "execution_count": 1267,
   "metadata": {},
   "outputs": [
    {
     "data": {
      "application/vnd.plotly.v1+json": {
       "config": {
        "plotlyServerURL": "https://plot.ly"
       },
       "data": [
        {
         "hovertemplate": "ResultadoEsperado=%{x}<br>Rompimento28Dias=%{y}<extra></extra>",
         "legendgroup": "",
         "marker": {
          "color": "#636efa",
          "symbol": "circle"
         },
         "mode": "markers",
         "name": "",
         "orientation": "v",
         "showlegend": false,
         "type": "scatter",
         "x": [
          46.09523087927805,
          44.353205953117154,
          35.5589272795614,
          35.5589272795614,
          35.5589272795614,
          43.215546075990346,
          43.215546075990346,
          43.215546075990346,
          37.17220871397308,
          39.856094384032495,
          39.856094384032495,
          39.856094384032495,
          39.856094384032495,
          21.452811414389206,
          21.918276060524708,
          46.50673416853282,
          46.99829137050666,
          46.50673416853282,
          46.50673416853282,
          46.50673416853282,
          46.50673416853282,
          46.50673416853282,
          46.02031818501114,
          50.156848181213675,
          50.156848181213675,
          50.156848181213675,
          50.156848181213675,
          50.156848181213675,
          50.156848181213675,
          55.144185290389736,
          39.749811748951174,
          39.749811748951174,
          39.749811748951174,
          39.749811748951174,
          40.99676134580852,
          44.977257468703925,
          43.60923786844146,
          44.28796585555543,
          44.28796585555543,
          43.60923786844146,
          43.60923786844146,
          30.81919848385484,
          29.21955102058596,
          29.21955102058596,
          28.553606381080236,
          27.90283932806701,
          27.90283932806701,
          27.90283932806701,
          27.90283932806701,
          27.90283932806701,
          27.90283932806701,
          28.553606381080236,
          28.553606381080236,
          28.553606381080236,
          28.553606381080236,
          31.042616901506577,
          30.033098034005647,
          30.890931291695672,
          31.439038166389345,
          46.181334639261294,
          41.439304474946326,
          41.439304474946326,
          43.62539492810303,
          43.409278916776174,
          43.409278916776174,
          43.409278916776174,
          44.256026633185996,
          44.256026633185996,
          47.81143867445191,
          36.57094624706181,
          36.33587956966944,
          36.33587956966944,
          44.81003032411275,
          50.11830302502225,
          50.11830302502225,
          53.13884918402324,
          53.13884918402324,
          53.13884918402324,
          53.13884918402324,
          52.21405335524735,
          52.21405335524735,
          40.784431794490615,
          39.2597537576924,
          39.58071250504951,
          39.58071250504951,
          38.49304991253123,
          38.49304991253123,
          38.49304991253123,
          39.36074870476399,
          40.699108175820896,
          40.699108175820896,
          40.699108175820896,
          40.699108175820896,
          40.21426204792701,
          40.21426204792701,
          40.21426204792701,
          40.21426204792701,
          40.21426204792701,
          40.21426204792701,
          40.21426204792701,
          39.855418816835495,
          39.49101178866092,
          39.22708337830133,
          38.704506469758364,
          37.295328835278454,
          38.86393565629237,
          35.61239588986234,
          35.61239588986234,
          35.61239588986234,
          35.61239588986234,
          35.61239588986234,
          32.85223150191521,
          32.85223150191521,
          31.78975813214037,
          32.6055356340065,
          32.6055356340065,
          31.876507507931017,
          40.316240815041375,
          44.39874842718093,
          49.535117807951,
          49.535117807951,
          46.576897798944366,
          48.861904567679154,
          48.861904567679154,
          48.861904567679154,
          47.869200887447064,
          47.869200887447064,
          44.39874842718093,
          47.869200887447064,
          47.869200887447064,
          47.869200887447064,
          47.839435886228244,
          35.1419816419981,
          35.1419816419981,
          35.1419816419981,
          35.876146897382064,
          37.04713287451543,
          34.53539652514695,
          35.06397247940587,
          36.42107763995592,
          34.53539652514695,
          37.54448328764434,
          34.53539652514695,
          34.53539652514695,
          34.53539652514695,
          34.79868091355076,
          34.79868091355076,
          32.6821760331661,
          31.10991489121923,
          37.89198794691771,
          38.5198663058788,
          38.5198663058788,
          38.5198663058788,
          38.53888972843159,
          29.363508300409716,
          27.360268222955106,
          28.3441962854158,
          26.671438176450405,
          27.360268222955106,
          34.274104128030075,
          46.327670735681686,
          49.20462504672704,
          47.90455748318689,
          46.327670735681686,
          36.53664936221606,
          50.82811066104102,
          50.82811066104102,
          52.906840362791044,
          52.906840362791044,
          52.906840362791044,
          52.00574412335799,
          52.00574412335799,
          49.9624188325348,
          49.9624188325348,
          49.9624188325348,
          49.9624188325348,
          49.9624188325348,
          49.9624188325348,
          40.88354040865546,
          41.10048820439405,
          41.10048820439405,
          42.37394846528194,
          42.37394846528194,
          42.37394846528194,
          41.60627826210368,
          41.60627826210368,
          41.60627826210368,
          41.60627826210368,
          41.60627826210368,
          41.60627826210368,
          41.60627826210368,
          37.713904444706564,
          37.713904444706564,
          39.58409688003349,
          39.58409688003349,
          39.58409688003349,
          46.06641719257869,
          46.06641719257869,
          40.0014109581401,
          40.0014109581401,
          40.0014109581401,
          40.0014109581401,
          40.0014109581401,
          39.584148437382304,
          39.584148437382304,
          39.57031490047251,
          32.17933841506988,
          31.429925075699817,
          30.58030820535888,
          31.429925075699817,
          31.429925075699817,
          31.260653495529198,
          31.556511214286708,
          31.556511214286708,
          29.896318841170764,
          36.554159942957284,
          36.554159942957284,
          36.554159942957284,
          36.554159942957284,
          34.79884536800273,
          34.79884536800273,
          34.79884536800273,
          34.79884536800273,
          33.72316376840761,
          33.72316376840761,
          34.79884536800273,
          35.90883842519579,
          35.90883842519579,
          35.90883842519579,
          35.90883842519579,
          35.238664696212794,
          35.238664696212794,
          35.770652144062744,
          35.37202531790717,
          33.45269657797216,
          33.45269657797216,
          34.46891045900806,
          36.48752386975361,
          37.56730133666538,
          49.20019874866827,
          49.20019874866827,
          49.20019874866827,
          31.0211246919601,
          31.0211246919601,
          31.0211246919601,
          31.0211246919601,
          31.0211246919601,
          31.0211246919601,
          31.0211246919601,
          30.53332199636397,
          30.53332199636397,
          30.53332199636397,
          32.02023410739583,
          32.02023410739583,
          32.02023410739583,
          32.02023410739583,
          32.02023410739583,
          32.02023410739583,
          32.02023410739583,
          32.02023410739583,
          32.02023410739583,
          30.77625690217988,
          31.0211246919601,
          31.0211246919601,
          31.0211246919601,
          31.0211246919601,
          30.957310902441982,
          31.44992471575037,
          30.957310902441982,
          30.957310902441982,
          30.957310902441982,
          30.957310902441982,
          30.957310902441982,
          25.18657298538593,
          26.327097578773174,
          25.421032965957465,
          26.327097578773174,
          25.421032965957465,
          25.870098868152237,
          25.870098868152237,
          25.870098868152237,
          25.870098868152237,
          24.73771424673084,
          25.870098868152237,
          24.73771424673084,
          25.870098868152237,
          25.421032965957465,
          25.199431692412144,
          25.199431692412144,
          25.199431692412144,
          32.48341785613054,
          32.48341785613054,
          32.48341785613054,
          32.48341785613054,
          32.48341785613054,
          32.78089609588467,
          33.27693905456083,
          32.2142975224363,
          34.51362514121314,
          34.51362514121314,
          34.51362514121314,
          34.51362514121314,
          34.51362514121314,
          34.51362514121314,
          35.016896845098834,
          35.016896845098834,
          41.48884353432633,
          41.43428159186846,
          41.43428159186846,
          41.43428159186846,
          41.163679761776,
          41.163679761776,
          37.802550345656144,
          37.802550345656144,
          31.200509361436016,
          31.620054748339648,
          41.01300380010165,
          41.01300380010165,
          39.915145923235784,
          39.915145923235784,
          39.915145923235784,
          41.02804465881726,
          40.701874244577176,
          41.73399866383801,
          41.2446742208606,
          41.488615050683855,
          41.488615050683855,
          41.488615050683855,
          41.488615050683855,
          41.488615050683855,
          41.488615050683855,
          42.229128423865866,
          42.229128423865866,
          41.488615050683855,
          41.488615050683855,
          38.22956093480426,
          38.22956093480426,
          38.22956093480426,
          38.22956093480426,
          38.71934018314963,
          38.47367119066147,
          38.47367119066147,
          34.76687513744172,
          35.872043845225875,
          35.77125155156975,
          35.77125155156975,
          35.77125155156975,
          35.77125155156975,
          29.855105058189263,
          36.04177486170357,
          44.96217639269771,
          44.96217639269771,
          37.90482997991495,
          33.20074462867609,
          35.06848633340322,
          35.06848633340322,
          34.36068632385807,
          34.36068632385807,
          24.608716433624025,
          24.36838773636167,
          29.64753075092597
         ],
         "xaxis": "x",
         "y": [
          35.08,
          33.4,
          31.72,
          31.12,
          28.39,
          29.7,
          27.47,
          27.61,
          31.63,
          26.3,
          27.13,
          22.49,
          24.66,
          16.96,
          20.15,
          30.93,
          31.9,
          31.3,
          30.83,
          31.02,
          30.3,
          30.6,
          30.6,
          33.52,
          32.47,
          32.41,
          32.14,
          33.9,
          32.83,
          35.01,
          25.32,
          26.27,
          25.46,
          28.11,
          30.02,
          25,
          31.89,
          30.4,
          30.58,
          32.55,
          27.38,
          23.81,
          22.79,
          20.28,
          23.33,
          24.34,
          20.74,
          18.1,
          21.53,
          22.81,
          20.43,
          21.72,
          20.52,
          23.31,
          22.72,
          22.04,
          24.11,
          26.34,
          25.23,
          36.56,
          37.59,
          34.38,
          27.27,
          26.77,
          24.99,
          26.67,
          29.5,
          29.06,
          31.79,
          27.15,
          28.49,
          29.67,
          28.73,
          38.37,
          37.64,
          44.87,
          43.54,
          45.08,
          37.38,
          44.91,
          37.72,
          35.68,
          31.77,
          30.22,
          32.61,
          33.11,
          36.06,
          33.79,
          31.01,
          34.14,
          36.59,
          32.32,
          36.4,
          35.01,
          36.48,
          35.68,
          37.27,
          38.2,
          39.58,
          41.4,
          38.88,
          37.34,
          33.03,
          37.85,
          36.12,
          41.45,
          32.42,
          33.51,
          37.2,
          33.63,
          38.44,
          32.46,
          32.78,
          28.08,
          33.8,
          30.87,
          26.86,
          40.19,
          29.78,
          27.93,
          30.76,
          35.22,
          36.01,
          29.84,
          30.51,
          28.5,
          32.35,
          34.28,
          32.74,
          33.45,
          33.71,
          30.4,
          29.56,
          27.56,
          28.85,
          29.74,
          30.78,
          28.53,
          31.74,
          32.92,
          35.62,
          38.09,
          36.31,
          37.81,
          35.4,
          36.2,
          35.11,
          30,
          26.39,
          27.87,
          28.99,
          25.41,
          25.14,
          29.98,
          25.54,
          25.21,
          32.73,
          25.01,
          24.54,
          34.88,
          29.67,
          30.69,
          36.28,
          34.07,
          28.25,
          37.54,
          39.53,
          31.48,
          29.69,
          32.49,
          35.22,
          34.09,
          35.22,
          33.79,
          37.96,
          37.03,
          37.66,
          40,
          32.44,
          35.92,
          31.86,
          35.2,
          35.89,
          35.39,
          40.53,
          40.14,
          34.91,
          38.42,
          36.59,
          30.88,
          34,
          32.64,
          30.87,
          35.15,
          31.94,
          35.39,
          37.73,
          37.77,
          38.36,
          42.61,
          43.19,
          38.3,
          37.46,
          31.07,
          32.51,
          33.02,
          38.61,
          28.72,
          30.44,
          30.26,
          27.53,
          34.54,
          26.54,
          27.39,
          21.2,
          33.9,
          31.71,
          34.49,
          35.72,
          27.98,
          26.02,
          29,
          27.06,
          26.39,
          24.03,
          33.17,
          27.43,
          31.39,
          28.41,
          30.16,
          29.92,
          30.02,
          29.46,
          27.31,
          28.38,
          29.64,
          30.5,
          40.23,
          39.69,
          35.81,
          34.7,
          38.75,
          30.32,
          35.07,
          29.37,
          33.09,
          31.39,
          31.19,
          31.76,
          33.84,
          30.49,
          34.47,
          29.24,
          31.72,
          38.11,
          35.69,
          37.13,
          34.04,
          33.82,
          32.46,
          30.58,
          29.93,
          34.49,
          38.16,
          32.56,
          32.54,
          32.31,
          32.6,
          29.51,
          31.26,
          32.16,
          31.26,
          33.01,
          21.27,
          23.67,
          25.79,
          29.67,
          27.15,
          22.14,
          25.69,
          23.59,
          27.62,
          24.96,
          22.79,
          22.12,
          22.21,
          22.79,
          26.82,
          25.29,
          32.84,
          26.07,
          25.56,
          26.66,
          27.64,
          26.95,
          32.4,
          27.28,
          27.28,
          29.56,
          31.61,
          37.24,
          33.4,
          36.56,
          37.67,
          33.07,
          34.88,
          40.21,
          39.14,
          36.4,
          38.04,
          40.48,
          36.24,
          35.22,
          37.81,
          22.25,
          27.36,
          31.42,
          31.74,
          30.62,
          29.6,
          28.29,
          37.17,
          34.45,
          37.54,
          39.44,
          42.79,
          37.86,
          37.46,
          36.98,
          41.96,
          44.3,
          39.97,
          42.35,
          37.32,
          36.4,
          35.29,
          35.55,
          33.93,
          34.74,
          36.2,
          32.68,
          30,
          30.44,
          31.34,
          29.48,
          33.72,
          28.94,
          34.8,
          21.92,
          34.65,
          49.94,
          38.19,
          28.88,
          28.01,
          29.1,
          32.45,
          25.68,
          31.51,
          22.32,
          20.79,
          33.29
         ],
         "yaxis": "y"
        }
       ],
       "layout": {
        "legend": {
         "tracegroupgap": 0
        },
        "template": {
         "data": {
          "bar": [
           {
            "error_x": {
             "color": "#2a3f5f"
            },
            "error_y": {
             "color": "#2a3f5f"
            },
            "marker": {
             "line": {
              "color": "#E5ECF6",
              "width": 0.5
             }
            },
            "type": "bar"
           }
          ],
          "barpolar": [
           {
            "marker": {
             "line": {
              "color": "#E5ECF6",
              "width": 0.5
             }
            },
            "type": "barpolar"
           }
          ],
          "carpet": [
           {
            "aaxis": {
             "endlinecolor": "#2a3f5f",
             "gridcolor": "white",
             "linecolor": "white",
             "minorgridcolor": "white",
             "startlinecolor": "#2a3f5f"
            },
            "baxis": {
             "endlinecolor": "#2a3f5f",
             "gridcolor": "white",
             "linecolor": "white",
             "minorgridcolor": "white",
             "startlinecolor": "#2a3f5f"
            },
            "type": "carpet"
           }
          ],
          "choropleth": [
           {
            "colorbar": {
             "outlinewidth": 0,
             "ticks": ""
            },
            "type": "choropleth"
           }
          ],
          "contour": [
           {
            "colorbar": {
             "outlinewidth": 0,
             "ticks": ""
            },
            "colorscale": [
             [
              0,
              "#0d0887"
             ],
             [
              0.1111111111111111,
              "#46039f"
             ],
             [
              0.2222222222222222,
              "#7201a8"
             ],
             [
              0.3333333333333333,
              "#9c179e"
             ],
             [
              0.4444444444444444,
              "#bd3786"
             ],
             [
              0.5555555555555556,
              "#d8576b"
             ],
             [
              0.6666666666666666,
              "#ed7953"
             ],
             [
              0.7777777777777778,
              "#fb9f3a"
             ],
             [
              0.8888888888888888,
              "#fdca26"
             ],
             [
              1,
              "#f0f921"
             ]
            ],
            "type": "contour"
           }
          ],
          "contourcarpet": [
           {
            "colorbar": {
             "outlinewidth": 0,
             "ticks": ""
            },
            "type": "contourcarpet"
           }
          ],
          "heatmap": [
           {
            "colorbar": {
             "outlinewidth": 0,
             "ticks": ""
            },
            "colorscale": [
             [
              0,
              "#0d0887"
             ],
             [
              0.1111111111111111,
              "#46039f"
             ],
             [
              0.2222222222222222,
              "#7201a8"
             ],
             [
              0.3333333333333333,
              "#9c179e"
             ],
             [
              0.4444444444444444,
              "#bd3786"
             ],
             [
              0.5555555555555556,
              "#d8576b"
             ],
             [
              0.6666666666666666,
              "#ed7953"
             ],
             [
              0.7777777777777778,
              "#fb9f3a"
             ],
             [
              0.8888888888888888,
              "#fdca26"
             ],
             [
              1,
              "#f0f921"
             ]
            ],
            "type": "heatmap"
           }
          ],
          "heatmapgl": [
           {
            "colorbar": {
             "outlinewidth": 0,
             "ticks": ""
            },
            "colorscale": [
             [
              0,
              "#0d0887"
             ],
             [
              0.1111111111111111,
              "#46039f"
             ],
             [
              0.2222222222222222,
              "#7201a8"
             ],
             [
              0.3333333333333333,
              "#9c179e"
             ],
             [
              0.4444444444444444,
              "#bd3786"
             ],
             [
              0.5555555555555556,
              "#d8576b"
             ],
             [
              0.6666666666666666,
              "#ed7953"
             ],
             [
              0.7777777777777778,
              "#fb9f3a"
             ],
             [
              0.8888888888888888,
              "#fdca26"
             ],
             [
              1,
              "#f0f921"
             ]
            ],
            "type": "heatmapgl"
           }
          ],
          "histogram": [
           {
            "marker": {
             "colorbar": {
              "outlinewidth": 0,
              "ticks": ""
             }
            },
            "type": "histogram"
           }
          ],
          "histogram2d": [
           {
            "colorbar": {
             "outlinewidth": 0,
             "ticks": ""
            },
            "colorscale": [
             [
              0,
              "#0d0887"
             ],
             [
              0.1111111111111111,
              "#46039f"
             ],
             [
              0.2222222222222222,
              "#7201a8"
             ],
             [
              0.3333333333333333,
              "#9c179e"
             ],
             [
              0.4444444444444444,
              "#bd3786"
             ],
             [
              0.5555555555555556,
              "#d8576b"
             ],
             [
              0.6666666666666666,
              "#ed7953"
             ],
             [
              0.7777777777777778,
              "#fb9f3a"
             ],
             [
              0.8888888888888888,
              "#fdca26"
             ],
             [
              1,
              "#f0f921"
             ]
            ],
            "type": "histogram2d"
           }
          ],
          "histogram2dcontour": [
           {
            "colorbar": {
             "outlinewidth": 0,
             "ticks": ""
            },
            "colorscale": [
             [
              0,
              "#0d0887"
             ],
             [
              0.1111111111111111,
              "#46039f"
             ],
             [
              0.2222222222222222,
              "#7201a8"
             ],
             [
              0.3333333333333333,
              "#9c179e"
             ],
             [
              0.4444444444444444,
              "#bd3786"
             ],
             [
              0.5555555555555556,
              "#d8576b"
             ],
             [
              0.6666666666666666,
              "#ed7953"
             ],
             [
              0.7777777777777778,
              "#fb9f3a"
             ],
             [
              0.8888888888888888,
              "#fdca26"
             ],
             [
              1,
              "#f0f921"
             ]
            ],
            "type": "histogram2dcontour"
           }
          ],
          "mesh3d": [
           {
            "colorbar": {
             "outlinewidth": 0,
             "ticks": ""
            },
            "type": "mesh3d"
           }
          ],
          "parcoords": [
           {
            "line": {
             "colorbar": {
              "outlinewidth": 0,
              "ticks": ""
             }
            },
            "type": "parcoords"
           }
          ],
          "pie": [
           {
            "automargin": true,
            "type": "pie"
           }
          ],
          "scatter": [
           {
            "marker": {
             "colorbar": {
              "outlinewidth": 0,
              "ticks": ""
             }
            },
            "type": "scatter"
           }
          ],
          "scatter3d": [
           {
            "line": {
             "colorbar": {
              "outlinewidth": 0,
              "ticks": ""
             }
            },
            "marker": {
             "colorbar": {
              "outlinewidth": 0,
              "ticks": ""
             }
            },
            "type": "scatter3d"
           }
          ],
          "scattercarpet": [
           {
            "marker": {
             "colorbar": {
              "outlinewidth": 0,
              "ticks": ""
             }
            },
            "type": "scattercarpet"
           }
          ],
          "scattergeo": [
           {
            "marker": {
             "colorbar": {
              "outlinewidth": 0,
              "ticks": ""
             }
            },
            "type": "scattergeo"
           }
          ],
          "scattergl": [
           {
            "marker": {
             "colorbar": {
              "outlinewidth": 0,
              "ticks": ""
             }
            },
            "type": "scattergl"
           }
          ],
          "scattermapbox": [
           {
            "marker": {
             "colorbar": {
              "outlinewidth": 0,
              "ticks": ""
             }
            },
            "type": "scattermapbox"
           }
          ],
          "scatterpolar": [
           {
            "marker": {
             "colorbar": {
              "outlinewidth": 0,
              "ticks": ""
             }
            },
            "type": "scatterpolar"
           }
          ],
          "scatterpolargl": [
           {
            "marker": {
             "colorbar": {
              "outlinewidth": 0,
              "ticks": ""
             }
            },
            "type": "scatterpolargl"
           }
          ],
          "scatterternary": [
           {
            "marker": {
             "colorbar": {
              "outlinewidth": 0,
              "ticks": ""
             }
            },
            "type": "scatterternary"
           }
          ],
          "surface": [
           {
            "colorbar": {
             "outlinewidth": 0,
             "ticks": ""
            },
            "colorscale": [
             [
              0,
              "#0d0887"
             ],
             [
              0.1111111111111111,
              "#46039f"
             ],
             [
              0.2222222222222222,
              "#7201a8"
             ],
             [
              0.3333333333333333,
              "#9c179e"
             ],
             [
              0.4444444444444444,
              "#bd3786"
             ],
             [
              0.5555555555555556,
              "#d8576b"
             ],
             [
              0.6666666666666666,
              "#ed7953"
             ],
             [
              0.7777777777777778,
              "#fb9f3a"
             ],
             [
              0.8888888888888888,
              "#fdca26"
             ],
             [
              1,
              "#f0f921"
             ]
            ],
            "type": "surface"
           }
          ],
          "table": [
           {
            "cells": {
             "fill": {
              "color": "#EBF0F8"
             },
             "line": {
              "color": "white"
             }
            },
            "header": {
             "fill": {
              "color": "#C8D4E3"
             },
             "line": {
              "color": "white"
             }
            },
            "type": "table"
           }
          ]
         },
         "layout": {
          "annotationdefaults": {
           "arrowcolor": "#2a3f5f",
           "arrowhead": 0,
           "arrowwidth": 1
          },
          "autotypenumbers": "strict",
          "coloraxis": {
           "colorbar": {
            "outlinewidth": 0,
            "ticks": ""
           }
          },
          "colorscale": {
           "diverging": [
            [
             0,
             "#8e0152"
            ],
            [
             0.1,
             "#c51b7d"
            ],
            [
             0.2,
             "#de77ae"
            ],
            [
             0.3,
             "#f1b6da"
            ],
            [
             0.4,
             "#fde0ef"
            ],
            [
             0.5,
             "#f7f7f7"
            ],
            [
             0.6,
             "#e6f5d0"
            ],
            [
             0.7,
             "#b8e186"
            ],
            [
             0.8,
             "#7fbc41"
            ],
            [
             0.9,
             "#4d9221"
            ],
            [
             1,
             "#276419"
            ]
           ],
           "sequential": [
            [
             0,
             "#0d0887"
            ],
            [
             0.1111111111111111,
             "#46039f"
            ],
            [
             0.2222222222222222,
             "#7201a8"
            ],
            [
             0.3333333333333333,
             "#9c179e"
            ],
            [
             0.4444444444444444,
             "#bd3786"
            ],
            [
             0.5555555555555556,
             "#d8576b"
            ],
            [
             0.6666666666666666,
             "#ed7953"
            ],
            [
             0.7777777777777778,
             "#fb9f3a"
            ],
            [
             0.8888888888888888,
             "#fdca26"
            ],
            [
             1,
             "#f0f921"
            ]
           ],
           "sequentialminus": [
            [
             0,
             "#0d0887"
            ],
            [
             0.1111111111111111,
             "#46039f"
            ],
            [
             0.2222222222222222,
             "#7201a8"
            ],
            [
             0.3333333333333333,
             "#9c179e"
            ],
            [
             0.4444444444444444,
             "#bd3786"
            ],
            [
             0.5555555555555556,
             "#d8576b"
            ],
            [
             0.6666666666666666,
             "#ed7953"
            ],
            [
             0.7777777777777778,
             "#fb9f3a"
            ],
            [
             0.8888888888888888,
             "#fdca26"
            ],
            [
             1,
             "#f0f921"
            ]
           ]
          },
          "colorway": [
           "#636efa",
           "#EF553B",
           "#00cc96",
           "#ab63fa",
           "#FFA15A",
           "#19d3f3",
           "#FF6692",
           "#B6E880",
           "#FF97FF",
           "#FECB52"
          ],
          "font": {
           "color": "#2a3f5f"
          },
          "geo": {
           "bgcolor": "white",
           "lakecolor": "white",
           "landcolor": "#E5ECF6",
           "showlakes": true,
           "showland": true,
           "subunitcolor": "white"
          },
          "hoverlabel": {
           "align": "left"
          },
          "hovermode": "closest",
          "mapbox": {
           "style": "light"
          },
          "paper_bgcolor": "white",
          "plot_bgcolor": "#E5ECF6",
          "polar": {
           "angularaxis": {
            "gridcolor": "white",
            "linecolor": "white",
            "ticks": ""
           },
           "bgcolor": "#E5ECF6",
           "radialaxis": {
            "gridcolor": "white",
            "linecolor": "white",
            "ticks": ""
           }
          },
          "scene": {
           "xaxis": {
            "backgroundcolor": "#E5ECF6",
            "gridcolor": "white",
            "gridwidth": 2,
            "linecolor": "white",
            "showbackground": true,
            "ticks": "",
            "zerolinecolor": "white"
           },
           "yaxis": {
            "backgroundcolor": "#E5ECF6",
            "gridcolor": "white",
            "gridwidth": 2,
            "linecolor": "white",
            "showbackground": true,
            "ticks": "",
            "zerolinecolor": "white"
           },
           "zaxis": {
            "backgroundcolor": "#E5ECF6",
            "gridcolor": "white",
            "gridwidth": 2,
            "linecolor": "white",
            "showbackground": true,
            "ticks": "",
            "zerolinecolor": "white"
           }
          },
          "shapedefaults": {
           "line": {
            "color": "#2a3f5f"
           }
          },
          "ternary": {
           "aaxis": {
            "gridcolor": "white",
            "linecolor": "white",
            "ticks": ""
           },
           "baxis": {
            "gridcolor": "white",
            "linecolor": "white",
            "ticks": ""
           },
           "bgcolor": "#E5ECF6",
           "caxis": {
            "gridcolor": "white",
            "linecolor": "white",
            "ticks": ""
           }
          },
          "title": {
           "x": 0.05
          },
          "xaxis": {
           "automargin": true,
           "gridcolor": "white",
           "linecolor": "white",
           "ticks": "",
           "title": {
            "standoff": 15
           },
           "zerolinecolor": "white",
           "zerolinewidth": 2
          },
          "yaxis": {
           "automargin": true,
           "gridcolor": "white",
           "linecolor": "white",
           "ticks": "",
           "title": {
            "standoff": 15
           },
           "zerolinecolor": "white",
           "zerolinewidth": 2
          }
         }
        },
        "title": {
         "text": "Rompimento7Dias x Rompimento 28 Dias"
        },
        "xaxis": {
         "anchor": "y",
         "domain": [
          0,
          1
         ],
         "title": {
          "text": "ResultadoEsperado"
         }
        },
        "yaxis": {
         "anchor": "x",
         "domain": [
          0,
          1
         ],
         "title": {
          "text": "Rompimento28Dias"
         }
        }
       }
      },
      "text/html": [
       "<div>                            <div id=\"39cfb7b9-f75a-411e-967c-69354a488c52\" class=\"plotly-graph-div\" style=\"height:525px; width:100%;\"></div>            <script type=\"text/javascript\">                require([\"plotly\"], function(Plotly) {                    window.PLOTLYENV=window.PLOTLYENV || {};                                    if (document.getElementById(\"39cfb7b9-f75a-411e-967c-69354a488c52\")) {                    Plotly.newPlot(                        \"39cfb7b9-f75a-411e-967c-69354a488c52\",                        [{\"hovertemplate\": \"ResultadoEsperado=%{x}<br>Rompimento28Dias=%{y}<extra></extra>\", \"legendgroup\": \"\", \"marker\": {\"color\": \"#636efa\", \"symbol\": \"circle\"}, \"mode\": \"markers\", \"name\": \"\", \"orientation\": \"v\", \"showlegend\": false, \"type\": \"scatter\", \"x\": [46.09523087927805, 44.353205953117154, 35.5589272795614, 35.5589272795614, 35.5589272795614, 43.215546075990346, 43.215546075990346, 43.215546075990346, 37.17220871397308, 39.856094384032495, 39.856094384032495, 39.856094384032495, 39.856094384032495, 21.452811414389206, 21.918276060524708, 46.50673416853282, 46.99829137050666, 46.50673416853282, 46.50673416853282, 46.50673416853282, 46.50673416853282, 46.50673416853282, 46.02031818501114, 50.156848181213675, 50.156848181213675, 50.156848181213675, 50.156848181213675, 50.156848181213675, 50.156848181213675, 55.144185290389736, 39.749811748951174, 39.749811748951174, 39.749811748951174, 39.749811748951174, 40.99676134580852, 44.977257468703925, 43.60923786844146, 44.28796585555543, 44.28796585555543, 43.60923786844146, 43.60923786844146, 30.81919848385484, 29.21955102058596, 29.21955102058596, 28.553606381080236, 27.90283932806701, 27.90283932806701, 27.90283932806701, 27.90283932806701, 27.90283932806701, 27.90283932806701, 28.553606381080236, 28.553606381080236, 28.553606381080236, 28.553606381080236, 31.042616901506577, 30.033098034005647, 30.890931291695672, 31.439038166389345, 46.181334639261294, 41.439304474946326, 41.439304474946326, 43.62539492810303, 43.409278916776174, 43.409278916776174, 43.409278916776174, 44.256026633185996, 44.256026633185996, 47.81143867445191, 36.57094624706181, 36.33587956966944, 36.33587956966944, 44.81003032411275, 50.11830302502225, 50.11830302502225, 53.13884918402324, 53.13884918402324, 53.13884918402324, 53.13884918402324, 52.21405335524735, 52.21405335524735, 40.784431794490615, 39.2597537576924, 39.58071250504951, 39.58071250504951, 38.49304991253123, 38.49304991253123, 38.49304991253123, 39.36074870476399, 40.699108175820896, 40.699108175820896, 40.699108175820896, 40.699108175820896, 40.21426204792701, 40.21426204792701, 40.21426204792701, 40.21426204792701, 40.21426204792701, 40.21426204792701, 40.21426204792701, 39.855418816835495, 39.49101178866092, 39.22708337830133, 38.704506469758364, 37.295328835278454, 38.86393565629237, 35.61239588986234, 35.61239588986234, 35.61239588986234, 35.61239588986234, 35.61239588986234, 32.85223150191521, 32.85223150191521, 31.78975813214037, 32.6055356340065, 32.6055356340065, 31.876507507931017, 40.316240815041375, 44.39874842718093, 49.535117807951, 49.535117807951, 46.576897798944366, 48.861904567679154, 48.861904567679154, 48.861904567679154, 47.869200887447064, 47.869200887447064, 44.39874842718093, 47.869200887447064, 47.869200887447064, 47.869200887447064, 47.839435886228244, 35.1419816419981, 35.1419816419981, 35.1419816419981, 35.876146897382064, 37.04713287451543, 34.53539652514695, 35.06397247940587, 36.42107763995592, 34.53539652514695, 37.54448328764434, 34.53539652514695, 34.53539652514695, 34.53539652514695, 34.79868091355076, 34.79868091355076, 32.6821760331661, 31.10991489121923, 37.89198794691771, 38.5198663058788, 38.5198663058788, 38.5198663058788, 38.53888972843159, 29.363508300409716, 27.360268222955106, 28.3441962854158, 26.671438176450405, 27.360268222955106, 34.274104128030075, 46.327670735681686, 49.20462504672704, 47.90455748318689, 46.327670735681686, 36.53664936221606, 50.82811066104102, 50.82811066104102, 52.906840362791044, 52.906840362791044, 52.906840362791044, 52.00574412335799, 52.00574412335799, 49.9624188325348, 49.9624188325348, 49.9624188325348, 49.9624188325348, 49.9624188325348, 49.9624188325348, 40.88354040865546, 41.10048820439405, 41.10048820439405, 42.37394846528194, 42.37394846528194, 42.37394846528194, 41.60627826210368, 41.60627826210368, 41.60627826210368, 41.60627826210368, 41.60627826210368, 41.60627826210368, 41.60627826210368, 37.713904444706564, 37.713904444706564, 39.58409688003349, 39.58409688003349, 39.58409688003349, 46.06641719257869, 46.06641719257869, 40.0014109581401, 40.0014109581401, 40.0014109581401, 40.0014109581401, 40.0014109581401, 39.584148437382304, 39.584148437382304, 39.57031490047251, 32.17933841506988, 31.429925075699817, 30.58030820535888, 31.429925075699817, 31.429925075699817, 31.260653495529198, 31.556511214286708, 31.556511214286708, 29.896318841170764, 36.554159942957284, 36.554159942957284, 36.554159942957284, 36.554159942957284, 34.79884536800273, 34.79884536800273, 34.79884536800273, 34.79884536800273, 33.72316376840761, 33.72316376840761, 34.79884536800273, 35.90883842519579, 35.90883842519579, 35.90883842519579, 35.90883842519579, 35.238664696212794, 35.238664696212794, 35.770652144062744, 35.37202531790717, 33.45269657797216, 33.45269657797216, 34.46891045900806, 36.48752386975361, 37.56730133666538, 49.20019874866827, 49.20019874866827, 49.20019874866827, 31.0211246919601, 31.0211246919601, 31.0211246919601, 31.0211246919601, 31.0211246919601, 31.0211246919601, 31.0211246919601, 30.53332199636397, 30.53332199636397, 30.53332199636397, 32.02023410739583, 32.02023410739583, 32.02023410739583, 32.02023410739583, 32.02023410739583, 32.02023410739583, 32.02023410739583, 32.02023410739583, 32.02023410739583, 30.77625690217988, 31.0211246919601, 31.0211246919601, 31.0211246919601, 31.0211246919601, 30.957310902441982, 31.44992471575037, 30.957310902441982, 30.957310902441982, 30.957310902441982, 30.957310902441982, 30.957310902441982, 25.18657298538593, 26.327097578773174, 25.421032965957465, 26.327097578773174, 25.421032965957465, 25.870098868152237, 25.870098868152237, 25.870098868152237, 25.870098868152237, 24.73771424673084, 25.870098868152237, 24.73771424673084, 25.870098868152237, 25.421032965957465, 25.199431692412144, 25.199431692412144, 25.199431692412144, 32.48341785613054, 32.48341785613054, 32.48341785613054, 32.48341785613054, 32.48341785613054, 32.78089609588467, 33.27693905456083, 32.2142975224363, 34.51362514121314, 34.51362514121314, 34.51362514121314, 34.51362514121314, 34.51362514121314, 34.51362514121314, 35.016896845098834, 35.016896845098834, 41.48884353432633, 41.43428159186846, 41.43428159186846, 41.43428159186846, 41.163679761776, 41.163679761776, 37.802550345656144, 37.802550345656144, 31.200509361436016, 31.620054748339648, 41.01300380010165, 41.01300380010165, 39.915145923235784, 39.915145923235784, 39.915145923235784, 41.02804465881726, 40.701874244577176, 41.73399866383801, 41.2446742208606, 41.488615050683855, 41.488615050683855, 41.488615050683855, 41.488615050683855, 41.488615050683855, 41.488615050683855, 42.229128423865866, 42.229128423865866, 41.488615050683855, 41.488615050683855, 38.22956093480426, 38.22956093480426, 38.22956093480426, 38.22956093480426, 38.71934018314963, 38.47367119066147, 38.47367119066147, 34.76687513744172, 35.872043845225875, 35.77125155156975, 35.77125155156975, 35.77125155156975, 35.77125155156975, 29.855105058189263, 36.04177486170357, 44.96217639269771, 44.96217639269771, 37.90482997991495, 33.20074462867609, 35.06848633340322, 35.06848633340322, 34.36068632385807, 34.36068632385807, 24.608716433624025, 24.36838773636167, 29.64753075092597], \"xaxis\": \"x\", \"y\": [35.08, 33.4, 31.72, 31.12, 28.39, 29.7, 27.47, 27.61, 31.63, 26.3, 27.13, 22.49, 24.66, 16.96, 20.15, 30.93, 31.9, 31.3, 30.83, 31.02, 30.3, 30.6, 30.6, 33.52, 32.47, 32.41, 32.14, 33.9, 32.83, 35.01, 25.32, 26.27, 25.46, 28.11, 30.02, 25.0, 31.89, 30.4, 30.58, 32.55, 27.38, 23.81, 22.79, 20.28, 23.33, 24.34, 20.74, 18.1, 21.53, 22.81, 20.43, 21.72, 20.52, 23.31, 22.72, 22.04, 24.11, 26.34, 25.23, 36.56, 37.59, 34.38, 27.27, 26.77, 24.99, 26.67, 29.5, 29.06, 31.79, 27.15, 28.49, 29.67, 28.73, 38.37, 37.64, 44.87, 43.54, 45.08, 37.38, 44.91, 37.72, 35.68, 31.77, 30.22, 32.61, 33.11, 36.06, 33.79, 31.01, 34.14, 36.59, 32.32, 36.4, 35.01, 36.48, 35.68, 37.27, 38.2, 39.58, 41.4, 38.88, 37.34, 33.03, 37.85, 36.12, 41.45, 32.42, 33.51, 37.2, 33.63, 38.44, 32.46, 32.78, 28.08, 33.8, 30.87, 26.86, 40.19, 29.78, 27.93, 30.76, 35.22, 36.01, 29.84, 30.51, 28.5, 32.35, 34.28, 32.74, 33.45, 33.71, 30.4, 29.56, 27.56, 28.85, 29.74, 30.78, 28.53, 31.74, 32.92, 35.62, 38.09, 36.31, 37.81, 35.4, 36.2, 35.11, 30.0, 26.39, 27.87, 28.99, 25.41, 25.14, 29.98, 25.54, 25.21, 32.73, 25.01, 24.54, 34.88, 29.67, 30.69, 36.28, 34.07, 28.25, 37.54, 39.53, 31.48, 29.69, 32.49, 35.22, 34.09, 35.22, 33.79, 37.96, 37.03, 37.66, 40.0, 32.44, 35.92, 31.86, 35.2, 35.89, 35.39, 40.53, 40.14, 34.91, 38.42, 36.59, 30.88, 34.0, 32.64, 30.87, 35.15, 31.94, 35.39, 37.73, 37.77, 38.36, 42.61, 43.19, 38.3, 37.46, 31.07, 32.51, 33.02, 38.61, 28.72, 30.44, 30.26, 27.53, 34.54, 26.54, 27.39, 21.2, 33.9, 31.71, 34.49, 35.72, 27.98, 26.02, 29.0, 27.06, 26.39, 24.03, 33.17, 27.43, 31.39, 28.41, 30.16, 29.92, 30.02, 29.46, 27.31, 28.38, 29.64, 30.5, 40.23, 39.69, 35.81, 34.7, 38.75, 30.32, 35.07, 29.37, 33.09, 31.39, 31.19, 31.76, 33.84, 30.49, 34.47, 29.24, 31.72, 38.11, 35.69, 37.13, 34.04, 33.82, 32.46, 30.58, 29.93, 34.49, 38.16, 32.56, 32.54, 32.31, 32.6, 29.51, 31.26, 32.16, 31.26, 33.01, 21.27, 23.67, 25.79, 29.67, 27.15, 22.14, 25.69, 23.59, 27.62, 24.96, 22.79, 22.12, 22.21, 22.79, 26.82, 25.29, 32.84, 26.07, 25.56, 26.66, 27.64, 26.95, 32.4, 27.28, 27.28, 29.56, 31.61, 37.24, 33.4, 36.56, 37.67, 33.07, 34.88, 40.21, 39.14, 36.4, 38.04, 40.48, 36.24, 35.22, 37.81, 22.25, 27.36, 31.42, 31.74, 30.62, 29.6, 28.29, 37.17, 34.45, 37.54, 39.44, 42.79, 37.86, 37.46, 36.98, 41.96, 44.3, 39.97, 42.35, 37.32, 36.4, 35.29, 35.55, 33.93, 34.74, 36.2, 32.68, 30.0, 30.44, 31.34, 29.48, 33.72, 28.94, 34.8, 21.92, 34.65, 49.94, 38.19, 28.88, 28.01, 29.1, 32.45, 25.68, 31.51, 22.32, 20.79, 33.29], \"yaxis\": \"y\"}],                        {\"legend\": {\"tracegroupgap\": 0}, \"template\": {\"data\": {\"bar\": [{\"error_x\": {\"color\": \"#2a3f5f\"}, \"error_y\": {\"color\": \"#2a3f5f\"}, \"marker\": {\"line\": {\"color\": \"#E5ECF6\", \"width\": 0.5}}, \"type\": \"bar\"}], \"barpolar\": [{\"marker\": {\"line\": {\"color\": \"#E5ECF6\", \"width\": 0.5}}, \"type\": \"barpolar\"}], \"carpet\": [{\"aaxis\": {\"endlinecolor\": \"#2a3f5f\", \"gridcolor\": \"white\", \"linecolor\": \"white\", \"minorgridcolor\": \"white\", \"startlinecolor\": \"#2a3f5f\"}, \"baxis\": {\"endlinecolor\": \"#2a3f5f\", \"gridcolor\": \"white\", \"linecolor\": \"white\", \"minorgridcolor\": \"white\", \"startlinecolor\": \"#2a3f5f\"}, \"type\": \"carpet\"}], \"choropleth\": [{\"colorbar\": {\"outlinewidth\": 0, \"ticks\": \"\"}, \"type\": \"choropleth\"}], \"contour\": [{\"colorbar\": {\"outlinewidth\": 0, \"ticks\": \"\"}, \"colorscale\": [[0.0, \"#0d0887\"], [0.1111111111111111, \"#46039f\"], [0.2222222222222222, \"#7201a8\"], [0.3333333333333333, \"#9c179e\"], [0.4444444444444444, \"#bd3786\"], [0.5555555555555556, \"#d8576b\"], [0.6666666666666666, \"#ed7953\"], [0.7777777777777778, \"#fb9f3a\"], [0.8888888888888888, \"#fdca26\"], [1.0, \"#f0f921\"]], \"type\": \"contour\"}], \"contourcarpet\": [{\"colorbar\": {\"outlinewidth\": 0, \"ticks\": \"\"}, \"type\": \"contourcarpet\"}], \"heatmap\": [{\"colorbar\": {\"outlinewidth\": 0, \"ticks\": \"\"}, \"colorscale\": [[0.0, \"#0d0887\"], [0.1111111111111111, \"#46039f\"], [0.2222222222222222, \"#7201a8\"], [0.3333333333333333, \"#9c179e\"], [0.4444444444444444, \"#bd3786\"], [0.5555555555555556, \"#d8576b\"], [0.6666666666666666, \"#ed7953\"], [0.7777777777777778, \"#fb9f3a\"], [0.8888888888888888, \"#fdca26\"], [1.0, \"#f0f921\"]], \"type\": \"heatmap\"}], \"heatmapgl\": [{\"colorbar\": {\"outlinewidth\": 0, \"ticks\": \"\"}, \"colorscale\": [[0.0, \"#0d0887\"], [0.1111111111111111, \"#46039f\"], [0.2222222222222222, \"#7201a8\"], [0.3333333333333333, \"#9c179e\"], [0.4444444444444444, \"#bd3786\"], [0.5555555555555556, \"#d8576b\"], [0.6666666666666666, \"#ed7953\"], [0.7777777777777778, \"#fb9f3a\"], [0.8888888888888888, \"#fdca26\"], [1.0, \"#f0f921\"]], \"type\": \"heatmapgl\"}], \"histogram\": [{\"marker\": {\"colorbar\": {\"outlinewidth\": 0, \"ticks\": \"\"}}, \"type\": \"histogram\"}], \"histogram2d\": [{\"colorbar\": {\"outlinewidth\": 0, \"ticks\": \"\"}, \"colorscale\": [[0.0, \"#0d0887\"], [0.1111111111111111, \"#46039f\"], [0.2222222222222222, \"#7201a8\"], [0.3333333333333333, \"#9c179e\"], [0.4444444444444444, \"#bd3786\"], [0.5555555555555556, \"#d8576b\"], [0.6666666666666666, \"#ed7953\"], [0.7777777777777778, \"#fb9f3a\"], [0.8888888888888888, \"#fdca26\"], [1.0, \"#f0f921\"]], \"type\": \"histogram2d\"}], \"histogram2dcontour\": [{\"colorbar\": {\"outlinewidth\": 0, \"ticks\": \"\"}, \"colorscale\": [[0.0, \"#0d0887\"], [0.1111111111111111, \"#46039f\"], [0.2222222222222222, \"#7201a8\"], [0.3333333333333333, \"#9c179e\"], [0.4444444444444444, \"#bd3786\"], [0.5555555555555556, \"#d8576b\"], [0.6666666666666666, \"#ed7953\"], [0.7777777777777778, \"#fb9f3a\"], [0.8888888888888888, \"#fdca26\"], [1.0, \"#f0f921\"]], \"type\": \"histogram2dcontour\"}], \"mesh3d\": [{\"colorbar\": {\"outlinewidth\": 0, \"ticks\": \"\"}, \"type\": \"mesh3d\"}], \"parcoords\": [{\"line\": {\"colorbar\": {\"outlinewidth\": 0, \"ticks\": \"\"}}, \"type\": \"parcoords\"}], \"pie\": [{\"automargin\": true, \"type\": \"pie\"}], \"scatter\": [{\"marker\": {\"colorbar\": {\"outlinewidth\": 0, \"ticks\": \"\"}}, \"type\": \"scatter\"}], \"scatter3d\": [{\"line\": {\"colorbar\": {\"outlinewidth\": 0, \"ticks\": \"\"}}, \"marker\": {\"colorbar\": {\"outlinewidth\": 0, \"ticks\": \"\"}}, \"type\": \"scatter3d\"}], \"scattercarpet\": [{\"marker\": {\"colorbar\": {\"outlinewidth\": 0, \"ticks\": \"\"}}, \"type\": \"scattercarpet\"}], \"scattergeo\": [{\"marker\": {\"colorbar\": {\"outlinewidth\": 0, \"ticks\": \"\"}}, \"type\": \"scattergeo\"}], \"scattergl\": [{\"marker\": {\"colorbar\": {\"outlinewidth\": 0, \"ticks\": \"\"}}, \"type\": \"scattergl\"}], \"scattermapbox\": [{\"marker\": {\"colorbar\": {\"outlinewidth\": 0, \"ticks\": \"\"}}, \"type\": \"scattermapbox\"}], \"scatterpolar\": [{\"marker\": {\"colorbar\": {\"outlinewidth\": 0, \"ticks\": \"\"}}, \"type\": \"scatterpolar\"}], \"scatterpolargl\": [{\"marker\": {\"colorbar\": {\"outlinewidth\": 0, \"ticks\": \"\"}}, \"type\": \"scatterpolargl\"}], \"scatterternary\": [{\"marker\": {\"colorbar\": {\"outlinewidth\": 0, \"ticks\": \"\"}}, \"type\": \"scatterternary\"}], \"surface\": [{\"colorbar\": {\"outlinewidth\": 0, \"ticks\": \"\"}, \"colorscale\": [[0.0, \"#0d0887\"], [0.1111111111111111, \"#46039f\"], [0.2222222222222222, \"#7201a8\"], [0.3333333333333333, \"#9c179e\"], [0.4444444444444444, \"#bd3786\"], [0.5555555555555556, \"#d8576b\"], [0.6666666666666666, \"#ed7953\"], [0.7777777777777778, \"#fb9f3a\"], [0.8888888888888888, \"#fdca26\"], [1.0, \"#f0f921\"]], \"type\": \"surface\"}], \"table\": [{\"cells\": {\"fill\": {\"color\": \"#EBF0F8\"}, \"line\": {\"color\": \"white\"}}, \"header\": {\"fill\": {\"color\": \"#C8D4E3\"}, \"line\": {\"color\": \"white\"}}, \"type\": \"table\"}]}, \"layout\": {\"annotationdefaults\": {\"arrowcolor\": \"#2a3f5f\", \"arrowhead\": 0, \"arrowwidth\": 1}, \"autotypenumbers\": \"strict\", \"coloraxis\": {\"colorbar\": {\"outlinewidth\": 0, \"ticks\": \"\"}}, \"colorscale\": {\"diverging\": [[0, \"#8e0152\"], [0.1, \"#c51b7d\"], [0.2, \"#de77ae\"], [0.3, \"#f1b6da\"], [0.4, \"#fde0ef\"], [0.5, \"#f7f7f7\"], [0.6, \"#e6f5d0\"], [0.7, \"#b8e186\"], [0.8, \"#7fbc41\"], [0.9, \"#4d9221\"], [1, \"#276419\"]], \"sequential\": [[0.0, \"#0d0887\"], [0.1111111111111111, \"#46039f\"], [0.2222222222222222, \"#7201a8\"], [0.3333333333333333, \"#9c179e\"], [0.4444444444444444, \"#bd3786\"], [0.5555555555555556, \"#d8576b\"], [0.6666666666666666, \"#ed7953\"], [0.7777777777777778, \"#fb9f3a\"], [0.8888888888888888, \"#fdca26\"], [1.0, \"#f0f921\"]], \"sequentialminus\": [[0.0, \"#0d0887\"], [0.1111111111111111, \"#46039f\"], [0.2222222222222222, \"#7201a8\"], [0.3333333333333333, \"#9c179e\"], [0.4444444444444444, \"#bd3786\"], [0.5555555555555556, \"#d8576b\"], [0.6666666666666666, \"#ed7953\"], [0.7777777777777778, \"#fb9f3a\"], [0.8888888888888888, \"#fdca26\"], [1.0, \"#f0f921\"]]}, \"colorway\": [\"#636efa\", \"#EF553B\", \"#00cc96\", \"#ab63fa\", \"#FFA15A\", \"#19d3f3\", \"#FF6692\", \"#B6E880\", \"#FF97FF\", \"#FECB52\"], \"font\": {\"color\": \"#2a3f5f\"}, \"geo\": {\"bgcolor\": \"white\", \"lakecolor\": \"white\", \"landcolor\": \"#E5ECF6\", \"showlakes\": true, \"showland\": true, \"subunitcolor\": \"white\"}, \"hoverlabel\": {\"align\": \"left\"}, \"hovermode\": \"closest\", \"mapbox\": {\"style\": \"light\"}, \"paper_bgcolor\": \"white\", \"plot_bgcolor\": \"#E5ECF6\", \"polar\": {\"angularaxis\": {\"gridcolor\": \"white\", \"linecolor\": \"white\", \"ticks\": \"\"}, \"bgcolor\": \"#E5ECF6\", \"radialaxis\": {\"gridcolor\": \"white\", \"linecolor\": \"white\", \"ticks\": \"\"}}, \"scene\": {\"xaxis\": {\"backgroundcolor\": \"#E5ECF6\", \"gridcolor\": \"white\", \"gridwidth\": 2, \"linecolor\": \"white\", \"showbackground\": true, \"ticks\": \"\", \"zerolinecolor\": \"white\"}, \"yaxis\": {\"backgroundcolor\": \"#E5ECF6\", \"gridcolor\": \"white\", \"gridwidth\": 2, \"linecolor\": \"white\", \"showbackground\": true, \"ticks\": \"\", \"zerolinecolor\": \"white\"}, \"zaxis\": {\"backgroundcolor\": \"#E5ECF6\", \"gridcolor\": \"white\", \"gridwidth\": 2, \"linecolor\": \"white\", \"showbackground\": true, \"ticks\": \"\", \"zerolinecolor\": \"white\"}}, \"shapedefaults\": {\"line\": {\"color\": \"#2a3f5f\"}}, \"ternary\": {\"aaxis\": {\"gridcolor\": \"white\", \"linecolor\": \"white\", \"ticks\": \"\"}, \"baxis\": {\"gridcolor\": \"white\", \"linecolor\": \"white\", \"ticks\": \"\"}, \"bgcolor\": \"#E5ECF6\", \"caxis\": {\"gridcolor\": \"white\", \"linecolor\": \"white\", \"ticks\": \"\"}}, \"title\": {\"x\": 0.05}, \"xaxis\": {\"automargin\": true, \"gridcolor\": \"white\", \"linecolor\": \"white\", \"ticks\": \"\", \"title\": {\"standoff\": 15}, \"zerolinecolor\": \"white\", \"zerolinewidth\": 2}, \"yaxis\": {\"automargin\": true, \"gridcolor\": \"white\", \"linecolor\": \"white\", \"ticks\": \"\", \"title\": {\"standoff\": 15}, \"zerolinecolor\": \"white\", \"zerolinewidth\": 2}}}, \"title\": {\"text\": \"Rompimento7Dias x Rompimento 28 Dias\"}, \"xaxis\": {\"anchor\": \"y\", \"domain\": [0.0, 1.0], \"title\": {\"text\": \"ResultadoEsperado\"}}, \"yaxis\": {\"anchor\": \"x\", \"domain\": [0.0, 1.0], \"title\": {\"text\": \"Rompimento28Dias\"}}},                        {\"responsive\": true}                    ).then(function(){\n",
       "                            \n",
       "var gd = document.getElementById('39cfb7b9-f75a-411e-967c-69354a488c52');\n",
       "var x = new MutationObserver(function (mutations, observer) {{\n",
       "        var display = window.getComputedStyle(gd).display;\n",
       "        if (!display || display === 'none') {{\n",
       "            console.log([gd, 'removed!']);\n",
       "            Plotly.purge(gd);\n",
       "            observer.disconnect();\n",
       "        }}\n",
       "}});\n",
       "\n",
       "// Listen for the removal of the full notebook cells\n",
       "var notebookContainer = gd.closest('#notebook-container');\n",
       "if (notebookContainer) {{\n",
       "    x.observe(notebookContainer, {childList: true});\n",
       "}}\n",
       "\n",
       "// Listen for the clearing of the current output cell\n",
       "var outputEl = gd.closest('.output');\n",
       "if (outputEl) {{\n",
       "    x.observe(outputEl, {childList: true});\n",
       "}}\n",
       "\n",
       "                        })                };                });            </script>        </div>"
      ]
     },
     "metadata": {},
     "output_type": "display_data"
    }
   ],
   "source": [
    "fig = px.scatter(dados_aglomerante, x=\"ResultadoEsperado\", y=\"Rompimento28Dias\", title='Rompimento7Dias x Rompimento 28 Dias')\n",
    "fig.show()"
   ]
  },
  {
   "cell_type": "code",
   "execution_count": 1268,
   "metadata": {},
   "outputs": [
    {
     "data": {
      "application/vnd.plotly.v1+json": {
       "config": {
        "plotlyServerURL": "https://plot.ly"
       },
       "data": [
        {
         "hovertemplate": "ConsumoPorM3=%{x}<br>Rompimento28Dias=%{y}<extra></extra>",
         "legendgroup": "",
         "marker": {
          "color": "#636efa",
          "symbol": "circle"
         },
         "mode": "markers",
         "name": "",
         "orientation": "v",
         "showlegend": false,
         "type": "scatter",
         "x": [
          362,
          320,
          320,
          320,
          320,
          324,
          324,
          324,
          324,
          214,
          214,
          214,
          214,
          195,
          194,
          354,
          354,
          354,
          354,
          354,
          354,
          354,
          354,
          373,
          373,
          373,
          373,
          373,
          373,
          373,
          241,
          241,
          241,
          241,
          241,
          241,
          241,
          241,
          241,
          241,
          241,
          233,
          219,
          219,
          219,
          219,
          219,
          219,
          219,
          219,
          219,
          219,
          219,
          219,
          219,
          233,
          237,
          228,
          228,
          292,
          292,
          292,
          271,
          289,
          289,
          289,
          289,
          289,
          289,
          287,
          281,
          281,
          281,
          318,
          318,
          318,
          318,
          318,
          318,
          318,
          318,
          314,
          295,
          302,
          302,
          302,
          302,
          302,
          302,
          302,
          302,
          302,
          302,
          310,
          310,
          310,
          310,
          310,
          310,
          310,
          311,
          299,
          299,
          299,
          292,
          292,
          276,
          276,
          276,
          276,
          276,
          266,
          266,
          260,
          266,
          266,
          266,
          309,
          272,
          272,
          272,
          272,
          272,
          272,
          272,
          272,
          272,
          272,
          272,
          272,
          272,
          272,
          256,
          256,
          256,
          262,
          262,
          264,
          264,
          264,
          264,
          264,
          264,
          264,
          264,
          264,
          264,
          244,
          244,
          244,
          244,
          244,
          244,
          233,
          227,
          227,
          227,
          221,
          227,
          264,
          278,
          278,
          278,
          278,
          275,
          325,
          325,
          325,
          325,
          325,
          325,
          325,
          325,
          325,
          325,
          325,
          325,
          325,
          318,
          318,
          318,
          329,
          329,
          329,
          329,
          329,
          329,
          329,
          329,
          329,
          329,
          307,
          307,
          319,
          319,
          319,
          402,
          402,
          321,
          321,
          321,
          321,
          321,
          321,
          321,
          321,
          283,
          273,
          268,
          273,
          273,
          272,
          249,
          249,
          244,
          281,
          281,
          281,
          281,
          268,
          268,
          268,
          268,
          268,
          268,
          268,
          268,
          268,
          268,
          268,
          268,
          268,
          273,
          266,
          268,
          268,
          268,
          275,
          275,
          275,
          275,
          275,
          253,
          253,
          253,
          253,
          253,
          253,
          253,
          253,
          253,
          253,
          253,
          253,
          253,
          253,
          253,
          253,
          253,
          253,
          253,
          253,
          253,
          253,
          253,
          253,
          254,
          254,
          254,
          254,
          254,
          254,
          254,
          223,
          229,
          229,
          229,
          229,
          229,
          229,
          229,
          229,
          223,
          229,
          223,
          229,
          229,
          229,
          229,
          229,
          229,
          229,
          229,
          229,
          229,
          267,
          267,
          261,
          277,
          277,
          277,
          277,
          277,
          277,
          277,
          277,
          326,
          306,
          306,
          306,
          306,
          306,
          306,
          306,
          252,
          252,
          306,
          306,
          306,
          306,
          306,
          306,
          328,
          340,
          340,
          340,
          340,
          340,
          340,
          340,
          340,
          340,
          340,
          340,
          340,
          315,
          315,
          315,
          315,
          315,
          315,
          315,
          299,
          306,
          283,
          283,
          283,
          283,
          250,
          311,
          361,
          361,
          291,
          285,
          295,
          295,
          295,
          295,
          227,
          227,
          256
         ],
         "xaxis": "x",
         "y": [
          35.08,
          33.4,
          31.72,
          31.12,
          28.39,
          29.7,
          27.47,
          27.61,
          31.63,
          26.3,
          27.13,
          22.49,
          24.66,
          16.96,
          20.15,
          30.93,
          31.9,
          31.3,
          30.83,
          31.02,
          30.3,
          30.6,
          30.6,
          33.52,
          32.47,
          32.41,
          32.14,
          33.9,
          32.83,
          35.01,
          25.32,
          26.27,
          25.46,
          28.11,
          30.02,
          25,
          31.89,
          30.4,
          30.58,
          32.55,
          27.38,
          23.81,
          22.79,
          20.28,
          23.33,
          24.34,
          20.74,
          18.1,
          21.53,
          22.81,
          20.43,
          21.72,
          20.52,
          23.31,
          22.72,
          22.04,
          24.11,
          26.34,
          25.23,
          36.56,
          37.59,
          34.38,
          27.27,
          26.77,
          24.99,
          26.67,
          29.5,
          29.06,
          31.79,
          27.15,
          28.49,
          29.67,
          28.73,
          38.37,
          37.64,
          44.87,
          43.54,
          45.08,
          37.38,
          44.91,
          37.72,
          35.68,
          31.77,
          30.22,
          32.61,
          33.11,
          36.06,
          33.79,
          31.01,
          34.14,
          36.59,
          32.32,
          36.4,
          35.01,
          36.48,
          35.68,
          37.27,
          38.2,
          39.58,
          41.4,
          38.88,
          37.34,
          33.03,
          37.85,
          36.12,
          41.45,
          32.42,
          33.51,
          37.2,
          33.63,
          38.44,
          32.46,
          32.78,
          28.08,
          33.8,
          30.87,
          26.86,
          40.19,
          29.78,
          27.93,
          30.76,
          35.22,
          36.01,
          29.84,
          30.51,
          28.5,
          32.35,
          34.28,
          32.74,
          33.45,
          33.71,
          30.4,
          29.56,
          27.56,
          28.85,
          29.74,
          30.78,
          28.53,
          31.74,
          32.92,
          35.62,
          38.09,
          36.31,
          37.81,
          35.4,
          36.2,
          35.11,
          30,
          26.39,
          27.87,
          28.99,
          25.41,
          25.14,
          29.98,
          25.54,
          25.21,
          32.73,
          25.01,
          24.54,
          34.88,
          29.67,
          30.69,
          36.28,
          34.07,
          28.25,
          37.54,
          39.53,
          31.48,
          29.69,
          32.49,
          35.22,
          34.09,
          35.22,
          33.79,
          37.96,
          37.03,
          37.66,
          40,
          32.44,
          35.92,
          31.86,
          35.2,
          35.89,
          35.39,
          40.53,
          40.14,
          34.91,
          38.42,
          36.59,
          30.88,
          34,
          32.64,
          30.87,
          35.15,
          31.94,
          35.39,
          37.73,
          37.77,
          38.36,
          42.61,
          43.19,
          38.3,
          37.46,
          31.07,
          32.51,
          33.02,
          38.61,
          28.72,
          30.44,
          30.26,
          27.53,
          34.54,
          26.54,
          27.39,
          21.2,
          33.9,
          31.71,
          34.49,
          35.72,
          27.98,
          26.02,
          29,
          27.06,
          26.39,
          24.03,
          33.17,
          27.43,
          31.39,
          28.41,
          30.16,
          29.92,
          30.02,
          29.46,
          27.31,
          28.38,
          29.64,
          30.5,
          40.23,
          39.69,
          35.81,
          34.7,
          38.75,
          30.32,
          35.07,
          29.37,
          33.09,
          31.39,
          31.19,
          31.76,
          33.84,
          30.49,
          34.47,
          29.24,
          31.72,
          38.11,
          35.69,
          37.13,
          34.04,
          33.82,
          32.46,
          30.58,
          29.93,
          34.49,
          38.16,
          32.56,
          32.54,
          32.31,
          32.6,
          29.51,
          31.26,
          32.16,
          31.26,
          33.01,
          21.27,
          23.67,
          25.79,
          29.67,
          27.15,
          22.14,
          25.69,
          23.59,
          27.62,
          24.96,
          22.79,
          22.12,
          22.21,
          22.79,
          26.82,
          25.29,
          32.84,
          26.07,
          25.56,
          26.66,
          27.64,
          26.95,
          32.4,
          27.28,
          27.28,
          29.56,
          31.61,
          37.24,
          33.4,
          36.56,
          37.67,
          33.07,
          34.88,
          40.21,
          39.14,
          36.4,
          38.04,
          40.48,
          36.24,
          35.22,
          37.81,
          22.25,
          27.36,
          31.42,
          31.74,
          30.62,
          29.6,
          28.29,
          37.17,
          34.45,
          37.54,
          39.44,
          42.79,
          37.86,
          37.46,
          36.98,
          41.96,
          44.3,
          39.97,
          42.35,
          37.32,
          36.4,
          35.29,
          35.55,
          33.93,
          34.74,
          36.2,
          32.68,
          30,
          30.44,
          31.34,
          29.48,
          33.72,
          28.94,
          34.8,
          21.92,
          34.65,
          49.94,
          38.19,
          28.88,
          28.01,
          29.1,
          32.45,
          25.68,
          31.51,
          22.32,
          20.79,
          33.29
         ],
         "yaxis": "y"
        }
       ],
       "layout": {
        "legend": {
         "tracegroupgap": 0
        },
        "template": {
         "data": {
          "bar": [
           {
            "error_x": {
             "color": "#2a3f5f"
            },
            "error_y": {
             "color": "#2a3f5f"
            },
            "marker": {
             "line": {
              "color": "#E5ECF6",
              "width": 0.5
             }
            },
            "type": "bar"
           }
          ],
          "barpolar": [
           {
            "marker": {
             "line": {
              "color": "#E5ECF6",
              "width": 0.5
             }
            },
            "type": "barpolar"
           }
          ],
          "carpet": [
           {
            "aaxis": {
             "endlinecolor": "#2a3f5f",
             "gridcolor": "white",
             "linecolor": "white",
             "minorgridcolor": "white",
             "startlinecolor": "#2a3f5f"
            },
            "baxis": {
             "endlinecolor": "#2a3f5f",
             "gridcolor": "white",
             "linecolor": "white",
             "minorgridcolor": "white",
             "startlinecolor": "#2a3f5f"
            },
            "type": "carpet"
           }
          ],
          "choropleth": [
           {
            "colorbar": {
             "outlinewidth": 0,
             "ticks": ""
            },
            "type": "choropleth"
           }
          ],
          "contour": [
           {
            "colorbar": {
             "outlinewidth": 0,
             "ticks": ""
            },
            "colorscale": [
             [
              0,
              "#0d0887"
             ],
             [
              0.1111111111111111,
              "#46039f"
             ],
             [
              0.2222222222222222,
              "#7201a8"
             ],
             [
              0.3333333333333333,
              "#9c179e"
             ],
             [
              0.4444444444444444,
              "#bd3786"
             ],
             [
              0.5555555555555556,
              "#d8576b"
             ],
             [
              0.6666666666666666,
              "#ed7953"
             ],
             [
              0.7777777777777778,
              "#fb9f3a"
             ],
             [
              0.8888888888888888,
              "#fdca26"
             ],
             [
              1,
              "#f0f921"
             ]
            ],
            "type": "contour"
           }
          ],
          "contourcarpet": [
           {
            "colorbar": {
             "outlinewidth": 0,
             "ticks": ""
            },
            "type": "contourcarpet"
           }
          ],
          "heatmap": [
           {
            "colorbar": {
             "outlinewidth": 0,
             "ticks": ""
            },
            "colorscale": [
             [
              0,
              "#0d0887"
             ],
             [
              0.1111111111111111,
              "#46039f"
             ],
             [
              0.2222222222222222,
              "#7201a8"
             ],
             [
              0.3333333333333333,
              "#9c179e"
             ],
             [
              0.4444444444444444,
              "#bd3786"
             ],
             [
              0.5555555555555556,
              "#d8576b"
             ],
             [
              0.6666666666666666,
              "#ed7953"
             ],
             [
              0.7777777777777778,
              "#fb9f3a"
             ],
             [
              0.8888888888888888,
              "#fdca26"
             ],
             [
              1,
              "#f0f921"
             ]
            ],
            "type": "heatmap"
           }
          ],
          "heatmapgl": [
           {
            "colorbar": {
             "outlinewidth": 0,
             "ticks": ""
            },
            "colorscale": [
             [
              0,
              "#0d0887"
             ],
             [
              0.1111111111111111,
              "#46039f"
             ],
             [
              0.2222222222222222,
              "#7201a8"
             ],
             [
              0.3333333333333333,
              "#9c179e"
             ],
             [
              0.4444444444444444,
              "#bd3786"
             ],
             [
              0.5555555555555556,
              "#d8576b"
             ],
             [
              0.6666666666666666,
              "#ed7953"
             ],
             [
              0.7777777777777778,
              "#fb9f3a"
             ],
             [
              0.8888888888888888,
              "#fdca26"
             ],
             [
              1,
              "#f0f921"
             ]
            ],
            "type": "heatmapgl"
           }
          ],
          "histogram": [
           {
            "marker": {
             "colorbar": {
              "outlinewidth": 0,
              "ticks": ""
             }
            },
            "type": "histogram"
           }
          ],
          "histogram2d": [
           {
            "colorbar": {
             "outlinewidth": 0,
             "ticks": ""
            },
            "colorscale": [
             [
              0,
              "#0d0887"
             ],
             [
              0.1111111111111111,
              "#46039f"
             ],
             [
              0.2222222222222222,
              "#7201a8"
             ],
             [
              0.3333333333333333,
              "#9c179e"
             ],
             [
              0.4444444444444444,
              "#bd3786"
             ],
             [
              0.5555555555555556,
              "#d8576b"
             ],
             [
              0.6666666666666666,
              "#ed7953"
             ],
             [
              0.7777777777777778,
              "#fb9f3a"
             ],
             [
              0.8888888888888888,
              "#fdca26"
             ],
             [
              1,
              "#f0f921"
             ]
            ],
            "type": "histogram2d"
           }
          ],
          "histogram2dcontour": [
           {
            "colorbar": {
             "outlinewidth": 0,
             "ticks": ""
            },
            "colorscale": [
             [
              0,
              "#0d0887"
             ],
             [
              0.1111111111111111,
              "#46039f"
             ],
             [
              0.2222222222222222,
              "#7201a8"
             ],
             [
              0.3333333333333333,
              "#9c179e"
             ],
             [
              0.4444444444444444,
              "#bd3786"
             ],
             [
              0.5555555555555556,
              "#d8576b"
             ],
             [
              0.6666666666666666,
              "#ed7953"
             ],
             [
              0.7777777777777778,
              "#fb9f3a"
             ],
             [
              0.8888888888888888,
              "#fdca26"
             ],
             [
              1,
              "#f0f921"
             ]
            ],
            "type": "histogram2dcontour"
           }
          ],
          "mesh3d": [
           {
            "colorbar": {
             "outlinewidth": 0,
             "ticks": ""
            },
            "type": "mesh3d"
           }
          ],
          "parcoords": [
           {
            "line": {
             "colorbar": {
              "outlinewidth": 0,
              "ticks": ""
             }
            },
            "type": "parcoords"
           }
          ],
          "pie": [
           {
            "automargin": true,
            "type": "pie"
           }
          ],
          "scatter": [
           {
            "marker": {
             "colorbar": {
              "outlinewidth": 0,
              "ticks": ""
             }
            },
            "type": "scatter"
           }
          ],
          "scatter3d": [
           {
            "line": {
             "colorbar": {
              "outlinewidth": 0,
              "ticks": ""
             }
            },
            "marker": {
             "colorbar": {
              "outlinewidth": 0,
              "ticks": ""
             }
            },
            "type": "scatter3d"
           }
          ],
          "scattercarpet": [
           {
            "marker": {
             "colorbar": {
              "outlinewidth": 0,
              "ticks": ""
             }
            },
            "type": "scattercarpet"
           }
          ],
          "scattergeo": [
           {
            "marker": {
             "colorbar": {
              "outlinewidth": 0,
              "ticks": ""
             }
            },
            "type": "scattergeo"
           }
          ],
          "scattergl": [
           {
            "marker": {
             "colorbar": {
              "outlinewidth": 0,
              "ticks": ""
             }
            },
            "type": "scattergl"
           }
          ],
          "scattermapbox": [
           {
            "marker": {
             "colorbar": {
              "outlinewidth": 0,
              "ticks": ""
             }
            },
            "type": "scattermapbox"
           }
          ],
          "scatterpolar": [
           {
            "marker": {
             "colorbar": {
              "outlinewidth": 0,
              "ticks": ""
             }
            },
            "type": "scatterpolar"
           }
          ],
          "scatterpolargl": [
           {
            "marker": {
             "colorbar": {
              "outlinewidth": 0,
              "ticks": ""
             }
            },
            "type": "scatterpolargl"
           }
          ],
          "scatterternary": [
           {
            "marker": {
             "colorbar": {
              "outlinewidth": 0,
              "ticks": ""
             }
            },
            "type": "scatterternary"
           }
          ],
          "surface": [
           {
            "colorbar": {
             "outlinewidth": 0,
             "ticks": ""
            },
            "colorscale": [
             [
              0,
              "#0d0887"
             ],
             [
              0.1111111111111111,
              "#46039f"
             ],
             [
              0.2222222222222222,
              "#7201a8"
             ],
             [
              0.3333333333333333,
              "#9c179e"
             ],
             [
              0.4444444444444444,
              "#bd3786"
             ],
             [
              0.5555555555555556,
              "#d8576b"
             ],
             [
              0.6666666666666666,
              "#ed7953"
             ],
             [
              0.7777777777777778,
              "#fb9f3a"
             ],
             [
              0.8888888888888888,
              "#fdca26"
             ],
             [
              1,
              "#f0f921"
             ]
            ],
            "type": "surface"
           }
          ],
          "table": [
           {
            "cells": {
             "fill": {
              "color": "#EBF0F8"
             },
             "line": {
              "color": "white"
             }
            },
            "header": {
             "fill": {
              "color": "#C8D4E3"
             },
             "line": {
              "color": "white"
             }
            },
            "type": "table"
           }
          ]
         },
         "layout": {
          "annotationdefaults": {
           "arrowcolor": "#2a3f5f",
           "arrowhead": 0,
           "arrowwidth": 1
          },
          "autotypenumbers": "strict",
          "coloraxis": {
           "colorbar": {
            "outlinewidth": 0,
            "ticks": ""
           }
          },
          "colorscale": {
           "diverging": [
            [
             0,
             "#8e0152"
            ],
            [
             0.1,
             "#c51b7d"
            ],
            [
             0.2,
             "#de77ae"
            ],
            [
             0.3,
             "#f1b6da"
            ],
            [
             0.4,
             "#fde0ef"
            ],
            [
             0.5,
             "#f7f7f7"
            ],
            [
             0.6,
             "#e6f5d0"
            ],
            [
             0.7,
             "#b8e186"
            ],
            [
             0.8,
             "#7fbc41"
            ],
            [
             0.9,
             "#4d9221"
            ],
            [
             1,
             "#276419"
            ]
           ],
           "sequential": [
            [
             0,
             "#0d0887"
            ],
            [
             0.1111111111111111,
             "#46039f"
            ],
            [
             0.2222222222222222,
             "#7201a8"
            ],
            [
             0.3333333333333333,
             "#9c179e"
            ],
            [
             0.4444444444444444,
             "#bd3786"
            ],
            [
             0.5555555555555556,
             "#d8576b"
            ],
            [
             0.6666666666666666,
             "#ed7953"
            ],
            [
             0.7777777777777778,
             "#fb9f3a"
            ],
            [
             0.8888888888888888,
             "#fdca26"
            ],
            [
             1,
             "#f0f921"
            ]
           ],
           "sequentialminus": [
            [
             0,
             "#0d0887"
            ],
            [
             0.1111111111111111,
             "#46039f"
            ],
            [
             0.2222222222222222,
             "#7201a8"
            ],
            [
             0.3333333333333333,
             "#9c179e"
            ],
            [
             0.4444444444444444,
             "#bd3786"
            ],
            [
             0.5555555555555556,
             "#d8576b"
            ],
            [
             0.6666666666666666,
             "#ed7953"
            ],
            [
             0.7777777777777778,
             "#fb9f3a"
            ],
            [
             0.8888888888888888,
             "#fdca26"
            ],
            [
             1,
             "#f0f921"
            ]
           ]
          },
          "colorway": [
           "#636efa",
           "#EF553B",
           "#00cc96",
           "#ab63fa",
           "#FFA15A",
           "#19d3f3",
           "#FF6692",
           "#B6E880",
           "#FF97FF",
           "#FECB52"
          ],
          "font": {
           "color": "#2a3f5f"
          },
          "geo": {
           "bgcolor": "white",
           "lakecolor": "white",
           "landcolor": "#E5ECF6",
           "showlakes": true,
           "showland": true,
           "subunitcolor": "white"
          },
          "hoverlabel": {
           "align": "left"
          },
          "hovermode": "closest",
          "mapbox": {
           "style": "light"
          },
          "paper_bgcolor": "white",
          "plot_bgcolor": "#E5ECF6",
          "polar": {
           "angularaxis": {
            "gridcolor": "white",
            "linecolor": "white",
            "ticks": ""
           },
           "bgcolor": "#E5ECF6",
           "radialaxis": {
            "gridcolor": "white",
            "linecolor": "white",
            "ticks": ""
           }
          },
          "scene": {
           "xaxis": {
            "backgroundcolor": "#E5ECF6",
            "gridcolor": "white",
            "gridwidth": 2,
            "linecolor": "white",
            "showbackground": true,
            "ticks": "",
            "zerolinecolor": "white"
           },
           "yaxis": {
            "backgroundcolor": "#E5ECF6",
            "gridcolor": "white",
            "gridwidth": 2,
            "linecolor": "white",
            "showbackground": true,
            "ticks": "",
            "zerolinecolor": "white"
           },
           "zaxis": {
            "backgroundcolor": "#E5ECF6",
            "gridcolor": "white",
            "gridwidth": 2,
            "linecolor": "white",
            "showbackground": true,
            "ticks": "",
            "zerolinecolor": "white"
           }
          },
          "shapedefaults": {
           "line": {
            "color": "#2a3f5f"
           }
          },
          "ternary": {
           "aaxis": {
            "gridcolor": "white",
            "linecolor": "white",
            "ticks": ""
           },
           "baxis": {
            "gridcolor": "white",
            "linecolor": "white",
            "ticks": ""
           },
           "bgcolor": "#E5ECF6",
           "caxis": {
            "gridcolor": "white",
            "linecolor": "white",
            "ticks": ""
           }
          },
          "title": {
           "x": 0.05
          },
          "xaxis": {
           "automargin": true,
           "gridcolor": "white",
           "linecolor": "white",
           "ticks": "",
           "title": {
            "standoff": 15
           },
           "zerolinecolor": "white",
           "zerolinewidth": 2
          },
          "yaxis": {
           "automargin": true,
           "gridcolor": "white",
           "linecolor": "white",
           "ticks": "",
           "title": {
            "standoff": 15
           },
           "zerolinecolor": "white",
           "zerolinewidth": 2
          }
         }
        },
        "title": {
         "text": "Rompimento7Dias x Rompimento 28 Dias"
        },
        "xaxis": {
         "anchor": "y",
         "domain": [
          0,
          1
         ],
         "title": {
          "text": "ConsumoPorM3"
         }
        },
        "yaxis": {
         "anchor": "x",
         "domain": [
          0,
          1
         ],
         "title": {
          "text": "Rompimento28Dias"
         }
        }
       }
      },
      "text/html": [
       "<div>                            <div id=\"6b8d83c4-42bf-4df3-9d42-31299d4b0ad6\" class=\"plotly-graph-div\" style=\"height:525px; width:100%;\"></div>            <script type=\"text/javascript\">                require([\"plotly\"], function(Plotly) {                    window.PLOTLYENV=window.PLOTLYENV || {};                                    if (document.getElementById(\"6b8d83c4-42bf-4df3-9d42-31299d4b0ad6\")) {                    Plotly.newPlot(                        \"6b8d83c4-42bf-4df3-9d42-31299d4b0ad6\",                        [{\"hovertemplate\": \"ConsumoPorM3=%{x}<br>Rompimento28Dias=%{y}<extra></extra>\", \"legendgroup\": \"\", \"marker\": {\"color\": \"#636efa\", \"symbol\": \"circle\"}, \"mode\": \"markers\", \"name\": \"\", \"orientation\": \"v\", \"showlegend\": false, \"type\": \"scatter\", \"x\": [362.0, 320.0, 320.0, 320.0, 320.0, 324.0, 324.0, 324.0, 324.0, 214.0, 214.0, 214.0, 214.0, 195.0, 194.0, 354.0, 354.0, 354.0, 354.0, 354.0, 354.0, 354.0, 354.0, 373.0, 373.0, 373.0, 373.0, 373.0, 373.0, 373.0, 241.0, 241.0, 241.0, 241.0, 241.0, 241.0, 241.0, 241.0, 241.0, 241.0, 241.0, 233.0, 219.0, 219.0, 219.0, 219.0, 219.0, 219.0, 219.0, 219.0, 219.0, 219.0, 219.0, 219.0, 219.0, 233.0, 237.0, 228.0, 228.0, 292.0, 292.0, 292.0, 271.0, 289.0, 289.0, 289.0, 289.0, 289.0, 289.0, 287.0, 281.0, 281.0, 281.0, 318.0, 318.0, 318.0, 318.0, 318.0, 318.0, 318.0, 318.0, 314.0, 295.0, 302.0, 302.0, 302.0, 302.0, 302.0, 302.0, 302.0, 302.0, 302.0, 302.0, 310.0, 310.0, 310.0, 310.0, 310.0, 310.0, 310.0, 311.0, 299.0, 299.0, 299.0, 292.0, 292.0, 276.0, 276.0, 276.0, 276.0, 276.0, 266.0, 266.0, 260.0, 266.0, 266.0, 266.0, 309.0, 272.0, 272.0, 272.0, 272.0, 272.0, 272.0, 272.0, 272.0, 272.0, 272.0, 272.0, 272.0, 272.0, 272.0, 256.0, 256.0, 256.0, 262.0, 262.0, 264.0, 264.0, 264.0, 264.0, 264.0, 264.0, 264.0, 264.0, 264.0, 264.0, 244.0, 244.0, 244.0, 244.0, 244.0, 244.0, 233.0, 227.0, 227.0, 227.0, 221.0, 227.0, 264.0, 278.0, 278.0, 278.0, 278.0, 275.0, 325.0, 325.0, 325.0, 325.0, 325.0, 325.0, 325.0, 325.0, 325.0, 325.0, 325.0, 325.0, 325.0, 318.0, 318.0, 318.0, 329.0, 329.0, 329.0, 329.0, 329.0, 329.0, 329.0, 329.0, 329.0, 329.0, 307.0, 307.0, 319.0, 319.0, 319.0, 402.0, 402.0, 321.0, 321.0, 321.0, 321.0, 321.0, 321.0, 321.0, 321.0, 283.0, 273.0, 268.0, 273.0, 273.0, 272.0, 249.0, 249.0, 244.0, 281.0, 281.0, 281.0, 281.0, 268.0, 268.0, 268.0, 268.0, 268.0, 268.0, 268.0, 268.0, 268.0, 268.0, 268.0, 268.0, 268.0, 273.0, 266.0, 268.0, 268.0, 268.0, 275.0, 275.0, 275.0, 275.0, 275.0, 253.0, 253.0, 253.0, 253.0, 253.0, 253.0, 253.0, 253.0, 253.0, 253.0, 253.0, 253.0, 253.0, 253.0, 253.0, 253.0, 253.0, 253.0, 253.0, 253.0, 253.0, 253.0, 253.0, 253.0, 254.0, 254.0, 254.0, 254.0, 254.0, 254.0, 254.0, 223.0, 229.0, 229.0, 229.0, 229.0, 229.0, 229.0, 229.0, 229.0, 223.0, 229.0, 223.0, 229.0, 229.0, 229.0, 229.0, 229.0, 229.0, 229.0, 229.0, 229.0, 229.0, 267.0, 267.0, 261.0, 277.0, 277.0, 277.0, 277.0, 277.0, 277.0, 277.0, 277.0, 326.0, 306.0, 306.0, 306.0, 306.0, 306.0, 306.0, 306.0, 252.0, 252.0, 306.0, 306.0, 306.0, 306.0, 306.0, 306.0, 328.0, 340.0, 340.0, 340.0, 340.0, 340.0, 340.0, 340.0, 340.0, 340.0, 340.0, 340.0, 340.0, 315.0, 315.0, 315.0, 315.0, 315.0, 315.0, 315.0, 299.0, 306.0, 283.0, 283.0, 283.0, 283.0, 250.0, 311.0, 361.0, 361.0, 291.0, 285.0, 295.0, 295.0, 295.0, 295.0, 227.0, 227.0, 256.0], \"xaxis\": \"x\", \"y\": [35.08, 33.4, 31.72, 31.12, 28.39, 29.7, 27.47, 27.61, 31.63, 26.3, 27.13, 22.49, 24.66, 16.96, 20.15, 30.93, 31.9, 31.3, 30.83, 31.02, 30.3, 30.6, 30.6, 33.52, 32.47, 32.41, 32.14, 33.9, 32.83, 35.01, 25.32, 26.27, 25.46, 28.11, 30.02, 25.0, 31.89, 30.4, 30.58, 32.55, 27.38, 23.81, 22.79, 20.28, 23.33, 24.34, 20.74, 18.1, 21.53, 22.81, 20.43, 21.72, 20.52, 23.31, 22.72, 22.04, 24.11, 26.34, 25.23, 36.56, 37.59, 34.38, 27.27, 26.77, 24.99, 26.67, 29.5, 29.06, 31.79, 27.15, 28.49, 29.67, 28.73, 38.37, 37.64, 44.87, 43.54, 45.08, 37.38, 44.91, 37.72, 35.68, 31.77, 30.22, 32.61, 33.11, 36.06, 33.79, 31.01, 34.14, 36.59, 32.32, 36.4, 35.01, 36.48, 35.68, 37.27, 38.2, 39.58, 41.4, 38.88, 37.34, 33.03, 37.85, 36.12, 41.45, 32.42, 33.51, 37.2, 33.63, 38.44, 32.46, 32.78, 28.08, 33.8, 30.87, 26.86, 40.19, 29.78, 27.93, 30.76, 35.22, 36.01, 29.84, 30.51, 28.5, 32.35, 34.28, 32.74, 33.45, 33.71, 30.4, 29.56, 27.56, 28.85, 29.74, 30.78, 28.53, 31.74, 32.92, 35.62, 38.09, 36.31, 37.81, 35.4, 36.2, 35.11, 30.0, 26.39, 27.87, 28.99, 25.41, 25.14, 29.98, 25.54, 25.21, 32.73, 25.01, 24.54, 34.88, 29.67, 30.69, 36.28, 34.07, 28.25, 37.54, 39.53, 31.48, 29.69, 32.49, 35.22, 34.09, 35.22, 33.79, 37.96, 37.03, 37.66, 40.0, 32.44, 35.92, 31.86, 35.2, 35.89, 35.39, 40.53, 40.14, 34.91, 38.42, 36.59, 30.88, 34.0, 32.64, 30.87, 35.15, 31.94, 35.39, 37.73, 37.77, 38.36, 42.61, 43.19, 38.3, 37.46, 31.07, 32.51, 33.02, 38.61, 28.72, 30.44, 30.26, 27.53, 34.54, 26.54, 27.39, 21.2, 33.9, 31.71, 34.49, 35.72, 27.98, 26.02, 29.0, 27.06, 26.39, 24.03, 33.17, 27.43, 31.39, 28.41, 30.16, 29.92, 30.02, 29.46, 27.31, 28.38, 29.64, 30.5, 40.23, 39.69, 35.81, 34.7, 38.75, 30.32, 35.07, 29.37, 33.09, 31.39, 31.19, 31.76, 33.84, 30.49, 34.47, 29.24, 31.72, 38.11, 35.69, 37.13, 34.04, 33.82, 32.46, 30.58, 29.93, 34.49, 38.16, 32.56, 32.54, 32.31, 32.6, 29.51, 31.26, 32.16, 31.26, 33.01, 21.27, 23.67, 25.79, 29.67, 27.15, 22.14, 25.69, 23.59, 27.62, 24.96, 22.79, 22.12, 22.21, 22.79, 26.82, 25.29, 32.84, 26.07, 25.56, 26.66, 27.64, 26.95, 32.4, 27.28, 27.28, 29.56, 31.61, 37.24, 33.4, 36.56, 37.67, 33.07, 34.88, 40.21, 39.14, 36.4, 38.04, 40.48, 36.24, 35.22, 37.81, 22.25, 27.36, 31.42, 31.74, 30.62, 29.6, 28.29, 37.17, 34.45, 37.54, 39.44, 42.79, 37.86, 37.46, 36.98, 41.96, 44.3, 39.97, 42.35, 37.32, 36.4, 35.29, 35.55, 33.93, 34.74, 36.2, 32.68, 30.0, 30.44, 31.34, 29.48, 33.72, 28.94, 34.8, 21.92, 34.65, 49.94, 38.19, 28.88, 28.01, 29.1, 32.45, 25.68, 31.51, 22.32, 20.79, 33.29], \"yaxis\": \"y\"}],                        {\"legend\": {\"tracegroupgap\": 0}, \"template\": {\"data\": {\"bar\": [{\"error_x\": {\"color\": \"#2a3f5f\"}, \"error_y\": {\"color\": \"#2a3f5f\"}, \"marker\": {\"line\": {\"color\": \"#E5ECF6\", \"width\": 0.5}}, \"type\": \"bar\"}], \"barpolar\": [{\"marker\": {\"line\": {\"color\": \"#E5ECF6\", \"width\": 0.5}}, \"type\": \"barpolar\"}], \"carpet\": [{\"aaxis\": {\"endlinecolor\": \"#2a3f5f\", \"gridcolor\": \"white\", \"linecolor\": \"white\", \"minorgridcolor\": \"white\", \"startlinecolor\": \"#2a3f5f\"}, \"baxis\": {\"endlinecolor\": \"#2a3f5f\", \"gridcolor\": \"white\", \"linecolor\": \"white\", \"minorgridcolor\": \"white\", \"startlinecolor\": \"#2a3f5f\"}, \"type\": \"carpet\"}], \"choropleth\": [{\"colorbar\": {\"outlinewidth\": 0, \"ticks\": \"\"}, \"type\": \"choropleth\"}], \"contour\": [{\"colorbar\": {\"outlinewidth\": 0, \"ticks\": \"\"}, \"colorscale\": [[0.0, \"#0d0887\"], [0.1111111111111111, \"#46039f\"], [0.2222222222222222, \"#7201a8\"], [0.3333333333333333, \"#9c179e\"], [0.4444444444444444, \"#bd3786\"], [0.5555555555555556, \"#d8576b\"], [0.6666666666666666, \"#ed7953\"], [0.7777777777777778, \"#fb9f3a\"], [0.8888888888888888, \"#fdca26\"], [1.0, \"#f0f921\"]], \"type\": \"contour\"}], \"contourcarpet\": [{\"colorbar\": {\"outlinewidth\": 0, \"ticks\": \"\"}, \"type\": \"contourcarpet\"}], \"heatmap\": [{\"colorbar\": {\"outlinewidth\": 0, \"ticks\": \"\"}, \"colorscale\": [[0.0, \"#0d0887\"], [0.1111111111111111, \"#46039f\"], [0.2222222222222222, \"#7201a8\"], [0.3333333333333333, \"#9c179e\"], [0.4444444444444444, \"#bd3786\"], [0.5555555555555556, \"#d8576b\"], [0.6666666666666666, \"#ed7953\"], [0.7777777777777778, \"#fb9f3a\"], [0.8888888888888888, \"#fdca26\"], [1.0, \"#f0f921\"]], \"type\": \"heatmap\"}], \"heatmapgl\": [{\"colorbar\": {\"outlinewidth\": 0, \"ticks\": \"\"}, \"colorscale\": [[0.0, \"#0d0887\"], [0.1111111111111111, \"#46039f\"], [0.2222222222222222, \"#7201a8\"], [0.3333333333333333, \"#9c179e\"], [0.4444444444444444, \"#bd3786\"], [0.5555555555555556, \"#d8576b\"], [0.6666666666666666, \"#ed7953\"], [0.7777777777777778, \"#fb9f3a\"], [0.8888888888888888, \"#fdca26\"], [1.0, \"#f0f921\"]], \"type\": \"heatmapgl\"}], \"histogram\": [{\"marker\": {\"colorbar\": {\"outlinewidth\": 0, \"ticks\": \"\"}}, \"type\": \"histogram\"}], \"histogram2d\": [{\"colorbar\": {\"outlinewidth\": 0, \"ticks\": \"\"}, \"colorscale\": [[0.0, \"#0d0887\"], [0.1111111111111111, \"#46039f\"], [0.2222222222222222, \"#7201a8\"], [0.3333333333333333, \"#9c179e\"], [0.4444444444444444, \"#bd3786\"], [0.5555555555555556, \"#d8576b\"], [0.6666666666666666, \"#ed7953\"], [0.7777777777777778, \"#fb9f3a\"], [0.8888888888888888, \"#fdca26\"], [1.0, \"#f0f921\"]], \"type\": \"histogram2d\"}], \"histogram2dcontour\": [{\"colorbar\": {\"outlinewidth\": 0, \"ticks\": \"\"}, \"colorscale\": [[0.0, \"#0d0887\"], [0.1111111111111111, \"#46039f\"], [0.2222222222222222, \"#7201a8\"], [0.3333333333333333, \"#9c179e\"], [0.4444444444444444, \"#bd3786\"], [0.5555555555555556, \"#d8576b\"], [0.6666666666666666, \"#ed7953\"], [0.7777777777777778, \"#fb9f3a\"], [0.8888888888888888, \"#fdca26\"], [1.0, \"#f0f921\"]], \"type\": \"histogram2dcontour\"}], \"mesh3d\": [{\"colorbar\": {\"outlinewidth\": 0, \"ticks\": \"\"}, \"type\": \"mesh3d\"}], \"parcoords\": [{\"line\": {\"colorbar\": {\"outlinewidth\": 0, \"ticks\": \"\"}}, \"type\": \"parcoords\"}], \"pie\": [{\"automargin\": true, \"type\": \"pie\"}], \"scatter\": [{\"marker\": {\"colorbar\": {\"outlinewidth\": 0, \"ticks\": \"\"}}, \"type\": \"scatter\"}], \"scatter3d\": [{\"line\": {\"colorbar\": {\"outlinewidth\": 0, \"ticks\": \"\"}}, \"marker\": {\"colorbar\": {\"outlinewidth\": 0, \"ticks\": \"\"}}, \"type\": \"scatter3d\"}], \"scattercarpet\": [{\"marker\": {\"colorbar\": {\"outlinewidth\": 0, \"ticks\": \"\"}}, \"type\": \"scattercarpet\"}], \"scattergeo\": [{\"marker\": {\"colorbar\": {\"outlinewidth\": 0, \"ticks\": \"\"}}, \"type\": \"scattergeo\"}], \"scattergl\": [{\"marker\": {\"colorbar\": {\"outlinewidth\": 0, \"ticks\": \"\"}}, \"type\": \"scattergl\"}], \"scattermapbox\": [{\"marker\": {\"colorbar\": {\"outlinewidth\": 0, \"ticks\": \"\"}}, \"type\": \"scattermapbox\"}], \"scatterpolar\": [{\"marker\": {\"colorbar\": {\"outlinewidth\": 0, \"ticks\": \"\"}}, \"type\": \"scatterpolar\"}], \"scatterpolargl\": [{\"marker\": {\"colorbar\": {\"outlinewidth\": 0, \"ticks\": \"\"}}, \"type\": \"scatterpolargl\"}], \"scatterternary\": [{\"marker\": {\"colorbar\": {\"outlinewidth\": 0, \"ticks\": \"\"}}, \"type\": \"scatterternary\"}], \"surface\": [{\"colorbar\": {\"outlinewidth\": 0, \"ticks\": \"\"}, \"colorscale\": [[0.0, \"#0d0887\"], [0.1111111111111111, \"#46039f\"], [0.2222222222222222, \"#7201a8\"], [0.3333333333333333, \"#9c179e\"], [0.4444444444444444, \"#bd3786\"], [0.5555555555555556, \"#d8576b\"], [0.6666666666666666, \"#ed7953\"], [0.7777777777777778, \"#fb9f3a\"], [0.8888888888888888, \"#fdca26\"], [1.0, \"#f0f921\"]], \"type\": \"surface\"}], \"table\": [{\"cells\": {\"fill\": {\"color\": \"#EBF0F8\"}, \"line\": {\"color\": \"white\"}}, \"header\": {\"fill\": {\"color\": \"#C8D4E3\"}, \"line\": {\"color\": \"white\"}}, \"type\": \"table\"}]}, \"layout\": {\"annotationdefaults\": {\"arrowcolor\": \"#2a3f5f\", \"arrowhead\": 0, \"arrowwidth\": 1}, \"autotypenumbers\": \"strict\", \"coloraxis\": {\"colorbar\": {\"outlinewidth\": 0, \"ticks\": \"\"}}, \"colorscale\": {\"diverging\": [[0, \"#8e0152\"], [0.1, \"#c51b7d\"], [0.2, \"#de77ae\"], [0.3, \"#f1b6da\"], [0.4, \"#fde0ef\"], [0.5, \"#f7f7f7\"], [0.6, \"#e6f5d0\"], [0.7, \"#b8e186\"], [0.8, \"#7fbc41\"], [0.9, \"#4d9221\"], [1, \"#276419\"]], \"sequential\": [[0.0, \"#0d0887\"], [0.1111111111111111, \"#46039f\"], [0.2222222222222222, \"#7201a8\"], [0.3333333333333333, \"#9c179e\"], [0.4444444444444444, \"#bd3786\"], [0.5555555555555556, \"#d8576b\"], [0.6666666666666666, \"#ed7953\"], [0.7777777777777778, \"#fb9f3a\"], [0.8888888888888888, \"#fdca26\"], [1.0, \"#f0f921\"]], \"sequentialminus\": [[0.0, \"#0d0887\"], [0.1111111111111111, \"#46039f\"], [0.2222222222222222, \"#7201a8\"], [0.3333333333333333, \"#9c179e\"], [0.4444444444444444, \"#bd3786\"], [0.5555555555555556, \"#d8576b\"], [0.6666666666666666, \"#ed7953\"], [0.7777777777777778, \"#fb9f3a\"], [0.8888888888888888, \"#fdca26\"], [1.0, \"#f0f921\"]]}, \"colorway\": [\"#636efa\", \"#EF553B\", \"#00cc96\", \"#ab63fa\", \"#FFA15A\", \"#19d3f3\", \"#FF6692\", \"#B6E880\", \"#FF97FF\", \"#FECB52\"], \"font\": {\"color\": \"#2a3f5f\"}, \"geo\": {\"bgcolor\": \"white\", \"lakecolor\": \"white\", \"landcolor\": \"#E5ECF6\", \"showlakes\": true, \"showland\": true, \"subunitcolor\": \"white\"}, \"hoverlabel\": {\"align\": \"left\"}, \"hovermode\": \"closest\", \"mapbox\": {\"style\": \"light\"}, \"paper_bgcolor\": \"white\", \"plot_bgcolor\": \"#E5ECF6\", \"polar\": {\"angularaxis\": {\"gridcolor\": \"white\", \"linecolor\": \"white\", \"ticks\": \"\"}, \"bgcolor\": \"#E5ECF6\", \"radialaxis\": {\"gridcolor\": \"white\", \"linecolor\": \"white\", \"ticks\": \"\"}}, \"scene\": {\"xaxis\": {\"backgroundcolor\": \"#E5ECF6\", \"gridcolor\": \"white\", \"gridwidth\": 2, \"linecolor\": \"white\", \"showbackground\": true, \"ticks\": \"\", \"zerolinecolor\": \"white\"}, \"yaxis\": {\"backgroundcolor\": \"#E5ECF6\", \"gridcolor\": \"white\", \"gridwidth\": 2, \"linecolor\": \"white\", \"showbackground\": true, \"ticks\": \"\", \"zerolinecolor\": \"white\"}, \"zaxis\": {\"backgroundcolor\": \"#E5ECF6\", \"gridcolor\": \"white\", \"gridwidth\": 2, \"linecolor\": \"white\", \"showbackground\": true, \"ticks\": \"\", \"zerolinecolor\": \"white\"}}, \"shapedefaults\": {\"line\": {\"color\": \"#2a3f5f\"}}, \"ternary\": {\"aaxis\": {\"gridcolor\": \"white\", \"linecolor\": \"white\", \"ticks\": \"\"}, \"baxis\": {\"gridcolor\": \"white\", \"linecolor\": \"white\", \"ticks\": \"\"}, \"bgcolor\": \"#E5ECF6\", \"caxis\": {\"gridcolor\": \"white\", \"linecolor\": \"white\", \"ticks\": \"\"}}, \"title\": {\"x\": 0.05}, \"xaxis\": {\"automargin\": true, \"gridcolor\": \"white\", \"linecolor\": \"white\", \"ticks\": \"\", \"title\": {\"standoff\": 15}, \"zerolinecolor\": \"white\", \"zerolinewidth\": 2}, \"yaxis\": {\"automargin\": true, \"gridcolor\": \"white\", \"linecolor\": \"white\", \"ticks\": \"\", \"title\": {\"standoff\": 15}, \"zerolinecolor\": \"white\", \"zerolinewidth\": 2}}}, \"title\": {\"text\": \"Rompimento7Dias x Rompimento 28 Dias\"}, \"xaxis\": {\"anchor\": \"y\", \"domain\": [0.0, 1.0], \"title\": {\"text\": \"ConsumoPorM3\"}}, \"yaxis\": {\"anchor\": \"x\", \"domain\": [0.0, 1.0], \"title\": {\"text\": \"Rompimento28Dias\"}}},                        {\"responsive\": true}                    ).then(function(){\n",
       "                            \n",
       "var gd = document.getElementById('6b8d83c4-42bf-4df3-9d42-31299d4b0ad6');\n",
       "var x = new MutationObserver(function (mutations, observer) {{\n",
       "        var display = window.getComputedStyle(gd).display;\n",
       "        if (!display || display === 'none') {{\n",
       "            console.log([gd, 'removed!']);\n",
       "            Plotly.purge(gd);\n",
       "            observer.disconnect();\n",
       "        }}\n",
       "}});\n",
       "\n",
       "// Listen for the removal of the full notebook cells\n",
       "var notebookContainer = gd.closest('#notebook-container');\n",
       "if (notebookContainer) {{\n",
       "    x.observe(notebookContainer, {childList: true});\n",
       "}}\n",
       "\n",
       "// Listen for the clearing of the current output cell\n",
       "var outputEl = gd.closest('.output');\n",
       "if (outputEl) {{\n",
       "    x.observe(outputEl, {childList: true});\n",
       "}}\n",
       "\n",
       "                        })                };                });            </script>        </div>"
      ]
     },
     "metadata": {},
     "output_type": "display_data"
    }
   ],
   "source": [
    "fig = px.scatter(dados_aglomerante, x=\"ConsumoPorM3\", y=\"Rompimento28Dias\", title='Rompimento7Dias x Rompimento 28 Dias')\n",
    "fig.show()"
   ]
  },
  {
   "cell_type": "code",
   "execution_count": 1269,
   "metadata": {},
   "outputs": [
    {
     "data": {
      "application/vnd.plotly.v1+json": {
       "config": {
        "plotlyServerURL": "https://plot.ly"
       },
       "data": [
        {
         "hovertemplate": "QuantidadeAguaM3=%{x}<br>Rompimento28Dias=%{y}<extra></extra>",
         "legendgroup": "",
         "marker": {
          "color": "#636efa",
          "symbol": "circle"
         },
         "mode": "markers",
         "name": "",
         "orientation": "v",
         "showlegend": false,
         "type": "scatter",
         "x": [
          195,
          179,
          217,
          217,
          217,
          188,
          188,
          188,
          217,
          132,
          132,
          132,
          132,
          180,
          177,
          189,
          187,
          189,
          189,
          189,
          189,
          189,
          191,
          184,
          184,
          184,
          184,
          184,
          184,
          165,
          149,
          149,
          149,
          149,
          145,
          133,
          137,
          135,
          135,
          137,
          137,
          182,
          178,
          178,
          181,
          184,
          184,
          184,
          184,
          184,
          184,
          181,
          181,
          181,
          181,
          181,
          179,
          169,
          167,
          157,
          174,
          174,
          154,
          165,
          165,
          165,
          162,
          162,
          150,
          195,
          192,
          192,
          157,
          157,
          157,
          147,
          147,
          147,
          147,
          150,
          150,
          193,
          188,
          191,
          191,
          196,
          196,
          196,
          192,
          186,
          186,
          186,
          186,
          189,
          189,
          189,
          189,
          189,
          189,
          189,
          191,
          185,
          186,
          188,
          189,
          183,
          185,
          185,
          185,
          185,
          185,
          189,
          189,
          189,
          190,
          190,
          193,
          188,
          152,
          136,
          136,
          145,
          138,
          138,
          138,
          141,
          141,
          152,
          141,
          141,
          141,
          141.0909090909091,
          180,
          180,
          180,
          181,
          176,
          181,
          179,
          174,
          181,
          170,
          181,
          181,
          181,
          180,
          180,
          174,
          180,
          156,
          154,
          154,
          154,
          147,
          174,
          182,
          178,
          180,
          182,
          182,
          149,
          140,
          144,
          149,
          187,
          158,
          158,
          151,
          151,
          151,
          154,
          154,
          161,
          161,
          161,
          161,
          161,
          161,
          195,
          194,
          194,
          192,
          192,
          192,
          195,
          195,
          195,
          195,
          195,
          195,
          195,
          197,
          197,
          197,
          197,
          197,
          218,
          218,
          201,
          201,
          201,
          201,
          201,
          203,
          203,
          203.06666666666663,
          204,
          200,
          200,
          200,
          200,
          200,
          191,
          191,
          195,
          191,
          191,
          191,
          191,
          190,
          190,
          190,
          190,
          195,
          195,
          190,
          185,
          185,
          185,
          185,
          188,
          188,
          189.0769230769231,
          186,
          188,
          188,
          184,
          181,
          177,
          140,
          140,
          140,
          187,
          187,
          187,
          187,
          187,
          187,
          187,
          189,
          189,
          189,
          183,
          183,
          183,
          183,
          183,
          183,
          183,
          183,
          183,
          188,
          187,
          187,
          187,
          187,
          188,
          186,
          188,
          188,
          188,
          188,
          188,
          188,
          188,
          192,
          188,
          192,
          190,
          190,
          190,
          190,
          190,
          190,
          190,
          190,
          192,
          193,
          193,
          193,
          164,
          164,
          164,
          164,
          164,
          190,
          188,
          188,
          190,
          190,
          190,
          190,
          190,
          190,
          188,
          188,
          197.05882352941174,
          182,
          182,
          182,
          183,
          183,
          196,
          196,
          195,
          193,
          187.06666666666663,
          187.06666666666663,
          192,
          192,
          192,
          187,
          202,
          201,
          203,
          202,
          202,
          202,
          202,
          202,
          202,
          199,
          199,
          202,
          202,
          200,
          200,
          200,
          200,
          198,
          199,
          199,
          204,
          204,
          196,
          196,
          196,
          196,
          200,
          214,
          200,
          200,
          186,
          201,
          200,
          200,
          203,
          203,
          194,
          195.11111111111111,
          195
         ],
         "xaxis": "x",
         "y": [
          35.08,
          33.4,
          31.72,
          31.12,
          28.39,
          29.7,
          27.47,
          27.61,
          31.63,
          26.3,
          27.13,
          22.49,
          24.66,
          16.96,
          20.15,
          30.93,
          31.9,
          31.3,
          30.83,
          31.02,
          30.3,
          30.6,
          30.6,
          33.52,
          32.47,
          32.41,
          32.14,
          33.9,
          32.83,
          35.01,
          25.32,
          26.27,
          25.46,
          28.11,
          30.02,
          25,
          31.89,
          30.4,
          30.58,
          32.55,
          27.38,
          23.81,
          22.79,
          20.28,
          23.33,
          24.34,
          20.74,
          18.1,
          21.53,
          22.81,
          20.43,
          21.72,
          20.52,
          23.31,
          22.72,
          22.04,
          24.11,
          26.34,
          25.23,
          36.56,
          37.59,
          34.38,
          27.27,
          26.77,
          24.99,
          26.67,
          29.5,
          29.06,
          31.79,
          27.15,
          28.49,
          29.67,
          28.73,
          38.37,
          37.64,
          44.87,
          43.54,
          45.08,
          37.38,
          44.91,
          37.72,
          35.68,
          31.77,
          30.22,
          32.61,
          33.11,
          36.06,
          33.79,
          31.01,
          34.14,
          36.59,
          32.32,
          36.4,
          35.01,
          36.48,
          35.68,
          37.27,
          38.2,
          39.58,
          41.4,
          38.88,
          37.34,
          33.03,
          37.85,
          36.12,
          41.45,
          32.42,
          33.51,
          37.2,
          33.63,
          38.44,
          32.46,
          32.78,
          28.08,
          33.8,
          30.87,
          26.86,
          40.19,
          29.78,
          27.93,
          30.76,
          35.22,
          36.01,
          29.84,
          30.51,
          28.5,
          32.35,
          34.28,
          32.74,
          33.45,
          33.71,
          30.4,
          29.56,
          27.56,
          28.85,
          29.74,
          30.78,
          28.53,
          31.74,
          32.92,
          35.62,
          38.09,
          36.31,
          37.81,
          35.4,
          36.2,
          35.11,
          30,
          26.39,
          27.87,
          28.99,
          25.41,
          25.14,
          29.98,
          25.54,
          25.21,
          32.73,
          25.01,
          24.54,
          34.88,
          29.67,
          30.69,
          36.28,
          34.07,
          28.25,
          37.54,
          39.53,
          31.48,
          29.69,
          32.49,
          35.22,
          34.09,
          35.22,
          33.79,
          37.96,
          37.03,
          37.66,
          40,
          32.44,
          35.92,
          31.86,
          35.2,
          35.89,
          35.39,
          40.53,
          40.14,
          34.91,
          38.42,
          36.59,
          30.88,
          34,
          32.64,
          30.87,
          35.15,
          31.94,
          35.39,
          37.73,
          37.77,
          38.36,
          42.61,
          43.19,
          38.3,
          37.46,
          31.07,
          32.51,
          33.02,
          38.61,
          28.72,
          30.44,
          30.26,
          27.53,
          34.54,
          26.54,
          27.39,
          21.2,
          33.9,
          31.71,
          34.49,
          35.72,
          27.98,
          26.02,
          29,
          27.06,
          26.39,
          24.03,
          33.17,
          27.43,
          31.39,
          28.41,
          30.16,
          29.92,
          30.02,
          29.46,
          27.31,
          28.38,
          29.64,
          30.5,
          40.23,
          39.69,
          35.81,
          34.7,
          38.75,
          30.32,
          35.07,
          29.37,
          33.09,
          31.39,
          31.19,
          31.76,
          33.84,
          30.49,
          34.47,
          29.24,
          31.72,
          38.11,
          35.69,
          37.13,
          34.04,
          33.82,
          32.46,
          30.58,
          29.93,
          34.49,
          38.16,
          32.56,
          32.54,
          32.31,
          32.6,
          29.51,
          31.26,
          32.16,
          31.26,
          33.01,
          21.27,
          23.67,
          25.79,
          29.67,
          27.15,
          22.14,
          25.69,
          23.59,
          27.62,
          24.96,
          22.79,
          22.12,
          22.21,
          22.79,
          26.82,
          25.29,
          32.84,
          26.07,
          25.56,
          26.66,
          27.64,
          26.95,
          32.4,
          27.28,
          27.28,
          29.56,
          31.61,
          37.24,
          33.4,
          36.56,
          37.67,
          33.07,
          34.88,
          40.21,
          39.14,
          36.4,
          38.04,
          40.48,
          36.24,
          35.22,
          37.81,
          22.25,
          27.36,
          31.42,
          31.74,
          30.62,
          29.6,
          28.29,
          37.17,
          34.45,
          37.54,
          39.44,
          42.79,
          37.86,
          37.46,
          36.98,
          41.96,
          44.3,
          39.97,
          42.35,
          37.32,
          36.4,
          35.29,
          35.55,
          33.93,
          34.74,
          36.2,
          32.68,
          30,
          30.44,
          31.34,
          29.48,
          33.72,
          28.94,
          34.8,
          21.92,
          34.65,
          49.94,
          38.19,
          28.88,
          28.01,
          29.1,
          32.45,
          25.68,
          31.51,
          22.32,
          20.79,
          33.29
         ],
         "yaxis": "y"
        }
       ],
       "layout": {
        "legend": {
         "tracegroupgap": 0
        },
        "template": {
         "data": {
          "bar": [
           {
            "error_x": {
             "color": "#2a3f5f"
            },
            "error_y": {
             "color": "#2a3f5f"
            },
            "marker": {
             "line": {
              "color": "#E5ECF6",
              "width": 0.5
             }
            },
            "type": "bar"
           }
          ],
          "barpolar": [
           {
            "marker": {
             "line": {
              "color": "#E5ECF6",
              "width": 0.5
             }
            },
            "type": "barpolar"
           }
          ],
          "carpet": [
           {
            "aaxis": {
             "endlinecolor": "#2a3f5f",
             "gridcolor": "white",
             "linecolor": "white",
             "minorgridcolor": "white",
             "startlinecolor": "#2a3f5f"
            },
            "baxis": {
             "endlinecolor": "#2a3f5f",
             "gridcolor": "white",
             "linecolor": "white",
             "minorgridcolor": "white",
             "startlinecolor": "#2a3f5f"
            },
            "type": "carpet"
           }
          ],
          "choropleth": [
           {
            "colorbar": {
             "outlinewidth": 0,
             "ticks": ""
            },
            "type": "choropleth"
           }
          ],
          "contour": [
           {
            "colorbar": {
             "outlinewidth": 0,
             "ticks": ""
            },
            "colorscale": [
             [
              0,
              "#0d0887"
             ],
             [
              0.1111111111111111,
              "#46039f"
             ],
             [
              0.2222222222222222,
              "#7201a8"
             ],
             [
              0.3333333333333333,
              "#9c179e"
             ],
             [
              0.4444444444444444,
              "#bd3786"
             ],
             [
              0.5555555555555556,
              "#d8576b"
             ],
             [
              0.6666666666666666,
              "#ed7953"
             ],
             [
              0.7777777777777778,
              "#fb9f3a"
             ],
             [
              0.8888888888888888,
              "#fdca26"
             ],
             [
              1,
              "#f0f921"
             ]
            ],
            "type": "contour"
           }
          ],
          "contourcarpet": [
           {
            "colorbar": {
             "outlinewidth": 0,
             "ticks": ""
            },
            "type": "contourcarpet"
           }
          ],
          "heatmap": [
           {
            "colorbar": {
             "outlinewidth": 0,
             "ticks": ""
            },
            "colorscale": [
             [
              0,
              "#0d0887"
             ],
             [
              0.1111111111111111,
              "#46039f"
             ],
             [
              0.2222222222222222,
              "#7201a8"
             ],
             [
              0.3333333333333333,
              "#9c179e"
             ],
             [
              0.4444444444444444,
              "#bd3786"
             ],
             [
              0.5555555555555556,
              "#d8576b"
             ],
             [
              0.6666666666666666,
              "#ed7953"
             ],
             [
              0.7777777777777778,
              "#fb9f3a"
             ],
             [
              0.8888888888888888,
              "#fdca26"
             ],
             [
              1,
              "#f0f921"
             ]
            ],
            "type": "heatmap"
           }
          ],
          "heatmapgl": [
           {
            "colorbar": {
             "outlinewidth": 0,
             "ticks": ""
            },
            "colorscale": [
             [
              0,
              "#0d0887"
             ],
             [
              0.1111111111111111,
              "#46039f"
             ],
             [
              0.2222222222222222,
              "#7201a8"
             ],
             [
              0.3333333333333333,
              "#9c179e"
             ],
             [
              0.4444444444444444,
              "#bd3786"
             ],
             [
              0.5555555555555556,
              "#d8576b"
             ],
             [
              0.6666666666666666,
              "#ed7953"
             ],
             [
              0.7777777777777778,
              "#fb9f3a"
             ],
             [
              0.8888888888888888,
              "#fdca26"
             ],
             [
              1,
              "#f0f921"
             ]
            ],
            "type": "heatmapgl"
           }
          ],
          "histogram": [
           {
            "marker": {
             "colorbar": {
              "outlinewidth": 0,
              "ticks": ""
             }
            },
            "type": "histogram"
           }
          ],
          "histogram2d": [
           {
            "colorbar": {
             "outlinewidth": 0,
             "ticks": ""
            },
            "colorscale": [
             [
              0,
              "#0d0887"
             ],
             [
              0.1111111111111111,
              "#46039f"
             ],
             [
              0.2222222222222222,
              "#7201a8"
             ],
             [
              0.3333333333333333,
              "#9c179e"
             ],
             [
              0.4444444444444444,
              "#bd3786"
             ],
             [
              0.5555555555555556,
              "#d8576b"
             ],
             [
              0.6666666666666666,
              "#ed7953"
             ],
             [
              0.7777777777777778,
              "#fb9f3a"
             ],
             [
              0.8888888888888888,
              "#fdca26"
             ],
             [
              1,
              "#f0f921"
             ]
            ],
            "type": "histogram2d"
           }
          ],
          "histogram2dcontour": [
           {
            "colorbar": {
             "outlinewidth": 0,
             "ticks": ""
            },
            "colorscale": [
             [
              0,
              "#0d0887"
             ],
             [
              0.1111111111111111,
              "#46039f"
             ],
             [
              0.2222222222222222,
              "#7201a8"
             ],
             [
              0.3333333333333333,
              "#9c179e"
             ],
             [
              0.4444444444444444,
              "#bd3786"
             ],
             [
              0.5555555555555556,
              "#d8576b"
             ],
             [
              0.6666666666666666,
              "#ed7953"
             ],
             [
              0.7777777777777778,
              "#fb9f3a"
             ],
             [
              0.8888888888888888,
              "#fdca26"
             ],
             [
              1,
              "#f0f921"
             ]
            ],
            "type": "histogram2dcontour"
           }
          ],
          "mesh3d": [
           {
            "colorbar": {
             "outlinewidth": 0,
             "ticks": ""
            },
            "type": "mesh3d"
           }
          ],
          "parcoords": [
           {
            "line": {
             "colorbar": {
              "outlinewidth": 0,
              "ticks": ""
             }
            },
            "type": "parcoords"
           }
          ],
          "pie": [
           {
            "automargin": true,
            "type": "pie"
           }
          ],
          "scatter": [
           {
            "marker": {
             "colorbar": {
              "outlinewidth": 0,
              "ticks": ""
             }
            },
            "type": "scatter"
           }
          ],
          "scatter3d": [
           {
            "line": {
             "colorbar": {
              "outlinewidth": 0,
              "ticks": ""
             }
            },
            "marker": {
             "colorbar": {
              "outlinewidth": 0,
              "ticks": ""
             }
            },
            "type": "scatter3d"
           }
          ],
          "scattercarpet": [
           {
            "marker": {
             "colorbar": {
              "outlinewidth": 0,
              "ticks": ""
             }
            },
            "type": "scattercarpet"
           }
          ],
          "scattergeo": [
           {
            "marker": {
             "colorbar": {
              "outlinewidth": 0,
              "ticks": ""
             }
            },
            "type": "scattergeo"
           }
          ],
          "scattergl": [
           {
            "marker": {
             "colorbar": {
              "outlinewidth": 0,
              "ticks": ""
             }
            },
            "type": "scattergl"
           }
          ],
          "scattermapbox": [
           {
            "marker": {
             "colorbar": {
              "outlinewidth": 0,
              "ticks": ""
             }
            },
            "type": "scattermapbox"
           }
          ],
          "scatterpolar": [
           {
            "marker": {
             "colorbar": {
              "outlinewidth": 0,
              "ticks": ""
             }
            },
            "type": "scatterpolar"
           }
          ],
          "scatterpolargl": [
           {
            "marker": {
             "colorbar": {
              "outlinewidth": 0,
              "ticks": ""
             }
            },
            "type": "scatterpolargl"
           }
          ],
          "scatterternary": [
           {
            "marker": {
             "colorbar": {
              "outlinewidth": 0,
              "ticks": ""
             }
            },
            "type": "scatterternary"
           }
          ],
          "surface": [
           {
            "colorbar": {
             "outlinewidth": 0,
             "ticks": ""
            },
            "colorscale": [
             [
              0,
              "#0d0887"
             ],
             [
              0.1111111111111111,
              "#46039f"
             ],
             [
              0.2222222222222222,
              "#7201a8"
             ],
             [
              0.3333333333333333,
              "#9c179e"
             ],
             [
              0.4444444444444444,
              "#bd3786"
             ],
             [
              0.5555555555555556,
              "#d8576b"
             ],
             [
              0.6666666666666666,
              "#ed7953"
             ],
             [
              0.7777777777777778,
              "#fb9f3a"
             ],
             [
              0.8888888888888888,
              "#fdca26"
             ],
             [
              1,
              "#f0f921"
             ]
            ],
            "type": "surface"
           }
          ],
          "table": [
           {
            "cells": {
             "fill": {
              "color": "#EBF0F8"
             },
             "line": {
              "color": "white"
             }
            },
            "header": {
             "fill": {
              "color": "#C8D4E3"
             },
             "line": {
              "color": "white"
             }
            },
            "type": "table"
           }
          ]
         },
         "layout": {
          "annotationdefaults": {
           "arrowcolor": "#2a3f5f",
           "arrowhead": 0,
           "arrowwidth": 1
          },
          "autotypenumbers": "strict",
          "coloraxis": {
           "colorbar": {
            "outlinewidth": 0,
            "ticks": ""
           }
          },
          "colorscale": {
           "diverging": [
            [
             0,
             "#8e0152"
            ],
            [
             0.1,
             "#c51b7d"
            ],
            [
             0.2,
             "#de77ae"
            ],
            [
             0.3,
             "#f1b6da"
            ],
            [
             0.4,
             "#fde0ef"
            ],
            [
             0.5,
             "#f7f7f7"
            ],
            [
             0.6,
             "#e6f5d0"
            ],
            [
             0.7,
             "#b8e186"
            ],
            [
             0.8,
             "#7fbc41"
            ],
            [
             0.9,
             "#4d9221"
            ],
            [
             1,
             "#276419"
            ]
           ],
           "sequential": [
            [
             0,
             "#0d0887"
            ],
            [
             0.1111111111111111,
             "#46039f"
            ],
            [
             0.2222222222222222,
             "#7201a8"
            ],
            [
             0.3333333333333333,
             "#9c179e"
            ],
            [
             0.4444444444444444,
             "#bd3786"
            ],
            [
             0.5555555555555556,
             "#d8576b"
            ],
            [
             0.6666666666666666,
             "#ed7953"
            ],
            [
             0.7777777777777778,
             "#fb9f3a"
            ],
            [
             0.8888888888888888,
             "#fdca26"
            ],
            [
             1,
             "#f0f921"
            ]
           ],
           "sequentialminus": [
            [
             0,
             "#0d0887"
            ],
            [
             0.1111111111111111,
             "#46039f"
            ],
            [
             0.2222222222222222,
             "#7201a8"
            ],
            [
             0.3333333333333333,
             "#9c179e"
            ],
            [
             0.4444444444444444,
             "#bd3786"
            ],
            [
             0.5555555555555556,
             "#d8576b"
            ],
            [
             0.6666666666666666,
             "#ed7953"
            ],
            [
             0.7777777777777778,
             "#fb9f3a"
            ],
            [
             0.8888888888888888,
             "#fdca26"
            ],
            [
             1,
             "#f0f921"
            ]
           ]
          },
          "colorway": [
           "#636efa",
           "#EF553B",
           "#00cc96",
           "#ab63fa",
           "#FFA15A",
           "#19d3f3",
           "#FF6692",
           "#B6E880",
           "#FF97FF",
           "#FECB52"
          ],
          "font": {
           "color": "#2a3f5f"
          },
          "geo": {
           "bgcolor": "white",
           "lakecolor": "white",
           "landcolor": "#E5ECF6",
           "showlakes": true,
           "showland": true,
           "subunitcolor": "white"
          },
          "hoverlabel": {
           "align": "left"
          },
          "hovermode": "closest",
          "mapbox": {
           "style": "light"
          },
          "paper_bgcolor": "white",
          "plot_bgcolor": "#E5ECF6",
          "polar": {
           "angularaxis": {
            "gridcolor": "white",
            "linecolor": "white",
            "ticks": ""
           },
           "bgcolor": "#E5ECF6",
           "radialaxis": {
            "gridcolor": "white",
            "linecolor": "white",
            "ticks": ""
           }
          },
          "scene": {
           "xaxis": {
            "backgroundcolor": "#E5ECF6",
            "gridcolor": "white",
            "gridwidth": 2,
            "linecolor": "white",
            "showbackground": true,
            "ticks": "",
            "zerolinecolor": "white"
           },
           "yaxis": {
            "backgroundcolor": "#E5ECF6",
            "gridcolor": "white",
            "gridwidth": 2,
            "linecolor": "white",
            "showbackground": true,
            "ticks": "",
            "zerolinecolor": "white"
           },
           "zaxis": {
            "backgroundcolor": "#E5ECF6",
            "gridcolor": "white",
            "gridwidth": 2,
            "linecolor": "white",
            "showbackground": true,
            "ticks": "",
            "zerolinecolor": "white"
           }
          },
          "shapedefaults": {
           "line": {
            "color": "#2a3f5f"
           }
          },
          "ternary": {
           "aaxis": {
            "gridcolor": "white",
            "linecolor": "white",
            "ticks": ""
           },
           "baxis": {
            "gridcolor": "white",
            "linecolor": "white",
            "ticks": ""
           },
           "bgcolor": "#E5ECF6",
           "caxis": {
            "gridcolor": "white",
            "linecolor": "white",
            "ticks": ""
           }
          },
          "title": {
           "x": 0.05
          },
          "xaxis": {
           "automargin": true,
           "gridcolor": "white",
           "linecolor": "white",
           "ticks": "",
           "title": {
            "standoff": 15
           },
           "zerolinecolor": "white",
           "zerolinewidth": 2
          },
          "yaxis": {
           "automargin": true,
           "gridcolor": "white",
           "linecolor": "white",
           "ticks": "",
           "title": {
            "standoff": 15
           },
           "zerolinecolor": "white",
           "zerolinewidth": 2
          }
         }
        },
        "title": {
         "text": "Rompimento7Dias x Rompimento 28 Dias"
        },
        "xaxis": {
         "anchor": "y",
         "domain": [
          0,
          1
         ],
         "title": {
          "text": "QuantidadeAguaM3"
         }
        },
        "yaxis": {
         "anchor": "x",
         "domain": [
          0,
          1
         ],
         "title": {
          "text": "Rompimento28Dias"
         }
        }
       }
      },
      "text/html": [
       "<div>                            <div id=\"ab2ec74c-b23e-42ab-a574-9226fc6417e6\" class=\"plotly-graph-div\" style=\"height:525px; width:100%;\"></div>            <script type=\"text/javascript\">                require([\"plotly\"], function(Plotly) {                    window.PLOTLYENV=window.PLOTLYENV || {};                                    if (document.getElementById(\"ab2ec74c-b23e-42ab-a574-9226fc6417e6\")) {                    Plotly.newPlot(                        \"ab2ec74c-b23e-42ab-a574-9226fc6417e6\",                        [{\"hovertemplate\": \"QuantidadeAguaM3=%{x}<br>Rompimento28Dias=%{y}<extra></extra>\", \"legendgroup\": \"\", \"marker\": {\"color\": \"#636efa\", \"symbol\": \"circle\"}, \"mode\": \"markers\", \"name\": \"\", \"orientation\": \"v\", \"showlegend\": false, \"type\": \"scatter\", \"x\": [195.0, 179.0, 217.0, 217.0, 217.0, 188.0, 188.0, 188.0, 217.0, 132.0, 132.0, 132.0, 132.0, 180.0, 177.0, 189.0, 187.0, 189.0, 189.0, 189.0, 189.0, 189.0, 191.0, 184.0, 184.0, 184.0, 184.0, 184.0, 184.0, 165.0, 149.0, 149.0, 149.0, 149.0, 145.0, 133.0, 137.0, 135.0, 135.0, 137.0, 137.0, 182.0, 178.0, 178.0, 181.0, 184.0, 184.0, 184.0, 184.0, 184.0, 184.0, 181.0, 181.0, 181.0, 181.0, 181.0, 179.0, 169.0, 167.0, 157.0, 174.0, 174.0, 154.0, 165.0, 165.0, 165.0, 162.0, 162.0, 150.0, 195.0, 192.0, 192.0, 157.0, 157.0, 157.0, 147.0, 147.0, 147.0, 147.0, 150.0, 150.0, 193.0, 188.0, 191.0, 191.0, 196.0, 196.0, 196.0, 192.0, 186.0, 186.0, 186.0, 186.0, 189.0, 189.0, 189.0, 189.0, 189.0, 189.0, 189.0, 191.0, 185.0, 186.0, 188.0, 189.0, 183.0, 185.0, 185.0, 185.0, 185.0, 185.0, 189.0, 189.0, 189.0, 190.0, 190.0, 193.0, 188.0, 152.0, 136.0, 136.0, 145.0, 138.0, 138.0, 138.0, 141.0, 141.0, 152.0, 141.0, 141.0, 141.0, 141.0909090909091, 180.0, 180.0, 180.0, 181.0, 176.0, 181.0, 179.0, 174.0, 181.0, 170.0, 181.0, 181.0, 181.0, 180.0, 180.0, 174.0, 180.0, 156.0, 154.0, 154.0, 154.0, 147.0, 174.0, 182.0, 178.0, 180.0, 182.0, 182.0, 149.0, 140.0, 144.0, 149.0, 187.0, 158.0, 158.0, 151.0, 151.0, 151.0, 154.0, 154.0, 161.0, 161.0, 161.0, 161.0, 161.0, 161.0, 195.0, 194.0, 194.0, 192.0, 192.0, 192.0, 195.0, 195.0, 195.0, 195.0, 195.0, 195.0, 195.0, 197.0, 197.0, 197.0, 197.0, 197.0, 218.0, 218.0, 201.0, 201.0, 201.0, 201.0, 201.0, 203.0, 203.0, 203.06666666666663, 204.0, 200.0, 200.0, 200.0, 200.0, 200.0, 191.0, 191.0, 195.0, 191.0, 191.0, 191.0, 191.0, 190.0, 190.0, 190.0, 190.0, 195.0, 195.0, 190.0, 185.0, 185.0, 185.0, 185.0, 188.0, 188.0, 189.0769230769231, 186.0, 188.0, 188.0, 184.0, 181.0, 177.0, 140.0, 140.0, 140.0, 187.0, 187.0, 187.0, 187.0, 187.0, 187.0, 187.0, 189.0, 189.0, 189.0, 183.0, 183.0, 183.0, 183.0, 183.0, 183.0, 183.0, 183.0, 183.0, 188.0, 187.0, 187.0, 187.0, 187.0, 188.0, 186.0, 188.0, 188.0, 188.0, 188.0, 188.0, 188.0, 188.0, 192.0, 188.0, 192.0, 190.0, 190.0, 190.0, 190.0, 190.0, 190.0, 190.0, 190.0, 192.0, 193.0, 193.0, 193.0, 164.0, 164.0, 164.0, 164.0, 164.0, 190.0, 188.0, 188.0, 190.0, 190.0, 190.0, 190.0, 190.0, 190.0, 188.0, 188.0, 197.05882352941174, 182.0, 182.0, 182.0, 183.0, 183.0, 196.0, 196.0, 195.0, 193.0, 187.06666666666663, 187.06666666666663, 192.0, 192.0, 192.0, 187.0, 202.0, 201.0, 203.0, 202.0, 202.0, 202.0, 202.0, 202.0, 202.0, 199.0, 199.0, 202.0, 202.0, 200.0, 200.0, 200.0, 200.0, 198.0, 199.0, 199.0, 204.0, 204.0, 196.0, 196.0, 196.0, 196.0, 200.0, 214.0, 200.0, 200.0, 186.0, 201.0, 200.0, 200.0, 203.0, 203.0, 194.0, 195.11111111111111, 195.0], \"xaxis\": \"x\", \"y\": [35.08, 33.4, 31.72, 31.12, 28.39, 29.7, 27.47, 27.61, 31.63, 26.3, 27.13, 22.49, 24.66, 16.96, 20.15, 30.93, 31.9, 31.3, 30.83, 31.02, 30.3, 30.6, 30.6, 33.52, 32.47, 32.41, 32.14, 33.9, 32.83, 35.01, 25.32, 26.27, 25.46, 28.11, 30.02, 25.0, 31.89, 30.4, 30.58, 32.55, 27.38, 23.81, 22.79, 20.28, 23.33, 24.34, 20.74, 18.1, 21.53, 22.81, 20.43, 21.72, 20.52, 23.31, 22.72, 22.04, 24.11, 26.34, 25.23, 36.56, 37.59, 34.38, 27.27, 26.77, 24.99, 26.67, 29.5, 29.06, 31.79, 27.15, 28.49, 29.67, 28.73, 38.37, 37.64, 44.87, 43.54, 45.08, 37.38, 44.91, 37.72, 35.68, 31.77, 30.22, 32.61, 33.11, 36.06, 33.79, 31.01, 34.14, 36.59, 32.32, 36.4, 35.01, 36.48, 35.68, 37.27, 38.2, 39.58, 41.4, 38.88, 37.34, 33.03, 37.85, 36.12, 41.45, 32.42, 33.51, 37.2, 33.63, 38.44, 32.46, 32.78, 28.08, 33.8, 30.87, 26.86, 40.19, 29.78, 27.93, 30.76, 35.22, 36.01, 29.84, 30.51, 28.5, 32.35, 34.28, 32.74, 33.45, 33.71, 30.4, 29.56, 27.56, 28.85, 29.74, 30.78, 28.53, 31.74, 32.92, 35.62, 38.09, 36.31, 37.81, 35.4, 36.2, 35.11, 30.0, 26.39, 27.87, 28.99, 25.41, 25.14, 29.98, 25.54, 25.21, 32.73, 25.01, 24.54, 34.88, 29.67, 30.69, 36.28, 34.07, 28.25, 37.54, 39.53, 31.48, 29.69, 32.49, 35.22, 34.09, 35.22, 33.79, 37.96, 37.03, 37.66, 40.0, 32.44, 35.92, 31.86, 35.2, 35.89, 35.39, 40.53, 40.14, 34.91, 38.42, 36.59, 30.88, 34.0, 32.64, 30.87, 35.15, 31.94, 35.39, 37.73, 37.77, 38.36, 42.61, 43.19, 38.3, 37.46, 31.07, 32.51, 33.02, 38.61, 28.72, 30.44, 30.26, 27.53, 34.54, 26.54, 27.39, 21.2, 33.9, 31.71, 34.49, 35.72, 27.98, 26.02, 29.0, 27.06, 26.39, 24.03, 33.17, 27.43, 31.39, 28.41, 30.16, 29.92, 30.02, 29.46, 27.31, 28.38, 29.64, 30.5, 40.23, 39.69, 35.81, 34.7, 38.75, 30.32, 35.07, 29.37, 33.09, 31.39, 31.19, 31.76, 33.84, 30.49, 34.47, 29.24, 31.72, 38.11, 35.69, 37.13, 34.04, 33.82, 32.46, 30.58, 29.93, 34.49, 38.16, 32.56, 32.54, 32.31, 32.6, 29.51, 31.26, 32.16, 31.26, 33.01, 21.27, 23.67, 25.79, 29.67, 27.15, 22.14, 25.69, 23.59, 27.62, 24.96, 22.79, 22.12, 22.21, 22.79, 26.82, 25.29, 32.84, 26.07, 25.56, 26.66, 27.64, 26.95, 32.4, 27.28, 27.28, 29.56, 31.61, 37.24, 33.4, 36.56, 37.67, 33.07, 34.88, 40.21, 39.14, 36.4, 38.04, 40.48, 36.24, 35.22, 37.81, 22.25, 27.36, 31.42, 31.74, 30.62, 29.6, 28.29, 37.17, 34.45, 37.54, 39.44, 42.79, 37.86, 37.46, 36.98, 41.96, 44.3, 39.97, 42.35, 37.32, 36.4, 35.29, 35.55, 33.93, 34.74, 36.2, 32.68, 30.0, 30.44, 31.34, 29.48, 33.72, 28.94, 34.8, 21.92, 34.65, 49.94, 38.19, 28.88, 28.01, 29.1, 32.45, 25.68, 31.51, 22.32, 20.79, 33.29], \"yaxis\": \"y\"}],                        {\"legend\": {\"tracegroupgap\": 0}, \"template\": {\"data\": {\"bar\": [{\"error_x\": {\"color\": \"#2a3f5f\"}, \"error_y\": {\"color\": \"#2a3f5f\"}, \"marker\": {\"line\": {\"color\": \"#E5ECF6\", \"width\": 0.5}}, \"type\": \"bar\"}], \"barpolar\": [{\"marker\": {\"line\": {\"color\": \"#E5ECF6\", \"width\": 0.5}}, \"type\": \"barpolar\"}], \"carpet\": [{\"aaxis\": {\"endlinecolor\": \"#2a3f5f\", \"gridcolor\": \"white\", \"linecolor\": \"white\", \"minorgridcolor\": \"white\", \"startlinecolor\": \"#2a3f5f\"}, \"baxis\": {\"endlinecolor\": \"#2a3f5f\", \"gridcolor\": \"white\", \"linecolor\": \"white\", \"minorgridcolor\": \"white\", \"startlinecolor\": \"#2a3f5f\"}, \"type\": \"carpet\"}], \"choropleth\": [{\"colorbar\": {\"outlinewidth\": 0, \"ticks\": \"\"}, \"type\": \"choropleth\"}], \"contour\": [{\"colorbar\": {\"outlinewidth\": 0, \"ticks\": \"\"}, \"colorscale\": [[0.0, \"#0d0887\"], [0.1111111111111111, \"#46039f\"], [0.2222222222222222, \"#7201a8\"], [0.3333333333333333, \"#9c179e\"], [0.4444444444444444, \"#bd3786\"], [0.5555555555555556, \"#d8576b\"], [0.6666666666666666, \"#ed7953\"], [0.7777777777777778, \"#fb9f3a\"], [0.8888888888888888, \"#fdca26\"], [1.0, \"#f0f921\"]], \"type\": \"contour\"}], \"contourcarpet\": [{\"colorbar\": {\"outlinewidth\": 0, \"ticks\": \"\"}, \"type\": \"contourcarpet\"}], \"heatmap\": [{\"colorbar\": {\"outlinewidth\": 0, \"ticks\": \"\"}, \"colorscale\": [[0.0, \"#0d0887\"], [0.1111111111111111, \"#46039f\"], [0.2222222222222222, \"#7201a8\"], [0.3333333333333333, \"#9c179e\"], [0.4444444444444444, \"#bd3786\"], [0.5555555555555556, \"#d8576b\"], [0.6666666666666666, \"#ed7953\"], [0.7777777777777778, \"#fb9f3a\"], [0.8888888888888888, \"#fdca26\"], [1.0, \"#f0f921\"]], \"type\": \"heatmap\"}], \"heatmapgl\": [{\"colorbar\": {\"outlinewidth\": 0, \"ticks\": \"\"}, \"colorscale\": [[0.0, \"#0d0887\"], [0.1111111111111111, \"#46039f\"], [0.2222222222222222, \"#7201a8\"], [0.3333333333333333, \"#9c179e\"], [0.4444444444444444, \"#bd3786\"], [0.5555555555555556, \"#d8576b\"], [0.6666666666666666, \"#ed7953\"], [0.7777777777777778, \"#fb9f3a\"], [0.8888888888888888, \"#fdca26\"], [1.0, \"#f0f921\"]], \"type\": \"heatmapgl\"}], \"histogram\": [{\"marker\": {\"colorbar\": {\"outlinewidth\": 0, \"ticks\": \"\"}}, \"type\": \"histogram\"}], \"histogram2d\": [{\"colorbar\": {\"outlinewidth\": 0, \"ticks\": \"\"}, \"colorscale\": [[0.0, \"#0d0887\"], [0.1111111111111111, \"#46039f\"], [0.2222222222222222, \"#7201a8\"], [0.3333333333333333, \"#9c179e\"], [0.4444444444444444, \"#bd3786\"], [0.5555555555555556, \"#d8576b\"], [0.6666666666666666, \"#ed7953\"], [0.7777777777777778, \"#fb9f3a\"], [0.8888888888888888, \"#fdca26\"], [1.0, \"#f0f921\"]], \"type\": \"histogram2d\"}], \"histogram2dcontour\": [{\"colorbar\": {\"outlinewidth\": 0, \"ticks\": \"\"}, \"colorscale\": [[0.0, \"#0d0887\"], [0.1111111111111111, \"#46039f\"], [0.2222222222222222, \"#7201a8\"], [0.3333333333333333, \"#9c179e\"], [0.4444444444444444, \"#bd3786\"], [0.5555555555555556, \"#d8576b\"], [0.6666666666666666, \"#ed7953\"], [0.7777777777777778, \"#fb9f3a\"], [0.8888888888888888, \"#fdca26\"], [1.0, \"#f0f921\"]], \"type\": \"histogram2dcontour\"}], \"mesh3d\": [{\"colorbar\": {\"outlinewidth\": 0, \"ticks\": \"\"}, \"type\": \"mesh3d\"}], \"parcoords\": [{\"line\": {\"colorbar\": {\"outlinewidth\": 0, \"ticks\": \"\"}}, \"type\": \"parcoords\"}], \"pie\": [{\"automargin\": true, \"type\": \"pie\"}], \"scatter\": [{\"marker\": {\"colorbar\": {\"outlinewidth\": 0, \"ticks\": \"\"}}, \"type\": \"scatter\"}], \"scatter3d\": [{\"line\": {\"colorbar\": {\"outlinewidth\": 0, \"ticks\": \"\"}}, \"marker\": {\"colorbar\": {\"outlinewidth\": 0, \"ticks\": \"\"}}, \"type\": \"scatter3d\"}], \"scattercarpet\": [{\"marker\": {\"colorbar\": {\"outlinewidth\": 0, \"ticks\": \"\"}}, \"type\": \"scattercarpet\"}], \"scattergeo\": [{\"marker\": {\"colorbar\": {\"outlinewidth\": 0, \"ticks\": \"\"}}, \"type\": \"scattergeo\"}], \"scattergl\": [{\"marker\": {\"colorbar\": {\"outlinewidth\": 0, \"ticks\": \"\"}}, \"type\": \"scattergl\"}], \"scattermapbox\": [{\"marker\": {\"colorbar\": {\"outlinewidth\": 0, \"ticks\": \"\"}}, \"type\": \"scattermapbox\"}], \"scatterpolar\": [{\"marker\": {\"colorbar\": {\"outlinewidth\": 0, \"ticks\": \"\"}}, \"type\": \"scatterpolar\"}], \"scatterpolargl\": [{\"marker\": {\"colorbar\": {\"outlinewidth\": 0, \"ticks\": \"\"}}, \"type\": \"scatterpolargl\"}], \"scatterternary\": [{\"marker\": {\"colorbar\": {\"outlinewidth\": 0, \"ticks\": \"\"}}, \"type\": \"scatterternary\"}], \"surface\": [{\"colorbar\": {\"outlinewidth\": 0, \"ticks\": \"\"}, \"colorscale\": [[0.0, \"#0d0887\"], [0.1111111111111111, \"#46039f\"], [0.2222222222222222, \"#7201a8\"], [0.3333333333333333, \"#9c179e\"], [0.4444444444444444, \"#bd3786\"], [0.5555555555555556, \"#d8576b\"], [0.6666666666666666, \"#ed7953\"], [0.7777777777777778, \"#fb9f3a\"], [0.8888888888888888, \"#fdca26\"], [1.0, \"#f0f921\"]], \"type\": \"surface\"}], \"table\": [{\"cells\": {\"fill\": {\"color\": \"#EBF0F8\"}, \"line\": {\"color\": \"white\"}}, \"header\": {\"fill\": {\"color\": \"#C8D4E3\"}, \"line\": {\"color\": \"white\"}}, \"type\": \"table\"}]}, \"layout\": {\"annotationdefaults\": {\"arrowcolor\": \"#2a3f5f\", \"arrowhead\": 0, \"arrowwidth\": 1}, \"autotypenumbers\": \"strict\", \"coloraxis\": {\"colorbar\": {\"outlinewidth\": 0, \"ticks\": \"\"}}, \"colorscale\": {\"diverging\": [[0, \"#8e0152\"], [0.1, \"#c51b7d\"], [0.2, \"#de77ae\"], [0.3, \"#f1b6da\"], [0.4, \"#fde0ef\"], [0.5, \"#f7f7f7\"], [0.6, \"#e6f5d0\"], [0.7, \"#b8e186\"], [0.8, \"#7fbc41\"], [0.9, \"#4d9221\"], [1, \"#276419\"]], \"sequential\": [[0.0, \"#0d0887\"], [0.1111111111111111, \"#46039f\"], [0.2222222222222222, \"#7201a8\"], [0.3333333333333333, \"#9c179e\"], [0.4444444444444444, \"#bd3786\"], [0.5555555555555556, \"#d8576b\"], [0.6666666666666666, \"#ed7953\"], [0.7777777777777778, \"#fb9f3a\"], [0.8888888888888888, \"#fdca26\"], [1.0, \"#f0f921\"]], \"sequentialminus\": [[0.0, \"#0d0887\"], [0.1111111111111111, \"#46039f\"], [0.2222222222222222, \"#7201a8\"], [0.3333333333333333, \"#9c179e\"], [0.4444444444444444, \"#bd3786\"], [0.5555555555555556, \"#d8576b\"], [0.6666666666666666, \"#ed7953\"], [0.7777777777777778, \"#fb9f3a\"], [0.8888888888888888, \"#fdca26\"], [1.0, \"#f0f921\"]]}, \"colorway\": [\"#636efa\", \"#EF553B\", \"#00cc96\", \"#ab63fa\", \"#FFA15A\", \"#19d3f3\", \"#FF6692\", \"#B6E880\", \"#FF97FF\", \"#FECB52\"], \"font\": {\"color\": \"#2a3f5f\"}, \"geo\": {\"bgcolor\": \"white\", \"lakecolor\": \"white\", \"landcolor\": \"#E5ECF6\", \"showlakes\": true, \"showland\": true, \"subunitcolor\": \"white\"}, \"hoverlabel\": {\"align\": \"left\"}, \"hovermode\": \"closest\", \"mapbox\": {\"style\": \"light\"}, \"paper_bgcolor\": \"white\", \"plot_bgcolor\": \"#E5ECF6\", \"polar\": {\"angularaxis\": {\"gridcolor\": \"white\", \"linecolor\": \"white\", \"ticks\": \"\"}, \"bgcolor\": \"#E5ECF6\", \"radialaxis\": {\"gridcolor\": \"white\", \"linecolor\": \"white\", \"ticks\": \"\"}}, \"scene\": {\"xaxis\": {\"backgroundcolor\": \"#E5ECF6\", \"gridcolor\": \"white\", \"gridwidth\": 2, \"linecolor\": \"white\", \"showbackground\": true, \"ticks\": \"\", \"zerolinecolor\": \"white\"}, \"yaxis\": {\"backgroundcolor\": \"#E5ECF6\", \"gridcolor\": \"white\", \"gridwidth\": 2, \"linecolor\": \"white\", \"showbackground\": true, \"ticks\": \"\", \"zerolinecolor\": \"white\"}, \"zaxis\": {\"backgroundcolor\": \"#E5ECF6\", \"gridcolor\": \"white\", \"gridwidth\": 2, \"linecolor\": \"white\", \"showbackground\": true, \"ticks\": \"\", \"zerolinecolor\": \"white\"}}, \"shapedefaults\": {\"line\": {\"color\": \"#2a3f5f\"}}, \"ternary\": {\"aaxis\": {\"gridcolor\": \"white\", \"linecolor\": \"white\", \"ticks\": \"\"}, \"baxis\": {\"gridcolor\": \"white\", \"linecolor\": \"white\", \"ticks\": \"\"}, \"bgcolor\": \"#E5ECF6\", \"caxis\": {\"gridcolor\": \"white\", \"linecolor\": \"white\", \"ticks\": \"\"}}, \"title\": {\"x\": 0.05}, \"xaxis\": {\"automargin\": true, \"gridcolor\": \"white\", \"linecolor\": \"white\", \"ticks\": \"\", \"title\": {\"standoff\": 15}, \"zerolinecolor\": \"white\", \"zerolinewidth\": 2}, \"yaxis\": {\"automargin\": true, \"gridcolor\": \"white\", \"linecolor\": \"white\", \"ticks\": \"\", \"title\": {\"standoff\": 15}, \"zerolinecolor\": \"white\", \"zerolinewidth\": 2}}}, \"title\": {\"text\": \"Rompimento7Dias x Rompimento 28 Dias\"}, \"xaxis\": {\"anchor\": \"y\", \"domain\": [0.0, 1.0], \"title\": {\"text\": \"QuantidadeAguaM3\"}}, \"yaxis\": {\"anchor\": \"x\", \"domain\": [0.0, 1.0], \"title\": {\"text\": \"Rompimento28Dias\"}}},                        {\"responsive\": true}                    ).then(function(){\n",
       "                            \n",
       "var gd = document.getElementById('ab2ec74c-b23e-42ab-a574-9226fc6417e6');\n",
       "var x = new MutationObserver(function (mutations, observer) {{\n",
       "        var display = window.getComputedStyle(gd).display;\n",
       "        if (!display || display === 'none') {{\n",
       "            console.log([gd, 'removed!']);\n",
       "            Plotly.purge(gd);\n",
       "            observer.disconnect();\n",
       "        }}\n",
       "}});\n",
       "\n",
       "// Listen for the removal of the full notebook cells\n",
       "var notebookContainer = gd.closest('#notebook-container');\n",
       "if (notebookContainer) {{\n",
       "    x.observe(notebookContainer, {childList: true});\n",
       "}}\n",
       "\n",
       "// Listen for the clearing of the current output cell\n",
       "var outputEl = gd.closest('.output');\n",
       "if (outputEl) {{\n",
       "    x.observe(outputEl, {childList: true});\n",
       "}}\n",
       "\n",
       "                        })                };                });            </script>        </div>"
      ]
     },
     "metadata": {},
     "output_type": "display_data"
    }
   ],
   "source": [
    "fig = px.scatter(dados_aglomerante, x=\"QuantidadeAguaM3\", y=\"Rompimento28Dias\", title='Rompimento7Dias x Rompimento 28 Dias')\n",
    "fig.show()"
   ]
  },
  {
   "cell_type": "code",
   "execution_count": 1400,
   "metadata": {},
   "outputs": [
    {
     "data": {
      "application/vnd.plotly.v1+json": {
       "config": {
        "plotlyServerURL": "https://plot.ly"
       },
       "data": [
        {
         "hovertemplate": "LogRompimento7Dias=%{x}<br>PercentualCrescimentoReal=%{y}<extra></extra>",
         "legendgroup": "",
         "marker": {
          "color": "#636efa",
          "symbol": "circle"
         },
         "mode": "markers",
         "name": "",
         "orientation": "v",
         "showlegend": false,
         "type": "scatter",
         "x": [
          2.9699015135194693,
          3.311637304949512,
          3.139832617527748,
          3.1232455938529506,
          3.170105660498771,
          3.286908235260028,
          3.126321843257593,
          3.2039652121324464,
          2.785628335747585,
          3.141130476243348,
          3.110399348532117,
          3.0525850851467737,
          3.111735949310297,
          2.758109400974947,
          2.9512577834521614,
          2.8570447537800976,
          2.9231615807191558,
          2.750470916986162,
          2.727199019940971,
          2.8390784635086144
         ],
         "xaxis": "x",
         "y": [
          44.94612621857364,
          46.591323368574564,
          37.27272727272726,
          51.80457746478875,
          50.0209995800084,
          34.23019431988041,
          42.34313295304959,
          29.35444579780755,
          37.260950030845144,
          23.17336792044964,
          32.27819884083818,
          35.71091166745393,
          41.45146927871773,
          44.51490171211161,
          43.02143230527965,
          39.80470993681793,
          25.322580645161267,
          38.78594249201277,
          49.18247220405494,
          32.86549707602337
         ],
         "yaxis": "y"
        }
       ],
       "layout": {
        "legend": {
         "tracegroupgap": 0
        },
        "template": {
         "data": {
          "bar": [
           {
            "error_x": {
             "color": "#2a3f5f"
            },
            "error_y": {
             "color": "#2a3f5f"
            },
            "marker": {
             "line": {
              "color": "#E5ECF6",
              "width": 0.5
             }
            },
            "type": "bar"
           }
          ],
          "barpolar": [
           {
            "marker": {
             "line": {
              "color": "#E5ECF6",
              "width": 0.5
             }
            },
            "type": "barpolar"
           }
          ],
          "carpet": [
           {
            "aaxis": {
             "endlinecolor": "#2a3f5f",
             "gridcolor": "white",
             "linecolor": "white",
             "minorgridcolor": "white",
             "startlinecolor": "#2a3f5f"
            },
            "baxis": {
             "endlinecolor": "#2a3f5f",
             "gridcolor": "white",
             "linecolor": "white",
             "minorgridcolor": "white",
             "startlinecolor": "#2a3f5f"
            },
            "type": "carpet"
           }
          ],
          "choropleth": [
           {
            "colorbar": {
             "outlinewidth": 0,
             "ticks": ""
            },
            "type": "choropleth"
           }
          ],
          "contour": [
           {
            "colorbar": {
             "outlinewidth": 0,
             "ticks": ""
            },
            "colorscale": [
             [
              0,
              "#0d0887"
             ],
             [
              0.1111111111111111,
              "#46039f"
             ],
             [
              0.2222222222222222,
              "#7201a8"
             ],
             [
              0.3333333333333333,
              "#9c179e"
             ],
             [
              0.4444444444444444,
              "#bd3786"
             ],
             [
              0.5555555555555556,
              "#d8576b"
             ],
             [
              0.6666666666666666,
              "#ed7953"
             ],
             [
              0.7777777777777778,
              "#fb9f3a"
             ],
             [
              0.8888888888888888,
              "#fdca26"
             ],
             [
              1,
              "#f0f921"
             ]
            ],
            "type": "contour"
           }
          ],
          "contourcarpet": [
           {
            "colorbar": {
             "outlinewidth": 0,
             "ticks": ""
            },
            "type": "contourcarpet"
           }
          ],
          "heatmap": [
           {
            "colorbar": {
             "outlinewidth": 0,
             "ticks": ""
            },
            "colorscale": [
             [
              0,
              "#0d0887"
             ],
             [
              0.1111111111111111,
              "#46039f"
             ],
             [
              0.2222222222222222,
              "#7201a8"
             ],
             [
              0.3333333333333333,
              "#9c179e"
             ],
             [
              0.4444444444444444,
              "#bd3786"
             ],
             [
              0.5555555555555556,
              "#d8576b"
             ],
             [
              0.6666666666666666,
              "#ed7953"
             ],
             [
              0.7777777777777778,
              "#fb9f3a"
             ],
             [
              0.8888888888888888,
              "#fdca26"
             ],
             [
              1,
              "#f0f921"
             ]
            ],
            "type": "heatmap"
           }
          ],
          "heatmapgl": [
           {
            "colorbar": {
             "outlinewidth": 0,
             "ticks": ""
            },
            "colorscale": [
             [
              0,
              "#0d0887"
             ],
             [
              0.1111111111111111,
              "#46039f"
             ],
             [
              0.2222222222222222,
              "#7201a8"
             ],
             [
              0.3333333333333333,
              "#9c179e"
             ],
             [
              0.4444444444444444,
              "#bd3786"
             ],
             [
              0.5555555555555556,
              "#d8576b"
             ],
             [
              0.6666666666666666,
              "#ed7953"
             ],
             [
              0.7777777777777778,
              "#fb9f3a"
             ],
             [
              0.8888888888888888,
              "#fdca26"
             ],
             [
              1,
              "#f0f921"
             ]
            ],
            "type": "heatmapgl"
           }
          ],
          "histogram": [
           {
            "marker": {
             "colorbar": {
              "outlinewidth": 0,
              "ticks": ""
             }
            },
            "type": "histogram"
           }
          ],
          "histogram2d": [
           {
            "colorbar": {
             "outlinewidth": 0,
             "ticks": ""
            },
            "colorscale": [
             [
              0,
              "#0d0887"
             ],
             [
              0.1111111111111111,
              "#46039f"
             ],
             [
              0.2222222222222222,
              "#7201a8"
             ],
             [
              0.3333333333333333,
              "#9c179e"
             ],
             [
              0.4444444444444444,
              "#bd3786"
             ],
             [
              0.5555555555555556,
              "#d8576b"
             ],
             [
              0.6666666666666666,
              "#ed7953"
             ],
             [
              0.7777777777777778,
              "#fb9f3a"
             ],
             [
              0.8888888888888888,
              "#fdca26"
             ],
             [
              1,
              "#f0f921"
             ]
            ],
            "type": "histogram2d"
           }
          ],
          "histogram2dcontour": [
           {
            "colorbar": {
             "outlinewidth": 0,
             "ticks": ""
            },
            "colorscale": [
             [
              0,
              "#0d0887"
             ],
             [
              0.1111111111111111,
              "#46039f"
             ],
             [
              0.2222222222222222,
              "#7201a8"
             ],
             [
              0.3333333333333333,
              "#9c179e"
             ],
             [
              0.4444444444444444,
              "#bd3786"
             ],
             [
              0.5555555555555556,
              "#d8576b"
             ],
             [
              0.6666666666666666,
              "#ed7953"
             ],
             [
              0.7777777777777778,
              "#fb9f3a"
             ],
             [
              0.8888888888888888,
              "#fdca26"
             ],
             [
              1,
              "#f0f921"
             ]
            ],
            "type": "histogram2dcontour"
           }
          ],
          "mesh3d": [
           {
            "colorbar": {
             "outlinewidth": 0,
             "ticks": ""
            },
            "type": "mesh3d"
           }
          ],
          "parcoords": [
           {
            "line": {
             "colorbar": {
              "outlinewidth": 0,
              "ticks": ""
             }
            },
            "type": "parcoords"
           }
          ],
          "pie": [
           {
            "automargin": true,
            "type": "pie"
           }
          ],
          "scatter": [
           {
            "marker": {
             "colorbar": {
              "outlinewidth": 0,
              "ticks": ""
             }
            },
            "type": "scatter"
           }
          ],
          "scatter3d": [
           {
            "line": {
             "colorbar": {
              "outlinewidth": 0,
              "ticks": ""
             }
            },
            "marker": {
             "colorbar": {
              "outlinewidth": 0,
              "ticks": ""
             }
            },
            "type": "scatter3d"
           }
          ],
          "scattercarpet": [
           {
            "marker": {
             "colorbar": {
              "outlinewidth": 0,
              "ticks": ""
             }
            },
            "type": "scattercarpet"
           }
          ],
          "scattergeo": [
           {
            "marker": {
             "colorbar": {
              "outlinewidth": 0,
              "ticks": ""
             }
            },
            "type": "scattergeo"
           }
          ],
          "scattergl": [
           {
            "marker": {
             "colorbar": {
              "outlinewidth": 0,
              "ticks": ""
             }
            },
            "type": "scattergl"
           }
          ],
          "scattermapbox": [
           {
            "marker": {
             "colorbar": {
              "outlinewidth": 0,
              "ticks": ""
             }
            },
            "type": "scattermapbox"
           }
          ],
          "scatterpolar": [
           {
            "marker": {
             "colorbar": {
              "outlinewidth": 0,
              "ticks": ""
             }
            },
            "type": "scatterpolar"
           }
          ],
          "scatterpolargl": [
           {
            "marker": {
             "colorbar": {
              "outlinewidth": 0,
              "ticks": ""
             }
            },
            "type": "scatterpolargl"
           }
          ],
          "scatterternary": [
           {
            "marker": {
             "colorbar": {
              "outlinewidth": 0,
              "ticks": ""
             }
            },
            "type": "scatterternary"
           }
          ],
          "surface": [
           {
            "colorbar": {
             "outlinewidth": 0,
             "ticks": ""
            },
            "colorscale": [
             [
              0,
              "#0d0887"
             ],
             [
              0.1111111111111111,
              "#46039f"
             ],
             [
              0.2222222222222222,
              "#7201a8"
             ],
             [
              0.3333333333333333,
              "#9c179e"
             ],
             [
              0.4444444444444444,
              "#bd3786"
             ],
             [
              0.5555555555555556,
              "#d8576b"
             ],
             [
              0.6666666666666666,
              "#ed7953"
             ],
             [
              0.7777777777777778,
              "#fb9f3a"
             ],
             [
              0.8888888888888888,
              "#fdca26"
             ],
             [
              1,
              "#f0f921"
             ]
            ],
            "type": "surface"
           }
          ],
          "table": [
           {
            "cells": {
             "fill": {
              "color": "#EBF0F8"
             },
             "line": {
              "color": "white"
             }
            },
            "header": {
             "fill": {
              "color": "#C8D4E3"
             },
             "line": {
              "color": "white"
             }
            },
            "type": "table"
           }
          ]
         },
         "layout": {
          "annotationdefaults": {
           "arrowcolor": "#2a3f5f",
           "arrowhead": 0,
           "arrowwidth": 1
          },
          "autotypenumbers": "strict",
          "coloraxis": {
           "colorbar": {
            "outlinewidth": 0,
            "ticks": ""
           }
          },
          "colorscale": {
           "diverging": [
            [
             0,
             "#8e0152"
            ],
            [
             0.1,
             "#c51b7d"
            ],
            [
             0.2,
             "#de77ae"
            ],
            [
             0.3,
             "#f1b6da"
            ],
            [
             0.4,
             "#fde0ef"
            ],
            [
             0.5,
             "#f7f7f7"
            ],
            [
             0.6,
             "#e6f5d0"
            ],
            [
             0.7,
             "#b8e186"
            ],
            [
             0.8,
             "#7fbc41"
            ],
            [
             0.9,
             "#4d9221"
            ],
            [
             1,
             "#276419"
            ]
           ],
           "sequential": [
            [
             0,
             "#0d0887"
            ],
            [
             0.1111111111111111,
             "#46039f"
            ],
            [
             0.2222222222222222,
             "#7201a8"
            ],
            [
             0.3333333333333333,
             "#9c179e"
            ],
            [
             0.4444444444444444,
             "#bd3786"
            ],
            [
             0.5555555555555556,
             "#d8576b"
            ],
            [
             0.6666666666666666,
             "#ed7953"
            ],
            [
             0.7777777777777778,
             "#fb9f3a"
            ],
            [
             0.8888888888888888,
             "#fdca26"
            ],
            [
             1,
             "#f0f921"
            ]
           ],
           "sequentialminus": [
            [
             0,
             "#0d0887"
            ],
            [
             0.1111111111111111,
             "#46039f"
            ],
            [
             0.2222222222222222,
             "#7201a8"
            ],
            [
             0.3333333333333333,
             "#9c179e"
            ],
            [
             0.4444444444444444,
             "#bd3786"
            ],
            [
             0.5555555555555556,
             "#d8576b"
            ],
            [
             0.6666666666666666,
             "#ed7953"
            ],
            [
             0.7777777777777778,
             "#fb9f3a"
            ],
            [
             0.8888888888888888,
             "#fdca26"
            ],
            [
             1,
             "#f0f921"
            ]
           ]
          },
          "colorway": [
           "#636efa",
           "#EF553B",
           "#00cc96",
           "#ab63fa",
           "#FFA15A",
           "#19d3f3",
           "#FF6692",
           "#B6E880",
           "#FF97FF",
           "#FECB52"
          ],
          "font": {
           "color": "#2a3f5f"
          },
          "geo": {
           "bgcolor": "white",
           "lakecolor": "white",
           "landcolor": "#E5ECF6",
           "showlakes": true,
           "showland": true,
           "subunitcolor": "white"
          },
          "hoverlabel": {
           "align": "left"
          },
          "hovermode": "closest",
          "mapbox": {
           "style": "light"
          },
          "paper_bgcolor": "white",
          "plot_bgcolor": "#E5ECF6",
          "polar": {
           "angularaxis": {
            "gridcolor": "white",
            "linecolor": "white",
            "ticks": ""
           },
           "bgcolor": "#E5ECF6",
           "radialaxis": {
            "gridcolor": "white",
            "linecolor": "white",
            "ticks": ""
           }
          },
          "scene": {
           "xaxis": {
            "backgroundcolor": "#E5ECF6",
            "gridcolor": "white",
            "gridwidth": 2,
            "linecolor": "white",
            "showbackground": true,
            "ticks": "",
            "zerolinecolor": "white"
           },
           "yaxis": {
            "backgroundcolor": "#E5ECF6",
            "gridcolor": "white",
            "gridwidth": 2,
            "linecolor": "white",
            "showbackground": true,
            "ticks": "",
            "zerolinecolor": "white"
           },
           "zaxis": {
            "backgroundcolor": "#E5ECF6",
            "gridcolor": "white",
            "gridwidth": 2,
            "linecolor": "white",
            "showbackground": true,
            "ticks": "",
            "zerolinecolor": "white"
           }
          },
          "shapedefaults": {
           "line": {
            "color": "#2a3f5f"
           }
          },
          "ternary": {
           "aaxis": {
            "gridcolor": "white",
            "linecolor": "white",
            "ticks": ""
           },
           "baxis": {
            "gridcolor": "white",
            "linecolor": "white",
            "ticks": ""
           },
           "bgcolor": "#E5ECF6",
           "caxis": {
            "gridcolor": "white",
            "linecolor": "white",
            "ticks": ""
           }
          },
          "title": {
           "x": 0.05
          },
          "xaxis": {
           "automargin": true,
           "gridcolor": "white",
           "linecolor": "white",
           "ticks": "",
           "title": {
            "standoff": 15
           },
           "zerolinecolor": "white",
           "zerolinewidth": 2
          },
          "yaxis": {
           "automargin": true,
           "gridcolor": "white",
           "linecolor": "white",
           "ticks": "",
           "title": {
            "standoff": 15
           },
           "zerolinecolor": "white",
           "zerolinewidth": 2
          }
         }
        },
        "title": {
         "text": "Rompimento7Dias x Rompimento 28 Dias"
        },
        "xaxis": {
         "anchor": "y",
         "domain": [
          0,
          1
         ],
         "title": {
          "text": "LogRompimento7Dias"
         }
        },
        "yaxis": {
         "anchor": "x",
         "domain": [
          0,
          1
         ],
         "title": {
          "text": "PercentualCrescimentoReal"
         }
        }
       }
      },
      "text/html": [
       "<div>                            <div id=\"70d21277-d93f-49b7-8996-3efa4aae89c4\" class=\"plotly-graph-div\" style=\"height:525px; width:100%;\"></div>            <script type=\"text/javascript\">                require([\"plotly\"], function(Plotly) {                    window.PLOTLYENV=window.PLOTLYENV || {};                                    if (document.getElementById(\"70d21277-d93f-49b7-8996-3efa4aae89c4\")) {                    Plotly.newPlot(                        \"70d21277-d93f-49b7-8996-3efa4aae89c4\",                        [{\"hovertemplate\": \"LogRompimento7Dias=%{x}<br>PercentualCrescimentoReal=%{y}<extra></extra>\", \"legendgroup\": \"\", \"marker\": {\"color\": \"#636efa\", \"symbol\": \"circle\"}, \"mode\": \"markers\", \"name\": \"\", \"orientation\": \"v\", \"showlegend\": false, \"type\": \"scatter\", \"x\": [2.9699015135194693, 3.311637304949512, 3.139832617527748, 3.1232455938529506, 3.170105660498771, 3.286908235260028, 3.126321843257593, 3.2039652121324464, 2.785628335747585, 3.141130476243348, 3.110399348532117, 3.0525850851467737, 3.111735949310297, 2.758109400974947, 2.9512577834521614, 2.8570447537800976, 2.9231615807191558, 2.750470916986162, 2.727199019940971, 2.8390784635086144], \"xaxis\": \"x\", \"y\": [44.94612621857364, 46.591323368574564, 37.27272727272726, 51.80457746478875, 50.0209995800084, 34.23019431988041, 42.34313295304959, 29.35444579780755, 37.260950030845144, 23.17336792044964, 32.27819884083818, 35.71091166745393, 41.45146927871773, 44.51490171211161, 43.02143230527965, 39.80470993681793, 25.322580645161267, 38.78594249201277, 49.18247220405494, 32.86549707602337], \"yaxis\": \"y\"}],                        {\"legend\": {\"tracegroupgap\": 0}, \"template\": {\"data\": {\"bar\": [{\"error_x\": {\"color\": \"#2a3f5f\"}, \"error_y\": {\"color\": \"#2a3f5f\"}, \"marker\": {\"line\": {\"color\": \"#E5ECF6\", \"width\": 0.5}}, \"type\": \"bar\"}], \"barpolar\": [{\"marker\": {\"line\": {\"color\": \"#E5ECF6\", \"width\": 0.5}}, \"type\": \"barpolar\"}], \"carpet\": [{\"aaxis\": {\"endlinecolor\": \"#2a3f5f\", \"gridcolor\": \"white\", \"linecolor\": \"white\", \"minorgridcolor\": \"white\", \"startlinecolor\": \"#2a3f5f\"}, \"baxis\": {\"endlinecolor\": \"#2a3f5f\", \"gridcolor\": \"white\", \"linecolor\": \"white\", \"minorgridcolor\": \"white\", \"startlinecolor\": \"#2a3f5f\"}, \"type\": \"carpet\"}], \"choropleth\": [{\"colorbar\": {\"outlinewidth\": 0, \"ticks\": \"\"}, \"type\": \"choropleth\"}], \"contour\": [{\"colorbar\": {\"outlinewidth\": 0, \"ticks\": \"\"}, \"colorscale\": [[0.0, \"#0d0887\"], [0.1111111111111111, \"#46039f\"], [0.2222222222222222, \"#7201a8\"], [0.3333333333333333, \"#9c179e\"], [0.4444444444444444, \"#bd3786\"], [0.5555555555555556, \"#d8576b\"], [0.6666666666666666, \"#ed7953\"], [0.7777777777777778, \"#fb9f3a\"], [0.8888888888888888, \"#fdca26\"], [1.0, \"#f0f921\"]], \"type\": \"contour\"}], \"contourcarpet\": [{\"colorbar\": {\"outlinewidth\": 0, \"ticks\": \"\"}, \"type\": \"contourcarpet\"}], \"heatmap\": [{\"colorbar\": {\"outlinewidth\": 0, \"ticks\": \"\"}, \"colorscale\": [[0.0, \"#0d0887\"], [0.1111111111111111, \"#46039f\"], [0.2222222222222222, \"#7201a8\"], [0.3333333333333333, \"#9c179e\"], [0.4444444444444444, \"#bd3786\"], [0.5555555555555556, \"#d8576b\"], [0.6666666666666666, \"#ed7953\"], [0.7777777777777778, \"#fb9f3a\"], [0.8888888888888888, \"#fdca26\"], [1.0, \"#f0f921\"]], \"type\": \"heatmap\"}], \"heatmapgl\": [{\"colorbar\": {\"outlinewidth\": 0, \"ticks\": \"\"}, \"colorscale\": [[0.0, \"#0d0887\"], [0.1111111111111111, \"#46039f\"], [0.2222222222222222, \"#7201a8\"], [0.3333333333333333, \"#9c179e\"], [0.4444444444444444, \"#bd3786\"], [0.5555555555555556, \"#d8576b\"], [0.6666666666666666, \"#ed7953\"], [0.7777777777777778, \"#fb9f3a\"], [0.8888888888888888, \"#fdca26\"], [1.0, \"#f0f921\"]], \"type\": \"heatmapgl\"}], \"histogram\": [{\"marker\": {\"colorbar\": {\"outlinewidth\": 0, \"ticks\": \"\"}}, \"type\": \"histogram\"}], \"histogram2d\": [{\"colorbar\": {\"outlinewidth\": 0, \"ticks\": \"\"}, \"colorscale\": [[0.0, \"#0d0887\"], [0.1111111111111111, \"#46039f\"], [0.2222222222222222, \"#7201a8\"], [0.3333333333333333, \"#9c179e\"], [0.4444444444444444, \"#bd3786\"], [0.5555555555555556, \"#d8576b\"], [0.6666666666666666, \"#ed7953\"], [0.7777777777777778, \"#fb9f3a\"], [0.8888888888888888, \"#fdca26\"], [1.0, \"#f0f921\"]], \"type\": \"histogram2d\"}], \"histogram2dcontour\": [{\"colorbar\": {\"outlinewidth\": 0, \"ticks\": \"\"}, \"colorscale\": [[0.0, \"#0d0887\"], [0.1111111111111111, \"#46039f\"], [0.2222222222222222, \"#7201a8\"], [0.3333333333333333, \"#9c179e\"], [0.4444444444444444, \"#bd3786\"], [0.5555555555555556, \"#d8576b\"], [0.6666666666666666, \"#ed7953\"], [0.7777777777777778, \"#fb9f3a\"], [0.8888888888888888, \"#fdca26\"], [1.0, \"#f0f921\"]], \"type\": \"histogram2dcontour\"}], \"mesh3d\": [{\"colorbar\": {\"outlinewidth\": 0, \"ticks\": \"\"}, \"type\": \"mesh3d\"}], \"parcoords\": [{\"line\": {\"colorbar\": {\"outlinewidth\": 0, \"ticks\": \"\"}}, \"type\": \"parcoords\"}], \"pie\": [{\"automargin\": true, \"type\": \"pie\"}], \"scatter\": [{\"marker\": {\"colorbar\": {\"outlinewidth\": 0, \"ticks\": \"\"}}, \"type\": \"scatter\"}], \"scatter3d\": [{\"line\": {\"colorbar\": {\"outlinewidth\": 0, \"ticks\": \"\"}}, \"marker\": {\"colorbar\": {\"outlinewidth\": 0, \"ticks\": \"\"}}, \"type\": \"scatter3d\"}], \"scattercarpet\": [{\"marker\": {\"colorbar\": {\"outlinewidth\": 0, \"ticks\": \"\"}}, \"type\": \"scattercarpet\"}], \"scattergeo\": [{\"marker\": {\"colorbar\": {\"outlinewidth\": 0, \"ticks\": \"\"}}, \"type\": \"scattergeo\"}], \"scattergl\": [{\"marker\": {\"colorbar\": {\"outlinewidth\": 0, \"ticks\": \"\"}}, \"type\": \"scattergl\"}], \"scattermapbox\": [{\"marker\": {\"colorbar\": {\"outlinewidth\": 0, \"ticks\": \"\"}}, \"type\": \"scattermapbox\"}], \"scatterpolar\": [{\"marker\": {\"colorbar\": {\"outlinewidth\": 0, \"ticks\": \"\"}}, \"type\": \"scatterpolar\"}], \"scatterpolargl\": [{\"marker\": {\"colorbar\": {\"outlinewidth\": 0, \"ticks\": \"\"}}, \"type\": \"scatterpolargl\"}], \"scatterternary\": [{\"marker\": {\"colorbar\": {\"outlinewidth\": 0, \"ticks\": \"\"}}, \"type\": \"scatterternary\"}], \"surface\": [{\"colorbar\": {\"outlinewidth\": 0, \"ticks\": \"\"}, \"colorscale\": [[0.0, \"#0d0887\"], [0.1111111111111111, \"#46039f\"], [0.2222222222222222, \"#7201a8\"], [0.3333333333333333, \"#9c179e\"], [0.4444444444444444, \"#bd3786\"], [0.5555555555555556, \"#d8576b\"], [0.6666666666666666, \"#ed7953\"], [0.7777777777777778, \"#fb9f3a\"], [0.8888888888888888, \"#fdca26\"], [1.0, \"#f0f921\"]], \"type\": \"surface\"}], \"table\": [{\"cells\": {\"fill\": {\"color\": \"#EBF0F8\"}, \"line\": {\"color\": \"white\"}}, \"header\": {\"fill\": {\"color\": \"#C8D4E3\"}, \"line\": {\"color\": \"white\"}}, \"type\": \"table\"}]}, \"layout\": {\"annotationdefaults\": {\"arrowcolor\": \"#2a3f5f\", \"arrowhead\": 0, \"arrowwidth\": 1}, \"autotypenumbers\": \"strict\", \"coloraxis\": {\"colorbar\": {\"outlinewidth\": 0, \"ticks\": \"\"}}, \"colorscale\": {\"diverging\": [[0, \"#8e0152\"], [0.1, \"#c51b7d\"], [0.2, \"#de77ae\"], [0.3, \"#f1b6da\"], [0.4, \"#fde0ef\"], [0.5, \"#f7f7f7\"], [0.6, \"#e6f5d0\"], [0.7, \"#b8e186\"], [0.8, \"#7fbc41\"], [0.9, \"#4d9221\"], [1, \"#276419\"]], \"sequential\": [[0.0, \"#0d0887\"], [0.1111111111111111, \"#46039f\"], [0.2222222222222222, \"#7201a8\"], [0.3333333333333333, \"#9c179e\"], [0.4444444444444444, \"#bd3786\"], [0.5555555555555556, \"#d8576b\"], [0.6666666666666666, \"#ed7953\"], [0.7777777777777778, \"#fb9f3a\"], [0.8888888888888888, \"#fdca26\"], [1.0, \"#f0f921\"]], \"sequentialminus\": [[0.0, \"#0d0887\"], [0.1111111111111111, \"#46039f\"], [0.2222222222222222, \"#7201a8\"], [0.3333333333333333, \"#9c179e\"], [0.4444444444444444, \"#bd3786\"], [0.5555555555555556, \"#d8576b\"], [0.6666666666666666, \"#ed7953\"], [0.7777777777777778, \"#fb9f3a\"], [0.8888888888888888, \"#fdca26\"], [1.0, \"#f0f921\"]]}, \"colorway\": [\"#636efa\", \"#EF553B\", \"#00cc96\", \"#ab63fa\", \"#FFA15A\", \"#19d3f3\", \"#FF6692\", \"#B6E880\", \"#FF97FF\", \"#FECB52\"], \"font\": {\"color\": \"#2a3f5f\"}, \"geo\": {\"bgcolor\": \"white\", \"lakecolor\": \"white\", \"landcolor\": \"#E5ECF6\", \"showlakes\": true, \"showland\": true, \"subunitcolor\": \"white\"}, \"hoverlabel\": {\"align\": \"left\"}, \"hovermode\": \"closest\", \"mapbox\": {\"style\": \"light\"}, \"paper_bgcolor\": \"white\", \"plot_bgcolor\": \"#E5ECF6\", \"polar\": {\"angularaxis\": {\"gridcolor\": \"white\", \"linecolor\": \"white\", \"ticks\": \"\"}, \"bgcolor\": \"#E5ECF6\", \"radialaxis\": {\"gridcolor\": \"white\", \"linecolor\": \"white\", \"ticks\": \"\"}}, \"scene\": {\"xaxis\": {\"backgroundcolor\": \"#E5ECF6\", \"gridcolor\": \"white\", \"gridwidth\": 2, \"linecolor\": \"white\", \"showbackground\": true, \"ticks\": \"\", \"zerolinecolor\": \"white\"}, \"yaxis\": {\"backgroundcolor\": \"#E5ECF6\", \"gridcolor\": \"white\", \"gridwidth\": 2, \"linecolor\": \"white\", \"showbackground\": true, \"ticks\": \"\", \"zerolinecolor\": \"white\"}, \"zaxis\": {\"backgroundcolor\": \"#E5ECF6\", \"gridcolor\": \"white\", \"gridwidth\": 2, \"linecolor\": \"white\", \"showbackground\": true, \"ticks\": \"\", \"zerolinecolor\": \"white\"}}, \"shapedefaults\": {\"line\": {\"color\": \"#2a3f5f\"}}, \"ternary\": {\"aaxis\": {\"gridcolor\": \"white\", \"linecolor\": \"white\", \"ticks\": \"\"}, \"baxis\": {\"gridcolor\": \"white\", \"linecolor\": \"white\", \"ticks\": \"\"}, \"bgcolor\": \"#E5ECF6\", \"caxis\": {\"gridcolor\": \"white\", \"linecolor\": \"white\", \"ticks\": \"\"}}, \"title\": {\"x\": 0.05}, \"xaxis\": {\"automargin\": true, \"gridcolor\": \"white\", \"linecolor\": \"white\", \"ticks\": \"\", \"title\": {\"standoff\": 15}, \"zerolinecolor\": \"white\", \"zerolinewidth\": 2}, \"yaxis\": {\"automargin\": true, \"gridcolor\": \"white\", \"linecolor\": \"white\", \"ticks\": \"\", \"title\": {\"standoff\": 15}, \"zerolinecolor\": \"white\", \"zerolinewidth\": 2}}}, \"title\": {\"text\": \"Rompimento7Dias x Rompimento 28 Dias\"}, \"xaxis\": {\"anchor\": \"y\", \"domain\": [0.0, 1.0], \"title\": {\"text\": \"LogRompimento7Dias\"}}, \"yaxis\": {\"anchor\": \"x\", \"domain\": [0.0, 1.0], \"title\": {\"text\": \"PercentualCrescimentoReal\"}}},                        {\"responsive\": true}                    ).then(function(){\n",
       "                            \n",
       "var gd = document.getElementById('70d21277-d93f-49b7-8996-3efa4aae89c4');\n",
       "var x = new MutationObserver(function (mutations, observer) {{\n",
       "        var display = window.getComputedStyle(gd).display;\n",
       "        if (!display || display === 'none') {{\n",
       "            console.log([gd, 'removed!']);\n",
       "            Plotly.purge(gd);\n",
       "            observer.disconnect();\n",
       "        }}\n",
       "}});\n",
       "\n",
       "// Listen for the removal of the full notebook cells\n",
       "var notebookContainer = gd.closest('#notebook-container');\n",
       "if (notebookContainer) {{\n",
       "    x.observe(notebookContainer, {childList: true});\n",
       "}}\n",
       "\n",
       "// Listen for the clearing of the current output cell\n",
       "var outputEl = gd.closest('.output');\n",
       "if (outputEl) {{\n",
       "    x.observe(outputEl, {childList: true});\n",
       "}}\n",
       "\n",
       "                        })                };                });            </script>        </div>"
      ]
     },
     "metadata": {},
     "output_type": "display_data"
    }
   ],
   "source": [
    "df_aux = dados_aglomerante[dados_aglomerante[\"FCK\"] == 25]\n",
    "\n",
    "mask_inicio = dados_aglomerante[\"DataProjecao\"] > dt.datetime(2018, 7, 6)\n",
    "mask_final = dados_aglomerante[\"DataProjecao\"] <= dt.datetime(2018, 9, 7)\n",
    "\n",
    "df_aux = dados_aglomerante[mask_inicio & mask_final]\n",
    "\n",
    "fig = px.scatter(df_aux, x=\"LogRompimento7Dias\", y=\"PercentualCrescimentoReal\", title='Rompimento7Dias x Rompimento 28 Dias')\n",
    "fig.show()"
   ]
  },
  {
   "cell_type": "code",
   "execution_count": 1270,
   "metadata": {},
   "outputs": [
    {
     "name": "stderr",
     "output_type": "stream",
     "text": [
      "/home/marina/anaconda3/lib/python3.8/site-packages/pandas/core/series.py:4563: SettingWithCopyWarning:\n",
      "\n",
      "\n",
      "A value is trying to be set on a copy of a slice from a DataFrame\n",
      "\n",
      "See the caveats in the documentation: https://pandas.pydata.org/pandas-docs/stable/user_guide/indexing.html#returning-a-view-versus-a-copy\n",
      "\n"
     ]
    }
   ],
   "source": [
    "dados_aglomerante[\"TipoLancamento\"].replace('C', 0, inplace = True)\n",
    "dados_aglomerante[\"TipoLancamento\"].replace('B', 1, inplace = True)"
   ]
  },
  {
   "cell_type": "code",
   "execution_count": 1271,
   "metadata": {},
   "outputs": [
    {
     "name": "stderr",
     "output_type": "stream",
     "text": [
      "<ipython-input-1271-77c128e4e36d>:1: SettingWithCopyWarning:\n",
      "\n",
      "\n",
      "A value is trying to be set on a copy of a slice from a DataFrame.\n",
      "Try using .loc[row_indexer,col_indexer] = value instead\n",
      "\n",
      "See the caveats in the documentation: https://pandas.pydata.org/pandas-docs/stable/user_guide/indexing.html#returning-a-view-versus-a-copy\n",
      "\n",
      "<ipython-input-1271-77c128e4e36d>:2: SettingWithCopyWarning:\n",
      "\n",
      "\n",
      "A value is trying to be set on a copy of a slice from a DataFrame\n",
      "\n",
      "See the caveats in the documentation: https://pandas.pydata.org/pandas-docs/stable/user_guide/indexing.html#returning-a-view-versus-a-copy\n",
      "\n"
     ]
    }
   ],
   "source": [
    "dados_aglomerante[\"DataProjecao\"] = pd.to_datetime(dados_aglomerante[\"DataProjecao\"])\n",
    "dados_aglomerante.sort_values(\"DataProjecao\", inplace=True)"
   ]
  },
  {
   "cell_type": "code",
   "execution_count": 1272,
   "metadata": {},
   "outputs": [],
   "source": [
    "def AchaCorrecaoDesvio(item):\n",
    "    data_projecao_item = item[\"DataProjecao\"]\n",
    "    tipo_traco = item[\"TipoTraco\"]\n",
    "    desvio_projecao_atual = item[\"DesvioAplicado\"]\n",
    "    \n",
    "    mask_data_projecao = dados_aglomerante[\"DataProjecao\"] < data_projecao_item\n",
    "    mask_tipo_traco = dados_aglomerante[\"TipoTraco\"] == tipo_traco\n",
    "    dados_projecao_anterior = dados_aglomerante[mask_data_projecao & mask_tipo_traco]\n",
    "    \n",
    "    if (len(dados_projecao_anterior) == 0):\n",
    "        return 0\n",
    "    \n",
    "    desvio_projecao_anterior = dados_projecao_anterior.tail(1)[\"DesvioAplicado\"].values[0]\n",
    "    \n",
    "    delta_desvio = desvio_projecao_atual - desvio_projecao_anterior\n",
    "    \n",
    "    return delta_desvio"
   ]
  },
  {
   "cell_type": "code",
   "execution_count": 1273,
   "metadata": {},
   "outputs": [
    {
     "name": "stderr",
     "output_type": "stream",
     "text": [
      "<ipython-input-1273-7b56fb428403>:1: SettingWithCopyWarning:\n",
      "\n",
      "\n",
      "A value is trying to be set on a copy of a slice from a DataFrame.\n",
      "Try using .loc[row_indexer,col_indexer] = value instead\n",
      "\n",
      "See the caveats in the documentation: https://pandas.pydata.org/pandas-docs/stable/user_guide/indexing.html#returning-a-view-versus-a-copy\n",
      "\n"
     ]
    }
   ],
   "source": [
    "dados_aglomerante[\"DeltaDesvio\"] = dados_aglomerante.apply(AchaCorrecaoDesvio, axis = \"columns\")\n",
    "#dados_aglomerante.tail().apply(AchaCorrecaoDesvio, axis = \"columns\")"
   ]
  },
  {
   "cell_type": "code",
   "execution_count": 1115,
   "metadata": {},
   "outputs": [
    {
     "data": {
      "text/plain": [
       "array(['2017-03-10T00:00:00.000000000', '2017-03-24T00:00:00.000000000',\n",
       "       '2017-03-31T00:00:00.000000000', '2017-04-14T00:00:00.000000000',\n",
       "       '2017-04-21T00:00:00.000000000', '2017-05-05T00:00:00.000000000',\n",
       "       '2017-05-12T00:00:00.000000000', '2017-05-19T00:00:00.000000000',\n",
       "       '2017-06-23T00:00:00.000000000', '2017-06-30T00:00:00.000000000',\n",
       "       '2017-07-07T00:00:00.000000000', '2017-07-28T00:00:00.000000000',\n",
       "       '2017-08-04T00:00:00.000000000', '2017-08-11T00:00:00.000000000',\n",
       "       '2017-10-20T00:00:00.000000000', '2017-10-27T00:00:00.000000000',\n",
       "       '2017-11-03T00:00:00.000000000', '2017-11-10T00:00:00.000000000',\n",
       "       '2017-11-17T00:00:00.000000000', '2017-11-24T00:00:00.000000000',\n",
       "       '2017-12-15T00:00:00.000000000', '2017-12-29T00:00:00.000000000',\n",
       "       '2018-01-05T00:00:00.000000000', '2018-01-12T00:00:00.000000000',\n",
       "       '2018-01-26T00:00:00.000000000', '2018-03-09T00:00:00.000000000',\n",
       "       '2018-03-16T00:00:00.000000000', '2018-07-06T00:00:00.000000000',\n",
       "       '2018-07-13T00:00:00.000000000', '2018-07-20T00:00:00.000000000',\n",
       "       '2018-08-03T00:00:00.000000000', '2018-08-10T00:00:00.000000000',\n",
       "       '2018-08-17T00:00:00.000000000', '2018-08-24T00:00:00.000000000',\n",
       "       '2018-08-31T00:00:00.000000000', '2018-09-07T00:00:00.000000000',\n",
       "       '2018-09-21T00:00:00.000000000', '2018-09-28T00:00:00.000000000',\n",
       "       '2018-10-05T00:00:00.000000000', '2018-10-12T00:00:00.000000000',\n",
       "       '2018-10-19T00:00:00.000000000', '2018-10-26T00:00:00.000000000',\n",
       "       '2018-11-02T00:00:00.000000000', '2018-11-09T00:00:00.000000000',\n",
       "       '2018-11-16T00:00:00.000000000', '2018-11-23T00:00:00.000000000',\n",
       "       '2018-11-30T00:00:00.000000000', '2018-12-07T00:00:00.000000000',\n",
       "       '2018-12-14T00:00:00.000000000', '2018-12-21T00:00:00.000000000',\n",
       "       '2018-12-28T00:00:00.000000000', '2019-01-04T00:00:00.000000000',\n",
       "       '2019-01-11T00:00:00.000000000', '2019-01-18T00:00:00.000000000',\n",
       "       '2019-01-25T00:00:00.000000000', '2019-02-01T00:00:00.000000000',\n",
       "       '2019-02-08T00:00:00.000000000', '2019-03-01T00:00:00.000000000',\n",
       "       '2019-03-08T00:00:00.000000000', '2019-03-15T00:00:00.000000000',\n",
       "       '2019-03-22T00:00:00.000000000', '2019-04-05T00:00:00.000000000',\n",
       "       '2019-07-19T00:00:00.000000000', '2019-08-02T00:00:00.000000000',\n",
       "       '2019-08-09T00:00:00.000000000'], dtype='datetime64[ns]')"
      ]
     },
     "execution_count": 1115,
     "metadata": {},
     "output_type": "execute_result"
    }
   ],
   "source": [
    "dados_aglomerante[\"DataProjecao\"].unique()\n"
   ]
  },
  {
   "cell_type": "code",
   "execution_count": 1186,
   "metadata": {},
   "outputs": [],
   "source": [
    "def RemoveOutliers(dados, coluna):\n",
    "    q1 = dados[coluna].quantile(0.25)\n",
    "    q3 = dados[coluna].quantile(0.75)\n",
    "    iqr = q3 - q1\n",
    "    \n",
    "    maskOutlier = (dados[coluna] < (q1 - 1.5 * iqr)) | (dados[coluna] > (q3 + 1.5 * iqr))\n",
    "    retorno = dados[maskOutlier == False]\n",
    "    \n",
    "    return retorno\n",
    "\n",
    "\n",
    "dados_aglomerante = RemoveOutliers(dados_aglomerante, \"LogRompimento7Dias\")\n",
    "dados_aglomerante = RemoveOutliers(dados_aglomerante, \"PercentualCrescimentoReal\")\n",
    "dados_aglomerante = RemoveOutliers(dados_aglomerante, \"Rompimento28Dias\")\n",
    "dados_aglomerante = RemoveOutliers(dados_aglomerante, \"ConsumoPorM3\")\n",
    "dados_aglomerante = RemoveOutliers(dados_aglomerante, \"RelacaoAguaCimento\")"
   ]
  },
  {
   "cell_type": "code",
   "execution_count": 738,
   "metadata": {},
   "outputs": [],
   "source": [
    "dados_aglomerante_modelo = dados_aglomerante[[\"DeltaDesvio\", \"QuantidadeAguaM3\", \"TipoLancamento\", \"TipoTraco\", \"FCK\", \"ConsumoPorM3\", \"LogRompimento7Dias\", \"Rompimento28Dias\", \"ResultadoProjetado\", \"DataProjecao\"]]\n",
    "\n",
    "#beleza até 4/8/2017\n",
    "\n",
    "data_projecao_atual = dt.datetime(2016, 2, 5)\n",
    "data_inicio_busca_dados = data_projecao_atual - dt.timedelta(weeks = 20)\n",
    "data_fim_busca_dados = data_projecao_atual - dt.timedelta(weeks = 4)\n",
    "\n",
    "mask_data_projecao_treino_inicio = dados_aglomerante_modelo[\"DataProjecao\"] >= data_inicio_busca_dados\n",
    "mask_data_projecao_treino_final = dados_aglomerante_modelo[\"DataProjecao\"] <= data_fim_busca_dados\n",
    "mask_data_projecao_teste = dados_aglomerante_modelo[\"DataProjecao\"] == data_projecao_atual\n",
    "\n",
    "dados_treino = dados_aglomerante_modelo[mask_data_projecao_treino_inicio & mask_data_projecao_treino_final]\n",
    "#dados_treino = dados_aglomerante_modelo[mask_data_projecao_treino_final]\n",
    "dados_teste = dados_aglomerante_modelo[mask_data_projecao_teste]"
   ]
  },
  {
   "cell_type": "code",
   "execution_count": 739,
   "metadata": {},
   "outputs": [
    {
     "data": {
      "text/html": [
       "<div>\n",
       "<style scoped>\n",
       "    .dataframe tbody tr th:only-of-type {\n",
       "        vertical-align: middle;\n",
       "    }\n",
       "\n",
       "    .dataframe tbody tr th {\n",
       "        vertical-align: top;\n",
       "    }\n",
       "\n",
       "    .dataframe thead th {\n",
       "        text-align: right;\n",
       "    }\n",
       "</style>\n",
       "<table border=\"1\" class=\"dataframe\">\n",
       "  <thead>\n",
       "    <tr style=\"text-align: right;\">\n",
       "      <th></th>\n",
       "      <th>DeltaDesvio</th>\n",
       "      <th>QuantidadeAguaM3</th>\n",
       "      <th>TipoLancamento</th>\n",
       "      <th>TipoTraco</th>\n",
       "      <th>FCK</th>\n",
       "      <th>ConsumoPorM3</th>\n",
       "      <th>LogRompimento7Dias</th>\n",
       "      <th>Rompimento28Dias</th>\n",
       "      <th>ResultadoProjetado</th>\n",
       "      <th>DataProjecao</th>\n",
       "    </tr>\n",
       "  </thead>\n",
       "  <tbody>\n",
       "    <tr>\n",
       "      <th>16439</th>\n",
       "      <td>NaN</td>\n",
       "      <td>176.0</td>\n",
       "      <td>0</td>\n",
       "      <td>1</td>\n",
       "      <td>30.0</td>\n",
       "      <td>359.0</td>\n",
       "      <td>3.235930</td>\n",
       "      <td>39.92</td>\n",
       "      <td>36.519634</td>\n",
       "      <td>2015-09-18</td>\n",
       "    </tr>\n",
       "    <tr>\n",
       "      <th>16440</th>\n",
       "      <td>NaN</td>\n",
       "      <td>176.0</td>\n",
       "      <td>0</td>\n",
       "      <td>1</td>\n",
       "      <td>30.0</td>\n",
       "      <td>359.0</td>\n",
       "      <td>3.175968</td>\n",
       "      <td>36.09</td>\n",
       "      <td>34.734577</td>\n",
       "      <td>2015-09-18</td>\n",
       "    </tr>\n",
       "    <tr>\n",
       "      <th>16438</th>\n",
       "      <td>NaN</td>\n",
       "      <td>168.0</td>\n",
       "      <td>0</td>\n",
       "      <td>1</td>\n",
       "      <td>30.0</td>\n",
       "      <td>359.0</td>\n",
       "      <td>3.100092</td>\n",
       "      <td>34.40</td>\n",
       "      <td>32.595774</td>\n",
       "      <td>2015-09-18</td>\n",
       "    </tr>\n",
       "    <tr>\n",
       "      <th>16441</th>\n",
       "      <td>NaN</td>\n",
       "      <td>168.0</td>\n",
       "      <td>0</td>\n",
       "      <td>1</td>\n",
       "      <td>30.0</td>\n",
       "      <td>359.0</td>\n",
       "      <td>3.081451</td>\n",
       "      <td>32.78</td>\n",
       "      <td>32.090048</td>\n",
       "      <td>2015-09-18</td>\n",
       "    </tr>\n",
       "    <tr>\n",
       "      <th>16442</th>\n",
       "      <td>NaN</td>\n",
       "      <td>168.0</td>\n",
       "      <td>0</td>\n",
       "      <td>1</td>\n",
       "      <td>30.0</td>\n",
       "      <td>359.0</td>\n",
       "      <td>3.288775</td>\n",
       "      <td>38.46</td>\n",
       "      <td>38.165653</td>\n",
       "      <td>2015-09-18</td>\n",
       "    </tr>\n",
       "    <tr>\n",
       "      <th>...</th>\n",
       "      <td>...</td>\n",
       "      <td>...</td>\n",
       "      <td>...</td>\n",
       "      <td>...</td>\n",
       "      <td>...</td>\n",
       "      <td>...</td>\n",
       "      <td>...</td>\n",
       "      <td>...</td>\n",
       "      <td>...</td>\n",
       "      <td>...</td>\n",
       "    </tr>\n",
       "    <tr>\n",
       "      <th>826</th>\n",
       "      <td>0.0</td>\n",
       "      <td>157.0</td>\n",
       "      <td>0</td>\n",
       "      <td>0</td>\n",
       "      <td>25.0</td>\n",
       "      <td>260.0</td>\n",
       "      <td>2.933857</td>\n",
       "      <td>28.01</td>\n",
       "      <td>27.253612</td>\n",
       "      <td>2015-12-25</td>\n",
       "    </tr>\n",
       "    <tr>\n",
       "      <th>825</th>\n",
       "      <td>0.0</td>\n",
       "      <td>157.0</td>\n",
       "      <td>0</td>\n",
       "      <td>0</td>\n",
       "      <td>25.0</td>\n",
       "      <td>260.0</td>\n",
       "      <td>3.048799</td>\n",
       "      <td>31.52</td>\n",
       "      <td>29.926091</td>\n",
       "      <td>2015-12-25</td>\n",
       "    </tr>\n",
       "    <tr>\n",
       "      <th>21857</th>\n",
       "      <td>0.0</td>\n",
       "      <td>165.0</td>\n",
       "      <td>1</td>\n",
       "      <td>0</td>\n",
       "      <td>25.0</td>\n",
       "      <td>272.0</td>\n",
       "      <td>2.923699</td>\n",
       "      <td>31.01</td>\n",
       "      <td>27.028649</td>\n",
       "      <td>2015-12-25</td>\n",
       "    </tr>\n",
       "    <tr>\n",
       "      <th>19090</th>\n",
       "      <td>NaN</td>\n",
       "      <td>181.0</td>\n",
       "      <td>1</td>\n",
       "      <td>1</td>\n",
       "      <td>25.0</td>\n",
       "      <td>375.0</td>\n",
       "      <td>3.235536</td>\n",
       "      <td>36.42</td>\n",
       "      <td>34.802822</td>\n",
       "      <td>2016-01-01</td>\n",
       "    </tr>\n",
       "    <tr>\n",
       "      <th>19091</th>\n",
       "      <td>NaN</td>\n",
       "      <td>181.0</td>\n",
       "      <td>1</td>\n",
       "      <td>1</td>\n",
       "      <td>25.0</td>\n",
       "      <td>375.0</td>\n",
       "      <td>3.134624</td>\n",
       "      <td>34.32</td>\n",
       "      <td>32.081351</td>\n",
       "      <td>2016-01-01</td>\n",
       "    </tr>\n",
       "  </tbody>\n",
       "</table>\n",
       "<p>156 rows × 10 columns</p>\n",
       "</div>"
      ],
      "text/plain": [
       "       DeltaDesvio  QuantidadeAguaM3  TipoLancamento  TipoTraco   FCK  \\\n",
       "16439          NaN             176.0               0          1  30.0   \n",
       "16440          NaN             176.0               0          1  30.0   \n",
       "16438          NaN             168.0               0          1  30.0   \n",
       "16441          NaN             168.0               0          1  30.0   \n",
       "16442          NaN             168.0               0          1  30.0   \n",
       "...            ...               ...             ...        ...   ...   \n",
       "826            0.0             157.0               0          0  25.0   \n",
       "825            0.0             157.0               0          0  25.0   \n",
       "21857          0.0             165.0               1          0  25.0   \n",
       "19090          NaN             181.0               1          1  25.0   \n",
       "19091          NaN             181.0               1          1  25.0   \n",
       "\n",
       "       ConsumoPorM3  LogRompimento7Dias  Rompimento28Dias  ResultadoProjetado  \\\n",
       "16439         359.0            3.235930             39.92           36.519634   \n",
       "16440         359.0            3.175968             36.09           34.734577   \n",
       "16438         359.0            3.100092             34.40           32.595774   \n",
       "16441         359.0            3.081451             32.78           32.090048   \n",
       "16442         359.0            3.288775             38.46           38.165653   \n",
       "...             ...                 ...               ...                 ...   \n",
       "826           260.0            2.933857             28.01           27.253612   \n",
       "825           260.0            3.048799             31.52           29.926091   \n",
       "21857         272.0            2.923699             31.01           27.028649   \n",
       "19090         375.0            3.235536             36.42           34.802822   \n",
       "19091         375.0            3.134624             34.32           32.081351   \n",
       "\n",
       "      DataProjecao  \n",
       "16439   2015-09-18  \n",
       "16440   2015-09-18  \n",
       "16438   2015-09-18  \n",
       "16441   2015-09-18  \n",
       "16442   2015-09-18  \n",
       "...            ...  \n",
       "826     2015-12-25  \n",
       "825     2015-12-25  \n",
       "21857   2015-12-25  \n",
       "19090   2016-01-01  \n",
       "19091   2016-01-01  \n",
       "\n",
       "[156 rows x 10 columns]"
      ]
     },
     "execution_count": 739,
     "metadata": {},
     "output_type": "execute_result"
    }
   ],
   "source": [
    "dados_treino"
   ]
  },
  {
   "cell_type": "code",
   "execution_count": 740,
   "metadata": {},
   "outputs": [],
   "source": [
    "x_train = dados_treino.drop([\"Rompimento28Dias\", \"DataProjecao\"], axis = 1)\n",
    "y_train = dados_treino[\"Rompimento28Dias\"].values\n",
    "\n",
    "x_test = dados_teste.drop([\"Rompimento28Dias\", \"DataProjecao\"], axis = 1)\n",
    "y_test = dados_teste[\"Rompimento28Dias\"].values"
   ]
  },
  {
   "cell_type": "code",
   "execution_count": 741,
   "metadata": {},
   "outputs": [],
   "source": [
    "y_train = y_train.reshape(-1, 1)\n",
    "#x_train = x_train.reshape(-1, 1)\n",
    "y_test = y_test.reshape(-1, 1)\n",
    "#x_test = x_test.reshape(-1, 1)"
   ]
  },
  {
   "cell_type": "code",
   "execution_count": 742,
   "metadata": {},
   "outputs": [],
   "source": [
    "x_train_modelo = x_train.drop(\"ResultadoProjetado\", axis = 1)\n",
    "x_test_modelo = x_test.drop(\"ResultadoProjetado\", axis = 1)"
   ]
  },
  {
   "cell_type": "code",
   "execution_count": null,
   "metadata": {},
   "outputs": [],
   "source": []
  },
  {
   "cell_type": "code",
   "execution_count": 743,
   "metadata": {},
   "outputs": [
    {
     "ename": "ValueError",
     "evalue": "Input contains NaN, infinity or a value too large for dtype('float32').",
     "output_type": "error",
     "traceback": [
      "\u001b[0;31m---------------------------------------------------------------------------\u001b[0m",
      "\u001b[0;31mValueError\u001b[0m                                Traceback (most recent call last)",
      "\u001b[0;32m<ipython-input-743-77daa51d45fe>\u001b[0m in \u001b[0;36m<module>\u001b[0;34m\u001b[0m\n\u001b[0;32m----> 1\u001b[0;31m \u001b[0mmodelo\u001b[0m\u001b[0;34m.\u001b[0m\u001b[0mfit\u001b[0m\u001b[0;34m(\u001b[0m\u001b[0mx_train_modelo\u001b[0m\u001b[0;34m,\u001b[0m \u001b[0my_train\u001b[0m\u001b[0;34m)\u001b[0m\u001b[0;34m\u001b[0m\u001b[0;34m\u001b[0m\u001b[0m\n\u001b[0m\u001b[1;32m      2\u001b[0m \u001b[0my_pred\u001b[0m \u001b[0;34m=\u001b[0m \u001b[0mmodelo\u001b[0m\u001b[0;34m.\u001b[0m\u001b[0mpredict\u001b[0m\u001b[0;34m(\u001b[0m\u001b[0mx_test_modelo\u001b[0m\u001b[0;34m)\u001b[0m\u001b[0;34m\u001b[0m\u001b[0;34m\u001b[0m\u001b[0m\n",
      "\u001b[0;32m~/anaconda3/lib/python3.8/site-packages/sklearn/pipeline.py\u001b[0m in \u001b[0;36mfit\u001b[0;34m(self, X, y, **fit_params)\u001b[0m\n\u001b[1;32m    333\u001b[0m             \u001b[0;32mif\u001b[0m \u001b[0mself\u001b[0m\u001b[0;34m.\u001b[0m\u001b[0m_final_estimator\u001b[0m \u001b[0;34m!=\u001b[0m \u001b[0;34m'passthrough'\u001b[0m\u001b[0;34m:\u001b[0m\u001b[0;34m\u001b[0m\u001b[0;34m\u001b[0m\u001b[0m\n\u001b[1;32m    334\u001b[0m                 \u001b[0mfit_params_last_step\u001b[0m \u001b[0;34m=\u001b[0m \u001b[0mfit_params_steps\u001b[0m\u001b[0;34m[\u001b[0m\u001b[0mself\u001b[0m\u001b[0;34m.\u001b[0m\u001b[0msteps\u001b[0m\u001b[0;34m[\u001b[0m\u001b[0;34m-\u001b[0m\u001b[0;36m1\u001b[0m\u001b[0;34m]\u001b[0m\u001b[0;34m[\u001b[0m\u001b[0;36m0\u001b[0m\u001b[0;34m]\u001b[0m\u001b[0;34m]\u001b[0m\u001b[0;34m\u001b[0m\u001b[0;34m\u001b[0m\u001b[0m\n\u001b[0;32m--> 335\u001b[0;31m                 \u001b[0mself\u001b[0m\u001b[0;34m.\u001b[0m\u001b[0m_final_estimator\u001b[0m\u001b[0;34m.\u001b[0m\u001b[0mfit\u001b[0m\u001b[0;34m(\u001b[0m\u001b[0mXt\u001b[0m\u001b[0;34m,\u001b[0m \u001b[0my\u001b[0m\u001b[0;34m,\u001b[0m \u001b[0;34m**\u001b[0m\u001b[0mfit_params_last_step\u001b[0m\u001b[0;34m)\u001b[0m\u001b[0;34m\u001b[0m\u001b[0;34m\u001b[0m\u001b[0m\n\u001b[0m\u001b[1;32m    336\u001b[0m \u001b[0;34m\u001b[0m\u001b[0m\n\u001b[1;32m    337\u001b[0m         \u001b[0;32mreturn\u001b[0m \u001b[0mself\u001b[0m\u001b[0;34m\u001b[0m\u001b[0;34m\u001b[0m\u001b[0m\n",
      "\u001b[0;32m~/anaconda3/lib/python3.8/site-packages/sklearn/ensemble/_gb.py\u001b[0m in \u001b[0;36mfit\u001b[0;34m(self, X, y, sample_weight, monitor)\u001b[0m\n\u001b[1;32m    407\u001b[0m         \u001b[0;31m# trees use different types for X and y, checking them separately.\u001b[0m\u001b[0;34m\u001b[0m\u001b[0;34m\u001b[0m\u001b[0;34m\u001b[0m\u001b[0m\n\u001b[1;32m    408\u001b[0m \u001b[0;34m\u001b[0m\u001b[0m\n\u001b[0;32m--> 409\u001b[0;31m         X, y = self._validate_data(X, y, accept_sparse=['csr', 'csc', 'coo'],\n\u001b[0m\u001b[1;32m    410\u001b[0m                                    dtype=DTYPE, multi_output=True)\n\u001b[1;32m    411\u001b[0m         \u001b[0mn_samples\u001b[0m\u001b[0;34m,\u001b[0m \u001b[0mself\u001b[0m\u001b[0;34m.\u001b[0m\u001b[0mn_features_\u001b[0m \u001b[0;34m=\u001b[0m \u001b[0mX\u001b[0m\u001b[0;34m.\u001b[0m\u001b[0mshape\u001b[0m\u001b[0;34m\u001b[0m\u001b[0;34m\u001b[0m\u001b[0m\n",
      "\u001b[0;32m~/anaconda3/lib/python3.8/site-packages/sklearn/base.py\u001b[0m in \u001b[0;36m_validate_data\u001b[0;34m(self, X, y, reset, validate_separately, **check_params)\u001b[0m\n\u001b[1;32m    430\u001b[0m                 \u001b[0my\u001b[0m \u001b[0;34m=\u001b[0m \u001b[0mcheck_array\u001b[0m\u001b[0;34m(\u001b[0m\u001b[0my\u001b[0m\u001b[0;34m,\u001b[0m \u001b[0;34m**\u001b[0m\u001b[0mcheck_y_params\u001b[0m\u001b[0;34m)\u001b[0m\u001b[0;34m\u001b[0m\u001b[0;34m\u001b[0m\u001b[0m\n\u001b[1;32m    431\u001b[0m             \u001b[0;32melse\u001b[0m\u001b[0;34m:\u001b[0m\u001b[0;34m\u001b[0m\u001b[0;34m\u001b[0m\u001b[0m\n\u001b[0;32m--> 432\u001b[0;31m                 \u001b[0mX\u001b[0m\u001b[0;34m,\u001b[0m \u001b[0my\u001b[0m \u001b[0;34m=\u001b[0m \u001b[0mcheck_X_y\u001b[0m\u001b[0;34m(\u001b[0m\u001b[0mX\u001b[0m\u001b[0;34m,\u001b[0m \u001b[0my\u001b[0m\u001b[0;34m,\u001b[0m \u001b[0;34m**\u001b[0m\u001b[0mcheck_params\u001b[0m\u001b[0;34m)\u001b[0m\u001b[0;34m\u001b[0m\u001b[0;34m\u001b[0m\u001b[0m\n\u001b[0m\u001b[1;32m    433\u001b[0m             \u001b[0mout\u001b[0m \u001b[0;34m=\u001b[0m \u001b[0mX\u001b[0m\u001b[0;34m,\u001b[0m \u001b[0my\u001b[0m\u001b[0;34m\u001b[0m\u001b[0;34m\u001b[0m\u001b[0m\n\u001b[1;32m    434\u001b[0m \u001b[0;34m\u001b[0m\u001b[0m\n",
      "\u001b[0;32m~/anaconda3/lib/python3.8/site-packages/sklearn/utils/validation.py\u001b[0m in \u001b[0;36minner_f\u001b[0;34m(*args, **kwargs)\u001b[0m\n\u001b[1;32m     70\u001b[0m                           FutureWarning)\n\u001b[1;32m     71\u001b[0m         \u001b[0mkwargs\u001b[0m\u001b[0;34m.\u001b[0m\u001b[0mupdate\u001b[0m\u001b[0;34m(\u001b[0m\u001b[0;34m{\u001b[0m\u001b[0mk\u001b[0m\u001b[0;34m:\u001b[0m \u001b[0marg\u001b[0m \u001b[0;32mfor\u001b[0m \u001b[0mk\u001b[0m\u001b[0;34m,\u001b[0m \u001b[0marg\u001b[0m \u001b[0;32min\u001b[0m \u001b[0mzip\u001b[0m\u001b[0;34m(\u001b[0m\u001b[0msig\u001b[0m\u001b[0;34m.\u001b[0m\u001b[0mparameters\u001b[0m\u001b[0;34m,\u001b[0m \u001b[0margs\u001b[0m\u001b[0;34m)\u001b[0m\u001b[0;34m}\u001b[0m\u001b[0;34m)\u001b[0m\u001b[0;34m\u001b[0m\u001b[0;34m\u001b[0m\u001b[0m\n\u001b[0;32m---> 72\u001b[0;31m         \u001b[0;32mreturn\u001b[0m \u001b[0mf\u001b[0m\u001b[0;34m(\u001b[0m\u001b[0;34m**\u001b[0m\u001b[0mkwargs\u001b[0m\u001b[0;34m)\u001b[0m\u001b[0;34m\u001b[0m\u001b[0;34m\u001b[0m\u001b[0m\n\u001b[0m\u001b[1;32m     73\u001b[0m     \u001b[0;32mreturn\u001b[0m \u001b[0minner_f\u001b[0m\u001b[0;34m\u001b[0m\u001b[0;34m\u001b[0m\u001b[0m\n\u001b[1;32m     74\u001b[0m \u001b[0;34m\u001b[0m\u001b[0m\n",
      "\u001b[0;32m~/anaconda3/lib/python3.8/site-packages/sklearn/utils/validation.py\u001b[0m in \u001b[0;36mcheck_X_y\u001b[0;34m(X, y, accept_sparse, accept_large_sparse, dtype, order, copy, force_all_finite, ensure_2d, allow_nd, multi_output, ensure_min_samples, ensure_min_features, y_numeric, estimator)\u001b[0m\n\u001b[1;32m    793\u001b[0m         \u001b[0;32mraise\u001b[0m \u001b[0mValueError\u001b[0m\u001b[0;34m(\u001b[0m\u001b[0;34m\"y cannot be None\"\u001b[0m\u001b[0;34m)\u001b[0m\u001b[0;34m\u001b[0m\u001b[0;34m\u001b[0m\u001b[0m\n\u001b[1;32m    794\u001b[0m \u001b[0;34m\u001b[0m\u001b[0m\n\u001b[0;32m--> 795\u001b[0;31m     X = check_array(X, accept_sparse=accept_sparse,\n\u001b[0m\u001b[1;32m    796\u001b[0m                     \u001b[0maccept_large_sparse\u001b[0m\u001b[0;34m=\u001b[0m\u001b[0maccept_large_sparse\u001b[0m\u001b[0;34m,\u001b[0m\u001b[0;34m\u001b[0m\u001b[0;34m\u001b[0m\u001b[0m\n\u001b[1;32m    797\u001b[0m                     \u001b[0mdtype\u001b[0m\u001b[0;34m=\u001b[0m\u001b[0mdtype\u001b[0m\u001b[0;34m,\u001b[0m \u001b[0morder\u001b[0m\u001b[0;34m=\u001b[0m\u001b[0morder\u001b[0m\u001b[0;34m,\u001b[0m \u001b[0mcopy\u001b[0m\u001b[0;34m=\u001b[0m\u001b[0mcopy\u001b[0m\u001b[0;34m,\u001b[0m\u001b[0;34m\u001b[0m\u001b[0;34m\u001b[0m\u001b[0m\n",
      "\u001b[0;32m~/anaconda3/lib/python3.8/site-packages/sklearn/utils/validation.py\u001b[0m in \u001b[0;36minner_f\u001b[0;34m(*args, **kwargs)\u001b[0m\n\u001b[1;32m     70\u001b[0m                           FutureWarning)\n\u001b[1;32m     71\u001b[0m         \u001b[0mkwargs\u001b[0m\u001b[0;34m.\u001b[0m\u001b[0mupdate\u001b[0m\u001b[0;34m(\u001b[0m\u001b[0;34m{\u001b[0m\u001b[0mk\u001b[0m\u001b[0;34m:\u001b[0m \u001b[0marg\u001b[0m \u001b[0;32mfor\u001b[0m \u001b[0mk\u001b[0m\u001b[0;34m,\u001b[0m \u001b[0marg\u001b[0m \u001b[0;32min\u001b[0m \u001b[0mzip\u001b[0m\u001b[0;34m(\u001b[0m\u001b[0msig\u001b[0m\u001b[0;34m.\u001b[0m\u001b[0mparameters\u001b[0m\u001b[0;34m,\u001b[0m \u001b[0margs\u001b[0m\u001b[0;34m)\u001b[0m\u001b[0;34m}\u001b[0m\u001b[0;34m)\u001b[0m\u001b[0;34m\u001b[0m\u001b[0;34m\u001b[0m\u001b[0m\n\u001b[0;32m---> 72\u001b[0;31m         \u001b[0;32mreturn\u001b[0m \u001b[0mf\u001b[0m\u001b[0;34m(\u001b[0m\u001b[0;34m**\u001b[0m\u001b[0mkwargs\u001b[0m\u001b[0;34m)\u001b[0m\u001b[0;34m\u001b[0m\u001b[0;34m\u001b[0m\u001b[0m\n\u001b[0m\u001b[1;32m     73\u001b[0m     \u001b[0;32mreturn\u001b[0m \u001b[0minner_f\u001b[0m\u001b[0;34m\u001b[0m\u001b[0;34m\u001b[0m\u001b[0m\n\u001b[1;32m     74\u001b[0m \u001b[0;34m\u001b[0m\u001b[0m\n",
      "\u001b[0;32m~/anaconda3/lib/python3.8/site-packages/sklearn/utils/validation.py\u001b[0m in \u001b[0;36mcheck_array\u001b[0;34m(array, accept_sparse, accept_large_sparse, dtype, order, copy, force_all_finite, ensure_2d, allow_nd, ensure_min_samples, ensure_min_features, estimator)\u001b[0m\n\u001b[1;32m    642\u001b[0m \u001b[0;34m\u001b[0m\u001b[0m\n\u001b[1;32m    643\u001b[0m         \u001b[0;32mif\u001b[0m \u001b[0mforce_all_finite\u001b[0m\u001b[0;34m:\u001b[0m\u001b[0;34m\u001b[0m\u001b[0;34m\u001b[0m\u001b[0m\n\u001b[0;32m--> 644\u001b[0;31m             _assert_all_finite(array,\n\u001b[0m\u001b[1;32m    645\u001b[0m                                allow_nan=force_all_finite == 'allow-nan')\n\u001b[1;32m    646\u001b[0m \u001b[0;34m\u001b[0m\u001b[0m\n",
      "\u001b[0;32m~/anaconda3/lib/python3.8/site-packages/sklearn/utils/validation.py\u001b[0m in \u001b[0;36m_assert_all_finite\u001b[0;34m(X, allow_nan, msg_dtype)\u001b[0m\n\u001b[1;32m     94\u001b[0m                 not allow_nan and not np.isfinite(X).all()):\n\u001b[1;32m     95\u001b[0m             \u001b[0mtype_err\u001b[0m \u001b[0;34m=\u001b[0m \u001b[0;34m'infinity'\u001b[0m \u001b[0;32mif\u001b[0m \u001b[0mallow_nan\u001b[0m \u001b[0;32melse\u001b[0m \u001b[0;34m'NaN, infinity'\u001b[0m\u001b[0;34m\u001b[0m\u001b[0;34m\u001b[0m\u001b[0m\n\u001b[0;32m---> 96\u001b[0;31m             raise ValueError(\n\u001b[0m\u001b[1;32m     97\u001b[0m                     \u001b[0mmsg_err\u001b[0m\u001b[0;34m.\u001b[0m\u001b[0mformat\u001b[0m\u001b[0;34m\u001b[0m\u001b[0;34m\u001b[0m\u001b[0m\n\u001b[1;32m     98\u001b[0m                     (type_err,\n",
      "\u001b[0;31mValueError\u001b[0m: Input contains NaN, infinity or a value too large for dtype('float32')."
     ]
    }
   ],
   "source": [
    "modelo.fit(x_train_modelo, y_train)\n",
    "y_pred = modelo.predict(x_test_modelo)"
   ]
  },
  {
   "cell_type": "code",
   "execution_count": 744,
   "metadata": {},
   "outputs": [],
   "source": [
    "#gs = modelo.named_steps['model']\n",
    "#gs.feature_importances_\n",
    "#coef = pd.Series(lasso.coef_, index = X.columns)\n",
    "#lasso.coef_\n",
    "\n",
    "#loss = 'ls', learning_rate = 0.32, min_samples_leaf = 2, min_samples_split = 3, n_estimators = 5"
   ]
  },
  {
   "cell_type": "code",
   "execution_count": 551,
   "metadata": {},
   "outputs": [],
   "source": [
    "df = pd.DataFrame(columns = [\"Rompimento28Dias\", \"ResultadoProjetado\", \"ResultadoPredito\"])\n",
    "\n",
    "df[\"Rompimento28Dias\"] = y_test.reshape(1, -1)[0]\n",
    "df[\"ResultadoProjetado\"] = x_test[\"ResultadoProjetado\"].values\n",
    "df[\"ResultadoPredito\"] = y_pred"
   ]
  },
  {
   "cell_type": "code",
   "execution_count": 552,
   "metadata": {},
   "outputs": [
    {
     "data": {
      "text/html": [
       "<div>\n",
       "<style scoped>\n",
       "    .dataframe tbody tr th:only-of-type {\n",
       "        vertical-align: middle;\n",
       "    }\n",
       "\n",
       "    .dataframe tbody tr th {\n",
       "        vertical-align: top;\n",
       "    }\n",
       "\n",
       "    .dataframe thead th {\n",
       "        text-align: right;\n",
       "    }\n",
       "</style>\n",
       "<table border=\"1\" class=\"dataframe\">\n",
       "  <thead>\n",
       "    <tr style=\"text-align: right;\">\n",
       "      <th></th>\n",
       "      <th>Rompimento28Dias</th>\n",
       "      <th>ResultadoProjetado</th>\n",
       "      <th>ResultadoPredito</th>\n",
       "    </tr>\n",
       "  </thead>\n",
       "  <tbody>\n",
       "    <tr>\n",
       "      <th>0</th>\n",
       "      <td>34.88</td>\n",
       "      <td>29.190957</td>\n",
       "      <td>30.613891</td>\n",
       "    </tr>\n",
       "    <tr>\n",
       "      <th>1</th>\n",
       "      <td>33.07</td>\n",
       "      <td>32.593692</td>\n",
       "      <td>35.236918</td>\n",
       "    </tr>\n",
       "    <tr>\n",
       "      <th>2</th>\n",
       "      <td>33.29</td>\n",
       "      <td>31.055372</td>\n",
       "      <td>31.214454</td>\n",
       "    </tr>\n",
       "  </tbody>\n",
       "</table>\n",
       "</div>"
      ],
      "text/plain": [
       "   Rompimento28Dias  ResultadoProjetado  ResultadoPredito\n",
       "0             34.88           29.190957         30.613891\n",
       "1             33.07           32.593692         35.236918\n",
       "2             33.29           31.055372         31.214454"
      ]
     },
     "execution_count": 552,
     "metadata": {},
     "output_type": "execute_result"
    }
   ],
   "source": [
    "df.head()"
   ]
  },
  {
   "cell_type": "code",
   "execution_count": 553,
   "metadata": {},
   "outputs": [],
   "source": [
    "df[\"ErroProjetado\"] = abs(df[\"ResultadoProjetado\"] - df[\"Rompimento28Dias\"])\n",
    "df[\"ErroPredito\"] = abs(df[\"ResultadoPredito\"] - df[\"Rompimento28Dias\"])"
   ]
  },
  {
   "cell_type": "code",
   "execution_count": 554,
   "metadata": {},
   "outputs": [
    {
     "data": {
      "text/html": [
       "<div>\n",
       "<style scoped>\n",
       "    .dataframe tbody tr th:only-of-type {\n",
       "        vertical-align: middle;\n",
       "    }\n",
       "\n",
       "    .dataframe tbody tr th {\n",
       "        vertical-align: top;\n",
       "    }\n",
       "\n",
       "    .dataframe thead th {\n",
       "        text-align: right;\n",
       "    }\n",
       "</style>\n",
       "<table border=\"1\" class=\"dataframe\">\n",
       "  <thead>\n",
       "    <tr style=\"text-align: right;\">\n",
       "      <th></th>\n",
       "      <th>Rompimento28Dias</th>\n",
       "      <th>ResultadoProjetado</th>\n",
       "      <th>ResultadoPredito</th>\n",
       "      <th>ErroProjetado</th>\n",
       "      <th>ErroPredito</th>\n",
       "    </tr>\n",
       "  </thead>\n",
       "  <tbody>\n",
       "    <tr>\n",
       "      <th>0</th>\n",
       "      <td>34.88</td>\n",
       "      <td>29.190957</td>\n",
       "      <td>30.613891</td>\n",
       "      <td>5.689043</td>\n",
       "      <td>4.266109</td>\n",
       "    </tr>\n",
       "    <tr>\n",
       "      <th>1</th>\n",
       "      <td>33.07</td>\n",
       "      <td>32.593692</td>\n",
       "      <td>35.236918</td>\n",
       "      <td>0.476308</td>\n",
       "      <td>2.166918</td>\n",
       "    </tr>\n",
       "    <tr>\n",
       "      <th>2</th>\n",
       "      <td>33.29</td>\n",
       "      <td>31.055372</td>\n",
       "      <td>31.214454</td>\n",
       "      <td>2.234628</td>\n",
       "      <td>2.075546</td>\n",
       "    </tr>\n",
       "  </tbody>\n",
       "</table>\n",
       "</div>"
      ],
      "text/plain": [
       "   Rompimento28Dias  ResultadoProjetado  ResultadoPredito  ErroProjetado  \\\n",
       "0             34.88           29.190957         30.613891       5.689043   \n",
       "1             33.07           32.593692         35.236918       0.476308   \n",
       "2             33.29           31.055372         31.214454       2.234628   \n",
       "\n",
       "   ErroPredito  \n",
       "0     4.266109  \n",
       "1     2.166918  \n",
       "2     2.075546  "
      ]
     },
     "execution_count": 554,
     "metadata": {},
     "output_type": "execute_result"
    }
   ],
   "source": [
    "df.head()"
   ]
  },
  {
   "cell_type": "code",
   "execution_count": 745,
   "metadata": {},
   "outputs": [
    {
     "data": {
      "text/html": [
       "<div>\n",
       "<style scoped>\n",
       "    .dataframe tbody tr th:only-of-type {\n",
       "        vertical-align: middle;\n",
       "    }\n",
       "\n",
       "    .dataframe tbody tr th {\n",
       "        vertical-align: top;\n",
       "    }\n",
       "\n",
       "    .dataframe thead th {\n",
       "        text-align: right;\n",
       "    }\n",
       "</style>\n",
       "<table border=\"1\" class=\"dataframe\">\n",
       "  <thead>\n",
       "    <tr style=\"text-align: right;\">\n",
       "      <th></th>\n",
       "      <th>CodigoNotaFiscal</th>\n",
       "      <th>CodigoCentroSaida</th>\n",
       "      <th>CodigoReceita</th>\n",
       "      <th>Volume</th>\n",
       "      <th>TipoLancamento</th>\n",
       "      <th>CodigoCliente</th>\n",
       "      <th>CodigoMotorista</th>\n",
       "      <th>QuantidadeAgua</th>\n",
       "      <th>ConsumoTotal</th>\n",
       "      <th>Idade</th>\n",
       "      <th>TipoTraco</th>\n",
       "      <th>CodigoAglomerante</th>\n",
       "      <th>FCK</th>\n",
       "      <th>Rompimento7Dias</th>\n",
       "      <th>Rompimento28Dias</th>\n",
       "      <th>ConsumoPorM3</th>\n",
       "      <th>DesvioAplicado</th>\n",
       "      <th>ResultadoEsperado</th>\n",
       "      <th>ResultadoProjetado</th>\n",
       "      <th>PercentualCrescimentoReal</th>\n",
       "      <th>PercentualCrescimentoProjetado</th>\n",
       "      <th>RelacaoAguaCimento</th>\n",
       "      <th>QuantidadeAguaM3</th>\n",
       "      <th>LogRompimento7Dias</th>\n",
       "      <th>DeltaDesvio</th>\n",
       "    </tr>\n",
       "  </thead>\n",
       "  <tbody>\n",
       "    <tr>\n",
       "      <th>count</th>\n",
       "      <td>156.000000</td>\n",
       "      <td>156.0</td>\n",
       "      <td>1.560000e+02</td>\n",
       "      <td>156.000000</td>\n",
       "      <td>156.000000</td>\n",
       "      <td>1.560000e+02</td>\n",
       "      <td>156.000000</td>\n",
       "      <td>156.000000</td>\n",
       "      <td>156.000000</td>\n",
       "      <td>156.0</td>\n",
       "      <td>156.000000</td>\n",
       "      <td>156.0</td>\n",
       "      <td>156.000000</td>\n",
       "      <td>156.000000</td>\n",
       "      <td>156.000000</td>\n",
       "      <td>156.000000</td>\n",
       "      <td>72.000000</td>\n",
       "      <td>156.000000</td>\n",
       "      <td>156.000000</td>\n",
       "      <td>156.000000</td>\n",
       "      <td>156.000000</td>\n",
       "      <td>156.000000</td>\n",
       "      <td>156.000000</td>\n",
       "      <td>156.000000</td>\n",
       "      <td>72.000000</td>\n",
       "    </tr>\n",
       "    <tr>\n",
       "      <th>mean</th>\n",
       "      <td>390983.025641</td>\n",
       "      <td>51020.0</td>\n",
       "      <td>1.473536e+07</td>\n",
       "      <td>7.144231</td>\n",
       "      <td>0.743590</td>\n",
       "      <td>7.885647e+07</td>\n",
       "      <td>427645.410256</td>\n",
       "      <td>1246.224359</td>\n",
       "      <td>2416.698718</td>\n",
       "      <td>28.0</td>\n",
       "      <td>0.538462</td>\n",
       "      <td>3051.0</td>\n",
       "      <td>26.410256</td>\n",
       "      <td>24.054615</td>\n",
       "      <td>34.749487</td>\n",
       "      <td>338.160256</td>\n",
       "      <td>3.291667</td>\n",
       "      <td>42.567069</td>\n",
       "      <td>34.296531</td>\n",
       "      <td>46.213550</td>\n",
       "      <td>43.583696</td>\n",
       "      <td>0.522232</td>\n",
       "      <td>174.679526</td>\n",
       "      <td>3.157795</td>\n",
       "      <td>-0.180556</td>\n",
       "    </tr>\n",
       "    <tr>\n",
       "      <th>std</th>\n",
       "      <td>4039.333316</td>\n",
       "      <td>0.0</td>\n",
       "      <td>1.193106e+07</td>\n",
       "      <td>1.092511</td>\n",
       "      <td>0.438057</td>\n",
       "      <td>4.288007e+07</td>\n",
       "      <td>244409.960278</td>\n",
       "      <td>234.872582</td>\n",
       "      <td>535.828071</td>\n",
       "      <td>0.0</td>\n",
       "      <td>0.500124</td>\n",
       "      <td>0.0</td>\n",
       "      <td>3.926538</td>\n",
       "      <td>5.083804</td>\n",
       "      <td>6.065630</td>\n",
       "      <td>54.006869</td>\n",
       "      <td>0.322294</td>\n",
       "      <td>3.921698</td>\n",
       "      <td>6.160403</td>\n",
       "      <td>14.236131</td>\n",
       "      <td>5.321845</td>\n",
       "      <td>0.053363</td>\n",
       "      <td>21.399134</td>\n",
       "      <td>0.214799</td>\n",
       "      <td>0.282164</td>\n",
       "    </tr>\n",
       "    <tr>\n",
       "      <th>min</th>\n",
       "      <td>384475.000000</td>\n",
       "      <td>51020.0</td>\n",
       "      <td>1.605100e+04</td>\n",
       "      <td>4.000000</td>\n",
       "      <td>0.000000</td>\n",
       "      <td>2.720510e+05</td>\n",
       "      <td>49079.000000</td>\n",
       "      <td>604.000000</td>\n",
       "      <td>1088.000000</td>\n",
       "      <td>28.0</td>\n",
       "      <td>0.000000</td>\n",
       "      <td>3051.0</td>\n",
       "      <td>15.000000</td>\n",
       "      <td>12.560000</td>\n",
       "      <td>18.360000</td>\n",
       "      <td>207.000000</td>\n",
       "      <td>3.000000</td>\n",
       "      <td>32.763162</td>\n",
       "      <td>19.944806</td>\n",
       "      <td>14.223706</td>\n",
       "      <td>32.257631</td>\n",
       "      <td>0.410112</td>\n",
       "      <td>123.000000</td>\n",
       "      <td>2.530517</td>\n",
       "      <td>-0.500000</td>\n",
       "    </tr>\n",
       "    <tr>\n",
       "      <th>25%</th>\n",
       "      <td>386233.750000</td>\n",
       "      <td>51020.0</td>\n",
       "      <td>2.305051e+06</td>\n",
       "      <td>6.000000</td>\n",
       "      <td>0.000000</td>\n",
       "      <td>1.373905e+07</td>\n",
       "      <td>222051.000000</td>\n",
       "      <td>1099.000000</td>\n",
       "      <td>2080.000000</td>\n",
       "      <td>28.0</td>\n",
       "      <td>0.000000</td>\n",
       "      <td>3051.0</td>\n",
       "      <td>25.000000</td>\n",
       "      <td>20.735000</td>\n",
       "      <td>30.472500</td>\n",
       "      <td>279.000000</td>\n",
       "      <td>3.000000</td>\n",
       "      <td>40.666850</td>\n",
       "      <td>30.358936</td>\n",
       "      <td>37.638975</td>\n",
       "      <td>39.535964</td>\n",
       "      <td>0.491573</td>\n",
       "      <td>160.000000</td>\n",
       "      <td>3.031823</td>\n",
       "      <td>-0.500000</td>\n",
       "    </tr>\n",
       "    <tr>\n",
       "      <th>50%</th>\n",
       "      <td>391422.000000</td>\n",
       "      <td>51020.0</td>\n",
       "      <td>1.322205e+07</td>\n",
       "      <td>7.500000</td>\n",
       "      <td>1.000000</td>\n",
       "      <td>1.028771e+08</td>\n",
       "      <td>419051.000000</td>\n",
       "      <td>1268.000000</td>\n",
       "      <td>2396.250000</td>\n",
       "      <td>28.0</td>\n",
       "      <td>1.000000</td>\n",
       "      <td>3051.0</td>\n",
       "      <td>25.000000</td>\n",
       "      <td>23.765000</td>\n",
       "      <td>34.290000</td>\n",
       "      <td>359.000000</td>\n",
       "      <td>3.250000</td>\n",
       "      <td>43.494861</td>\n",
       "      <td>33.618791</td>\n",
       "      <td>46.815122</td>\n",
       "      <td>43.371498</td>\n",
       "      <td>0.507667</td>\n",
       "      <td>176.000000</td>\n",
       "      <td>3.168210</td>\n",
       "      <td>0.000000</td>\n",
       "    </tr>\n",
       "    <tr>\n",
       "      <th>75%</th>\n",
       "      <td>393810.250000</td>\n",
       "      <td>51020.0</td>\n",
       "      <td>2.779805e+07</td>\n",
       "      <td>8.000000</td>\n",
       "      <td>1.000000</td>\n",
       "      <td>1.081441e+08</td>\n",
       "      <td>643051.000000</td>\n",
       "      <td>1432.000000</td>\n",
       "      <td>2928.750000</td>\n",
       "      <td>28.0</td>\n",
       "      <td>1.000000</td>\n",
       "      <td>3051.0</td>\n",
       "      <td>30.000000</td>\n",
       "      <td>27.657500</td>\n",
       "      <td>38.500000</td>\n",
       "      <td>383.000000</td>\n",
       "      <td>3.500000</td>\n",
       "      <td>44.760302</td>\n",
       "      <td>38.426186</td>\n",
       "      <td>52.850866</td>\n",
       "      <td>46.889042</td>\n",
       "      <td>0.545395</td>\n",
       "      <td>187.016667</td>\n",
       "      <td>3.319890</td>\n",
       "      <td>0.000000</td>\n",
       "    </tr>\n",
       "    <tr>\n",
       "      <th>max</th>\n",
       "      <td>399257.000000</td>\n",
       "      <td>51020.0</td>\n",
       "      <td>2.831005e+07</td>\n",
       "      <td>8.000000</td>\n",
       "      <td>1.000000</td>\n",
       "      <td>1.102191e+08</td>\n",
       "      <td>831051.000000</td>\n",
       "      <td>1620.000000</td>\n",
       "      <td>3160.000000</td>\n",
       "      <td>28.0</td>\n",
       "      <td>1.000000</td>\n",
       "      <td>3051.0</td>\n",
       "      <td>35.000000</td>\n",
       "      <td>36.780000</td>\n",
       "      <td>51.030000</td>\n",
       "      <td>415.000000</td>\n",
       "      <td>4.000000</td>\n",
       "      <td>51.753112</td>\n",
       "      <td>49.201855</td>\n",
       "      <td>100.524476</td>\n",
       "      <td>58.796226</td>\n",
       "      <td>0.666667</td>\n",
       "      <td>216.000000</td>\n",
       "      <td>3.604954</td>\n",
       "      <td>0.500000</td>\n",
       "    </tr>\n",
       "  </tbody>\n",
       "</table>\n",
       "</div>"
      ],
      "text/plain": [
       "       CodigoNotaFiscal  CodigoCentroSaida  CodigoReceita      Volume  \\\n",
       "count        156.000000              156.0   1.560000e+02  156.000000   \n",
       "mean      390983.025641            51020.0   1.473536e+07    7.144231   \n",
       "std         4039.333316                0.0   1.193106e+07    1.092511   \n",
       "min       384475.000000            51020.0   1.605100e+04    4.000000   \n",
       "25%       386233.750000            51020.0   2.305051e+06    6.000000   \n",
       "50%       391422.000000            51020.0   1.322205e+07    7.500000   \n",
       "75%       393810.250000            51020.0   2.779805e+07    8.000000   \n",
       "max       399257.000000            51020.0   2.831005e+07    8.000000   \n",
       "\n",
       "       TipoLancamento  CodigoCliente  CodigoMotorista  QuantidadeAgua  \\\n",
       "count      156.000000   1.560000e+02       156.000000      156.000000   \n",
       "mean         0.743590   7.885647e+07    427645.410256     1246.224359   \n",
       "std          0.438057   4.288007e+07    244409.960278      234.872582   \n",
       "min          0.000000   2.720510e+05     49079.000000      604.000000   \n",
       "25%          0.000000   1.373905e+07    222051.000000     1099.000000   \n",
       "50%          1.000000   1.028771e+08    419051.000000     1268.000000   \n",
       "75%          1.000000   1.081441e+08    643051.000000     1432.000000   \n",
       "max          1.000000   1.102191e+08    831051.000000     1620.000000   \n",
       "\n",
       "       ConsumoTotal  Idade   TipoTraco  CodigoAglomerante         FCK  \\\n",
       "count    156.000000  156.0  156.000000              156.0  156.000000   \n",
       "mean    2416.698718   28.0    0.538462             3051.0   26.410256   \n",
       "std      535.828071    0.0    0.500124                0.0    3.926538   \n",
       "min     1088.000000   28.0    0.000000             3051.0   15.000000   \n",
       "25%     2080.000000   28.0    0.000000             3051.0   25.000000   \n",
       "50%     2396.250000   28.0    1.000000             3051.0   25.000000   \n",
       "75%     2928.750000   28.0    1.000000             3051.0   30.000000   \n",
       "max     3160.000000   28.0    1.000000             3051.0   35.000000   \n",
       "\n",
       "       Rompimento7Dias  Rompimento28Dias  ConsumoPorM3  DesvioAplicado  \\\n",
       "count       156.000000        156.000000    156.000000       72.000000   \n",
       "mean         24.054615         34.749487    338.160256        3.291667   \n",
       "std           5.083804          6.065630     54.006869        0.322294   \n",
       "min          12.560000         18.360000    207.000000        3.000000   \n",
       "25%          20.735000         30.472500    279.000000        3.000000   \n",
       "50%          23.765000         34.290000    359.000000        3.250000   \n",
       "75%          27.657500         38.500000    383.000000        3.500000   \n",
       "max          36.780000         51.030000    415.000000        4.000000   \n",
       "\n",
       "       ResultadoEsperado  ResultadoProjetado  PercentualCrescimentoReal  \\\n",
       "count         156.000000          156.000000                 156.000000   \n",
       "mean           42.567069           34.296531                  46.213550   \n",
       "std             3.921698            6.160403                  14.236131   \n",
       "min            32.763162           19.944806                  14.223706   \n",
       "25%            40.666850           30.358936                  37.638975   \n",
       "50%            43.494861           33.618791                  46.815122   \n",
       "75%            44.760302           38.426186                  52.850866   \n",
       "max            51.753112           49.201855                 100.524476   \n",
       "\n",
       "       PercentualCrescimentoProjetado  RelacaoAguaCimento  QuantidadeAguaM3  \\\n",
       "count                      156.000000          156.000000        156.000000   \n",
       "mean                        43.583696            0.522232        174.679526   \n",
       "std                          5.321845            0.053363         21.399134   \n",
       "min                         32.257631            0.410112        123.000000   \n",
       "25%                         39.535964            0.491573        160.000000   \n",
       "50%                         43.371498            0.507667        176.000000   \n",
       "75%                         46.889042            0.545395        187.016667   \n",
       "max                         58.796226            0.666667        216.000000   \n",
       "\n",
       "       LogRompimento7Dias  DeltaDesvio  \n",
       "count          156.000000    72.000000  \n",
       "mean             3.157795    -0.180556  \n",
       "std              0.214799     0.282164  \n",
       "min              2.530517    -0.500000  \n",
       "25%              3.031823    -0.500000  \n",
       "50%              3.168210     0.000000  \n",
       "75%              3.319890     0.000000  \n",
       "max              3.604954     0.500000  "
      ]
     },
     "execution_count": 745,
     "metadata": {},
     "output_type": "execute_result"
    }
   ],
   "source": [
    "indices_treino = x_train.index\n",
    "df_treino = dados_aglomerante.loc[indices_treino]\n",
    "df_treino.describe()"
   ]
  },
  {
   "cell_type": "code",
   "execution_count": 1170,
   "metadata": {},
   "outputs": [
    {
     "data": {
      "application/vnd.plotly.v1+json": {
       "config": {
        "plotlyServerURL": "https://plot.ly"
       },
       "data": [
        {
         "hovertemplate": "DataProjecao=%{x}<br>PercentualCrescimentoReal=%{y}<extra></extra>",
         "legendgroup": "",
         "marker": {
          "color": "#636efa",
          "symbol": "circle"
         },
         "mode": "markers",
         "name": "",
         "orientation": "v",
         "showlegend": false,
         "type": "scatter",
         "x": [
          "2015-09-18T00:00:00",
          "2015-09-18T00:00:00",
          "2015-09-18T00:00:00",
          "2015-09-18T00:00:00",
          "2015-09-18T00:00:00",
          "2015-09-18T00:00:00",
          "2015-09-18T00:00:00",
          "2015-09-18T00:00:00",
          "2015-09-18T00:00:00",
          "2015-09-18T00:00:00",
          "2015-09-18T00:00:00",
          "2015-09-18T00:00:00",
          "2015-09-18T00:00:00",
          "2015-09-18T00:00:00",
          "2015-09-18T00:00:00",
          "2015-09-18T00:00:00",
          "2015-09-18T00:00:00",
          "2015-09-18T00:00:00",
          "2015-09-18T00:00:00",
          "2015-09-18T00:00:00",
          "2015-09-18T00:00:00",
          "2015-09-25T00:00:00",
          "2015-09-25T00:00:00",
          "2015-09-25T00:00:00",
          "2015-09-25T00:00:00",
          "2015-09-25T00:00:00",
          "2015-09-25T00:00:00",
          "2015-09-25T00:00:00",
          "2015-09-25T00:00:00",
          "2015-09-25T00:00:00",
          "2015-09-25T00:00:00",
          "2015-09-25T00:00:00",
          "2015-09-25T00:00:00",
          "2015-09-25T00:00:00",
          "2015-09-25T00:00:00",
          "2015-09-25T00:00:00",
          "2015-09-25T00:00:00",
          "2015-09-25T00:00:00",
          "2015-09-25T00:00:00",
          "2015-09-25T00:00:00",
          "2015-10-02T00:00:00",
          "2015-10-02T00:00:00",
          "2015-10-02T00:00:00",
          "2015-10-02T00:00:00",
          "2015-10-09T00:00:00",
          "2015-10-09T00:00:00",
          "2015-10-16T00:00:00",
          "2015-10-23T00:00:00",
          "2015-10-23T00:00:00",
          "2015-10-23T00:00:00",
          "2015-10-23T00:00:00",
          "2015-10-30T00:00:00",
          "2015-10-30T00:00:00",
          "2015-10-30T00:00:00",
          "2015-10-30T00:00:00",
          "2015-10-30T00:00:00",
          "2015-10-30T00:00:00",
          "2015-10-30T00:00:00",
          "2015-10-30T00:00:00",
          "2015-10-30T00:00:00",
          "2015-10-30T00:00:00",
          "2015-10-30T00:00:00",
          "2015-10-30T00:00:00",
          "2015-10-30T00:00:00",
          "2015-10-30T00:00:00",
          "2015-10-30T00:00:00",
          "2015-10-30T00:00:00",
          "2015-10-30T00:00:00",
          "2015-10-30T00:00:00",
          "2015-10-30T00:00:00",
          "2015-10-30T00:00:00",
          "2015-10-30T00:00:00",
          "2015-10-30T00:00:00",
          "2015-10-30T00:00:00",
          "2015-10-30T00:00:00",
          "2015-11-06T00:00:00",
          "2015-11-06T00:00:00",
          "2015-11-06T00:00:00",
          "2015-11-06T00:00:00",
          "2015-11-06T00:00:00",
          "2015-11-06T00:00:00",
          "2015-11-06T00:00:00",
          "2015-11-06T00:00:00",
          "2015-11-06T00:00:00",
          "2015-11-13T00:00:00",
          "2015-11-13T00:00:00",
          "2015-11-13T00:00:00",
          "2015-11-13T00:00:00",
          "2015-11-13T00:00:00",
          "2015-11-13T00:00:00",
          "2015-11-13T00:00:00",
          "2015-11-13T00:00:00",
          "2015-11-13T00:00:00",
          "2015-11-13T00:00:00",
          "2015-11-13T00:00:00",
          "2015-11-13T00:00:00",
          "2015-11-13T00:00:00",
          "2015-11-13T00:00:00",
          "2015-11-13T00:00:00",
          "2015-11-13T00:00:00",
          "2015-11-13T00:00:00",
          "2015-11-20T00:00:00",
          "2015-11-20T00:00:00",
          "2015-11-20T00:00:00",
          "2015-11-20T00:00:00",
          "2015-11-20T00:00:00",
          "2015-11-20T00:00:00",
          "2015-11-20T00:00:00",
          "2015-11-20T00:00:00",
          "2015-11-20T00:00:00",
          "2015-11-20T00:00:00",
          "2015-11-20T00:00:00",
          "2015-11-20T00:00:00",
          "2015-11-20T00:00:00",
          "2015-11-20T00:00:00",
          "2015-11-20T00:00:00",
          "2015-11-20T00:00:00",
          "2015-11-20T00:00:00",
          "2015-11-20T00:00:00",
          "2015-11-20T00:00:00",
          "2015-11-20T00:00:00",
          "2015-11-20T00:00:00",
          "2015-11-20T00:00:00",
          "2015-11-20T00:00:00",
          "2015-11-20T00:00:00",
          "2015-11-20T00:00:00",
          "2015-11-20T00:00:00",
          "2015-11-20T00:00:00",
          "2015-11-20T00:00:00",
          "2015-11-20T00:00:00",
          "2015-11-20T00:00:00",
          "2015-11-20T00:00:00",
          "2015-11-27T00:00:00",
          "2015-11-27T00:00:00",
          "2015-11-27T00:00:00",
          "2015-11-27T00:00:00",
          "2015-11-27T00:00:00",
          "2015-11-27T00:00:00",
          "2015-11-27T00:00:00",
          "2015-11-27T00:00:00",
          "2015-11-27T00:00:00",
          "2015-12-04T00:00:00",
          "2015-12-04T00:00:00",
          "2015-12-11T00:00:00",
          "2015-12-11T00:00:00",
          "2015-12-11T00:00:00",
          "2015-12-18T00:00:00",
          "2015-12-18T00:00:00",
          "2015-12-18T00:00:00",
          "2015-12-18T00:00:00",
          "2015-12-18T00:00:00",
          "2015-12-25T00:00:00",
          "2015-12-25T00:00:00",
          "2015-12-25T00:00:00",
          "2016-01-01T00:00:00",
          "2016-01-01T00:00:00"
         ],
         "xaxis": "x",
         "y": [
          56.979944946913086,
          50.688935281837175,
          54.95495495495495,
          50.435979807251044,
          43.453935098843715,
          50.07153075822603,
          55.295566502463046,
          46.995884773662546,
          54.22191207257504,
          59.729981378026075,
          53.079044117647065,
          93.52517985611509,
          37.61788333915472,
          100.52447552447548,
          68.04014791336503,
          70.78842881452073,
          56.07476635514019,
          93.24055666003977,
          89.4890510948905,
          88.04347826086956,
          52.804986642920746,
          51.60235448005233,
          46.20060790273557,
          48.78926701570681,
          19.17483936422051,
          25.142247510668557,
          45.711733174508645,
          49.79375368296997,
          42.997685185185176,
          32.097748489840754,
          19.35595567867037,
          18.03797468354429,
          28.367670364500785,
          25.607064017660047,
          21.75751879699248,
          27.513906718014546,
          54.541108986615654,
          31.38088012139604,
          14.223706176961606,
          42.442615851017756,
          43.88998035363457,
          33.32334432124664,
          51.002044989775044,
          56.63627152988858,
          49.525616698292225,
          33.176571184266784,
          36.45649876717154,
          26.99822380106573,
          37.032569360675495,
          41.592233009708735,
          28.798185941043066,
          69.42800788954632,
          41.79240969364426,
          46.175880836436576,
          30.940728656878733,
          54.47326627845421,
          25.866336633663376,
          44.68354430379746,
          35.2661596958175,
          53.17647058823529,
          32.93636025307034,
          43.9102564102564,
          57.131011608623524,
          54.026180087266944,
          49.051233396584465,
          48.59246427024686,
          40.638606676342505,
          52.7734577501296,
          55.16098484848486,
          46.178343949044574,
          60.08687258687261,
          37.623762376237615,
          48.16615112682282,
          52.21507004922378,
          45.65896314803246,
          42.92546831406936,
          23.80243975007439,
          51.3431322858591,
          33.58359803638462,
          51.51821862348178,
          40.51958123303607,
          41.169205434335105,
          39.114082741328886,
          53.29540066382171,
          27.02811244979919,
          27.742165242165235,
          40.52730696798494,
          32.3445318084346,
          33.199854386603576,
          31.048523922633176,
          20.619235836627126,
          53.35968379446641,
          59.82742090124643,
          48.185371300949186,
          42.58872651356993,
          51.53110047846892,
          29.47368421052632,
          39.56375838926176,
          41.02465331278891,
          54.02070063694266,
          47.06125827814569,
          39.91031390134528,
          47.864945382323725,
          48.003942828979795,
          44.95938843764932,
          46.81774349083896,
          49.97752808988763,
          29.746070133010868,
          51.27402771569067,
          48.8768115942029,
          72.75494672754945,
          72.00748129675813,
          54.94917067950775,
          50.10504201680671,
          58.775510204081634,
          44.2797591477536,
          48.22727272727272,
          60.76599719757123,
          45.261732851985556,
          49.92059290629962,
          61.423220973782776,
          52.98850574712647,
          54.14012738853502,
          47.22010662604721,
          46.81249999999999,
          58.579289644822424,
          70.83847102342789,
          37.644046094750315,
          49.85250737463127,
          54.473942969518205,
          47.96926454445664,
          39.75855130784707,
          46.32065410593671,
          49.251497005988035,
          47.88255223037832,
          25.610561056105613,
          40.444893832153674,
          34.1628959276018,
          39.407207814078795,
          35.54559043348279,
          34.7764705882353,
          40.56353003721427,
          36.17582417582417,
          47.55389718076286,
          48.54196301564724,
          43.454846727423366,
          41.553784860557755,
          43.66028708133973,
          45.740663029794376,
          31.40646335912609,
          41.789748045178115,
          48.989361702127674,
          49.45471787577051,
          66.63084363245568,
          43.27301337529504,
          49.34725848563968
         ],
         "yaxis": "y"
        }
       ],
       "layout": {
        "legend": {
         "tracegroupgap": 0
        },
        "template": {
         "data": {
          "bar": [
           {
            "error_x": {
             "color": "#2a3f5f"
            },
            "error_y": {
             "color": "#2a3f5f"
            },
            "marker": {
             "line": {
              "color": "#E5ECF6",
              "width": 0.5
             }
            },
            "type": "bar"
           }
          ],
          "barpolar": [
           {
            "marker": {
             "line": {
              "color": "#E5ECF6",
              "width": 0.5
             }
            },
            "type": "barpolar"
           }
          ],
          "carpet": [
           {
            "aaxis": {
             "endlinecolor": "#2a3f5f",
             "gridcolor": "white",
             "linecolor": "white",
             "minorgridcolor": "white",
             "startlinecolor": "#2a3f5f"
            },
            "baxis": {
             "endlinecolor": "#2a3f5f",
             "gridcolor": "white",
             "linecolor": "white",
             "minorgridcolor": "white",
             "startlinecolor": "#2a3f5f"
            },
            "type": "carpet"
           }
          ],
          "choropleth": [
           {
            "colorbar": {
             "outlinewidth": 0,
             "ticks": ""
            },
            "type": "choropleth"
           }
          ],
          "contour": [
           {
            "colorbar": {
             "outlinewidth": 0,
             "ticks": ""
            },
            "colorscale": [
             [
              0,
              "#0d0887"
             ],
             [
              0.1111111111111111,
              "#46039f"
             ],
             [
              0.2222222222222222,
              "#7201a8"
             ],
             [
              0.3333333333333333,
              "#9c179e"
             ],
             [
              0.4444444444444444,
              "#bd3786"
             ],
             [
              0.5555555555555556,
              "#d8576b"
             ],
             [
              0.6666666666666666,
              "#ed7953"
             ],
             [
              0.7777777777777778,
              "#fb9f3a"
             ],
             [
              0.8888888888888888,
              "#fdca26"
             ],
             [
              1,
              "#f0f921"
             ]
            ],
            "type": "contour"
           }
          ],
          "contourcarpet": [
           {
            "colorbar": {
             "outlinewidth": 0,
             "ticks": ""
            },
            "type": "contourcarpet"
           }
          ],
          "heatmap": [
           {
            "colorbar": {
             "outlinewidth": 0,
             "ticks": ""
            },
            "colorscale": [
             [
              0,
              "#0d0887"
             ],
             [
              0.1111111111111111,
              "#46039f"
             ],
             [
              0.2222222222222222,
              "#7201a8"
             ],
             [
              0.3333333333333333,
              "#9c179e"
             ],
             [
              0.4444444444444444,
              "#bd3786"
             ],
             [
              0.5555555555555556,
              "#d8576b"
             ],
             [
              0.6666666666666666,
              "#ed7953"
             ],
             [
              0.7777777777777778,
              "#fb9f3a"
             ],
             [
              0.8888888888888888,
              "#fdca26"
             ],
             [
              1,
              "#f0f921"
             ]
            ],
            "type": "heatmap"
           }
          ],
          "heatmapgl": [
           {
            "colorbar": {
             "outlinewidth": 0,
             "ticks": ""
            },
            "colorscale": [
             [
              0,
              "#0d0887"
             ],
             [
              0.1111111111111111,
              "#46039f"
             ],
             [
              0.2222222222222222,
              "#7201a8"
             ],
             [
              0.3333333333333333,
              "#9c179e"
             ],
             [
              0.4444444444444444,
              "#bd3786"
             ],
             [
              0.5555555555555556,
              "#d8576b"
             ],
             [
              0.6666666666666666,
              "#ed7953"
             ],
             [
              0.7777777777777778,
              "#fb9f3a"
             ],
             [
              0.8888888888888888,
              "#fdca26"
             ],
             [
              1,
              "#f0f921"
             ]
            ],
            "type": "heatmapgl"
           }
          ],
          "histogram": [
           {
            "marker": {
             "colorbar": {
              "outlinewidth": 0,
              "ticks": ""
             }
            },
            "type": "histogram"
           }
          ],
          "histogram2d": [
           {
            "colorbar": {
             "outlinewidth": 0,
             "ticks": ""
            },
            "colorscale": [
             [
              0,
              "#0d0887"
             ],
             [
              0.1111111111111111,
              "#46039f"
             ],
             [
              0.2222222222222222,
              "#7201a8"
             ],
             [
              0.3333333333333333,
              "#9c179e"
             ],
             [
              0.4444444444444444,
              "#bd3786"
             ],
             [
              0.5555555555555556,
              "#d8576b"
             ],
             [
              0.6666666666666666,
              "#ed7953"
             ],
             [
              0.7777777777777778,
              "#fb9f3a"
             ],
             [
              0.8888888888888888,
              "#fdca26"
             ],
             [
              1,
              "#f0f921"
             ]
            ],
            "type": "histogram2d"
           }
          ],
          "histogram2dcontour": [
           {
            "colorbar": {
             "outlinewidth": 0,
             "ticks": ""
            },
            "colorscale": [
             [
              0,
              "#0d0887"
             ],
             [
              0.1111111111111111,
              "#46039f"
             ],
             [
              0.2222222222222222,
              "#7201a8"
             ],
             [
              0.3333333333333333,
              "#9c179e"
             ],
             [
              0.4444444444444444,
              "#bd3786"
             ],
             [
              0.5555555555555556,
              "#d8576b"
             ],
             [
              0.6666666666666666,
              "#ed7953"
             ],
             [
              0.7777777777777778,
              "#fb9f3a"
             ],
             [
              0.8888888888888888,
              "#fdca26"
             ],
             [
              1,
              "#f0f921"
             ]
            ],
            "type": "histogram2dcontour"
           }
          ],
          "mesh3d": [
           {
            "colorbar": {
             "outlinewidth": 0,
             "ticks": ""
            },
            "type": "mesh3d"
           }
          ],
          "parcoords": [
           {
            "line": {
             "colorbar": {
              "outlinewidth": 0,
              "ticks": ""
             }
            },
            "type": "parcoords"
           }
          ],
          "pie": [
           {
            "automargin": true,
            "type": "pie"
           }
          ],
          "scatter": [
           {
            "marker": {
             "colorbar": {
              "outlinewidth": 0,
              "ticks": ""
             }
            },
            "type": "scatter"
           }
          ],
          "scatter3d": [
           {
            "line": {
             "colorbar": {
              "outlinewidth": 0,
              "ticks": ""
             }
            },
            "marker": {
             "colorbar": {
              "outlinewidth": 0,
              "ticks": ""
             }
            },
            "type": "scatter3d"
           }
          ],
          "scattercarpet": [
           {
            "marker": {
             "colorbar": {
              "outlinewidth": 0,
              "ticks": ""
             }
            },
            "type": "scattercarpet"
           }
          ],
          "scattergeo": [
           {
            "marker": {
             "colorbar": {
              "outlinewidth": 0,
              "ticks": ""
             }
            },
            "type": "scattergeo"
           }
          ],
          "scattergl": [
           {
            "marker": {
             "colorbar": {
              "outlinewidth": 0,
              "ticks": ""
             }
            },
            "type": "scattergl"
           }
          ],
          "scattermapbox": [
           {
            "marker": {
             "colorbar": {
              "outlinewidth": 0,
              "ticks": ""
             }
            },
            "type": "scattermapbox"
           }
          ],
          "scatterpolar": [
           {
            "marker": {
             "colorbar": {
              "outlinewidth": 0,
              "ticks": ""
             }
            },
            "type": "scatterpolar"
           }
          ],
          "scatterpolargl": [
           {
            "marker": {
             "colorbar": {
              "outlinewidth": 0,
              "ticks": ""
             }
            },
            "type": "scatterpolargl"
           }
          ],
          "scatterternary": [
           {
            "marker": {
             "colorbar": {
              "outlinewidth": 0,
              "ticks": ""
             }
            },
            "type": "scatterternary"
           }
          ],
          "surface": [
           {
            "colorbar": {
             "outlinewidth": 0,
             "ticks": ""
            },
            "colorscale": [
             [
              0,
              "#0d0887"
             ],
             [
              0.1111111111111111,
              "#46039f"
             ],
             [
              0.2222222222222222,
              "#7201a8"
             ],
             [
              0.3333333333333333,
              "#9c179e"
             ],
             [
              0.4444444444444444,
              "#bd3786"
             ],
             [
              0.5555555555555556,
              "#d8576b"
             ],
             [
              0.6666666666666666,
              "#ed7953"
             ],
             [
              0.7777777777777778,
              "#fb9f3a"
             ],
             [
              0.8888888888888888,
              "#fdca26"
             ],
             [
              1,
              "#f0f921"
             ]
            ],
            "type": "surface"
           }
          ],
          "table": [
           {
            "cells": {
             "fill": {
              "color": "#EBF0F8"
             },
             "line": {
              "color": "white"
             }
            },
            "header": {
             "fill": {
              "color": "#C8D4E3"
             },
             "line": {
              "color": "white"
             }
            },
            "type": "table"
           }
          ]
         },
         "layout": {
          "annotationdefaults": {
           "arrowcolor": "#2a3f5f",
           "arrowhead": 0,
           "arrowwidth": 1
          },
          "autotypenumbers": "strict",
          "coloraxis": {
           "colorbar": {
            "outlinewidth": 0,
            "ticks": ""
           }
          },
          "colorscale": {
           "diverging": [
            [
             0,
             "#8e0152"
            ],
            [
             0.1,
             "#c51b7d"
            ],
            [
             0.2,
             "#de77ae"
            ],
            [
             0.3,
             "#f1b6da"
            ],
            [
             0.4,
             "#fde0ef"
            ],
            [
             0.5,
             "#f7f7f7"
            ],
            [
             0.6,
             "#e6f5d0"
            ],
            [
             0.7,
             "#b8e186"
            ],
            [
             0.8,
             "#7fbc41"
            ],
            [
             0.9,
             "#4d9221"
            ],
            [
             1,
             "#276419"
            ]
           ],
           "sequential": [
            [
             0,
             "#0d0887"
            ],
            [
             0.1111111111111111,
             "#46039f"
            ],
            [
             0.2222222222222222,
             "#7201a8"
            ],
            [
             0.3333333333333333,
             "#9c179e"
            ],
            [
             0.4444444444444444,
             "#bd3786"
            ],
            [
             0.5555555555555556,
             "#d8576b"
            ],
            [
             0.6666666666666666,
             "#ed7953"
            ],
            [
             0.7777777777777778,
             "#fb9f3a"
            ],
            [
             0.8888888888888888,
             "#fdca26"
            ],
            [
             1,
             "#f0f921"
            ]
           ],
           "sequentialminus": [
            [
             0,
             "#0d0887"
            ],
            [
             0.1111111111111111,
             "#46039f"
            ],
            [
             0.2222222222222222,
             "#7201a8"
            ],
            [
             0.3333333333333333,
             "#9c179e"
            ],
            [
             0.4444444444444444,
             "#bd3786"
            ],
            [
             0.5555555555555556,
             "#d8576b"
            ],
            [
             0.6666666666666666,
             "#ed7953"
            ],
            [
             0.7777777777777778,
             "#fb9f3a"
            ],
            [
             0.8888888888888888,
             "#fdca26"
            ],
            [
             1,
             "#f0f921"
            ]
           ]
          },
          "colorway": [
           "#636efa",
           "#EF553B",
           "#00cc96",
           "#ab63fa",
           "#FFA15A",
           "#19d3f3",
           "#FF6692",
           "#B6E880",
           "#FF97FF",
           "#FECB52"
          ],
          "font": {
           "color": "#2a3f5f"
          },
          "geo": {
           "bgcolor": "white",
           "lakecolor": "white",
           "landcolor": "#E5ECF6",
           "showlakes": true,
           "showland": true,
           "subunitcolor": "white"
          },
          "hoverlabel": {
           "align": "left"
          },
          "hovermode": "closest",
          "mapbox": {
           "style": "light"
          },
          "paper_bgcolor": "white",
          "plot_bgcolor": "#E5ECF6",
          "polar": {
           "angularaxis": {
            "gridcolor": "white",
            "linecolor": "white",
            "ticks": ""
           },
           "bgcolor": "#E5ECF6",
           "radialaxis": {
            "gridcolor": "white",
            "linecolor": "white",
            "ticks": ""
           }
          },
          "scene": {
           "xaxis": {
            "backgroundcolor": "#E5ECF6",
            "gridcolor": "white",
            "gridwidth": 2,
            "linecolor": "white",
            "showbackground": true,
            "ticks": "",
            "zerolinecolor": "white"
           },
           "yaxis": {
            "backgroundcolor": "#E5ECF6",
            "gridcolor": "white",
            "gridwidth": 2,
            "linecolor": "white",
            "showbackground": true,
            "ticks": "",
            "zerolinecolor": "white"
           },
           "zaxis": {
            "backgroundcolor": "#E5ECF6",
            "gridcolor": "white",
            "gridwidth": 2,
            "linecolor": "white",
            "showbackground": true,
            "ticks": "",
            "zerolinecolor": "white"
           }
          },
          "shapedefaults": {
           "line": {
            "color": "#2a3f5f"
           }
          },
          "ternary": {
           "aaxis": {
            "gridcolor": "white",
            "linecolor": "white",
            "ticks": ""
           },
           "baxis": {
            "gridcolor": "white",
            "linecolor": "white",
            "ticks": ""
           },
           "bgcolor": "#E5ECF6",
           "caxis": {
            "gridcolor": "white",
            "linecolor": "white",
            "ticks": ""
           }
          },
          "title": {
           "x": 0.05
          },
          "xaxis": {
           "automargin": true,
           "gridcolor": "white",
           "linecolor": "white",
           "ticks": "",
           "title": {
            "standoff": 15
           },
           "zerolinecolor": "white",
           "zerolinewidth": 2
          },
          "yaxis": {
           "automargin": true,
           "gridcolor": "white",
           "linecolor": "white",
           "ticks": "",
           "title": {
            "standoff": 15
           },
           "zerolinecolor": "white",
           "zerolinewidth": 2
          }
         }
        },
        "title": {
         "text": "Rompimento7Dias x Rompimento 28 Dias"
        },
        "xaxis": {
         "anchor": "y",
         "domain": [
          0,
          1
         ],
         "title": {
          "text": "DataProjecao"
         }
        },
        "yaxis": {
         "anchor": "x",
         "domain": [
          0,
          1
         ],
         "title": {
          "text": "PercentualCrescimentoReal"
         }
        }
       }
      },
      "text/html": [
       "<div>                            <div id=\"4b944d10-a84e-4aa0-a9eb-29657e2b8a75\" class=\"plotly-graph-div\" style=\"height:525px; width:100%;\"></div>            <script type=\"text/javascript\">                require([\"plotly\"], function(Plotly) {                    window.PLOTLYENV=window.PLOTLYENV || {};                                    if (document.getElementById(\"4b944d10-a84e-4aa0-a9eb-29657e2b8a75\")) {                    Plotly.newPlot(                        \"4b944d10-a84e-4aa0-a9eb-29657e2b8a75\",                        [{\"hovertemplate\": \"DataProjecao=%{x}<br>PercentualCrescimentoReal=%{y}<extra></extra>\", \"legendgroup\": \"\", \"marker\": {\"color\": \"#636efa\", \"symbol\": \"circle\"}, \"mode\": \"markers\", \"name\": \"\", \"orientation\": \"v\", \"showlegend\": false, \"type\": \"scatter\", \"x\": [\"2015-09-18T00:00:00\", \"2015-09-18T00:00:00\", \"2015-09-18T00:00:00\", \"2015-09-18T00:00:00\", \"2015-09-18T00:00:00\", \"2015-09-18T00:00:00\", \"2015-09-18T00:00:00\", \"2015-09-18T00:00:00\", \"2015-09-18T00:00:00\", \"2015-09-18T00:00:00\", \"2015-09-18T00:00:00\", \"2015-09-18T00:00:00\", \"2015-09-18T00:00:00\", \"2015-09-18T00:00:00\", \"2015-09-18T00:00:00\", \"2015-09-18T00:00:00\", \"2015-09-18T00:00:00\", \"2015-09-18T00:00:00\", \"2015-09-18T00:00:00\", \"2015-09-18T00:00:00\", \"2015-09-18T00:00:00\", \"2015-09-25T00:00:00\", \"2015-09-25T00:00:00\", \"2015-09-25T00:00:00\", \"2015-09-25T00:00:00\", \"2015-09-25T00:00:00\", \"2015-09-25T00:00:00\", \"2015-09-25T00:00:00\", \"2015-09-25T00:00:00\", \"2015-09-25T00:00:00\", \"2015-09-25T00:00:00\", \"2015-09-25T00:00:00\", \"2015-09-25T00:00:00\", \"2015-09-25T00:00:00\", \"2015-09-25T00:00:00\", \"2015-09-25T00:00:00\", \"2015-09-25T00:00:00\", \"2015-09-25T00:00:00\", \"2015-09-25T00:00:00\", \"2015-09-25T00:00:00\", \"2015-10-02T00:00:00\", \"2015-10-02T00:00:00\", \"2015-10-02T00:00:00\", \"2015-10-02T00:00:00\", \"2015-10-09T00:00:00\", \"2015-10-09T00:00:00\", \"2015-10-16T00:00:00\", \"2015-10-23T00:00:00\", \"2015-10-23T00:00:00\", \"2015-10-23T00:00:00\", \"2015-10-23T00:00:00\", \"2015-10-30T00:00:00\", \"2015-10-30T00:00:00\", \"2015-10-30T00:00:00\", \"2015-10-30T00:00:00\", \"2015-10-30T00:00:00\", \"2015-10-30T00:00:00\", \"2015-10-30T00:00:00\", \"2015-10-30T00:00:00\", \"2015-10-30T00:00:00\", \"2015-10-30T00:00:00\", \"2015-10-30T00:00:00\", \"2015-10-30T00:00:00\", \"2015-10-30T00:00:00\", \"2015-10-30T00:00:00\", \"2015-10-30T00:00:00\", \"2015-10-30T00:00:00\", \"2015-10-30T00:00:00\", \"2015-10-30T00:00:00\", \"2015-10-30T00:00:00\", \"2015-10-30T00:00:00\", \"2015-10-30T00:00:00\", \"2015-10-30T00:00:00\", \"2015-10-30T00:00:00\", \"2015-10-30T00:00:00\", \"2015-11-06T00:00:00\", \"2015-11-06T00:00:00\", \"2015-11-06T00:00:00\", \"2015-11-06T00:00:00\", \"2015-11-06T00:00:00\", \"2015-11-06T00:00:00\", \"2015-11-06T00:00:00\", \"2015-11-06T00:00:00\", \"2015-11-06T00:00:00\", \"2015-11-13T00:00:00\", \"2015-11-13T00:00:00\", \"2015-11-13T00:00:00\", \"2015-11-13T00:00:00\", \"2015-11-13T00:00:00\", \"2015-11-13T00:00:00\", \"2015-11-13T00:00:00\", \"2015-11-13T00:00:00\", \"2015-11-13T00:00:00\", \"2015-11-13T00:00:00\", \"2015-11-13T00:00:00\", \"2015-11-13T00:00:00\", \"2015-11-13T00:00:00\", \"2015-11-13T00:00:00\", \"2015-11-13T00:00:00\", \"2015-11-13T00:00:00\", \"2015-11-13T00:00:00\", \"2015-11-20T00:00:00\", \"2015-11-20T00:00:00\", \"2015-11-20T00:00:00\", \"2015-11-20T00:00:00\", \"2015-11-20T00:00:00\", \"2015-11-20T00:00:00\", \"2015-11-20T00:00:00\", \"2015-11-20T00:00:00\", \"2015-11-20T00:00:00\", \"2015-11-20T00:00:00\", \"2015-11-20T00:00:00\", \"2015-11-20T00:00:00\", \"2015-11-20T00:00:00\", \"2015-11-20T00:00:00\", \"2015-11-20T00:00:00\", \"2015-11-20T00:00:00\", \"2015-11-20T00:00:00\", \"2015-11-20T00:00:00\", \"2015-11-20T00:00:00\", \"2015-11-20T00:00:00\", \"2015-11-20T00:00:00\", \"2015-11-20T00:00:00\", \"2015-11-20T00:00:00\", \"2015-11-20T00:00:00\", \"2015-11-20T00:00:00\", \"2015-11-20T00:00:00\", \"2015-11-20T00:00:00\", \"2015-11-20T00:00:00\", \"2015-11-20T00:00:00\", \"2015-11-20T00:00:00\", \"2015-11-20T00:00:00\", \"2015-11-27T00:00:00\", \"2015-11-27T00:00:00\", \"2015-11-27T00:00:00\", \"2015-11-27T00:00:00\", \"2015-11-27T00:00:00\", \"2015-11-27T00:00:00\", \"2015-11-27T00:00:00\", \"2015-11-27T00:00:00\", \"2015-11-27T00:00:00\", \"2015-12-04T00:00:00\", \"2015-12-04T00:00:00\", \"2015-12-11T00:00:00\", \"2015-12-11T00:00:00\", \"2015-12-11T00:00:00\", \"2015-12-18T00:00:00\", \"2015-12-18T00:00:00\", \"2015-12-18T00:00:00\", \"2015-12-18T00:00:00\", \"2015-12-18T00:00:00\", \"2015-12-25T00:00:00\", \"2015-12-25T00:00:00\", \"2015-12-25T00:00:00\", \"2016-01-01T00:00:00\", \"2016-01-01T00:00:00\"], \"xaxis\": \"x\", \"y\": [56.979944946913086, 50.688935281837175, 54.95495495495495, 50.435979807251044, 43.453935098843715, 50.07153075822603, 55.295566502463046, 46.995884773662546, 54.22191207257504, 59.729981378026075, 53.079044117647065, 93.52517985611509, 37.61788333915472, 100.52447552447548, 68.04014791336503, 70.78842881452073, 56.07476635514019, 93.24055666003977, 89.4890510948905, 88.04347826086956, 52.804986642920746, 51.60235448005233, 46.20060790273557, 48.78926701570681, 19.17483936422051, 25.142247510668557, 45.711733174508645, 49.79375368296997, 42.997685185185176, 32.097748489840754, 19.35595567867037, 18.03797468354429, 28.367670364500785, 25.607064017660047, 21.75751879699248, 27.513906718014546, 54.541108986615654, 31.38088012139604, 14.223706176961606, 42.442615851017756, 43.88998035363457, 33.32334432124664, 51.002044989775044, 56.63627152988858, 49.525616698292225, 33.176571184266784, 36.45649876717154, 26.99822380106573, 37.032569360675495, 41.592233009708735, 28.798185941043066, 69.42800788954632, 41.79240969364426, 46.175880836436576, 30.940728656878733, 54.47326627845421, 25.866336633663376, 44.68354430379746, 35.2661596958175, 53.17647058823529, 32.93636025307034, 43.9102564102564, 57.131011608623524, 54.026180087266944, 49.051233396584465, 48.59246427024686, 40.638606676342505, 52.7734577501296, 55.16098484848486, 46.178343949044574, 60.08687258687261, 37.623762376237615, 48.16615112682282, 52.21507004922378, 45.65896314803246, 42.92546831406936, 23.80243975007439, 51.3431322858591, 33.58359803638462, 51.51821862348178, 40.51958123303607, 41.169205434335105, 39.114082741328886, 53.29540066382171, 27.02811244979919, 27.742165242165235, 40.52730696798494, 32.3445318084346, 33.199854386603576, 31.048523922633176, 20.619235836627126, 53.35968379446641, 59.82742090124643, 48.185371300949186, 42.58872651356993, 51.53110047846892, 29.47368421052632, 39.56375838926176, 41.02465331278891, 54.02070063694266, 47.06125827814569, 39.91031390134528, 47.864945382323725, 48.003942828979795, 44.95938843764932, 46.81774349083896, 49.97752808988763, 29.746070133010868, 51.27402771569067, 48.8768115942029, 72.75494672754945, 72.00748129675813, 54.94917067950775, 50.10504201680671, 58.775510204081634, 44.2797591477536, 48.22727272727272, 60.76599719757123, 45.261732851985556, 49.92059290629962, 61.423220973782776, 52.98850574712647, 54.14012738853502, 47.22010662604721, 46.81249999999999, 58.579289644822424, 70.83847102342789, 37.644046094750315, 49.85250737463127, 54.473942969518205, 47.96926454445664, 39.75855130784707, 46.32065410593671, 49.251497005988035, 47.88255223037832, 25.610561056105613, 40.444893832153674, 34.1628959276018, 39.407207814078795, 35.54559043348279, 34.7764705882353, 40.56353003721427, 36.17582417582417, 47.55389718076286, 48.54196301564724, 43.454846727423366, 41.553784860557755, 43.66028708133973, 45.740663029794376, 31.40646335912609, 41.789748045178115, 48.989361702127674, 49.45471787577051, 66.63084363245568, 43.27301337529504, 49.34725848563968], \"yaxis\": \"y\"}],                        {\"legend\": {\"tracegroupgap\": 0}, \"template\": {\"data\": {\"bar\": [{\"error_x\": {\"color\": \"#2a3f5f\"}, \"error_y\": {\"color\": \"#2a3f5f\"}, \"marker\": {\"line\": {\"color\": \"#E5ECF6\", \"width\": 0.5}}, \"type\": \"bar\"}], \"barpolar\": [{\"marker\": {\"line\": {\"color\": \"#E5ECF6\", \"width\": 0.5}}, \"type\": \"barpolar\"}], \"carpet\": [{\"aaxis\": {\"endlinecolor\": \"#2a3f5f\", \"gridcolor\": \"white\", \"linecolor\": \"white\", \"minorgridcolor\": \"white\", \"startlinecolor\": \"#2a3f5f\"}, \"baxis\": {\"endlinecolor\": \"#2a3f5f\", \"gridcolor\": \"white\", \"linecolor\": \"white\", \"minorgridcolor\": \"white\", \"startlinecolor\": \"#2a3f5f\"}, \"type\": \"carpet\"}], \"choropleth\": [{\"colorbar\": {\"outlinewidth\": 0, \"ticks\": \"\"}, \"type\": \"choropleth\"}], \"contour\": [{\"colorbar\": {\"outlinewidth\": 0, \"ticks\": \"\"}, \"colorscale\": [[0.0, \"#0d0887\"], [0.1111111111111111, \"#46039f\"], [0.2222222222222222, \"#7201a8\"], [0.3333333333333333, \"#9c179e\"], [0.4444444444444444, \"#bd3786\"], [0.5555555555555556, \"#d8576b\"], [0.6666666666666666, \"#ed7953\"], [0.7777777777777778, \"#fb9f3a\"], [0.8888888888888888, \"#fdca26\"], [1.0, \"#f0f921\"]], \"type\": \"contour\"}], \"contourcarpet\": [{\"colorbar\": {\"outlinewidth\": 0, \"ticks\": \"\"}, \"type\": \"contourcarpet\"}], \"heatmap\": [{\"colorbar\": {\"outlinewidth\": 0, \"ticks\": \"\"}, \"colorscale\": [[0.0, \"#0d0887\"], [0.1111111111111111, \"#46039f\"], [0.2222222222222222, \"#7201a8\"], [0.3333333333333333, \"#9c179e\"], [0.4444444444444444, \"#bd3786\"], [0.5555555555555556, \"#d8576b\"], [0.6666666666666666, \"#ed7953\"], [0.7777777777777778, \"#fb9f3a\"], [0.8888888888888888, \"#fdca26\"], [1.0, \"#f0f921\"]], \"type\": \"heatmap\"}], \"heatmapgl\": [{\"colorbar\": {\"outlinewidth\": 0, \"ticks\": \"\"}, \"colorscale\": [[0.0, \"#0d0887\"], [0.1111111111111111, \"#46039f\"], [0.2222222222222222, \"#7201a8\"], [0.3333333333333333, \"#9c179e\"], [0.4444444444444444, \"#bd3786\"], [0.5555555555555556, \"#d8576b\"], [0.6666666666666666, \"#ed7953\"], [0.7777777777777778, \"#fb9f3a\"], [0.8888888888888888, \"#fdca26\"], [1.0, \"#f0f921\"]], \"type\": \"heatmapgl\"}], \"histogram\": [{\"marker\": {\"colorbar\": {\"outlinewidth\": 0, \"ticks\": \"\"}}, \"type\": \"histogram\"}], \"histogram2d\": [{\"colorbar\": {\"outlinewidth\": 0, \"ticks\": \"\"}, \"colorscale\": [[0.0, \"#0d0887\"], [0.1111111111111111, \"#46039f\"], [0.2222222222222222, \"#7201a8\"], [0.3333333333333333, \"#9c179e\"], [0.4444444444444444, \"#bd3786\"], [0.5555555555555556, \"#d8576b\"], [0.6666666666666666, \"#ed7953\"], [0.7777777777777778, \"#fb9f3a\"], [0.8888888888888888, \"#fdca26\"], [1.0, \"#f0f921\"]], \"type\": \"histogram2d\"}], \"histogram2dcontour\": [{\"colorbar\": {\"outlinewidth\": 0, \"ticks\": \"\"}, \"colorscale\": [[0.0, \"#0d0887\"], [0.1111111111111111, \"#46039f\"], [0.2222222222222222, \"#7201a8\"], [0.3333333333333333, \"#9c179e\"], [0.4444444444444444, \"#bd3786\"], [0.5555555555555556, \"#d8576b\"], [0.6666666666666666, \"#ed7953\"], [0.7777777777777778, \"#fb9f3a\"], [0.8888888888888888, \"#fdca26\"], [1.0, \"#f0f921\"]], \"type\": \"histogram2dcontour\"}], \"mesh3d\": [{\"colorbar\": {\"outlinewidth\": 0, \"ticks\": \"\"}, \"type\": \"mesh3d\"}], \"parcoords\": [{\"line\": {\"colorbar\": {\"outlinewidth\": 0, \"ticks\": \"\"}}, \"type\": \"parcoords\"}], \"pie\": [{\"automargin\": true, \"type\": \"pie\"}], \"scatter\": [{\"marker\": {\"colorbar\": {\"outlinewidth\": 0, \"ticks\": \"\"}}, \"type\": \"scatter\"}], \"scatter3d\": [{\"line\": {\"colorbar\": {\"outlinewidth\": 0, \"ticks\": \"\"}}, \"marker\": {\"colorbar\": {\"outlinewidth\": 0, \"ticks\": \"\"}}, \"type\": \"scatter3d\"}], \"scattercarpet\": [{\"marker\": {\"colorbar\": {\"outlinewidth\": 0, \"ticks\": \"\"}}, \"type\": \"scattercarpet\"}], \"scattergeo\": [{\"marker\": {\"colorbar\": {\"outlinewidth\": 0, \"ticks\": \"\"}}, \"type\": \"scattergeo\"}], \"scattergl\": [{\"marker\": {\"colorbar\": {\"outlinewidth\": 0, \"ticks\": \"\"}}, \"type\": \"scattergl\"}], \"scattermapbox\": [{\"marker\": {\"colorbar\": {\"outlinewidth\": 0, \"ticks\": \"\"}}, \"type\": \"scattermapbox\"}], \"scatterpolar\": [{\"marker\": {\"colorbar\": {\"outlinewidth\": 0, \"ticks\": \"\"}}, \"type\": \"scatterpolar\"}], \"scatterpolargl\": [{\"marker\": {\"colorbar\": {\"outlinewidth\": 0, \"ticks\": \"\"}}, \"type\": \"scatterpolargl\"}], \"scatterternary\": [{\"marker\": {\"colorbar\": {\"outlinewidth\": 0, \"ticks\": \"\"}}, \"type\": \"scatterternary\"}], \"surface\": [{\"colorbar\": {\"outlinewidth\": 0, \"ticks\": \"\"}, \"colorscale\": [[0.0, \"#0d0887\"], [0.1111111111111111, \"#46039f\"], [0.2222222222222222, \"#7201a8\"], [0.3333333333333333, \"#9c179e\"], [0.4444444444444444, \"#bd3786\"], [0.5555555555555556, \"#d8576b\"], [0.6666666666666666, \"#ed7953\"], [0.7777777777777778, \"#fb9f3a\"], [0.8888888888888888, \"#fdca26\"], [1.0, \"#f0f921\"]], \"type\": \"surface\"}], \"table\": [{\"cells\": {\"fill\": {\"color\": \"#EBF0F8\"}, \"line\": {\"color\": \"white\"}}, \"header\": {\"fill\": {\"color\": \"#C8D4E3\"}, \"line\": {\"color\": \"white\"}}, \"type\": \"table\"}]}, \"layout\": {\"annotationdefaults\": {\"arrowcolor\": \"#2a3f5f\", \"arrowhead\": 0, \"arrowwidth\": 1}, \"autotypenumbers\": \"strict\", \"coloraxis\": {\"colorbar\": {\"outlinewidth\": 0, \"ticks\": \"\"}}, \"colorscale\": {\"diverging\": [[0, \"#8e0152\"], [0.1, \"#c51b7d\"], [0.2, \"#de77ae\"], [0.3, \"#f1b6da\"], [0.4, \"#fde0ef\"], [0.5, \"#f7f7f7\"], [0.6, \"#e6f5d0\"], [0.7, \"#b8e186\"], [0.8, \"#7fbc41\"], [0.9, \"#4d9221\"], [1, \"#276419\"]], \"sequential\": [[0.0, \"#0d0887\"], [0.1111111111111111, \"#46039f\"], [0.2222222222222222, \"#7201a8\"], [0.3333333333333333, \"#9c179e\"], [0.4444444444444444, \"#bd3786\"], [0.5555555555555556, \"#d8576b\"], [0.6666666666666666, \"#ed7953\"], [0.7777777777777778, \"#fb9f3a\"], [0.8888888888888888, \"#fdca26\"], [1.0, \"#f0f921\"]], \"sequentialminus\": [[0.0, \"#0d0887\"], [0.1111111111111111, \"#46039f\"], [0.2222222222222222, \"#7201a8\"], [0.3333333333333333, \"#9c179e\"], [0.4444444444444444, \"#bd3786\"], [0.5555555555555556, \"#d8576b\"], [0.6666666666666666, \"#ed7953\"], [0.7777777777777778, \"#fb9f3a\"], [0.8888888888888888, \"#fdca26\"], [1.0, \"#f0f921\"]]}, \"colorway\": [\"#636efa\", \"#EF553B\", \"#00cc96\", \"#ab63fa\", \"#FFA15A\", \"#19d3f3\", \"#FF6692\", \"#B6E880\", \"#FF97FF\", \"#FECB52\"], \"font\": {\"color\": \"#2a3f5f\"}, \"geo\": {\"bgcolor\": \"white\", \"lakecolor\": \"white\", \"landcolor\": \"#E5ECF6\", \"showlakes\": true, \"showland\": true, \"subunitcolor\": \"white\"}, \"hoverlabel\": {\"align\": \"left\"}, \"hovermode\": \"closest\", \"mapbox\": {\"style\": \"light\"}, \"paper_bgcolor\": \"white\", \"plot_bgcolor\": \"#E5ECF6\", \"polar\": {\"angularaxis\": {\"gridcolor\": \"white\", \"linecolor\": \"white\", \"ticks\": \"\"}, \"bgcolor\": \"#E5ECF6\", \"radialaxis\": {\"gridcolor\": \"white\", \"linecolor\": \"white\", \"ticks\": \"\"}}, \"scene\": {\"xaxis\": {\"backgroundcolor\": \"#E5ECF6\", \"gridcolor\": \"white\", \"gridwidth\": 2, \"linecolor\": \"white\", \"showbackground\": true, \"ticks\": \"\", \"zerolinecolor\": \"white\"}, \"yaxis\": {\"backgroundcolor\": \"#E5ECF6\", \"gridcolor\": \"white\", \"gridwidth\": 2, \"linecolor\": \"white\", \"showbackground\": true, \"ticks\": \"\", \"zerolinecolor\": \"white\"}, \"zaxis\": {\"backgroundcolor\": \"#E5ECF6\", \"gridcolor\": \"white\", \"gridwidth\": 2, \"linecolor\": \"white\", \"showbackground\": true, \"ticks\": \"\", \"zerolinecolor\": \"white\"}}, \"shapedefaults\": {\"line\": {\"color\": \"#2a3f5f\"}}, \"ternary\": {\"aaxis\": {\"gridcolor\": \"white\", \"linecolor\": \"white\", \"ticks\": \"\"}, \"baxis\": {\"gridcolor\": \"white\", \"linecolor\": \"white\", \"ticks\": \"\"}, \"bgcolor\": \"#E5ECF6\", \"caxis\": {\"gridcolor\": \"white\", \"linecolor\": \"white\", \"ticks\": \"\"}}, \"title\": {\"x\": 0.05}, \"xaxis\": {\"automargin\": true, \"gridcolor\": \"white\", \"linecolor\": \"white\", \"ticks\": \"\", \"title\": {\"standoff\": 15}, \"zerolinecolor\": \"white\", \"zerolinewidth\": 2}, \"yaxis\": {\"automargin\": true, \"gridcolor\": \"white\", \"linecolor\": \"white\", \"ticks\": \"\", \"title\": {\"standoff\": 15}, \"zerolinecolor\": \"white\", \"zerolinewidth\": 2}}}, \"title\": {\"text\": \"Rompimento7Dias x Rompimento 28 Dias\"}, \"xaxis\": {\"anchor\": \"y\", \"domain\": [0.0, 1.0], \"title\": {\"text\": \"DataProjecao\"}}, \"yaxis\": {\"anchor\": \"x\", \"domain\": [0.0, 1.0], \"title\": {\"text\": \"PercentualCrescimentoReal\"}}},                        {\"responsive\": true}                    ).then(function(){\n",
       "                            \n",
       "var gd = document.getElementById('4b944d10-a84e-4aa0-a9eb-29657e2b8a75');\n",
       "var x = new MutationObserver(function (mutations, observer) {{\n",
       "        var display = window.getComputedStyle(gd).display;\n",
       "        if (!display || display === 'none') {{\n",
       "            console.log([gd, 'removed!']);\n",
       "            Plotly.purge(gd);\n",
       "            observer.disconnect();\n",
       "        }}\n",
       "}});\n",
       "\n",
       "// Listen for the removal of the full notebook cells\n",
       "var notebookContainer = gd.closest('#notebook-container');\n",
       "if (notebookContainer) {{\n",
       "    x.observe(notebookContainer, {childList: true});\n",
       "}}\n",
       "\n",
       "// Listen for the clearing of the current output cell\n",
       "var outputEl = gd.closest('.output');\n",
       "if (outputEl) {{\n",
       "    x.observe(outputEl, {childList: true});\n",
       "}}\n",
       "\n",
       "                        })                };                });            </script>        </div>"
      ]
     },
     "metadata": {},
     "output_type": "display_data"
    }
   ],
   "source": [
    "fig = px.scatter(df_treino, x=\"DataProjecao\", y=\"PercentualCrescimentoReal\", title='Rompimento7Dias x Rompimento 28 Dias')\n",
    "fig.show()"
   ]
  },
  {
   "cell_type": "code",
   "execution_count": 371,
   "metadata": {},
   "outputs": [
    {
     "data": {
      "application/vnd.plotly.v1+json": {
       "config": {
        "plotlyServerURL": "https://plot.ly"
       },
       "data": [
        {
         "hovertemplate": "RelacaoAguaCimento=%{x}<br>Rompimento28Dias=%{y}<extra></extra>",
         "legendgroup": "",
         "marker": {
          "color": "#636efa",
          "symbol": "circle"
         },
         "mode": "markers",
         "name": "",
         "orientation": "v",
         "showlegend": false,
         "type": "scatter",
         "x": [
          0.4060913705583756,
          0.4060913705583756,
          0.5376712328767124,
          0.4937106918238994,
          0.4937106918238994,
          0.475,
          0.5709342560553633,
          0.5709342560553633,
          0.5709342560553633,
          0.5682656826568265,
          0.5175,
          0.5125,
          0.5125,
          0.5225,
          0.5359712230215827,
          0.4925,
          0.5225,
          0.5225,
          0.5225,
          0.4925,
          0.5,
          0.41116751269035534,
          0.4925,
          0.4925,
          0.4925,
          0.5605536332179931
         ],
         "xaxis": "x",
         "y": [
          41.84,
          38.95,
          36.56,
          37.64,
          38.37,
          34.09,
          26.67,
          24.99,
          26.77,
          27.27,
          31.18,
          38.51,
          39.11,
          40.86,
          29.67,
          43.15,
          43.12,
          39.79,
          38.92,
          38.18,
          42.29,
          45.71,
          37.24,
          33.2,
          34.45,
          29.5
         ],
         "yaxis": "y"
        }
       ],
       "layout": {
        "legend": {
         "tracegroupgap": 0
        },
        "template": {
         "data": {
          "bar": [
           {
            "error_x": {
             "color": "#2a3f5f"
            },
            "error_y": {
             "color": "#2a3f5f"
            },
            "marker": {
             "line": {
              "color": "#E5ECF6",
              "width": 0.5
             }
            },
            "type": "bar"
           }
          ],
          "barpolar": [
           {
            "marker": {
             "line": {
              "color": "#E5ECF6",
              "width": 0.5
             }
            },
            "type": "barpolar"
           }
          ],
          "carpet": [
           {
            "aaxis": {
             "endlinecolor": "#2a3f5f",
             "gridcolor": "white",
             "linecolor": "white",
             "minorgridcolor": "white",
             "startlinecolor": "#2a3f5f"
            },
            "baxis": {
             "endlinecolor": "#2a3f5f",
             "gridcolor": "white",
             "linecolor": "white",
             "minorgridcolor": "white",
             "startlinecolor": "#2a3f5f"
            },
            "type": "carpet"
           }
          ],
          "choropleth": [
           {
            "colorbar": {
             "outlinewidth": 0,
             "ticks": ""
            },
            "type": "choropleth"
           }
          ],
          "contour": [
           {
            "colorbar": {
             "outlinewidth": 0,
             "ticks": ""
            },
            "colorscale": [
             [
              0,
              "#0d0887"
             ],
             [
              0.1111111111111111,
              "#46039f"
             ],
             [
              0.2222222222222222,
              "#7201a8"
             ],
             [
              0.3333333333333333,
              "#9c179e"
             ],
             [
              0.4444444444444444,
              "#bd3786"
             ],
             [
              0.5555555555555556,
              "#d8576b"
             ],
             [
              0.6666666666666666,
              "#ed7953"
             ],
             [
              0.7777777777777778,
              "#fb9f3a"
             ],
             [
              0.8888888888888888,
              "#fdca26"
             ],
             [
              1,
              "#f0f921"
             ]
            ],
            "type": "contour"
           }
          ],
          "contourcarpet": [
           {
            "colorbar": {
             "outlinewidth": 0,
             "ticks": ""
            },
            "type": "contourcarpet"
           }
          ],
          "heatmap": [
           {
            "colorbar": {
             "outlinewidth": 0,
             "ticks": ""
            },
            "colorscale": [
             [
              0,
              "#0d0887"
             ],
             [
              0.1111111111111111,
              "#46039f"
             ],
             [
              0.2222222222222222,
              "#7201a8"
             ],
             [
              0.3333333333333333,
              "#9c179e"
             ],
             [
              0.4444444444444444,
              "#bd3786"
             ],
             [
              0.5555555555555556,
              "#d8576b"
             ],
             [
              0.6666666666666666,
              "#ed7953"
             ],
             [
              0.7777777777777778,
              "#fb9f3a"
             ],
             [
              0.8888888888888888,
              "#fdca26"
             ],
             [
              1,
              "#f0f921"
             ]
            ],
            "type": "heatmap"
           }
          ],
          "heatmapgl": [
           {
            "colorbar": {
             "outlinewidth": 0,
             "ticks": ""
            },
            "colorscale": [
             [
              0,
              "#0d0887"
             ],
             [
              0.1111111111111111,
              "#46039f"
             ],
             [
              0.2222222222222222,
              "#7201a8"
             ],
             [
              0.3333333333333333,
              "#9c179e"
             ],
             [
              0.4444444444444444,
              "#bd3786"
             ],
             [
              0.5555555555555556,
              "#d8576b"
             ],
             [
              0.6666666666666666,
              "#ed7953"
             ],
             [
              0.7777777777777778,
              "#fb9f3a"
             ],
             [
              0.8888888888888888,
              "#fdca26"
             ],
             [
              1,
              "#f0f921"
             ]
            ],
            "type": "heatmapgl"
           }
          ],
          "histogram": [
           {
            "marker": {
             "colorbar": {
              "outlinewidth": 0,
              "ticks": ""
             }
            },
            "type": "histogram"
           }
          ],
          "histogram2d": [
           {
            "colorbar": {
             "outlinewidth": 0,
             "ticks": ""
            },
            "colorscale": [
             [
              0,
              "#0d0887"
             ],
             [
              0.1111111111111111,
              "#46039f"
             ],
             [
              0.2222222222222222,
              "#7201a8"
             ],
             [
              0.3333333333333333,
              "#9c179e"
             ],
             [
              0.4444444444444444,
              "#bd3786"
             ],
             [
              0.5555555555555556,
              "#d8576b"
             ],
             [
              0.6666666666666666,
              "#ed7953"
             ],
             [
              0.7777777777777778,
              "#fb9f3a"
             ],
             [
              0.8888888888888888,
              "#fdca26"
             ],
             [
              1,
              "#f0f921"
             ]
            ],
            "type": "histogram2d"
           }
          ],
          "histogram2dcontour": [
           {
            "colorbar": {
             "outlinewidth": 0,
             "ticks": ""
            },
            "colorscale": [
             [
              0,
              "#0d0887"
             ],
             [
              0.1111111111111111,
              "#46039f"
             ],
             [
              0.2222222222222222,
              "#7201a8"
             ],
             [
              0.3333333333333333,
              "#9c179e"
             ],
             [
              0.4444444444444444,
              "#bd3786"
             ],
             [
              0.5555555555555556,
              "#d8576b"
             ],
             [
              0.6666666666666666,
              "#ed7953"
             ],
             [
              0.7777777777777778,
              "#fb9f3a"
             ],
             [
              0.8888888888888888,
              "#fdca26"
             ],
             [
              1,
              "#f0f921"
             ]
            ],
            "type": "histogram2dcontour"
           }
          ],
          "mesh3d": [
           {
            "colorbar": {
             "outlinewidth": 0,
             "ticks": ""
            },
            "type": "mesh3d"
           }
          ],
          "parcoords": [
           {
            "line": {
             "colorbar": {
              "outlinewidth": 0,
              "ticks": ""
             }
            },
            "type": "parcoords"
           }
          ],
          "pie": [
           {
            "automargin": true,
            "type": "pie"
           }
          ],
          "scatter": [
           {
            "marker": {
             "colorbar": {
              "outlinewidth": 0,
              "ticks": ""
             }
            },
            "type": "scatter"
           }
          ],
          "scatter3d": [
           {
            "line": {
             "colorbar": {
              "outlinewidth": 0,
              "ticks": ""
             }
            },
            "marker": {
             "colorbar": {
              "outlinewidth": 0,
              "ticks": ""
             }
            },
            "type": "scatter3d"
           }
          ],
          "scattercarpet": [
           {
            "marker": {
             "colorbar": {
              "outlinewidth": 0,
              "ticks": ""
             }
            },
            "type": "scattercarpet"
           }
          ],
          "scattergeo": [
           {
            "marker": {
             "colorbar": {
              "outlinewidth": 0,
              "ticks": ""
             }
            },
            "type": "scattergeo"
           }
          ],
          "scattergl": [
           {
            "marker": {
             "colorbar": {
              "outlinewidth": 0,
              "ticks": ""
             }
            },
            "type": "scattergl"
           }
          ],
          "scattermapbox": [
           {
            "marker": {
             "colorbar": {
              "outlinewidth": 0,
              "ticks": ""
             }
            },
            "type": "scattermapbox"
           }
          ],
          "scatterpolar": [
           {
            "marker": {
             "colorbar": {
              "outlinewidth": 0,
              "ticks": ""
             }
            },
            "type": "scatterpolar"
           }
          ],
          "scatterpolargl": [
           {
            "marker": {
             "colorbar": {
              "outlinewidth": 0,
              "ticks": ""
             }
            },
            "type": "scatterpolargl"
           }
          ],
          "scatterternary": [
           {
            "marker": {
             "colorbar": {
              "outlinewidth": 0,
              "ticks": ""
             }
            },
            "type": "scatterternary"
           }
          ],
          "surface": [
           {
            "colorbar": {
             "outlinewidth": 0,
             "ticks": ""
            },
            "colorscale": [
             [
              0,
              "#0d0887"
             ],
             [
              0.1111111111111111,
              "#46039f"
             ],
             [
              0.2222222222222222,
              "#7201a8"
             ],
             [
              0.3333333333333333,
              "#9c179e"
             ],
             [
              0.4444444444444444,
              "#bd3786"
             ],
             [
              0.5555555555555556,
              "#d8576b"
             ],
             [
              0.6666666666666666,
              "#ed7953"
             ],
             [
              0.7777777777777778,
              "#fb9f3a"
             ],
             [
              0.8888888888888888,
              "#fdca26"
             ],
             [
              1,
              "#f0f921"
             ]
            ],
            "type": "surface"
           }
          ],
          "table": [
           {
            "cells": {
             "fill": {
              "color": "#EBF0F8"
             },
             "line": {
              "color": "white"
             }
            },
            "header": {
             "fill": {
              "color": "#C8D4E3"
             },
             "line": {
              "color": "white"
             }
            },
            "type": "table"
           }
          ]
         },
         "layout": {
          "annotationdefaults": {
           "arrowcolor": "#2a3f5f",
           "arrowhead": 0,
           "arrowwidth": 1
          },
          "autotypenumbers": "strict",
          "coloraxis": {
           "colorbar": {
            "outlinewidth": 0,
            "ticks": ""
           }
          },
          "colorscale": {
           "diverging": [
            [
             0,
             "#8e0152"
            ],
            [
             0.1,
             "#c51b7d"
            ],
            [
             0.2,
             "#de77ae"
            ],
            [
             0.3,
             "#f1b6da"
            ],
            [
             0.4,
             "#fde0ef"
            ],
            [
             0.5,
             "#f7f7f7"
            ],
            [
             0.6,
             "#e6f5d0"
            ],
            [
             0.7,
             "#b8e186"
            ],
            [
             0.8,
             "#7fbc41"
            ],
            [
             0.9,
             "#4d9221"
            ],
            [
             1,
             "#276419"
            ]
           ],
           "sequential": [
            [
             0,
             "#0d0887"
            ],
            [
             0.1111111111111111,
             "#46039f"
            ],
            [
             0.2222222222222222,
             "#7201a8"
            ],
            [
             0.3333333333333333,
             "#9c179e"
            ],
            [
             0.4444444444444444,
             "#bd3786"
            ],
            [
             0.5555555555555556,
             "#d8576b"
            ],
            [
             0.6666666666666666,
             "#ed7953"
            ],
            [
             0.7777777777777778,
             "#fb9f3a"
            ],
            [
             0.8888888888888888,
             "#fdca26"
            ],
            [
             1,
             "#f0f921"
            ]
           ],
           "sequentialminus": [
            [
             0,
             "#0d0887"
            ],
            [
             0.1111111111111111,
             "#46039f"
            ],
            [
             0.2222222222222222,
             "#7201a8"
            ],
            [
             0.3333333333333333,
             "#9c179e"
            ],
            [
             0.4444444444444444,
             "#bd3786"
            ],
            [
             0.5555555555555556,
             "#d8576b"
            ],
            [
             0.6666666666666666,
             "#ed7953"
            ],
            [
             0.7777777777777778,
             "#fb9f3a"
            ],
            [
             0.8888888888888888,
             "#fdca26"
            ],
            [
             1,
             "#f0f921"
            ]
           ]
          },
          "colorway": [
           "#636efa",
           "#EF553B",
           "#00cc96",
           "#ab63fa",
           "#FFA15A",
           "#19d3f3",
           "#FF6692",
           "#B6E880",
           "#FF97FF",
           "#FECB52"
          ],
          "font": {
           "color": "#2a3f5f"
          },
          "geo": {
           "bgcolor": "white",
           "lakecolor": "white",
           "landcolor": "#E5ECF6",
           "showlakes": true,
           "showland": true,
           "subunitcolor": "white"
          },
          "hoverlabel": {
           "align": "left"
          },
          "hovermode": "closest",
          "mapbox": {
           "style": "light"
          },
          "paper_bgcolor": "white",
          "plot_bgcolor": "#E5ECF6",
          "polar": {
           "angularaxis": {
            "gridcolor": "white",
            "linecolor": "white",
            "ticks": ""
           },
           "bgcolor": "#E5ECF6",
           "radialaxis": {
            "gridcolor": "white",
            "linecolor": "white",
            "ticks": ""
           }
          },
          "scene": {
           "xaxis": {
            "backgroundcolor": "#E5ECF6",
            "gridcolor": "white",
            "gridwidth": 2,
            "linecolor": "white",
            "showbackground": true,
            "ticks": "",
            "zerolinecolor": "white"
           },
           "yaxis": {
            "backgroundcolor": "#E5ECF6",
            "gridcolor": "white",
            "gridwidth": 2,
            "linecolor": "white",
            "showbackground": true,
            "ticks": "",
            "zerolinecolor": "white"
           },
           "zaxis": {
            "backgroundcolor": "#E5ECF6",
            "gridcolor": "white",
            "gridwidth": 2,
            "linecolor": "white",
            "showbackground": true,
            "ticks": "",
            "zerolinecolor": "white"
           }
          },
          "shapedefaults": {
           "line": {
            "color": "#2a3f5f"
           }
          },
          "ternary": {
           "aaxis": {
            "gridcolor": "white",
            "linecolor": "white",
            "ticks": ""
           },
           "baxis": {
            "gridcolor": "white",
            "linecolor": "white",
            "ticks": ""
           },
           "bgcolor": "#E5ECF6",
           "caxis": {
            "gridcolor": "white",
            "linecolor": "white",
            "ticks": ""
           }
          },
          "title": {
           "x": 0.05
          },
          "xaxis": {
           "automargin": true,
           "gridcolor": "white",
           "linecolor": "white",
           "ticks": "",
           "title": {
            "standoff": 15
           },
           "zerolinecolor": "white",
           "zerolinewidth": 2
          },
          "yaxis": {
           "automargin": true,
           "gridcolor": "white",
           "linecolor": "white",
           "ticks": "",
           "title": {
            "standoff": 15
           },
           "zerolinecolor": "white",
           "zerolinewidth": 2
          }
         }
        },
        "title": {
         "text": "Rompimento7Dias x Rompimento 28 Dias"
        },
        "xaxis": {
         "anchor": "y",
         "domain": [
          0,
          1
         ],
         "title": {
          "text": "RelacaoAguaCimento"
         }
        },
        "yaxis": {
         "anchor": "x",
         "domain": [
          0,
          1
         ],
         "title": {
          "text": "Rompimento28Dias"
         }
        }
       }
      },
      "text/html": [
       "<div>                            <div id=\"88b739dc-2855-401a-97e6-83ff77b9cb01\" class=\"plotly-graph-div\" style=\"height:525px; width:100%;\"></div>            <script type=\"text/javascript\">                require([\"plotly\"], function(Plotly) {                    window.PLOTLYENV=window.PLOTLYENV || {};                                    if (document.getElementById(\"88b739dc-2855-401a-97e6-83ff77b9cb01\")) {                    Plotly.newPlot(                        \"88b739dc-2855-401a-97e6-83ff77b9cb01\",                        [{\"hovertemplate\": \"RelacaoAguaCimento=%{x}<br>Rompimento28Dias=%{y}<extra></extra>\", \"legendgroup\": \"\", \"marker\": {\"color\": \"#636efa\", \"symbol\": \"circle\"}, \"mode\": \"markers\", \"name\": \"\", \"orientation\": \"v\", \"showlegend\": false, \"type\": \"scatter\", \"x\": [0.4060913705583756, 0.4060913705583756, 0.5376712328767124, 0.4937106918238994, 0.4937106918238994, 0.475, 0.5709342560553633, 0.5709342560553633, 0.5709342560553633, 0.5682656826568265, 0.5175, 0.5125, 0.5125, 0.5225, 0.5359712230215827, 0.4925, 0.5225, 0.5225, 0.5225, 0.4925, 0.5, 0.41116751269035534, 0.4925, 0.4925, 0.4925, 0.5605536332179931], \"xaxis\": \"x\", \"y\": [41.84, 38.95, 36.56, 37.64, 38.37, 34.09, 26.67, 24.99, 26.77, 27.27, 31.18, 38.51, 39.11, 40.86, 29.67, 43.15, 43.12, 39.79, 38.92, 38.18, 42.29, 45.71, 37.24, 33.2, 34.45, 29.5], \"yaxis\": \"y\"}],                        {\"legend\": {\"tracegroupgap\": 0}, \"template\": {\"data\": {\"bar\": [{\"error_x\": {\"color\": \"#2a3f5f\"}, \"error_y\": {\"color\": \"#2a3f5f\"}, \"marker\": {\"line\": {\"color\": \"#E5ECF6\", \"width\": 0.5}}, \"type\": \"bar\"}], \"barpolar\": [{\"marker\": {\"line\": {\"color\": \"#E5ECF6\", \"width\": 0.5}}, \"type\": \"barpolar\"}], \"carpet\": [{\"aaxis\": {\"endlinecolor\": \"#2a3f5f\", \"gridcolor\": \"white\", \"linecolor\": \"white\", \"minorgridcolor\": \"white\", \"startlinecolor\": \"#2a3f5f\"}, \"baxis\": {\"endlinecolor\": \"#2a3f5f\", \"gridcolor\": \"white\", \"linecolor\": \"white\", \"minorgridcolor\": \"white\", \"startlinecolor\": \"#2a3f5f\"}, \"type\": \"carpet\"}], \"choropleth\": [{\"colorbar\": {\"outlinewidth\": 0, \"ticks\": \"\"}, \"type\": \"choropleth\"}], \"contour\": [{\"colorbar\": {\"outlinewidth\": 0, \"ticks\": \"\"}, \"colorscale\": [[0.0, \"#0d0887\"], [0.1111111111111111, \"#46039f\"], [0.2222222222222222, \"#7201a8\"], [0.3333333333333333, \"#9c179e\"], [0.4444444444444444, \"#bd3786\"], [0.5555555555555556, \"#d8576b\"], [0.6666666666666666, \"#ed7953\"], [0.7777777777777778, \"#fb9f3a\"], [0.8888888888888888, \"#fdca26\"], [1.0, \"#f0f921\"]], \"type\": \"contour\"}], \"contourcarpet\": [{\"colorbar\": {\"outlinewidth\": 0, \"ticks\": \"\"}, \"type\": \"contourcarpet\"}], \"heatmap\": [{\"colorbar\": {\"outlinewidth\": 0, \"ticks\": \"\"}, \"colorscale\": [[0.0, \"#0d0887\"], [0.1111111111111111, \"#46039f\"], [0.2222222222222222, \"#7201a8\"], [0.3333333333333333, \"#9c179e\"], [0.4444444444444444, \"#bd3786\"], [0.5555555555555556, \"#d8576b\"], [0.6666666666666666, \"#ed7953\"], [0.7777777777777778, \"#fb9f3a\"], [0.8888888888888888, \"#fdca26\"], [1.0, \"#f0f921\"]], \"type\": \"heatmap\"}], \"heatmapgl\": [{\"colorbar\": {\"outlinewidth\": 0, \"ticks\": \"\"}, \"colorscale\": [[0.0, \"#0d0887\"], [0.1111111111111111, \"#46039f\"], [0.2222222222222222, \"#7201a8\"], [0.3333333333333333, \"#9c179e\"], [0.4444444444444444, \"#bd3786\"], [0.5555555555555556, \"#d8576b\"], [0.6666666666666666, \"#ed7953\"], [0.7777777777777778, \"#fb9f3a\"], [0.8888888888888888, \"#fdca26\"], [1.0, \"#f0f921\"]], \"type\": \"heatmapgl\"}], \"histogram\": [{\"marker\": {\"colorbar\": {\"outlinewidth\": 0, \"ticks\": \"\"}}, \"type\": \"histogram\"}], \"histogram2d\": [{\"colorbar\": {\"outlinewidth\": 0, \"ticks\": \"\"}, \"colorscale\": [[0.0, \"#0d0887\"], [0.1111111111111111, \"#46039f\"], [0.2222222222222222, \"#7201a8\"], [0.3333333333333333, \"#9c179e\"], [0.4444444444444444, \"#bd3786\"], [0.5555555555555556, \"#d8576b\"], [0.6666666666666666, \"#ed7953\"], [0.7777777777777778, \"#fb9f3a\"], [0.8888888888888888, \"#fdca26\"], [1.0, \"#f0f921\"]], \"type\": \"histogram2d\"}], \"histogram2dcontour\": [{\"colorbar\": {\"outlinewidth\": 0, \"ticks\": \"\"}, \"colorscale\": [[0.0, \"#0d0887\"], [0.1111111111111111, \"#46039f\"], [0.2222222222222222, \"#7201a8\"], [0.3333333333333333, \"#9c179e\"], [0.4444444444444444, \"#bd3786\"], [0.5555555555555556, \"#d8576b\"], [0.6666666666666666, \"#ed7953\"], [0.7777777777777778, \"#fb9f3a\"], [0.8888888888888888, \"#fdca26\"], [1.0, \"#f0f921\"]], \"type\": \"histogram2dcontour\"}], \"mesh3d\": [{\"colorbar\": {\"outlinewidth\": 0, \"ticks\": \"\"}, \"type\": \"mesh3d\"}], \"parcoords\": [{\"line\": {\"colorbar\": {\"outlinewidth\": 0, \"ticks\": \"\"}}, \"type\": \"parcoords\"}], \"pie\": [{\"automargin\": true, \"type\": \"pie\"}], \"scatter\": [{\"marker\": {\"colorbar\": {\"outlinewidth\": 0, \"ticks\": \"\"}}, \"type\": \"scatter\"}], \"scatter3d\": [{\"line\": {\"colorbar\": {\"outlinewidth\": 0, \"ticks\": \"\"}}, \"marker\": {\"colorbar\": {\"outlinewidth\": 0, \"ticks\": \"\"}}, \"type\": \"scatter3d\"}], \"scattercarpet\": [{\"marker\": {\"colorbar\": {\"outlinewidth\": 0, \"ticks\": \"\"}}, \"type\": \"scattercarpet\"}], \"scattergeo\": [{\"marker\": {\"colorbar\": {\"outlinewidth\": 0, \"ticks\": \"\"}}, \"type\": \"scattergeo\"}], \"scattergl\": [{\"marker\": {\"colorbar\": {\"outlinewidth\": 0, \"ticks\": \"\"}}, \"type\": \"scattergl\"}], \"scattermapbox\": [{\"marker\": {\"colorbar\": {\"outlinewidth\": 0, \"ticks\": \"\"}}, \"type\": \"scattermapbox\"}], \"scatterpolar\": [{\"marker\": {\"colorbar\": {\"outlinewidth\": 0, \"ticks\": \"\"}}, \"type\": \"scatterpolar\"}], \"scatterpolargl\": [{\"marker\": {\"colorbar\": {\"outlinewidth\": 0, \"ticks\": \"\"}}, \"type\": \"scatterpolargl\"}], \"scatterternary\": [{\"marker\": {\"colorbar\": {\"outlinewidth\": 0, \"ticks\": \"\"}}, \"type\": \"scatterternary\"}], \"surface\": [{\"colorbar\": {\"outlinewidth\": 0, \"ticks\": \"\"}, \"colorscale\": [[0.0, \"#0d0887\"], [0.1111111111111111, \"#46039f\"], [0.2222222222222222, \"#7201a8\"], [0.3333333333333333, \"#9c179e\"], [0.4444444444444444, \"#bd3786\"], [0.5555555555555556, \"#d8576b\"], [0.6666666666666666, \"#ed7953\"], [0.7777777777777778, \"#fb9f3a\"], [0.8888888888888888, \"#fdca26\"], [1.0, \"#f0f921\"]], \"type\": \"surface\"}], \"table\": [{\"cells\": {\"fill\": {\"color\": \"#EBF0F8\"}, \"line\": {\"color\": \"white\"}}, \"header\": {\"fill\": {\"color\": \"#C8D4E3\"}, \"line\": {\"color\": \"white\"}}, \"type\": \"table\"}]}, \"layout\": {\"annotationdefaults\": {\"arrowcolor\": \"#2a3f5f\", \"arrowhead\": 0, \"arrowwidth\": 1}, \"autotypenumbers\": \"strict\", \"coloraxis\": {\"colorbar\": {\"outlinewidth\": 0, \"ticks\": \"\"}}, \"colorscale\": {\"diverging\": [[0, \"#8e0152\"], [0.1, \"#c51b7d\"], [0.2, \"#de77ae\"], [0.3, \"#f1b6da\"], [0.4, \"#fde0ef\"], [0.5, \"#f7f7f7\"], [0.6, \"#e6f5d0\"], [0.7, \"#b8e186\"], [0.8, \"#7fbc41\"], [0.9, \"#4d9221\"], [1, \"#276419\"]], \"sequential\": [[0.0, \"#0d0887\"], [0.1111111111111111, \"#46039f\"], [0.2222222222222222, \"#7201a8\"], [0.3333333333333333, \"#9c179e\"], [0.4444444444444444, \"#bd3786\"], [0.5555555555555556, \"#d8576b\"], [0.6666666666666666, \"#ed7953\"], [0.7777777777777778, \"#fb9f3a\"], [0.8888888888888888, \"#fdca26\"], [1.0, \"#f0f921\"]], \"sequentialminus\": [[0.0, \"#0d0887\"], [0.1111111111111111, \"#46039f\"], [0.2222222222222222, \"#7201a8\"], [0.3333333333333333, \"#9c179e\"], [0.4444444444444444, \"#bd3786\"], [0.5555555555555556, \"#d8576b\"], [0.6666666666666666, \"#ed7953\"], [0.7777777777777778, \"#fb9f3a\"], [0.8888888888888888, \"#fdca26\"], [1.0, \"#f0f921\"]]}, \"colorway\": [\"#636efa\", \"#EF553B\", \"#00cc96\", \"#ab63fa\", \"#FFA15A\", \"#19d3f3\", \"#FF6692\", \"#B6E880\", \"#FF97FF\", \"#FECB52\"], \"font\": {\"color\": \"#2a3f5f\"}, \"geo\": {\"bgcolor\": \"white\", \"lakecolor\": \"white\", \"landcolor\": \"#E5ECF6\", \"showlakes\": true, \"showland\": true, \"subunitcolor\": \"white\"}, \"hoverlabel\": {\"align\": \"left\"}, \"hovermode\": \"closest\", \"mapbox\": {\"style\": \"light\"}, \"paper_bgcolor\": \"white\", \"plot_bgcolor\": \"#E5ECF6\", \"polar\": {\"angularaxis\": {\"gridcolor\": \"white\", \"linecolor\": \"white\", \"ticks\": \"\"}, \"bgcolor\": \"#E5ECF6\", \"radialaxis\": {\"gridcolor\": \"white\", \"linecolor\": \"white\", \"ticks\": \"\"}}, \"scene\": {\"xaxis\": {\"backgroundcolor\": \"#E5ECF6\", \"gridcolor\": \"white\", \"gridwidth\": 2, \"linecolor\": \"white\", \"showbackground\": true, \"ticks\": \"\", \"zerolinecolor\": \"white\"}, \"yaxis\": {\"backgroundcolor\": \"#E5ECF6\", \"gridcolor\": \"white\", \"gridwidth\": 2, \"linecolor\": \"white\", \"showbackground\": true, \"ticks\": \"\", \"zerolinecolor\": \"white\"}, \"zaxis\": {\"backgroundcolor\": \"#E5ECF6\", \"gridcolor\": \"white\", \"gridwidth\": 2, \"linecolor\": \"white\", \"showbackground\": true, \"ticks\": \"\", \"zerolinecolor\": \"white\"}}, \"shapedefaults\": {\"line\": {\"color\": \"#2a3f5f\"}}, \"ternary\": {\"aaxis\": {\"gridcolor\": \"white\", \"linecolor\": \"white\", \"ticks\": \"\"}, \"baxis\": {\"gridcolor\": \"white\", \"linecolor\": \"white\", \"ticks\": \"\"}, \"bgcolor\": \"#E5ECF6\", \"caxis\": {\"gridcolor\": \"white\", \"linecolor\": \"white\", \"ticks\": \"\"}}, \"title\": {\"x\": 0.05}, \"xaxis\": {\"automargin\": true, \"gridcolor\": \"white\", \"linecolor\": \"white\", \"ticks\": \"\", \"title\": {\"standoff\": 15}, \"zerolinecolor\": \"white\", \"zerolinewidth\": 2}, \"yaxis\": {\"automargin\": true, \"gridcolor\": \"white\", \"linecolor\": \"white\", \"ticks\": \"\", \"title\": {\"standoff\": 15}, \"zerolinecolor\": \"white\", \"zerolinewidth\": 2}}}, \"title\": {\"text\": \"Rompimento7Dias x Rompimento 28 Dias\"}, \"xaxis\": {\"anchor\": \"y\", \"domain\": [0.0, 1.0], \"title\": {\"text\": \"RelacaoAguaCimento\"}}, \"yaxis\": {\"anchor\": \"x\", \"domain\": [0.0, 1.0], \"title\": {\"text\": \"Rompimento28Dias\"}}},                        {\"responsive\": true}                    ).then(function(){\n",
       "                            \n",
       "var gd = document.getElementById('88b739dc-2855-401a-97e6-83ff77b9cb01');\n",
       "var x = new MutationObserver(function (mutations, observer) {{\n",
       "        var display = window.getComputedStyle(gd).display;\n",
       "        if (!display || display === 'none') {{\n",
       "            console.log([gd, 'removed!']);\n",
       "            Plotly.purge(gd);\n",
       "            observer.disconnect();\n",
       "        }}\n",
       "}});\n",
       "\n",
       "// Listen for the removal of the full notebook cells\n",
       "var notebookContainer = gd.closest('#notebook-container');\n",
       "if (notebookContainer) {{\n",
       "    x.observe(notebookContainer, {childList: true});\n",
       "}}\n",
       "\n",
       "// Listen for the clearing of the current output cell\n",
       "var outputEl = gd.closest('.output');\n",
       "if (outputEl) {{\n",
       "    x.observe(outputEl, {childList: true});\n",
       "}}\n",
       "\n",
       "                        })                };                });            </script>        </div>"
      ]
     },
     "metadata": {},
     "output_type": "display_data"
    }
   ],
   "source": [
    "fig = px.scatter(df_treino, x=\"RelacaoAguaCimento\", y=\"Rompimento28Dias\", title='Rompimento7Dias x Rompimento 28 Dias')\n",
    "fig.show()"
   ]
  },
  {
   "cell_type": "code",
   "execution_count": 2060,
   "metadata": {},
   "outputs": [
    {
     "ename": "ValueError",
     "evalue": "Value of 'x' is not the name of a column in 'data_frame'. Expected one of ['Real', 'Projetado', 'Predito', 'Volume'] but received: RelacaoAguaCimento",
     "output_type": "error",
     "traceback": [
      "\u001b[0;31m---------------------------------------------------------------------------\u001b[0m",
      "\u001b[0;31mValueError\u001b[0m                                Traceback (most recent call last)",
      "\u001b[0;32m<ipython-input-2060-fad47028c2b2>\u001b[0m in \u001b[0;36m<module>\u001b[0;34m\u001b[0m\n\u001b[0;32m----> 1\u001b[0;31m \u001b[0mfig\u001b[0m \u001b[0;34m=\u001b[0m \u001b[0mpx\u001b[0m\u001b[0;34m.\u001b[0m\u001b[0mscatter\u001b[0m\u001b[0;34m(\u001b[0m\u001b[0mdf\u001b[0m\u001b[0;34m,\u001b[0m \u001b[0mx\u001b[0m\u001b[0;34m=\u001b[0m\u001b[0;34m\"RelacaoAguaCimento\"\u001b[0m\u001b[0;34m,\u001b[0m \u001b[0my\u001b[0m\u001b[0;34m=\u001b[0m\u001b[0;34m\"Rompimento28Dias\"\u001b[0m\u001b[0;34m,\u001b[0m \u001b[0mtitle\u001b[0m\u001b[0;34m=\u001b[0m\u001b[0;34m'Rompimento7Dias x Rompimento 28 Dias'\u001b[0m\u001b[0;34m)\u001b[0m\u001b[0;34m\u001b[0m\u001b[0;34m\u001b[0m\u001b[0m\n\u001b[0m\u001b[1;32m      2\u001b[0m \u001b[0mfig\u001b[0m\u001b[0;34m.\u001b[0m\u001b[0mshow\u001b[0m\u001b[0;34m(\u001b[0m\u001b[0;34m)\u001b[0m\u001b[0;34m\u001b[0m\u001b[0;34m\u001b[0m\u001b[0m\n",
      "\u001b[0;32m~/anaconda3/lib/python3.8/site-packages/plotly/express/_chart_types.py\u001b[0m in \u001b[0;36mscatter\u001b[0;34m(data_frame, x, y, color, symbol, size, hover_name, hover_data, custom_data, text, facet_row, facet_col, facet_col_wrap, facet_row_spacing, facet_col_spacing, error_x, error_x_minus, error_y, error_y_minus, animation_frame, animation_group, category_orders, labels, orientation, color_discrete_sequence, color_discrete_map, color_continuous_scale, range_color, color_continuous_midpoint, symbol_sequence, symbol_map, opacity, size_max, marginal_x, marginal_y, trendline, trendline_color_override, log_x, log_y, range_x, range_y, render_mode, title, template, width, height)\u001b[0m\n\u001b[1;32m     62\u001b[0m     \u001b[0mmark\u001b[0m \u001b[0;32min\u001b[0m \u001b[0;36m2\u001b[0m\u001b[0mD\u001b[0m \u001b[0mspace\u001b[0m\u001b[0;34m.\u001b[0m\u001b[0;34m\u001b[0m\u001b[0;34m\u001b[0m\u001b[0m\n\u001b[1;32m     63\u001b[0m     \"\"\"\n\u001b[0;32m---> 64\u001b[0;31m     \u001b[0;32mreturn\u001b[0m \u001b[0mmake_figure\u001b[0m\u001b[0;34m(\u001b[0m\u001b[0margs\u001b[0m\u001b[0;34m=\u001b[0m\u001b[0mlocals\u001b[0m\u001b[0;34m(\u001b[0m\u001b[0;34m)\u001b[0m\u001b[0;34m,\u001b[0m \u001b[0mconstructor\u001b[0m\u001b[0;34m=\u001b[0m\u001b[0mgo\u001b[0m\u001b[0;34m.\u001b[0m\u001b[0mScatter\u001b[0m\u001b[0;34m)\u001b[0m\u001b[0;34m\u001b[0m\u001b[0;34m\u001b[0m\u001b[0m\n\u001b[0m\u001b[1;32m     65\u001b[0m \u001b[0;34m\u001b[0m\u001b[0m\n\u001b[1;32m     66\u001b[0m \u001b[0;34m\u001b[0m\u001b[0m\n",
      "\u001b[0;32m~/anaconda3/lib/python3.8/site-packages/plotly/express/_core.py\u001b[0m in \u001b[0;36mmake_figure\u001b[0;34m(args, constructor, trace_patch, layout_patch)\u001b[0m\n\u001b[1;32m   1831\u001b[0m     \u001b[0mapply_default_cascade\u001b[0m\u001b[0;34m(\u001b[0m\u001b[0margs\u001b[0m\u001b[0;34m)\u001b[0m\u001b[0;34m\u001b[0m\u001b[0;34m\u001b[0m\u001b[0m\n\u001b[1;32m   1832\u001b[0m \u001b[0;34m\u001b[0m\u001b[0m\n\u001b[0;32m-> 1833\u001b[0;31m     \u001b[0margs\u001b[0m \u001b[0;34m=\u001b[0m \u001b[0mbuild_dataframe\u001b[0m\u001b[0;34m(\u001b[0m\u001b[0margs\u001b[0m\u001b[0;34m,\u001b[0m \u001b[0mconstructor\u001b[0m\u001b[0;34m)\u001b[0m\u001b[0;34m\u001b[0m\u001b[0;34m\u001b[0m\u001b[0m\n\u001b[0m\u001b[1;32m   1834\u001b[0m     \u001b[0;32mif\u001b[0m \u001b[0mconstructor\u001b[0m \u001b[0;32min\u001b[0m \u001b[0;34m[\u001b[0m\u001b[0mgo\u001b[0m\u001b[0;34m.\u001b[0m\u001b[0mTreemap\u001b[0m\u001b[0;34m,\u001b[0m \u001b[0mgo\u001b[0m\u001b[0;34m.\u001b[0m\u001b[0mSunburst\u001b[0m\u001b[0;34m]\u001b[0m \u001b[0;32mand\u001b[0m \u001b[0margs\u001b[0m\u001b[0;34m[\u001b[0m\u001b[0;34m\"path\"\u001b[0m\u001b[0;34m]\u001b[0m \u001b[0;32mis\u001b[0m \u001b[0;32mnot\u001b[0m \u001b[0;32mNone\u001b[0m\u001b[0;34m:\u001b[0m\u001b[0;34m\u001b[0m\u001b[0;34m\u001b[0m\u001b[0m\n\u001b[1;32m   1835\u001b[0m         \u001b[0margs\u001b[0m \u001b[0;34m=\u001b[0m \u001b[0mprocess_dataframe_hierarchy\u001b[0m\u001b[0;34m(\u001b[0m\u001b[0margs\u001b[0m\u001b[0;34m)\u001b[0m\u001b[0;34m\u001b[0m\u001b[0;34m\u001b[0m\u001b[0m\n",
      "\u001b[0;32m~/anaconda3/lib/python3.8/site-packages/plotly/express/_core.py\u001b[0m in \u001b[0;36mbuild_dataframe\u001b[0;34m(args, constructor)\u001b[0m\n\u001b[1;32m   1355\u001b[0m     \u001b[0;31m# now that things have been prepped, we do the systematic rewriting of `args`\u001b[0m\u001b[0;34m\u001b[0m\u001b[0;34m\u001b[0m\u001b[0;34m\u001b[0m\u001b[0m\n\u001b[1;32m   1356\u001b[0m \u001b[0;34m\u001b[0m\u001b[0m\n\u001b[0;32m-> 1357\u001b[0;31m     df_output, wide_id_vars = process_args_into_dataframe(\n\u001b[0m\u001b[1;32m   1358\u001b[0m         \u001b[0margs\u001b[0m\u001b[0;34m,\u001b[0m \u001b[0mwide_mode\u001b[0m\u001b[0;34m,\u001b[0m \u001b[0mvar_name\u001b[0m\u001b[0;34m,\u001b[0m \u001b[0mvalue_name\u001b[0m\u001b[0;34m\u001b[0m\u001b[0;34m\u001b[0m\u001b[0m\n\u001b[1;32m   1359\u001b[0m     )\n",
      "\u001b[0;32m~/anaconda3/lib/python3.8/site-packages/plotly/express/_core.py\u001b[0m in \u001b[0;36mprocess_args_into_dataframe\u001b[0;34m(args, wide_mode, var_name, value_name)\u001b[0m\n\u001b[1;32m   1161\u001b[0m                         \u001b[0;32mif\u001b[0m \u001b[0margument\u001b[0m \u001b[0;34m==\u001b[0m \u001b[0;34m\"index\"\u001b[0m\u001b[0;34m:\u001b[0m\u001b[0;34m\u001b[0m\u001b[0;34m\u001b[0m\u001b[0m\n\u001b[1;32m   1162\u001b[0m                             \u001b[0merr_msg\u001b[0m \u001b[0;34m+=\u001b[0m \u001b[0;34m\"\\n To use the index, pass it in directly as `df.index`.\"\u001b[0m\u001b[0;34m\u001b[0m\u001b[0;34m\u001b[0m\u001b[0m\n\u001b[0;32m-> 1163\u001b[0;31m                         \u001b[0;32mraise\u001b[0m \u001b[0mValueError\u001b[0m\u001b[0;34m(\u001b[0m\u001b[0merr_msg\u001b[0m\u001b[0;34m)\u001b[0m\u001b[0;34m\u001b[0m\u001b[0;34m\u001b[0m\u001b[0m\n\u001b[0m\u001b[1;32m   1164\u001b[0m                 \u001b[0;32melif\u001b[0m \u001b[0mlength\u001b[0m \u001b[0;32mand\u001b[0m \u001b[0mlen\u001b[0m\u001b[0;34m(\u001b[0m\u001b[0mdf_input\u001b[0m\u001b[0;34m[\u001b[0m\u001b[0margument\u001b[0m\u001b[0;34m]\u001b[0m\u001b[0;34m)\u001b[0m \u001b[0;34m!=\u001b[0m \u001b[0mlength\u001b[0m\u001b[0;34m:\u001b[0m\u001b[0;34m\u001b[0m\u001b[0;34m\u001b[0m\u001b[0m\n\u001b[1;32m   1165\u001b[0m                     raise ValueError(\n",
      "\u001b[0;31mValueError\u001b[0m: Value of 'x' is not the name of a column in 'data_frame'. Expected one of ['Real', 'Projetado', 'Predito', 'Volume'] but received: RelacaoAguaCimento"
     ]
    }
   ],
   "source": [
    "fig = px.scatter(df, x=\"RelacaoAguaCimento\", y=\"Rompimento28Dias\", title='Rompimento7Dias x Rompimento 28 Dias')\n",
    "fig.show()"
   ]
  },
  {
   "cell_type": "code",
   "execution_count": 372,
   "metadata": {},
   "outputs": [
    {
     "ename": "NameError",
     "evalue": "name 'CodigoReceita' is not defined",
     "output_type": "error",
     "traceback": [
      "\u001b[0;31m---------------------------------------------------------------------------\u001b[0m",
      "\u001b[0;31mNameError\u001b[0m                                 Traceback (most recent call last)",
      "\u001b[0;32m<ipython-input-372-820186ab0443>\u001b[0m in \u001b[0;36m<module>\u001b[0;34m\u001b[0m\n\u001b[0;32m----> 1\u001b[0;31m \u001b[0mCodigoReceita\u001b[0m \u001b[0;34m-\u001b[0m \u001b[0mindefinido\u001b[0m\u001b[0;34m\u001b[0m\u001b[0;34m\u001b[0m\u001b[0m\n\u001b[0m\u001b[1;32m      2\u001b[0m \u001b[0mVolume\u001b[0m \u001b[0;34m-\u001b[0m \u001b[0mnão\u001b[0m\u001b[0;34m\u001b[0m\u001b[0;34m\u001b[0m\u001b[0m\n\u001b[1;32m      3\u001b[0m \u001b[0mTipoLancamento\u001b[0m \u001b[0;34m-\u001b[0m \u001b[0mnão\u001b[0m\u001b[0;34m\u001b[0m\u001b[0;34m\u001b[0m\u001b[0m\n\u001b[1;32m      4\u001b[0m \u001b[0mCodigoCliente\u001b[0m \u001b[0;34m-\u001b[0m \u001b[0mnão\u001b[0m\u001b[0;34m\u001b[0m\u001b[0;34m\u001b[0m\u001b[0m\n\u001b[1;32m      5\u001b[0m \u001b[0mCodigoMotorista\u001b[0m \u001b[0;34m-\u001b[0m \u001b[0mnão\u001b[0m\u001b[0;34m\u001b[0m\u001b[0;34m\u001b[0m\u001b[0m\n",
      "\u001b[0;31mNameError\u001b[0m: name 'CodigoReceita' is not defined"
     ]
    }
   ],
   "source": [
    "CodigoReceita - indefinido\n",
    "Volume - não\n",
    "TipoLancamento - não\n",
    "CodigoCliente - não\n",
    "CodigoMotorista - não\n",
    "TempoPermanenciaObra - indefinido\n",
    "ConsumoTotal - não\n",
    "TipoTraco - sim\n",
    "Rompimento7Dias - sim\n",
    "ConsumoPorM3 - sim\n",
    "DesvioAplicado - sim\n",
    "RelacaoAguaCimento - sim\n"
   ]
  },
  {
   "cell_type": "code",
   "execution_count": 373,
   "metadata": {},
   "outputs": [
    {
     "ename": "SyntaxError",
     "evalue": "invalid syntax (<ipython-input-373-c3d40928f3c6>, line 1)",
     "output_type": "error",
     "traceback": [
      "\u001b[0;36m  File \u001b[0;32m\"<ipython-input-373-c3d40928f3c6>\"\u001b[0;36m, line \u001b[0;32m1\u001b[0m\n\u001b[0;31m    CodigoReceita\tVolume\tTipoLancamento\tDataEmissaoNotaFiscal\tCodigoCliente\tCodigoMotorista\tTempoPermanenciaObra\tConsumoTotal\tIdade\tTipoTraco\t...\tRompimento7Dias\tRompimento28Dias\tConsumoPorM3\tDesvioAplicado\tResultadoProjetado\tPercentualCrescimentoReal\tPercentualCrescimentoProjetado\tRelacaoAguaCimento\tDataProjecao\tLogRompimento7Dias\u001b[0m\n\u001b[0m                 \t^\u001b[0m\n\u001b[0;31mSyntaxError\u001b[0m\u001b[0;31m:\u001b[0m invalid syntax\n"
     ]
    }
   ],
   "source": [
    "CodigoReceita\tVolume\tTipoLancamento\tDataEmissaoNotaFiscal\tCodigoCliente\tCodigoMotorista\tTempoPermanenciaObra\tConsumoTotal\tIdade\tTipoTraco\t...\tRompimento7Dias\tRompimento28Dias\tConsumoPorM3\tDesvioAplicado\tResultadoProjetado\tPercentualCrescimentoReal\tPercentualCrescimentoProjetado\tRelacaoAguaCimento\tDataProjecao\tLogRompimento7Dias"
   ]
  },
  {
   "cell_type": "code",
   "execution_count": 374,
   "metadata": {},
   "outputs": [
    {
     "data": {
      "text/html": [
       "<div>\n",
       "<style scoped>\n",
       "    .dataframe tbody tr th:only-of-type {\n",
       "        vertical-align: middle;\n",
       "    }\n",
       "\n",
       "    .dataframe tbody tr th {\n",
       "        vertical-align: top;\n",
       "    }\n",
       "\n",
       "    .dataframe thead th {\n",
       "        text-align: right;\n",
       "    }\n",
       "</style>\n",
       "<table border=\"1\" class=\"dataframe\">\n",
       "  <thead>\n",
       "    <tr style=\"text-align: right;\">\n",
       "      <th></th>\n",
       "      <th>CodigoNotaFiscal</th>\n",
       "      <th>CodigoCentroSaida</th>\n",
       "      <th>CodigoReceita</th>\n",
       "      <th>Volume</th>\n",
       "      <th>TipoLancamento</th>\n",
       "      <th>CodigoCliente</th>\n",
       "      <th>CodigoMotorista</th>\n",
       "      <th>QuantidadeAgua</th>\n",
       "      <th>ConsumoTotal</th>\n",
       "      <th>Idade</th>\n",
       "      <th>TipoTraco</th>\n",
       "      <th>CodigoAglomerante</th>\n",
       "      <th>FCK</th>\n",
       "      <th>Rompimento7Dias</th>\n",
       "      <th>Rompimento28Dias</th>\n",
       "      <th>ConsumoPorM3</th>\n",
       "      <th>DesvioAplicado</th>\n",
       "      <th>ResultadoEsperado</th>\n",
       "      <th>ResultadoProjetado</th>\n",
       "      <th>PercentualCrescimentoReal</th>\n",
       "      <th>PercentualCrescimentoProjetado</th>\n",
       "      <th>RelacaoAguaCimento</th>\n",
       "      <th>QuantidadeAguaM3</th>\n",
       "      <th>LogRompimento7Dias</th>\n",
       "      <th>DeltaDesvio</th>\n",
       "    </tr>\n",
       "  </thead>\n",
       "  <tbody>\n",
       "    <tr>\n",
       "      <th>count</th>\n",
       "      <td>16.0000</td>\n",
       "      <td>16.0</td>\n",
       "      <td>1.600000e+01</td>\n",
       "      <td>16.000000</td>\n",
       "      <td>16.000000</td>\n",
       "      <td>1.600000e+01</td>\n",
       "      <td>16.000000</td>\n",
       "      <td>16.000000</td>\n",
       "      <td>16.000000</td>\n",
       "      <td>16.0</td>\n",
       "      <td>16.000000</td>\n",
       "      <td>16.0</td>\n",
       "      <td>16.000000</td>\n",
       "      <td>16.000000</td>\n",
       "      <td>16.000000</td>\n",
       "      <td>16.000000</td>\n",
       "      <td>16.000000</td>\n",
       "      <td>16.000000</td>\n",
       "      <td>16.000000</td>\n",
       "      <td>16.000000</td>\n",
       "      <td>16.000000</td>\n",
       "      <td>16.000000</td>\n",
       "      <td>16.000000</td>\n",
       "      <td>16.000000</td>\n",
       "      <td>16.0</td>\n",
       "    </tr>\n",
       "    <tr>\n",
       "      <th>mean</th>\n",
       "      <td>472134.1250</td>\n",
       "      <td>51020.0</td>\n",
       "      <td>3.458005e+07</td>\n",
       "      <td>6.968750</td>\n",
       "      <td>0.812500</td>\n",
       "      <td>1.222726e+08</td>\n",
       "      <td>320063.250000</td>\n",
       "      <td>1188.625000</td>\n",
       "      <td>2360.562500</td>\n",
       "      <td>28.0</td>\n",
       "      <td>0.312500</td>\n",
       "      <td>75051.0</td>\n",
       "      <td>25.937500</td>\n",
       "      <td>29.243125</td>\n",
       "      <td>35.367500</td>\n",
       "      <td>338.312500</td>\n",
       "      <td>6.625000</td>\n",
       "      <td>49.047050</td>\n",
       "      <td>32.939433</td>\n",
       "      <td>21.914655</td>\n",
       "      <td>13.159446</td>\n",
       "      <td>0.506471</td>\n",
       "      <td>170.443182</td>\n",
       "      <td>3.367415</td>\n",
       "      <td>0.0</td>\n",
       "    </tr>\n",
       "    <tr>\n",
       "      <th>std</th>\n",
       "      <td>127.8003</td>\n",
       "      <td>0.0</td>\n",
       "      <td>1.526569e+05</td>\n",
       "      <td>0.939304</td>\n",
       "      <td>0.403113</td>\n",
       "      <td>1.098777e+08</td>\n",
       "      <td>289787.912686</td>\n",
       "      <td>199.293042</td>\n",
       "      <td>444.241671</td>\n",
       "      <td>0.0</td>\n",
       "      <td>0.478714</td>\n",
       "      <td>0.0</td>\n",
       "      <td>4.170831</td>\n",
       "      <td>3.804444</td>\n",
       "      <td>2.995304</td>\n",
       "      <td>45.914005</td>\n",
       "      <td>0.957427</td>\n",
       "      <td>3.184832</td>\n",
       "      <td>3.107224</td>\n",
       "      <td>10.216179</td>\n",
       "      <td>4.268464</td>\n",
       "      <td>0.037046</td>\n",
       "      <td>18.559082</td>\n",
       "      <td>0.133808</td>\n",
       "      <td>0.0</td>\n",
       "    </tr>\n",
       "    <tr>\n",
       "      <th>min</th>\n",
       "      <td>471943.0000</td>\n",
       "      <td>51020.0</td>\n",
       "      <td>3.440805e+07</td>\n",
       "      <td>5.000000</td>\n",
       "      <td>0.000000</td>\n",
       "      <td>1.629051e+06</td>\n",
       "      <td>49079.000000</td>\n",
       "      <td>776.000000</td>\n",
       "      <td>1496.000000</td>\n",
       "      <td>28.0</td>\n",
       "      <td>0.000000</td>\n",
       "      <td>75051.0</td>\n",
       "      <td>20.000000</td>\n",
       "      <td>22.520000</td>\n",
       "      <td>30.400000</td>\n",
       "      <td>272.000000</td>\n",
       "      <td>6.000000</td>\n",
       "      <td>41.439304</td>\n",
       "      <td>27.301113</td>\n",
       "      <td>4.990077</td>\n",
       "      <td>6.919255</td>\n",
       "      <td>0.471698</td>\n",
       "      <td>141.090909</td>\n",
       "      <td>3.114404</td>\n",
       "      <td>0.0</td>\n",
       "    </tr>\n",
       "    <tr>\n",
       "      <th>25%</th>\n",
       "      <td>472010.7500</td>\n",
       "      <td>51020.0</td>\n",
       "      <td>3.440805e+07</td>\n",
       "      <td>6.750000</td>\n",
       "      <td>1.000000</td>\n",
       "      <td>1.917051e+06</td>\n",
       "      <td>87079.000000</td>\n",
       "      <td>1131.000000</td>\n",
       "      <td>2044.000000</td>\n",
       "      <td>28.0</td>\n",
       "      <td>0.000000</td>\n",
       "      <td>75051.0</td>\n",
       "      <td>23.750000</td>\n",
       "      <td>27.117500</td>\n",
       "      <td>33.657500</td>\n",
       "      <td>311.500000</td>\n",
       "      <td>6.000000</td>\n",
       "      <td>49.111197</td>\n",
       "      <td>31.264751</td>\n",
       "      <td>14.009438</td>\n",
       "      <td>9.663129</td>\n",
       "      <td>0.482500</td>\n",
       "      <td>161.000000</td>\n",
       "      <td>3.299842</td>\n",
       "      <td>0.0</td>\n",
       "    </tr>\n",
       "    <tr>\n",
       "      <th>50%</th>\n",
       "      <td>472164.0000</td>\n",
       "      <td>51020.0</td>\n",
       "      <td>3.464205e+07</td>\n",
       "      <td>7.000000</td>\n",
       "      <td>1.000000</td>\n",
       "      <td>1.795055e+08</td>\n",
       "      <td>222051.000000</td>\n",
       "      <td>1288.000000</td>\n",
       "      <td>2600.000000</td>\n",
       "      <td>28.0</td>\n",
       "      <td>0.000000</td>\n",
       "      <td>75051.0</td>\n",
       "      <td>25.000000</td>\n",
       "      <td>29.500000</td>\n",
       "      <td>34.975000</td>\n",
       "      <td>325.000000</td>\n",
       "      <td>6.000000</td>\n",
       "      <td>49.962419</td>\n",
       "      <td>33.222291</td>\n",
       "      <td>21.960510</td>\n",
       "      <td>12.617967</td>\n",
       "      <td>0.495385</td>\n",
       "      <td>161.000000</td>\n",
       "      <td>3.384390</td>\n",
       "      <td>0.0</td>\n",
       "    </tr>\n",
       "    <tr>\n",
       "      <th>75%</th>\n",
       "      <td>472235.0000</td>\n",
       "      <td>51020.0</td>\n",
       "      <td>3.464555e+07</td>\n",
       "      <td>8.000000</td>\n",
       "      <td>1.000000</td>\n",
       "      <td>2.227860e+08</td>\n",
       "      <td>624051.000000</td>\n",
       "      <td>1303.750000</td>\n",
       "      <td>2650.000000</td>\n",
       "      <td>28.0</td>\n",
       "      <td>1.000000</td>\n",
       "      <td>75051.0</td>\n",
       "      <td>30.000000</td>\n",
       "      <td>32.365000</td>\n",
       "      <td>37.675000</td>\n",
       "      <td>400.000000</td>\n",
       "      <td>8.000000</td>\n",
       "      <td>51.174910</td>\n",
       "      <td>35.491237</td>\n",
       "      <td>26.400335</td>\n",
       "      <td>15.315040</td>\n",
       "      <td>0.504679</td>\n",
       "      <td>193.000000</td>\n",
       "      <td>3.477018</td>\n",
       "      <td>0.0</td>\n",
       "    </tr>\n",
       "    <tr>\n",
       "      <th>max</th>\n",
       "      <td>472301.0000</td>\n",
       "      <td>51020.0</td>\n",
       "      <td>3.490705e+07</td>\n",
       "      <td>8.000000</td>\n",
       "      <td>1.000000</td>\n",
       "      <td>2.273830e+08</td>\n",
       "      <td>911051.000000</td>\n",
       "      <td>1400.000000</td>\n",
       "      <td>2800.000000</td>\n",
       "      <td>28.0</td>\n",
       "      <td>1.000000</td>\n",
       "      <td>75051.0</td>\n",
       "      <td>30.000000</td>\n",
       "      <td>35.270000</td>\n",
       "      <td>40.000000</td>\n",
       "      <td>400.000000</td>\n",
       "      <td>8.000000</td>\n",
       "      <td>52.214053</td>\n",
       "      <td>37.710421</td>\n",
       "      <td>47.625160</td>\n",
       "      <td>21.230519</td>\n",
       "      <td>0.595890</td>\n",
       "      <td>200.000000</td>\n",
       "      <td>3.563033</td>\n",
       "      <td>0.0</td>\n",
       "    </tr>\n",
       "  </tbody>\n",
       "</table>\n",
       "</div>"
      ],
      "text/plain": [
       "       CodigoNotaFiscal  CodigoCentroSaida  CodigoReceita     Volume  \\\n",
       "count           16.0000               16.0   1.600000e+01  16.000000   \n",
       "mean        472134.1250            51020.0   3.458005e+07   6.968750   \n",
       "std            127.8003                0.0   1.526569e+05   0.939304   \n",
       "min         471943.0000            51020.0   3.440805e+07   5.000000   \n",
       "25%         472010.7500            51020.0   3.440805e+07   6.750000   \n",
       "50%         472164.0000            51020.0   3.464205e+07   7.000000   \n",
       "75%         472235.0000            51020.0   3.464555e+07   8.000000   \n",
       "max         472301.0000            51020.0   3.490705e+07   8.000000   \n",
       "\n",
       "       TipoLancamento  CodigoCliente  CodigoMotorista  QuantidadeAgua  \\\n",
       "count       16.000000   1.600000e+01        16.000000       16.000000   \n",
       "mean         0.812500   1.222726e+08    320063.250000     1188.625000   \n",
       "std          0.403113   1.098777e+08    289787.912686      199.293042   \n",
       "min          0.000000   1.629051e+06     49079.000000      776.000000   \n",
       "25%          1.000000   1.917051e+06     87079.000000     1131.000000   \n",
       "50%          1.000000   1.795055e+08    222051.000000     1288.000000   \n",
       "75%          1.000000   2.227860e+08    624051.000000     1303.750000   \n",
       "max          1.000000   2.273830e+08    911051.000000     1400.000000   \n",
       "\n",
       "       ConsumoTotal  Idade  TipoTraco  CodigoAglomerante        FCK  \\\n",
       "count     16.000000   16.0  16.000000               16.0  16.000000   \n",
       "mean    2360.562500   28.0   0.312500            75051.0  25.937500   \n",
       "std      444.241671    0.0   0.478714                0.0   4.170831   \n",
       "min     1496.000000   28.0   0.000000            75051.0  20.000000   \n",
       "25%     2044.000000   28.0   0.000000            75051.0  23.750000   \n",
       "50%     2600.000000   28.0   0.000000            75051.0  25.000000   \n",
       "75%     2650.000000   28.0   1.000000            75051.0  30.000000   \n",
       "max     2800.000000   28.0   1.000000            75051.0  30.000000   \n",
       "\n",
       "       Rompimento7Dias  Rompimento28Dias  ConsumoPorM3  DesvioAplicado  \\\n",
       "count        16.000000         16.000000     16.000000       16.000000   \n",
       "mean         29.243125         35.367500    338.312500        6.625000   \n",
       "std           3.804444          2.995304     45.914005        0.957427   \n",
       "min          22.520000         30.400000    272.000000        6.000000   \n",
       "25%          27.117500         33.657500    311.500000        6.000000   \n",
       "50%          29.500000         34.975000    325.000000        6.000000   \n",
       "75%          32.365000         37.675000    400.000000        8.000000   \n",
       "max          35.270000         40.000000    400.000000        8.000000   \n",
       "\n",
       "       ResultadoEsperado  ResultadoProjetado  PercentualCrescimentoReal  \\\n",
       "count          16.000000           16.000000                  16.000000   \n",
       "mean           49.047050           32.939433                  21.914655   \n",
       "std             3.184832            3.107224                  10.216179   \n",
       "min            41.439304           27.301113                   4.990077   \n",
       "25%            49.111197           31.264751                  14.009438   \n",
       "50%            49.962419           33.222291                  21.960510   \n",
       "75%            51.174910           35.491237                  26.400335   \n",
       "max            52.214053           37.710421                  47.625160   \n",
       "\n",
       "       PercentualCrescimentoProjetado  RelacaoAguaCimento  QuantidadeAguaM3  \\\n",
       "count                       16.000000           16.000000         16.000000   \n",
       "mean                        13.159446            0.506471        170.443182   \n",
       "std                          4.268464            0.037046         18.559082   \n",
       "min                          6.919255            0.471698        141.090909   \n",
       "25%                          9.663129            0.482500        161.000000   \n",
       "50%                         12.617967            0.495385        161.000000   \n",
       "75%                         15.315040            0.504679        193.000000   \n",
       "max                         21.230519            0.595890        200.000000   \n",
       "\n",
       "       LogRompimento7Dias  DeltaDesvio  \n",
       "count           16.000000         16.0  \n",
       "mean             3.367415          0.0  \n",
       "std              0.133808          0.0  \n",
       "min              3.114404          0.0  \n",
       "25%              3.299842          0.0  \n",
       "50%              3.384390          0.0  \n",
       "75%              3.477018          0.0  \n",
       "max              3.563033          0.0  "
      ]
     },
     "execution_count": 374,
     "metadata": {},
     "output_type": "execute_result"
    }
   ],
   "source": [
    "indices_teste = x_test.index\n",
    "df_teste = dados_aglomerante.loc[indices_teste]\n",
    "df_teste.describe()"
   ]
  },
  {
   "cell_type": "code",
   "execution_count": 375,
   "metadata": {},
   "outputs": [
    {
     "data": {
      "application/vnd.plotly.v1+json": {
       "config": {
        "plotlyServerURL": "https://plot.ly"
       },
       "data": [
        {
         "hovertemplate": "ConsumoPorM3=%{x}<br>Rompimento7Dias=%{y}<extra></extra>",
         "legendgroup": "",
         "marker": {
          "color": "#636efa",
          "symbol": "circle"
         },
         "mode": "markers",
         "name": "",
         "orientation": "v",
         "showlegend": false,
         "type": "scatter",
         "x": [
          292,
          325,
          325,
          325,
          325,
          272,
          400,
          400,
          325,
          318,
          325,
          292,
          400,
          400,
          400,
          289
         ],
         "xaxis": "x",
         "y": [
          29.47,
          35.27,
          33.79,
          30.51,
          31.04,
          24.76,
          33.14,
          23.37,
          32.98,
          29.53,
          32.16,
          28.36,
          22.52,
          27.52,
          27.56,
          25.91
         ],
         "yaxis": "y"
        }
       ],
       "layout": {
        "legend": {
         "tracegroupgap": 0
        },
        "template": {
         "data": {
          "bar": [
           {
            "error_x": {
             "color": "#2a3f5f"
            },
            "error_y": {
             "color": "#2a3f5f"
            },
            "marker": {
             "line": {
              "color": "#E5ECF6",
              "width": 0.5
             }
            },
            "type": "bar"
           }
          ],
          "barpolar": [
           {
            "marker": {
             "line": {
              "color": "#E5ECF6",
              "width": 0.5
             }
            },
            "type": "barpolar"
           }
          ],
          "carpet": [
           {
            "aaxis": {
             "endlinecolor": "#2a3f5f",
             "gridcolor": "white",
             "linecolor": "white",
             "minorgridcolor": "white",
             "startlinecolor": "#2a3f5f"
            },
            "baxis": {
             "endlinecolor": "#2a3f5f",
             "gridcolor": "white",
             "linecolor": "white",
             "minorgridcolor": "white",
             "startlinecolor": "#2a3f5f"
            },
            "type": "carpet"
           }
          ],
          "choropleth": [
           {
            "colorbar": {
             "outlinewidth": 0,
             "ticks": ""
            },
            "type": "choropleth"
           }
          ],
          "contour": [
           {
            "colorbar": {
             "outlinewidth": 0,
             "ticks": ""
            },
            "colorscale": [
             [
              0,
              "#0d0887"
             ],
             [
              0.1111111111111111,
              "#46039f"
             ],
             [
              0.2222222222222222,
              "#7201a8"
             ],
             [
              0.3333333333333333,
              "#9c179e"
             ],
             [
              0.4444444444444444,
              "#bd3786"
             ],
             [
              0.5555555555555556,
              "#d8576b"
             ],
             [
              0.6666666666666666,
              "#ed7953"
             ],
             [
              0.7777777777777778,
              "#fb9f3a"
             ],
             [
              0.8888888888888888,
              "#fdca26"
             ],
             [
              1,
              "#f0f921"
             ]
            ],
            "type": "contour"
           }
          ],
          "contourcarpet": [
           {
            "colorbar": {
             "outlinewidth": 0,
             "ticks": ""
            },
            "type": "contourcarpet"
           }
          ],
          "heatmap": [
           {
            "colorbar": {
             "outlinewidth": 0,
             "ticks": ""
            },
            "colorscale": [
             [
              0,
              "#0d0887"
             ],
             [
              0.1111111111111111,
              "#46039f"
             ],
             [
              0.2222222222222222,
              "#7201a8"
             ],
             [
              0.3333333333333333,
              "#9c179e"
             ],
             [
              0.4444444444444444,
              "#bd3786"
             ],
             [
              0.5555555555555556,
              "#d8576b"
             ],
             [
              0.6666666666666666,
              "#ed7953"
             ],
             [
              0.7777777777777778,
              "#fb9f3a"
             ],
             [
              0.8888888888888888,
              "#fdca26"
             ],
             [
              1,
              "#f0f921"
             ]
            ],
            "type": "heatmap"
           }
          ],
          "heatmapgl": [
           {
            "colorbar": {
             "outlinewidth": 0,
             "ticks": ""
            },
            "colorscale": [
             [
              0,
              "#0d0887"
             ],
             [
              0.1111111111111111,
              "#46039f"
             ],
             [
              0.2222222222222222,
              "#7201a8"
             ],
             [
              0.3333333333333333,
              "#9c179e"
             ],
             [
              0.4444444444444444,
              "#bd3786"
             ],
             [
              0.5555555555555556,
              "#d8576b"
             ],
             [
              0.6666666666666666,
              "#ed7953"
             ],
             [
              0.7777777777777778,
              "#fb9f3a"
             ],
             [
              0.8888888888888888,
              "#fdca26"
             ],
             [
              1,
              "#f0f921"
             ]
            ],
            "type": "heatmapgl"
           }
          ],
          "histogram": [
           {
            "marker": {
             "colorbar": {
              "outlinewidth": 0,
              "ticks": ""
             }
            },
            "type": "histogram"
           }
          ],
          "histogram2d": [
           {
            "colorbar": {
             "outlinewidth": 0,
             "ticks": ""
            },
            "colorscale": [
             [
              0,
              "#0d0887"
             ],
             [
              0.1111111111111111,
              "#46039f"
             ],
             [
              0.2222222222222222,
              "#7201a8"
             ],
             [
              0.3333333333333333,
              "#9c179e"
             ],
             [
              0.4444444444444444,
              "#bd3786"
             ],
             [
              0.5555555555555556,
              "#d8576b"
             ],
             [
              0.6666666666666666,
              "#ed7953"
             ],
             [
              0.7777777777777778,
              "#fb9f3a"
             ],
             [
              0.8888888888888888,
              "#fdca26"
             ],
             [
              1,
              "#f0f921"
             ]
            ],
            "type": "histogram2d"
           }
          ],
          "histogram2dcontour": [
           {
            "colorbar": {
             "outlinewidth": 0,
             "ticks": ""
            },
            "colorscale": [
             [
              0,
              "#0d0887"
             ],
             [
              0.1111111111111111,
              "#46039f"
             ],
             [
              0.2222222222222222,
              "#7201a8"
             ],
             [
              0.3333333333333333,
              "#9c179e"
             ],
             [
              0.4444444444444444,
              "#bd3786"
             ],
             [
              0.5555555555555556,
              "#d8576b"
             ],
             [
              0.6666666666666666,
              "#ed7953"
             ],
             [
              0.7777777777777778,
              "#fb9f3a"
             ],
             [
              0.8888888888888888,
              "#fdca26"
             ],
             [
              1,
              "#f0f921"
             ]
            ],
            "type": "histogram2dcontour"
           }
          ],
          "mesh3d": [
           {
            "colorbar": {
             "outlinewidth": 0,
             "ticks": ""
            },
            "type": "mesh3d"
           }
          ],
          "parcoords": [
           {
            "line": {
             "colorbar": {
              "outlinewidth": 0,
              "ticks": ""
             }
            },
            "type": "parcoords"
           }
          ],
          "pie": [
           {
            "automargin": true,
            "type": "pie"
           }
          ],
          "scatter": [
           {
            "marker": {
             "colorbar": {
              "outlinewidth": 0,
              "ticks": ""
             }
            },
            "type": "scatter"
           }
          ],
          "scatter3d": [
           {
            "line": {
             "colorbar": {
              "outlinewidth": 0,
              "ticks": ""
             }
            },
            "marker": {
             "colorbar": {
              "outlinewidth": 0,
              "ticks": ""
             }
            },
            "type": "scatter3d"
           }
          ],
          "scattercarpet": [
           {
            "marker": {
             "colorbar": {
              "outlinewidth": 0,
              "ticks": ""
             }
            },
            "type": "scattercarpet"
           }
          ],
          "scattergeo": [
           {
            "marker": {
             "colorbar": {
              "outlinewidth": 0,
              "ticks": ""
             }
            },
            "type": "scattergeo"
           }
          ],
          "scattergl": [
           {
            "marker": {
             "colorbar": {
              "outlinewidth": 0,
              "ticks": ""
             }
            },
            "type": "scattergl"
           }
          ],
          "scattermapbox": [
           {
            "marker": {
             "colorbar": {
              "outlinewidth": 0,
              "ticks": ""
             }
            },
            "type": "scattermapbox"
           }
          ],
          "scatterpolar": [
           {
            "marker": {
             "colorbar": {
              "outlinewidth": 0,
              "ticks": ""
             }
            },
            "type": "scatterpolar"
           }
          ],
          "scatterpolargl": [
           {
            "marker": {
             "colorbar": {
              "outlinewidth": 0,
              "ticks": ""
             }
            },
            "type": "scatterpolargl"
           }
          ],
          "scatterternary": [
           {
            "marker": {
             "colorbar": {
              "outlinewidth": 0,
              "ticks": ""
             }
            },
            "type": "scatterternary"
           }
          ],
          "surface": [
           {
            "colorbar": {
             "outlinewidth": 0,
             "ticks": ""
            },
            "colorscale": [
             [
              0,
              "#0d0887"
             ],
             [
              0.1111111111111111,
              "#46039f"
             ],
             [
              0.2222222222222222,
              "#7201a8"
             ],
             [
              0.3333333333333333,
              "#9c179e"
             ],
             [
              0.4444444444444444,
              "#bd3786"
             ],
             [
              0.5555555555555556,
              "#d8576b"
             ],
             [
              0.6666666666666666,
              "#ed7953"
             ],
             [
              0.7777777777777778,
              "#fb9f3a"
             ],
             [
              0.8888888888888888,
              "#fdca26"
             ],
             [
              1,
              "#f0f921"
             ]
            ],
            "type": "surface"
           }
          ],
          "table": [
           {
            "cells": {
             "fill": {
              "color": "#EBF0F8"
             },
             "line": {
              "color": "white"
             }
            },
            "header": {
             "fill": {
              "color": "#C8D4E3"
             },
             "line": {
              "color": "white"
             }
            },
            "type": "table"
           }
          ]
         },
         "layout": {
          "annotationdefaults": {
           "arrowcolor": "#2a3f5f",
           "arrowhead": 0,
           "arrowwidth": 1
          },
          "autotypenumbers": "strict",
          "coloraxis": {
           "colorbar": {
            "outlinewidth": 0,
            "ticks": ""
           }
          },
          "colorscale": {
           "diverging": [
            [
             0,
             "#8e0152"
            ],
            [
             0.1,
             "#c51b7d"
            ],
            [
             0.2,
             "#de77ae"
            ],
            [
             0.3,
             "#f1b6da"
            ],
            [
             0.4,
             "#fde0ef"
            ],
            [
             0.5,
             "#f7f7f7"
            ],
            [
             0.6,
             "#e6f5d0"
            ],
            [
             0.7,
             "#b8e186"
            ],
            [
             0.8,
             "#7fbc41"
            ],
            [
             0.9,
             "#4d9221"
            ],
            [
             1,
             "#276419"
            ]
           ],
           "sequential": [
            [
             0,
             "#0d0887"
            ],
            [
             0.1111111111111111,
             "#46039f"
            ],
            [
             0.2222222222222222,
             "#7201a8"
            ],
            [
             0.3333333333333333,
             "#9c179e"
            ],
            [
             0.4444444444444444,
             "#bd3786"
            ],
            [
             0.5555555555555556,
             "#d8576b"
            ],
            [
             0.6666666666666666,
             "#ed7953"
            ],
            [
             0.7777777777777778,
             "#fb9f3a"
            ],
            [
             0.8888888888888888,
             "#fdca26"
            ],
            [
             1,
             "#f0f921"
            ]
           ],
           "sequentialminus": [
            [
             0,
             "#0d0887"
            ],
            [
             0.1111111111111111,
             "#46039f"
            ],
            [
             0.2222222222222222,
             "#7201a8"
            ],
            [
             0.3333333333333333,
             "#9c179e"
            ],
            [
             0.4444444444444444,
             "#bd3786"
            ],
            [
             0.5555555555555556,
             "#d8576b"
            ],
            [
             0.6666666666666666,
             "#ed7953"
            ],
            [
             0.7777777777777778,
             "#fb9f3a"
            ],
            [
             0.8888888888888888,
             "#fdca26"
            ],
            [
             1,
             "#f0f921"
            ]
           ]
          },
          "colorway": [
           "#636efa",
           "#EF553B",
           "#00cc96",
           "#ab63fa",
           "#FFA15A",
           "#19d3f3",
           "#FF6692",
           "#B6E880",
           "#FF97FF",
           "#FECB52"
          ],
          "font": {
           "color": "#2a3f5f"
          },
          "geo": {
           "bgcolor": "white",
           "lakecolor": "white",
           "landcolor": "#E5ECF6",
           "showlakes": true,
           "showland": true,
           "subunitcolor": "white"
          },
          "hoverlabel": {
           "align": "left"
          },
          "hovermode": "closest",
          "mapbox": {
           "style": "light"
          },
          "paper_bgcolor": "white",
          "plot_bgcolor": "#E5ECF6",
          "polar": {
           "angularaxis": {
            "gridcolor": "white",
            "linecolor": "white",
            "ticks": ""
           },
           "bgcolor": "#E5ECF6",
           "radialaxis": {
            "gridcolor": "white",
            "linecolor": "white",
            "ticks": ""
           }
          },
          "scene": {
           "xaxis": {
            "backgroundcolor": "#E5ECF6",
            "gridcolor": "white",
            "gridwidth": 2,
            "linecolor": "white",
            "showbackground": true,
            "ticks": "",
            "zerolinecolor": "white"
           },
           "yaxis": {
            "backgroundcolor": "#E5ECF6",
            "gridcolor": "white",
            "gridwidth": 2,
            "linecolor": "white",
            "showbackground": true,
            "ticks": "",
            "zerolinecolor": "white"
           },
           "zaxis": {
            "backgroundcolor": "#E5ECF6",
            "gridcolor": "white",
            "gridwidth": 2,
            "linecolor": "white",
            "showbackground": true,
            "ticks": "",
            "zerolinecolor": "white"
           }
          },
          "shapedefaults": {
           "line": {
            "color": "#2a3f5f"
           }
          },
          "ternary": {
           "aaxis": {
            "gridcolor": "white",
            "linecolor": "white",
            "ticks": ""
           },
           "baxis": {
            "gridcolor": "white",
            "linecolor": "white",
            "ticks": ""
           },
           "bgcolor": "#E5ECF6",
           "caxis": {
            "gridcolor": "white",
            "linecolor": "white",
            "ticks": ""
           }
          },
          "title": {
           "x": 0.05
          },
          "xaxis": {
           "automargin": true,
           "gridcolor": "white",
           "linecolor": "white",
           "ticks": "",
           "title": {
            "standoff": 15
           },
           "zerolinecolor": "white",
           "zerolinewidth": 2
          },
          "yaxis": {
           "automargin": true,
           "gridcolor": "white",
           "linecolor": "white",
           "ticks": "",
           "title": {
            "standoff": 15
           },
           "zerolinecolor": "white",
           "zerolinewidth": 2
          }
         }
        },
        "title": {
         "text": "Rompimento7Dias x Rompimento 28 Dias"
        },
        "xaxis": {
         "anchor": "y",
         "domain": [
          0,
          1
         ],
         "title": {
          "text": "ConsumoPorM3"
         }
        },
        "yaxis": {
         "anchor": "x",
         "domain": [
          0,
          1
         ],
         "title": {
          "text": "Rompimento7Dias"
         }
        }
       }
      },
      "text/html": [
       "<div>                            <div id=\"f99046d5-4d01-4ec2-9296-d1b3197d023a\" class=\"plotly-graph-div\" style=\"height:525px; width:100%;\"></div>            <script type=\"text/javascript\">                require([\"plotly\"], function(Plotly) {                    window.PLOTLYENV=window.PLOTLYENV || {};                                    if (document.getElementById(\"f99046d5-4d01-4ec2-9296-d1b3197d023a\")) {                    Plotly.newPlot(                        \"f99046d5-4d01-4ec2-9296-d1b3197d023a\",                        [{\"hovertemplate\": \"ConsumoPorM3=%{x}<br>Rompimento7Dias=%{y}<extra></extra>\", \"legendgroup\": \"\", \"marker\": {\"color\": \"#636efa\", \"symbol\": \"circle\"}, \"mode\": \"markers\", \"name\": \"\", \"orientation\": \"v\", \"showlegend\": false, \"type\": \"scatter\", \"x\": [292.0, 325.0, 325.0, 325.0, 325.0, 272.0, 400.0, 400.0, 325.0, 318.0, 325.0, 292.0, 400.0, 400.0, 400.0, 289.0], \"xaxis\": \"x\", \"y\": [29.47, 35.27, 33.79, 30.51, 31.04, 24.76, 33.14, 23.37, 32.98, 29.53, 32.16, 28.36, 22.52, 27.52, 27.56, 25.91], \"yaxis\": \"y\"}],                        {\"legend\": {\"tracegroupgap\": 0}, \"template\": {\"data\": {\"bar\": [{\"error_x\": {\"color\": \"#2a3f5f\"}, \"error_y\": {\"color\": \"#2a3f5f\"}, \"marker\": {\"line\": {\"color\": \"#E5ECF6\", \"width\": 0.5}}, \"type\": \"bar\"}], \"barpolar\": [{\"marker\": {\"line\": {\"color\": \"#E5ECF6\", \"width\": 0.5}}, \"type\": \"barpolar\"}], \"carpet\": [{\"aaxis\": {\"endlinecolor\": \"#2a3f5f\", \"gridcolor\": \"white\", \"linecolor\": \"white\", \"minorgridcolor\": \"white\", \"startlinecolor\": \"#2a3f5f\"}, \"baxis\": {\"endlinecolor\": \"#2a3f5f\", \"gridcolor\": \"white\", \"linecolor\": \"white\", \"minorgridcolor\": \"white\", \"startlinecolor\": \"#2a3f5f\"}, \"type\": \"carpet\"}], \"choropleth\": [{\"colorbar\": {\"outlinewidth\": 0, \"ticks\": \"\"}, \"type\": \"choropleth\"}], \"contour\": [{\"colorbar\": {\"outlinewidth\": 0, \"ticks\": \"\"}, \"colorscale\": [[0.0, \"#0d0887\"], [0.1111111111111111, \"#46039f\"], [0.2222222222222222, \"#7201a8\"], [0.3333333333333333, \"#9c179e\"], [0.4444444444444444, \"#bd3786\"], [0.5555555555555556, \"#d8576b\"], [0.6666666666666666, \"#ed7953\"], [0.7777777777777778, \"#fb9f3a\"], [0.8888888888888888, \"#fdca26\"], [1.0, \"#f0f921\"]], \"type\": \"contour\"}], \"contourcarpet\": [{\"colorbar\": {\"outlinewidth\": 0, \"ticks\": \"\"}, \"type\": \"contourcarpet\"}], \"heatmap\": [{\"colorbar\": {\"outlinewidth\": 0, \"ticks\": \"\"}, \"colorscale\": [[0.0, \"#0d0887\"], [0.1111111111111111, \"#46039f\"], [0.2222222222222222, \"#7201a8\"], [0.3333333333333333, \"#9c179e\"], [0.4444444444444444, \"#bd3786\"], [0.5555555555555556, \"#d8576b\"], [0.6666666666666666, \"#ed7953\"], [0.7777777777777778, \"#fb9f3a\"], [0.8888888888888888, \"#fdca26\"], [1.0, \"#f0f921\"]], \"type\": \"heatmap\"}], \"heatmapgl\": [{\"colorbar\": {\"outlinewidth\": 0, \"ticks\": \"\"}, \"colorscale\": [[0.0, \"#0d0887\"], [0.1111111111111111, \"#46039f\"], [0.2222222222222222, \"#7201a8\"], [0.3333333333333333, \"#9c179e\"], [0.4444444444444444, \"#bd3786\"], [0.5555555555555556, \"#d8576b\"], [0.6666666666666666, \"#ed7953\"], [0.7777777777777778, \"#fb9f3a\"], [0.8888888888888888, \"#fdca26\"], [1.0, \"#f0f921\"]], \"type\": \"heatmapgl\"}], \"histogram\": [{\"marker\": {\"colorbar\": {\"outlinewidth\": 0, \"ticks\": \"\"}}, \"type\": \"histogram\"}], \"histogram2d\": [{\"colorbar\": {\"outlinewidth\": 0, \"ticks\": \"\"}, \"colorscale\": [[0.0, \"#0d0887\"], [0.1111111111111111, \"#46039f\"], [0.2222222222222222, \"#7201a8\"], [0.3333333333333333, \"#9c179e\"], [0.4444444444444444, \"#bd3786\"], [0.5555555555555556, \"#d8576b\"], [0.6666666666666666, \"#ed7953\"], [0.7777777777777778, \"#fb9f3a\"], [0.8888888888888888, \"#fdca26\"], [1.0, \"#f0f921\"]], \"type\": \"histogram2d\"}], \"histogram2dcontour\": [{\"colorbar\": {\"outlinewidth\": 0, \"ticks\": \"\"}, \"colorscale\": [[0.0, \"#0d0887\"], [0.1111111111111111, \"#46039f\"], [0.2222222222222222, \"#7201a8\"], [0.3333333333333333, \"#9c179e\"], [0.4444444444444444, \"#bd3786\"], [0.5555555555555556, \"#d8576b\"], [0.6666666666666666, \"#ed7953\"], [0.7777777777777778, \"#fb9f3a\"], [0.8888888888888888, \"#fdca26\"], [1.0, \"#f0f921\"]], \"type\": \"histogram2dcontour\"}], \"mesh3d\": [{\"colorbar\": {\"outlinewidth\": 0, \"ticks\": \"\"}, \"type\": \"mesh3d\"}], \"parcoords\": [{\"line\": {\"colorbar\": {\"outlinewidth\": 0, \"ticks\": \"\"}}, \"type\": \"parcoords\"}], \"pie\": [{\"automargin\": true, \"type\": \"pie\"}], \"scatter\": [{\"marker\": {\"colorbar\": {\"outlinewidth\": 0, \"ticks\": \"\"}}, \"type\": \"scatter\"}], \"scatter3d\": [{\"line\": {\"colorbar\": {\"outlinewidth\": 0, \"ticks\": \"\"}}, \"marker\": {\"colorbar\": {\"outlinewidth\": 0, \"ticks\": \"\"}}, \"type\": \"scatter3d\"}], \"scattercarpet\": [{\"marker\": {\"colorbar\": {\"outlinewidth\": 0, \"ticks\": \"\"}}, \"type\": \"scattercarpet\"}], \"scattergeo\": [{\"marker\": {\"colorbar\": {\"outlinewidth\": 0, \"ticks\": \"\"}}, \"type\": \"scattergeo\"}], \"scattergl\": [{\"marker\": {\"colorbar\": {\"outlinewidth\": 0, \"ticks\": \"\"}}, \"type\": \"scattergl\"}], \"scattermapbox\": [{\"marker\": {\"colorbar\": {\"outlinewidth\": 0, \"ticks\": \"\"}}, \"type\": \"scattermapbox\"}], \"scatterpolar\": [{\"marker\": {\"colorbar\": {\"outlinewidth\": 0, \"ticks\": \"\"}}, \"type\": \"scatterpolar\"}], \"scatterpolargl\": [{\"marker\": {\"colorbar\": {\"outlinewidth\": 0, \"ticks\": \"\"}}, \"type\": \"scatterpolargl\"}], \"scatterternary\": [{\"marker\": {\"colorbar\": {\"outlinewidth\": 0, \"ticks\": \"\"}}, \"type\": \"scatterternary\"}], \"surface\": [{\"colorbar\": {\"outlinewidth\": 0, \"ticks\": \"\"}, \"colorscale\": [[0.0, \"#0d0887\"], [0.1111111111111111, \"#46039f\"], [0.2222222222222222, \"#7201a8\"], [0.3333333333333333, \"#9c179e\"], [0.4444444444444444, \"#bd3786\"], [0.5555555555555556, \"#d8576b\"], [0.6666666666666666, \"#ed7953\"], [0.7777777777777778, \"#fb9f3a\"], [0.8888888888888888, \"#fdca26\"], [1.0, \"#f0f921\"]], \"type\": \"surface\"}], \"table\": [{\"cells\": {\"fill\": {\"color\": \"#EBF0F8\"}, \"line\": {\"color\": \"white\"}}, \"header\": {\"fill\": {\"color\": \"#C8D4E3\"}, \"line\": {\"color\": \"white\"}}, \"type\": \"table\"}]}, \"layout\": {\"annotationdefaults\": {\"arrowcolor\": \"#2a3f5f\", \"arrowhead\": 0, \"arrowwidth\": 1}, \"autotypenumbers\": \"strict\", \"coloraxis\": {\"colorbar\": {\"outlinewidth\": 0, \"ticks\": \"\"}}, \"colorscale\": {\"diverging\": [[0, \"#8e0152\"], [0.1, \"#c51b7d\"], [0.2, \"#de77ae\"], [0.3, \"#f1b6da\"], [0.4, \"#fde0ef\"], [0.5, \"#f7f7f7\"], [0.6, \"#e6f5d0\"], [0.7, \"#b8e186\"], [0.8, \"#7fbc41\"], [0.9, \"#4d9221\"], [1, \"#276419\"]], \"sequential\": [[0.0, \"#0d0887\"], [0.1111111111111111, \"#46039f\"], [0.2222222222222222, \"#7201a8\"], [0.3333333333333333, \"#9c179e\"], [0.4444444444444444, \"#bd3786\"], [0.5555555555555556, \"#d8576b\"], [0.6666666666666666, \"#ed7953\"], [0.7777777777777778, \"#fb9f3a\"], [0.8888888888888888, \"#fdca26\"], [1.0, \"#f0f921\"]], \"sequentialminus\": [[0.0, \"#0d0887\"], [0.1111111111111111, \"#46039f\"], [0.2222222222222222, \"#7201a8\"], [0.3333333333333333, \"#9c179e\"], [0.4444444444444444, \"#bd3786\"], [0.5555555555555556, \"#d8576b\"], [0.6666666666666666, \"#ed7953\"], [0.7777777777777778, \"#fb9f3a\"], [0.8888888888888888, \"#fdca26\"], [1.0, \"#f0f921\"]]}, \"colorway\": [\"#636efa\", \"#EF553B\", \"#00cc96\", \"#ab63fa\", \"#FFA15A\", \"#19d3f3\", \"#FF6692\", \"#B6E880\", \"#FF97FF\", \"#FECB52\"], \"font\": {\"color\": \"#2a3f5f\"}, \"geo\": {\"bgcolor\": \"white\", \"lakecolor\": \"white\", \"landcolor\": \"#E5ECF6\", \"showlakes\": true, \"showland\": true, \"subunitcolor\": \"white\"}, \"hoverlabel\": {\"align\": \"left\"}, \"hovermode\": \"closest\", \"mapbox\": {\"style\": \"light\"}, \"paper_bgcolor\": \"white\", \"plot_bgcolor\": \"#E5ECF6\", \"polar\": {\"angularaxis\": {\"gridcolor\": \"white\", \"linecolor\": \"white\", \"ticks\": \"\"}, \"bgcolor\": \"#E5ECF6\", \"radialaxis\": {\"gridcolor\": \"white\", \"linecolor\": \"white\", \"ticks\": \"\"}}, \"scene\": {\"xaxis\": {\"backgroundcolor\": \"#E5ECF6\", \"gridcolor\": \"white\", \"gridwidth\": 2, \"linecolor\": \"white\", \"showbackground\": true, \"ticks\": \"\", \"zerolinecolor\": \"white\"}, \"yaxis\": {\"backgroundcolor\": \"#E5ECF6\", \"gridcolor\": \"white\", \"gridwidth\": 2, \"linecolor\": \"white\", \"showbackground\": true, \"ticks\": \"\", \"zerolinecolor\": \"white\"}, \"zaxis\": {\"backgroundcolor\": \"#E5ECF6\", \"gridcolor\": \"white\", \"gridwidth\": 2, \"linecolor\": \"white\", \"showbackground\": true, \"ticks\": \"\", \"zerolinecolor\": \"white\"}}, \"shapedefaults\": {\"line\": {\"color\": \"#2a3f5f\"}}, \"ternary\": {\"aaxis\": {\"gridcolor\": \"white\", \"linecolor\": \"white\", \"ticks\": \"\"}, \"baxis\": {\"gridcolor\": \"white\", \"linecolor\": \"white\", \"ticks\": \"\"}, \"bgcolor\": \"#E5ECF6\", \"caxis\": {\"gridcolor\": \"white\", \"linecolor\": \"white\", \"ticks\": \"\"}}, \"title\": {\"x\": 0.05}, \"xaxis\": {\"automargin\": true, \"gridcolor\": \"white\", \"linecolor\": \"white\", \"ticks\": \"\", \"title\": {\"standoff\": 15}, \"zerolinecolor\": \"white\", \"zerolinewidth\": 2}, \"yaxis\": {\"automargin\": true, \"gridcolor\": \"white\", \"linecolor\": \"white\", \"ticks\": \"\", \"title\": {\"standoff\": 15}, \"zerolinecolor\": \"white\", \"zerolinewidth\": 2}}}, \"title\": {\"text\": \"Rompimento7Dias x Rompimento 28 Dias\"}, \"xaxis\": {\"anchor\": \"y\", \"domain\": [0.0, 1.0], \"title\": {\"text\": \"ConsumoPorM3\"}}, \"yaxis\": {\"anchor\": \"x\", \"domain\": [0.0, 1.0], \"title\": {\"text\": \"Rompimento7Dias\"}}},                        {\"responsive\": true}                    ).then(function(){\n",
       "                            \n",
       "var gd = document.getElementById('f99046d5-4d01-4ec2-9296-d1b3197d023a');\n",
       "var x = new MutationObserver(function (mutations, observer) {{\n",
       "        var display = window.getComputedStyle(gd).display;\n",
       "        if (!display || display === 'none') {{\n",
       "            console.log([gd, 'removed!']);\n",
       "            Plotly.purge(gd);\n",
       "            observer.disconnect();\n",
       "        }}\n",
       "}});\n",
       "\n",
       "// Listen for the removal of the full notebook cells\n",
       "var notebookContainer = gd.closest('#notebook-container');\n",
       "if (notebookContainer) {{\n",
       "    x.observe(notebookContainer, {childList: true});\n",
       "}}\n",
       "\n",
       "// Listen for the clearing of the current output cell\n",
       "var outputEl = gd.closest('.output');\n",
       "if (outputEl) {{\n",
       "    x.observe(outputEl, {childList: true});\n",
       "}}\n",
       "\n",
       "                        })                };                });            </script>        </div>"
      ]
     },
     "metadata": {},
     "output_type": "display_data"
    }
   ],
   "source": [
    "fig = px.scatter(df_teste, x=\"ConsumoPorM3\", y=\"Rompimento7Dias\", title='Rompimento7Dias x Rompimento 28 Dias')\n",
    "fig.show()"
   ]
  },
  {
   "cell_type": "code",
   "execution_count": 376,
   "metadata": {},
   "outputs": [
    {
     "data": {
      "text/plain": [
       "40.6941076728073"
      ]
     },
     "execution_count": 376,
     "metadata": {},
     "output_type": "execute_result"
    }
   ],
   "source": [
    "df[\"ErroProjetado\"].sum()"
   ]
  },
  {
   "cell_type": "code",
   "execution_count": 377,
   "metadata": {},
   "outputs": [
    {
     "data": {
      "text/plain": [
       "31.43513927674328"
      ]
     },
     "execution_count": 377,
     "metadata": {},
     "output_type": "execute_result"
    }
   ],
   "source": [
    "df[\"ErroPredito\"].sum()"
   ]
  },
  {
   "cell_type": "code",
   "execution_count": 378,
   "metadata": {},
   "outputs": [
    {
     "data": {
      "text/plain": [
       "0.75"
      ]
     },
     "execution_count": 378,
     "metadata": {},
     "output_type": "execute_result"
    }
   ],
   "source": [
    "mask_modelo_predito_melhor = df[\"ErroPredito\"] < df[\"ErroProjetado\"]\n",
    "quantidade_nf_modelo_eh_melhor = len(df[mask_modelo_predito_melhor])\n",
    "quantidade_total = len(df)\n",
    "\n",
    "quantidade_nf_modelo_eh_melhor/quantidade_total"
   ]
  },
  {
   "cell_type": "code",
   "execution_count": 356,
   "metadata": {},
   "outputs": [
    {
     "data": {
      "text/html": [
       "<div>\n",
       "<style scoped>\n",
       "    .dataframe tbody tr th:only-of-type {\n",
       "        vertical-align: middle;\n",
       "    }\n",
       "\n",
       "    .dataframe tbody tr th {\n",
       "        vertical-align: top;\n",
       "    }\n",
       "\n",
       "    .dataframe thead th {\n",
       "        text-align: right;\n",
       "    }\n",
       "</style>\n",
       "<table border=\"1\" class=\"dataframe\">\n",
       "  <thead>\n",
       "    <tr style=\"text-align: right;\">\n",
       "      <th></th>\n",
       "      <th>Rompimento28Dias</th>\n",
       "      <th>ResultadoProjetado</th>\n",
       "      <th>ResultadoPredito</th>\n",
       "      <th>ErroProjetado</th>\n",
       "      <th>ErroPredito</th>\n",
       "    </tr>\n",
       "  </thead>\n",
       "  <tbody>\n",
       "    <tr>\n",
       "      <th>count</th>\n",
       "      <td>12.000000</td>\n",
       "      <td>12.000000</td>\n",
       "      <td>12.000000</td>\n",
       "      <td>12.000000</td>\n",
       "      <td>12.000000</td>\n",
       "    </tr>\n",
       "    <tr>\n",
       "      <th>mean</th>\n",
       "      <td>38.881667</td>\n",
       "      <td>34.667369</td>\n",
       "      <td>38.648120</td>\n",
       "      <td>4.251902</td>\n",
       "      <td>2.896362</td>\n",
       "    </tr>\n",
       "    <tr>\n",
       "      <th>std</th>\n",
       "      <td>4.662506</td>\n",
       "      <td>3.351568</td>\n",
       "      <td>4.311781</td>\n",
       "      <td>2.681670</td>\n",
       "      <td>2.166720</td>\n",
       "    </tr>\n",
       "    <tr>\n",
       "      <th>min</th>\n",
       "      <td>29.670000</td>\n",
       "      <td>27.424990</td>\n",
       "      <td>29.755423</td>\n",
       "      <td>0.225621</td>\n",
       "      <td>0.085423</td>\n",
       "    </tr>\n",
       "    <tr>\n",
       "      <th>25%</th>\n",
       "      <td>36.542500</td>\n",
       "      <td>33.494563</td>\n",
       "      <td>37.768225</td>\n",
       "      <td>2.370571</td>\n",
       "      <td>0.712938</td>\n",
       "    </tr>\n",
       "    <tr>\n",
       "      <th>50%</th>\n",
       "      <td>39.355000</td>\n",
       "      <td>35.438562</td>\n",
       "      <td>39.246376</td>\n",
       "      <td>4.197541</td>\n",
       "      <td>3.125931</td>\n",
       "    </tr>\n",
       "    <tr>\n",
       "      <th>75%</th>\n",
       "      <td>42.497500</td>\n",
       "      <td>36.436398</td>\n",
       "      <td>40.540747</td>\n",
       "      <td>6.410643</td>\n",
       "      <td>4.301775</td>\n",
       "    </tr>\n",
       "    <tr>\n",
       "      <th>max</th>\n",
       "      <td>45.710000</td>\n",
       "      <td>39.937841</td>\n",
       "      <td>43.845488</td>\n",
       "      <td>8.771675</td>\n",
       "      <td>6.605488</td>\n",
       "    </tr>\n",
       "  </tbody>\n",
       "</table>\n",
       "</div>"
      ],
      "text/plain": [
       "       Rompimento28Dias  ResultadoProjetado  ResultadoPredito  ErroProjetado  \\\n",
       "count         12.000000           12.000000         12.000000      12.000000   \n",
       "mean          38.881667           34.667369         38.648120       4.251902   \n",
       "std            4.662506            3.351568          4.311781       2.681670   \n",
       "min           29.670000           27.424990         29.755423       0.225621   \n",
       "25%           36.542500           33.494563         37.768225       2.370571   \n",
       "50%           39.355000           35.438562         39.246376       4.197541   \n",
       "75%           42.497500           36.436398         40.540747       6.410643   \n",
       "max           45.710000           39.937841         43.845488       8.771675   \n",
       "\n",
       "       ErroPredito  \n",
       "count    12.000000  \n",
       "mean      2.896362  \n",
       "std       2.166720  \n",
       "min       0.085423  \n",
       "25%       0.712938  \n",
       "50%       3.125931  \n",
       "75%       4.301775  \n",
       "max       6.605488  "
      ]
     },
     "execution_count": 356,
     "metadata": {},
     "output_type": "execute_result"
    }
   ],
   "source": [
    "df.describe()"
   ]
  },
  {
   "cell_type": "code",
   "execution_count": 288,
   "metadata": {},
   "outputs": [
    {
     "data": {
      "application/vnd.plotly.v1+json": {
       "config": {
        "plotlyServerURL": "https://plot.ly"
       },
       "data": [
        {
         "hovertemplate": "variable=ResultadoPredito<br>index=%{x}<br>value=%{y}<extra></extra>",
         "legendgroup": "ResultadoPredito",
         "marker": {
          "color": "#636efa",
          "symbol": "circle"
         },
         "mode": "markers",
         "name": "ResultadoPredito",
         "orientation": "v",
         "showlegend": true,
         "type": "scatter",
         "x": [
          0,
          1,
          2,
          3,
          4,
          5,
          6,
          7,
          8,
          9,
          10,
          11
         ],
         "xaxis": "x",
         "y": [
          33.44017033340913,
          32.15675450057431,
          32.15675450057431,
          36.414839822136805,
          28.72737846789183,
          36.414839822136805,
          30.75410409088681,
          30.75410409088681,
          29.74940846789183,
          29.74940846789183,
          30.55977360820433,
          30.55977360820433
         ],
         "yaxis": "y"
        },
        {
         "hovertemplate": "variable=Rompimento28Dias<br>index=%{x}<br>value=%{y}<extra></extra>",
         "legendgroup": "Rompimento28Dias",
         "marker": {
          "color": "#EF553B",
          "symbol": "circle"
         },
         "mode": "markers",
         "name": "Rompimento28Dias",
         "orientation": "v",
         "showlegend": true,
         "type": "scatter",
         "x": [
          0,
          1,
          2,
          3,
          4,
          5,
          6,
          7,
          8,
          9,
          10,
          11
         ],
         "xaxis": "x",
         "y": [
          31.25,
          30.49,
          31.01,
          39.12,
          30.58,
          32.49,
          29.69,
          31.48,
          29.84,
          30.51,
          28.5,
          32.35
         ],
         "yaxis": "y"
        },
        {
         "hovertemplate": "variable=ResultadoProjetado<br>index=%{x}<br>value=%{y}<extra></extra>",
         "legendgroup": "ResultadoProjetado",
         "marker": {
          "color": "#00cc96",
          "symbol": "circle"
         },
         "mode": "markers",
         "name": "ResultadoProjetado",
         "orientation": "v",
         "showlegend": true,
         "type": "scatter",
         "x": [
          0,
          1,
          2,
          3,
          4,
          5,
          6,
          7,
          8,
          9,
          10,
          11
         ],
         "xaxis": "x",
         "y": [
          31.859328726237546,
          29.576969137257308,
          29.587470762742228,
          35.886318533827726,
          24.397752620086518,
          35.412693289502975,
          33.101880584813145,
          33.45545720418684,
          30.090148171717978,
          30.79765655699841,
          32.38068922535536,
          31.828572529609424
         ],
         "yaxis": "y"
        }
       ],
       "layout": {
        "legend": {
         "title": {
          "text": "variable"
         },
         "tracegroupgap": 0
        },
        "template": {
         "data": {
          "bar": [
           {
            "error_x": {
             "color": "#2a3f5f"
            },
            "error_y": {
             "color": "#2a3f5f"
            },
            "marker": {
             "line": {
              "color": "#E5ECF6",
              "width": 0.5
             }
            },
            "type": "bar"
           }
          ],
          "barpolar": [
           {
            "marker": {
             "line": {
              "color": "#E5ECF6",
              "width": 0.5
             }
            },
            "type": "barpolar"
           }
          ],
          "carpet": [
           {
            "aaxis": {
             "endlinecolor": "#2a3f5f",
             "gridcolor": "white",
             "linecolor": "white",
             "minorgridcolor": "white",
             "startlinecolor": "#2a3f5f"
            },
            "baxis": {
             "endlinecolor": "#2a3f5f",
             "gridcolor": "white",
             "linecolor": "white",
             "minorgridcolor": "white",
             "startlinecolor": "#2a3f5f"
            },
            "type": "carpet"
           }
          ],
          "choropleth": [
           {
            "colorbar": {
             "outlinewidth": 0,
             "ticks": ""
            },
            "type": "choropleth"
           }
          ],
          "contour": [
           {
            "colorbar": {
             "outlinewidth": 0,
             "ticks": ""
            },
            "colorscale": [
             [
              0,
              "#0d0887"
             ],
             [
              0.1111111111111111,
              "#46039f"
             ],
             [
              0.2222222222222222,
              "#7201a8"
             ],
             [
              0.3333333333333333,
              "#9c179e"
             ],
             [
              0.4444444444444444,
              "#bd3786"
             ],
             [
              0.5555555555555556,
              "#d8576b"
             ],
             [
              0.6666666666666666,
              "#ed7953"
             ],
             [
              0.7777777777777778,
              "#fb9f3a"
             ],
             [
              0.8888888888888888,
              "#fdca26"
             ],
             [
              1,
              "#f0f921"
             ]
            ],
            "type": "contour"
           }
          ],
          "contourcarpet": [
           {
            "colorbar": {
             "outlinewidth": 0,
             "ticks": ""
            },
            "type": "contourcarpet"
           }
          ],
          "heatmap": [
           {
            "colorbar": {
             "outlinewidth": 0,
             "ticks": ""
            },
            "colorscale": [
             [
              0,
              "#0d0887"
             ],
             [
              0.1111111111111111,
              "#46039f"
             ],
             [
              0.2222222222222222,
              "#7201a8"
             ],
             [
              0.3333333333333333,
              "#9c179e"
             ],
             [
              0.4444444444444444,
              "#bd3786"
             ],
             [
              0.5555555555555556,
              "#d8576b"
             ],
             [
              0.6666666666666666,
              "#ed7953"
             ],
             [
              0.7777777777777778,
              "#fb9f3a"
             ],
             [
              0.8888888888888888,
              "#fdca26"
             ],
             [
              1,
              "#f0f921"
             ]
            ],
            "type": "heatmap"
           }
          ],
          "heatmapgl": [
           {
            "colorbar": {
             "outlinewidth": 0,
             "ticks": ""
            },
            "colorscale": [
             [
              0,
              "#0d0887"
             ],
             [
              0.1111111111111111,
              "#46039f"
             ],
             [
              0.2222222222222222,
              "#7201a8"
             ],
             [
              0.3333333333333333,
              "#9c179e"
             ],
             [
              0.4444444444444444,
              "#bd3786"
             ],
             [
              0.5555555555555556,
              "#d8576b"
             ],
             [
              0.6666666666666666,
              "#ed7953"
             ],
             [
              0.7777777777777778,
              "#fb9f3a"
             ],
             [
              0.8888888888888888,
              "#fdca26"
             ],
             [
              1,
              "#f0f921"
             ]
            ],
            "type": "heatmapgl"
           }
          ],
          "histogram": [
           {
            "marker": {
             "colorbar": {
              "outlinewidth": 0,
              "ticks": ""
             }
            },
            "type": "histogram"
           }
          ],
          "histogram2d": [
           {
            "colorbar": {
             "outlinewidth": 0,
             "ticks": ""
            },
            "colorscale": [
             [
              0,
              "#0d0887"
             ],
             [
              0.1111111111111111,
              "#46039f"
             ],
             [
              0.2222222222222222,
              "#7201a8"
             ],
             [
              0.3333333333333333,
              "#9c179e"
             ],
             [
              0.4444444444444444,
              "#bd3786"
             ],
             [
              0.5555555555555556,
              "#d8576b"
             ],
             [
              0.6666666666666666,
              "#ed7953"
             ],
             [
              0.7777777777777778,
              "#fb9f3a"
             ],
             [
              0.8888888888888888,
              "#fdca26"
             ],
             [
              1,
              "#f0f921"
             ]
            ],
            "type": "histogram2d"
           }
          ],
          "histogram2dcontour": [
           {
            "colorbar": {
             "outlinewidth": 0,
             "ticks": ""
            },
            "colorscale": [
             [
              0,
              "#0d0887"
             ],
             [
              0.1111111111111111,
              "#46039f"
             ],
             [
              0.2222222222222222,
              "#7201a8"
             ],
             [
              0.3333333333333333,
              "#9c179e"
             ],
             [
              0.4444444444444444,
              "#bd3786"
             ],
             [
              0.5555555555555556,
              "#d8576b"
             ],
             [
              0.6666666666666666,
              "#ed7953"
             ],
             [
              0.7777777777777778,
              "#fb9f3a"
             ],
             [
              0.8888888888888888,
              "#fdca26"
             ],
             [
              1,
              "#f0f921"
             ]
            ],
            "type": "histogram2dcontour"
           }
          ],
          "mesh3d": [
           {
            "colorbar": {
             "outlinewidth": 0,
             "ticks": ""
            },
            "type": "mesh3d"
           }
          ],
          "parcoords": [
           {
            "line": {
             "colorbar": {
              "outlinewidth": 0,
              "ticks": ""
             }
            },
            "type": "parcoords"
           }
          ],
          "pie": [
           {
            "automargin": true,
            "type": "pie"
           }
          ],
          "scatter": [
           {
            "marker": {
             "colorbar": {
              "outlinewidth": 0,
              "ticks": ""
             }
            },
            "type": "scatter"
           }
          ],
          "scatter3d": [
           {
            "line": {
             "colorbar": {
              "outlinewidth": 0,
              "ticks": ""
             }
            },
            "marker": {
             "colorbar": {
              "outlinewidth": 0,
              "ticks": ""
             }
            },
            "type": "scatter3d"
           }
          ],
          "scattercarpet": [
           {
            "marker": {
             "colorbar": {
              "outlinewidth": 0,
              "ticks": ""
             }
            },
            "type": "scattercarpet"
           }
          ],
          "scattergeo": [
           {
            "marker": {
             "colorbar": {
              "outlinewidth": 0,
              "ticks": ""
             }
            },
            "type": "scattergeo"
           }
          ],
          "scattergl": [
           {
            "marker": {
             "colorbar": {
              "outlinewidth": 0,
              "ticks": ""
             }
            },
            "type": "scattergl"
           }
          ],
          "scattermapbox": [
           {
            "marker": {
             "colorbar": {
              "outlinewidth": 0,
              "ticks": ""
             }
            },
            "type": "scattermapbox"
           }
          ],
          "scatterpolar": [
           {
            "marker": {
             "colorbar": {
              "outlinewidth": 0,
              "ticks": ""
             }
            },
            "type": "scatterpolar"
           }
          ],
          "scatterpolargl": [
           {
            "marker": {
             "colorbar": {
              "outlinewidth": 0,
              "ticks": ""
             }
            },
            "type": "scatterpolargl"
           }
          ],
          "scatterternary": [
           {
            "marker": {
             "colorbar": {
              "outlinewidth": 0,
              "ticks": ""
             }
            },
            "type": "scatterternary"
           }
          ],
          "surface": [
           {
            "colorbar": {
             "outlinewidth": 0,
             "ticks": ""
            },
            "colorscale": [
             [
              0,
              "#0d0887"
             ],
             [
              0.1111111111111111,
              "#46039f"
             ],
             [
              0.2222222222222222,
              "#7201a8"
             ],
             [
              0.3333333333333333,
              "#9c179e"
             ],
             [
              0.4444444444444444,
              "#bd3786"
             ],
             [
              0.5555555555555556,
              "#d8576b"
             ],
             [
              0.6666666666666666,
              "#ed7953"
             ],
             [
              0.7777777777777778,
              "#fb9f3a"
             ],
             [
              0.8888888888888888,
              "#fdca26"
             ],
             [
              1,
              "#f0f921"
             ]
            ],
            "type": "surface"
           }
          ],
          "table": [
           {
            "cells": {
             "fill": {
              "color": "#EBF0F8"
             },
             "line": {
              "color": "white"
             }
            },
            "header": {
             "fill": {
              "color": "#C8D4E3"
             },
             "line": {
              "color": "white"
             }
            },
            "type": "table"
           }
          ]
         },
         "layout": {
          "annotationdefaults": {
           "arrowcolor": "#2a3f5f",
           "arrowhead": 0,
           "arrowwidth": 1
          },
          "autotypenumbers": "strict",
          "coloraxis": {
           "colorbar": {
            "outlinewidth": 0,
            "ticks": ""
           }
          },
          "colorscale": {
           "diverging": [
            [
             0,
             "#8e0152"
            ],
            [
             0.1,
             "#c51b7d"
            ],
            [
             0.2,
             "#de77ae"
            ],
            [
             0.3,
             "#f1b6da"
            ],
            [
             0.4,
             "#fde0ef"
            ],
            [
             0.5,
             "#f7f7f7"
            ],
            [
             0.6,
             "#e6f5d0"
            ],
            [
             0.7,
             "#b8e186"
            ],
            [
             0.8,
             "#7fbc41"
            ],
            [
             0.9,
             "#4d9221"
            ],
            [
             1,
             "#276419"
            ]
           ],
           "sequential": [
            [
             0,
             "#0d0887"
            ],
            [
             0.1111111111111111,
             "#46039f"
            ],
            [
             0.2222222222222222,
             "#7201a8"
            ],
            [
             0.3333333333333333,
             "#9c179e"
            ],
            [
             0.4444444444444444,
             "#bd3786"
            ],
            [
             0.5555555555555556,
             "#d8576b"
            ],
            [
             0.6666666666666666,
             "#ed7953"
            ],
            [
             0.7777777777777778,
             "#fb9f3a"
            ],
            [
             0.8888888888888888,
             "#fdca26"
            ],
            [
             1,
             "#f0f921"
            ]
           ],
           "sequentialminus": [
            [
             0,
             "#0d0887"
            ],
            [
             0.1111111111111111,
             "#46039f"
            ],
            [
             0.2222222222222222,
             "#7201a8"
            ],
            [
             0.3333333333333333,
             "#9c179e"
            ],
            [
             0.4444444444444444,
             "#bd3786"
            ],
            [
             0.5555555555555556,
             "#d8576b"
            ],
            [
             0.6666666666666666,
             "#ed7953"
            ],
            [
             0.7777777777777778,
             "#fb9f3a"
            ],
            [
             0.8888888888888888,
             "#fdca26"
            ],
            [
             1,
             "#f0f921"
            ]
           ]
          },
          "colorway": [
           "#636efa",
           "#EF553B",
           "#00cc96",
           "#ab63fa",
           "#FFA15A",
           "#19d3f3",
           "#FF6692",
           "#B6E880",
           "#FF97FF",
           "#FECB52"
          ],
          "font": {
           "color": "#2a3f5f"
          },
          "geo": {
           "bgcolor": "white",
           "lakecolor": "white",
           "landcolor": "#E5ECF6",
           "showlakes": true,
           "showland": true,
           "subunitcolor": "white"
          },
          "hoverlabel": {
           "align": "left"
          },
          "hovermode": "closest",
          "mapbox": {
           "style": "light"
          },
          "paper_bgcolor": "white",
          "plot_bgcolor": "#E5ECF6",
          "polar": {
           "angularaxis": {
            "gridcolor": "white",
            "linecolor": "white",
            "ticks": ""
           },
           "bgcolor": "#E5ECF6",
           "radialaxis": {
            "gridcolor": "white",
            "linecolor": "white",
            "ticks": ""
           }
          },
          "scene": {
           "xaxis": {
            "backgroundcolor": "#E5ECF6",
            "gridcolor": "white",
            "gridwidth": 2,
            "linecolor": "white",
            "showbackground": true,
            "ticks": "",
            "zerolinecolor": "white"
           },
           "yaxis": {
            "backgroundcolor": "#E5ECF6",
            "gridcolor": "white",
            "gridwidth": 2,
            "linecolor": "white",
            "showbackground": true,
            "ticks": "",
            "zerolinecolor": "white"
           },
           "zaxis": {
            "backgroundcolor": "#E5ECF6",
            "gridcolor": "white",
            "gridwidth": 2,
            "linecolor": "white",
            "showbackground": true,
            "ticks": "",
            "zerolinecolor": "white"
           }
          },
          "shapedefaults": {
           "line": {
            "color": "#2a3f5f"
           }
          },
          "ternary": {
           "aaxis": {
            "gridcolor": "white",
            "linecolor": "white",
            "ticks": ""
           },
           "baxis": {
            "gridcolor": "white",
            "linecolor": "white",
            "ticks": ""
           },
           "bgcolor": "#E5ECF6",
           "caxis": {
            "gridcolor": "white",
            "linecolor": "white",
            "ticks": ""
           }
          },
          "title": {
           "x": 0.05
          },
          "xaxis": {
           "automargin": true,
           "gridcolor": "white",
           "linecolor": "white",
           "ticks": "",
           "title": {
            "standoff": 15
           },
           "zerolinecolor": "white",
           "zerolinewidth": 2
          },
          "yaxis": {
           "automargin": true,
           "gridcolor": "white",
           "linecolor": "white",
           "ticks": "",
           "title": {
            "standoff": 15
           },
           "zerolinecolor": "white",
           "zerolinewidth": 2
          }
         }
        },
        "title": {
         "text": "FCK x Rompimento 28 Dias"
        },
        "xaxis": {
         "anchor": "y",
         "domain": [
          0,
          1
         ],
         "title": {
          "text": "index"
         }
        },
        "yaxis": {
         "anchor": "x",
         "domain": [
          0,
          1
         ],
         "title": {
          "text": "value"
         }
        }
       }
      },
      "text/html": [
       "<div>                            <div id=\"4d638eee-c6ee-4dac-bde0-2db1972d848a\" class=\"plotly-graph-div\" style=\"height:525px; width:100%;\"></div>            <script type=\"text/javascript\">                require([\"plotly\"], function(Plotly) {                    window.PLOTLYENV=window.PLOTLYENV || {};                                    if (document.getElementById(\"4d638eee-c6ee-4dac-bde0-2db1972d848a\")) {                    Plotly.newPlot(                        \"4d638eee-c6ee-4dac-bde0-2db1972d848a\",                        [{\"hovertemplate\": \"variable=ResultadoPredito<br>index=%{x}<br>value=%{y}<extra></extra>\", \"legendgroup\": \"ResultadoPredito\", \"marker\": {\"color\": \"#636efa\", \"symbol\": \"circle\"}, \"mode\": \"markers\", \"name\": \"ResultadoPredito\", \"orientation\": \"v\", \"showlegend\": true, \"type\": \"scatter\", \"x\": [0, 1, 2, 3, 4, 5, 6, 7, 8, 9, 10, 11], \"xaxis\": \"x\", \"y\": [33.44017033340913, 32.15675450057431, 32.15675450057431, 36.414839822136805, 28.72737846789183, 36.414839822136805, 30.75410409088681, 30.75410409088681, 29.74940846789183, 29.74940846789183, 30.55977360820433, 30.55977360820433], \"yaxis\": \"y\"}, {\"hovertemplate\": \"variable=Rompimento28Dias<br>index=%{x}<br>value=%{y}<extra></extra>\", \"legendgroup\": \"Rompimento28Dias\", \"marker\": {\"color\": \"#EF553B\", \"symbol\": \"circle\"}, \"mode\": \"markers\", \"name\": \"Rompimento28Dias\", \"orientation\": \"v\", \"showlegend\": true, \"type\": \"scatter\", \"x\": [0, 1, 2, 3, 4, 5, 6, 7, 8, 9, 10, 11], \"xaxis\": \"x\", \"y\": [31.25, 30.49, 31.01, 39.12, 30.58, 32.49, 29.69, 31.48, 29.84, 30.51, 28.5, 32.35], \"yaxis\": \"y\"}, {\"hovertemplate\": \"variable=ResultadoProjetado<br>index=%{x}<br>value=%{y}<extra></extra>\", \"legendgroup\": \"ResultadoProjetado\", \"marker\": {\"color\": \"#00cc96\", \"symbol\": \"circle\"}, \"mode\": \"markers\", \"name\": \"ResultadoProjetado\", \"orientation\": \"v\", \"showlegend\": true, \"type\": \"scatter\", \"x\": [0, 1, 2, 3, 4, 5, 6, 7, 8, 9, 10, 11], \"xaxis\": \"x\", \"y\": [31.859328726237546, 29.576969137257308, 29.587470762742228, 35.886318533827726, 24.397752620086518, 35.412693289502975, 33.101880584813145, 33.45545720418684, 30.090148171717978, 30.79765655699841, 32.38068922535536, 31.828572529609424], \"yaxis\": \"y\"}],                        {\"legend\": {\"title\": {\"text\": \"variable\"}, \"tracegroupgap\": 0}, \"template\": {\"data\": {\"bar\": [{\"error_x\": {\"color\": \"#2a3f5f\"}, \"error_y\": {\"color\": \"#2a3f5f\"}, \"marker\": {\"line\": {\"color\": \"#E5ECF6\", \"width\": 0.5}}, \"type\": \"bar\"}], \"barpolar\": [{\"marker\": {\"line\": {\"color\": \"#E5ECF6\", \"width\": 0.5}}, \"type\": \"barpolar\"}], \"carpet\": [{\"aaxis\": {\"endlinecolor\": \"#2a3f5f\", \"gridcolor\": \"white\", \"linecolor\": \"white\", \"minorgridcolor\": \"white\", \"startlinecolor\": \"#2a3f5f\"}, \"baxis\": {\"endlinecolor\": \"#2a3f5f\", \"gridcolor\": \"white\", \"linecolor\": \"white\", \"minorgridcolor\": \"white\", \"startlinecolor\": \"#2a3f5f\"}, \"type\": \"carpet\"}], \"choropleth\": [{\"colorbar\": {\"outlinewidth\": 0, \"ticks\": \"\"}, \"type\": \"choropleth\"}], \"contour\": [{\"colorbar\": {\"outlinewidth\": 0, \"ticks\": \"\"}, \"colorscale\": [[0.0, \"#0d0887\"], [0.1111111111111111, \"#46039f\"], [0.2222222222222222, \"#7201a8\"], [0.3333333333333333, \"#9c179e\"], [0.4444444444444444, \"#bd3786\"], [0.5555555555555556, \"#d8576b\"], [0.6666666666666666, \"#ed7953\"], [0.7777777777777778, \"#fb9f3a\"], [0.8888888888888888, \"#fdca26\"], [1.0, \"#f0f921\"]], \"type\": \"contour\"}], \"contourcarpet\": [{\"colorbar\": {\"outlinewidth\": 0, \"ticks\": \"\"}, \"type\": \"contourcarpet\"}], \"heatmap\": [{\"colorbar\": {\"outlinewidth\": 0, \"ticks\": \"\"}, \"colorscale\": [[0.0, \"#0d0887\"], [0.1111111111111111, \"#46039f\"], [0.2222222222222222, \"#7201a8\"], [0.3333333333333333, \"#9c179e\"], [0.4444444444444444, \"#bd3786\"], [0.5555555555555556, \"#d8576b\"], [0.6666666666666666, \"#ed7953\"], [0.7777777777777778, \"#fb9f3a\"], [0.8888888888888888, \"#fdca26\"], [1.0, \"#f0f921\"]], \"type\": \"heatmap\"}], \"heatmapgl\": [{\"colorbar\": {\"outlinewidth\": 0, \"ticks\": \"\"}, \"colorscale\": [[0.0, \"#0d0887\"], [0.1111111111111111, \"#46039f\"], [0.2222222222222222, \"#7201a8\"], [0.3333333333333333, \"#9c179e\"], [0.4444444444444444, \"#bd3786\"], [0.5555555555555556, \"#d8576b\"], [0.6666666666666666, \"#ed7953\"], [0.7777777777777778, \"#fb9f3a\"], [0.8888888888888888, \"#fdca26\"], [1.0, \"#f0f921\"]], \"type\": \"heatmapgl\"}], \"histogram\": [{\"marker\": {\"colorbar\": {\"outlinewidth\": 0, \"ticks\": \"\"}}, \"type\": \"histogram\"}], \"histogram2d\": [{\"colorbar\": {\"outlinewidth\": 0, \"ticks\": \"\"}, \"colorscale\": [[0.0, \"#0d0887\"], [0.1111111111111111, \"#46039f\"], [0.2222222222222222, \"#7201a8\"], [0.3333333333333333, \"#9c179e\"], [0.4444444444444444, \"#bd3786\"], [0.5555555555555556, \"#d8576b\"], [0.6666666666666666, \"#ed7953\"], [0.7777777777777778, \"#fb9f3a\"], [0.8888888888888888, \"#fdca26\"], [1.0, \"#f0f921\"]], \"type\": \"histogram2d\"}], \"histogram2dcontour\": [{\"colorbar\": {\"outlinewidth\": 0, \"ticks\": \"\"}, \"colorscale\": [[0.0, \"#0d0887\"], [0.1111111111111111, \"#46039f\"], [0.2222222222222222, \"#7201a8\"], [0.3333333333333333, \"#9c179e\"], [0.4444444444444444, \"#bd3786\"], [0.5555555555555556, \"#d8576b\"], [0.6666666666666666, \"#ed7953\"], [0.7777777777777778, \"#fb9f3a\"], [0.8888888888888888, \"#fdca26\"], [1.0, \"#f0f921\"]], \"type\": \"histogram2dcontour\"}], \"mesh3d\": [{\"colorbar\": {\"outlinewidth\": 0, \"ticks\": \"\"}, \"type\": \"mesh3d\"}], \"parcoords\": [{\"line\": {\"colorbar\": {\"outlinewidth\": 0, \"ticks\": \"\"}}, \"type\": \"parcoords\"}], \"pie\": [{\"automargin\": true, \"type\": \"pie\"}], \"scatter\": [{\"marker\": {\"colorbar\": {\"outlinewidth\": 0, \"ticks\": \"\"}}, \"type\": \"scatter\"}], \"scatter3d\": [{\"line\": {\"colorbar\": {\"outlinewidth\": 0, \"ticks\": \"\"}}, \"marker\": {\"colorbar\": {\"outlinewidth\": 0, \"ticks\": \"\"}}, \"type\": \"scatter3d\"}], \"scattercarpet\": [{\"marker\": {\"colorbar\": {\"outlinewidth\": 0, \"ticks\": \"\"}}, \"type\": \"scattercarpet\"}], \"scattergeo\": [{\"marker\": {\"colorbar\": {\"outlinewidth\": 0, \"ticks\": \"\"}}, \"type\": \"scattergeo\"}], \"scattergl\": [{\"marker\": {\"colorbar\": {\"outlinewidth\": 0, \"ticks\": \"\"}}, \"type\": \"scattergl\"}], \"scattermapbox\": [{\"marker\": {\"colorbar\": {\"outlinewidth\": 0, \"ticks\": \"\"}}, \"type\": \"scattermapbox\"}], \"scatterpolar\": [{\"marker\": {\"colorbar\": {\"outlinewidth\": 0, \"ticks\": \"\"}}, \"type\": \"scatterpolar\"}], \"scatterpolargl\": [{\"marker\": {\"colorbar\": {\"outlinewidth\": 0, \"ticks\": \"\"}}, \"type\": \"scatterpolargl\"}], \"scatterternary\": [{\"marker\": {\"colorbar\": {\"outlinewidth\": 0, \"ticks\": \"\"}}, \"type\": \"scatterternary\"}], \"surface\": [{\"colorbar\": {\"outlinewidth\": 0, \"ticks\": \"\"}, \"colorscale\": [[0.0, \"#0d0887\"], [0.1111111111111111, \"#46039f\"], [0.2222222222222222, \"#7201a8\"], [0.3333333333333333, \"#9c179e\"], [0.4444444444444444, \"#bd3786\"], [0.5555555555555556, \"#d8576b\"], [0.6666666666666666, \"#ed7953\"], [0.7777777777777778, \"#fb9f3a\"], [0.8888888888888888, \"#fdca26\"], [1.0, \"#f0f921\"]], \"type\": \"surface\"}], \"table\": [{\"cells\": {\"fill\": {\"color\": \"#EBF0F8\"}, \"line\": {\"color\": \"white\"}}, \"header\": {\"fill\": {\"color\": \"#C8D4E3\"}, \"line\": {\"color\": \"white\"}}, \"type\": \"table\"}]}, \"layout\": {\"annotationdefaults\": {\"arrowcolor\": \"#2a3f5f\", \"arrowhead\": 0, \"arrowwidth\": 1}, \"autotypenumbers\": \"strict\", \"coloraxis\": {\"colorbar\": {\"outlinewidth\": 0, \"ticks\": \"\"}}, \"colorscale\": {\"diverging\": [[0, \"#8e0152\"], [0.1, \"#c51b7d\"], [0.2, \"#de77ae\"], [0.3, \"#f1b6da\"], [0.4, \"#fde0ef\"], [0.5, \"#f7f7f7\"], [0.6, \"#e6f5d0\"], [0.7, \"#b8e186\"], [0.8, \"#7fbc41\"], [0.9, \"#4d9221\"], [1, \"#276419\"]], \"sequential\": [[0.0, \"#0d0887\"], [0.1111111111111111, \"#46039f\"], [0.2222222222222222, \"#7201a8\"], [0.3333333333333333, \"#9c179e\"], [0.4444444444444444, \"#bd3786\"], [0.5555555555555556, \"#d8576b\"], [0.6666666666666666, \"#ed7953\"], [0.7777777777777778, \"#fb9f3a\"], [0.8888888888888888, \"#fdca26\"], [1.0, \"#f0f921\"]], \"sequentialminus\": [[0.0, \"#0d0887\"], [0.1111111111111111, \"#46039f\"], [0.2222222222222222, \"#7201a8\"], [0.3333333333333333, \"#9c179e\"], [0.4444444444444444, \"#bd3786\"], [0.5555555555555556, \"#d8576b\"], [0.6666666666666666, \"#ed7953\"], [0.7777777777777778, \"#fb9f3a\"], [0.8888888888888888, \"#fdca26\"], [1.0, \"#f0f921\"]]}, \"colorway\": [\"#636efa\", \"#EF553B\", \"#00cc96\", \"#ab63fa\", \"#FFA15A\", \"#19d3f3\", \"#FF6692\", \"#B6E880\", \"#FF97FF\", \"#FECB52\"], \"font\": {\"color\": \"#2a3f5f\"}, \"geo\": {\"bgcolor\": \"white\", \"lakecolor\": \"white\", \"landcolor\": \"#E5ECF6\", \"showlakes\": true, \"showland\": true, \"subunitcolor\": \"white\"}, \"hoverlabel\": {\"align\": \"left\"}, \"hovermode\": \"closest\", \"mapbox\": {\"style\": \"light\"}, \"paper_bgcolor\": \"white\", \"plot_bgcolor\": \"#E5ECF6\", \"polar\": {\"angularaxis\": {\"gridcolor\": \"white\", \"linecolor\": \"white\", \"ticks\": \"\"}, \"bgcolor\": \"#E5ECF6\", \"radialaxis\": {\"gridcolor\": \"white\", \"linecolor\": \"white\", \"ticks\": \"\"}}, \"scene\": {\"xaxis\": {\"backgroundcolor\": \"#E5ECF6\", \"gridcolor\": \"white\", \"gridwidth\": 2, \"linecolor\": \"white\", \"showbackground\": true, \"ticks\": \"\", \"zerolinecolor\": \"white\"}, \"yaxis\": {\"backgroundcolor\": \"#E5ECF6\", \"gridcolor\": \"white\", \"gridwidth\": 2, \"linecolor\": \"white\", \"showbackground\": true, \"ticks\": \"\", \"zerolinecolor\": \"white\"}, \"zaxis\": {\"backgroundcolor\": \"#E5ECF6\", \"gridcolor\": \"white\", \"gridwidth\": 2, \"linecolor\": \"white\", \"showbackground\": true, \"ticks\": \"\", \"zerolinecolor\": \"white\"}}, \"shapedefaults\": {\"line\": {\"color\": \"#2a3f5f\"}}, \"ternary\": {\"aaxis\": {\"gridcolor\": \"white\", \"linecolor\": \"white\", \"ticks\": \"\"}, \"baxis\": {\"gridcolor\": \"white\", \"linecolor\": \"white\", \"ticks\": \"\"}, \"bgcolor\": \"#E5ECF6\", \"caxis\": {\"gridcolor\": \"white\", \"linecolor\": \"white\", \"ticks\": \"\"}}, \"title\": {\"x\": 0.05}, \"xaxis\": {\"automargin\": true, \"gridcolor\": \"white\", \"linecolor\": \"white\", \"ticks\": \"\", \"title\": {\"standoff\": 15}, \"zerolinecolor\": \"white\", \"zerolinewidth\": 2}, \"yaxis\": {\"automargin\": true, \"gridcolor\": \"white\", \"linecolor\": \"white\", \"ticks\": \"\", \"title\": {\"standoff\": 15}, \"zerolinecolor\": \"white\", \"zerolinewidth\": 2}}}, \"title\": {\"text\": \"FCK x Rompimento 28 Dias\"}, \"xaxis\": {\"anchor\": \"y\", \"domain\": [0.0, 1.0], \"title\": {\"text\": \"index\"}}, \"yaxis\": {\"anchor\": \"x\", \"domain\": [0.0, 1.0], \"title\": {\"text\": \"value\"}}},                        {\"responsive\": true}                    ).then(function(){\n",
       "                            \n",
       "var gd = document.getElementById('4d638eee-c6ee-4dac-bde0-2db1972d848a');\n",
       "var x = new MutationObserver(function (mutations, observer) {{\n",
       "        var display = window.getComputedStyle(gd).display;\n",
       "        if (!display || display === 'none') {{\n",
       "            console.log([gd, 'removed!']);\n",
       "            Plotly.purge(gd);\n",
       "            observer.disconnect();\n",
       "        }}\n",
       "}});\n",
       "\n",
       "// Listen for the removal of the full notebook cells\n",
       "var notebookContainer = gd.closest('#notebook-container');\n",
       "if (notebookContainer) {{\n",
       "    x.observe(notebookContainer, {childList: true});\n",
       "}}\n",
       "\n",
       "// Listen for the clearing of the current output cell\n",
       "var outputEl = gd.closest('.output');\n",
       "if (outputEl) {{\n",
       "    x.observe(outputEl, {childList: true});\n",
       "}}\n",
       "\n",
       "                        })                };                });            </script>        </div>"
      ]
     },
     "metadata": {},
     "output_type": "display_data"
    }
   ],
   "source": [
    "fig = px.scatter(df, y=[\"ResultadoPredito\", \"Rompimento28Dias\", \"ResultadoProjetado\"], title='FCK x Rompimento 28 Dias')\n",
    "fig.show()"
   ]
  },
  {
   "cell_type": "code",
   "execution_count": 800,
   "metadata": {},
   "outputs": [
    {
     "data": {
      "text/plain": [
       "0.7777777777777778"
      ]
     },
     "execution_count": 800,
     "metadata": {},
     "output_type": "execute_result"
    }
   ],
   "source": []
  },
  {
   "cell_type": "code",
   "execution_count": 722,
   "metadata": {},
   "outputs": [
    {
     "ename": "SyntaxError",
     "evalue": "invalid syntax (<ipython-input-722-d16c45cfe617>, line 1)",
     "output_type": "error",
     "traceback": [
      "\u001b[0;36m  File \u001b[0;32m\"<ipython-input-722-d16c45cfe617>\"\u001b[0;36m, line \u001b[0;32m1\u001b[0m\n\u001b[0;31m    0.7019867549668874 - 0,3 - min_samples_split = 4 - GradientBoostingRegressor | Romp7Dias, ConsumoPorM3, RelacaoAguaCimento, TipoLancamento, TipoTraco | Removendo outliers\u001b[0m\n\u001b[0m                                                                                                                                                                      ^\u001b[0m\n\u001b[0;31mSyntaxError\u001b[0m\u001b[0;31m:\u001b[0m invalid syntax\n"
     ]
    }
   ],
   "source": [
    "0.7019867549668874 - 0,3 - min_samples_split = 4 - GradientBoostingRegressor | Romp7Dias, ConsumoPorM3, RelacaoAguaCimento, TipoLancamento, TipoTraco | Removendo outliers"
   ]
  },
  {
   "cell_type": "code",
   "execution_count": 75,
   "metadata": {},
   "outputs": [
    {
     "data": {
      "text/html": [
       "<div>\n",
       "<style scoped>\n",
       "    .dataframe tbody tr th:only-of-type {\n",
       "        vertical-align: middle;\n",
       "    }\n",
       "\n",
       "    .dataframe tbody tr th {\n",
       "        vertical-align: top;\n",
       "    }\n",
       "\n",
       "    .dataframe thead th {\n",
       "        text-align: right;\n",
       "    }\n",
       "</style>\n",
       "<table border=\"1\" class=\"dataframe\">\n",
       "  <thead>\n",
       "    <tr style=\"text-align: right;\">\n",
       "      <th></th>\n",
       "      <th>Rompimento28Dias</th>\n",
       "      <th>ResultadoProjetado</th>\n",
       "      <th>ResultadoPredito</th>\n",
       "      <th>ErroProjetado</th>\n",
       "      <th>ErroPredito</th>\n",
       "    </tr>\n",
       "  </thead>\n",
       "  <tbody>\n",
       "    <tr>\n",
       "      <th>count</th>\n",
       "      <td>151.000000</td>\n",
       "      <td>151.000000</td>\n",
       "      <td>151.000000</td>\n",
       "      <td>151.000000</td>\n",
       "      <td>151.000000</td>\n",
       "    </tr>\n",
       "    <tr>\n",
       "      <th>mean</th>\n",
       "      <td>32.371722</td>\n",
       "      <td>32.517567</td>\n",
       "      <td>32.342284</td>\n",
       "      <td>2.534797</td>\n",
       "      <td>1.597965</td>\n",
       "    </tr>\n",
       "    <tr>\n",
       "      <th>std</th>\n",
       "      <td>5.621110</td>\n",
       "      <td>5.654231</td>\n",
       "      <td>5.316987</td>\n",
       "      <td>1.671750</td>\n",
       "      <td>1.140082</td>\n",
       "    </tr>\n",
       "    <tr>\n",
       "      <th>min</th>\n",
       "      <td>20.150000</td>\n",
       "      <td>15.878297</td>\n",
       "      <td>20.231588</td>\n",
       "      <td>0.042719</td>\n",
       "      <td>0.015537</td>\n",
       "    </tr>\n",
       "    <tr>\n",
       "      <th>25%</th>\n",
       "      <td>28.715000</td>\n",
       "      <td>28.715980</td>\n",
       "      <td>28.739299</td>\n",
       "      <td>1.306476</td>\n",
       "      <td>0.733631</td>\n",
       "    </tr>\n",
       "    <tr>\n",
       "      <th>50%</th>\n",
       "      <td>32.510000</td>\n",
       "      <td>32.263872</td>\n",
       "      <td>31.838203</td>\n",
       "      <td>2.009991</td>\n",
       "      <td>1.288044</td>\n",
       "    </tr>\n",
       "    <tr>\n",
       "      <th>75%</th>\n",
       "      <td>35.925000</td>\n",
       "      <td>36.005115</td>\n",
       "      <td>36.029348</td>\n",
       "      <td>3.809451</td>\n",
       "      <td>2.122222</td>\n",
       "    </tr>\n",
       "    <tr>\n",
       "      <th>max</th>\n",
       "      <td>46.600000</td>\n",
       "      <td>48.436012</td>\n",
       "      <td>47.008568</td>\n",
       "      <td>7.980361</td>\n",
       "      <td>5.715299</td>\n",
       "    </tr>\n",
       "  </tbody>\n",
       "</table>\n",
       "</div>"
      ],
      "text/plain": [
       "       Rompimento28Dias  ResultadoProjetado  ResultadoPredito  ErroProjetado  \\\n",
       "count        151.000000          151.000000        151.000000     151.000000   \n",
       "mean          32.371722           32.517567         32.342284       2.534797   \n",
       "std            5.621110            5.654231          5.316987       1.671750   \n",
       "min           20.150000           15.878297         20.231588       0.042719   \n",
       "25%           28.715000           28.715980         28.739299       1.306476   \n",
       "50%           32.510000           32.263872         31.838203       2.009991   \n",
       "75%           35.925000           36.005115         36.029348       3.809451   \n",
       "max           46.600000           48.436012         47.008568       7.980361   \n",
       "\n",
       "       ErroPredito  \n",
       "count   151.000000  \n",
       "mean      1.597965  \n",
       "std       1.140082  \n",
       "min       0.015537  \n",
       "25%       0.733631  \n",
       "50%       1.288044  \n",
       "75%       2.122222  \n",
       "max       5.715299  "
      ]
     },
     "execution_count": 75,
     "metadata": {},
     "output_type": "execute_result"
    }
   ],
   "source": [
    "df.describe()"
   ]
  },
  {
   "cell_type": "code",
   "execution_count": 1410,
   "metadata": {},
   "outputs": [
    {
     "data": {
      "application/vnd.plotly.v1+json": {
       "config": {
        "plotlyServerURL": "https://plot.ly"
       },
       "data": [
        {
         "hovertemplate": "DataProjecao=%{x}<br>LogRompimento7Dias=%{y}<extra></extra>",
         "legendgroup": "",
         "marker": {
          "color": "#636efa",
          "symbol": "circle"
         },
         "mode": "markers",
         "name": "",
         "orientation": "v",
         "showlegend": false,
         "type": "scatter",
         "x": [
          "2017-07-07T00:00:00",
          "2017-07-07T00:00:00",
          "2017-07-07T00:00:00",
          "2017-07-07T00:00:00",
          "2017-08-04T00:00:00",
          "2017-08-11T00:00:00",
          "2017-10-20T00:00:00",
          "2017-10-20T00:00:00",
          "2017-10-20T00:00:00",
          "2017-10-20T00:00:00",
          "2017-10-20T00:00:00",
          "2017-10-20T00:00:00",
          "2017-10-20T00:00:00",
          "2017-10-20T00:00:00",
          "2017-10-20T00:00:00",
          "2017-10-27T00:00:00",
          "2017-10-27T00:00:00",
          "2017-10-27T00:00:00",
          "2017-10-27T00:00:00",
          "2017-11-03T00:00:00",
          "2017-11-03T00:00:00",
          "2017-11-03T00:00:00",
          "2017-11-03T00:00:00",
          "2017-11-10T00:00:00",
          "2017-11-10T00:00:00",
          "2017-11-10T00:00:00",
          "2017-11-10T00:00:00",
          "2017-11-17T00:00:00",
          "2017-11-24T00:00:00",
          "2017-12-15T00:00:00",
          "2017-12-15T00:00:00",
          "2018-01-12T00:00:00",
          "2018-01-12T00:00:00",
          "2018-01-12T00:00:00",
          "2018-01-12T00:00:00",
          "2018-03-09T00:00:00",
          "2018-03-09T00:00:00",
          "2018-03-09T00:00:00",
          "2018-03-09T00:00:00",
          "2018-03-09T00:00:00",
          "2018-03-16T00:00:00",
          "2018-03-16T00:00:00",
          "2018-03-16T00:00:00",
          "2018-07-06T00:00:00",
          "2018-07-06T00:00:00",
          "2018-07-13T00:00:00",
          "2018-07-13T00:00:00",
          "2018-07-20T00:00:00",
          "2018-07-20T00:00:00",
          "2018-08-10T00:00:00",
          "2018-08-10T00:00:00",
          "2018-08-10T00:00:00",
          "2018-09-28T00:00:00",
          "2018-09-28T00:00:00",
          "2018-09-28T00:00:00",
          "2018-10-05T00:00:00",
          "2018-10-05T00:00:00",
          "2018-10-05T00:00:00",
          "2018-10-05T00:00:00",
          "2018-10-12T00:00:00",
          "2018-10-12T00:00:00",
          "2018-10-19T00:00:00",
          "2018-10-19T00:00:00",
          "2018-10-19T00:00:00",
          "2018-10-19T00:00:00",
          "2018-10-19T00:00:00",
          "2018-10-19T00:00:00",
          "2018-10-26T00:00:00",
          "2018-10-26T00:00:00",
          "2018-10-26T00:00:00",
          "2018-10-26T00:00:00",
          "2018-10-26T00:00:00",
          "2018-10-26T00:00:00",
          "2018-10-26T00:00:00",
          "2018-10-26T00:00:00",
          "2018-10-26T00:00:00",
          "2018-11-02T00:00:00",
          "2018-11-09T00:00:00",
          "2018-11-09T00:00:00",
          "2018-11-09T00:00:00",
          "2018-11-09T00:00:00",
          "2018-11-09T00:00:00",
          "2018-11-16T00:00:00",
          "2018-11-16T00:00:00",
          "2018-11-23T00:00:00",
          "2018-11-23T00:00:00",
          "2018-11-23T00:00:00",
          "2018-11-30T00:00:00",
          "2018-11-30T00:00:00",
          "2018-11-30T00:00:00",
          "2018-11-30T00:00:00",
          "2018-11-30T00:00:00",
          "2018-11-30T00:00:00",
          "2018-12-07T00:00:00",
          "2018-12-07T00:00:00",
          "2018-12-07T00:00:00",
          "2018-12-07T00:00:00",
          "2018-12-07T00:00:00",
          "2018-12-07T00:00:00",
          "2018-12-07T00:00:00",
          "2018-12-07T00:00:00",
          "2018-12-07T00:00:00",
          "2018-12-07T00:00:00",
          "2018-12-07T00:00:00",
          "2018-12-07T00:00:00",
          "2018-12-07T00:00:00",
          "2018-12-07T00:00:00",
          "2018-12-07T00:00:00",
          "2018-12-07T00:00:00",
          "2018-12-07T00:00:00",
          "2018-12-07T00:00:00",
          "2018-12-07T00:00:00",
          "2018-12-07T00:00:00",
          "2018-12-07T00:00:00",
          "2018-12-07T00:00:00",
          "2018-12-14T00:00:00",
          "2018-12-14T00:00:00",
          "2018-12-14T00:00:00",
          "2018-12-14T00:00:00",
          "2018-12-14T00:00:00",
          "2018-12-21T00:00:00",
          "2018-12-21T00:00:00",
          "2018-12-21T00:00:00",
          "2018-12-21T00:00:00",
          "2018-12-21T00:00:00",
          "2018-12-21T00:00:00",
          "2018-12-28T00:00:00",
          "2019-01-04T00:00:00",
          "2019-01-11T00:00:00",
          "2019-01-11T00:00:00",
          "2019-01-11T00:00:00",
          "2019-01-18T00:00:00",
          "2019-01-18T00:00:00",
          "2019-01-18T00:00:00",
          "2019-01-25T00:00:00",
          "2019-01-25T00:00:00",
          "2019-01-25T00:00:00",
          "2019-01-25T00:00:00",
          "2019-01-25T00:00:00",
          "2019-01-25T00:00:00",
          "2019-01-25T00:00:00",
          "2019-01-25T00:00:00",
          "2019-01-25T00:00:00",
          "2019-02-01T00:00:00",
          "2019-02-01T00:00:00",
          "2019-02-01T00:00:00",
          "2019-02-01T00:00:00",
          "2019-02-01T00:00:00",
          "2019-02-01T00:00:00",
          "2019-02-01T00:00:00",
          "2019-02-01T00:00:00",
          "2019-02-01T00:00:00",
          "2019-02-01T00:00:00",
          "2019-02-01T00:00:00",
          "2019-02-01T00:00:00",
          "2019-02-08T00:00:00",
          "2019-03-01T00:00:00",
          "2019-03-01T00:00:00",
          "2019-03-08T00:00:00",
          "2019-03-08T00:00:00",
          "2019-03-08T00:00:00",
          "2019-03-08T00:00:00",
          "2019-03-08T00:00:00",
          "2019-03-08T00:00:00",
          "2019-03-08T00:00:00",
          "2019-03-15T00:00:00",
          "2019-03-15T00:00:00",
          "2019-03-15T00:00:00",
          "2019-03-15T00:00:00",
          "2019-03-15T00:00:00",
          "2019-03-15T00:00:00",
          "2019-03-15T00:00:00",
          "2019-03-22T00:00:00",
          "2019-03-22T00:00:00",
          "2019-03-22T00:00:00",
          "2019-03-22T00:00:00",
          "2019-03-22T00:00:00",
          "2019-03-22T00:00:00",
          "2019-03-22T00:00:00",
          "2019-03-22T00:00:00",
          "2019-03-22T00:00:00",
          "2019-04-05T00:00:00",
          "2019-04-05T00:00:00"
         ],
         "xaxis": "x",
         "y": [
          3.279782759771722,
          2.87976009730157,
          2.826129489167811,
          3.1307001339644756,
          3.0973859272804907,
          3.2748780149834857,
          3.0252910757955354,
          3.228430037673012,
          3.1523085805960878,
          3.2924979647388146,
          3.1467351470905185,
          3.292126286607793,
          3.2406373166497136,
          3.0473755067058295,
          3.045474365448805,
          3.1608228934195837,
          3.1315734964654043,
          3.202339856228101,
          3.2240623515555007,
          3.3178157727231046,
          3.3786108829893595,
          3.284288963416433,
          3.2763897310688073,
          3.344979701663927,
          3.3833727967496032,
          3.2092294478163956,
          3.2546289945740186,
          3.1888289035159043,
          3.1880041612011136,
          3.1548704948922883,
          3.038791763014438,
          2.9816333491744893,
          3.0160249768217535,
          3.0140632302387145,
          3.222469360378331,
          3.443298557680791,
          3.3530570063342204,
          3.3628029936748436,
          3.5263605246161616,
          3.5703774100329357,
          3.2816628129669656,
          3.3336320621663895,
          3.2726061472891685,
          3.1826266921930797,
          3.033028058297688,
          2.9699015135194693,
          3.139832617527748,
          3.1232455938529506,
          3.170105660498771,
          3.141130476243348,
          3.110399348532117,
          3.0525850851467737,
          2.949164637737656,
          2.9595868269176377,
          3.0823685802135374,
          3.0344721018699214,
          3.0339909856710814,
          3.0430928449138284,
          3.074543453978281,
          3.067587710654419,
          2.9719517448885875,
          3.285412348668445,
          3.2371085931292605,
          3.229222116922345,
          3.051166980442092,
          3.2188758248682006,
          3.113959654918641,
          3.104586678466073,
          3.08876713952118,
          3.087399462079815,
          3.074543453978281,
          3.1763857732472487,
          3.1293886583666644,
          3.1531632815028194,
          3.0577676644734435,
          3.076851324838783,
          2.950211758252182,
          3.2003044392827653,
          2.989714201228428,
          3.1144038032714896,
          2.9987277825337895,
          3.070839746040796,
          3.0791538816930633,
          3.242592351485517,
          3.295836866004329,
          3.3046864812813115,
          3.40684805317097,
          3.3867603338643857,
          3.325755186495297,
          3.25848107946056,
          3.195811885269649,
          3.3690184832979204,
          3.2976870052924907,
          3.126760535960395,
          3.151025157960026,
          3.3575937441800234,
          3.4151002868311466,
          3.1826266921930797,
          3.2240623515555007,
          3.3043193066856684,
          3.170525563927154,
          3.311637304949512,
          3.222469360378331,
          3.141130476243348,
          3.2051824977361982,
          3.1458749319837103,
          3.3541057741283047,
          3.3721118007670587,
          3.4236109764990554,
          3.231989464013584,
          3.27601201623901,
          3.1908877883280318,
          3.315276319154516,
          3.2355362657613083,
          3.2144661163795005,
          3.27601201623901,
          3.2902658209548736,
          3.21124679770371,
          3.0740812399649675,
          3.1565747986708215,
          3.0506938316279655,
          3.0978374964911444,
          3.091042453358316,
          3.044522437723423,
          3.096029994869355,
          3.238286218388024,
          3.109060958860994,
          3.004692014925463,
          3.0421386463681466,
          2.8587664184808337,
          2.9816333491744893,
          3.089677886396519,
          2.9785861147190205,
          3.100542637906336,
          3.028683373693677,
          2.89977188240808,
          2.9882040071331994,
          3.133753571451366,
          2.9785861147190205,
          2.8936995479888394,
          2.9932291433358724,
          2.991724252156452,
          2.9987277825337895,
          3.201526186533088,
          3.2055879305412653,
          3.159550358783386,
          3.070839746040796,
          3.0378334495726262,
          3.094219220268645,
          3.052112606990099,
          3.339321977944068,
          3.1493113614822916,
          3.096029994869355,
          3.1629401925378975,
          3.184284380098582,
          3.170525563927154,
          2.970414465569701,
          3.1514531485507664,
          3.1126260250254902,
          3.1328821117012247,
          3.043569602968151,
          3.1276373444339294,
          3.1424266527047946,
          3.202339856228101,
          3.263849190510932,
          3.3282682016393976,
          3.192531849528599,
          3.1315734964654043,
          3.292126286607793,
          3.1570004211501135,
          2.954910279033736,
          3.1245651453969594,
          3.106826321059578,
          3.087399462079815,
          3.1437211512674406,
          2.979094632400968,
          3.2011191032789417,
          2.7868613815264998,
          2.7813006628418027,
          3.2315945972759756,
          3.1415627217655304,
          3.1293886583666644,
          3.255014871484074
         ],
         "yaxis": "y"
        }
       ],
       "layout": {
        "legend": {
         "tracegroupgap": 0
        },
        "template": {
         "data": {
          "bar": [
           {
            "error_x": {
             "color": "#2a3f5f"
            },
            "error_y": {
             "color": "#2a3f5f"
            },
            "marker": {
             "line": {
              "color": "#E5ECF6",
              "width": 0.5
             }
            },
            "type": "bar"
           }
          ],
          "barpolar": [
           {
            "marker": {
             "line": {
              "color": "#E5ECF6",
              "width": 0.5
             }
            },
            "type": "barpolar"
           }
          ],
          "carpet": [
           {
            "aaxis": {
             "endlinecolor": "#2a3f5f",
             "gridcolor": "white",
             "linecolor": "white",
             "minorgridcolor": "white",
             "startlinecolor": "#2a3f5f"
            },
            "baxis": {
             "endlinecolor": "#2a3f5f",
             "gridcolor": "white",
             "linecolor": "white",
             "minorgridcolor": "white",
             "startlinecolor": "#2a3f5f"
            },
            "type": "carpet"
           }
          ],
          "choropleth": [
           {
            "colorbar": {
             "outlinewidth": 0,
             "ticks": ""
            },
            "type": "choropleth"
           }
          ],
          "contour": [
           {
            "colorbar": {
             "outlinewidth": 0,
             "ticks": ""
            },
            "colorscale": [
             [
              0,
              "#0d0887"
             ],
             [
              0.1111111111111111,
              "#46039f"
             ],
             [
              0.2222222222222222,
              "#7201a8"
             ],
             [
              0.3333333333333333,
              "#9c179e"
             ],
             [
              0.4444444444444444,
              "#bd3786"
             ],
             [
              0.5555555555555556,
              "#d8576b"
             ],
             [
              0.6666666666666666,
              "#ed7953"
             ],
             [
              0.7777777777777778,
              "#fb9f3a"
             ],
             [
              0.8888888888888888,
              "#fdca26"
             ],
             [
              1,
              "#f0f921"
             ]
            ],
            "type": "contour"
           }
          ],
          "contourcarpet": [
           {
            "colorbar": {
             "outlinewidth": 0,
             "ticks": ""
            },
            "type": "contourcarpet"
           }
          ],
          "heatmap": [
           {
            "colorbar": {
             "outlinewidth": 0,
             "ticks": ""
            },
            "colorscale": [
             [
              0,
              "#0d0887"
             ],
             [
              0.1111111111111111,
              "#46039f"
             ],
             [
              0.2222222222222222,
              "#7201a8"
             ],
             [
              0.3333333333333333,
              "#9c179e"
             ],
             [
              0.4444444444444444,
              "#bd3786"
             ],
             [
              0.5555555555555556,
              "#d8576b"
             ],
             [
              0.6666666666666666,
              "#ed7953"
             ],
             [
              0.7777777777777778,
              "#fb9f3a"
             ],
             [
              0.8888888888888888,
              "#fdca26"
             ],
             [
              1,
              "#f0f921"
             ]
            ],
            "type": "heatmap"
           }
          ],
          "heatmapgl": [
           {
            "colorbar": {
             "outlinewidth": 0,
             "ticks": ""
            },
            "colorscale": [
             [
              0,
              "#0d0887"
             ],
             [
              0.1111111111111111,
              "#46039f"
             ],
             [
              0.2222222222222222,
              "#7201a8"
             ],
             [
              0.3333333333333333,
              "#9c179e"
             ],
             [
              0.4444444444444444,
              "#bd3786"
             ],
             [
              0.5555555555555556,
              "#d8576b"
             ],
             [
              0.6666666666666666,
              "#ed7953"
             ],
             [
              0.7777777777777778,
              "#fb9f3a"
             ],
             [
              0.8888888888888888,
              "#fdca26"
             ],
             [
              1,
              "#f0f921"
             ]
            ],
            "type": "heatmapgl"
           }
          ],
          "histogram": [
           {
            "marker": {
             "colorbar": {
              "outlinewidth": 0,
              "ticks": ""
             }
            },
            "type": "histogram"
           }
          ],
          "histogram2d": [
           {
            "colorbar": {
             "outlinewidth": 0,
             "ticks": ""
            },
            "colorscale": [
             [
              0,
              "#0d0887"
             ],
             [
              0.1111111111111111,
              "#46039f"
             ],
             [
              0.2222222222222222,
              "#7201a8"
             ],
             [
              0.3333333333333333,
              "#9c179e"
             ],
             [
              0.4444444444444444,
              "#bd3786"
             ],
             [
              0.5555555555555556,
              "#d8576b"
             ],
             [
              0.6666666666666666,
              "#ed7953"
             ],
             [
              0.7777777777777778,
              "#fb9f3a"
             ],
             [
              0.8888888888888888,
              "#fdca26"
             ],
             [
              1,
              "#f0f921"
             ]
            ],
            "type": "histogram2d"
           }
          ],
          "histogram2dcontour": [
           {
            "colorbar": {
             "outlinewidth": 0,
             "ticks": ""
            },
            "colorscale": [
             [
              0,
              "#0d0887"
             ],
             [
              0.1111111111111111,
              "#46039f"
             ],
             [
              0.2222222222222222,
              "#7201a8"
             ],
             [
              0.3333333333333333,
              "#9c179e"
             ],
             [
              0.4444444444444444,
              "#bd3786"
             ],
             [
              0.5555555555555556,
              "#d8576b"
             ],
             [
              0.6666666666666666,
              "#ed7953"
             ],
             [
              0.7777777777777778,
              "#fb9f3a"
             ],
             [
              0.8888888888888888,
              "#fdca26"
             ],
             [
              1,
              "#f0f921"
             ]
            ],
            "type": "histogram2dcontour"
           }
          ],
          "mesh3d": [
           {
            "colorbar": {
             "outlinewidth": 0,
             "ticks": ""
            },
            "type": "mesh3d"
           }
          ],
          "parcoords": [
           {
            "line": {
             "colorbar": {
              "outlinewidth": 0,
              "ticks": ""
             }
            },
            "type": "parcoords"
           }
          ],
          "pie": [
           {
            "automargin": true,
            "type": "pie"
           }
          ],
          "scatter": [
           {
            "marker": {
             "colorbar": {
              "outlinewidth": 0,
              "ticks": ""
             }
            },
            "type": "scatter"
           }
          ],
          "scatter3d": [
           {
            "line": {
             "colorbar": {
              "outlinewidth": 0,
              "ticks": ""
             }
            },
            "marker": {
             "colorbar": {
              "outlinewidth": 0,
              "ticks": ""
             }
            },
            "type": "scatter3d"
           }
          ],
          "scattercarpet": [
           {
            "marker": {
             "colorbar": {
              "outlinewidth": 0,
              "ticks": ""
             }
            },
            "type": "scattercarpet"
           }
          ],
          "scattergeo": [
           {
            "marker": {
             "colorbar": {
              "outlinewidth": 0,
              "ticks": ""
             }
            },
            "type": "scattergeo"
           }
          ],
          "scattergl": [
           {
            "marker": {
             "colorbar": {
              "outlinewidth": 0,
              "ticks": ""
             }
            },
            "type": "scattergl"
           }
          ],
          "scattermapbox": [
           {
            "marker": {
             "colorbar": {
              "outlinewidth": 0,
              "ticks": ""
             }
            },
            "type": "scattermapbox"
           }
          ],
          "scatterpolar": [
           {
            "marker": {
             "colorbar": {
              "outlinewidth": 0,
              "ticks": ""
             }
            },
            "type": "scatterpolar"
           }
          ],
          "scatterpolargl": [
           {
            "marker": {
             "colorbar": {
              "outlinewidth": 0,
              "ticks": ""
             }
            },
            "type": "scatterpolargl"
           }
          ],
          "scatterternary": [
           {
            "marker": {
             "colorbar": {
              "outlinewidth": 0,
              "ticks": ""
             }
            },
            "type": "scatterternary"
           }
          ],
          "surface": [
           {
            "colorbar": {
             "outlinewidth": 0,
             "ticks": ""
            },
            "colorscale": [
             [
              0,
              "#0d0887"
             ],
             [
              0.1111111111111111,
              "#46039f"
             ],
             [
              0.2222222222222222,
              "#7201a8"
             ],
             [
              0.3333333333333333,
              "#9c179e"
             ],
             [
              0.4444444444444444,
              "#bd3786"
             ],
             [
              0.5555555555555556,
              "#d8576b"
             ],
             [
              0.6666666666666666,
              "#ed7953"
             ],
             [
              0.7777777777777778,
              "#fb9f3a"
             ],
             [
              0.8888888888888888,
              "#fdca26"
             ],
             [
              1,
              "#f0f921"
             ]
            ],
            "type": "surface"
           }
          ],
          "table": [
           {
            "cells": {
             "fill": {
              "color": "#EBF0F8"
             },
             "line": {
              "color": "white"
             }
            },
            "header": {
             "fill": {
              "color": "#C8D4E3"
             },
             "line": {
              "color": "white"
             }
            },
            "type": "table"
           }
          ]
         },
         "layout": {
          "annotationdefaults": {
           "arrowcolor": "#2a3f5f",
           "arrowhead": 0,
           "arrowwidth": 1
          },
          "autotypenumbers": "strict",
          "coloraxis": {
           "colorbar": {
            "outlinewidth": 0,
            "ticks": ""
           }
          },
          "colorscale": {
           "diverging": [
            [
             0,
             "#8e0152"
            ],
            [
             0.1,
             "#c51b7d"
            ],
            [
             0.2,
             "#de77ae"
            ],
            [
             0.3,
             "#f1b6da"
            ],
            [
             0.4,
             "#fde0ef"
            ],
            [
             0.5,
             "#f7f7f7"
            ],
            [
             0.6,
             "#e6f5d0"
            ],
            [
             0.7,
             "#b8e186"
            ],
            [
             0.8,
             "#7fbc41"
            ],
            [
             0.9,
             "#4d9221"
            ],
            [
             1,
             "#276419"
            ]
           ],
           "sequential": [
            [
             0,
             "#0d0887"
            ],
            [
             0.1111111111111111,
             "#46039f"
            ],
            [
             0.2222222222222222,
             "#7201a8"
            ],
            [
             0.3333333333333333,
             "#9c179e"
            ],
            [
             0.4444444444444444,
             "#bd3786"
            ],
            [
             0.5555555555555556,
             "#d8576b"
            ],
            [
             0.6666666666666666,
             "#ed7953"
            ],
            [
             0.7777777777777778,
             "#fb9f3a"
            ],
            [
             0.8888888888888888,
             "#fdca26"
            ],
            [
             1,
             "#f0f921"
            ]
           ],
           "sequentialminus": [
            [
             0,
             "#0d0887"
            ],
            [
             0.1111111111111111,
             "#46039f"
            ],
            [
             0.2222222222222222,
             "#7201a8"
            ],
            [
             0.3333333333333333,
             "#9c179e"
            ],
            [
             0.4444444444444444,
             "#bd3786"
            ],
            [
             0.5555555555555556,
             "#d8576b"
            ],
            [
             0.6666666666666666,
             "#ed7953"
            ],
            [
             0.7777777777777778,
             "#fb9f3a"
            ],
            [
             0.8888888888888888,
             "#fdca26"
            ],
            [
             1,
             "#f0f921"
            ]
           ]
          },
          "colorway": [
           "#636efa",
           "#EF553B",
           "#00cc96",
           "#ab63fa",
           "#FFA15A",
           "#19d3f3",
           "#FF6692",
           "#B6E880",
           "#FF97FF",
           "#FECB52"
          ],
          "font": {
           "color": "#2a3f5f"
          },
          "geo": {
           "bgcolor": "white",
           "lakecolor": "white",
           "landcolor": "#E5ECF6",
           "showlakes": true,
           "showland": true,
           "subunitcolor": "white"
          },
          "hoverlabel": {
           "align": "left"
          },
          "hovermode": "closest",
          "mapbox": {
           "style": "light"
          },
          "paper_bgcolor": "white",
          "plot_bgcolor": "#E5ECF6",
          "polar": {
           "angularaxis": {
            "gridcolor": "white",
            "linecolor": "white",
            "ticks": ""
           },
           "bgcolor": "#E5ECF6",
           "radialaxis": {
            "gridcolor": "white",
            "linecolor": "white",
            "ticks": ""
           }
          },
          "scene": {
           "xaxis": {
            "backgroundcolor": "#E5ECF6",
            "gridcolor": "white",
            "gridwidth": 2,
            "linecolor": "white",
            "showbackground": true,
            "ticks": "",
            "zerolinecolor": "white"
           },
           "yaxis": {
            "backgroundcolor": "#E5ECF6",
            "gridcolor": "white",
            "gridwidth": 2,
            "linecolor": "white",
            "showbackground": true,
            "ticks": "",
            "zerolinecolor": "white"
           },
           "zaxis": {
            "backgroundcolor": "#E5ECF6",
            "gridcolor": "white",
            "gridwidth": 2,
            "linecolor": "white",
            "showbackground": true,
            "ticks": "",
            "zerolinecolor": "white"
           }
          },
          "shapedefaults": {
           "line": {
            "color": "#2a3f5f"
           }
          },
          "ternary": {
           "aaxis": {
            "gridcolor": "white",
            "linecolor": "white",
            "ticks": ""
           },
           "baxis": {
            "gridcolor": "white",
            "linecolor": "white",
            "ticks": ""
           },
           "bgcolor": "#E5ECF6",
           "caxis": {
            "gridcolor": "white",
            "linecolor": "white",
            "ticks": ""
           }
          },
          "title": {
           "x": 0.05
          },
          "xaxis": {
           "automargin": true,
           "gridcolor": "white",
           "linecolor": "white",
           "ticks": "",
           "title": {
            "standoff": 15
           },
           "zerolinecolor": "white",
           "zerolinewidth": 2
          },
          "yaxis": {
           "automargin": true,
           "gridcolor": "white",
           "linecolor": "white",
           "ticks": "",
           "title": {
            "standoff": 15
           },
           "zerolinecolor": "white",
           "zerolinewidth": 2
          }
         }
        },
        "title": {
         "text": "FCK x Rompimento 28 Dias"
        },
        "xaxis": {
         "anchor": "y",
         "domain": [
          0,
          1
         ],
         "title": {
          "text": "DataProjecao"
         }
        },
        "yaxis": {
         "anchor": "x",
         "domain": [
          0,
          1
         ],
         "title": {
          "text": "LogRompimento7Dias"
         }
        }
       }
      },
      "text/html": [
       "<div>                            <div id=\"2680ccde-4b99-470c-9373-e108b12d6d0f\" class=\"plotly-graph-div\" style=\"height:525px; width:100%;\"></div>            <script type=\"text/javascript\">                require([\"plotly\"], function(Plotly) {                    window.PLOTLYENV=window.PLOTLYENV || {};                                    if (document.getElementById(\"2680ccde-4b99-470c-9373-e108b12d6d0f\")) {                    Plotly.newPlot(                        \"2680ccde-4b99-470c-9373-e108b12d6d0f\",                        [{\"hovertemplate\": \"DataProjecao=%{x}<br>LogRompimento7Dias=%{y}<extra></extra>\", \"legendgroup\": \"\", \"marker\": {\"color\": \"#636efa\", \"symbol\": \"circle\"}, \"mode\": \"markers\", \"name\": \"\", \"orientation\": \"v\", \"showlegend\": false, \"type\": \"scatter\", \"x\": [\"2017-07-07T00:00:00\", \"2017-07-07T00:00:00\", \"2017-07-07T00:00:00\", \"2017-07-07T00:00:00\", \"2017-08-04T00:00:00\", \"2017-08-11T00:00:00\", \"2017-10-20T00:00:00\", \"2017-10-20T00:00:00\", \"2017-10-20T00:00:00\", \"2017-10-20T00:00:00\", \"2017-10-20T00:00:00\", \"2017-10-20T00:00:00\", \"2017-10-20T00:00:00\", \"2017-10-20T00:00:00\", \"2017-10-20T00:00:00\", \"2017-10-27T00:00:00\", \"2017-10-27T00:00:00\", \"2017-10-27T00:00:00\", \"2017-10-27T00:00:00\", \"2017-11-03T00:00:00\", \"2017-11-03T00:00:00\", \"2017-11-03T00:00:00\", \"2017-11-03T00:00:00\", \"2017-11-10T00:00:00\", \"2017-11-10T00:00:00\", \"2017-11-10T00:00:00\", \"2017-11-10T00:00:00\", \"2017-11-17T00:00:00\", \"2017-11-24T00:00:00\", \"2017-12-15T00:00:00\", \"2017-12-15T00:00:00\", \"2018-01-12T00:00:00\", \"2018-01-12T00:00:00\", \"2018-01-12T00:00:00\", \"2018-01-12T00:00:00\", \"2018-03-09T00:00:00\", \"2018-03-09T00:00:00\", \"2018-03-09T00:00:00\", \"2018-03-09T00:00:00\", \"2018-03-09T00:00:00\", \"2018-03-16T00:00:00\", \"2018-03-16T00:00:00\", \"2018-03-16T00:00:00\", \"2018-07-06T00:00:00\", \"2018-07-06T00:00:00\", \"2018-07-13T00:00:00\", \"2018-07-13T00:00:00\", \"2018-07-20T00:00:00\", \"2018-07-20T00:00:00\", \"2018-08-10T00:00:00\", \"2018-08-10T00:00:00\", \"2018-08-10T00:00:00\", \"2018-09-28T00:00:00\", \"2018-09-28T00:00:00\", \"2018-09-28T00:00:00\", \"2018-10-05T00:00:00\", \"2018-10-05T00:00:00\", \"2018-10-05T00:00:00\", \"2018-10-05T00:00:00\", \"2018-10-12T00:00:00\", \"2018-10-12T00:00:00\", \"2018-10-19T00:00:00\", \"2018-10-19T00:00:00\", \"2018-10-19T00:00:00\", \"2018-10-19T00:00:00\", \"2018-10-19T00:00:00\", \"2018-10-19T00:00:00\", \"2018-10-26T00:00:00\", \"2018-10-26T00:00:00\", \"2018-10-26T00:00:00\", \"2018-10-26T00:00:00\", \"2018-10-26T00:00:00\", \"2018-10-26T00:00:00\", \"2018-10-26T00:00:00\", \"2018-10-26T00:00:00\", \"2018-10-26T00:00:00\", \"2018-11-02T00:00:00\", \"2018-11-09T00:00:00\", \"2018-11-09T00:00:00\", \"2018-11-09T00:00:00\", \"2018-11-09T00:00:00\", \"2018-11-09T00:00:00\", \"2018-11-16T00:00:00\", \"2018-11-16T00:00:00\", \"2018-11-23T00:00:00\", \"2018-11-23T00:00:00\", \"2018-11-23T00:00:00\", \"2018-11-30T00:00:00\", \"2018-11-30T00:00:00\", \"2018-11-30T00:00:00\", \"2018-11-30T00:00:00\", \"2018-11-30T00:00:00\", \"2018-11-30T00:00:00\", \"2018-12-07T00:00:00\", \"2018-12-07T00:00:00\", \"2018-12-07T00:00:00\", \"2018-12-07T00:00:00\", \"2018-12-07T00:00:00\", \"2018-12-07T00:00:00\", \"2018-12-07T00:00:00\", \"2018-12-07T00:00:00\", \"2018-12-07T00:00:00\", \"2018-12-07T00:00:00\", \"2018-12-07T00:00:00\", \"2018-12-07T00:00:00\", \"2018-12-07T00:00:00\", \"2018-12-07T00:00:00\", \"2018-12-07T00:00:00\", \"2018-12-07T00:00:00\", \"2018-12-07T00:00:00\", \"2018-12-07T00:00:00\", \"2018-12-07T00:00:00\", \"2018-12-07T00:00:00\", \"2018-12-07T00:00:00\", \"2018-12-07T00:00:00\", \"2018-12-14T00:00:00\", \"2018-12-14T00:00:00\", \"2018-12-14T00:00:00\", \"2018-12-14T00:00:00\", \"2018-12-14T00:00:00\", \"2018-12-21T00:00:00\", \"2018-12-21T00:00:00\", \"2018-12-21T00:00:00\", \"2018-12-21T00:00:00\", \"2018-12-21T00:00:00\", \"2018-12-21T00:00:00\", \"2018-12-28T00:00:00\", \"2019-01-04T00:00:00\", \"2019-01-11T00:00:00\", \"2019-01-11T00:00:00\", \"2019-01-11T00:00:00\", \"2019-01-18T00:00:00\", \"2019-01-18T00:00:00\", \"2019-01-18T00:00:00\", \"2019-01-25T00:00:00\", \"2019-01-25T00:00:00\", \"2019-01-25T00:00:00\", \"2019-01-25T00:00:00\", \"2019-01-25T00:00:00\", \"2019-01-25T00:00:00\", \"2019-01-25T00:00:00\", \"2019-01-25T00:00:00\", \"2019-01-25T00:00:00\", \"2019-02-01T00:00:00\", \"2019-02-01T00:00:00\", \"2019-02-01T00:00:00\", \"2019-02-01T00:00:00\", \"2019-02-01T00:00:00\", \"2019-02-01T00:00:00\", \"2019-02-01T00:00:00\", \"2019-02-01T00:00:00\", \"2019-02-01T00:00:00\", \"2019-02-01T00:00:00\", \"2019-02-01T00:00:00\", \"2019-02-01T00:00:00\", \"2019-02-08T00:00:00\", \"2019-03-01T00:00:00\", \"2019-03-01T00:00:00\", \"2019-03-08T00:00:00\", \"2019-03-08T00:00:00\", \"2019-03-08T00:00:00\", \"2019-03-08T00:00:00\", \"2019-03-08T00:00:00\", \"2019-03-08T00:00:00\", \"2019-03-08T00:00:00\", \"2019-03-15T00:00:00\", \"2019-03-15T00:00:00\", \"2019-03-15T00:00:00\", \"2019-03-15T00:00:00\", \"2019-03-15T00:00:00\", \"2019-03-15T00:00:00\", \"2019-03-15T00:00:00\", \"2019-03-22T00:00:00\", \"2019-03-22T00:00:00\", \"2019-03-22T00:00:00\", \"2019-03-22T00:00:00\", \"2019-03-22T00:00:00\", \"2019-03-22T00:00:00\", \"2019-03-22T00:00:00\", \"2019-03-22T00:00:00\", \"2019-03-22T00:00:00\", \"2019-04-05T00:00:00\", \"2019-04-05T00:00:00\"], \"xaxis\": \"x\", \"y\": [3.279782759771722, 2.87976009730157, 2.826129489167811, 3.1307001339644756, 3.0973859272804907, 3.2748780149834857, 3.0252910757955354, 3.228430037673012, 3.1523085805960878, 3.2924979647388146, 3.1467351470905185, 3.292126286607793, 3.2406373166497136, 3.0473755067058295, 3.045474365448805, 3.1608228934195837, 3.1315734964654043, 3.202339856228101, 3.2240623515555007, 3.3178157727231046, 3.3786108829893595, 3.284288963416433, 3.2763897310688073, 3.344979701663927, 3.3833727967496032, 3.2092294478163956, 3.2546289945740186, 3.1888289035159043, 3.1880041612011136, 3.1548704948922883, 3.038791763014438, 2.9816333491744893, 3.0160249768217535, 3.0140632302387145, 3.222469360378331, 3.443298557680791, 3.3530570063342204, 3.3628029936748436, 3.5263605246161616, 3.5703774100329357, 3.2816628129669656, 3.3336320621663895, 3.2726061472891685, 3.1826266921930797, 3.033028058297688, 2.9699015135194693, 3.139832617527748, 3.1232455938529506, 3.170105660498771, 3.141130476243348, 3.110399348532117, 3.0525850851467737, 2.949164637737656, 2.9595868269176377, 3.0823685802135374, 3.0344721018699214, 3.0339909856710814, 3.0430928449138284, 3.074543453978281, 3.067587710654419, 2.9719517448885875, 3.285412348668445, 3.2371085931292605, 3.229222116922345, 3.051166980442092, 3.2188758248682006, 3.113959654918641, 3.104586678466073, 3.08876713952118, 3.087399462079815, 3.074543453978281, 3.1763857732472487, 3.1293886583666644, 3.1531632815028194, 3.0577676644734435, 3.076851324838783, 2.950211758252182, 3.2003044392827653, 2.989714201228428, 3.1144038032714896, 2.9987277825337895, 3.070839746040796, 3.0791538816930633, 3.242592351485517, 3.295836866004329, 3.3046864812813115, 3.40684805317097, 3.3867603338643857, 3.325755186495297, 3.25848107946056, 3.195811885269649, 3.3690184832979204, 3.2976870052924907, 3.126760535960395, 3.151025157960026, 3.3575937441800234, 3.4151002868311466, 3.1826266921930797, 3.2240623515555007, 3.3043193066856684, 3.170525563927154, 3.311637304949512, 3.222469360378331, 3.141130476243348, 3.2051824977361982, 3.1458749319837103, 3.3541057741283047, 3.3721118007670587, 3.4236109764990554, 3.231989464013584, 3.27601201623901, 3.1908877883280318, 3.315276319154516, 3.2355362657613083, 3.2144661163795005, 3.27601201623901, 3.2902658209548736, 3.21124679770371, 3.0740812399649675, 3.1565747986708215, 3.0506938316279655, 3.0978374964911444, 3.091042453358316, 3.044522437723423, 3.096029994869355, 3.238286218388024, 3.109060958860994, 3.004692014925463, 3.0421386463681466, 2.8587664184808337, 2.9816333491744893, 3.089677886396519, 2.9785861147190205, 3.100542637906336, 3.028683373693677, 2.89977188240808, 2.9882040071331994, 3.133753571451366, 2.9785861147190205, 2.8936995479888394, 2.9932291433358724, 2.991724252156452, 2.9987277825337895, 3.201526186533088, 3.2055879305412653, 3.159550358783386, 3.070839746040796, 3.0378334495726262, 3.094219220268645, 3.052112606990099, 3.339321977944068, 3.1493113614822916, 3.096029994869355, 3.1629401925378975, 3.184284380098582, 3.170525563927154, 2.970414465569701, 3.1514531485507664, 3.1126260250254902, 3.1328821117012247, 3.043569602968151, 3.1276373444339294, 3.1424266527047946, 3.202339856228101, 3.263849190510932, 3.3282682016393976, 3.192531849528599, 3.1315734964654043, 3.292126286607793, 3.1570004211501135, 2.954910279033736, 3.1245651453969594, 3.106826321059578, 3.087399462079815, 3.1437211512674406, 2.979094632400968, 3.2011191032789417, 2.7868613815264998, 2.7813006628418027, 3.2315945972759756, 3.1415627217655304, 3.1293886583666644, 3.255014871484074], \"yaxis\": \"y\"}],                        {\"legend\": {\"tracegroupgap\": 0}, \"template\": {\"data\": {\"bar\": [{\"error_x\": {\"color\": \"#2a3f5f\"}, \"error_y\": {\"color\": \"#2a3f5f\"}, \"marker\": {\"line\": {\"color\": \"#E5ECF6\", \"width\": 0.5}}, \"type\": \"bar\"}], \"barpolar\": [{\"marker\": {\"line\": {\"color\": \"#E5ECF6\", \"width\": 0.5}}, \"type\": \"barpolar\"}], \"carpet\": [{\"aaxis\": {\"endlinecolor\": \"#2a3f5f\", \"gridcolor\": \"white\", \"linecolor\": \"white\", \"minorgridcolor\": \"white\", \"startlinecolor\": \"#2a3f5f\"}, \"baxis\": {\"endlinecolor\": \"#2a3f5f\", \"gridcolor\": \"white\", \"linecolor\": \"white\", \"minorgridcolor\": \"white\", \"startlinecolor\": \"#2a3f5f\"}, \"type\": \"carpet\"}], \"choropleth\": [{\"colorbar\": {\"outlinewidth\": 0, \"ticks\": \"\"}, \"type\": \"choropleth\"}], \"contour\": [{\"colorbar\": {\"outlinewidth\": 0, \"ticks\": \"\"}, \"colorscale\": [[0.0, \"#0d0887\"], [0.1111111111111111, \"#46039f\"], [0.2222222222222222, \"#7201a8\"], [0.3333333333333333, \"#9c179e\"], [0.4444444444444444, \"#bd3786\"], [0.5555555555555556, \"#d8576b\"], [0.6666666666666666, \"#ed7953\"], [0.7777777777777778, \"#fb9f3a\"], [0.8888888888888888, \"#fdca26\"], [1.0, \"#f0f921\"]], \"type\": \"contour\"}], \"contourcarpet\": [{\"colorbar\": {\"outlinewidth\": 0, \"ticks\": \"\"}, \"type\": \"contourcarpet\"}], \"heatmap\": [{\"colorbar\": {\"outlinewidth\": 0, \"ticks\": \"\"}, \"colorscale\": [[0.0, \"#0d0887\"], [0.1111111111111111, \"#46039f\"], [0.2222222222222222, \"#7201a8\"], [0.3333333333333333, \"#9c179e\"], [0.4444444444444444, \"#bd3786\"], [0.5555555555555556, \"#d8576b\"], [0.6666666666666666, \"#ed7953\"], [0.7777777777777778, \"#fb9f3a\"], [0.8888888888888888, \"#fdca26\"], [1.0, \"#f0f921\"]], \"type\": \"heatmap\"}], \"heatmapgl\": [{\"colorbar\": {\"outlinewidth\": 0, \"ticks\": \"\"}, \"colorscale\": [[0.0, \"#0d0887\"], [0.1111111111111111, \"#46039f\"], [0.2222222222222222, \"#7201a8\"], [0.3333333333333333, \"#9c179e\"], [0.4444444444444444, \"#bd3786\"], [0.5555555555555556, \"#d8576b\"], [0.6666666666666666, \"#ed7953\"], [0.7777777777777778, \"#fb9f3a\"], [0.8888888888888888, \"#fdca26\"], [1.0, \"#f0f921\"]], \"type\": \"heatmapgl\"}], \"histogram\": [{\"marker\": {\"colorbar\": {\"outlinewidth\": 0, \"ticks\": \"\"}}, \"type\": \"histogram\"}], \"histogram2d\": [{\"colorbar\": {\"outlinewidth\": 0, \"ticks\": \"\"}, \"colorscale\": [[0.0, \"#0d0887\"], [0.1111111111111111, \"#46039f\"], [0.2222222222222222, \"#7201a8\"], [0.3333333333333333, \"#9c179e\"], [0.4444444444444444, \"#bd3786\"], [0.5555555555555556, \"#d8576b\"], [0.6666666666666666, \"#ed7953\"], [0.7777777777777778, \"#fb9f3a\"], [0.8888888888888888, \"#fdca26\"], [1.0, \"#f0f921\"]], \"type\": \"histogram2d\"}], \"histogram2dcontour\": [{\"colorbar\": {\"outlinewidth\": 0, \"ticks\": \"\"}, \"colorscale\": [[0.0, \"#0d0887\"], [0.1111111111111111, \"#46039f\"], [0.2222222222222222, \"#7201a8\"], [0.3333333333333333, \"#9c179e\"], [0.4444444444444444, \"#bd3786\"], [0.5555555555555556, \"#d8576b\"], [0.6666666666666666, \"#ed7953\"], [0.7777777777777778, \"#fb9f3a\"], [0.8888888888888888, \"#fdca26\"], [1.0, \"#f0f921\"]], \"type\": \"histogram2dcontour\"}], \"mesh3d\": [{\"colorbar\": {\"outlinewidth\": 0, \"ticks\": \"\"}, \"type\": \"mesh3d\"}], \"parcoords\": [{\"line\": {\"colorbar\": {\"outlinewidth\": 0, \"ticks\": \"\"}}, \"type\": \"parcoords\"}], \"pie\": [{\"automargin\": true, \"type\": \"pie\"}], \"scatter\": [{\"marker\": {\"colorbar\": {\"outlinewidth\": 0, \"ticks\": \"\"}}, \"type\": \"scatter\"}], \"scatter3d\": [{\"line\": {\"colorbar\": {\"outlinewidth\": 0, \"ticks\": \"\"}}, \"marker\": {\"colorbar\": {\"outlinewidth\": 0, \"ticks\": \"\"}}, \"type\": \"scatter3d\"}], \"scattercarpet\": [{\"marker\": {\"colorbar\": {\"outlinewidth\": 0, \"ticks\": \"\"}}, \"type\": \"scattercarpet\"}], \"scattergeo\": [{\"marker\": {\"colorbar\": {\"outlinewidth\": 0, \"ticks\": \"\"}}, \"type\": \"scattergeo\"}], \"scattergl\": [{\"marker\": {\"colorbar\": {\"outlinewidth\": 0, \"ticks\": \"\"}}, \"type\": \"scattergl\"}], \"scattermapbox\": [{\"marker\": {\"colorbar\": {\"outlinewidth\": 0, \"ticks\": \"\"}}, \"type\": \"scattermapbox\"}], \"scatterpolar\": [{\"marker\": {\"colorbar\": {\"outlinewidth\": 0, \"ticks\": \"\"}}, \"type\": \"scatterpolar\"}], \"scatterpolargl\": [{\"marker\": {\"colorbar\": {\"outlinewidth\": 0, \"ticks\": \"\"}}, \"type\": \"scatterpolargl\"}], \"scatterternary\": [{\"marker\": {\"colorbar\": {\"outlinewidth\": 0, \"ticks\": \"\"}}, \"type\": \"scatterternary\"}], \"surface\": [{\"colorbar\": {\"outlinewidth\": 0, \"ticks\": \"\"}, \"colorscale\": [[0.0, \"#0d0887\"], [0.1111111111111111, \"#46039f\"], [0.2222222222222222, \"#7201a8\"], [0.3333333333333333, \"#9c179e\"], [0.4444444444444444, \"#bd3786\"], [0.5555555555555556, \"#d8576b\"], [0.6666666666666666, \"#ed7953\"], [0.7777777777777778, \"#fb9f3a\"], [0.8888888888888888, \"#fdca26\"], [1.0, \"#f0f921\"]], \"type\": \"surface\"}], \"table\": [{\"cells\": {\"fill\": {\"color\": \"#EBF0F8\"}, \"line\": {\"color\": \"white\"}}, \"header\": {\"fill\": {\"color\": \"#C8D4E3\"}, \"line\": {\"color\": \"white\"}}, \"type\": \"table\"}]}, \"layout\": {\"annotationdefaults\": {\"arrowcolor\": \"#2a3f5f\", \"arrowhead\": 0, \"arrowwidth\": 1}, \"autotypenumbers\": \"strict\", \"coloraxis\": {\"colorbar\": {\"outlinewidth\": 0, \"ticks\": \"\"}}, \"colorscale\": {\"diverging\": [[0, \"#8e0152\"], [0.1, \"#c51b7d\"], [0.2, \"#de77ae\"], [0.3, \"#f1b6da\"], [0.4, \"#fde0ef\"], [0.5, \"#f7f7f7\"], [0.6, \"#e6f5d0\"], [0.7, \"#b8e186\"], [0.8, \"#7fbc41\"], [0.9, \"#4d9221\"], [1, \"#276419\"]], \"sequential\": [[0.0, \"#0d0887\"], [0.1111111111111111, \"#46039f\"], [0.2222222222222222, \"#7201a8\"], [0.3333333333333333, \"#9c179e\"], [0.4444444444444444, \"#bd3786\"], [0.5555555555555556, \"#d8576b\"], [0.6666666666666666, \"#ed7953\"], [0.7777777777777778, \"#fb9f3a\"], [0.8888888888888888, \"#fdca26\"], [1.0, \"#f0f921\"]], \"sequentialminus\": [[0.0, \"#0d0887\"], [0.1111111111111111, \"#46039f\"], [0.2222222222222222, \"#7201a8\"], [0.3333333333333333, \"#9c179e\"], [0.4444444444444444, \"#bd3786\"], [0.5555555555555556, \"#d8576b\"], [0.6666666666666666, \"#ed7953\"], [0.7777777777777778, \"#fb9f3a\"], [0.8888888888888888, \"#fdca26\"], [1.0, \"#f0f921\"]]}, \"colorway\": [\"#636efa\", \"#EF553B\", \"#00cc96\", \"#ab63fa\", \"#FFA15A\", \"#19d3f3\", \"#FF6692\", \"#B6E880\", \"#FF97FF\", \"#FECB52\"], \"font\": {\"color\": \"#2a3f5f\"}, \"geo\": {\"bgcolor\": \"white\", \"lakecolor\": \"white\", \"landcolor\": \"#E5ECF6\", \"showlakes\": true, \"showland\": true, \"subunitcolor\": \"white\"}, \"hoverlabel\": {\"align\": \"left\"}, \"hovermode\": \"closest\", \"mapbox\": {\"style\": \"light\"}, \"paper_bgcolor\": \"white\", \"plot_bgcolor\": \"#E5ECF6\", \"polar\": {\"angularaxis\": {\"gridcolor\": \"white\", \"linecolor\": \"white\", \"ticks\": \"\"}, \"bgcolor\": \"#E5ECF6\", \"radialaxis\": {\"gridcolor\": \"white\", \"linecolor\": \"white\", \"ticks\": \"\"}}, \"scene\": {\"xaxis\": {\"backgroundcolor\": \"#E5ECF6\", \"gridcolor\": \"white\", \"gridwidth\": 2, \"linecolor\": \"white\", \"showbackground\": true, \"ticks\": \"\", \"zerolinecolor\": \"white\"}, \"yaxis\": {\"backgroundcolor\": \"#E5ECF6\", \"gridcolor\": \"white\", \"gridwidth\": 2, \"linecolor\": \"white\", \"showbackground\": true, \"ticks\": \"\", \"zerolinecolor\": \"white\"}, \"zaxis\": {\"backgroundcolor\": \"#E5ECF6\", \"gridcolor\": \"white\", \"gridwidth\": 2, \"linecolor\": \"white\", \"showbackground\": true, \"ticks\": \"\", \"zerolinecolor\": \"white\"}}, \"shapedefaults\": {\"line\": {\"color\": \"#2a3f5f\"}}, \"ternary\": {\"aaxis\": {\"gridcolor\": \"white\", \"linecolor\": \"white\", \"ticks\": \"\"}, \"baxis\": {\"gridcolor\": \"white\", \"linecolor\": \"white\", \"ticks\": \"\"}, \"bgcolor\": \"#E5ECF6\", \"caxis\": {\"gridcolor\": \"white\", \"linecolor\": \"white\", \"ticks\": \"\"}}, \"title\": {\"x\": 0.05}, \"xaxis\": {\"automargin\": true, \"gridcolor\": \"white\", \"linecolor\": \"white\", \"ticks\": \"\", \"title\": {\"standoff\": 15}, \"zerolinecolor\": \"white\", \"zerolinewidth\": 2}, \"yaxis\": {\"automargin\": true, \"gridcolor\": \"white\", \"linecolor\": \"white\", \"ticks\": \"\", \"title\": {\"standoff\": 15}, \"zerolinecolor\": \"white\", \"zerolinewidth\": 2}}}, \"title\": {\"text\": \"FCK x Rompimento 28 Dias\"}, \"xaxis\": {\"anchor\": \"y\", \"domain\": [0.0, 1.0], \"title\": {\"text\": \"DataProjecao\"}}, \"yaxis\": {\"anchor\": \"x\", \"domain\": [0.0, 1.0], \"title\": {\"text\": \"LogRompimento7Dias\"}}},                        {\"responsive\": true}                    ).then(function(){\n",
       "                            \n",
       "var gd = document.getElementById('2680ccde-4b99-470c-9373-e108b12d6d0f');\n",
       "var x = new MutationObserver(function (mutations, observer) {{\n",
       "        var display = window.getComputedStyle(gd).display;\n",
       "        if (!display || display === 'none') {{\n",
       "            console.log([gd, 'removed!']);\n",
       "            Plotly.purge(gd);\n",
       "            observer.disconnect();\n",
       "        }}\n",
       "}});\n",
       "\n",
       "// Listen for the removal of the full notebook cells\n",
       "var notebookContainer = gd.closest('#notebook-container');\n",
       "if (notebookContainer) {{\n",
       "    x.observe(notebookContainer, {childList: true});\n",
       "}}\n",
       "\n",
       "// Listen for the clearing of the current output cell\n",
       "var outputEl = gd.closest('.output');\n",
       "if (outputEl) {{\n",
       "    x.observe(outputEl, {childList: true});\n",
       "}}\n",
       "\n",
       "                        })                };                });            </script>        </div>"
      ]
     },
     "metadata": {},
     "output_type": "display_data"
    }
   ],
   "source": [
    "df_aux = dados_aglomerante_modelo[dados_aglomerante_modelo[\"FCK\"] == 25]\n",
    "\n",
    "fig = px.scatter(df_aux, x=\"DataProjecao\", y=\"LogRompimento7Dias\", title='FCK x Rompimento 28 Dias')\n",
    "fig.show()"
   ]
  },
  {
   "cell_type": "code",
   "execution_count": 2056,
   "metadata": {},
   "outputs": [],
   "source": [
    "#coluna_pred = \"PercentualCrescimentoReal\"\n",
    "#coluna_comp = \"PercentualCrescimentoProjetado\"\n",
    "\n",
    "coluna_pred = \"Rompimento28Dias\"\n",
    "coluna_comp = \"ResultadoProjetado\"\n",
    "\n",
    "dados_aglomerante_modelo = dados_aglomerante[[\"LogRompimento7Dias\", \"FCK\", \"RelacaoAguaCimento\", coluna_pred, coluna_comp, \"Volume\", \"DataProjecao\"]]\n",
    "#dados_aglomerante_modelo[\"Rompimento28Predito\"] = dados_aglomerante_modelo[\"ResultadoProjetado\"]\n",
    "\n",
    "\n",
    "dados_aglomerante_modelo = dados_aglomerante_modelo.fillna(0)"
   ]
  },
  {
   "cell_type": "code",
   "execution_count": 2057,
   "metadata": {},
   "outputs": [],
   "source": [
    "def RemoveOutliers(dados, coluna):\n",
    "    q1 = dados[coluna].quantile(0.25)\n",
    "    q3 = dados[coluna].quantile(0.75)\n",
    "    iqr = q3 - q1\n",
    "    \n",
    "    maskOutlier = (dados[coluna] < (q1 - 1.5 * iqr)) | (dados[coluna] > (q3 + 1.5 * iqr))\n",
    "    retorno = dados[maskOutlier == False]\n",
    "    \n",
    "    return retorno\n",
    "\n",
    "def RemoveOutliersPorFCK(dados, coluna):\n",
    "    fcks = dados[\"FCK\"].sort_values().unique()\n",
    "    \n",
    "    retorno_final = pd.DataFrame(columns = dados.columns)\n",
    "    \n",
    "    for fck in fcks:\n",
    "        dados_fck = dados[dados[\"FCK\"] == fck]        \n",
    "        retorno = RemoveOutliers(dados_fck, coluna)\n",
    "        retorno_final = pd.concat([retorno_final, retorno], join = \"inner\")\n",
    "        \n",
    "    return retorno_final\n",
    "\n",
    "#dados_aglomerante = RemoveOutliers(dados_aglomerante, \"LogRompimento7Dias\")\n",
    "#dados_aglomerante = RemoveOutliers(dados_aglomerante, \"PercentualCrescimentoReal\")\n",
    "#dados_aglomerante = RemoveOutliers(dados_aglomerante, \"Rompimento28Dias\")\n",
    "#dados_aglomerante = RemoveOutliers(dados_aglomerante, \"ConsumoPorM3\")\n",
    "#dados_aglomerante = RemoveOutliers(dados_aglomerante, \"RelacaoAguaCimento\")"
   ]
  },
  {
   "cell_type": "code",
   "execution_count": 2073,
   "metadata": {},
   "outputs": [],
   "source": [
    "class TypeSelector(BaseEstimator, TransformerMixin):\n",
    "    def __init__(self, dtype):\n",
    "        self.dtype = dtype\n",
    "    def fit(self, X, y=None):\n",
    "        return self\n",
    "    def transform(self, X):        \n",
    "        assert isinstance(X, pd.DataFrame)\n",
    "        return X.select_dtypes(include=[self.dtype])\n",
    "    \n",
    "class Debug(BaseEstimator, TransformerMixin):\n",
    "    def __init__(self, dtype):\n",
    "        self.dtype = dtype\n",
    "    def fit(self, X, y=None):\n",
    "        return self\n",
    "    def transform(self, X):        \n",
    "        print(X)\n",
    "        \n",
    "parameters = {'loss':('ls', 'lad'),\n",
    "              'learning_rate': np.arange(0, 0.4, 0.1),\n",
    "              'min_samples_leaf': np.arange(1, 5, 1),\n",
    "              'min_samples_split': np.arange(1, 4, 1),\n",
    "              'n_estimators': np.arange(0, 20, 5)}\n",
    "\n",
    "#Crescimento -> GradientBoostingRegressor(random_state = 1, loss='lad', learning_rate = 0.23, min_samples_leaf = 5, min_samples_split = 5, n_estimators = 12))\n",
    "\n",
    "modelo = Pipeline([\n",
    "  ('features', FeatureUnion(\n",
    "      transformer_list=[\n",
    "          ('numericals', Pipeline([\n",
    "              ('scaler', MinMaxScaler())\n",
    "          ]))\n",
    "      ]\n",
    "  )),\n",
    "  #('model', GridSearchCV(estimator = GradientBoostingRegressor(random_state = 1), \n",
    "  #                       param_grid = parameters,\n",
    "  #                       cv=10))\n",
    "  #('model', GradientBoostingRegressor(random_state = 1, loss='ls', learning_rate = 0.2, min_samples_leaf = 1, min_samples_split = 6, n_estimators = 20))\n",
    "  ('model', LinearRegression())\n",
    "  #('model', DecisionTreeRegressor())\n",
    "  #('model', xgb.XGBRegressor(n_estimators = 20))\n",
    "])\n",
    "\n",
    "#{'ls', 'lad', 'huber', 'quantile'}"
   ]
  },
  {
   "cell_type": "code",
   "execution_count": 2074,
   "metadata": {},
   "outputs": [],
   "source": [
    "def EncontrarDadosTreino(data_projecao_atual):\n",
    "\n",
    "    data_inicio_busca_dados = data_projecao_atual - dt.timedelta(weeks = 18)\n",
    "    data_fim_busca_dados = data_projecao_atual - dt.timedelta(weeks = 4)\n",
    "    \n",
    "    mask_data_projecao_treino_inicio = dados_aglomerante_modelo[\"DataProjecao\"] >= data_inicio_busca_dados\n",
    "    mask_data_projecao_treino_final = dados_aglomerante_modelo[\"DataProjecao\"] <= data_fim_busca_dados\n",
    "          \n",
    "    dados_treino = dados_aglomerante_modelo[mask_data_projecao_treino_final]\n",
    "    #dados_treino = dados_aglomerante_modelo[mask_data_projecao_treino_inicio & mask_data_projecao_treino_final]\n",
    "    \n",
    "    return dados_treino\n",
    "\n",
    "def EncontrarDadosTeste(data_projecao_atual):\n",
    "    mask_data_projecao_teste = dados_aglomerante_modelo[\"DataProjecao\"] == data_projecao_atual\n",
    "    dados_teste = dados_aglomerante_modelo[mask_data_projecao_teste]\n",
    "    \n",
    "    return dados_teste"
   ]
  },
  {
   "cell_type": "code",
   "execution_count": 2075,
   "metadata": {},
   "outputs": [],
   "source": [
    "def EncontraPercentualAcerto():\n",
    "    mask_modelo_predito_melhor = df[\"ErroPredito\"] < df[\"ErroProjetado\"]\n",
    "    quantidade_nf_modelo_eh_melhor = len(df[mask_modelo_predito_melhor])\n",
    "    quantidade_total = len(df)\n",
    "\n",
    "    return quantidade_nf_modelo_eh_melhor/quantidade_total"
   ]
  },
  {
   "cell_type": "code",
   "execution_count": null,
   "metadata": {},
   "outputs": [],
   "source": []
  },
  {
   "cell_type": "code",
   "execution_count": 2076,
   "metadata": {},
   "outputs": [],
   "source": [
    "def CalculaErroProjetadoPorItem(item):\n",
    "    diff = abs(item[\"Projetado\"] - item[\"Real\"])\n",
    "    return diff * item[\"Volume\"]\n",
    "\n",
    "def CalculaErroPreditoPorItem(item):\n",
    "    diff = abs(item[\"Predito\"] - item[\"Real\"])\n",
    "    return diff * item[\"Volume\"]"
   ]
  },
  {
   "cell_type": "code",
   "execution_count": 2077,
   "metadata": {},
   "outputs": [],
   "source": [
    "def SubstituirValoresPreditos(y_pred, dados_teste):\n",
    "    j = 0\n",
    "    for i in dados_teste.index:        \n",
    "        dados_aglomerante_modelo.loc[i, \"Rompimento28Predito\"] = y_pred[j]\n",
    "        j = j + 1\n",
    "    \n",
    "    return dados_aglomerante_modelo"
   ]
  },
  {
   "cell_type": "code",
   "execution_count": 2078,
   "metadata": {},
   "outputs": [],
   "source": [
    "datas_projecao = pd.to_datetime(dados_aglomerante[\"DataProjecao\"])\n",
    "\n",
    "data_projecao_atual = datas_projecao.iloc[7]\n",
    "ultima_data_projecao = datas_projecao.iloc[len(datas_projecao) - 1]\n",
    "\n",
    "lista_datas_projecao = []\n",
    "quantidade_dados_treino = []\n",
    "quantidade_dados_teste = []\n",
    "percentuais_acerto = []\n",
    "erros_projetado = []\n",
    "erros_predito = []\n",
    "\n",
    "while (data_projecao_atual < ultima_data_projecao):\n",
    "    df = pd.DataFrame(columns = [\"Real\", \"Projetado\", \"Predito\", \"Volume\"])\n",
    "\n",
    "    dados_treino = EncontrarDadosTreino(data_projecao_atual)\n",
    "    dados_treino_sem_outliers = RemoveOutliersPorFCK(dados_treino, \"LogRompimento7Dias\")\n",
    "    #dados_sem_outliers = RemoveOutliersPorFCK(dados_sem_outliers, \"Rompimento28Dias\")\n",
    "    #dados_sem_outliers = RemoveOutliersPorFCK(dados_sem_outliers, \"ConsumoPorM3\")\n",
    "    dados_treino_sem_outliers = RemoveOutliersPorFCK(dados_treino_sem_outliers, \"RelacaoAguaCimento\")\n",
    "    \n",
    "    tam_dados_treino = len(dados_treino_sem_outliers)\n",
    "    \n",
    "    dados_teste = EncontrarDadosTeste(data_projecao_atual)\n",
    "    tam_dados_teste = len(dados_teste)\n",
    "    \n",
    "    if (tam_dados_treino == 0):\n",
    "        data_projecao_atual = data_projecao_atual + dt.timedelta(weeks = 1)\n",
    "        continue\n",
    "    elif (tam_dados_teste == 0):\n",
    "        data_projecao_atual = data_projecao_atual + dt.timedelta(weeks = 1)\n",
    "        continue\n",
    "    \n",
    "    lista_datas_projecao.append(data_projecao_atual)\n",
    "    quantidade_dados_treino.append(tam_dados_treino)\n",
    "    quantidade_dados_teste.append(tam_dados_teste)\n",
    "    \n",
    "    x_train = dados_treino_sem_outliers.drop([coluna_pred, \"DataProjecao\", \"FCK\"], axis = 1)\n",
    "    y_train = dados_treino_sem_outliers[coluna_pred].values\n",
    "\n",
    "    x_test = dados_teste.drop([coluna_pred, \"DataProjecao\", \"FCK\"], axis = 1)\n",
    "    y_test = dados_teste[coluna_pred].values\n",
    "    \n",
    "    y_train = y_train.reshape(-1, 1)\n",
    "    y_test = y_test.reshape(-1, 1)\n",
    "    \n",
    "    x_train_modelo = x_train.drop([coluna_comp, \"Volume\"], axis = 1)\n",
    "    x_test_modelo = x_test.drop([coluna_comp, \"Volume\"], axis = 1)    \n",
    "    \n",
    "    modelo.fit(x_train_modelo, y_train)\n",
    "    y_pred = modelo.predict(x_test_modelo)\n",
    "    \n",
    "    #dados_aglomerante_modelo = SubstituirValoresPreditos(y_pred, dados_teste)\n",
    "    \n",
    "    #mask_data_proj = dados_aglomerante_modelo[\"DataProjecao\"] == data_projecao_atual\n",
    "    #dados_aglomerante_modelo[mask_data_proj][\"Rompimento28Predito\"] = y_pred    \n",
    "        \n",
    "    df[\"Real\"] = y_test.reshape(1, -1)[0]\n",
    "    df[\"Projetado\"] = x_test[coluna_comp].values\n",
    "    df[\"Predito\"] = y_pred\n",
    "    df[\"Volume\"] = x_test[\"Volume\"].values\n",
    "    \n",
    "    df[\"ErroProjetado\"] = df.apply(CalculaErroProjetadoPorItem, axis = \"columns\")\n",
    "    df[\"ErroPredito\"] = df.apply(CalculaErroPreditoPorItem, axis = \"columns\")\n",
    "    \n",
    "    erros_projetado.append(df[\"ErroProjetado\"].sum())\n",
    "    erros_predito.append(df[\"ErroPredito\"].sum())\n",
    "    \n",
    "    perc_acerto = EncontraPercentualAcerto()    \n",
    "    percentuais_acerto.append(perc_acerto)\n",
    "    \n",
    "    data_projecao_atual = data_projecao_atual + dt.timedelta(weeks = 1)"
   ]
  },
  {
   "cell_type": "code",
   "execution_count": 2091,
   "metadata": {},
   "outputs": [],
   "source": []
  },
  {
   "cell_type": "code",
   "execution_count": null,
   "metadata": {},
   "outputs": [],
   "source": []
  },
  {
   "cell_type": "code",
   "execution_count": null,
   "metadata": {},
   "outputs": [],
   "source": []
  },
  {
   "cell_type": "code",
   "execution_count": null,
   "metadata": {},
   "outputs": [],
   "source": []
  },
  {
   "cell_type": "code",
   "execution_count": null,
   "metadata": {},
   "outputs": [],
   "source": []
  },
  {
   "cell_type": "code",
   "execution_count": 2029,
   "metadata": {},
   "outputs": [
    {
     "data": {
      "text/html": [
       "<div>\n",
       "<style scoped>\n",
       "    .dataframe tbody tr th:only-of-type {\n",
       "        vertical-align: middle;\n",
       "    }\n",
       "\n",
       "    .dataframe tbody tr th {\n",
       "        vertical-align: top;\n",
       "    }\n",
       "\n",
       "    .dataframe thead th {\n",
       "        text-align: right;\n",
       "    }\n",
       "</style>\n",
       "<table border=\"1\" class=\"dataframe\">\n",
       "  <thead>\n",
       "    <tr style=\"text-align: right;\">\n",
       "      <th></th>\n",
       "      <th>LogRompimento7Dias</th>\n",
       "      <th>FCK</th>\n",
       "      <th>RelacaoAguaCimento</th>\n",
       "      <th>Rompimento28Dias</th>\n",
       "      <th>ResultadoProjetado</th>\n",
       "      <th>Volume</th>\n",
       "      <th>DataProjecao</th>\n",
       "      <th>Rompimento28Predito</th>\n",
       "    </tr>\n",
       "  </thead>\n",
       "  <tbody>\n",
       "    <tr>\n",
       "      <th>38008</th>\n",
       "      <td>3.247658</td>\n",
       "      <td>30.0</td>\n",
       "      <td>0.538674</td>\n",
       "      <td>35.08</td>\n",
       "      <td>35.882105</td>\n",
       "      <td>6.0</td>\n",
       "      <td>2017-03-10</td>\n",
       "      <td>35.882105</td>\n",
       "    </tr>\n",
       "    <tr>\n",
       "      <th>38107</th>\n",
       "      <td>3.105483</td>\n",
       "      <td>30.0</td>\n",
       "      <td>0.528249</td>\n",
       "      <td>31.90</td>\n",
       "      <td>31.821606</td>\n",
       "      <td>6.0</td>\n",
       "      <td>2017-03-24</td>\n",
       "      <td>31.821606</td>\n",
       "    </tr>\n",
       "    <tr>\n",
       "      <th>38106</th>\n",
       "      <td>3.146735</td>\n",
       "      <td>30.0</td>\n",
       "      <td>0.533898</td>\n",
       "      <td>30.93</td>\n",
       "      <td>32.951628</td>\n",
       "      <td>6.0</td>\n",
       "      <td>2017-03-24</td>\n",
       "      <td>32.951628</td>\n",
       "    </tr>\n",
       "    <tr>\n",
       "      <th>38113</th>\n",
       "      <td>3.091497</td>\n",
       "      <td>30.0</td>\n",
       "      <td>0.539548</td>\n",
       "      <td>30.60</td>\n",
       "      <td>31.447056</td>\n",
       "      <td>6.0</td>\n",
       "      <td>2017-03-31</td>\n",
       "      <td>32.636667</td>\n",
       "    </tr>\n",
       "    <tr>\n",
       "      <th>38111</th>\n",
       "      <td>2.991222</td>\n",
       "      <td>30.0</td>\n",
       "      <td>0.533898</td>\n",
       "      <td>30.30</td>\n",
       "      <td>28.883882</td>\n",
       "      <td>7.0</td>\n",
       "      <td>2017-03-31</td>\n",
       "      <td>32.636667</td>\n",
       "    </tr>\n",
       "    <tr>\n",
       "      <th>...</th>\n",
       "      <td>...</td>\n",
       "      <td>...</td>\n",
       "      <td>...</td>\n",
       "      <td>...</td>\n",
       "      <td>...</td>\n",
       "      <td>...</td>\n",
       "      <td>...</td>\n",
       "      <td>...</td>\n",
       "    </tr>\n",
       "    <tr>\n",
       "      <th>40102</th>\n",
       "      <td>3.231595</td>\n",
       "      <td>25.0</td>\n",
       "      <td>0.689394</td>\n",
       "      <td>34.88</td>\n",
       "      <td>29.615966</td>\n",
       "      <td>6.0</td>\n",
       "      <td>2019-03-22</td>\n",
       "      <td>33.840363</td>\n",
       "    </tr>\n",
       "    <tr>\n",
       "      <th>40099</th>\n",
       "      <td>3.141563</td>\n",
       "      <td>25.0</td>\n",
       "      <td>0.784141</td>\n",
       "      <td>32.73</td>\n",
       "      <td>27.266093</td>\n",
       "      <td>8.0</td>\n",
       "      <td>2019-03-22</td>\n",
       "      <td>29.813169</td>\n",
       "    </tr>\n",
       "    <tr>\n",
       "      <th>42597</th>\n",
       "      <td>3.129389</td>\n",
       "      <td>25.0</td>\n",
       "      <td>0.678700</td>\n",
       "      <td>34.88</td>\n",
       "      <td>29.190957</td>\n",
       "      <td>5.0</td>\n",
       "      <td>2019-04-05</td>\n",
       "      <td>29.190957</td>\n",
       "    </tr>\n",
       "    <tr>\n",
       "      <th>42596</th>\n",
       "      <td>3.255015</td>\n",
       "      <td>25.0</td>\n",
       "      <td>0.678700</td>\n",
       "      <td>33.07</td>\n",
       "      <td>32.593692</td>\n",
       "      <td>8.0</td>\n",
       "      <td>2019-04-05</td>\n",
       "      <td>32.593692</td>\n",
       "    </tr>\n",
       "    <tr>\n",
       "      <th>45474</th>\n",
       "      <td>3.199897</td>\n",
       "      <td>20.0</td>\n",
       "      <td>0.761719</td>\n",
       "      <td>33.29</td>\n",
       "      <td>31.055372</td>\n",
       "      <td>7.0</td>\n",
       "      <td>2019-04-05</td>\n",
       "      <td>31.055372</td>\n",
       "    </tr>\n",
       "  </tbody>\n",
       "</table>\n",
       "<p>350 rows × 8 columns</p>\n",
       "</div>"
      ],
      "text/plain": [
       "       LogRompimento7Dias   FCK  RelacaoAguaCimento  Rompimento28Dias  \\\n",
       "38008            3.247658  30.0            0.538674             35.08   \n",
       "38107            3.105483  30.0            0.528249             31.90   \n",
       "38106            3.146735  30.0            0.533898             30.93   \n",
       "38113            3.091497  30.0            0.539548             30.60   \n",
       "38111            2.991222  30.0            0.533898             30.30   \n",
       "...                   ...   ...                 ...               ...   \n",
       "40102            3.231595  25.0            0.689394             34.88   \n",
       "40099            3.141563  25.0            0.784141             32.73   \n",
       "42597            3.129389  25.0            0.678700             34.88   \n",
       "42596            3.255015  25.0            0.678700             33.07   \n",
       "45474            3.199897  20.0            0.761719             33.29   \n",
       "\n",
       "       ResultadoProjetado  Volume DataProjecao  Rompimento28Predito  \n",
       "38008           35.882105     6.0   2017-03-10            35.882105  \n",
       "38107           31.821606     6.0   2017-03-24            31.821606  \n",
       "38106           32.951628     6.0   2017-03-24            32.951628  \n",
       "38113           31.447056     6.0   2017-03-31            32.636667  \n",
       "38111           28.883882     7.0   2017-03-31            32.636667  \n",
       "...                   ...     ...          ...                  ...  \n",
       "40102           29.615966     6.0   2019-03-22            33.840363  \n",
       "40099           27.266093     8.0   2019-03-22            29.813169  \n",
       "42597           29.190957     5.0   2019-04-05            29.190957  \n",
       "42596           32.593692     8.0   2019-04-05            32.593692  \n",
       "45474           31.055372     7.0   2019-04-05            31.055372  \n",
       "\n",
       "[350 rows x 8 columns]"
      ]
     },
     "execution_count": 2029,
     "metadata": {},
     "output_type": "execute_result"
    }
   ],
   "source": [
    "dados_aglomerante_modelo"
   ]
  },
  {
   "cell_type": "code",
   "execution_count": 2092,
   "metadata": {},
   "outputs": [],
   "source": [
    "lista_datas_projecao_convertida = pd.to_datetime(lista_datas_projecao)"
   ]
  },
  {
   "cell_type": "code",
   "execution_count": 2095,
   "metadata": {},
   "outputs": [
    {
     "data": {
      "text/html": [
       "<div>\n",
       "<style scoped>\n",
       "    .dataframe tbody tr th:only-of-type {\n",
       "        vertical-align: middle;\n",
       "    }\n",
       "\n",
       "    .dataframe tbody tr th {\n",
       "        vertical-align: top;\n",
       "    }\n",
       "\n",
       "    .dataframe thead th {\n",
       "        text-align: right;\n",
       "    }\n",
       "</style>\n",
       "<table border=\"1\" class=\"dataframe\">\n",
       "  <thead>\n",
       "    <tr style=\"text-align: right;\">\n",
       "      <th></th>\n",
       "      <th>DataProjecao</th>\n",
       "      <th>QuantidadeDadosTreino</th>\n",
       "      <th>QuantidadeDadosTeste</th>\n",
       "      <th>PercentualAcerto</th>\n",
       "      <th>ErroProjetado</th>\n",
       "      <th>ErroPredito</th>\n",
       "      <th>ErroProjetadoNormalizado</th>\n",
       "      <th>ErroPreditoNormalizado</th>\n",
       "    </tr>\n",
       "  </thead>\n",
       "  <tbody>\n",
       "    <tr>\n",
       "      <th>0</th>\n",
       "      <td>2017-04-14</td>\n",
       "      <td>1</td>\n",
       "      <td>6</td>\n",
       "      <td>0.500000</td>\n",
       "      <td>109.540311</td>\n",
       "      <td>105.680000</td>\n",
       "      <td>0.176087</td>\n",
       "      <td>0.169683</td>\n",
       "    </tr>\n",
       "    <tr>\n",
       "      <th>1</th>\n",
       "      <td>2017-04-21</td>\n",
       "      <td>3</td>\n",
       "      <td>1</td>\n",
       "      <td>0.000000</td>\n",
       "      <td>9.138084</td>\n",
       "      <td>561.525327</td>\n",
       "      <td>0.009545</td>\n",
       "      <td>0.925815</td>\n",
       "    </tr>\n",
       "    <tr>\n",
       "      <th>2</th>\n",
       "      <td>2017-05-12</td>\n",
       "      <td>11</td>\n",
       "      <td>3</td>\n",
       "      <td>1.000000</td>\n",
       "      <td>31.268317</td>\n",
       "      <td>15.611437</td>\n",
       "      <td>0.046253</td>\n",
       "      <td>0.020283</td>\n",
       "    </tr>\n",
       "    <tr>\n",
       "      <th>3</th>\n",
       "      <td>2017-05-19</td>\n",
       "      <td>11</td>\n",
       "      <td>2</td>\n",
       "      <td>0.000000</td>\n",
       "      <td>8.464721</td>\n",
       "      <td>20.714759</td>\n",
       "      <td>0.008428</td>\n",
       "      <td>0.028748</td>\n",
       "    </tr>\n",
       "    <tr>\n",
       "      <th>4</th>\n",
       "      <td>2017-07-07</td>\n",
       "      <td>15</td>\n",
       "      <td>7</td>\n",
       "      <td>0.571429</td>\n",
       "      <td>145.647931</td>\n",
       "      <td>128.515333</td>\n",
       "      <td>0.235980</td>\n",
       "      <td>0.207561</td>\n",
       "    </tr>\n",
       "  </tbody>\n",
       "</table>\n",
       "</div>"
      ],
      "text/plain": [
       "  DataProjecao  QuantidadeDadosTreino  QuantidadeDadosTeste  PercentualAcerto  \\\n",
       "0   2017-04-14                      1                     6          0.500000   \n",
       "1   2017-04-21                      3                     1          0.000000   \n",
       "2   2017-05-12                     11                     3          1.000000   \n",
       "3   2017-05-19                     11                     2          0.000000   \n",
       "4   2017-07-07                     15                     7          0.571429   \n",
       "\n",
       "   ErroProjetado  ErroPredito  ErroProjetadoNormalizado  \\\n",
       "0     109.540311   105.680000                  0.176087   \n",
       "1       9.138084   561.525327                  0.009545   \n",
       "2      31.268317    15.611437                  0.046253   \n",
       "3       8.464721    20.714759                  0.008428   \n",
       "4     145.647931   128.515333                  0.235980   \n",
       "\n",
       "   ErroPreditoNormalizado  \n",
       "0                0.169683  \n",
       "1                0.925815  \n",
       "2                0.020283  \n",
       "3                0.028748  \n",
       "4                0.207561  "
      ]
     },
     "execution_count": 2095,
     "metadata": {},
     "output_type": "execute_result"
    }
   ],
   "source": [
    "df_total = pd.DataFrame()\n",
    "\n",
    "df_total[\"DataProjecao\"] = lista_datas_projecao_convertida\n",
    "df_total[\"QuantidadeDadosTreino\"] = quantidade_dados_treino\n",
    "df_total[\"QuantidadeDadosTeste\"] = quantidade_dados_teste\n",
    "df_total[\"PercentualAcerto\"] = percentuais_acerto\n",
    "df_total[\"ErroProjetado\"] = erros_projetado\n",
    "df_total[\"ErroPredito\"] = erros_predito\n",
    "\n",
    "df_total[\"ErroProjetadoNormalizado\"] = df_total.apply(NormalizarErrosProjetado, axis = \"columns\")\n",
    "df_total[\"ErroPreditoNormalizado\"] = df_total.apply(NormalizarErrosPredito, axis = \"columns\")\n",
    "\n",
    "df_total.sort_values(\"DataProjecao\", ascending = True).head(5)"
   ]
  },
  {
   "cell_type": "code",
   "execution_count": 2096,
   "metadata": {},
   "outputs": [],
   "source": [
    "def EncontrarMenorErro():\n",
    "    min_erro_proj = df_total[\"ErroProjetado\"].min()\n",
    "    min_erro_pred = df_total[\"ErroPredito\"].min()\n",
    "    \n",
    "    if (min_erro_proj < min_erro_pred):\n",
    "        min_value = min_erro_proj\n",
    "    else:\n",
    "        min_value = min_erro_pred\n",
    "    \n",
    "    return min_value\n",
    "   \n",
    "def EncontrarMaiorErro():\n",
    "    max_erro_proj = df_total[\"ErroProjetado\"].max()\n",
    "    max_erro_pred = df_total[\"ErroPredito\"].max()\n",
    "\n",
    "    if (max_erro_proj > max_erro_pred):\n",
    "        max_value = max_erro_proj\n",
    "    else:\n",
    "        max_value = max_erro_pred\n",
    "        \n",
    "    return max_value\n",
    "        \n",
    "min_value = EncontrarMenorErro()\n",
    "max_value = EncontrarMaiorErro()\n",
    "\n",
    "diff = max_value - min_value\n",
    "\n",
    "def NormalizarErrosProjetado(item):\n",
    "    diff_sup = item[\"ErroProjetado\"] - min_value\n",
    "    return diff_sup/diff\n",
    "\n",
    "def NormalizarErrosPredito(item):\n",
    "    diff_sup = item[\"ErroPredito\"] - min_value\n",
    "    return diff_sup/diff\n",
    "\n",
    "    "
   ]
  },
  {
   "cell_type": "code",
   "execution_count": 2094,
   "metadata": {},
   "outputs": [
    {
     "data": {
      "text/html": [
       "<div>\n",
       "<style scoped>\n",
       "    .dataframe tbody tr th:only-of-type {\n",
       "        vertical-align: middle;\n",
       "    }\n",
       "\n",
       "    .dataframe tbody tr th {\n",
       "        vertical-align: top;\n",
       "    }\n",
       "\n",
       "    .dataframe thead th {\n",
       "        text-align: right;\n",
       "    }\n",
       "</style>\n",
       "<table border=\"1\" class=\"dataframe\">\n",
       "  <thead>\n",
       "    <tr style=\"text-align: right;\">\n",
       "      <th></th>\n",
       "      <th>DataProjecao</th>\n",
       "      <th>QuantidadeDadosTreino</th>\n",
       "      <th>QuantidadeDadosTeste</th>\n",
       "      <th>PercentualAcerto</th>\n",
       "      <th>ErroProjetado</th>\n",
       "      <th>ErroPredito</th>\n",
       "      <th>ErroProjetadoNormalizado</th>\n",
       "      <th>ErroPreditoNormalizado</th>\n",
       "    </tr>\n",
       "  </thead>\n",
       "  <tbody>\n",
       "    <tr>\n",
       "      <th>0</th>\n",
       "      <td>2017-04-14</td>\n",
       "      <td>1</td>\n",
       "      <td>6</td>\n",
       "      <td>0.500000</td>\n",
       "      <td>109.540311</td>\n",
       "      <td>105.680000</td>\n",
       "      <td>0.176087</td>\n",
       "      <td>0.169683</td>\n",
       "    </tr>\n",
       "    <tr>\n",
       "      <th>1</th>\n",
       "      <td>2017-04-21</td>\n",
       "      <td>3</td>\n",
       "      <td>1</td>\n",
       "      <td>0.000000</td>\n",
       "      <td>9.138084</td>\n",
       "      <td>561.525327</td>\n",
       "      <td>0.009545</td>\n",
       "      <td>0.925815</td>\n",
       "    </tr>\n",
       "    <tr>\n",
       "      <th>2</th>\n",
       "      <td>2017-05-12</td>\n",
       "      <td>11</td>\n",
       "      <td>3</td>\n",
       "      <td>1.000000</td>\n",
       "      <td>31.268317</td>\n",
       "      <td>15.611437</td>\n",
       "      <td>0.046253</td>\n",
       "      <td>0.020283</td>\n",
       "    </tr>\n",
       "    <tr>\n",
       "      <th>3</th>\n",
       "      <td>2017-05-19</td>\n",
       "      <td>11</td>\n",
       "      <td>2</td>\n",
       "      <td>0.000000</td>\n",
       "      <td>8.464721</td>\n",
       "      <td>20.714759</td>\n",
       "      <td>0.008428</td>\n",
       "      <td>0.028748</td>\n",
       "    </tr>\n",
       "    <tr>\n",
       "      <th>4</th>\n",
       "      <td>2017-07-07</td>\n",
       "      <td>15</td>\n",
       "      <td>7</td>\n",
       "      <td>0.571429</td>\n",
       "      <td>145.647931</td>\n",
       "      <td>128.515333</td>\n",
       "      <td>0.235980</td>\n",
       "      <td>0.207561</td>\n",
       "    </tr>\n",
       "  </tbody>\n",
       "</table>\n",
       "</div>"
      ],
      "text/plain": [
       "  DataProjecao  QuantidadeDadosTreino  QuantidadeDadosTeste  PercentualAcerto  \\\n",
       "0   2017-04-14                      1                     6          0.500000   \n",
       "1   2017-04-21                      3                     1          0.000000   \n",
       "2   2017-05-12                     11                     3          1.000000   \n",
       "3   2017-05-19                     11                     2          0.000000   \n",
       "4   2017-07-07                     15                     7          0.571429   \n",
       "\n",
       "   ErroProjetado  ErroPredito  ErroProjetadoNormalizado  \\\n",
       "0     109.540311   105.680000                  0.176087   \n",
       "1       9.138084   561.525327                  0.009545   \n",
       "2      31.268317    15.611437                  0.046253   \n",
       "3       8.464721    20.714759                  0.008428   \n",
       "4     145.647931   128.515333                  0.235980   \n",
       "\n",
       "   ErroPreditoNormalizado  \n",
       "0                0.169683  \n",
       "1                0.925815  \n",
       "2                0.020283  \n",
       "3                0.028748  \n",
       "4                0.207561  "
      ]
     },
     "execution_count": 2094,
     "metadata": {},
     "output_type": "execute_result"
    }
   ],
   "source": []
  },
  {
   "cell_type": "code",
   "execution_count": 2097,
   "metadata": {},
   "outputs": [
    {
     "name": "stdout",
     "output_type": "stream",
     "text": [
      "Soma Erro Projetado 9.290447993748339\n",
      "Soma Erro Predito 8.31087818118344\n",
      "Percentual Erro Predito 89.45616171336341\n",
      "Percentual Acerto Total: 0.56\n",
      "Menor Percentual Acerto:\n",
      "43    0.1\n",
      "Name: PercentualAcerto, dtype: float64\n",
      "Maior Percentual Acerto:\n",
      "28    0.9\n",
      "Name: PercentualAcerto, dtype: float64\n"
     ]
    },
    {
     "name": "stderr",
     "output_type": "stream",
     "text": [
      "<ipython-input-2097-9789e6686c70>:25: UserWarning:\n",
      "\n",
      "Boolean Series key will be reindexed to match DataFrame index.\n",
      "\n"
     ]
    }
   ],
   "source": [
    "#df_total = df_total[df_total[\"DataProjecao\"] >= dt.datetime(2018,1,1)]\n",
    "\n",
    "soma_erro_proj = df_total[\"ErroProjetadoNormalizado\"].sum()\n",
    "soma_erro_pred = df_total[\"ErroPreditoNormalizado\"].sum()\n",
    "\n",
    "perc_erro_normalizado = soma_erro_pred * 100 / soma_erro_proj\n",
    "\n",
    "print(\"Soma Erro Projetado\", df_total[\"ErroProjetadoNormalizado\"].sum())\n",
    "print(\"Soma Erro Predito\", df_total[\"ErroPreditoNormalizado\"].sum())\n",
    "\n",
    "print(\"Percentual Erro Predito\", perc_erro_normalizado)\n",
    "\n",
    "mask_perc_acerto_maior_50 = df_total[\"PercentualAcerto\"] > 0.5\n",
    "quantidade_acertos = len(df_total[mask_perc_acerto_maior_50][\"PercentualAcerto\"])\n",
    "quantidade_total = len(df_total)\n",
    "\n",
    "perc_acerto_geral = quantidade_acertos/quantidade_total\n",
    "\n",
    "print(\"Percentual Acerto Total:\", perc_acerto_geral)\n",
    "\n",
    "mask_perc_diff_zero = df_total[\"PercentualAcerto\"] > 0\n",
    "mask_perc_diff_um = df_total[\"PercentualAcerto\"] < 1\n",
    "\n",
    "df_total = df_total.sort_values(\"PercentualAcerto\")\n",
    "df_total_sem_zero_e_um = df_total[mask_perc_diff_zero & mask_perc_diff_um]\n",
    "\n",
    "print(\"Menor Percentual Acerto:\")\n",
    "print(df_total_sem_zero_e_um[\"PercentualAcerto\"].head(1))\n",
    "\n",
    "print(\"Maior Percentual Acerto:\")\n",
    "print(df_total_sem_zero_e_um[\"PercentualAcerto\"].tail(1))"
   ]
  },
  {
   "cell_type": "code",
   "execution_count": null,
   "metadata": {},
   "outputs": [],
   "source": []
  },
  {
   "cell_type": "code",
   "execution_count": null,
   "metadata": {},
   "outputs": [],
   "source": []
  },
  {
   "cell_type": "code",
   "execution_count": null,
   "metadata": {},
   "outputs": [],
   "source": []
  },
  {
   "cell_type": "code",
   "execution_count": null,
   "metadata": {},
   "outputs": [],
   "source": []
  },
  {
   "cell_type": "code",
   "execution_count": null,
   "metadata": {},
   "outputs": [],
   "source": []
  },
  {
   "cell_type": "code",
   "execution_count": null,
   "metadata": {},
   "outputs": [],
   "source": []
  },
  {
   "cell_type": "code",
   "execution_count": 464,
   "metadata": {},
   "outputs": [
    {
     "data": {
      "text/html": [
       "<div>\n",
       "<style scoped>\n",
       "    .dataframe tbody tr th:only-of-type {\n",
       "        vertical-align: middle;\n",
       "    }\n",
       "\n",
       "    .dataframe tbody tr th {\n",
       "        vertical-align: top;\n",
       "    }\n",
       "\n",
       "    .dataframe thead th {\n",
       "        text-align: right;\n",
       "    }\n",
       "</style>\n",
       "<table border=\"1\" class=\"dataframe\">\n",
       "  <thead>\n",
       "    <tr style=\"text-align: right;\">\n",
       "      <th></th>\n",
       "      <th>DataProjecao</th>\n",
       "      <th>QuantidadeDadosTreino</th>\n",
       "      <th>QuantidadeDadosTeste</th>\n",
       "      <th>PercentualAcerto</th>\n",
       "      <th>ErroProjetado</th>\n",
       "      <th>ErroPredito</th>\n",
       "    </tr>\n",
       "  </thead>\n",
       "  <tbody>\n",
       "    <tr>\n",
       "      <th>0</th>\n",
       "      <td>2017-04-14</td>\n",
       "      <td>1</td>\n",
       "      <td>6</td>\n",
       "      <td>0.500000</td>\n",
       "      <td>13.692539</td>\n",
       "      <td>13.210000</td>\n",
       "    </tr>\n",
       "    <tr>\n",
       "      <th>1</th>\n",
       "      <td>2017-04-21</td>\n",
       "      <td>3</td>\n",
       "      <td>1</td>\n",
       "      <td>0.000000</td>\n",
       "      <td>1.142260</td>\n",
       "      <td>2.373333</td>\n",
       "    </tr>\n",
       "    <tr>\n",
       "      <th>2</th>\n",
       "      <td>2017-05-05</td>\n",
       "      <td>9</td>\n",
       "      <td>1</td>\n",
       "      <td>0.000000</td>\n",
       "      <td>4.080412</td>\n",
       "      <td>11.651247</td>\n",
       "    </tr>\n",
       "    <tr>\n",
       "      <th>3</th>\n",
       "      <td>2017-05-12</td>\n",
       "      <td>14</td>\n",
       "      <td>10</td>\n",
       "      <td>0.100000</td>\n",
       "      <td>27.378964</td>\n",
       "      <td>83.204344</td>\n",
       "    </tr>\n",
       "    <tr>\n",
       "      <th>4</th>\n",
       "      <td>2017-05-19</td>\n",
       "      <td>15</td>\n",
       "      <td>7</td>\n",
       "      <td>0.000000</td>\n",
       "      <td>13.643976</td>\n",
       "      <td>68.665207</td>\n",
       "    </tr>\n",
       "    <tr>\n",
       "      <th>5</th>\n",
       "      <td>2017-06-23</td>\n",
       "      <td>18</td>\n",
       "      <td>1</td>\n",
       "      <td>1.000000</td>\n",
       "      <td>7.286463</td>\n",
       "      <td>3.346581</td>\n",
       "    </tr>\n",
       "    <tr>\n",
       "      <th>6</th>\n",
       "      <td>2017-06-30</td>\n",
       "      <td>18</td>\n",
       "      <td>1</td>\n",
       "      <td>0.000000</td>\n",
       "      <td>0.998804</td>\n",
       "      <td>4.629074</td>\n",
       "    </tr>\n",
       "    <tr>\n",
       "      <th>7</th>\n",
       "      <td>2017-07-07</td>\n",
       "      <td>17</td>\n",
       "      <td>9</td>\n",
       "      <td>0.666667</td>\n",
       "      <td>27.417473</td>\n",
       "      <td>23.549187</td>\n",
       "    </tr>\n",
       "    <tr>\n",
       "      <th>8</th>\n",
       "      <td>2017-07-28</td>\n",
       "      <td>2</td>\n",
       "      <td>2</td>\n",
       "      <td>1.000000</td>\n",
       "      <td>7.124127</td>\n",
       "      <td>3.170000</td>\n",
       "    </tr>\n",
       "    <tr>\n",
       "      <th>9</th>\n",
       "      <td>2017-08-04</td>\n",
       "      <td>11</td>\n",
       "      <td>12</td>\n",
       "      <td>0.416667</td>\n",
       "      <td>51.022818</td>\n",
       "      <td>55.386801</td>\n",
       "    </tr>\n",
       "    <tr>\n",
       "      <th>10</th>\n",
       "      <td>2017-08-11</td>\n",
       "      <td>11</td>\n",
       "      <td>1</td>\n",
       "      <td>0.000000</td>\n",
       "      <td>1.801330</td>\n",
       "      <td>3.031296</td>\n",
       "    </tr>\n",
       "    <tr>\n",
       "      <th>11</th>\n",
       "      <td>2017-11-17</td>\n",
       "      <td>19</td>\n",
       "      <td>1</td>\n",
       "      <td>1.000000</td>\n",
       "      <td>4.565448</td>\n",
       "      <td>1.124628</td>\n",
       "    </tr>\n",
       "    <tr>\n",
       "      <th>12</th>\n",
       "      <td>2017-11-24</td>\n",
       "      <td>31</td>\n",
       "      <td>1</td>\n",
       "      <td>1.000000</td>\n",
       "      <td>2.902841</td>\n",
       "      <td>0.473439</td>\n",
       "    </tr>\n",
       "    <tr>\n",
       "      <th>13</th>\n",
       "      <td>2017-12-15</td>\n",
       "      <td>61</td>\n",
       "      <td>2</td>\n",
       "      <td>1.000000</td>\n",
       "      <td>5.567594</td>\n",
       "      <td>3.119976</td>\n",
       "    </tr>\n",
       "    <tr>\n",
       "      <th>14</th>\n",
       "      <td>2017-12-29</td>\n",
       "      <td>31</td>\n",
       "      <td>1</td>\n",
       "      <td>1.000000</td>\n",
       "      <td>3.871357</td>\n",
       "      <td>1.085148</td>\n",
       "    </tr>\n",
       "    <tr>\n",
       "      <th>15</th>\n",
       "      <td>2018-01-05</td>\n",
       "      <td>18</td>\n",
       "      <td>11</td>\n",
       "      <td>1.000000</td>\n",
       "      <td>39.487643</td>\n",
       "      <td>16.348199</td>\n",
       "    </tr>\n",
       "    <tr>\n",
       "      <th>16</th>\n",
       "      <td>2018-01-12</td>\n",
       "      <td>4</td>\n",
       "      <td>4</td>\n",
       "      <td>0.750000</td>\n",
       "      <td>11.385968</td>\n",
       "      <td>5.745005</td>\n",
       "    </tr>\n",
       "    <tr>\n",
       "      <th>17</th>\n",
       "      <td>2018-01-26</td>\n",
       "      <td>3</td>\n",
       "      <td>2</td>\n",
       "      <td>0.000000</td>\n",
       "      <td>1.598541</td>\n",
       "      <td>14.460000</td>\n",
       "    </tr>\n",
       "    <tr>\n",
       "      <th>18</th>\n",
       "      <td>2018-03-09</td>\n",
       "      <td>6</td>\n",
       "      <td>5</td>\n",
       "      <td>0.000000</td>\n",
       "      <td>4.955468</td>\n",
       "      <td>48.778961</td>\n",
       "    </tr>\n",
       "    <tr>\n",
       "      <th>19</th>\n",
       "      <td>2018-03-16</td>\n",
       "      <td>2</td>\n",
       "      <td>3</td>\n",
       "      <td>0.000000</td>\n",
       "      <td>9.083279</td>\n",
       "      <td>16.650000</td>\n",
       "    </tr>\n",
       "    <tr>\n",
       "      <th>20</th>\n",
       "      <td>2018-08-03</td>\n",
       "      <td>6</td>\n",
       "      <td>16</td>\n",
       "      <td>0.250000</td>\n",
       "      <td>24.129240</td>\n",
       "      <td>41.966615</td>\n",
       "    </tr>\n",
       "    <tr>\n",
       "      <th>21</th>\n",
       "      <td>2018-08-10</td>\n",
       "      <td>9</td>\n",
       "      <td>21</td>\n",
       "      <td>0.238095</td>\n",
       "      <td>24.645891</td>\n",
       "      <td>63.204083</td>\n",
       "    </tr>\n",
       "    <tr>\n",
       "      <th>22</th>\n",
       "      <td>2018-08-17</td>\n",
       "      <td>11</td>\n",
       "      <td>3</td>\n",
       "      <td>0.333333</td>\n",
       "      <td>9.138287</td>\n",
       "      <td>9.594936</td>\n",
       "    </tr>\n",
       "    <tr>\n",
       "      <th>23</th>\n",
       "      <td>2018-08-24</td>\n",
       "      <td>11</td>\n",
       "      <td>5</td>\n",
       "      <td>0.000000</td>\n",
       "      <td>7.641191</td>\n",
       "      <td>23.328854</td>\n",
       "    </tr>\n",
       "    <tr>\n",
       "      <th>24</th>\n",
       "      <td>2018-08-31</td>\n",
       "      <td>27</td>\n",
       "      <td>5</td>\n",
       "      <td>0.200000</td>\n",
       "      <td>9.891186</td>\n",
       "      <td>27.475130</td>\n",
       "    </tr>\n",
       "    <tr>\n",
       "      <th>25</th>\n",
       "      <td>2018-09-07</td>\n",
       "      <td>42</td>\n",
       "      <td>1</td>\n",
       "      <td>1.000000</td>\n",
       "      <td>3.640841</td>\n",
       "      <td>0.581760</td>\n",
       "    </tr>\n",
       "    <tr>\n",
       "      <th>26</th>\n",
       "      <td>2018-09-21</td>\n",
       "      <td>45</td>\n",
       "      <td>1</td>\n",
       "      <td>1.000000</td>\n",
       "      <td>3.492307</td>\n",
       "      <td>2.767564</td>\n",
       "    </tr>\n",
       "    <tr>\n",
       "      <th>27</th>\n",
       "      <td>2018-09-28</td>\n",
       "      <td>50</td>\n",
       "      <td>3</td>\n",
       "      <td>0.666667</td>\n",
       "      <td>3.802130</td>\n",
       "      <td>3.426916</td>\n",
       "    </tr>\n",
       "    <tr>\n",
       "      <th>28</th>\n",
       "      <td>2018-10-05</td>\n",
       "      <td>35</td>\n",
       "      <td>9</td>\n",
       "      <td>1.000000</td>\n",
       "      <td>31.724288</td>\n",
       "      <td>10.159318</td>\n",
       "    </tr>\n",
       "    <tr>\n",
       "      <th>29</th>\n",
       "      <td>2018-10-12</td>\n",
       "      <td>14</td>\n",
       "      <td>10</td>\n",
       "      <td>0.500000</td>\n",
       "      <td>42.202164</td>\n",
       "      <td>48.122944</td>\n",
       "    </tr>\n",
       "  </tbody>\n",
       "</table>\n",
       "</div>"
      ],
      "text/plain": [
       "   DataProjecao  QuantidadeDadosTreino  QuantidadeDadosTeste  \\\n",
       "0    2017-04-14                      1                     6   \n",
       "1    2017-04-21                      3                     1   \n",
       "2    2017-05-05                      9                     1   \n",
       "3    2017-05-12                     14                    10   \n",
       "4    2017-05-19                     15                     7   \n",
       "5    2017-06-23                     18                     1   \n",
       "6    2017-06-30                     18                     1   \n",
       "7    2017-07-07                     17                     9   \n",
       "8    2017-07-28                      2                     2   \n",
       "9    2017-08-04                     11                    12   \n",
       "10   2017-08-11                     11                     1   \n",
       "11   2017-11-17                     19                     1   \n",
       "12   2017-11-24                     31                     1   \n",
       "13   2017-12-15                     61                     2   \n",
       "14   2017-12-29                     31                     1   \n",
       "15   2018-01-05                     18                    11   \n",
       "16   2018-01-12                      4                     4   \n",
       "17   2018-01-26                      3                     2   \n",
       "18   2018-03-09                      6                     5   \n",
       "19   2018-03-16                      2                     3   \n",
       "20   2018-08-03                      6                    16   \n",
       "21   2018-08-10                      9                    21   \n",
       "22   2018-08-17                     11                     3   \n",
       "23   2018-08-24                     11                     5   \n",
       "24   2018-08-31                     27                     5   \n",
       "25   2018-09-07                     42                     1   \n",
       "26   2018-09-21                     45                     1   \n",
       "27   2018-09-28                     50                     3   \n",
       "28   2018-10-05                     35                     9   \n",
       "29   2018-10-12                     14                    10   \n",
       "\n",
       "    PercentualAcerto  ErroProjetado  ErroPredito  \n",
       "0           0.500000      13.692539    13.210000  \n",
       "1           0.000000       1.142260     2.373333  \n",
       "2           0.000000       4.080412    11.651247  \n",
       "3           0.100000      27.378964    83.204344  \n",
       "4           0.000000      13.643976    68.665207  \n",
       "5           1.000000       7.286463     3.346581  \n",
       "6           0.000000       0.998804     4.629074  \n",
       "7           0.666667      27.417473    23.549187  \n",
       "8           1.000000       7.124127     3.170000  \n",
       "9           0.416667      51.022818    55.386801  \n",
       "10          0.000000       1.801330     3.031296  \n",
       "11          1.000000       4.565448     1.124628  \n",
       "12          1.000000       2.902841     0.473439  \n",
       "13          1.000000       5.567594     3.119976  \n",
       "14          1.000000       3.871357     1.085148  \n",
       "15          1.000000      39.487643    16.348199  \n",
       "16          0.750000      11.385968     5.745005  \n",
       "17          0.000000       1.598541    14.460000  \n",
       "18          0.000000       4.955468    48.778961  \n",
       "19          0.000000       9.083279    16.650000  \n",
       "20          0.250000      24.129240    41.966615  \n",
       "21          0.238095      24.645891    63.204083  \n",
       "22          0.333333       9.138287     9.594936  \n",
       "23          0.000000       7.641191    23.328854  \n",
       "24          0.200000       9.891186    27.475130  \n",
       "25          1.000000       3.640841     0.581760  \n",
       "26          1.000000       3.492307     2.767564  \n",
       "27          0.666667       3.802130     3.426916  \n",
       "28          1.000000      31.724288    10.159318  \n",
       "29          0.500000      42.202164    48.122944  "
      ]
     },
     "execution_count": 464,
     "metadata": {},
     "output_type": "execute_result"
    }
   ],
   "source": [
    "df_total.head(30)\n",
    "#Semanas 8 a 4"
   ]
  },
  {
   "cell_type": "code",
   "execution_count": null,
   "metadata": {},
   "outputs": [],
   "source": []
  }
 ],
 "metadata": {
  "kernelspec": {
   "display_name": "Python 3",
   "language": "python",
   "name": "python3"
  },
  "language_info": {
   "codemirror_mode": {
    "name": "ipython",
    "version": 3
   },
   "file_extension": ".py",
   "mimetype": "text/x-python",
   "name": "python",
   "nbconvert_exporter": "python",
   "pygments_lexer": "ipython3",
   "version": "3.8.5"
  }
 },
 "nbformat": 4,
 "nbformat_minor": 4
}

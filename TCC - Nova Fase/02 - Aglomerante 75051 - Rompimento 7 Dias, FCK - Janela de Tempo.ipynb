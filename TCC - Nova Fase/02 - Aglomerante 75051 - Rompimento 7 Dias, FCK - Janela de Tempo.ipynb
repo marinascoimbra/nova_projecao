{
 "cells": [
  {
   "cell_type": "code",
   "execution_count": 1722,
   "metadata": {},
   "outputs": [],
   "source": [
    "import pandas as pd\n",
    "import numpy as np\n",
    "import datetime as dt\n",
    "import seaborn as sns\n",
    "import matplotlib.pyplot as plt\n",
    "import plotly.express as px\n",
    "\n",
    "import xgboost as xgb\n",
    "from sklearn.preprocessing import MinMaxScaler\n",
    "from sklearn.manifold import LocallyLinearEmbedding\n",
    "from sklearn.linear_model import LinearRegression\n",
    "from sklearn.model_selection import GridSearchCV\n",
    "from sklearn.ensemble import GradientBoostingRegressor\n",
    "from sklearn.pipeline import Pipeline, FeatureUnion\n",
    "from sklearn.model_selection import train_test_split\n",
    "from sklearn.base import BaseEstimator, TransformerMixin"
   ]
  },
  {
   "cell_type": "code",
   "execution_count": 1723,
   "metadata": {},
   "outputs": [
    {
     "data": {
      "text/html": [
       "<div>\n",
       "<style scoped>\n",
       "    .dataframe tbody tr th:only-of-type {\n",
       "        vertical-align: middle;\n",
       "    }\n",
       "\n",
       "    .dataframe tbody tr th {\n",
       "        vertical-align: top;\n",
       "    }\n",
       "\n",
       "    .dataframe thead th {\n",
       "        text-align: right;\n",
       "    }\n",
       "</style>\n",
       "<table border=\"1\" class=\"dataframe\">\n",
       "  <thead>\n",
       "    <tr style=\"text-align: right;\">\n",
       "      <th></th>\n",
       "      <th>CodigoNotaFiscal</th>\n",
       "      <th>CodigoCentroSaida</th>\n",
       "      <th>CodigoReceita</th>\n",
       "      <th>Volume</th>\n",
       "      <th>TipoLancamento</th>\n",
       "      <th>DataEmissaoNotaFiscal</th>\n",
       "      <th>CodigoCliente</th>\n",
       "      <th>CodigoMotorista</th>\n",
       "      <th>Status</th>\n",
       "      <th>QuantidadeAgua</th>\n",
       "      <th>...</th>\n",
       "      <th>Rompimento7Dias</th>\n",
       "      <th>Rompimento28Dias</th>\n",
       "      <th>ConsumoPorM3</th>\n",
       "      <th>DesvioAplicado</th>\n",
       "      <th>ResultadoEsperado</th>\n",
       "      <th>ResultadoProjetado</th>\n",
       "      <th>PercentualCrescimentoReal</th>\n",
       "      <th>PercentualCrescimentoProjetado</th>\n",
       "      <th>RelacaoAguaCimento</th>\n",
       "      <th>DataProjecao</th>\n",
       "    </tr>\n",
       "  </thead>\n",
       "  <tbody>\n",
       "    <tr>\n",
       "      <th>0</th>\n",
       "      <td>346641</td>\n",
       "      <td>80020</td>\n",
       "      <td>672051</td>\n",
       "      <td>8.0</td>\n",
       "      <td>B</td>\n",
       "      <td>2015-01-16 07:35:31.770</td>\n",
       "      <td>6248051</td>\n",
       "      <td>11080</td>\n",
       "      <td>N</td>\n",
       "      <td>145.6</td>\n",
       "      <td>...</td>\n",
       "      <td>20.83</td>\n",
       "      <td>31.81</td>\n",
       "      <td>340.0</td>\n",
       "      <td>3.5</td>\n",
       "      <td>39.430782</td>\n",
       "      <td>33.321754</td>\n",
       "      <td>52.712434</td>\n",
       "      <td>59.970014</td>\n",
       "      <td>0.535294</td>\n",
       "      <td>2015-01-16</td>\n",
       "    </tr>\n",
       "    <tr>\n",
       "      <th>1</th>\n",
       "      <td>346661</td>\n",
       "      <td>80020</td>\n",
       "      <td>672051</td>\n",
       "      <td>8.0</td>\n",
       "      <td>B</td>\n",
       "      <td>2015-01-16 08:20:03.153</td>\n",
       "      <td>6248051</td>\n",
       "      <td>87079</td>\n",
       "      <td>N</td>\n",
       "      <td>145.6</td>\n",
       "      <td>...</td>\n",
       "      <td>19.62</td>\n",
       "      <td>31.21</td>\n",
       "      <td>340.0</td>\n",
       "      <td>3.5</td>\n",
       "      <td>39.430782</td>\n",
       "      <td>31.799067</td>\n",
       "      <td>59.072375</td>\n",
       "      <td>62.074756</td>\n",
       "      <td>0.535294</td>\n",
       "      <td>2015-01-16</td>\n",
       "    </tr>\n",
       "    <tr>\n",
       "      <th>2</th>\n",
       "      <td>346695</td>\n",
       "      <td>80020</td>\n",
       "      <td>672051</td>\n",
       "      <td>7.0</td>\n",
       "      <td>B</td>\n",
       "      <td>2015-01-16 10:05:20.293</td>\n",
       "      <td>6248051</td>\n",
       "      <td>43080</td>\n",
       "      <td>N</td>\n",
       "      <td>127.4</td>\n",
       "      <td>...</td>\n",
       "      <td>21.97</td>\n",
       "      <td>36.68</td>\n",
       "      <td>340.0</td>\n",
       "      <td>3.5</td>\n",
       "      <td>39.430782</td>\n",
       "      <td>34.733698</td>\n",
       "      <td>66.954939</td>\n",
       "      <td>58.096029</td>\n",
       "      <td>0.535294</td>\n",
       "      <td>2015-01-16</td>\n",
       "    </tr>\n",
       "    <tr>\n",
       "      <th>3</th>\n",
       "      <td>347367</td>\n",
       "      <td>80020</td>\n",
       "      <td>672051</td>\n",
       "      <td>8.0</td>\n",
       "      <td>B</td>\n",
       "      <td>2015-01-20 18:52:57.373</td>\n",
       "      <td>12343051</td>\n",
       "      <td>43080</td>\n",
       "      <td>N</td>\n",
       "      <td>145.6</td>\n",
       "      <td>...</td>\n",
       "      <td>28.21</td>\n",
       "      <td>40.21</td>\n",
       "      <td>340.0</td>\n",
       "      <td>3.5</td>\n",
       "      <td>39.430782</td>\n",
       "      <td>42.118539</td>\n",
       "      <td>42.538107</td>\n",
       "      <td>49.303577</td>\n",
       "      <td>0.535294</td>\n",
       "      <td>2015-01-23</td>\n",
       "    </tr>\n",
       "    <tr>\n",
       "      <th>4</th>\n",
       "      <td>347388</td>\n",
       "      <td>80020</td>\n",
       "      <td>672051</td>\n",
       "      <td>6.0</td>\n",
       "      <td>B</td>\n",
       "      <td>2015-01-21 07:08:54.847</td>\n",
       "      <td>6248051</td>\n",
       "      <td>42080</td>\n",
       "      <td>N</td>\n",
       "      <td>109.2</td>\n",
       "      <td>...</td>\n",
       "      <td>25.80</td>\n",
       "      <td>38.74</td>\n",
       "      <td>340.0</td>\n",
       "      <td>3.5</td>\n",
       "      <td>39.430782</td>\n",
       "      <td>39.330637</td>\n",
       "      <td>50.155039</td>\n",
       "      <td>52.444329</td>\n",
       "      <td>0.535294</td>\n",
       "      <td>2015-01-23</td>\n",
       "    </tr>\n",
       "  </tbody>\n",
       "</table>\n",
       "<p>5 rows × 26 columns</p>\n",
       "</div>"
      ],
      "text/plain": [
       "   CodigoNotaFiscal  CodigoCentroSaida  CodigoReceita  Volume TipoLancamento  \\\n",
       "0            346641              80020         672051     8.0              B   \n",
       "1            346661              80020         672051     8.0              B   \n",
       "2            346695              80020         672051     7.0              B   \n",
       "3            347367              80020         672051     8.0              B   \n",
       "4            347388              80020         672051     6.0              B   \n",
       "\n",
       "     DataEmissaoNotaFiscal  CodigoCliente  CodigoMotorista Status  \\\n",
       "0  2015-01-16 07:35:31.770        6248051            11080      N   \n",
       "1  2015-01-16 08:20:03.153        6248051            87079      N   \n",
       "2  2015-01-16 10:05:20.293        6248051            43080      N   \n",
       "3  2015-01-20 18:52:57.373       12343051            43080      N   \n",
       "4  2015-01-21 07:08:54.847        6248051            42080      N   \n",
       "\n",
       "   QuantidadeAgua  ... Rompimento7Dias  Rompimento28Dias  ConsumoPorM3  \\\n",
       "0           145.6  ...           20.83             31.81         340.0   \n",
       "1           145.6  ...           19.62             31.21         340.0   \n",
       "2           127.4  ...           21.97             36.68         340.0   \n",
       "3           145.6  ...           28.21             40.21         340.0   \n",
       "4           109.2  ...           25.80             38.74         340.0   \n",
       "\n",
       "  DesvioAplicado  ResultadoEsperado  ResultadoProjetado  \\\n",
       "0            3.5          39.430782           33.321754   \n",
       "1            3.5          39.430782           31.799067   \n",
       "2            3.5          39.430782           34.733698   \n",
       "3            3.5          39.430782           42.118539   \n",
       "4            3.5          39.430782           39.330637   \n",
       "\n",
       "   PercentualCrescimentoReal  PercentualCrescimentoProjetado  \\\n",
       "0                  52.712434                       59.970014   \n",
       "1                  59.072375                       62.074756   \n",
       "2                  66.954939                       58.096029   \n",
       "3                  42.538107                       49.303577   \n",
       "4                  50.155039                       52.444329   \n",
       "\n",
       "   RelacaoAguaCimento  DataProjecao  \n",
       "0            0.535294    2015-01-16  \n",
       "1            0.535294    2015-01-16  \n",
       "2            0.535294    2015-01-16  \n",
       "3            0.535294    2015-01-23  \n",
       "4            0.535294    2015-01-23  \n",
       "\n",
       "[5 rows x 26 columns]"
      ]
     },
     "execution_count": 1723,
     "metadata": {},
     "output_type": "execute_result"
    }
   ],
   "source": [
    "dados = pd.read_csv(\"dados_pre_processados.csv\")\n",
    "dados.drop(\"Unnamed: 0\", axis = \"columns\", inplace=True)\n",
    "dados.head()"
   ]
  },
  {
   "cell_type": "code",
   "execution_count": 1724,
   "metadata": {},
   "outputs": [
    {
     "data": {
      "text/html": [
       "<div>\n",
       "<style scoped>\n",
       "    .dataframe tbody tr th:only-of-type {\n",
       "        vertical-align: middle;\n",
       "    }\n",
       "\n",
       "    .dataframe tbody tr th {\n",
       "        vertical-align: top;\n",
       "    }\n",
       "\n",
       "    .dataframe thead th {\n",
       "        text-align: right;\n",
       "    }\n",
       "</style>\n",
       "<table border=\"1\" class=\"dataframe\">\n",
       "  <thead>\n",
       "    <tr style=\"text-align: right;\">\n",
       "      <th></th>\n",
       "      <th>CodigoNotaFiscal</th>\n",
       "      <th>CodigoCentroSaida</th>\n",
       "      <th>CodigoReceita</th>\n",
       "      <th>Volume</th>\n",
       "      <th>TipoLancamento</th>\n",
       "      <th>DataEmissaoNotaFiscal</th>\n",
       "      <th>CodigoCliente</th>\n",
       "      <th>CodigoMotorista</th>\n",
       "      <th>Status</th>\n",
       "      <th>QuantidadeAgua</th>\n",
       "      <th>...</th>\n",
       "      <th>Rompimento7Dias</th>\n",
       "      <th>Rompimento28Dias</th>\n",
       "      <th>ConsumoPorM3</th>\n",
       "      <th>DesvioAplicado</th>\n",
       "      <th>ResultadoEsperado</th>\n",
       "      <th>ResultadoProjetado</th>\n",
       "      <th>PercentualCrescimentoReal</th>\n",
       "      <th>PercentualCrescimentoProjetado</th>\n",
       "      <th>RelacaoAguaCimento</th>\n",
       "      <th>DataProjecao</th>\n",
       "    </tr>\n",
       "  </thead>\n",
       "  <tbody>\n",
       "    <tr>\n",
       "      <th>38008</th>\n",
       "      <td>445227</td>\n",
       "      <td>51020</td>\n",
       "      <td>33488051</td>\n",
       "      <td>6.0</td>\n",
       "      <td>B</td>\n",
       "      <td>2017-03-08 14:43:53.140</td>\n",
       "      <td>133258051</td>\n",
       "      <td>812051</td>\n",
       "      <td>N</td>\n",
       "      <td>117.0</td>\n",
       "      <td>...</td>\n",
       "      <td>25.73</td>\n",
       "      <td>35.08</td>\n",
       "      <td>362.0</td>\n",
       "      <td>6.0</td>\n",
       "      <td>46.095231</td>\n",
       "      <td>35.882105</td>\n",
       "      <td>36.338904</td>\n",
       "      <td>39.456298</td>\n",
       "      <td>0.538674</td>\n",
       "      <td>2017-03-10</td>\n",
       "    </tr>\n",
       "    <tr>\n",
       "      <th>38066</th>\n",
       "      <td>472682</td>\n",
       "      <td>51020</td>\n",
       "      <td>33535051</td>\n",
       "      <td>8.0</td>\n",
       "      <td>B</td>\n",
       "      <td>2017-11-13 08:06:27.303</td>\n",
       "      <td>225643998</td>\n",
       "      <td>85079</td>\n",
       "      <td>N</td>\n",
       "      <td>143.2</td>\n",
       "      <td>...</td>\n",
       "      <td>24.26</td>\n",
       "      <td>33.40</td>\n",
       "      <td>320.0</td>\n",
       "      <td>6.0</td>\n",
       "      <td>44.353206</td>\n",
       "      <td>28.834552</td>\n",
       "      <td>37.675185</td>\n",
       "      <td>18.856358</td>\n",
       "      <td>0.559375</td>\n",
       "      <td>2017-11-17</td>\n",
       "    </tr>\n",
       "    <tr>\n",
       "      <th>38067</th>\n",
       "      <td>473524</td>\n",
       "      <td>51020</td>\n",
       "      <td>33535051</td>\n",
       "      <td>8.0</td>\n",
       "      <td>B</td>\n",
       "      <td>2017-11-21 07:35:58.153</td>\n",
       "      <td>225643998</td>\n",
       "      <td>624051</td>\n",
       "      <td>N</td>\n",
       "      <td>173.6</td>\n",
       "      <td>...</td>\n",
       "      <td>24.24</td>\n",
       "      <td>31.72</td>\n",
       "      <td>320.0</td>\n",
       "      <td>6.0</td>\n",
       "      <td>35.558927</td>\n",
       "      <td>28.817159</td>\n",
       "      <td>30.858086</td>\n",
       "      <td>18.882667</td>\n",
       "      <td>0.678125</td>\n",
       "      <td>2017-11-24</td>\n",
       "    </tr>\n",
       "    <tr>\n",
       "      <th>38068</th>\n",
       "      <td>475527</td>\n",
       "      <td>51020</td>\n",
       "      <td>33535051</td>\n",
       "      <td>8.0</td>\n",
       "      <td>B</td>\n",
       "      <td>2017-12-11 08:50:55.937</td>\n",
       "      <td>225643998</td>\n",
       "      <td>731051</td>\n",
       "      <td>N</td>\n",
       "      <td>173.6</td>\n",
       "      <td>...</td>\n",
       "      <td>23.45</td>\n",
       "      <td>31.12</td>\n",
       "      <td>320.0</td>\n",
       "      <td>6.0</td>\n",
       "      <td>35.558927</td>\n",
       "      <td>28.125844</td>\n",
       "      <td>32.707889</td>\n",
       "      <td>19.939631</td>\n",
       "      <td>0.678125</td>\n",
       "      <td>2017-12-15</td>\n",
       "    </tr>\n",
       "    <tr>\n",
       "      <th>38069</th>\n",
       "      <td>475669</td>\n",
       "      <td>51020</td>\n",
       "      <td>33535051</td>\n",
       "      <td>8.0</td>\n",
       "      <td>B</td>\n",
       "      <td>2017-12-12 08:02:35.123</td>\n",
       "      <td>225643998</td>\n",
       "      <td>340051</td>\n",
       "      <td>N</td>\n",
       "      <td>173.6</td>\n",
       "      <td>...</td>\n",
       "      <td>20.88</td>\n",
       "      <td>28.39</td>\n",
       "      <td>320.0</td>\n",
       "      <td>6.0</td>\n",
       "      <td>35.558927</td>\n",
       "      <td>25.816563</td>\n",
       "      <td>35.967433</td>\n",
       "      <td>23.642543</td>\n",
       "      <td>0.678125</td>\n",
       "      <td>2017-12-15</td>\n",
       "    </tr>\n",
       "  </tbody>\n",
       "</table>\n",
       "<p>5 rows × 26 columns</p>\n",
       "</div>"
      ],
      "text/plain": [
       "       CodigoNotaFiscal  CodigoCentroSaida  CodigoReceita  Volume  \\\n",
       "38008            445227              51020       33488051     6.0   \n",
       "38066            472682              51020       33535051     8.0   \n",
       "38067            473524              51020       33535051     8.0   \n",
       "38068            475527              51020       33535051     8.0   \n",
       "38069            475669              51020       33535051     8.0   \n",
       "\n",
       "      TipoLancamento    DataEmissaoNotaFiscal  CodigoCliente  CodigoMotorista  \\\n",
       "38008              B  2017-03-08 14:43:53.140      133258051           812051   \n",
       "38066              B  2017-11-13 08:06:27.303      225643998            85079   \n",
       "38067              B  2017-11-21 07:35:58.153      225643998           624051   \n",
       "38068              B  2017-12-11 08:50:55.937      225643998           731051   \n",
       "38069              B  2017-12-12 08:02:35.123      225643998           340051   \n",
       "\n",
       "      Status  QuantidadeAgua  ... Rompimento7Dias  Rompimento28Dias  \\\n",
       "38008      N           117.0  ...           25.73             35.08   \n",
       "38066      N           143.2  ...           24.26             33.40   \n",
       "38067      N           173.6  ...           24.24             31.72   \n",
       "38068      N           173.6  ...           23.45             31.12   \n",
       "38069      N           173.6  ...           20.88             28.39   \n",
       "\n",
       "       ConsumoPorM3 DesvioAplicado  ResultadoEsperado  ResultadoProjetado  \\\n",
       "38008         362.0            6.0          46.095231           35.882105   \n",
       "38066         320.0            6.0          44.353206           28.834552   \n",
       "38067         320.0            6.0          35.558927           28.817159   \n",
       "38068         320.0            6.0          35.558927           28.125844   \n",
       "38069         320.0            6.0          35.558927           25.816563   \n",
       "\n",
       "       PercentualCrescimentoReal  PercentualCrescimentoProjetado  \\\n",
       "38008                  36.338904                       39.456298   \n",
       "38066                  37.675185                       18.856358   \n",
       "38067                  30.858086                       18.882667   \n",
       "38068                  32.707889                       19.939631   \n",
       "38069                  35.967433                       23.642543   \n",
       "\n",
       "       RelacaoAguaCimento  DataProjecao  \n",
       "38008            0.538674    2017-03-10  \n",
       "38066            0.559375    2017-11-17  \n",
       "38067            0.678125    2017-11-24  \n",
       "38068            0.678125    2017-12-15  \n",
       "38069            0.678125    2017-12-15  \n",
       "\n",
       "[5 rows x 26 columns]"
      ]
     },
     "execution_count": 1724,
     "metadata": {},
     "output_type": "execute_result"
    }
   ],
   "source": [
    "mask_aglomerante = dados[\"CodigoAglomerante\"] == 75051\n",
    "dados_aglomerante = dados[mask_aglomerante]\n",
    "dados_aglomerante.head()"
   ]
  },
  {
   "cell_type": "code",
   "execution_count": 1725,
   "metadata": {},
   "outputs": [
    {
     "data": {
      "text/plain": [
       "N    361\n",
       "E    105\n",
       "Name: TipoTraco, dtype: int64"
      ]
     },
     "execution_count": 1725,
     "metadata": {},
     "output_type": "execute_result"
    }
   ],
   "source": [
    "dados_aglomerante[\"TipoTraco\"].value_counts()"
   ]
  },
  {
   "cell_type": "code",
   "execution_count": 1726,
   "metadata": {},
   "outputs": [
    {
     "data": {
      "text/plain": [
       "B    366\n",
       "C    100\n",
       "Name: TipoLancamento, dtype: int64"
      ]
     },
     "execution_count": 1726,
     "metadata": {},
     "output_type": "execute_result"
    }
   ],
   "source": [
    "dados_aglomerante[\"TipoLancamento\"].value_counts()"
   ]
  },
  {
   "cell_type": "code",
   "execution_count": 1727,
   "metadata": {},
   "outputs": [
    {
     "data": {
      "text/plain": [
       "466"
      ]
     },
     "execution_count": 1727,
     "metadata": {},
     "output_type": "execute_result"
    }
   ],
   "source": [
    "len(dados_aglomerante)"
   ]
  },
  {
   "cell_type": "code",
   "execution_count": 1728,
   "metadata": {},
   "outputs": [
    {
     "name": "stderr",
     "output_type": "stream",
     "text": [
      "<ipython-input-1728-336d0659c33b>:1: SettingWithCopyWarning:\n",
      "\n",
      "\n",
      "A value is trying to be set on a copy of a slice from a DataFrame.\n",
      "Try using .loc[row_indexer,col_indexer] = value instead\n",
      "\n",
      "See the caveats in the documentation: https://pandas.pydata.org/pandas-docs/stable/user_guide/indexing.html#returning-a-view-versus-a-copy\n",
      "\n"
     ]
    }
   ],
   "source": [
    "dados_aglomerante[\"LogRompimento7Dias\"] = np.log(dados_aglomerante[\"Rompimento7Dias\"])"
   ]
  },
  {
   "cell_type": "code",
   "execution_count": 1120,
   "metadata": {},
   "outputs": [
    {
     "data": {
      "application/vnd.plotly.v1+json": {
       "config": {
        "plotlyServerURL": "https://plot.ly"
       },
       "data": [
        {
         "alignmentgroup": "True",
         "hovertemplate": "TipoLancamento=%{x}<br>Rompimento28Dias=%{y}<extra></extra>",
         "legendgroup": "",
         "marker": {
          "color": "#636efa"
         },
         "name": "",
         "notched": false,
         "offsetgroup": "",
         "orientation": "v",
         "showlegend": false,
         "type": "box",
         "x": [
          "B",
          "B",
          "B",
          "B",
          "B",
          "B",
          "B",
          "B",
          "B",
          "C",
          "C",
          "C",
          "C",
          "C",
          "C",
          "B",
          "B",
          "B",
          "B",
          "B",
          "B",
          "B",
          "B",
          "B",
          "B",
          "B",
          "B",
          "B",
          "B",
          "B",
          "B",
          "B",
          "B",
          "B",
          "B",
          "B",
          "B",
          "B",
          "B",
          "B",
          "B",
          "B",
          "B",
          "B",
          "B",
          "B",
          "B",
          "B",
          "B",
          "B",
          "B",
          "B",
          "B",
          "B",
          "B",
          "B",
          "B",
          "B",
          "B",
          "B",
          "B",
          "B",
          "B",
          "B",
          "B",
          "B",
          "C",
          "C",
          "C",
          "C",
          "C",
          "C",
          "C",
          "C",
          "C",
          "C",
          "C",
          "C",
          "C",
          "C",
          "C",
          "C",
          "C",
          "C",
          "C",
          "C",
          "C",
          "C",
          "C",
          "C",
          "C",
          "C",
          "C",
          "C",
          "C",
          "B",
          "B",
          "B",
          "B",
          "B",
          "B",
          "B",
          "B",
          "B",
          "B",
          "B",
          "C",
          "C",
          "C",
          "B",
          "B",
          "B",
          "B",
          "B",
          "B",
          "B",
          "B",
          "B",
          "B",
          "B",
          "B",
          "B",
          "B",
          "B",
          "B",
          "B",
          "B",
          "B",
          "B",
          "B",
          "B",
          "B",
          "B",
          "B",
          "B",
          "B",
          "B",
          "B",
          "B",
          "B",
          "B",
          "B",
          "B",
          "B",
          "B",
          "B",
          "B",
          "B",
          "B",
          "B",
          "B",
          "B",
          "B",
          "B",
          "B",
          "B",
          "B",
          "B",
          "B",
          "B",
          "B",
          "B",
          "B",
          "B",
          "B",
          "B",
          "B",
          "B",
          "B",
          "B",
          "B",
          "B",
          "B",
          "B",
          "B",
          "B",
          "B",
          "B",
          "B",
          "C",
          "C",
          "C",
          "C",
          "C",
          "C",
          "C",
          "C",
          "C",
          "C",
          "C",
          "C",
          "C",
          "C",
          "C",
          "C",
          "C",
          "C",
          "C",
          "C",
          "C",
          "C",
          "C",
          "C",
          "C",
          "C",
          "C",
          "C",
          "C",
          "C",
          "C",
          "C",
          "C",
          "C",
          "C",
          "C",
          "C",
          "C",
          "C",
          "C",
          "C",
          "C",
          "C",
          "C",
          "C",
          "C",
          "C",
          "B",
          "B",
          "B",
          "B",
          "B",
          "B",
          "B",
          "B",
          "B",
          "B",
          "B",
          "B",
          "B",
          "B",
          "B",
          "B",
          "B",
          "B",
          "B",
          "B",
          "B",
          "B",
          "B",
          "B",
          "B",
          "B",
          "B",
          "B",
          "B",
          "B",
          "B",
          "B",
          "B",
          "B",
          "B",
          "B",
          "B",
          "B",
          "B",
          "B",
          "B",
          "B",
          "B",
          "B",
          "B",
          "B",
          "B",
          "B",
          "B",
          "B",
          "B",
          "B",
          "B",
          "B",
          "B",
          "B",
          "B",
          "B",
          "B",
          "B",
          "B",
          "B",
          "B",
          "B",
          "B",
          "B",
          "B",
          "B",
          "B",
          "B",
          "B",
          "B",
          "B",
          "B",
          "B",
          "B",
          "B",
          "B",
          "B",
          "B",
          "B",
          "B",
          "B",
          "B",
          "B",
          "B",
          "B",
          "B",
          "B",
          "B",
          "B",
          "B",
          "B",
          "B",
          "B",
          "B",
          "B",
          "B",
          "B",
          "B",
          "B",
          "B",
          "B",
          "B",
          "B",
          "B",
          "B",
          "B",
          "B",
          "B",
          "B",
          "B",
          "B",
          "B",
          "B",
          "B",
          "B",
          "B",
          "B",
          "B",
          "B",
          "B",
          "B",
          "B",
          "B",
          "B",
          "B",
          "B",
          "B",
          "B",
          "B",
          "B",
          "B",
          "B",
          "B",
          "B",
          "B",
          "B",
          "B",
          "B",
          "B",
          "B",
          "B",
          "B",
          "B",
          "B",
          "B",
          "B",
          "B",
          "B",
          "B",
          "B",
          "B",
          "B",
          "B",
          "B",
          "B",
          "B",
          "B",
          "B",
          "B",
          "B",
          "B",
          "B",
          "B",
          "B",
          "B",
          "B",
          "B",
          "B",
          "B",
          "B",
          "B",
          "B",
          "B",
          "B",
          "B",
          "B",
          "B",
          "B",
          "B",
          "B",
          "B",
          "C",
          "C",
          "C",
          "C",
          "C",
          "C",
          "C",
          "C",
          "B",
          "B",
          "B",
          "B",
          "B",
          "B",
          "B",
          "B",
          "B",
          "B",
          "B",
          "B",
          "B",
          "B",
          "B",
          "B",
          "B",
          "B",
          "B",
          "B",
          "B",
          "B",
          "B",
          "B",
          "B",
          "B",
          "B",
          "B",
          "B",
          "B",
          "B",
          "B",
          "B",
          "B",
          "B",
          "B",
          "B",
          "C",
          "B",
          "B",
          "B",
          "B",
          "B",
          "C",
          "C",
          "C",
          "C",
          "C",
          "C"
         ],
         "x0": " ",
         "xaxis": "x",
         "y": [
          35.08,
          33.4,
          31.72,
          31.12,
          28.39,
          29.7,
          27.47,
          27.61,
          31.63,
          26.3,
          27.13,
          22.49,
          24.66,
          16.96,
          20.15,
          30.93,
          31.9,
          31.3,
          30.83,
          31.02,
          30.3,
          30.6,
          30.6,
          33.52,
          32.47,
          32.41,
          32.14,
          33.9,
          32.83,
          35.01,
          51.28,
          43.52,
          42.89,
          49.06,
          44.21,
          45.48,
          44.6,
          38.14,
          33.43,
          46.48,
          46.74,
          46.78,
          42.62,
          46.6,
          46.46,
          52,
          49.79,
          51.63,
          49.51,
          41.84,
          38.95,
          52.97,
          49.15,
          33.26,
          33.77,
          38.85,
          37.04,
          35.9,
          37.06,
          36.23,
          33.84,
          36.62,
          33.86,
          36.65,
          34.59,
          37.24,
          25.32,
          26.27,
          25.46,
          28.11,
          30.02,
          25,
          31.89,
          30.4,
          30.58,
          32.55,
          27.38,
          23.81,
          22.79,
          20.28,
          23.33,
          24.34,
          20.74,
          18.1,
          21.53,
          22.81,
          20.43,
          21.72,
          20.52,
          23.31,
          22.72,
          22.04,
          24.11,
          26.34,
          25.23,
          39.12,
          34.09,
          31.18,
          31.25,
          30.49,
          31.01,
          34.94,
          34.73,
          33.26,
          30.4,
          39.45,
          36.56,
          37.59,
          34.38,
          27.27,
          26.77,
          24.99,
          26.67,
          29.5,
          29.06,
          31.79,
          27.15,
          28.49,
          29.67,
          28.73,
          38.37,
          37.64,
          44.87,
          43.54,
          45.08,
          37.38,
          44.91,
          37.72,
          35.68,
          31.77,
          30.22,
          32.61,
          33.11,
          36.06,
          33.79,
          31.01,
          34.14,
          36.59,
          32.32,
          36.4,
          35.01,
          36.48,
          35.68,
          37.27,
          38.2,
          39.58,
          41.4,
          38.88,
          37.34,
          33.03,
          37.85,
          36.12,
          41.45,
          32.42,
          33.51,
          37.2,
          33.63,
          38.44,
          32.46,
          32.78,
          28.08,
          33.8,
          30.87,
          26.86,
          40.19,
          38.51,
          39.11,
          43.12,
          39.79,
          38.92,
          40.86,
          42.29,
          33.2,
          34.45,
          38.18,
          43.15,
          37.24,
          34.5,
          45.71,
          29.78,
          27.93,
          30.76,
          35.22,
          36.01,
          29.84,
          30.51,
          28.5,
          32.35,
          34.28,
          32.74,
          33.45,
          33.71,
          30.4,
          29.56,
          27.56,
          28.85,
          29.74,
          30.78,
          28.53,
          31.74,
          32.92,
          35.62,
          38.09,
          36.31,
          37.81,
          35.4,
          36.2,
          35.11,
          30,
          26.39,
          27.87,
          28.99,
          25.41,
          25.14,
          29.98,
          25.54,
          25.21,
          32.73,
          25.01,
          24.54,
          34.88,
          29.67,
          30.69,
          36.28,
          34.07,
          28.25,
          37.54,
          39.53,
          31.48,
          29.69,
          32.49,
          35.22,
          34.09,
          35.22,
          33.79,
          37.96,
          37.03,
          37.66,
          40,
          32.44,
          35.92,
          31.86,
          35.2,
          35.89,
          35.39,
          40.53,
          40.14,
          34.91,
          38.42,
          36.59,
          30.88,
          34,
          32.64,
          30.87,
          35.15,
          31.94,
          35.39,
          37.73,
          37.77,
          32.05,
          38.36,
          42.61,
          43.19,
          38.3,
          37.46,
          31.07,
          32.51,
          33.02,
          38.61,
          28.72,
          30.44,
          30.26,
          27.53,
          34.54,
          26.54,
          27.39,
          21.2,
          33.9,
          31.71,
          34.49,
          35.72,
          27.98,
          26.02,
          29,
          27.06,
          26.39,
          24.03,
          33.17,
          27.43,
          31.39,
          28.41,
          30.16,
          29.92,
          30.02,
          29.46,
          27.31,
          28.38,
          29.64,
          30.5,
          40.23,
          39.69,
          35.81,
          34.7,
          38.75,
          30.32,
          35.07,
          29.37,
          33.09,
          31.39,
          31.19,
          31.76,
          33.84,
          30.49,
          34.47,
          29.24,
          31.72,
          38.11,
          35.69,
          37.13,
          34.04,
          33.82,
          32.46,
          30.58,
          29.93,
          34.49,
          38.16,
          32.56,
          32.54,
          32.31,
          32.6,
          29.51,
          31.26,
          32.16,
          31.26,
          33.01,
          21.27,
          23.67,
          25.79,
          29.67,
          27.15,
          22.14,
          25.69,
          23.59,
          27.62,
          24.96,
          22.79,
          22.12,
          22.21,
          22.79,
          26.82,
          25.29,
          32.84,
          26.07,
          25.56,
          26.66,
          27.64,
          26.95,
          32.4,
          27.28,
          27.28,
          29.56,
          31.61,
          37.24,
          33.4,
          36.56,
          37.67,
          33.07,
          34.88,
          39.48,
          37.77,
          41.83,
          40.1,
          39.59,
          40.66,
          31.24,
          40.21,
          39.14,
          36.4,
          38.04,
          40.48,
          36.24,
          35.22,
          37.81,
          25.1,
          26.16,
          29.65,
          25.89,
          28.43,
          27.34,
          28.71,
          30.68,
          27.69,
          33.25,
          31.54,
          28.22,
          32.02,
          38.06,
          37.31,
          33.48,
          38.79,
          42.01,
          38.08,
          34.63,
          28.4,
          32.64,
          33.01,
          38.7,
          33.66,
          34.69,
          22.25,
          27.36,
          31.42,
          31.74,
          30.62,
          29.6,
          28.29,
          37.17,
          34.45,
          37.54,
          39.44,
          42.79,
          37.86,
          37.46,
          36.98,
          41.96,
          44.3,
          39.97,
          42.35,
          37.32,
          36.4,
          35.29,
          35.55,
          33.93,
          34.74,
          36.2,
          32.68,
          30,
          30.44,
          31.34,
          29.48,
          33.72,
          28.94,
          34.8,
          21.92,
          33.07,
          31.74,
          29.56,
          37.04,
          34.65,
          33.19,
          34.38,
          36.17,
          49.94,
          38.19,
          28.88,
          28.01,
          29.1,
          32.45,
          25.68,
          31.51,
          22.32,
          20.79,
          33.29,
          49.8,
          48.35,
          46.11
         ],
         "y0": " ",
         "yaxis": "y"
        }
       ],
       "layout": {
        "boxmode": "group",
        "legend": {
         "tracegroupgap": 0
        },
        "template": {
         "data": {
          "bar": [
           {
            "error_x": {
             "color": "#2a3f5f"
            },
            "error_y": {
             "color": "#2a3f5f"
            },
            "marker": {
             "line": {
              "color": "#E5ECF6",
              "width": 0.5
             }
            },
            "type": "bar"
           }
          ],
          "barpolar": [
           {
            "marker": {
             "line": {
              "color": "#E5ECF6",
              "width": 0.5
             }
            },
            "type": "barpolar"
           }
          ],
          "carpet": [
           {
            "aaxis": {
             "endlinecolor": "#2a3f5f",
             "gridcolor": "white",
             "linecolor": "white",
             "minorgridcolor": "white",
             "startlinecolor": "#2a3f5f"
            },
            "baxis": {
             "endlinecolor": "#2a3f5f",
             "gridcolor": "white",
             "linecolor": "white",
             "minorgridcolor": "white",
             "startlinecolor": "#2a3f5f"
            },
            "type": "carpet"
           }
          ],
          "choropleth": [
           {
            "colorbar": {
             "outlinewidth": 0,
             "ticks": ""
            },
            "type": "choropleth"
           }
          ],
          "contour": [
           {
            "colorbar": {
             "outlinewidth": 0,
             "ticks": ""
            },
            "colorscale": [
             [
              0,
              "#0d0887"
             ],
             [
              0.1111111111111111,
              "#46039f"
             ],
             [
              0.2222222222222222,
              "#7201a8"
             ],
             [
              0.3333333333333333,
              "#9c179e"
             ],
             [
              0.4444444444444444,
              "#bd3786"
             ],
             [
              0.5555555555555556,
              "#d8576b"
             ],
             [
              0.6666666666666666,
              "#ed7953"
             ],
             [
              0.7777777777777778,
              "#fb9f3a"
             ],
             [
              0.8888888888888888,
              "#fdca26"
             ],
             [
              1,
              "#f0f921"
             ]
            ],
            "type": "contour"
           }
          ],
          "contourcarpet": [
           {
            "colorbar": {
             "outlinewidth": 0,
             "ticks": ""
            },
            "type": "contourcarpet"
           }
          ],
          "heatmap": [
           {
            "colorbar": {
             "outlinewidth": 0,
             "ticks": ""
            },
            "colorscale": [
             [
              0,
              "#0d0887"
             ],
             [
              0.1111111111111111,
              "#46039f"
             ],
             [
              0.2222222222222222,
              "#7201a8"
             ],
             [
              0.3333333333333333,
              "#9c179e"
             ],
             [
              0.4444444444444444,
              "#bd3786"
             ],
             [
              0.5555555555555556,
              "#d8576b"
             ],
             [
              0.6666666666666666,
              "#ed7953"
             ],
             [
              0.7777777777777778,
              "#fb9f3a"
             ],
             [
              0.8888888888888888,
              "#fdca26"
             ],
             [
              1,
              "#f0f921"
             ]
            ],
            "type": "heatmap"
           }
          ],
          "heatmapgl": [
           {
            "colorbar": {
             "outlinewidth": 0,
             "ticks": ""
            },
            "colorscale": [
             [
              0,
              "#0d0887"
             ],
             [
              0.1111111111111111,
              "#46039f"
             ],
             [
              0.2222222222222222,
              "#7201a8"
             ],
             [
              0.3333333333333333,
              "#9c179e"
             ],
             [
              0.4444444444444444,
              "#bd3786"
             ],
             [
              0.5555555555555556,
              "#d8576b"
             ],
             [
              0.6666666666666666,
              "#ed7953"
             ],
             [
              0.7777777777777778,
              "#fb9f3a"
             ],
             [
              0.8888888888888888,
              "#fdca26"
             ],
             [
              1,
              "#f0f921"
             ]
            ],
            "type": "heatmapgl"
           }
          ],
          "histogram": [
           {
            "marker": {
             "colorbar": {
              "outlinewidth": 0,
              "ticks": ""
             }
            },
            "type": "histogram"
           }
          ],
          "histogram2d": [
           {
            "colorbar": {
             "outlinewidth": 0,
             "ticks": ""
            },
            "colorscale": [
             [
              0,
              "#0d0887"
             ],
             [
              0.1111111111111111,
              "#46039f"
             ],
             [
              0.2222222222222222,
              "#7201a8"
             ],
             [
              0.3333333333333333,
              "#9c179e"
             ],
             [
              0.4444444444444444,
              "#bd3786"
             ],
             [
              0.5555555555555556,
              "#d8576b"
             ],
             [
              0.6666666666666666,
              "#ed7953"
             ],
             [
              0.7777777777777778,
              "#fb9f3a"
             ],
             [
              0.8888888888888888,
              "#fdca26"
             ],
             [
              1,
              "#f0f921"
             ]
            ],
            "type": "histogram2d"
           }
          ],
          "histogram2dcontour": [
           {
            "colorbar": {
             "outlinewidth": 0,
             "ticks": ""
            },
            "colorscale": [
             [
              0,
              "#0d0887"
             ],
             [
              0.1111111111111111,
              "#46039f"
             ],
             [
              0.2222222222222222,
              "#7201a8"
             ],
             [
              0.3333333333333333,
              "#9c179e"
             ],
             [
              0.4444444444444444,
              "#bd3786"
             ],
             [
              0.5555555555555556,
              "#d8576b"
             ],
             [
              0.6666666666666666,
              "#ed7953"
             ],
             [
              0.7777777777777778,
              "#fb9f3a"
             ],
             [
              0.8888888888888888,
              "#fdca26"
             ],
             [
              1,
              "#f0f921"
             ]
            ],
            "type": "histogram2dcontour"
           }
          ],
          "mesh3d": [
           {
            "colorbar": {
             "outlinewidth": 0,
             "ticks": ""
            },
            "type": "mesh3d"
           }
          ],
          "parcoords": [
           {
            "line": {
             "colorbar": {
              "outlinewidth": 0,
              "ticks": ""
             }
            },
            "type": "parcoords"
           }
          ],
          "pie": [
           {
            "automargin": true,
            "type": "pie"
           }
          ],
          "scatter": [
           {
            "marker": {
             "colorbar": {
              "outlinewidth": 0,
              "ticks": ""
             }
            },
            "type": "scatter"
           }
          ],
          "scatter3d": [
           {
            "line": {
             "colorbar": {
              "outlinewidth": 0,
              "ticks": ""
             }
            },
            "marker": {
             "colorbar": {
              "outlinewidth": 0,
              "ticks": ""
             }
            },
            "type": "scatter3d"
           }
          ],
          "scattercarpet": [
           {
            "marker": {
             "colorbar": {
              "outlinewidth": 0,
              "ticks": ""
             }
            },
            "type": "scattercarpet"
           }
          ],
          "scattergeo": [
           {
            "marker": {
             "colorbar": {
              "outlinewidth": 0,
              "ticks": ""
             }
            },
            "type": "scattergeo"
           }
          ],
          "scattergl": [
           {
            "marker": {
             "colorbar": {
              "outlinewidth": 0,
              "ticks": ""
             }
            },
            "type": "scattergl"
           }
          ],
          "scattermapbox": [
           {
            "marker": {
             "colorbar": {
              "outlinewidth": 0,
              "ticks": ""
             }
            },
            "type": "scattermapbox"
           }
          ],
          "scatterpolar": [
           {
            "marker": {
             "colorbar": {
              "outlinewidth": 0,
              "ticks": ""
             }
            },
            "type": "scatterpolar"
           }
          ],
          "scatterpolargl": [
           {
            "marker": {
             "colorbar": {
              "outlinewidth": 0,
              "ticks": ""
             }
            },
            "type": "scatterpolargl"
           }
          ],
          "scatterternary": [
           {
            "marker": {
             "colorbar": {
              "outlinewidth": 0,
              "ticks": ""
             }
            },
            "type": "scatterternary"
           }
          ],
          "surface": [
           {
            "colorbar": {
             "outlinewidth": 0,
             "ticks": ""
            },
            "colorscale": [
             [
              0,
              "#0d0887"
             ],
             [
              0.1111111111111111,
              "#46039f"
             ],
             [
              0.2222222222222222,
              "#7201a8"
             ],
             [
              0.3333333333333333,
              "#9c179e"
             ],
             [
              0.4444444444444444,
              "#bd3786"
             ],
             [
              0.5555555555555556,
              "#d8576b"
             ],
             [
              0.6666666666666666,
              "#ed7953"
             ],
             [
              0.7777777777777778,
              "#fb9f3a"
             ],
             [
              0.8888888888888888,
              "#fdca26"
             ],
             [
              1,
              "#f0f921"
             ]
            ],
            "type": "surface"
           }
          ],
          "table": [
           {
            "cells": {
             "fill": {
              "color": "#EBF0F8"
             },
             "line": {
              "color": "white"
             }
            },
            "header": {
             "fill": {
              "color": "#C8D4E3"
             },
             "line": {
              "color": "white"
             }
            },
            "type": "table"
           }
          ]
         },
         "layout": {
          "annotationdefaults": {
           "arrowcolor": "#2a3f5f",
           "arrowhead": 0,
           "arrowwidth": 1
          },
          "autotypenumbers": "strict",
          "coloraxis": {
           "colorbar": {
            "outlinewidth": 0,
            "ticks": ""
           }
          },
          "colorscale": {
           "diverging": [
            [
             0,
             "#8e0152"
            ],
            [
             0.1,
             "#c51b7d"
            ],
            [
             0.2,
             "#de77ae"
            ],
            [
             0.3,
             "#f1b6da"
            ],
            [
             0.4,
             "#fde0ef"
            ],
            [
             0.5,
             "#f7f7f7"
            ],
            [
             0.6,
             "#e6f5d0"
            ],
            [
             0.7,
             "#b8e186"
            ],
            [
             0.8,
             "#7fbc41"
            ],
            [
             0.9,
             "#4d9221"
            ],
            [
             1,
             "#276419"
            ]
           ],
           "sequential": [
            [
             0,
             "#0d0887"
            ],
            [
             0.1111111111111111,
             "#46039f"
            ],
            [
             0.2222222222222222,
             "#7201a8"
            ],
            [
             0.3333333333333333,
             "#9c179e"
            ],
            [
             0.4444444444444444,
             "#bd3786"
            ],
            [
             0.5555555555555556,
             "#d8576b"
            ],
            [
             0.6666666666666666,
             "#ed7953"
            ],
            [
             0.7777777777777778,
             "#fb9f3a"
            ],
            [
             0.8888888888888888,
             "#fdca26"
            ],
            [
             1,
             "#f0f921"
            ]
           ],
           "sequentialminus": [
            [
             0,
             "#0d0887"
            ],
            [
             0.1111111111111111,
             "#46039f"
            ],
            [
             0.2222222222222222,
             "#7201a8"
            ],
            [
             0.3333333333333333,
             "#9c179e"
            ],
            [
             0.4444444444444444,
             "#bd3786"
            ],
            [
             0.5555555555555556,
             "#d8576b"
            ],
            [
             0.6666666666666666,
             "#ed7953"
            ],
            [
             0.7777777777777778,
             "#fb9f3a"
            ],
            [
             0.8888888888888888,
             "#fdca26"
            ],
            [
             1,
             "#f0f921"
            ]
           ]
          },
          "colorway": [
           "#636efa",
           "#EF553B",
           "#00cc96",
           "#ab63fa",
           "#FFA15A",
           "#19d3f3",
           "#FF6692",
           "#B6E880",
           "#FF97FF",
           "#FECB52"
          ],
          "font": {
           "color": "#2a3f5f"
          },
          "geo": {
           "bgcolor": "white",
           "lakecolor": "white",
           "landcolor": "#E5ECF6",
           "showlakes": true,
           "showland": true,
           "subunitcolor": "white"
          },
          "hoverlabel": {
           "align": "left"
          },
          "hovermode": "closest",
          "mapbox": {
           "style": "light"
          },
          "paper_bgcolor": "white",
          "plot_bgcolor": "#E5ECF6",
          "polar": {
           "angularaxis": {
            "gridcolor": "white",
            "linecolor": "white",
            "ticks": ""
           },
           "bgcolor": "#E5ECF6",
           "radialaxis": {
            "gridcolor": "white",
            "linecolor": "white",
            "ticks": ""
           }
          },
          "scene": {
           "xaxis": {
            "backgroundcolor": "#E5ECF6",
            "gridcolor": "white",
            "gridwidth": 2,
            "linecolor": "white",
            "showbackground": true,
            "ticks": "",
            "zerolinecolor": "white"
           },
           "yaxis": {
            "backgroundcolor": "#E5ECF6",
            "gridcolor": "white",
            "gridwidth": 2,
            "linecolor": "white",
            "showbackground": true,
            "ticks": "",
            "zerolinecolor": "white"
           },
           "zaxis": {
            "backgroundcolor": "#E5ECF6",
            "gridcolor": "white",
            "gridwidth": 2,
            "linecolor": "white",
            "showbackground": true,
            "ticks": "",
            "zerolinecolor": "white"
           }
          },
          "shapedefaults": {
           "line": {
            "color": "#2a3f5f"
           }
          },
          "ternary": {
           "aaxis": {
            "gridcolor": "white",
            "linecolor": "white",
            "ticks": ""
           },
           "baxis": {
            "gridcolor": "white",
            "linecolor": "white",
            "ticks": ""
           },
           "bgcolor": "#E5ECF6",
           "caxis": {
            "gridcolor": "white",
            "linecolor": "white",
            "ticks": ""
           }
          },
          "title": {
           "x": 0.05
          },
          "xaxis": {
           "automargin": true,
           "gridcolor": "white",
           "linecolor": "white",
           "ticks": "",
           "title": {
            "standoff": 15
           },
           "zerolinecolor": "white",
           "zerolinewidth": 2
          },
          "yaxis": {
           "automargin": true,
           "gridcolor": "white",
           "linecolor": "white",
           "ticks": "",
           "title": {
            "standoff": 15
           },
           "zerolinecolor": "white",
           "zerolinewidth": 2
          }
         }
        },
        "title": {
         "text": "Tipo de Lançamento x Rompimento 28 Dias"
        },
        "xaxis": {
         "anchor": "y",
         "domain": [
          0,
          1
         ],
         "title": {
          "text": "TipoLancamento"
         }
        },
        "yaxis": {
         "anchor": "x",
         "domain": [
          0,
          1
         ],
         "title": {
          "text": "Rompimento28Dias"
         }
        }
       }
      },
      "text/html": [
       "<div>                            <div id=\"94fe708c-623e-4b05-9265-fd227fd90353\" class=\"plotly-graph-div\" style=\"height:525px; width:100%;\"></div>            <script type=\"text/javascript\">                require([\"plotly\"], function(Plotly) {                    window.PLOTLYENV=window.PLOTLYENV || {};                                    if (document.getElementById(\"94fe708c-623e-4b05-9265-fd227fd90353\")) {                    Plotly.newPlot(                        \"94fe708c-623e-4b05-9265-fd227fd90353\",                        [{\"alignmentgroup\": \"True\", \"hovertemplate\": \"TipoLancamento=%{x}<br>Rompimento28Dias=%{y}<extra></extra>\", \"legendgroup\": \"\", \"marker\": {\"color\": \"#636efa\"}, \"name\": \"\", \"notched\": false, \"offsetgroup\": \"\", \"orientation\": \"v\", \"showlegend\": false, \"type\": \"box\", \"x\": [\"B\", \"B\", \"B\", \"B\", \"B\", \"B\", \"B\", \"B\", \"B\", \"C\", \"C\", \"C\", \"C\", \"C\", \"C\", \"B\", \"B\", \"B\", \"B\", \"B\", \"B\", \"B\", \"B\", \"B\", \"B\", \"B\", \"B\", \"B\", \"B\", \"B\", \"B\", \"B\", \"B\", \"B\", \"B\", \"B\", \"B\", \"B\", \"B\", \"B\", \"B\", \"B\", \"B\", \"B\", \"B\", \"B\", \"B\", \"B\", \"B\", \"B\", \"B\", \"B\", \"B\", \"B\", \"B\", \"B\", \"B\", \"B\", \"B\", \"B\", \"B\", \"B\", \"B\", \"B\", \"B\", \"B\", \"C\", \"C\", \"C\", \"C\", \"C\", \"C\", \"C\", \"C\", \"C\", \"C\", \"C\", \"C\", \"C\", \"C\", \"C\", \"C\", \"C\", \"C\", \"C\", \"C\", \"C\", \"C\", \"C\", \"C\", \"C\", \"C\", \"C\", \"C\", \"C\", \"B\", \"B\", \"B\", \"B\", \"B\", \"B\", \"B\", \"B\", \"B\", \"B\", \"B\", \"C\", \"C\", \"C\", \"B\", \"B\", \"B\", \"B\", \"B\", \"B\", \"B\", \"B\", \"B\", \"B\", \"B\", \"B\", \"B\", \"B\", \"B\", \"B\", \"B\", \"B\", \"B\", \"B\", \"B\", \"B\", \"B\", \"B\", \"B\", \"B\", \"B\", \"B\", \"B\", \"B\", \"B\", \"B\", \"B\", \"B\", \"B\", \"B\", \"B\", \"B\", \"B\", \"B\", \"B\", \"B\", \"B\", \"B\", \"B\", \"B\", \"B\", \"B\", \"B\", \"B\", \"B\", \"B\", \"B\", \"B\", \"B\", \"B\", \"B\", \"B\", \"B\", \"B\", \"B\", \"B\", \"B\", \"B\", \"B\", \"B\", \"B\", \"B\", \"B\", \"B\", \"C\", \"C\", \"C\", \"C\", \"C\", \"C\", \"C\", \"C\", \"C\", \"C\", \"C\", \"C\", \"C\", \"C\", \"C\", \"C\", \"C\", \"C\", \"C\", \"C\", \"C\", \"C\", \"C\", \"C\", \"C\", \"C\", \"C\", \"C\", \"C\", \"C\", \"C\", \"C\", \"C\", \"C\", \"C\", \"C\", \"C\", \"C\", \"C\", \"C\", \"C\", \"C\", \"C\", \"C\", \"C\", \"C\", \"C\", \"B\", \"B\", \"B\", \"B\", \"B\", \"B\", \"B\", \"B\", \"B\", \"B\", \"B\", \"B\", \"B\", \"B\", \"B\", \"B\", \"B\", \"B\", \"B\", \"B\", \"B\", \"B\", \"B\", \"B\", \"B\", \"B\", \"B\", \"B\", \"B\", \"B\", \"B\", \"B\", \"B\", \"B\", \"B\", \"B\", \"B\", \"B\", \"B\", \"B\", \"B\", \"B\", \"B\", \"B\", \"B\", \"B\", \"B\", \"B\", \"B\", \"B\", \"B\", \"B\", \"B\", \"B\", \"B\", \"B\", \"B\", \"B\", \"B\", \"B\", \"B\", \"B\", \"B\", \"B\", \"B\", \"B\", \"B\", \"B\", \"B\", \"B\", \"B\", \"B\", \"B\", \"B\", \"B\", \"B\", \"B\", \"B\", \"B\", \"B\", \"B\", \"B\", \"B\", \"B\", \"B\", \"B\", \"B\", \"B\", \"B\", \"B\", \"B\", \"B\", \"B\", \"B\", \"B\", \"B\", \"B\", \"B\", \"B\", \"B\", \"B\", \"B\", \"B\", \"B\", \"B\", \"B\", \"B\", \"B\", \"B\", \"B\", \"B\", \"B\", \"B\", \"B\", \"B\", \"B\", \"B\", \"B\", \"B\", \"B\", \"B\", \"B\", \"B\", \"B\", \"B\", \"B\", \"B\", \"B\", \"B\", \"B\", \"B\", \"B\", \"B\", \"B\", \"B\", \"B\", \"B\", \"B\", \"B\", \"B\", \"B\", \"B\", \"B\", \"B\", \"B\", \"B\", \"B\", \"B\", \"B\", \"B\", \"B\", \"B\", \"B\", \"B\", \"B\", \"B\", \"B\", \"B\", \"B\", \"B\", \"B\", \"B\", \"B\", \"B\", \"B\", \"B\", \"B\", \"B\", \"B\", \"B\", \"B\", \"B\", \"B\", \"B\", \"B\", \"B\", \"B\", \"B\", \"B\", \"B\", \"B\", \"B\", \"B\", \"C\", \"C\", \"C\", \"C\", \"C\", \"C\", \"C\", \"C\", \"B\", \"B\", \"B\", \"B\", \"B\", \"B\", \"B\", \"B\", \"B\", \"B\", \"B\", \"B\", \"B\", \"B\", \"B\", \"B\", \"B\", \"B\", \"B\", \"B\", \"B\", \"B\", \"B\", \"B\", \"B\", \"B\", \"B\", \"B\", \"B\", \"B\", \"B\", \"B\", \"B\", \"B\", \"B\", \"B\", \"B\", \"C\", \"B\", \"B\", \"B\", \"B\", \"B\", \"C\", \"C\", \"C\", \"C\", \"C\", \"C\"], \"x0\": \" \", \"xaxis\": \"x\", \"y\": [35.08, 33.4, 31.72, 31.12, 28.39, 29.7, 27.47, 27.61, 31.63, 26.3, 27.13, 22.49, 24.66, 16.96, 20.15, 30.93, 31.9, 31.3, 30.83, 31.02, 30.3, 30.6, 30.6, 33.52, 32.47, 32.41, 32.14, 33.9, 32.83, 35.01, 51.28, 43.52, 42.89, 49.06, 44.21, 45.48, 44.6, 38.14, 33.43, 46.48, 46.74, 46.78, 42.62, 46.6, 46.46, 52.0, 49.79, 51.63, 49.51, 41.84, 38.95, 52.97, 49.15, 33.26, 33.77, 38.85, 37.04, 35.9, 37.06, 36.23, 33.84, 36.62, 33.86, 36.65, 34.59, 37.24, 25.32, 26.27, 25.46, 28.11, 30.02, 25.0, 31.89, 30.4, 30.58, 32.55, 27.38, 23.81, 22.79, 20.28, 23.33, 24.34, 20.74, 18.1, 21.53, 22.81, 20.43, 21.72, 20.52, 23.31, 22.72, 22.04, 24.11, 26.34, 25.23, 39.12, 34.09, 31.18, 31.25, 30.49, 31.01, 34.94, 34.73, 33.26, 30.4, 39.45, 36.56, 37.59, 34.38, 27.27, 26.77, 24.99, 26.67, 29.5, 29.06, 31.79, 27.15, 28.49, 29.67, 28.73, 38.37, 37.64, 44.87, 43.54, 45.08, 37.38, 44.91, 37.72, 35.68, 31.77, 30.22, 32.61, 33.11, 36.06, 33.79, 31.01, 34.14, 36.59, 32.32, 36.4, 35.01, 36.48, 35.68, 37.27, 38.2, 39.58, 41.4, 38.88, 37.34, 33.03, 37.85, 36.12, 41.45, 32.42, 33.51, 37.2, 33.63, 38.44, 32.46, 32.78, 28.08, 33.8, 30.87, 26.86, 40.19, 38.51, 39.11, 43.12, 39.79, 38.92, 40.86, 42.29, 33.2, 34.45, 38.18, 43.15, 37.24, 34.5, 45.71, 29.78, 27.93, 30.76, 35.22, 36.01, 29.84, 30.51, 28.5, 32.35, 34.28, 32.74, 33.45, 33.71, 30.4, 29.56, 27.56, 28.85, 29.74, 30.78, 28.53, 31.74, 32.92, 35.62, 38.09, 36.31, 37.81, 35.4, 36.2, 35.11, 30.0, 26.39, 27.87, 28.99, 25.41, 25.14, 29.98, 25.54, 25.21, 32.73, 25.01, 24.54, 34.88, 29.67, 30.69, 36.28, 34.07, 28.25, 37.54, 39.53, 31.48, 29.69, 32.49, 35.22, 34.09, 35.22, 33.79, 37.96, 37.03, 37.66, 40.0, 32.44, 35.92, 31.86, 35.2, 35.89, 35.39, 40.53, 40.14, 34.91, 38.42, 36.59, 30.88, 34.0, 32.64, 30.87, 35.15, 31.94, 35.39, 37.73, 37.77, 32.05, 38.36, 42.61, 43.19, 38.3, 37.46, 31.07, 32.51, 33.02, 38.61, 28.72, 30.44, 30.26, 27.53, 34.54, 26.54, 27.39, 21.2, 33.9, 31.71, 34.49, 35.72, 27.98, 26.02, 29.0, 27.06, 26.39, 24.03, 33.17, 27.43, 31.39, 28.41, 30.16, 29.92, 30.02, 29.46, 27.31, 28.38, 29.64, 30.5, 40.23, 39.69, 35.81, 34.7, 38.75, 30.32, 35.07, 29.37, 33.09, 31.39, 31.19, 31.76, 33.84, 30.49, 34.47, 29.24, 31.72, 38.11, 35.69, 37.13, 34.04, 33.82, 32.46, 30.58, 29.93, 34.49, 38.16, 32.56, 32.54, 32.31, 32.6, 29.51, 31.26, 32.16, 31.26, 33.01, 21.27, 23.67, 25.79, 29.67, 27.15, 22.14, 25.69, 23.59, 27.62, 24.96, 22.79, 22.12, 22.21, 22.79, 26.82, 25.29, 32.84, 26.07, 25.56, 26.66, 27.64, 26.95, 32.4, 27.28, 27.28, 29.56, 31.61, 37.24, 33.4, 36.56, 37.67, 33.07, 34.88, 39.48, 37.77, 41.83, 40.1, 39.59, 40.66, 31.24, 40.21, 39.14, 36.4, 38.04, 40.48, 36.24, 35.22, 37.81, 25.1, 26.16, 29.65, 25.89, 28.43, 27.34, 28.71, 30.68, 27.69, 33.25, 31.54, 28.22, 32.02, 38.06, 37.31, 33.48, 38.79, 42.01, 38.08, 34.63, 28.4, 32.64, 33.01, 38.7, 33.66, 34.69, 22.25, 27.36, 31.42, 31.74, 30.62, 29.6, 28.29, 37.17, 34.45, 37.54, 39.44, 42.79, 37.86, 37.46, 36.98, 41.96, 44.3, 39.97, 42.35, 37.32, 36.4, 35.29, 35.55, 33.93, 34.74, 36.2, 32.68, 30.0, 30.44, 31.34, 29.48, 33.72, 28.94, 34.8, 21.92, 33.07, 31.74, 29.56, 37.04, 34.65, 33.19, 34.38, 36.17, 49.94, 38.19, 28.88, 28.01, 29.1, 32.45, 25.68, 31.51, 22.32, 20.79, 33.29, 49.8, 48.35, 46.11], \"y0\": \" \", \"yaxis\": \"y\"}],                        {\"boxmode\": \"group\", \"legend\": {\"tracegroupgap\": 0}, \"template\": {\"data\": {\"bar\": [{\"error_x\": {\"color\": \"#2a3f5f\"}, \"error_y\": {\"color\": \"#2a3f5f\"}, \"marker\": {\"line\": {\"color\": \"#E5ECF6\", \"width\": 0.5}}, \"type\": \"bar\"}], \"barpolar\": [{\"marker\": {\"line\": {\"color\": \"#E5ECF6\", \"width\": 0.5}}, \"type\": \"barpolar\"}], \"carpet\": [{\"aaxis\": {\"endlinecolor\": \"#2a3f5f\", \"gridcolor\": \"white\", \"linecolor\": \"white\", \"minorgridcolor\": \"white\", \"startlinecolor\": \"#2a3f5f\"}, \"baxis\": {\"endlinecolor\": \"#2a3f5f\", \"gridcolor\": \"white\", \"linecolor\": \"white\", \"minorgridcolor\": \"white\", \"startlinecolor\": \"#2a3f5f\"}, \"type\": \"carpet\"}], \"choropleth\": [{\"colorbar\": {\"outlinewidth\": 0, \"ticks\": \"\"}, \"type\": \"choropleth\"}], \"contour\": [{\"colorbar\": {\"outlinewidth\": 0, \"ticks\": \"\"}, \"colorscale\": [[0.0, \"#0d0887\"], [0.1111111111111111, \"#46039f\"], [0.2222222222222222, \"#7201a8\"], [0.3333333333333333, \"#9c179e\"], [0.4444444444444444, \"#bd3786\"], [0.5555555555555556, \"#d8576b\"], [0.6666666666666666, \"#ed7953\"], [0.7777777777777778, \"#fb9f3a\"], [0.8888888888888888, \"#fdca26\"], [1.0, \"#f0f921\"]], \"type\": \"contour\"}], \"contourcarpet\": [{\"colorbar\": {\"outlinewidth\": 0, \"ticks\": \"\"}, \"type\": \"contourcarpet\"}], \"heatmap\": [{\"colorbar\": {\"outlinewidth\": 0, \"ticks\": \"\"}, \"colorscale\": [[0.0, \"#0d0887\"], [0.1111111111111111, \"#46039f\"], [0.2222222222222222, \"#7201a8\"], [0.3333333333333333, \"#9c179e\"], [0.4444444444444444, \"#bd3786\"], [0.5555555555555556, \"#d8576b\"], [0.6666666666666666, \"#ed7953\"], [0.7777777777777778, \"#fb9f3a\"], [0.8888888888888888, \"#fdca26\"], [1.0, \"#f0f921\"]], \"type\": \"heatmap\"}], \"heatmapgl\": [{\"colorbar\": {\"outlinewidth\": 0, \"ticks\": \"\"}, \"colorscale\": [[0.0, \"#0d0887\"], [0.1111111111111111, \"#46039f\"], [0.2222222222222222, \"#7201a8\"], [0.3333333333333333, \"#9c179e\"], [0.4444444444444444, \"#bd3786\"], [0.5555555555555556, \"#d8576b\"], [0.6666666666666666, \"#ed7953\"], [0.7777777777777778, \"#fb9f3a\"], [0.8888888888888888, \"#fdca26\"], [1.0, \"#f0f921\"]], \"type\": \"heatmapgl\"}], \"histogram\": [{\"marker\": {\"colorbar\": {\"outlinewidth\": 0, \"ticks\": \"\"}}, \"type\": \"histogram\"}], \"histogram2d\": [{\"colorbar\": {\"outlinewidth\": 0, \"ticks\": \"\"}, \"colorscale\": [[0.0, \"#0d0887\"], [0.1111111111111111, \"#46039f\"], [0.2222222222222222, \"#7201a8\"], [0.3333333333333333, \"#9c179e\"], [0.4444444444444444, \"#bd3786\"], [0.5555555555555556, \"#d8576b\"], [0.6666666666666666, \"#ed7953\"], [0.7777777777777778, \"#fb9f3a\"], [0.8888888888888888, \"#fdca26\"], [1.0, \"#f0f921\"]], \"type\": \"histogram2d\"}], \"histogram2dcontour\": [{\"colorbar\": {\"outlinewidth\": 0, \"ticks\": \"\"}, \"colorscale\": [[0.0, \"#0d0887\"], [0.1111111111111111, \"#46039f\"], [0.2222222222222222, \"#7201a8\"], [0.3333333333333333, \"#9c179e\"], [0.4444444444444444, \"#bd3786\"], [0.5555555555555556, \"#d8576b\"], [0.6666666666666666, \"#ed7953\"], [0.7777777777777778, \"#fb9f3a\"], [0.8888888888888888, \"#fdca26\"], [1.0, \"#f0f921\"]], \"type\": \"histogram2dcontour\"}], \"mesh3d\": [{\"colorbar\": {\"outlinewidth\": 0, \"ticks\": \"\"}, \"type\": \"mesh3d\"}], \"parcoords\": [{\"line\": {\"colorbar\": {\"outlinewidth\": 0, \"ticks\": \"\"}}, \"type\": \"parcoords\"}], \"pie\": [{\"automargin\": true, \"type\": \"pie\"}], \"scatter\": [{\"marker\": {\"colorbar\": {\"outlinewidth\": 0, \"ticks\": \"\"}}, \"type\": \"scatter\"}], \"scatter3d\": [{\"line\": {\"colorbar\": {\"outlinewidth\": 0, \"ticks\": \"\"}}, \"marker\": {\"colorbar\": {\"outlinewidth\": 0, \"ticks\": \"\"}}, \"type\": \"scatter3d\"}], \"scattercarpet\": [{\"marker\": {\"colorbar\": {\"outlinewidth\": 0, \"ticks\": \"\"}}, \"type\": \"scattercarpet\"}], \"scattergeo\": [{\"marker\": {\"colorbar\": {\"outlinewidth\": 0, \"ticks\": \"\"}}, \"type\": \"scattergeo\"}], \"scattergl\": [{\"marker\": {\"colorbar\": {\"outlinewidth\": 0, \"ticks\": \"\"}}, \"type\": \"scattergl\"}], \"scattermapbox\": [{\"marker\": {\"colorbar\": {\"outlinewidth\": 0, \"ticks\": \"\"}}, \"type\": \"scattermapbox\"}], \"scatterpolar\": [{\"marker\": {\"colorbar\": {\"outlinewidth\": 0, \"ticks\": \"\"}}, \"type\": \"scatterpolar\"}], \"scatterpolargl\": [{\"marker\": {\"colorbar\": {\"outlinewidth\": 0, \"ticks\": \"\"}}, \"type\": \"scatterpolargl\"}], \"scatterternary\": [{\"marker\": {\"colorbar\": {\"outlinewidth\": 0, \"ticks\": \"\"}}, \"type\": \"scatterternary\"}], \"surface\": [{\"colorbar\": {\"outlinewidth\": 0, \"ticks\": \"\"}, \"colorscale\": [[0.0, \"#0d0887\"], [0.1111111111111111, \"#46039f\"], [0.2222222222222222, \"#7201a8\"], [0.3333333333333333, \"#9c179e\"], [0.4444444444444444, \"#bd3786\"], [0.5555555555555556, \"#d8576b\"], [0.6666666666666666, \"#ed7953\"], [0.7777777777777778, \"#fb9f3a\"], [0.8888888888888888, \"#fdca26\"], [1.0, \"#f0f921\"]], \"type\": \"surface\"}], \"table\": [{\"cells\": {\"fill\": {\"color\": \"#EBF0F8\"}, \"line\": {\"color\": \"white\"}}, \"header\": {\"fill\": {\"color\": \"#C8D4E3\"}, \"line\": {\"color\": \"white\"}}, \"type\": \"table\"}]}, \"layout\": {\"annotationdefaults\": {\"arrowcolor\": \"#2a3f5f\", \"arrowhead\": 0, \"arrowwidth\": 1}, \"autotypenumbers\": \"strict\", \"coloraxis\": {\"colorbar\": {\"outlinewidth\": 0, \"ticks\": \"\"}}, \"colorscale\": {\"diverging\": [[0, \"#8e0152\"], [0.1, \"#c51b7d\"], [0.2, \"#de77ae\"], [0.3, \"#f1b6da\"], [0.4, \"#fde0ef\"], [0.5, \"#f7f7f7\"], [0.6, \"#e6f5d0\"], [0.7, \"#b8e186\"], [0.8, \"#7fbc41\"], [0.9, \"#4d9221\"], [1, \"#276419\"]], \"sequential\": [[0.0, \"#0d0887\"], [0.1111111111111111, \"#46039f\"], [0.2222222222222222, \"#7201a8\"], [0.3333333333333333, \"#9c179e\"], [0.4444444444444444, \"#bd3786\"], [0.5555555555555556, \"#d8576b\"], [0.6666666666666666, \"#ed7953\"], [0.7777777777777778, \"#fb9f3a\"], [0.8888888888888888, \"#fdca26\"], [1.0, \"#f0f921\"]], \"sequentialminus\": [[0.0, \"#0d0887\"], [0.1111111111111111, \"#46039f\"], [0.2222222222222222, \"#7201a8\"], [0.3333333333333333, \"#9c179e\"], [0.4444444444444444, \"#bd3786\"], [0.5555555555555556, \"#d8576b\"], [0.6666666666666666, \"#ed7953\"], [0.7777777777777778, \"#fb9f3a\"], [0.8888888888888888, \"#fdca26\"], [1.0, \"#f0f921\"]]}, \"colorway\": [\"#636efa\", \"#EF553B\", \"#00cc96\", \"#ab63fa\", \"#FFA15A\", \"#19d3f3\", \"#FF6692\", \"#B6E880\", \"#FF97FF\", \"#FECB52\"], \"font\": {\"color\": \"#2a3f5f\"}, \"geo\": {\"bgcolor\": \"white\", \"lakecolor\": \"white\", \"landcolor\": \"#E5ECF6\", \"showlakes\": true, \"showland\": true, \"subunitcolor\": \"white\"}, \"hoverlabel\": {\"align\": \"left\"}, \"hovermode\": \"closest\", \"mapbox\": {\"style\": \"light\"}, \"paper_bgcolor\": \"white\", \"plot_bgcolor\": \"#E5ECF6\", \"polar\": {\"angularaxis\": {\"gridcolor\": \"white\", \"linecolor\": \"white\", \"ticks\": \"\"}, \"bgcolor\": \"#E5ECF6\", \"radialaxis\": {\"gridcolor\": \"white\", \"linecolor\": \"white\", \"ticks\": \"\"}}, \"scene\": {\"xaxis\": {\"backgroundcolor\": \"#E5ECF6\", \"gridcolor\": \"white\", \"gridwidth\": 2, \"linecolor\": \"white\", \"showbackground\": true, \"ticks\": \"\", \"zerolinecolor\": \"white\"}, \"yaxis\": {\"backgroundcolor\": \"#E5ECF6\", \"gridcolor\": \"white\", \"gridwidth\": 2, \"linecolor\": \"white\", \"showbackground\": true, \"ticks\": \"\", \"zerolinecolor\": \"white\"}, \"zaxis\": {\"backgroundcolor\": \"#E5ECF6\", \"gridcolor\": \"white\", \"gridwidth\": 2, \"linecolor\": \"white\", \"showbackground\": true, \"ticks\": \"\", \"zerolinecolor\": \"white\"}}, \"shapedefaults\": {\"line\": {\"color\": \"#2a3f5f\"}}, \"ternary\": {\"aaxis\": {\"gridcolor\": \"white\", \"linecolor\": \"white\", \"ticks\": \"\"}, \"baxis\": {\"gridcolor\": \"white\", \"linecolor\": \"white\", \"ticks\": \"\"}, \"bgcolor\": \"#E5ECF6\", \"caxis\": {\"gridcolor\": \"white\", \"linecolor\": \"white\", \"ticks\": \"\"}}, \"title\": {\"x\": 0.05}, \"xaxis\": {\"automargin\": true, \"gridcolor\": \"white\", \"linecolor\": \"white\", \"ticks\": \"\", \"title\": {\"standoff\": 15}, \"zerolinecolor\": \"white\", \"zerolinewidth\": 2}, \"yaxis\": {\"automargin\": true, \"gridcolor\": \"white\", \"linecolor\": \"white\", \"ticks\": \"\", \"title\": {\"standoff\": 15}, \"zerolinecolor\": \"white\", \"zerolinewidth\": 2}}}, \"title\": {\"text\": \"Tipo de Lan\\u00e7amento x Rompimento 28 Dias\"}, \"xaxis\": {\"anchor\": \"y\", \"domain\": [0.0, 1.0], \"title\": {\"text\": \"TipoLancamento\"}}, \"yaxis\": {\"anchor\": \"x\", \"domain\": [0.0, 1.0], \"title\": {\"text\": \"Rompimento28Dias\"}}},                        {\"responsive\": true}                    ).then(function(){\n",
       "                            \n",
       "var gd = document.getElementById('94fe708c-623e-4b05-9265-fd227fd90353');\n",
       "var x = new MutationObserver(function (mutations, observer) {{\n",
       "        var display = window.getComputedStyle(gd).display;\n",
       "        if (!display || display === 'none') {{\n",
       "            console.log([gd, 'removed!']);\n",
       "            Plotly.purge(gd);\n",
       "            observer.disconnect();\n",
       "        }}\n",
       "}});\n",
       "\n",
       "// Listen for the removal of the full notebook cells\n",
       "var notebookContainer = gd.closest('#notebook-container');\n",
       "if (notebookContainer) {{\n",
       "    x.observe(notebookContainer, {childList: true});\n",
       "}}\n",
       "\n",
       "// Listen for the clearing of the current output cell\n",
       "var outputEl = gd.closest('.output');\n",
       "if (outputEl) {{\n",
       "    x.observe(outputEl, {childList: true});\n",
       "}}\n",
       "\n",
       "                        })                };                });            </script>        </div>"
      ]
     },
     "metadata": {},
     "output_type": "display_data"
    }
   ],
   "source": [
    "fig = px.box(dados_aglomerante, x=\"TipoLancamento\", y=\"Rompimento28Dias\", title='Tipo de Lançamento x Rompimento 28 Dias')\n",
    "fig.show()"
   ]
  },
  {
   "cell_type": "code",
   "execution_count": 1121,
   "metadata": {},
   "outputs": [
    {
     "data": {
      "application/vnd.plotly.v1+json": {
       "config": {
        "plotlyServerURL": "https://plot.ly"
       },
       "data": [
        {
         "alignmentgroup": "True",
         "hovertemplate": "TipoTraco=%{x}<br>Rompimento28Dias=%{y}<extra></extra>",
         "legendgroup": "",
         "marker": {
          "color": "#636efa"
         },
         "name": "",
         "notched": false,
         "offsetgroup": "",
         "orientation": "v",
         "showlegend": false,
         "type": "box",
         "x": [
          "N",
          "N",
          "N",
          "N",
          "N",
          "N",
          "N",
          "N",
          "N",
          "N",
          "N",
          "N",
          "N",
          "N",
          "N",
          "N",
          "N",
          "N",
          "N",
          "N",
          "N",
          "N",
          "N",
          "N",
          "N",
          "N",
          "N",
          "N",
          "N",
          "N",
          "E",
          "E",
          "E",
          "E",
          "E",
          "E",
          "E",
          "E",
          "E",
          "E",
          "E",
          "E",
          "E",
          "E",
          "E",
          "E",
          "E",
          "E",
          "E",
          "E",
          "E",
          "E",
          "E",
          "E",
          "E",
          "E",
          "E",
          "E",
          "E",
          "E",
          "E",
          "E",
          "E",
          "E",
          "E",
          "E",
          "N",
          "N",
          "N",
          "N",
          "N",
          "N",
          "N",
          "N",
          "N",
          "N",
          "N",
          "N",
          "N",
          "N",
          "N",
          "N",
          "N",
          "N",
          "N",
          "N",
          "N",
          "N",
          "N",
          "N",
          "N",
          "N",
          "N",
          "N",
          "N",
          "E",
          "E",
          "E",
          "E",
          "E",
          "E",
          "E",
          "E",
          "E",
          "E",
          "E",
          "N",
          "N",
          "N",
          "N",
          "N",
          "N",
          "N",
          "N",
          "N",
          "N",
          "N",
          "N",
          "N",
          "N",
          "N",
          "N",
          "N",
          "N",
          "N",
          "N",
          "N",
          "N",
          "N",
          "N",
          "N",
          "N",
          "N",
          "N",
          "N",
          "N",
          "N",
          "N",
          "N",
          "N",
          "N",
          "N",
          "N",
          "N",
          "N",
          "N",
          "N",
          "N",
          "N",
          "N",
          "N",
          "N",
          "N",
          "N",
          "N",
          "N",
          "N",
          "N",
          "N",
          "N",
          "N",
          "N",
          "N",
          "N",
          "N",
          "E",
          "E",
          "E",
          "E",
          "E",
          "E",
          "E",
          "E",
          "E",
          "E",
          "E",
          "E",
          "E",
          "E",
          "N",
          "N",
          "N",
          "N",
          "N",
          "N",
          "N",
          "N",
          "N",
          "N",
          "N",
          "N",
          "N",
          "N",
          "N",
          "N",
          "N",
          "N",
          "N",
          "N",
          "N",
          "N",
          "N",
          "N",
          "N",
          "N",
          "N",
          "N",
          "N",
          "N",
          "N",
          "N",
          "N",
          "N",
          "N",
          "N",
          "N",
          "N",
          "N",
          "N",
          "N",
          "N",
          "N",
          "N",
          "N",
          "N",
          "N",
          "N",
          "N",
          "N",
          "N",
          "N",
          "N",
          "N",
          "N",
          "N",
          "N",
          "N",
          "N",
          "N",
          "N",
          "N",
          "N",
          "N",
          "N",
          "N",
          "N",
          "N",
          "N",
          "N",
          "N",
          "N",
          "N",
          "N",
          "N",
          "N",
          "N",
          "N",
          "N",
          "N",
          "E",
          "N",
          "N",
          "N",
          "N",
          "N",
          "N",
          "N",
          "N",
          "N",
          "N",
          "N",
          "N",
          "N",
          "N",
          "N",
          "N",
          "N",
          "N",
          "N",
          "N",
          "N",
          "N",
          "N",
          "N",
          "N",
          "N",
          "N",
          "N",
          "N",
          "N",
          "N",
          "N",
          "N",
          "N",
          "N",
          "N",
          "N",
          "N",
          "N",
          "N",
          "N",
          "N",
          "N",
          "N",
          "N",
          "N",
          "N",
          "N",
          "N",
          "N",
          "N",
          "N",
          "N",
          "N",
          "N",
          "N",
          "N",
          "N",
          "N",
          "N",
          "N",
          "N",
          "N",
          "N",
          "N",
          "N",
          "N",
          "N",
          "N",
          "N",
          "N",
          "N",
          "N",
          "N",
          "N",
          "N",
          "N",
          "N",
          "N",
          "N",
          "N",
          "N",
          "N",
          "N",
          "N",
          "N",
          "N",
          "N",
          "N",
          "N",
          "N",
          "N",
          "N",
          "N",
          "N",
          "N",
          "N",
          "N",
          "N",
          "N",
          "N",
          "N",
          "N",
          "N",
          "N",
          "N",
          "N",
          "N",
          "E",
          "E",
          "E",
          "E",
          "E",
          "E",
          "E",
          "N",
          "N",
          "N",
          "N",
          "N",
          "N",
          "N",
          "N",
          "E",
          "E",
          "E",
          "E",
          "E",
          "E",
          "E",
          "E",
          "E",
          "E",
          "E",
          "E",
          "E",
          "E",
          "E",
          "E",
          "E",
          "E",
          "E",
          "E",
          "E",
          "E",
          "E",
          "E",
          "E",
          "E",
          "N",
          "N",
          "N",
          "N",
          "N",
          "N",
          "N",
          "N",
          "N",
          "N",
          "N",
          "N",
          "N",
          "N",
          "N",
          "N",
          "N",
          "N",
          "N",
          "N",
          "N",
          "N",
          "N",
          "N",
          "N",
          "N",
          "N",
          "N",
          "N",
          "N",
          "N",
          "N",
          "N",
          "N",
          "N",
          "E",
          "E",
          "E",
          "E",
          "N",
          "E",
          "E",
          "E",
          "N",
          "N",
          "N",
          "N",
          "N",
          "N",
          "N",
          "N",
          "N",
          "N",
          "N",
          "E",
          "E",
          "E"
         ],
         "x0": " ",
         "xaxis": "x",
         "y": [
          35.08,
          33.4,
          31.72,
          31.12,
          28.39,
          29.7,
          27.47,
          27.61,
          31.63,
          26.3,
          27.13,
          22.49,
          24.66,
          16.96,
          20.15,
          30.93,
          31.9,
          31.3,
          30.83,
          31.02,
          30.3,
          30.6,
          30.6,
          33.52,
          32.47,
          32.41,
          32.14,
          33.9,
          32.83,
          35.01,
          51.28,
          43.52,
          42.89,
          49.06,
          44.21,
          45.48,
          44.6,
          38.14,
          33.43,
          46.48,
          46.74,
          46.78,
          42.62,
          46.6,
          46.46,
          52,
          49.79,
          51.63,
          49.51,
          41.84,
          38.95,
          52.97,
          49.15,
          33.26,
          33.77,
          38.85,
          37.04,
          35.9,
          37.06,
          36.23,
          33.84,
          36.62,
          33.86,
          36.65,
          34.59,
          37.24,
          25.32,
          26.27,
          25.46,
          28.11,
          30.02,
          25,
          31.89,
          30.4,
          30.58,
          32.55,
          27.38,
          23.81,
          22.79,
          20.28,
          23.33,
          24.34,
          20.74,
          18.1,
          21.53,
          22.81,
          20.43,
          21.72,
          20.52,
          23.31,
          22.72,
          22.04,
          24.11,
          26.34,
          25.23,
          39.12,
          34.09,
          31.18,
          31.25,
          30.49,
          31.01,
          34.94,
          34.73,
          33.26,
          30.4,
          39.45,
          36.56,
          37.59,
          34.38,
          27.27,
          26.77,
          24.99,
          26.67,
          29.5,
          29.06,
          31.79,
          27.15,
          28.49,
          29.67,
          28.73,
          38.37,
          37.64,
          44.87,
          43.54,
          45.08,
          37.38,
          44.91,
          37.72,
          35.68,
          31.77,
          30.22,
          32.61,
          33.11,
          36.06,
          33.79,
          31.01,
          34.14,
          36.59,
          32.32,
          36.4,
          35.01,
          36.48,
          35.68,
          37.27,
          38.2,
          39.58,
          41.4,
          38.88,
          37.34,
          33.03,
          37.85,
          36.12,
          41.45,
          32.42,
          33.51,
          37.2,
          33.63,
          38.44,
          32.46,
          32.78,
          28.08,
          33.8,
          30.87,
          26.86,
          40.19,
          38.51,
          39.11,
          43.12,
          39.79,
          38.92,
          40.86,
          42.29,
          33.2,
          34.45,
          38.18,
          43.15,
          37.24,
          34.5,
          45.71,
          29.78,
          27.93,
          30.76,
          35.22,
          36.01,
          29.84,
          30.51,
          28.5,
          32.35,
          34.28,
          32.74,
          33.45,
          33.71,
          30.4,
          29.56,
          27.56,
          28.85,
          29.74,
          30.78,
          28.53,
          31.74,
          32.92,
          35.62,
          38.09,
          36.31,
          37.81,
          35.4,
          36.2,
          35.11,
          30,
          26.39,
          27.87,
          28.99,
          25.41,
          25.14,
          29.98,
          25.54,
          25.21,
          32.73,
          25.01,
          24.54,
          34.88,
          29.67,
          30.69,
          36.28,
          34.07,
          28.25,
          37.54,
          39.53,
          31.48,
          29.69,
          32.49,
          35.22,
          34.09,
          35.22,
          33.79,
          37.96,
          37.03,
          37.66,
          40,
          32.44,
          35.92,
          31.86,
          35.2,
          35.89,
          35.39,
          40.53,
          40.14,
          34.91,
          38.42,
          36.59,
          30.88,
          34,
          32.64,
          30.87,
          35.15,
          31.94,
          35.39,
          37.73,
          37.77,
          32.05,
          38.36,
          42.61,
          43.19,
          38.3,
          37.46,
          31.07,
          32.51,
          33.02,
          38.61,
          28.72,
          30.44,
          30.26,
          27.53,
          34.54,
          26.54,
          27.39,
          21.2,
          33.9,
          31.71,
          34.49,
          35.72,
          27.98,
          26.02,
          29,
          27.06,
          26.39,
          24.03,
          33.17,
          27.43,
          31.39,
          28.41,
          30.16,
          29.92,
          30.02,
          29.46,
          27.31,
          28.38,
          29.64,
          30.5,
          40.23,
          39.69,
          35.81,
          34.7,
          38.75,
          30.32,
          35.07,
          29.37,
          33.09,
          31.39,
          31.19,
          31.76,
          33.84,
          30.49,
          34.47,
          29.24,
          31.72,
          38.11,
          35.69,
          37.13,
          34.04,
          33.82,
          32.46,
          30.58,
          29.93,
          34.49,
          38.16,
          32.56,
          32.54,
          32.31,
          32.6,
          29.51,
          31.26,
          32.16,
          31.26,
          33.01,
          21.27,
          23.67,
          25.79,
          29.67,
          27.15,
          22.14,
          25.69,
          23.59,
          27.62,
          24.96,
          22.79,
          22.12,
          22.21,
          22.79,
          26.82,
          25.29,
          32.84,
          26.07,
          25.56,
          26.66,
          27.64,
          26.95,
          32.4,
          27.28,
          27.28,
          29.56,
          31.61,
          37.24,
          33.4,
          36.56,
          37.67,
          33.07,
          34.88,
          39.48,
          37.77,
          41.83,
          40.1,
          39.59,
          40.66,
          31.24,
          40.21,
          39.14,
          36.4,
          38.04,
          40.48,
          36.24,
          35.22,
          37.81,
          25.1,
          26.16,
          29.65,
          25.89,
          28.43,
          27.34,
          28.71,
          30.68,
          27.69,
          33.25,
          31.54,
          28.22,
          32.02,
          38.06,
          37.31,
          33.48,
          38.79,
          42.01,
          38.08,
          34.63,
          28.4,
          32.64,
          33.01,
          38.7,
          33.66,
          34.69,
          22.25,
          27.36,
          31.42,
          31.74,
          30.62,
          29.6,
          28.29,
          37.17,
          34.45,
          37.54,
          39.44,
          42.79,
          37.86,
          37.46,
          36.98,
          41.96,
          44.3,
          39.97,
          42.35,
          37.32,
          36.4,
          35.29,
          35.55,
          33.93,
          34.74,
          36.2,
          32.68,
          30,
          30.44,
          31.34,
          29.48,
          33.72,
          28.94,
          34.8,
          21.92,
          33.07,
          31.74,
          29.56,
          37.04,
          34.65,
          33.19,
          34.38,
          36.17,
          49.94,
          38.19,
          28.88,
          28.01,
          29.1,
          32.45,
          25.68,
          31.51,
          22.32,
          20.79,
          33.29,
          49.8,
          48.35,
          46.11
         ],
         "y0": " ",
         "yaxis": "y"
        }
       ],
       "layout": {
        "boxmode": "group",
        "legend": {
         "tracegroupgap": 0
        },
        "template": {
         "data": {
          "bar": [
           {
            "error_x": {
             "color": "#2a3f5f"
            },
            "error_y": {
             "color": "#2a3f5f"
            },
            "marker": {
             "line": {
              "color": "#E5ECF6",
              "width": 0.5
             }
            },
            "type": "bar"
           }
          ],
          "barpolar": [
           {
            "marker": {
             "line": {
              "color": "#E5ECF6",
              "width": 0.5
             }
            },
            "type": "barpolar"
           }
          ],
          "carpet": [
           {
            "aaxis": {
             "endlinecolor": "#2a3f5f",
             "gridcolor": "white",
             "linecolor": "white",
             "minorgridcolor": "white",
             "startlinecolor": "#2a3f5f"
            },
            "baxis": {
             "endlinecolor": "#2a3f5f",
             "gridcolor": "white",
             "linecolor": "white",
             "minorgridcolor": "white",
             "startlinecolor": "#2a3f5f"
            },
            "type": "carpet"
           }
          ],
          "choropleth": [
           {
            "colorbar": {
             "outlinewidth": 0,
             "ticks": ""
            },
            "type": "choropleth"
           }
          ],
          "contour": [
           {
            "colorbar": {
             "outlinewidth": 0,
             "ticks": ""
            },
            "colorscale": [
             [
              0,
              "#0d0887"
             ],
             [
              0.1111111111111111,
              "#46039f"
             ],
             [
              0.2222222222222222,
              "#7201a8"
             ],
             [
              0.3333333333333333,
              "#9c179e"
             ],
             [
              0.4444444444444444,
              "#bd3786"
             ],
             [
              0.5555555555555556,
              "#d8576b"
             ],
             [
              0.6666666666666666,
              "#ed7953"
             ],
             [
              0.7777777777777778,
              "#fb9f3a"
             ],
             [
              0.8888888888888888,
              "#fdca26"
             ],
             [
              1,
              "#f0f921"
             ]
            ],
            "type": "contour"
           }
          ],
          "contourcarpet": [
           {
            "colorbar": {
             "outlinewidth": 0,
             "ticks": ""
            },
            "type": "contourcarpet"
           }
          ],
          "heatmap": [
           {
            "colorbar": {
             "outlinewidth": 0,
             "ticks": ""
            },
            "colorscale": [
             [
              0,
              "#0d0887"
             ],
             [
              0.1111111111111111,
              "#46039f"
             ],
             [
              0.2222222222222222,
              "#7201a8"
             ],
             [
              0.3333333333333333,
              "#9c179e"
             ],
             [
              0.4444444444444444,
              "#bd3786"
             ],
             [
              0.5555555555555556,
              "#d8576b"
             ],
             [
              0.6666666666666666,
              "#ed7953"
             ],
             [
              0.7777777777777778,
              "#fb9f3a"
             ],
             [
              0.8888888888888888,
              "#fdca26"
             ],
             [
              1,
              "#f0f921"
             ]
            ],
            "type": "heatmap"
           }
          ],
          "heatmapgl": [
           {
            "colorbar": {
             "outlinewidth": 0,
             "ticks": ""
            },
            "colorscale": [
             [
              0,
              "#0d0887"
             ],
             [
              0.1111111111111111,
              "#46039f"
             ],
             [
              0.2222222222222222,
              "#7201a8"
             ],
             [
              0.3333333333333333,
              "#9c179e"
             ],
             [
              0.4444444444444444,
              "#bd3786"
             ],
             [
              0.5555555555555556,
              "#d8576b"
             ],
             [
              0.6666666666666666,
              "#ed7953"
             ],
             [
              0.7777777777777778,
              "#fb9f3a"
             ],
             [
              0.8888888888888888,
              "#fdca26"
             ],
             [
              1,
              "#f0f921"
             ]
            ],
            "type": "heatmapgl"
           }
          ],
          "histogram": [
           {
            "marker": {
             "colorbar": {
              "outlinewidth": 0,
              "ticks": ""
             }
            },
            "type": "histogram"
           }
          ],
          "histogram2d": [
           {
            "colorbar": {
             "outlinewidth": 0,
             "ticks": ""
            },
            "colorscale": [
             [
              0,
              "#0d0887"
             ],
             [
              0.1111111111111111,
              "#46039f"
             ],
             [
              0.2222222222222222,
              "#7201a8"
             ],
             [
              0.3333333333333333,
              "#9c179e"
             ],
             [
              0.4444444444444444,
              "#bd3786"
             ],
             [
              0.5555555555555556,
              "#d8576b"
             ],
             [
              0.6666666666666666,
              "#ed7953"
             ],
             [
              0.7777777777777778,
              "#fb9f3a"
             ],
             [
              0.8888888888888888,
              "#fdca26"
             ],
             [
              1,
              "#f0f921"
             ]
            ],
            "type": "histogram2d"
           }
          ],
          "histogram2dcontour": [
           {
            "colorbar": {
             "outlinewidth": 0,
             "ticks": ""
            },
            "colorscale": [
             [
              0,
              "#0d0887"
             ],
             [
              0.1111111111111111,
              "#46039f"
             ],
             [
              0.2222222222222222,
              "#7201a8"
             ],
             [
              0.3333333333333333,
              "#9c179e"
             ],
             [
              0.4444444444444444,
              "#bd3786"
             ],
             [
              0.5555555555555556,
              "#d8576b"
             ],
             [
              0.6666666666666666,
              "#ed7953"
             ],
             [
              0.7777777777777778,
              "#fb9f3a"
             ],
             [
              0.8888888888888888,
              "#fdca26"
             ],
             [
              1,
              "#f0f921"
             ]
            ],
            "type": "histogram2dcontour"
           }
          ],
          "mesh3d": [
           {
            "colorbar": {
             "outlinewidth": 0,
             "ticks": ""
            },
            "type": "mesh3d"
           }
          ],
          "parcoords": [
           {
            "line": {
             "colorbar": {
              "outlinewidth": 0,
              "ticks": ""
             }
            },
            "type": "parcoords"
           }
          ],
          "pie": [
           {
            "automargin": true,
            "type": "pie"
           }
          ],
          "scatter": [
           {
            "marker": {
             "colorbar": {
              "outlinewidth": 0,
              "ticks": ""
             }
            },
            "type": "scatter"
           }
          ],
          "scatter3d": [
           {
            "line": {
             "colorbar": {
              "outlinewidth": 0,
              "ticks": ""
             }
            },
            "marker": {
             "colorbar": {
              "outlinewidth": 0,
              "ticks": ""
             }
            },
            "type": "scatter3d"
           }
          ],
          "scattercarpet": [
           {
            "marker": {
             "colorbar": {
              "outlinewidth": 0,
              "ticks": ""
             }
            },
            "type": "scattercarpet"
           }
          ],
          "scattergeo": [
           {
            "marker": {
             "colorbar": {
              "outlinewidth": 0,
              "ticks": ""
             }
            },
            "type": "scattergeo"
           }
          ],
          "scattergl": [
           {
            "marker": {
             "colorbar": {
              "outlinewidth": 0,
              "ticks": ""
             }
            },
            "type": "scattergl"
           }
          ],
          "scattermapbox": [
           {
            "marker": {
             "colorbar": {
              "outlinewidth": 0,
              "ticks": ""
             }
            },
            "type": "scattermapbox"
           }
          ],
          "scatterpolar": [
           {
            "marker": {
             "colorbar": {
              "outlinewidth": 0,
              "ticks": ""
             }
            },
            "type": "scatterpolar"
           }
          ],
          "scatterpolargl": [
           {
            "marker": {
             "colorbar": {
              "outlinewidth": 0,
              "ticks": ""
             }
            },
            "type": "scatterpolargl"
           }
          ],
          "scatterternary": [
           {
            "marker": {
             "colorbar": {
              "outlinewidth": 0,
              "ticks": ""
             }
            },
            "type": "scatterternary"
           }
          ],
          "surface": [
           {
            "colorbar": {
             "outlinewidth": 0,
             "ticks": ""
            },
            "colorscale": [
             [
              0,
              "#0d0887"
             ],
             [
              0.1111111111111111,
              "#46039f"
             ],
             [
              0.2222222222222222,
              "#7201a8"
             ],
             [
              0.3333333333333333,
              "#9c179e"
             ],
             [
              0.4444444444444444,
              "#bd3786"
             ],
             [
              0.5555555555555556,
              "#d8576b"
             ],
             [
              0.6666666666666666,
              "#ed7953"
             ],
             [
              0.7777777777777778,
              "#fb9f3a"
             ],
             [
              0.8888888888888888,
              "#fdca26"
             ],
             [
              1,
              "#f0f921"
             ]
            ],
            "type": "surface"
           }
          ],
          "table": [
           {
            "cells": {
             "fill": {
              "color": "#EBF0F8"
             },
             "line": {
              "color": "white"
             }
            },
            "header": {
             "fill": {
              "color": "#C8D4E3"
             },
             "line": {
              "color": "white"
             }
            },
            "type": "table"
           }
          ]
         },
         "layout": {
          "annotationdefaults": {
           "arrowcolor": "#2a3f5f",
           "arrowhead": 0,
           "arrowwidth": 1
          },
          "autotypenumbers": "strict",
          "coloraxis": {
           "colorbar": {
            "outlinewidth": 0,
            "ticks": ""
           }
          },
          "colorscale": {
           "diverging": [
            [
             0,
             "#8e0152"
            ],
            [
             0.1,
             "#c51b7d"
            ],
            [
             0.2,
             "#de77ae"
            ],
            [
             0.3,
             "#f1b6da"
            ],
            [
             0.4,
             "#fde0ef"
            ],
            [
             0.5,
             "#f7f7f7"
            ],
            [
             0.6,
             "#e6f5d0"
            ],
            [
             0.7,
             "#b8e186"
            ],
            [
             0.8,
             "#7fbc41"
            ],
            [
             0.9,
             "#4d9221"
            ],
            [
             1,
             "#276419"
            ]
           ],
           "sequential": [
            [
             0,
             "#0d0887"
            ],
            [
             0.1111111111111111,
             "#46039f"
            ],
            [
             0.2222222222222222,
             "#7201a8"
            ],
            [
             0.3333333333333333,
             "#9c179e"
            ],
            [
             0.4444444444444444,
             "#bd3786"
            ],
            [
             0.5555555555555556,
             "#d8576b"
            ],
            [
             0.6666666666666666,
             "#ed7953"
            ],
            [
             0.7777777777777778,
             "#fb9f3a"
            ],
            [
             0.8888888888888888,
             "#fdca26"
            ],
            [
             1,
             "#f0f921"
            ]
           ],
           "sequentialminus": [
            [
             0,
             "#0d0887"
            ],
            [
             0.1111111111111111,
             "#46039f"
            ],
            [
             0.2222222222222222,
             "#7201a8"
            ],
            [
             0.3333333333333333,
             "#9c179e"
            ],
            [
             0.4444444444444444,
             "#bd3786"
            ],
            [
             0.5555555555555556,
             "#d8576b"
            ],
            [
             0.6666666666666666,
             "#ed7953"
            ],
            [
             0.7777777777777778,
             "#fb9f3a"
            ],
            [
             0.8888888888888888,
             "#fdca26"
            ],
            [
             1,
             "#f0f921"
            ]
           ]
          },
          "colorway": [
           "#636efa",
           "#EF553B",
           "#00cc96",
           "#ab63fa",
           "#FFA15A",
           "#19d3f3",
           "#FF6692",
           "#B6E880",
           "#FF97FF",
           "#FECB52"
          ],
          "font": {
           "color": "#2a3f5f"
          },
          "geo": {
           "bgcolor": "white",
           "lakecolor": "white",
           "landcolor": "#E5ECF6",
           "showlakes": true,
           "showland": true,
           "subunitcolor": "white"
          },
          "hoverlabel": {
           "align": "left"
          },
          "hovermode": "closest",
          "mapbox": {
           "style": "light"
          },
          "paper_bgcolor": "white",
          "plot_bgcolor": "#E5ECF6",
          "polar": {
           "angularaxis": {
            "gridcolor": "white",
            "linecolor": "white",
            "ticks": ""
           },
           "bgcolor": "#E5ECF6",
           "radialaxis": {
            "gridcolor": "white",
            "linecolor": "white",
            "ticks": ""
           }
          },
          "scene": {
           "xaxis": {
            "backgroundcolor": "#E5ECF6",
            "gridcolor": "white",
            "gridwidth": 2,
            "linecolor": "white",
            "showbackground": true,
            "ticks": "",
            "zerolinecolor": "white"
           },
           "yaxis": {
            "backgroundcolor": "#E5ECF6",
            "gridcolor": "white",
            "gridwidth": 2,
            "linecolor": "white",
            "showbackground": true,
            "ticks": "",
            "zerolinecolor": "white"
           },
           "zaxis": {
            "backgroundcolor": "#E5ECF6",
            "gridcolor": "white",
            "gridwidth": 2,
            "linecolor": "white",
            "showbackground": true,
            "ticks": "",
            "zerolinecolor": "white"
           }
          },
          "shapedefaults": {
           "line": {
            "color": "#2a3f5f"
           }
          },
          "ternary": {
           "aaxis": {
            "gridcolor": "white",
            "linecolor": "white",
            "ticks": ""
           },
           "baxis": {
            "gridcolor": "white",
            "linecolor": "white",
            "ticks": ""
           },
           "bgcolor": "#E5ECF6",
           "caxis": {
            "gridcolor": "white",
            "linecolor": "white",
            "ticks": ""
           }
          },
          "title": {
           "x": 0.05
          },
          "xaxis": {
           "automargin": true,
           "gridcolor": "white",
           "linecolor": "white",
           "ticks": "",
           "title": {
            "standoff": 15
           },
           "zerolinecolor": "white",
           "zerolinewidth": 2
          },
          "yaxis": {
           "automargin": true,
           "gridcolor": "white",
           "linecolor": "white",
           "ticks": "",
           "title": {
            "standoff": 15
           },
           "zerolinecolor": "white",
           "zerolinewidth": 2
          }
         }
        },
        "title": {
         "text": "Tipo de Traço x Rompimento 28 Dias"
        },
        "xaxis": {
         "anchor": "y",
         "domain": [
          0,
          1
         ],
         "title": {
          "text": "TipoTraco"
         }
        },
        "yaxis": {
         "anchor": "x",
         "domain": [
          0,
          1
         ],
         "title": {
          "text": "Rompimento28Dias"
         }
        }
       }
      },
      "text/html": [
       "<div>                            <div id=\"61189275-3d51-48e7-8a58-ce3fe4d79702\" class=\"plotly-graph-div\" style=\"height:525px; width:100%;\"></div>            <script type=\"text/javascript\">                require([\"plotly\"], function(Plotly) {                    window.PLOTLYENV=window.PLOTLYENV || {};                                    if (document.getElementById(\"61189275-3d51-48e7-8a58-ce3fe4d79702\")) {                    Plotly.newPlot(                        \"61189275-3d51-48e7-8a58-ce3fe4d79702\",                        [{\"alignmentgroup\": \"True\", \"hovertemplate\": \"TipoTraco=%{x}<br>Rompimento28Dias=%{y}<extra></extra>\", \"legendgroup\": \"\", \"marker\": {\"color\": \"#636efa\"}, \"name\": \"\", \"notched\": false, \"offsetgroup\": \"\", \"orientation\": \"v\", \"showlegend\": false, \"type\": \"box\", \"x\": [\"N\", \"N\", \"N\", \"N\", \"N\", \"N\", \"N\", \"N\", \"N\", \"N\", \"N\", \"N\", \"N\", \"N\", \"N\", \"N\", \"N\", \"N\", \"N\", \"N\", \"N\", \"N\", \"N\", \"N\", \"N\", \"N\", \"N\", \"N\", \"N\", \"N\", \"E\", \"E\", \"E\", \"E\", \"E\", \"E\", \"E\", \"E\", \"E\", \"E\", \"E\", \"E\", \"E\", \"E\", \"E\", \"E\", \"E\", \"E\", \"E\", \"E\", \"E\", \"E\", \"E\", \"E\", \"E\", \"E\", \"E\", \"E\", \"E\", \"E\", \"E\", \"E\", \"E\", \"E\", \"E\", \"E\", \"N\", \"N\", \"N\", \"N\", \"N\", \"N\", \"N\", \"N\", \"N\", \"N\", \"N\", \"N\", \"N\", \"N\", \"N\", \"N\", \"N\", \"N\", \"N\", \"N\", \"N\", \"N\", \"N\", \"N\", \"N\", \"N\", \"N\", \"N\", \"N\", \"E\", \"E\", \"E\", \"E\", \"E\", \"E\", \"E\", \"E\", \"E\", \"E\", \"E\", \"N\", \"N\", \"N\", \"N\", \"N\", \"N\", \"N\", \"N\", \"N\", \"N\", \"N\", \"N\", \"N\", \"N\", \"N\", \"N\", \"N\", \"N\", \"N\", \"N\", \"N\", \"N\", \"N\", \"N\", \"N\", \"N\", \"N\", \"N\", \"N\", \"N\", \"N\", \"N\", \"N\", \"N\", \"N\", \"N\", \"N\", \"N\", \"N\", \"N\", \"N\", \"N\", \"N\", \"N\", \"N\", \"N\", \"N\", \"N\", \"N\", \"N\", \"N\", \"N\", \"N\", \"N\", \"N\", \"N\", \"N\", \"N\", \"N\", \"E\", \"E\", \"E\", \"E\", \"E\", \"E\", \"E\", \"E\", \"E\", \"E\", \"E\", \"E\", \"E\", \"E\", \"N\", \"N\", \"N\", \"N\", \"N\", \"N\", \"N\", \"N\", \"N\", \"N\", \"N\", \"N\", \"N\", \"N\", \"N\", \"N\", \"N\", \"N\", \"N\", \"N\", \"N\", \"N\", \"N\", \"N\", \"N\", \"N\", \"N\", \"N\", \"N\", \"N\", \"N\", \"N\", \"N\", \"N\", \"N\", \"N\", \"N\", \"N\", \"N\", \"N\", \"N\", \"N\", \"N\", \"N\", \"N\", \"N\", \"N\", \"N\", \"N\", \"N\", \"N\", \"N\", \"N\", \"N\", \"N\", \"N\", \"N\", \"N\", \"N\", \"N\", \"N\", \"N\", \"N\", \"N\", \"N\", \"N\", \"N\", \"N\", \"N\", \"N\", \"N\", \"N\", \"N\", \"N\", \"N\", \"N\", \"N\", \"N\", \"N\", \"N\", \"E\", \"N\", \"N\", \"N\", \"N\", \"N\", \"N\", \"N\", \"N\", \"N\", \"N\", \"N\", \"N\", \"N\", \"N\", \"N\", \"N\", \"N\", \"N\", \"N\", \"N\", \"N\", \"N\", \"N\", \"N\", \"N\", \"N\", \"N\", \"N\", \"N\", \"N\", \"N\", \"N\", \"N\", \"N\", \"N\", \"N\", \"N\", \"N\", \"N\", \"N\", \"N\", \"N\", \"N\", \"N\", \"N\", \"N\", \"N\", \"N\", \"N\", \"N\", \"N\", \"N\", \"N\", \"N\", \"N\", \"N\", \"N\", \"N\", \"N\", \"N\", \"N\", \"N\", \"N\", \"N\", \"N\", \"N\", \"N\", \"N\", \"N\", \"N\", \"N\", \"N\", \"N\", \"N\", \"N\", \"N\", \"N\", \"N\", \"N\", \"N\", \"N\", \"N\", \"N\", \"N\", \"N\", \"N\", \"N\", \"N\", \"N\", \"N\", \"N\", \"N\", \"N\", \"N\", \"N\", \"N\", \"N\", \"N\", \"N\", \"N\", \"N\", \"N\", \"N\", \"N\", \"N\", \"N\", \"N\", \"N\", \"E\", \"E\", \"E\", \"E\", \"E\", \"E\", \"E\", \"N\", \"N\", \"N\", \"N\", \"N\", \"N\", \"N\", \"N\", \"E\", \"E\", \"E\", \"E\", \"E\", \"E\", \"E\", \"E\", \"E\", \"E\", \"E\", \"E\", \"E\", \"E\", \"E\", \"E\", \"E\", \"E\", \"E\", \"E\", \"E\", \"E\", \"E\", \"E\", \"E\", \"E\", \"N\", \"N\", \"N\", \"N\", \"N\", \"N\", \"N\", \"N\", \"N\", \"N\", \"N\", \"N\", \"N\", \"N\", \"N\", \"N\", \"N\", \"N\", \"N\", \"N\", \"N\", \"N\", \"N\", \"N\", \"N\", \"N\", \"N\", \"N\", \"N\", \"N\", \"N\", \"N\", \"N\", \"N\", \"N\", \"E\", \"E\", \"E\", \"E\", \"N\", \"E\", \"E\", \"E\", \"N\", \"N\", \"N\", \"N\", \"N\", \"N\", \"N\", \"N\", \"N\", \"N\", \"N\", \"E\", \"E\", \"E\"], \"x0\": \" \", \"xaxis\": \"x\", \"y\": [35.08, 33.4, 31.72, 31.12, 28.39, 29.7, 27.47, 27.61, 31.63, 26.3, 27.13, 22.49, 24.66, 16.96, 20.15, 30.93, 31.9, 31.3, 30.83, 31.02, 30.3, 30.6, 30.6, 33.52, 32.47, 32.41, 32.14, 33.9, 32.83, 35.01, 51.28, 43.52, 42.89, 49.06, 44.21, 45.48, 44.6, 38.14, 33.43, 46.48, 46.74, 46.78, 42.62, 46.6, 46.46, 52.0, 49.79, 51.63, 49.51, 41.84, 38.95, 52.97, 49.15, 33.26, 33.77, 38.85, 37.04, 35.9, 37.06, 36.23, 33.84, 36.62, 33.86, 36.65, 34.59, 37.24, 25.32, 26.27, 25.46, 28.11, 30.02, 25.0, 31.89, 30.4, 30.58, 32.55, 27.38, 23.81, 22.79, 20.28, 23.33, 24.34, 20.74, 18.1, 21.53, 22.81, 20.43, 21.72, 20.52, 23.31, 22.72, 22.04, 24.11, 26.34, 25.23, 39.12, 34.09, 31.18, 31.25, 30.49, 31.01, 34.94, 34.73, 33.26, 30.4, 39.45, 36.56, 37.59, 34.38, 27.27, 26.77, 24.99, 26.67, 29.5, 29.06, 31.79, 27.15, 28.49, 29.67, 28.73, 38.37, 37.64, 44.87, 43.54, 45.08, 37.38, 44.91, 37.72, 35.68, 31.77, 30.22, 32.61, 33.11, 36.06, 33.79, 31.01, 34.14, 36.59, 32.32, 36.4, 35.01, 36.48, 35.68, 37.27, 38.2, 39.58, 41.4, 38.88, 37.34, 33.03, 37.85, 36.12, 41.45, 32.42, 33.51, 37.2, 33.63, 38.44, 32.46, 32.78, 28.08, 33.8, 30.87, 26.86, 40.19, 38.51, 39.11, 43.12, 39.79, 38.92, 40.86, 42.29, 33.2, 34.45, 38.18, 43.15, 37.24, 34.5, 45.71, 29.78, 27.93, 30.76, 35.22, 36.01, 29.84, 30.51, 28.5, 32.35, 34.28, 32.74, 33.45, 33.71, 30.4, 29.56, 27.56, 28.85, 29.74, 30.78, 28.53, 31.74, 32.92, 35.62, 38.09, 36.31, 37.81, 35.4, 36.2, 35.11, 30.0, 26.39, 27.87, 28.99, 25.41, 25.14, 29.98, 25.54, 25.21, 32.73, 25.01, 24.54, 34.88, 29.67, 30.69, 36.28, 34.07, 28.25, 37.54, 39.53, 31.48, 29.69, 32.49, 35.22, 34.09, 35.22, 33.79, 37.96, 37.03, 37.66, 40.0, 32.44, 35.92, 31.86, 35.2, 35.89, 35.39, 40.53, 40.14, 34.91, 38.42, 36.59, 30.88, 34.0, 32.64, 30.87, 35.15, 31.94, 35.39, 37.73, 37.77, 32.05, 38.36, 42.61, 43.19, 38.3, 37.46, 31.07, 32.51, 33.02, 38.61, 28.72, 30.44, 30.26, 27.53, 34.54, 26.54, 27.39, 21.2, 33.9, 31.71, 34.49, 35.72, 27.98, 26.02, 29.0, 27.06, 26.39, 24.03, 33.17, 27.43, 31.39, 28.41, 30.16, 29.92, 30.02, 29.46, 27.31, 28.38, 29.64, 30.5, 40.23, 39.69, 35.81, 34.7, 38.75, 30.32, 35.07, 29.37, 33.09, 31.39, 31.19, 31.76, 33.84, 30.49, 34.47, 29.24, 31.72, 38.11, 35.69, 37.13, 34.04, 33.82, 32.46, 30.58, 29.93, 34.49, 38.16, 32.56, 32.54, 32.31, 32.6, 29.51, 31.26, 32.16, 31.26, 33.01, 21.27, 23.67, 25.79, 29.67, 27.15, 22.14, 25.69, 23.59, 27.62, 24.96, 22.79, 22.12, 22.21, 22.79, 26.82, 25.29, 32.84, 26.07, 25.56, 26.66, 27.64, 26.95, 32.4, 27.28, 27.28, 29.56, 31.61, 37.24, 33.4, 36.56, 37.67, 33.07, 34.88, 39.48, 37.77, 41.83, 40.1, 39.59, 40.66, 31.24, 40.21, 39.14, 36.4, 38.04, 40.48, 36.24, 35.22, 37.81, 25.1, 26.16, 29.65, 25.89, 28.43, 27.34, 28.71, 30.68, 27.69, 33.25, 31.54, 28.22, 32.02, 38.06, 37.31, 33.48, 38.79, 42.01, 38.08, 34.63, 28.4, 32.64, 33.01, 38.7, 33.66, 34.69, 22.25, 27.36, 31.42, 31.74, 30.62, 29.6, 28.29, 37.17, 34.45, 37.54, 39.44, 42.79, 37.86, 37.46, 36.98, 41.96, 44.3, 39.97, 42.35, 37.32, 36.4, 35.29, 35.55, 33.93, 34.74, 36.2, 32.68, 30.0, 30.44, 31.34, 29.48, 33.72, 28.94, 34.8, 21.92, 33.07, 31.74, 29.56, 37.04, 34.65, 33.19, 34.38, 36.17, 49.94, 38.19, 28.88, 28.01, 29.1, 32.45, 25.68, 31.51, 22.32, 20.79, 33.29, 49.8, 48.35, 46.11], \"y0\": \" \", \"yaxis\": \"y\"}],                        {\"boxmode\": \"group\", \"legend\": {\"tracegroupgap\": 0}, \"template\": {\"data\": {\"bar\": [{\"error_x\": {\"color\": \"#2a3f5f\"}, \"error_y\": {\"color\": \"#2a3f5f\"}, \"marker\": {\"line\": {\"color\": \"#E5ECF6\", \"width\": 0.5}}, \"type\": \"bar\"}], \"barpolar\": [{\"marker\": {\"line\": {\"color\": \"#E5ECF6\", \"width\": 0.5}}, \"type\": \"barpolar\"}], \"carpet\": [{\"aaxis\": {\"endlinecolor\": \"#2a3f5f\", \"gridcolor\": \"white\", \"linecolor\": \"white\", \"minorgridcolor\": \"white\", \"startlinecolor\": \"#2a3f5f\"}, \"baxis\": {\"endlinecolor\": \"#2a3f5f\", \"gridcolor\": \"white\", \"linecolor\": \"white\", \"minorgridcolor\": \"white\", \"startlinecolor\": \"#2a3f5f\"}, \"type\": \"carpet\"}], \"choropleth\": [{\"colorbar\": {\"outlinewidth\": 0, \"ticks\": \"\"}, \"type\": \"choropleth\"}], \"contour\": [{\"colorbar\": {\"outlinewidth\": 0, \"ticks\": \"\"}, \"colorscale\": [[0.0, \"#0d0887\"], [0.1111111111111111, \"#46039f\"], [0.2222222222222222, \"#7201a8\"], [0.3333333333333333, \"#9c179e\"], [0.4444444444444444, \"#bd3786\"], [0.5555555555555556, \"#d8576b\"], [0.6666666666666666, \"#ed7953\"], [0.7777777777777778, \"#fb9f3a\"], [0.8888888888888888, \"#fdca26\"], [1.0, \"#f0f921\"]], \"type\": \"contour\"}], \"contourcarpet\": [{\"colorbar\": {\"outlinewidth\": 0, \"ticks\": \"\"}, \"type\": \"contourcarpet\"}], \"heatmap\": [{\"colorbar\": {\"outlinewidth\": 0, \"ticks\": \"\"}, \"colorscale\": [[0.0, \"#0d0887\"], [0.1111111111111111, \"#46039f\"], [0.2222222222222222, \"#7201a8\"], [0.3333333333333333, \"#9c179e\"], [0.4444444444444444, \"#bd3786\"], [0.5555555555555556, \"#d8576b\"], [0.6666666666666666, \"#ed7953\"], [0.7777777777777778, \"#fb9f3a\"], [0.8888888888888888, \"#fdca26\"], [1.0, \"#f0f921\"]], \"type\": \"heatmap\"}], \"heatmapgl\": [{\"colorbar\": {\"outlinewidth\": 0, \"ticks\": \"\"}, \"colorscale\": [[0.0, \"#0d0887\"], [0.1111111111111111, \"#46039f\"], [0.2222222222222222, \"#7201a8\"], [0.3333333333333333, \"#9c179e\"], [0.4444444444444444, \"#bd3786\"], [0.5555555555555556, \"#d8576b\"], [0.6666666666666666, \"#ed7953\"], [0.7777777777777778, \"#fb9f3a\"], [0.8888888888888888, \"#fdca26\"], [1.0, \"#f0f921\"]], \"type\": \"heatmapgl\"}], \"histogram\": [{\"marker\": {\"colorbar\": {\"outlinewidth\": 0, \"ticks\": \"\"}}, \"type\": \"histogram\"}], \"histogram2d\": [{\"colorbar\": {\"outlinewidth\": 0, \"ticks\": \"\"}, \"colorscale\": [[0.0, \"#0d0887\"], [0.1111111111111111, \"#46039f\"], [0.2222222222222222, \"#7201a8\"], [0.3333333333333333, \"#9c179e\"], [0.4444444444444444, \"#bd3786\"], [0.5555555555555556, \"#d8576b\"], [0.6666666666666666, \"#ed7953\"], [0.7777777777777778, \"#fb9f3a\"], [0.8888888888888888, \"#fdca26\"], [1.0, \"#f0f921\"]], \"type\": \"histogram2d\"}], \"histogram2dcontour\": [{\"colorbar\": {\"outlinewidth\": 0, \"ticks\": \"\"}, \"colorscale\": [[0.0, \"#0d0887\"], [0.1111111111111111, \"#46039f\"], [0.2222222222222222, \"#7201a8\"], [0.3333333333333333, \"#9c179e\"], [0.4444444444444444, \"#bd3786\"], [0.5555555555555556, \"#d8576b\"], [0.6666666666666666, \"#ed7953\"], [0.7777777777777778, \"#fb9f3a\"], [0.8888888888888888, \"#fdca26\"], [1.0, \"#f0f921\"]], \"type\": \"histogram2dcontour\"}], \"mesh3d\": [{\"colorbar\": {\"outlinewidth\": 0, \"ticks\": \"\"}, \"type\": \"mesh3d\"}], \"parcoords\": [{\"line\": {\"colorbar\": {\"outlinewidth\": 0, \"ticks\": \"\"}}, \"type\": \"parcoords\"}], \"pie\": [{\"automargin\": true, \"type\": \"pie\"}], \"scatter\": [{\"marker\": {\"colorbar\": {\"outlinewidth\": 0, \"ticks\": \"\"}}, \"type\": \"scatter\"}], \"scatter3d\": [{\"line\": {\"colorbar\": {\"outlinewidth\": 0, \"ticks\": \"\"}}, \"marker\": {\"colorbar\": {\"outlinewidth\": 0, \"ticks\": \"\"}}, \"type\": \"scatter3d\"}], \"scattercarpet\": [{\"marker\": {\"colorbar\": {\"outlinewidth\": 0, \"ticks\": \"\"}}, \"type\": \"scattercarpet\"}], \"scattergeo\": [{\"marker\": {\"colorbar\": {\"outlinewidth\": 0, \"ticks\": \"\"}}, \"type\": \"scattergeo\"}], \"scattergl\": [{\"marker\": {\"colorbar\": {\"outlinewidth\": 0, \"ticks\": \"\"}}, \"type\": \"scattergl\"}], \"scattermapbox\": [{\"marker\": {\"colorbar\": {\"outlinewidth\": 0, \"ticks\": \"\"}}, \"type\": \"scattermapbox\"}], \"scatterpolar\": [{\"marker\": {\"colorbar\": {\"outlinewidth\": 0, \"ticks\": \"\"}}, \"type\": \"scatterpolar\"}], \"scatterpolargl\": [{\"marker\": {\"colorbar\": {\"outlinewidth\": 0, \"ticks\": \"\"}}, \"type\": \"scatterpolargl\"}], \"scatterternary\": [{\"marker\": {\"colorbar\": {\"outlinewidth\": 0, \"ticks\": \"\"}}, \"type\": \"scatterternary\"}], \"surface\": [{\"colorbar\": {\"outlinewidth\": 0, \"ticks\": \"\"}, \"colorscale\": [[0.0, \"#0d0887\"], [0.1111111111111111, \"#46039f\"], [0.2222222222222222, \"#7201a8\"], [0.3333333333333333, \"#9c179e\"], [0.4444444444444444, \"#bd3786\"], [0.5555555555555556, \"#d8576b\"], [0.6666666666666666, \"#ed7953\"], [0.7777777777777778, \"#fb9f3a\"], [0.8888888888888888, \"#fdca26\"], [1.0, \"#f0f921\"]], \"type\": \"surface\"}], \"table\": [{\"cells\": {\"fill\": {\"color\": \"#EBF0F8\"}, \"line\": {\"color\": \"white\"}}, \"header\": {\"fill\": {\"color\": \"#C8D4E3\"}, \"line\": {\"color\": \"white\"}}, \"type\": \"table\"}]}, \"layout\": {\"annotationdefaults\": {\"arrowcolor\": \"#2a3f5f\", \"arrowhead\": 0, \"arrowwidth\": 1}, \"autotypenumbers\": \"strict\", \"coloraxis\": {\"colorbar\": {\"outlinewidth\": 0, \"ticks\": \"\"}}, \"colorscale\": {\"diverging\": [[0, \"#8e0152\"], [0.1, \"#c51b7d\"], [0.2, \"#de77ae\"], [0.3, \"#f1b6da\"], [0.4, \"#fde0ef\"], [0.5, \"#f7f7f7\"], [0.6, \"#e6f5d0\"], [0.7, \"#b8e186\"], [0.8, \"#7fbc41\"], [0.9, \"#4d9221\"], [1, \"#276419\"]], \"sequential\": [[0.0, \"#0d0887\"], [0.1111111111111111, \"#46039f\"], [0.2222222222222222, \"#7201a8\"], [0.3333333333333333, \"#9c179e\"], [0.4444444444444444, \"#bd3786\"], [0.5555555555555556, \"#d8576b\"], [0.6666666666666666, \"#ed7953\"], [0.7777777777777778, \"#fb9f3a\"], [0.8888888888888888, \"#fdca26\"], [1.0, \"#f0f921\"]], \"sequentialminus\": [[0.0, \"#0d0887\"], [0.1111111111111111, \"#46039f\"], [0.2222222222222222, \"#7201a8\"], [0.3333333333333333, \"#9c179e\"], [0.4444444444444444, \"#bd3786\"], [0.5555555555555556, \"#d8576b\"], [0.6666666666666666, \"#ed7953\"], [0.7777777777777778, \"#fb9f3a\"], [0.8888888888888888, \"#fdca26\"], [1.0, \"#f0f921\"]]}, \"colorway\": [\"#636efa\", \"#EF553B\", \"#00cc96\", \"#ab63fa\", \"#FFA15A\", \"#19d3f3\", \"#FF6692\", \"#B6E880\", \"#FF97FF\", \"#FECB52\"], \"font\": {\"color\": \"#2a3f5f\"}, \"geo\": {\"bgcolor\": \"white\", \"lakecolor\": \"white\", \"landcolor\": \"#E5ECF6\", \"showlakes\": true, \"showland\": true, \"subunitcolor\": \"white\"}, \"hoverlabel\": {\"align\": \"left\"}, \"hovermode\": \"closest\", \"mapbox\": {\"style\": \"light\"}, \"paper_bgcolor\": \"white\", \"plot_bgcolor\": \"#E5ECF6\", \"polar\": {\"angularaxis\": {\"gridcolor\": \"white\", \"linecolor\": \"white\", \"ticks\": \"\"}, \"bgcolor\": \"#E5ECF6\", \"radialaxis\": {\"gridcolor\": \"white\", \"linecolor\": \"white\", \"ticks\": \"\"}}, \"scene\": {\"xaxis\": {\"backgroundcolor\": \"#E5ECF6\", \"gridcolor\": \"white\", \"gridwidth\": 2, \"linecolor\": \"white\", \"showbackground\": true, \"ticks\": \"\", \"zerolinecolor\": \"white\"}, \"yaxis\": {\"backgroundcolor\": \"#E5ECF6\", \"gridcolor\": \"white\", \"gridwidth\": 2, \"linecolor\": \"white\", \"showbackground\": true, \"ticks\": \"\", \"zerolinecolor\": \"white\"}, \"zaxis\": {\"backgroundcolor\": \"#E5ECF6\", \"gridcolor\": \"white\", \"gridwidth\": 2, \"linecolor\": \"white\", \"showbackground\": true, \"ticks\": \"\", \"zerolinecolor\": \"white\"}}, \"shapedefaults\": {\"line\": {\"color\": \"#2a3f5f\"}}, \"ternary\": {\"aaxis\": {\"gridcolor\": \"white\", \"linecolor\": \"white\", \"ticks\": \"\"}, \"baxis\": {\"gridcolor\": \"white\", \"linecolor\": \"white\", \"ticks\": \"\"}, \"bgcolor\": \"#E5ECF6\", \"caxis\": {\"gridcolor\": \"white\", \"linecolor\": \"white\", \"ticks\": \"\"}}, \"title\": {\"x\": 0.05}, \"xaxis\": {\"automargin\": true, \"gridcolor\": \"white\", \"linecolor\": \"white\", \"ticks\": \"\", \"title\": {\"standoff\": 15}, \"zerolinecolor\": \"white\", \"zerolinewidth\": 2}, \"yaxis\": {\"automargin\": true, \"gridcolor\": \"white\", \"linecolor\": \"white\", \"ticks\": \"\", \"title\": {\"standoff\": 15}, \"zerolinecolor\": \"white\", \"zerolinewidth\": 2}}}, \"title\": {\"text\": \"Tipo de Tra\\u00e7o x Rompimento 28 Dias\"}, \"xaxis\": {\"anchor\": \"y\", \"domain\": [0.0, 1.0], \"title\": {\"text\": \"TipoTraco\"}}, \"yaxis\": {\"anchor\": \"x\", \"domain\": [0.0, 1.0], \"title\": {\"text\": \"Rompimento28Dias\"}}},                        {\"responsive\": true}                    ).then(function(){\n",
       "                            \n",
       "var gd = document.getElementById('61189275-3d51-48e7-8a58-ce3fe4d79702');\n",
       "var x = new MutationObserver(function (mutations, observer) {{\n",
       "        var display = window.getComputedStyle(gd).display;\n",
       "        if (!display || display === 'none') {{\n",
       "            console.log([gd, 'removed!']);\n",
       "            Plotly.purge(gd);\n",
       "            observer.disconnect();\n",
       "        }}\n",
       "}});\n",
       "\n",
       "// Listen for the removal of the full notebook cells\n",
       "var notebookContainer = gd.closest('#notebook-container');\n",
       "if (notebookContainer) {{\n",
       "    x.observe(notebookContainer, {childList: true});\n",
       "}}\n",
       "\n",
       "// Listen for the clearing of the current output cell\n",
       "var outputEl = gd.closest('.output');\n",
       "if (outputEl) {{\n",
       "    x.observe(outputEl, {childList: true});\n",
       "}}\n",
       "\n",
       "                        })                };                });            </script>        </div>"
      ]
     },
     "metadata": {},
     "output_type": "display_data"
    }
   ],
   "source": [
    "fig = px.box(dados_aglomerante, x=\"TipoTraco\", y=\"Rompimento28Dias\", title='Tipo de Traço x Rompimento 28 Dias')\n",
    "fig.show()"
   ]
  },
  {
   "cell_type": "code",
   "execution_count": 1122,
   "metadata": {},
   "outputs": [
    {
     "data": {
      "application/vnd.plotly.v1+json": {
       "config": {
        "plotlyServerURL": "https://plot.ly"
       },
       "data": [
        {
         "alignmentgroup": "True",
         "hovertemplate": "FCK=%{x}<br>Rompimento28Dias=%{y}<extra></extra>",
         "legendgroup": "",
         "marker": {
          "color": "#636efa"
         },
         "name": "",
         "notched": false,
         "offsetgroup": "",
         "orientation": "v",
         "showlegend": false,
         "type": "box",
         "x": [
          30,
          25,
          25,
          25,
          25,
          25,
          25,
          25,
          25,
          15,
          15,
          15,
          15,
          15,
          15,
          30,
          30,
          30,
          30,
          30,
          30,
          30,
          30,
          35,
          35,
          35,
          35,
          35,
          35,
          35,
          35,
          35,
          35,
          35,
          35,
          35,
          35,
          35,
          35,
          35,
          35,
          35,
          35,
          35,
          35,
          35,
          35,
          35,
          35,
          35,
          35,
          35,
          35,
          30,
          30,
          30,
          30,
          30,
          30,
          30,
          30,
          30,
          30,
          30,
          30,
          30,
          20,
          20,
          20,
          20,
          20,
          20,
          20,
          20,
          20,
          20,
          20,
          20,
          20,
          20,
          20,
          20,
          20,
          20,
          20,
          20,
          20,
          20,
          20,
          20,
          20,
          20,
          20,
          20,
          20,
          30,
          20,
          20,
          20,
          20,
          20,
          20,
          20,
          20,
          20,
          20,
          25,
          25,
          25,
          20,
          25,
          25,
          25,
          25,
          25,
          25,
          25,
          25,
          25,
          25,
          30,
          30,
          30,
          30,
          30,
          30,
          30,
          30,
          30,
          30,
          30,
          30,
          30,
          30,
          30,
          30,
          30,
          30,
          30,
          30,
          30,
          30,
          30,
          30,
          30,
          30,
          30,
          30,
          30,
          30,
          30,
          30,
          30,
          30,
          30,
          30,
          30,
          30,
          30,
          30,
          30,
          30,
          30,
          30,
          30,
          25,
          25,
          25,
          25,
          25,
          25,
          25,
          25,
          25,
          25,
          25,
          25,
          25,
          25,
          25,
          25,
          25,
          25,
          25,
          25,
          25,
          25,
          25,
          25,
          25,
          25,
          25,
          25,
          25,
          25,
          25,
          25,
          25,
          25,
          25,
          25,
          25,
          25,
          25,
          25,
          25,
          25,
          25,
          25,
          25,
          25,
          25,
          25,
          25,
          25,
          25,
          25,
          25,
          25,
          25,
          25,
          25,
          25,
          25,
          25,
          25,
          30,
          30,
          30,
          30,
          30,
          30,
          30,
          30,
          30,
          30,
          30,
          30,
          30,
          30,
          30,
          30,
          30,
          30,
          30,
          30,
          30,
          30,
          30,
          30,
          30,
          30,
          30,
          30,
          30,
          30,
          30,
          35,
          35,
          30,
          25,
          25,
          25,
          25,
          25,
          25,
          25,
          25,
          25,
          25,
          25,
          25,
          25,
          25,
          20,
          20,
          20,
          25,
          25,
          25,
          25,
          25,
          25,
          25,
          25,
          25,
          25,
          25,
          25,
          25,
          25,
          25,
          25,
          25,
          25,
          25,
          25,
          25,
          25,
          25,
          25,
          25,
          25,
          25,
          25,
          25,
          25,
          25,
          25,
          25,
          25,
          25,
          25,
          25,
          25,
          25,
          25,
          25,
          25,
          25,
          25,
          25,
          25,
          25,
          25,
          25,
          25,
          25,
          25,
          25,
          25,
          25,
          25,
          25,
          25,
          25,
          25,
          25,
          25,
          25,
          25,
          25,
          25,
          25,
          25,
          25,
          25,
          25,
          25,
          25,
          25,
          25,
          25,
          25,
          25,
          25,
          25,
          25,
          25,
          25,
          25,
          25,
          25,
          25,
          25,
          25,
          25,
          25,
          25,
          25,
          25,
          25,
          25,
          25,
          25,
          30,
          30,
          30,
          30,
          30,
          30,
          30,
          30,
          25,
          25,
          25,
          25,
          25,
          25,
          25,
          25,
          25,
          25,
          25,
          25,
          30,
          30,
          30,
          30,
          30,
          30,
          30,
          30,
          30,
          30,
          30,
          30,
          30,
          30,
          20,
          20,
          30,
          30,
          30,
          30,
          30,
          30,
          30,
          30,
          30,
          30,
          30,
          30,
          30,
          30,
          30,
          30,
          30,
          30,
          30,
          30,
          30,
          30,
          30,
          30,
          30,
          30,
          30,
          30,
          25,
          25,
          25,
          25,
          20,
          25,
          25,
          25,
          25,
          25,
          30,
          30,
          30,
          35,
          35,
          30,
          25,
          25,
          25,
          25,
          25,
          15,
          15,
          20,
          30,
          30,
          30
         ],
         "x0": " ",
         "xaxis": "x",
         "y": [
          35.08,
          33.4,
          31.72,
          31.12,
          28.39,
          29.7,
          27.47,
          27.61,
          31.63,
          26.3,
          27.13,
          22.49,
          24.66,
          16.96,
          20.15,
          30.93,
          31.9,
          31.3,
          30.83,
          31.02,
          30.3,
          30.6,
          30.6,
          33.52,
          32.47,
          32.41,
          32.14,
          33.9,
          32.83,
          35.01,
          51.28,
          43.52,
          42.89,
          49.06,
          44.21,
          45.48,
          44.6,
          38.14,
          33.43,
          46.48,
          46.74,
          46.78,
          42.62,
          46.6,
          46.46,
          52,
          49.79,
          51.63,
          49.51,
          41.84,
          38.95,
          52.97,
          49.15,
          33.26,
          33.77,
          38.85,
          37.04,
          35.9,
          37.06,
          36.23,
          33.84,
          36.62,
          33.86,
          36.65,
          34.59,
          37.24,
          25.32,
          26.27,
          25.46,
          28.11,
          30.02,
          25,
          31.89,
          30.4,
          30.58,
          32.55,
          27.38,
          23.81,
          22.79,
          20.28,
          23.33,
          24.34,
          20.74,
          18.1,
          21.53,
          22.81,
          20.43,
          21.72,
          20.52,
          23.31,
          22.72,
          22.04,
          24.11,
          26.34,
          25.23,
          39.12,
          34.09,
          31.18,
          31.25,
          30.49,
          31.01,
          34.94,
          34.73,
          33.26,
          30.4,
          39.45,
          36.56,
          37.59,
          34.38,
          27.27,
          26.77,
          24.99,
          26.67,
          29.5,
          29.06,
          31.79,
          27.15,
          28.49,
          29.67,
          28.73,
          38.37,
          37.64,
          44.87,
          43.54,
          45.08,
          37.38,
          44.91,
          37.72,
          35.68,
          31.77,
          30.22,
          32.61,
          33.11,
          36.06,
          33.79,
          31.01,
          34.14,
          36.59,
          32.32,
          36.4,
          35.01,
          36.48,
          35.68,
          37.27,
          38.2,
          39.58,
          41.4,
          38.88,
          37.34,
          33.03,
          37.85,
          36.12,
          41.45,
          32.42,
          33.51,
          37.2,
          33.63,
          38.44,
          32.46,
          32.78,
          28.08,
          33.8,
          30.87,
          26.86,
          40.19,
          38.51,
          39.11,
          43.12,
          39.79,
          38.92,
          40.86,
          42.29,
          33.2,
          34.45,
          38.18,
          43.15,
          37.24,
          34.5,
          45.71,
          29.78,
          27.93,
          30.76,
          35.22,
          36.01,
          29.84,
          30.51,
          28.5,
          32.35,
          34.28,
          32.74,
          33.45,
          33.71,
          30.4,
          29.56,
          27.56,
          28.85,
          29.74,
          30.78,
          28.53,
          31.74,
          32.92,
          35.62,
          38.09,
          36.31,
          37.81,
          35.4,
          36.2,
          35.11,
          30,
          26.39,
          27.87,
          28.99,
          25.41,
          25.14,
          29.98,
          25.54,
          25.21,
          32.73,
          25.01,
          24.54,
          34.88,
          29.67,
          30.69,
          36.28,
          34.07,
          28.25,
          37.54,
          39.53,
          31.48,
          29.69,
          32.49,
          35.22,
          34.09,
          35.22,
          33.79,
          37.96,
          37.03,
          37.66,
          40,
          32.44,
          35.92,
          31.86,
          35.2,
          35.89,
          35.39,
          40.53,
          40.14,
          34.91,
          38.42,
          36.59,
          30.88,
          34,
          32.64,
          30.87,
          35.15,
          31.94,
          35.39,
          37.73,
          37.77,
          32.05,
          38.36,
          42.61,
          43.19,
          38.3,
          37.46,
          31.07,
          32.51,
          33.02,
          38.61,
          28.72,
          30.44,
          30.26,
          27.53,
          34.54,
          26.54,
          27.39,
          21.2,
          33.9,
          31.71,
          34.49,
          35.72,
          27.98,
          26.02,
          29,
          27.06,
          26.39,
          24.03,
          33.17,
          27.43,
          31.39,
          28.41,
          30.16,
          29.92,
          30.02,
          29.46,
          27.31,
          28.38,
          29.64,
          30.5,
          40.23,
          39.69,
          35.81,
          34.7,
          38.75,
          30.32,
          35.07,
          29.37,
          33.09,
          31.39,
          31.19,
          31.76,
          33.84,
          30.49,
          34.47,
          29.24,
          31.72,
          38.11,
          35.69,
          37.13,
          34.04,
          33.82,
          32.46,
          30.58,
          29.93,
          34.49,
          38.16,
          32.56,
          32.54,
          32.31,
          32.6,
          29.51,
          31.26,
          32.16,
          31.26,
          33.01,
          21.27,
          23.67,
          25.79,
          29.67,
          27.15,
          22.14,
          25.69,
          23.59,
          27.62,
          24.96,
          22.79,
          22.12,
          22.21,
          22.79,
          26.82,
          25.29,
          32.84,
          26.07,
          25.56,
          26.66,
          27.64,
          26.95,
          32.4,
          27.28,
          27.28,
          29.56,
          31.61,
          37.24,
          33.4,
          36.56,
          37.67,
          33.07,
          34.88,
          39.48,
          37.77,
          41.83,
          40.1,
          39.59,
          40.66,
          31.24,
          40.21,
          39.14,
          36.4,
          38.04,
          40.48,
          36.24,
          35.22,
          37.81,
          25.1,
          26.16,
          29.65,
          25.89,
          28.43,
          27.34,
          28.71,
          30.68,
          27.69,
          33.25,
          31.54,
          28.22,
          32.02,
          38.06,
          37.31,
          33.48,
          38.79,
          42.01,
          38.08,
          34.63,
          28.4,
          32.64,
          33.01,
          38.7,
          33.66,
          34.69,
          22.25,
          27.36,
          31.42,
          31.74,
          30.62,
          29.6,
          28.29,
          37.17,
          34.45,
          37.54,
          39.44,
          42.79,
          37.86,
          37.46,
          36.98,
          41.96,
          44.3,
          39.97,
          42.35,
          37.32,
          36.4,
          35.29,
          35.55,
          33.93,
          34.74,
          36.2,
          32.68,
          30,
          30.44,
          31.34,
          29.48,
          33.72,
          28.94,
          34.8,
          21.92,
          33.07,
          31.74,
          29.56,
          37.04,
          34.65,
          33.19,
          34.38,
          36.17,
          49.94,
          38.19,
          28.88,
          28.01,
          29.1,
          32.45,
          25.68,
          31.51,
          22.32,
          20.79,
          33.29,
          49.8,
          48.35,
          46.11
         ],
         "y0": " ",
         "yaxis": "y"
        }
       ],
       "layout": {
        "boxmode": "group",
        "legend": {
         "tracegroupgap": 0
        },
        "template": {
         "data": {
          "bar": [
           {
            "error_x": {
             "color": "#2a3f5f"
            },
            "error_y": {
             "color": "#2a3f5f"
            },
            "marker": {
             "line": {
              "color": "#E5ECF6",
              "width": 0.5
             }
            },
            "type": "bar"
           }
          ],
          "barpolar": [
           {
            "marker": {
             "line": {
              "color": "#E5ECF6",
              "width": 0.5
             }
            },
            "type": "barpolar"
           }
          ],
          "carpet": [
           {
            "aaxis": {
             "endlinecolor": "#2a3f5f",
             "gridcolor": "white",
             "linecolor": "white",
             "minorgridcolor": "white",
             "startlinecolor": "#2a3f5f"
            },
            "baxis": {
             "endlinecolor": "#2a3f5f",
             "gridcolor": "white",
             "linecolor": "white",
             "minorgridcolor": "white",
             "startlinecolor": "#2a3f5f"
            },
            "type": "carpet"
           }
          ],
          "choropleth": [
           {
            "colorbar": {
             "outlinewidth": 0,
             "ticks": ""
            },
            "type": "choropleth"
           }
          ],
          "contour": [
           {
            "colorbar": {
             "outlinewidth": 0,
             "ticks": ""
            },
            "colorscale": [
             [
              0,
              "#0d0887"
             ],
             [
              0.1111111111111111,
              "#46039f"
             ],
             [
              0.2222222222222222,
              "#7201a8"
             ],
             [
              0.3333333333333333,
              "#9c179e"
             ],
             [
              0.4444444444444444,
              "#bd3786"
             ],
             [
              0.5555555555555556,
              "#d8576b"
             ],
             [
              0.6666666666666666,
              "#ed7953"
             ],
             [
              0.7777777777777778,
              "#fb9f3a"
             ],
             [
              0.8888888888888888,
              "#fdca26"
             ],
             [
              1,
              "#f0f921"
             ]
            ],
            "type": "contour"
           }
          ],
          "contourcarpet": [
           {
            "colorbar": {
             "outlinewidth": 0,
             "ticks": ""
            },
            "type": "contourcarpet"
           }
          ],
          "heatmap": [
           {
            "colorbar": {
             "outlinewidth": 0,
             "ticks": ""
            },
            "colorscale": [
             [
              0,
              "#0d0887"
             ],
             [
              0.1111111111111111,
              "#46039f"
             ],
             [
              0.2222222222222222,
              "#7201a8"
             ],
             [
              0.3333333333333333,
              "#9c179e"
             ],
             [
              0.4444444444444444,
              "#bd3786"
             ],
             [
              0.5555555555555556,
              "#d8576b"
             ],
             [
              0.6666666666666666,
              "#ed7953"
             ],
             [
              0.7777777777777778,
              "#fb9f3a"
             ],
             [
              0.8888888888888888,
              "#fdca26"
             ],
             [
              1,
              "#f0f921"
             ]
            ],
            "type": "heatmap"
           }
          ],
          "heatmapgl": [
           {
            "colorbar": {
             "outlinewidth": 0,
             "ticks": ""
            },
            "colorscale": [
             [
              0,
              "#0d0887"
             ],
             [
              0.1111111111111111,
              "#46039f"
             ],
             [
              0.2222222222222222,
              "#7201a8"
             ],
             [
              0.3333333333333333,
              "#9c179e"
             ],
             [
              0.4444444444444444,
              "#bd3786"
             ],
             [
              0.5555555555555556,
              "#d8576b"
             ],
             [
              0.6666666666666666,
              "#ed7953"
             ],
             [
              0.7777777777777778,
              "#fb9f3a"
             ],
             [
              0.8888888888888888,
              "#fdca26"
             ],
             [
              1,
              "#f0f921"
             ]
            ],
            "type": "heatmapgl"
           }
          ],
          "histogram": [
           {
            "marker": {
             "colorbar": {
              "outlinewidth": 0,
              "ticks": ""
             }
            },
            "type": "histogram"
           }
          ],
          "histogram2d": [
           {
            "colorbar": {
             "outlinewidth": 0,
             "ticks": ""
            },
            "colorscale": [
             [
              0,
              "#0d0887"
             ],
             [
              0.1111111111111111,
              "#46039f"
             ],
             [
              0.2222222222222222,
              "#7201a8"
             ],
             [
              0.3333333333333333,
              "#9c179e"
             ],
             [
              0.4444444444444444,
              "#bd3786"
             ],
             [
              0.5555555555555556,
              "#d8576b"
             ],
             [
              0.6666666666666666,
              "#ed7953"
             ],
             [
              0.7777777777777778,
              "#fb9f3a"
             ],
             [
              0.8888888888888888,
              "#fdca26"
             ],
             [
              1,
              "#f0f921"
             ]
            ],
            "type": "histogram2d"
           }
          ],
          "histogram2dcontour": [
           {
            "colorbar": {
             "outlinewidth": 0,
             "ticks": ""
            },
            "colorscale": [
             [
              0,
              "#0d0887"
             ],
             [
              0.1111111111111111,
              "#46039f"
             ],
             [
              0.2222222222222222,
              "#7201a8"
             ],
             [
              0.3333333333333333,
              "#9c179e"
             ],
             [
              0.4444444444444444,
              "#bd3786"
             ],
             [
              0.5555555555555556,
              "#d8576b"
             ],
             [
              0.6666666666666666,
              "#ed7953"
             ],
             [
              0.7777777777777778,
              "#fb9f3a"
             ],
             [
              0.8888888888888888,
              "#fdca26"
             ],
             [
              1,
              "#f0f921"
             ]
            ],
            "type": "histogram2dcontour"
           }
          ],
          "mesh3d": [
           {
            "colorbar": {
             "outlinewidth": 0,
             "ticks": ""
            },
            "type": "mesh3d"
           }
          ],
          "parcoords": [
           {
            "line": {
             "colorbar": {
              "outlinewidth": 0,
              "ticks": ""
             }
            },
            "type": "parcoords"
           }
          ],
          "pie": [
           {
            "automargin": true,
            "type": "pie"
           }
          ],
          "scatter": [
           {
            "marker": {
             "colorbar": {
              "outlinewidth": 0,
              "ticks": ""
             }
            },
            "type": "scatter"
           }
          ],
          "scatter3d": [
           {
            "line": {
             "colorbar": {
              "outlinewidth": 0,
              "ticks": ""
             }
            },
            "marker": {
             "colorbar": {
              "outlinewidth": 0,
              "ticks": ""
             }
            },
            "type": "scatter3d"
           }
          ],
          "scattercarpet": [
           {
            "marker": {
             "colorbar": {
              "outlinewidth": 0,
              "ticks": ""
             }
            },
            "type": "scattercarpet"
           }
          ],
          "scattergeo": [
           {
            "marker": {
             "colorbar": {
              "outlinewidth": 0,
              "ticks": ""
             }
            },
            "type": "scattergeo"
           }
          ],
          "scattergl": [
           {
            "marker": {
             "colorbar": {
              "outlinewidth": 0,
              "ticks": ""
             }
            },
            "type": "scattergl"
           }
          ],
          "scattermapbox": [
           {
            "marker": {
             "colorbar": {
              "outlinewidth": 0,
              "ticks": ""
             }
            },
            "type": "scattermapbox"
           }
          ],
          "scatterpolar": [
           {
            "marker": {
             "colorbar": {
              "outlinewidth": 0,
              "ticks": ""
             }
            },
            "type": "scatterpolar"
           }
          ],
          "scatterpolargl": [
           {
            "marker": {
             "colorbar": {
              "outlinewidth": 0,
              "ticks": ""
             }
            },
            "type": "scatterpolargl"
           }
          ],
          "scatterternary": [
           {
            "marker": {
             "colorbar": {
              "outlinewidth": 0,
              "ticks": ""
             }
            },
            "type": "scatterternary"
           }
          ],
          "surface": [
           {
            "colorbar": {
             "outlinewidth": 0,
             "ticks": ""
            },
            "colorscale": [
             [
              0,
              "#0d0887"
             ],
             [
              0.1111111111111111,
              "#46039f"
             ],
             [
              0.2222222222222222,
              "#7201a8"
             ],
             [
              0.3333333333333333,
              "#9c179e"
             ],
             [
              0.4444444444444444,
              "#bd3786"
             ],
             [
              0.5555555555555556,
              "#d8576b"
             ],
             [
              0.6666666666666666,
              "#ed7953"
             ],
             [
              0.7777777777777778,
              "#fb9f3a"
             ],
             [
              0.8888888888888888,
              "#fdca26"
             ],
             [
              1,
              "#f0f921"
             ]
            ],
            "type": "surface"
           }
          ],
          "table": [
           {
            "cells": {
             "fill": {
              "color": "#EBF0F8"
             },
             "line": {
              "color": "white"
             }
            },
            "header": {
             "fill": {
              "color": "#C8D4E3"
             },
             "line": {
              "color": "white"
             }
            },
            "type": "table"
           }
          ]
         },
         "layout": {
          "annotationdefaults": {
           "arrowcolor": "#2a3f5f",
           "arrowhead": 0,
           "arrowwidth": 1
          },
          "autotypenumbers": "strict",
          "coloraxis": {
           "colorbar": {
            "outlinewidth": 0,
            "ticks": ""
           }
          },
          "colorscale": {
           "diverging": [
            [
             0,
             "#8e0152"
            ],
            [
             0.1,
             "#c51b7d"
            ],
            [
             0.2,
             "#de77ae"
            ],
            [
             0.3,
             "#f1b6da"
            ],
            [
             0.4,
             "#fde0ef"
            ],
            [
             0.5,
             "#f7f7f7"
            ],
            [
             0.6,
             "#e6f5d0"
            ],
            [
             0.7,
             "#b8e186"
            ],
            [
             0.8,
             "#7fbc41"
            ],
            [
             0.9,
             "#4d9221"
            ],
            [
             1,
             "#276419"
            ]
           ],
           "sequential": [
            [
             0,
             "#0d0887"
            ],
            [
             0.1111111111111111,
             "#46039f"
            ],
            [
             0.2222222222222222,
             "#7201a8"
            ],
            [
             0.3333333333333333,
             "#9c179e"
            ],
            [
             0.4444444444444444,
             "#bd3786"
            ],
            [
             0.5555555555555556,
             "#d8576b"
            ],
            [
             0.6666666666666666,
             "#ed7953"
            ],
            [
             0.7777777777777778,
             "#fb9f3a"
            ],
            [
             0.8888888888888888,
             "#fdca26"
            ],
            [
             1,
             "#f0f921"
            ]
           ],
           "sequentialminus": [
            [
             0,
             "#0d0887"
            ],
            [
             0.1111111111111111,
             "#46039f"
            ],
            [
             0.2222222222222222,
             "#7201a8"
            ],
            [
             0.3333333333333333,
             "#9c179e"
            ],
            [
             0.4444444444444444,
             "#bd3786"
            ],
            [
             0.5555555555555556,
             "#d8576b"
            ],
            [
             0.6666666666666666,
             "#ed7953"
            ],
            [
             0.7777777777777778,
             "#fb9f3a"
            ],
            [
             0.8888888888888888,
             "#fdca26"
            ],
            [
             1,
             "#f0f921"
            ]
           ]
          },
          "colorway": [
           "#636efa",
           "#EF553B",
           "#00cc96",
           "#ab63fa",
           "#FFA15A",
           "#19d3f3",
           "#FF6692",
           "#B6E880",
           "#FF97FF",
           "#FECB52"
          ],
          "font": {
           "color": "#2a3f5f"
          },
          "geo": {
           "bgcolor": "white",
           "lakecolor": "white",
           "landcolor": "#E5ECF6",
           "showlakes": true,
           "showland": true,
           "subunitcolor": "white"
          },
          "hoverlabel": {
           "align": "left"
          },
          "hovermode": "closest",
          "mapbox": {
           "style": "light"
          },
          "paper_bgcolor": "white",
          "plot_bgcolor": "#E5ECF6",
          "polar": {
           "angularaxis": {
            "gridcolor": "white",
            "linecolor": "white",
            "ticks": ""
           },
           "bgcolor": "#E5ECF6",
           "radialaxis": {
            "gridcolor": "white",
            "linecolor": "white",
            "ticks": ""
           }
          },
          "scene": {
           "xaxis": {
            "backgroundcolor": "#E5ECF6",
            "gridcolor": "white",
            "gridwidth": 2,
            "linecolor": "white",
            "showbackground": true,
            "ticks": "",
            "zerolinecolor": "white"
           },
           "yaxis": {
            "backgroundcolor": "#E5ECF6",
            "gridcolor": "white",
            "gridwidth": 2,
            "linecolor": "white",
            "showbackground": true,
            "ticks": "",
            "zerolinecolor": "white"
           },
           "zaxis": {
            "backgroundcolor": "#E5ECF6",
            "gridcolor": "white",
            "gridwidth": 2,
            "linecolor": "white",
            "showbackground": true,
            "ticks": "",
            "zerolinecolor": "white"
           }
          },
          "shapedefaults": {
           "line": {
            "color": "#2a3f5f"
           }
          },
          "ternary": {
           "aaxis": {
            "gridcolor": "white",
            "linecolor": "white",
            "ticks": ""
           },
           "baxis": {
            "gridcolor": "white",
            "linecolor": "white",
            "ticks": ""
           },
           "bgcolor": "#E5ECF6",
           "caxis": {
            "gridcolor": "white",
            "linecolor": "white",
            "ticks": ""
           }
          },
          "title": {
           "x": 0.05
          },
          "xaxis": {
           "automargin": true,
           "gridcolor": "white",
           "linecolor": "white",
           "ticks": "",
           "title": {
            "standoff": 15
           },
           "zerolinecolor": "white",
           "zerolinewidth": 2
          },
          "yaxis": {
           "automargin": true,
           "gridcolor": "white",
           "linecolor": "white",
           "ticks": "",
           "title": {
            "standoff": 15
           },
           "zerolinecolor": "white",
           "zerolinewidth": 2
          }
         }
        },
        "title": {
         "text": "FCK x Rompimento 28 Dias"
        },
        "xaxis": {
         "anchor": "y",
         "domain": [
          0,
          1
         ],
         "title": {
          "text": "FCK"
         }
        },
        "yaxis": {
         "anchor": "x",
         "domain": [
          0,
          1
         ],
         "title": {
          "text": "Rompimento28Dias"
         }
        }
       }
      },
      "text/html": [
       "<div>                            <div id=\"2aaa0184-ec8e-47a4-b8c2-cb1a2697d80b\" class=\"plotly-graph-div\" style=\"height:525px; width:100%;\"></div>            <script type=\"text/javascript\">                require([\"plotly\"], function(Plotly) {                    window.PLOTLYENV=window.PLOTLYENV || {};                                    if (document.getElementById(\"2aaa0184-ec8e-47a4-b8c2-cb1a2697d80b\")) {                    Plotly.newPlot(                        \"2aaa0184-ec8e-47a4-b8c2-cb1a2697d80b\",                        [{\"alignmentgroup\": \"True\", \"hovertemplate\": \"FCK=%{x}<br>Rompimento28Dias=%{y}<extra></extra>\", \"legendgroup\": \"\", \"marker\": {\"color\": \"#636efa\"}, \"name\": \"\", \"notched\": false, \"offsetgroup\": \"\", \"orientation\": \"v\", \"showlegend\": false, \"type\": \"box\", \"x\": [30.0, 25.0, 25.0, 25.0, 25.0, 25.0, 25.0, 25.0, 25.0, 15.0, 15.0, 15.0, 15.0, 15.0, 15.0, 30.0, 30.0, 30.0, 30.0, 30.0, 30.0, 30.0, 30.0, 35.0, 35.0, 35.0, 35.0, 35.0, 35.0, 35.0, 35.0, 35.0, 35.0, 35.0, 35.0, 35.0, 35.0, 35.0, 35.0, 35.0, 35.0, 35.0, 35.0, 35.0, 35.0, 35.0, 35.0, 35.0, 35.0, 35.0, 35.0, 35.0, 35.0, 30.0, 30.0, 30.0, 30.0, 30.0, 30.0, 30.0, 30.0, 30.0, 30.0, 30.0, 30.0, 30.0, 20.0, 20.0, 20.0, 20.0, 20.0, 20.0, 20.0, 20.0, 20.0, 20.0, 20.0, 20.0, 20.0, 20.0, 20.0, 20.0, 20.0, 20.0, 20.0, 20.0, 20.0, 20.0, 20.0, 20.0, 20.0, 20.0, 20.0, 20.0, 20.0, 30.0, 20.0, 20.0, 20.0, 20.0, 20.0, 20.0, 20.0, 20.0, 20.0, 20.0, 25.0, 25.0, 25.0, 20.0, 25.0, 25.0, 25.0, 25.0, 25.0, 25.0, 25.0, 25.0, 25.0, 25.0, 30.0, 30.0, 30.0, 30.0, 30.0, 30.0, 30.0, 30.0, 30.0, 30.0, 30.0, 30.0, 30.0, 30.0, 30.0, 30.0, 30.0, 30.0, 30.0, 30.0, 30.0, 30.0, 30.0, 30.0, 30.0, 30.0, 30.0, 30.0, 30.0, 30.0, 30.0, 30.0, 30.0, 30.0, 30.0, 30.0, 30.0, 30.0, 30.0, 30.0, 30.0, 30.0, 30.0, 30.0, 30.0, 25.0, 25.0, 25.0, 25.0, 25.0, 25.0, 25.0, 25.0, 25.0, 25.0, 25.0, 25.0, 25.0, 25.0, 25.0, 25.0, 25.0, 25.0, 25.0, 25.0, 25.0, 25.0, 25.0, 25.0, 25.0, 25.0, 25.0, 25.0, 25.0, 25.0, 25.0, 25.0, 25.0, 25.0, 25.0, 25.0, 25.0, 25.0, 25.0, 25.0, 25.0, 25.0, 25.0, 25.0, 25.0, 25.0, 25.0, 25.0, 25.0, 25.0, 25.0, 25.0, 25.0, 25.0, 25.0, 25.0, 25.0, 25.0, 25.0, 25.0, 25.0, 30.0, 30.0, 30.0, 30.0, 30.0, 30.0, 30.0, 30.0, 30.0, 30.0, 30.0, 30.0, 30.0, 30.0, 30.0, 30.0, 30.0, 30.0, 30.0, 30.0, 30.0, 30.0, 30.0, 30.0, 30.0, 30.0, 30.0, 30.0, 30.0, 30.0, 30.0, 35.0, 35.0, 30.0, 25.0, 25.0, 25.0, 25.0, 25.0, 25.0, 25.0, 25.0, 25.0, 25.0, 25.0, 25.0, 25.0, 25.0, 20.0, 20.0, 20.0, 25.0, 25.0, 25.0, 25.0, 25.0, 25.0, 25.0, 25.0, 25.0, 25.0, 25.0, 25.0, 25.0, 25.0, 25.0, 25.0, 25.0, 25.0, 25.0, 25.0, 25.0, 25.0, 25.0, 25.0, 25.0, 25.0, 25.0, 25.0, 25.0, 25.0, 25.0, 25.0, 25.0, 25.0, 25.0, 25.0, 25.0, 25.0, 25.0, 25.0, 25.0, 25.0, 25.0, 25.0, 25.0, 25.0, 25.0, 25.0, 25.0, 25.0, 25.0, 25.0, 25.0, 25.0, 25.0, 25.0, 25.0, 25.0, 25.0, 25.0, 25.0, 25.0, 25.0, 25.0, 25.0, 25.0, 25.0, 25.0, 25.0, 25.0, 25.0, 25.0, 25.0, 25.0, 25.0, 25.0, 25.0, 25.0, 25.0, 25.0, 25.0, 25.0, 25.0, 25.0, 25.0, 25.0, 25.0, 25.0, 25.0, 25.0, 25.0, 25.0, 25.0, 25.0, 25.0, 25.0, 25.0, 25.0, 30.0, 30.0, 30.0, 30.0, 30.0, 30.0, 30.0, 30.0, 25.0, 25.0, 25.0, 25.0, 25.0, 25.0, 25.0, 25.0, 25.0, 25.0, 25.0, 25.0, 30.0, 30.0, 30.0, 30.0, 30.0, 30.0, 30.0, 30.0, 30.0, 30.0, 30.0, 30.0, 30.0, 30.0, 20.0, 20.0, 30.0, 30.0, 30.0, 30.0, 30.0, 30.0, 30.0, 30.0, 30.0, 30.0, 30.0, 30.0, 30.0, 30.0, 30.0, 30.0, 30.0, 30.0, 30.0, 30.0, 30.0, 30.0, 30.0, 30.0, 30.0, 30.0, 30.0, 30.0, 25.0, 25.0, 25.0, 25.0, 20.0, 25.0, 25.0, 25.0, 25.0, 25.0, 30.0, 30.0, 30.0, 35.0, 35.0, 30.0, 25.0, 25.0, 25.0, 25.0, 25.0, 15.0, 15.0, 20.0, 30.0, 30.0, 30.0], \"x0\": \" \", \"xaxis\": \"x\", \"y\": [35.08, 33.4, 31.72, 31.12, 28.39, 29.7, 27.47, 27.61, 31.63, 26.3, 27.13, 22.49, 24.66, 16.96, 20.15, 30.93, 31.9, 31.3, 30.83, 31.02, 30.3, 30.6, 30.6, 33.52, 32.47, 32.41, 32.14, 33.9, 32.83, 35.01, 51.28, 43.52, 42.89, 49.06, 44.21, 45.48, 44.6, 38.14, 33.43, 46.48, 46.74, 46.78, 42.62, 46.6, 46.46, 52.0, 49.79, 51.63, 49.51, 41.84, 38.95, 52.97, 49.15, 33.26, 33.77, 38.85, 37.04, 35.9, 37.06, 36.23, 33.84, 36.62, 33.86, 36.65, 34.59, 37.24, 25.32, 26.27, 25.46, 28.11, 30.02, 25.0, 31.89, 30.4, 30.58, 32.55, 27.38, 23.81, 22.79, 20.28, 23.33, 24.34, 20.74, 18.1, 21.53, 22.81, 20.43, 21.72, 20.52, 23.31, 22.72, 22.04, 24.11, 26.34, 25.23, 39.12, 34.09, 31.18, 31.25, 30.49, 31.01, 34.94, 34.73, 33.26, 30.4, 39.45, 36.56, 37.59, 34.38, 27.27, 26.77, 24.99, 26.67, 29.5, 29.06, 31.79, 27.15, 28.49, 29.67, 28.73, 38.37, 37.64, 44.87, 43.54, 45.08, 37.38, 44.91, 37.72, 35.68, 31.77, 30.22, 32.61, 33.11, 36.06, 33.79, 31.01, 34.14, 36.59, 32.32, 36.4, 35.01, 36.48, 35.68, 37.27, 38.2, 39.58, 41.4, 38.88, 37.34, 33.03, 37.85, 36.12, 41.45, 32.42, 33.51, 37.2, 33.63, 38.44, 32.46, 32.78, 28.08, 33.8, 30.87, 26.86, 40.19, 38.51, 39.11, 43.12, 39.79, 38.92, 40.86, 42.29, 33.2, 34.45, 38.18, 43.15, 37.24, 34.5, 45.71, 29.78, 27.93, 30.76, 35.22, 36.01, 29.84, 30.51, 28.5, 32.35, 34.28, 32.74, 33.45, 33.71, 30.4, 29.56, 27.56, 28.85, 29.74, 30.78, 28.53, 31.74, 32.92, 35.62, 38.09, 36.31, 37.81, 35.4, 36.2, 35.11, 30.0, 26.39, 27.87, 28.99, 25.41, 25.14, 29.98, 25.54, 25.21, 32.73, 25.01, 24.54, 34.88, 29.67, 30.69, 36.28, 34.07, 28.25, 37.54, 39.53, 31.48, 29.69, 32.49, 35.22, 34.09, 35.22, 33.79, 37.96, 37.03, 37.66, 40.0, 32.44, 35.92, 31.86, 35.2, 35.89, 35.39, 40.53, 40.14, 34.91, 38.42, 36.59, 30.88, 34.0, 32.64, 30.87, 35.15, 31.94, 35.39, 37.73, 37.77, 32.05, 38.36, 42.61, 43.19, 38.3, 37.46, 31.07, 32.51, 33.02, 38.61, 28.72, 30.44, 30.26, 27.53, 34.54, 26.54, 27.39, 21.2, 33.9, 31.71, 34.49, 35.72, 27.98, 26.02, 29.0, 27.06, 26.39, 24.03, 33.17, 27.43, 31.39, 28.41, 30.16, 29.92, 30.02, 29.46, 27.31, 28.38, 29.64, 30.5, 40.23, 39.69, 35.81, 34.7, 38.75, 30.32, 35.07, 29.37, 33.09, 31.39, 31.19, 31.76, 33.84, 30.49, 34.47, 29.24, 31.72, 38.11, 35.69, 37.13, 34.04, 33.82, 32.46, 30.58, 29.93, 34.49, 38.16, 32.56, 32.54, 32.31, 32.6, 29.51, 31.26, 32.16, 31.26, 33.01, 21.27, 23.67, 25.79, 29.67, 27.15, 22.14, 25.69, 23.59, 27.62, 24.96, 22.79, 22.12, 22.21, 22.79, 26.82, 25.29, 32.84, 26.07, 25.56, 26.66, 27.64, 26.95, 32.4, 27.28, 27.28, 29.56, 31.61, 37.24, 33.4, 36.56, 37.67, 33.07, 34.88, 39.48, 37.77, 41.83, 40.1, 39.59, 40.66, 31.24, 40.21, 39.14, 36.4, 38.04, 40.48, 36.24, 35.22, 37.81, 25.1, 26.16, 29.65, 25.89, 28.43, 27.34, 28.71, 30.68, 27.69, 33.25, 31.54, 28.22, 32.02, 38.06, 37.31, 33.48, 38.79, 42.01, 38.08, 34.63, 28.4, 32.64, 33.01, 38.7, 33.66, 34.69, 22.25, 27.36, 31.42, 31.74, 30.62, 29.6, 28.29, 37.17, 34.45, 37.54, 39.44, 42.79, 37.86, 37.46, 36.98, 41.96, 44.3, 39.97, 42.35, 37.32, 36.4, 35.29, 35.55, 33.93, 34.74, 36.2, 32.68, 30.0, 30.44, 31.34, 29.48, 33.72, 28.94, 34.8, 21.92, 33.07, 31.74, 29.56, 37.04, 34.65, 33.19, 34.38, 36.17, 49.94, 38.19, 28.88, 28.01, 29.1, 32.45, 25.68, 31.51, 22.32, 20.79, 33.29, 49.8, 48.35, 46.11], \"y0\": \" \", \"yaxis\": \"y\"}],                        {\"boxmode\": \"group\", \"legend\": {\"tracegroupgap\": 0}, \"template\": {\"data\": {\"bar\": [{\"error_x\": {\"color\": \"#2a3f5f\"}, \"error_y\": {\"color\": \"#2a3f5f\"}, \"marker\": {\"line\": {\"color\": \"#E5ECF6\", \"width\": 0.5}}, \"type\": \"bar\"}], \"barpolar\": [{\"marker\": {\"line\": {\"color\": \"#E5ECF6\", \"width\": 0.5}}, \"type\": \"barpolar\"}], \"carpet\": [{\"aaxis\": {\"endlinecolor\": \"#2a3f5f\", \"gridcolor\": \"white\", \"linecolor\": \"white\", \"minorgridcolor\": \"white\", \"startlinecolor\": \"#2a3f5f\"}, \"baxis\": {\"endlinecolor\": \"#2a3f5f\", \"gridcolor\": \"white\", \"linecolor\": \"white\", \"minorgridcolor\": \"white\", \"startlinecolor\": \"#2a3f5f\"}, \"type\": \"carpet\"}], \"choropleth\": [{\"colorbar\": {\"outlinewidth\": 0, \"ticks\": \"\"}, \"type\": \"choropleth\"}], \"contour\": [{\"colorbar\": {\"outlinewidth\": 0, \"ticks\": \"\"}, \"colorscale\": [[0.0, \"#0d0887\"], [0.1111111111111111, \"#46039f\"], [0.2222222222222222, \"#7201a8\"], [0.3333333333333333, \"#9c179e\"], [0.4444444444444444, \"#bd3786\"], [0.5555555555555556, \"#d8576b\"], [0.6666666666666666, \"#ed7953\"], [0.7777777777777778, \"#fb9f3a\"], [0.8888888888888888, \"#fdca26\"], [1.0, \"#f0f921\"]], \"type\": \"contour\"}], \"contourcarpet\": [{\"colorbar\": {\"outlinewidth\": 0, \"ticks\": \"\"}, \"type\": \"contourcarpet\"}], \"heatmap\": [{\"colorbar\": {\"outlinewidth\": 0, \"ticks\": \"\"}, \"colorscale\": [[0.0, \"#0d0887\"], [0.1111111111111111, \"#46039f\"], [0.2222222222222222, \"#7201a8\"], [0.3333333333333333, \"#9c179e\"], [0.4444444444444444, \"#bd3786\"], [0.5555555555555556, \"#d8576b\"], [0.6666666666666666, \"#ed7953\"], [0.7777777777777778, \"#fb9f3a\"], [0.8888888888888888, \"#fdca26\"], [1.0, \"#f0f921\"]], \"type\": \"heatmap\"}], \"heatmapgl\": [{\"colorbar\": {\"outlinewidth\": 0, \"ticks\": \"\"}, \"colorscale\": [[0.0, \"#0d0887\"], [0.1111111111111111, \"#46039f\"], [0.2222222222222222, \"#7201a8\"], [0.3333333333333333, \"#9c179e\"], [0.4444444444444444, \"#bd3786\"], [0.5555555555555556, \"#d8576b\"], [0.6666666666666666, \"#ed7953\"], [0.7777777777777778, \"#fb9f3a\"], [0.8888888888888888, \"#fdca26\"], [1.0, \"#f0f921\"]], \"type\": \"heatmapgl\"}], \"histogram\": [{\"marker\": {\"colorbar\": {\"outlinewidth\": 0, \"ticks\": \"\"}}, \"type\": \"histogram\"}], \"histogram2d\": [{\"colorbar\": {\"outlinewidth\": 0, \"ticks\": \"\"}, \"colorscale\": [[0.0, \"#0d0887\"], [0.1111111111111111, \"#46039f\"], [0.2222222222222222, \"#7201a8\"], [0.3333333333333333, \"#9c179e\"], [0.4444444444444444, \"#bd3786\"], [0.5555555555555556, \"#d8576b\"], [0.6666666666666666, \"#ed7953\"], [0.7777777777777778, \"#fb9f3a\"], [0.8888888888888888, \"#fdca26\"], [1.0, \"#f0f921\"]], \"type\": \"histogram2d\"}], \"histogram2dcontour\": [{\"colorbar\": {\"outlinewidth\": 0, \"ticks\": \"\"}, \"colorscale\": [[0.0, \"#0d0887\"], [0.1111111111111111, \"#46039f\"], [0.2222222222222222, \"#7201a8\"], [0.3333333333333333, \"#9c179e\"], [0.4444444444444444, \"#bd3786\"], [0.5555555555555556, \"#d8576b\"], [0.6666666666666666, \"#ed7953\"], [0.7777777777777778, \"#fb9f3a\"], [0.8888888888888888, \"#fdca26\"], [1.0, \"#f0f921\"]], \"type\": \"histogram2dcontour\"}], \"mesh3d\": [{\"colorbar\": {\"outlinewidth\": 0, \"ticks\": \"\"}, \"type\": \"mesh3d\"}], \"parcoords\": [{\"line\": {\"colorbar\": {\"outlinewidth\": 0, \"ticks\": \"\"}}, \"type\": \"parcoords\"}], \"pie\": [{\"automargin\": true, \"type\": \"pie\"}], \"scatter\": [{\"marker\": {\"colorbar\": {\"outlinewidth\": 0, \"ticks\": \"\"}}, \"type\": \"scatter\"}], \"scatter3d\": [{\"line\": {\"colorbar\": {\"outlinewidth\": 0, \"ticks\": \"\"}}, \"marker\": {\"colorbar\": {\"outlinewidth\": 0, \"ticks\": \"\"}}, \"type\": \"scatter3d\"}], \"scattercarpet\": [{\"marker\": {\"colorbar\": {\"outlinewidth\": 0, \"ticks\": \"\"}}, \"type\": \"scattercarpet\"}], \"scattergeo\": [{\"marker\": {\"colorbar\": {\"outlinewidth\": 0, \"ticks\": \"\"}}, \"type\": \"scattergeo\"}], \"scattergl\": [{\"marker\": {\"colorbar\": {\"outlinewidth\": 0, \"ticks\": \"\"}}, \"type\": \"scattergl\"}], \"scattermapbox\": [{\"marker\": {\"colorbar\": {\"outlinewidth\": 0, \"ticks\": \"\"}}, \"type\": \"scattermapbox\"}], \"scatterpolar\": [{\"marker\": {\"colorbar\": {\"outlinewidth\": 0, \"ticks\": \"\"}}, \"type\": \"scatterpolar\"}], \"scatterpolargl\": [{\"marker\": {\"colorbar\": {\"outlinewidth\": 0, \"ticks\": \"\"}}, \"type\": \"scatterpolargl\"}], \"scatterternary\": [{\"marker\": {\"colorbar\": {\"outlinewidth\": 0, \"ticks\": \"\"}}, \"type\": \"scatterternary\"}], \"surface\": [{\"colorbar\": {\"outlinewidth\": 0, \"ticks\": \"\"}, \"colorscale\": [[0.0, \"#0d0887\"], [0.1111111111111111, \"#46039f\"], [0.2222222222222222, \"#7201a8\"], [0.3333333333333333, \"#9c179e\"], [0.4444444444444444, \"#bd3786\"], [0.5555555555555556, \"#d8576b\"], [0.6666666666666666, \"#ed7953\"], [0.7777777777777778, \"#fb9f3a\"], [0.8888888888888888, \"#fdca26\"], [1.0, \"#f0f921\"]], \"type\": \"surface\"}], \"table\": [{\"cells\": {\"fill\": {\"color\": \"#EBF0F8\"}, \"line\": {\"color\": \"white\"}}, \"header\": {\"fill\": {\"color\": \"#C8D4E3\"}, \"line\": {\"color\": \"white\"}}, \"type\": \"table\"}]}, \"layout\": {\"annotationdefaults\": {\"arrowcolor\": \"#2a3f5f\", \"arrowhead\": 0, \"arrowwidth\": 1}, \"autotypenumbers\": \"strict\", \"coloraxis\": {\"colorbar\": {\"outlinewidth\": 0, \"ticks\": \"\"}}, \"colorscale\": {\"diverging\": [[0, \"#8e0152\"], [0.1, \"#c51b7d\"], [0.2, \"#de77ae\"], [0.3, \"#f1b6da\"], [0.4, \"#fde0ef\"], [0.5, \"#f7f7f7\"], [0.6, \"#e6f5d0\"], [0.7, \"#b8e186\"], [0.8, \"#7fbc41\"], [0.9, \"#4d9221\"], [1, \"#276419\"]], \"sequential\": [[0.0, \"#0d0887\"], [0.1111111111111111, \"#46039f\"], [0.2222222222222222, \"#7201a8\"], [0.3333333333333333, \"#9c179e\"], [0.4444444444444444, \"#bd3786\"], [0.5555555555555556, \"#d8576b\"], [0.6666666666666666, \"#ed7953\"], [0.7777777777777778, \"#fb9f3a\"], [0.8888888888888888, \"#fdca26\"], [1.0, \"#f0f921\"]], \"sequentialminus\": [[0.0, \"#0d0887\"], [0.1111111111111111, \"#46039f\"], [0.2222222222222222, \"#7201a8\"], [0.3333333333333333, \"#9c179e\"], [0.4444444444444444, \"#bd3786\"], [0.5555555555555556, \"#d8576b\"], [0.6666666666666666, \"#ed7953\"], [0.7777777777777778, \"#fb9f3a\"], [0.8888888888888888, \"#fdca26\"], [1.0, \"#f0f921\"]]}, \"colorway\": [\"#636efa\", \"#EF553B\", \"#00cc96\", \"#ab63fa\", \"#FFA15A\", \"#19d3f3\", \"#FF6692\", \"#B6E880\", \"#FF97FF\", \"#FECB52\"], \"font\": {\"color\": \"#2a3f5f\"}, \"geo\": {\"bgcolor\": \"white\", \"lakecolor\": \"white\", \"landcolor\": \"#E5ECF6\", \"showlakes\": true, \"showland\": true, \"subunitcolor\": \"white\"}, \"hoverlabel\": {\"align\": \"left\"}, \"hovermode\": \"closest\", \"mapbox\": {\"style\": \"light\"}, \"paper_bgcolor\": \"white\", \"plot_bgcolor\": \"#E5ECF6\", \"polar\": {\"angularaxis\": {\"gridcolor\": \"white\", \"linecolor\": \"white\", \"ticks\": \"\"}, \"bgcolor\": \"#E5ECF6\", \"radialaxis\": {\"gridcolor\": \"white\", \"linecolor\": \"white\", \"ticks\": \"\"}}, \"scene\": {\"xaxis\": {\"backgroundcolor\": \"#E5ECF6\", \"gridcolor\": \"white\", \"gridwidth\": 2, \"linecolor\": \"white\", \"showbackground\": true, \"ticks\": \"\", \"zerolinecolor\": \"white\"}, \"yaxis\": {\"backgroundcolor\": \"#E5ECF6\", \"gridcolor\": \"white\", \"gridwidth\": 2, \"linecolor\": \"white\", \"showbackground\": true, \"ticks\": \"\", \"zerolinecolor\": \"white\"}, \"zaxis\": {\"backgroundcolor\": \"#E5ECF6\", \"gridcolor\": \"white\", \"gridwidth\": 2, \"linecolor\": \"white\", \"showbackground\": true, \"ticks\": \"\", \"zerolinecolor\": \"white\"}}, \"shapedefaults\": {\"line\": {\"color\": \"#2a3f5f\"}}, \"ternary\": {\"aaxis\": {\"gridcolor\": \"white\", \"linecolor\": \"white\", \"ticks\": \"\"}, \"baxis\": {\"gridcolor\": \"white\", \"linecolor\": \"white\", \"ticks\": \"\"}, \"bgcolor\": \"#E5ECF6\", \"caxis\": {\"gridcolor\": \"white\", \"linecolor\": \"white\", \"ticks\": \"\"}}, \"title\": {\"x\": 0.05}, \"xaxis\": {\"automargin\": true, \"gridcolor\": \"white\", \"linecolor\": \"white\", \"ticks\": \"\", \"title\": {\"standoff\": 15}, \"zerolinecolor\": \"white\", \"zerolinewidth\": 2}, \"yaxis\": {\"automargin\": true, \"gridcolor\": \"white\", \"linecolor\": \"white\", \"ticks\": \"\", \"title\": {\"standoff\": 15}, \"zerolinecolor\": \"white\", \"zerolinewidth\": 2}}}, \"title\": {\"text\": \"FCK x Rompimento 28 Dias\"}, \"xaxis\": {\"anchor\": \"y\", \"domain\": [0.0, 1.0], \"title\": {\"text\": \"FCK\"}}, \"yaxis\": {\"anchor\": \"x\", \"domain\": [0.0, 1.0], \"title\": {\"text\": \"Rompimento28Dias\"}}},                        {\"responsive\": true}                    ).then(function(){\n",
       "                            \n",
       "var gd = document.getElementById('2aaa0184-ec8e-47a4-b8c2-cb1a2697d80b');\n",
       "var x = new MutationObserver(function (mutations, observer) {{\n",
       "        var display = window.getComputedStyle(gd).display;\n",
       "        if (!display || display === 'none') {{\n",
       "            console.log([gd, 'removed!']);\n",
       "            Plotly.purge(gd);\n",
       "            observer.disconnect();\n",
       "        }}\n",
       "}});\n",
       "\n",
       "// Listen for the removal of the full notebook cells\n",
       "var notebookContainer = gd.closest('#notebook-container');\n",
       "if (notebookContainer) {{\n",
       "    x.observe(notebookContainer, {childList: true});\n",
       "}}\n",
       "\n",
       "// Listen for the clearing of the current output cell\n",
       "var outputEl = gd.closest('.output');\n",
       "if (outputEl) {{\n",
       "    x.observe(outputEl, {childList: true});\n",
       "}}\n",
       "\n",
       "                        })                };                });            </script>        </div>"
      ]
     },
     "metadata": {},
     "output_type": "display_data"
    }
   ],
   "source": [
    "fig = px.box(dados_aglomerante, x=\"FCK\", y=\"Rompimento28Dias\", title='FCK x Rompimento 28 Dias')\n",
    "fig.show()"
   ]
  },
  {
   "cell_type": "code",
   "execution_count": 1123,
   "metadata": {},
   "outputs": [
    {
     "data": {
      "application/vnd.plotly.v1+json": {
       "config": {
        "plotlyServerURL": "https://plot.ly"
       },
       "data": [
        {
         "hovertemplate": "LogRompimento7Dias=%{x}<br>Rompimento28Dias=%{y}<extra></extra>",
         "legendgroup": "",
         "marker": {
          "color": "#636efa",
          "symbol": "circle"
         },
         "mode": "markers",
         "name": "",
         "orientation": "v",
         "showlegend": false,
         "type": "scatter",
         "x": [
          3.2476576262936527,
          3.1888289035159043,
          3.1880041612011136,
          3.1548704948922883,
          3.038791763014438,
          3.0140632302387145,
          3.0160249768217535,
          2.9816333491744893,
          3.222469360378331,
          2.9533465570575532,
          2.9433857931817817,
          2.776954179749421,
          2.840247370713596,
          2.5128460184772416,
          2.554121718809473,
          3.1467351470905185,
          3.1054831375131102,
          3.139399623366404,
          3.12412548832239,
          3.1458749319837103,
          2.991222118076105,
          3.08876713952118,
          3.0914968955383704,
          3.219275744889528,
          3.175968323856924,
          3.1612467120315646,
          3.2744997286161976,
          3.267284964075888,
          3.2386784521643803,
          3.2565568918358894,
          3.6936182084611096,
          3.584629432740137,
          3.6082115510464816,
          3.6498787167642037,
          3.5953926110204724,
          3.563032744247961,
          3.5251833614431467,
          3.4585224482814247,
          3.34109345759245,
          3.591266625246936,
          3.6240742307478206,
          3.618188713491167,
          3.5647324613710536,
          3.51631018876266,
          3.6054978451748854,
          3.7278597537548204,
          3.629129449708162,
          3.627535823872884,
          3.634951112088381,
          3.4094961844768505,
          3.5389282773504322,
          3.616308761279101,
          3.6509179478268177,
          3.3098128198603027,
          3.1018924693823817,
          3.440097530619712,
          3.3541057741283047,
          3.261935314328648,
          3.460723360976182,
          3.3603753871419,
          3.2969473602883563,
          3.370738174177447,
          3.329343277894172,
          3.4085039568445934,
          3.4522073025699003,
          3.4663607075685685,
          2.918851229218033,
          2.8075938314384716,
          2.7930039069823738,
          2.9439125248241944,
          3.0694473113762717,
          2.8390784635086144,
          3.067122269640664,
          3.073618812211062,
          2.869601996409779,
          3.160398895109225,
          3.052112606990099,
          2.8820035082256483,
          2.758109400974947,
          2.5664866367804233,
          2.6461747973841225,
          2.8570447537800976,
          2.5832425505088623,
          2.6108048166633746,
          2.658859956911438,
          2.727199019940971,
          2.641910398597665,
          2.750470916986162,
          2.604170070614818,
          2.9231615807191558,
          2.8390784635086144,
          2.771963526845863,
          3.005682604407159,
          2.9338568698359038,
          2.906354462402774,
          3.354455119110024,
          3.2359295794340284,
          3.109060958860994,
          3.2035591207563074,
          3.109953417644014,
          3.110399348532117,
          3.2729851505152325,
          3.3163654461454577,
          3.314913013065143,
          3.1144038032714896,
          3.500741011998417,
          3.279782759771722,
          3.3833727967496032,
          3.344979701663927,
          2.9128939952449864,
          3.1307001339644756,
          2.826129489167811,
          2.87976009730157,
          3.2748780149834857,
          3.0252910757955354,
          3.2546289945740186,
          3.033028058297688,
          3.141130476243348,
          3.110399348532117,
          3.0525850851467737,
          3.492864570187979,
          3.4294608469350147,
          3.5290040861498118,
          3.435276695315018,
          3.6044102974874863,
          3.418054498728578,
          3.641263600172273,
          3.3854066957558313,
          3.282038399825841,
          3.111735949310297,
          3.2160718975354663,
          3.219275744889528,
          3.279029747687948,
          3.2924979647388146,
          3.212455257065278,
          3.1908877883280318,
          3.2406373166497136,
          3.305787196857497,
          3.159550358783386,
          3.3769046890931107,
          3.279782759771722,
          3.301008654406723,
          3.3196257279683437,
          3.2865344733420154,
          3.2733640101522705,
          3.447762850809476,
          3.445852022202587,
          3.4679210137050633,
          3.487986511734546,
          3.1587011018321305,
          3.4550540544528663,
          3.4685444551217657,
          3.367640598133313,
          3.188416617383492,
          3.228430037673012,
          3.3368366225017656,
          3.2511493854184965,
          3.333275365176697,
          3.1880041612011136,
          3.3141860046725258,
          3.166740070447672,
          3.342508385313476,
          3.3174533882291946,
          3.1851121947153915,
          3.39484390768998,
          3.456947396766647,
          3.4164143474670157,
          3.4735180432417816,
          3.4314032237192214,
          3.321793358874887,
          3.509154523167248,
          3.462606009790799,
          3.2355362657613083,
          3.3816747151732915,
          3.456947396766647,
          3.402529826895934,
          3.5210523434704344,
          3.1514531485507664,
          3.6101067729485403,
          3.045474365448805,
          3.0473755067058295,
          3.228430037673012,
          3.1523085805960878,
          3.2924979647388146,
          3.1315734964654043,
          3.1608228934195837,
          3.2240623515555007,
          3.202339856228101,
          3.3786108829893595,
          3.284288963416433,
          3.2763897310688073,
          3.3178157727231046,
          3.2092294478163956,
          3.0823685802135374,
          2.9595868269176377,
          2.949164637737656,
          3.076851324838783,
          3.104586678466073,
          2.989714201228428,
          3.2003044392827653,
          3.1144038032714896,
          3.242592351485517,
          3.295836866004329,
          3.2976870052924907,
          3.3867603338643857,
          3.325755186495297,
          3.3575937441800234,
          3.4151002868311466,
          3.004692014925463,
          3.0421386463681466,
          3.201526186533088,
          3.2055879305412653,
          3.159550358783386,
          3.070839746040796,
          3.170525563927154,
          2.970414465569701,
          2.954910279033736,
          3.1415627217655304,
          2.7868613815264998,
          2.7813006628418027,
          3.2315945972759756,
          3.0973859272804907,
          3.1467351470905185,
          3.292126286607793,
          3.2406373166497136,
          2.9699015135194693,
          3.391147045808654,
          3.4249139082794713,
          3.2653776585196206,
          3.2519236789144013,
          3.3375473545856993,
          3.415757532993485,
          3.2627013044082305,
          3.435276695315018,
          3.418054498728578,
          3.5201649007261984,
          3.563032744247961,
          3.4959013171314526,
          3.4707234443107655,
          3.126321843257593,
          3.286908235260028,
          3.2039652121324464,
          3.358985532852846,
          3.4127965175055075,
          3.358985532852846,
          3.4239368686316447,
          3.4522073025699003,
          3.2801590532850993,
          3.3214324131932926,
          3.3748534063225533,
          3.248434627109745,
          3.298795448044074,
          3.2386784521643803,
          3.238286218388024,
          3.354455119110024,
          3.34109345759245,
          3.3506055955460954,
          3.5049566159530077,
          3.56784112573688,
          3.157425862551978,
          3.443298557680791,
          3.5703774100329357,
          3.5263605246161616,
          3.3628029936748436,
          3.3530570063342204,
          3.2726061472891685,
          3.3336320621663895,
          3.2816628129669656,
          3.4236109764990554,
          3.1424266527047946,
          3.202339856228101,
          3.263849190510932,
          3.1276373444339294,
          3.2011191032789417,
          2.944965156500338,
          2.9785861147190205,
          2.8741294517947424,
          3.1826266921930797,
          3.139832617527748,
          3.1232455938529506,
          3.170105660498771,
          3.074543453978281,
          3.0430928449138284,
          3.0339909856710814,
          3.0344721018699214,
          3.067587710654419,
          2.9719517448885875,
          3.229222116922345,
          3.0577676644734435,
          3.1531632815028194,
          3.1293886583666644,
          3.1763857732472487,
          3.074543453978281,
          3.087399462079815,
          3.08876713952118,
          2.950211758252182,
          2.9987277825337895,
          3.070839746040796,
          3.0791538816930633,
          3.40684805317097,
          3.3046864812813115,
          3.25848107946056,
          3.195811885269649,
          3.3690184832979204,
          3.170525563927154,
          3.311637304949512,
          3.141130476243348,
          3.2355362657613083,
          3.2051824977361982,
          3.1458749319837103,
          3.2144661163795005,
          3.27601201623901,
          3.1908877883280318,
          3.315276319154516,
          3.126760535960395,
          3.222469360378331,
          3.231989464013584,
          3.3721118007670587,
          3.3541057741283047,
          3.3043193066856684,
          3.2240623515555007,
          3.1826266921930797,
          3.151025157960026,
          3.1565747986708215,
          3.27601201623901,
          3.2902658209548736,
          3.21124679770371,
          3.0740812399649675,
          3.238286218388024,
          3.096029994869355,
          3.044522437723423,
          3.091042453358316,
          3.0978374964911444,
          3.0506938316279655,
          3.109060958860994,
          2.8587664184808337,
          2.9816333491744893,
          2.9785861147190205,
          3.100542637906336,
          3.089677886396519,
          2.89977188240808,
          3.028683373693677,
          2.9882040071331994,
          3.133753571451366,
          2.9785861147190205,
          2.8936995479888394,
          2.9932291433358724,
          2.991724252156452,
          2.9987277825337895,
          3.094219220268645,
          3.052112606990099,
          3.339321977944068,
          3.0378334495726262,
          3.1493113614822916,
          3.096029994869355,
          3.1629401925378975,
          3.184284380098582,
          3.1514531485507664,
          3.1126260250254902,
          3.1328821117012247,
          3.1245651453969594,
          3.1570004211501135,
          3.292126286607793,
          3.1315734964654043,
          3.192531849528599,
          3.3282682016393976,
          3.255014871484074,
          3.1293886583666644,
          3.4216533902295376,
          3.3572454941329726,
          3.4738280726970627,
          3.3717685709713434,
          3.3769046890931107,
          3.3386125064705343,
          3.195811885269649,
          3.311637304949512,
          3.462606009790799,
          3.448080967561006,
          3.436242723404956,
          3.4553698605505483,
          3.3703944725071104,
          3.367640598133313,
          3.4317265866969784,
          2.9512577834521614,
          2.9967317738870745,
          3.1210424645194377,
          2.930660276810276,
          3.1271990362962967,
          3.109953417644014,
          3.0204248861443626,
          3.139399623366404,
          3.056356895370426,
          3.325755186495297,
          3.273742726309041,
          3.1054831375131102,
          3.0525850851467737,
          3.279782759771722,
          3.4048573424936426,
          3.2180755046974316,
          3.4474446328274753,
          3.5533460588187404,
          3.499231121933521,
          3.2035591207563074,
          2.946016681308058,
          3.1616703510974213,
          3.126760535960395,
          3.418054498728578,
          3.2068032436339315,
          3.3446270301737613,
          2.785628335747585,
          2.9512577834521614,
          3.214867803470662,
          3.2072080200005186,
          3.2228678461377385,
          3.2208738275308737,
          3.1250046092581303,
          3.334701390373791,
          3.2204745462318978,
          3.484618989801228,
          3.4830845411343394,
          3.551053137206533,
          3.3734835430946397,
          3.383712067321136,
          3.3995293245614584,
          3.506457892319648,
          3.569250966658405,
          3.441379171294987,
          3.500741011998417,
          3.500137329517059,
          3.4223063448723905,
          3.331489969237335,
          3.298795448044074,
          3.2588654730843594,
          3.2315945972759756,
          3.239462458476589,
          3.3572454941329726,
          3.2906381910950917,
          3.269568939183719,
          3.201933104137889,
          3.113959654918641,
          3.2188758248682006,
          3.051166980442092,
          3.2371085931292605,
          2.825536896557877,
          3.285412348668445,
          3.2068032436339315,
          3.192531849528599,
          3.4249139082794713,
          3.285412348668445,
          3.2495989975110415,
          3.279782759771722,
          3.4081729953985804,
          3.774368840129351,
          3.4388142452334622,
          3.0855729775537806,
          3.043569602968151,
          3.106826321059578,
          3.087399462079815,
          2.979094632400968,
          3.1437211512674406,
          2.8100049236252036,
          2.749192144433385,
          3.199896858270398,
          3.4388142452334622,
          3.6436205477083212,
          3.5010427166318716
         ],
         "xaxis": "x",
         "y": [
          35.08,
          33.4,
          31.72,
          31.12,
          28.39,
          29.7,
          27.47,
          27.61,
          31.63,
          26.3,
          27.13,
          22.49,
          24.66,
          16.96,
          20.15,
          30.93,
          31.9,
          31.3,
          30.83,
          31.02,
          30.3,
          30.6,
          30.6,
          33.52,
          32.47,
          32.41,
          32.14,
          33.9,
          32.83,
          35.01,
          51.28,
          43.52,
          42.89,
          49.06,
          44.21,
          45.48,
          44.6,
          38.14,
          33.43,
          46.48,
          46.74,
          46.78,
          42.62,
          46.6,
          46.46,
          52,
          49.79,
          51.63,
          49.51,
          41.84,
          38.95,
          52.97,
          49.15,
          33.26,
          33.77,
          38.85,
          37.04,
          35.9,
          37.06,
          36.23,
          33.84,
          36.62,
          33.86,
          36.65,
          34.59,
          37.24,
          25.32,
          26.27,
          25.46,
          28.11,
          30.02,
          25,
          31.89,
          30.4,
          30.58,
          32.55,
          27.38,
          23.81,
          22.79,
          20.28,
          23.33,
          24.34,
          20.74,
          18.1,
          21.53,
          22.81,
          20.43,
          21.72,
          20.52,
          23.31,
          22.72,
          22.04,
          24.11,
          26.34,
          25.23,
          39.12,
          34.09,
          31.18,
          31.25,
          30.49,
          31.01,
          34.94,
          34.73,
          33.26,
          30.4,
          39.45,
          36.56,
          37.59,
          34.38,
          27.27,
          26.77,
          24.99,
          26.67,
          29.5,
          29.06,
          31.79,
          27.15,
          28.49,
          29.67,
          28.73,
          38.37,
          37.64,
          44.87,
          43.54,
          45.08,
          37.38,
          44.91,
          37.72,
          35.68,
          31.77,
          30.22,
          32.61,
          33.11,
          36.06,
          33.79,
          31.01,
          34.14,
          36.59,
          32.32,
          36.4,
          35.01,
          36.48,
          35.68,
          37.27,
          38.2,
          39.58,
          41.4,
          38.88,
          37.34,
          33.03,
          37.85,
          36.12,
          41.45,
          32.42,
          33.51,
          37.2,
          33.63,
          38.44,
          32.46,
          32.78,
          28.08,
          33.8,
          30.87,
          26.86,
          40.19,
          38.51,
          39.11,
          43.12,
          39.79,
          38.92,
          40.86,
          42.29,
          33.2,
          34.45,
          38.18,
          43.15,
          37.24,
          34.5,
          45.71,
          29.78,
          27.93,
          30.76,
          35.22,
          36.01,
          29.84,
          30.51,
          28.5,
          32.35,
          34.28,
          32.74,
          33.45,
          33.71,
          30.4,
          29.56,
          27.56,
          28.85,
          29.74,
          30.78,
          28.53,
          31.74,
          32.92,
          35.62,
          38.09,
          36.31,
          37.81,
          35.4,
          36.2,
          35.11,
          30,
          26.39,
          27.87,
          28.99,
          25.41,
          25.14,
          29.98,
          25.54,
          25.21,
          32.73,
          25.01,
          24.54,
          34.88,
          29.67,
          30.69,
          36.28,
          34.07,
          28.25,
          37.54,
          39.53,
          31.48,
          29.69,
          32.49,
          35.22,
          34.09,
          35.22,
          33.79,
          37.96,
          37.03,
          37.66,
          40,
          32.44,
          35.92,
          31.86,
          35.2,
          35.89,
          35.39,
          40.53,
          40.14,
          34.91,
          38.42,
          36.59,
          30.88,
          34,
          32.64,
          30.87,
          35.15,
          31.94,
          35.39,
          37.73,
          37.77,
          32.05,
          38.36,
          42.61,
          43.19,
          38.3,
          37.46,
          31.07,
          32.51,
          33.02,
          38.61,
          28.72,
          30.44,
          30.26,
          27.53,
          34.54,
          26.54,
          27.39,
          21.2,
          33.9,
          31.71,
          34.49,
          35.72,
          27.98,
          26.02,
          29,
          27.06,
          26.39,
          24.03,
          33.17,
          27.43,
          31.39,
          28.41,
          30.16,
          29.92,
          30.02,
          29.46,
          27.31,
          28.38,
          29.64,
          30.5,
          40.23,
          39.69,
          35.81,
          34.7,
          38.75,
          30.32,
          35.07,
          29.37,
          33.09,
          31.39,
          31.19,
          31.76,
          33.84,
          30.49,
          34.47,
          29.24,
          31.72,
          38.11,
          35.69,
          37.13,
          34.04,
          33.82,
          32.46,
          30.58,
          29.93,
          34.49,
          38.16,
          32.56,
          32.54,
          32.31,
          32.6,
          29.51,
          31.26,
          32.16,
          31.26,
          33.01,
          21.27,
          23.67,
          25.79,
          29.67,
          27.15,
          22.14,
          25.69,
          23.59,
          27.62,
          24.96,
          22.79,
          22.12,
          22.21,
          22.79,
          26.82,
          25.29,
          32.84,
          26.07,
          25.56,
          26.66,
          27.64,
          26.95,
          32.4,
          27.28,
          27.28,
          29.56,
          31.61,
          37.24,
          33.4,
          36.56,
          37.67,
          33.07,
          34.88,
          39.48,
          37.77,
          41.83,
          40.1,
          39.59,
          40.66,
          31.24,
          40.21,
          39.14,
          36.4,
          38.04,
          40.48,
          36.24,
          35.22,
          37.81,
          25.1,
          26.16,
          29.65,
          25.89,
          28.43,
          27.34,
          28.71,
          30.68,
          27.69,
          33.25,
          31.54,
          28.22,
          32.02,
          38.06,
          37.31,
          33.48,
          38.79,
          42.01,
          38.08,
          34.63,
          28.4,
          32.64,
          33.01,
          38.7,
          33.66,
          34.69,
          22.25,
          27.36,
          31.42,
          31.74,
          30.62,
          29.6,
          28.29,
          37.17,
          34.45,
          37.54,
          39.44,
          42.79,
          37.86,
          37.46,
          36.98,
          41.96,
          44.3,
          39.97,
          42.35,
          37.32,
          36.4,
          35.29,
          35.55,
          33.93,
          34.74,
          36.2,
          32.68,
          30,
          30.44,
          31.34,
          29.48,
          33.72,
          28.94,
          34.8,
          21.92,
          33.07,
          31.74,
          29.56,
          37.04,
          34.65,
          33.19,
          34.38,
          36.17,
          49.94,
          38.19,
          28.88,
          28.01,
          29.1,
          32.45,
          25.68,
          31.51,
          22.32,
          20.79,
          33.29,
          49.8,
          48.35,
          46.11
         ],
         "yaxis": "y"
        }
       ],
       "layout": {
        "legend": {
         "tracegroupgap": 0
        },
        "template": {
         "data": {
          "bar": [
           {
            "error_x": {
             "color": "#2a3f5f"
            },
            "error_y": {
             "color": "#2a3f5f"
            },
            "marker": {
             "line": {
              "color": "#E5ECF6",
              "width": 0.5
             }
            },
            "type": "bar"
           }
          ],
          "barpolar": [
           {
            "marker": {
             "line": {
              "color": "#E5ECF6",
              "width": 0.5
             }
            },
            "type": "barpolar"
           }
          ],
          "carpet": [
           {
            "aaxis": {
             "endlinecolor": "#2a3f5f",
             "gridcolor": "white",
             "linecolor": "white",
             "minorgridcolor": "white",
             "startlinecolor": "#2a3f5f"
            },
            "baxis": {
             "endlinecolor": "#2a3f5f",
             "gridcolor": "white",
             "linecolor": "white",
             "minorgridcolor": "white",
             "startlinecolor": "#2a3f5f"
            },
            "type": "carpet"
           }
          ],
          "choropleth": [
           {
            "colorbar": {
             "outlinewidth": 0,
             "ticks": ""
            },
            "type": "choropleth"
           }
          ],
          "contour": [
           {
            "colorbar": {
             "outlinewidth": 0,
             "ticks": ""
            },
            "colorscale": [
             [
              0,
              "#0d0887"
             ],
             [
              0.1111111111111111,
              "#46039f"
             ],
             [
              0.2222222222222222,
              "#7201a8"
             ],
             [
              0.3333333333333333,
              "#9c179e"
             ],
             [
              0.4444444444444444,
              "#bd3786"
             ],
             [
              0.5555555555555556,
              "#d8576b"
             ],
             [
              0.6666666666666666,
              "#ed7953"
             ],
             [
              0.7777777777777778,
              "#fb9f3a"
             ],
             [
              0.8888888888888888,
              "#fdca26"
             ],
             [
              1,
              "#f0f921"
             ]
            ],
            "type": "contour"
           }
          ],
          "contourcarpet": [
           {
            "colorbar": {
             "outlinewidth": 0,
             "ticks": ""
            },
            "type": "contourcarpet"
           }
          ],
          "heatmap": [
           {
            "colorbar": {
             "outlinewidth": 0,
             "ticks": ""
            },
            "colorscale": [
             [
              0,
              "#0d0887"
             ],
             [
              0.1111111111111111,
              "#46039f"
             ],
             [
              0.2222222222222222,
              "#7201a8"
             ],
             [
              0.3333333333333333,
              "#9c179e"
             ],
             [
              0.4444444444444444,
              "#bd3786"
             ],
             [
              0.5555555555555556,
              "#d8576b"
             ],
             [
              0.6666666666666666,
              "#ed7953"
             ],
             [
              0.7777777777777778,
              "#fb9f3a"
             ],
             [
              0.8888888888888888,
              "#fdca26"
             ],
             [
              1,
              "#f0f921"
             ]
            ],
            "type": "heatmap"
           }
          ],
          "heatmapgl": [
           {
            "colorbar": {
             "outlinewidth": 0,
             "ticks": ""
            },
            "colorscale": [
             [
              0,
              "#0d0887"
             ],
             [
              0.1111111111111111,
              "#46039f"
             ],
             [
              0.2222222222222222,
              "#7201a8"
             ],
             [
              0.3333333333333333,
              "#9c179e"
             ],
             [
              0.4444444444444444,
              "#bd3786"
             ],
             [
              0.5555555555555556,
              "#d8576b"
             ],
             [
              0.6666666666666666,
              "#ed7953"
             ],
             [
              0.7777777777777778,
              "#fb9f3a"
             ],
             [
              0.8888888888888888,
              "#fdca26"
             ],
             [
              1,
              "#f0f921"
             ]
            ],
            "type": "heatmapgl"
           }
          ],
          "histogram": [
           {
            "marker": {
             "colorbar": {
              "outlinewidth": 0,
              "ticks": ""
             }
            },
            "type": "histogram"
           }
          ],
          "histogram2d": [
           {
            "colorbar": {
             "outlinewidth": 0,
             "ticks": ""
            },
            "colorscale": [
             [
              0,
              "#0d0887"
             ],
             [
              0.1111111111111111,
              "#46039f"
             ],
             [
              0.2222222222222222,
              "#7201a8"
             ],
             [
              0.3333333333333333,
              "#9c179e"
             ],
             [
              0.4444444444444444,
              "#bd3786"
             ],
             [
              0.5555555555555556,
              "#d8576b"
             ],
             [
              0.6666666666666666,
              "#ed7953"
             ],
             [
              0.7777777777777778,
              "#fb9f3a"
             ],
             [
              0.8888888888888888,
              "#fdca26"
             ],
             [
              1,
              "#f0f921"
             ]
            ],
            "type": "histogram2d"
           }
          ],
          "histogram2dcontour": [
           {
            "colorbar": {
             "outlinewidth": 0,
             "ticks": ""
            },
            "colorscale": [
             [
              0,
              "#0d0887"
             ],
             [
              0.1111111111111111,
              "#46039f"
             ],
             [
              0.2222222222222222,
              "#7201a8"
             ],
             [
              0.3333333333333333,
              "#9c179e"
             ],
             [
              0.4444444444444444,
              "#bd3786"
             ],
             [
              0.5555555555555556,
              "#d8576b"
             ],
             [
              0.6666666666666666,
              "#ed7953"
             ],
             [
              0.7777777777777778,
              "#fb9f3a"
             ],
             [
              0.8888888888888888,
              "#fdca26"
             ],
             [
              1,
              "#f0f921"
             ]
            ],
            "type": "histogram2dcontour"
           }
          ],
          "mesh3d": [
           {
            "colorbar": {
             "outlinewidth": 0,
             "ticks": ""
            },
            "type": "mesh3d"
           }
          ],
          "parcoords": [
           {
            "line": {
             "colorbar": {
              "outlinewidth": 0,
              "ticks": ""
             }
            },
            "type": "parcoords"
           }
          ],
          "pie": [
           {
            "automargin": true,
            "type": "pie"
           }
          ],
          "scatter": [
           {
            "marker": {
             "colorbar": {
              "outlinewidth": 0,
              "ticks": ""
             }
            },
            "type": "scatter"
           }
          ],
          "scatter3d": [
           {
            "line": {
             "colorbar": {
              "outlinewidth": 0,
              "ticks": ""
             }
            },
            "marker": {
             "colorbar": {
              "outlinewidth": 0,
              "ticks": ""
             }
            },
            "type": "scatter3d"
           }
          ],
          "scattercarpet": [
           {
            "marker": {
             "colorbar": {
              "outlinewidth": 0,
              "ticks": ""
             }
            },
            "type": "scattercarpet"
           }
          ],
          "scattergeo": [
           {
            "marker": {
             "colorbar": {
              "outlinewidth": 0,
              "ticks": ""
             }
            },
            "type": "scattergeo"
           }
          ],
          "scattergl": [
           {
            "marker": {
             "colorbar": {
              "outlinewidth": 0,
              "ticks": ""
             }
            },
            "type": "scattergl"
           }
          ],
          "scattermapbox": [
           {
            "marker": {
             "colorbar": {
              "outlinewidth": 0,
              "ticks": ""
             }
            },
            "type": "scattermapbox"
           }
          ],
          "scatterpolar": [
           {
            "marker": {
             "colorbar": {
              "outlinewidth": 0,
              "ticks": ""
             }
            },
            "type": "scatterpolar"
           }
          ],
          "scatterpolargl": [
           {
            "marker": {
             "colorbar": {
              "outlinewidth": 0,
              "ticks": ""
             }
            },
            "type": "scatterpolargl"
           }
          ],
          "scatterternary": [
           {
            "marker": {
             "colorbar": {
              "outlinewidth": 0,
              "ticks": ""
             }
            },
            "type": "scatterternary"
           }
          ],
          "surface": [
           {
            "colorbar": {
             "outlinewidth": 0,
             "ticks": ""
            },
            "colorscale": [
             [
              0,
              "#0d0887"
             ],
             [
              0.1111111111111111,
              "#46039f"
             ],
             [
              0.2222222222222222,
              "#7201a8"
             ],
             [
              0.3333333333333333,
              "#9c179e"
             ],
             [
              0.4444444444444444,
              "#bd3786"
             ],
             [
              0.5555555555555556,
              "#d8576b"
             ],
             [
              0.6666666666666666,
              "#ed7953"
             ],
             [
              0.7777777777777778,
              "#fb9f3a"
             ],
             [
              0.8888888888888888,
              "#fdca26"
             ],
             [
              1,
              "#f0f921"
             ]
            ],
            "type": "surface"
           }
          ],
          "table": [
           {
            "cells": {
             "fill": {
              "color": "#EBF0F8"
             },
             "line": {
              "color": "white"
             }
            },
            "header": {
             "fill": {
              "color": "#C8D4E3"
             },
             "line": {
              "color": "white"
             }
            },
            "type": "table"
           }
          ]
         },
         "layout": {
          "annotationdefaults": {
           "arrowcolor": "#2a3f5f",
           "arrowhead": 0,
           "arrowwidth": 1
          },
          "autotypenumbers": "strict",
          "coloraxis": {
           "colorbar": {
            "outlinewidth": 0,
            "ticks": ""
           }
          },
          "colorscale": {
           "diverging": [
            [
             0,
             "#8e0152"
            ],
            [
             0.1,
             "#c51b7d"
            ],
            [
             0.2,
             "#de77ae"
            ],
            [
             0.3,
             "#f1b6da"
            ],
            [
             0.4,
             "#fde0ef"
            ],
            [
             0.5,
             "#f7f7f7"
            ],
            [
             0.6,
             "#e6f5d0"
            ],
            [
             0.7,
             "#b8e186"
            ],
            [
             0.8,
             "#7fbc41"
            ],
            [
             0.9,
             "#4d9221"
            ],
            [
             1,
             "#276419"
            ]
           ],
           "sequential": [
            [
             0,
             "#0d0887"
            ],
            [
             0.1111111111111111,
             "#46039f"
            ],
            [
             0.2222222222222222,
             "#7201a8"
            ],
            [
             0.3333333333333333,
             "#9c179e"
            ],
            [
             0.4444444444444444,
             "#bd3786"
            ],
            [
             0.5555555555555556,
             "#d8576b"
            ],
            [
             0.6666666666666666,
             "#ed7953"
            ],
            [
             0.7777777777777778,
             "#fb9f3a"
            ],
            [
             0.8888888888888888,
             "#fdca26"
            ],
            [
             1,
             "#f0f921"
            ]
           ],
           "sequentialminus": [
            [
             0,
             "#0d0887"
            ],
            [
             0.1111111111111111,
             "#46039f"
            ],
            [
             0.2222222222222222,
             "#7201a8"
            ],
            [
             0.3333333333333333,
             "#9c179e"
            ],
            [
             0.4444444444444444,
             "#bd3786"
            ],
            [
             0.5555555555555556,
             "#d8576b"
            ],
            [
             0.6666666666666666,
             "#ed7953"
            ],
            [
             0.7777777777777778,
             "#fb9f3a"
            ],
            [
             0.8888888888888888,
             "#fdca26"
            ],
            [
             1,
             "#f0f921"
            ]
           ]
          },
          "colorway": [
           "#636efa",
           "#EF553B",
           "#00cc96",
           "#ab63fa",
           "#FFA15A",
           "#19d3f3",
           "#FF6692",
           "#B6E880",
           "#FF97FF",
           "#FECB52"
          ],
          "font": {
           "color": "#2a3f5f"
          },
          "geo": {
           "bgcolor": "white",
           "lakecolor": "white",
           "landcolor": "#E5ECF6",
           "showlakes": true,
           "showland": true,
           "subunitcolor": "white"
          },
          "hoverlabel": {
           "align": "left"
          },
          "hovermode": "closest",
          "mapbox": {
           "style": "light"
          },
          "paper_bgcolor": "white",
          "plot_bgcolor": "#E5ECF6",
          "polar": {
           "angularaxis": {
            "gridcolor": "white",
            "linecolor": "white",
            "ticks": ""
           },
           "bgcolor": "#E5ECF6",
           "radialaxis": {
            "gridcolor": "white",
            "linecolor": "white",
            "ticks": ""
           }
          },
          "scene": {
           "xaxis": {
            "backgroundcolor": "#E5ECF6",
            "gridcolor": "white",
            "gridwidth": 2,
            "linecolor": "white",
            "showbackground": true,
            "ticks": "",
            "zerolinecolor": "white"
           },
           "yaxis": {
            "backgroundcolor": "#E5ECF6",
            "gridcolor": "white",
            "gridwidth": 2,
            "linecolor": "white",
            "showbackground": true,
            "ticks": "",
            "zerolinecolor": "white"
           },
           "zaxis": {
            "backgroundcolor": "#E5ECF6",
            "gridcolor": "white",
            "gridwidth": 2,
            "linecolor": "white",
            "showbackground": true,
            "ticks": "",
            "zerolinecolor": "white"
           }
          },
          "shapedefaults": {
           "line": {
            "color": "#2a3f5f"
           }
          },
          "ternary": {
           "aaxis": {
            "gridcolor": "white",
            "linecolor": "white",
            "ticks": ""
           },
           "baxis": {
            "gridcolor": "white",
            "linecolor": "white",
            "ticks": ""
           },
           "bgcolor": "#E5ECF6",
           "caxis": {
            "gridcolor": "white",
            "linecolor": "white",
            "ticks": ""
           }
          },
          "title": {
           "x": 0.05
          },
          "xaxis": {
           "automargin": true,
           "gridcolor": "white",
           "linecolor": "white",
           "ticks": "",
           "title": {
            "standoff": 15
           },
           "zerolinecolor": "white",
           "zerolinewidth": 2
          },
          "yaxis": {
           "automargin": true,
           "gridcolor": "white",
           "linecolor": "white",
           "ticks": "",
           "title": {
            "standoff": 15
           },
           "zerolinecolor": "white",
           "zerolinewidth": 2
          }
         }
        },
        "title": {
         "text": "Rompimento7Dias x Rompimento 28 Dias"
        },
        "xaxis": {
         "anchor": "y",
         "domain": [
          0,
          1
         ],
         "title": {
          "text": "LogRompimento7Dias"
         }
        },
        "yaxis": {
         "anchor": "x",
         "domain": [
          0,
          1
         ],
         "title": {
          "text": "Rompimento28Dias"
         }
        }
       }
      },
      "text/html": [
       "<div>                            <div id=\"a4509bf7-e95b-446f-b837-7aaf8fa2a5c7\" class=\"plotly-graph-div\" style=\"height:525px; width:100%;\"></div>            <script type=\"text/javascript\">                require([\"plotly\"], function(Plotly) {                    window.PLOTLYENV=window.PLOTLYENV || {};                                    if (document.getElementById(\"a4509bf7-e95b-446f-b837-7aaf8fa2a5c7\")) {                    Plotly.newPlot(                        \"a4509bf7-e95b-446f-b837-7aaf8fa2a5c7\",                        [{\"hovertemplate\": \"LogRompimento7Dias=%{x}<br>Rompimento28Dias=%{y}<extra></extra>\", \"legendgroup\": \"\", \"marker\": {\"color\": \"#636efa\", \"symbol\": \"circle\"}, \"mode\": \"markers\", \"name\": \"\", \"orientation\": \"v\", \"showlegend\": false, \"type\": \"scatter\", \"x\": [3.2476576262936527, 3.1888289035159043, 3.1880041612011136, 3.1548704948922883, 3.038791763014438, 3.0140632302387145, 3.0160249768217535, 2.9816333491744893, 3.222469360378331, 2.9533465570575532, 2.9433857931817817, 2.776954179749421, 2.840247370713596, 2.5128460184772416, 2.554121718809473, 3.1467351470905185, 3.1054831375131102, 3.139399623366404, 3.12412548832239, 3.1458749319837103, 2.991222118076105, 3.08876713952118, 3.0914968955383704, 3.219275744889528, 3.175968323856924, 3.1612467120315646, 3.2744997286161976, 3.267284964075888, 3.2386784521643803, 3.2565568918358894, 3.6936182084611096, 3.584629432740137, 3.6082115510464816, 3.6498787167642037, 3.5953926110204724, 3.563032744247961, 3.5251833614431467, 3.4585224482814247, 3.34109345759245, 3.591266625246936, 3.6240742307478206, 3.618188713491167, 3.5647324613710536, 3.51631018876266, 3.6054978451748854, 3.7278597537548204, 3.629129449708162, 3.627535823872884, 3.634951112088381, 3.4094961844768505, 3.5389282773504322, 3.616308761279101, 3.6509179478268177, 3.3098128198603027, 3.1018924693823817, 3.440097530619712, 3.3541057741283047, 3.261935314328648, 3.460723360976182, 3.3603753871419, 3.2969473602883563, 3.370738174177447, 3.329343277894172, 3.4085039568445934, 3.4522073025699003, 3.4663607075685685, 2.918851229218033, 2.8075938314384716, 2.7930039069823738, 2.9439125248241944, 3.0694473113762717, 2.8390784635086144, 3.067122269640664, 3.073618812211062, 2.869601996409779, 3.160398895109225, 3.052112606990099, 2.8820035082256483, 2.758109400974947, 2.5664866367804233, 2.6461747973841225, 2.8570447537800976, 2.5832425505088623, 2.6108048166633746, 2.658859956911438, 2.727199019940971, 2.641910398597665, 2.750470916986162, 2.604170070614818, 2.9231615807191558, 2.8390784635086144, 2.771963526845863, 3.005682604407159, 2.9338568698359038, 2.906354462402774, 3.354455119110024, 3.2359295794340284, 3.109060958860994, 3.2035591207563074, 3.109953417644014, 3.110399348532117, 3.2729851505152325, 3.3163654461454577, 3.314913013065143, 3.1144038032714896, 3.500741011998417, 3.279782759771722, 3.3833727967496032, 3.344979701663927, 2.9128939952449864, 3.1307001339644756, 2.826129489167811, 2.87976009730157, 3.2748780149834857, 3.0252910757955354, 3.2546289945740186, 3.033028058297688, 3.141130476243348, 3.110399348532117, 3.0525850851467737, 3.492864570187979, 3.4294608469350147, 3.5290040861498118, 3.435276695315018, 3.6044102974874863, 3.418054498728578, 3.641263600172273, 3.3854066957558313, 3.282038399825841, 3.111735949310297, 3.2160718975354663, 3.219275744889528, 3.279029747687948, 3.2924979647388146, 3.212455257065278, 3.1908877883280318, 3.2406373166497136, 3.305787196857497, 3.159550358783386, 3.3769046890931107, 3.279782759771722, 3.301008654406723, 3.3196257279683437, 3.2865344733420154, 3.2733640101522705, 3.447762850809476, 3.445852022202587, 3.4679210137050633, 3.487986511734546, 3.1587011018321305, 3.4550540544528663, 3.4685444551217657, 3.367640598133313, 3.188416617383492, 3.228430037673012, 3.3368366225017656, 3.2511493854184965, 3.333275365176697, 3.1880041612011136, 3.3141860046725258, 3.166740070447672, 3.342508385313476, 3.3174533882291946, 3.1851121947153915, 3.39484390768998, 3.456947396766647, 3.4164143474670157, 3.4735180432417816, 3.4314032237192214, 3.321793358874887, 3.509154523167248, 3.462606009790799, 3.2355362657613083, 3.3816747151732915, 3.456947396766647, 3.402529826895934, 3.5210523434704344, 3.1514531485507664, 3.6101067729485403, 3.045474365448805, 3.0473755067058295, 3.228430037673012, 3.1523085805960878, 3.2924979647388146, 3.1315734964654043, 3.1608228934195837, 3.2240623515555007, 3.202339856228101, 3.3786108829893595, 3.284288963416433, 3.2763897310688073, 3.3178157727231046, 3.2092294478163956, 3.0823685802135374, 2.9595868269176377, 2.949164637737656, 3.076851324838783, 3.104586678466073, 2.989714201228428, 3.2003044392827653, 3.1144038032714896, 3.242592351485517, 3.295836866004329, 3.2976870052924907, 3.3867603338643857, 3.325755186495297, 3.3575937441800234, 3.4151002868311466, 3.004692014925463, 3.0421386463681466, 3.201526186533088, 3.2055879305412653, 3.159550358783386, 3.070839746040796, 3.170525563927154, 2.970414465569701, 2.954910279033736, 3.1415627217655304, 2.7868613815264998, 2.7813006628418027, 3.2315945972759756, 3.0973859272804907, 3.1467351470905185, 3.292126286607793, 3.2406373166497136, 2.9699015135194693, 3.391147045808654, 3.4249139082794713, 3.2653776585196206, 3.2519236789144013, 3.3375473545856993, 3.415757532993485, 3.2627013044082305, 3.435276695315018, 3.418054498728578, 3.5201649007261984, 3.563032744247961, 3.4959013171314526, 3.4707234443107655, 3.126321843257593, 3.286908235260028, 3.2039652121324464, 3.358985532852846, 3.4127965175055075, 3.358985532852846, 3.4239368686316447, 3.4522073025699003, 3.2801590532850993, 3.3214324131932926, 3.3748534063225533, 3.248434627109745, 3.298795448044074, 3.2386784521643803, 3.238286218388024, 3.354455119110024, 3.34109345759245, 3.3506055955460954, 3.5049566159530077, 3.56784112573688, 3.157425862551978, 3.443298557680791, 3.5703774100329357, 3.5263605246161616, 3.3628029936748436, 3.3530570063342204, 3.2726061472891685, 3.3336320621663895, 3.2816628129669656, 3.4236109764990554, 3.1424266527047946, 3.202339856228101, 3.263849190510932, 3.1276373444339294, 3.2011191032789417, 2.944965156500338, 2.9785861147190205, 2.8741294517947424, 3.1826266921930797, 3.139832617527748, 3.1232455938529506, 3.170105660498771, 3.074543453978281, 3.0430928449138284, 3.0339909856710814, 3.0344721018699214, 3.067587710654419, 2.9719517448885875, 3.229222116922345, 3.0577676644734435, 3.1531632815028194, 3.1293886583666644, 3.1763857732472487, 3.074543453978281, 3.087399462079815, 3.08876713952118, 2.950211758252182, 2.9987277825337895, 3.070839746040796, 3.0791538816930633, 3.40684805317097, 3.3046864812813115, 3.25848107946056, 3.195811885269649, 3.3690184832979204, 3.170525563927154, 3.311637304949512, 3.141130476243348, 3.2355362657613083, 3.2051824977361982, 3.1458749319837103, 3.2144661163795005, 3.27601201623901, 3.1908877883280318, 3.315276319154516, 3.126760535960395, 3.222469360378331, 3.231989464013584, 3.3721118007670587, 3.3541057741283047, 3.3043193066856684, 3.2240623515555007, 3.1826266921930797, 3.151025157960026, 3.1565747986708215, 3.27601201623901, 3.2902658209548736, 3.21124679770371, 3.0740812399649675, 3.238286218388024, 3.096029994869355, 3.044522437723423, 3.091042453358316, 3.0978374964911444, 3.0506938316279655, 3.109060958860994, 2.8587664184808337, 2.9816333491744893, 2.9785861147190205, 3.100542637906336, 3.089677886396519, 2.89977188240808, 3.028683373693677, 2.9882040071331994, 3.133753571451366, 2.9785861147190205, 2.8936995479888394, 2.9932291433358724, 2.991724252156452, 2.9987277825337895, 3.094219220268645, 3.052112606990099, 3.339321977944068, 3.0378334495726262, 3.1493113614822916, 3.096029994869355, 3.1629401925378975, 3.184284380098582, 3.1514531485507664, 3.1126260250254902, 3.1328821117012247, 3.1245651453969594, 3.1570004211501135, 3.292126286607793, 3.1315734964654043, 3.192531849528599, 3.3282682016393976, 3.255014871484074, 3.1293886583666644, 3.4216533902295376, 3.3572454941329726, 3.4738280726970627, 3.3717685709713434, 3.3769046890931107, 3.3386125064705343, 3.195811885269649, 3.311637304949512, 3.462606009790799, 3.448080967561006, 3.436242723404956, 3.4553698605505483, 3.3703944725071104, 3.367640598133313, 3.4317265866969784, 2.9512577834521614, 2.9967317738870745, 3.1210424645194377, 2.930660276810276, 3.1271990362962967, 3.109953417644014, 3.0204248861443626, 3.139399623366404, 3.056356895370426, 3.325755186495297, 3.273742726309041, 3.1054831375131102, 3.0525850851467737, 3.279782759771722, 3.4048573424936426, 3.2180755046974316, 3.4474446328274753, 3.5533460588187404, 3.499231121933521, 3.2035591207563074, 2.946016681308058, 3.1616703510974213, 3.126760535960395, 3.418054498728578, 3.2068032436339315, 3.3446270301737613, 2.785628335747585, 2.9512577834521614, 3.214867803470662, 3.2072080200005186, 3.2228678461377385, 3.2208738275308737, 3.1250046092581303, 3.334701390373791, 3.2204745462318978, 3.484618989801228, 3.4830845411343394, 3.551053137206533, 3.3734835430946397, 3.383712067321136, 3.3995293245614584, 3.506457892319648, 3.569250966658405, 3.441379171294987, 3.500741011998417, 3.500137329517059, 3.4223063448723905, 3.331489969237335, 3.298795448044074, 3.2588654730843594, 3.2315945972759756, 3.239462458476589, 3.3572454941329726, 3.2906381910950917, 3.269568939183719, 3.201933104137889, 3.113959654918641, 3.2188758248682006, 3.051166980442092, 3.2371085931292605, 2.825536896557877, 3.285412348668445, 3.2068032436339315, 3.192531849528599, 3.4249139082794713, 3.285412348668445, 3.2495989975110415, 3.279782759771722, 3.4081729953985804, 3.774368840129351, 3.4388142452334622, 3.0855729775537806, 3.043569602968151, 3.106826321059578, 3.087399462079815, 2.979094632400968, 3.1437211512674406, 2.8100049236252036, 2.749192144433385, 3.199896858270398, 3.4388142452334622, 3.6436205477083212, 3.5010427166318716], \"xaxis\": \"x\", \"y\": [35.08, 33.4, 31.72, 31.12, 28.39, 29.7, 27.47, 27.61, 31.63, 26.3, 27.13, 22.49, 24.66, 16.96, 20.15, 30.93, 31.9, 31.3, 30.83, 31.02, 30.3, 30.6, 30.6, 33.52, 32.47, 32.41, 32.14, 33.9, 32.83, 35.01, 51.28, 43.52, 42.89, 49.06, 44.21, 45.48, 44.6, 38.14, 33.43, 46.48, 46.74, 46.78, 42.62, 46.6, 46.46, 52.0, 49.79, 51.63, 49.51, 41.84, 38.95, 52.97, 49.15, 33.26, 33.77, 38.85, 37.04, 35.9, 37.06, 36.23, 33.84, 36.62, 33.86, 36.65, 34.59, 37.24, 25.32, 26.27, 25.46, 28.11, 30.02, 25.0, 31.89, 30.4, 30.58, 32.55, 27.38, 23.81, 22.79, 20.28, 23.33, 24.34, 20.74, 18.1, 21.53, 22.81, 20.43, 21.72, 20.52, 23.31, 22.72, 22.04, 24.11, 26.34, 25.23, 39.12, 34.09, 31.18, 31.25, 30.49, 31.01, 34.94, 34.73, 33.26, 30.4, 39.45, 36.56, 37.59, 34.38, 27.27, 26.77, 24.99, 26.67, 29.5, 29.06, 31.79, 27.15, 28.49, 29.67, 28.73, 38.37, 37.64, 44.87, 43.54, 45.08, 37.38, 44.91, 37.72, 35.68, 31.77, 30.22, 32.61, 33.11, 36.06, 33.79, 31.01, 34.14, 36.59, 32.32, 36.4, 35.01, 36.48, 35.68, 37.27, 38.2, 39.58, 41.4, 38.88, 37.34, 33.03, 37.85, 36.12, 41.45, 32.42, 33.51, 37.2, 33.63, 38.44, 32.46, 32.78, 28.08, 33.8, 30.87, 26.86, 40.19, 38.51, 39.11, 43.12, 39.79, 38.92, 40.86, 42.29, 33.2, 34.45, 38.18, 43.15, 37.24, 34.5, 45.71, 29.78, 27.93, 30.76, 35.22, 36.01, 29.84, 30.51, 28.5, 32.35, 34.28, 32.74, 33.45, 33.71, 30.4, 29.56, 27.56, 28.85, 29.74, 30.78, 28.53, 31.74, 32.92, 35.62, 38.09, 36.31, 37.81, 35.4, 36.2, 35.11, 30.0, 26.39, 27.87, 28.99, 25.41, 25.14, 29.98, 25.54, 25.21, 32.73, 25.01, 24.54, 34.88, 29.67, 30.69, 36.28, 34.07, 28.25, 37.54, 39.53, 31.48, 29.69, 32.49, 35.22, 34.09, 35.22, 33.79, 37.96, 37.03, 37.66, 40.0, 32.44, 35.92, 31.86, 35.2, 35.89, 35.39, 40.53, 40.14, 34.91, 38.42, 36.59, 30.88, 34.0, 32.64, 30.87, 35.15, 31.94, 35.39, 37.73, 37.77, 32.05, 38.36, 42.61, 43.19, 38.3, 37.46, 31.07, 32.51, 33.02, 38.61, 28.72, 30.44, 30.26, 27.53, 34.54, 26.54, 27.39, 21.2, 33.9, 31.71, 34.49, 35.72, 27.98, 26.02, 29.0, 27.06, 26.39, 24.03, 33.17, 27.43, 31.39, 28.41, 30.16, 29.92, 30.02, 29.46, 27.31, 28.38, 29.64, 30.5, 40.23, 39.69, 35.81, 34.7, 38.75, 30.32, 35.07, 29.37, 33.09, 31.39, 31.19, 31.76, 33.84, 30.49, 34.47, 29.24, 31.72, 38.11, 35.69, 37.13, 34.04, 33.82, 32.46, 30.58, 29.93, 34.49, 38.16, 32.56, 32.54, 32.31, 32.6, 29.51, 31.26, 32.16, 31.26, 33.01, 21.27, 23.67, 25.79, 29.67, 27.15, 22.14, 25.69, 23.59, 27.62, 24.96, 22.79, 22.12, 22.21, 22.79, 26.82, 25.29, 32.84, 26.07, 25.56, 26.66, 27.64, 26.95, 32.4, 27.28, 27.28, 29.56, 31.61, 37.24, 33.4, 36.56, 37.67, 33.07, 34.88, 39.48, 37.77, 41.83, 40.1, 39.59, 40.66, 31.24, 40.21, 39.14, 36.4, 38.04, 40.48, 36.24, 35.22, 37.81, 25.1, 26.16, 29.65, 25.89, 28.43, 27.34, 28.71, 30.68, 27.69, 33.25, 31.54, 28.22, 32.02, 38.06, 37.31, 33.48, 38.79, 42.01, 38.08, 34.63, 28.4, 32.64, 33.01, 38.7, 33.66, 34.69, 22.25, 27.36, 31.42, 31.74, 30.62, 29.6, 28.29, 37.17, 34.45, 37.54, 39.44, 42.79, 37.86, 37.46, 36.98, 41.96, 44.3, 39.97, 42.35, 37.32, 36.4, 35.29, 35.55, 33.93, 34.74, 36.2, 32.68, 30.0, 30.44, 31.34, 29.48, 33.72, 28.94, 34.8, 21.92, 33.07, 31.74, 29.56, 37.04, 34.65, 33.19, 34.38, 36.17, 49.94, 38.19, 28.88, 28.01, 29.1, 32.45, 25.68, 31.51, 22.32, 20.79, 33.29, 49.8, 48.35, 46.11], \"yaxis\": \"y\"}],                        {\"legend\": {\"tracegroupgap\": 0}, \"template\": {\"data\": {\"bar\": [{\"error_x\": {\"color\": \"#2a3f5f\"}, \"error_y\": {\"color\": \"#2a3f5f\"}, \"marker\": {\"line\": {\"color\": \"#E5ECF6\", \"width\": 0.5}}, \"type\": \"bar\"}], \"barpolar\": [{\"marker\": {\"line\": {\"color\": \"#E5ECF6\", \"width\": 0.5}}, \"type\": \"barpolar\"}], \"carpet\": [{\"aaxis\": {\"endlinecolor\": \"#2a3f5f\", \"gridcolor\": \"white\", \"linecolor\": \"white\", \"minorgridcolor\": \"white\", \"startlinecolor\": \"#2a3f5f\"}, \"baxis\": {\"endlinecolor\": \"#2a3f5f\", \"gridcolor\": \"white\", \"linecolor\": \"white\", \"minorgridcolor\": \"white\", \"startlinecolor\": \"#2a3f5f\"}, \"type\": \"carpet\"}], \"choropleth\": [{\"colorbar\": {\"outlinewidth\": 0, \"ticks\": \"\"}, \"type\": \"choropleth\"}], \"contour\": [{\"colorbar\": {\"outlinewidth\": 0, \"ticks\": \"\"}, \"colorscale\": [[0.0, \"#0d0887\"], [0.1111111111111111, \"#46039f\"], [0.2222222222222222, \"#7201a8\"], [0.3333333333333333, \"#9c179e\"], [0.4444444444444444, \"#bd3786\"], [0.5555555555555556, \"#d8576b\"], [0.6666666666666666, \"#ed7953\"], [0.7777777777777778, \"#fb9f3a\"], [0.8888888888888888, \"#fdca26\"], [1.0, \"#f0f921\"]], \"type\": \"contour\"}], \"contourcarpet\": [{\"colorbar\": {\"outlinewidth\": 0, \"ticks\": \"\"}, \"type\": \"contourcarpet\"}], \"heatmap\": [{\"colorbar\": {\"outlinewidth\": 0, \"ticks\": \"\"}, \"colorscale\": [[0.0, \"#0d0887\"], [0.1111111111111111, \"#46039f\"], [0.2222222222222222, \"#7201a8\"], [0.3333333333333333, \"#9c179e\"], [0.4444444444444444, \"#bd3786\"], [0.5555555555555556, \"#d8576b\"], [0.6666666666666666, \"#ed7953\"], [0.7777777777777778, \"#fb9f3a\"], [0.8888888888888888, \"#fdca26\"], [1.0, \"#f0f921\"]], \"type\": \"heatmap\"}], \"heatmapgl\": [{\"colorbar\": {\"outlinewidth\": 0, \"ticks\": \"\"}, \"colorscale\": [[0.0, \"#0d0887\"], [0.1111111111111111, \"#46039f\"], [0.2222222222222222, \"#7201a8\"], [0.3333333333333333, \"#9c179e\"], [0.4444444444444444, \"#bd3786\"], [0.5555555555555556, \"#d8576b\"], [0.6666666666666666, \"#ed7953\"], [0.7777777777777778, \"#fb9f3a\"], [0.8888888888888888, \"#fdca26\"], [1.0, \"#f0f921\"]], \"type\": \"heatmapgl\"}], \"histogram\": [{\"marker\": {\"colorbar\": {\"outlinewidth\": 0, \"ticks\": \"\"}}, \"type\": \"histogram\"}], \"histogram2d\": [{\"colorbar\": {\"outlinewidth\": 0, \"ticks\": \"\"}, \"colorscale\": [[0.0, \"#0d0887\"], [0.1111111111111111, \"#46039f\"], [0.2222222222222222, \"#7201a8\"], [0.3333333333333333, \"#9c179e\"], [0.4444444444444444, \"#bd3786\"], [0.5555555555555556, \"#d8576b\"], [0.6666666666666666, \"#ed7953\"], [0.7777777777777778, \"#fb9f3a\"], [0.8888888888888888, \"#fdca26\"], [1.0, \"#f0f921\"]], \"type\": \"histogram2d\"}], \"histogram2dcontour\": [{\"colorbar\": {\"outlinewidth\": 0, \"ticks\": \"\"}, \"colorscale\": [[0.0, \"#0d0887\"], [0.1111111111111111, \"#46039f\"], [0.2222222222222222, \"#7201a8\"], [0.3333333333333333, \"#9c179e\"], [0.4444444444444444, \"#bd3786\"], [0.5555555555555556, \"#d8576b\"], [0.6666666666666666, \"#ed7953\"], [0.7777777777777778, \"#fb9f3a\"], [0.8888888888888888, \"#fdca26\"], [1.0, \"#f0f921\"]], \"type\": \"histogram2dcontour\"}], \"mesh3d\": [{\"colorbar\": {\"outlinewidth\": 0, \"ticks\": \"\"}, \"type\": \"mesh3d\"}], \"parcoords\": [{\"line\": {\"colorbar\": {\"outlinewidth\": 0, \"ticks\": \"\"}}, \"type\": \"parcoords\"}], \"pie\": [{\"automargin\": true, \"type\": \"pie\"}], \"scatter\": [{\"marker\": {\"colorbar\": {\"outlinewidth\": 0, \"ticks\": \"\"}}, \"type\": \"scatter\"}], \"scatter3d\": [{\"line\": {\"colorbar\": {\"outlinewidth\": 0, \"ticks\": \"\"}}, \"marker\": {\"colorbar\": {\"outlinewidth\": 0, \"ticks\": \"\"}}, \"type\": \"scatter3d\"}], \"scattercarpet\": [{\"marker\": {\"colorbar\": {\"outlinewidth\": 0, \"ticks\": \"\"}}, \"type\": \"scattercarpet\"}], \"scattergeo\": [{\"marker\": {\"colorbar\": {\"outlinewidth\": 0, \"ticks\": \"\"}}, \"type\": \"scattergeo\"}], \"scattergl\": [{\"marker\": {\"colorbar\": {\"outlinewidth\": 0, \"ticks\": \"\"}}, \"type\": \"scattergl\"}], \"scattermapbox\": [{\"marker\": {\"colorbar\": {\"outlinewidth\": 0, \"ticks\": \"\"}}, \"type\": \"scattermapbox\"}], \"scatterpolar\": [{\"marker\": {\"colorbar\": {\"outlinewidth\": 0, \"ticks\": \"\"}}, \"type\": \"scatterpolar\"}], \"scatterpolargl\": [{\"marker\": {\"colorbar\": {\"outlinewidth\": 0, \"ticks\": \"\"}}, \"type\": \"scatterpolargl\"}], \"scatterternary\": [{\"marker\": {\"colorbar\": {\"outlinewidth\": 0, \"ticks\": \"\"}}, \"type\": \"scatterternary\"}], \"surface\": [{\"colorbar\": {\"outlinewidth\": 0, \"ticks\": \"\"}, \"colorscale\": [[0.0, \"#0d0887\"], [0.1111111111111111, \"#46039f\"], [0.2222222222222222, \"#7201a8\"], [0.3333333333333333, \"#9c179e\"], [0.4444444444444444, \"#bd3786\"], [0.5555555555555556, \"#d8576b\"], [0.6666666666666666, \"#ed7953\"], [0.7777777777777778, \"#fb9f3a\"], [0.8888888888888888, \"#fdca26\"], [1.0, \"#f0f921\"]], \"type\": \"surface\"}], \"table\": [{\"cells\": {\"fill\": {\"color\": \"#EBF0F8\"}, \"line\": {\"color\": \"white\"}}, \"header\": {\"fill\": {\"color\": \"#C8D4E3\"}, \"line\": {\"color\": \"white\"}}, \"type\": \"table\"}]}, \"layout\": {\"annotationdefaults\": {\"arrowcolor\": \"#2a3f5f\", \"arrowhead\": 0, \"arrowwidth\": 1}, \"autotypenumbers\": \"strict\", \"coloraxis\": {\"colorbar\": {\"outlinewidth\": 0, \"ticks\": \"\"}}, \"colorscale\": {\"diverging\": [[0, \"#8e0152\"], [0.1, \"#c51b7d\"], [0.2, \"#de77ae\"], [0.3, \"#f1b6da\"], [0.4, \"#fde0ef\"], [0.5, \"#f7f7f7\"], [0.6, \"#e6f5d0\"], [0.7, \"#b8e186\"], [0.8, \"#7fbc41\"], [0.9, \"#4d9221\"], [1, \"#276419\"]], \"sequential\": [[0.0, \"#0d0887\"], [0.1111111111111111, \"#46039f\"], [0.2222222222222222, \"#7201a8\"], [0.3333333333333333, \"#9c179e\"], [0.4444444444444444, \"#bd3786\"], [0.5555555555555556, \"#d8576b\"], [0.6666666666666666, \"#ed7953\"], [0.7777777777777778, \"#fb9f3a\"], [0.8888888888888888, \"#fdca26\"], [1.0, \"#f0f921\"]], \"sequentialminus\": [[0.0, \"#0d0887\"], [0.1111111111111111, \"#46039f\"], [0.2222222222222222, \"#7201a8\"], [0.3333333333333333, \"#9c179e\"], [0.4444444444444444, \"#bd3786\"], [0.5555555555555556, \"#d8576b\"], [0.6666666666666666, \"#ed7953\"], [0.7777777777777778, \"#fb9f3a\"], [0.8888888888888888, \"#fdca26\"], [1.0, \"#f0f921\"]]}, \"colorway\": [\"#636efa\", \"#EF553B\", \"#00cc96\", \"#ab63fa\", \"#FFA15A\", \"#19d3f3\", \"#FF6692\", \"#B6E880\", \"#FF97FF\", \"#FECB52\"], \"font\": {\"color\": \"#2a3f5f\"}, \"geo\": {\"bgcolor\": \"white\", \"lakecolor\": \"white\", \"landcolor\": \"#E5ECF6\", \"showlakes\": true, \"showland\": true, \"subunitcolor\": \"white\"}, \"hoverlabel\": {\"align\": \"left\"}, \"hovermode\": \"closest\", \"mapbox\": {\"style\": \"light\"}, \"paper_bgcolor\": \"white\", \"plot_bgcolor\": \"#E5ECF6\", \"polar\": {\"angularaxis\": {\"gridcolor\": \"white\", \"linecolor\": \"white\", \"ticks\": \"\"}, \"bgcolor\": \"#E5ECF6\", \"radialaxis\": {\"gridcolor\": \"white\", \"linecolor\": \"white\", \"ticks\": \"\"}}, \"scene\": {\"xaxis\": {\"backgroundcolor\": \"#E5ECF6\", \"gridcolor\": \"white\", \"gridwidth\": 2, \"linecolor\": \"white\", \"showbackground\": true, \"ticks\": \"\", \"zerolinecolor\": \"white\"}, \"yaxis\": {\"backgroundcolor\": \"#E5ECF6\", \"gridcolor\": \"white\", \"gridwidth\": 2, \"linecolor\": \"white\", \"showbackground\": true, \"ticks\": \"\", \"zerolinecolor\": \"white\"}, \"zaxis\": {\"backgroundcolor\": \"#E5ECF6\", \"gridcolor\": \"white\", \"gridwidth\": 2, \"linecolor\": \"white\", \"showbackground\": true, \"ticks\": \"\", \"zerolinecolor\": \"white\"}}, \"shapedefaults\": {\"line\": {\"color\": \"#2a3f5f\"}}, \"ternary\": {\"aaxis\": {\"gridcolor\": \"white\", \"linecolor\": \"white\", \"ticks\": \"\"}, \"baxis\": {\"gridcolor\": \"white\", \"linecolor\": \"white\", \"ticks\": \"\"}, \"bgcolor\": \"#E5ECF6\", \"caxis\": {\"gridcolor\": \"white\", \"linecolor\": \"white\", \"ticks\": \"\"}}, \"title\": {\"x\": 0.05}, \"xaxis\": {\"automargin\": true, \"gridcolor\": \"white\", \"linecolor\": \"white\", \"ticks\": \"\", \"title\": {\"standoff\": 15}, \"zerolinecolor\": \"white\", \"zerolinewidth\": 2}, \"yaxis\": {\"automargin\": true, \"gridcolor\": \"white\", \"linecolor\": \"white\", \"ticks\": \"\", \"title\": {\"standoff\": 15}, \"zerolinecolor\": \"white\", \"zerolinewidth\": 2}}}, \"title\": {\"text\": \"Rompimento7Dias x Rompimento 28 Dias\"}, \"xaxis\": {\"anchor\": \"y\", \"domain\": [0.0, 1.0], \"title\": {\"text\": \"LogRompimento7Dias\"}}, \"yaxis\": {\"anchor\": \"x\", \"domain\": [0.0, 1.0], \"title\": {\"text\": \"Rompimento28Dias\"}}},                        {\"responsive\": true}                    ).then(function(){\n",
       "                            \n",
       "var gd = document.getElementById('a4509bf7-e95b-446f-b837-7aaf8fa2a5c7');\n",
       "var x = new MutationObserver(function (mutations, observer) {{\n",
       "        var display = window.getComputedStyle(gd).display;\n",
       "        if (!display || display === 'none') {{\n",
       "            console.log([gd, 'removed!']);\n",
       "            Plotly.purge(gd);\n",
       "            observer.disconnect();\n",
       "        }}\n",
       "}});\n",
       "\n",
       "// Listen for the removal of the full notebook cells\n",
       "var notebookContainer = gd.closest('#notebook-container');\n",
       "if (notebookContainer) {{\n",
       "    x.observe(notebookContainer, {childList: true});\n",
       "}}\n",
       "\n",
       "// Listen for the clearing of the current output cell\n",
       "var outputEl = gd.closest('.output');\n",
       "if (outputEl) {{\n",
       "    x.observe(outputEl, {childList: true});\n",
       "}}\n",
       "\n",
       "                        })                };                });            </script>        </div>"
      ]
     },
     "metadata": {},
     "output_type": "display_data"
    }
   ],
   "source": [
    "fig = px.scatter(dados_aglomerante, x=\"LogRompimento7Dias\", y=\"Rompimento28Dias\", title='Rompimento7Dias x Rompimento 28 Dias')\n",
    "fig.show()"
   ]
  },
  {
   "cell_type": "code",
   "execution_count": 1124,
   "metadata": {},
   "outputs": [
    {
     "data": {
      "application/vnd.plotly.v1+json": {
       "config": {
        "plotlyServerURL": "https://plot.ly"
       },
       "data": [
        {
         "hovertemplate": "RelacaoAguaCimento=%{x}<br>Rompimento28Dias=%{y}<extra></extra>",
         "legendgroup": "",
         "marker": {
          "color": "#636efa",
          "symbol": "circle"
         },
         "mode": "markers",
         "name": "",
         "orientation": "v",
         "showlegend": false,
         "type": "scatter",
         "x": [
          0.5386740331491713,
          0.559375,
          0.678125,
          0.678125,
          0.678125,
          0.5802469135802469,
          0.5802469135802469,
          0.5802469135802469,
          0.6697530864197531,
          0.616822429906542,
          0.616822429906542,
          0.616822429906542,
          0.616822429906542,
          0.9230769230769232,
          0.9123711340206184,
          0.5338983050847458,
          0.5282485875706214,
          0.5338983050847458,
          0.5338983050847458,
          0.5338983050847458,
          0.5338983050847458,
          0.5338983050847458,
          0.53954802259887,
          0.4932975871313673,
          0.4932975871313673,
          0.4932975871313673,
          0.4932975871313673,
          0.4932975871313673,
          0.4932975871313673,
          0.4423592493297587,
          0.4060913705583756,
          0.4060913705583756,
          0.4060913705583756,
          0.4060913705583756,
          0.4060913705583756,
          0.4060913705583756,
          0.4060913705583756,
          0.4060913705583756,
          0.4342053885201093,
          0.44416243654822335,
          0.4289340101522843,
          0.434010152284264,
          0.434010152284264,
          0.434010152284264,
          0.434010152284264,
          0.434010152284264,
          0.4137055837563452,
          0.4137055837563452,
          0.4060913705583756,
          0.4060913705583756,
          0.4060913705583756,
          0.4060913705583756,
          0.39867239359625145,
          0.5412087912087912,
          0.5412087912087912,
          0.5412087912087912,
          0.5412087912087912,
          0.5412087912087912,
          0.5412087912087912,
          0.5412087912087912,
          0.5412087912087912,
          0.5412087912087912,
          0.4120879120879121,
          0.4120879120879121,
          0.5420054200542005,
          0.5311653116531165,
          0.6182572614107884,
          0.6182572614107884,
          0.6182572614107884,
          0.6182572614107884,
          0.6016597510373444,
          0.5518672199170125,
          0.5684647302904564,
          0.5601659751037344,
          0.5601659751037344,
          0.5684647302904564,
          0.5684647302904564,
          0.7811158798283262,
          0.8127853881278538,
          0.8127853881278538,
          0.8264840182648402,
          0.8401826484018264,
          0.8401826484018264,
          0.8401826484018264,
          0.8401826484018264,
          0.8401826484018264,
          0.8401826484018264,
          0.8264840182648402,
          0.8264840182648402,
          0.8264840182648402,
          0.8264840182648402,
          0.776824034334764,
          0.7552742616033755,
          0.7412280701754386,
          0.7324561403508771,
          0.4303477344573235,
          0.475,
          0.5175,
          0.4825,
          0.4825,
          0.4825,
          0.4825,
          0.4825,
          0.4825,
          0.4825,
          0.5,
          0.5376712328767124,
          0.5958904109589042,
          0.5958904109589042,
          0.5682656826568265,
          0.5709342560553633,
          0.5709342560553633,
          0.5709342560553633,
          0.5605536332179931,
          0.5605536332179931,
          0.5190311418685121,
          0.6794425087108014,
          0.6832740213523132,
          0.6832740213523132,
          0.5587188612099644,
          0.4937106918238994,
          0.4937106918238994,
          0.4622641509433962,
          0.4622641509433962,
          0.4622641509433962,
          0.4622641509433962,
          0.4716981132075472,
          0.4716981132075472,
          0.6146496815286624,
          0.6372881355932203,
          0.6324503311258278,
          0.6324503311258278,
          0.6490066225165563,
          0.6490066225165563,
          0.6490066225165563,
          0.6357615894039735,
          0.6158940397350994,
          0.6158940397350994,
          0.6158940397350994,
          0.6158940397350994,
          0.6096774193548387,
          0.6096774193548387,
          0.6096774193548387,
          0.6096774193548387,
          0.6096774193548387,
          0.6096774193548387,
          0.6096774193548387,
          0.6141479099678456,
          0.6187290969899666,
          0.6220735785953178,
          0.6287625418060201,
          0.6472602739726028,
          0.6267123287671232,
          0.6702898550724637,
          0.6702898550724637,
          0.6702898550724637,
          0.6702898550724637,
          0.6702898550724637,
          0.7105263157894737,
          0.7105263157894737,
          0.7269230769230769,
          0.7142857142857143,
          0.7142857142857143,
          0.7255639097744361,
          0.6084142394822006,
          0.5125,
          0.5125,
          0.5225,
          0.5225,
          0.5225,
          0.5225,
          0.5,
          0.4925,
          0.4925,
          0.4925,
          0.4925,
          0.4925,
          0.4825,
          0.41116751269035534,
          0.5588235294117647,
          0.5,
          0.5,
          0.5330882352941176,
          0.5073529411764706,
          0.5073529411764706,
          0.5073529411764706,
          0.5183823529411765,
          0.5183823529411765,
          0.5588235294117647,
          0.5183823529411765,
          0.5183823529411765,
          0.5183823529411765,
          0.5187165775401069,
          0.703125,
          0.703125,
          0.703125,
          0.6908396946564885,
          0.6717557251908397,
          0.6856060606060606,
          0.678030303030303,
          0.6590909090909091,
          0.6856060606060606,
          0.6439393939393939,
          0.6856060606060606,
          0.6856060606060606,
          0.6856060606060606,
          0.6818181818181818,
          0.6818181818181818,
          0.7131147540983607,
          0.7377049180327869,
          0.639344262295082,
          0.6311475409836066,
          0.6311475409836066,
          0.6311475409836066,
          0.6309012875536479,
          0.7665198237885462,
          0.8017621145374451,
          0.7841409691629956,
          0.8144796380090498,
          0.8017621145374451,
          0.6893939393939394,
          0.5359712230215827,
          0.5035971223021583,
          0.5179856115107914,
          0.5359712230215827,
          0.68,
          0.4861538461538462,
          0.4861538461538462,
          0.4646153846153846,
          0.4646153846153846,
          0.4646153846153846,
          0.4738461538461538,
          0.4738461538461538,
          0.4953846153846154,
          0.4953846153846154,
          0.4953846153846154,
          0.4953846153846154,
          0.4953846153846154,
          0.4953846153846154,
          0.6132075471698113,
          0.610062893081761,
          0.610062893081761,
          0.5835866261398176,
          0.5835866261398176,
          0.5835866261398176,
          0.5927051671732523,
          0.5927051671732523,
          0.5927051671732523,
          0.5927051671732523,
          0.5927051671732523,
          0.5927051671732523,
          0.5927051671732523,
          0.6416938110749185,
          0.6416938110749185,
          0.6175548589341693,
          0.6175548589341693,
          0.6175548589341693,
          0.5422885572139303,
          0.5422885572139303,
          0.4951690821256038,
          0.6261682242990654,
          0.6261682242990654,
          0.6261682242990654,
          0.6261682242990654,
          0.6261682242990654,
          0.6323987538940811,
          0.6323987538940811,
          0.6326064382139148,
          0.7208480565371025,
          0.7326007326007326,
          0.746268656716418,
          0.7326007326007326,
          0.7326007326007326,
          0.7352941176470589,
          0.7670682730923695,
          0.7670682730923695,
          0.7991803278688525,
          0.6797153024911032,
          0.6797153024911032,
          0.6797153024911032,
          0.6797153024911032,
          0.7089552238805971,
          0.7089552238805971,
          0.7089552238805971,
          0.7089552238805971,
          0.7276119402985075,
          0.7276119402985075,
          0.7089552238805971,
          0.6902985074626866,
          0.6902985074626866,
          0.6902985074626866,
          0.6902985074626866,
          0.7014925373134329,
          0.7014925373134329,
          0.6925894618202311,
          0.6992481203007519,
          0.7014925373134329,
          0.7014925373134329,
          0.6865671641791045,
          0.6581818181818182,
          0.6436363636363637,
          0.509090909090909,
          0.509090909090909,
          0.509090909090909,
          0.7391304347826086,
          0.7391304347826086,
          0.7391304347826086,
          0.7391304347826086,
          0.7391304347826086,
          0.7391304347826086,
          0.7391304347826086,
          0.7470355731225297,
          0.7470355731225297,
          0.7470355731225297,
          0.7233201581027668,
          0.7233201581027668,
          0.7233201581027668,
          0.7233201581027668,
          0.7233201581027668,
          0.7233201581027668,
          0.7233201581027668,
          0.7233201581027668,
          0.7233201581027668,
          0.7430830039525692,
          0.7391304347826086,
          0.7391304347826086,
          0.7391304347826086,
          0.7391304347826086,
          0.7401574803149606,
          0.7322834645669292,
          0.7401574803149606,
          0.7401574803149606,
          0.7401574803149606,
          0.7401574803149606,
          0.7401574803149606,
          0.8430493273542601,
          0.8209606986899564,
          0.8384279475982532,
          0.8209606986899564,
          0.8384279475982532,
          0.8296943231441049,
          0.8296943231441049,
          0.8296943231441049,
          0.8296943231441049,
          0.852017937219731,
          0.8296943231441049,
          0.852017937219731,
          0.8296943231441049,
          0.8384279475982532,
          0.8427947598253275,
          0.8427947598253275,
          0.8427947598253275,
          0.7161572052401747,
          0.7161572052401747,
          0.7161572052401747,
          0.7161572052401747,
          0.7161572052401747,
          0.7116104868913857,
          0.704119850187266,
          0.7203065134099617,
          0.6859205776173285,
          0.6859205776173285,
          0.6859205776173285,
          0.6859205776173285,
          0.6859205776173285,
          0.6859205776173285,
          0.6787003610108303,
          0.6787003610108303,
          0.5837837837837838,
          0.5783783783783784,
          0.5783783783783784,
          0.5783783783783784,
          0.5783783783783784,
          0.5783783783783784,
          0.6101694915254238,
          0.6044749188018765,
          0.5947712418300654,
          0.5947712418300654,
          0.5947712418300654,
          0.5980392156862745,
          0.5980392156862745,
          0.6405228758169934,
          0.6405228758169934,
          0.5855855855855856,
          0.5855855855855856,
          0.5855855855855856,
          0.5855855855855856,
          0.5855855855855856,
          0.5855855855855856,
          0.5825825825825826,
          0.5825825825825826,
          0.5825825825825826,
          0.486646884272997,
          0.486646884272997,
          0.486646884272997,
          0.4875621890547264,
          0.4875621890547264,
          0.4875621890547264,
          0.4875621890547264,
          0.41791044776119396,
          0.41791044776119396,
          0.41791044776119396,
          0.482587064676617,
          0.482587064676617,
          0.482587064676617,
          0.482587064676617,
          0.482587064676617,
          0.482587064676617,
          0.482587064676617,
          0.7738095238095238,
          0.7658730158730159,
          0.6113289760348584,
          0.6113289760348584,
          0.6274509803921569,
          0.6274509803921569,
          0.6274509803921569,
          0.6111111111111112,
          0.6158536585365854,
          0.5911764705882353,
          0.5970588235294118,
          0.5941176470588235,
          0.5941176470588235,
          0.5941176470588235,
          0.5941176470588235,
          0.5941176470588235,
          0.5941176470588235,
          0.5852941176470589,
          0.5852941176470589,
          0.5941176470588235,
          0.5941176470588235,
          0.6349206349206349,
          0.6349206349206349,
          0.6349206349206349,
          0.6349206349206349,
          0.6285714285714286,
          0.6317460317460317,
          0.6317460317460317,
          0.6822742474916388,
          0.6666666666666666,
          0.6925795053003534,
          0.6925795053003534,
          0.6925795053003534,
          0.6925795053003534,
          0.8,
          0.5396419437340153,
          0.5396419437340153,
          0.5396419437340153,
          0.5370843989769821,
          0.6881028938906752,
          0.480952380952381,
          0.4880952380952381,
          0.4880952380952381,
          0.554016620498615,
          0.554016620498615,
          0.6391752577319587,
          0.7052631578947368,
          0.6779661016949152,
          0.6779661016949152,
          0.688135593220339,
          0.688135593220339,
          0.8546255506607929,
          0.8595203132648067,
          0.76171875,
          0.55,
          0.55,
          0.55
         ],
         "xaxis": "x",
         "y": [
          35.08,
          33.4,
          31.72,
          31.12,
          28.39,
          29.7,
          27.47,
          27.61,
          31.63,
          26.3,
          27.13,
          22.49,
          24.66,
          16.96,
          20.15,
          30.93,
          31.9,
          31.3,
          30.83,
          31.02,
          30.3,
          30.6,
          30.6,
          33.52,
          32.47,
          32.41,
          32.14,
          33.9,
          32.83,
          35.01,
          51.28,
          43.52,
          42.89,
          49.06,
          44.21,
          45.48,
          44.6,
          38.14,
          33.43,
          46.48,
          46.74,
          46.78,
          42.62,
          46.6,
          46.46,
          52,
          49.79,
          51.63,
          49.51,
          41.84,
          38.95,
          52.97,
          49.15,
          33.26,
          33.77,
          38.85,
          37.04,
          35.9,
          37.06,
          36.23,
          33.84,
          36.62,
          33.86,
          36.65,
          34.59,
          37.24,
          25.32,
          26.27,
          25.46,
          28.11,
          30.02,
          25,
          31.89,
          30.4,
          30.58,
          32.55,
          27.38,
          23.81,
          22.79,
          20.28,
          23.33,
          24.34,
          20.74,
          18.1,
          21.53,
          22.81,
          20.43,
          21.72,
          20.52,
          23.31,
          22.72,
          22.04,
          24.11,
          26.34,
          25.23,
          39.12,
          34.09,
          31.18,
          31.25,
          30.49,
          31.01,
          34.94,
          34.73,
          33.26,
          30.4,
          39.45,
          36.56,
          37.59,
          34.38,
          27.27,
          26.77,
          24.99,
          26.67,
          29.5,
          29.06,
          31.79,
          27.15,
          28.49,
          29.67,
          28.73,
          38.37,
          37.64,
          44.87,
          43.54,
          45.08,
          37.38,
          44.91,
          37.72,
          35.68,
          31.77,
          30.22,
          32.61,
          33.11,
          36.06,
          33.79,
          31.01,
          34.14,
          36.59,
          32.32,
          36.4,
          35.01,
          36.48,
          35.68,
          37.27,
          38.2,
          39.58,
          41.4,
          38.88,
          37.34,
          33.03,
          37.85,
          36.12,
          41.45,
          32.42,
          33.51,
          37.2,
          33.63,
          38.44,
          32.46,
          32.78,
          28.08,
          33.8,
          30.87,
          26.86,
          40.19,
          38.51,
          39.11,
          43.12,
          39.79,
          38.92,
          40.86,
          42.29,
          33.2,
          34.45,
          38.18,
          43.15,
          37.24,
          34.5,
          45.71,
          29.78,
          27.93,
          30.76,
          35.22,
          36.01,
          29.84,
          30.51,
          28.5,
          32.35,
          34.28,
          32.74,
          33.45,
          33.71,
          30.4,
          29.56,
          27.56,
          28.85,
          29.74,
          30.78,
          28.53,
          31.74,
          32.92,
          35.62,
          38.09,
          36.31,
          37.81,
          35.4,
          36.2,
          35.11,
          30,
          26.39,
          27.87,
          28.99,
          25.41,
          25.14,
          29.98,
          25.54,
          25.21,
          32.73,
          25.01,
          24.54,
          34.88,
          29.67,
          30.69,
          36.28,
          34.07,
          28.25,
          37.54,
          39.53,
          31.48,
          29.69,
          32.49,
          35.22,
          34.09,
          35.22,
          33.79,
          37.96,
          37.03,
          37.66,
          40,
          32.44,
          35.92,
          31.86,
          35.2,
          35.89,
          35.39,
          40.53,
          40.14,
          34.91,
          38.42,
          36.59,
          30.88,
          34,
          32.64,
          30.87,
          35.15,
          31.94,
          35.39,
          37.73,
          37.77,
          32.05,
          38.36,
          42.61,
          43.19,
          38.3,
          37.46,
          31.07,
          32.51,
          33.02,
          38.61,
          28.72,
          30.44,
          30.26,
          27.53,
          34.54,
          26.54,
          27.39,
          21.2,
          33.9,
          31.71,
          34.49,
          35.72,
          27.98,
          26.02,
          29,
          27.06,
          26.39,
          24.03,
          33.17,
          27.43,
          31.39,
          28.41,
          30.16,
          29.92,
          30.02,
          29.46,
          27.31,
          28.38,
          29.64,
          30.5,
          40.23,
          39.69,
          35.81,
          34.7,
          38.75,
          30.32,
          35.07,
          29.37,
          33.09,
          31.39,
          31.19,
          31.76,
          33.84,
          30.49,
          34.47,
          29.24,
          31.72,
          38.11,
          35.69,
          37.13,
          34.04,
          33.82,
          32.46,
          30.58,
          29.93,
          34.49,
          38.16,
          32.56,
          32.54,
          32.31,
          32.6,
          29.51,
          31.26,
          32.16,
          31.26,
          33.01,
          21.27,
          23.67,
          25.79,
          29.67,
          27.15,
          22.14,
          25.69,
          23.59,
          27.62,
          24.96,
          22.79,
          22.12,
          22.21,
          22.79,
          26.82,
          25.29,
          32.84,
          26.07,
          25.56,
          26.66,
          27.64,
          26.95,
          32.4,
          27.28,
          27.28,
          29.56,
          31.61,
          37.24,
          33.4,
          36.56,
          37.67,
          33.07,
          34.88,
          39.48,
          37.77,
          41.83,
          40.1,
          39.59,
          40.66,
          31.24,
          40.21,
          39.14,
          36.4,
          38.04,
          40.48,
          36.24,
          35.22,
          37.81,
          25.1,
          26.16,
          29.65,
          25.89,
          28.43,
          27.34,
          28.71,
          30.68,
          27.69,
          33.25,
          31.54,
          28.22,
          32.02,
          38.06,
          37.31,
          33.48,
          38.79,
          42.01,
          38.08,
          34.63,
          28.4,
          32.64,
          33.01,
          38.7,
          33.66,
          34.69,
          22.25,
          27.36,
          31.42,
          31.74,
          30.62,
          29.6,
          28.29,
          37.17,
          34.45,
          37.54,
          39.44,
          42.79,
          37.86,
          37.46,
          36.98,
          41.96,
          44.3,
          39.97,
          42.35,
          37.32,
          36.4,
          35.29,
          35.55,
          33.93,
          34.74,
          36.2,
          32.68,
          30,
          30.44,
          31.34,
          29.48,
          33.72,
          28.94,
          34.8,
          21.92,
          33.07,
          31.74,
          29.56,
          37.04,
          34.65,
          33.19,
          34.38,
          36.17,
          49.94,
          38.19,
          28.88,
          28.01,
          29.1,
          32.45,
          25.68,
          31.51,
          22.32,
          20.79,
          33.29,
          49.8,
          48.35,
          46.11
         ],
         "yaxis": "y"
        }
       ],
       "layout": {
        "legend": {
         "tracegroupgap": 0
        },
        "template": {
         "data": {
          "bar": [
           {
            "error_x": {
             "color": "#2a3f5f"
            },
            "error_y": {
             "color": "#2a3f5f"
            },
            "marker": {
             "line": {
              "color": "#E5ECF6",
              "width": 0.5
             }
            },
            "type": "bar"
           }
          ],
          "barpolar": [
           {
            "marker": {
             "line": {
              "color": "#E5ECF6",
              "width": 0.5
             }
            },
            "type": "barpolar"
           }
          ],
          "carpet": [
           {
            "aaxis": {
             "endlinecolor": "#2a3f5f",
             "gridcolor": "white",
             "linecolor": "white",
             "minorgridcolor": "white",
             "startlinecolor": "#2a3f5f"
            },
            "baxis": {
             "endlinecolor": "#2a3f5f",
             "gridcolor": "white",
             "linecolor": "white",
             "minorgridcolor": "white",
             "startlinecolor": "#2a3f5f"
            },
            "type": "carpet"
           }
          ],
          "choropleth": [
           {
            "colorbar": {
             "outlinewidth": 0,
             "ticks": ""
            },
            "type": "choropleth"
           }
          ],
          "contour": [
           {
            "colorbar": {
             "outlinewidth": 0,
             "ticks": ""
            },
            "colorscale": [
             [
              0,
              "#0d0887"
             ],
             [
              0.1111111111111111,
              "#46039f"
             ],
             [
              0.2222222222222222,
              "#7201a8"
             ],
             [
              0.3333333333333333,
              "#9c179e"
             ],
             [
              0.4444444444444444,
              "#bd3786"
             ],
             [
              0.5555555555555556,
              "#d8576b"
             ],
             [
              0.6666666666666666,
              "#ed7953"
             ],
             [
              0.7777777777777778,
              "#fb9f3a"
             ],
             [
              0.8888888888888888,
              "#fdca26"
             ],
             [
              1,
              "#f0f921"
             ]
            ],
            "type": "contour"
           }
          ],
          "contourcarpet": [
           {
            "colorbar": {
             "outlinewidth": 0,
             "ticks": ""
            },
            "type": "contourcarpet"
           }
          ],
          "heatmap": [
           {
            "colorbar": {
             "outlinewidth": 0,
             "ticks": ""
            },
            "colorscale": [
             [
              0,
              "#0d0887"
             ],
             [
              0.1111111111111111,
              "#46039f"
             ],
             [
              0.2222222222222222,
              "#7201a8"
             ],
             [
              0.3333333333333333,
              "#9c179e"
             ],
             [
              0.4444444444444444,
              "#bd3786"
             ],
             [
              0.5555555555555556,
              "#d8576b"
             ],
             [
              0.6666666666666666,
              "#ed7953"
             ],
             [
              0.7777777777777778,
              "#fb9f3a"
             ],
             [
              0.8888888888888888,
              "#fdca26"
             ],
             [
              1,
              "#f0f921"
             ]
            ],
            "type": "heatmap"
           }
          ],
          "heatmapgl": [
           {
            "colorbar": {
             "outlinewidth": 0,
             "ticks": ""
            },
            "colorscale": [
             [
              0,
              "#0d0887"
             ],
             [
              0.1111111111111111,
              "#46039f"
             ],
             [
              0.2222222222222222,
              "#7201a8"
             ],
             [
              0.3333333333333333,
              "#9c179e"
             ],
             [
              0.4444444444444444,
              "#bd3786"
             ],
             [
              0.5555555555555556,
              "#d8576b"
             ],
             [
              0.6666666666666666,
              "#ed7953"
             ],
             [
              0.7777777777777778,
              "#fb9f3a"
             ],
             [
              0.8888888888888888,
              "#fdca26"
             ],
             [
              1,
              "#f0f921"
             ]
            ],
            "type": "heatmapgl"
           }
          ],
          "histogram": [
           {
            "marker": {
             "colorbar": {
              "outlinewidth": 0,
              "ticks": ""
             }
            },
            "type": "histogram"
           }
          ],
          "histogram2d": [
           {
            "colorbar": {
             "outlinewidth": 0,
             "ticks": ""
            },
            "colorscale": [
             [
              0,
              "#0d0887"
             ],
             [
              0.1111111111111111,
              "#46039f"
             ],
             [
              0.2222222222222222,
              "#7201a8"
             ],
             [
              0.3333333333333333,
              "#9c179e"
             ],
             [
              0.4444444444444444,
              "#bd3786"
             ],
             [
              0.5555555555555556,
              "#d8576b"
             ],
             [
              0.6666666666666666,
              "#ed7953"
             ],
             [
              0.7777777777777778,
              "#fb9f3a"
             ],
             [
              0.8888888888888888,
              "#fdca26"
             ],
             [
              1,
              "#f0f921"
             ]
            ],
            "type": "histogram2d"
           }
          ],
          "histogram2dcontour": [
           {
            "colorbar": {
             "outlinewidth": 0,
             "ticks": ""
            },
            "colorscale": [
             [
              0,
              "#0d0887"
             ],
             [
              0.1111111111111111,
              "#46039f"
             ],
             [
              0.2222222222222222,
              "#7201a8"
             ],
             [
              0.3333333333333333,
              "#9c179e"
             ],
             [
              0.4444444444444444,
              "#bd3786"
             ],
             [
              0.5555555555555556,
              "#d8576b"
             ],
             [
              0.6666666666666666,
              "#ed7953"
             ],
             [
              0.7777777777777778,
              "#fb9f3a"
             ],
             [
              0.8888888888888888,
              "#fdca26"
             ],
             [
              1,
              "#f0f921"
             ]
            ],
            "type": "histogram2dcontour"
           }
          ],
          "mesh3d": [
           {
            "colorbar": {
             "outlinewidth": 0,
             "ticks": ""
            },
            "type": "mesh3d"
           }
          ],
          "parcoords": [
           {
            "line": {
             "colorbar": {
              "outlinewidth": 0,
              "ticks": ""
             }
            },
            "type": "parcoords"
           }
          ],
          "pie": [
           {
            "automargin": true,
            "type": "pie"
           }
          ],
          "scatter": [
           {
            "marker": {
             "colorbar": {
              "outlinewidth": 0,
              "ticks": ""
             }
            },
            "type": "scatter"
           }
          ],
          "scatter3d": [
           {
            "line": {
             "colorbar": {
              "outlinewidth": 0,
              "ticks": ""
             }
            },
            "marker": {
             "colorbar": {
              "outlinewidth": 0,
              "ticks": ""
             }
            },
            "type": "scatter3d"
           }
          ],
          "scattercarpet": [
           {
            "marker": {
             "colorbar": {
              "outlinewidth": 0,
              "ticks": ""
             }
            },
            "type": "scattercarpet"
           }
          ],
          "scattergeo": [
           {
            "marker": {
             "colorbar": {
              "outlinewidth": 0,
              "ticks": ""
             }
            },
            "type": "scattergeo"
           }
          ],
          "scattergl": [
           {
            "marker": {
             "colorbar": {
              "outlinewidth": 0,
              "ticks": ""
             }
            },
            "type": "scattergl"
           }
          ],
          "scattermapbox": [
           {
            "marker": {
             "colorbar": {
              "outlinewidth": 0,
              "ticks": ""
             }
            },
            "type": "scattermapbox"
           }
          ],
          "scatterpolar": [
           {
            "marker": {
             "colorbar": {
              "outlinewidth": 0,
              "ticks": ""
             }
            },
            "type": "scatterpolar"
           }
          ],
          "scatterpolargl": [
           {
            "marker": {
             "colorbar": {
              "outlinewidth": 0,
              "ticks": ""
             }
            },
            "type": "scatterpolargl"
           }
          ],
          "scatterternary": [
           {
            "marker": {
             "colorbar": {
              "outlinewidth": 0,
              "ticks": ""
             }
            },
            "type": "scatterternary"
           }
          ],
          "surface": [
           {
            "colorbar": {
             "outlinewidth": 0,
             "ticks": ""
            },
            "colorscale": [
             [
              0,
              "#0d0887"
             ],
             [
              0.1111111111111111,
              "#46039f"
             ],
             [
              0.2222222222222222,
              "#7201a8"
             ],
             [
              0.3333333333333333,
              "#9c179e"
             ],
             [
              0.4444444444444444,
              "#bd3786"
             ],
             [
              0.5555555555555556,
              "#d8576b"
             ],
             [
              0.6666666666666666,
              "#ed7953"
             ],
             [
              0.7777777777777778,
              "#fb9f3a"
             ],
             [
              0.8888888888888888,
              "#fdca26"
             ],
             [
              1,
              "#f0f921"
             ]
            ],
            "type": "surface"
           }
          ],
          "table": [
           {
            "cells": {
             "fill": {
              "color": "#EBF0F8"
             },
             "line": {
              "color": "white"
             }
            },
            "header": {
             "fill": {
              "color": "#C8D4E3"
             },
             "line": {
              "color": "white"
             }
            },
            "type": "table"
           }
          ]
         },
         "layout": {
          "annotationdefaults": {
           "arrowcolor": "#2a3f5f",
           "arrowhead": 0,
           "arrowwidth": 1
          },
          "autotypenumbers": "strict",
          "coloraxis": {
           "colorbar": {
            "outlinewidth": 0,
            "ticks": ""
           }
          },
          "colorscale": {
           "diverging": [
            [
             0,
             "#8e0152"
            ],
            [
             0.1,
             "#c51b7d"
            ],
            [
             0.2,
             "#de77ae"
            ],
            [
             0.3,
             "#f1b6da"
            ],
            [
             0.4,
             "#fde0ef"
            ],
            [
             0.5,
             "#f7f7f7"
            ],
            [
             0.6,
             "#e6f5d0"
            ],
            [
             0.7,
             "#b8e186"
            ],
            [
             0.8,
             "#7fbc41"
            ],
            [
             0.9,
             "#4d9221"
            ],
            [
             1,
             "#276419"
            ]
           ],
           "sequential": [
            [
             0,
             "#0d0887"
            ],
            [
             0.1111111111111111,
             "#46039f"
            ],
            [
             0.2222222222222222,
             "#7201a8"
            ],
            [
             0.3333333333333333,
             "#9c179e"
            ],
            [
             0.4444444444444444,
             "#bd3786"
            ],
            [
             0.5555555555555556,
             "#d8576b"
            ],
            [
             0.6666666666666666,
             "#ed7953"
            ],
            [
             0.7777777777777778,
             "#fb9f3a"
            ],
            [
             0.8888888888888888,
             "#fdca26"
            ],
            [
             1,
             "#f0f921"
            ]
           ],
           "sequentialminus": [
            [
             0,
             "#0d0887"
            ],
            [
             0.1111111111111111,
             "#46039f"
            ],
            [
             0.2222222222222222,
             "#7201a8"
            ],
            [
             0.3333333333333333,
             "#9c179e"
            ],
            [
             0.4444444444444444,
             "#bd3786"
            ],
            [
             0.5555555555555556,
             "#d8576b"
            ],
            [
             0.6666666666666666,
             "#ed7953"
            ],
            [
             0.7777777777777778,
             "#fb9f3a"
            ],
            [
             0.8888888888888888,
             "#fdca26"
            ],
            [
             1,
             "#f0f921"
            ]
           ]
          },
          "colorway": [
           "#636efa",
           "#EF553B",
           "#00cc96",
           "#ab63fa",
           "#FFA15A",
           "#19d3f3",
           "#FF6692",
           "#B6E880",
           "#FF97FF",
           "#FECB52"
          ],
          "font": {
           "color": "#2a3f5f"
          },
          "geo": {
           "bgcolor": "white",
           "lakecolor": "white",
           "landcolor": "#E5ECF6",
           "showlakes": true,
           "showland": true,
           "subunitcolor": "white"
          },
          "hoverlabel": {
           "align": "left"
          },
          "hovermode": "closest",
          "mapbox": {
           "style": "light"
          },
          "paper_bgcolor": "white",
          "plot_bgcolor": "#E5ECF6",
          "polar": {
           "angularaxis": {
            "gridcolor": "white",
            "linecolor": "white",
            "ticks": ""
           },
           "bgcolor": "#E5ECF6",
           "radialaxis": {
            "gridcolor": "white",
            "linecolor": "white",
            "ticks": ""
           }
          },
          "scene": {
           "xaxis": {
            "backgroundcolor": "#E5ECF6",
            "gridcolor": "white",
            "gridwidth": 2,
            "linecolor": "white",
            "showbackground": true,
            "ticks": "",
            "zerolinecolor": "white"
           },
           "yaxis": {
            "backgroundcolor": "#E5ECF6",
            "gridcolor": "white",
            "gridwidth": 2,
            "linecolor": "white",
            "showbackground": true,
            "ticks": "",
            "zerolinecolor": "white"
           },
           "zaxis": {
            "backgroundcolor": "#E5ECF6",
            "gridcolor": "white",
            "gridwidth": 2,
            "linecolor": "white",
            "showbackground": true,
            "ticks": "",
            "zerolinecolor": "white"
           }
          },
          "shapedefaults": {
           "line": {
            "color": "#2a3f5f"
           }
          },
          "ternary": {
           "aaxis": {
            "gridcolor": "white",
            "linecolor": "white",
            "ticks": ""
           },
           "baxis": {
            "gridcolor": "white",
            "linecolor": "white",
            "ticks": ""
           },
           "bgcolor": "#E5ECF6",
           "caxis": {
            "gridcolor": "white",
            "linecolor": "white",
            "ticks": ""
           }
          },
          "title": {
           "x": 0.05
          },
          "xaxis": {
           "automargin": true,
           "gridcolor": "white",
           "linecolor": "white",
           "ticks": "",
           "title": {
            "standoff": 15
           },
           "zerolinecolor": "white",
           "zerolinewidth": 2
          },
          "yaxis": {
           "automargin": true,
           "gridcolor": "white",
           "linecolor": "white",
           "ticks": "",
           "title": {
            "standoff": 15
           },
           "zerolinecolor": "white",
           "zerolinewidth": 2
          }
         }
        },
        "title": {
         "text": "Rompimento7Dias x Rompimento 28 Dias"
        },
        "xaxis": {
         "anchor": "y",
         "domain": [
          0,
          1
         ],
         "title": {
          "text": "RelacaoAguaCimento"
         }
        },
        "yaxis": {
         "anchor": "x",
         "domain": [
          0,
          1
         ],
         "title": {
          "text": "Rompimento28Dias"
         }
        }
       }
      },
      "text/html": [
       "<div>                            <div id=\"13eaa856-b48f-4591-8c98-807dffaf2abb\" class=\"plotly-graph-div\" style=\"height:525px; width:100%;\"></div>            <script type=\"text/javascript\">                require([\"plotly\"], function(Plotly) {                    window.PLOTLYENV=window.PLOTLYENV || {};                                    if (document.getElementById(\"13eaa856-b48f-4591-8c98-807dffaf2abb\")) {                    Plotly.newPlot(                        \"13eaa856-b48f-4591-8c98-807dffaf2abb\",                        [{\"hovertemplate\": \"RelacaoAguaCimento=%{x}<br>Rompimento28Dias=%{y}<extra></extra>\", \"legendgroup\": \"\", \"marker\": {\"color\": \"#636efa\", \"symbol\": \"circle\"}, \"mode\": \"markers\", \"name\": \"\", \"orientation\": \"v\", \"showlegend\": false, \"type\": \"scatter\", \"x\": [0.5386740331491713, 0.559375, 0.678125, 0.678125, 0.678125, 0.5802469135802469, 0.5802469135802469, 0.5802469135802469, 0.6697530864197531, 0.616822429906542, 0.616822429906542, 0.616822429906542, 0.616822429906542, 0.9230769230769232, 0.9123711340206184, 0.5338983050847458, 0.5282485875706214, 0.5338983050847458, 0.5338983050847458, 0.5338983050847458, 0.5338983050847458, 0.5338983050847458, 0.53954802259887, 0.4932975871313673, 0.4932975871313673, 0.4932975871313673, 0.4932975871313673, 0.4932975871313673, 0.4932975871313673, 0.4423592493297587, 0.4060913705583756, 0.4060913705583756, 0.4060913705583756, 0.4060913705583756, 0.4060913705583756, 0.4060913705583756, 0.4060913705583756, 0.4060913705583756, 0.4342053885201093, 0.44416243654822335, 0.4289340101522843, 0.434010152284264, 0.434010152284264, 0.434010152284264, 0.434010152284264, 0.434010152284264, 0.4137055837563452, 0.4137055837563452, 0.4060913705583756, 0.4060913705583756, 0.4060913705583756, 0.4060913705583756, 0.39867239359625145, 0.5412087912087912, 0.5412087912087912, 0.5412087912087912, 0.5412087912087912, 0.5412087912087912, 0.5412087912087912, 0.5412087912087912, 0.5412087912087912, 0.5412087912087912, 0.4120879120879121, 0.4120879120879121, 0.5420054200542005, 0.5311653116531165, 0.6182572614107884, 0.6182572614107884, 0.6182572614107884, 0.6182572614107884, 0.6016597510373444, 0.5518672199170125, 0.5684647302904564, 0.5601659751037344, 0.5601659751037344, 0.5684647302904564, 0.5684647302904564, 0.7811158798283262, 0.8127853881278538, 0.8127853881278538, 0.8264840182648402, 0.8401826484018264, 0.8401826484018264, 0.8401826484018264, 0.8401826484018264, 0.8401826484018264, 0.8401826484018264, 0.8264840182648402, 0.8264840182648402, 0.8264840182648402, 0.8264840182648402, 0.776824034334764, 0.7552742616033755, 0.7412280701754386, 0.7324561403508771, 0.4303477344573235, 0.475, 0.5175, 0.4825, 0.4825, 0.4825, 0.4825, 0.4825, 0.4825, 0.4825, 0.5, 0.5376712328767124, 0.5958904109589042, 0.5958904109589042, 0.5682656826568265, 0.5709342560553633, 0.5709342560553633, 0.5709342560553633, 0.5605536332179931, 0.5605536332179931, 0.5190311418685121, 0.6794425087108014, 0.6832740213523132, 0.6832740213523132, 0.5587188612099644, 0.4937106918238994, 0.4937106918238994, 0.4622641509433962, 0.4622641509433962, 0.4622641509433962, 0.4622641509433962, 0.4716981132075472, 0.4716981132075472, 0.6146496815286624, 0.6372881355932203, 0.6324503311258278, 0.6324503311258278, 0.6490066225165563, 0.6490066225165563, 0.6490066225165563, 0.6357615894039735, 0.6158940397350994, 0.6158940397350994, 0.6158940397350994, 0.6158940397350994, 0.6096774193548387, 0.6096774193548387, 0.6096774193548387, 0.6096774193548387, 0.6096774193548387, 0.6096774193548387, 0.6096774193548387, 0.6141479099678456, 0.6187290969899666, 0.6220735785953178, 0.6287625418060201, 0.6472602739726028, 0.6267123287671232, 0.6702898550724637, 0.6702898550724637, 0.6702898550724637, 0.6702898550724637, 0.6702898550724637, 0.7105263157894737, 0.7105263157894737, 0.7269230769230769, 0.7142857142857143, 0.7142857142857143, 0.7255639097744361, 0.6084142394822006, 0.5125, 0.5125, 0.5225, 0.5225, 0.5225, 0.5225, 0.5, 0.4925, 0.4925, 0.4925, 0.4925, 0.4925, 0.4825, 0.41116751269035534, 0.5588235294117647, 0.5, 0.5, 0.5330882352941176, 0.5073529411764706, 0.5073529411764706, 0.5073529411764706, 0.5183823529411765, 0.5183823529411765, 0.5588235294117647, 0.5183823529411765, 0.5183823529411765, 0.5183823529411765, 0.5187165775401069, 0.703125, 0.703125, 0.703125, 0.6908396946564885, 0.6717557251908397, 0.6856060606060606, 0.678030303030303, 0.6590909090909091, 0.6856060606060606, 0.6439393939393939, 0.6856060606060606, 0.6856060606060606, 0.6856060606060606, 0.6818181818181818, 0.6818181818181818, 0.7131147540983607, 0.7377049180327869, 0.639344262295082, 0.6311475409836066, 0.6311475409836066, 0.6311475409836066, 0.6309012875536479, 0.7665198237885462, 0.8017621145374451, 0.7841409691629956, 0.8144796380090498, 0.8017621145374451, 0.6893939393939394, 0.5359712230215827, 0.5035971223021583, 0.5179856115107914, 0.5359712230215827, 0.68, 0.4861538461538462, 0.4861538461538462, 0.4646153846153846, 0.4646153846153846, 0.4646153846153846, 0.4738461538461538, 0.4738461538461538, 0.4953846153846154, 0.4953846153846154, 0.4953846153846154, 0.4953846153846154, 0.4953846153846154, 0.4953846153846154, 0.6132075471698113, 0.610062893081761, 0.610062893081761, 0.5835866261398176, 0.5835866261398176, 0.5835866261398176, 0.5927051671732523, 0.5927051671732523, 0.5927051671732523, 0.5927051671732523, 0.5927051671732523, 0.5927051671732523, 0.5927051671732523, 0.6416938110749185, 0.6416938110749185, 0.6175548589341693, 0.6175548589341693, 0.6175548589341693, 0.5422885572139303, 0.5422885572139303, 0.4951690821256038, 0.6261682242990654, 0.6261682242990654, 0.6261682242990654, 0.6261682242990654, 0.6261682242990654, 0.6323987538940811, 0.6323987538940811, 0.6326064382139148, 0.7208480565371025, 0.7326007326007326, 0.746268656716418, 0.7326007326007326, 0.7326007326007326, 0.7352941176470589, 0.7670682730923695, 0.7670682730923695, 0.7991803278688525, 0.6797153024911032, 0.6797153024911032, 0.6797153024911032, 0.6797153024911032, 0.7089552238805971, 0.7089552238805971, 0.7089552238805971, 0.7089552238805971, 0.7276119402985075, 0.7276119402985075, 0.7089552238805971, 0.6902985074626866, 0.6902985074626866, 0.6902985074626866, 0.6902985074626866, 0.7014925373134329, 0.7014925373134329, 0.6925894618202311, 0.6992481203007519, 0.7014925373134329, 0.7014925373134329, 0.6865671641791045, 0.6581818181818182, 0.6436363636363637, 0.509090909090909, 0.509090909090909, 0.509090909090909, 0.7391304347826086, 0.7391304347826086, 0.7391304347826086, 0.7391304347826086, 0.7391304347826086, 0.7391304347826086, 0.7391304347826086, 0.7470355731225297, 0.7470355731225297, 0.7470355731225297, 0.7233201581027668, 0.7233201581027668, 0.7233201581027668, 0.7233201581027668, 0.7233201581027668, 0.7233201581027668, 0.7233201581027668, 0.7233201581027668, 0.7233201581027668, 0.7430830039525692, 0.7391304347826086, 0.7391304347826086, 0.7391304347826086, 0.7391304347826086, 0.7401574803149606, 0.7322834645669292, 0.7401574803149606, 0.7401574803149606, 0.7401574803149606, 0.7401574803149606, 0.7401574803149606, 0.8430493273542601, 0.8209606986899564, 0.8384279475982532, 0.8209606986899564, 0.8384279475982532, 0.8296943231441049, 0.8296943231441049, 0.8296943231441049, 0.8296943231441049, 0.852017937219731, 0.8296943231441049, 0.852017937219731, 0.8296943231441049, 0.8384279475982532, 0.8427947598253275, 0.8427947598253275, 0.8427947598253275, 0.7161572052401747, 0.7161572052401747, 0.7161572052401747, 0.7161572052401747, 0.7161572052401747, 0.7116104868913857, 0.704119850187266, 0.7203065134099617, 0.6859205776173285, 0.6859205776173285, 0.6859205776173285, 0.6859205776173285, 0.6859205776173285, 0.6859205776173285, 0.6787003610108303, 0.6787003610108303, 0.5837837837837838, 0.5783783783783784, 0.5783783783783784, 0.5783783783783784, 0.5783783783783784, 0.5783783783783784, 0.6101694915254238, 0.6044749188018765, 0.5947712418300654, 0.5947712418300654, 0.5947712418300654, 0.5980392156862745, 0.5980392156862745, 0.6405228758169934, 0.6405228758169934, 0.5855855855855856, 0.5855855855855856, 0.5855855855855856, 0.5855855855855856, 0.5855855855855856, 0.5855855855855856, 0.5825825825825826, 0.5825825825825826, 0.5825825825825826, 0.486646884272997, 0.486646884272997, 0.486646884272997, 0.4875621890547264, 0.4875621890547264, 0.4875621890547264, 0.4875621890547264, 0.41791044776119396, 0.41791044776119396, 0.41791044776119396, 0.482587064676617, 0.482587064676617, 0.482587064676617, 0.482587064676617, 0.482587064676617, 0.482587064676617, 0.482587064676617, 0.7738095238095238, 0.7658730158730159, 0.6113289760348584, 0.6113289760348584, 0.6274509803921569, 0.6274509803921569, 0.6274509803921569, 0.6111111111111112, 0.6158536585365854, 0.5911764705882353, 0.5970588235294118, 0.5941176470588235, 0.5941176470588235, 0.5941176470588235, 0.5941176470588235, 0.5941176470588235, 0.5941176470588235, 0.5852941176470589, 0.5852941176470589, 0.5941176470588235, 0.5941176470588235, 0.6349206349206349, 0.6349206349206349, 0.6349206349206349, 0.6349206349206349, 0.6285714285714286, 0.6317460317460317, 0.6317460317460317, 0.6822742474916388, 0.6666666666666666, 0.6925795053003534, 0.6925795053003534, 0.6925795053003534, 0.6925795053003534, 0.8, 0.5396419437340153, 0.5396419437340153, 0.5396419437340153, 0.5370843989769821, 0.6881028938906752, 0.480952380952381, 0.4880952380952381, 0.4880952380952381, 0.554016620498615, 0.554016620498615, 0.6391752577319587, 0.7052631578947368, 0.6779661016949152, 0.6779661016949152, 0.688135593220339, 0.688135593220339, 0.8546255506607929, 0.8595203132648067, 0.76171875, 0.55, 0.55, 0.55], \"xaxis\": \"x\", \"y\": [35.08, 33.4, 31.72, 31.12, 28.39, 29.7, 27.47, 27.61, 31.63, 26.3, 27.13, 22.49, 24.66, 16.96, 20.15, 30.93, 31.9, 31.3, 30.83, 31.02, 30.3, 30.6, 30.6, 33.52, 32.47, 32.41, 32.14, 33.9, 32.83, 35.01, 51.28, 43.52, 42.89, 49.06, 44.21, 45.48, 44.6, 38.14, 33.43, 46.48, 46.74, 46.78, 42.62, 46.6, 46.46, 52.0, 49.79, 51.63, 49.51, 41.84, 38.95, 52.97, 49.15, 33.26, 33.77, 38.85, 37.04, 35.9, 37.06, 36.23, 33.84, 36.62, 33.86, 36.65, 34.59, 37.24, 25.32, 26.27, 25.46, 28.11, 30.02, 25.0, 31.89, 30.4, 30.58, 32.55, 27.38, 23.81, 22.79, 20.28, 23.33, 24.34, 20.74, 18.1, 21.53, 22.81, 20.43, 21.72, 20.52, 23.31, 22.72, 22.04, 24.11, 26.34, 25.23, 39.12, 34.09, 31.18, 31.25, 30.49, 31.01, 34.94, 34.73, 33.26, 30.4, 39.45, 36.56, 37.59, 34.38, 27.27, 26.77, 24.99, 26.67, 29.5, 29.06, 31.79, 27.15, 28.49, 29.67, 28.73, 38.37, 37.64, 44.87, 43.54, 45.08, 37.38, 44.91, 37.72, 35.68, 31.77, 30.22, 32.61, 33.11, 36.06, 33.79, 31.01, 34.14, 36.59, 32.32, 36.4, 35.01, 36.48, 35.68, 37.27, 38.2, 39.58, 41.4, 38.88, 37.34, 33.03, 37.85, 36.12, 41.45, 32.42, 33.51, 37.2, 33.63, 38.44, 32.46, 32.78, 28.08, 33.8, 30.87, 26.86, 40.19, 38.51, 39.11, 43.12, 39.79, 38.92, 40.86, 42.29, 33.2, 34.45, 38.18, 43.15, 37.24, 34.5, 45.71, 29.78, 27.93, 30.76, 35.22, 36.01, 29.84, 30.51, 28.5, 32.35, 34.28, 32.74, 33.45, 33.71, 30.4, 29.56, 27.56, 28.85, 29.74, 30.78, 28.53, 31.74, 32.92, 35.62, 38.09, 36.31, 37.81, 35.4, 36.2, 35.11, 30.0, 26.39, 27.87, 28.99, 25.41, 25.14, 29.98, 25.54, 25.21, 32.73, 25.01, 24.54, 34.88, 29.67, 30.69, 36.28, 34.07, 28.25, 37.54, 39.53, 31.48, 29.69, 32.49, 35.22, 34.09, 35.22, 33.79, 37.96, 37.03, 37.66, 40.0, 32.44, 35.92, 31.86, 35.2, 35.89, 35.39, 40.53, 40.14, 34.91, 38.42, 36.59, 30.88, 34.0, 32.64, 30.87, 35.15, 31.94, 35.39, 37.73, 37.77, 32.05, 38.36, 42.61, 43.19, 38.3, 37.46, 31.07, 32.51, 33.02, 38.61, 28.72, 30.44, 30.26, 27.53, 34.54, 26.54, 27.39, 21.2, 33.9, 31.71, 34.49, 35.72, 27.98, 26.02, 29.0, 27.06, 26.39, 24.03, 33.17, 27.43, 31.39, 28.41, 30.16, 29.92, 30.02, 29.46, 27.31, 28.38, 29.64, 30.5, 40.23, 39.69, 35.81, 34.7, 38.75, 30.32, 35.07, 29.37, 33.09, 31.39, 31.19, 31.76, 33.84, 30.49, 34.47, 29.24, 31.72, 38.11, 35.69, 37.13, 34.04, 33.82, 32.46, 30.58, 29.93, 34.49, 38.16, 32.56, 32.54, 32.31, 32.6, 29.51, 31.26, 32.16, 31.26, 33.01, 21.27, 23.67, 25.79, 29.67, 27.15, 22.14, 25.69, 23.59, 27.62, 24.96, 22.79, 22.12, 22.21, 22.79, 26.82, 25.29, 32.84, 26.07, 25.56, 26.66, 27.64, 26.95, 32.4, 27.28, 27.28, 29.56, 31.61, 37.24, 33.4, 36.56, 37.67, 33.07, 34.88, 39.48, 37.77, 41.83, 40.1, 39.59, 40.66, 31.24, 40.21, 39.14, 36.4, 38.04, 40.48, 36.24, 35.22, 37.81, 25.1, 26.16, 29.65, 25.89, 28.43, 27.34, 28.71, 30.68, 27.69, 33.25, 31.54, 28.22, 32.02, 38.06, 37.31, 33.48, 38.79, 42.01, 38.08, 34.63, 28.4, 32.64, 33.01, 38.7, 33.66, 34.69, 22.25, 27.36, 31.42, 31.74, 30.62, 29.6, 28.29, 37.17, 34.45, 37.54, 39.44, 42.79, 37.86, 37.46, 36.98, 41.96, 44.3, 39.97, 42.35, 37.32, 36.4, 35.29, 35.55, 33.93, 34.74, 36.2, 32.68, 30.0, 30.44, 31.34, 29.48, 33.72, 28.94, 34.8, 21.92, 33.07, 31.74, 29.56, 37.04, 34.65, 33.19, 34.38, 36.17, 49.94, 38.19, 28.88, 28.01, 29.1, 32.45, 25.68, 31.51, 22.32, 20.79, 33.29, 49.8, 48.35, 46.11], \"yaxis\": \"y\"}],                        {\"legend\": {\"tracegroupgap\": 0}, \"template\": {\"data\": {\"bar\": [{\"error_x\": {\"color\": \"#2a3f5f\"}, \"error_y\": {\"color\": \"#2a3f5f\"}, \"marker\": {\"line\": {\"color\": \"#E5ECF6\", \"width\": 0.5}}, \"type\": \"bar\"}], \"barpolar\": [{\"marker\": {\"line\": {\"color\": \"#E5ECF6\", \"width\": 0.5}}, \"type\": \"barpolar\"}], \"carpet\": [{\"aaxis\": {\"endlinecolor\": \"#2a3f5f\", \"gridcolor\": \"white\", \"linecolor\": \"white\", \"minorgridcolor\": \"white\", \"startlinecolor\": \"#2a3f5f\"}, \"baxis\": {\"endlinecolor\": \"#2a3f5f\", \"gridcolor\": \"white\", \"linecolor\": \"white\", \"minorgridcolor\": \"white\", \"startlinecolor\": \"#2a3f5f\"}, \"type\": \"carpet\"}], \"choropleth\": [{\"colorbar\": {\"outlinewidth\": 0, \"ticks\": \"\"}, \"type\": \"choropleth\"}], \"contour\": [{\"colorbar\": {\"outlinewidth\": 0, \"ticks\": \"\"}, \"colorscale\": [[0.0, \"#0d0887\"], [0.1111111111111111, \"#46039f\"], [0.2222222222222222, \"#7201a8\"], [0.3333333333333333, \"#9c179e\"], [0.4444444444444444, \"#bd3786\"], [0.5555555555555556, \"#d8576b\"], [0.6666666666666666, \"#ed7953\"], [0.7777777777777778, \"#fb9f3a\"], [0.8888888888888888, \"#fdca26\"], [1.0, \"#f0f921\"]], \"type\": \"contour\"}], \"contourcarpet\": [{\"colorbar\": {\"outlinewidth\": 0, \"ticks\": \"\"}, \"type\": \"contourcarpet\"}], \"heatmap\": [{\"colorbar\": {\"outlinewidth\": 0, \"ticks\": \"\"}, \"colorscale\": [[0.0, \"#0d0887\"], [0.1111111111111111, \"#46039f\"], [0.2222222222222222, \"#7201a8\"], [0.3333333333333333, \"#9c179e\"], [0.4444444444444444, \"#bd3786\"], [0.5555555555555556, \"#d8576b\"], [0.6666666666666666, \"#ed7953\"], [0.7777777777777778, \"#fb9f3a\"], [0.8888888888888888, \"#fdca26\"], [1.0, \"#f0f921\"]], \"type\": \"heatmap\"}], \"heatmapgl\": [{\"colorbar\": {\"outlinewidth\": 0, \"ticks\": \"\"}, \"colorscale\": [[0.0, \"#0d0887\"], [0.1111111111111111, \"#46039f\"], [0.2222222222222222, \"#7201a8\"], [0.3333333333333333, \"#9c179e\"], [0.4444444444444444, \"#bd3786\"], [0.5555555555555556, \"#d8576b\"], [0.6666666666666666, \"#ed7953\"], [0.7777777777777778, \"#fb9f3a\"], [0.8888888888888888, \"#fdca26\"], [1.0, \"#f0f921\"]], \"type\": \"heatmapgl\"}], \"histogram\": [{\"marker\": {\"colorbar\": {\"outlinewidth\": 0, \"ticks\": \"\"}}, \"type\": \"histogram\"}], \"histogram2d\": [{\"colorbar\": {\"outlinewidth\": 0, \"ticks\": \"\"}, \"colorscale\": [[0.0, \"#0d0887\"], [0.1111111111111111, \"#46039f\"], [0.2222222222222222, \"#7201a8\"], [0.3333333333333333, \"#9c179e\"], [0.4444444444444444, \"#bd3786\"], [0.5555555555555556, \"#d8576b\"], [0.6666666666666666, \"#ed7953\"], [0.7777777777777778, \"#fb9f3a\"], [0.8888888888888888, \"#fdca26\"], [1.0, \"#f0f921\"]], \"type\": \"histogram2d\"}], \"histogram2dcontour\": [{\"colorbar\": {\"outlinewidth\": 0, \"ticks\": \"\"}, \"colorscale\": [[0.0, \"#0d0887\"], [0.1111111111111111, \"#46039f\"], [0.2222222222222222, \"#7201a8\"], [0.3333333333333333, \"#9c179e\"], [0.4444444444444444, \"#bd3786\"], [0.5555555555555556, \"#d8576b\"], [0.6666666666666666, \"#ed7953\"], [0.7777777777777778, \"#fb9f3a\"], [0.8888888888888888, \"#fdca26\"], [1.0, \"#f0f921\"]], \"type\": \"histogram2dcontour\"}], \"mesh3d\": [{\"colorbar\": {\"outlinewidth\": 0, \"ticks\": \"\"}, \"type\": \"mesh3d\"}], \"parcoords\": [{\"line\": {\"colorbar\": {\"outlinewidth\": 0, \"ticks\": \"\"}}, \"type\": \"parcoords\"}], \"pie\": [{\"automargin\": true, \"type\": \"pie\"}], \"scatter\": [{\"marker\": {\"colorbar\": {\"outlinewidth\": 0, \"ticks\": \"\"}}, \"type\": \"scatter\"}], \"scatter3d\": [{\"line\": {\"colorbar\": {\"outlinewidth\": 0, \"ticks\": \"\"}}, \"marker\": {\"colorbar\": {\"outlinewidth\": 0, \"ticks\": \"\"}}, \"type\": \"scatter3d\"}], \"scattercarpet\": [{\"marker\": {\"colorbar\": {\"outlinewidth\": 0, \"ticks\": \"\"}}, \"type\": \"scattercarpet\"}], \"scattergeo\": [{\"marker\": {\"colorbar\": {\"outlinewidth\": 0, \"ticks\": \"\"}}, \"type\": \"scattergeo\"}], \"scattergl\": [{\"marker\": {\"colorbar\": {\"outlinewidth\": 0, \"ticks\": \"\"}}, \"type\": \"scattergl\"}], \"scattermapbox\": [{\"marker\": {\"colorbar\": {\"outlinewidth\": 0, \"ticks\": \"\"}}, \"type\": \"scattermapbox\"}], \"scatterpolar\": [{\"marker\": {\"colorbar\": {\"outlinewidth\": 0, \"ticks\": \"\"}}, \"type\": \"scatterpolar\"}], \"scatterpolargl\": [{\"marker\": {\"colorbar\": {\"outlinewidth\": 0, \"ticks\": \"\"}}, \"type\": \"scatterpolargl\"}], \"scatterternary\": [{\"marker\": {\"colorbar\": {\"outlinewidth\": 0, \"ticks\": \"\"}}, \"type\": \"scatterternary\"}], \"surface\": [{\"colorbar\": {\"outlinewidth\": 0, \"ticks\": \"\"}, \"colorscale\": [[0.0, \"#0d0887\"], [0.1111111111111111, \"#46039f\"], [0.2222222222222222, \"#7201a8\"], [0.3333333333333333, \"#9c179e\"], [0.4444444444444444, \"#bd3786\"], [0.5555555555555556, \"#d8576b\"], [0.6666666666666666, \"#ed7953\"], [0.7777777777777778, \"#fb9f3a\"], [0.8888888888888888, \"#fdca26\"], [1.0, \"#f0f921\"]], \"type\": \"surface\"}], \"table\": [{\"cells\": {\"fill\": {\"color\": \"#EBF0F8\"}, \"line\": {\"color\": \"white\"}}, \"header\": {\"fill\": {\"color\": \"#C8D4E3\"}, \"line\": {\"color\": \"white\"}}, \"type\": \"table\"}]}, \"layout\": {\"annotationdefaults\": {\"arrowcolor\": \"#2a3f5f\", \"arrowhead\": 0, \"arrowwidth\": 1}, \"autotypenumbers\": \"strict\", \"coloraxis\": {\"colorbar\": {\"outlinewidth\": 0, \"ticks\": \"\"}}, \"colorscale\": {\"diverging\": [[0, \"#8e0152\"], [0.1, \"#c51b7d\"], [0.2, \"#de77ae\"], [0.3, \"#f1b6da\"], [0.4, \"#fde0ef\"], [0.5, \"#f7f7f7\"], [0.6, \"#e6f5d0\"], [0.7, \"#b8e186\"], [0.8, \"#7fbc41\"], [0.9, \"#4d9221\"], [1, \"#276419\"]], \"sequential\": [[0.0, \"#0d0887\"], [0.1111111111111111, \"#46039f\"], [0.2222222222222222, \"#7201a8\"], [0.3333333333333333, \"#9c179e\"], [0.4444444444444444, \"#bd3786\"], [0.5555555555555556, \"#d8576b\"], [0.6666666666666666, \"#ed7953\"], [0.7777777777777778, \"#fb9f3a\"], [0.8888888888888888, \"#fdca26\"], [1.0, \"#f0f921\"]], \"sequentialminus\": [[0.0, \"#0d0887\"], [0.1111111111111111, \"#46039f\"], [0.2222222222222222, \"#7201a8\"], [0.3333333333333333, \"#9c179e\"], [0.4444444444444444, \"#bd3786\"], [0.5555555555555556, \"#d8576b\"], [0.6666666666666666, \"#ed7953\"], [0.7777777777777778, \"#fb9f3a\"], [0.8888888888888888, \"#fdca26\"], [1.0, \"#f0f921\"]]}, \"colorway\": [\"#636efa\", \"#EF553B\", \"#00cc96\", \"#ab63fa\", \"#FFA15A\", \"#19d3f3\", \"#FF6692\", \"#B6E880\", \"#FF97FF\", \"#FECB52\"], \"font\": {\"color\": \"#2a3f5f\"}, \"geo\": {\"bgcolor\": \"white\", \"lakecolor\": \"white\", \"landcolor\": \"#E5ECF6\", \"showlakes\": true, \"showland\": true, \"subunitcolor\": \"white\"}, \"hoverlabel\": {\"align\": \"left\"}, \"hovermode\": \"closest\", \"mapbox\": {\"style\": \"light\"}, \"paper_bgcolor\": \"white\", \"plot_bgcolor\": \"#E5ECF6\", \"polar\": {\"angularaxis\": {\"gridcolor\": \"white\", \"linecolor\": \"white\", \"ticks\": \"\"}, \"bgcolor\": \"#E5ECF6\", \"radialaxis\": {\"gridcolor\": \"white\", \"linecolor\": \"white\", \"ticks\": \"\"}}, \"scene\": {\"xaxis\": {\"backgroundcolor\": \"#E5ECF6\", \"gridcolor\": \"white\", \"gridwidth\": 2, \"linecolor\": \"white\", \"showbackground\": true, \"ticks\": \"\", \"zerolinecolor\": \"white\"}, \"yaxis\": {\"backgroundcolor\": \"#E5ECF6\", \"gridcolor\": \"white\", \"gridwidth\": 2, \"linecolor\": \"white\", \"showbackground\": true, \"ticks\": \"\", \"zerolinecolor\": \"white\"}, \"zaxis\": {\"backgroundcolor\": \"#E5ECF6\", \"gridcolor\": \"white\", \"gridwidth\": 2, \"linecolor\": \"white\", \"showbackground\": true, \"ticks\": \"\", \"zerolinecolor\": \"white\"}}, \"shapedefaults\": {\"line\": {\"color\": \"#2a3f5f\"}}, \"ternary\": {\"aaxis\": {\"gridcolor\": \"white\", \"linecolor\": \"white\", \"ticks\": \"\"}, \"baxis\": {\"gridcolor\": \"white\", \"linecolor\": \"white\", \"ticks\": \"\"}, \"bgcolor\": \"#E5ECF6\", \"caxis\": {\"gridcolor\": \"white\", \"linecolor\": \"white\", \"ticks\": \"\"}}, \"title\": {\"x\": 0.05}, \"xaxis\": {\"automargin\": true, \"gridcolor\": \"white\", \"linecolor\": \"white\", \"ticks\": \"\", \"title\": {\"standoff\": 15}, \"zerolinecolor\": \"white\", \"zerolinewidth\": 2}, \"yaxis\": {\"automargin\": true, \"gridcolor\": \"white\", \"linecolor\": \"white\", \"ticks\": \"\", \"title\": {\"standoff\": 15}, \"zerolinecolor\": \"white\", \"zerolinewidth\": 2}}}, \"title\": {\"text\": \"Rompimento7Dias x Rompimento 28 Dias\"}, \"xaxis\": {\"anchor\": \"y\", \"domain\": [0.0, 1.0], \"title\": {\"text\": \"RelacaoAguaCimento\"}}, \"yaxis\": {\"anchor\": \"x\", \"domain\": [0.0, 1.0], \"title\": {\"text\": \"Rompimento28Dias\"}}},                        {\"responsive\": true}                    ).then(function(){\n",
       "                            \n",
       "var gd = document.getElementById('13eaa856-b48f-4591-8c98-807dffaf2abb');\n",
       "var x = new MutationObserver(function (mutations, observer) {{\n",
       "        var display = window.getComputedStyle(gd).display;\n",
       "        if (!display || display === 'none') {{\n",
       "            console.log([gd, 'removed!']);\n",
       "            Plotly.purge(gd);\n",
       "            observer.disconnect();\n",
       "        }}\n",
       "}});\n",
       "\n",
       "// Listen for the removal of the full notebook cells\n",
       "var notebookContainer = gd.closest('#notebook-container');\n",
       "if (notebookContainer) {{\n",
       "    x.observe(notebookContainer, {childList: true});\n",
       "}}\n",
       "\n",
       "// Listen for the clearing of the current output cell\n",
       "var outputEl = gd.closest('.output');\n",
       "if (outputEl) {{\n",
       "    x.observe(outputEl, {childList: true});\n",
       "}}\n",
       "\n",
       "                        })                };                });            </script>        </div>"
      ]
     },
     "metadata": {},
     "output_type": "display_data"
    }
   ],
   "source": [
    "fig = px.scatter(dados_aglomerante, x=\"RelacaoAguaCimento\", y=\"Rompimento28Dias\", title='Rompimento7Dias x Rompimento 28 Dias')\n",
    "fig.show()"
   ]
  },
  {
   "cell_type": "code",
   "execution_count": 1729,
   "metadata": {},
   "outputs": [
    {
     "data": {
      "application/vnd.plotly.v1+json": {
       "config": {
        "plotlyServerURL": "https://plot.ly"
       },
       "data": [
        {
         "hovertemplate": "ResultadoEsperado=%{x}<br>Rompimento28Dias=%{y}<extra></extra>",
         "legendgroup": "",
         "marker": {
          "color": "#636efa",
          "symbol": "circle"
         },
         "mode": "markers",
         "name": "",
         "orientation": "v",
         "showlegend": false,
         "type": "scatter",
         "x": [
          46.09523087927805,
          44.353205953117154,
          35.5589272795614,
          35.5589272795614,
          35.5589272795614,
          43.215546075990346,
          43.215546075990346,
          43.215546075990346,
          37.17220871397308,
          39.856094384032495,
          39.856094384032495,
          39.856094384032495,
          39.856094384032495,
          21.452811414389206,
          21.918276060524708,
          46.50673416853282,
          46.99829137050666,
          46.50673416853282,
          46.50673416853282,
          46.50673416853282,
          46.50673416853282,
          46.50673416853282,
          46.02031818501114,
          50.156848181213675,
          50.156848181213675,
          50.156848181213675,
          50.156848181213675,
          50.156848181213675,
          50.156848181213675,
          55.144185290389736,
          58.99459491447346,
          58.99459491447346,
          58.99459491447346,
          58.99459491447346,
          58.99459491447346,
          58.99459491447346,
          58.99459491447346,
          58.99459491447346,
          55.98734262662696,
          54.959446356019185,
          56.539283277512254,
          56.00768846326943,
          56.00768846326943,
          56.00768846326943,
          56.00768846326943,
          56.00768846326943,
          58.164533405724036,
          58.164533405724036,
          58.99459491447346,
          58.99459491447346,
          58.99459491447346,
          58.99459491447346,
          59.81476544154029,
          46.150207324144105,
          46.150207324144105,
          46.150207324144105,
          46.150207324144105,
          46.150207324144105,
          46.150207324144105,
          46.150207324144105,
          46.150207324144105,
          46.150207324144105,
          57.35223952230326,
          57.35223952230328,
          46.05811960310717,
          47.070123820005676,
          39.749811748951174,
          39.749811748951174,
          39.749811748951174,
          39.749811748951174,
          40.9967613458085,
          44.977257468703925,
          43.60923786844146,
          44.28796585555543,
          44.28796585555543,
          43.60923786844144,
          43.60923786844146,
          30.81919848385484,
          29.219551020585953,
          29.21955102058596,
          28.553606381080236,
          27.902839328067003,
          27.90283932806701,
          27.90283932806701,
          27.90283932806701,
          27.90283932806701,
          27.90283932806701,
          28.553606381080236,
          28.553606381080236,
          28.553606381080236,
          28.553606381080236,
          31.042616901506577,
          30.033098034005647,
          30.89093129169568,
          31.439038166389338,
          56.3907272696208,
          51.89419160061622,
          47.94786950270995,
          51.17490978632332,
          51.17490978632332,
          51.17490978632332,
          51.17490978632332,
          51.17490978632332,
          51.17490978632332,
          51.17490978632332,
          49.535117807951,
          46.181334639261294,
          41.43930447494634,
          41.43930447494634,
          43.62539492810303,
          43.409278916776174,
          43.409278916776174,
          43.409278916776174,
          44.256026633185996,
          44.256026633185996,
          47.81143867445191,
          36.57094624706181,
          36.33587956966944,
          36.33587956966944,
          44.81003032411275,
          50.11830302502225,
          50.11830302502225,
          53.13884918402324,
          53.13884918402324,
          53.13884918402324,
          53.13884918402324,
          52.21405335524735,
          52.21405335524735,
          40.784431794490615,
          39.2597537576924,
          39.58071250504951,
          39.58071250504951,
          38.49304991253122,
          38.49304991253122,
          38.49304991253123,
          39.36074870476399,
          40.69910817582091,
          40.69910817582091,
          40.69910817582091,
          40.69910817582091,
          40.21426204792701,
          40.21426204792701,
          40.21426204792701,
          40.21426204792701,
          40.21426204792701,
          40.21426204792701,
          40.21426204792701,
          39.855418816835495,
          39.49101178866092,
          39.22708337830133,
          38.704506469758364,
          37.295328835278454,
          38.86393565629237,
          35.61239588986234,
          35.61239588986234,
          35.61239588986234,
          35.61239588986234,
          35.61239588986234,
          32.85223150191523,
          32.85223150191521,
          31.78975813214036,
          32.6055356340065,
          32.6055356340065,
          31.876507507931017,
          40.316240815041375,
          48.39610661746999,
          48.39610661746999,
          47.503783889487785,
          47.503783889487785,
          47.503783889487785,
          47.503783889487785,
          49.535117807951,
          50.23135175456439,
          50.23135175456439,
          50.23135175456439,
          50.23135175456439,
          50.23135175456439,
          51.17490978632332,
          58.43991471856506,
          44.39874842718093,
          49.535117807951,
          49.535117807951,
          46.576897798944366,
          48.861904567679154,
          48.861904567679154,
          48.861904567679154,
          47.869200887447064,
          47.869200887447064,
          44.39874842718093,
          47.869200887447064,
          47.869200887447064,
          47.869200887447064,
          47.839435886228244,
          35.1419816419981,
          35.1419816419981,
          35.1419816419981,
          35.876146897382064,
          37.04713287451543,
          34.53539652514695,
          35.06397247940587,
          36.42107763995592,
          34.53539652514695,
          37.54448328764434,
          34.53539652514694,
          34.53539652514694,
          34.53539652514694,
          34.798680913550754,
          34.798680913550754,
          32.6821760331661,
          31.10991489121923,
          37.89198794691772,
          38.5198663058788,
          38.5198663058788,
          38.5198663058788,
          38.53888972843159,
          29.363508300409716,
          27.360268222955106,
          28.344196285415787,
          26.671438176450405,
          27.360268222955106,
          34.274104128030096,
          46.327670735681686,
          49.20462504672704,
          47.90455748318689,
          46.327670735681686,
          36.536649362216075,
          50.82811066104102,
          50.82811066104102,
          52.906840362791044,
          52.906840362791044,
          52.906840362791044,
          52.00574412335799,
          52.00574412335799,
          49.9624188325348,
          49.9624188325348,
          49.9624188325348,
          49.9624188325348,
          49.9624188325348,
          49.9624188325348,
          40.88354040865546,
          41.10048820439405,
          41.10048820439405,
          42.37394846528194,
          42.37394846528194,
          42.37394846528194,
          41.60627826210368,
          41.60627826210368,
          41.60627826210368,
          41.60627826210368,
          41.60627826210368,
          41.60627826210368,
          41.60627826210368,
          37.713904444706564,
          37.713904444706564,
          39.58409688003349,
          39.58409688003349,
          39.58409688003349,
          46.066417192578676,
          46.066417192578676,
          49.98246314789445,
          40.0014109581401,
          40.0014109581401,
          40.0014109581401,
          40.0014109581401,
          40.0014109581401,
          39.584148437382304,
          39.584148437382304,
          39.570314900472496,
          32.17933841506989,
          31.429925075699817,
          30.580308205358893,
          31.429925075699817,
          31.429925075699817,
          31.260653495529198,
          31.556511214286704,
          31.556511214286704,
          29.896318841170764,
          36.554159942957284,
          36.554159942957284,
          36.554159942957284,
          36.554159942957284,
          34.798845368002745,
          34.79884536800273,
          34.798845368002745,
          34.798845368002745,
          33.72316376840761,
          33.72316376840761,
          34.798845368002745,
          35.90883842519579,
          35.90883842519579,
          35.90883842519579,
          35.90883842519579,
          35.238664696212794,
          35.238664696212794,
          35.770652144062744,
          35.37202531790717,
          33.45269657797216,
          33.452696577972176,
          34.46891045900806,
          36.48752386975361,
          37.56730133666538,
          49.20019874866827,
          49.20019874866827,
          49.20019874866827,
          31.0211246919601,
          31.0211246919601,
          31.0211246919601,
          31.0211246919601,
          31.0211246919601,
          31.0211246919601,
          31.0211246919601,
          30.533321996363977,
          30.533321996363977,
          30.533321996363977,
          32.02023410739583,
          32.02023410739583,
          32.02023410739583,
          32.02023410739583,
          32.02023410739583,
          32.02023410739584,
          32.02023410739583,
          32.02023410739583,
          32.02023410739583,
          30.77625690217988,
          31.0211246919601,
          31.0211246919601,
          31.0211246919601,
          31.0211246919601,
          30.957310902441996,
          31.449924715750367,
          30.957310902441982,
          30.957310902441982,
          30.957310902441982,
          30.957310902441982,
          30.957310902441982,
          25.18657298538593,
          26.32709757877318,
          25.421032965957465,
          26.327097578773174,
          25.421032965957465,
          25.870098868152237,
          25.870098868152237,
          25.870098868152237,
          25.870098868152237,
          24.73771424673084,
          25.870098868152237,
          24.73771424673084,
          25.870098868152237,
          25.421032965957465,
          25.199431692412144,
          25.199431692412144,
          25.199431692412144,
          32.48341785613054,
          32.48341785613054,
          32.48341785613054,
          32.48341785613054,
          32.48341785613054,
          32.78089609588467,
          33.276939054560835,
          32.2142975224363,
          34.51362514121313,
          34.51362514121314,
          34.51362514121314,
          34.51362514121314,
          34.51362514121314,
          34.51362514121314,
          35.01689684509883,
          35.016896845098834,
          42.959067375671395,
          43.35166184991097,
          43.35166184991097,
          43.35166184991097,
          43.35166184991097,
          43.35166184991097,
          41.09311522527664,
          41.48884353432633,
          41.43428159186846,
          41.43428159186846,
          41.43428159186846,
          41.163679761776,
          41.163679761776,
          37.802550345656144,
          37.802550345656144,
          42.82899422518996,
          42.82899422518996,
          42.82899422518996,
          42.82899422518996,
          42.82899422518996,
          42.82899422518996,
          43.04600220017498,
          43.04600220017498,
          43.04600220017498,
          51.46479248728912,
          51.4647924872891,
          51.46479248728912,
          50.51087626930392,
          50.51087626930392,
          50.51087626930392,
          50.51087626930392,
          56.7929708460412,
          56.7929708460412,
          56.792970846041214,
          50.9355862167271,
          50.9355862167271,
          50.9355862167271,
          50.9355862167271,
          50.9355862167271,
          50.9355862167271,
          50.9355862167271,
          31.200509361436016,
          31.620054748339648,
          41.01300380010164,
          41.01300380010164,
          39.915145923235784,
          39.915145923235784,
          39.915145923235784,
          41.02804465881726,
          40.701874244577176,
          41.73399866383801,
          41.2446742208606,
          41.488615050683855,
          41.488615050683855,
          41.488615050683855,
          41.488615050683855,
          41.488615050683855,
          41.488615050683855,
          42.22912842386588,
          42.22912842386588,
          41.488615050683855,
          41.488615050683855,
          38.22956093480426,
          38.22956093480426,
          38.22956093480426,
          38.22956093480426,
          38.71934018314963,
          38.47367119066147,
          38.47367119066147,
          34.76687513744172,
          35.872043845225875,
          35.77125155156975,
          35.77125155156975,
          35.77125155156975,
          35.77125155156975,
          29.855105058189263,
          46.272066219906904,
          46.272066219906904,
          46.272066219906904,
          46.514808109977004,
          36.04177486170357,
          52.05575793090978,
          51.315558122721136,
          51.315558122721136,
          44.96217639269771,
          44.96217639269771,
          37.90482997991495,
          33.20074462867609,
          35.06848633340322,
          35.06848633340322,
          34.36068632385807,
          34.36068632385807,
          24.608716433624025,
          24.36838773636168,
          29.64753075092597,
          45.32573332742624,
          45.32573332742624,
          45.32573332742624
         ],
         "xaxis": "x",
         "y": [
          35.08,
          33.4,
          31.72,
          31.12,
          28.39,
          29.7,
          27.47,
          27.61,
          31.63,
          26.3,
          27.13,
          22.49,
          24.66,
          16.96,
          20.15,
          30.93,
          31.9,
          31.3,
          30.83,
          31.02,
          30.3,
          30.6,
          30.6,
          33.52,
          32.47,
          32.41,
          32.14,
          33.9,
          32.83,
          35.01,
          51.28,
          43.52,
          42.89,
          49.06,
          44.21,
          45.48,
          44.6,
          38.14,
          33.43,
          46.48,
          46.74,
          46.78,
          42.62,
          46.6,
          46.46,
          52,
          49.79,
          51.63,
          49.51,
          41.84,
          38.95,
          52.97,
          49.15,
          33.26,
          33.77,
          38.85,
          37.04,
          35.9,
          37.06,
          36.23,
          33.84,
          36.62,
          33.86,
          36.65,
          34.59,
          37.24,
          25.32,
          26.27,
          25.46,
          28.11,
          30.02,
          25,
          31.89,
          30.4,
          30.58,
          32.55,
          27.38,
          23.81,
          22.79,
          20.28,
          23.33,
          24.34,
          20.74,
          18.1,
          21.53,
          22.81,
          20.43,
          21.72,
          20.52,
          23.31,
          22.72,
          22.04,
          24.11,
          26.34,
          25.23,
          39.12,
          34.09,
          31.18,
          31.25,
          30.49,
          31.01,
          34.94,
          34.73,
          33.26,
          30.4,
          39.45,
          36.56,
          37.59,
          34.38,
          27.27,
          26.77,
          24.99,
          26.67,
          29.5,
          29.06,
          31.79,
          27.15,
          28.49,
          29.67,
          28.73,
          38.37,
          37.64,
          44.87,
          43.54,
          45.08,
          37.38,
          44.91,
          37.72,
          35.68,
          31.77,
          30.22,
          32.61,
          33.11,
          36.06,
          33.79,
          31.01,
          34.14,
          36.59,
          32.32,
          36.4,
          35.01,
          36.48,
          35.68,
          37.27,
          38.2,
          39.58,
          41.4,
          38.88,
          37.34,
          33.03,
          37.85,
          36.12,
          41.45,
          32.42,
          33.51,
          37.2,
          33.63,
          38.44,
          32.46,
          32.78,
          28.08,
          33.8,
          30.87,
          26.86,
          40.19,
          38.51,
          39.11,
          43.12,
          39.79,
          38.92,
          40.86,
          42.29,
          33.2,
          34.45,
          38.18,
          43.15,
          37.24,
          34.5,
          45.71,
          29.78,
          27.93,
          30.76,
          35.22,
          36.01,
          29.84,
          30.51,
          28.5,
          32.35,
          34.28,
          32.74,
          33.45,
          33.71,
          30.4,
          29.56,
          27.56,
          28.85,
          29.74,
          30.78,
          28.53,
          31.74,
          32.92,
          35.62,
          38.09,
          36.31,
          37.81,
          35.4,
          36.2,
          35.11,
          30,
          26.39,
          27.87,
          28.99,
          25.41,
          25.14,
          29.98,
          25.54,
          25.21,
          32.73,
          25.01,
          24.54,
          34.88,
          29.67,
          30.69,
          36.28,
          34.07,
          28.25,
          37.54,
          39.53,
          31.48,
          29.69,
          32.49,
          35.22,
          34.09,
          35.22,
          33.79,
          37.96,
          37.03,
          37.66,
          40,
          32.44,
          35.92,
          31.86,
          35.2,
          35.89,
          35.39,
          40.53,
          40.14,
          34.91,
          38.42,
          36.59,
          30.88,
          34,
          32.64,
          30.87,
          35.15,
          31.94,
          35.39,
          37.73,
          37.77,
          32.05,
          38.36,
          42.61,
          43.19,
          38.3,
          37.46,
          31.07,
          32.51,
          33.02,
          38.61,
          28.72,
          30.44,
          30.26,
          27.53,
          34.54,
          26.54,
          27.39,
          21.2,
          33.9,
          31.71,
          34.49,
          35.72,
          27.98,
          26.02,
          29,
          27.06,
          26.39,
          24.03,
          33.17,
          27.43,
          31.39,
          28.41,
          30.16,
          29.92,
          30.02,
          29.46,
          27.31,
          28.38,
          29.64,
          30.5,
          40.23,
          39.69,
          35.81,
          34.7,
          38.75,
          30.32,
          35.07,
          29.37,
          33.09,
          31.39,
          31.19,
          31.76,
          33.84,
          30.49,
          34.47,
          29.24,
          31.72,
          38.11,
          35.69,
          37.13,
          34.04,
          33.82,
          32.46,
          30.58,
          29.93,
          34.49,
          38.16,
          32.56,
          32.54,
          32.31,
          32.6,
          29.51,
          31.26,
          32.16,
          31.26,
          33.01,
          21.27,
          23.67,
          25.79,
          29.67,
          27.15,
          22.14,
          25.69,
          23.59,
          27.62,
          24.96,
          22.79,
          22.12,
          22.21,
          22.79,
          26.82,
          25.29,
          32.84,
          26.07,
          25.56,
          26.66,
          27.64,
          26.95,
          32.4,
          27.28,
          27.28,
          29.56,
          31.61,
          37.24,
          33.4,
          36.56,
          37.67,
          33.07,
          34.88,
          39.48,
          37.77,
          41.83,
          40.1,
          39.59,
          40.66,
          31.24,
          40.21,
          39.14,
          36.4,
          38.04,
          40.48,
          36.24,
          35.22,
          37.81,
          25.1,
          26.16,
          29.65,
          25.89,
          28.43,
          27.34,
          28.71,
          30.68,
          27.69,
          33.25,
          31.54,
          28.22,
          32.02,
          38.06,
          37.31,
          33.48,
          38.79,
          42.01,
          38.08,
          34.63,
          28.4,
          32.64,
          33.01,
          38.7,
          33.66,
          34.69,
          22.25,
          27.36,
          31.42,
          31.74,
          30.62,
          29.6,
          28.29,
          37.17,
          34.45,
          37.54,
          39.44,
          42.79,
          37.86,
          37.46,
          36.98,
          41.96,
          44.3,
          39.97,
          42.35,
          37.32,
          36.4,
          35.29,
          35.55,
          33.93,
          34.74,
          36.2,
          32.68,
          30,
          30.44,
          31.34,
          29.48,
          33.72,
          28.94,
          34.8,
          21.92,
          33.07,
          31.74,
          29.56,
          37.04,
          34.65,
          33.19,
          34.38,
          36.17,
          49.94,
          38.19,
          28.88,
          28.01,
          29.1,
          32.45,
          25.68,
          31.51,
          22.32,
          20.79,
          33.29,
          49.8,
          48.35,
          46.11
         ],
         "yaxis": "y"
        }
       ],
       "layout": {
        "legend": {
         "tracegroupgap": 0
        },
        "template": {
         "data": {
          "bar": [
           {
            "error_x": {
             "color": "#2a3f5f"
            },
            "error_y": {
             "color": "#2a3f5f"
            },
            "marker": {
             "line": {
              "color": "#E5ECF6",
              "width": 0.5
             }
            },
            "type": "bar"
           }
          ],
          "barpolar": [
           {
            "marker": {
             "line": {
              "color": "#E5ECF6",
              "width": 0.5
             }
            },
            "type": "barpolar"
           }
          ],
          "carpet": [
           {
            "aaxis": {
             "endlinecolor": "#2a3f5f",
             "gridcolor": "white",
             "linecolor": "white",
             "minorgridcolor": "white",
             "startlinecolor": "#2a3f5f"
            },
            "baxis": {
             "endlinecolor": "#2a3f5f",
             "gridcolor": "white",
             "linecolor": "white",
             "minorgridcolor": "white",
             "startlinecolor": "#2a3f5f"
            },
            "type": "carpet"
           }
          ],
          "choropleth": [
           {
            "colorbar": {
             "outlinewidth": 0,
             "ticks": ""
            },
            "type": "choropleth"
           }
          ],
          "contour": [
           {
            "colorbar": {
             "outlinewidth": 0,
             "ticks": ""
            },
            "colorscale": [
             [
              0,
              "#0d0887"
             ],
             [
              0.1111111111111111,
              "#46039f"
             ],
             [
              0.2222222222222222,
              "#7201a8"
             ],
             [
              0.3333333333333333,
              "#9c179e"
             ],
             [
              0.4444444444444444,
              "#bd3786"
             ],
             [
              0.5555555555555556,
              "#d8576b"
             ],
             [
              0.6666666666666666,
              "#ed7953"
             ],
             [
              0.7777777777777778,
              "#fb9f3a"
             ],
             [
              0.8888888888888888,
              "#fdca26"
             ],
             [
              1,
              "#f0f921"
             ]
            ],
            "type": "contour"
           }
          ],
          "contourcarpet": [
           {
            "colorbar": {
             "outlinewidth": 0,
             "ticks": ""
            },
            "type": "contourcarpet"
           }
          ],
          "heatmap": [
           {
            "colorbar": {
             "outlinewidth": 0,
             "ticks": ""
            },
            "colorscale": [
             [
              0,
              "#0d0887"
             ],
             [
              0.1111111111111111,
              "#46039f"
             ],
             [
              0.2222222222222222,
              "#7201a8"
             ],
             [
              0.3333333333333333,
              "#9c179e"
             ],
             [
              0.4444444444444444,
              "#bd3786"
             ],
             [
              0.5555555555555556,
              "#d8576b"
             ],
             [
              0.6666666666666666,
              "#ed7953"
             ],
             [
              0.7777777777777778,
              "#fb9f3a"
             ],
             [
              0.8888888888888888,
              "#fdca26"
             ],
             [
              1,
              "#f0f921"
             ]
            ],
            "type": "heatmap"
           }
          ],
          "heatmapgl": [
           {
            "colorbar": {
             "outlinewidth": 0,
             "ticks": ""
            },
            "colorscale": [
             [
              0,
              "#0d0887"
             ],
             [
              0.1111111111111111,
              "#46039f"
             ],
             [
              0.2222222222222222,
              "#7201a8"
             ],
             [
              0.3333333333333333,
              "#9c179e"
             ],
             [
              0.4444444444444444,
              "#bd3786"
             ],
             [
              0.5555555555555556,
              "#d8576b"
             ],
             [
              0.6666666666666666,
              "#ed7953"
             ],
             [
              0.7777777777777778,
              "#fb9f3a"
             ],
             [
              0.8888888888888888,
              "#fdca26"
             ],
             [
              1,
              "#f0f921"
             ]
            ],
            "type": "heatmapgl"
           }
          ],
          "histogram": [
           {
            "marker": {
             "colorbar": {
              "outlinewidth": 0,
              "ticks": ""
             }
            },
            "type": "histogram"
           }
          ],
          "histogram2d": [
           {
            "colorbar": {
             "outlinewidth": 0,
             "ticks": ""
            },
            "colorscale": [
             [
              0,
              "#0d0887"
             ],
             [
              0.1111111111111111,
              "#46039f"
             ],
             [
              0.2222222222222222,
              "#7201a8"
             ],
             [
              0.3333333333333333,
              "#9c179e"
             ],
             [
              0.4444444444444444,
              "#bd3786"
             ],
             [
              0.5555555555555556,
              "#d8576b"
             ],
             [
              0.6666666666666666,
              "#ed7953"
             ],
             [
              0.7777777777777778,
              "#fb9f3a"
             ],
             [
              0.8888888888888888,
              "#fdca26"
             ],
             [
              1,
              "#f0f921"
             ]
            ],
            "type": "histogram2d"
           }
          ],
          "histogram2dcontour": [
           {
            "colorbar": {
             "outlinewidth": 0,
             "ticks": ""
            },
            "colorscale": [
             [
              0,
              "#0d0887"
             ],
             [
              0.1111111111111111,
              "#46039f"
             ],
             [
              0.2222222222222222,
              "#7201a8"
             ],
             [
              0.3333333333333333,
              "#9c179e"
             ],
             [
              0.4444444444444444,
              "#bd3786"
             ],
             [
              0.5555555555555556,
              "#d8576b"
             ],
             [
              0.6666666666666666,
              "#ed7953"
             ],
             [
              0.7777777777777778,
              "#fb9f3a"
             ],
             [
              0.8888888888888888,
              "#fdca26"
             ],
             [
              1,
              "#f0f921"
             ]
            ],
            "type": "histogram2dcontour"
           }
          ],
          "mesh3d": [
           {
            "colorbar": {
             "outlinewidth": 0,
             "ticks": ""
            },
            "type": "mesh3d"
           }
          ],
          "parcoords": [
           {
            "line": {
             "colorbar": {
              "outlinewidth": 0,
              "ticks": ""
             }
            },
            "type": "parcoords"
           }
          ],
          "pie": [
           {
            "automargin": true,
            "type": "pie"
           }
          ],
          "scatter": [
           {
            "marker": {
             "colorbar": {
              "outlinewidth": 0,
              "ticks": ""
             }
            },
            "type": "scatter"
           }
          ],
          "scatter3d": [
           {
            "line": {
             "colorbar": {
              "outlinewidth": 0,
              "ticks": ""
             }
            },
            "marker": {
             "colorbar": {
              "outlinewidth": 0,
              "ticks": ""
             }
            },
            "type": "scatter3d"
           }
          ],
          "scattercarpet": [
           {
            "marker": {
             "colorbar": {
              "outlinewidth": 0,
              "ticks": ""
             }
            },
            "type": "scattercarpet"
           }
          ],
          "scattergeo": [
           {
            "marker": {
             "colorbar": {
              "outlinewidth": 0,
              "ticks": ""
             }
            },
            "type": "scattergeo"
           }
          ],
          "scattergl": [
           {
            "marker": {
             "colorbar": {
              "outlinewidth": 0,
              "ticks": ""
             }
            },
            "type": "scattergl"
           }
          ],
          "scattermapbox": [
           {
            "marker": {
             "colorbar": {
              "outlinewidth": 0,
              "ticks": ""
             }
            },
            "type": "scattermapbox"
           }
          ],
          "scatterpolar": [
           {
            "marker": {
             "colorbar": {
              "outlinewidth": 0,
              "ticks": ""
             }
            },
            "type": "scatterpolar"
           }
          ],
          "scatterpolargl": [
           {
            "marker": {
             "colorbar": {
              "outlinewidth": 0,
              "ticks": ""
             }
            },
            "type": "scatterpolargl"
           }
          ],
          "scatterternary": [
           {
            "marker": {
             "colorbar": {
              "outlinewidth": 0,
              "ticks": ""
             }
            },
            "type": "scatterternary"
           }
          ],
          "surface": [
           {
            "colorbar": {
             "outlinewidth": 0,
             "ticks": ""
            },
            "colorscale": [
             [
              0,
              "#0d0887"
             ],
             [
              0.1111111111111111,
              "#46039f"
             ],
             [
              0.2222222222222222,
              "#7201a8"
             ],
             [
              0.3333333333333333,
              "#9c179e"
             ],
             [
              0.4444444444444444,
              "#bd3786"
             ],
             [
              0.5555555555555556,
              "#d8576b"
             ],
             [
              0.6666666666666666,
              "#ed7953"
             ],
             [
              0.7777777777777778,
              "#fb9f3a"
             ],
             [
              0.8888888888888888,
              "#fdca26"
             ],
             [
              1,
              "#f0f921"
             ]
            ],
            "type": "surface"
           }
          ],
          "table": [
           {
            "cells": {
             "fill": {
              "color": "#EBF0F8"
             },
             "line": {
              "color": "white"
             }
            },
            "header": {
             "fill": {
              "color": "#C8D4E3"
             },
             "line": {
              "color": "white"
             }
            },
            "type": "table"
           }
          ]
         },
         "layout": {
          "annotationdefaults": {
           "arrowcolor": "#2a3f5f",
           "arrowhead": 0,
           "arrowwidth": 1
          },
          "autotypenumbers": "strict",
          "coloraxis": {
           "colorbar": {
            "outlinewidth": 0,
            "ticks": ""
           }
          },
          "colorscale": {
           "diverging": [
            [
             0,
             "#8e0152"
            ],
            [
             0.1,
             "#c51b7d"
            ],
            [
             0.2,
             "#de77ae"
            ],
            [
             0.3,
             "#f1b6da"
            ],
            [
             0.4,
             "#fde0ef"
            ],
            [
             0.5,
             "#f7f7f7"
            ],
            [
             0.6,
             "#e6f5d0"
            ],
            [
             0.7,
             "#b8e186"
            ],
            [
             0.8,
             "#7fbc41"
            ],
            [
             0.9,
             "#4d9221"
            ],
            [
             1,
             "#276419"
            ]
           ],
           "sequential": [
            [
             0,
             "#0d0887"
            ],
            [
             0.1111111111111111,
             "#46039f"
            ],
            [
             0.2222222222222222,
             "#7201a8"
            ],
            [
             0.3333333333333333,
             "#9c179e"
            ],
            [
             0.4444444444444444,
             "#bd3786"
            ],
            [
             0.5555555555555556,
             "#d8576b"
            ],
            [
             0.6666666666666666,
             "#ed7953"
            ],
            [
             0.7777777777777778,
             "#fb9f3a"
            ],
            [
             0.8888888888888888,
             "#fdca26"
            ],
            [
             1,
             "#f0f921"
            ]
           ],
           "sequentialminus": [
            [
             0,
             "#0d0887"
            ],
            [
             0.1111111111111111,
             "#46039f"
            ],
            [
             0.2222222222222222,
             "#7201a8"
            ],
            [
             0.3333333333333333,
             "#9c179e"
            ],
            [
             0.4444444444444444,
             "#bd3786"
            ],
            [
             0.5555555555555556,
             "#d8576b"
            ],
            [
             0.6666666666666666,
             "#ed7953"
            ],
            [
             0.7777777777777778,
             "#fb9f3a"
            ],
            [
             0.8888888888888888,
             "#fdca26"
            ],
            [
             1,
             "#f0f921"
            ]
           ]
          },
          "colorway": [
           "#636efa",
           "#EF553B",
           "#00cc96",
           "#ab63fa",
           "#FFA15A",
           "#19d3f3",
           "#FF6692",
           "#B6E880",
           "#FF97FF",
           "#FECB52"
          ],
          "font": {
           "color": "#2a3f5f"
          },
          "geo": {
           "bgcolor": "white",
           "lakecolor": "white",
           "landcolor": "#E5ECF6",
           "showlakes": true,
           "showland": true,
           "subunitcolor": "white"
          },
          "hoverlabel": {
           "align": "left"
          },
          "hovermode": "closest",
          "mapbox": {
           "style": "light"
          },
          "paper_bgcolor": "white",
          "plot_bgcolor": "#E5ECF6",
          "polar": {
           "angularaxis": {
            "gridcolor": "white",
            "linecolor": "white",
            "ticks": ""
           },
           "bgcolor": "#E5ECF6",
           "radialaxis": {
            "gridcolor": "white",
            "linecolor": "white",
            "ticks": ""
           }
          },
          "scene": {
           "xaxis": {
            "backgroundcolor": "#E5ECF6",
            "gridcolor": "white",
            "gridwidth": 2,
            "linecolor": "white",
            "showbackground": true,
            "ticks": "",
            "zerolinecolor": "white"
           },
           "yaxis": {
            "backgroundcolor": "#E5ECF6",
            "gridcolor": "white",
            "gridwidth": 2,
            "linecolor": "white",
            "showbackground": true,
            "ticks": "",
            "zerolinecolor": "white"
           },
           "zaxis": {
            "backgroundcolor": "#E5ECF6",
            "gridcolor": "white",
            "gridwidth": 2,
            "linecolor": "white",
            "showbackground": true,
            "ticks": "",
            "zerolinecolor": "white"
           }
          },
          "shapedefaults": {
           "line": {
            "color": "#2a3f5f"
           }
          },
          "ternary": {
           "aaxis": {
            "gridcolor": "white",
            "linecolor": "white",
            "ticks": ""
           },
           "baxis": {
            "gridcolor": "white",
            "linecolor": "white",
            "ticks": ""
           },
           "bgcolor": "#E5ECF6",
           "caxis": {
            "gridcolor": "white",
            "linecolor": "white",
            "ticks": ""
           }
          },
          "title": {
           "x": 0.05
          },
          "xaxis": {
           "automargin": true,
           "gridcolor": "white",
           "linecolor": "white",
           "ticks": "",
           "title": {
            "standoff": 15
           },
           "zerolinecolor": "white",
           "zerolinewidth": 2
          },
          "yaxis": {
           "automargin": true,
           "gridcolor": "white",
           "linecolor": "white",
           "ticks": "",
           "title": {
            "standoff": 15
           },
           "zerolinecolor": "white",
           "zerolinewidth": 2
          }
         }
        },
        "title": {
         "text": "Rompimento7Dias x Rompimento 28 Dias"
        },
        "xaxis": {
         "anchor": "y",
         "domain": [
          0,
          1
         ],
         "title": {
          "text": "ResultadoEsperado"
         }
        },
        "yaxis": {
         "anchor": "x",
         "domain": [
          0,
          1
         ],
         "title": {
          "text": "Rompimento28Dias"
         }
        }
       }
      },
      "text/html": [
       "<div>                            <div id=\"1482fd1e-240a-4c88-a56f-ca4fe5831acd\" class=\"plotly-graph-div\" style=\"height:525px; width:100%;\"></div>            <script type=\"text/javascript\">                require([\"plotly\"], function(Plotly) {                    window.PLOTLYENV=window.PLOTLYENV || {};                                    if (document.getElementById(\"1482fd1e-240a-4c88-a56f-ca4fe5831acd\")) {                    Plotly.newPlot(                        \"1482fd1e-240a-4c88-a56f-ca4fe5831acd\",                        [{\"hovertemplate\": \"ResultadoEsperado=%{x}<br>Rompimento28Dias=%{y}<extra></extra>\", \"legendgroup\": \"\", \"marker\": {\"color\": \"#636efa\", \"symbol\": \"circle\"}, \"mode\": \"markers\", \"name\": \"\", \"orientation\": \"v\", \"showlegend\": false, \"type\": \"scatter\", \"x\": [46.09523087927805, 44.353205953117154, 35.5589272795614, 35.5589272795614, 35.5589272795614, 43.215546075990346, 43.215546075990346, 43.215546075990346, 37.17220871397308, 39.856094384032495, 39.856094384032495, 39.856094384032495, 39.856094384032495, 21.452811414389206, 21.918276060524708, 46.50673416853282, 46.99829137050666, 46.50673416853282, 46.50673416853282, 46.50673416853282, 46.50673416853282, 46.50673416853282, 46.02031818501114, 50.156848181213675, 50.156848181213675, 50.156848181213675, 50.156848181213675, 50.156848181213675, 50.156848181213675, 55.144185290389736, 58.99459491447346, 58.99459491447346, 58.99459491447346, 58.99459491447346, 58.99459491447346, 58.99459491447346, 58.99459491447346, 58.99459491447346, 55.98734262662696, 54.959446356019185, 56.539283277512254, 56.00768846326943, 56.00768846326943, 56.00768846326943, 56.00768846326943, 56.00768846326943, 58.164533405724036, 58.164533405724036, 58.99459491447346, 58.99459491447346, 58.99459491447346, 58.99459491447346, 59.81476544154029, 46.150207324144105, 46.150207324144105, 46.150207324144105, 46.150207324144105, 46.150207324144105, 46.150207324144105, 46.150207324144105, 46.150207324144105, 46.150207324144105, 57.35223952230326, 57.35223952230328, 46.05811960310717, 47.070123820005676, 39.749811748951174, 39.749811748951174, 39.749811748951174, 39.749811748951174, 40.9967613458085, 44.977257468703925, 43.60923786844146, 44.28796585555543, 44.28796585555543, 43.60923786844144, 43.60923786844146, 30.81919848385484, 29.219551020585953, 29.21955102058596, 28.553606381080236, 27.902839328067003, 27.90283932806701, 27.90283932806701, 27.90283932806701, 27.90283932806701, 27.90283932806701, 28.553606381080236, 28.553606381080236, 28.553606381080236, 28.553606381080236, 31.042616901506577, 30.033098034005647, 30.89093129169568, 31.439038166389338, 56.3907272696208, 51.89419160061622, 47.94786950270995, 51.17490978632332, 51.17490978632332, 51.17490978632332, 51.17490978632332, 51.17490978632332, 51.17490978632332, 51.17490978632332, 49.535117807951, 46.181334639261294, 41.43930447494634, 41.43930447494634, 43.62539492810303, 43.409278916776174, 43.409278916776174, 43.409278916776174, 44.256026633185996, 44.256026633185996, 47.81143867445191, 36.57094624706181, 36.33587956966944, 36.33587956966944, 44.81003032411275, 50.11830302502225, 50.11830302502225, 53.13884918402324, 53.13884918402324, 53.13884918402324, 53.13884918402324, 52.21405335524735, 52.21405335524735, 40.784431794490615, 39.2597537576924, 39.58071250504951, 39.58071250504951, 38.49304991253122, 38.49304991253122, 38.49304991253123, 39.36074870476399, 40.69910817582091, 40.69910817582091, 40.69910817582091, 40.69910817582091, 40.21426204792701, 40.21426204792701, 40.21426204792701, 40.21426204792701, 40.21426204792701, 40.21426204792701, 40.21426204792701, 39.855418816835495, 39.49101178866092, 39.22708337830133, 38.704506469758364, 37.295328835278454, 38.86393565629237, 35.61239588986234, 35.61239588986234, 35.61239588986234, 35.61239588986234, 35.61239588986234, 32.85223150191523, 32.85223150191521, 31.78975813214036, 32.6055356340065, 32.6055356340065, 31.876507507931017, 40.316240815041375, 48.39610661746999, 48.39610661746999, 47.503783889487785, 47.503783889487785, 47.503783889487785, 47.503783889487785, 49.535117807951, 50.23135175456439, 50.23135175456439, 50.23135175456439, 50.23135175456439, 50.23135175456439, 51.17490978632332, 58.43991471856506, 44.39874842718093, 49.535117807951, 49.535117807951, 46.576897798944366, 48.861904567679154, 48.861904567679154, 48.861904567679154, 47.869200887447064, 47.869200887447064, 44.39874842718093, 47.869200887447064, 47.869200887447064, 47.869200887447064, 47.839435886228244, 35.1419816419981, 35.1419816419981, 35.1419816419981, 35.876146897382064, 37.04713287451543, 34.53539652514695, 35.06397247940587, 36.42107763995592, 34.53539652514695, 37.54448328764434, 34.53539652514694, 34.53539652514694, 34.53539652514694, 34.798680913550754, 34.798680913550754, 32.6821760331661, 31.10991489121923, 37.89198794691772, 38.5198663058788, 38.5198663058788, 38.5198663058788, 38.53888972843159, 29.363508300409716, 27.360268222955106, 28.344196285415787, 26.671438176450405, 27.360268222955106, 34.274104128030096, 46.327670735681686, 49.20462504672704, 47.90455748318689, 46.327670735681686, 36.536649362216075, 50.82811066104102, 50.82811066104102, 52.906840362791044, 52.906840362791044, 52.906840362791044, 52.00574412335799, 52.00574412335799, 49.9624188325348, 49.9624188325348, 49.9624188325348, 49.9624188325348, 49.9624188325348, 49.9624188325348, 40.88354040865546, 41.10048820439405, 41.10048820439405, 42.37394846528194, 42.37394846528194, 42.37394846528194, 41.60627826210368, 41.60627826210368, 41.60627826210368, 41.60627826210368, 41.60627826210368, 41.60627826210368, 41.60627826210368, 37.713904444706564, 37.713904444706564, 39.58409688003349, 39.58409688003349, 39.58409688003349, 46.066417192578676, 46.066417192578676, 49.98246314789445, 40.0014109581401, 40.0014109581401, 40.0014109581401, 40.0014109581401, 40.0014109581401, 39.584148437382304, 39.584148437382304, 39.570314900472496, 32.17933841506989, 31.429925075699817, 30.580308205358893, 31.429925075699817, 31.429925075699817, 31.260653495529198, 31.556511214286704, 31.556511214286704, 29.896318841170764, 36.554159942957284, 36.554159942957284, 36.554159942957284, 36.554159942957284, 34.798845368002745, 34.79884536800273, 34.798845368002745, 34.798845368002745, 33.72316376840761, 33.72316376840761, 34.798845368002745, 35.90883842519579, 35.90883842519579, 35.90883842519579, 35.90883842519579, 35.238664696212794, 35.238664696212794, 35.770652144062744, 35.37202531790717, 33.45269657797216, 33.452696577972176, 34.46891045900806, 36.48752386975361, 37.56730133666538, 49.20019874866827, 49.20019874866827, 49.20019874866827, 31.0211246919601, 31.0211246919601, 31.0211246919601, 31.0211246919601, 31.0211246919601, 31.0211246919601, 31.0211246919601, 30.533321996363977, 30.533321996363977, 30.533321996363977, 32.02023410739583, 32.02023410739583, 32.02023410739583, 32.02023410739583, 32.02023410739583, 32.02023410739584, 32.02023410739583, 32.02023410739583, 32.02023410739583, 30.77625690217988, 31.0211246919601, 31.0211246919601, 31.0211246919601, 31.0211246919601, 30.957310902441996, 31.449924715750367, 30.957310902441982, 30.957310902441982, 30.957310902441982, 30.957310902441982, 30.957310902441982, 25.18657298538593, 26.32709757877318, 25.421032965957465, 26.327097578773174, 25.421032965957465, 25.870098868152237, 25.870098868152237, 25.870098868152237, 25.870098868152237, 24.73771424673084, 25.870098868152237, 24.73771424673084, 25.870098868152237, 25.421032965957465, 25.199431692412144, 25.199431692412144, 25.199431692412144, 32.48341785613054, 32.48341785613054, 32.48341785613054, 32.48341785613054, 32.48341785613054, 32.78089609588467, 33.276939054560835, 32.2142975224363, 34.51362514121313, 34.51362514121314, 34.51362514121314, 34.51362514121314, 34.51362514121314, 34.51362514121314, 35.01689684509883, 35.016896845098834, 42.959067375671395, 43.35166184991097, 43.35166184991097, 43.35166184991097, 43.35166184991097, 43.35166184991097, 41.09311522527664, 41.48884353432633, 41.43428159186846, 41.43428159186846, 41.43428159186846, 41.163679761776, 41.163679761776, 37.802550345656144, 37.802550345656144, 42.82899422518996, 42.82899422518996, 42.82899422518996, 42.82899422518996, 42.82899422518996, 42.82899422518996, 43.04600220017498, 43.04600220017498, 43.04600220017498, 51.46479248728912, 51.4647924872891, 51.46479248728912, 50.51087626930392, 50.51087626930392, 50.51087626930392, 50.51087626930392, 56.7929708460412, 56.7929708460412, 56.792970846041214, 50.9355862167271, 50.9355862167271, 50.9355862167271, 50.9355862167271, 50.9355862167271, 50.9355862167271, 50.9355862167271, 31.200509361436016, 31.620054748339648, 41.01300380010164, 41.01300380010164, 39.915145923235784, 39.915145923235784, 39.915145923235784, 41.02804465881726, 40.701874244577176, 41.73399866383801, 41.2446742208606, 41.488615050683855, 41.488615050683855, 41.488615050683855, 41.488615050683855, 41.488615050683855, 41.488615050683855, 42.22912842386588, 42.22912842386588, 41.488615050683855, 41.488615050683855, 38.22956093480426, 38.22956093480426, 38.22956093480426, 38.22956093480426, 38.71934018314963, 38.47367119066147, 38.47367119066147, 34.76687513744172, 35.872043845225875, 35.77125155156975, 35.77125155156975, 35.77125155156975, 35.77125155156975, 29.855105058189263, 46.272066219906904, 46.272066219906904, 46.272066219906904, 46.514808109977004, 36.04177486170357, 52.05575793090978, 51.315558122721136, 51.315558122721136, 44.96217639269771, 44.96217639269771, 37.90482997991495, 33.20074462867609, 35.06848633340322, 35.06848633340322, 34.36068632385807, 34.36068632385807, 24.608716433624025, 24.36838773636168, 29.64753075092597, 45.32573332742624, 45.32573332742624, 45.32573332742624], \"xaxis\": \"x\", \"y\": [35.08, 33.4, 31.72, 31.12, 28.39, 29.7, 27.47, 27.61, 31.63, 26.3, 27.13, 22.49, 24.66, 16.96, 20.15, 30.93, 31.9, 31.3, 30.83, 31.02, 30.3, 30.6, 30.6, 33.52, 32.47, 32.41, 32.14, 33.9, 32.83, 35.01, 51.28, 43.52, 42.89, 49.06, 44.21, 45.48, 44.6, 38.14, 33.43, 46.48, 46.74, 46.78, 42.62, 46.6, 46.46, 52.0, 49.79, 51.63, 49.51, 41.84, 38.95, 52.97, 49.15, 33.26, 33.77, 38.85, 37.04, 35.9, 37.06, 36.23, 33.84, 36.62, 33.86, 36.65, 34.59, 37.24, 25.32, 26.27, 25.46, 28.11, 30.02, 25.0, 31.89, 30.4, 30.58, 32.55, 27.38, 23.81, 22.79, 20.28, 23.33, 24.34, 20.74, 18.1, 21.53, 22.81, 20.43, 21.72, 20.52, 23.31, 22.72, 22.04, 24.11, 26.34, 25.23, 39.12, 34.09, 31.18, 31.25, 30.49, 31.01, 34.94, 34.73, 33.26, 30.4, 39.45, 36.56, 37.59, 34.38, 27.27, 26.77, 24.99, 26.67, 29.5, 29.06, 31.79, 27.15, 28.49, 29.67, 28.73, 38.37, 37.64, 44.87, 43.54, 45.08, 37.38, 44.91, 37.72, 35.68, 31.77, 30.22, 32.61, 33.11, 36.06, 33.79, 31.01, 34.14, 36.59, 32.32, 36.4, 35.01, 36.48, 35.68, 37.27, 38.2, 39.58, 41.4, 38.88, 37.34, 33.03, 37.85, 36.12, 41.45, 32.42, 33.51, 37.2, 33.63, 38.44, 32.46, 32.78, 28.08, 33.8, 30.87, 26.86, 40.19, 38.51, 39.11, 43.12, 39.79, 38.92, 40.86, 42.29, 33.2, 34.45, 38.18, 43.15, 37.24, 34.5, 45.71, 29.78, 27.93, 30.76, 35.22, 36.01, 29.84, 30.51, 28.5, 32.35, 34.28, 32.74, 33.45, 33.71, 30.4, 29.56, 27.56, 28.85, 29.74, 30.78, 28.53, 31.74, 32.92, 35.62, 38.09, 36.31, 37.81, 35.4, 36.2, 35.11, 30.0, 26.39, 27.87, 28.99, 25.41, 25.14, 29.98, 25.54, 25.21, 32.73, 25.01, 24.54, 34.88, 29.67, 30.69, 36.28, 34.07, 28.25, 37.54, 39.53, 31.48, 29.69, 32.49, 35.22, 34.09, 35.22, 33.79, 37.96, 37.03, 37.66, 40.0, 32.44, 35.92, 31.86, 35.2, 35.89, 35.39, 40.53, 40.14, 34.91, 38.42, 36.59, 30.88, 34.0, 32.64, 30.87, 35.15, 31.94, 35.39, 37.73, 37.77, 32.05, 38.36, 42.61, 43.19, 38.3, 37.46, 31.07, 32.51, 33.02, 38.61, 28.72, 30.44, 30.26, 27.53, 34.54, 26.54, 27.39, 21.2, 33.9, 31.71, 34.49, 35.72, 27.98, 26.02, 29.0, 27.06, 26.39, 24.03, 33.17, 27.43, 31.39, 28.41, 30.16, 29.92, 30.02, 29.46, 27.31, 28.38, 29.64, 30.5, 40.23, 39.69, 35.81, 34.7, 38.75, 30.32, 35.07, 29.37, 33.09, 31.39, 31.19, 31.76, 33.84, 30.49, 34.47, 29.24, 31.72, 38.11, 35.69, 37.13, 34.04, 33.82, 32.46, 30.58, 29.93, 34.49, 38.16, 32.56, 32.54, 32.31, 32.6, 29.51, 31.26, 32.16, 31.26, 33.01, 21.27, 23.67, 25.79, 29.67, 27.15, 22.14, 25.69, 23.59, 27.62, 24.96, 22.79, 22.12, 22.21, 22.79, 26.82, 25.29, 32.84, 26.07, 25.56, 26.66, 27.64, 26.95, 32.4, 27.28, 27.28, 29.56, 31.61, 37.24, 33.4, 36.56, 37.67, 33.07, 34.88, 39.48, 37.77, 41.83, 40.1, 39.59, 40.66, 31.24, 40.21, 39.14, 36.4, 38.04, 40.48, 36.24, 35.22, 37.81, 25.1, 26.16, 29.65, 25.89, 28.43, 27.34, 28.71, 30.68, 27.69, 33.25, 31.54, 28.22, 32.02, 38.06, 37.31, 33.48, 38.79, 42.01, 38.08, 34.63, 28.4, 32.64, 33.01, 38.7, 33.66, 34.69, 22.25, 27.36, 31.42, 31.74, 30.62, 29.6, 28.29, 37.17, 34.45, 37.54, 39.44, 42.79, 37.86, 37.46, 36.98, 41.96, 44.3, 39.97, 42.35, 37.32, 36.4, 35.29, 35.55, 33.93, 34.74, 36.2, 32.68, 30.0, 30.44, 31.34, 29.48, 33.72, 28.94, 34.8, 21.92, 33.07, 31.74, 29.56, 37.04, 34.65, 33.19, 34.38, 36.17, 49.94, 38.19, 28.88, 28.01, 29.1, 32.45, 25.68, 31.51, 22.32, 20.79, 33.29, 49.8, 48.35, 46.11], \"yaxis\": \"y\"}],                        {\"legend\": {\"tracegroupgap\": 0}, \"template\": {\"data\": {\"bar\": [{\"error_x\": {\"color\": \"#2a3f5f\"}, \"error_y\": {\"color\": \"#2a3f5f\"}, \"marker\": {\"line\": {\"color\": \"#E5ECF6\", \"width\": 0.5}}, \"type\": \"bar\"}], \"barpolar\": [{\"marker\": {\"line\": {\"color\": \"#E5ECF6\", \"width\": 0.5}}, \"type\": \"barpolar\"}], \"carpet\": [{\"aaxis\": {\"endlinecolor\": \"#2a3f5f\", \"gridcolor\": \"white\", \"linecolor\": \"white\", \"minorgridcolor\": \"white\", \"startlinecolor\": \"#2a3f5f\"}, \"baxis\": {\"endlinecolor\": \"#2a3f5f\", \"gridcolor\": \"white\", \"linecolor\": \"white\", \"minorgridcolor\": \"white\", \"startlinecolor\": \"#2a3f5f\"}, \"type\": \"carpet\"}], \"choropleth\": [{\"colorbar\": {\"outlinewidth\": 0, \"ticks\": \"\"}, \"type\": \"choropleth\"}], \"contour\": [{\"colorbar\": {\"outlinewidth\": 0, \"ticks\": \"\"}, \"colorscale\": [[0.0, \"#0d0887\"], [0.1111111111111111, \"#46039f\"], [0.2222222222222222, \"#7201a8\"], [0.3333333333333333, \"#9c179e\"], [0.4444444444444444, \"#bd3786\"], [0.5555555555555556, \"#d8576b\"], [0.6666666666666666, \"#ed7953\"], [0.7777777777777778, \"#fb9f3a\"], [0.8888888888888888, \"#fdca26\"], [1.0, \"#f0f921\"]], \"type\": \"contour\"}], \"contourcarpet\": [{\"colorbar\": {\"outlinewidth\": 0, \"ticks\": \"\"}, \"type\": \"contourcarpet\"}], \"heatmap\": [{\"colorbar\": {\"outlinewidth\": 0, \"ticks\": \"\"}, \"colorscale\": [[0.0, \"#0d0887\"], [0.1111111111111111, \"#46039f\"], [0.2222222222222222, \"#7201a8\"], [0.3333333333333333, \"#9c179e\"], [0.4444444444444444, \"#bd3786\"], [0.5555555555555556, \"#d8576b\"], [0.6666666666666666, \"#ed7953\"], [0.7777777777777778, \"#fb9f3a\"], [0.8888888888888888, \"#fdca26\"], [1.0, \"#f0f921\"]], \"type\": \"heatmap\"}], \"heatmapgl\": [{\"colorbar\": {\"outlinewidth\": 0, \"ticks\": \"\"}, \"colorscale\": [[0.0, \"#0d0887\"], [0.1111111111111111, \"#46039f\"], [0.2222222222222222, \"#7201a8\"], [0.3333333333333333, \"#9c179e\"], [0.4444444444444444, \"#bd3786\"], [0.5555555555555556, \"#d8576b\"], [0.6666666666666666, \"#ed7953\"], [0.7777777777777778, \"#fb9f3a\"], [0.8888888888888888, \"#fdca26\"], [1.0, \"#f0f921\"]], \"type\": \"heatmapgl\"}], \"histogram\": [{\"marker\": {\"colorbar\": {\"outlinewidth\": 0, \"ticks\": \"\"}}, \"type\": \"histogram\"}], \"histogram2d\": [{\"colorbar\": {\"outlinewidth\": 0, \"ticks\": \"\"}, \"colorscale\": [[0.0, \"#0d0887\"], [0.1111111111111111, \"#46039f\"], [0.2222222222222222, \"#7201a8\"], [0.3333333333333333, \"#9c179e\"], [0.4444444444444444, \"#bd3786\"], [0.5555555555555556, \"#d8576b\"], [0.6666666666666666, \"#ed7953\"], [0.7777777777777778, \"#fb9f3a\"], [0.8888888888888888, \"#fdca26\"], [1.0, \"#f0f921\"]], \"type\": \"histogram2d\"}], \"histogram2dcontour\": [{\"colorbar\": {\"outlinewidth\": 0, \"ticks\": \"\"}, \"colorscale\": [[0.0, \"#0d0887\"], [0.1111111111111111, \"#46039f\"], [0.2222222222222222, \"#7201a8\"], [0.3333333333333333, \"#9c179e\"], [0.4444444444444444, \"#bd3786\"], [0.5555555555555556, \"#d8576b\"], [0.6666666666666666, \"#ed7953\"], [0.7777777777777778, \"#fb9f3a\"], [0.8888888888888888, \"#fdca26\"], [1.0, \"#f0f921\"]], \"type\": \"histogram2dcontour\"}], \"mesh3d\": [{\"colorbar\": {\"outlinewidth\": 0, \"ticks\": \"\"}, \"type\": \"mesh3d\"}], \"parcoords\": [{\"line\": {\"colorbar\": {\"outlinewidth\": 0, \"ticks\": \"\"}}, \"type\": \"parcoords\"}], \"pie\": [{\"automargin\": true, \"type\": \"pie\"}], \"scatter\": [{\"marker\": {\"colorbar\": {\"outlinewidth\": 0, \"ticks\": \"\"}}, \"type\": \"scatter\"}], \"scatter3d\": [{\"line\": {\"colorbar\": {\"outlinewidth\": 0, \"ticks\": \"\"}}, \"marker\": {\"colorbar\": {\"outlinewidth\": 0, \"ticks\": \"\"}}, \"type\": \"scatter3d\"}], \"scattercarpet\": [{\"marker\": {\"colorbar\": {\"outlinewidth\": 0, \"ticks\": \"\"}}, \"type\": \"scattercarpet\"}], \"scattergeo\": [{\"marker\": {\"colorbar\": {\"outlinewidth\": 0, \"ticks\": \"\"}}, \"type\": \"scattergeo\"}], \"scattergl\": [{\"marker\": {\"colorbar\": {\"outlinewidth\": 0, \"ticks\": \"\"}}, \"type\": \"scattergl\"}], \"scattermapbox\": [{\"marker\": {\"colorbar\": {\"outlinewidth\": 0, \"ticks\": \"\"}}, \"type\": \"scattermapbox\"}], \"scatterpolar\": [{\"marker\": {\"colorbar\": {\"outlinewidth\": 0, \"ticks\": \"\"}}, \"type\": \"scatterpolar\"}], \"scatterpolargl\": [{\"marker\": {\"colorbar\": {\"outlinewidth\": 0, \"ticks\": \"\"}}, \"type\": \"scatterpolargl\"}], \"scatterternary\": [{\"marker\": {\"colorbar\": {\"outlinewidth\": 0, \"ticks\": \"\"}}, \"type\": \"scatterternary\"}], \"surface\": [{\"colorbar\": {\"outlinewidth\": 0, \"ticks\": \"\"}, \"colorscale\": [[0.0, \"#0d0887\"], [0.1111111111111111, \"#46039f\"], [0.2222222222222222, \"#7201a8\"], [0.3333333333333333, \"#9c179e\"], [0.4444444444444444, \"#bd3786\"], [0.5555555555555556, \"#d8576b\"], [0.6666666666666666, \"#ed7953\"], [0.7777777777777778, \"#fb9f3a\"], [0.8888888888888888, \"#fdca26\"], [1.0, \"#f0f921\"]], \"type\": \"surface\"}], \"table\": [{\"cells\": {\"fill\": {\"color\": \"#EBF0F8\"}, \"line\": {\"color\": \"white\"}}, \"header\": {\"fill\": {\"color\": \"#C8D4E3\"}, \"line\": {\"color\": \"white\"}}, \"type\": \"table\"}]}, \"layout\": {\"annotationdefaults\": {\"arrowcolor\": \"#2a3f5f\", \"arrowhead\": 0, \"arrowwidth\": 1}, \"autotypenumbers\": \"strict\", \"coloraxis\": {\"colorbar\": {\"outlinewidth\": 0, \"ticks\": \"\"}}, \"colorscale\": {\"diverging\": [[0, \"#8e0152\"], [0.1, \"#c51b7d\"], [0.2, \"#de77ae\"], [0.3, \"#f1b6da\"], [0.4, \"#fde0ef\"], [0.5, \"#f7f7f7\"], [0.6, \"#e6f5d0\"], [0.7, \"#b8e186\"], [0.8, \"#7fbc41\"], [0.9, \"#4d9221\"], [1, \"#276419\"]], \"sequential\": [[0.0, \"#0d0887\"], [0.1111111111111111, \"#46039f\"], [0.2222222222222222, \"#7201a8\"], [0.3333333333333333, \"#9c179e\"], [0.4444444444444444, \"#bd3786\"], [0.5555555555555556, \"#d8576b\"], [0.6666666666666666, \"#ed7953\"], [0.7777777777777778, \"#fb9f3a\"], [0.8888888888888888, \"#fdca26\"], [1.0, \"#f0f921\"]], \"sequentialminus\": [[0.0, \"#0d0887\"], [0.1111111111111111, \"#46039f\"], [0.2222222222222222, \"#7201a8\"], [0.3333333333333333, \"#9c179e\"], [0.4444444444444444, \"#bd3786\"], [0.5555555555555556, \"#d8576b\"], [0.6666666666666666, \"#ed7953\"], [0.7777777777777778, \"#fb9f3a\"], [0.8888888888888888, \"#fdca26\"], [1.0, \"#f0f921\"]]}, \"colorway\": [\"#636efa\", \"#EF553B\", \"#00cc96\", \"#ab63fa\", \"#FFA15A\", \"#19d3f3\", \"#FF6692\", \"#B6E880\", \"#FF97FF\", \"#FECB52\"], \"font\": {\"color\": \"#2a3f5f\"}, \"geo\": {\"bgcolor\": \"white\", \"lakecolor\": \"white\", \"landcolor\": \"#E5ECF6\", \"showlakes\": true, \"showland\": true, \"subunitcolor\": \"white\"}, \"hoverlabel\": {\"align\": \"left\"}, \"hovermode\": \"closest\", \"mapbox\": {\"style\": \"light\"}, \"paper_bgcolor\": \"white\", \"plot_bgcolor\": \"#E5ECF6\", \"polar\": {\"angularaxis\": {\"gridcolor\": \"white\", \"linecolor\": \"white\", \"ticks\": \"\"}, \"bgcolor\": \"#E5ECF6\", \"radialaxis\": {\"gridcolor\": \"white\", \"linecolor\": \"white\", \"ticks\": \"\"}}, \"scene\": {\"xaxis\": {\"backgroundcolor\": \"#E5ECF6\", \"gridcolor\": \"white\", \"gridwidth\": 2, \"linecolor\": \"white\", \"showbackground\": true, \"ticks\": \"\", \"zerolinecolor\": \"white\"}, \"yaxis\": {\"backgroundcolor\": \"#E5ECF6\", \"gridcolor\": \"white\", \"gridwidth\": 2, \"linecolor\": \"white\", \"showbackground\": true, \"ticks\": \"\", \"zerolinecolor\": \"white\"}, \"zaxis\": {\"backgroundcolor\": \"#E5ECF6\", \"gridcolor\": \"white\", \"gridwidth\": 2, \"linecolor\": \"white\", \"showbackground\": true, \"ticks\": \"\", \"zerolinecolor\": \"white\"}}, \"shapedefaults\": {\"line\": {\"color\": \"#2a3f5f\"}}, \"ternary\": {\"aaxis\": {\"gridcolor\": \"white\", \"linecolor\": \"white\", \"ticks\": \"\"}, \"baxis\": {\"gridcolor\": \"white\", \"linecolor\": \"white\", \"ticks\": \"\"}, \"bgcolor\": \"#E5ECF6\", \"caxis\": {\"gridcolor\": \"white\", \"linecolor\": \"white\", \"ticks\": \"\"}}, \"title\": {\"x\": 0.05}, \"xaxis\": {\"automargin\": true, \"gridcolor\": \"white\", \"linecolor\": \"white\", \"ticks\": \"\", \"title\": {\"standoff\": 15}, \"zerolinecolor\": \"white\", \"zerolinewidth\": 2}, \"yaxis\": {\"automargin\": true, \"gridcolor\": \"white\", \"linecolor\": \"white\", \"ticks\": \"\", \"title\": {\"standoff\": 15}, \"zerolinecolor\": \"white\", \"zerolinewidth\": 2}}}, \"title\": {\"text\": \"Rompimento7Dias x Rompimento 28 Dias\"}, \"xaxis\": {\"anchor\": \"y\", \"domain\": [0.0, 1.0], \"title\": {\"text\": \"ResultadoEsperado\"}}, \"yaxis\": {\"anchor\": \"x\", \"domain\": [0.0, 1.0], \"title\": {\"text\": \"Rompimento28Dias\"}}},                        {\"responsive\": true}                    ).then(function(){\n",
       "                            \n",
       "var gd = document.getElementById('1482fd1e-240a-4c88-a56f-ca4fe5831acd');\n",
       "var x = new MutationObserver(function (mutations, observer) {{\n",
       "        var display = window.getComputedStyle(gd).display;\n",
       "        if (!display || display === 'none') {{\n",
       "            console.log([gd, 'removed!']);\n",
       "            Plotly.purge(gd);\n",
       "            observer.disconnect();\n",
       "        }}\n",
       "}});\n",
       "\n",
       "// Listen for the removal of the full notebook cells\n",
       "var notebookContainer = gd.closest('#notebook-container');\n",
       "if (notebookContainer) {{\n",
       "    x.observe(notebookContainer, {childList: true});\n",
       "}}\n",
       "\n",
       "// Listen for the clearing of the current output cell\n",
       "var outputEl = gd.closest('.output');\n",
       "if (outputEl) {{\n",
       "    x.observe(outputEl, {childList: true});\n",
       "}}\n",
       "\n",
       "                        })                };                });            </script>        </div>"
      ]
     },
     "metadata": {},
     "output_type": "display_data"
    }
   ],
   "source": [
    "fig = px.scatter(dados_aglomerante, x=\"ResultadoEsperado\", y=\"Rompimento28Dias\", title='Rompimento7Dias x Rompimento 28 Dias')\n",
    "fig.show()"
   ]
  },
  {
   "cell_type": "code",
   "execution_count": 1125,
   "metadata": {},
   "outputs": [
    {
     "data": {
      "application/vnd.plotly.v1+json": {
       "config": {
        "plotlyServerURL": "https://plot.ly"
       },
       "data": [
        {
         "hovertemplate": "ConsumoPorM3=%{x}<br>Rompimento28Dias=%{y}<extra></extra>",
         "legendgroup": "",
         "marker": {
          "color": "#636efa",
          "symbol": "circle"
         },
         "mode": "markers",
         "name": "",
         "orientation": "v",
         "showlegend": false,
         "type": "scatter",
         "x": [
          362,
          320,
          320,
          320,
          320,
          324,
          324,
          324,
          324,
          214,
          214,
          214,
          214,
          195,
          194,
          354,
          354,
          354,
          354,
          354,
          354,
          354,
          354,
          373,
          373,
          373,
          373,
          373,
          373,
          373,
          394,
          394,
          394,
          394,
          394,
          394,
          394,
          394,
          394,
          394,
          394,
          394,
          394,
          394,
          394,
          394,
          394,
          394,
          394,
          394,
          394,
          394,
          394,
          364,
          364,
          364,
          364,
          364,
          364,
          364,
          364,
          364,
          364,
          364,
          369,
          369,
          241,
          241,
          241,
          241,
          241,
          241,
          241,
          241,
          241,
          241,
          241,
          233,
          219,
          219,
          219,
          219,
          219,
          219,
          219,
          219,
          219,
          219,
          219,
          219,
          219,
          233,
          237,
          228,
          228,
          365,
          400,
          400,
          400,
          400,
          400,
          400,
          400,
          400,
          400,
          400,
          292,
          292,
          292,
          271,
          289,
          289,
          289,
          289,
          289,
          289,
          287,
          281,
          281,
          281,
          318,
          318,
          318,
          318,
          318,
          318,
          318,
          318,
          314,
          295,
          302,
          302,
          302,
          302,
          302,
          302,
          302,
          302,
          302,
          302,
          310,
          310,
          310,
          310,
          310,
          310,
          310,
          311,
          299,
          299,
          299,
          292,
          292,
          276,
          276,
          276,
          276,
          276,
          266,
          266,
          260,
          266,
          266,
          266,
          309,
          400,
          400,
          400,
          400,
          400,
          400,
          400,
          400,
          400,
          400,
          400,
          400,
          400,
          394,
          272,
          272,
          272,
          272,
          272,
          272,
          272,
          272,
          272,
          272,
          272,
          272,
          272,
          272,
          256,
          256,
          256,
          262,
          262,
          264,
          264,
          264,
          264,
          264,
          264,
          264,
          264,
          264,
          264,
          244,
          244,
          244,
          244,
          244,
          244,
          233,
          227,
          227,
          227,
          221,
          227,
          264,
          278,
          278,
          278,
          278,
          275,
          325,
          325,
          325,
          325,
          325,
          325,
          325,
          325,
          325,
          325,
          325,
          325,
          325,
          318,
          318,
          318,
          329,
          329,
          329,
          329,
          329,
          329,
          329,
          329,
          329,
          329,
          307,
          307,
          319,
          319,
          319,
          402,
          402,
          414,
          321,
          321,
          321,
          321,
          321,
          321,
          321,
          321,
          283,
          273,
          268,
          273,
          273,
          272,
          249,
          249,
          244,
          281,
          281,
          281,
          281,
          268,
          268,
          268,
          268,
          268,
          268,
          268,
          268,
          268,
          268,
          268,
          268,
          268,
          273,
          266,
          268,
          268,
          268,
          275,
          275,
          275,
          275,
          275,
          253,
          253,
          253,
          253,
          253,
          253,
          253,
          253,
          253,
          253,
          253,
          253,
          253,
          253,
          253,
          253,
          253,
          253,
          253,
          253,
          253,
          253,
          253,
          253,
          254,
          254,
          254,
          254,
          254,
          254,
          254,
          223,
          229,
          229,
          229,
          229,
          229,
          229,
          229,
          229,
          223,
          229,
          223,
          229,
          229,
          229,
          229,
          229,
          229,
          229,
          229,
          229,
          229,
          267,
          267,
          261,
          277,
          277,
          277,
          277,
          277,
          277,
          277,
          277,
          370,
          370,
          370,
          370,
          370,
          370,
          354,
          326,
          306,
          306,
          306,
          306,
          306,
          306,
          306,
          333,
          333,
          333,
          333,
          333,
          333,
          333,
          333,
          333,
          337,
          337,
          337,
          402,
          402,
          402,
          402,
          402,
          402,
          402,
          402,
          402,
          402,
          402,
          402,
          402,
          402,
          252,
          252,
          306,
          306,
          306,
          306,
          306,
          306,
          328,
          340,
          340,
          340,
          340,
          340,
          340,
          340,
          340,
          340,
          340,
          340,
          340,
          315,
          315,
          315,
          315,
          315,
          315,
          315,
          299,
          306,
          283,
          283,
          283,
          283,
          250,
          391,
          391,
          391,
          391,
          311,
          420,
          420,
          420,
          361,
          361,
          291,
          285,
          295,
          295,
          295,
          295,
          227,
          227,
          256,
          380,
          380,
          380
         ],
         "xaxis": "x",
         "y": [
          35.08,
          33.4,
          31.72,
          31.12,
          28.39,
          29.7,
          27.47,
          27.61,
          31.63,
          26.3,
          27.13,
          22.49,
          24.66,
          16.96,
          20.15,
          30.93,
          31.9,
          31.3,
          30.83,
          31.02,
          30.3,
          30.6,
          30.6,
          33.52,
          32.47,
          32.41,
          32.14,
          33.9,
          32.83,
          35.01,
          51.28,
          43.52,
          42.89,
          49.06,
          44.21,
          45.48,
          44.6,
          38.14,
          33.43,
          46.48,
          46.74,
          46.78,
          42.62,
          46.6,
          46.46,
          52,
          49.79,
          51.63,
          49.51,
          41.84,
          38.95,
          52.97,
          49.15,
          33.26,
          33.77,
          38.85,
          37.04,
          35.9,
          37.06,
          36.23,
          33.84,
          36.62,
          33.86,
          36.65,
          34.59,
          37.24,
          25.32,
          26.27,
          25.46,
          28.11,
          30.02,
          25,
          31.89,
          30.4,
          30.58,
          32.55,
          27.38,
          23.81,
          22.79,
          20.28,
          23.33,
          24.34,
          20.74,
          18.1,
          21.53,
          22.81,
          20.43,
          21.72,
          20.52,
          23.31,
          22.72,
          22.04,
          24.11,
          26.34,
          25.23,
          39.12,
          34.09,
          31.18,
          31.25,
          30.49,
          31.01,
          34.94,
          34.73,
          33.26,
          30.4,
          39.45,
          36.56,
          37.59,
          34.38,
          27.27,
          26.77,
          24.99,
          26.67,
          29.5,
          29.06,
          31.79,
          27.15,
          28.49,
          29.67,
          28.73,
          38.37,
          37.64,
          44.87,
          43.54,
          45.08,
          37.38,
          44.91,
          37.72,
          35.68,
          31.77,
          30.22,
          32.61,
          33.11,
          36.06,
          33.79,
          31.01,
          34.14,
          36.59,
          32.32,
          36.4,
          35.01,
          36.48,
          35.68,
          37.27,
          38.2,
          39.58,
          41.4,
          38.88,
          37.34,
          33.03,
          37.85,
          36.12,
          41.45,
          32.42,
          33.51,
          37.2,
          33.63,
          38.44,
          32.46,
          32.78,
          28.08,
          33.8,
          30.87,
          26.86,
          40.19,
          38.51,
          39.11,
          43.12,
          39.79,
          38.92,
          40.86,
          42.29,
          33.2,
          34.45,
          38.18,
          43.15,
          37.24,
          34.5,
          45.71,
          29.78,
          27.93,
          30.76,
          35.22,
          36.01,
          29.84,
          30.51,
          28.5,
          32.35,
          34.28,
          32.74,
          33.45,
          33.71,
          30.4,
          29.56,
          27.56,
          28.85,
          29.74,
          30.78,
          28.53,
          31.74,
          32.92,
          35.62,
          38.09,
          36.31,
          37.81,
          35.4,
          36.2,
          35.11,
          30,
          26.39,
          27.87,
          28.99,
          25.41,
          25.14,
          29.98,
          25.54,
          25.21,
          32.73,
          25.01,
          24.54,
          34.88,
          29.67,
          30.69,
          36.28,
          34.07,
          28.25,
          37.54,
          39.53,
          31.48,
          29.69,
          32.49,
          35.22,
          34.09,
          35.22,
          33.79,
          37.96,
          37.03,
          37.66,
          40,
          32.44,
          35.92,
          31.86,
          35.2,
          35.89,
          35.39,
          40.53,
          40.14,
          34.91,
          38.42,
          36.59,
          30.88,
          34,
          32.64,
          30.87,
          35.15,
          31.94,
          35.39,
          37.73,
          37.77,
          32.05,
          38.36,
          42.61,
          43.19,
          38.3,
          37.46,
          31.07,
          32.51,
          33.02,
          38.61,
          28.72,
          30.44,
          30.26,
          27.53,
          34.54,
          26.54,
          27.39,
          21.2,
          33.9,
          31.71,
          34.49,
          35.72,
          27.98,
          26.02,
          29,
          27.06,
          26.39,
          24.03,
          33.17,
          27.43,
          31.39,
          28.41,
          30.16,
          29.92,
          30.02,
          29.46,
          27.31,
          28.38,
          29.64,
          30.5,
          40.23,
          39.69,
          35.81,
          34.7,
          38.75,
          30.32,
          35.07,
          29.37,
          33.09,
          31.39,
          31.19,
          31.76,
          33.84,
          30.49,
          34.47,
          29.24,
          31.72,
          38.11,
          35.69,
          37.13,
          34.04,
          33.82,
          32.46,
          30.58,
          29.93,
          34.49,
          38.16,
          32.56,
          32.54,
          32.31,
          32.6,
          29.51,
          31.26,
          32.16,
          31.26,
          33.01,
          21.27,
          23.67,
          25.79,
          29.67,
          27.15,
          22.14,
          25.69,
          23.59,
          27.62,
          24.96,
          22.79,
          22.12,
          22.21,
          22.79,
          26.82,
          25.29,
          32.84,
          26.07,
          25.56,
          26.66,
          27.64,
          26.95,
          32.4,
          27.28,
          27.28,
          29.56,
          31.61,
          37.24,
          33.4,
          36.56,
          37.67,
          33.07,
          34.88,
          39.48,
          37.77,
          41.83,
          40.1,
          39.59,
          40.66,
          31.24,
          40.21,
          39.14,
          36.4,
          38.04,
          40.48,
          36.24,
          35.22,
          37.81,
          25.1,
          26.16,
          29.65,
          25.89,
          28.43,
          27.34,
          28.71,
          30.68,
          27.69,
          33.25,
          31.54,
          28.22,
          32.02,
          38.06,
          37.31,
          33.48,
          38.79,
          42.01,
          38.08,
          34.63,
          28.4,
          32.64,
          33.01,
          38.7,
          33.66,
          34.69,
          22.25,
          27.36,
          31.42,
          31.74,
          30.62,
          29.6,
          28.29,
          37.17,
          34.45,
          37.54,
          39.44,
          42.79,
          37.86,
          37.46,
          36.98,
          41.96,
          44.3,
          39.97,
          42.35,
          37.32,
          36.4,
          35.29,
          35.55,
          33.93,
          34.74,
          36.2,
          32.68,
          30,
          30.44,
          31.34,
          29.48,
          33.72,
          28.94,
          34.8,
          21.92,
          33.07,
          31.74,
          29.56,
          37.04,
          34.65,
          33.19,
          34.38,
          36.17,
          49.94,
          38.19,
          28.88,
          28.01,
          29.1,
          32.45,
          25.68,
          31.51,
          22.32,
          20.79,
          33.29,
          49.8,
          48.35,
          46.11
         ],
         "yaxis": "y"
        }
       ],
       "layout": {
        "legend": {
         "tracegroupgap": 0
        },
        "template": {
         "data": {
          "bar": [
           {
            "error_x": {
             "color": "#2a3f5f"
            },
            "error_y": {
             "color": "#2a3f5f"
            },
            "marker": {
             "line": {
              "color": "#E5ECF6",
              "width": 0.5
             }
            },
            "type": "bar"
           }
          ],
          "barpolar": [
           {
            "marker": {
             "line": {
              "color": "#E5ECF6",
              "width": 0.5
             }
            },
            "type": "barpolar"
           }
          ],
          "carpet": [
           {
            "aaxis": {
             "endlinecolor": "#2a3f5f",
             "gridcolor": "white",
             "linecolor": "white",
             "minorgridcolor": "white",
             "startlinecolor": "#2a3f5f"
            },
            "baxis": {
             "endlinecolor": "#2a3f5f",
             "gridcolor": "white",
             "linecolor": "white",
             "minorgridcolor": "white",
             "startlinecolor": "#2a3f5f"
            },
            "type": "carpet"
           }
          ],
          "choropleth": [
           {
            "colorbar": {
             "outlinewidth": 0,
             "ticks": ""
            },
            "type": "choropleth"
           }
          ],
          "contour": [
           {
            "colorbar": {
             "outlinewidth": 0,
             "ticks": ""
            },
            "colorscale": [
             [
              0,
              "#0d0887"
             ],
             [
              0.1111111111111111,
              "#46039f"
             ],
             [
              0.2222222222222222,
              "#7201a8"
             ],
             [
              0.3333333333333333,
              "#9c179e"
             ],
             [
              0.4444444444444444,
              "#bd3786"
             ],
             [
              0.5555555555555556,
              "#d8576b"
             ],
             [
              0.6666666666666666,
              "#ed7953"
             ],
             [
              0.7777777777777778,
              "#fb9f3a"
             ],
             [
              0.8888888888888888,
              "#fdca26"
             ],
             [
              1,
              "#f0f921"
             ]
            ],
            "type": "contour"
           }
          ],
          "contourcarpet": [
           {
            "colorbar": {
             "outlinewidth": 0,
             "ticks": ""
            },
            "type": "contourcarpet"
           }
          ],
          "heatmap": [
           {
            "colorbar": {
             "outlinewidth": 0,
             "ticks": ""
            },
            "colorscale": [
             [
              0,
              "#0d0887"
             ],
             [
              0.1111111111111111,
              "#46039f"
             ],
             [
              0.2222222222222222,
              "#7201a8"
             ],
             [
              0.3333333333333333,
              "#9c179e"
             ],
             [
              0.4444444444444444,
              "#bd3786"
             ],
             [
              0.5555555555555556,
              "#d8576b"
             ],
             [
              0.6666666666666666,
              "#ed7953"
             ],
             [
              0.7777777777777778,
              "#fb9f3a"
             ],
             [
              0.8888888888888888,
              "#fdca26"
             ],
             [
              1,
              "#f0f921"
             ]
            ],
            "type": "heatmap"
           }
          ],
          "heatmapgl": [
           {
            "colorbar": {
             "outlinewidth": 0,
             "ticks": ""
            },
            "colorscale": [
             [
              0,
              "#0d0887"
             ],
             [
              0.1111111111111111,
              "#46039f"
             ],
             [
              0.2222222222222222,
              "#7201a8"
             ],
             [
              0.3333333333333333,
              "#9c179e"
             ],
             [
              0.4444444444444444,
              "#bd3786"
             ],
             [
              0.5555555555555556,
              "#d8576b"
             ],
             [
              0.6666666666666666,
              "#ed7953"
             ],
             [
              0.7777777777777778,
              "#fb9f3a"
             ],
             [
              0.8888888888888888,
              "#fdca26"
             ],
             [
              1,
              "#f0f921"
             ]
            ],
            "type": "heatmapgl"
           }
          ],
          "histogram": [
           {
            "marker": {
             "colorbar": {
              "outlinewidth": 0,
              "ticks": ""
             }
            },
            "type": "histogram"
           }
          ],
          "histogram2d": [
           {
            "colorbar": {
             "outlinewidth": 0,
             "ticks": ""
            },
            "colorscale": [
             [
              0,
              "#0d0887"
             ],
             [
              0.1111111111111111,
              "#46039f"
             ],
             [
              0.2222222222222222,
              "#7201a8"
             ],
             [
              0.3333333333333333,
              "#9c179e"
             ],
             [
              0.4444444444444444,
              "#bd3786"
             ],
             [
              0.5555555555555556,
              "#d8576b"
             ],
             [
              0.6666666666666666,
              "#ed7953"
             ],
             [
              0.7777777777777778,
              "#fb9f3a"
             ],
             [
              0.8888888888888888,
              "#fdca26"
             ],
             [
              1,
              "#f0f921"
             ]
            ],
            "type": "histogram2d"
           }
          ],
          "histogram2dcontour": [
           {
            "colorbar": {
             "outlinewidth": 0,
             "ticks": ""
            },
            "colorscale": [
             [
              0,
              "#0d0887"
             ],
             [
              0.1111111111111111,
              "#46039f"
             ],
             [
              0.2222222222222222,
              "#7201a8"
             ],
             [
              0.3333333333333333,
              "#9c179e"
             ],
             [
              0.4444444444444444,
              "#bd3786"
             ],
             [
              0.5555555555555556,
              "#d8576b"
             ],
             [
              0.6666666666666666,
              "#ed7953"
             ],
             [
              0.7777777777777778,
              "#fb9f3a"
             ],
             [
              0.8888888888888888,
              "#fdca26"
             ],
             [
              1,
              "#f0f921"
             ]
            ],
            "type": "histogram2dcontour"
           }
          ],
          "mesh3d": [
           {
            "colorbar": {
             "outlinewidth": 0,
             "ticks": ""
            },
            "type": "mesh3d"
           }
          ],
          "parcoords": [
           {
            "line": {
             "colorbar": {
              "outlinewidth": 0,
              "ticks": ""
             }
            },
            "type": "parcoords"
           }
          ],
          "pie": [
           {
            "automargin": true,
            "type": "pie"
           }
          ],
          "scatter": [
           {
            "marker": {
             "colorbar": {
              "outlinewidth": 0,
              "ticks": ""
             }
            },
            "type": "scatter"
           }
          ],
          "scatter3d": [
           {
            "line": {
             "colorbar": {
              "outlinewidth": 0,
              "ticks": ""
             }
            },
            "marker": {
             "colorbar": {
              "outlinewidth": 0,
              "ticks": ""
             }
            },
            "type": "scatter3d"
           }
          ],
          "scattercarpet": [
           {
            "marker": {
             "colorbar": {
              "outlinewidth": 0,
              "ticks": ""
             }
            },
            "type": "scattercarpet"
           }
          ],
          "scattergeo": [
           {
            "marker": {
             "colorbar": {
              "outlinewidth": 0,
              "ticks": ""
             }
            },
            "type": "scattergeo"
           }
          ],
          "scattergl": [
           {
            "marker": {
             "colorbar": {
              "outlinewidth": 0,
              "ticks": ""
             }
            },
            "type": "scattergl"
           }
          ],
          "scattermapbox": [
           {
            "marker": {
             "colorbar": {
              "outlinewidth": 0,
              "ticks": ""
             }
            },
            "type": "scattermapbox"
           }
          ],
          "scatterpolar": [
           {
            "marker": {
             "colorbar": {
              "outlinewidth": 0,
              "ticks": ""
             }
            },
            "type": "scatterpolar"
           }
          ],
          "scatterpolargl": [
           {
            "marker": {
             "colorbar": {
              "outlinewidth": 0,
              "ticks": ""
             }
            },
            "type": "scatterpolargl"
           }
          ],
          "scatterternary": [
           {
            "marker": {
             "colorbar": {
              "outlinewidth": 0,
              "ticks": ""
             }
            },
            "type": "scatterternary"
           }
          ],
          "surface": [
           {
            "colorbar": {
             "outlinewidth": 0,
             "ticks": ""
            },
            "colorscale": [
             [
              0,
              "#0d0887"
             ],
             [
              0.1111111111111111,
              "#46039f"
             ],
             [
              0.2222222222222222,
              "#7201a8"
             ],
             [
              0.3333333333333333,
              "#9c179e"
             ],
             [
              0.4444444444444444,
              "#bd3786"
             ],
             [
              0.5555555555555556,
              "#d8576b"
             ],
             [
              0.6666666666666666,
              "#ed7953"
             ],
             [
              0.7777777777777778,
              "#fb9f3a"
             ],
             [
              0.8888888888888888,
              "#fdca26"
             ],
             [
              1,
              "#f0f921"
             ]
            ],
            "type": "surface"
           }
          ],
          "table": [
           {
            "cells": {
             "fill": {
              "color": "#EBF0F8"
             },
             "line": {
              "color": "white"
             }
            },
            "header": {
             "fill": {
              "color": "#C8D4E3"
             },
             "line": {
              "color": "white"
             }
            },
            "type": "table"
           }
          ]
         },
         "layout": {
          "annotationdefaults": {
           "arrowcolor": "#2a3f5f",
           "arrowhead": 0,
           "arrowwidth": 1
          },
          "autotypenumbers": "strict",
          "coloraxis": {
           "colorbar": {
            "outlinewidth": 0,
            "ticks": ""
           }
          },
          "colorscale": {
           "diverging": [
            [
             0,
             "#8e0152"
            ],
            [
             0.1,
             "#c51b7d"
            ],
            [
             0.2,
             "#de77ae"
            ],
            [
             0.3,
             "#f1b6da"
            ],
            [
             0.4,
             "#fde0ef"
            ],
            [
             0.5,
             "#f7f7f7"
            ],
            [
             0.6,
             "#e6f5d0"
            ],
            [
             0.7,
             "#b8e186"
            ],
            [
             0.8,
             "#7fbc41"
            ],
            [
             0.9,
             "#4d9221"
            ],
            [
             1,
             "#276419"
            ]
           ],
           "sequential": [
            [
             0,
             "#0d0887"
            ],
            [
             0.1111111111111111,
             "#46039f"
            ],
            [
             0.2222222222222222,
             "#7201a8"
            ],
            [
             0.3333333333333333,
             "#9c179e"
            ],
            [
             0.4444444444444444,
             "#bd3786"
            ],
            [
             0.5555555555555556,
             "#d8576b"
            ],
            [
             0.6666666666666666,
             "#ed7953"
            ],
            [
             0.7777777777777778,
             "#fb9f3a"
            ],
            [
             0.8888888888888888,
             "#fdca26"
            ],
            [
             1,
             "#f0f921"
            ]
           ],
           "sequentialminus": [
            [
             0,
             "#0d0887"
            ],
            [
             0.1111111111111111,
             "#46039f"
            ],
            [
             0.2222222222222222,
             "#7201a8"
            ],
            [
             0.3333333333333333,
             "#9c179e"
            ],
            [
             0.4444444444444444,
             "#bd3786"
            ],
            [
             0.5555555555555556,
             "#d8576b"
            ],
            [
             0.6666666666666666,
             "#ed7953"
            ],
            [
             0.7777777777777778,
             "#fb9f3a"
            ],
            [
             0.8888888888888888,
             "#fdca26"
            ],
            [
             1,
             "#f0f921"
            ]
           ]
          },
          "colorway": [
           "#636efa",
           "#EF553B",
           "#00cc96",
           "#ab63fa",
           "#FFA15A",
           "#19d3f3",
           "#FF6692",
           "#B6E880",
           "#FF97FF",
           "#FECB52"
          ],
          "font": {
           "color": "#2a3f5f"
          },
          "geo": {
           "bgcolor": "white",
           "lakecolor": "white",
           "landcolor": "#E5ECF6",
           "showlakes": true,
           "showland": true,
           "subunitcolor": "white"
          },
          "hoverlabel": {
           "align": "left"
          },
          "hovermode": "closest",
          "mapbox": {
           "style": "light"
          },
          "paper_bgcolor": "white",
          "plot_bgcolor": "#E5ECF6",
          "polar": {
           "angularaxis": {
            "gridcolor": "white",
            "linecolor": "white",
            "ticks": ""
           },
           "bgcolor": "#E5ECF6",
           "radialaxis": {
            "gridcolor": "white",
            "linecolor": "white",
            "ticks": ""
           }
          },
          "scene": {
           "xaxis": {
            "backgroundcolor": "#E5ECF6",
            "gridcolor": "white",
            "gridwidth": 2,
            "linecolor": "white",
            "showbackground": true,
            "ticks": "",
            "zerolinecolor": "white"
           },
           "yaxis": {
            "backgroundcolor": "#E5ECF6",
            "gridcolor": "white",
            "gridwidth": 2,
            "linecolor": "white",
            "showbackground": true,
            "ticks": "",
            "zerolinecolor": "white"
           },
           "zaxis": {
            "backgroundcolor": "#E5ECF6",
            "gridcolor": "white",
            "gridwidth": 2,
            "linecolor": "white",
            "showbackground": true,
            "ticks": "",
            "zerolinecolor": "white"
           }
          },
          "shapedefaults": {
           "line": {
            "color": "#2a3f5f"
           }
          },
          "ternary": {
           "aaxis": {
            "gridcolor": "white",
            "linecolor": "white",
            "ticks": ""
           },
           "baxis": {
            "gridcolor": "white",
            "linecolor": "white",
            "ticks": ""
           },
           "bgcolor": "#E5ECF6",
           "caxis": {
            "gridcolor": "white",
            "linecolor": "white",
            "ticks": ""
           }
          },
          "title": {
           "x": 0.05
          },
          "xaxis": {
           "automargin": true,
           "gridcolor": "white",
           "linecolor": "white",
           "ticks": "",
           "title": {
            "standoff": 15
           },
           "zerolinecolor": "white",
           "zerolinewidth": 2
          },
          "yaxis": {
           "automargin": true,
           "gridcolor": "white",
           "linecolor": "white",
           "ticks": "",
           "title": {
            "standoff": 15
           },
           "zerolinecolor": "white",
           "zerolinewidth": 2
          }
         }
        },
        "title": {
         "text": "Rompimento7Dias x Rompimento 28 Dias"
        },
        "xaxis": {
         "anchor": "y",
         "domain": [
          0,
          1
         ],
         "title": {
          "text": "ConsumoPorM3"
         }
        },
        "yaxis": {
         "anchor": "x",
         "domain": [
          0,
          1
         ],
         "title": {
          "text": "Rompimento28Dias"
         }
        }
       }
      },
      "text/html": [
       "<div>                            <div id=\"af79e994-0542-44e8-bef1-00d5241574ab\" class=\"plotly-graph-div\" style=\"height:525px; width:100%;\"></div>            <script type=\"text/javascript\">                require([\"plotly\"], function(Plotly) {                    window.PLOTLYENV=window.PLOTLYENV || {};                                    if (document.getElementById(\"af79e994-0542-44e8-bef1-00d5241574ab\")) {                    Plotly.newPlot(                        \"af79e994-0542-44e8-bef1-00d5241574ab\",                        [{\"hovertemplate\": \"ConsumoPorM3=%{x}<br>Rompimento28Dias=%{y}<extra></extra>\", \"legendgroup\": \"\", \"marker\": {\"color\": \"#636efa\", \"symbol\": \"circle\"}, \"mode\": \"markers\", \"name\": \"\", \"orientation\": \"v\", \"showlegend\": false, \"type\": \"scatter\", \"x\": [362.0, 320.0, 320.0, 320.0, 320.0, 324.0, 324.0, 324.0, 324.0, 214.0, 214.0, 214.0, 214.0, 195.0, 194.0, 354.0, 354.0, 354.0, 354.0, 354.0, 354.0, 354.0, 354.0, 373.0, 373.0, 373.0, 373.0, 373.0, 373.0, 373.0, 394.0, 394.0, 394.0, 394.0, 394.0, 394.0, 394.0, 394.0, 394.0, 394.0, 394.0, 394.0, 394.0, 394.0, 394.0, 394.0, 394.0, 394.0, 394.0, 394.0, 394.0, 394.0, 394.0, 364.0, 364.0, 364.0, 364.0, 364.0, 364.0, 364.0, 364.0, 364.0, 364.0, 364.0, 369.0, 369.0, 241.0, 241.0, 241.0, 241.0, 241.0, 241.0, 241.0, 241.0, 241.0, 241.0, 241.0, 233.0, 219.0, 219.0, 219.0, 219.0, 219.0, 219.0, 219.0, 219.0, 219.0, 219.0, 219.0, 219.0, 219.0, 233.0, 237.0, 228.0, 228.0, 365.0, 400.0, 400.0, 400.0, 400.0, 400.0, 400.0, 400.0, 400.0, 400.0, 400.0, 292.0, 292.0, 292.0, 271.0, 289.0, 289.0, 289.0, 289.0, 289.0, 289.0, 287.0, 281.0, 281.0, 281.0, 318.0, 318.0, 318.0, 318.0, 318.0, 318.0, 318.0, 318.0, 314.0, 295.0, 302.0, 302.0, 302.0, 302.0, 302.0, 302.0, 302.0, 302.0, 302.0, 302.0, 310.0, 310.0, 310.0, 310.0, 310.0, 310.0, 310.0, 311.0, 299.0, 299.0, 299.0, 292.0, 292.0, 276.0, 276.0, 276.0, 276.0, 276.0, 266.0, 266.0, 260.0, 266.0, 266.0, 266.0, 309.0, 400.0, 400.0, 400.0, 400.0, 400.0, 400.0, 400.0, 400.0, 400.0, 400.0, 400.0, 400.0, 400.0, 394.0, 272.0, 272.0, 272.0, 272.0, 272.0, 272.0, 272.0, 272.0, 272.0, 272.0, 272.0, 272.0, 272.0, 272.0, 256.0, 256.0, 256.0, 262.0, 262.0, 264.0, 264.0, 264.0, 264.0, 264.0, 264.0, 264.0, 264.0, 264.0, 264.0, 244.0, 244.0, 244.0, 244.0, 244.0, 244.0, 233.0, 227.0, 227.0, 227.0, 221.0, 227.0, 264.0, 278.0, 278.0, 278.0, 278.0, 275.0, 325.0, 325.0, 325.0, 325.0, 325.0, 325.0, 325.0, 325.0, 325.0, 325.0, 325.0, 325.0, 325.0, 318.0, 318.0, 318.0, 329.0, 329.0, 329.0, 329.0, 329.0, 329.0, 329.0, 329.0, 329.0, 329.0, 307.0, 307.0, 319.0, 319.0, 319.0, 402.0, 402.0, 414.0, 321.0, 321.0, 321.0, 321.0, 321.0, 321.0, 321.0, 321.0, 283.0, 273.0, 268.0, 273.0, 273.0, 272.0, 249.0, 249.0, 244.0, 281.0, 281.0, 281.0, 281.0, 268.0, 268.0, 268.0, 268.0, 268.0, 268.0, 268.0, 268.0, 268.0, 268.0, 268.0, 268.0, 268.0, 273.0, 266.0, 268.0, 268.0, 268.0, 275.0, 275.0, 275.0, 275.0, 275.0, 253.0, 253.0, 253.0, 253.0, 253.0, 253.0, 253.0, 253.0, 253.0, 253.0, 253.0, 253.0, 253.0, 253.0, 253.0, 253.0, 253.0, 253.0, 253.0, 253.0, 253.0, 253.0, 253.0, 253.0, 254.0, 254.0, 254.0, 254.0, 254.0, 254.0, 254.0, 223.0, 229.0, 229.0, 229.0, 229.0, 229.0, 229.0, 229.0, 229.0, 223.0, 229.0, 223.0, 229.0, 229.0, 229.0, 229.0, 229.0, 229.0, 229.0, 229.0, 229.0, 229.0, 267.0, 267.0, 261.0, 277.0, 277.0, 277.0, 277.0, 277.0, 277.0, 277.0, 277.0, 370.0, 370.0, 370.0, 370.0, 370.0, 370.0, 354.0, 326.0, 306.0, 306.0, 306.0, 306.0, 306.0, 306.0, 306.0, 333.0, 333.0, 333.0, 333.0, 333.0, 333.0, 333.0, 333.0, 333.0, 337.0, 337.0, 337.0, 402.0, 402.0, 402.0, 402.0, 402.0, 402.0, 402.0, 402.0, 402.0, 402.0, 402.0, 402.0, 402.0, 402.0, 252.0, 252.0, 306.0, 306.0, 306.0, 306.0, 306.0, 306.0, 328.0, 340.0, 340.0, 340.0, 340.0, 340.0, 340.0, 340.0, 340.0, 340.0, 340.0, 340.0, 340.0, 315.0, 315.0, 315.0, 315.0, 315.0, 315.0, 315.0, 299.0, 306.0, 283.0, 283.0, 283.0, 283.0, 250.0, 391.0, 391.0, 391.0, 391.0, 311.0, 420.0, 420.0, 420.0, 361.0, 361.0, 291.0, 285.0, 295.0, 295.0, 295.0, 295.0, 227.0, 227.0, 256.0, 380.0, 380.0, 380.0], \"xaxis\": \"x\", \"y\": [35.08, 33.4, 31.72, 31.12, 28.39, 29.7, 27.47, 27.61, 31.63, 26.3, 27.13, 22.49, 24.66, 16.96, 20.15, 30.93, 31.9, 31.3, 30.83, 31.02, 30.3, 30.6, 30.6, 33.52, 32.47, 32.41, 32.14, 33.9, 32.83, 35.01, 51.28, 43.52, 42.89, 49.06, 44.21, 45.48, 44.6, 38.14, 33.43, 46.48, 46.74, 46.78, 42.62, 46.6, 46.46, 52.0, 49.79, 51.63, 49.51, 41.84, 38.95, 52.97, 49.15, 33.26, 33.77, 38.85, 37.04, 35.9, 37.06, 36.23, 33.84, 36.62, 33.86, 36.65, 34.59, 37.24, 25.32, 26.27, 25.46, 28.11, 30.02, 25.0, 31.89, 30.4, 30.58, 32.55, 27.38, 23.81, 22.79, 20.28, 23.33, 24.34, 20.74, 18.1, 21.53, 22.81, 20.43, 21.72, 20.52, 23.31, 22.72, 22.04, 24.11, 26.34, 25.23, 39.12, 34.09, 31.18, 31.25, 30.49, 31.01, 34.94, 34.73, 33.26, 30.4, 39.45, 36.56, 37.59, 34.38, 27.27, 26.77, 24.99, 26.67, 29.5, 29.06, 31.79, 27.15, 28.49, 29.67, 28.73, 38.37, 37.64, 44.87, 43.54, 45.08, 37.38, 44.91, 37.72, 35.68, 31.77, 30.22, 32.61, 33.11, 36.06, 33.79, 31.01, 34.14, 36.59, 32.32, 36.4, 35.01, 36.48, 35.68, 37.27, 38.2, 39.58, 41.4, 38.88, 37.34, 33.03, 37.85, 36.12, 41.45, 32.42, 33.51, 37.2, 33.63, 38.44, 32.46, 32.78, 28.08, 33.8, 30.87, 26.86, 40.19, 38.51, 39.11, 43.12, 39.79, 38.92, 40.86, 42.29, 33.2, 34.45, 38.18, 43.15, 37.24, 34.5, 45.71, 29.78, 27.93, 30.76, 35.22, 36.01, 29.84, 30.51, 28.5, 32.35, 34.28, 32.74, 33.45, 33.71, 30.4, 29.56, 27.56, 28.85, 29.74, 30.78, 28.53, 31.74, 32.92, 35.62, 38.09, 36.31, 37.81, 35.4, 36.2, 35.11, 30.0, 26.39, 27.87, 28.99, 25.41, 25.14, 29.98, 25.54, 25.21, 32.73, 25.01, 24.54, 34.88, 29.67, 30.69, 36.28, 34.07, 28.25, 37.54, 39.53, 31.48, 29.69, 32.49, 35.22, 34.09, 35.22, 33.79, 37.96, 37.03, 37.66, 40.0, 32.44, 35.92, 31.86, 35.2, 35.89, 35.39, 40.53, 40.14, 34.91, 38.42, 36.59, 30.88, 34.0, 32.64, 30.87, 35.15, 31.94, 35.39, 37.73, 37.77, 32.05, 38.36, 42.61, 43.19, 38.3, 37.46, 31.07, 32.51, 33.02, 38.61, 28.72, 30.44, 30.26, 27.53, 34.54, 26.54, 27.39, 21.2, 33.9, 31.71, 34.49, 35.72, 27.98, 26.02, 29.0, 27.06, 26.39, 24.03, 33.17, 27.43, 31.39, 28.41, 30.16, 29.92, 30.02, 29.46, 27.31, 28.38, 29.64, 30.5, 40.23, 39.69, 35.81, 34.7, 38.75, 30.32, 35.07, 29.37, 33.09, 31.39, 31.19, 31.76, 33.84, 30.49, 34.47, 29.24, 31.72, 38.11, 35.69, 37.13, 34.04, 33.82, 32.46, 30.58, 29.93, 34.49, 38.16, 32.56, 32.54, 32.31, 32.6, 29.51, 31.26, 32.16, 31.26, 33.01, 21.27, 23.67, 25.79, 29.67, 27.15, 22.14, 25.69, 23.59, 27.62, 24.96, 22.79, 22.12, 22.21, 22.79, 26.82, 25.29, 32.84, 26.07, 25.56, 26.66, 27.64, 26.95, 32.4, 27.28, 27.28, 29.56, 31.61, 37.24, 33.4, 36.56, 37.67, 33.07, 34.88, 39.48, 37.77, 41.83, 40.1, 39.59, 40.66, 31.24, 40.21, 39.14, 36.4, 38.04, 40.48, 36.24, 35.22, 37.81, 25.1, 26.16, 29.65, 25.89, 28.43, 27.34, 28.71, 30.68, 27.69, 33.25, 31.54, 28.22, 32.02, 38.06, 37.31, 33.48, 38.79, 42.01, 38.08, 34.63, 28.4, 32.64, 33.01, 38.7, 33.66, 34.69, 22.25, 27.36, 31.42, 31.74, 30.62, 29.6, 28.29, 37.17, 34.45, 37.54, 39.44, 42.79, 37.86, 37.46, 36.98, 41.96, 44.3, 39.97, 42.35, 37.32, 36.4, 35.29, 35.55, 33.93, 34.74, 36.2, 32.68, 30.0, 30.44, 31.34, 29.48, 33.72, 28.94, 34.8, 21.92, 33.07, 31.74, 29.56, 37.04, 34.65, 33.19, 34.38, 36.17, 49.94, 38.19, 28.88, 28.01, 29.1, 32.45, 25.68, 31.51, 22.32, 20.79, 33.29, 49.8, 48.35, 46.11], \"yaxis\": \"y\"}],                        {\"legend\": {\"tracegroupgap\": 0}, \"template\": {\"data\": {\"bar\": [{\"error_x\": {\"color\": \"#2a3f5f\"}, \"error_y\": {\"color\": \"#2a3f5f\"}, \"marker\": {\"line\": {\"color\": \"#E5ECF6\", \"width\": 0.5}}, \"type\": \"bar\"}], \"barpolar\": [{\"marker\": {\"line\": {\"color\": \"#E5ECF6\", \"width\": 0.5}}, \"type\": \"barpolar\"}], \"carpet\": [{\"aaxis\": {\"endlinecolor\": \"#2a3f5f\", \"gridcolor\": \"white\", \"linecolor\": \"white\", \"minorgridcolor\": \"white\", \"startlinecolor\": \"#2a3f5f\"}, \"baxis\": {\"endlinecolor\": \"#2a3f5f\", \"gridcolor\": \"white\", \"linecolor\": \"white\", \"minorgridcolor\": \"white\", \"startlinecolor\": \"#2a3f5f\"}, \"type\": \"carpet\"}], \"choropleth\": [{\"colorbar\": {\"outlinewidth\": 0, \"ticks\": \"\"}, \"type\": \"choropleth\"}], \"contour\": [{\"colorbar\": {\"outlinewidth\": 0, \"ticks\": \"\"}, \"colorscale\": [[0.0, \"#0d0887\"], [0.1111111111111111, \"#46039f\"], [0.2222222222222222, \"#7201a8\"], [0.3333333333333333, \"#9c179e\"], [0.4444444444444444, \"#bd3786\"], [0.5555555555555556, \"#d8576b\"], [0.6666666666666666, \"#ed7953\"], [0.7777777777777778, \"#fb9f3a\"], [0.8888888888888888, \"#fdca26\"], [1.0, \"#f0f921\"]], \"type\": \"contour\"}], \"contourcarpet\": [{\"colorbar\": {\"outlinewidth\": 0, \"ticks\": \"\"}, \"type\": \"contourcarpet\"}], \"heatmap\": [{\"colorbar\": {\"outlinewidth\": 0, \"ticks\": \"\"}, \"colorscale\": [[0.0, \"#0d0887\"], [0.1111111111111111, \"#46039f\"], [0.2222222222222222, \"#7201a8\"], [0.3333333333333333, \"#9c179e\"], [0.4444444444444444, \"#bd3786\"], [0.5555555555555556, \"#d8576b\"], [0.6666666666666666, \"#ed7953\"], [0.7777777777777778, \"#fb9f3a\"], [0.8888888888888888, \"#fdca26\"], [1.0, \"#f0f921\"]], \"type\": \"heatmap\"}], \"heatmapgl\": [{\"colorbar\": {\"outlinewidth\": 0, \"ticks\": \"\"}, \"colorscale\": [[0.0, \"#0d0887\"], [0.1111111111111111, \"#46039f\"], [0.2222222222222222, \"#7201a8\"], [0.3333333333333333, \"#9c179e\"], [0.4444444444444444, \"#bd3786\"], [0.5555555555555556, \"#d8576b\"], [0.6666666666666666, \"#ed7953\"], [0.7777777777777778, \"#fb9f3a\"], [0.8888888888888888, \"#fdca26\"], [1.0, \"#f0f921\"]], \"type\": \"heatmapgl\"}], \"histogram\": [{\"marker\": {\"colorbar\": {\"outlinewidth\": 0, \"ticks\": \"\"}}, \"type\": \"histogram\"}], \"histogram2d\": [{\"colorbar\": {\"outlinewidth\": 0, \"ticks\": \"\"}, \"colorscale\": [[0.0, \"#0d0887\"], [0.1111111111111111, \"#46039f\"], [0.2222222222222222, \"#7201a8\"], [0.3333333333333333, \"#9c179e\"], [0.4444444444444444, \"#bd3786\"], [0.5555555555555556, \"#d8576b\"], [0.6666666666666666, \"#ed7953\"], [0.7777777777777778, \"#fb9f3a\"], [0.8888888888888888, \"#fdca26\"], [1.0, \"#f0f921\"]], \"type\": \"histogram2d\"}], \"histogram2dcontour\": [{\"colorbar\": {\"outlinewidth\": 0, \"ticks\": \"\"}, \"colorscale\": [[0.0, \"#0d0887\"], [0.1111111111111111, \"#46039f\"], [0.2222222222222222, \"#7201a8\"], [0.3333333333333333, \"#9c179e\"], [0.4444444444444444, \"#bd3786\"], [0.5555555555555556, \"#d8576b\"], [0.6666666666666666, \"#ed7953\"], [0.7777777777777778, \"#fb9f3a\"], [0.8888888888888888, \"#fdca26\"], [1.0, \"#f0f921\"]], \"type\": \"histogram2dcontour\"}], \"mesh3d\": [{\"colorbar\": {\"outlinewidth\": 0, \"ticks\": \"\"}, \"type\": \"mesh3d\"}], \"parcoords\": [{\"line\": {\"colorbar\": {\"outlinewidth\": 0, \"ticks\": \"\"}}, \"type\": \"parcoords\"}], \"pie\": [{\"automargin\": true, \"type\": \"pie\"}], \"scatter\": [{\"marker\": {\"colorbar\": {\"outlinewidth\": 0, \"ticks\": \"\"}}, \"type\": \"scatter\"}], \"scatter3d\": [{\"line\": {\"colorbar\": {\"outlinewidth\": 0, \"ticks\": \"\"}}, \"marker\": {\"colorbar\": {\"outlinewidth\": 0, \"ticks\": \"\"}}, \"type\": \"scatter3d\"}], \"scattercarpet\": [{\"marker\": {\"colorbar\": {\"outlinewidth\": 0, \"ticks\": \"\"}}, \"type\": \"scattercarpet\"}], \"scattergeo\": [{\"marker\": {\"colorbar\": {\"outlinewidth\": 0, \"ticks\": \"\"}}, \"type\": \"scattergeo\"}], \"scattergl\": [{\"marker\": {\"colorbar\": {\"outlinewidth\": 0, \"ticks\": \"\"}}, \"type\": \"scattergl\"}], \"scattermapbox\": [{\"marker\": {\"colorbar\": {\"outlinewidth\": 0, \"ticks\": \"\"}}, \"type\": \"scattermapbox\"}], \"scatterpolar\": [{\"marker\": {\"colorbar\": {\"outlinewidth\": 0, \"ticks\": \"\"}}, \"type\": \"scatterpolar\"}], \"scatterpolargl\": [{\"marker\": {\"colorbar\": {\"outlinewidth\": 0, \"ticks\": \"\"}}, \"type\": \"scatterpolargl\"}], \"scatterternary\": [{\"marker\": {\"colorbar\": {\"outlinewidth\": 0, \"ticks\": \"\"}}, \"type\": \"scatterternary\"}], \"surface\": [{\"colorbar\": {\"outlinewidth\": 0, \"ticks\": \"\"}, \"colorscale\": [[0.0, \"#0d0887\"], [0.1111111111111111, \"#46039f\"], [0.2222222222222222, \"#7201a8\"], [0.3333333333333333, \"#9c179e\"], [0.4444444444444444, \"#bd3786\"], [0.5555555555555556, \"#d8576b\"], [0.6666666666666666, \"#ed7953\"], [0.7777777777777778, \"#fb9f3a\"], [0.8888888888888888, \"#fdca26\"], [1.0, \"#f0f921\"]], \"type\": \"surface\"}], \"table\": [{\"cells\": {\"fill\": {\"color\": \"#EBF0F8\"}, \"line\": {\"color\": \"white\"}}, \"header\": {\"fill\": {\"color\": \"#C8D4E3\"}, \"line\": {\"color\": \"white\"}}, \"type\": \"table\"}]}, \"layout\": {\"annotationdefaults\": {\"arrowcolor\": \"#2a3f5f\", \"arrowhead\": 0, \"arrowwidth\": 1}, \"autotypenumbers\": \"strict\", \"coloraxis\": {\"colorbar\": {\"outlinewidth\": 0, \"ticks\": \"\"}}, \"colorscale\": {\"diverging\": [[0, \"#8e0152\"], [0.1, \"#c51b7d\"], [0.2, \"#de77ae\"], [0.3, \"#f1b6da\"], [0.4, \"#fde0ef\"], [0.5, \"#f7f7f7\"], [0.6, \"#e6f5d0\"], [0.7, \"#b8e186\"], [0.8, \"#7fbc41\"], [0.9, \"#4d9221\"], [1, \"#276419\"]], \"sequential\": [[0.0, \"#0d0887\"], [0.1111111111111111, \"#46039f\"], [0.2222222222222222, \"#7201a8\"], [0.3333333333333333, \"#9c179e\"], [0.4444444444444444, \"#bd3786\"], [0.5555555555555556, \"#d8576b\"], [0.6666666666666666, \"#ed7953\"], [0.7777777777777778, \"#fb9f3a\"], [0.8888888888888888, \"#fdca26\"], [1.0, \"#f0f921\"]], \"sequentialminus\": [[0.0, \"#0d0887\"], [0.1111111111111111, \"#46039f\"], [0.2222222222222222, \"#7201a8\"], [0.3333333333333333, \"#9c179e\"], [0.4444444444444444, \"#bd3786\"], [0.5555555555555556, \"#d8576b\"], [0.6666666666666666, \"#ed7953\"], [0.7777777777777778, \"#fb9f3a\"], [0.8888888888888888, \"#fdca26\"], [1.0, \"#f0f921\"]]}, \"colorway\": [\"#636efa\", \"#EF553B\", \"#00cc96\", \"#ab63fa\", \"#FFA15A\", \"#19d3f3\", \"#FF6692\", \"#B6E880\", \"#FF97FF\", \"#FECB52\"], \"font\": {\"color\": \"#2a3f5f\"}, \"geo\": {\"bgcolor\": \"white\", \"lakecolor\": \"white\", \"landcolor\": \"#E5ECF6\", \"showlakes\": true, \"showland\": true, \"subunitcolor\": \"white\"}, \"hoverlabel\": {\"align\": \"left\"}, \"hovermode\": \"closest\", \"mapbox\": {\"style\": \"light\"}, \"paper_bgcolor\": \"white\", \"plot_bgcolor\": \"#E5ECF6\", \"polar\": {\"angularaxis\": {\"gridcolor\": \"white\", \"linecolor\": \"white\", \"ticks\": \"\"}, \"bgcolor\": \"#E5ECF6\", \"radialaxis\": {\"gridcolor\": \"white\", \"linecolor\": \"white\", \"ticks\": \"\"}}, \"scene\": {\"xaxis\": {\"backgroundcolor\": \"#E5ECF6\", \"gridcolor\": \"white\", \"gridwidth\": 2, \"linecolor\": \"white\", \"showbackground\": true, \"ticks\": \"\", \"zerolinecolor\": \"white\"}, \"yaxis\": {\"backgroundcolor\": \"#E5ECF6\", \"gridcolor\": \"white\", \"gridwidth\": 2, \"linecolor\": \"white\", \"showbackground\": true, \"ticks\": \"\", \"zerolinecolor\": \"white\"}, \"zaxis\": {\"backgroundcolor\": \"#E5ECF6\", \"gridcolor\": \"white\", \"gridwidth\": 2, \"linecolor\": \"white\", \"showbackground\": true, \"ticks\": \"\", \"zerolinecolor\": \"white\"}}, \"shapedefaults\": {\"line\": {\"color\": \"#2a3f5f\"}}, \"ternary\": {\"aaxis\": {\"gridcolor\": \"white\", \"linecolor\": \"white\", \"ticks\": \"\"}, \"baxis\": {\"gridcolor\": \"white\", \"linecolor\": \"white\", \"ticks\": \"\"}, \"bgcolor\": \"#E5ECF6\", \"caxis\": {\"gridcolor\": \"white\", \"linecolor\": \"white\", \"ticks\": \"\"}}, \"title\": {\"x\": 0.05}, \"xaxis\": {\"automargin\": true, \"gridcolor\": \"white\", \"linecolor\": \"white\", \"ticks\": \"\", \"title\": {\"standoff\": 15}, \"zerolinecolor\": \"white\", \"zerolinewidth\": 2}, \"yaxis\": {\"automargin\": true, \"gridcolor\": \"white\", \"linecolor\": \"white\", \"ticks\": \"\", \"title\": {\"standoff\": 15}, \"zerolinecolor\": \"white\", \"zerolinewidth\": 2}}}, \"title\": {\"text\": \"Rompimento7Dias x Rompimento 28 Dias\"}, \"xaxis\": {\"anchor\": \"y\", \"domain\": [0.0, 1.0], \"title\": {\"text\": \"ConsumoPorM3\"}}, \"yaxis\": {\"anchor\": \"x\", \"domain\": [0.0, 1.0], \"title\": {\"text\": \"Rompimento28Dias\"}}},                        {\"responsive\": true}                    ).then(function(){\n",
       "                            \n",
       "var gd = document.getElementById('af79e994-0542-44e8-bef1-00d5241574ab');\n",
       "var x = new MutationObserver(function (mutations, observer) {{\n",
       "        var display = window.getComputedStyle(gd).display;\n",
       "        if (!display || display === 'none') {{\n",
       "            console.log([gd, 'removed!']);\n",
       "            Plotly.purge(gd);\n",
       "            observer.disconnect();\n",
       "        }}\n",
       "}});\n",
       "\n",
       "// Listen for the removal of the full notebook cells\n",
       "var notebookContainer = gd.closest('#notebook-container');\n",
       "if (notebookContainer) {{\n",
       "    x.observe(notebookContainer, {childList: true});\n",
       "}}\n",
       "\n",
       "// Listen for the clearing of the current output cell\n",
       "var outputEl = gd.closest('.output');\n",
       "if (outputEl) {{\n",
       "    x.observe(outputEl, {childList: true});\n",
       "}}\n",
       "\n",
       "                        })                };                });            </script>        </div>"
      ]
     },
     "metadata": {},
     "output_type": "display_data"
    }
   ],
   "source": [
    "fig = px.scatter(dados_aglomerante, x=\"ConsumoPorM3\", y=\"Rompimento28Dias\", title='Rompimento7Dias x Rompimento 28 Dias')\n",
    "fig.show()"
   ]
  },
  {
   "cell_type": "code",
   "execution_count": 15,
   "metadata": {},
   "outputs": [
    {
     "data": {
      "application/vnd.plotly.v1+json": {
       "config": {
        "plotlyServerURL": "https://plot.ly"
       },
       "data": [
        {
         "hovertemplate": "TipoTraco=N<br>ConsumoPorM3=%{x}<br>Rompimento28Dias=%{y}<br>RelacaoAguaCimento=%{z}<extra></extra>",
         "legendgroup": "N",
         "marker": {
          "color": "#636efa",
          "symbol": "circle"
         },
         "mode": "markers",
         "name": "N",
         "scene": "scene",
         "showlegend": true,
         "type": "scatter3d",
         "x": [
          362,
          320,
          320,
          320,
          320,
          324,
          324,
          324,
          324,
          214,
          214,
          214,
          214,
          195,
          194,
          354,
          354,
          354,
          354,
          354,
          354,
          354,
          354,
          373,
          373,
          373,
          373,
          373,
          373,
          373,
          241,
          241,
          241,
          241,
          241,
          241,
          241,
          241,
          241,
          241,
          241,
          233,
          219,
          219,
          219,
          219,
          219,
          219,
          219,
          219,
          219,
          219,
          219,
          219,
          219,
          233,
          237,
          228,
          228,
          292,
          292,
          292,
          271,
          289,
          289,
          289,
          289,
          289,
          289,
          287,
          281,
          281,
          281,
          318,
          318,
          318,
          318,
          318,
          318,
          318,
          318,
          314,
          295,
          302,
          302,
          302,
          302,
          302,
          302,
          302,
          302,
          302,
          302,
          310,
          310,
          310,
          310,
          310,
          310,
          310,
          311,
          299,
          299,
          299,
          292,
          292,
          276,
          276,
          276,
          276,
          276,
          266,
          266,
          260,
          266,
          266,
          266,
          309,
          272,
          272,
          272,
          272,
          272,
          272,
          272,
          272,
          272,
          272,
          272,
          272,
          272,
          272,
          256,
          256,
          256,
          262,
          262,
          264,
          264,
          264,
          264,
          264,
          264,
          264,
          264,
          264,
          264,
          244,
          244,
          244,
          244,
          244,
          244,
          233,
          227,
          227,
          227,
          221,
          227,
          264,
          278,
          278,
          278,
          278,
          275,
          325,
          325,
          325,
          325,
          325,
          325,
          325,
          325,
          325,
          325,
          325,
          325,
          325,
          318,
          318,
          318,
          329,
          329,
          329,
          329,
          329,
          329,
          329,
          329,
          329,
          329,
          307,
          307,
          319,
          319,
          319,
          402,
          402,
          321,
          321,
          321,
          321,
          321,
          321,
          321,
          321,
          283,
          273,
          268,
          273,
          273,
          272,
          249,
          249,
          244,
          281,
          281,
          281,
          281,
          268,
          268,
          268,
          268,
          268,
          268,
          268,
          268,
          268,
          268,
          268,
          268,
          268,
          273,
          266,
          268,
          268,
          268,
          275,
          275,
          275,
          275,
          275,
          253,
          253,
          253,
          253,
          253,
          253,
          253,
          253,
          253,
          253,
          253,
          253,
          253,
          253,
          253,
          253,
          253,
          253,
          253,
          253,
          253,
          253,
          253,
          253,
          254,
          254,
          254,
          254,
          254,
          254,
          254,
          223,
          229,
          229,
          229,
          229,
          229,
          229,
          229,
          229,
          223,
          229,
          223,
          229,
          229,
          229,
          229,
          229,
          229,
          229,
          229,
          229,
          229,
          267,
          267,
          261,
          277,
          277,
          277,
          277,
          277,
          277,
          277,
          277,
          326,
          306,
          306,
          306,
          306,
          306,
          306,
          306,
          252,
          252,
          306,
          306,
          306,
          306,
          306,
          306,
          328,
          340,
          340,
          340,
          340,
          340,
          340,
          340,
          340,
          340,
          340,
          340,
          340,
          315,
          315,
          315,
          315,
          315,
          315,
          315,
          299,
          306,
          283,
          283,
          283,
          283,
          250,
          311,
          361,
          361,
          291,
          285,
          295,
          295,
          295,
          295,
          227,
          227,
          256
         ],
         "y": [
          35.08,
          33.4,
          31.72,
          31.12,
          28.39,
          29.7,
          27.47,
          27.61,
          31.63,
          26.3,
          27.13,
          22.49,
          24.66,
          16.96,
          20.15,
          30.93,
          31.9,
          31.3,
          30.83,
          31.02,
          30.3,
          30.6,
          30.6,
          33.52,
          32.47,
          32.41,
          32.14,
          33.9,
          32.83,
          35.01,
          25.32,
          26.27,
          25.46,
          28.11,
          30.02,
          25,
          31.89,
          30.4,
          30.58,
          32.55,
          27.38,
          23.81,
          22.79,
          20.28,
          23.33,
          24.34,
          20.74,
          18.1,
          21.53,
          22.81,
          20.43,
          21.72,
          20.52,
          23.31,
          22.72,
          22.04,
          24.11,
          26.34,
          25.23,
          36.56,
          37.59,
          34.38,
          27.27,
          26.77,
          24.99,
          26.67,
          29.5,
          29.06,
          31.79,
          27.15,
          28.49,
          29.67,
          28.73,
          38.37,
          37.64,
          44.87,
          43.54,
          45.08,
          37.38,
          44.91,
          37.72,
          35.68,
          31.77,
          30.22,
          32.61,
          33.11,
          36.06,
          33.79,
          31.01,
          34.14,
          36.59,
          32.32,
          36.4,
          35.01,
          36.48,
          35.68,
          37.27,
          38.2,
          39.58,
          41.4,
          38.88,
          37.34,
          33.03,
          37.85,
          36.12,
          41.45,
          32.42,
          33.51,
          37.2,
          33.63,
          38.44,
          32.46,
          32.78,
          28.08,
          33.8,
          30.87,
          26.86,
          40.19,
          29.78,
          27.93,
          30.76,
          35.22,
          36.01,
          29.84,
          30.51,
          28.5,
          32.35,
          34.28,
          32.74,
          33.45,
          33.71,
          30.4,
          29.56,
          27.56,
          28.85,
          29.74,
          30.78,
          28.53,
          31.74,
          32.92,
          35.62,
          38.09,
          36.31,
          37.81,
          35.4,
          36.2,
          35.11,
          30,
          26.39,
          27.87,
          28.99,
          25.41,
          25.14,
          29.98,
          25.54,
          25.21,
          32.73,
          25.01,
          24.54,
          34.88,
          29.67,
          30.69,
          36.28,
          34.07,
          28.25,
          37.54,
          39.53,
          31.48,
          29.69,
          32.49,
          35.22,
          34.09,
          35.22,
          33.79,
          37.96,
          37.03,
          37.66,
          40,
          32.44,
          35.92,
          31.86,
          35.2,
          35.89,
          35.39,
          40.53,
          40.14,
          34.91,
          38.42,
          36.59,
          30.88,
          34,
          32.64,
          30.87,
          35.15,
          31.94,
          35.39,
          37.73,
          37.77,
          38.36,
          42.61,
          43.19,
          38.3,
          37.46,
          31.07,
          32.51,
          33.02,
          38.61,
          28.72,
          30.44,
          30.26,
          27.53,
          34.54,
          26.54,
          27.39,
          21.2,
          33.9,
          31.71,
          34.49,
          35.72,
          27.98,
          26.02,
          29,
          27.06,
          26.39,
          24.03,
          33.17,
          27.43,
          31.39,
          28.41,
          30.16,
          29.92,
          30.02,
          29.46,
          27.31,
          28.38,
          29.64,
          30.5,
          40.23,
          39.69,
          35.81,
          34.7,
          38.75,
          30.32,
          35.07,
          29.37,
          33.09,
          31.39,
          31.19,
          31.76,
          33.84,
          30.49,
          34.47,
          29.24,
          31.72,
          38.11,
          35.69,
          37.13,
          34.04,
          33.82,
          32.46,
          30.58,
          29.93,
          34.49,
          38.16,
          32.56,
          32.54,
          32.31,
          32.6,
          29.51,
          31.26,
          32.16,
          31.26,
          33.01,
          21.27,
          23.67,
          25.79,
          29.67,
          27.15,
          22.14,
          25.69,
          23.59,
          27.62,
          24.96,
          22.79,
          22.12,
          22.21,
          22.79,
          26.82,
          25.29,
          32.84,
          26.07,
          25.56,
          26.66,
          27.64,
          26.95,
          32.4,
          27.28,
          27.28,
          29.56,
          31.61,
          37.24,
          33.4,
          36.56,
          37.67,
          33.07,
          34.88,
          40.21,
          39.14,
          36.4,
          38.04,
          40.48,
          36.24,
          35.22,
          37.81,
          22.25,
          27.36,
          31.42,
          31.74,
          30.62,
          29.6,
          28.29,
          37.17,
          34.45,
          37.54,
          39.44,
          42.79,
          37.86,
          37.46,
          36.98,
          41.96,
          44.3,
          39.97,
          42.35,
          37.32,
          36.4,
          35.29,
          35.55,
          33.93,
          34.74,
          36.2,
          32.68,
          30,
          30.44,
          31.34,
          29.48,
          33.72,
          28.94,
          34.8,
          21.92,
          34.65,
          49.94,
          38.19,
          28.88,
          28.01,
          29.1,
          32.45,
          25.68,
          31.51,
          22.32,
          20.79,
          33.29
         ],
         "z": [
          0.5386740331491713,
          0.559375,
          0.678125,
          0.678125,
          0.678125,
          0.5802469135802469,
          0.5802469135802469,
          0.5802469135802469,
          0.6697530864197531,
          0.616822429906542,
          0.616822429906542,
          0.616822429906542,
          0.616822429906542,
          0.9230769230769232,
          0.9123711340206184,
          0.5338983050847458,
          0.5282485875706214,
          0.5338983050847458,
          0.5338983050847458,
          0.5338983050847458,
          0.5338983050847458,
          0.5338983050847458,
          0.53954802259887,
          0.4932975871313673,
          0.4932975871313673,
          0.4932975871313673,
          0.4932975871313673,
          0.4932975871313673,
          0.4932975871313673,
          0.4423592493297587,
          0.6182572614107884,
          0.6182572614107884,
          0.6182572614107884,
          0.6182572614107884,
          0.6016597510373444,
          0.5518672199170125,
          0.5684647302904564,
          0.5601659751037344,
          0.5601659751037344,
          0.5684647302904564,
          0.5684647302904564,
          0.7811158798283262,
          0.8127853881278538,
          0.8127853881278538,
          0.8264840182648402,
          0.8401826484018264,
          0.8401826484018264,
          0.8401826484018264,
          0.8401826484018264,
          0.8401826484018264,
          0.8401826484018264,
          0.8264840182648402,
          0.8264840182648402,
          0.8264840182648402,
          0.8264840182648402,
          0.776824034334764,
          0.7552742616033755,
          0.7412280701754386,
          0.7324561403508771,
          0.5376712328767124,
          0.5958904109589042,
          0.5958904109589042,
          0.5682656826568265,
          0.5709342560553633,
          0.5709342560553633,
          0.5709342560553633,
          0.5605536332179931,
          0.5605536332179931,
          0.5190311418685121,
          0.6794425087108014,
          0.6832740213523132,
          0.6832740213523132,
          0.5587188612099644,
          0.4937106918238994,
          0.4937106918238994,
          0.4622641509433962,
          0.4622641509433962,
          0.4622641509433962,
          0.4622641509433962,
          0.4716981132075472,
          0.4716981132075472,
          0.6146496815286624,
          0.6372881355932203,
          0.6324503311258278,
          0.6324503311258278,
          0.6490066225165563,
          0.6490066225165563,
          0.6490066225165563,
          0.6357615894039735,
          0.6158940397350994,
          0.6158940397350994,
          0.6158940397350994,
          0.6158940397350994,
          0.6096774193548387,
          0.6096774193548387,
          0.6096774193548387,
          0.6096774193548387,
          0.6096774193548387,
          0.6096774193548387,
          0.6096774193548387,
          0.6141479099678456,
          0.6187290969899666,
          0.6220735785953178,
          0.6287625418060201,
          0.6472602739726028,
          0.6267123287671232,
          0.6702898550724637,
          0.6702898550724637,
          0.6702898550724637,
          0.6702898550724637,
          0.6702898550724637,
          0.7105263157894737,
          0.7105263157894737,
          0.7269230769230769,
          0.7142857142857143,
          0.7142857142857143,
          0.7255639097744361,
          0.6084142394822006,
          0.5588235294117647,
          0.5,
          0.5,
          0.5330882352941176,
          0.5073529411764706,
          0.5073529411764706,
          0.5073529411764706,
          0.5183823529411765,
          0.5183823529411765,
          0.5588235294117647,
          0.5183823529411765,
          0.5183823529411765,
          0.5183823529411765,
          0.5187165775401069,
          0.703125,
          0.703125,
          0.703125,
          0.6908396946564885,
          0.6717557251908397,
          0.6856060606060606,
          0.678030303030303,
          0.6590909090909091,
          0.6856060606060606,
          0.6439393939393939,
          0.6856060606060606,
          0.6856060606060606,
          0.6856060606060606,
          0.6818181818181818,
          0.6818181818181818,
          0.7131147540983607,
          0.7377049180327869,
          0.639344262295082,
          0.6311475409836066,
          0.6311475409836066,
          0.6311475409836066,
          0.6309012875536479,
          0.7665198237885462,
          0.8017621145374451,
          0.7841409691629956,
          0.8144796380090498,
          0.8017621145374451,
          0.6893939393939394,
          0.5359712230215827,
          0.5035971223021583,
          0.5179856115107914,
          0.5359712230215827,
          0.68,
          0.4861538461538462,
          0.4861538461538462,
          0.4646153846153846,
          0.4646153846153846,
          0.4646153846153846,
          0.4738461538461538,
          0.4738461538461538,
          0.4953846153846154,
          0.4953846153846154,
          0.4953846153846154,
          0.4953846153846154,
          0.4953846153846154,
          0.4953846153846154,
          0.6132075471698113,
          0.610062893081761,
          0.610062893081761,
          0.5835866261398176,
          0.5835866261398176,
          0.5835866261398176,
          0.5927051671732523,
          0.5927051671732523,
          0.5927051671732523,
          0.5927051671732523,
          0.5927051671732523,
          0.5927051671732523,
          0.5927051671732523,
          0.6416938110749185,
          0.6416938110749185,
          0.6175548589341693,
          0.6175548589341693,
          0.6175548589341693,
          0.5422885572139303,
          0.5422885572139303,
          0.6261682242990654,
          0.6261682242990654,
          0.6261682242990654,
          0.6261682242990654,
          0.6261682242990654,
          0.6323987538940811,
          0.6323987538940811,
          0.6326064382139148,
          0.7208480565371025,
          0.7326007326007326,
          0.746268656716418,
          0.7326007326007326,
          0.7326007326007326,
          0.7352941176470589,
          0.7670682730923695,
          0.7670682730923695,
          0.7991803278688525,
          0.6797153024911032,
          0.6797153024911032,
          0.6797153024911032,
          0.6797153024911032,
          0.7089552238805971,
          0.7089552238805971,
          0.7089552238805971,
          0.7089552238805971,
          0.7276119402985075,
          0.7276119402985075,
          0.7089552238805971,
          0.6902985074626866,
          0.6902985074626866,
          0.6902985074626866,
          0.6902985074626866,
          0.7014925373134329,
          0.7014925373134329,
          0.6925894618202311,
          0.6992481203007519,
          0.7014925373134329,
          0.7014925373134329,
          0.6865671641791045,
          0.6581818181818182,
          0.6436363636363637,
          0.509090909090909,
          0.509090909090909,
          0.509090909090909,
          0.7391304347826086,
          0.7391304347826086,
          0.7391304347826086,
          0.7391304347826086,
          0.7391304347826086,
          0.7391304347826086,
          0.7391304347826086,
          0.7470355731225297,
          0.7470355731225297,
          0.7470355731225297,
          0.7233201581027668,
          0.7233201581027668,
          0.7233201581027668,
          0.7233201581027668,
          0.7233201581027668,
          0.7233201581027668,
          0.7233201581027668,
          0.7233201581027668,
          0.7233201581027668,
          0.7430830039525692,
          0.7391304347826086,
          0.7391304347826086,
          0.7391304347826086,
          0.7391304347826086,
          0.7401574803149606,
          0.7322834645669292,
          0.7401574803149606,
          0.7401574803149606,
          0.7401574803149606,
          0.7401574803149606,
          0.7401574803149606,
          0.8430493273542601,
          0.8209606986899564,
          0.8384279475982532,
          0.8209606986899564,
          0.8384279475982532,
          0.8296943231441049,
          0.8296943231441049,
          0.8296943231441049,
          0.8296943231441049,
          0.852017937219731,
          0.8296943231441049,
          0.852017937219731,
          0.8296943231441049,
          0.8384279475982532,
          0.8427947598253275,
          0.8427947598253275,
          0.8427947598253275,
          0.7161572052401747,
          0.7161572052401747,
          0.7161572052401747,
          0.7161572052401747,
          0.7161572052401747,
          0.7116104868913857,
          0.704119850187266,
          0.7203065134099617,
          0.6859205776173285,
          0.6859205776173285,
          0.6859205776173285,
          0.6859205776173285,
          0.6859205776173285,
          0.6859205776173285,
          0.6787003610108303,
          0.6787003610108303,
          0.6044749188018765,
          0.5947712418300654,
          0.5947712418300654,
          0.5947712418300654,
          0.5980392156862745,
          0.5980392156862745,
          0.6405228758169934,
          0.6405228758169934,
          0.7738095238095238,
          0.7658730158730159,
          0.6113289760348584,
          0.6113289760348584,
          0.6274509803921569,
          0.6274509803921569,
          0.6274509803921569,
          0.6111111111111112,
          0.6158536585365854,
          0.5911764705882353,
          0.5970588235294118,
          0.5941176470588235,
          0.5941176470588235,
          0.5941176470588235,
          0.5941176470588235,
          0.5941176470588235,
          0.5941176470588235,
          0.5852941176470589,
          0.5852941176470589,
          0.5941176470588235,
          0.5941176470588235,
          0.6349206349206349,
          0.6349206349206349,
          0.6349206349206349,
          0.6349206349206349,
          0.6285714285714286,
          0.6317460317460317,
          0.6317460317460317,
          0.6822742474916388,
          0.6666666666666666,
          0.6925795053003534,
          0.6925795053003534,
          0.6925795053003534,
          0.6925795053003534,
          0.8,
          0.6881028938906752,
          0.554016620498615,
          0.554016620498615,
          0.6391752577319587,
          0.7052631578947368,
          0.6779661016949152,
          0.6779661016949152,
          0.688135593220339,
          0.688135593220339,
          0.8546255506607929,
          0.8595203132648067,
          0.76171875
         ]
        },
        {
         "hovertemplate": "TipoTraco=E<br>ConsumoPorM3=%{x}<br>Rompimento28Dias=%{y}<br>RelacaoAguaCimento=%{z}<extra></extra>",
         "legendgroup": "E",
         "marker": {
          "color": "#EF553B",
          "symbol": "circle"
         },
         "mode": "markers",
         "name": "E",
         "scene": "scene",
         "showlegend": true,
         "type": "scatter3d",
         "x": [
          394,
          394,
          394,
          394,
          394,
          394,
          394,
          394,
          394,
          394,
          394,
          394,
          394,
          394,
          394,
          394,
          394,
          394,
          394,
          394,
          394,
          394,
          394,
          364,
          364,
          364,
          364,
          364,
          364,
          364,
          364,
          364,
          364,
          364,
          369,
          369,
          365,
          400,
          400,
          400,
          400,
          400,
          400,
          400,
          400,
          400,
          400,
          400,
          400,
          400,
          400,
          400,
          400,
          400,
          400,
          400,
          400,
          400,
          400,
          400,
          394,
          414,
          370,
          370,
          370,
          370,
          370,
          370,
          354,
          333,
          333,
          333,
          333,
          333,
          333,
          333,
          333,
          333,
          337,
          337,
          337,
          402,
          402,
          402,
          402,
          402,
          402,
          402,
          402,
          402,
          402,
          402,
          402,
          402,
          402,
          391,
          391,
          391,
          391,
          420,
          420,
          420,
          380,
          380,
          380
         ],
         "y": [
          51.28,
          43.52,
          42.89,
          49.06,
          44.21,
          45.48,
          44.6,
          38.14,
          33.43,
          46.48,
          46.74,
          46.78,
          42.62,
          46.6,
          46.46,
          52,
          49.79,
          51.63,
          49.51,
          41.84,
          38.95,
          52.97,
          49.15,
          33.26,
          33.77,
          38.85,
          37.04,
          35.9,
          37.06,
          36.23,
          33.84,
          36.62,
          33.86,
          36.65,
          34.59,
          37.24,
          39.12,
          34.09,
          31.18,
          31.25,
          30.49,
          31.01,
          34.94,
          34.73,
          33.26,
          30.4,
          39.45,
          38.51,
          39.11,
          43.12,
          39.79,
          38.92,
          40.86,
          42.29,
          33.2,
          34.45,
          38.18,
          43.15,
          37.24,
          34.5,
          45.71,
          32.05,
          39.48,
          37.77,
          41.83,
          40.1,
          39.59,
          40.66,
          31.24,
          25.1,
          26.16,
          29.65,
          25.89,
          28.43,
          27.34,
          28.71,
          30.68,
          27.69,
          33.25,
          31.54,
          28.22,
          32.02,
          38.06,
          37.31,
          33.48,
          38.79,
          42.01,
          38.08,
          34.63,
          28.4,
          32.64,
          33.01,
          38.7,
          33.66,
          34.69,
          33.07,
          31.74,
          29.56,
          37.04,
          33.19,
          34.38,
          36.17,
          49.8,
          48.35,
          46.11
         ],
         "z": [
          0.4060913705583756,
          0.4060913705583756,
          0.4060913705583756,
          0.4060913705583756,
          0.4060913705583756,
          0.4060913705583756,
          0.4060913705583756,
          0.4060913705583756,
          0.4342053885201093,
          0.44416243654822335,
          0.4289340101522843,
          0.434010152284264,
          0.434010152284264,
          0.434010152284264,
          0.434010152284264,
          0.434010152284264,
          0.4137055837563452,
          0.4137055837563452,
          0.4060913705583756,
          0.4060913705583756,
          0.4060913705583756,
          0.4060913705583756,
          0.39867239359625145,
          0.5412087912087912,
          0.5412087912087912,
          0.5412087912087912,
          0.5412087912087912,
          0.5412087912087912,
          0.5412087912087912,
          0.5412087912087912,
          0.5412087912087912,
          0.5412087912087912,
          0.4120879120879121,
          0.4120879120879121,
          0.5420054200542005,
          0.5311653116531165,
          0.4303477344573235,
          0.475,
          0.5175,
          0.4825,
          0.4825,
          0.4825,
          0.4825,
          0.4825,
          0.4825,
          0.4825,
          0.5,
          0.5125,
          0.5125,
          0.5225,
          0.5225,
          0.5225,
          0.5225,
          0.5,
          0.4925,
          0.4925,
          0.4925,
          0.4925,
          0.4925,
          0.4825,
          0.41116751269035534,
          0.4951690821256038,
          0.5837837837837838,
          0.5783783783783784,
          0.5783783783783784,
          0.5783783783783784,
          0.5783783783783784,
          0.5783783783783784,
          0.6101694915254238,
          0.5855855855855856,
          0.5855855855855856,
          0.5855855855855856,
          0.5855855855855856,
          0.5855855855855856,
          0.5855855855855856,
          0.5825825825825826,
          0.5825825825825826,
          0.5825825825825826,
          0.486646884272997,
          0.486646884272997,
          0.486646884272997,
          0.4875621890547264,
          0.4875621890547264,
          0.4875621890547264,
          0.4875621890547264,
          0.41791044776119396,
          0.41791044776119396,
          0.41791044776119396,
          0.482587064676617,
          0.482587064676617,
          0.482587064676617,
          0.482587064676617,
          0.482587064676617,
          0.482587064676617,
          0.482587064676617,
          0.5396419437340153,
          0.5396419437340153,
          0.5396419437340153,
          0.5370843989769821,
          0.480952380952381,
          0.4880952380952381,
          0.4880952380952381,
          0.55,
          0.55,
          0.55
         ]
        }
       ],
       "layout": {
        "legend": {
         "title": {
          "text": "TipoTraco"
         },
         "tracegroupgap": 0
        },
        "scene": {
         "domain": {
          "x": [
           0,
           1
          ],
          "y": [
           0,
           1
          ]
         },
         "xaxis": {
          "title": {
           "text": "ConsumoPorM3"
          }
         },
         "yaxis": {
          "title": {
           "text": "Rompimento28Dias"
          }
         },
         "zaxis": {
          "title": {
           "text": "RelacaoAguaCimento"
          }
         }
        },
        "template": {
         "data": {
          "bar": [
           {
            "error_x": {
             "color": "#2a3f5f"
            },
            "error_y": {
             "color": "#2a3f5f"
            },
            "marker": {
             "line": {
              "color": "#E5ECF6",
              "width": 0.5
             }
            },
            "type": "bar"
           }
          ],
          "barpolar": [
           {
            "marker": {
             "line": {
              "color": "#E5ECF6",
              "width": 0.5
             }
            },
            "type": "barpolar"
           }
          ],
          "carpet": [
           {
            "aaxis": {
             "endlinecolor": "#2a3f5f",
             "gridcolor": "white",
             "linecolor": "white",
             "minorgridcolor": "white",
             "startlinecolor": "#2a3f5f"
            },
            "baxis": {
             "endlinecolor": "#2a3f5f",
             "gridcolor": "white",
             "linecolor": "white",
             "minorgridcolor": "white",
             "startlinecolor": "#2a3f5f"
            },
            "type": "carpet"
           }
          ],
          "choropleth": [
           {
            "colorbar": {
             "outlinewidth": 0,
             "ticks": ""
            },
            "type": "choropleth"
           }
          ],
          "contour": [
           {
            "colorbar": {
             "outlinewidth": 0,
             "ticks": ""
            },
            "colorscale": [
             [
              0,
              "#0d0887"
             ],
             [
              0.1111111111111111,
              "#46039f"
             ],
             [
              0.2222222222222222,
              "#7201a8"
             ],
             [
              0.3333333333333333,
              "#9c179e"
             ],
             [
              0.4444444444444444,
              "#bd3786"
             ],
             [
              0.5555555555555556,
              "#d8576b"
             ],
             [
              0.6666666666666666,
              "#ed7953"
             ],
             [
              0.7777777777777778,
              "#fb9f3a"
             ],
             [
              0.8888888888888888,
              "#fdca26"
             ],
             [
              1,
              "#f0f921"
             ]
            ],
            "type": "contour"
           }
          ],
          "contourcarpet": [
           {
            "colorbar": {
             "outlinewidth": 0,
             "ticks": ""
            },
            "type": "contourcarpet"
           }
          ],
          "heatmap": [
           {
            "colorbar": {
             "outlinewidth": 0,
             "ticks": ""
            },
            "colorscale": [
             [
              0,
              "#0d0887"
             ],
             [
              0.1111111111111111,
              "#46039f"
             ],
             [
              0.2222222222222222,
              "#7201a8"
             ],
             [
              0.3333333333333333,
              "#9c179e"
             ],
             [
              0.4444444444444444,
              "#bd3786"
             ],
             [
              0.5555555555555556,
              "#d8576b"
             ],
             [
              0.6666666666666666,
              "#ed7953"
             ],
             [
              0.7777777777777778,
              "#fb9f3a"
             ],
             [
              0.8888888888888888,
              "#fdca26"
             ],
             [
              1,
              "#f0f921"
             ]
            ],
            "type": "heatmap"
           }
          ],
          "heatmapgl": [
           {
            "colorbar": {
             "outlinewidth": 0,
             "ticks": ""
            },
            "colorscale": [
             [
              0,
              "#0d0887"
             ],
             [
              0.1111111111111111,
              "#46039f"
             ],
             [
              0.2222222222222222,
              "#7201a8"
             ],
             [
              0.3333333333333333,
              "#9c179e"
             ],
             [
              0.4444444444444444,
              "#bd3786"
             ],
             [
              0.5555555555555556,
              "#d8576b"
             ],
             [
              0.6666666666666666,
              "#ed7953"
             ],
             [
              0.7777777777777778,
              "#fb9f3a"
             ],
             [
              0.8888888888888888,
              "#fdca26"
             ],
             [
              1,
              "#f0f921"
             ]
            ],
            "type": "heatmapgl"
           }
          ],
          "histogram": [
           {
            "marker": {
             "colorbar": {
              "outlinewidth": 0,
              "ticks": ""
             }
            },
            "type": "histogram"
           }
          ],
          "histogram2d": [
           {
            "colorbar": {
             "outlinewidth": 0,
             "ticks": ""
            },
            "colorscale": [
             [
              0,
              "#0d0887"
             ],
             [
              0.1111111111111111,
              "#46039f"
             ],
             [
              0.2222222222222222,
              "#7201a8"
             ],
             [
              0.3333333333333333,
              "#9c179e"
             ],
             [
              0.4444444444444444,
              "#bd3786"
             ],
             [
              0.5555555555555556,
              "#d8576b"
             ],
             [
              0.6666666666666666,
              "#ed7953"
             ],
             [
              0.7777777777777778,
              "#fb9f3a"
             ],
             [
              0.8888888888888888,
              "#fdca26"
             ],
             [
              1,
              "#f0f921"
             ]
            ],
            "type": "histogram2d"
           }
          ],
          "histogram2dcontour": [
           {
            "colorbar": {
             "outlinewidth": 0,
             "ticks": ""
            },
            "colorscale": [
             [
              0,
              "#0d0887"
             ],
             [
              0.1111111111111111,
              "#46039f"
             ],
             [
              0.2222222222222222,
              "#7201a8"
             ],
             [
              0.3333333333333333,
              "#9c179e"
             ],
             [
              0.4444444444444444,
              "#bd3786"
             ],
             [
              0.5555555555555556,
              "#d8576b"
             ],
             [
              0.6666666666666666,
              "#ed7953"
             ],
             [
              0.7777777777777778,
              "#fb9f3a"
             ],
             [
              0.8888888888888888,
              "#fdca26"
             ],
             [
              1,
              "#f0f921"
             ]
            ],
            "type": "histogram2dcontour"
           }
          ],
          "mesh3d": [
           {
            "colorbar": {
             "outlinewidth": 0,
             "ticks": ""
            },
            "type": "mesh3d"
           }
          ],
          "parcoords": [
           {
            "line": {
             "colorbar": {
              "outlinewidth": 0,
              "ticks": ""
             }
            },
            "type": "parcoords"
           }
          ],
          "pie": [
           {
            "automargin": true,
            "type": "pie"
           }
          ],
          "scatter": [
           {
            "marker": {
             "colorbar": {
              "outlinewidth": 0,
              "ticks": ""
             }
            },
            "type": "scatter"
           }
          ],
          "scatter3d": [
           {
            "line": {
             "colorbar": {
              "outlinewidth": 0,
              "ticks": ""
             }
            },
            "marker": {
             "colorbar": {
              "outlinewidth": 0,
              "ticks": ""
             }
            },
            "type": "scatter3d"
           }
          ],
          "scattercarpet": [
           {
            "marker": {
             "colorbar": {
              "outlinewidth": 0,
              "ticks": ""
             }
            },
            "type": "scattercarpet"
           }
          ],
          "scattergeo": [
           {
            "marker": {
             "colorbar": {
              "outlinewidth": 0,
              "ticks": ""
             }
            },
            "type": "scattergeo"
           }
          ],
          "scattergl": [
           {
            "marker": {
             "colorbar": {
              "outlinewidth": 0,
              "ticks": ""
             }
            },
            "type": "scattergl"
           }
          ],
          "scattermapbox": [
           {
            "marker": {
             "colorbar": {
              "outlinewidth": 0,
              "ticks": ""
             }
            },
            "type": "scattermapbox"
           }
          ],
          "scatterpolar": [
           {
            "marker": {
             "colorbar": {
              "outlinewidth": 0,
              "ticks": ""
             }
            },
            "type": "scatterpolar"
           }
          ],
          "scatterpolargl": [
           {
            "marker": {
             "colorbar": {
              "outlinewidth": 0,
              "ticks": ""
             }
            },
            "type": "scatterpolargl"
           }
          ],
          "scatterternary": [
           {
            "marker": {
             "colorbar": {
              "outlinewidth": 0,
              "ticks": ""
             }
            },
            "type": "scatterternary"
           }
          ],
          "surface": [
           {
            "colorbar": {
             "outlinewidth": 0,
             "ticks": ""
            },
            "colorscale": [
             [
              0,
              "#0d0887"
             ],
             [
              0.1111111111111111,
              "#46039f"
             ],
             [
              0.2222222222222222,
              "#7201a8"
             ],
             [
              0.3333333333333333,
              "#9c179e"
             ],
             [
              0.4444444444444444,
              "#bd3786"
             ],
             [
              0.5555555555555556,
              "#d8576b"
             ],
             [
              0.6666666666666666,
              "#ed7953"
             ],
             [
              0.7777777777777778,
              "#fb9f3a"
             ],
             [
              0.8888888888888888,
              "#fdca26"
             ],
             [
              1,
              "#f0f921"
             ]
            ],
            "type": "surface"
           }
          ],
          "table": [
           {
            "cells": {
             "fill": {
              "color": "#EBF0F8"
             },
             "line": {
              "color": "white"
             }
            },
            "header": {
             "fill": {
              "color": "#C8D4E3"
             },
             "line": {
              "color": "white"
             }
            },
            "type": "table"
           }
          ]
         },
         "layout": {
          "annotationdefaults": {
           "arrowcolor": "#2a3f5f",
           "arrowhead": 0,
           "arrowwidth": 1
          },
          "autotypenumbers": "strict",
          "coloraxis": {
           "colorbar": {
            "outlinewidth": 0,
            "ticks": ""
           }
          },
          "colorscale": {
           "diverging": [
            [
             0,
             "#8e0152"
            ],
            [
             0.1,
             "#c51b7d"
            ],
            [
             0.2,
             "#de77ae"
            ],
            [
             0.3,
             "#f1b6da"
            ],
            [
             0.4,
             "#fde0ef"
            ],
            [
             0.5,
             "#f7f7f7"
            ],
            [
             0.6,
             "#e6f5d0"
            ],
            [
             0.7,
             "#b8e186"
            ],
            [
             0.8,
             "#7fbc41"
            ],
            [
             0.9,
             "#4d9221"
            ],
            [
             1,
             "#276419"
            ]
           ],
           "sequential": [
            [
             0,
             "#0d0887"
            ],
            [
             0.1111111111111111,
             "#46039f"
            ],
            [
             0.2222222222222222,
             "#7201a8"
            ],
            [
             0.3333333333333333,
             "#9c179e"
            ],
            [
             0.4444444444444444,
             "#bd3786"
            ],
            [
             0.5555555555555556,
             "#d8576b"
            ],
            [
             0.6666666666666666,
             "#ed7953"
            ],
            [
             0.7777777777777778,
             "#fb9f3a"
            ],
            [
             0.8888888888888888,
             "#fdca26"
            ],
            [
             1,
             "#f0f921"
            ]
           ],
           "sequentialminus": [
            [
             0,
             "#0d0887"
            ],
            [
             0.1111111111111111,
             "#46039f"
            ],
            [
             0.2222222222222222,
             "#7201a8"
            ],
            [
             0.3333333333333333,
             "#9c179e"
            ],
            [
             0.4444444444444444,
             "#bd3786"
            ],
            [
             0.5555555555555556,
             "#d8576b"
            ],
            [
             0.6666666666666666,
             "#ed7953"
            ],
            [
             0.7777777777777778,
             "#fb9f3a"
            ],
            [
             0.8888888888888888,
             "#fdca26"
            ],
            [
             1,
             "#f0f921"
            ]
           ]
          },
          "colorway": [
           "#636efa",
           "#EF553B",
           "#00cc96",
           "#ab63fa",
           "#FFA15A",
           "#19d3f3",
           "#FF6692",
           "#B6E880",
           "#FF97FF",
           "#FECB52"
          ],
          "font": {
           "color": "#2a3f5f"
          },
          "geo": {
           "bgcolor": "white",
           "lakecolor": "white",
           "landcolor": "#E5ECF6",
           "showlakes": true,
           "showland": true,
           "subunitcolor": "white"
          },
          "hoverlabel": {
           "align": "left"
          },
          "hovermode": "closest",
          "mapbox": {
           "style": "light"
          },
          "paper_bgcolor": "white",
          "plot_bgcolor": "#E5ECF6",
          "polar": {
           "angularaxis": {
            "gridcolor": "white",
            "linecolor": "white",
            "ticks": ""
           },
           "bgcolor": "#E5ECF6",
           "radialaxis": {
            "gridcolor": "white",
            "linecolor": "white",
            "ticks": ""
           }
          },
          "scene": {
           "xaxis": {
            "backgroundcolor": "#E5ECF6",
            "gridcolor": "white",
            "gridwidth": 2,
            "linecolor": "white",
            "showbackground": true,
            "ticks": "",
            "zerolinecolor": "white"
           },
           "yaxis": {
            "backgroundcolor": "#E5ECF6",
            "gridcolor": "white",
            "gridwidth": 2,
            "linecolor": "white",
            "showbackground": true,
            "ticks": "",
            "zerolinecolor": "white"
           },
           "zaxis": {
            "backgroundcolor": "#E5ECF6",
            "gridcolor": "white",
            "gridwidth": 2,
            "linecolor": "white",
            "showbackground": true,
            "ticks": "",
            "zerolinecolor": "white"
           }
          },
          "shapedefaults": {
           "line": {
            "color": "#2a3f5f"
           }
          },
          "ternary": {
           "aaxis": {
            "gridcolor": "white",
            "linecolor": "white",
            "ticks": ""
           },
           "baxis": {
            "gridcolor": "white",
            "linecolor": "white",
            "ticks": ""
           },
           "bgcolor": "#E5ECF6",
           "caxis": {
            "gridcolor": "white",
            "linecolor": "white",
            "ticks": ""
           }
          },
          "title": {
           "x": 0.05
          },
          "xaxis": {
           "automargin": true,
           "gridcolor": "white",
           "linecolor": "white",
           "ticks": "",
           "title": {
            "standoff": 15
           },
           "zerolinecolor": "white",
           "zerolinewidth": 2
          },
          "yaxis": {
           "automargin": true,
           "gridcolor": "white",
           "linecolor": "white",
           "ticks": "",
           "title": {
            "standoff": 15
           },
           "zerolinecolor": "white",
           "zerolinewidth": 2
          }
         }
        },
        "title": {
         "text": "Rompimento7Dias x Rompimento 28 Dias"
        }
       }
      },
      "text/html": [
       "<div>                            <div id=\"b0d03b61-1207-42cc-9200-79672a5999fa\" class=\"plotly-graph-div\" style=\"height:525px; width:100%;\"></div>            <script type=\"text/javascript\">                require([\"plotly\"], function(Plotly) {                    window.PLOTLYENV=window.PLOTLYENV || {};                                    if (document.getElementById(\"b0d03b61-1207-42cc-9200-79672a5999fa\")) {                    Plotly.newPlot(                        \"b0d03b61-1207-42cc-9200-79672a5999fa\",                        [{\"hovertemplate\": \"TipoTraco=N<br>ConsumoPorM3=%{x}<br>Rompimento28Dias=%{y}<br>RelacaoAguaCimento=%{z}<extra></extra>\", \"legendgroup\": \"N\", \"marker\": {\"color\": \"#636efa\", \"symbol\": \"circle\"}, \"mode\": \"markers\", \"name\": \"N\", \"scene\": \"scene\", \"showlegend\": true, \"type\": \"scatter3d\", \"x\": [362.0, 320.0, 320.0, 320.0, 320.0, 324.0, 324.0, 324.0, 324.0, 214.0, 214.0, 214.0, 214.0, 195.0, 194.0, 354.0, 354.0, 354.0, 354.0, 354.0, 354.0, 354.0, 354.0, 373.0, 373.0, 373.0, 373.0, 373.0, 373.0, 373.0, 241.0, 241.0, 241.0, 241.0, 241.0, 241.0, 241.0, 241.0, 241.0, 241.0, 241.0, 233.0, 219.0, 219.0, 219.0, 219.0, 219.0, 219.0, 219.0, 219.0, 219.0, 219.0, 219.0, 219.0, 219.0, 233.0, 237.0, 228.0, 228.0, 292.0, 292.0, 292.0, 271.0, 289.0, 289.0, 289.0, 289.0, 289.0, 289.0, 287.0, 281.0, 281.0, 281.0, 318.0, 318.0, 318.0, 318.0, 318.0, 318.0, 318.0, 318.0, 314.0, 295.0, 302.0, 302.0, 302.0, 302.0, 302.0, 302.0, 302.0, 302.0, 302.0, 302.0, 310.0, 310.0, 310.0, 310.0, 310.0, 310.0, 310.0, 311.0, 299.0, 299.0, 299.0, 292.0, 292.0, 276.0, 276.0, 276.0, 276.0, 276.0, 266.0, 266.0, 260.0, 266.0, 266.0, 266.0, 309.0, 272.0, 272.0, 272.0, 272.0, 272.0, 272.0, 272.0, 272.0, 272.0, 272.0, 272.0, 272.0, 272.0, 272.0, 256.0, 256.0, 256.0, 262.0, 262.0, 264.0, 264.0, 264.0, 264.0, 264.0, 264.0, 264.0, 264.0, 264.0, 264.0, 244.0, 244.0, 244.0, 244.0, 244.0, 244.0, 233.0, 227.0, 227.0, 227.0, 221.0, 227.0, 264.0, 278.0, 278.0, 278.0, 278.0, 275.0, 325.0, 325.0, 325.0, 325.0, 325.0, 325.0, 325.0, 325.0, 325.0, 325.0, 325.0, 325.0, 325.0, 318.0, 318.0, 318.0, 329.0, 329.0, 329.0, 329.0, 329.0, 329.0, 329.0, 329.0, 329.0, 329.0, 307.0, 307.0, 319.0, 319.0, 319.0, 402.0, 402.0, 321.0, 321.0, 321.0, 321.0, 321.0, 321.0, 321.0, 321.0, 283.0, 273.0, 268.0, 273.0, 273.0, 272.0, 249.0, 249.0, 244.0, 281.0, 281.0, 281.0, 281.0, 268.0, 268.0, 268.0, 268.0, 268.0, 268.0, 268.0, 268.0, 268.0, 268.0, 268.0, 268.0, 268.0, 273.0, 266.0, 268.0, 268.0, 268.0, 275.0, 275.0, 275.0, 275.0, 275.0, 253.0, 253.0, 253.0, 253.0, 253.0, 253.0, 253.0, 253.0, 253.0, 253.0, 253.0, 253.0, 253.0, 253.0, 253.0, 253.0, 253.0, 253.0, 253.0, 253.0, 253.0, 253.0, 253.0, 253.0, 254.0, 254.0, 254.0, 254.0, 254.0, 254.0, 254.0, 223.0, 229.0, 229.0, 229.0, 229.0, 229.0, 229.0, 229.0, 229.0, 223.0, 229.0, 223.0, 229.0, 229.0, 229.0, 229.0, 229.0, 229.0, 229.0, 229.0, 229.0, 229.0, 267.0, 267.0, 261.0, 277.0, 277.0, 277.0, 277.0, 277.0, 277.0, 277.0, 277.0, 326.0, 306.0, 306.0, 306.0, 306.0, 306.0, 306.0, 306.0, 252.0, 252.0, 306.0, 306.0, 306.0, 306.0, 306.0, 306.0, 328.0, 340.0, 340.0, 340.0, 340.0, 340.0, 340.0, 340.0, 340.0, 340.0, 340.0, 340.0, 340.0, 315.0, 315.0, 315.0, 315.0, 315.0, 315.0, 315.0, 299.0, 306.0, 283.0, 283.0, 283.0, 283.0, 250.0, 311.0, 361.0, 361.0, 291.0, 285.0, 295.0, 295.0, 295.0, 295.0, 227.0, 227.0, 256.0], \"y\": [35.08, 33.4, 31.72, 31.12, 28.39, 29.7, 27.47, 27.61, 31.63, 26.3, 27.13, 22.49, 24.66, 16.96, 20.15, 30.93, 31.9, 31.3, 30.83, 31.02, 30.3, 30.6, 30.6, 33.52, 32.47, 32.41, 32.14, 33.9, 32.83, 35.01, 25.32, 26.27, 25.46, 28.11, 30.02, 25.0, 31.89, 30.4, 30.58, 32.55, 27.38, 23.81, 22.79, 20.28, 23.33, 24.34, 20.74, 18.1, 21.53, 22.81, 20.43, 21.72, 20.52, 23.31, 22.72, 22.04, 24.11, 26.34, 25.23, 36.56, 37.59, 34.38, 27.27, 26.77, 24.99, 26.67, 29.5, 29.06, 31.79, 27.15, 28.49, 29.67, 28.73, 38.37, 37.64, 44.87, 43.54, 45.08, 37.38, 44.91, 37.72, 35.68, 31.77, 30.22, 32.61, 33.11, 36.06, 33.79, 31.01, 34.14, 36.59, 32.32, 36.4, 35.01, 36.48, 35.68, 37.27, 38.2, 39.58, 41.4, 38.88, 37.34, 33.03, 37.85, 36.12, 41.45, 32.42, 33.51, 37.2, 33.63, 38.44, 32.46, 32.78, 28.08, 33.8, 30.87, 26.86, 40.19, 29.78, 27.93, 30.76, 35.22, 36.01, 29.84, 30.51, 28.5, 32.35, 34.28, 32.74, 33.45, 33.71, 30.4, 29.56, 27.56, 28.85, 29.74, 30.78, 28.53, 31.74, 32.92, 35.62, 38.09, 36.31, 37.81, 35.4, 36.2, 35.11, 30.0, 26.39, 27.87, 28.99, 25.41, 25.14, 29.98, 25.54, 25.21, 32.73, 25.01, 24.54, 34.88, 29.67, 30.69, 36.28, 34.07, 28.25, 37.54, 39.53, 31.48, 29.69, 32.49, 35.22, 34.09, 35.22, 33.79, 37.96, 37.03, 37.66, 40.0, 32.44, 35.92, 31.86, 35.2, 35.89, 35.39, 40.53, 40.14, 34.91, 38.42, 36.59, 30.88, 34.0, 32.64, 30.87, 35.15, 31.94, 35.39, 37.73, 37.77, 38.36, 42.61, 43.19, 38.3, 37.46, 31.07, 32.51, 33.02, 38.61, 28.72, 30.44, 30.26, 27.53, 34.54, 26.54, 27.39, 21.2, 33.9, 31.71, 34.49, 35.72, 27.98, 26.02, 29.0, 27.06, 26.39, 24.03, 33.17, 27.43, 31.39, 28.41, 30.16, 29.92, 30.02, 29.46, 27.31, 28.38, 29.64, 30.5, 40.23, 39.69, 35.81, 34.7, 38.75, 30.32, 35.07, 29.37, 33.09, 31.39, 31.19, 31.76, 33.84, 30.49, 34.47, 29.24, 31.72, 38.11, 35.69, 37.13, 34.04, 33.82, 32.46, 30.58, 29.93, 34.49, 38.16, 32.56, 32.54, 32.31, 32.6, 29.51, 31.26, 32.16, 31.26, 33.01, 21.27, 23.67, 25.79, 29.67, 27.15, 22.14, 25.69, 23.59, 27.62, 24.96, 22.79, 22.12, 22.21, 22.79, 26.82, 25.29, 32.84, 26.07, 25.56, 26.66, 27.64, 26.95, 32.4, 27.28, 27.28, 29.56, 31.61, 37.24, 33.4, 36.56, 37.67, 33.07, 34.88, 40.21, 39.14, 36.4, 38.04, 40.48, 36.24, 35.22, 37.81, 22.25, 27.36, 31.42, 31.74, 30.62, 29.6, 28.29, 37.17, 34.45, 37.54, 39.44, 42.79, 37.86, 37.46, 36.98, 41.96, 44.3, 39.97, 42.35, 37.32, 36.4, 35.29, 35.55, 33.93, 34.74, 36.2, 32.68, 30.0, 30.44, 31.34, 29.48, 33.72, 28.94, 34.8, 21.92, 34.65, 49.94, 38.19, 28.88, 28.01, 29.1, 32.45, 25.68, 31.51, 22.32, 20.79, 33.29], \"z\": [0.5386740331491713, 0.559375, 0.678125, 0.678125, 0.678125, 0.5802469135802469, 0.5802469135802469, 0.5802469135802469, 0.6697530864197531, 0.616822429906542, 0.616822429906542, 0.616822429906542, 0.616822429906542, 0.9230769230769232, 0.9123711340206184, 0.5338983050847458, 0.5282485875706214, 0.5338983050847458, 0.5338983050847458, 0.5338983050847458, 0.5338983050847458, 0.5338983050847458, 0.53954802259887, 0.4932975871313673, 0.4932975871313673, 0.4932975871313673, 0.4932975871313673, 0.4932975871313673, 0.4932975871313673, 0.4423592493297587, 0.6182572614107884, 0.6182572614107884, 0.6182572614107884, 0.6182572614107884, 0.6016597510373444, 0.5518672199170125, 0.5684647302904564, 0.5601659751037344, 0.5601659751037344, 0.5684647302904564, 0.5684647302904564, 0.7811158798283262, 0.8127853881278538, 0.8127853881278538, 0.8264840182648402, 0.8401826484018264, 0.8401826484018264, 0.8401826484018264, 0.8401826484018264, 0.8401826484018264, 0.8401826484018264, 0.8264840182648402, 0.8264840182648402, 0.8264840182648402, 0.8264840182648402, 0.776824034334764, 0.7552742616033755, 0.7412280701754386, 0.7324561403508771, 0.5376712328767124, 0.5958904109589042, 0.5958904109589042, 0.5682656826568265, 0.5709342560553633, 0.5709342560553633, 0.5709342560553633, 0.5605536332179931, 0.5605536332179931, 0.5190311418685121, 0.6794425087108014, 0.6832740213523132, 0.6832740213523132, 0.5587188612099644, 0.4937106918238994, 0.4937106918238994, 0.4622641509433962, 0.4622641509433962, 0.4622641509433962, 0.4622641509433962, 0.4716981132075472, 0.4716981132075472, 0.6146496815286624, 0.6372881355932203, 0.6324503311258278, 0.6324503311258278, 0.6490066225165563, 0.6490066225165563, 0.6490066225165563, 0.6357615894039735, 0.6158940397350994, 0.6158940397350994, 0.6158940397350994, 0.6158940397350994, 0.6096774193548387, 0.6096774193548387, 0.6096774193548387, 0.6096774193548387, 0.6096774193548387, 0.6096774193548387, 0.6096774193548387, 0.6141479099678456, 0.6187290969899666, 0.6220735785953178, 0.6287625418060201, 0.6472602739726028, 0.6267123287671232, 0.6702898550724637, 0.6702898550724637, 0.6702898550724637, 0.6702898550724637, 0.6702898550724637, 0.7105263157894737, 0.7105263157894737, 0.7269230769230769, 0.7142857142857143, 0.7142857142857143, 0.7255639097744361, 0.6084142394822006, 0.5588235294117647, 0.5, 0.5, 0.5330882352941176, 0.5073529411764706, 0.5073529411764706, 0.5073529411764706, 0.5183823529411765, 0.5183823529411765, 0.5588235294117647, 0.5183823529411765, 0.5183823529411765, 0.5183823529411765, 0.5187165775401069, 0.703125, 0.703125, 0.703125, 0.6908396946564885, 0.6717557251908397, 0.6856060606060606, 0.678030303030303, 0.6590909090909091, 0.6856060606060606, 0.6439393939393939, 0.6856060606060606, 0.6856060606060606, 0.6856060606060606, 0.6818181818181818, 0.6818181818181818, 0.7131147540983607, 0.7377049180327869, 0.639344262295082, 0.6311475409836066, 0.6311475409836066, 0.6311475409836066, 0.6309012875536479, 0.7665198237885462, 0.8017621145374451, 0.7841409691629956, 0.8144796380090498, 0.8017621145374451, 0.6893939393939394, 0.5359712230215827, 0.5035971223021583, 0.5179856115107914, 0.5359712230215827, 0.68, 0.4861538461538462, 0.4861538461538462, 0.4646153846153846, 0.4646153846153846, 0.4646153846153846, 0.4738461538461538, 0.4738461538461538, 0.4953846153846154, 0.4953846153846154, 0.4953846153846154, 0.4953846153846154, 0.4953846153846154, 0.4953846153846154, 0.6132075471698113, 0.610062893081761, 0.610062893081761, 0.5835866261398176, 0.5835866261398176, 0.5835866261398176, 0.5927051671732523, 0.5927051671732523, 0.5927051671732523, 0.5927051671732523, 0.5927051671732523, 0.5927051671732523, 0.5927051671732523, 0.6416938110749185, 0.6416938110749185, 0.6175548589341693, 0.6175548589341693, 0.6175548589341693, 0.5422885572139303, 0.5422885572139303, 0.6261682242990654, 0.6261682242990654, 0.6261682242990654, 0.6261682242990654, 0.6261682242990654, 0.6323987538940811, 0.6323987538940811, 0.6326064382139148, 0.7208480565371025, 0.7326007326007326, 0.746268656716418, 0.7326007326007326, 0.7326007326007326, 0.7352941176470589, 0.7670682730923695, 0.7670682730923695, 0.7991803278688525, 0.6797153024911032, 0.6797153024911032, 0.6797153024911032, 0.6797153024911032, 0.7089552238805971, 0.7089552238805971, 0.7089552238805971, 0.7089552238805971, 0.7276119402985075, 0.7276119402985075, 0.7089552238805971, 0.6902985074626866, 0.6902985074626866, 0.6902985074626866, 0.6902985074626866, 0.7014925373134329, 0.7014925373134329, 0.6925894618202311, 0.6992481203007519, 0.7014925373134329, 0.7014925373134329, 0.6865671641791045, 0.6581818181818182, 0.6436363636363637, 0.509090909090909, 0.509090909090909, 0.509090909090909, 0.7391304347826086, 0.7391304347826086, 0.7391304347826086, 0.7391304347826086, 0.7391304347826086, 0.7391304347826086, 0.7391304347826086, 0.7470355731225297, 0.7470355731225297, 0.7470355731225297, 0.7233201581027668, 0.7233201581027668, 0.7233201581027668, 0.7233201581027668, 0.7233201581027668, 0.7233201581027668, 0.7233201581027668, 0.7233201581027668, 0.7233201581027668, 0.7430830039525692, 0.7391304347826086, 0.7391304347826086, 0.7391304347826086, 0.7391304347826086, 0.7401574803149606, 0.7322834645669292, 0.7401574803149606, 0.7401574803149606, 0.7401574803149606, 0.7401574803149606, 0.7401574803149606, 0.8430493273542601, 0.8209606986899564, 0.8384279475982532, 0.8209606986899564, 0.8384279475982532, 0.8296943231441049, 0.8296943231441049, 0.8296943231441049, 0.8296943231441049, 0.852017937219731, 0.8296943231441049, 0.852017937219731, 0.8296943231441049, 0.8384279475982532, 0.8427947598253275, 0.8427947598253275, 0.8427947598253275, 0.7161572052401747, 0.7161572052401747, 0.7161572052401747, 0.7161572052401747, 0.7161572052401747, 0.7116104868913857, 0.704119850187266, 0.7203065134099617, 0.6859205776173285, 0.6859205776173285, 0.6859205776173285, 0.6859205776173285, 0.6859205776173285, 0.6859205776173285, 0.6787003610108303, 0.6787003610108303, 0.6044749188018765, 0.5947712418300654, 0.5947712418300654, 0.5947712418300654, 0.5980392156862745, 0.5980392156862745, 0.6405228758169934, 0.6405228758169934, 0.7738095238095238, 0.7658730158730159, 0.6113289760348584, 0.6113289760348584, 0.6274509803921569, 0.6274509803921569, 0.6274509803921569, 0.6111111111111112, 0.6158536585365854, 0.5911764705882353, 0.5970588235294118, 0.5941176470588235, 0.5941176470588235, 0.5941176470588235, 0.5941176470588235, 0.5941176470588235, 0.5941176470588235, 0.5852941176470589, 0.5852941176470589, 0.5941176470588235, 0.5941176470588235, 0.6349206349206349, 0.6349206349206349, 0.6349206349206349, 0.6349206349206349, 0.6285714285714286, 0.6317460317460317, 0.6317460317460317, 0.6822742474916388, 0.6666666666666666, 0.6925795053003534, 0.6925795053003534, 0.6925795053003534, 0.6925795053003534, 0.8, 0.6881028938906752, 0.554016620498615, 0.554016620498615, 0.6391752577319587, 0.7052631578947368, 0.6779661016949152, 0.6779661016949152, 0.688135593220339, 0.688135593220339, 0.8546255506607929, 0.8595203132648067, 0.76171875]}, {\"hovertemplate\": \"TipoTraco=E<br>ConsumoPorM3=%{x}<br>Rompimento28Dias=%{y}<br>RelacaoAguaCimento=%{z}<extra></extra>\", \"legendgroup\": \"E\", \"marker\": {\"color\": \"#EF553B\", \"symbol\": \"circle\"}, \"mode\": \"markers\", \"name\": \"E\", \"scene\": \"scene\", \"showlegend\": true, \"type\": \"scatter3d\", \"x\": [394.0, 394.0, 394.0, 394.0, 394.0, 394.0, 394.0, 394.0, 394.0, 394.0, 394.0, 394.0, 394.0, 394.0, 394.0, 394.0, 394.0, 394.0, 394.0, 394.0, 394.0, 394.0, 394.0, 364.0, 364.0, 364.0, 364.0, 364.0, 364.0, 364.0, 364.0, 364.0, 364.0, 364.0, 369.0, 369.0, 365.0, 400.0, 400.0, 400.0, 400.0, 400.0, 400.0, 400.0, 400.0, 400.0, 400.0, 400.0, 400.0, 400.0, 400.0, 400.0, 400.0, 400.0, 400.0, 400.0, 400.0, 400.0, 400.0, 400.0, 394.0, 414.0, 370.0, 370.0, 370.0, 370.0, 370.0, 370.0, 354.0, 333.0, 333.0, 333.0, 333.0, 333.0, 333.0, 333.0, 333.0, 333.0, 337.0, 337.0, 337.0, 402.0, 402.0, 402.0, 402.0, 402.0, 402.0, 402.0, 402.0, 402.0, 402.0, 402.0, 402.0, 402.0, 402.0, 391.0, 391.0, 391.0, 391.0, 420.0, 420.0, 420.0, 380.0, 380.0, 380.0], \"y\": [51.28, 43.52, 42.89, 49.06, 44.21, 45.48, 44.6, 38.14, 33.43, 46.48, 46.74, 46.78, 42.62, 46.6, 46.46, 52.0, 49.79, 51.63, 49.51, 41.84, 38.95, 52.97, 49.15, 33.26, 33.77, 38.85, 37.04, 35.9, 37.06, 36.23, 33.84, 36.62, 33.86, 36.65, 34.59, 37.24, 39.12, 34.09, 31.18, 31.25, 30.49, 31.01, 34.94, 34.73, 33.26, 30.4, 39.45, 38.51, 39.11, 43.12, 39.79, 38.92, 40.86, 42.29, 33.2, 34.45, 38.18, 43.15, 37.24, 34.5, 45.71, 32.05, 39.48, 37.77, 41.83, 40.1, 39.59, 40.66, 31.24, 25.1, 26.16, 29.65, 25.89, 28.43, 27.34, 28.71, 30.68, 27.69, 33.25, 31.54, 28.22, 32.02, 38.06, 37.31, 33.48, 38.79, 42.01, 38.08, 34.63, 28.4, 32.64, 33.01, 38.7, 33.66, 34.69, 33.07, 31.74, 29.56, 37.04, 33.19, 34.38, 36.17, 49.8, 48.35, 46.11], \"z\": [0.4060913705583756, 0.4060913705583756, 0.4060913705583756, 0.4060913705583756, 0.4060913705583756, 0.4060913705583756, 0.4060913705583756, 0.4060913705583756, 0.4342053885201093, 0.44416243654822335, 0.4289340101522843, 0.434010152284264, 0.434010152284264, 0.434010152284264, 0.434010152284264, 0.434010152284264, 0.4137055837563452, 0.4137055837563452, 0.4060913705583756, 0.4060913705583756, 0.4060913705583756, 0.4060913705583756, 0.39867239359625145, 0.5412087912087912, 0.5412087912087912, 0.5412087912087912, 0.5412087912087912, 0.5412087912087912, 0.5412087912087912, 0.5412087912087912, 0.5412087912087912, 0.5412087912087912, 0.4120879120879121, 0.4120879120879121, 0.5420054200542005, 0.5311653116531165, 0.4303477344573235, 0.475, 0.5175, 0.4825, 0.4825, 0.4825, 0.4825, 0.4825, 0.4825, 0.4825, 0.5, 0.5125, 0.5125, 0.5225, 0.5225, 0.5225, 0.5225, 0.5, 0.4925, 0.4925, 0.4925, 0.4925, 0.4925, 0.4825, 0.41116751269035534, 0.4951690821256038, 0.5837837837837838, 0.5783783783783784, 0.5783783783783784, 0.5783783783783784, 0.5783783783783784, 0.5783783783783784, 0.6101694915254238, 0.5855855855855856, 0.5855855855855856, 0.5855855855855856, 0.5855855855855856, 0.5855855855855856, 0.5855855855855856, 0.5825825825825826, 0.5825825825825826, 0.5825825825825826, 0.486646884272997, 0.486646884272997, 0.486646884272997, 0.4875621890547264, 0.4875621890547264, 0.4875621890547264, 0.4875621890547264, 0.41791044776119396, 0.41791044776119396, 0.41791044776119396, 0.482587064676617, 0.482587064676617, 0.482587064676617, 0.482587064676617, 0.482587064676617, 0.482587064676617, 0.482587064676617, 0.5396419437340153, 0.5396419437340153, 0.5396419437340153, 0.5370843989769821, 0.480952380952381, 0.4880952380952381, 0.4880952380952381, 0.55, 0.55, 0.55]}],                        {\"legend\": {\"title\": {\"text\": \"TipoTraco\"}, \"tracegroupgap\": 0}, \"scene\": {\"domain\": {\"x\": [0.0, 1.0], \"y\": [0.0, 1.0]}, \"xaxis\": {\"title\": {\"text\": \"ConsumoPorM3\"}}, \"yaxis\": {\"title\": {\"text\": \"Rompimento28Dias\"}}, \"zaxis\": {\"title\": {\"text\": \"RelacaoAguaCimento\"}}}, \"template\": {\"data\": {\"bar\": [{\"error_x\": {\"color\": \"#2a3f5f\"}, \"error_y\": {\"color\": \"#2a3f5f\"}, \"marker\": {\"line\": {\"color\": \"#E5ECF6\", \"width\": 0.5}}, \"type\": \"bar\"}], \"barpolar\": [{\"marker\": {\"line\": {\"color\": \"#E5ECF6\", \"width\": 0.5}}, \"type\": \"barpolar\"}], \"carpet\": [{\"aaxis\": {\"endlinecolor\": \"#2a3f5f\", \"gridcolor\": \"white\", \"linecolor\": \"white\", \"minorgridcolor\": \"white\", \"startlinecolor\": \"#2a3f5f\"}, \"baxis\": {\"endlinecolor\": \"#2a3f5f\", \"gridcolor\": \"white\", \"linecolor\": \"white\", \"minorgridcolor\": \"white\", \"startlinecolor\": \"#2a3f5f\"}, \"type\": \"carpet\"}], \"choropleth\": [{\"colorbar\": {\"outlinewidth\": 0, \"ticks\": \"\"}, \"type\": \"choropleth\"}], \"contour\": [{\"colorbar\": {\"outlinewidth\": 0, \"ticks\": \"\"}, \"colorscale\": [[0.0, \"#0d0887\"], [0.1111111111111111, \"#46039f\"], [0.2222222222222222, \"#7201a8\"], [0.3333333333333333, \"#9c179e\"], [0.4444444444444444, \"#bd3786\"], [0.5555555555555556, \"#d8576b\"], [0.6666666666666666, \"#ed7953\"], [0.7777777777777778, \"#fb9f3a\"], [0.8888888888888888, \"#fdca26\"], [1.0, \"#f0f921\"]], \"type\": \"contour\"}], \"contourcarpet\": [{\"colorbar\": {\"outlinewidth\": 0, \"ticks\": \"\"}, \"type\": \"contourcarpet\"}], \"heatmap\": [{\"colorbar\": {\"outlinewidth\": 0, \"ticks\": \"\"}, \"colorscale\": [[0.0, \"#0d0887\"], [0.1111111111111111, \"#46039f\"], [0.2222222222222222, \"#7201a8\"], [0.3333333333333333, \"#9c179e\"], [0.4444444444444444, \"#bd3786\"], [0.5555555555555556, \"#d8576b\"], [0.6666666666666666, \"#ed7953\"], [0.7777777777777778, \"#fb9f3a\"], [0.8888888888888888, \"#fdca26\"], [1.0, \"#f0f921\"]], \"type\": \"heatmap\"}], \"heatmapgl\": [{\"colorbar\": {\"outlinewidth\": 0, \"ticks\": \"\"}, \"colorscale\": [[0.0, \"#0d0887\"], [0.1111111111111111, \"#46039f\"], [0.2222222222222222, \"#7201a8\"], [0.3333333333333333, \"#9c179e\"], [0.4444444444444444, \"#bd3786\"], [0.5555555555555556, \"#d8576b\"], [0.6666666666666666, \"#ed7953\"], [0.7777777777777778, \"#fb9f3a\"], [0.8888888888888888, \"#fdca26\"], [1.0, \"#f0f921\"]], \"type\": \"heatmapgl\"}], \"histogram\": [{\"marker\": {\"colorbar\": {\"outlinewidth\": 0, \"ticks\": \"\"}}, \"type\": \"histogram\"}], \"histogram2d\": [{\"colorbar\": {\"outlinewidth\": 0, \"ticks\": \"\"}, \"colorscale\": [[0.0, \"#0d0887\"], [0.1111111111111111, \"#46039f\"], [0.2222222222222222, \"#7201a8\"], [0.3333333333333333, \"#9c179e\"], [0.4444444444444444, \"#bd3786\"], [0.5555555555555556, \"#d8576b\"], [0.6666666666666666, \"#ed7953\"], [0.7777777777777778, \"#fb9f3a\"], [0.8888888888888888, \"#fdca26\"], [1.0, \"#f0f921\"]], \"type\": \"histogram2d\"}], \"histogram2dcontour\": [{\"colorbar\": {\"outlinewidth\": 0, \"ticks\": \"\"}, \"colorscale\": [[0.0, \"#0d0887\"], [0.1111111111111111, \"#46039f\"], [0.2222222222222222, \"#7201a8\"], [0.3333333333333333, \"#9c179e\"], [0.4444444444444444, \"#bd3786\"], [0.5555555555555556, \"#d8576b\"], [0.6666666666666666, \"#ed7953\"], [0.7777777777777778, \"#fb9f3a\"], [0.8888888888888888, \"#fdca26\"], [1.0, \"#f0f921\"]], \"type\": \"histogram2dcontour\"}], \"mesh3d\": [{\"colorbar\": {\"outlinewidth\": 0, \"ticks\": \"\"}, \"type\": \"mesh3d\"}], \"parcoords\": [{\"line\": {\"colorbar\": {\"outlinewidth\": 0, \"ticks\": \"\"}}, \"type\": \"parcoords\"}], \"pie\": [{\"automargin\": true, \"type\": \"pie\"}], \"scatter\": [{\"marker\": {\"colorbar\": {\"outlinewidth\": 0, \"ticks\": \"\"}}, \"type\": \"scatter\"}], \"scatter3d\": [{\"line\": {\"colorbar\": {\"outlinewidth\": 0, \"ticks\": \"\"}}, \"marker\": {\"colorbar\": {\"outlinewidth\": 0, \"ticks\": \"\"}}, \"type\": \"scatter3d\"}], \"scattercarpet\": [{\"marker\": {\"colorbar\": {\"outlinewidth\": 0, \"ticks\": \"\"}}, \"type\": \"scattercarpet\"}], \"scattergeo\": [{\"marker\": {\"colorbar\": {\"outlinewidth\": 0, \"ticks\": \"\"}}, \"type\": \"scattergeo\"}], \"scattergl\": [{\"marker\": {\"colorbar\": {\"outlinewidth\": 0, \"ticks\": \"\"}}, \"type\": \"scattergl\"}], \"scattermapbox\": [{\"marker\": {\"colorbar\": {\"outlinewidth\": 0, \"ticks\": \"\"}}, \"type\": \"scattermapbox\"}], \"scatterpolar\": [{\"marker\": {\"colorbar\": {\"outlinewidth\": 0, \"ticks\": \"\"}}, \"type\": \"scatterpolar\"}], \"scatterpolargl\": [{\"marker\": {\"colorbar\": {\"outlinewidth\": 0, \"ticks\": \"\"}}, \"type\": \"scatterpolargl\"}], \"scatterternary\": [{\"marker\": {\"colorbar\": {\"outlinewidth\": 0, \"ticks\": \"\"}}, \"type\": \"scatterternary\"}], \"surface\": [{\"colorbar\": {\"outlinewidth\": 0, \"ticks\": \"\"}, \"colorscale\": [[0.0, \"#0d0887\"], [0.1111111111111111, \"#46039f\"], [0.2222222222222222, \"#7201a8\"], [0.3333333333333333, \"#9c179e\"], [0.4444444444444444, \"#bd3786\"], [0.5555555555555556, \"#d8576b\"], [0.6666666666666666, \"#ed7953\"], [0.7777777777777778, \"#fb9f3a\"], [0.8888888888888888, \"#fdca26\"], [1.0, \"#f0f921\"]], \"type\": \"surface\"}], \"table\": [{\"cells\": {\"fill\": {\"color\": \"#EBF0F8\"}, \"line\": {\"color\": \"white\"}}, \"header\": {\"fill\": {\"color\": \"#C8D4E3\"}, \"line\": {\"color\": \"white\"}}, \"type\": \"table\"}]}, \"layout\": {\"annotationdefaults\": {\"arrowcolor\": \"#2a3f5f\", \"arrowhead\": 0, \"arrowwidth\": 1}, \"autotypenumbers\": \"strict\", \"coloraxis\": {\"colorbar\": {\"outlinewidth\": 0, \"ticks\": \"\"}}, \"colorscale\": {\"diverging\": [[0, \"#8e0152\"], [0.1, \"#c51b7d\"], [0.2, \"#de77ae\"], [0.3, \"#f1b6da\"], [0.4, \"#fde0ef\"], [0.5, \"#f7f7f7\"], [0.6, \"#e6f5d0\"], [0.7, \"#b8e186\"], [0.8, \"#7fbc41\"], [0.9, \"#4d9221\"], [1, \"#276419\"]], \"sequential\": [[0.0, \"#0d0887\"], [0.1111111111111111, \"#46039f\"], [0.2222222222222222, \"#7201a8\"], [0.3333333333333333, \"#9c179e\"], [0.4444444444444444, \"#bd3786\"], [0.5555555555555556, \"#d8576b\"], [0.6666666666666666, \"#ed7953\"], [0.7777777777777778, \"#fb9f3a\"], [0.8888888888888888, \"#fdca26\"], [1.0, \"#f0f921\"]], \"sequentialminus\": [[0.0, \"#0d0887\"], [0.1111111111111111, \"#46039f\"], [0.2222222222222222, \"#7201a8\"], [0.3333333333333333, \"#9c179e\"], [0.4444444444444444, \"#bd3786\"], [0.5555555555555556, \"#d8576b\"], [0.6666666666666666, \"#ed7953\"], [0.7777777777777778, \"#fb9f3a\"], [0.8888888888888888, \"#fdca26\"], [1.0, \"#f0f921\"]]}, \"colorway\": [\"#636efa\", \"#EF553B\", \"#00cc96\", \"#ab63fa\", \"#FFA15A\", \"#19d3f3\", \"#FF6692\", \"#B6E880\", \"#FF97FF\", \"#FECB52\"], \"font\": {\"color\": \"#2a3f5f\"}, \"geo\": {\"bgcolor\": \"white\", \"lakecolor\": \"white\", \"landcolor\": \"#E5ECF6\", \"showlakes\": true, \"showland\": true, \"subunitcolor\": \"white\"}, \"hoverlabel\": {\"align\": \"left\"}, \"hovermode\": \"closest\", \"mapbox\": {\"style\": \"light\"}, \"paper_bgcolor\": \"white\", \"plot_bgcolor\": \"#E5ECF6\", \"polar\": {\"angularaxis\": {\"gridcolor\": \"white\", \"linecolor\": \"white\", \"ticks\": \"\"}, \"bgcolor\": \"#E5ECF6\", \"radialaxis\": {\"gridcolor\": \"white\", \"linecolor\": \"white\", \"ticks\": \"\"}}, \"scene\": {\"xaxis\": {\"backgroundcolor\": \"#E5ECF6\", \"gridcolor\": \"white\", \"gridwidth\": 2, \"linecolor\": \"white\", \"showbackground\": true, \"ticks\": \"\", \"zerolinecolor\": \"white\"}, \"yaxis\": {\"backgroundcolor\": \"#E5ECF6\", \"gridcolor\": \"white\", \"gridwidth\": 2, \"linecolor\": \"white\", \"showbackground\": true, \"ticks\": \"\", \"zerolinecolor\": \"white\"}, \"zaxis\": {\"backgroundcolor\": \"#E5ECF6\", \"gridcolor\": \"white\", \"gridwidth\": 2, \"linecolor\": \"white\", \"showbackground\": true, \"ticks\": \"\", \"zerolinecolor\": \"white\"}}, \"shapedefaults\": {\"line\": {\"color\": \"#2a3f5f\"}}, \"ternary\": {\"aaxis\": {\"gridcolor\": \"white\", \"linecolor\": \"white\", \"ticks\": \"\"}, \"baxis\": {\"gridcolor\": \"white\", \"linecolor\": \"white\", \"ticks\": \"\"}, \"bgcolor\": \"#E5ECF6\", \"caxis\": {\"gridcolor\": \"white\", \"linecolor\": \"white\", \"ticks\": \"\"}}, \"title\": {\"x\": 0.05}, \"xaxis\": {\"automargin\": true, \"gridcolor\": \"white\", \"linecolor\": \"white\", \"ticks\": \"\", \"title\": {\"standoff\": 15}, \"zerolinecolor\": \"white\", \"zerolinewidth\": 2}, \"yaxis\": {\"automargin\": true, \"gridcolor\": \"white\", \"linecolor\": \"white\", \"ticks\": \"\", \"title\": {\"standoff\": 15}, \"zerolinecolor\": \"white\", \"zerolinewidth\": 2}}}, \"title\": {\"text\": \"Rompimento7Dias x Rompimento 28 Dias\"}},                        {\"responsive\": true}                    ).then(function(){\n",
       "                            \n",
       "var gd = document.getElementById('b0d03b61-1207-42cc-9200-79672a5999fa');\n",
       "var x = new MutationObserver(function (mutations, observer) {{\n",
       "        var display = window.getComputedStyle(gd).display;\n",
       "        if (!display || display === 'none') {{\n",
       "            console.log([gd, 'removed!']);\n",
       "            Plotly.purge(gd);\n",
       "            observer.disconnect();\n",
       "        }}\n",
       "}});\n",
       "\n",
       "// Listen for the removal of the full notebook cells\n",
       "var notebookContainer = gd.closest('#notebook-container');\n",
       "if (notebookContainer) {{\n",
       "    x.observe(notebookContainer, {childList: true});\n",
       "}}\n",
       "\n",
       "// Listen for the clearing of the current output cell\n",
       "var outputEl = gd.closest('.output');\n",
       "if (outputEl) {{\n",
       "    x.observe(outputEl, {childList: true});\n",
       "}}\n",
       "\n",
       "                        })                };                });            </script>        </div>"
      ]
     },
     "metadata": {},
     "output_type": "display_data"
    }
   ],
   "source": [
    "fig = px.scatter_3d(dados_aglomerante, x=\"ConsumoPorM3\", y=\"Rompimento28Dias\", z=\"RelacaoAguaCimento\", color=\"TipoTraco\", title='Rompimento7Dias x Rompimento 28 Dias')\n",
    "fig.show()"
   ]
  },
  {
   "cell_type": "code",
   "execution_count": 1730,
   "metadata": {},
   "outputs": [
    {
     "name": "stderr",
     "output_type": "stream",
     "text": [
      "/home/marina/anaconda3/lib/python3.8/site-packages/pandas/core/series.py:4563: SettingWithCopyWarning:\n",
      "\n",
      "\n",
      "A value is trying to be set on a copy of a slice from a DataFrame\n",
      "\n",
      "See the caveats in the documentation: https://pandas.pydata.org/pandas-docs/stable/user_guide/indexing.html#returning-a-view-versus-a-copy\n",
      "\n"
     ]
    }
   ],
   "source": [
    "dados_aglomerante[\"TipoLancamento\"].replace('C', 0, inplace = True)\n",
    "dados_aglomerante[\"TipoLancamento\"].replace('B', 1, inplace = True)\n",
    "\n",
    "dados_aglomerante[\"TipoTraco\"].replace('N', 0, inplace = True)\n",
    "dados_aglomerante[\"TipoTraco\"].replace('E', 1, inplace = True)"
   ]
  },
  {
   "cell_type": "code",
   "execution_count": 1731,
   "metadata": {},
   "outputs": [
    {
     "name": "stderr",
     "output_type": "stream",
     "text": [
      "<ipython-input-1731-77c128e4e36d>:1: SettingWithCopyWarning:\n",
      "\n",
      "\n",
      "A value is trying to be set on a copy of a slice from a DataFrame.\n",
      "Try using .loc[row_indexer,col_indexer] = value instead\n",
      "\n",
      "See the caveats in the documentation: https://pandas.pydata.org/pandas-docs/stable/user_guide/indexing.html#returning-a-view-versus-a-copy\n",
      "\n",
      "<ipython-input-1731-77c128e4e36d>:2: SettingWithCopyWarning:\n",
      "\n",
      "\n",
      "A value is trying to be set on a copy of a slice from a DataFrame\n",
      "\n",
      "See the caveats in the documentation: https://pandas.pydata.org/pandas-docs/stable/user_guide/indexing.html#returning-a-view-versus-a-copy\n",
      "\n"
     ]
    }
   ],
   "source": [
    "dados_aglomerante[\"DataProjecao\"] = pd.to_datetime(dados_aglomerante[\"DataProjecao\"])\n",
    "dados_aglomerante.sort_values(\"DataProjecao\", inplace=True)"
   ]
  },
  {
   "cell_type": "code",
   "execution_count": 1732,
   "metadata": {},
   "outputs": [
    {
     "data": {
      "text/html": [
       "<div>\n",
       "<style scoped>\n",
       "    .dataframe tbody tr th:only-of-type {\n",
       "        vertical-align: middle;\n",
       "    }\n",
       "\n",
       "    .dataframe tbody tr th {\n",
       "        vertical-align: top;\n",
       "    }\n",
       "\n",
       "    .dataframe thead th {\n",
       "        text-align: right;\n",
       "    }\n",
       "</style>\n",
       "<table border=\"1\" class=\"dataframe\">\n",
       "  <thead>\n",
       "    <tr style=\"text-align: right;\">\n",
       "      <th></th>\n",
       "      <th>CodigoNotaFiscal</th>\n",
       "      <th>CodigoCentroSaida</th>\n",
       "      <th>CodigoReceita</th>\n",
       "      <th>Volume</th>\n",
       "      <th>TipoLancamento</th>\n",
       "      <th>DataEmissaoNotaFiscal</th>\n",
       "      <th>CodigoCliente</th>\n",
       "      <th>CodigoMotorista</th>\n",
       "      <th>Status</th>\n",
       "      <th>QuantidadeAgua</th>\n",
       "      <th>...</th>\n",
       "      <th>Rompimento28Dias</th>\n",
       "      <th>ConsumoPorM3</th>\n",
       "      <th>DesvioAplicado</th>\n",
       "      <th>ResultadoEsperado</th>\n",
       "      <th>ResultadoProjetado</th>\n",
       "      <th>PercentualCrescimentoReal</th>\n",
       "      <th>PercentualCrescimentoProjetado</th>\n",
       "      <th>RelacaoAguaCimento</th>\n",
       "      <th>DataProjecao</th>\n",
       "      <th>LogRompimento7Dias</th>\n",
       "    </tr>\n",
       "  </thead>\n",
       "  <tbody>\n",
       "    <tr>\n",
       "      <th>39427</th>\n",
       "      <td>458856</td>\n",
       "      <td>51020</td>\n",
       "      <td>34650051</td>\n",
       "      <td>8.0</td>\n",
       "      <td>1</td>\n",
       "      <td>2017-07-05 08:12:15.767</td>\n",
       "      <td>154417998</td>\n",
       "      <td>66079</td>\n",
       "      <td>N</td>\n",
       "      <td>132.0</td>\n",
       "      <td>...</td>\n",
       "      <td>26.77</td>\n",
       "      <td>289.0</td>\n",
       "      <td>6.0</td>\n",
       "      <td>43.409279</td>\n",
       "      <td>28.118389</td>\n",
       "      <td>16.950633</td>\n",
       "      <td>22.841366</td>\n",
       "      <td>0.570934</td>\n",
       "      <td>2017-07-07</td>\n",
       "      <td>3.130700</td>\n",
       "    </tr>\n",
       "    <tr>\n",
       "      <th>39426</th>\n",
       "      <td>458792</td>\n",
       "      <td>51020</td>\n",
       "      <td>34646051</td>\n",
       "      <td>8.5</td>\n",
       "      <td>1</td>\n",
       "      <td>2017-07-04 14:33:39.543</td>\n",
       "      <td>133599051</td>\n",
       "      <td>39080</td>\n",
       "      <td>N</td>\n",
       "      <td>130.9</td>\n",
       "      <td>...</td>\n",
       "      <td>27.27</td>\n",
       "      <td>271.0</td>\n",
       "      <td>6.0</td>\n",
       "      <td>43.625395</td>\n",
       "      <td>23.854127</td>\n",
       "      <td>48.126018</td>\n",
       "      <td>29.571576</td>\n",
       "      <td>0.568266</td>\n",
       "      <td>2017-07-07</td>\n",
       "      <td>2.912894</td>\n",
       "    </tr>\n",
       "    <tr>\n",
       "      <th>39413</th>\n",
       "      <td>458875</td>\n",
       "      <td>51020</td>\n",
       "      <td>34642051</td>\n",
       "      <td>7.0</td>\n",
       "      <td>1</td>\n",
       "      <td>2017-07-05 09:27:28.143</td>\n",
       "      <td>12770051</td>\n",
       "      <td>828051</td>\n",
       "      <td>N</td>\n",
       "      <td>144.9</td>\n",
       "      <td>...</td>\n",
       "      <td>31.18</td>\n",
       "      <td>400.0</td>\n",
       "      <td>8.0</td>\n",
       "      <td>47.947870</td>\n",
       "      <td>27.666244</td>\n",
       "      <td>39.196429</td>\n",
       "      <td>23.510016</td>\n",
       "      <td>0.517500</td>\n",
       "      <td>2017-07-07</td>\n",
       "      <td>3.109061</td>\n",
       "    </tr>\n",
       "    <tr>\n",
       "      <th>40037</th>\n",
       "      <td>461721</td>\n",
       "      <td>51020</td>\n",
       "      <td>34749051</td>\n",
       "      <td>7.0</td>\n",
       "      <td>1</td>\n",
       "      <td>2017-07-28 11:57:28.027</td>\n",
       "      <td>12873051</td>\n",
       "      <td>173051</td>\n",
       "      <td>N</td>\n",
       "      <td>143.5</td>\n",
       "      <td>...</td>\n",
       "      <td>38.51</td>\n",
       "      <td>400.0</td>\n",
       "      <td>8.0</td>\n",
       "      <td>48.396107</td>\n",
       "      <td>35.767575</td>\n",
       "      <td>21.406053</td>\n",
       "      <td>12.760325</td>\n",
       "      <td>0.512500</td>\n",
       "      <td>2017-07-28</td>\n",
       "      <td>3.456947</td>\n",
       "    </tr>\n",
       "    <tr>\n",
       "      <th>40038</th>\n",
       "      <td>461745</td>\n",
       "      <td>51020</td>\n",
       "      <td>34749051</td>\n",
       "      <td>7.0</td>\n",
       "      <td>1</td>\n",
       "      <td>2017-07-28 13:29:54.357</td>\n",
       "      <td>12873051</td>\n",
       "      <td>85079</td>\n",
       "      <td>N</td>\n",
       "      <td>143.5</td>\n",
       "      <td>...</td>\n",
       "      <td>39.11</td>\n",
       "      <td>400.0</td>\n",
       "      <td>8.0</td>\n",
       "      <td>48.396107</td>\n",
       "      <td>34.728298</td>\n",
       "      <td>28.397899</td>\n",
       "      <td>14.012797</td>\n",
       "      <td>0.512500</td>\n",
       "      <td>2017-07-28</td>\n",
       "      <td>3.416414</td>\n",
       "    </tr>\n",
       "    <tr>\n",
       "      <th>40042</th>\n",
       "      <td>461969</td>\n",
       "      <td>51020</td>\n",
       "      <td>34749051</td>\n",
       "      <td>7.0</td>\n",
       "      <td>1</td>\n",
       "      <td>2017-07-31 13:50:43.240</td>\n",
       "      <td>12873051</td>\n",
       "      <td>731051</td>\n",
       "      <td>N</td>\n",
       "      <td>146.3</td>\n",
       "      <td>...</td>\n",
       "      <td>40.86</td>\n",
       "      <td>400.0</td>\n",
       "      <td>8.0</td>\n",
       "      <td>47.503784</td>\n",
       "      <td>37.145369</td>\n",
       "      <td>22.262118</td>\n",
       "      <td>11.147125</td>\n",
       "      <td>0.522500</td>\n",
       "      <td>2017-08-04</td>\n",
       "      <td>3.509155</td>\n",
       "    </tr>\n",
       "    <tr>\n",
       "      <th>40103</th>\n",
       "      <td>462438</td>\n",
       "      <td>51020</td>\n",
       "      <td>34905051</td>\n",
       "      <td>8.0</td>\n",
       "      <td>0</td>\n",
       "      <td>2017-08-03 14:54:29.060</td>\n",
       "      <td>200789998</td>\n",
       "      <td>517051</td>\n",
       "      <td>N</td>\n",
       "      <td>119.2</td>\n",
       "      <td>...</td>\n",
       "      <td>29.67</td>\n",
       "      <td>278.0</td>\n",
       "      <td>6.0</td>\n",
       "      <td>46.327671</td>\n",
       "      <td>27.424990</td>\n",
       "      <td>34.010840</td>\n",
       "      <td>23.870775</td>\n",
       "      <td>0.535971</td>\n",
       "      <td>2017-08-04</td>\n",
       "      <td>3.097386</td>\n",
       "    </tr>\n",
       "    <tr>\n",
       "      <th>40047</th>\n",
       "      <td>462388</td>\n",
       "      <td>51020</td>\n",
       "      <td>34749051</td>\n",
       "      <td>7.0</td>\n",
       "      <td>1</td>\n",
       "      <td>2017-08-03 10:33:36.220</td>\n",
       "      <td>12873051</td>\n",
       "      <td>577051</td>\n",
       "      <td>N</td>\n",
       "      <td>137.9</td>\n",
       "      <td>...</td>\n",
       "      <td>43.15</td>\n",
       "      <td>400.0</td>\n",
       "      <td>8.0</td>\n",
       "      <td>50.231352</td>\n",
       "      <td>34.378325</td>\n",
       "      <td>43.641811</td>\n",
       "      <td>14.441828</td>\n",
       "      <td>0.492500</td>\n",
       "      <td>2017-08-04</td>\n",
       "      <td>3.402530</td>\n",
       "    </tr>\n",
       "    <tr>\n",
       "      <th>40039</th>\n",
       "      <td>461855</td>\n",
       "      <td>51020</td>\n",
       "      <td>34749051</td>\n",
       "      <td>7.0</td>\n",
       "      <td>1</td>\n",
       "      <td>2017-07-31 06:32:35.680</td>\n",
       "      <td>12873051</td>\n",
       "      <td>340051</td>\n",
       "      <td>N</td>\n",
       "      <td>146.3</td>\n",
       "      <td>...</td>\n",
       "      <td>43.12</td>\n",
       "      <td>400.0</td>\n",
       "      <td>8.0</td>\n",
       "      <td>47.503784</td>\n",
       "      <td>36.200074</td>\n",
       "      <td>33.705426</td>\n",
       "      <td>12.248292</td>\n",
       "      <td>0.522500</td>\n",
       "      <td>2017-08-04</td>\n",
       "      <td>3.473518</td>\n",
       "    </tr>\n",
       "    <tr>\n",
       "      <th>40040</th>\n",
       "      <td>461920</td>\n",
       "      <td>51020</td>\n",
       "      <td>34749051</td>\n",
       "      <td>7.0</td>\n",
       "      <td>1</td>\n",
       "      <td>2017-07-31 10:55:31.060</td>\n",
       "      <td>12873051</td>\n",
       "      <td>517051</td>\n",
       "      <td>N</td>\n",
       "      <td>146.3</td>\n",
       "      <td>...</td>\n",
       "      <td>39.79</td>\n",
       "      <td>400.0</td>\n",
       "      <td>8.0</td>\n",
       "      <td>47.503784</td>\n",
       "      <td>35.109549</td>\n",
       "      <td>28.686934</td>\n",
       "      <td>13.549640</td>\n",
       "      <td>0.522500</td>\n",
       "      <td>2017-08-04</td>\n",
       "      <td>3.431403</td>\n",
       "    </tr>\n",
       "    <tr>\n",
       "      <th>40041</th>\n",
       "      <td>461938</td>\n",
       "      <td>51020</td>\n",
       "      <td>34749051</td>\n",
       "      <td>7.0</td>\n",
       "      <td>1</td>\n",
       "      <td>2017-07-31 12:11:41.053</td>\n",
       "      <td>12873051</td>\n",
       "      <td>222051</td>\n",
       "      <td>N</td>\n",
       "      <td>146.3</td>\n",
       "      <td>...</td>\n",
       "      <td>38.92</td>\n",
       "      <td>400.0</td>\n",
       "      <td>8.0</td>\n",
       "      <td>47.503784</td>\n",
       "      <td>32.403128</td>\n",
       "      <td>40.454709</td>\n",
       "      <td>16.936585</td>\n",
       "      <td>0.522500</td>\n",
       "      <td>2017-08-04</td>\n",
       "      <td>3.321793</td>\n",
       "    </tr>\n",
       "    <tr>\n",
       "      <th>40046</th>\n",
       "      <td>462355</td>\n",
       "      <td>51020</td>\n",
       "      <td>34749051</td>\n",
       "      <td>7.0</td>\n",
       "      <td>1</td>\n",
       "      <td>2017-08-03 09:19:01.757</td>\n",
       "      <td>12873051</td>\n",
       "      <td>731051</td>\n",
       "      <td>N</td>\n",
       "      <td>137.9</td>\n",
       "      <td>...</td>\n",
       "      <td>38.18</td>\n",
       "      <td>400.0</td>\n",
       "      <td>8.0</td>\n",
       "      <td>50.231352</td>\n",
       "      <td>35.767575</td>\n",
       "      <td>20.365700</td>\n",
       "      <td>12.760325</td>\n",
       "      <td>0.492500</td>\n",
       "      <td>2017-08-04</td>\n",
       "      <td>3.456947</td>\n",
       "    </tr>\n",
       "    <tr>\n",
       "      <th>40043</th>\n",
       "      <td>462153</td>\n",
       "      <td>51020</td>\n",
       "      <td>34749051</td>\n",
       "      <td>7.0</td>\n",
       "      <td>1</td>\n",
       "      <td>2017-08-02 07:02:57.607</td>\n",
       "      <td>12873051</td>\n",
       "      <td>49079</td>\n",
       "      <td>N</td>\n",
       "      <td>140.0</td>\n",
       "      <td>...</td>\n",
       "      <td>42.29</td>\n",
       "      <td>400.0</td>\n",
       "      <td>8.0</td>\n",
       "      <td>49.535118</td>\n",
       "      <td>35.914766</td>\n",
       "      <td>32.570533</td>\n",
       "      <td>12.585474</td>\n",
       "      <td>0.500000</td>\n",
       "      <td>2017-08-04</td>\n",
       "      <td>3.462606</td>\n",
       "    </tr>\n",
       "    <tr>\n",
       "      <th>40060</th>\n",
       "      <td>462414</td>\n",
       "      <td>51020</td>\n",
       "      <td>34910051</td>\n",
       "      <td>8.0</td>\n",
       "      <td>1</td>\n",
       "      <td>2017-08-03 12:58:58.720</td>\n",
       "      <td>2378051</td>\n",
       "      <td>517051</td>\n",
       "      <td>N</td>\n",
       "      <td>129.6</td>\n",
       "      <td>...</td>\n",
       "      <td>45.71</td>\n",
       "      <td>394.0</td>\n",
       "      <td>8.0</td>\n",
       "      <td>58.439915</td>\n",
       "      <td>39.937841</td>\n",
       "      <td>23.640790</td>\n",
       "      <td>8.027701</td>\n",
       "      <td>0.411168</td>\n",
       "      <td>2017-08-04</td>\n",
       "      <td>3.610107</td>\n",
       "    </tr>\n",
       "    <tr>\n",
       "      <th>40048</th>\n",
       "      <td>462420</td>\n",
       "      <td>51020</td>\n",
       "      <td>34749051</td>\n",
       "      <td>7.0</td>\n",
       "      <td>1</td>\n",
       "      <td>2017-08-03 13:17:27.730</td>\n",
       "      <td>12873051</td>\n",
       "      <td>419051</td>\n",
       "      <td>N</td>\n",
       "      <td>137.9</td>\n",
       "      <td>...</td>\n",
       "      <td>37.24</td>\n",
       "      <td>400.0</td>\n",
       "      <td>8.0</td>\n",
       "      <td>50.231352</td>\n",
       "      <td>37.465621</td>\n",
       "      <td>10.112360</td>\n",
       "      <td>10.779483</td>\n",
       "      <td>0.492500</td>\n",
       "      <td>2017-08-04</td>\n",
       "      <td>3.521052</td>\n",
       "    </tr>\n",
       "    <tr>\n",
       "      <th>40044</th>\n",
       "      <td>462204</td>\n",
       "      <td>51020</td>\n",
       "      <td>34749051</td>\n",
       "      <td>7.0</td>\n",
       "      <td>1</td>\n",
       "      <td>2017-08-02 11:35:57.717</td>\n",
       "      <td>12873051</td>\n",
       "      <td>66079</td>\n",
       "      <td>N</td>\n",
       "      <td>137.9</td>\n",
       "      <td>...</td>\n",
       "      <td>33.20</td>\n",
       "      <td>400.0</td>\n",
       "      <td>8.0</td>\n",
       "      <td>50.231352</td>\n",
       "      <td>30.402810</td>\n",
       "      <td>30.605822</td>\n",
       "      <td>19.601929</td>\n",
       "      <td>0.492500</td>\n",
       "      <td>2017-08-04</td>\n",
       "      <td>3.235536</td>\n",
       "    </tr>\n",
       "    <tr>\n",
       "      <th>40045</th>\n",
       "      <td>462341</td>\n",
       "      <td>51020</td>\n",
       "      <td>34749051</td>\n",
       "      <td>7.0</td>\n",
       "      <td>1</td>\n",
       "      <td>2017-08-03 09:06:48.990</td>\n",
       "      <td>12873051</td>\n",
       "      <td>226051</td>\n",
       "      <td>N</td>\n",
       "      <td>137.9</td>\n",
       "      <td>...</td>\n",
       "      <td>34.45</td>\n",
       "      <td>400.0</td>\n",
       "      <td>8.0</td>\n",
       "      <td>50.231352</td>\n",
       "      <td>33.858375</td>\n",
       "      <td>17.097213</td>\n",
       "      <td>15.086251</td>\n",
       "      <td>0.492500</td>\n",
       "      <td>2017-08-04</td>\n",
       "      <td>3.381675</td>\n",
       "    </tr>\n",
       "    <tr>\n",
       "      <th>39430</th>\n",
       "      <td>462802</td>\n",
       "      <td>51020</td>\n",
       "      <td>34650051</td>\n",
       "      <td>6.5</td>\n",
       "      <td>1</td>\n",
       "      <td>2017-08-08 09:29:21.087</td>\n",
       "      <td>154417998</td>\n",
       "      <td>517051</td>\n",
       "      <td>N</td>\n",
       "      <td>105.3</td>\n",
       "      <td>...</td>\n",
       "      <td>29.50</td>\n",
       "      <td>289.0</td>\n",
       "      <td>6.0</td>\n",
       "      <td>44.256027</td>\n",
       "      <td>31.301330</td>\n",
       "      <td>11.573374</td>\n",
       "      <td>18.386269</td>\n",
       "      <td>0.560554</td>\n",
       "      <td>2017-08-11</td>\n",
       "      <td>3.274878</td>\n",
       "    </tr>\n",
       "    <tr>\n",
       "      <th>40106</th>\n",
       "      <td>470290</td>\n",
       "      <td>51020</td>\n",
       "      <td>34905051</td>\n",
       "      <td>8.0</td>\n",
       "      <td>0</td>\n",
       "      <td>2017-10-19 14:14:47.860</td>\n",
       "      <td>224809998</td>\n",
       "      <td>624051</td>\n",
       "      <td>N</td>\n",
       "      <td>119.2</td>\n",
       "      <td>...</td>\n",
       "      <td>34.07</td>\n",
       "      <td>278.0</td>\n",
       "      <td>6.0</td>\n",
       "      <td>46.327671</td>\n",
       "      <td>32.807952</td>\n",
       "      <td>33.346380</td>\n",
       "      <td>28.406856</td>\n",
       "      <td>0.535971</td>\n",
       "      <td>2017-10-20</td>\n",
       "      <td>3.240637</td>\n",
       "    </tr>\n",
       "    <tr>\n",
       "      <th>40104</th>\n",
       "      <td>469749</td>\n",
       "      <td>51020</td>\n",
       "      <td>34905051</td>\n",
       "      <td>6.0</td>\n",
       "      <td>0</td>\n",
       "      <td>2017-10-14 08:55:17.203</td>\n",
       "      <td>224941998</td>\n",
       "      <td>94079</td>\n",
       "      <td>N</td>\n",
       "      <td>84.0</td>\n",
       "      <td>...</td>\n",
       "      <td>30.69</td>\n",
       "      <td>278.0</td>\n",
       "      <td>6.0</td>\n",
       "      <td>49.204625</td>\n",
       "      <td>30.454975</td>\n",
       "      <td>31.943250</td>\n",
       "      <td>30.932825</td>\n",
       "      <td>0.503597</td>\n",
       "      <td>2017-10-20</td>\n",
       "      <td>3.146735</td>\n",
       "    </tr>\n",
       "    <tr>\n",
       "      <th>39483</th>\n",
       "      <td>470379</td>\n",
       "      <td>51020</td>\n",
       "      <td>34670051</td>\n",
       "      <td>6.0</td>\n",
       "      <td>1</td>\n",
       "      <td>2017-10-20 10:07:21.307</td>\n",
       "      <td>151544051</td>\n",
       "      <td>94079</td>\n",
       "      <td>N</td>\n",
       "      <td>88.2</td>\n",
       "      <td>...</td>\n",
       "      <td>45.08</td>\n",
       "      <td>318.0</td>\n",
       "      <td>6.0</td>\n",
       "      <td>53.138849</td>\n",
       "      <td>43.605213</td>\n",
       "      <td>22.633297</td>\n",
       "      <td>18.621363</td>\n",
       "      <td>0.462264</td>\n",
       "      <td>2017-10-20</td>\n",
       "      <td>3.604410</td>\n",
       "    </tr>\n",
       "    <tr>\n",
       "      <th>39431</th>\n",
       "      <td>469922</td>\n",
       "      <td>51020</td>\n",
       "      <td>34650051</td>\n",
       "      <td>8.0</td>\n",
       "      <td>1</td>\n",
       "      <td>2017-10-17 07:11:43.210</td>\n",
       "      <td>11129051</td>\n",
       "      <td>911051</td>\n",
       "      <td>N</td>\n",
       "      <td>129.6</td>\n",
       "      <td>...</td>\n",
       "      <td>29.06</td>\n",
       "      <td>289.0</td>\n",
       "      <td>6.0</td>\n",
       "      <td>44.256027</td>\n",
       "      <td>27.645132</td>\n",
       "      <td>41.067961</td>\n",
       "      <td>34.199670</td>\n",
       "      <td>0.560554</td>\n",
       "      <td>2017-10-20</td>\n",
       "      <td>3.025291</td>\n",
       "    </tr>\n",
       "    <tr>\n",
       "      <th>38672</th>\n",
       "      <td>470443</td>\n",
       "      <td>51020</td>\n",
       "      <td>34097051</td>\n",
       "      <td>8.0</td>\n",
       "      <td>0</td>\n",
       "      <td>2017-10-20 15:35:34.927</td>\n",
       "      <td>225410998</td>\n",
       "      <td>419051</td>\n",
       "      <td>N</td>\n",
       "      <td>108.0</td>\n",
       "      <td>...</td>\n",
       "      <td>30.40</td>\n",
       "      <td>241.0</td>\n",
       "      <td>6.0</td>\n",
       "      <td>44.287966</td>\n",
       "      <td>28.732905</td>\n",
       "      <td>40.610546</td>\n",
       "      <td>32.899654</td>\n",
       "      <td>0.560166</td>\n",
       "      <td>2017-10-20</td>\n",
       "      <td>3.073619</td>\n",
       "    </tr>\n",
       "    <tr>\n",
       "      <th>38670</th>\n",
       "      <td>470031</td>\n",
       "      <td>51020</td>\n",
       "      <td>34097051</td>\n",
       "      <td>8.0</td>\n",
       "      <td>0</td>\n",
       "      <td>2017-10-17 13:53:36.143</td>\n",
       "      <td>30051</td>\n",
       "      <td>342051</td>\n",
       "      <td>N</td>\n",
       "      <td>106.4</td>\n",
       "      <td>...</td>\n",
       "      <td>25.00</td>\n",
       "      <td>241.0</td>\n",
       "      <td>6.0</td>\n",
       "      <td>44.977257</td>\n",
       "      <td>23.804703</td>\n",
       "      <td>46.198830</td>\n",
       "      <td>39.208789</td>\n",
       "      <td>0.551867</td>\n",
       "      <td>2017-10-20</td>\n",
       "      <td>2.839078</td>\n",
       "    </tr>\n",
       "    <tr>\n",
       "      <th>40691</th>\n",
       "      <td>470304</td>\n",
       "      <td>51020</td>\n",
       "      <td>34408051</td>\n",
       "      <td>5.0</td>\n",
       "      <td>1</td>\n",
       "      <td>2017-10-19 15:21:19.830</td>\n",
       "      <td>2013051</td>\n",
       "      <td>85079</td>\n",
       "      <td>N</td>\n",
       "      <td>79.0</td>\n",
       "      <td>...</td>\n",
       "      <td>37.54</td>\n",
       "      <td>325.0</td>\n",
       "      <td>6.0</td>\n",
       "      <td>50.828111</td>\n",
       "      <td>36.934369</td>\n",
       "      <td>26.397306</td>\n",
       "      <td>24.358144</td>\n",
       "      <td>0.486154</td>\n",
       "      <td>2017-10-20</td>\n",
       "      <td>3.391147</td>\n",
       "    </tr>\n",
       "    <tr>\n",
       "      <th>40105</th>\n",
       "      <td>470171</td>\n",
       "      <td>51020</td>\n",
       "      <td>34905051</td>\n",
       "      <td>5.0</td>\n",
       "      <td>0</td>\n",
       "      <td>2017-10-18 14:36:29.980</td>\n",
       "      <td>130073127</td>\n",
       "      <td>120079</td>\n",
       "      <td>N</td>\n",
       "      <td>72.0</td>\n",
       "      <td>...</td>\n",
       "      <td>36.28</td>\n",
       "      <td>278.0</td>\n",
       "      <td>6.0</td>\n",
       "      <td>47.904557</td>\n",
       "      <td>34.168865</td>\n",
       "      <td>34.869888</td>\n",
       "      <td>27.021803</td>\n",
       "      <td>0.517986</td>\n",
       "      <td>2017-10-20</td>\n",
       "      <td>3.292126</td>\n",
       "    </tr>\n",
       "    <tr>\n",
       "      <th>38086</th>\n",
       "      <td>470410</td>\n",
       "      <td>51020</td>\n",
       "      <td>33585051</td>\n",
       "      <td>7.0</td>\n",
       "      <td>0</td>\n",
       "      <td>2017-10-20 13:24:10.493</td>\n",
       "      <td>104811051</td>\n",
       "      <td>624051</td>\n",
       "      <td>N</td>\n",
       "      <td>92.4</td>\n",
       "      <td>...</td>\n",
       "      <td>26.30</td>\n",
       "      <td>214.0</td>\n",
       "      <td>6.0</td>\n",
       "      <td>39.856094</td>\n",
       "      <td>26.097075</td>\n",
       "      <td>37.193532</td>\n",
       "      <td>36.134978</td>\n",
       "      <td>0.616822</td>\n",
       "      <td>2017-10-20</td>\n",
       "      <td>2.953347</td>\n",
       "    </tr>\n",
       "    <tr>\n",
       "      <th>40065</th>\n",
       "      <td>470437</td>\n",
       "      <td>51020</td>\n",
       "      <td>34907051</td>\n",
       "      <td>7.0</td>\n",
       "      <td>0</td>\n",
       "      <td>2017-10-20 15:15:39.860</td>\n",
       "      <td>11129051</td>\n",
       "      <td>226051</td>\n",
       "      <td>N</td>\n",
       "      <td>96.6</td>\n",
       "      <td>...</td>\n",
       "      <td>36.01</td>\n",
       "      <td>272.0</td>\n",
       "      <td>6.0</td>\n",
       "      <td>48.861905</td>\n",
       "      <td>34.178877</td>\n",
       "      <td>33.816425</td>\n",
       "      <td>27.011805</td>\n",
       "      <td>0.507353</td>\n",
       "      <td>2017-10-20</td>\n",
       "      <td>3.292498</td>\n",
       "    </tr>\n",
       "    <tr>\n",
       "      <th>38671</th>\n",
       "      <td>470157</td>\n",
       "      <td>51020</td>\n",
       "      <td>34097051</td>\n",
       "      <td>8.0</td>\n",
       "      <td>0</td>\n",
       "      <td>2017-10-18 13:26:27.677</td>\n",
       "      <td>222069998</td>\n",
       "      <td>727051</td>\n",
       "      <td>N</td>\n",
       "      <td>109.6</td>\n",
       "      <td>...</td>\n",
       "      <td>31.89</td>\n",
       "      <td>241.0</td>\n",
       "      <td>6.0</td>\n",
       "      <td>43.609238</td>\n",
       "      <td>28.584383</td>\n",
       "      <td>48.463687</td>\n",
       "      <td>33.074411</td>\n",
       "      <td>0.568465</td>\n",
       "      <td>2017-10-20</td>\n",
       "      <td>3.067122</td>\n",
       "    </tr>\n",
       "    <tr>\n",
       "      <th>40063</th>\n",
       "      <td>470054</td>\n",
       "      <td>51020</td>\n",
       "      <td>34907051</td>\n",
       "      <td>5.0</td>\n",
       "      <td>0</td>\n",
       "      <td>2017-10-17 15:03:59.007</td>\n",
       "      <td>11129051</td>\n",
       "      <td>226051</td>\n",
       "      <td>N</td>\n",
       "      <td>68.0</td>\n",
       "      <td>...</td>\n",
       "      <td>30.76</td>\n",
       "      <td>272.0</td>\n",
       "      <td>6.0</td>\n",
       "      <td>49.535118</td>\n",
       "      <td>32.492773</td>\n",
       "      <td>21.870048</td>\n",
       "      <td>28.735232</td>\n",
       "      <td>0.500000</td>\n",
       "      <td>2017-10-20</td>\n",
       "      <td>3.228430</td>\n",
       "    </tr>\n",
       "    <tr>\n",
       "      <th>40064</th>\n",
       "      <td>470299</td>\n",
       "      <td>51020</td>\n",
       "      <td>34907051</td>\n",
       "      <td>5.0</td>\n",
       "      <td>0</td>\n",
       "      <td>2017-10-19 15:00:35.337</td>\n",
       "      <td>11129051</td>\n",
       "      <td>731051</td>\n",
       "      <td>N</td>\n",
       "      <td>72.5</td>\n",
       "      <td>...</td>\n",
       "      <td>35.22</td>\n",
       "      <td>272.0</td>\n",
       "      <td>6.0</td>\n",
       "      <td>46.576898</td>\n",
       "      <td>30.590120</td>\n",
       "      <td>50.577170</td>\n",
       "      <td>30.782899</td>\n",
       "      <td>0.533088</td>\n",
       "      <td>2017-10-20</td>\n",
       "      <td>3.152309</td>\n",
       "    </tr>\n",
       "    <tr>\n",
       "      <th>40061</th>\n",
       "      <td>469904</td>\n",
       "      <td>51020</td>\n",
       "      <td>34907051</td>\n",
       "      <td>6.0</td>\n",
       "      <td>0</td>\n",
       "      <td>2017-10-16 16:51:51.757</td>\n",
       "      <td>11129051</td>\n",
       "      <td>66079</td>\n",
       "      <td>N</td>\n",
       "      <td>91.2</td>\n",
       "      <td>...</td>\n",
       "      <td>29.78</td>\n",
       "      <td>272.0</td>\n",
       "      <td>6.0</td>\n",
       "      <td>44.398748</td>\n",
       "      <td>28.094647</td>\n",
       "      <td>41.674596</td>\n",
       "      <td>33.656740</td>\n",
       "      <td>0.558824</td>\n",
       "      <td>2017-10-20</td>\n",
       "      <td>3.045474</td>\n",
       "    </tr>\n",
       "    <tr>\n",
       "      <th>40692</th>\n",
       "      <td>470316</td>\n",
       "      <td>51020</td>\n",
       "      <td>34408051</td>\n",
       "      <td>5.0</td>\n",
       "      <td>1</td>\n",
       "      <td>2017-10-19 16:33:38.623</td>\n",
       "      <td>2013051</td>\n",
       "      <td>828051</td>\n",
       "      <td>N</td>\n",
       "      <td>79.0</td>\n",
       "      <td>...</td>\n",
       "      <td>39.53</td>\n",
       "      <td>325.0</td>\n",
       "      <td>6.0</td>\n",
       "      <td>50.828111</td>\n",
       "      <td>37.923783</td>\n",
       "      <td>28.678385</td>\n",
       "      <td>23.449816</td>\n",
       "      <td>0.486154</td>\n",
       "      <td>2017-10-20</td>\n",
       "      <td>3.424914</td>\n",
       "    </tr>\n",
       "    <tr>\n",
       "      <th>39482</th>\n",
       "      <td>470358</td>\n",
       "      <td>51020</td>\n",
       "      <td>34670051</td>\n",
       "      <td>6.0</td>\n",
       "      <td>1</td>\n",
       "      <td>2017-10-20 08:46:56.100</td>\n",
       "      <td>151544051</td>\n",
       "      <td>173051</td>\n",
       "      <td>N</td>\n",
       "      <td>88.2</td>\n",
       "      <td>...</td>\n",
       "      <td>43.54</td>\n",
       "      <td>318.0</td>\n",
       "      <td>6.0</td>\n",
       "      <td>53.138849</td>\n",
       "      <td>38.232296</td>\n",
       "      <td>40.270619</td>\n",
       "      <td>23.171057</td>\n",
       "      <td>0.462264</td>\n",
       "      <td>2017-10-20</td>\n",
       "      <td>3.435277</td>\n",
       "    </tr>\n",
       "    <tr>\n",
       "      <th>38087</th>\n",
       "      <td>470432</td>\n",
       "      <td>51020</td>\n",
       "      <td>33585051</td>\n",
       "      <td>7.0</td>\n",
       "      <td>0</td>\n",
       "      <td>2017-10-20 14:54:33.767</td>\n",
       "      <td>104811051</td>\n",
       "      <td>173051</td>\n",
       "      <td>N</td>\n",
       "      <td>92.4</td>\n",
       "      <td>...</td>\n",
       "      <td>27.13</td>\n",
       "      <td>214.0</td>\n",
       "      <td>6.0</td>\n",
       "      <td>39.856094</td>\n",
       "      <td>25.889275</td>\n",
       "      <td>42.939937</td>\n",
       "      <td>36.402922</td>\n",
       "      <td>0.616822</td>\n",
       "      <td>2017-10-20</td>\n",
       "      <td>2.943386</td>\n",
       "    </tr>\n",
       "    <tr>\n",
       "      <th>40062</th>\n",
       "      <td>470042</td>\n",
       "      <td>51020</td>\n",
       "      <td>34907051</td>\n",
       "      <td>4.0</td>\n",
       "      <td>0</td>\n",
       "      <td>2017-10-17 14:18:20.130</td>\n",
       "      <td>135588051</td>\n",
       "      <td>727051</td>\n",
       "      <td>N</td>\n",
       "      <td>54.4</td>\n",
       "      <td>...</td>\n",
       "      <td>27.93</td>\n",
       "      <td>272.0</td>\n",
       "      <td>6.0</td>\n",
       "      <td>49.535118</td>\n",
       "      <td>28.137339</td>\n",
       "      <td>32.621083</td>\n",
       "      <td>33.605599</td>\n",
       "      <td>0.500000</td>\n",
       "      <td>2017-10-20</td>\n",
       "      <td>3.047376</td>\n",
       "    </tr>\n",
       "    <tr>\n",
       "      <th>39481</th>\n",
       "      <td>470348</td>\n",
       "      <td>51020</td>\n",
       "      <td>34670051</td>\n",
       "      <td>6.0</td>\n",
       "      <td>1</td>\n",
       "      <td>2017-10-20 08:03:52.757</td>\n",
       "      <td>151544051</td>\n",
       "      <td>419051</td>\n",
       "      <td>N</td>\n",
       "      <td>88.2</td>\n",
       "      <td>...</td>\n",
       "      <td>44.87</td>\n",
       "      <td>318.0</td>\n",
       "      <td>6.0</td>\n",
       "      <td>53.138849</td>\n",
       "      <td>41.129513</td>\n",
       "      <td>31.622177</td>\n",
       "      <td>20.649790</td>\n",
       "      <td>0.462264</td>\n",
       "      <td>2017-10-20</td>\n",
       "      <td>3.529004</td>\n",
       "    </tr>\n",
       "    <tr>\n",
       "      <th>39414</th>\n",
       "      <td>471002</td>\n",
       "      <td>51020</td>\n",
       "      <td>34642051</td>\n",
       "      <td>7.0</td>\n",
       "      <td>1</td>\n",
       "      <td>2017-10-26 09:22:17.943</td>\n",
       "      <td>1629051</td>\n",
       "      <td>54079</td>\n",
       "      <td>N</td>\n",
       "      <td>135.1</td>\n",
       "      <td>...</td>\n",
       "      <td>31.25</td>\n",
       "      <td>400.0</td>\n",
       "      <td>8.0</td>\n",
       "      <td>51.174910</td>\n",
       "      <td>31.859329</td>\n",
       "      <td>26.929326</td>\n",
       "      <td>29.404260</td>\n",
       "      <td>0.482500</td>\n",
       "      <td>2017-10-27</td>\n",
       "      <td>3.203559</td>\n",
       "    </tr>\n",
       "    <tr>\n",
       "      <th>39415</th>\n",
       "      <td>471036</td>\n",
       "      <td>51020</td>\n",
       "      <td>34642051</td>\n",
       "      <td>7.0</td>\n",
       "      <td>1</td>\n",
       "      <td>2017-10-26 12:30:47.953</td>\n",
       "      <td>1629051</td>\n",
       "      <td>419051</td>\n",
       "      <td>N</td>\n",
       "      <td>135.1</td>\n",
       "      <td>...</td>\n",
       "      <td>30.49</td>\n",
       "      <td>400.0</td>\n",
       "      <td>8.0</td>\n",
       "      <td>51.174910</td>\n",
       "      <td>29.576969</td>\n",
       "      <td>35.994648</td>\n",
       "      <td>31.922253</td>\n",
       "      <td>0.482500</td>\n",
       "      <td>2017-10-27</td>\n",
       "      <td>3.109953</td>\n",
       "    </tr>\n",
       "    <tr>\n",
       "      <th>39416</th>\n",
       "      <td>471173</td>\n",
       "      <td>51020</td>\n",
       "      <td>34642051</td>\n",
       "      <td>7.0</td>\n",
       "      <td>1</td>\n",
       "      <td>2017-10-27 12:59:03.330</td>\n",
       "      <td>1629051</td>\n",
       "      <td>222051</td>\n",
       "      <td>N</td>\n",
       "      <td>135.1</td>\n",
       "      <td>...</td>\n",
       "      <td>31.01</td>\n",
       "      <td>400.0</td>\n",
       "      <td>8.0</td>\n",
       "      <td>51.174910</td>\n",
       "      <td>29.587471</td>\n",
       "      <td>38.252341</td>\n",
       "      <td>31.910258</td>\n",
       "      <td>0.482500</td>\n",
       "      <td>2017-10-27</td>\n",
       "      <td>3.110399</td>\n",
       "    </tr>\n",
       "  </tbody>\n",
       "</table>\n",
       "<p>40 rows × 27 columns</p>\n",
       "</div>"
      ],
      "text/plain": [
       "       CodigoNotaFiscal  CodigoCentroSaida  CodigoReceita  Volume  \\\n",
       "39427            458856              51020       34650051     8.0   \n",
       "39426            458792              51020       34646051     8.5   \n",
       "39413            458875              51020       34642051     7.0   \n",
       "40037            461721              51020       34749051     7.0   \n",
       "40038            461745              51020       34749051     7.0   \n",
       "40042            461969              51020       34749051     7.0   \n",
       "40103            462438              51020       34905051     8.0   \n",
       "40047            462388              51020       34749051     7.0   \n",
       "40039            461855              51020       34749051     7.0   \n",
       "40040            461920              51020       34749051     7.0   \n",
       "40041            461938              51020       34749051     7.0   \n",
       "40046            462355              51020       34749051     7.0   \n",
       "40043            462153              51020       34749051     7.0   \n",
       "40060            462414              51020       34910051     8.0   \n",
       "40048            462420              51020       34749051     7.0   \n",
       "40044            462204              51020       34749051     7.0   \n",
       "40045            462341              51020       34749051     7.0   \n",
       "39430            462802              51020       34650051     6.5   \n",
       "40106            470290              51020       34905051     8.0   \n",
       "40104            469749              51020       34905051     6.0   \n",
       "39483            470379              51020       34670051     6.0   \n",
       "39431            469922              51020       34650051     8.0   \n",
       "38672            470443              51020       34097051     8.0   \n",
       "38670            470031              51020       34097051     8.0   \n",
       "40691            470304              51020       34408051     5.0   \n",
       "40105            470171              51020       34905051     5.0   \n",
       "38086            470410              51020       33585051     7.0   \n",
       "40065            470437              51020       34907051     7.0   \n",
       "38671            470157              51020       34097051     8.0   \n",
       "40063            470054              51020       34907051     5.0   \n",
       "40064            470299              51020       34907051     5.0   \n",
       "40061            469904              51020       34907051     6.0   \n",
       "40692            470316              51020       34408051     5.0   \n",
       "39482            470358              51020       34670051     6.0   \n",
       "38087            470432              51020       33585051     7.0   \n",
       "40062            470042              51020       34907051     4.0   \n",
       "39481            470348              51020       34670051     6.0   \n",
       "39414            471002              51020       34642051     7.0   \n",
       "39415            471036              51020       34642051     7.0   \n",
       "39416            471173              51020       34642051     7.0   \n",
       "\n",
       "       TipoLancamento    DataEmissaoNotaFiscal  CodigoCliente  \\\n",
       "39427               1  2017-07-05 08:12:15.767      154417998   \n",
       "39426               1  2017-07-04 14:33:39.543      133599051   \n",
       "39413               1  2017-07-05 09:27:28.143       12770051   \n",
       "40037               1  2017-07-28 11:57:28.027       12873051   \n",
       "40038               1  2017-07-28 13:29:54.357       12873051   \n",
       "40042               1  2017-07-31 13:50:43.240       12873051   \n",
       "40103               0  2017-08-03 14:54:29.060      200789998   \n",
       "40047               1  2017-08-03 10:33:36.220       12873051   \n",
       "40039               1  2017-07-31 06:32:35.680       12873051   \n",
       "40040               1  2017-07-31 10:55:31.060       12873051   \n",
       "40041               1  2017-07-31 12:11:41.053       12873051   \n",
       "40046               1  2017-08-03 09:19:01.757       12873051   \n",
       "40043               1  2017-08-02 07:02:57.607       12873051   \n",
       "40060               1  2017-08-03 12:58:58.720        2378051   \n",
       "40048               1  2017-08-03 13:17:27.730       12873051   \n",
       "40044               1  2017-08-02 11:35:57.717       12873051   \n",
       "40045               1  2017-08-03 09:06:48.990       12873051   \n",
       "39430               1  2017-08-08 09:29:21.087      154417998   \n",
       "40106               0  2017-10-19 14:14:47.860      224809998   \n",
       "40104               0  2017-10-14 08:55:17.203      224941998   \n",
       "39483               1  2017-10-20 10:07:21.307      151544051   \n",
       "39431               1  2017-10-17 07:11:43.210       11129051   \n",
       "38672               0  2017-10-20 15:35:34.927      225410998   \n",
       "38670               0  2017-10-17 13:53:36.143          30051   \n",
       "40691               1  2017-10-19 15:21:19.830        2013051   \n",
       "40105               0  2017-10-18 14:36:29.980      130073127   \n",
       "38086               0  2017-10-20 13:24:10.493      104811051   \n",
       "40065               0  2017-10-20 15:15:39.860       11129051   \n",
       "38671               0  2017-10-18 13:26:27.677      222069998   \n",
       "40063               0  2017-10-17 15:03:59.007       11129051   \n",
       "40064               0  2017-10-19 15:00:35.337       11129051   \n",
       "40061               0  2017-10-16 16:51:51.757       11129051   \n",
       "40692               1  2017-10-19 16:33:38.623        2013051   \n",
       "39482               1  2017-10-20 08:46:56.100      151544051   \n",
       "38087               0  2017-10-20 14:54:33.767      104811051   \n",
       "40062               0  2017-10-17 14:18:20.130      135588051   \n",
       "39481               1  2017-10-20 08:03:52.757      151544051   \n",
       "39414               1  2017-10-26 09:22:17.943        1629051   \n",
       "39415               1  2017-10-26 12:30:47.953        1629051   \n",
       "39416               1  2017-10-27 12:59:03.330        1629051   \n",
       "\n",
       "       CodigoMotorista Status  QuantidadeAgua  ... Rompimento28Dias  \\\n",
       "39427            66079      N           132.0  ...            26.77   \n",
       "39426            39080      N           130.9  ...            27.27   \n",
       "39413           828051      N           144.9  ...            31.18   \n",
       "40037           173051      N           143.5  ...            38.51   \n",
       "40038            85079      N           143.5  ...            39.11   \n",
       "40042           731051      N           146.3  ...            40.86   \n",
       "40103           517051      N           119.2  ...            29.67   \n",
       "40047           577051      N           137.9  ...            43.15   \n",
       "40039           340051      N           146.3  ...            43.12   \n",
       "40040           517051      N           146.3  ...            39.79   \n",
       "40041           222051      N           146.3  ...            38.92   \n",
       "40046           731051      N           137.9  ...            38.18   \n",
       "40043            49079      N           140.0  ...            42.29   \n",
       "40060           517051      N           129.6  ...            45.71   \n",
       "40048           419051      N           137.9  ...            37.24   \n",
       "40044            66079      N           137.9  ...            33.20   \n",
       "40045           226051      N           137.9  ...            34.45   \n",
       "39430           517051      N           105.3  ...            29.50   \n",
       "40106           624051      N           119.2  ...            34.07   \n",
       "40104            94079      N            84.0  ...            30.69   \n",
       "39483            94079      N            88.2  ...            45.08   \n",
       "39431           911051      N           129.6  ...            29.06   \n",
       "38672           419051      N           108.0  ...            30.40   \n",
       "38670           342051      N           106.4  ...            25.00   \n",
       "40691            85079      N            79.0  ...            37.54   \n",
       "40105           120079      N            72.0  ...            36.28   \n",
       "38086           624051      N            92.4  ...            26.30   \n",
       "40065           226051      N            96.6  ...            36.01   \n",
       "38671           727051      N           109.6  ...            31.89   \n",
       "40063           226051      N            68.0  ...            30.76   \n",
       "40064           731051      N            72.5  ...            35.22   \n",
       "40061            66079      N            91.2  ...            29.78   \n",
       "40692           828051      N            79.0  ...            39.53   \n",
       "39482           173051      N            88.2  ...            43.54   \n",
       "38087           173051      N            92.4  ...            27.13   \n",
       "40062           727051      N            54.4  ...            27.93   \n",
       "39481           419051      N            88.2  ...            44.87   \n",
       "39414            54079      N           135.1  ...            31.25   \n",
       "39415           419051      N           135.1  ...            30.49   \n",
       "39416           222051      N           135.1  ...            31.01   \n",
       "\n",
       "       ConsumoPorM3  DesvioAplicado  ResultadoEsperado  ResultadoProjetado  \\\n",
       "39427         289.0             6.0          43.409279           28.118389   \n",
       "39426         271.0             6.0          43.625395           23.854127   \n",
       "39413         400.0             8.0          47.947870           27.666244   \n",
       "40037         400.0             8.0          48.396107           35.767575   \n",
       "40038         400.0             8.0          48.396107           34.728298   \n",
       "40042         400.0             8.0          47.503784           37.145369   \n",
       "40103         278.0             6.0          46.327671           27.424990   \n",
       "40047         400.0             8.0          50.231352           34.378325   \n",
       "40039         400.0             8.0          47.503784           36.200074   \n",
       "40040         400.0             8.0          47.503784           35.109549   \n",
       "40041         400.0             8.0          47.503784           32.403128   \n",
       "40046         400.0             8.0          50.231352           35.767575   \n",
       "40043         400.0             8.0          49.535118           35.914766   \n",
       "40060         394.0             8.0          58.439915           39.937841   \n",
       "40048         400.0             8.0          50.231352           37.465621   \n",
       "40044         400.0             8.0          50.231352           30.402810   \n",
       "40045         400.0             8.0          50.231352           33.858375   \n",
       "39430         289.0             6.0          44.256027           31.301330   \n",
       "40106         278.0             6.0          46.327671           32.807952   \n",
       "40104         278.0             6.0          49.204625           30.454975   \n",
       "39483         318.0             6.0          53.138849           43.605213   \n",
       "39431         289.0             6.0          44.256027           27.645132   \n",
       "38672         241.0             6.0          44.287966           28.732905   \n",
       "38670         241.0             6.0          44.977257           23.804703   \n",
       "40691         325.0             6.0          50.828111           36.934369   \n",
       "40105         278.0             6.0          47.904557           34.168865   \n",
       "38086         214.0             6.0          39.856094           26.097075   \n",
       "40065         272.0             6.0          48.861905           34.178877   \n",
       "38671         241.0             6.0          43.609238           28.584383   \n",
       "40063         272.0             6.0          49.535118           32.492773   \n",
       "40064         272.0             6.0          46.576898           30.590120   \n",
       "40061         272.0             6.0          44.398748           28.094647   \n",
       "40692         325.0             6.0          50.828111           37.923783   \n",
       "39482         318.0             6.0          53.138849           38.232296   \n",
       "38087         214.0             6.0          39.856094           25.889275   \n",
       "40062         272.0             6.0          49.535118           28.137339   \n",
       "39481         318.0             6.0          53.138849           41.129513   \n",
       "39414         400.0             8.0          51.174910           31.859329   \n",
       "39415         400.0             8.0          51.174910           29.576969   \n",
       "39416         400.0             8.0          51.174910           29.587471   \n",
       "\n",
       "       PercentualCrescimentoReal  PercentualCrescimentoProjetado  \\\n",
       "39427                  16.950633                       22.841366   \n",
       "39426                  48.126018                       29.571576   \n",
       "39413                  39.196429                       23.510016   \n",
       "40037                  21.406053                       12.760325   \n",
       "40038                  28.397899                       14.012797   \n",
       "40042                  22.262118                       11.147125   \n",
       "40103                  34.010840                       23.870775   \n",
       "40047                  43.641811                       14.441828   \n",
       "40039                  33.705426                       12.248292   \n",
       "40040                  28.686934                       13.549640   \n",
       "40041                  40.454709                       16.936585   \n",
       "40046                  20.365700                       12.760325   \n",
       "40043                  32.570533                       12.585474   \n",
       "40060                  23.640790                        8.027701   \n",
       "40048                  10.112360                       10.779483   \n",
       "40044                  30.605822                       19.601929   \n",
       "40045                  17.097213                       15.086251   \n",
       "39430                  11.573374                       18.386269   \n",
       "40106                  33.346380                       28.406856   \n",
       "40104                  31.943250                       30.932825   \n",
       "39483                  22.633297                       18.621363   \n",
       "39431                  41.067961                       34.199670   \n",
       "38672                  40.610546                       32.899654   \n",
       "38670                  46.198830                       39.208789   \n",
       "40691                  26.397306                       24.358144   \n",
       "40105                  34.869888                       27.021803   \n",
       "38086                  37.193532                       36.134978   \n",
       "40065                  33.816425                       27.011805   \n",
       "38671                  48.463687                       33.074411   \n",
       "40063                  21.870048                       28.735232   \n",
       "40064                  50.577170                       30.782899   \n",
       "40061                  41.674596                       33.656740   \n",
       "40692                  28.678385                       23.449816   \n",
       "39482                  40.270619                       23.171057   \n",
       "38087                  42.939937                       36.402922   \n",
       "40062                  32.621083                       33.605599   \n",
       "39481                  31.622177                       20.649790   \n",
       "39414                  26.929326                       29.404260   \n",
       "39415                  35.994648                       31.922253   \n",
       "39416                  38.252341                       31.910258   \n",
       "\n",
       "       RelacaoAguaCimento  DataProjecao  LogRompimento7Dias  \n",
       "39427            0.570934    2017-07-07            3.130700  \n",
       "39426            0.568266    2017-07-07            2.912894  \n",
       "39413            0.517500    2017-07-07            3.109061  \n",
       "40037            0.512500    2017-07-28            3.456947  \n",
       "40038            0.512500    2017-07-28            3.416414  \n",
       "40042            0.522500    2017-08-04            3.509155  \n",
       "40103            0.535971    2017-08-04            3.097386  \n",
       "40047            0.492500    2017-08-04            3.402530  \n",
       "40039            0.522500    2017-08-04            3.473518  \n",
       "40040            0.522500    2017-08-04            3.431403  \n",
       "40041            0.522500    2017-08-04            3.321793  \n",
       "40046            0.492500    2017-08-04            3.456947  \n",
       "40043            0.500000    2017-08-04            3.462606  \n",
       "40060            0.411168    2017-08-04            3.610107  \n",
       "40048            0.492500    2017-08-04            3.521052  \n",
       "40044            0.492500    2017-08-04            3.235536  \n",
       "40045            0.492500    2017-08-04            3.381675  \n",
       "39430            0.560554    2017-08-11            3.274878  \n",
       "40106            0.535971    2017-10-20            3.240637  \n",
       "40104            0.503597    2017-10-20            3.146735  \n",
       "39483            0.462264    2017-10-20            3.604410  \n",
       "39431            0.560554    2017-10-20            3.025291  \n",
       "38672            0.560166    2017-10-20            3.073619  \n",
       "38670            0.551867    2017-10-20            2.839078  \n",
       "40691            0.486154    2017-10-20            3.391147  \n",
       "40105            0.517986    2017-10-20            3.292126  \n",
       "38086            0.616822    2017-10-20            2.953347  \n",
       "40065            0.507353    2017-10-20            3.292498  \n",
       "38671            0.568465    2017-10-20            3.067122  \n",
       "40063            0.500000    2017-10-20            3.228430  \n",
       "40064            0.533088    2017-10-20            3.152309  \n",
       "40061            0.558824    2017-10-20            3.045474  \n",
       "40692            0.486154    2017-10-20            3.424914  \n",
       "39482            0.462264    2017-10-20            3.435277  \n",
       "38087            0.616822    2017-10-20            2.943386  \n",
       "40062            0.500000    2017-10-20            3.047376  \n",
       "39481            0.462264    2017-10-20            3.529004  \n",
       "39414            0.482500    2017-10-27            3.203559  \n",
       "39415            0.482500    2017-10-27            3.109953  \n",
       "39416            0.482500    2017-10-27            3.110399  \n",
       "\n",
       "[40 rows x 27 columns]"
      ]
     },
     "execution_count": 1732,
     "metadata": {},
     "output_type": "execute_result"
    }
   ],
   "source": [
    "dados_aglomerante.iloc[50:90]"
   ]
  },
  {
   "cell_type": "code",
   "execution_count": 1733,
   "metadata": {},
   "outputs": [],
   "source": [
    "def RemoveOutliers(dados, coluna):\n",
    "    q1 = dados[coluna].quantile(0.25)\n",
    "    q3 = dados[coluna].quantile(0.75)\n",
    "    iqr = q3 - q1\n",
    "    \n",
    "    maskOutlier = (dados[coluna] < (q1 - 1.5 * iqr)) | (dados[coluna] > (q3 + 1.5 * iqr))\n",
    "    retorno = dados[maskOutlier == False]\n",
    "    \n",
    "    return retorno\n",
    "\n",
    "\n",
    "dados_aglomerante = RemoveOutliers(dados_aglomerante, \"Rompimento7Dias\")\n",
    "dados_aglomerante = RemoveOutliers(dados_aglomerante, \"Rompimento28Dias\")\n",
    "dados_aglomerante = RemoveOutliers(dados_aglomerante, \"ConsumoPorM3\")\n",
    "dados_aglomerante = RemoveOutliers(dados_aglomerante, \"RelacaoAguaCimento\")"
   ]
  },
  {
   "cell_type": "code",
   "execution_count": 1734,
   "metadata": {},
   "outputs": [],
   "source": [
    "dados_aglomerante_modelo = dados_aglomerante[[\"ResultadoEsperado\", \"Rompimento7Dias\", \"Rompimento28Dias\", \"ResultadoProjetado\", \"DataProjecao\"]]\n",
    "\n",
    "#beleza até 4/8/2017\n",
    "\n",
    "data_projecao_atual = dt.datetime(2017, 10, 27)\n",
    "data_fim_busca_dados = data_projecao_atual - dt.timedelta(weeks = 4)\n",
    "\n",
    "#mask_data_projecao_treino_inicio = dados_aglomerante_modelo[\"DataProjecao\"] >= dt.datetime(2017, 7, 7)\n",
    "mask_data_projecao_treino_final = dados_aglomerante_modelo[\"DataProjecao\"] <= data_fim_busca_dados\n",
    "mask_data_projecao_teste = dados_aglomerante_modelo[\"DataProjecao\"] == data_projecao_atual\n",
    "\n",
    "#dados_treino = dados_aglomerante_modelo[mask_data_projecao_treino_inicio & mask_data_projecao_treino_final]\n",
    "dados_treino = dados_aglomerante_modelo[mask_data_projecao_treino_final]\n",
    "dados_teste = dados_aglomerante_modelo[mask_data_projecao_teste]"
   ]
  },
  {
   "cell_type": "code",
   "execution_count": 1735,
   "metadata": {},
   "outputs": [
    {
     "data": {
      "text/html": [
       "<div>\n",
       "<style scoped>\n",
       "    .dataframe tbody tr th:only-of-type {\n",
       "        vertical-align: middle;\n",
       "    }\n",
       "\n",
       "    .dataframe tbody tr th {\n",
       "        vertical-align: top;\n",
       "    }\n",
       "\n",
       "    .dataframe thead th {\n",
       "        text-align: right;\n",
       "    }\n",
       "</style>\n",
       "<table border=\"1\" class=\"dataframe\">\n",
       "  <thead>\n",
       "    <tr style=\"text-align: right;\">\n",
       "      <th></th>\n",
       "      <th>ResultadoEsperado</th>\n",
       "      <th>Rompimento7Dias</th>\n",
       "      <th>Rompimento28Dias</th>\n",
       "      <th>ResultadoProjetado</th>\n",
       "      <th>DataProjecao</th>\n",
       "    </tr>\n",
       "  </thead>\n",
       "  <tbody>\n",
       "    <tr>\n",
       "      <th>38008</th>\n",
       "      <td>46.095231</td>\n",
       "      <td>25.73</td>\n",
       "      <td>35.08</td>\n",
       "      <td>35.882105</td>\n",
       "      <td>2017-03-10</td>\n",
       "    </tr>\n",
       "    <tr>\n",
       "      <th>38107</th>\n",
       "      <td>46.998291</td>\n",
       "      <td>22.32</td>\n",
       "      <td>31.90</td>\n",
       "      <td>31.821606</td>\n",
       "      <td>2017-03-24</td>\n",
       "    </tr>\n",
       "    <tr>\n",
       "      <th>38106</th>\n",
       "      <td>46.506734</td>\n",
       "      <td>23.26</td>\n",
       "      <td>30.93</td>\n",
       "      <td>32.951628</td>\n",
       "      <td>2017-03-24</td>\n",
       "    </tr>\n",
       "    <tr>\n",
       "      <th>38113</th>\n",
       "      <td>46.020318</td>\n",
       "      <td>22.01</td>\n",
       "      <td>30.60</td>\n",
       "      <td>31.447056</td>\n",
       "      <td>2017-03-31</td>\n",
       "    </tr>\n",
       "    <tr>\n",
       "      <th>38111</th>\n",
       "      <td>46.506734</td>\n",
       "      <td>19.91</td>\n",
       "      <td>30.30</td>\n",
       "      <td>28.883882</td>\n",
       "      <td>2017-03-31</td>\n",
       "    </tr>\n",
       "    <tr>\n",
       "      <th>38110</th>\n",
       "      <td>46.506734</td>\n",
       "      <td>23.24</td>\n",
       "      <td>31.02</td>\n",
       "      <td>32.927673</td>\n",
       "      <td>2017-03-31</td>\n",
       "    </tr>\n",
       "    <tr>\n",
       "      <th>38109</th>\n",
       "      <td>46.506734</td>\n",
       "      <td>22.74</td>\n",
       "      <td>30.83</td>\n",
       "      <td>32.327560</td>\n",
       "      <td>2017-03-31</td>\n",
       "    </tr>\n",
       "    <tr>\n",
       "      <th>38108</th>\n",
       "      <td>46.506734</td>\n",
       "      <td>23.09</td>\n",
       "      <td>31.30</td>\n",
       "      <td>32.747889</td>\n",
       "      <td>2017-03-31</td>\n",
       "    </tr>\n",
       "    <tr>\n",
       "      <th>38112</th>\n",
       "      <td>46.506734</td>\n",
       "      <td>21.95</td>\n",
       "      <td>30.60</td>\n",
       "      <td>31.374452</td>\n",
       "      <td>2017-03-31</td>\n",
       "    </tr>\n",
       "    <tr>\n",
       "      <th>38428</th>\n",
       "      <td>50.156848</td>\n",
       "      <td>23.60</td>\n",
       "      <td>32.41</td>\n",
       "      <td>33.358292</td>\n",
       "      <td>2017-04-14</td>\n",
       "    </tr>\n",
       "    <tr>\n",
       "      <th>38430</th>\n",
       "      <td>50.156848</td>\n",
       "      <td>26.24</td>\n",
       "      <td>33.90</td>\n",
       "      <td>36.480543</td>\n",
       "      <td>2017-04-14</td>\n",
       "    </tr>\n",
       "    <tr>\n",
       "      <th>38429</th>\n",
       "      <td>50.156848</td>\n",
       "      <td>26.43</td>\n",
       "      <td>32.14</td>\n",
       "      <td>36.702933</td>\n",
       "      <td>2017-04-14</td>\n",
       "    </tr>\n",
       "    <tr>\n",
       "      <th>38427</th>\n",
       "      <td>50.156848</td>\n",
       "      <td>23.95</td>\n",
       "      <td>32.47</td>\n",
       "      <td>33.775797</td>\n",
       "      <td>2017-04-14</td>\n",
       "    </tr>\n",
       "    <tr>\n",
       "      <th>38426</th>\n",
       "      <td>50.156848</td>\n",
       "      <td>25.01</td>\n",
       "      <td>33.52</td>\n",
       "      <td>35.033473</td>\n",
       "      <td>2017-04-14</td>\n",
       "    </tr>\n",
       "    <tr>\n",
       "      <th>38431</th>\n",
       "      <td>50.156848</td>\n",
       "      <td>25.50</td>\n",
       "      <td>32.83</td>\n",
       "      <td>35.611500</td>\n",
       "      <td>2017-04-14</td>\n",
       "    </tr>\n",
       "    <tr>\n",
       "      <th>38432</th>\n",
       "      <td>55.144185</td>\n",
       "      <td>25.96</td>\n",
       "      <td>35.01</td>\n",
       "      <td>36.152260</td>\n",
       "      <td>2017-04-21</td>\n",
       "    </tr>\n",
       "    <tr>\n",
       "      <th>38465</th>\n",
       "      <td>58.994595</td>\n",
       "      <td>36.04</td>\n",
       "      <td>43.52</td>\n",
       "      <td>47.600412</td>\n",
       "      <td>2017-05-05</td>\n",
       "    </tr>\n",
       "    <tr>\n",
       "      <th>38468</th>\n",
       "      <td>58.994595</td>\n",
       "      <td>36.43</td>\n",
       "      <td>44.21</td>\n",
       "      <td>48.029641</td>\n",
       "      <td>2017-05-12</td>\n",
       "    </tr>\n",
       "    <tr>\n",
       "      <th>38665</th>\n",
       "      <td>39.749812</td>\n",
       "      <td>18.52</td>\n",
       "      <td>25.32</td>\n",
       "      <td>27.160906</td>\n",
       "      <td>2017-05-12</td>\n",
       "    </tr>\n",
       "    <tr>\n",
       "      <th>38666</th>\n",
       "      <td>39.749812</td>\n",
       "      <td>16.57</td>\n",
       "      <td>26.27</td>\n",
       "      <td>24.704825</td>\n",
       "      <td>2017-05-12</td>\n",
       "    </tr>\n",
       "    <tr>\n",
       "      <th>38470</th>\n",
       "      <td>58.994595</td>\n",
       "      <td>33.96</td>\n",
       "      <td>44.60</td>\n",
       "      <td>45.295333</td>\n",
       "      <td>2017-05-12</td>\n",
       "    </tr>\n",
       "    <tr>\n",
       "      <th>38466</th>\n",
       "      <td>58.994595</td>\n",
       "      <td>36.90</td>\n",
       "      <td>42.89</td>\n",
       "      <td>48.545702</td>\n",
       "      <td>2017-05-12</td>\n",
       "    </tr>\n",
       "    <tr>\n",
       "      <th>38471</th>\n",
       "      <td>58.994595</td>\n",
       "      <td>31.77</td>\n",
       "      <td>38.14</td>\n",
       "      <td>42.838146</td>\n",
       "      <td>2017-05-12</td>\n",
       "    </tr>\n",
       "    <tr>\n",
       "      <th>38472</th>\n",
       "      <td>55.987343</td>\n",
       "      <td>28.25</td>\n",
       "      <td>33.43</td>\n",
       "      <td>38.818340</td>\n",
       "      <td>2017-05-12</td>\n",
       "    </tr>\n",
       "    <tr>\n",
       "      <th>38473</th>\n",
       "      <td>54.959446</td>\n",
       "      <td>36.28</td>\n",
       "      <td>46.48</td>\n",
       "      <td>47.864661</td>\n",
       "      <td>2017-05-12</td>\n",
       "    </tr>\n",
       "    <tr>\n",
       "      <th>38469</th>\n",
       "      <td>58.994595</td>\n",
       "      <td>35.27</td>\n",
       "      <td>45.48</td>\n",
       "      <td>46.750238</td>\n",
       "      <td>2017-05-12</td>\n",
       "    </tr>\n",
       "    <tr>\n",
       "      <th>38667</th>\n",
       "      <td>39.749812</td>\n",
       "      <td>16.33</td>\n",
       "      <td>25.46</td>\n",
       "      <td>24.399178</td>\n",
       "      <td>2017-05-12</td>\n",
       "    </tr>\n",
       "    <tr>\n",
       "      <th>38474</th>\n",
       "      <td>56.539283</td>\n",
       "      <td>37.49</td>\n",
       "      <td>46.74</td>\n",
       "      <td>49.191669</td>\n",
       "      <td>2017-05-19</td>\n",
       "    </tr>\n",
       "    <tr>\n",
       "      <th>38476</th>\n",
       "      <td>56.007688</td>\n",
       "      <td>35.33</td>\n",
       "      <td>42.62</td>\n",
       "      <td>46.816616</td>\n",
       "      <td>2017-05-19</td>\n",
       "    </tr>\n",
       "    <tr>\n",
       "      <th>38669</th>\n",
       "      <td>40.996761</td>\n",
       "      <td>21.53</td>\n",
       "      <td>30.02</td>\n",
       "      <td>30.865215</td>\n",
       "      <td>2017-05-19</td>\n",
       "    </tr>\n",
       "    <tr>\n",
       "      <th>38475</th>\n",
       "      <td>56.007688</td>\n",
       "      <td>37.27</td>\n",
       "      <td>46.78</td>\n",
       "      <td>48.951039</td>\n",
       "      <td>2017-05-19</td>\n",
       "    </tr>\n",
       "    <tr>\n",
       "      <th>38668</th>\n",
       "      <td>39.749812</td>\n",
       "      <td>18.99</td>\n",
       "      <td>28.11</td>\n",
       "      <td>27.745969</td>\n",
       "      <td>2017-05-19</td>\n",
       "    </tr>\n",
       "    <tr>\n",
       "      <th>38477</th>\n",
       "      <td>56.007688</td>\n",
       "      <td>33.66</td>\n",
       "      <td>46.60</td>\n",
       "      <td>44.960607</td>\n",
       "      <td>2017-05-19</td>\n",
       "    </tr>\n",
       "    <tr>\n",
       "      <th>38478</th>\n",
       "      <td>56.007688</td>\n",
       "      <td>36.80</td>\n",
       "      <td>46.46</td>\n",
       "      <td>48.436012</td>\n",
       "      <td>2017-05-19</td>\n",
       "    </tr>\n",
       "    <tr>\n",
       "      <th>38483</th>\n",
       "      <td>58.994595</td>\n",
       "      <td>30.25</td>\n",
       "      <td>41.84</td>\n",
       "      <td>34.553537</td>\n",
       "      <td>2017-06-23</td>\n",
       "    </tr>\n",
       "    <tr>\n",
       "      <th>38484</th>\n",
       "      <td>58.994595</td>\n",
       "      <td>34.43</td>\n",
       "      <td>38.95</td>\n",
       "      <td>37.951196</td>\n",
       "      <td>2017-06-30</td>\n",
       "    </tr>\n",
       "    <tr>\n",
       "      <th>39423</th>\n",
       "      <td>46.181335</td>\n",
       "      <td>26.57</td>\n",
       "      <td>36.56</td>\n",
       "      <td>31.414963</td>\n",
       "      <td>2017-07-07</td>\n",
       "    </tr>\n",
       "    <tr>\n",
       "      <th>39480</th>\n",
       "      <td>50.118303</td>\n",
       "      <td>30.86</td>\n",
       "      <td>37.64</td>\n",
       "      <td>35.059941</td>\n",
       "      <td>2017-07-07</td>\n",
       "    </tr>\n",
       "    <tr>\n",
       "      <th>39479</th>\n",
       "      <td>50.118303</td>\n",
       "      <td>32.88</td>\n",
       "      <td>38.37</td>\n",
       "      <td>36.710679</td>\n",
       "      <td>2017-07-07</td>\n",
       "    </tr>\n",
       "    <tr>\n",
       "      <th>39412</th>\n",
       "      <td>51.894192</td>\n",
       "      <td>25.43</td>\n",
       "      <td>34.09</td>\n",
       "      <td>30.411680</td>\n",
       "      <td>2017-07-07</td>\n",
       "    </tr>\n",
       "    <tr>\n",
       "      <th>39429</th>\n",
       "      <td>43.409279</td>\n",
       "      <td>17.81</td>\n",
       "      <td>26.67</td>\n",
       "      <td>23.259043</td>\n",
       "      <td>2017-07-07</td>\n",
       "    </tr>\n",
       "    <tr>\n",
       "      <th>39428</th>\n",
       "      <td>43.409279</td>\n",
       "      <td>16.88</td>\n",
       "      <td>24.99</td>\n",
       "      <td>22.324239</td>\n",
       "      <td>2017-07-07</td>\n",
       "    </tr>\n",
       "    <tr>\n",
       "      <th>39427</th>\n",
       "      <td>43.409279</td>\n",
       "      <td>22.89</td>\n",
       "      <td>26.77</td>\n",
       "      <td>28.118389</td>\n",
       "      <td>2017-07-07</td>\n",
       "    </tr>\n",
       "    <tr>\n",
       "      <th>39426</th>\n",
       "      <td>43.625395</td>\n",
       "      <td>18.41</td>\n",
       "      <td>27.27</td>\n",
       "      <td>23.854127</td>\n",
       "      <td>2017-07-07</td>\n",
       "    </tr>\n",
       "    <tr>\n",
       "      <th>39413</th>\n",
       "      <td>47.947870</td>\n",
       "      <td>22.40</td>\n",
       "      <td>31.18</td>\n",
       "      <td>27.666244</td>\n",
       "      <td>2017-07-07</td>\n",
       "    </tr>\n",
       "    <tr>\n",
       "      <th>40037</th>\n",
       "      <td>48.396107</td>\n",
       "      <td>31.72</td>\n",
       "      <td>38.51</td>\n",
       "      <td>35.767575</td>\n",
       "      <td>2017-07-28</td>\n",
       "    </tr>\n",
       "    <tr>\n",
       "      <th>40038</th>\n",
       "      <td>48.396107</td>\n",
       "      <td>30.46</td>\n",
       "      <td>39.11</td>\n",
       "      <td>34.728298</td>\n",
       "      <td>2017-07-28</td>\n",
       "    </tr>\n",
       "    <tr>\n",
       "      <th>40042</th>\n",
       "      <td>47.503784</td>\n",
       "      <td>33.42</td>\n",
       "      <td>40.86</td>\n",
       "      <td>37.145369</td>\n",
       "      <td>2017-08-04</td>\n",
       "    </tr>\n",
       "    <tr>\n",
       "      <th>40103</th>\n",
       "      <td>46.327671</td>\n",
       "      <td>22.14</td>\n",
       "      <td>29.67</td>\n",
       "      <td>27.424990</td>\n",
       "      <td>2017-08-04</td>\n",
       "    </tr>\n",
       "    <tr>\n",
       "      <th>40047</th>\n",
       "      <td>50.231352</td>\n",
       "      <td>30.04</td>\n",
       "      <td>43.15</td>\n",
       "      <td>34.378325</td>\n",
       "      <td>2017-08-04</td>\n",
       "    </tr>\n",
       "    <tr>\n",
       "      <th>40039</th>\n",
       "      <td>47.503784</td>\n",
       "      <td>32.25</td>\n",
       "      <td>43.12</td>\n",
       "      <td>36.200074</td>\n",
       "      <td>2017-08-04</td>\n",
       "    </tr>\n",
       "    <tr>\n",
       "      <th>40040</th>\n",
       "      <td>47.503784</td>\n",
       "      <td>30.92</td>\n",
       "      <td>39.79</td>\n",
       "      <td>35.109549</td>\n",
       "      <td>2017-08-04</td>\n",
       "    </tr>\n",
       "    <tr>\n",
       "      <th>40041</th>\n",
       "      <td>47.503784</td>\n",
       "      <td>27.71</td>\n",
       "      <td>38.92</td>\n",
       "      <td>32.403128</td>\n",
       "      <td>2017-08-04</td>\n",
       "    </tr>\n",
       "    <tr>\n",
       "      <th>40046</th>\n",
       "      <td>50.231352</td>\n",
       "      <td>31.72</td>\n",
       "      <td>38.18</td>\n",
       "      <td>35.767575</td>\n",
       "      <td>2017-08-04</td>\n",
       "    </tr>\n",
       "    <tr>\n",
       "      <th>40043</th>\n",
       "      <td>49.535118</td>\n",
       "      <td>31.90</td>\n",
       "      <td>42.29</td>\n",
       "      <td>35.914766</td>\n",
       "      <td>2017-08-04</td>\n",
       "    </tr>\n",
       "    <tr>\n",
       "      <th>40060</th>\n",
       "      <td>58.439915</td>\n",
       "      <td>36.97</td>\n",
       "      <td>45.71</td>\n",
       "      <td>39.937841</td>\n",
       "      <td>2017-08-04</td>\n",
       "    </tr>\n",
       "    <tr>\n",
       "      <th>40048</th>\n",
       "      <td>50.231352</td>\n",
       "      <td>33.82</td>\n",
       "      <td>37.24</td>\n",
       "      <td>37.465621</td>\n",
       "      <td>2017-08-04</td>\n",
       "    </tr>\n",
       "    <tr>\n",
       "      <th>40044</th>\n",
       "      <td>50.231352</td>\n",
       "      <td>25.42</td>\n",
       "      <td>33.20</td>\n",
       "      <td>30.402810</td>\n",
       "      <td>2017-08-04</td>\n",
       "    </tr>\n",
       "    <tr>\n",
       "      <th>40045</th>\n",
       "      <td>50.231352</td>\n",
       "      <td>29.42</td>\n",
       "      <td>34.45</td>\n",
       "      <td>33.858375</td>\n",
       "      <td>2017-08-04</td>\n",
       "    </tr>\n",
       "    <tr>\n",
       "      <th>39430</th>\n",
       "      <td>44.256027</td>\n",
       "      <td>26.44</td>\n",
       "      <td>29.50</td>\n",
       "      <td>31.301330</td>\n",
       "      <td>2017-08-11</td>\n",
       "    </tr>\n",
       "  </tbody>\n",
       "</table>\n",
       "</div>"
      ],
      "text/plain": [
       "       ResultadoEsperado  Rompimento7Dias  Rompimento28Dias  \\\n",
       "38008          46.095231            25.73             35.08   \n",
       "38107          46.998291            22.32             31.90   \n",
       "38106          46.506734            23.26             30.93   \n",
       "38113          46.020318            22.01             30.60   \n",
       "38111          46.506734            19.91             30.30   \n",
       "38110          46.506734            23.24             31.02   \n",
       "38109          46.506734            22.74             30.83   \n",
       "38108          46.506734            23.09             31.30   \n",
       "38112          46.506734            21.95             30.60   \n",
       "38428          50.156848            23.60             32.41   \n",
       "38430          50.156848            26.24             33.90   \n",
       "38429          50.156848            26.43             32.14   \n",
       "38427          50.156848            23.95             32.47   \n",
       "38426          50.156848            25.01             33.52   \n",
       "38431          50.156848            25.50             32.83   \n",
       "38432          55.144185            25.96             35.01   \n",
       "38465          58.994595            36.04             43.52   \n",
       "38468          58.994595            36.43             44.21   \n",
       "38665          39.749812            18.52             25.32   \n",
       "38666          39.749812            16.57             26.27   \n",
       "38470          58.994595            33.96             44.60   \n",
       "38466          58.994595            36.90             42.89   \n",
       "38471          58.994595            31.77             38.14   \n",
       "38472          55.987343            28.25             33.43   \n",
       "38473          54.959446            36.28             46.48   \n",
       "38469          58.994595            35.27             45.48   \n",
       "38667          39.749812            16.33             25.46   \n",
       "38474          56.539283            37.49             46.74   \n",
       "38476          56.007688            35.33             42.62   \n",
       "38669          40.996761            21.53             30.02   \n",
       "38475          56.007688            37.27             46.78   \n",
       "38668          39.749812            18.99             28.11   \n",
       "38477          56.007688            33.66             46.60   \n",
       "38478          56.007688            36.80             46.46   \n",
       "38483          58.994595            30.25             41.84   \n",
       "38484          58.994595            34.43             38.95   \n",
       "39423          46.181335            26.57             36.56   \n",
       "39480          50.118303            30.86             37.64   \n",
       "39479          50.118303            32.88             38.37   \n",
       "39412          51.894192            25.43             34.09   \n",
       "39429          43.409279            17.81             26.67   \n",
       "39428          43.409279            16.88             24.99   \n",
       "39427          43.409279            22.89             26.77   \n",
       "39426          43.625395            18.41             27.27   \n",
       "39413          47.947870            22.40             31.18   \n",
       "40037          48.396107            31.72             38.51   \n",
       "40038          48.396107            30.46             39.11   \n",
       "40042          47.503784            33.42             40.86   \n",
       "40103          46.327671            22.14             29.67   \n",
       "40047          50.231352            30.04             43.15   \n",
       "40039          47.503784            32.25             43.12   \n",
       "40040          47.503784            30.92             39.79   \n",
       "40041          47.503784            27.71             38.92   \n",
       "40046          50.231352            31.72             38.18   \n",
       "40043          49.535118            31.90             42.29   \n",
       "40060          58.439915            36.97             45.71   \n",
       "40048          50.231352            33.82             37.24   \n",
       "40044          50.231352            25.42             33.20   \n",
       "40045          50.231352            29.42             34.45   \n",
       "39430          44.256027            26.44             29.50   \n",
       "\n",
       "       ResultadoProjetado DataProjecao  \n",
       "38008           35.882105   2017-03-10  \n",
       "38107           31.821606   2017-03-24  \n",
       "38106           32.951628   2017-03-24  \n",
       "38113           31.447056   2017-03-31  \n",
       "38111           28.883882   2017-03-31  \n",
       "38110           32.927673   2017-03-31  \n",
       "38109           32.327560   2017-03-31  \n",
       "38108           32.747889   2017-03-31  \n",
       "38112           31.374452   2017-03-31  \n",
       "38428           33.358292   2017-04-14  \n",
       "38430           36.480543   2017-04-14  \n",
       "38429           36.702933   2017-04-14  \n",
       "38427           33.775797   2017-04-14  \n",
       "38426           35.033473   2017-04-14  \n",
       "38431           35.611500   2017-04-14  \n",
       "38432           36.152260   2017-04-21  \n",
       "38465           47.600412   2017-05-05  \n",
       "38468           48.029641   2017-05-12  \n",
       "38665           27.160906   2017-05-12  \n",
       "38666           24.704825   2017-05-12  \n",
       "38470           45.295333   2017-05-12  \n",
       "38466           48.545702   2017-05-12  \n",
       "38471           42.838146   2017-05-12  \n",
       "38472           38.818340   2017-05-12  \n",
       "38473           47.864661   2017-05-12  \n",
       "38469           46.750238   2017-05-12  \n",
       "38667           24.399178   2017-05-12  \n",
       "38474           49.191669   2017-05-19  \n",
       "38476           46.816616   2017-05-19  \n",
       "38669           30.865215   2017-05-19  \n",
       "38475           48.951039   2017-05-19  \n",
       "38668           27.745969   2017-05-19  \n",
       "38477           44.960607   2017-05-19  \n",
       "38478           48.436012   2017-05-19  \n",
       "38483           34.553537   2017-06-23  \n",
       "38484           37.951196   2017-06-30  \n",
       "39423           31.414963   2017-07-07  \n",
       "39480           35.059941   2017-07-07  \n",
       "39479           36.710679   2017-07-07  \n",
       "39412           30.411680   2017-07-07  \n",
       "39429           23.259043   2017-07-07  \n",
       "39428           22.324239   2017-07-07  \n",
       "39427           28.118389   2017-07-07  \n",
       "39426           23.854127   2017-07-07  \n",
       "39413           27.666244   2017-07-07  \n",
       "40037           35.767575   2017-07-28  \n",
       "40038           34.728298   2017-07-28  \n",
       "40042           37.145369   2017-08-04  \n",
       "40103           27.424990   2017-08-04  \n",
       "40047           34.378325   2017-08-04  \n",
       "40039           36.200074   2017-08-04  \n",
       "40040           35.109549   2017-08-04  \n",
       "40041           32.403128   2017-08-04  \n",
       "40046           35.767575   2017-08-04  \n",
       "40043           35.914766   2017-08-04  \n",
       "40060           39.937841   2017-08-04  \n",
       "40048           37.465621   2017-08-04  \n",
       "40044           30.402810   2017-08-04  \n",
       "40045           33.858375   2017-08-04  \n",
       "39430           31.301330   2017-08-11  "
      ]
     },
     "execution_count": 1735,
     "metadata": {},
     "output_type": "execute_result"
    }
   ],
   "source": [
    "dados_treino"
   ]
  },
  {
   "cell_type": "code",
   "execution_count": 1736,
   "metadata": {},
   "outputs": [],
   "source": [
    "x_train = dados_treino.drop([\"Rompimento28Dias\", \"DataProjecao\"], axis = 1)\n",
    "y_train = dados_treino[\"Rompimento28Dias\"].values\n",
    "\n",
    "x_test = dados_teste.drop([\"Rompimento28Dias\", \"DataProjecao\"], axis = 1)\n",
    "y_test = dados_teste[\"Rompimento28Dias\"].values"
   ]
  },
  {
   "cell_type": "code",
   "execution_count": 1737,
   "metadata": {},
   "outputs": [],
   "source": [
    "y_train = y_train.reshape(-1, 1)\n",
    "#x_train = x_train.reshape(-1, 1)\n",
    "y_test = y_test.reshape(-1, 1)\n",
    "#x_test = x_test.reshape(-1, 1)"
   ]
  },
  {
   "cell_type": "code",
   "execution_count": 1738,
   "metadata": {},
   "outputs": [],
   "source": [
    "x_train_modelo = x_train.drop(\"ResultadoProjetado\", axis = 1)\n",
    "x_test_modelo = x_test.drop(\"ResultadoProjetado\", axis = 1)"
   ]
  },
  {
   "cell_type": "code",
   "execution_count": 1739,
   "metadata": {},
   "outputs": [],
   "source": [
    "class TypeSelector(BaseEstimator, TransformerMixin):\n",
    "    def __init__(self, dtype):\n",
    "        self.dtype = dtype\n",
    "    def fit(self, X, y=None):\n",
    "        return self\n",
    "    def transform(self, X):        \n",
    "        assert isinstance(X, pd.DataFrame)\n",
    "        return X.select_dtypes(include=[self.dtype])\n",
    "    \n",
    "class Debug(BaseEstimator, TransformerMixin):\n",
    "    def __init__(self, dtype):\n",
    "        self.dtype = dtype\n",
    "    def fit(self, X, y=None):\n",
    "        return self\n",
    "    def transform(self, X):        \n",
    "        print(X)\n",
    "        \n",
    "parameters = {'loss':('ls', 'lad'),\n",
    "              'learning_rate': np.arange(0, 0.15, 0.1),\n",
    "              'min_samples_leaf': np.arange(1, 5, 1),\n",
    "              'min_samples_split': np.arange(1, 4, 1),\n",
    "              'n_estimators': np.arange(15, 50, 5)}\n",
    "\n",
    "#loss = 'ls', learning_rate = 0.32, min_samples_leaf = 2, min_samples_split = 3, n_estimators = 5\n",
    "\n",
    "modelo = Pipeline([\n",
    "  #('features', FeatureUnion(\n",
    "  #    transformer_list=[\n",
    "  #        ('numericals', Pipeline([\n",
    "  #            ('scaler', MinMaxScaler())\n",
    "  #        ]))\n",
    "  #    ]\n",
    "  #)),\n",
    "  #('model', GridSearchCV(estimator = GradientBoostingRegressor(random_state = 1), \n",
    "  #                       param_grid = parameters,\n",
    "  #                       cv=10))\n",
    "  #('model', GradientBoostingRegressor(random_state = 1, learning_rate = 0.3, min_samples_leaf = 2, min_samples_split = 4, n_estimators = 6))\n",
    "  #('model', LocallyLinearEmbedding())\n",
    "  #('model', DecisionTreeRegressor())\n",
    "  ('model', xgb.XGBRegressor())\n",
    "])\n",
    "\n",
    "#{'ls', 'lad', 'huber', 'quantile'}"
   ]
  },
  {
   "cell_type": "code",
   "execution_count": 1740,
   "metadata": {},
   "outputs": [],
   "source": [
    "modelo.fit(x_train_modelo, y_train)\n",
    "y_pred = modelo.predict(x_test_modelo)"
   ]
  },
  {
   "cell_type": "code",
   "execution_count": 1741,
   "metadata": {},
   "outputs": [],
   "source": [
    "#gs = modelo.named_steps['model']\n",
    "#gs.feature_importances_\n",
    "#coef = pd.Series(lasso.coef_, index = X.columns)\n",
    "#lasso.coef_\n",
    "\n",
    "#loss = 'ls', learning_rate = 0.32, min_samples_leaf = 2, min_samples_split = 3, n_estimators = 5"
   ]
  },
  {
   "cell_type": "code",
   "execution_count": 1742,
   "metadata": {},
   "outputs": [],
   "source": [
    "df = pd.DataFrame(columns = [\"Rompimento28Dias\", \"ResultadoProjetado\", \"ResultadoPredito\"])\n",
    "\n",
    "df[\"Rompimento28Dias\"] = y_test.reshape(1, -1)[0]\n",
    "df[\"ResultadoProjetado\"] = x_test[\"ResultadoProjetado\"].values\n",
    "df[\"ResultadoPredito\"] = y_pred"
   ]
  },
  {
   "cell_type": "code",
   "execution_count": 1743,
   "metadata": {},
   "outputs": [
    {
     "data": {
      "text/html": [
       "<div>\n",
       "<style scoped>\n",
       "    .dataframe tbody tr th:only-of-type {\n",
       "        vertical-align: middle;\n",
       "    }\n",
       "\n",
       "    .dataframe tbody tr th {\n",
       "        vertical-align: top;\n",
       "    }\n",
       "\n",
       "    .dataframe thead th {\n",
       "        text-align: right;\n",
       "    }\n",
       "</style>\n",
       "<table border=\"1\" class=\"dataframe\">\n",
       "  <thead>\n",
       "    <tr style=\"text-align: right;\">\n",
       "      <th></th>\n",
       "      <th>Rompimento28Dias</th>\n",
       "      <th>ResultadoProjetado</th>\n",
       "      <th>ResultadoPredito</th>\n",
       "    </tr>\n",
       "  </thead>\n",
       "  <tbody>\n",
       "    <tr>\n",
       "      <th>0</th>\n",
       "      <td>31.25</td>\n",
       "      <td>31.859329</td>\n",
       "      <td>33.928204</td>\n",
       "    </tr>\n",
       "    <tr>\n",
       "      <th>1</th>\n",
       "      <td>30.49</td>\n",
       "      <td>29.576969</td>\n",
       "      <td>31.598003</td>\n",
       "    </tr>\n",
       "    <tr>\n",
       "      <th>2</th>\n",
       "      <td>31.01</td>\n",
       "      <td>29.587471</td>\n",
       "      <td>31.598003</td>\n",
       "    </tr>\n",
       "    <tr>\n",
       "      <th>3</th>\n",
       "      <td>39.12</td>\n",
       "      <td>35.886319</td>\n",
       "      <td>34.182568</td>\n",
       "    </tr>\n",
       "    <tr>\n",
       "      <th>4</th>\n",
       "      <td>30.58</td>\n",
       "      <td>24.397753</td>\n",
       "      <td>26.974163</td>\n",
       "    </tr>\n",
       "  </tbody>\n",
       "</table>\n",
       "</div>"
      ],
      "text/plain": [
       "   Rompimento28Dias  ResultadoProjetado  ResultadoPredito\n",
       "0             31.25           31.859329         33.928204\n",
       "1             30.49           29.576969         31.598003\n",
       "2             31.01           29.587471         31.598003\n",
       "3             39.12           35.886319         34.182568\n",
       "4             30.58           24.397753         26.974163"
      ]
     },
     "execution_count": 1743,
     "metadata": {},
     "output_type": "execute_result"
    }
   ],
   "source": [
    "df.head()"
   ]
  },
  {
   "cell_type": "code",
   "execution_count": 1744,
   "metadata": {},
   "outputs": [],
   "source": [
    "df[\"ErroProjetado\"] = abs(df[\"ResultadoProjetado\"] - df[\"Rompimento28Dias\"])\n",
    "df[\"ErroPredito\"] = abs(df[\"ResultadoPredito\"] - df[\"Rompimento28Dias\"])"
   ]
  },
  {
   "cell_type": "code",
   "execution_count": 1745,
   "metadata": {},
   "outputs": [
    {
     "data": {
      "text/html": [
       "<div>\n",
       "<style scoped>\n",
       "    .dataframe tbody tr th:only-of-type {\n",
       "        vertical-align: middle;\n",
       "    }\n",
       "\n",
       "    .dataframe tbody tr th {\n",
       "        vertical-align: top;\n",
       "    }\n",
       "\n",
       "    .dataframe thead th {\n",
       "        text-align: right;\n",
       "    }\n",
       "</style>\n",
       "<table border=\"1\" class=\"dataframe\">\n",
       "  <thead>\n",
       "    <tr style=\"text-align: right;\">\n",
       "      <th></th>\n",
       "      <th>Rompimento28Dias</th>\n",
       "      <th>ResultadoProjetado</th>\n",
       "      <th>ResultadoPredito</th>\n",
       "      <th>ErroProjetado</th>\n",
       "      <th>ErroPredito</th>\n",
       "    </tr>\n",
       "  </thead>\n",
       "  <tbody>\n",
       "    <tr>\n",
       "      <th>0</th>\n",
       "      <td>31.25</td>\n",
       "      <td>31.859329</td>\n",
       "      <td>33.928204</td>\n",
       "      <td>0.609329</td>\n",
       "      <td>2.678204</td>\n",
       "    </tr>\n",
       "    <tr>\n",
       "      <th>1</th>\n",
       "      <td>30.49</td>\n",
       "      <td>29.576969</td>\n",
       "      <td>31.598003</td>\n",
       "      <td>0.913031</td>\n",
       "      <td>1.108003</td>\n",
       "    </tr>\n",
       "    <tr>\n",
       "      <th>2</th>\n",
       "      <td>31.01</td>\n",
       "      <td>29.587471</td>\n",
       "      <td>31.598003</td>\n",
       "      <td>1.422529</td>\n",
       "      <td>0.588003</td>\n",
       "    </tr>\n",
       "    <tr>\n",
       "      <th>3</th>\n",
       "      <td>39.12</td>\n",
       "      <td>35.886319</td>\n",
       "      <td>34.182568</td>\n",
       "      <td>3.233681</td>\n",
       "      <td>4.937432</td>\n",
       "    </tr>\n",
       "    <tr>\n",
       "      <th>4</th>\n",
       "      <td>30.58</td>\n",
       "      <td>24.397753</td>\n",
       "      <td>26.974163</td>\n",
       "      <td>6.182247</td>\n",
       "      <td>3.605837</td>\n",
       "    </tr>\n",
       "  </tbody>\n",
       "</table>\n",
       "</div>"
      ],
      "text/plain": [
       "   Rompimento28Dias  ResultadoProjetado  ResultadoPredito  ErroProjetado  \\\n",
       "0             31.25           31.859329         33.928204       0.609329   \n",
       "1             30.49           29.576969         31.598003       0.913031   \n",
       "2             31.01           29.587471         31.598003       1.422529   \n",
       "3             39.12           35.886319         34.182568       3.233681   \n",
       "4             30.58           24.397753         26.974163       6.182247   \n",
       "\n",
       "   ErroPredito  \n",
       "0     2.678204  \n",
       "1     1.108003  \n",
       "2     0.588003  \n",
       "3     4.937432  \n",
       "4     3.605837  "
      ]
     },
     "execution_count": 1745,
     "metadata": {},
     "output_type": "execute_result"
    }
   ],
   "source": [
    "df.head()"
   ]
  },
  {
   "cell_type": "code",
   "execution_count": 1746,
   "metadata": {},
   "outputs": [
    {
     "data": {
      "text/html": [
       "<div>\n",
       "<style scoped>\n",
       "    .dataframe tbody tr th:only-of-type {\n",
       "        vertical-align: middle;\n",
       "    }\n",
       "\n",
       "    .dataframe tbody tr th {\n",
       "        vertical-align: top;\n",
       "    }\n",
       "\n",
       "    .dataframe thead th {\n",
       "        text-align: right;\n",
       "    }\n",
       "</style>\n",
       "<table border=\"1\" class=\"dataframe\">\n",
       "  <thead>\n",
       "    <tr style=\"text-align: right;\">\n",
       "      <th></th>\n",
       "      <th>CodigoNotaFiscal</th>\n",
       "      <th>CodigoCentroSaida</th>\n",
       "      <th>CodigoReceita</th>\n",
       "      <th>Volume</th>\n",
       "      <th>TipoLancamento</th>\n",
       "      <th>CodigoCliente</th>\n",
       "      <th>CodigoMotorista</th>\n",
       "      <th>QuantidadeAgua</th>\n",
       "      <th>ConsumoTotal</th>\n",
       "      <th>Idade</th>\n",
       "      <th>...</th>\n",
       "      <th>Rompimento7Dias</th>\n",
       "      <th>Rompimento28Dias</th>\n",
       "      <th>ConsumoPorM3</th>\n",
       "      <th>DesvioAplicado</th>\n",
       "      <th>ResultadoEsperado</th>\n",
       "      <th>ResultadoProjetado</th>\n",
       "      <th>PercentualCrescimentoReal</th>\n",
       "      <th>PercentualCrescimentoProjetado</th>\n",
       "      <th>RelacaoAguaCimento</th>\n",
       "      <th>LogRompimento7Dias</th>\n",
       "    </tr>\n",
       "  </thead>\n",
       "  <tbody>\n",
       "    <tr>\n",
       "      <th>count</th>\n",
       "      <td>60.000000</td>\n",
       "      <td>60.0</td>\n",
       "      <td>6.000000e+01</td>\n",
       "      <td>60.000000</td>\n",
       "      <td>60.000000</td>\n",
       "      <td>6.000000e+01</td>\n",
       "      <td>60.000000</td>\n",
       "      <td>60.000000</td>\n",
       "      <td>60.000000</td>\n",
       "      <td>60.0</td>\n",
       "      <td>...</td>\n",
       "      <td>60.000000</td>\n",
       "      <td>60.000000</td>\n",
       "      <td>60.000000</td>\n",
       "      <td>60.000000</td>\n",
       "      <td>60.000000</td>\n",
       "      <td>60.000000</td>\n",
       "      <td>60.000000</td>\n",
       "      <td>60.000000</td>\n",
       "      <td>60.000000</td>\n",
       "      <td>60.000000</td>\n",
       "    </tr>\n",
       "    <tr>\n",
       "      <th>mean</th>\n",
       "      <td>454822.116667</td>\n",
       "      <td>51020.0</td>\n",
       "      <td>3.419935e+07</td>\n",
       "      <td>6.916667</td>\n",
       "      <td>0.883333</td>\n",
       "      <td>6.516018e+07</td>\n",
       "      <td>396375.616667</td>\n",
       "      <td>122.490000</td>\n",
       "      <td>247.675000</td>\n",
       "      <td>28.0</td>\n",
       "      <td>...</td>\n",
       "      <td>27.691500</td>\n",
       "      <td>35.933333</td>\n",
       "      <td>359.116667</td>\n",
       "      <td>7.000000</td>\n",
       "      <td>49.905753</td>\n",
       "      <td>35.426380</td>\n",
       "      <td>31.507064</td>\n",
       "      <td>29.374894</td>\n",
       "      <td>0.499377</td>\n",
       "      <td>3.295003</td>\n",
       "    </tr>\n",
       "    <tr>\n",
       "      <th>std</th>\n",
       "      <td>5572.799419</td>\n",
       "      <td>0.0</td>\n",
       "      <td>4.590588e+05</td>\n",
       "      <td>0.782037</td>\n",
       "      <td>0.323732</td>\n",
       "      <td>5.888507e+07</td>\n",
       "      <td>298519.988395</td>\n",
       "      <td>19.336404</td>\n",
       "      <td>41.416524</td>\n",
       "      <td>0.0</td>\n",
       "      <td>...</td>\n",
       "      <td>6.196214</td>\n",
       "      <td>6.490681</td>\n",
       "      <td>51.435361</td>\n",
       "      <td>1.008439</td>\n",
       "      <td>5.640552</td>\n",
       "      <td>7.090533</td>\n",
       "      <td>11.080815</td>\n",
       "      <td>12.406185</td>\n",
       "      <td>0.060886</td>\n",
       "      <td>0.234470</td>\n",
       "    </tr>\n",
       "    <tr>\n",
       "      <th>min</th>\n",
       "      <td>445227.000000</td>\n",
       "      <td>51020.0</td>\n",
       "      <td>3.348805e+07</td>\n",
       "      <td>5.000000</td>\n",
       "      <td>0.000000</td>\n",
       "      <td>2.013051e+06</td>\n",
       "      <td>39080.000000</td>\n",
       "      <td>78.500000</td>\n",
       "      <td>159.000000</td>\n",
       "      <td>28.0</td>\n",
       "      <td>...</td>\n",
       "      <td>16.330000</td>\n",
       "      <td>24.990000</td>\n",
       "      <td>241.000000</td>\n",
       "      <td>6.000000</td>\n",
       "      <td>39.749812</td>\n",
       "      <td>22.324239</td>\n",
       "      <td>10.112360</td>\n",
       "      <td>8.027701</td>\n",
       "      <td>0.406091</td>\n",
       "      <td>2.793004</td>\n",
       "    </tr>\n",
       "    <tr>\n",
       "      <th>25%</th>\n",
       "      <td>449644.250000</td>\n",
       "      <td>51020.0</td>\n",
       "      <td>3.384005e+07</td>\n",
       "      <td>6.500000</td>\n",
       "      <td>1.000000</td>\n",
       "      <td>1.256005e+07</td>\n",
       "      <td>91829.000000</td>\n",
       "      <td>104.225000</td>\n",
       "      <td>228.362500</td>\n",
       "      <td>28.0</td>\n",
       "      <td>...</td>\n",
       "      <td>22.852500</td>\n",
       "      <td>30.905000</td>\n",
       "      <td>354.000000</td>\n",
       "      <td>6.000000</td>\n",
       "      <td>46.506734</td>\n",
       "      <td>31.356171</td>\n",
       "      <td>21.878700</td>\n",
       "      <td>16.474002</td>\n",
       "      <td>0.440321</td>\n",
       "      <td>3.129056</td>\n",
       "    </tr>\n",
       "    <tr>\n",
       "      <th>50%</th>\n",
       "      <td>452901.500000</td>\n",
       "      <td>51020.0</td>\n",
       "      <td>3.396405e+07</td>\n",
       "      <td>7.000000</td>\n",
       "      <td>1.000000</td>\n",
       "      <td>1.287305e+07</td>\n",
       "      <td>333051.000000</td>\n",
       "      <td>130.250000</td>\n",
       "      <td>256.100000</td>\n",
       "      <td>28.0</td>\n",
       "      <td>...</td>\n",
       "      <td>26.505000</td>\n",
       "      <td>34.730000</td>\n",
       "      <td>383.500000</td>\n",
       "      <td>7.000000</td>\n",
       "      <td>50.118303</td>\n",
       "      <td>34.880885</td>\n",
       "      <td>32.772799</td>\n",
       "      <td>31.886081</td>\n",
       "      <td>0.493711</td>\n",
       "      <td>3.277330</td>\n",
       "    </tr>\n",
       "    <tr>\n",
       "      <th>75%</th>\n",
       "      <td>459845.250000</td>\n",
       "      <td>51020.0</td>\n",
       "      <td>3.467005e+07</td>\n",
       "      <td>7.000000</td>\n",
       "      <td>1.000000</td>\n",
       "      <td>1.005464e+08</td>\n",
       "      <td>709801.000000</td>\n",
       "      <td>137.900000</td>\n",
       "      <td>280.000000</td>\n",
       "      <td>28.0</td>\n",
       "      <td>...</td>\n",
       "      <td>33.015000</td>\n",
       "      <td>41.952500</td>\n",
       "      <td>394.000000</td>\n",
       "      <td>8.000000</td>\n",
       "      <td>55.354975</td>\n",
       "      <td>37.587015</td>\n",
       "      <td>38.346351</td>\n",
       "      <td>40.314969</td>\n",
       "      <td>0.533898</td>\n",
       "      <td>3.496937</td>\n",
       "    </tr>\n",
       "    <tr>\n",
       "      <th>max</th>\n",
       "      <td>462802.000000</td>\n",
       "      <td>51020.0</td>\n",
       "      <td>3.491005e+07</td>\n",
       "      <td>8.500000</td>\n",
       "      <td>1.000000</td>\n",
       "      <td>2.007900e+08</td>\n",
       "      <td>911051.000000</td>\n",
       "      <td>147.200000</td>\n",
       "      <td>315.200000</td>\n",
       "      <td>28.0</td>\n",
       "      <td>...</td>\n",
       "      <td>37.490000</td>\n",
       "      <td>46.780000</td>\n",
       "      <td>400.000000</td>\n",
       "      <td>8.000000</td>\n",
       "      <td>58.994595</td>\n",
       "      <td>49.191669</td>\n",
       "      <td>58.539529</td>\n",
       "      <td>49.413214</td>\n",
       "      <td>0.618257</td>\n",
       "      <td>3.624074</td>\n",
       "    </tr>\n",
       "  </tbody>\n",
       "</table>\n",
       "<p>8 rows × 23 columns</p>\n",
       "</div>"
      ],
      "text/plain": [
       "       CodigoNotaFiscal  CodigoCentroSaida  CodigoReceita     Volume  \\\n",
       "count         60.000000               60.0   6.000000e+01  60.000000   \n",
       "mean      454822.116667            51020.0   3.419935e+07   6.916667   \n",
       "std         5572.799419                0.0   4.590588e+05   0.782037   \n",
       "min       445227.000000            51020.0   3.348805e+07   5.000000   \n",
       "25%       449644.250000            51020.0   3.384005e+07   6.500000   \n",
       "50%       452901.500000            51020.0   3.396405e+07   7.000000   \n",
       "75%       459845.250000            51020.0   3.467005e+07   7.000000   \n",
       "max       462802.000000            51020.0   3.491005e+07   8.500000   \n",
       "\n",
       "       TipoLancamento  CodigoCliente  CodigoMotorista  QuantidadeAgua  \\\n",
       "count       60.000000   6.000000e+01        60.000000       60.000000   \n",
       "mean         0.883333   6.516018e+07    396375.616667      122.490000   \n",
       "std          0.323732   5.888507e+07    298519.988395       19.336404   \n",
       "min          0.000000   2.013051e+06     39080.000000       78.500000   \n",
       "25%          1.000000   1.256005e+07     91829.000000      104.225000   \n",
       "50%          1.000000   1.287305e+07    333051.000000      130.250000   \n",
       "75%          1.000000   1.005464e+08    709801.000000      137.900000   \n",
       "max          1.000000   2.007900e+08    911051.000000      147.200000   \n",
       "\n",
       "       ConsumoTotal  Idade  ...  Rompimento7Dias  Rompimento28Dias  \\\n",
       "count     60.000000   60.0  ...        60.000000         60.000000   \n",
       "mean     247.675000   28.0  ...        27.691500         35.933333   \n",
       "std       41.416524    0.0  ...         6.196214          6.490681   \n",
       "min      159.000000   28.0  ...        16.330000         24.990000   \n",
       "25%      228.362500   28.0  ...        22.852500         30.905000   \n",
       "50%      256.100000   28.0  ...        26.505000         34.730000   \n",
       "75%      280.000000   28.0  ...        33.015000         41.952500   \n",
       "max      315.200000   28.0  ...        37.490000         46.780000   \n",
       "\n",
       "       ConsumoPorM3  DesvioAplicado  ResultadoEsperado  ResultadoProjetado  \\\n",
       "count     60.000000       60.000000          60.000000           60.000000   \n",
       "mean     359.116667        7.000000          49.905753           35.426380   \n",
       "std       51.435361        1.008439           5.640552            7.090533   \n",
       "min      241.000000        6.000000          39.749812           22.324239   \n",
       "25%      354.000000        6.000000          46.506734           31.356171   \n",
       "50%      383.500000        7.000000          50.118303           34.880885   \n",
       "75%      394.000000        8.000000          55.354975           37.587015   \n",
       "max      400.000000        8.000000          58.994595           49.191669   \n",
       "\n",
       "       PercentualCrescimentoReal  PercentualCrescimentoProjetado  \\\n",
       "count                  60.000000                       60.000000   \n",
       "mean                   31.507064                       29.374894   \n",
       "std                    11.080815                       12.406185   \n",
       "min                    10.112360                        8.027701   \n",
       "25%                    21.878700                       16.474002   \n",
       "50%                    32.772799                       31.886081   \n",
       "75%                    38.346351                       40.314969   \n",
       "max                    58.539529                       49.413214   \n",
       "\n",
       "       RelacaoAguaCimento  LogRompimento7Dias  \n",
       "count           60.000000           60.000000  \n",
       "mean             0.499377            3.295003  \n",
       "std              0.060886            0.234470  \n",
       "min              0.406091            2.793004  \n",
       "25%              0.440321            3.129056  \n",
       "50%              0.493711            3.277330  \n",
       "75%              0.533898            3.496937  \n",
       "max              0.618257            3.624074  \n",
       "\n",
       "[8 rows x 23 columns]"
      ]
     },
     "execution_count": 1746,
     "metadata": {},
     "output_type": "execute_result"
    }
   ],
   "source": [
    "indices_treino = x_train.index\n",
    "df_treino = dados_aglomerante.loc[indices_treino]\n",
    "df_treino.describe()"
   ]
  },
  {
   "cell_type": "code",
   "execution_count": 1747,
   "metadata": {},
   "outputs": [
    {
     "data": {
      "application/vnd.plotly.v1+json": {
       "config": {
        "plotlyServerURL": "https://plot.ly"
       },
       "data": [
        {
         "hovertemplate": "ConsumoPorM3=%{x}<br>Rompimento7Dias=%{y}<extra></extra>",
         "legendgroup": "",
         "marker": {
          "color": "#636efa",
          "symbol": "circle"
         },
         "mode": "markers",
         "name": "",
         "orientation": "v",
         "showlegend": false,
         "type": "scatter",
         "x": [
          362,
          354,
          354,
          354,
          354,
          354,
          354,
          354,
          354,
          373,
          373,
          373,
          373,
          373,
          373,
          373,
          394,
          394,
          241,
          241,
          394,
          394,
          394,
          394,
          394,
          394,
          241,
          394,
          394,
          241,
          394,
          241,
          394,
          394,
          394,
          394,
          292,
          318,
          318,
          400,
          289,
          289,
          289,
          271,
          400,
          400,
          400,
          400,
          278,
          400,
          400,
          400,
          400,
          400,
          400,
          394,
          400,
          400,
          400,
          289
         ],
         "xaxis": "x",
         "y": [
          25.73,
          22.32,
          23.26,
          22.01,
          19.91,
          23.24,
          22.74,
          23.09,
          21.95,
          23.6,
          26.24,
          26.43,
          23.95,
          25.01,
          25.5,
          25.96,
          36.04,
          36.43,
          18.52,
          16.57,
          33.96,
          36.9,
          31.77,
          28.25,
          36.28,
          35.27,
          16.33,
          37.49,
          35.33,
          21.53,
          37.27,
          18.99,
          33.66,
          36.8,
          30.25,
          34.43,
          26.57,
          30.86,
          32.88,
          25.43,
          17.81,
          16.88,
          22.89,
          18.41,
          22.4,
          31.72,
          30.46,
          33.42,
          22.14,
          30.04,
          32.25,
          30.92,
          27.71,
          31.72,
          31.9,
          36.97,
          33.82,
          25.42,
          29.42,
          26.44
         ],
         "yaxis": "y"
        }
       ],
       "layout": {
        "legend": {
         "tracegroupgap": 0
        },
        "template": {
         "data": {
          "bar": [
           {
            "error_x": {
             "color": "#2a3f5f"
            },
            "error_y": {
             "color": "#2a3f5f"
            },
            "marker": {
             "line": {
              "color": "#E5ECF6",
              "width": 0.5
             }
            },
            "type": "bar"
           }
          ],
          "barpolar": [
           {
            "marker": {
             "line": {
              "color": "#E5ECF6",
              "width": 0.5
             }
            },
            "type": "barpolar"
           }
          ],
          "carpet": [
           {
            "aaxis": {
             "endlinecolor": "#2a3f5f",
             "gridcolor": "white",
             "linecolor": "white",
             "minorgridcolor": "white",
             "startlinecolor": "#2a3f5f"
            },
            "baxis": {
             "endlinecolor": "#2a3f5f",
             "gridcolor": "white",
             "linecolor": "white",
             "minorgridcolor": "white",
             "startlinecolor": "#2a3f5f"
            },
            "type": "carpet"
           }
          ],
          "choropleth": [
           {
            "colorbar": {
             "outlinewidth": 0,
             "ticks": ""
            },
            "type": "choropleth"
           }
          ],
          "contour": [
           {
            "colorbar": {
             "outlinewidth": 0,
             "ticks": ""
            },
            "colorscale": [
             [
              0,
              "#0d0887"
             ],
             [
              0.1111111111111111,
              "#46039f"
             ],
             [
              0.2222222222222222,
              "#7201a8"
             ],
             [
              0.3333333333333333,
              "#9c179e"
             ],
             [
              0.4444444444444444,
              "#bd3786"
             ],
             [
              0.5555555555555556,
              "#d8576b"
             ],
             [
              0.6666666666666666,
              "#ed7953"
             ],
             [
              0.7777777777777778,
              "#fb9f3a"
             ],
             [
              0.8888888888888888,
              "#fdca26"
             ],
             [
              1,
              "#f0f921"
             ]
            ],
            "type": "contour"
           }
          ],
          "contourcarpet": [
           {
            "colorbar": {
             "outlinewidth": 0,
             "ticks": ""
            },
            "type": "contourcarpet"
           }
          ],
          "heatmap": [
           {
            "colorbar": {
             "outlinewidth": 0,
             "ticks": ""
            },
            "colorscale": [
             [
              0,
              "#0d0887"
             ],
             [
              0.1111111111111111,
              "#46039f"
             ],
             [
              0.2222222222222222,
              "#7201a8"
             ],
             [
              0.3333333333333333,
              "#9c179e"
             ],
             [
              0.4444444444444444,
              "#bd3786"
             ],
             [
              0.5555555555555556,
              "#d8576b"
             ],
             [
              0.6666666666666666,
              "#ed7953"
             ],
             [
              0.7777777777777778,
              "#fb9f3a"
             ],
             [
              0.8888888888888888,
              "#fdca26"
             ],
             [
              1,
              "#f0f921"
             ]
            ],
            "type": "heatmap"
           }
          ],
          "heatmapgl": [
           {
            "colorbar": {
             "outlinewidth": 0,
             "ticks": ""
            },
            "colorscale": [
             [
              0,
              "#0d0887"
             ],
             [
              0.1111111111111111,
              "#46039f"
             ],
             [
              0.2222222222222222,
              "#7201a8"
             ],
             [
              0.3333333333333333,
              "#9c179e"
             ],
             [
              0.4444444444444444,
              "#bd3786"
             ],
             [
              0.5555555555555556,
              "#d8576b"
             ],
             [
              0.6666666666666666,
              "#ed7953"
             ],
             [
              0.7777777777777778,
              "#fb9f3a"
             ],
             [
              0.8888888888888888,
              "#fdca26"
             ],
             [
              1,
              "#f0f921"
             ]
            ],
            "type": "heatmapgl"
           }
          ],
          "histogram": [
           {
            "marker": {
             "colorbar": {
              "outlinewidth": 0,
              "ticks": ""
             }
            },
            "type": "histogram"
           }
          ],
          "histogram2d": [
           {
            "colorbar": {
             "outlinewidth": 0,
             "ticks": ""
            },
            "colorscale": [
             [
              0,
              "#0d0887"
             ],
             [
              0.1111111111111111,
              "#46039f"
             ],
             [
              0.2222222222222222,
              "#7201a8"
             ],
             [
              0.3333333333333333,
              "#9c179e"
             ],
             [
              0.4444444444444444,
              "#bd3786"
             ],
             [
              0.5555555555555556,
              "#d8576b"
             ],
             [
              0.6666666666666666,
              "#ed7953"
             ],
             [
              0.7777777777777778,
              "#fb9f3a"
             ],
             [
              0.8888888888888888,
              "#fdca26"
             ],
             [
              1,
              "#f0f921"
             ]
            ],
            "type": "histogram2d"
           }
          ],
          "histogram2dcontour": [
           {
            "colorbar": {
             "outlinewidth": 0,
             "ticks": ""
            },
            "colorscale": [
             [
              0,
              "#0d0887"
             ],
             [
              0.1111111111111111,
              "#46039f"
             ],
             [
              0.2222222222222222,
              "#7201a8"
             ],
             [
              0.3333333333333333,
              "#9c179e"
             ],
             [
              0.4444444444444444,
              "#bd3786"
             ],
             [
              0.5555555555555556,
              "#d8576b"
             ],
             [
              0.6666666666666666,
              "#ed7953"
             ],
             [
              0.7777777777777778,
              "#fb9f3a"
             ],
             [
              0.8888888888888888,
              "#fdca26"
             ],
             [
              1,
              "#f0f921"
             ]
            ],
            "type": "histogram2dcontour"
           }
          ],
          "mesh3d": [
           {
            "colorbar": {
             "outlinewidth": 0,
             "ticks": ""
            },
            "type": "mesh3d"
           }
          ],
          "parcoords": [
           {
            "line": {
             "colorbar": {
              "outlinewidth": 0,
              "ticks": ""
             }
            },
            "type": "parcoords"
           }
          ],
          "pie": [
           {
            "automargin": true,
            "type": "pie"
           }
          ],
          "scatter": [
           {
            "marker": {
             "colorbar": {
              "outlinewidth": 0,
              "ticks": ""
             }
            },
            "type": "scatter"
           }
          ],
          "scatter3d": [
           {
            "line": {
             "colorbar": {
              "outlinewidth": 0,
              "ticks": ""
             }
            },
            "marker": {
             "colorbar": {
              "outlinewidth": 0,
              "ticks": ""
             }
            },
            "type": "scatter3d"
           }
          ],
          "scattercarpet": [
           {
            "marker": {
             "colorbar": {
              "outlinewidth": 0,
              "ticks": ""
             }
            },
            "type": "scattercarpet"
           }
          ],
          "scattergeo": [
           {
            "marker": {
             "colorbar": {
              "outlinewidth": 0,
              "ticks": ""
             }
            },
            "type": "scattergeo"
           }
          ],
          "scattergl": [
           {
            "marker": {
             "colorbar": {
              "outlinewidth": 0,
              "ticks": ""
             }
            },
            "type": "scattergl"
           }
          ],
          "scattermapbox": [
           {
            "marker": {
             "colorbar": {
              "outlinewidth": 0,
              "ticks": ""
             }
            },
            "type": "scattermapbox"
           }
          ],
          "scatterpolar": [
           {
            "marker": {
             "colorbar": {
              "outlinewidth": 0,
              "ticks": ""
             }
            },
            "type": "scatterpolar"
           }
          ],
          "scatterpolargl": [
           {
            "marker": {
             "colorbar": {
              "outlinewidth": 0,
              "ticks": ""
             }
            },
            "type": "scatterpolargl"
           }
          ],
          "scatterternary": [
           {
            "marker": {
             "colorbar": {
              "outlinewidth": 0,
              "ticks": ""
             }
            },
            "type": "scatterternary"
           }
          ],
          "surface": [
           {
            "colorbar": {
             "outlinewidth": 0,
             "ticks": ""
            },
            "colorscale": [
             [
              0,
              "#0d0887"
             ],
             [
              0.1111111111111111,
              "#46039f"
             ],
             [
              0.2222222222222222,
              "#7201a8"
             ],
             [
              0.3333333333333333,
              "#9c179e"
             ],
             [
              0.4444444444444444,
              "#bd3786"
             ],
             [
              0.5555555555555556,
              "#d8576b"
             ],
             [
              0.6666666666666666,
              "#ed7953"
             ],
             [
              0.7777777777777778,
              "#fb9f3a"
             ],
             [
              0.8888888888888888,
              "#fdca26"
             ],
             [
              1,
              "#f0f921"
             ]
            ],
            "type": "surface"
           }
          ],
          "table": [
           {
            "cells": {
             "fill": {
              "color": "#EBF0F8"
             },
             "line": {
              "color": "white"
             }
            },
            "header": {
             "fill": {
              "color": "#C8D4E3"
             },
             "line": {
              "color": "white"
             }
            },
            "type": "table"
           }
          ]
         },
         "layout": {
          "annotationdefaults": {
           "arrowcolor": "#2a3f5f",
           "arrowhead": 0,
           "arrowwidth": 1
          },
          "autotypenumbers": "strict",
          "coloraxis": {
           "colorbar": {
            "outlinewidth": 0,
            "ticks": ""
           }
          },
          "colorscale": {
           "diverging": [
            [
             0,
             "#8e0152"
            ],
            [
             0.1,
             "#c51b7d"
            ],
            [
             0.2,
             "#de77ae"
            ],
            [
             0.3,
             "#f1b6da"
            ],
            [
             0.4,
             "#fde0ef"
            ],
            [
             0.5,
             "#f7f7f7"
            ],
            [
             0.6,
             "#e6f5d0"
            ],
            [
             0.7,
             "#b8e186"
            ],
            [
             0.8,
             "#7fbc41"
            ],
            [
             0.9,
             "#4d9221"
            ],
            [
             1,
             "#276419"
            ]
           ],
           "sequential": [
            [
             0,
             "#0d0887"
            ],
            [
             0.1111111111111111,
             "#46039f"
            ],
            [
             0.2222222222222222,
             "#7201a8"
            ],
            [
             0.3333333333333333,
             "#9c179e"
            ],
            [
             0.4444444444444444,
             "#bd3786"
            ],
            [
             0.5555555555555556,
             "#d8576b"
            ],
            [
             0.6666666666666666,
             "#ed7953"
            ],
            [
             0.7777777777777778,
             "#fb9f3a"
            ],
            [
             0.8888888888888888,
             "#fdca26"
            ],
            [
             1,
             "#f0f921"
            ]
           ],
           "sequentialminus": [
            [
             0,
             "#0d0887"
            ],
            [
             0.1111111111111111,
             "#46039f"
            ],
            [
             0.2222222222222222,
             "#7201a8"
            ],
            [
             0.3333333333333333,
             "#9c179e"
            ],
            [
             0.4444444444444444,
             "#bd3786"
            ],
            [
             0.5555555555555556,
             "#d8576b"
            ],
            [
             0.6666666666666666,
             "#ed7953"
            ],
            [
             0.7777777777777778,
             "#fb9f3a"
            ],
            [
             0.8888888888888888,
             "#fdca26"
            ],
            [
             1,
             "#f0f921"
            ]
           ]
          },
          "colorway": [
           "#636efa",
           "#EF553B",
           "#00cc96",
           "#ab63fa",
           "#FFA15A",
           "#19d3f3",
           "#FF6692",
           "#B6E880",
           "#FF97FF",
           "#FECB52"
          ],
          "font": {
           "color": "#2a3f5f"
          },
          "geo": {
           "bgcolor": "white",
           "lakecolor": "white",
           "landcolor": "#E5ECF6",
           "showlakes": true,
           "showland": true,
           "subunitcolor": "white"
          },
          "hoverlabel": {
           "align": "left"
          },
          "hovermode": "closest",
          "mapbox": {
           "style": "light"
          },
          "paper_bgcolor": "white",
          "plot_bgcolor": "#E5ECF6",
          "polar": {
           "angularaxis": {
            "gridcolor": "white",
            "linecolor": "white",
            "ticks": ""
           },
           "bgcolor": "#E5ECF6",
           "radialaxis": {
            "gridcolor": "white",
            "linecolor": "white",
            "ticks": ""
           }
          },
          "scene": {
           "xaxis": {
            "backgroundcolor": "#E5ECF6",
            "gridcolor": "white",
            "gridwidth": 2,
            "linecolor": "white",
            "showbackground": true,
            "ticks": "",
            "zerolinecolor": "white"
           },
           "yaxis": {
            "backgroundcolor": "#E5ECF6",
            "gridcolor": "white",
            "gridwidth": 2,
            "linecolor": "white",
            "showbackground": true,
            "ticks": "",
            "zerolinecolor": "white"
           },
           "zaxis": {
            "backgroundcolor": "#E5ECF6",
            "gridcolor": "white",
            "gridwidth": 2,
            "linecolor": "white",
            "showbackground": true,
            "ticks": "",
            "zerolinecolor": "white"
           }
          },
          "shapedefaults": {
           "line": {
            "color": "#2a3f5f"
           }
          },
          "ternary": {
           "aaxis": {
            "gridcolor": "white",
            "linecolor": "white",
            "ticks": ""
           },
           "baxis": {
            "gridcolor": "white",
            "linecolor": "white",
            "ticks": ""
           },
           "bgcolor": "#E5ECF6",
           "caxis": {
            "gridcolor": "white",
            "linecolor": "white",
            "ticks": ""
           }
          },
          "title": {
           "x": 0.05
          },
          "xaxis": {
           "automargin": true,
           "gridcolor": "white",
           "linecolor": "white",
           "ticks": "",
           "title": {
            "standoff": 15
           },
           "zerolinecolor": "white",
           "zerolinewidth": 2
          },
          "yaxis": {
           "automargin": true,
           "gridcolor": "white",
           "linecolor": "white",
           "ticks": "",
           "title": {
            "standoff": 15
           },
           "zerolinecolor": "white",
           "zerolinewidth": 2
          }
         }
        },
        "title": {
         "text": "Rompimento7Dias x Rompimento 28 Dias"
        },
        "xaxis": {
         "anchor": "y",
         "domain": [
          0,
          1
         ],
         "title": {
          "text": "ConsumoPorM3"
         }
        },
        "yaxis": {
         "anchor": "x",
         "domain": [
          0,
          1
         ],
         "title": {
          "text": "Rompimento7Dias"
         }
        }
       }
      },
      "text/html": [
       "<div>                            <div id=\"166e73d8-5958-4d92-bb3c-85b52ab4912b\" class=\"plotly-graph-div\" style=\"height:525px; width:100%;\"></div>            <script type=\"text/javascript\">                require([\"plotly\"], function(Plotly) {                    window.PLOTLYENV=window.PLOTLYENV || {};                                    if (document.getElementById(\"166e73d8-5958-4d92-bb3c-85b52ab4912b\")) {                    Plotly.newPlot(                        \"166e73d8-5958-4d92-bb3c-85b52ab4912b\",                        [{\"hovertemplate\": \"ConsumoPorM3=%{x}<br>Rompimento7Dias=%{y}<extra></extra>\", \"legendgroup\": \"\", \"marker\": {\"color\": \"#636efa\", \"symbol\": \"circle\"}, \"mode\": \"markers\", \"name\": \"\", \"orientation\": \"v\", \"showlegend\": false, \"type\": \"scatter\", \"x\": [362.0, 354.0, 354.0, 354.0, 354.0, 354.0, 354.0, 354.0, 354.0, 373.0, 373.0, 373.0, 373.0, 373.0, 373.0, 373.0, 394.0, 394.0, 241.0, 241.0, 394.0, 394.0, 394.0, 394.0, 394.0, 394.0, 241.0, 394.0, 394.0, 241.0, 394.0, 241.0, 394.0, 394.0, 394.0, 394.0, 292.0, 318.0, 318.0, 400.0, 289.0, 289.0, 289.0, 271.0, 400.0, 400.0, 400.0, 400.0, 278.0, 400.0, 400.0, 400.0, 400.0, 400.0, 400.0, 394.0, 400.0, 400.0, 400.0, 289.0], \"xaxis\": \"x\", \"y\": [25.73, 22.32, 23.26, 22.01, 19.91, 23.24, 22.74, 23.09, 21.95, 23.6, 26.24, 26.43, 23.95, 25.01, 25.5, 25.96, 36.04, 36.43, 18.52, 16.57, 33.96, 36.9, 31.77, 28.25, 36.28, 35.27, 16.33, 37.49, 35.33, 21.53, 37.27, 18.99, 33.66, 36.8, 30.25, 34.43, 26.57, 30.86, 32.88, 25.43, 17.81, 16.88, 22.89, 18.41, 22.4, 31.72, 30.46, 33.42, 22.14, 30.04, 32.25, 30.92, 27.71, 31.72, 31.9, 36.97, 33.82, 25.42, 29.42, 26.44], \"yaxis\": \"y\"}],                        {\"legend\": {\"tracegroupgap\": 0}, \"template\": {\"data\": {\"bar\": [{\"error_x\": {\"color\": \"#2a3f5f\"}, \"error_y\": {\"color\": \"#2a3f5f\"}, \"marker\": {\"line\": {\"color\": \"#E5ECF6\", \"width\": 0.5}}, \"type\": \"bar\"}], \"barpolar\": [{\"marker\": {\"line\": {\"color\": \"#E5ECF6\", \"width\": 0.5}}, \"type\": \"barpolar\"}], \"carpet\": [{\"aaxis\": {\"endlinecolor\": \"#2a3f5f\", \"gridcolor\": \"white\", \"linecolor\": \"white\", \"minorgridcolor\": \"white\", \"startlinecolor\": \"#2a3f5f\"}, \"baxis\": {\"endlinecolor\": \"#2a3f5f\", \"gridcolor\": \"white\", \"linecolor\": \"white\", \"minorgridcolor\": \"white\", \"startlinecolor\": \"#2a3f5f\"}, \"type\": \"carpet\"}], \"choropleth\": [{\"colorbar\": {\"outlinewidth\": 0, \"ticks\": \"\"}, \"type\": \"choropleth\"}], \"contour\": [{\"colorbar\": {\"outlinewidth\": 0, \"ticks\": \"\"}, \"colorscale\": [[0.0, \"#0d0887\"], [0.1111111111111111, \"#46039f\"], [0.2222222222222222, \"#7201a8\"], [0.3333333333333333, \"#9c179e\"], [0.4444444444444444, \"#bd3786\"], [0.5555555555555556, \"#d8576b\"], [0.6666666666666666, \"#ed7953\"], [0.7777777777777778, \"#fb9f3a\"], [0.8888888888888888, \"#fdca26\"], [1.0, \"#f0f921\"]], \"type\": \"contour\"}], \"contourcarpet\": [{\"colorbar\": {\"outlinewidth\": 0, \"ticks\": \"\"}, \"type\": \"contourcarpet\"}], \"heatmap\": [{\"colorbar\": {\"outlinewidth\": 0, \"ticks\": \"\"}, \"colorscale\": [[0.0, \"#0d0887\"], [0.1111111111111111, \"#46039f\"], [0.2222222222222222, \"#7201a8\"], [0.3333333333333333, \"#9c179e\"], [0.4444444444444444, \"#bd3786\"], [0.5555555555555556, \"#d8576b\"], [0.6666666666666666, \"#ed7953\"], [0.7777777777777778, \"#fb9f3a\"], [0.8888888888888888, \"#fdca26\"], [1.0, \"#f0f921\"]], \"type\": \"heatmap\"}], \"heatmapgl\": [{\"colorbar\": {\"outlinewidth\": 0, \"ticks\": \"\"}, \"colorscale\": [[0.0, \"#0d0887\"], [0.1111111111111111, \"#46039f\"], [0.2222222222222222, \"#7201a8\"], [0.3333333333333333, \"#9c179e\"], [0.4444444444444444, \"#bd3786\"], [0.5555555555555556, \"#d8576b\"], [0.6666666666666666, \"#ed7953\"], [0.7777777777777778, \"#fb9f3a\"], [0.8888888888888888, \"#fdca26\"], [1.0, \"#f0f921\"]], \"type\": \"heatmapgl\"}], \"histogram\": [{\"marker\": {\"colorbar\": {\"outlinewidth\": 0, \"ticks\": \"\"}}, \"type\": \"histogram\"}], \"histogram2d\": [{\"colorbar\": {\"outlinewidth\": 0, \"ticks\": \"\"}, \"colorscale\": [[0.0, \"#0d0887\"], [0.1111111111111111, \"#46039f\"], [0.2222222222222222, \"#7201a8\"], [0.3333333333333333, \"#9c179e\"], [0.4444444444444444, \"#bd3786\"], [0.5555555555555556, \"#d8576b\"], [0.6666666666666666, \"#ed7953\"], [0.7777777777777778, \"#fb9f3a\"], [0.8888888888888888, \"#fdca26\"], [1.0, \"#f0f921\"]], \"type\": \"histogram2d\"}], \"histogram2dcontour\": [{\"colorbar\": {\"outlinewidth\": 0, \"ticks\": \"\"}, \"colorscale\": [[0.0, \"#0d0887\"], [0.1111111111111111, \"#46039f\"], [0.2222222222222222, \"#7201a8\"], [0.3333333333333333, \"#9c179e\"], [0.4444444444444444, \"#bd3786\"], [0.5555555555555556, \"#d8576b\"], [0.6666666666666666, \"#ed7953\"], [0.7777777777777778, \"#fb9f3a\"], [0.8888888888888888, \"#fdca26\"], [1.0, \"#f0f921\"]], \"type\": \"histogram2dcontour\"}], \"mesh3d\": [{\"colorbar\": {\"outlinewidth\": 0, \"ticks\": \"\"}, \"type\": \"mesh3d\"}], \"parcoords\": [{\"line\": {\"colorbar\": {\"outlinewidth\": 0, \"ticks\": \"\"}}, \"type\": \"parcoords\"}], \"pie\": [{\"automargin\": true, \"type\": \"pie\"}], \"scatter\": [{\"marker\": {\"colorbar\": {\"outlinewidth\": 0, \"ticks\": \"\"}}, \"type\": \"scatter\"}], \"scatter3d\": [{\"line\": {\"colorbar\": {\"outlinewidth\": 0, \"ticks\": \"\"}}, \"marker\": {\"colorbar\": {\"outlinewidth\": 0, \"ticks\": \"\"}}, \"type\": \"scatter3d\"}], \"scattercarpet\": [{\"marker\": {\"colorbar\": {\"outlinewidth\": 0, \"ticks\": \"\"}}, \"type\": \"scattercarpet\"}], \"scattergeo\": [{\"marker\": {\"colorbar\": {\"outlinewidth\": 0, \"ticks\": \"\"}}, \"type\": \"scattergeo\"}], \"scattergl\": [{\"marker\": {\"colorbar\": {\"outlinewidth\": 0, \"ticks\": \"\"}}, \"type\": \"scattergl\"}], \"scattermapbox\": [{\"marker\": {\"colorbar\": {\"outlinewidth\": 0, \"ticks\": \"\"}}, \"type\": \"scattermapbox\"}], \"scatterpolar\": [{\"marker\": {\"colorbar\": {\"outlinewidth\": 0, \"ticks\": \"\"}}, \"type\": \"scatterpolar\"}], \"scatterpolargl\": [{\"marker\": {\"colorbar\": {\"outlinewidth\": 0, \"ticks\": \"\"}}, \"type\": \"scatterpolargl\"}], \"scatterternary\": [{\"marker\": {\"colorbar\": {\"outlinewidth\": 0, \"ticks\": \"\"}}, \"type\": \"scatterternary\"}], \"surface\": [{\"colorbar\": {\"outlinewidth\": 0, \"ticks\": \"\"}, \"colorscale\": [[0.0, \"#0d0887\"], [0.1111111111111111, \"#46039f\"], [0.2222222222222222, \"#7201a8\"], [0.3333333333333333, \"#9c179e\"], [0.4444444444444444, \"#bd3786\"], [0.5555555555555556, \"#d8576b\"], [0.6666666666666666, \"#ed7953\"], [0.7777777777777778, \"#fb9f3a\"], [0.8888888888888888, \"#fdca26\"], [1.0, \"#f0f921\"]], \"type\": \"surface\"}], \"table\": [{\"cells\": {\"fill\": {\"color\": \"#EBF0F8\"}, \"line\": {\"color\": \"white\"}}, \"header\": {\"fill\": {\"color\": \"#C8D4E3\"}, \"line\": {\"color\": \"white\"}}, \"type\": \"table\"}]}, \"layout\": {\"annotationdefaults\": {\"arrowcolor\": \"#2a3f5f\", \"arrowhead\": 0, \"arrowwidth\": 1}, \"autotypenumbers\": \"strict\", \"coloraxis\": {\"colorbar\": {\"outlinewidth\": 0, \"ticks\": \"\"}}, \"colorscale\": {\"diverging\": [[0, \"#8e0152\"], [0.1, \"#c51b7d\"], [0.2, \"#de77ae\"], [0.3, \"#f1b6da\"], [0.4, \"#fde0ef\"], [0.5, \"#f7f7f7\"], [0.6, \"#e6f5d0\"], [0.7, \"#b8e186\"], [0.8, \"#7fbc41\"], [0.9, \"#4d9221\"], [1, \"#276419\"]], \"sequential\": [[0.0, \"#0d0887\"], [0.1111111111111111, \"#46039f\"], [0.2222222222222222, \"#7201a8\"], [0.3333333333333333, \"#9c179e\"], [0.4444444444444444, \"#bd3786\"], [0.5555555555555556, \"#d8576b\"], [0.6666666666666666, \"#ed7953\"], [0.7777777777777778, \"#fb9f3a\"], [0.8888888888888888, \"#fdca26\"], [1.0, \"#f0f921\"]], \"sequentialminus\": [[0.0, \"#0d0887\"], [0.1111111111111111, \"#46039f\"], [0.2222222222222222, \"#7201a8\"], [0.3333333333333333, \"#9c179e\"], [0.4444444444444444, \"#bd3786\"], [0.5555555555555556, \"#d8576b\"], [0.6666666666666666, \"#ed7953\"], [0.7777777777777778, \"#fb9f3a\"], [0.8888888888888888, \"#fdca26\"], [1.0, \"#f0f921\"]]}, \"colorway\": [\"#636efa\", \"#EF553B\", \"#00cc96\", \"#ab63fa\", \"#FFA15A\", \"#19d3f3\", \"#FF6692\", \"#B6E880\", \"#FF97FF\", \"#FECB52\"], \"font\": {\"color\": \"#2a3f5f\"}, \"geo\": {\"bgcolor\": \"white\", \"lakecolor\": \"white\", \"landcolor\": \"#E5ECF6\", \"showlakes\": true, \"showland\": true, \"subunitcolor\": \"white\"}, \"hoverlabel\": {\"align\": \"left\"}, \"hovermode\": \"closest\", \"mapbox\": {\"style\": \"light\"}, \"paper_bgcolor\": \"white\", \"plot_bgcolor\": \"#E5ECF6\", \"polar\": {\"angularaxis\": {\"gridcolor\": \"white\", \"linecolor\": \"white\", \"ticks\": \"\"}, \"bgcolor\": \"#E5ECF6\", \"radialaxis\": {\"gridcolor\": \"white\", \"linecolor\": \"white\", \"ticks\": \"\"}}, \"scene\": {\"xaxis\": {\"backgroundcolor\": \"#E5ECF6\", \"gridcolor\": \"white\", \"gridwidth\": 2, \"linecolor\": \"white\", \"showbackground\": true, \"ticks\": \"\", \"zerolinecolor\": \"white\"}, \"yaxis\": {\"backgroundcolor\": \"#E5ECF6\", \"gridcolor\": \"white\", \"gridwidth\": 2, \"linecolor\": \"white\", \"showbackground\": true, \"ticks\": \"\", \"zerolinecolor\": \"white\"}, \"zaxis\": {\"backgroundcolor\": \"#E5ECF6\", \"gridcolor\": \"white\", \"gridwidth\": 2, \"linecolor\": \"white\", \"showbackground\": true, \"ticks\": \"\", \"zerolinecolor\": \"white\"}}, \"shapedefaults\": {\"line\": {\"color\": \"#2a3f5f\"}}, \"ternary\": {\"aaxis\": {\"gridcolor\": \"white\", \"linecolor\": \"white\", \"ticks\": \"\"}, \"baxis\": {\"gridcolor\": \"white\", \"linecolor\": \"white\", \"ticks\": \"\"}, \"bgcolor\": \"#E5ECF6\", \"caxis\": {\"gridcolor\": \"white\", \"linecolor\": \"white\", \"ticks\": \"\"}}, \"title\": {\"x\": 0.05}, \"xaxis\": {\"automargin\": true, \"gridcolor\": \"white\", \"linecolor\": \"white\", \"ticks\": \"\", \"title\": {\"standoff\": 15}, \"zerolinecolor\": \"white\", \"zerolinewidth\": 2}, \"yaxis\": {\"automargin\": true, \"gridcolor\": \"white\", \"linecolor\": \"white\", \"ticks\": \"\", \"title\": {\"standoff\": 15}, \"zerolinecolor\": \"white\", \"zerolinewidth\": 2}}}, \"title\": {\"text\": \"Rompimento7Dias x Rompimento 28 Dias\"}, \"xaxis\": {\"anchor\": \"y\", \"domain\": [0.0, 1.0], \"title\": {\"text\": \"ConsumoPorM3\"}}, \"yaxis\": {\"anchor\": \"x\", \"domain\": [0.0, 1.0], \"title\": {\"text\": \"Rompimento7Dias\"}}},                        {\"responsive\": true}                    ).then(function(){\n",
       "                            \n",
       "var gd = document.getElementById('166e73d8-5958-4d92-bb3c-85b52ab4912b');\n",
       "var x = new MutationObserver(function (mutations, observer) {{\n",
       "        var display = window.getComputedStyle(gd).display;\n",
       "        if (!display || display === 'none') {{\n",
       "            console.log([gd, 'removed!']);\n",
       "            Plotly.purge(gd);\n",
       "            observer.disconnect();\n",
       "        }}\n",
       "}});\n",
       "\n",
       "// Listen for the removal of the full notebook cells\n",
       "var notebookContainer = gd.closest('#notebook-container');\n",
       "if (notebookContainer) {{\n",
       "    x.observe(notebookContainer, {childList: true});\n",
       "}}\n",
       "\n",
       "// Listen for the clearing of the current output cell\n",
       "var outputEl = gd.closest('.output');\n",
       "if (outputEl) {{\n",
       "    x.observe(outputEl, {childList: true});\n",
       "}}\n",
       "\n",
       "                        })                };                });            </script>        </div>"
      ]
     },
     "metadata": {},
     "output_type": "display_data"
    }
   ],
   "source": [
    "fig = px.scatter(df_treino, x=\"ConsumoPorM3\", y=\"Rompimento7Dias\", title='Rompimento7Dias x Rompimento 28 Dias')\n",
    "fig.show()"
   ]
  },
  {
   "cell_type": "code",
   "execution_count": 1748,
   "metadata": {},
   "outputs": [
    {
     "data": {
      "application/vnd.plotly.v1+json": {
       "config": {
        "plotlyServerURL": "https://plot.ly"
       },
       "data": [
        {
         "hovertemplate": "RelacaoAguaCimento=%{x}<br>Rompimento28Dias=%{y}<extra></extra>",
         "legendgroup": "",
         "marker": {
          "color": "#636efa",
          "symbol": "circle"
         },
         "mode": "markers",
         "name": "",
         "orientation": "v",
         "showlegend": false,
         "type": "scatter",
         "x": [
          0.5386740331491713,
          0.5282485875706214,
          0.5338983050847458,
          0.53954802259887,
          0.5338983050847458,
          0.5338983050847458,
          0.5338983050847458,
          0.5338983050847458,
          0.5338983050847458,
          0.4932975871313673,
          0.4932975871313673,
          0.4932975871313673,
          0.4932975871313673,
          0.4932975871313673,
          0.4932975871313673,
          0.4423592493297587,
          0.4060913705583756,
          0.4060913705583756,
          0.6182572614107884,
          0.6182572614107884,
          0.4060913705583756,
          0.4060913705583756,
          0.4060913705583756,
          0.4342053885201093,
          0.44416243654822335,
          0.4060913705583756,
          0.6182572614107884,
          0.4289340101522842,
          0.4340101522842639,
          0.6016597510373445,
          0.4340101522842639,
          0.6182572614107884,
          0.4340101522842639,
          0.434010152284264,
          0.4060913705583756,
          0.4060913705583756,
          0.5376712328767124,
          0.4937106918238994,
          0.4937106918238994,
          0.475,
          0.5709342560553633,
          0.5709342560553633,
          0.5709342560553633,
          0.5682656826568266,
          0.5175000000000001,
          0.5125,
          0.5125,
          0.5225000000000001,
          0.5359712230215827,
          0.4925,
          0.5225000000000001,
          0.5225000000000001,
          0.5225000000000001,
          0.4925,
          0.5,
          0.41116751269035534,
          0.4925,
          0.4925,
          0.4925,
          0.5605536332179931
         ],
         "xaxis": "x",
         "y": [
          35.08,
          31.9,
          30.93,
          30.6,
          30.3,
          31.02,
          30.83,
          31.3,
          30.6,
          32.41,
          33.9,
          32.14,
          32.47,
          33.52,
          32.83,
          35.01,
          43.52,
          44.21,
          25.32,
          26.27,
          44.6,
          42.89,
          38.14,
          33.43,
          46.48,
          45.48,
          25.46,
          46.74,
          42.62,
          30.02,
          46.78,
          28.11,
          46.6,
          46.46,
          41.84,
          38.95,
          36.56,
          37.64,
          38.37,
          34.09,
          26.67,
          24.99,
          26.77,
          27.27,
          31.18,
          38.51,
          39.11,
          40.86,
          29.67,
          43.15,
          43.12,
          39.79,
          38.92,
          38.18,
          42.29,
          45.71,
          37.24,
          33.2,
          34.45,
          29.5
         ],
         "yaxis": "y"
        }
       ],
       "layout": {
        "legend": {
         "tracegroupgap": 0
        },
        "template": {
         "data": {
          "bar": [
           {
            "error_x": {
             "color": "#2a3f5f"
            },
            "error_y": {
             "color": "#2a3f5f"
            },
            "marker": {
             "line": {
              "color": "#E5ECF6",
              "width": 0.5
             }
            },
            "type": "bar"
           }
          ],
          "barpolar": [
           {
            "marker": {
             "line": {
              "color": "#E5ECF6",
              "width": 0.5
             }
            },
            "type": "barpolar"
           }
          ],
          "carpet": [
           {
            "aaxis": {
             "endlinecolor": "#2a3f5f",
             "gridcolor": "white",
             "linecolor": "white",
             "minorgridcolor": "white",
             "startlinecolor": "#2a3f5f"
            },
            "baxis": {
             "endlinecolor": "#2a3f5f",
             "gridcolor": "white",
             "linecolor": "white",
             "minorgridcolor": "white",
             "startlinecolor": "#2a3f5f"
            },
            "type": "carpet"
           }
          ],
          "choropleth": [
           {
            "colorbar": {
             "outlinewidth": 0,
             "ticks": ""
            },
            "type": "choropleth"
           }
          ],
          "contour": [
           {
            "colorbar": {
             "outlinewidth": 0,
             "ticks": ""
            },
            "colorscale": [
             [
              0,
              "#0d0887"
             ],
             [
              0.1111111111111111,
              "#46039f"
             ],
             [
              0.2222222222222222,
              "#7201a8"
             ],
             [
              0.3333333333333333,
              "#9c179e"
             ],
             [
              0.4444444444444444,
              "#bd3786"
             ],
             [
              0.5555555555555556,
              "#d8576b"
             ],
             [
              0.6666666666666666,
              "#ed7953"
             ],
             [
              0.7777777777777778,
              "#fb9f3a"
             ],
             [
              0.8888888888888888,
              "#fdca26"
             ],
             [
              1,
              "#f0f921"
             ]
            ],
            "type": "contour"
           }
          ],
          "contourcarpet": [
           {
            "colorbar": {
             "outlinewidth": 0,
             "ticks": ""
            },
            "type": "contourcarpet"
           }
          ],
          "heatmap": [
           {
            "colorbar": {
             "outlinewidth": 0,
             "ticks": ""
            },
            "colorscale": [
             [
              0,
              "#0d0887"
             ],
             [
              0.1111111111111111,
              "#46039f"
             ],
             [
              0.2222222222222222,
              "#7201a8"
             ],
             [
              0.3333333333333333,
              "#9c179e"
             ],
             [
              0.4444444444444444,
              "#bd3786"
             ],
             [
              0.5555555555555556,
              "#d8576b"
             ],
             [
              0.6666666666666666,
              "#ed7953"
             ],
             [
              0.7777777777777778,
              "#fb9f3a"
             ],
             [
              0.8888888888888888,
              "#fdca26"
             ],
             [
              1,
              "#f0f921"
             ]
            ],
            "type": "heatmap"
           }
          ],
          "heatmapgl": [
           {
            "colorbar": {
             "outlinewidth": 0,
             "ticks": ""
            },
            "colorscale": [
             [
              0,
              "#0d0887"
             ],
             [
              0.1111111111111111,
              "#46039f"
             ],
             [
              0.2222222222222222,
              "#7201a8"
             ],
             [
              0.3333333333333333,
              "#9c179e"
             ],
             [
              0.4444444444444444,
              "#bd3786"
             ],
             [
              0.5555555555555556,
              "#d8576b"
             ],
             [
              0.6666666666666666,
              "#ed7953"
             ],
             [
              0.7777777777777778,
              "#fb9f3a"
             ],
             [
              0.8888888888888888,
              "#fdca26"
             ],
             [
              1,
              "#f0f921"
             ]
            ],
            "type": "heatmapgl"
           }
          ],
          "histogram": [
           {
            "marker": {
             "colorbar": {
              "outlinewidth": 0,
              "ticks": ""
             }
            },
            "type": "histogram"
           }
          ],
          "histogram2d": [
           {
            "colorbar": {
             "outlinewidth": 0,
             "ticks": ""
            },
            "colorscale": [
             [
              0,
              "#0d0887"
             ],
             [
              0.1111111111111111,
              "#46039f"
             ],
             [
              0.2222222222222222,
              "#7201a8"
             ],
             [
              0.3333333333333333,
              "#9c179e"
             ],
             [
              0.4444444444444444,
              "#bd3786"
             ],
             [
              0.5555555555555556,
              "#d8576b"
             ],
             [
              0.6666666666666666,
              "#ed7953"
             ],
             [
              0.7777777777777778,
              "#fb9f3a"
             ],
             [
              0.8888888888888888,
              "#fdca26"
             ],
             [
              1,
              "#f0f921"
             ]
            ],
            "type": "histogram2d"
           }
          ],
          "histogram2dcontour": [
           {
            "colorbar": {
             "outlinewidth": 0,
             "ticks": ""
            },
            "colorscale": [
             [
              0,
              "#0d0887"
             ],
             [
              0.1111111111111111,
              "#46039f"
             ],
             [
              0.2222222222222222,
              "#7201a8"
             ],
             [
              0.3333333333333333,
              "#9c179e"
             ],
             [
              0.4444444444444444,
              "#bd3786"
             ],
             [
              0.5555555555555556,
              "#d8576b"
             ],
             [
              0.6666666666666666,
              "#ed7953"
             ],
             [
              0.7777777777777778,
              "#fb9f3a"
             ],
             [
              0.8888888888888888,
              "#fdca26"
             ],
             [
              1,
              "#f0f921"
             ]
            ],
            "type": "histogram2dcontour"
           }
          ],
          "mesh3d": [
           {
            "colorbar": {
             "outlinewidth": 0,
             "ticks": ""
            },
            "type": "mesh3d"
           }
          ],
          "parcoords": [
           {
            "line": {
             "colorbar": {
              "outlinewidth": 0,
              "ticks": ""
             }
            },
            "type": "parcoords"
           }
          ],
          "pie": [
           {
            "automargin": true,
            "type": "pie"
           }
          ],
          "scatter": [
           {
            "marker": {
             "colorbar": {
              "outlinewidth": 0,
              "ticks": ""
             }
            },
            "type": "scatter"
           }
          ],
          "scatter3d": [
           {
            "line": {
             "colorbar": {
              "outlinewidth": 0,
              "ticks": ""
             }
            },
            "marker": {
             "colorbar": {
              "outlinewidth": 0,
              "ticks": ""
             }
            },
            "type": "scatter3d"
           }
          ],
          "scattercarpet": [
           {
            "marker": {
             "colorbar": {
              "outlinewidth": 0,
              "ticks": ""
             }
            },
            "type": "scattercarpet"
           }
          ],
          "scattergeo": [
           {
            "marker": {
             "colorbar": {
              "outlinewidth": 0,
              "ticks": ""
             }
            },
            "type": "scattergeo"
           }
          ],
          "scattergl": [
           {
            "marker": {
             "colorbar": {
              "outlinewidth": 0,
              "ticks": ""
             }
            },
            "type": "scattergl"
           }
          ],
          "scattermapbox": [
           {
            "marker": {
             "colorbar": {
              "outlinewidth": 0,
              "ticks": ""
             }
            },
            "type": "scattermapbox"
           }
          ],
          "scatterpolar": [
           {
            "marker": {
             "colorbar": {
              "outlinewidth": 0,
              "ticks": ""
             }
            },
            "type": "scatterpolar"
           }
          ],
          "scatterpolargl": [
           {
            "marker": {
             "colorbar": {
              "outlinewidth": 0,
              "ticks": ""
             }
            },
            "type": "scatterpolargl"
           }
          ],
          "scatterternary": [
           {
            "marker": {
             "colorbar": {
              "outlinewidth": 0,
              "ticks": ""
             }
            },
            "type": "scatterternary"
           }
          ],
          "surface": [
           {
            "colorbar": {
             "outlinewidth": 0,
             "ticks": ""
            },
            "colorscale": [
             [
              0,
              "#0d0887"
             ],
             [
              0.1111111111111111,
              "#46039f"
             ],
             [
              0.2222222222222222,
              "#7201a8"
             ],
             [
              0.3333333333333333,
              "#9c179e"
             ],
             [
              0.4444444444444444,
              "#bd3786"
             ],
             [
              0.5555555555555556,
              "#d8576b"
             ],
             [
              0.6666666666666666,
              "#ed7953"
             ],
             [
              0.7777777777777778,
              "#fb9f3a"
             ],
             [
              0.8888888888888888,
              "#fdca26"
             ],
             [
              1,
              "#f0f921"
             ]
            ],
            "type": "surface"
           }
          ],
          "table": [
           {
            "cells": {
             "fill": {
              "color": "#EBF0F8"
             },
             "line": {
              "color": "white"
             }
            },
            "header": {
             "fill": {
              "color": "#C8D4E3"
             },
             "line": {
              "color": "white"
             }
            },
            "type": "table"
           }
          ]
         },
         "layout": {
          "annotationdefaults": {
           "arrowcolor": "#2a3f5f",
           "arrowhead": 0,
           "arrowwidth": 1
          },
          "autotypenumbers": "strict",
          "coloraxis": {
           "colorbar": {
            "outlinewidth": 0,
            "ticks": ""
           }
          },
          "colorscale": {
           "diverging": [
            [
             0,
             "#8e0152"
            ],
            [
             0.1,
             "#c51b7d"
            ],
            [
             0.2,
             "#de77ae"
            ],
            [
             0.3,
             "#f1b6da"
            ],
            [
             0.4,
             "#fde0ef"
            ],
            [
             0.5,
             "#f7f7f7"
            ],
            [
             0.6,
             "#e6f5d0"
            ],
            [
             0.7,
             "#b8e186"
            ],
            [
             0.8,
             "#7fbc41"
            ],
            [
             0.9,
             "#4d9221"
            ],
            [
             1,
             "#276419"
            ]
           ],
           "sequential": [
            [
             0,
             "#0d0887"
            ],
            [
             0.1111111111111111,
             "#46039f"
            ],
            [
             0.2222222222222222,
             "#7201a8"
            ],
            [
             0.3333333333333333,
             "#9c179e"
            ],
            [
             0.4444444444444444,
             "#bd3786"
            ],
            [
             0.5555555555555556,
             "#d8576b"
            ],
            [
             0.6666666666666666,
             "#ed7953"
            ],
            [
             0.7777777777777778,
             "#fb9f3a"
            ],
            [
             0.8888888888888888,
             "#fdca26"
            ],
            [
             1,
             "#f0f921"
            ]
           ],
           "sequentialminus": [
            [
             0,
             "#0d0887"
            ],
            [
             0.1111111111111111,
             "#46039f"
            ],
            [
             0.2222222222222222,
             "#7201a8"
            ],
            [
             0.3333333333333333,
             "#9c179e"
            ],
            [
             0.4444444444444444,
             "#bd3786"
            ],
            [
             0.5555555555555556,
             "#d8576b"
            ],
            [
             0.6666666666666666,
             "#ed7953"
            ],
            [
             0.7777777777777778,
             "#fb9f3a"
            ],
            [
             0.8888888888888888,
             "#fdca26"
            ],
            [
             1,
             "#f0f921"
            ]
           ]
          },
          "colorway": [
           "#636efa",
           "#EF553B",
           "#00cc96",
           "#ab63fa",
           "#FFA15A",
           "#19d3f3",
           "#FF6692",
           "#B6E880",
           "#FF97FF",
           "#FECB52"
          ],
          "font": {
           "color": "#2a3f5f"
          },
          "geo": {
           "bgcolor": "white",
           "lakecolor": "white",
           "landcolor": "#E5ECF6",
           "showlakes": true,
           "showland": true,
           "subunitcolor": "white"
          },
          "hoverlabel": {
           "align": "left"
          },
          "hovermode": "closest",
          "mapbox": {
           "style": "light"
          },
          "paper_bgcolor": "white",
          "plot_bgcolor": "#E5ECF6",
          "polar": {
           "angularaxis": {
            "gridcolor": "white",
            "linecolor": "white",
            "ticks": ""
           },
           "bgcolor": "#E5ECF6",
           "radialaxis": {
            "gridcolor": "white",
            "linecolor": "white",
            "ticks": ""
           }
          },
          "scene": {
           "xaxis": {
            "backgroundcolor": "#E5ECF6",
            "gridcolor": "white",
            "gridwidth": 2,
            "linecolor": "white",
            "showbackground": true,
            "ticks": "",
            "zerolinecolor": "white"
           },
           "yaxis": {
            "backgroundcolor": "#E5ECF6",
            "gridcolor": "white",
            "gridwidth": 2,
            "linecolor": "white",
            "showbackground": true,
            "ticks": "",
            "zerolinecolor": "white"
           },
           "zaxis": {
            "backgroundcolor": "#E5ECF6",
            "gridcolor": "white",
            "gridwidth": 2,
            "linecolor": "white",
            "showbackground": true,
            "ticks": "",
            "zerolinecolor": "white"
           }
          },
          "shapedefaults": {
           "line": {
            "color": "#2a3f5f"
           }
          },
          "ternary": {
           "aaxis": {
            "gridcolor": "white",
            "linecolor": "white",
            "ticks": ""
           },
           "baxis": {
            "gridcolor": "white",
            "linecolor": "white",
            "ticks": ""
           },
           "bgcolor": "#E5ECF6",
           "caxis": {
            "gridcolor": "white",
            "linecolor": "white",
            "ticks": ""
           }
          },
          "title": {
           "x": 0.05
          },
          "xaxis": {
           "automargin": true,
           "gridcolor": "white",
           "linecolor": "white",
           "ticks": "",
           "title": {
            "standoff": 15
           },
           "zerolinecolor": "white",
           "zerolinewidth": 2
          },
          "yaxis": {
           "automargin": true,
           "gridcolor": "white",
           "linecolor": "white",
           "ticks": "",
           "title": {
            "standoff": 15
           },
           "zerolinecolor": "white",
           "zerolinewidth": 2
          }
         }
        },
        "title": {
         "text": "Rompimento7Dias x Rompimento 28 Dias"
        },
        "xaxis": {
         "anchor": "y",
         "domain": [
          0,
          1
         ],
         "title": {
          "text": "RelacaoAguaCimento"
         }
        },
        "yaxis": {
         "anchor": "x",
         "domain": [
          0,
          1
         ],
         "title": {
          "text": "Rompimento28Dias"
         }
        }
       }
      },
      "text/html": [
       "<div>                            <div id=\"005ce106-62d8-4d91-b6ca-a98ddbf0600f\" class=\"plotly-graph-div\" style=\"height:525px; width:100%;\"></div>            <script type=\"text/javascript\">                require([\"plotly\"], function(Plotly) {                    window.PLOTLYENV=window.PLOTLYENV || {};                                    if (document.getElementById(\"005ce106-62d8-4d91-b6ca-a98ddbf0600f\")) {                    Plotly.newPlot(                        \"005ce106-62d8-4d91-b6ca-a98ddbf0600f\",                        [{\"hovertemplate\": \"RelacaoAguaCimento=%{x}<br>Rompimento28Dias=%{y}<extra></extra>\", \"legendgroup\": \"\", \"marker\": {\"color\": \"#636efa\", \"symbol\": \"circle\"}, \"mode\": \"markers\", \"name\": \"\", \"orientation\": \"v\", \"showlegend\": false, \"type\": \"scatter\", \"x\": [0.5386740331491713, 0.5282485875706214, 0.5338983050847458, 0.53954802259887, 0.5338983050847458, 0.5338983050847458, 0.5338983050847458, 0.5338983050847458, 0.5338983050847458, 0.4932975871313673, 0.4932975871313673, 0.4932975871313673, 0.4932975871313673, 0.4932975871313673, 0.4932975871313673, 0.4423592493297587, 0.4060913705583756, 0.4060913705583756, 0.6182572614107884, 0.6182572614107884, 0.4060913705583756, 0.4060913705583756, 0.4060913705583756, 0.4342053885201093, 0.44416243654822335, 0.4060913705583756, 0.6182572614107884, 0.4289340101522842, 0.4340101522842639, 0.6016597510373445, 0.4340101522842639, 0.6182572614107884, 0.4340101522842639, 0.434010152284264, 0.4060913705583756, 0.4060913705583756, 0.5376712328767124, 0.4937106918238994, 0.4937106918238994, 0.475, 0.5709342560553633, 0.5709342560553633, 0.5709342560553633, 0.5682656826568266, 0.5175000000000001, 0.5125, 0.5125, 0.5225000000000001, 0.5359712230215827, 0.4925, 0.5225000000000001, 0.5225000000000001, 0.5225000000000001, 0.4925, 0.5, 0.41116751269035534, 0.4925, 0.4925, 0.4925, 0.5605536332179931], \"xaxis\": \"x\", \"y\": [35.08, 31.9, 30.93, 30.6, 30.3, 31.02, 30.83, 31.3, 30.6, 32.41, 33.9, 32.14, 32.47, 33.52, 32.83, 35.01, 43.52, 44.21, 25.32, 26.27, 44.6, 42.89, 38.14, 33.43, 46.48, 45.48, 25.46, 46.74, 42.62, 30.02, 46.78, 28.11, 46.6, 46.46, 41.84, 38.95, 36.56, 37.64, 38.37, 34.09, 26.67, 24.99, 26.77, 27.27, 31.18, 38.51, 39.11, 40.86, 29.67, 43.15, 43.12, 39.79, 38.92, 38.18, 42.29, 45.71, 37.24, 33.2, 34.45, 29.5], \"yaxis\": \"y\"}],                        {\"legend\": {\"tracegroupgap\": 0}, \"template\": {\"data\": {\"bar\": [{\"error_x\": {\"color\": \"#2a3f5f\"}, \"error_y\": {\"color\": \"#2a3f5f\"}, \"marker\": {\"line\": {\"color\": \"#E5ECF6\", \"width\": 0.5}}, \"type\": \"bar\"}], \"barpolar\": [{\"marker\": {\"line\": {\"color\": \"#E5ECF6\", \"width\": 0.5}}, \"type\": \"barpolar\"}], \"carpet\": [{\"aaxis\": {\"endlinecolor\": \"#2a3f5f\", \"gridcolor\": \"white\", \"linecolor\": \"white\", \"minorgridcolor\": \"white\", \"startlinecolor\": \"#2a3f5f\"}, \"baxis\": {\"endlinecolor\": \"#2a3f5f\", \"gridcolor\": \"white\", \"linecolor\": \"white\", \"minorgridcolor\": \"white\", \"startlinecolor\": \"#2a3f5f\"}, \"type\": \"carpet\"}], \"choropleth\": [{\"colorbar\": {\"outlinewidth\": 0, \"ticks\": \"\"}, \"type\": \"choropleth\"}], \"contour\": [{\"colorbar\": {\"outlinewidth\": 0, \"ticks\": \"\"}, \"colorscale\": [[0.0, \"#0d0887\"], [0.1111111111111111, \"#46039f\"], [0.2222222222222222, \"#7201a8\"], [0.3333333333333333, \"#9c179e\"], [0.4444444444444444, \"#bd3786\"], [0.5555555555555556, \"#d8576b\"], [0.6666666666666666, \"#ed7953\"], [0.7777777777777778, \"#fb9f3a\"], [0.8888888888888888, \"#fdca26\"], [1.0, \"#f0f921\"]], \"type\": \"contour\"}], \"contourcarpet\": [{\"colorbar\": {\"outlinewidth\": 0, \"ticks\": \"\"}, \"type\": \"contourcarpet\"}], \"heatmap\": [{\"colorbar\": {\"outlinewidth\": 0, \"ticks\": \"\"}, \"colorscale\": [[0.0, \"#0d0887\"], [0.1111111111111111, \"#46039f\"], [0.2222222222222222, \"#7201a8\"], [0.3333333333333333, \"#9c179e\"], [0.4444444444444444, \"#bd3786\"], [0.5555555555555556, \"#d8576b\"], [0.6666666666666666, \"#ed7953\"], [0.7777777777777778, \"#fb9f3a\"], [0.8888888888888888, \"#fdca26\"], [1.0, \"#f0f921\"]], \"type\": \"heatmap\"}], \"heatmapgl\": [{\"colorbar\": {\"outlinewidth\": 0, \"ticks\": \"\"}, \"colorscale\": [[0.0, \"#0d0887\"], [0.1111111111111111, \"#46039f\"], [0.2222222222222222, \"#7201a8\"], [0.3333333333333333, \"#9c179e\"], [0.4444444444444444, \"#bd3786\"], [0.5555555555555556, \"#d8576b\"], [0.6666666666666666, \"#ed7953\"], [0.7777777777777778, \"#fb9f3a\"], [0.8888888888888888, \"#fdca26\"], [1.0, \"#f0f921\"]], \"type\": \"heatmapgl\"}], \"histogram\": [{\"marker\": {\"colorbar\": {\"outlinewidth\": 0, \"ticks\": \"\"}}, \"type\": \"histogram\"}], \"histogram2d\": [{\"colorbar\": {\"outlinewidth\": 0, \"ticks\": \"\"}, \"colorscale\": [[0.0, \"#0d0887\"], [0.1111111111111111, \"#46039f\"], [0.2222222222222222, \"#7201a8\"], [0.3333333333333333, \"#9c179e\"], [0.4444444444444444, \"#bd3786\"], [0.5555555555555556, \"#d8576b\"], [0.6666666666666666, \"#ed7953\"], [0.7777777777777778, \"#fb9f3a\"], [0.8888888888888888, \"#fdca26\"], [1.0, \"#f0f921\"]], \"type\": \"histogram2d\"}], \"histogram2dcontour\": [{\"colorbar\": {\"outlinewidth\": 0, \"ticks\": \"\"}, \"colorscale\": [[0.0, \"#0d0887\"], [0.1111111111111111, \"#46039f\"], [0.2222222222222222, \"#7201a8\"], [0.3333333333333333, \"#9c179e\"], [0.4444444444444444, \"#bd3786\"], [0.5555555555555556, \"#d8576b\"], [0.6666666666666666, \"#ed7953\"], [0.7777777777777778, \"#fb9f3a\"], [0.8888888888888888, \"#fdca26\"], [1.0, \"#f0f921\"]], \"type\": \"histogram2dcontour\"}], \"mesh3d\": [{\"colorbar\": {\"outlinewidth\": 0, \"ticks\": \"\"}, \"type\": \"mesh3d\"}], \"parcoords\": [{\"line\": {\"colorbar\": {\"outlinewidth\": 0, \"ticks\": \"\"}}, \"type\": \"parcoords\"}], \"pie\": [{\"automargin\": true, \"type\": \"pie\"}], \"scatter\": [{\"marker\": {\"colorbar\": {\"outlinewidth\": 0, \"ticks\": \"\"}}, \"type\": \"scatter\"}], \"scatter3d\": [{\"line\": {\"colorbar\": {\"outlinewidth\": 0, \"ticks\": \"\"}}, \"marker\": {\"colorbar\": {\"outlinewidth\": 0, \"ticks\": \"\"}}, \"type\": \"scatter3d\"}], \"scattercarpet\": [{\"marker\": {\"colorbar\": {\"outlinewidth\": 0, \"ticks\": \"\"}}, \"type\": \"scattercarpet\"}], \"scattergeo\": [{\"marker\": {\"colorbar\": {\"outlinewidth\": 0, \"ticks\": \"\"}}, \"type\": \"scattergeo\"}], \"scattergl\": [{\"marker\": {\"colorbar\": {\"outlinewidth\": 0, \"ticks\": \"\"}}, \"type\": \"scattergl\"}], \"scattermapbox\": [{\"marker\": {\"colorbar\": {\"outlinewidth\": 0, \"ticks\": \"\"}}, \"type\": \"scattermapbox\"}], \"scatterpolar\": [{\"marker\": {\"colorbar\": {\"outlinewidth\": 0, \"ticks\": \"\"}}, \"type\": \"scatterpolar\"}], \"scatterpolargl\": [{\"marker\": {\"colorbar\": {\"outlinewidth\": 0, \"ticks\": \"\"}}, \"type\": \"scatterpolargl\"}], \"scatterternary\": [{\"marker\": {\"colorbar\": {\"outlinewidth\": 0, \"ticks\": \"\"}}, \"type\": \"scatterternary\"}], \"surface\": [{\"colorbar\": {\"outlinewidth\": 0, \"ticks\": \"\"}, \"colorscale\": [[0.0, \"#0d0887\"], [0.1111111111111111, \"#46039f\"], [0.2222222222222222, \"#7201a8\"], [0.3333333333333333, \"#9c179e\"], [0.4444444444444444, \"#bd3786\"], [0.5555555555555556, \"#d8576b\"], [0.6666666666666666, \"#ed7953\"], [0.7777777777777778, \"#fb9f3a\"], [0.8888888888888888, \"#fdca26\"], [1.0, \"#f0f921\"]], \"type\": \"surface\"}], \"table\": [{\"cells\": {\"fill\": {\"color\": \"#EBF0F8\"}, \"line\": {\"color\": \"white\"}}, \"header\": {\"fill\": {\"color\": \"#C8D4E3\"}, \"line\": {\"color\": \"white\"}}, \"type\": \"table\"}]}, \"layout\": {\"annotationdefaults\": {\"arrowcolor\": \"#2a3f5f\", \"arrowhead\": 0, \"arrowwidth\": 1}, \"autotypenumbers\": \"strict\", \"coloraxis\": {\"colorbar\": {\"outlinewidth\": 0, \"ticks\": \"\"}}, \"colorscale\": {\"diverging\": [[0, \"#8e0152\"], [0.1, \"#c51b7d\"], [0.2, \"#de77ae\"], [0.3, \"#f1b6da\"], [0.4, \"#fde0ef\"], [0.5, \"#f7f7f7\"], [0.6, \"#e6f5d0\"], [0.7, \"#b8e186\"], [0.8, \"#7fbc41\"], [0.9, \"#4d9221\"], [1, \"#276419\"]], \"sequential\": [[0.0, \"#0d0887\"], [0.1111111111111111, \"#46039f\"], [0.2222222222222222, \"#7201a8\"], [0.3333333333333333, \"#9c179e\"], [0.4444444444444444, \"#bd3786\"], [0.5555555555555556, \"#d8576b\"], [0.6666666666666666, \"#ed7953\"], [0.7777777777777778, \"#fb9f3a\"], [0.8888888888888888, \"#fdca26\"], [1.0, \"#f0f921\"]], \"sequentialminus\": [[0.0, \"#0d0887\"], [0.1111111111111111, \"#46039f\"], [0.2222222222222222, \"#7201a8\"], [0.3333333333333333, \"#9c179e\"], [0.4444444444444444, \"#bd3786\"], [0.5555555555555556, \"#d8576b\"], [0.6666666666666666, \"#ed7953\"], [0.7777777777777778, \"#fb9f3a\"], [0.8888888888888888, \"#fdca26\"], [1.0, \"#f0f921\"]]}, \"colorway\": [\"#636efa\", \"#EF553B\", \"#00cc96\", \"#ab63fa\", \"#FFA15A\", \"#19d3f3\", \"#FF6692\", \"#B6E880\", \"#FF97FF\", \"#FECB52\"], \"font\": {\"color\": \"#2a3f5f\"}, \"geo\": {\"bgcolor\": \"white\", \"lakecolor\": \"white\", \"landcolor\": \"#E5ECF6\", \"showlakes\": true, \"showland\": true, \"subunitcolor\": \"white\"}, \"hoverlabel\": {\"align\": \"left\"}, \"hovermode\": \"closest\", \"mapbox\": {\"style\": \"light\"}, \"paper_bgcolor\": \"white\", \"plot_bgcolor\": \"#E5ECF6\", \"polar\": {\"angularaxis\": {\"gridcolor\": \"white\", \"linecolor\": \"white\", \"ticks\": \"\"}, \"bgcolor\": \"#E5ECF6\", \"radialaxis\": {\"gridcolor\": \"white\", \"linecolor\": \"white\", \"ticks\": \"\"}}, \"scene\": {\"xaxis\": {\"backgroundcolor\": \"#E5ECF6\", \"gridcolor\": \"white\", \"gridwidth\": 2, \"linecolor\": \"white\", \"showbackground\": true, \"ticks\": \"\", \"zerolinecolor\": \"white\"}, \"yaxis\": {\"backgroundcolor\": \"#E5ECF6\", \"gridcolor\": \"white\", \"gridwidth\": 2, \"linecolor\": \"white\", \"showbackground\": true, \"ticks\": \"\", \"zerolinecolor\": \"white\"}, \"zaxis\": {\"backgroundcolor\": \"#E5ECF6\", \"gridcolor\": \"white\", \"gridwidth\": 2, \"linecolor\": \"white\", \"showbackground\": true, \"ticks\": \"\", \"zerolinecolor\": \"white\"}}, \"shapedefaults\": {\"line\": {\"color\": \"#2a3f5f\"}}, \"ternary\": {\"aaxis\": {\"gridcolor\": \"white\", \"linecolor\": \"white\", \"ticks\": \"\"}, \"baxis\": {\"gridcolor\": \"white\", \"linecolor\": \"white\", \"ticks\": \"\"}, \"bgcolor\": \"#E5ECF6\", \"caxis\": {\"gridcolor\": \"white\", \"linecolor\": \"white\", \"ticks\": \"\"}}, \"title\": {\"x\": 0.05}, \"xaxis\": {\"automargin\": true, \"gridcolor\": \"white\", \"linecolor\": \"white\", \"ticks\": \"\", \"title\": {\"standoff\": 15}, \"zerolinecolor\": \"white\", \"zerolinewidth\": 2}, \"yaxis\": {\"automargin\": true, \"gridcolor\": \"white\", \"linecolor\": \"white\", \"ticks\": \"\", \"title\": {\"standoff\": 15}, \"zerolinecolor\": \"white\", \"zerolinewidth\": 2}}}, \"title\": {\"text\": \"Rompimento7Dias x Rompimento 28 Dias\"}, \"xaxis\": {\"anchor\": \"y\", \"domain\": [0.0, 1.0], \"title\": {\"text\": \"RelacaoAguaCimento\"}}, \"yaxis\": {\"anchor\": \"x\", \"domain\": [0.0, 1.0], \"title\": {\"text\": \"Rompimento28Dias\"}}},                        {\"responsive\": true}                    ).then(function(){\n",
       "                            \n",
       "var gd = document.getElementById('005ce106-62d8-4d91-b6ca-a98ddbf0600f');\n",
       "var x = new MutationObserver(function (mutations, observer) {{\n",
       "        var display = window.getComputedStyle(gd).display;\n",
       "        if (!display || display === 'none') {{\n",
       "            console.log([gd, 'removed!']);\n",
       "            Plotly.purge(gd);\n",
       "            observer.disconnect();\n",
       "        }}\n",
       "}});\n",
       "\n",
       "// Listen for the removal of the full notebook cells\n",
       "var notebookContainer = gd.closest('#notebook-container');\n",
       "if (notebookContainer) {{\n",
       "    x.observe(notebookContainer, {childList: true});\n",
       "}}\n",
       "\n",
       "// Listen for the clearing of the current output cell\n",
       "var outputEl = gd.closest('.output');\n",
       "if (outputEl) {{\n",
       "    x.observe(outputEl, {childList: true});\n",
       "}}\n",
       "\n",
       "                        })                };                });            </script>        </div>"
      ]
     },
     "metadata": {},
     "output_type": "display_data"
    }
   ],
   "source": [
    "fig = px.scatter(df_treino, x=\"RelacaoAguaCimento\", y=\"Rompimento28Dias\", title='Rompimento7Dias x Rompimento 28 Dias')\n",
    "fig.show()"
   ]
  },
  {
   "cell_type": "code",
   "execution_count": 1749,
   "metadata": {},
   "outputs": [
    {
     "ename": "NameError",
     "evalue": "name 'CodigoReceita' is not defined",
     "output_type": "error",
     "traceback": [
      "\u001b[0;31m---------------------------------------------------------------------------\u001b[0m",
      "\u001b[0;31mNameError\u001b[0m                                 Traceback (most recent call last)",
      "\u001b[0;32m<ipython-input-1749-820186ab0443>\u001b[0m in \u001b[0;36m<module>\u001b[0;34m\u001b[0m\n\u001b[0;32m----> 1\u001b[0;31m \u001b[0mCodigoReceita\u001b[0m \u001b[0;34m-\u001b[0m \u001b[0mindefinido\u001b[0m\u001b[0;34m\u001b[0m\u001b[0;34m\u001b[0m\u001b[0m\n\u001b[0m\u001b[1;32m      2\u001b[0m \u001b[0mVolume\u001b[0m \u001b[0;34m-\u001b[0m \u001b[0mnão\u001b[0m\u001b[0;34m\u001b[0m\u001b[0;34m\u001b[0m\u001b[0m\n\u001b[1;32m      3\u001b[0m \u001b[0mTipoLancamento\u001b[0m \u001b[0;34m-\u001b[0m \u001b[0mnão\u001b[0m\u001b[0;34m\u001b[0m\u001b[0;34m\u001b[0m\u001b[0m\n\u001b[1;32m      4\u001b[0m \u001b[0mCodigoCliente\u001b[0m \u001b[0;34m-\u001b[0m \u001b[0mnão\u001b[0m\u001b[0;34m\u001b[0m\u001b[0;34m\u001b[0m\u001b[0m\n\u001b[1;32m      5\u001b[0m \u001b[0mCodigoMotorista\u001b[0m \u001b[0;34m-\u001b[0m \u001b[0mnão\u001b[0m\u001b[0;34m\u001b[0m\u001b[0;34m\u001b[0m\u001b[0m\n",
      "\u001b[0;31mNameError\u001b[0m: name 'CodigoReceita' is not defined"
     ]
    }
   ],
   "source": [
    "CodigoReceita - indefinido\n",
    "Volume - não\n",
    "TipoLancamento - não\n",
    "CodigoCliente - não\n",
    "CodigoMotorista - não\n",
    "TempoPermanenciaObra - indefinido\n",
    "ConsumoTotal - não\n",
    "TipoTraco - sim\n",
    "Rompimento7Dias - sim\n",
    "ConsumoPorM3 - sim\n",
    "DesvioAplicado - sim\n",
    "RelacaoAguaCimento - sim\n"
   ]
  },
  {
   "cell_type": "code",
   "execution_count": 1750,
   "metadata": {},
   "outputs": [
    {
     "ename": "SyntaxError",
     "evalue": "invalid syntax (<ipython-input-1750-c3d40928f3c6>, line 1)",
     "output_type": "error",
     "traceback": [
      "\u001b[0;36m  File \u001b[0;32m\"<ipython-input-1750-c3d40928f3c6>\"\u001b[0;36m, line \u001b[0;32m1\u001b[0m\n\u001b[0;31m    CodigoReceita\tVolume\tTipoLancamento\tDataEmissaoNotaFiscal\tCodigoCliente\tCodigoMotorista\tTempoPermanenciaObra\tConsumoTotal\tIdade\tTipoTraco\t...\tRompimento7Dias\tRompimento28Dias\tConsumoPorM3\tDesvioAplicado\tResultadoProjetado\tPercentualCrescimentoReal\tPercentualCrescimentoProjetado\tRelacaoAguaCimento\tDataProjecao\tLogRompimento7Dias\u001b[0m\n\u001b[0m                 \t^\u001b[0m\n\u001b[0;31mSyntaxError\u001b[0m\u001b[0;31m:\u001b[0m invalid syntax\n"
     ]
    }
   ],
   "source": [
    "CodigoReceita\tVolume\tTipoLancamento\tDataEmissaoNotaFiscal\tCodigoCliente\tCodigoMotorista\tTempoPermanenciaObra\tConsumoTotal\tIdade\tTipoTraco\t...\tRompimento7Dias\tRompimento28Dias\tConsumoPorM3\tDesvioAplicado\tResultadoProjetado\tPercentualCrescimentoReal\tPercentualCrescimentoProjetado\tRelacaoAguaCimento\tDataProjecao\tLogRompimento7Dias"
   ]
  },
  {
   "cell_type": "code",
   "execution_count": 1751,
   "metadata": {},
   "outputs": [
    {
     "data": {
      "text/html": [
       "<div>\n",
       "<style scoped>\n",
       "    .dataframe tbody tr th:only-of-type {\n",
       "        vertical-align: middle;\n",
       "    }\n",
       "\n",
       "    .dataframe tbody tr th {\n",
       "        vertical-align: top;\n",
       "    }\n",
       "\n",
       "    .dataframe thead th {\n",
       "        text-align: right;\n",
       "    }\n",
       "</style>\n",
       "<table border=\"1\" class=\"dataframe\">\n",
       "  <thead>\n",
       "    <tr style=\"text-align: right;\">\n",
       "      <th></th>\n",
       "      <th>CodigoNotaFiscal</th>\n",
       "      <th>CodigoCentroSaida</th>\n",
       "      <th>CodigoReceita</th>\n",
       "      <th>Volume</th>\n",
       "      <th>TipoLancamento</th>\n",
       "      <th>CodigoCliente</th>\n",
       "      <th>CodigoMotorista</th>\n",
       "      <th>QuantidadeAgua</th>\n",
       "      <th>ConsumoTotal</th>\n",
       "      <th>Idade</th>\n",
       "      <th>...</th>\n",
       "      <th>Rompimento7Dias</th>\n",
       "      <th>Rompimento28Dias</th>\n",
       "      <th>ConsumoPorM3</th>\n",
       "      <th>DesvioAplicado</th>\n",
       "      <th>ResultadoEsperado</th>\n",
       "      <th>ResultadoProjetado</th>\n",
       "      <th>PercentualCrescimentoReal</th>\n",
       "      <th>PercentualCrescimentoProjetado</th>\n",
       "      <th>RelacaoAguaCimento</th>\n",
       "      <th>LogRompimento7Dias</th>\n",
       "    </tr>\n",
       "  </thead>\n",
       "  <tbody>\n",
       "    <tr>\n",
       "      <th>count</th>\n",
       "      <td>12.000000</td>\n",
       "      <td>12.0</td>\n",
       "      <td>1.200000e+01</td>\n",
       "      <td>12.000000</td>\n",
       "      <td>12.000000</td>\n",
       "      <td>1.200000e+01</td>\n",
       "      <td>12.000000</td>\n",
       "      <td>12.000000</td>\n",
       "      <td>12.000000</td>\n",
       "      <td>12.0</td>\n",
       "      <td>...</td>\n",
       "      <td>12.000000</td>\n",
       "      <td>12.000000</td>\n",
       "      <td>12.000000</td>\n",
       "      <td>12.000000</td>\n",
       "      <td>12.000000</td>\n",
       "      <td>12.000000</td>\n",
       "      <td>12.000000</td>\n",
       "      <td>12.000000</td>\n",
       "      <td>12.000000</td>\n",
       "      <td>12.000000</td>\n",
       "    </tr>\n",
       "    <tr>\n",
       "      <th>mean</th>\n",
       "      <td>470964.166667</td>\n",
       "      <td>51020.0</td>\n",
       "      <td>3.461497e+07</td>\n",
       "      <td>6.416667</td>\n",
       "      <td>0.583333</td>\n",
       "      <td>5.797562e+07</td>\n",
       "      <td>269479.416667</td>\n",
       "      <td>100.983333</td>\n",
       "      <td>206.529167</td>\n",
       "      <td>28.0</td>\n",
       "      <td>...</td>\n",
       "      <td>24.344167</td>\n",
       "      <td>31.442500</td>\n",
       "      <td>322.416667</td>\n",
       "      <td>6.666667</td>\n",
       "      <td>50.532180</td>\n",
       "      <td>31.531245</td>\n",
       "      <td>30.528079</td>\n",
       "      <td>29.899877</td>\n",
       "      <td>0.490278</td>\n",
       "      <td>3.185135</td>\n",
       "    </tr>\n",
       "    <tr>\n",
       "      <th>std</th>\n",
       "      <td>161.593673</td>\n",
       "      <td>0.0</td>\n",
       "      <td>2.615400e+05</td>\n",
       "      <td>1.183856</td>\n",
       "      <td>0.514929</td>\n",
       "      <td>9.818672e+07</td>\n",
       "      <td>240155.457131</td>\n",
       "      <td>25.095883</td>\n",
       "      <td>52.329891</td>\n",
       "      <td>0.0</td>\n",
       "      <td>...</td>\n",
       "      <td>2.928287</td>\n",
       "      <td>2.661316</td>\n",
       "      <td>57.750967</td>\n",
       "      <td>0.984732</td>\n",
       "      <td>3.179933</td>\n",
       "      <td>3.048375</td>\n",
       "      <td>16.117146</td>\n",
       "      <td>3.433480</td>\n",
       "      <td>0.034107</td>\n",
       "      <td>0.127639</td>\n",
       "    </tr>\n",
       "    <tr>\n",
       "      <th>min</th>\n",
       "      <td>470729.000000</td>\n",
       "      <td>51020.0</td>\n",
       "      <td>3.409705e+07</td>\n",
       "      <td>5.000000</td>\n",
       "      <td>0.000000</td>\n",
       "      <td>5.000510e+05</td>\n",
       "      <td>12080.000000</td>\n",
       "      <td>69.000000</td>\n",
       "      <td>136.000000</td>\n",
       "      <td>28.0</td>\n",
       "      <td>...</td>\n",
       "      <td>17.630000</td>\n",
       "      <td>28.500000</td>\n",
       "      <td>241.000000</td>\n",
       "      <td>6.000000</td>\n",
       "      <td>44.287966</td>\n",
       "      <td>24.397753</td>\n",
       "      <td>13.410267</td>\n",
       "      <td>25.345157</td>\n",
       "      <td>0.430348</td>\n",
       "      <td>2.869602</td>\n",
       "    </tr>\n",
       "    <tr>\n",
       "      <th>25%</th>\n",
       "      <td>470845.500000</td>\n",
       "      <td>51020.0</td>\n",
       "      <td>3.440805e+07</td>\n",
       "      <td>5.000000</td>\n",
       "      <td>0.000000</td>\n",
       "      <td>1.629051e+06</td>\n",
       "      <td>63079.000000</td>\n",
       "      <td>75.500000</td>\n",
       "      <td>162.500000</td>\n",
       "      <td>28.0</td>\n",
       "      <td>...</td>\n",
       "      <td>22.790000</td>\n",
       "      <td>30.327500</td>\n",
       "      <td>272.000000</td>\n",
       "      <td>6.000000</td>\n",
       "      <td>48.613729</td>\n",
       "      <td>29.964479</td>\n",
       "      <td>19.003263</td>\n",
       "      <td>28.012775</td>\n",
       "      <td>0.464615</td>\n",
       "      <td>3.126280</td>\n",
       "    </tr>\n",
       "    <tr>\n",
       "      <th>50%</th>\n",
       "      <td>470947.000000</td>\n",
       "      <td>51020.0</td>\n",
       "      <td>3.464205e+07</td>\n",
       "      <td>6.750000</td>\n",
       "      <td>1.000000</td>\n",
       "      <td>2.013051e+06</td>\n",
       "      <td>224051.000000</td>\n",
       "      <td>102.800000</td>\n",
       "      <td>198.400000</td>\n",
       "      <td>28.0</td>\n",
       "      <td>...</td>\n",
       "      <td>24.605000</td>\n",
       "      <td>30.795000</td>\n",
       "      <td>325.000000</td>\n",
       "      <td>6.000000</td>\n",
       "      <td>51.174910</td>\n",
       "      <td>31.843951</td>\n",
       "      <td>29.791632</td>\n",
       "      <td>29.420659</td>\n",
       "      <td>0.482500</td>\n",
       "      <td>3.202949</td>\n",
       "    </tr>\n",
       "    <tr>\n",
       "      <th>75%</th>\n",
       "      <td>471097.250000</td>\n",
       "      <td>51020.0</td>\n",
       "      <td>3.490705e+07</td>\n",
       "      <td>7.125000</td>\n",
       "      <td>1.000000</td>\n",
       "      <td>6.257954e+07</td>\n",
       "      <td>419051.000000</td>\n",
       "      <td>118.375000</td>\n",
       "      <td>247.937500</td>\n",
       "      <td>28.0</td>\n",
       "      <td>...</td>\n",
       "      <td>25.927500</td>\n",
       "      <td>31.697500</td>\n",
       "      <td>373.750000</td>\n",
       "      <td>8.000000</td>\n",
       "      <td>52.906840</td>\n",
       "      <td>33.190275</td>\n",
       "      <td>36.155958</td>\n",
       "      <td>31.483069</td>\n",
       "      <td>0.510110</td>\n",
       "      <td>3.255287</td>\n",
       "    </tr>\n",
       "    <tr>\n",
       "      <th>max</th>\n",
       "      <td>471189.000000</td>\n",
       "      <td>51020.0</td>\n",
       "      <td>3.490705e+07</td>\n",
       "      <td>8.000000</td>\n",
       "      <td>1.000000</td>\n",
       "      <td>2.230220e+08</td>\n",
       "      <td>731051.000000</td>\n",
       "      <td>135.100000</td>\n",
       "      <td>280.000000</td>\n",
       "      <td>28.0</td>\n",
       "      <td>...</td>\n",
       "      <td>28.630000</td>\n",
       "      <td>39.120000</td>\n",
       "      <td>400.000000</td>\n",
       "      <td>8.000000</td>\n",
       "      <td>56.390727</td>\n",
       "      <td>35.886319</td>\n",
       "      <td>73.454339</td>\n",
       "      <td>38.387706</td>\n",
       "      <td>0.560166</td>\n",
       "      <td>3.354455</td>\n",
       "    </tr>\n",
       "  </tbody>\n",
       "</table>\n",
       "<p>8 rows × 23 columns</p>\n",
       "</div>"
      ],
      "text/plain": [
       "       CodigoNotaFiscal  CodigoCentroSaida  CodigoReceita     Volume  \\\n",
       "count         12.000000               12.0   1.200000e+01  12.000000   \n",
       "mean      470964.166667            51020.0   3.461497e+07   6.416667   \n",
       "std          161.593673                0.0   2.615400e+05   1.183856   \n",
       "min       470729.000000            51020.0   3.409705e+07   5.000000   \n",
       "25%       470845.500000            51020.0   3.440805e+07   5.000000   \n",
       "50%       470947.000000            51020.0   3.464205e+07   6.750000   \n",
       "75%       471097.250000            51020.0   3.490705e+07   7.125000   \n",
       "max       471189.000000            51020.0   3.490705e+07   8.000000   \n",
       "\n",
       "       TipoLancamento  CodigoCliente  CodigoMotorista  QuantidadeAgua  \\\n",
       "count       12.000000   1.200000e+01        12.000000       12.000000   \n",
       "mean         0.583333   5.797562e+07    269479.416667      100.983333   \n",
       "std          0.514929   9.818672e+07    240155.457131       25.095883   \n",
       "min          0.000000   5.000510e+05     12080.000000       69.000000   \n",
       "25%          0.000000   1.629051e+06     63079.000000       75.500000   \n",
       "50%          1.000000   2.013051e+06    224051.000000      102.800000   \n",
       "75%          1.000000   6.257954e+07    419051.000000      118.375000   \n",
       "max          1.000000   2.230220e+08    731051.000000      135.100000   \n",
       "\n",
       "       ConsumoTotal  Idade  ...  Rompimento7Dias  Rompimento28Dias  \\\n",
       "count     12.000000   12.0  ...        12.000000         12.000000   \n",
       "mean     206.529167   28.0  ...        24.344167         31.442500   \n",
       "std       52.329891    0.0  ...         2.928287          2.661316   \n",
       "min      136.000000   28.0  ...        17.630000         28.500000   \n",
       "25%      162.500000   28.0  ...        22.790000         30.327500   \n",
       "50%      198.400000   28.0  ...        24.605000         30.795000   \n",
       "75%      247.937500   28.0  ...        25.927500         31.697500   \n",
       "max      280.000000   28.0  ...        28.630000         39.120000   \n",
       "\n",
       "       ConsumoPorM3  DesvioAplicado  ResultadoEsperado  ResultadoProjetado  \\\n",
       "count     12.000000       12.000000          12.000000           12.000000   \n",
       "mean     322.416667        6.666667          50.532180           31.531245   \n",
       "std       57.750967        0.984732           3.179933            3.048375   \n",
       "min      241.000000        6.000000          44.287966           24.397753   \n",
       "25%      272.000000        6.000000          48.613729           29.964479   \n",
       "50%      325.000000        6.000000          51.174910           31.843951   \n",
       "75%      373.750000        8.000000          52.906840           33.190275   \n",
       "max      400.000000        8.000000          56.390727           35.886319   \n",
       "\n",
       "       PercentualCrescimentoReal  PercentualCrescimentoProjetado  \\\n",
       "count                  12.000000                       12.000000   \n",
       "mean                   30.528079                       29.899877   \n",
       "std                    16.117146                        3.433480   \n",
       "min                    13.410267                       25.345157   \n",
       "25%                    19.003263                       28.012775   \n",
       "50%                    29.791632                       29.420659   \n",
       "75%                    36.155958                       31.483069   \n",
       "max                    73.454339                       38.387706   \n",
       "\n",
       "       RelacaoAguaCimento  LogRompimento7Dias  \n",
       "count           12.000000           12.000000  \n",
       "mean             0.490278            3.185135  \n",
       "std              0.034107            0.127639  \n",
       "min              0.430348            2.869602  \n",
       "25%              0.464615            3.126280  \n",
       "50%              0.482500            3.202949  \n",
       "75%              0.510110            3.255287  \n",
       "max              0.560166            3.354455  \n",
       "\n",
       "[8 rows x 23 columns]"
      ]
     },
     "execution_count": 1751,
     "metadata": {},
     "output_type": "execute_result"
    }
   ],
   "source": [
    "indices_teste = x_test.index\n",
    "df_teste = dados_aglomerante.loc[indices_teste]\n",
    "df_teste.describe()"
   ]
  },
  {
   "cell_type": "code",
   "execution_count": 1752,
   "metadata": {},
   "outputs": [
    {
     "data": {
      "application/vnd.plotly.v1+json": {
       "config": {
        "plotlyServerURL": "https://plot.ly"
       },
       "data": [
        {
         "hovertemplate": "ConsumoPorM3=%{x}<br>Rompimento7Dias=%{y}<extra></extra>",
         "legendgroup": "",
         "marker": {
          "color": "#636efa",
          "symbol": "circle"
         },
         "mode": "markers",
         "name": "",
         "orientation": "v",
         "showlegend": false,
         "type": "scatter",
         "x": [
          400,
          400,
          400,
          365,
          241,
          325,
          325,
          325,
          272,
          272,
          272,
          272
         ],
         "xaxis": "x",
         "y": [
          24.62,
          22.42,
          22.43,
          28.63,
          17.63,
          28.15,
          25.84,
          26.19,
          22.91,
          23.59,
          25.13,
          24.59
         ],
         "yaxis": "y"
        }
       ],
       "layout": {
        "legend": {
         "tracegroupgap": 0
        },
        "template": {
         "data": {
          "bar": [
           {
            "error_x": {
             "color": "#2a3f5f"
            },
            "error_y": {
             "color": "#2a3f5f"
            },
            "marker": {
             "line": {
              "color": "#E5ECF6",
              "width": 0.5
             }
            },
            "type": "bar"
           }
          ],
          "barpolar": [
           {
            "marker": {
             "line": {
              "color": "#E5ECF6",
              "width": 0.5
             }
            },
            "type": "barpolar"
           }
          ],
          "carpet": [
           {
            "aaxis": {
             "endlinecolor": "#2a3f5f",
             "gridcolor": "white",
             "linecolor": "white",
             "minorgridcolor": "white",
             "startlinecolor": "#2a3f5f"
            },
            "baxis": {
             "endlinecolor": "#2a3f5f",
             "gridcolor": "white",
             "linecolor": "white",
             "minorgridcolor": "white",
             "startlinecolor": "#2a3f5f"
            },
            "type": "carpet"
           }
          ],
          "choropleth": [
           {
            "colorbar": {
             "outlinewidth": 0,
             "ticks": ""
            },
            "type": "choropleth"
           }
          ],
          "contour": [
           {
            "colorbar": {
             "outlinewidth": 0,
             "ticks": ""
            },
            "colorscale": [
             [
              0,
              "#0d0887"
             ],
             [
              0.1111111111111111,
              "#46039f"
             ],
             [
              0.2222222222222222,
              "#7201a8"
             ],
             [
              0.3333333333333333,
              "#9c179e"
             ],
             [
              0.4444444444444444,
              "#bd3786"
             ],
             [
              0.5555555555555556,
              "#d8576b"
             ],
             [
              0.6666666666666666,
              "#ed7953"
             ],
             [
              0.7777777777777778,
              "#fb9f3a"
             ],
             [
              0.8888888888888888,
              "#fdca26"
             ],
             [
              1,
              "#f0f921"
             ]
            ],
            "type": "contour"
           }
          ],
          "contourcarpet": [
           {
            "colorbar": {
             "outlinewidth": 0,
             "ticks": ""
            },
            "type": "contourcarpet"
           }
          ],
          "heatmap": [
           {
            "colorbar": {
             "outlinewidth": 0,
             "ticks": ""
            },
            "colorscale": [
             [
              0,
              "#0d0887"
             ],
             [
              0.1111111111111111,
              "#46039f"
             ],
             [
              0.2222222222222222,
              "#7201a8"
             ],
             [
              0.3333333333333333,
              "#9c179e"
             ],
             [
              0.4444444444444444,
              "#bd3786"
             ],
             [
              0.5555555555555556,
              "#d8576b"
             ],
             [
              0.6666666666666666,
              "#ed7953"
             ],
             [
              0.7777777777777778,
              "#fb9f3a"
             ],
             [
              0.8888888888888888,
              "#fdca26"
             ],
             [
              1,
              "#f0f921"
             ]
            ],
            "type": "heatmap"
           }
          ],
          "heatmapgl": [
           {
            "colorbar": {
             "outlinewidth": 0,
             "ticks": ""
            },
            "colorscale": [
             [
              0,
              "#0d0887"
             ],
             [
              0.1111111111111111,
              "#46039f"
             ],
             [
              0.2222222222222222,
              "#7201a8"
             ],
             [
              0.3333333333333333,
              "#9c179e"
             ],
             [
              0.4444444444444444,
              "#bd3786"
             ],
             [
              0.5555555555555556,
              "#d8576b"
             ],
             [
              0.6666666666666666,
              "#ed7953"
             ],
             [
              0.7777777777777778,
              "#fb9f3a"
             ],
             [
              0.8888888888888888,
              "#fdca26"
             ],
             [
              1,
              "#f0f921"
             ]
            ],
            "type": "heatmapgl"
           }
          ],
          "histogram": [
           {
            "marker": {
             "colorbar": {
              "outlinewidth": 0,
              "ticks": ""
             }
            },
            "type": "histogram"
           }
          ],
          "histogram2d": [
           {
            "colorbar": {
             "outlinewidth": 0,
             "ticks": ""
            },
            "colorscale": [
             [
              0,
              "#0d0887"
             ],
             [
              0.1111111111111111,
              "#46039f"
             ],
             [
              0.2222222222222222,
              "#7201a8"
             ],
             [
              0.3333333333333333,
              "#9c179e"
             ],
             [
              0.4444444444444444,
              "#bd3786"
             ],
             [
              0.5555555555555556,
              "#d8576b"
             ],
             [
              0.6666666666666666,
              "#ed7953"
             ],
             [
              0.7777777777777778,
              "#fb9f3a"
             ],
             [
              0.8888888888888888,
              "#fdca26"
             ],
             [
              1,
              "#f0f921"
             ]
            ],
            "type": "histogram2d"
           }
          ],
          "histogram2dcontour": [
           {
            "colorbar": {
             "outlinewidth": 0,
             "ticks": ""
            },
            "colorscale": [
             [
              0,
              "#0d0887"
             ],
             [
              0.1111111111111111,
              "#46039f"
             ],
             [
              0.2222222222222222,
              "#7201a8"
             ],
             [
              0.3333333333333333,
              "#9c179e"
             ],
             [
              0.4444444444444444,
              "#bd3786"
             ],
             [
              0.5555555555555556,
              "#d8576b"
             ],
             [
              0.6666666666666666,
              "#ed7953"
             ],
             [
              0.7777777777777778,
              "#fb9f3a"
             ],
             [
              0.8888888888888888,
              "#fdca26"
             ],
             [
              1,
              "#f0f921"
             ]
            ],
            "type": "histogram2dcontour"
           }
          ],
          "mesh3d": [
           {
            "colorbar": {
             "outlinewidth": 0,
             "ticks": ""
            },
            "type": "mesh3d"
           }
          ],
          "parcoords": [
           {
            "line": {
             "colorbar": {
              "outlinewidth": 0,
              "ticks": ""
             }
            },
            "type": "parcoords"
           }
          ],
          "pie": [
           {
            "automargin": true,
            "type": "pie"
           }
          ],
          "scatter": [
           {
            "marker": {
             "colorbar": {
              "outlinewidth": 0,
              "ticks": ""
             }
            },
            "type": "scatter"
           }
          ],
          "scatter3d": [
           {
            "line": {
             "colorbar": {
              "outlinewidth": 0,
              "ticks": ""
             }
            },
            "marker": {
             "colorbar": {
              "outlinewidth": 0,
              "ticks": ""
             }
            },
            "type": "scatter3d"
           }
          ],
          "scattercarpet": [
           {
            "marker": {
             "colorbar": {
              "outlinewidth": 0,
              "ticks": ""
             }
            },
            "type": "scattercarpet"
           }
          ],
          "scattergeo": [
           {
            "marker": {
             "colorbar": {
              "outlinewidth": 0,
              "ticks": ""
             }
            },
            "type": "scattergeo"
           }
          ],
          "scattergl": [
           {
            "marker": {
             "colorbar": {
              "outlinewidth": 0,
              "ticks": ""
             }
            },
            "type": "scattergl"
           }
          ],
          "scattermapbox": [
           {
            "marker": {
             "colorbar": {
              "outlinewidth": 0,
              "ticks": ""
             }
            },
            "type": "scattermapbox"
           }
          ],
          "scatterpolar": [
           {
            "marker": {
             "colorbar": {
              "outlinewidth": 0,
              "ticks": ""
             }
            },
            "type": "scatterpolar"
           }
          ],
          "scatterpolargl": [
           {
            "marker": {
             "colorbar": {
              "outlinewidth": 0,
              "ticks": ""
             }
            },
            "type": "scatterpolargl"
           }
          ],
          "scatterternary": [
           {
            "marker": {
             "colorbar": {
              "outlinewidth": 0,
              "ticks": ""
             }
            },
            "type": "scatterternary"
           }
          ],
          "surface": [
           {
            "colorbar": {
             "outlinewidth": 0,
             "ticks": ""
            },
            "colorscale": [
             [
              0,
              "#0d0887"
             ],
             [
              0.1111111111111111,
              "#46039f"
             ],
             [
              0.2222222222222222,
              "#7201a8"
             ],
             [
              0.3333333333333333,
              "#9c179e"
             ],
             [
              0.4444444444444444,
              "#bd3786"
             ],
             [
              0.5555555555555556,
              "#d8576b"
             ],
             [
              0.6666666666666666,
              "#ed7953"
             ],
             [
              0.7777777777777778,
              "#fb9f3a"
             ],
             [
              0.8888888888888888,
              "#fdca26"
             ],
             [
              1,
              "#f0f921"
             ]
            ],
            "type": "surface"
           }
          ],
          "table": [
           {
            "cells": {
             "fill": {
              "color": "#EBF0F8"
             },
             "line": {
              "color": "white"
             }
            },
            "header": {
             "fill": {
              "color": "#C8D4E3"
             },
             "line": {
              "color": "white"
             }
            },
            "type": "table"
           }
          ]
         },
         "layout": {
          "annotationdefaults": {
           "arrowcolor": "#2a3f5f",
           "arrowhead": 0,
           "arrowwidth": 1
          },
          "autotypenumbers": "strict",
          "coloraxis": {
           "colorbar": {
            "outlinewidth": 0,
            "ticks": ""
           }
          },
          "colorscale": {
           "diverging": [
            [
             0,
             "#8e0152"
            ],
            [
             0.1,
             "#c51b7d"
            ],
            [
             0.2,
             "#de77ae"
            ],
            [
             0.3,
             "#f1b6da"
            ],
            [
             0.4,
             "#fde0ef"
            ],
            [
             0.5,
             "#f7f7f7"
            ],
            [
             0.6,
             "#e6f5d0"
            ],
            [
             0.7,
             "#b8e186"
            ],
            [
             0.8,
             "#7fbc41"
            ],
            [
             0.9,
             "#4d9221"
            ],
            [
             1,
             "#276419"
            ]
           ],
           "sequential": [
            [
             0,
             "#0d0887"
            ],
            [
             0.1111111111111111,
             "#46039f"
            ],
            [
             0.2222222222222222,
             "#7201a8"
            ],
            [
             0.3333333333333333,
             "#9c179e"
            ],
            [
             0.4444444444444444,
             "#bd3786"
            ],
            [
             0.5555555555555556,
             "#d8576b"
            ],
            [
             0.6666666666666666,
             "#ed7953"
            ],
            [
             0.7777777777777778,
             "#fb9f3a"
            ],
            [
             0.8888888888888888,
             "#fdca26"
            ],
            [
             1,
             "#f0f921"
            ]
           ],
           "sequentialminus": [
            [
             0,
             "#0d0887"
            ],
            [
             0.1111111111111111,
             "#46039f"
            ],
            [
             0.2222222222222222,
             "#7201a8"
            ],
            [
             0.3333333333333333,
             "#9c179e"
            ],
            [
             0.4444444444444444,
             "#bd3786"
            ],
            [
             0.5555555555555556,
             "#d8576b"
            ],
            [
             0.6666666666666666,
             "#ed7953"
            ],
            [
             0.7777777777777778,
             "#fb9f3a"
            ],
            [
             0.8888888888888888,
             "#fdca26"
            ],
            [
             1,
             "#f0f921"
            ]
           ]
          },
          "colorway": [
           "#636efa",
           "#EF553B",
           "#00cc96",
           "#ab63fa",
           "#FFA15A",
           "#19d3f3",
           "#FF6692",
           "#B6E880",
           "#FF97FF",
           "#FECB52"
          ],
          "font": {
           "color": "#2a3f5f"
          },
          "geo": {
           "bgcolor": "white",
           "lakecolor": "white",
           "landcolor": "#E5ECF6",
           "showlakes": true,
           "showland": true,
           "subunitcolor": "white"
          },
          "hoverlabel": {
           "align": "left"
          },
          "hovermode": "closest",
          "mapbox": {
           "style": "light"
          },
          "paper_bgcolor": "white",
          "plot_bgcolor": "#E5ECF6",
          "polar": {
           "angularaxis": {
            "gridcolor": "white",
            "linecolor": "white",
            "ticks": ""
           },
           "bgcolor": "#E5ECF6",
           "radialaxis": {
            "gridcolor": "white",
            "linecolor": "white",
            "ticks": ""
           }
          },
          "scene": {
           "xaxis": {
            "backgroundcolor": "#E5ECF6",
            "gridcolor": "white",
            "gridwidth": 2,
            "linecolor": "white",
            "showbackground": true,
            "ticks": "",
            "zerolinecolor": "white"
           },
           "yaxis": {
            "backgroundcolor": "#E5ECF6",
            "gridcolor": "white",
            "gridwidth": 2,
            "linecolor": "white",
            "showbackground": true,
            "ticks": "",
            "zerolinecolor": "white"
           },
           "zaxis": {
            "backgroundcolor": "#E5ECF6",
            "gridcolor": "white",
            "gridwidth": 2,
            "linecolor": "white",
            "showbackground": true,
            "ticks": "",
            "zerolinecolor": "white"
           }
          },
          "shapedefaults": {
           "line": {
            "color": "#2a3f5f"
           }
          },
          "ternary": {
           "aaxis": {
            "gridcolor": "white",
            "linecolor": "white",
            "ticks": ""
           },
           "baxis": {
            "gridcolor": "white",
            "linecolor": "white",
            "ticks": ""
           },
           "bgcolor": "#E5ECF6",
           "caxis": {
            "gridcolor": "white",
            "linecolor": "white",
            "ticks": ""
           }
          },
          "title": {
           "x": 0.05
          },
          "xaxis": {
           "automargin": true,
           "gridcolor": "white",
           "linecolor": "white",
           "ticks": "",
           "title": {
            "standoff": 15
           },
           "zerolinecolor": "white",
           "zerolinewidth": 2
          },
          "yaxis": {
           "automargin": true,
           "gridcolor": "white",
           "linecolor": "white",
           "ticks": "",
           "title": {
            "standoff": 15
           },
           "zerolinecolor": "white",
           "zerolinewidth": 2
          }
         }
        },
        "title": {
         "text": "Rompimento7Dias x Rompimento 28 Dias"
        },
        "xaxis": {
         "anchor": "y",
         "domain": [
          0,
          1
         ],
         "title": {
          "text": "ConsumoPorM3"
         }
        },
        "yaxis": {
         "anchor": "x",
         "domain": [
          0,
          1
         ],
         "title": {
          "text": "Rompimento7Dias"
         }
        }
       }
      },
      "text/html": [
       "<div>                            <div id=\"d266e99a-f10e-408a-ab5c-cb2c9e10a4f2\" class=\"plotly-graph-div\" style=\"height:525px; width:100%;\"></div>            <script type=\"text/javascript\">                require([\"plotly\"], function(Plotly) {                    window.PLOTLYENV=window.PLOTLYENV || {};                                    if (document.getElementById(\"d266e99a-f10e-408a-ab5c-cb2c9e10a4f2\")) {                    Plotly.newPlot(                        \"d266e99a-f10e-408a-ab5c-cb2c9e10a4f2\",                        [{\"hovertemplate\": \"ConsumoPorM3=%{x}<br>Rompimento7Dias=%{y}<extra></extra>\", \"legendgroup\": \"\", \"marker\": {\"color\": \"#636efa\", \"symbol\": \"circle\"}, \"mode\": \"markers\", \"name\": \"\", \"orientation\": \"v\", \"showlegend\": false, \"type\": \"scatter\", \"x\": [400.0, 400.0, 400.0, 365.0, 241.0, 325.0, 325.0, 325.0, 272.0, 272.0, 272.0, 272.0], \"xaxis\": \"x\", \"y\": [24.62, 22.42, 22.43, 28.63, 17.63, 28.15, 25.84, 26.19, 22.91, 23.59, 25.13, 24.59], \"yaxis\": \"y\"}],                        {\"legend\": {\"tracegroupgap\": 0}, \"template\": {\"data\": {\"bar\": [{\"error_x\": {\"color\": \"#2a3f5f\"}, \"error_y\": {\"color\": \"#2a3f5f\"}, \"marker\": {\"line\": {\"color\": \"#E5ECF6\", \"width\": 0.5}}, \"type\": \"bar\"}], \"barpolar\": [{\"marker\": {\"line\": {\"color\": \"#E5ECF6\", \"width\": 0.5}}, \"type\": \"barpolar\"}], \"carpet\": [{\"aaxis\": {\"endlinecolor\": \"#2a3f5f\", \"gridcolor\": \"white\", \"linecolor\": \"white\", \"minorgridcolor\": \"white\", \"startlinecolor\": \"#2a3f5f\"}, \"baxis\": {\"endlinecolor\": \"#2a3f5f\", \"gridcolor\": \"white\", \"linecolor\": \"white\", \"minorgridcolor\": \"white\", \"startlinecolor\": \"#2a3f5f\"}, \"type\": \"carpet\"}], \"choropleth\": [{\"colorbar\": {\"outlinewidth\": 0, \"ticks\": \"\"}, \"type\": \"choropleth\"}], \"contour\": [{\"colorbar\": {\"outlinewidth\": 0, \"ticks\": \"\"}, \"colorscale\": [[0.0, \"#0d0887\"], [0.1111111111111111, \"#46039f\"], [0.2222222222222222, \"#7201a8\"], [0.3333333333333333, \"#9c179e\"], [0.4444444444444444, \"#bd3786\"], [0.5555555555555556, \"#d8576b\"], [0.6666666666666666, \"#ed7953\"], [0.7777777777777778, \"#fb9f3a\"], [0.8888888888888888, \"#fdca26\"], [1.0, \"#f0f921\"]], \"type\": \"contour\"}], \"contourcarpet\": [{\"colorbar\": {\"outlinewidth\": 0, \"ticks\": \"\"}, \"type\": \"contourcarpet\"}], \"heatmap\": [{\"colorbar\": {\"outlinewidth\": 0, \"ticks\": \"\"}, \"colorscale\": [[0.0, \"#0d0887\"], [0.1111111111111111, \"#46039f\"], [0.2222222222222222, \"#7201a8\"], [0.3333333333333333, \"#9c179e\"], [0.4444444444444444, \"#bd3786\"], [0.5555555555555556, \"#d8576b\"], [0.6666666666666666, \"#ed7953\"], [0.7777777777777778, \"#fb9f3a\"], [0.8888888888888888, \"#fdca26\"], [1.0, \"#f0f921\"]], \"type\": \"heatmap\"}], \"heatmapgl\": [{\"colorbar\": {\"outlinewidth\": 0, \"ticks\": \"\"}, \"colorscale\": [[0.0, \"#0d0887\"], [0.1111111111111111, \"#46039f\"], [0.2222222222222222, \"#7201a8\"], [0.3333333333333333, \"#9c179e\"], [0.4444444444444444, \"#bd3786\"], [0.5555555555555556, \"#d8576b\"], [0.6666666666666666, \"#ed7953\"], [0.7777777777777778, \"#fb9f3a\"], [0.8888888888888888, \"#fdca26\"], [1.0, \"#f0f921\"]], \"type\": \"heatmapgl\"}], \"histogram\": [{\"marker\": {\"colorbar\": {\"outlinewidth\": 0, \"ticks\": \"\"}}, \"type\": \"histogram\"}], \"histogram2d\": [{\"colorbar\": {\"outlinewidth\": 0, \"ticks\": \"\"}, \"colorscale\": [[0.0, \"#0d0887\"], [0.1111111111111111, \"#46039f\"], [0.2222222222222222, \"#7201a8\"], [0.3333333333333333, \"#9c179e\"], [0.4444444444444444, \"#bd3786\"], [0.5555555555555556, \"#d8576b\"], [0.6666666666666666, \"#ed7953\"], [0.7777777777777778, \"#fb9f3a\"], [0.8888888888888888, \"#fdca26\"], [1.0, \"#f0f921\"]], \"type\": \"histogram2d\"}], \"histogram2dcontour\": [{\"colorbar\": {\"outlinewidth\": 0, \"ticks\": \"\"}, \"colorscale\": [[0.0, \"#0d0887\"], [0.1111111111111111, \"#46039f\"], [0.2222222222222222, \"#7201a8\"], [0.3333333333333333, \"#9c179e\"], [0.4444444444444444, \"#bd3786\"], [0.5555555555555556, \"#d8576b\"], [0.6666666666666666, \"#ed7953\"], [0.7777777777777778, \"#fb9f3a\"], [0.8888888888888888, \"#fdca26\"], [1.0, \"#f0f921\"]], \"type\": \"histogram2dcontour\"}], \"mesh3d\": [{\"colorbar\": {\"outlinewidth\": 0, \"ticks\": \"\"}, \"type\": \"mesh3d\"}], \"parcoords\": [{\"line\": {\"colorbar\": {\"outlinewidth\": 0, \"ticks\": \"\"}}, \"type\": \"parcoords\"}], \"pie\": [{\"automargin\": true, \"type\": \"pie\"}], \"scatter\": [{\"marker\": {\"colorbar\": {\"outlinewidth\": 0, \"ticks\": \"\"}}, \"type\": \"scatter\"}], \"scatter3d\": [{\"line\": {\"colorbar\": {\"outlinewidth\": 0, \"ticks\": \"\"}}, \"marker\": {\"colorbar\": {\"outlinewidth\": 0, \"ticks\": \"\"}}, \"type\": \"scatter3d\"}], \"scattercarpet\": [{\"marker\": {\"colorbar\": {\"outlinewidth\": 0, \"ticks\": \"\"}}, \"type\": \"scattercarpet\"}], \"scattergeo\": [{\"marker\": {\"colorbar\": {\"outlinewidth\": 0, \"ticks\": \"\"}}, \"type\": \"scattergeo\"}], \"scattergl\": [{\"marker\": {\"colorbar\": {\"outlinewidth\": 0, \"ticks\": \"\"}}, \"type\": \"scattergl\"}], \"scattermapbox\": [{\"marker\": {\"colorbar\": {\"outlinewidth\": 0, \"ticks\": \"\"}}, \"type\": \"scattermapbox\"}], \"scatterpolar\": [{\"marker\": {\"colorbar\": {\"outlinewidth\": 0, \"ticks\": \"\"}}, \"type\": \"scatterpolar\"}], \"scatterpolargl\": [{\"marker\": {\"colorbar\": {\"outlinewidth\": 0, \"ticks\": \"\"}}, \"type\": \"scatterpolargl\"}], \"scatterternary\": [{\"marker\": {\"colorbar\": {\"outlinewidth\": 0, \"ticks\": \"\"}}, \"type\": \"scatterternary\"}], \"surface\": [{\"colorbar\": {\"outlinewidth\": 0, \"ticks\": \"\"}, \"colorscale\": [[0.0, \"#0d0887\"], [0.1111111111111111, \"#46039f\"], [0.2222222222222222, \"#7201a8\"], [0.3333333333333333, \"#9c179e\"], [0.4444444444444444, \"#bd3786\"], [0.5555555555555556, \"#d8576b\"], [0.6666666666666666, \"#ed7953\"], [0.7777777777777778, \"#fb9f3a\"], [0.8888888888888888, \"#fdca26\"], [1.0, \"#f0f921\"]], \"type\": \"surface\"}], \"table\": [{\"cells\": {\"fill\": {\"color\": \"#EBF0F8\"}, \"line\": {\"color\": \"white\"}}, \"header\": {\"fill\": {\"color\": \"#C8D4E3\"}, \"line\": {\"color\": \"white\"}}, \"type\": \"table\"}]}, \"layout\": {\"annotationdefaults\": {\"arrowcolor\": \"#2a3f5f\", \"arrowhead\": 0, \"arrowwidth\": 1}, \"autotypenumbers\": \"strict\", \"coloraxis\": {\"colorbar\": {\"outlinewidth\": 0, \"ticks\": \"\"}}, \"colorscale\": {\"diverging\": [[0, \"#8e0152\"], [0.1, \"#c51b7d\"], [0.2, \"#de77ae\"], [0.3, \"#f1b6da\"], [0.4, \"#fde0ef\"], [0.5, \"#f7f7f7\"], [0.6, \"#e6f5d0\"], [0.7, \"#b8e186\"], [0.8, \"#7fbc41\"], [0.9, \"#4d9221\"], [1, \"#276419\"]], \"sequential\": [[0.0, \"#0d0887\"], [0.1111111111111111, \"#46039f\"], [0.2222222222222222, \"#7201a8\"], [0.3333333333333333, \"#9c179e\"], [0.4444444444444444, \"#bd3786\"], [0.5555555555555556, \"#d8576b\"], [0.6666666666666666, \"#ed7953\"], [0.7777777777777778, \"#fb9f3a\"], [0.8888888888888888, \"#fdca26\"], [1.0, \"#f0f921\"]], \"sequentialminus\": [[0.0, \"#0d0887\"], [0.1111111111111111, \"#46039f\"], [0.2222222222222222, \"#7201a8\"], [0.3333333333333333, \"#9c179e\"], [0.4444444444444444, \"#bd3786\"], [0.5555555555555556, \"#d8576b\"], [0.6666666666666666, \"#ed7953\"], [0.7777777777777778, \"#fb9f3a\"], [0.8888888888888888, \"#fdca26\"], [1.0, \"#f0f921\"]]}, \"colorway\": [\"#636efa\", \"#EF553B\", \"#00cc96\", \"#ab63fa\", \"#FFA15A\", \"#19d3f3\", \"#FF6692\", \"#B6E880\", \"#FF97FF\", \"#FECB52\"], \"font\": {\"color\": \"#2a3f5f\"}, \"geo\": {\"bgcolor\": \"white\", \"lakecolor\": \"white\", \"landcolor\": \"#E5ECF6\", \"showlakes\": true, \"showland\": true, \"subunitcolor\": \"white\"}, \"hoverlabel\": {\"align\": \"left\"}, \"hovermode\": \"closest\", \"mapbox\": {\"style\": \"light\"}, \"paper_bgcolor\": \"white\", \"plot_bgcolor\": \"#E5ECF6\", \"polar\": {\"angularaxis\": {\"gridcolor\": \"white\", \"linecolor\": \"white\", \"ticks\": \"\"}, \"bgcolor\": \"#E5ECF6\", \"radialaxis\": {\"gridcolor\": \"white\", \"linecolor\": \"white\", \"ticks\": \"\"}}, \"scene\": {\"xaxis\": {\"backgroundcolor\": \"#E5ECF6\", \"gridcolor\": \"white\", \"gridwidth\": 2, \"linecolor\": \"white\", \"showbackground\": true, \"ticks\": \"\", \"zerolinecolor\": \"white\"}, \"yaxis\": {\"backgroundcolor\": \"#E5ECF6\", \"gridcolor\": \"white\", \"gridwidth\": 2, \"linecolor\": \"white\", \"showbackground\": true, \"ticks\": \"\", \"zerolinecolor\": \"white\"}, \"zaxis\": {\"backgroundcolor\": \"#E5ECF6\", \"gridcolor\": \"white\", \"gridwidth\": 2, \"linecolor\": \"white\", \"showbackground\": true, \"ticks\": \"\", \"zerolinecolor\": \"white\"}}, \"shapedefaults\": {\"line\": {\"color\": \"#2a3f5f\"}}, \"ternary\": {\"aaxis\": {\"gridcolor\": \"white\", \"linecolor\": \"white\", \"ticks\": \"\"}, \"baxis\": {\"gridcolor\": \"white\", \"linecolor\": \"white\", \"ticks\": \"\"}, \"bgcolor\": \"#E5ECF6\", \"caxis\": {\"gridcolor\": \"white\", \"linecolor\": \"white\", \"ticks\": \"\"}}, \"title\": {\"x\": 0.05}, \"xaxis\": {\"automargin\": true, \"gridcolor\": \"white\", \"linecolor\": \"white\", \"ticks\": \"\", \"title\": {\"standoff\": 15}, \"zerolinecolor\": \"white\", \"zerolinewidth\": 2}, \"yaxis\": {\"automargin\": true, \"gridcolor\": \"white\", \"linecolor\": \"white\", \"ticks\": \"\", \"title\": {\"standoff\": 15}, \"zerolinecolor\": \"white\", \"zerolinewidth\": 2}}}, \"title\": {\"text\": \"Rompimento7Dias x Rompimento 28 Dias\"}, \"xaxis\": {\"anchor\": \"y\", \"domain\": [0.0, 1.0], \"title\": {\"text\": \"ConsumoPorM3\"}}, \"yaxis\": {\"anchor\": \"x\", \"domain\": [0.0, 1.0], \"title\": {\"text\": \"Rompimento7Dias\"}}},                        {\"responsive\": true}                    ).then(function(){\n",
       "                            \n",
       "var gd = document.getElementById('d266e99a-f10e-408a-ab5c-cb2c9e10a4f2');\n",
       "var x = new MutationObserver(function (mutations, observer) {{\n",
       "        var display = window.getComputedStyle(gd).display;\n",
       "        if (!display || display === 'none') {{\n",
       "            console.log([gd, 'removed!']);\n",
       "            Plotly.purge(gd);\n",
       "            observer.disconnect();\n",
       "        }}\n",
       "}});\n",
       "\n",
       "// Listen for the removal of the full notebook cells\n",
       "var notebookContainer = gd.closest('#notebook-container');\n",
       "if (notebookContainer) {{\n",
       "    x.observe(notebookContainer, {childList: true});\n",
       "}}\n",
       "\n",
       "// Listen for the clearing of the current output cell\n",
       "var outputEl = gd.closest('.output');\n",
       "if (outputEl) {{\n",
       "    x.observe(outputEl, {childList: true});\n",
       "}}\n",
       "\n",
       "                        })                };                });            </script>        </div>"
      ]
     },
     "metadata": {},
     "output_type": "display_data"
    }
   ],
   "source": [
    "fig = px.scatter(df_teste, x=\"ConsumoPorM3\", y=\"Rompimento7Dias\", title='Rompimento7Dias x Rompimento 28 Dias')\n",
    "fig.show()"
   ]
  },
  {
   "cell_type": "code",
   "execution_count": 1753,
   "metadata": {},
   "outputs": [
    {
     "data": {
      "text/plain": [
       "25.610770175289048"
      ]
     },
     "execution_count": 1753,
     "metadata": {},
     "output_type": "execute_result"
    }
   ],
   "source": [
    "df[\"ErroProjetado\"].sum()"
   ]
  },
  {
   "cell_type": "code",
   "execution_count": 1754,
   "metadata": {},
   "outputs": [
    {
     "data": {
      "text/plain": [
       "32.317529525756825"
      ]
     },
     "execution_count": 1754,
     "metadata": {},
     "output_type": "execute_result"
    }
   ],
   "source": [
    "df[\"ErroPredito\"].sum()"
   ]
  },
  {
   "cell_type": "code",
   "execution_count": 1755,
   "metadata": {},
   "outputs": [
    {
     "data": {
      "text/plain": [
       "0.25"
      ]
     },
     "execution_count": 1755,
     "metadata": {},
     "output_type": "execute_result"
    }
   ],
   "source": [
    "mask_modelo_predito_melhor = df[\"ErroPredito\"] < df[\"ErroProjetado\"]\n",
    "quantidade_nf_modelo_eh_melhor = len(df[mask_modelo_predito_melhor])\n",
    "quantidade_total = len(df)\n",
    "\n",
    "quantidade_nf_modelo_eh_melhor/quantidade_total"
   ]
  },
  {
   "cell_type": "code",
   "execution_count": 1444,
   "metadata": {},
   "outputs": [
    {
     "data": {
      "text/html": [
       "<div>\n",
       "<style scoped>\n",
       "    .dataframe tbody tr th:only-of-type {\n",
       "        vertical-align: middle;\n",
       "    }\n",
       "\n",
       "    .dataframe tbody tr th {\n",
       "        vertical-align: top;\n",
       "    }\n",
       "\n",
       "    .dataframe thead th {\n",
       "        text-align: right;\n",
       "    }\n",
       "</style>\n",
       "<table border=\"1\" class=\"dataframe\">\n",
       "  <thead>\n",
       "    <tr style=\"text-align: right;\">\n",
       "      <th></th>\n",
       "      <th>Rompimento28Dias</th>\n",
       "      <th>ResultadoProjetado</th>\n",
       "      <th>ResultadoPredito</th>\n",
       "      <th>ErroProjetado</th>\n",
       "      <th>ErroPredito</th>\n",
       "    </tr>\n",
       "  </thead>\n",
       "  <tbody>\n",
       "    <tr>\n",
       "      <th>count</th>\n",
       "      <td>19.000000</td>\n",
       "      <td>19.000000</td>\n",
       "      <td>19.000000</td>\n",
       "      <td>19.000000</td>\n",
       "      <td>19.000000</td>\n",
       "    </tr>\n",
       "    <tr>\n",
       "      <th>mean</th>\n",
       "      <td>33.741053</td>\n",
       "      <td>32.079168</td>\n",
       "      <td>33.456690</td>\n",
       "      <td>1.866107</td>\n",
       "      <td>2.129453</td>\n",
       "    </tr>\n",
       "    <tr>\n",
       "      <th>std</th>\n",
       "      <td>6.191010</td>\n",
       "      <td>5.486033</td>\n",
       "      <td>4.037649</td>\n",
       "      <td>1.426281</td>\n",
       "      <td>1.615025</td>\n",
       "    </tr>\n",
       "    <tr>\n",
       "      <th>min</th>\n",
       "      <td>25.000000</td>\n",
       "      <td>23.804703</td>\n",
       "      <td>27.195072</td>\n",
       "      <td>0.202925</td>\n",
       "      <td>0.023054</td>\n",
       "    </tr>\n",
       "    <tr>\n",
       "      <th>25%</th>\n",
       "      <td>29.420000</td>\n",
       "      <td>28.115993</td>\n",
       "      <td>30.985889</td>\n",
       "      <td>1.218011</td>\n",
       "      <td>1.047913</td>\n",
       "    </tr>\n",
       "    <tr>\n",
       "      <th>50%</th>\n",
       "      <td>31.890000</td>\n",
       "      <td>30.590120</td>\n",
       "      <td>31.881715</td>\n",
       "      <td>1.606217</td>\n",
       "      <td>1.925889</td>\n",
       "    </tr>\n",
       "    <tr>\n",
       "      <th>75%</th>\n",
       "      <td>36.910000</td>\n",
       "      <td>35.556623</td>\n",
       "      <td>36.033054</td>\n",
       "      <td>1.971129</td>\n",
       "      <td>2.756297</td>\n",
       "    </tr>\n",
       "    <tr>\n",
       "      <th>max</th>\n",
       "      <td>45.080000</td>\n",
       "      <td>43.605213</td>\n",
       "      <td>43.231871</td>\n",
       "      <td>5.307704</td>\n",
       "      <td>6.008174</td>\n",
       "    </tr>\n",
       "  </tbody>\n",
       "</table>\n",
       "</div>"
      ],
      "text/plain": [
       "       Rompimento28Dias  ResultadoProjetado  ResultadoPredito  ErroProjetado  \\\n",
       "count         19.000000           19.000000         19.000000      19.000000   \n",
       "mean          33.741053           32.079168         33.456690       1.866107   \n",
       "std            6.191010            5.486033          4.037649       1.426281   \n",
       "min           25.000000           23.804703         27.195072       0.202925   \n",
       "25%           29.420000           28.115993         30.985889       1.218011   \n",
       "50%           31.890000           30.590120         31.881715       1.606217   \n",
       "75%           36.910000           35.556623         36.033054       1.971129   \n",
       "max           45.080000           43.605213         43.231871       5.307704   \n",
       "\n",
       "       ErroPredito  \n",
       "count    19.000000  \n",
       "mean      2.129453  \n",
       "std       1.615025  \n",
       "min       0.023054  \n",
       "25%       1.047913  \n",
       "50%       1.925889  \n",
       "75%       2.756297  \n",
       "max       6.008174  "
      ]
     },
     "execution_count": 1444,
     "metadata": {},
     "output_type": "execute_result"
    }
   ],
   "source": [
    "df.describe()"
   ]
  },
  {
   "cell_type": "code",
   "execution_count": 1483,
   "metadata": {},
   "outputs": [
    {
     "data": {
      "application/vnd.plotly.v1+json": {
       "config": {
        "plotlyServerURL": "https://plot.ly"
       },
       "data": [
        {
         "hovertemplate": "variable=ResultadoPredito<br>index=%{x}<br>value=%{y}<extra></extra>",
         "legendgroup": "ResultadoPredito",
         "marker": {
          "color": "#636efa",
          "symbol": "circle"
         },
         "mode": "markers",
         "name": "ResultadoPredito",
         "orientation": "v",
         "showlegend": true,
         "type": "scatter",
         "x": [
          0,
          1,
          2,
          3,
          4,
          5,
          6,
          7,
          8,
          9,
          10,
          11,
          12,
          13,
          14,
          15,
          16,
          17,
          18
         ],
         "xaxis": "x",
         "y": [
          30.080883767660822,
          42.75689451388513,
          37.92150313714485,
          29.750024514565624,
          27.209115686835396,
          29.750024514565624,
          29.750024514565624,
          40.36290484551778,
          29.20584347816244,
          29.750024514565624,
          29.013729872549685,
          29.750024514565624,
          33.7387568481173,
          30.080883767660822,
          35.054491706000384,
          37.92150313714485,
          29.013729872549685,
          33.7387568481173,
          29.750024514565624
         ],
         "yaxis": "y"
        },
        {
         "hovertemplate": "variable=Rompimento28Dias<br>index=%{x}<br>value=%{y}<extra></extra>",
         "legendgroup": "Rompimento28Dias",
         "marker": {
          "color": "#EF553B",
          "symbol": "circle"
         },
         "mode": "markers",
         "name": "Rompimento28Dias",
         "orientation": "v",
         "showlegend": true,
         "type": "scatter",
         "x": [
          0,
          1,
          2,
          3,
          4,
          5,
          6,
          7,
          8,
          9,
          10,
          11,
          12,
          13,
          14,
          15,
          16,
          17,
          18
         ],
         "xaxis": "x",
         "y": [
          30.76,
          45.08,
          43.54,
          29.78,
          25,
          31.89,
          30.4,
          44.87,
          29.06,
          35.22,
          27.13,
          30.69,
          36.28,
          34.07,
          37.54,
          39.53,
          26.3,
          36.01,
          27.93
         ],
         "yaxis": "y"
        },
        {
         "hovertemplate": "variable=ResultadoProjetado<br>index=%{x}<br>value=%{y}<extra></extra>",
         "legendgroup": "ResultadoProjetado",
         "marker": {
          "color": "#00cc96",
          "symbol": "circle"
         },
         "mode": "markers",
         "name": "ResultadoProjetado",
         "orientation": "v",
         "showlegend": true,
         "type": "scatter",
         "x": [
          0,
          1,
          2,
          3,
          4,
          5,
          6,
          7,
          8,
          9,
          10,
          11,
          12,
          13,
          14,
          15,
          16,
          17,
          18
         ],
         "xaxis": "x",
         "y": [
          32.49277255341682,
          43.605213037912854,
          38.23229606052647,
          28.09464665749359,
          23.80470297570673,
          28.58438347134389,
          28.732905184319147,
          41.12951343914815,
          27.645132032586627,
          30.59012011866167,
          25.889274626615233,
          30.454974988763453,
          34.16886497747735,
          32.80795175453236,
          36.93436890692092,
          37.923783434429104,
          26.09707520882461,
          34.17887665782832,
          28.137339121940542
         ],
         "yaxis": "y"
        }
       ],
       "layout": {
        "legend": {
         "title": {
          "text": "variable"
         },
         "tracegroupgap": 0
        },
        "template": {
         "data": {
          "bar": [
           {
            "error_x": {
             "color": "#2a3f5f"
            },
            "error_y": {
             "color": "#2a3f5f"
            },
            "marker": {
             "line": {
              "color": "#E5ECF6",
              "width": 0.5
             }
            },
            "type": "bar"
           }
          ],
          "barpolar": [
           {
            "marker": {
             "line": {
              "color": "#E5ECF6",
              "width": 0.5
             }
            },
            "type": "barpolar"
           }
          ],
          "carpet": [
           {
            "aaxis": {
             "endlinecolor": "#2a3f5f",
             "gridcolor": "white",
             "linecolor": "white",
             "minorgridcolor": "white",
             "startlinecolor": "#2a3f5f"
            },
            "baxis": {
             "endlinecolor": "#2a3f5f",
             "gridcolor": "white",
             "linecolor": "white",
             "minorgridcolor": "white",
             "startlinecolor": "#2a3f5f"
            },
            "type": "carpet"
           }
          ],
          "choropleth": [
           {
            "colorbar": {
             "outlinewidth": 0,
             "ticks": ""
            },
            "type": "choropleth"
           }
          ],
          "contour": [
           {
            "colorbar": {
             "outlinewidth": 0,
             "ticks": ""
            },
            "colorscale": [
             [
              0,
              "#0d0887"
             ],
             [
              0.1111111111111111,
              "#46039f"
             ],
             [
              0.2222222222222222,
              "#7201a8"
             ],
             [
              0.3333333333333333,
              "#9c179e"
             ],
             [
              0.4444444444444444,
              "#bd3786"
             ],
             [
              0.5555555555555556,
              "#d8576b"
             ],
             [
              0.6666666666666666,
              "#ed7953"
             ],
             [
              0.7777777777777778,
              "#fb9f3a"
             ],
             [
              0.8888888888888888,
              "#fdca26"
             ],
             [
              1,
              "#f0f921"
             ]
            ],
            "type": "contour"
           }
          ],
          "contourcarpet": [
           {
            "colorbar": {
             "outlinewidth": 0,
             "ticks": ""
            },
            "type": "contourcarpet"
           }
          ],
          "heatmap": [
           {
            "colorbar": {
             "outlinewidth": 0,
             "ticks": ""
            },
            "colorscale": [
             [
              0,
              "#0d0887"
             ],
             [
              0.1111111111111111,
              "#46039f"
             ],
             [
              0.2222222222222222,
              "#7201a8"
             ],
             [
              0.3333333333333333,
              "#9c179e"
             ],
             [
              0.4444444444444444,
              "#bd3786"
             ],
             [
              0.5555555555555556,
              "#d8576b"
             ],
             [
              0.6666666666666666,
              "#ed7953"
             ],
             [
              0.7777777777777778,
              "#fb9f3a"
             ],
             [
              0.8888888888888888,
              "#fdca26"
             ],
             [
              1,
              "#f0f921"
             ]
            ],
            "type": "heatmap"
           }
          ],
          "heatmapgl": [
           {
            "colorbar": {
             "outlinewidth": 0,
             "ticks": ""
            },
            "colorscale": [
             [
              0,
              "#0d0887"
             ],
             [
              0.1111111111111111,
              "#46039f"
             ],
             [
              0.2222222222222222,
              "#7201a8"
             ],
             [
              0.3333333333333333,
              "#9c179e"
             ],
             [
              0.4444444444444444,
              "#bd3786"
             ],
             [
              0.5555555555555556,
              "#d8576b"
             ],
             [
              0.6666666666666666,
              "#ed7953"
             ],
             [
              0.7777777777777778,
              "#fb9f3a"
             ],
             [
              0.8888888888888888,
              "#fdca26"
             ],
             [
              1,
              "#f0f921"
             ]
            ],
            "type": "heatmapgl"
           }
          ],
          "histogram": [
           {
            "marker": {
             "colorbar": {
              "outlinewidth": 0,
              "ticks": ""
             }
            },
            "type": "histogram"
           }
          ],
          "histogram2d": [
           {
            "colorbar": {
             "outlinewidth": 0,
             "ticks": ""
            },
            "colorscale": [
             [
              0,
              "#0d0887"
             ],
             [
              0.1111111111111111,
              "#46039f"
             ],
             [
              0.2222222222222222,
              "#7201a8"
             ],
             [
              0.3333333333333333,
              "#9c179e"
             ],
             [
              0.4444444444444444,
              "#bd3786"
             ],
             [
              0.5555555555555556,
              "#d8576b"
             ],
             [
              0.6666666666666666,
              "#ed7953"
             ],
             [
              0.7777777777777778,
              "#fb9f3a"
             ],
             [
              0.8888888888888888,
              "#fdca26"
             ],
             [
              1,
              "#f0f921"
             ]
            ],
            "type": "histogram2d"
           }
          ],
          "histogram2dcontour": [
           {
            "colorbar": {
             "outlinewidth": 0,
             "ticks": ""
            },
            "colorscale": [
             [
              0,
              "#0d0887"
             ],
             [
              0.1111111111111111,
              "#46039f"
             ],
             [
              0.2222222222222222,
              "#7201a8"
             ],
             [
              0.3333333333333333,
              "#9c179e"
             ],
             [
              0.4444444444444444,
              "#bd3786"
             ],
             [
              0.5555555555555556,
              "#d8576b"
             ],
             [
              0.6666666666666666,
              "#ed7953"
             ],
             [
              0.7777777777777778,
              "#fb9f3a"
             ],
             [
              0.8888888888888888,
              "#fdca26"
             ],
             [
              1,
              "#f0f921"
             ]
            ],
            "type": "histogram2dcontour"
           }
          ],
          "mesh3d": [
           {
            "colorbar": {
             "outlinewidth": 0,
             "ticks": ""
            },
            "type": "mesh3d"
           }
          ],
          "parcoords": [
           {
            "line": {
             "colorbar": {
              "outlinewidth": 0,
              "ticks": ""
             }
            },
            "type": "parcoords"
           }
          ],
          "pie": [
           {
            "automargin": true,
            "type": "pie"
           }
          ],
          "scatter": [
           {
            "marker": {
             "colorbar": {
              "outlinewidth": 0,
              "ticks": ""
             }
            },
            "type": "scatter"
           }
          ],
          "scatter3d": [
           {
            "line": {
             "colorbar": {
              "outlinewidth": 0,
              "ticks": ""
             }
            },
            "marker": {
             "colorbar": {
              "outlinewidth": 0,
              "ticks": ""
             }
            },
            "type": "scatter3d"
           }
          ],
          "scattercarpet": [
           {
            "marker": {
             "colorbar": {
              "outlinewidth": 0,
              "ticks": ""
             }
            },
            "type": "scattercarpet"
           }
          ],
          "scattergeo": [
           {
            "marker": {
             "colorbar": {
              "outlinewidth": 0,
              "ticks": ""
             }
            },
            "type": "scattergeo"
           }
          ],
          "scattergl": [
           {
            "marker": {
             "colorbar": {
              "outlinewidth": 0,
              "ticks": ""
             }
            },
            "type": "scattergl"
           }
          ],
          "scattermapbox": [
           {
            "marker": {
             "colorbar": {
              "outlinewidth": 0,
              "ticks": ""
             }
            },
            "type": "scattermapbox"
           }
          ],
          "scatterpolar": [
           {
            "marker": {
             "colorbar": {
              "outlinewidth": 0,
              "ticks": ""
             }
            },
            "type": "scatterpolar"
           }
          ],
          "scatterpolargl": [
           {
            "marker": {
             "colorbar": {
              "outlinewidth": 0,
              "ticks": ""
             }
            },
            "type": "scatterpolargl"
           }
          ],
          "scatterternary": [
           {
            "marker": {
             "colorbar": {
              "outlinewidth": 0,
              "ticks": ""
             }
            },
            "type": "scatterternary"
           }
          ],
          "surface": [
           {
            "colorbar": {
             "outlinewidth": 0,
             "ticks": ""
            },
            "colorscale": [
             [
              0,
              "#0d0887"
             ],
             [
              0.1111111111111111,
              "#46039f"
             ],
             [
              0.2222222222222222,
              "#7201a8"
             ],
             [
              0.3333333333333333,
              "#9c179e"
             ],
             [
              0.4444444444444444,
              "#bd3786"
             ],
             [
              0.5555555555555556,
              "#d8576b"
             ],
             [
              0.6666666666666666,
              "#ed7953"
             ],
             [
              0.7777777777777778,
              "#fb9f3a"
             ],
             [
              0.8888888888888888,
              "#fdca26"
             ],
             [
              1,
              "#f0f921"
             ]
            ],
            "type": "surface"
           }
          ],
          "table": [
           {
            "cells": {
             "fill": {
              "color": "#EBF0F8"
             },
             "line": {
              "color": "white"
             }
            },
            "header": {
             "fill": {
              "color": "#C8D4E3"
             },
             "line": {
              "color": "white"
             }
            },
            "type": "table"
           }
          ]
         },
         "layout": {
          "annotationdefaults": {
           "arrowcolor": "#2a3f5f",
           "arrowhead": 0,
           "arrowwidth": 1
          },
          "autotypenumbers": "strict",
          "coloraxis": {
           "colorbar": {
            "outlinewidth": 0,
            "ticks": ""
           }
          },
          "colorscale": {
           "diverging": [
            [
             0,
             "#8e0152"
            ],
            [
             0.1,
             "#c51b7d"
            ],
            [
             0.2,
             "#de77ae"
            ],
            [
             0.3,
             "#f1b6da"
            ],
            [
             0.4,
             "#fde0ef"
            ],
            [
             0.5,
             "#f7f7f7"
            ],
            [
             0.6,
             "#e6f5d0"
            ],
            [
             0.7,
             "#b8e186"
            ],
            [
             0.8,
             "#7fbc41"
            ],
            [
             0.9,
             "#4d9221"
            ],
            [
             1,
             "#276419"
            ]
           ],
           "sequential": [
            [
             0,
             "#0d0887"
            ],
            [
             0.1111111111111111,
             "#46039f"
            ],
            [
             0.2222222222222222,
             "#7201a8"
            ],
            [
             0.3333333333333333,
             "#9c179e"
            ],
            [
             0.4444444444444444,
             "#bd3786"
            ],
            [
             0.5555555555555556,
             "#d8576b"
            ],
            [
             0.6666666666666666,
             "#ed7953"
            ],
            [
             0.7777777777777778,
             "#fb9f3a"
            ],
            [
             0.8888888888888888,
             "#fdca26"
            ],
            [
             1,
             "#f0f921"
            ]
           ],
           "sequentialminus": [
            [
             0,
             "#0d0887"
            ],
            [
             0.1111111111111111,
             "#46039f"
            ],
            [
             0.2222222222222222,
             "#7201a8"
            ],
            [
             0.3333333333333333,
             "#9c179e"
            ],
            [
             0.4444444444444444,
             "#bd3786"
            ],
            [
             0.5555555555555556,
             "#d8576b"
            ],
            [
             0.6666666666666666,
             "#ed7953"
            ],
            [
             0.7777777777777778,
             "#fb9f3a"
            ],
            [
             0.8888888888888888,
             "#fdca26"
            ],
            [
             1,
             "#f0f921"
            ]
           ]
          },
          "colorway": [
           "#636efa",
           "#EF553B",
           "#00cc96",
           "#ab63fa",
           "#FFA15A",
           "#19d3f3",
           "#FF6692",
           "#B6E880",
           "#FF97FF",
           "#FECB52"
          ],
          "font": {
           "color": "#2a3f5f"
          },
          "geo": {
           "bgcolor": "white",
           "lakecolor": "white",
           "landcolor": "#E5ECF6",
           "showlakes": true,
           "showland": true,
           "subunitcolor": "white"
          },
          "hoverlabel": {
           "align": "left"
          },
          "hovermode": "closest",
          "mapbox": {
           "style": "light"
          },
          "paper_bgcolor": "white",
          "plot_bgcolor": "#E5ECF6",
          "polar": {
           "angularaxis": {
            "gridcolor": "white",
            "linecolor": "white",
            "ticks": ""
           },
           "bgcolor": "#E5ECF6",
           "radialaxis": {
            "gridcolor": "white",
            "linecolor": "white",
            "ticks": ""
           }
          },
          "scene": {
           "xaxis": {
            "backgroundcolor": "#E5ECF6",
            "gridcolor": "white",
            "gridwidth": 2,
            "linecolor": "white",
            "showbackground": true,
            "ticks": "",
            "zerolinecolor": "white"
           },
           "yaxis": {
            "backgroundcolor": "#E5ECF6",
            "gridcolor": "white",
            "gridwidth": 2,
            "linecolor": "white",
            "showbackground": true,
            "ticks": "",
            "zerolinecolor": "white"
           },
           "zaxis": {
            "backgroundcolor": "#E5ECF6",
            "gridcolor": "white",
            "gridwidth": 2,
            "linecolor": "white",
            "showbackground": true,
            "ticks": "",
            "zerolinecolor": "white"
           }
          },
          "shapedefaults": {
           "line": {
            "color": "#2a3f5f"
           }
          },
          "ternary": {
           "aaxis": {
            "gridcolor": "white",
            "linecolor": "white",
            "ticks": ""
           },
           "baxis": {
            "gridcolor": "white",
            "linecolor": "white",
            "ticks": ""
           },
           "bgcolor": "#E5ECF6",
           "caxis": {
            "gridcolor": "white",
            "linecolor": "white",
            "ticks": ""
           }
          },
          "title": {
           "x": 0.05
          },
          "xaxis": {
           "automargin": true,
           "gridcolor": "white",
           "linecolor": "white",
           "ticks": "",
           "title": {
            "standoff": 15
           },
           "zerolinecolor": "white",
           "zerolinewidth": 2
          },
          "yaxis": {
           "automargin": true,
           "gridcolor": "white",
           "linecolor": "white",
           "ticks": "",
           "title": {
            "standoff": 15
           },
           "zerolinecolor": "white",
           "zerolinewidth": 2
          }
         }
        },
        "title": {
         "text": "FCK x Rompimento 28 Dias"
        },
        "xaxis": {
         "anchor": "y",
         "domain": [
          0,
          1
         ],
         "title": {
          "text": "index"
         }
        },
        "yaxis": {
         "anchor": "x",
         "domain": [
          0,
          1
         ],
         "title": {
          "text": "value"
         }
        }
       }
      },
      "text/html": [
       "<div>                            <div id=\"6707e742-1d82-407f-8754-c7eb909d9dac\" class=\"plotly-graph-div\" style=\"height:525px; width:100%;\"></div>            <script type=\"text/javascript\">                require([\"plotly\"], function(Plotly) {                    window.PLOTLYENV=window.PLOTLYENV || {};                                    if (document.getElementById(\"6707e742-1d82-407f-8754-c7eb909d9dac\")) {                    Plotly.newPlot(                        \"6707e742-1d82-407f-8754-c7eb909d9dac\",                        [{\"hovertemplate\": \"variable=ResultadoPredito<br>index=%{x}<br>value=%{y}<extra></extra>\", \"legendgroup\": \"ResultadoPredito\", \"marker\": {\"color\": \"#636efa\", \"symbol\": \"circle\"}, \"mode\": \"markers\", \"name\": \"ResultadoPredito\", \"orientation\": \"v\", \"showlegend\": true, \"type\": \"scatter\", \"x\": [0, 1, 2, 3, 4, 5, 6, 7, 8, 9, 10, 11, 12, 13, 14, 15, 16, 17, 18], \"xaxis\": \"x\", \"y\": [30.080883767660822, 42.75689451388513, 37.92150313714485, 29.750024514565624, 27.209115686835396, 29.750024514565624, 29.750024514565624, 40.36290484551778, 29.20584347816244, 29.750024514565624, 29.013729872549685, 29.750024514565624, 33.7387568481173, 30.080883767660822, 35.054491706000384, 37.92150313714485, 29.013729872549685, 33.7387568481173, 29.750024514565624], \"yaxis\": \"y\"}, {\"hovertemplate\": \"variable=Rompimento28Dias<br>index=%{x}<br>value=%{y}<extra></extra>\", \"legendgroup\": \"Rompimento28Dias\", \"marker\": {\"color\": \"#EF553B\", \"symbol\": \"circle\"}, \"mode\": \"markers\", \"name\": \"Rompimento28Dias\", \"orientation\": \"v\", \"showlegend\": true, \"type\": \"scatter\", \"x\": [0, 1, 2, 3, 4, 5, 6, 7, 8, 9, 10, 11, 12, 13, 14, 15, 16, 17, 18], \"xaxis\": \"x\", \"y\": [30.76, 45.08, 43.54, 29.78, 25.0, 31.89, 30.4, 44.87, 29.06, 35.22, 27.13, 30.69, 36.28, 34.07, 37.54, 39.53, 26.3, 36.01, 27.93], \"yaxis\": \"y\"}, {\"hovertemplate\": \"variable=ResultadoProjetado<br>index=%{x}<br>value=%{y}<extra></extra>\", \"legendgroup\": \"ResultadoProjetado\", \"marker\": {\"color\": \"#00cc96\", \"symbol\": \"circle\"}, \"mode\": \"markers\", \"name\": \"ResultadoProjetado\", \"orientation\": \"v\", \"showlegend\": true, \"type\": \"scatter\", \"x\": [0, 1, 2, 3, 4, 5, 6, 7, 8, 9, 10, 11, 12, 13, 14, 15, 16, 17, 18], \"xaxis\": \"x\", \"y\": [32.49277255341682, 43.605213037912854, 38.23229606052647, 28.09464665749359, 23.80470297570673, 28.58438347134389, 28.732905184319147, 41.12951343914815, 27.645132032586627, 30.59012011866167, 25.889274626615233, 30.454974988763453, 34.16886497747735, 32.80795175453236, 36.93436890692092, 37.923783434429104, 26.09707520882461, 34.17887665782832, 28.137339121940542], \"yaxis\": \"y\"}],                        {\"legend\": {\"title\": {\"text\": \"variable\"}, \"tracegroupgap\": 0}, \"template\": {\"data\": {\"bar\": [{\"error_x\": {\"color\": \"#2a3f5f\"}, \"error_y\": {\"color\": \"#2a3f5f\"}, \"marker\": {\"line\": {\"color\": \"#E5ECF6\", \"width\": 0.5}}, \"type\": \"bar\"}], \"barpolar\": [{\"marker\": {\"line\": {\"color\": \"#E5ECF6\", \"width\": 0.5}}, \"type\": \"barpolar\"}], \"carpet\": [{\"aaxis\": {\"endlinecolor\": \"#2a3f5f\", \"gridcolor\": \"white\", \"linecolor\": \"white\", \"minorgridcolor\": \"white\", \"startlinecolor\": \"#2a3f5f\"}, \"baxis\": {\"endlinecolor\": \"#2a3f5f\", \"gridcolor\": \"white\", \"linecolor\": \"white\", \"minorgridcolor\": \"white\", \"startlinecolor\": \"#2a3f5f\"}, \"type\": \"carpet\"}], \"choropleth\": [{\"colorbar\": {\"outlinewidth\": 0, \"ticks\": \"\"}, \"type\": \"choropleth\"}], \"contour\": [{\"colorbar\": {\"outlinewidth\": 0, \"ticks\": \"\"}, \"colorscale\": [[0.0, \"#0d0887\"], [0.1111111111111111, \"#46039f\"], [0.2222222222222222, \"#7201a8\"], [0.3333333333333333, \"#9c179e\"], [0.4444444444444444, \"#bd3786\"], [0.5555555555555556, \"#d8576b\"], [0.6666666666666666, \"#ed7953\"], [0.7777777777777778, \"#fb9f3a\"], [0.8888888888888888, \"#fdca26\"], [1.0, \"#f0f921\"]], \"type\": \"contour\"}], \"contourcarpet\": [{\"colorbar\": {\"outlinewidth\": 0, \"ticks\": \"\"}, \"type\": \"contourcarpet\"}], \"heatmap\": [{\"colorbar\": {\"outlinewidth\": 0, \"ticks\": \"\"}, \"colorscale\": [[0.0, \"#0d0887\"], [0.1111111111111111, \"#46039f\"], [0.2222222222222222, \"#7201a8\"], [0.3333333333333333, \"#9c179e\"], [0.4444444444444444, \"#bd3786\"], [0.5555555555555556, \"#d8576b\"], [0.6666666666666666, \"#ed7953\"], [0.7777777777777778, \"#fb9f3a\"], [0.8888888888888888, \"#fdca26\"], [1.0, \"#f0f921\"]], \"type\": \"heatmap\"}], \"heatmapgl\": [{\"colorbar\": {\"outlinewidth\": 0, \"ticks\": \"\"}, \"colorscale\": [[0.0, \"#0d0887\"], [0.1111111111111111, \"#46039f\"], [0.2222222222222222, \"#7201a8\"], [0.3333333333333333, \"#9c179e\"], [0.4444444444444444, \"#bd3786\"], [0.5555555555555556, \"#d8576b\"], [0.6666666666666666, \"#ed7953\"], [0.7777777777777778, \"#fb9f3a\"], [0.8888888888888888, \"#fdca26\"], [1.0, \"#f0f921\"]], \"type\": \"heatmapgl\"}], \"histogram\": [{\"marker\": {\"colorbar\": {\"outlinewidth\": 0, \"ticks\": \"\"}}, \"type\": \"histogram\"}], \"histogram2d\": [{\"colorbar\": {\"outlinewidth\": 0, \"ticks\": \"\"}, \"colorscale\": [[0.0, \"#0d0887\"], [0.1111111111111111, \"#46039f\"], [0.2222222222222222, \"#7201a8\"], [0.3333333333333333, \"#9c179e\"], [0.4444444444444444, \"#bd3786\"], [0.5555555555555556, \"#d8576b\"], [0.6666666666666666, \"#ed7953\"], [0.7777777777777778, \"#fb9f3a\"], [0.8888888888888888, \"#fdca26\"], [1.0, \"#f0f921\"]], \"type\": \"histogram2d\"}], \"histogram2dcontour\": [{\"colorbar\": {\"outlinewidth\": 0, \"ticks\": \"\"}, \"colorscale\": [[0.0, \"#0d0887\"], [0.1111111111111111, \"#46039f\"], [0.2222222222222222, \"#7201a8\"], [0.3333333333333333, \"#9c179e\"], [0.4444444444444444, \"#bd3786\"], [0.5555555555555556, \"#d8576b\"], [0.6666666666666666, \"#ed7953\"], [0.7777777777777778, \"#fb9f3a\"], [0.8888888888888888, \"#fdca26\"], [1.0, \"#f0f921\"]], \"type\": \"histogram2dcontour\"}], \"mesh3d\": [{\"colorbar\": {\"outlinewidth\": 0, \"ticks\": \"\"}, \"type\": \"mesh3d\"}], \"parcoords\": [{\"line\": {\"colorbar\": {\"outlinewidth\": 0, \"ticks\": \"\"}}, \"type\": \"parcoords\"}], \"pie\": [{\"automargin\": true, \"type\": \"pie\"}], \"scatter\": [{\"marker\": {\"colorbar\": {\"outlinewidth\": 0, \"ticks\": \"\"}}, \"type\": \"scatter\"}], \"scatter3d\": [{\"line\": {\"colorbar\": {\"outlinewidth\": 0, \"ticks\": \"\"}}, \"marker\": {\"colorbar\": {\"outlinewidth\": 0, \"ticks\": \"\"}}, \"type\": \"scatter3d\"}], \"scattercarpet\": [{\"marker\": {\"colorbar\": {\"outlinewidth\": 0, \"ticks\": \"\"}}, \"type\": \"scattercarpet\"}], \"scattergeo\": [{\"marker\": {\"colorbar\": {\"outlinewidth\": 0, \"ticks\": \"\"}}, \"type\": \"scattergeo\"}], \"scattergl\": [{\"marker\": {\"colorbar\": {\"outlinewidth\": 0, \"ticks\": \"\"}}, \"type\": \"scattergl\"}], \"scattermapbox\": [{\"marker\": {\"colorbar\": {\"outlinewidth\": 0, \"ticks\": \"\"}}, \"type\": \"scattermapbox\"}], \"scatterpolar\": [{\"marker\": {\"colorbar\": {\"outlinewidth\": 0, \"ticks\": \"\"}}, \"type\": \"scatterpolar\"}], \"scatterpolargl\": [{\"marker\": {\"colorbar\": {\"outlinewidth\": 0, \"ticks\": \"\"}}, \"type\": \"scatterpolargl\"}], \"scatterternary\": [{\"marker\": {\"colorbar\": {\"outlinewidth\": 0, \"ticks\": \"\"}}, \"type\": \"scatterternary\"}], \"surface\": [{\"colorbar\": {\"outlinewidth\": 0, \"ticks\": \"\"}, \"colorscale\": [[0.0, \"#0d0887\"], [0.1111111111111111, \"#46039f\"], [0.2222222222222222, \"#7201a8\"], [0.3333333333333333, \"#9c179e\"], [0.4444444444444444, \"#bd3786\"], [0.5555555555555556, \"#d8576b\"], [0.6666666666666666, \"#ed7953\"], [0.7777777777777778, \"#fb9f3a\"], [0.8888888888888888, \"#fdca26\"], [1.0, \"#f0f921\"]], \"type\": \"surface\"}], \"table\": [{\"cells\": {\"fill\": {\"color\": \"#EBF0F8\"}, \"line\": {\"color\": \"white\"}}, \"header\": {\"fill\": {\"color\": \"#C8D4E3\"}, \"line\": {\"color\": \"white\"}}, \"type\": \"table\"}]}, \"layout\": {\"annotationdefaults\": {\"arrowcolor\": \"#2a3f5f\", \"arrowhead\": 0, \"arrowwidth\": 1}, \"autotypenumbers\": \"strict\", \"coloraxis\": {\"colorbar\": {\"outlinewidth\": 0, \"ticks\": \"\"}}, \"colorscale\": {\"diverging\": [[0, \"#8e0152\"], [0.1, \"#c51b7d\"], [0.2, \"#de77ae\"], [0.3, \"#f1b6da\"], [0.4, \"#fde0ef\"], [0.5, \"#f7f7f7\"], [0.6, \"#e6f5d0\"], [0.7, \"#b8e186\"], [0.8, \"#7fbc41\"], [0.9, \"#4d9221\"], [1, \"#276419\"]], \"sequential\": [[0.0, \"#0d0887\"], [0.1111111111111111, \"#46039f\"], [0.2222222222222222, \"#7201a8\"], [0.3333333333333333, \"#9c179e\"], [0.4444444444444444, \"#bd3786\"], [0.5555555555555556, \"#d8576b\"], [0.6666666666666666, \"#ed7953\"], [0.7777777777777778, \"#fb9f3a\"], [0.8888888888888888, \"#fdca26\"], [1.0, \"#f0f921\"]], \"sequentialminus\": [[0.0, \"#0d0887\"], [0.1111111111111111, \"#46039f\"], [0.2222222222222222, \"#7201a8\"], [0.3333333333333333, \"#9c179e\"], [0.4444444444444444, \"#bd3786\"], [0.5555555555555556, \"#d8576b\"], [0.6666666666666666, \"#ed7953\"], [0.7777777777777778, \"#fb9f3a\"], [0.8888888888888888, \"#fdca26\"], [1.0, \"#f0f921\"]]}, \"colorway\": [\"#636efa\", \"#EF553B\", \"#00cc96\", \"#ab63fa\", \"#FFA15A\", \"#19d3f3\", \"#FF6692\", \"#B6E880\", \"#FF97FF\", \"#FECB52\"], \"font\": {\"color\": \"#2a3f5f\"}, \"geo\": {\"bgcolor\": \"white\", \"lakecolor\": \"white\", \"landcolor\": \"#E5ECF6\", \"showlakes\": true, \"showland\": true, \"subunitcolor\": \"white\"}, \"hoverlabel\": {\"align\": \"left\"}, \"hovermode\": \"closest\", \"mapbox\": {\"style\": \"light\"}, \"paper_bgcolor\": \"white\", \"plot_bgcolor\": \"#E5ECF6\", \"polar\": {\"angularaxis\": {\"gridcolor\": \"white\", \"linecolor\": \"white\", \"ticks\": \"\"}, \"bgcolor\": \"#E5ECF6\", \"radialaxis\": {\"gridcolor\": \"white\", \"linecolor\": \"white\", \"ticks\": \"\"}}, \"scene\": {\"xaxis\": {\"backgroundcolor\": \"#E5ECF6\", \"gridcolor\": \"white\", \"gridwidth\": 2, \"linecolor\": \"white\", \"showbackground\": true, \"ticks\": \"\", \"zerolinecolor\": \"white\"}, \"yaxis\": {\"backgroundcolor\": \"#E5ECF6\", \"gridcolor\": \"white\", \"gridwidth\": 2, \"linecolor\": \"white\", \"showbackground\": true, \"ticks\": \"\", \"zerolinecolor\": \"white\"}, \"zaxis\": {\"backgroundcolor\": \"#E5ECF6\", \"gridcolor\": \"white\", \"gridwidth\": 2, \"linecolor\": \"white\", \"showbackground\": true, \"ticks\": \"\", \"zerolinecolor\": \"white\"}}, \"shapedefaults\": {\"line\": {\"color\": \"#2a3f5f\"}}, \"ternary\": {\"aaxis\": {\"gridcolor\": \"white\", \"linecolor\": \"white\", \"ticks\": \"\"}, \"baxis\": {\"gridcolor\": \"white\", \"linecolor\": \"white\", \"ticks\": \"\"}, \"bgcolor\": \"#E5ECF6\", \"caxis\": {\"gridcolor\": \"white\", \"linecolor\": \"white\", \"ticks\": \"\"}}, \"title\": {\"x\": 0.05}, \"xaxis\": {\"automargin\": true, \"gridcolor\": \"white\", \"linecolor\": \"white\", \"ticks\": \"\", \"title\": {\"standoff\": 15}, \"zerolinecolor\": \"white\", \"zerolinewidth\": 2}, \"yaxis\": {\"automargin\": true, \"gridcolor\": \"white\", \"linecolor\": \"white\", \"ticks\": \"\", \"title\": {\"standoff\": 15}, \"zerolinecolor\": \"white\", \"zerolinewidth\": 2}}}, \"title\": {\"text\": \"FCK x Rompimento 28 Dias\"}, \"xaxis\": {\"anchor\": \"y\", \"domain\": [0.0, 1.0], \"title\": {\"text\": \"index\"}}, \"yaxis\": {\"anchor\": \"x\", \"domain\": [0.0, 1.0], \"title\": {\"text\": \"value\"}}},                        {\"responsive\": true}                    ).then(function(){\n",
       "                            \n",
       "var gd = document.getElementById('6707e742-1d82-407f-8754-c7eb909d9dac');\n",
       "var x = new MutationObserver(function (mutations, observer) {{\n",
       "        var display = window.getComputedStyle(gd).display;\n",
       "        if (!display || display === 'none') {{\n",
       "            console.log([gd, 'removed!']);\n",
       "            Plotly.purge(gd);\n",
       "            observer.disconnect();\n",
       "        }}\n",
       "}});\n",
       "\n",
       "// Listen for the removal of the full notebook cells\n",
       "var notebookContainer = gd.closest('#notebook-container');\n",
       "if (notebookContainer) {{\n",
       "    x.observe(notebookContainer, {childList: true});\n",
       "}}\n",
       "\n",
       "// Listen for the clearing of the current output cell\n",
       "var outputEl = gd.closest('.output');\n",
       "if (outputEl) {{\n",
       "    x.observe(outputEl, {childList: true});\n",
       "}}\n",
       "\n",
       "                        })                };                });            </script>        </div>"
      ]
     },
     "metadata": {},
     "output_type": "display_data"
    }
   ],
   "source": [
    "fig = px.scatter(df, y=[\"ResultadoPredito\", \"Rompimento28Dias\", \"ResultadoProjetado\"], title='FCK x Rompimento 28 Dias')\n",
    "fig.show()"
   ]
  },
  {
   "cell_type": "code",
   "execution_count": 800,
   "metadata": {},
   "outputs": [
    {
     "data": {
      "text/plain": [
       "0.7777777777777778"
      ]
     },
     "execution_count": 800,
     "metadata": {},
     "output_type": "execute_result"
    }
   ],
   "source": []
  },
  {
   "cell_type": "code",
   "execution_count": 722,
   "metadata": {},
   "outputs": [
    {
     "ename": "SyntaxError",
     "evalue": "invalid syntax (<ipython-input-722-d16c45cfe617>, line 1)",
     "output_type": "error",
     "traceback": [
      "\u001b[0;36m  File \u001b[0;32m\"<ipython-input-722-d16c45cfe617>\"\u001b[0;36m, line \u001b[0;32m1\u001b[0m\n\u001b[0;31m    0.7019867549668874 - 0,3 - min_samples_split = 4 - GradientBoostingRegressor | Romp7Dias, ConsumoPorM3, RelacaoAguaCimento, TipoLancamento, TipoTraco | Removendo outliers\u001b[0m\n\u001b[0m                                                                                                                                                                      ^\u001b[0m\n\u001b[0;31mSyntaxError\u001b[0m\u001b[0;31m:\u001b[0m invalid syntax\n"
     ]
    }
   ],
   "source": [
    "0.7019867549668874 - 0,3 - min_samples_split = 4 - GradientBoostingRegressor | Romp7Dias, ConsumoPorM3, RelacaoAguaCimento, TipoLancamento, TipoTraco | Removendo outliers"
   ]
  },
  {
   "cell_type": "code",
   "execution_count": 75,
   "metadata": {},
   "outputs": [
    {
     "data": {
      "text/html": [
       "<div>\n",
       "<style scoped>\n",
       "    .dataframe tbody tr th:only-of-type {\n",
       "        vertical-align: middle;\n",
       "    }\n",
       "\n",
       "    .dataframe tbody tr th {\n",
       "        vertical-align: top;\n",
       "    }\n",
       "\n",
       "    .dataframe thead th {\n",
       "        text-align: right;\n",
       "    }\n",
       "</style>\n",
       "<table border=\"1\" class=\"dataframe\">\n",
       "  <thead>\n",
       "    <tr style=\"text-align: right;\">\n",
       "      <th></th>\n",
       "      <th>Rompimento28Dias</th>\n",
       "      <th>ResultadoProjetado</th>\n",
       "      <th>ResultadoPredito</th>\n",
       "      <th>ErroProjetado</th>\n",
       "      <th>ErroPredito</th>\n",
       "    </tr>\n",
       "  </thead>\n",
       "  <tbody>\n",
       "    <tr>\n",
       "      <th>count</th>\n",
       "      <td>151.000000</td>\n",
       "      <td>151.000000</td>\n",
       "      <td>151.000000</td>\n",
       "      <td>151.000000</td>\n",
       "      <td>151.000000</td>\n",
       "    </tr>\n",
       "    <tr>\n",
       "      <th>mean</th>\n",
       "      <td>32.371722</td>\n",
       "      <td>32.517567</td>\n",
       "      <td>32.342284</td>\n",
       "      <td>2.534797</td>\n",
       "      <td>1.597965</td>\n",
       "    </tr>\n",
       "    <tr>\n",
       "      <th>std</th>\n",
       "      <td>5.621110</td>\n",
       "      <td>5.654231</td>\n",
       "      <td>5.316987</td>\n",
       "      <td>1.671750</td>\n",
       "      <td>1.140082</td>\n",
       "    </tr>\n",
       "    <tr>\n",
       "      <th>min</th>\n",
       "      <td>20.150000</td>\n",
       "      <td>15.878297</td>\n",
       "      <td>20.231588</td>\n",
       "      <td>0.042719</td>\n",
       "      <td>0.015537</td>\n",
       "    </tr>\n",
       "    <tr>\n",
       "      <th>25%</th>\n",
       "      <td>28.715000</td>\n",
       "      <td>28.715980</td>\n",
       "      <td>28.739299</td>\n",
       "      <td>1.306476</td>\n",
       "      <td>0.733631</td>\n",
       "    </tr>\n",
       "    <tr>\n",
       "      <th>50%</th>\n",
       "      <td>32.510000</td>\n",
       "      <td>32.263872</td>\n",
       "      <td>31.838203</td>\n",
       "      <td>2.009991</td>\n",
       "      <td>1.288044</td>\n",
       "    </tr>\n",
       "    <tr>\n",
       "      <th>75%</th>\n",
       "      <td>35.925000</td>\n",
       "      <td>36.005115</td>\n",
       "      <td>36.029348</td>\n",
       "      <td>3.809451</td>\n",
       "      <td>2.122222</td>\n",
       "    </tr>\n",
       "    <tr>\n",
       "      <th>max</th>\n",
       "      <td>46.600000</td>\n",
       "      <td>48.436012</td>\n",
       "      <td>47.008568</td>\n",
       "      <td>7.980361</td>\n",
       "      <td>5.715299</td>\n",
       "    </tr>\n",
       "  </tbody>\n",
       "</table>\n",
       "</div>"
      ],
      "text/plain": [
       "       Rompimento28Dias  ResultadoProjetado  ResultadoPredito  ErroProjetado  \\\n",
       "count        151.000000          151.000000        151.000000     151.000000   \n",
       "mean          32.371722           32.517567         32.342284       2.534797   \n",
       "std            5.621110            5.654231          5.316987       1.671750   \n",
       "min           20.150000           15.878297         20.231588       0.042719   \n",
       "25%           28.715000           28.715980         28.739299       1.306476   \n",
       "50%           32.510000           32.263872         31.838203       2.009991   \n",
       "75%           35.925000           36.005115         36.029348       3.809451   \n",
       "max           46.600000           48.436012         47.008568       7.980361   \n",
       "\n",
       "       ErroPredito  \n",
       "count   151.000000  \n",
       "mean      1.597965  \n",
       "std       1.140082  \n",
       "min       0.015537  \n",
       "25%       0.733631  \n",
       "50%       1.288044  \n",
       "75%       2.122222  \n",
       "max       5.715299  "
      ]
     },
     "execution_count": 75,
     "metadata": {},
     "output_type": "execute_result"
    }
   ],
   "source": [
    "df.describe()"
   ]
  },
  {
   "cell_type": "code",
   "execution_count": null,
   "metadata": {},
   "outputs": [],
   "source": []
  }
 ],
 "metadata": {
  "kernelspec": {
   "display_name": "Python 3",
   "language": "python",
   "name": "python3"
  },
  "language_info": {
   "codemirror_mode": {
    "name": "ipython",
    "version": 3
   },
   "file_extension": ".py",
   "mimetype": "text/x-python",
   "name": "python",
   "nbconvert_exporter": "python",
   "pygments_lexer": "ipython3",
   "version": "3.8.5"
  }
 },
 "nbformat": 4,
 "nbformat_minor": 4
}

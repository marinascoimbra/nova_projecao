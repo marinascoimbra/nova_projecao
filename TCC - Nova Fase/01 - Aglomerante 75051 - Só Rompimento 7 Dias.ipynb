{
 "cells": [
  {
   "cell_type": "code",
   "execution_count": 332,
   "metadata": {},
   "outputs": [],
   "source": [
    "import pandas as pd\n",
    "import numpy as np\n",
    "import datetime as dt\n",
    "import seaborn as sns\n",
    "import matplotlib.pyplot as plt\n",
    "import plotly.express as px\n",
    "\n",
    "import xgboost as xgb\n",
    "from sklearn.preprocessing import MinMaxScaler\n",
    "from sklearn.ensemble import GradientBoostingRegressor\n",
    "from sklearn.pipeline import Pipeline, FeatureUnion\n",
    "from sklearn.model_selection import train_test_split\n",
    "from sklearn.base import BaseEstimator, TransformerMixin"
   ]
  },
  {
   "cell_type": "code",
   "execution_count": 333,
   "metadata": {},
   "outputs": [
    {
     "data": {
      "text/html": [
       "<div>\n",
       "<style scoped>\n",
       "    .dataframe tbody tr th:only-of-type {\n",
       "        vertical-align: middle;\n",
       "    }\n",
       "\n",
       "    .dataframe tbody tr th {\n",
       "        vertical-align: top;\n",
       "    }\n",
       "\n",
       "    .dataframe thead th {\n",
       "        text-align: right;\n",
       "    }\n",
       "</style>\n",
       "<table border=\"1\" class=\"dataframe\">\n",
       "  <thead>\n",
       "    <tr style=\"text-align: right;\">\n",
       "      <th></th>\n",
       "      <th>CodigoReceita</th>\n",
       "      <th>Volume</th>\n",
       "      <th>TipoLancamento</th>\n",
       "      <th>DataEmissaoNotaFiscal</th>\n",
       "      <th>CodigoCliente</th>\n",
       "      <th>CodigoMotorista</th>\n",
       "      <th>TempoPermanenciaObra</th>\n",
       "      <th>ConsumoTotal</th>\n",
       "      <th>Idade</th>\n",
       "      <th>TipoTraco</th>\n",
       "      <th>...</th>\n",
       "      <th>FCK</th>\n",
       "      <th>Rompimento7Dias</th>\n",
       "      <th>Rompimento28Dias</th>\n",
       "      <th>ConsumoPorM3</th>\n",
       "      <th>DesvioAplicado</th>\n",
       "      <th>ResultadoProjetado</th>\n",
       "      <th>PercentualCrescimentoReal</th>\n",
       "      <th>PercentualCrescimentoProjetado</th>\n",
       "      <th>RelacaoAguaCimento</th>\n",
       "      <th>DataProjecao</th>\n",
       "    </tr>\n",
       "  </thead>\n",
       "  <tbody>\n",
       "    <tr>\n",
       "      <th>0</th>\n",
       "      <td>672051</td>\n",
       "      <td>8.0</td>\n",
       "      <td>B</td>\n",
       "      <td>2015-01-16 07:35:31.770</td>\n",
       "      <td>6248051</td>\n",
       "      <td>11080</td>\n",
       "      <td>02:41:00</td>\n",
       "      <td>2.720.000</td>\n",
       "      <td>28</td>\n",
       "      <td>N</td>\n",
       "      <td>...</td>\n",
       "      <td>30.0</td>\n",
       "      <td>20.83</td>\n",
       "      <td>31.81</td>\n",
       "      <td>340.0</td>\n",
       "      <td>3.5</td>\n",
       "      <td>33.321754</td>\n",
       "      <td>52.712434</td>\n",
       "      <td>59.970014</td>\n",
       "      <td>0.535294</td>\n",
       "      <td>2015-01-16</td>\n",
       "    </tr>\n",
       "    <tr>\n",
       "      <th>1</th>\n",
       "      <td>672051</td>\n",
       "      <td>8.0</td>\n",
       "      <td>B</td>\n",
       "      <td>2015-01-16 08:20:03.153</td>\n",
       "      <td>6248051</td>\n",
       "      <td>87079</td>\n",
       "      <td>02:46:00</td>\n",
       "      <td>2.720.000</td>\n",
       "      <td>28</td>\n",
       "      <td>N</td>\n",
       "      <td>...</td>\n",
       "      <td>30.0</td>\n",
       "      <td>19.62</td>\n",
       "      <td>31.21</td>\n",
       "      <td>340.0</td>\n",
       "      <td>3.5</td>\n",
       "      <td>31.799067</td>\n",
       "      <td>59.072375</td>\n",
       "      <td>62.074756</td>\n",
       "      <td>0.535294</td>\n",
       "      <td>2015-01-16</td>\n",
       "    </tr>\n",
       "    <tr>\n",
       "      <th>2</th>\n",
       "      <td>672051</td>\n",
       "      <td>7.0</td>\n",
       "      <td>B</td>\n",
       "      <td>2015-01-16 10:05:20.293</td>\n",
       "      <td>6248051</td>\n",
       "      <td>43080</td>\n",
       "      <td>01:32:00</td>\n",
       "      <td>2.380.000</td>\n",
       "      <td>28</td>\n",
       "      <td>N</td>\n",
       "      <td>...</td>\n",
       "      <td>30.0</td>\n",
       "      <td>21.97</td>\n",
       "      <td>36.68</td>\n",
       "      <td>340.0</td>\n",
       "      <td>3.5</td>\n",
       "      <td>34.733698</td>\n",
       "      <td>66.954939</td>\n",
       "      <td>58.096029</td>\n",
       "      <td>0.535294</td>\n",
       "      <td>2015-01-16</td>\n",
       "    </tr>\n",
       "    <tr>\n",
       "      <th>3</th>\n",
       "      <td>672051</td>\n",
       "      <td>8.0</td>\n",
       "      <td>B</td>\n",
       "      <td>2015-01-20 18:52:57.373</td>\n",
       "      <td>12343051</td>\n",
       "      <td>43080</td>\n",
       "      <td>01:10:00</td>\n",
       "      <td>2.720.000</td>\n",
       "      <td>28</td>\n",
       "      <td>N</td>\n",
       "      <td>...</td>\n",
       "      <td>30.0</td>\n",
       "      <td>28.21</td>\n",
       "      <td>40.21</td>\n",
       "      <td>340.0</td>\n",
       "      <td>3.5</td>\n",
       "      <td>42.118539</td>\n",
       "      <td>42.538107</td>\n",
       "      <td>49.303577</td>\n",
       "      <td>0.535294</td>\n",
       "      <td>2015-01-23</td>\n",
       "    </tr>\n",
       "    <tr>\n",
       "      <th>4</th>\n",
       "      <td>672051</td>\n",
       "      <td>6.0</td>\n",
       "      <td>B</td>\n",
       "      <td>2015-01-21 07:08:54.847</td>\n",
       "      <td>6248051</td>\n",
       "      <td>42080</td>\n",
       "      <td>00:35:00</td>\n",
       "      <td>2.040.000</td>\n",
       "      <td>28</td>\n",
       "      <td>N</td>\n",
       "      <td>...</td>\n",
       "      <td>30.0</td>\n",
       "      <td>25.80</td>\n",
       "      <td>38.74</td>\n",
       "      <td>340.0</td>\n",
       "      <td>3.5</td>\n",
       "      <td>39.330637</td>\n",
       "      <td>50.155039</td>\n",
       "      <td>52.444329</td>\n",
       "      <td>0.535294</td>\n",
       "      <td>2015-01-23</td>\n",
       "    </tr>\n",
       "  </tbody>\n",
       "</table>\n",
       "<p>5 rows × 21 columns</p>\n",
       "</div>"
      ],
      "text/plain": [
       "   CodigoReceita  Volume TipoLancamento    DataEmissaoNotaFiscal  \\\n",
       "0         672051     8.0              B  2015-01-16 07:35:31.770   \n",
       "1         672051     8.0              B  2015-01-16 08:20:03.153   \n",
       "2         672051     7.0              B  2015-01-16 10:05:20.293   \n",
       "3         672051     8.0              B  2015-01-20 18:52:57.373   \n",
       "4         672051     6.0              B  2015-01-21 07:08:54.847   \n",
       "\n",
       "   CodigoCliente  CodigoMotorista TempoPermanenciaObra ConsumoTotal  Idade  \\\n",
       "0        6248051            11080             02:41:00    2.720.000     28   \n",
       "1        6248051            87079             02:46:00    2.720.000     28   \n",
       "2        6248051            43080             01:32:00    2.380.000     28   \n",
       "3       12343051            43080             01:10:00    2.720.000     28   \n",
       "4        6248051            42080             00:35:00    2.040.000     28   \n",
       "\n",
       "  TipoTraco  ...   FCK  Rompimento7Dias  Rompimento28Dias  ConsumoPorM3  \\\n",
       "0         N  ...  30.0            20.83             31.81         340.0   \n",
       "1         N  ...  30.0            19.62             31.21         340.0   \n",
       "2         N  ...  30.0            21.97             36.68         340.0   \n",
       "3         N  ...  30.0            28.21             40.21         340.0   \n",
       "4         N  ...  30.0            25.80             38.74         340.0   \n",
       "\n",
       "   DesvioAplicado  ResultadoProjetado  PercentualCrescimentoReal  \\\n",
       "0             3.5           33.321754                  52.712434   \n",
       "1             3.5           31.799067                  59.072375   \n",
       "2             3.5           34.733698                  66.954939   \n",
       "3             3.5           42.118539                  42.538107   \n",
       "4             3.5           39.330637                  50.155039   \n",
       "\n",
       "   PercentualCrescimentoProjetado  RelacaoAguaCimento  DataProjecao  \n",
       "0                       59.970014            0.535294    2015-01-16  \n",
       "1                       62.074756            0.535294    2015-01-16  \n",
       "2                       58.096029            0.535294    2015-01-16  \n",
       "3                       49.303577            0.535294    2015-01-23  \n",
       "4                       52.444329            0.535294    2015-01-23  \n",
       "\n",
       "[5 rows x 21 columns]"
      ]
     },
     "execution_count": 333,
     "metadata": {},
     "output_type": "execute_result"
    }
   ],
   "source": [
    "dados = pd.read_csv(\"dados_pre_processados.csv\")\n",
    "dados.drop(\"Unnamed: 0\", axis = \"columns\", inplace=True)\n",
    "dados.head()"
   ]
  },
  {
   "cell_type": "code",
   "execution_count": 334,
   "metadata": {},
   "outputs": [
    {
     "data": {
      "text/html": [
       "<div>\n",
       "<style scoped>\n",
       "    .dataframe tbody tr th:only-of-type {\n",
       "        vertical-align: middle;\n",
       "    }\n",
       "\n",
       "    .dataframe tbody tr th {\n",
       "        vertical-align: top;\n",
       "    }\n",
       "\n",
       "    .dataframe thead th {\n",
       "        text-align: right;\n",
       "    }\n",
       "</style>\n",
       "<table border=\"1\" class=\"dataframe\">\n",
       "  <thead>\n",
       "    <tr style=\"text-align: right;\">\n",
       "      <th></th>\n",
       "      <th>CodigoReceita</th>\n",
       "      <th>Volume</th>\n",
       "      <th>TipoLancamento</th>\n",
       "      <th>DataEmissaoNotaFiscal</th>\n",
       "      <th>CodigoCliente</th>\n",
       "      <th>CodigoMotorista</th>\n",
       "      <th>TempoPermanenciaObra</th>\n",
       "      <th>ConsumoTotal</th>\n",
       "      <th>Idade</th>\n",
       "      <th>TipoTraco</th>\n",
       "      <th>...</th>\n",
       "      <th>FCK</th>\n",
       "      <th>Rompimento7Dias</th>\n",
       "      <th>Rompimento28Dias</th>\n",
       "      <th>ConsumoPorM3</th>\n",
       "      <th>DesvioAplicado</th>\n",
       "      <th>ResultadoProjetado</th>\n",
       "      <th>PercentualCrescimentoReal</th>\n",
       "      <th>PercentualCrescimentoProjetado</th>\n",
       "      <th>RelacaoAguaCimento</th>\n",
       "      <th>DataProjecao</th>\n",
       "    </tr>\n",
       "  </thead>\n",
       "  <tbody>\n",
       "    <tr>\n",
       "      <th>38008</th>\n",
       "      <td>33488051</td>\n",
       "      <td>6.0</td>\n",
       "      <td>B</td>\n",
       "      <td>2017-03-08 14:43:53.140</td>\n",
       "      <td>133258051</td>\n",
       "      <td>812051</td>\n",
       "      <td>00:54:00</td>\n",
       "      <td>2.172.000</td>\n",
       "      <td>28</td>\n",
       "      <td>N</td>\n",
       "      <td>...</td>\n",
       "      <td>30.0</td>\n",
       "      <td>25.73</td>\n",
       "      <td>35.08</td>\n",
       "      <td>362.0</td>\n",
       "      <td>6.0</td>\n",
       "      <td>35.882105</td>\n",
       "      <td>36.338904</td>\n",
       "      <td>39.456298</td>\n",
       "      <td>0.538674</td>\n",
       "      <td>2017-03-10</td>\n",
       "    </tr>\n",
       "    <tr>\n",
       "      <th>38066</th>\n",
       "      <td>33535051</td>\n",
       "      <td>8.0</td>\n",
       "      <td>B</td>\n",
       "      <td>2017-11-13 08:06:27.303</td>\n",
       "      <td>225643998</td>\n",
       "      <td>85079</td>\n",
       "      <td>01:05:00</td>\n",
       "      <td>2.560.000</td>\n",
       "      <td>28</td>\n",
       "      <td>N</td>\n",
       "      <td>...</td>\n",
       "      <td>25.0</td>\n",
       "      <td>24.26</td>\n",
       "      <td>33.40</td>\n",
       "      <td>320.0</td>\n",
       "      <td>6.0</td>\n",
       "      <td>28.834552</td>\n",
       "      <td>37.675185</td>\n",
       "      <td>18.856358</td>\n",
       "      <td>0.559375</td>\n",
       "      <td>2017-11-17</td>\n",
       "    </tr>\n",
       "    <tr>\n",
       "      <th>38067</th>\n",
       "      <td>33535051</td>\n",
       "      <td>8.0</td>\n",
       "      <td>B</td>\n",
       "      <td>2017-11-21 07:35:58.153</td>\n",
       "      <td>225643998</td>\n",
       "      <td>624051</td>\n",
       "      <td>01:39:00</td>\n",
       "      <td>2.560.000</td>\n",
       "      <td>28</td>\n",
       "      <td>N</td>\n",
       "      <td>...</td>\n",
       "      <td>25.0</td>\n",
       "      <td>24.24</td>\n",
       "      <td>31.72</td>\n",
       "      <td>320.0</td>\n",
       "      <td>6.0</td>\n",
       "      <td>28.817159</td>\n",
       "      <td>30.858086</td>\n",
       "      <td>18.882667</td>\n",
       "      <td>0.678125</td>\n",
       "      <td>2017-11-24</td>\n",
       "    </tr>\n",
       "    <tr>\n",
       "      <th>38068</th>\n",
       "      <td>33535051</td>\n",
       "      <td>8.0</td>\n",
       "      <td>B</td>\n",
       "      <td>2017-12-11 08:50:55.937</td>\n",
       "      <td>225643998</td>\n",
       "      <td>731051</td>\n",
       "      <td>01:09:00</td>\n",
       "      <td>2.560.000</td>\n",
       "      <td>28</td>\n",
       "      <td>N</td>\n",
       "      <td>...</td>\n",
       "      <td>25.0</td>\n",
       "      <td>23.45</td>\n",
       "      <td>31.12</td>\n",
       "      <td>320.0</td>\n",
       "      <td>6.0</td>\n",
       "      <td>28.125844</td>\n",
       "      <td>32.707889</td>\n",
       "      <td>19.939631</td>\n",
       "      <td>0.678125</td>\n",
       "      <td>2017-12-15</td>\n",
       "    </tr>\n",
       "    <tr>\n",
       "      <th>38069</th>\n",
       "      <td>33535051</td>\n",
       "      <td>8.0</td>\n",
       "      <td>B</td>\n",
       "      <td>2017-12-12 08:02:35.123</td>\n",
       "      <td>225643998</td>\n",
       "      <td>340051</td>\n",
       "      <td>01:28:00</td>\n",
       "      <td>2.560.000</td>\n",
       "      <td>28</td>\n",
       "      <td>N</td>\n",
       "      <td>...</td>\n",
       "      <td>25.0</td>\n",
       "      <td>20.88</td>\n",
       "      <td>28.39</td>\n",
       "      <td>320.0</td>\n",
       "      <td>6.0</td>\n",
       "      <td>25.816563</td>\n",
       "      <td>35.967433</td>\n",
       "      <td>23.642543</td>\n",
       "      <td>0.678125</td>\n",
       "      <td>2017-12-15</td>\n",
       "    </tr>\n",
       "  </tbody>\n",
       "</table>\n",
       "<p>5 rows × 21 columns</p>\n",
       "</div>"
      ],
      "text/plain": [
       "       CodigoReceita  Volume TipoLancamento    DataEmissaoNotaFiscal  \\\n",
       "38008       33488051     6.0              B  2017-03-08 14:43:53.140   \n",
       "38066       33535051     8.0              B  2017-11-13 08:06:27.303   \n",
       "38067       33535051     8.0              B  2017-11-21 07:35:58.153   \n",
       "38068       33535051     8.0              B  2017-12-11 08:50:55.937   \n",
       "38069       33535051     8.0              B  2017-12-12 08:02:35.123   \n",
       "\n",
       "       CodigoCliente  CodigoMotorista TempoPermanenciaObra ConsumoTotal  \\\n",
       "38008      133258051           812051             00:54:00    2.172.000   \n",
       "38066      225643998            85079             01:05:00    2.560.000   \n",
       "38067      225643998           624051             01:39:00    2.560.000   \n",
       "38068      225643998           731051             01:09:00    2.560.000   \n",
       "38069      225643998           340051             01:28:00    2.560.000   \n",
       "\n",
       "       Idade TipoTraco  ...   FCK  Rompimento7Dias  Rompimento28Dias  \\\n",
       "38008     28         N  ...  30.0            25.73             35.08   \n",
       "38066     28         N  ...  25.0            24.26             33.40   \n",
       "38067     28         N  ...  25.0            24.24             31.72   \n",
       "38068     28         N  ...  25.0            23.45             31.12   \n",
       "38069     28         N  ...  25.0            20.88             28.39   \n",
       "\n",
       "       ConsumoPorM3  DesvioAplicado  ResultadoProjetado  \\\n",
       "38008         362.0             6.0           35.882105   \n",
       "38066         320.0             6.0           28.834552   \n",
       "38067         320.0             6.0           28.817159   \n",
       "38068         320.0             6.0           28.125844   \n",
       "38069         320.0             6.0           25.816563   \n",
       "\n",
       "       PercentualCrescimentoReal  PercentualCrescimentoProjetado  \\\n",
       "38008                  36.338904                       39.456298   \n",
       "38066                  37.675185                       18.856358   \n",
       "38067                  30.858086                       18.882667   \n",
       "38068                  32.707889                       19.939631   \n",
       "38069                  35.967433                       23.642543   \n",
       "\n",
       "       RelacaoAguaCimento  DataProjecao  \n",
       "38008            0.538674    2017-03-10  \n",
       "38066            0.559375    2017-11-17  \n",
       "38067            0.678125    2017-11-24  \n",
       "38068            0.678125    2017-12-15  \n",
       "38069            0.678125    2017-12-15  \n",
       "\n",
       "[5 rows x 21 columns]"
      ]
     },
     "execution_count": 334,
     "metadata": {},
     "output_type": "execute_result"
    }
   ],
   "source": [
    "mask_aglomerante = dados[\"CodigoAglomerante\"] == 75051\n",
    "dados_aglomerante = dados[mask_aglomerante]\n",
    "dados_aglomerante.head()"
   ]
  },
  {
   "cell_type": "code",
   "execution_count": 335,
   "metadata": {},
   "outputs": [
    {
     "data": {
      "text/plain": [
       "466"
      ]
     },
     "execution_count": 335,
     "metadata": {},
     "output_type": "execute_result"
    }
   ],
   "source": [
    "len(dados_aglomerante)"
   ]
  },
  {
   "cell_type": "code",
   "execution_count": 336,
   "metadata": {},
   "outputs": [
    {
     "data": {
      "application/vnd.plotly.v1+json": {
       "config": {
        "plotlyServerURL": "https://plot.ly"
       },
       "data": [
        {
         "alignmentgroup": "True",
         "hovertemplate": "TipoLancamento=%{x}<br>Rompimento28Dias=%{y}<extra></extra>",
         "legendgroup": "",
         "marker": {
          "color": "#636efa"
         },
         "name": "",
         "notched": false,
         "offsetgroup": "",
         "orientation": "v",
         "showlegend": false,
         "type": "box",
         "x": [
          "B",
          "B",
          "B",
          "B",
          "B",
          "B",
          "B",
          "B",
          "B",
          "C",
          "C",
          "C",
          "C",
          "C",
          "C",
          "B",
          "B",
          "B",
          "B",
          "B",
          "B",
          "B",
          "B",
          "B",
          "B",
          "B",
          "B",
          "B",
          "B",
          "B",
          "B",
          "B",
          "B",
          "B",
          "B",
          "B",
          "B",
          "B",
          "B",
          "B",
          "B",
          "B",
          "B",
          "B",
          "B",
          "B",
          "B",
          "B",
          "B",
          "B",
          "B",
          "B",
          "B",
          "B",
          "B",
          "B",
          "B",
          "B",
          "B",
          "B",
          "B",
          "B",
          "B",
          "B",
          "B",
          "B",
          "C",
          "C",
          "C",
          "C",
          "C",
          "C",
          "C",
          "C",
          "C",
          "C",
          "C",
          "C",
          "C",
          "C",
          "C",
          "C",
          "C",
          "C",
          "C",
          "C",
          "C",
          "C",
          "C",
          "C",
          "C",
          "C",
          "C",
          "C",
          "C",
          "B",
          "B",
          "B",
          "B",
          "B",
          "B",
          "B",
          "B",
          "B",
          "B",
          "B",
          "C",
          "C",
          "C",
          "B",
          "B",
          "B",
          "B",
          "B",
          "B",
          "B",
          "B",
          "B",
          "B",
          "B",
          "B",
          "B",
          "B",
          "B",
          "B",
          "B",
          "B",
          "B",
          "B",
          "B",
          "B",
          "B",
          "B",
          "B",
          "B",
          "B",
          "B",
          "B",
          "B",
          "B",
          "B",
          "B",
          "B",
          "B",
          "B",
          "B",
          "B",
          "B",
          "B",
          "B",
          "B",
          "B",
          "B",
          "B",
          "B",
          "B",
          "B",
          "B",
          "B",
          "B",
          "B",
          "B",
          "B",
          "B",
          "B",
          "B",
          "B",
          "B",
          "B",
          "B",
          "B",
          "B",
          "B",
          "B",
          "B",
          "B",
          "B",
          "B",
          "B",
          "C",
          "C",
          "C",
          "C",
          "C",
          "C",
          "C",
          "C",
          "C",
          "C",
          "C",
          "C",
          "C",
          "C",
          "C",
          "C",
          "C",
          "C",
          "C",
          "C",
          "C",
          "C",
          "C",
          "C",
          "C",
          "C",
          "C",
          "C",
          "C",
          "C",
          "C",
          "C",
          "C",
          "C",
          "C",
          "C",
          "C",
          "C",
          "C",
          "C",
          "C",
          "C",
          "C",
          "C",
          "C",
          "C",
          "C",
          "B",
          "B",
          "B",
          "B",
          "B",
          "B",
          "B",
          "B",
          "B",
          "B",
          "B",
          "B",
          "B",
          "B",
          "B",
          "B",
          "B",
          "B",
          "B",
          "B",
          "B",
          "B",
          "B",
          "B",
          "B",
          "B",
          "B",
          "B",
          "B",
          "B",
          "B",
          "B",
          "B",
          "B",
          "B",
          "B",
          "B",
          "B",
          "B",
          "B",
          "B",
          "B",
          "B",
          "B",
          "B",
          "B",
          "B",
          "B",
          "B",
          "B",
          "B",
          "B",
          "B",
          "B",
          "B",
          "B",
          "B",
          "B",
          "B",
          "B",
          "B",
          "B",
          "B",
          "B",
          "B",
          "B",
          "B",
          "B",
          "B",
          "B",
          "B",
          "B",
          "B",
          "B",
          "B",
          "B",
          "B",
          "B",
          "B",
          "B",
          "B",
          "B",
          "B",
          "B",
          "B",
          "B",
          "B",
          "B",
          "B",
          "B",
          "B",
          "B",
          "B",
          "B",
          "B",
          "B",
          "B",
          "B",
          "B",
          "B",
          "B",
          "B",
          "B",
          "B",
          "B",
          "B",
          "B",
          "B",
          "B",
          "B",
          "B",
          "B",
          "B",
          "B",
          "B",
          "B",
          "B",
          "B",
          "B",
          "B",
          "B",
          "B",
          "B",
          "B",
          "B",
          "B",
          "B",
          "B",
          "B",
          "B",
          "B",
          "B",
          "B",
          "B",
          "B",
          "B",
          "B",
          "B",
          "B",
          "B",
          "B",
          "B",
          "B",
          "B",
          "B",
          "B",
          "B",
          "B",
          "B",
          "B",
          "B",
          "B",
          "B",
          "B",
          "B",
          "B",
          "B",
          "B",
          "B",
          "B",
          "B",
          "B",
          "B",
          "B",
          "B",
          "B",
          "B",
          "B",
          "B",
          "B",
          "B",
          "B",
          "B",
          "B",
          "B",
          "B",
          "B",
          "B",
          "B",
          "B",
          "B",
          "B",
          "B",
          "C",
          "C",
          "C",
          "C",
          "C",
          "C",
          "C",
          "C",
          "B",
          "B",
          "B",
          "B",
          "B",
          "B",
          "B",
          "B",
          "B",
          "B",
          "B",
          "B",
          "B",
          "B",
          "B",
          "B",
          "B",
          "B",
          "B",
          "B",
          "B",
          "B",
          "B",
          "B",
          "B",
          "B",
          "B",
          "B",
          "B",
          "B",
          "B",
          "B",
          "B",
          "B",
          "B",
          "B",
          "B",
          "C",
          "B",
          "B",
          "B",
          "B",
          "B",
          "C",
          "C",
          "C",
          "C",
          "C",
          "C"
         ],
         "x0": " ",
         "xaxis": "x",
         "y": [
          35.08,
          33.4,
          31.72,
          31.12,
          28.39,
          29.7,
          27.47,
          27.61,
          31.63,
          26.3,
          27.13,
          22.49,
          24.66,
          16.96,
          20.15,
          30.93,
          31.9,
          31.3,
          30.83,
          31.02,
          30.3,
          30.6,
          30.6,
          33.52,
          32.47,
          32.41,
          32.14,
          33.9,
          32.83,
          35.01,
          51.28,
          43.52,
          42.89,
          49.06,
          44.21,
          45.48,
          44.6,
          38.14,
          33.43,
          46.48,
          46.74,
          46.78,
          42.62,
          46.6,
          46.46,
          52,
          49.79,
          51.63,
          49.51,
          41.84,
          38.95,
          52.97,
          49.15,
          33.26,
          33.77,
          38.85,
          37.04,
          35.9,
          37.06,
          36.23,
          33.84,
          36.62,
          33.86,
          36.65,
          34.59,
          37.24,
          25.32,
          26.27,
          25.46,
          28.11,
          30.02,
          25,
          31.89,
          30.4,
          30.58,
          32.55,
          27.38,
          23.81,
          22.79,
          20.28,
          23.33,
          24.34,
          20.74,
          18.1,
          21.53,
          22.81,
          20.43,
          21.72,
          20.52,
          23.31,
          22.72,
          22.04,
          24.11,
          26.34,
          25.23,
          39.12,
          34.09,
          31.18,
          31.25,
          30.49,
          31.01,
          34.94,
          34.73,
          33.26,
          30.4,
          39.45,
          36.56,
          37.59,
          34.38,
          27.27,
          26.77,
          24.99,
          26.67,
          29.5,
          29.06,
          31.79,
          27.15,
          28.49,
          29.67,
          28.73,
          38.37,
          37.64,
          44.87,
          43.54,
          45.08,
          37.38,
          44.91,
          37.72,
          35.68,
          31.77,
          30.22,
          32.61,
          33.11,
          36.06,
          33.79,
          31.01,
          34.14,
          36.59,
          32.32,
          36.4,
          35.01,
          36.48,
          35.68,
          37.27,
          38.2,
          39.58,
          41.4,
          38.88,
          37.34,
          33.03,
          37.85,
          36.12,
          41.45,
          32.42,
          33.51,
          37.2,
          33.63,
          38.44,
          32.46,
          32.78,
          28.08,
          33.8,
          30.87,
          26.86,
          40.19,
          38.51,
          39.11,
          43.12,
          39.79,
          38.92,
          40.86,
          42.29,
          33.2,
          34.45,
          38.18,
          43.15,
          37.24,
          34.5,
          45.71,
          29.78,
          27.93,
          30.76,
          35.22,
          36.01,
          29.84,
          30.51,
          28.5,
          32.35,
          34.28,
          32.74,
          33.45,
          33.71,
          30.4,
          29.56,
          27.56,
          28.85,
          29.74,
          30.78,
          28.53,
          31.74,
          32.92,
          35.62,
          38.09,
          36.31,
          37.81,
          35.4,
          36.2,
          35.11,
          30,
          26.39,
          27.87,
          28.99,
          25.41,
          25.14,
          29.98,
          25.54,
          25.21,
          32.73,
          25.01,
          24.54,
          34.88,
          29.67,
          30.69,
          36.28,
          34.07,
          28.25,
          37.54,
          39.53,
          31.48,
          29.69,
          32.49,
          35.22,
          34.09,
          35.22,
          33.79,
          37.96,
          37.03,
          37.66,
          40,
          32.44,
          35.92,
          31.86,
          35.2,
          35.89,
          35.39,
          40.53,
          40.14,
          34.91,
          38.42,
          36.59,
          30.88,
          34,
          32.64,
          30.87,
          35.15,
          31.94,
          35.39,
          37.73,
          37.77,
          32.05,
          38.36,
          42.61,
          43.19,
          38.3,
          37.46,
          31.07,
          32.51,
          33.02,
          38.61,
          28.72,
          30.44,
          30.26,
          27.53,
          34.54,
          26.54,
          27.39,
          21.2,
          33.9,
          31.71,
          34.49,
          35.72,
          27.98,
          26.02,
          29,
          27.06,
          26.39,
          24.03,
          33.17,
          27.43,
          31.39,
          28.41,
          30.16,
          29.92,
          30.02,
          29.46,
          27.31,
          28.38,
          29.64,
          30.5,
          40.23,
          39.69,
          35.81,
          34.7,
          38.75,
          30.32,
          35.07,
          29.37,
          33.09,
          31.39,
          31.19,
          31.76,
          33.84,
          30.49,
          34.47,
          29.24,
          31.72,
          38.11,
          35.69,
          37.13,
          34.04,
          33.82,
          32.46,
          30.58,
          29.93,
          34.49,
          38.16,
          32.56,
          32.54,
          32.31,
          32.6,
          29.51,
          31.26,
          32.16,
          31.26,
          33.01,
          21.27,
          23.67,
          25.79,
          29.67,
          27.15,
          22.14,
          25.69,
          23.59,
          27.62,
          24.96,
          22.79,
          22.12,
          22.21,
          22.79,
          26.82,
          25.29,
          32.84,
          26.07,
          25.56,
          26.66,
          27.64,
          26.95,
          32.4,
          27.28,
          27.28,
          29.56,
          31.61,
          37.24,
          33.4,
          36.56,
          37.67,
          33.07,
          34.88,
          39.48,
          37.77,
          41.83,
          40.1,
          39.59,
          40.66,
          31.24,
          40.21,
          39.14,
          36.4,
          38.04,
          40.48,
          36.24,
          35.22,
          37.81,
          25.1,
          26.16,
          29.65,
          25.89,
          28.43,
          27.34,
          28.71,
          30.68,
          27.69,
          33.25,
          31.54,
          28.22,
          32.02,
          38.06,
          37.31,
          33.48,
          38.79,
          42.01,
          38.08,
          34.63,
          28.4,
          32.64,
          33.01,
          38.7,
          33.66,
          34.69,
          22.25,
          27.36,
          31.42,
          31.74,
          30.62,
          29.6,
          28.29,
          37.17,
          34.45,
          37.54,
          39.44,
          42.79,
          37.86,
          37.46,
          36.98,
          41.96,
          44.3,
          39.97,
          42.35,
          37.32,
          36.4,
          35.29,
          35.55,
          33.93,
          34.74,
          36.2,
          32.68,
          30,
          30.44,
          31.34,
          29.48,
          33.72,
          28.94,
          34.8,
          21.92,
          33.07,
          31.74,
          29.56,
          37.04,
          34.65,
          33.19,
          34.38,
          36.17,
          49.94,
          38.19,
          28.88,
          28.01,
          29.1,
          32.45,
          25.68,
          31.51,
          22.32,
          20.79,
          33.29,
          49.8,
          48.35,
          46.11
         ],
         "y0": " ",
         "yaxis": "y"
        }
       ],
       "layout": {
        "boxmode": "group",
        "legend": {
         "tracegroupgap": 0
        },
        "template": {
         "data": {
          "bar": [
           {
            "error_x": {
             "color": "#2a3f5f"
            },
            "error_y": {
             "color": "#2a3f5f"
            },
            "marker": {
             "line": {
              "color": "#E5ECF6",
              "width": 0.5
             }
            },
            "type": "bar"
           }
          ],
          "barpolar": [
           {
            "marker": {
             "line": {
              "color": "#E5ECF6",
              "width": 0.5
             }
            },
            "type": "barpolar"
           }
          ],
          "carpet": [
           {
            "aaxis": {
             "endlinecolor": "#2a3f5f",
             "gridcolor": "white",
             "linecolor": "white",
             "minorgridcolor": "white",
             "startlinecolor": "#2a3f5f"
            },
            "baxis": {
             "endlinecolor": "#2a3f5f",
             "gridcolor": "white",
             "linecolor": "white",
             "minorgridcolor": "white",
             "startlinecolor": "#2a3f5f"
            },
            "type": "carpet"
           }
          ],
          "choropleth": [
           {
            "colorbar": {
             "outlinewidth": 0,
             "ticks": ""
            },
            "type": "choropleth"
           }
          ],
          "contour": [
           {
            "colorbar": {
             "outlinewidth": 0,
             "ticks": ""
            },
            "colorscale": [
             [
              0,
              "#0d0887"
             ],
             [
              0.1111111111111111,
              "#46039f"
             ],
             [
              0.2222222222222222,
              "#7201a8"
             ],
             [
              0.3333333333333333,
              "#9c179e"
             ],
             [
              0.4444444444444444,
              "#bd3786"
             ],
             [
              0.5555555555555556,
              "#d8576b"
             ],
             [
              0.6666666666666666,
              "#ed7953"
             ],
             [
              0.7777777777777778,
              "#fb9f3a"
             ],
             [
              0.8888888888888888,
              "#fdca26"
             ],
             [
              1,
              "#f0f921"
             ]
            ],
            "type": "contour"
           }
          ],
          "contourcarpet": [
           {
            "colorbar": {
             "outlinewidth": 0,
             "ticks": ""
            },
            "type": "contourcarpet"
           }
          ],
          "heatmap": [
           {
            "colorbar": {
             "outlinewidth": 0,
             "ticks": ""
            },
            "colorscale": [
             [
              0,
              "#0d0887"
             ],
             [
              0.1111111111111111,
              "#46039f"
             ],
             [
              0.2222222222222222,
              "#7201a8"
             ],
             [
              0.3333333333333333,
              "#9c179e"
             ],
             [
              0.4444444444444444,
              "#bd3786"
             ],
             [
              0.5555555555555556,
              "#d8576b"
             ],
             [
              0.6666666666666666,
              "#ed7953"
             ],
             [
              0.7777777777777778,
              "#fb9f3a"
             ],
             [
              0.8888888888888888,
              "#fdca26"
             ],
             [
              1,
              "#f0f921"
             ]
            ],
            "type": "heatmap"
           }
          ],
          "heatmapgl": [
           {
            "colorbar": {
             "outlinewidth": 0,
             "ticks": ""
            },
            "colorscale": [
             [
              0,
              "#0d0887"
             ],
             [
              0.1111111111111111,
              "#46039f"
             ],
             [
              0.2222222222222222,
              "#7201a8"
             ],
             [
              0.3333333333333333,
              "#9c179e"
             ],
             [
              0.4444444444444444,
              "#bd3786"
             ],
             [
              0.5555555555555556,
              "#d8576b"
             ],
             [
              0.6666666666666666,
              "#ed7953"
             ],
             [
              0.7777777777777778,
              "#fb9f3a"
             ],
             [
              0.8888888888888888,
              "#fdca26"
             ],
             [
              1,
              "#f0f921"
             ]
            ],
            "type": "heatmapgl"
           }
          ],
          "histogram": [
           {
            "marker": {
             "colorbar": {
              "outlinewidth": 0,
              "ticks": ""
             }
            },
            "type": "histogram"
           }
          ],
          "histogram2d": [
           {
            "colorbar": {
             "outlinewidth": 0,
             "ticks": ""
            },
            "colorscale": [
             [
              0,
              "#0d0887"
             ],
             [
              0.1111111111111111,
              "#46039f"
             ],
             [
              0.2222222222222222,
              "#7201a8"
             ],
             [
              0.3333333333333333,
              "#9c179e"
             ],
             [
              0.4444444444444444,
              "#bd3786"
             ],
             [
              0.5555555555555556,
              "#d8576b"
             ],
             [
              0.6666666666666666,
              "#ed7953"
             ],
             [
              0.7777777777777778,
              "#fb9f3a"
             ],
             [
              0.8888888888888888,
              "#fdca26"
             ],
             [
              1,
              "#f0f921"
             ]
            ],
            "type": "histogram2d"
           }
          ],
          "histogram2dcontour": [
           {
            "colorbar": {
             "outlinewidth": 0,
             "ticks": ""
            },
            "colorscale": [
             [
              0,
              "#0d0887"
             ],
             [
              0.1111111111111111,
              "#46039f"
             ],
             [
              0.2222222222222222,
              "#7201a8"
             ],
             [
              0.3333333333333333,
              "#9c179e"
             ],
             [
              0.4444444444444444,
              "#bd3786"
             ],
             [
              0.5555555555555556,
              "#d8576b"
             ],
             [
              0.6666666666666666,
              "#ed7953"
             ],
             [
              0.7777777777777778,
              "#fb9f3a"
             ],
             [
              0.8888888888888888,
              "#fdca26"
             ],
             [
              1,
              "#f0f921"
             ]
            ],
            "type": "histogram2dcontour"
           }
          ],
          "mesh3d": [
           {
            "colorbar": {
             "outlinewidth": 0,
             "ticks": ""
            },
            "type": "mesh3d"
           }
          ],
          "parcoords": [
           {
            "line": {
             "colorbar": {
              "outlinewidth": 0,
              "ticks": ""
             }
            },
            "type": "parcoords"
           }
          ],
          "pie": [
           {
            "automargin": true,
            "type": "pie"
           }
          ],
          "scatter": [
           {
            "marker": {
             "colorbar": {
              "outlinewidth": 0,
              "ticks": ""
             }
            },
            "type": "scatter"
           }
          ],
          "scatter3d": [
           {
            "line": {
             "colorbar": {
              "outlinewidth": 0,
              "ticks": ""
             }
            },
            "marker": {
             "colorbar": {
              "outlinewidth": 0,
              "ticks": ""
             }
            },
            "type": "scatter3d"
           }
          ],
          "scattercarpet": [
           {
            "marker": {
             "colorbar": {
              "outlinewidth": 0,
              "ticks": ""
             }
            },
            "type": "scattercarpet"
           }
          ],
          "scattergeo": [
           {
            "marker": {
             "colorbar": {
              "outlinewidth": 0,
              "ticks": ""
             }
            },
            "type": "scattergeo"
           }
          ],
          "scattergl": [
           {
            "marker": {
             "colorbar": {
              "outlinewidth": 0,
              "ticks": ""
             }
            },
            "type": "scattergl"
           }
          ],
          "scattermapbox": [
           {
            "marker": {
             "colorbar": {
              "outlinewidth": 0,
              "ticks": ""
             }
            },
            "type": "scattermapbox"
           }
          ],
          "scatterpolar": [
           {
            "marker": {
             "colorbar": {
              "outlinewidth": 0,
              "ticks": ""
             }
            },
            "type": "scatterpolar"
           }
          ],
          "scatterpolargl": [
           {
            "marker": {
             "colorbar": {
              "outlinewidth": 0,
              "ticks": ""
             }
            },
            "type": "scatterpolargl"
           }
          ],
          "scatterternary": [
           {
            "marker": {
             "colorbar": {
              "outlinewidth": 0,
              "ticks": ""
             }
            },
            "type": "scatterternary"
           }
          ],
          "surface": [
           {
            "colorbar": {
             "outlinewidth": 0,
             "ticks": ""
            },
            "colorscale": [
             [
              0,
              "#0d0887"
             ],
             [
              0.1111111111111111,
              "#46039f"
             ],
             [
              0.2222222222222222,
              "#7201a8"
             ],
             [
              0.3333333333333333,
              "#9c179e"
             ],
             [
              0.4444444444444444,
              "#bd3786"
             ],
             [
              0.5555555555555556,
              "#d8576b"
             ],
             [
              0.6666666666666666,
              "#ed7953"
             ],
             [
              0.7777777777777778,
              "#fb9f3a"
             ],
             [
              0.8888888888888888,
              "#fdca26"
             ],
             [
              1,
              "#f0f921"
             ]
            ],
            "type": "surface"
           }
          ],
          "table": [
           {
            "cells": {
             "fill": {
              "color": "#EBF0F8"
             },
             "line": {
              "color": "white"
             }
            },
            "header": {
             "fill": {
              "color": "#C8D4E3"
             },
             "line": {
              "color": "white"
             }
            },
            "type": "table"
           }
          ]
         },
         "layout": {
          "annotationdefaults": {
           "arrowcolor": "#2a3f5f",
           "arrowhead": 0,
           "arrowwidth": 1
          },
          "autotypenumbers": "strict",
          "coloraxis": {
           "colorbar": {
            "outlinewidth": 0,
            "ticks": ""
           }
          },
          "colorscale": {
           "diverging": [
            [
             0,
             "#8e0152"
            ],
            [
             0.1,
             "#c51b7d"
            ],
            [
             0.2,
             "#de77ae"
            ],
            [
             0.3,
             "#f1b6da"
            ],
            [
             0.4,
             "#fde0ef"
            ],
            [
             0.5,
             "#f7f7f7"
            ],
            [
             0.6,
             "#e6f5d0"
            ],
            [
             0.7,
             "#b8e186"
            ],
            [
             0.8,
             "#7fbc41"
            ],
            [
             0.9,
             "#4d9221"
            ],
            [
             1,
             "#276419"
            ]
           ],
           "sequential": [
            [
             0,
             "#0d0887"
            ],
            [
             0.1111111111111111,
             "#46039f"
            ],
            [
             0.2222222222222222,
             "#7201a8"
            ],
            [
             0.3333333333333333,
             "#9c179e"
            ],
            [
             0.4444444444444444,
             "#bd3786"
            ],
            [
             0.5555555555555556,
             "#d8576b"
            ],
            [
             0.6666666666666666,
             "#ed7953"
            ],
            [
             0.7777777777777778,
             "#fb9f3a"
            ],
            [
             0.8888888888888888,
             "#fdca26"
            ],
            [
             1,
             "#f0f921"
            ]
           ],
           "sequentialminus": [
            [
             0,
             "#0d0887"
            ],
            [
             0.1111111111111111,
             "#46039f"
            ],
            [
             0.2222222222222222,
             "#7201a8"
            ],
            [
             0.3333333333333333,
             "#9c179e"
            ],
            [
             0.4444444444444444,
             "#bd3786"
            ],
            [
             0.5555555555555556,
             "#d8576b"
            ],
            [
             0.6666666666666666,
             "#ed7953"
            ],
            [
             0.7777777777777778,
             "#fb9f3a"
            ],
            [
             0.8888888888888888,
             "#fdca26"
            ],
            [
             1,
             "#f0f921"
            ]
           ]
          },
          "colorway": [
           "#636efa",
           "#EF553B",
           "#00cc96",
           "#ab63fa",
           "#FFA15A",
           "#19d3f3",
           "#FF6692",
           "#B6E880",
           "#FF97FF",
           "#FECB52"
          ],
          "font": {
           "color": "#2a3f5f"
          },
          "geo": {
           "bgcolor": "white",
           "lakecolor": "white",
           "landcolor": "#E5ECF6",
           "showlakes": true,
           "showland": true,
           "subunitcolor": "white"
          },
          "hoverlabel": {
           "align": "left"
          },
          "hovermode": "closest",
          "mapbox": {
           "style": "light"
          },
          "paper_bgcolor": "white",
          "plot_bgcolor": "#E5ECF6",
          "polar": {
           "angularaxis": {
            "gridcolor": "white",
            "linecolor": "white",
            "ticks": ""
           },
           "bgcolor": "#E5ECF6",
           "radialaxis": {
            "gridcolor": "white",
            "linecolor": "white",
            "ticks": ""
           }
          },
          "scene": {
           "xaxis": {
            "backgroundcolor": "#E5ECF6",
            "gridcolor": "white",
            "gridwidth": 2,
            "linecolor": "white",
            "showbackground": true,
            "ticks": "",
            "zerolinecolor": "white"
           },
           "yaxis": {
            "backgroundcolor": "#E5ECF6",
            "gridcolor": "white",
            "gridwidth": 2,
            "linecolor": "white",
            "showbackground": true,
            "ticks": "",
            "zerolinecolor": "white"
           },
           "zaxis": {
            "backgroundcolor": "#E5ECF6",
            "gridcolor": "white",
            "gridwidth": 2,
            "linecolor": "white",
            "showbackground": true,
            "ticks": "",
            "zerolinecolor": "white"
           }
          },
          "shapedefaults": {
           "line": {
            "color": "#2a3f5f"
           }
          },
          "ternary": {
           "aaxis": {
            "gridcolor": "white",
            "linecolor": "white",
            "ticks": ""
           },
           "baxis": {
            "gridcolor": "white",
            "linecolor": "white",
            "ticks": ""
           },
           "bgcolor": "#E5ECF6",
           "caxis": {
            "gridcolor": "white",
            "linecolor": "white",
            "ticks": ""
           }
          },
          "title": {
           "x": 0.05
          },
          "xaxis": {
           "automargin": true,
           "gridcolor": "white",
           "linecolor": "white",
           "ticks": "",
           "title": {
            "standoff": 15
           },
           "zerolinecolor": "white",
           "zerolinewidth": 2
          },
          "yaxis": {
           "automargin": true,
           "gridcolor": "white",
           "linecolor": "white",
           "ticks": "",
           "title": {
            "standoff": 15
           },
           "zerolinecolor": "white",
           "zerolinewidth": 2
          }
         }
        },
        "title": {
         "text": "Tipo de Lançamento x Rompimento 28 Dias"
        },
        "xaxis": {
         "anchor": "y",
         "domain": [
          0,
          1
         ],
         "title": {
          "text": "TipoLancamento"
         }
        },
        "yaxis": {
         "anchor": "x",
         "domain": [
          0,
          1
         ],
         "title": {
          "text": "Rompimento28Dias"
         }
        }
       }
      },
      "text/html": [
       "<div>                            <div id=\"a8dcce9f-d6db-48fa-a862-dfa1508a97ac\" class=\"plotly-graph-div\" style=\"height:525px; width:100%;\"></div>            <script type=\"text/javascript\">                require([\"plotly\"], function(Plotly) {                    window.PLOTLYENV=window.PLOTLYENV || {};                                    if (document.getElementById(\"a8dcce9f-d6db-48fa-a862-dfa1508a97ac\")) {                    Plotly.newPlot(                        \"a8dcce9f-d6db-48fa-a862-dfa1508a97ac\",                        [{\"alignmentgroup\": \"True\", \"hovertemplate\": \"TipoLancamento=%{x}<br>Rompimento28Dias=%{y}<extra></extra>\", \"legendgroup\": \"\", \"marker\": {\"color\": \"#636efa\"}, \"name\": \"\", \"notched\": false, \"offsetgroup\": \"\", \"orientation\": \"v\", \"showlegend\": false, \"type\": \"box\", \"x\": [\"B\", \"B\", \"B\", \"B\", \"B\", \"B\", \"B\", \"B\", \"B\", \"C\", \"C\", \"C\", \"C\", \"C\", \"C\", \"B\", \"B\", \"B\", \"B\", \"B\", \"B\", \"B\", \"B\", \"B\", \"B\", \"B\", \"B\", \"B\", \"B\", \"B\", \"B\", \"B\", \"B\", \"B\", \"B\", \"B\", \"B\", \"B\", \"B\", \"B\", \"B\", \"B\", \"B\", \"B\", \"B\", \"B\", \"B\", \"B\", \"B\", \"B\", \"B\", \"B\", \"B\", \"B\", \"B\", \"B\", \"B\", \"B\", \"B\", \"B\", \"B\", \"B\", \"B\", \"B\", \"B\", \"B\", \"C\", \"C\", \"C\", \"C\", \"C\", \"C\", \"C\", \"C\", \"C\", \"C\", \"C\", \"C\", \"C\", \"C\", \"C\", \"C\", \"C\", \"C\", \"C\", \"C\", \"C\", \"C\", \"C\", \"C\", \"C\", \"C\", \"C\", \"C\", \"C\", \"B\", \"B\", \"B\", \"B\", \"B\", \"B\", \"B\", \"B\", \"B\", \"B\", \"B\", \"C\", \"C\", \"C\", \"B\", \"B\", \"B\", \"B\", \"B\", \"B\", \"B\", \"B\", \"B\", \"B\", \"B\", \"B\", \"B\", \"B\", \"B\", \"B\", \"B\", \"B\", \"B\", \"B\", \"B\", \"B\", \"B\", \"B\", \"B\", \"B\", \"B\", \"B\", \"B\", \"B\", \"B\", \"B\", \"B\", \"B\", \"B\", \"B\", \"B\", \"B\", \"B\", \"B\", \"B\", \"B\", \"B\", \"B\", \"B\", \"B\", \"B\", \"B\", \"B\", \"B\", \"B\", \"B\", \"B\", \"B\", \"B\", \"B\", \"B\", \"B\", \"B\", \"B\", \"B\", \"B\", \"B\", \"B\", \"B\", \"B\", \"B\", \"B\", \"B\", \"B\", \"C\", \"C\", \"C\", \"C\", \"C\", \"C\", \"C\", \"C\", \"C\", \"C\", \"C\", \"C\", \"C\", \"C\", \"C\", \"C\", \"C\", \"C\", \"C\", \"C\", \"C\", \"C\", \"C\", \"C\", \"C\", \"C\", \"C\", \"C\", \"C\", \"C\", \"C\", \"C\", \"C\", \"C\", \"C\", \"C\", \"C\", \"C\", \"C\", \"C\", \"C\", \"C\", \"C\", \"C\", \"C\", \"C\", \"C\", \"B\", \"B\", \"B\", \"B\", \"B\", \"B\", \"B\", \"B\", \"B\", \"B\", \"B\", \"B\", \"B\", \"B\", \"B\", \"B\", \"B\", \"B\", \"B\", \"B\", \"B\", \"B\", \"B\", \"B\", \"B\", \"B\", \"B\", \"B\", \"B\", \"B\", \"B\", \"B\", \"B\", \"B\", \"B\", \"B\", \"B\", \"B\", \"B\", \"B\", \"B\", \"B\", \"B\", \"B\", \"B\", \"B\", \"B\", \"B\", \"B\", \"B\", \"B\", \"B\", \"B\", \"B\", \"B\", \"B\", \"B\", \"B\", \"B\", \"B\", \"B\", \"B\", \"B\", \"B\", \"B\", \"B\", \"B\", \"B\", \"B\", \"B\", \"B\", \"B\", \"B\", \"B\", \"B\", \"B\", \"B\", \"B\", \"B\", \"B\", \"B\", \"B\", \"B\", \"B\", \"B\", \"B\", \"B\", \"B\", \"B\", \"B\", \"B\", \"B\", \"B\", \"B\", \"B\", \"B\", \"B\", \"B\", \"B\", \"B\", \"B\", \"B\", \"B\", \"B\", \"B\", \"B\", \"B\", \"B\", \"B\", \"B\", \"B\", \"B\", \"B\", \"B\", \"B\", \"B\", \"B\", \"B\", \"B\", \"B\", \"B\", \"B\", \"B\", \"B\", \"B\", \"B\", \"B\", \"B\", \"B\", \"B\", \"B\", \"B\", \"B\", \"B\", \"B\", \"B\", \"B\", \"B\", \"B\", \"B\", \"B\", \"B\", \"B\", \"B\", \"B\", \"B\", \"B\", \"B\", \"B\", \"B\", \"B\", \"B\", \"B\", \"B\", \"B\", \"B\", \"B\", \"B\", \"B\", \"B\", \"B\", \"B\", \"B\", \"B\", \"B\", \"B\", \"B\", \"B\", \"B\", \"B\", \"B\", \"B\", \"B\", \"B\", \"B\", \"B\", \"B\", \"B\", \"B\", \"B\", \"B\", \"B\", \"B\", \"C\", \"C\", \"C\", \"C\", \"C\", \"C\", \"C\", \"C\", \"B\", \"B\", \"B\", \"B\", \"B\", \"B\", \"B\", \"B\", \"B\", \"B\", \"B\", \"B\", \"B\", \"B\", \"B\", \"B\", \"B\", \"B\", \"B\", \"B\", \"B\", \"B\", \"B\", \"B\", \"B\", \"B\", \"B\", \"B\", \"B\", \"B\", \"B\", \"B\", \"B\", \"B\", \"B\", \"B\", \"B\", \"C\", \"B\", \"B\", \"B\", \"B\", \"B\", \"C\", \"C\", \"C\", \"C\", \"C\", \"C\"], \"x0\": \" \", \"xaxis\": \"x\", \"y\": [35.08, 33.4, 31.72, 31.12, 28.39, 29.7, 27.47, 27.61, 31.63, 26.3, 27.13, 22.49, 24.66, 16.96, 20.15, 30.93, 31.9, 31.3, 30.83, 31.02, 30.3, 30.6, 30.6, 33.52, 32.47, 32.41, 32.14, 33.9, 32.83, 35.01, 51.28, 43.52, 42.89, 49.06, 44.21, 45.48, 44.6, 38.14, 33.43, 46.48, 46.74, 46.78, 42.62, 46.6, 46.46, 52.0, 49.79, 51.63, 49.51, 41.84, 38.95, 52.97, 49.15, 33.26, 33.77, 38.85, 37.04, 35.9, 37.06, 36.23, 33.84, 36.62, 33.86, 36.65, 34.59, 37.24, 25.32, 26.27, 25.46, 28.11, 30.02, 25.0, 31.89, 30.4, 30.58, 32.55, 27.38, 23.81, 22.79, 20.28, 23.33, 24.34, 20.74, 18.1, 21.53, 22.81, 20.43, 21.72, 20.52, 23.31, 22.72, 22.04, 24.11, 26.34, 25.23, 39.12, 34.09, 31.18, 31.25, 30.49, 31.01, 34.94, 34.73, 33.26, 30.4, 39.45, 36.56, 37.59, 34.38, 27.27, 26.77, 24.99, 26.67, 29.5, 29.06, 31.79, 27.15, 28.49, 29.67, 28.73, 38.37, 37.64, 44.87, 43.54, 45.08, 37.38, 44.91, 37.72, 35.68, 31.77, 30.22, 32.61, 33.11, 36.06, 33.79, 31.01, 34.14, 36.59, 32.32, 36.4, 35.01, 36.48, 35.68, 37.27, 38.2, 39.58, 41.4, 38.88, 37.34, 33.03, 37.85, 36.12, 41.45, 32.42, 33.51, 37.2, 33.63, 38.44, 32.46, 32.78, 28.08, 33.8, 30.87, 26.86, 40.19, 38.51, 39.11, 43.12, 39.79, 38.92, 40.86, 42.29, 33.2, 34.45, 38.18, 43.15, 37.24, 34.5, 45.71, 29.78, 27.93, 30.76, 35.22, 36.01, 29.84, 30.51, 28.5, 32.35, 34.28, 32.74, 33.45, 33.71, 30.4, 29.56, 27.56, 28.85, 29.74, 30.78, 28.53, 31.74, 32.92, 35.62, 38.09, 36.31, 37.81, 35.4, 36.2, 35.11, 30.0, 26.39, 27.87, 28.99, 25.41, 25.14, 29.98, 25.54, 25.21, 32.73, 25.01, 24.54, 34.88, 29.67, 30.69, 36.28, 34.07, 28.25, 37.54, 39.53, 31.48, 29.69, 32.49, 35.22, 34.09, 35.22, 33.79, 37.96, 37.03, 37.66, 40.0, 32.44, 35.92, 31.86, 35.2, 35.89, 35.39, 40.53, 40.14, 34.91, 38.42, 36.59, 30.88, 34.0, 32.64, 30.87, 35.15, 31.94, 35.39, 37.73, 37.77, 32.05, 38.36, 42.61, 43.19, 38.3, 37.46, 31.07, 32.51, 33.02, 38.61, 28.72, 30.44, 30.26, 27.53, 34.54, 26.54, 27.39, 21.2, 33.9, 31.71, 34.49, 35.72, 27.98, 26.02, 29.0, 27.06, 26.39, 24.03, 33.17, 27.43, 31.39, 28.41, 30.16, 29.92, 30.02, 29.46, 27.31, 28.38, 29.64, 30.5, 40.23, 39.69, 35.81, 34.7, 38.75, 30.32, 35.07, 29.37, 33.09, 31.39, 31.19, 31.76, 33.84, 30.49, 34.47, 29.24, 31.72, 38.11, 35.69, 37.13, 34.04, 33.82, 32.46, 30.58, 29.93, 34.49, 38.16, 32.56, 32.54, 32.31, 32.6, 29.51, 31.26, 32.16, 31.26, 33.01, 21.27, 23.67, 25.79, 29.67, 27.15, 22.14, 25.69, 23.59, 27.62, 24.96, 22.79, 22.12, 22.21, 22.79, 26.82, 25.29, 32.84, 26.07, 25.56, 26.66, 27.64, 26.95, 32.4, 27.28, 27.28, 29.56, 31.61, 37.24, 33.4, 36.56, 37.67, 33.07, 34.88, 39.48, 37.77, 41.83, 40.1, 39.59, 40.66, 31.24, 40.21, 39.14, 36.4, 38.04, 40.48, 36.24, 35.22, 37.81, 25.1, 26.16, 29.65, 25.89, 28.43, 27.34, 28.71, 30.68, 27.69, 33.25, 31.54, 28.22, 32.02, 38.06, 37.31, 33.48, 38.79, 42.01, 38.08, 34.63, 28.4, 32.64, 33.01, 38.7, 33.66, 34.69, 22.25, 27.36, 31.42, 31.74, 30.62, 29.6, 28.29, 37.17, 34.45, 37.54, 39.44, 42.79, 37.86, 37.46, 36.98, 41.96, 44.3, 39.97, 42.35, 37.32, 36.4, 35.29, 35.55, 33.93, 34.74, 36.2, 32.68, 30.0, 30.44, 31.34, 29.48, 33.72, 28.94, 34.8, 21.92, 33.07, 31.74, 29.56, 37.04, 34.65, 33.19, 34.38, 36.17, 49.94, 38.19, 28.88, 28.01, 29.1, 32.45, 25.68, 31.51, 22.32, 20.79, 33.29, 49.8, 48.35, 46.11], \"y0\": \" \", \"yaxis\": \"y\"}],                        {\"boxmode\": \"group\", \"legend\": {\"tracegroupgap\": 0}, \"template\": {\"data\": {\"bar\": [{\"error_x\": {\"color\": \"#2a3f5f\"}, \"error_y\": {\"color\": \"#2a3f5f\"}, \"marker\": {\"line\": {\"color\": \"#E5ECF6\", \"width\": 0.5}}, \"type\": \"bar\"}], \"barpolar\": [{\"marker\": {\"line\": {\"color\": \"#E5ECF6\", \"width\": 0.5}}, \"type\": \"barpolar\"}], \"carpet\": [{\"aaxis\": {\"endlinecolor\": \"#2a3f5f\", \"gridcolor\": \"white\", \"linecolor\": \"white\", \"minorgridcolor\": \"white\", \"startlinecolor\": \"#2a3f5f\"}, \"baxis\": {\"endlinecolor\": \"#2a3f5f\", \"gridcolor\": \"white\", \"linecolor\": \"white\", \"minorgridcolor\": \"white\", \"startlinecolor\": \"#2a3f5f\"}, \"type\": \"carpet\"}], \"choropleth\": [{\"colorbar\": {\"outlinewidth\": 0, \"ticks\": \"\"}, \"type\": \"choropleth\"}], \"contour\": [{\"colorbar\": {\"outlinewidth\": 0, \"ticks\": \"\"}, \"colorscale\": [[0.0, \"#0d0887\"], [0.1111111111111111, \"#46039f\"], [0.2222222222222222, \"#7201a8\"], [0.3333333333333333, \"#9c179e\"], [0.4444444444444444, \"#bd3786\"], [0.5555555555555556, \"#d8576b\"], [0.6666666666666666, \"#ed7953\"], [0.7777777777777778, \"#fb9f3a\"], [0.8888888888888888, \"#fdca26\"], [1.0, \"#f0f921\"]], \"type\": \"contour\"}], \"contourcarpet\": [{\"colorbar\": {\"outlinewidth\": 0, \"ticks\": \"\"}, \"type\": \"contourcarpet\"}], \"heatmap\": [{\"colorbar\": {\"outlinewidth\": 0, \"ticks\": \"\"}, \"colorscale\": [[0.0, \"#0d0887\"], [0.1111111111111111, \"#46039f\"], [0.2222222222222222, \"#7201a8\"], [0.3333333333333333, \"#9c179e\"], [0.4444444444444444, \"#bd3786\"], [0.5555555555555556, \"#d8576b\"], [0.6666666666666666, \"#ed7953\"], [0.7777777777777778, \"#fb9f3a\"], [0.8888888888888888, \"#fdca26\"], [1.0, \"#f0f921\"]], \"type\": \"heatmap\"}], \"heatmapgl\": [{\"colorbar\": {\"outlinewidth\": 0, \"ticks\": \"\"}, \"colorscale\": [[0.0, \"#0d0887\"], [0.1111111111111111, \"#46039f\"], [0.2222222222222222, \"#7201a8\"], [0.3333333333333333, \"#9c179e\"], [0.4444444444444444, \"#bd3786\"], [0.5555555555555556, \"#d8576b\"], [0.6666666666666666, \"#ed7953\"], [0.7777777777777778, \"#fb9f3a\"], [0.8888888888888888, \"#fdca26\"], [1.0, \"#f0f921\"]], \"type\": \"heatmapgl\"}], \"histogram\": [{\"marker\": {\"colorbar\": {\"outlinewidth\": 0, \"ticks\": \"\"}}, \"type\": \"histogram\"}], \"histogram2d\": [{\"colorbar\": {\"outlinewidth\": 0, \"ticks\": \"\"}, \"colorscale\": [[0.0, \"#0d0887\"], [0.1111111111111111, \"#46039f\"], [0.2222222222222222, \"#7201a8\"], [0.3333333333333333, \"#9c179e\"], [0.4444444444444444, \"#bd3786\"], [0.5555555555555556, \"#d8576b\"], [0.6666666666666666, \"#ed7953\"], [0.7777777777777778, \"#fb9f3a\"], [0.8888888888888888, \"#fdca26\"], [1.0, \"#f0f921\"]], \"type\": \"histogram2d\"}], \"histogram2dcontour\": [{\"colorbar\": {\"outlinewidth\": 0, \"ticks\": \"\"}, \"colorscale\": [[0.0, \"#0d0887\"], [0.1111111111111111, \"#46039f\"], [0.2222222222222222, \"#7201a8\"], [0.3333333333333333, \"#9c179e\"], [0.4444444444444444, \"#bd3786\"], [0.5555555555555556, \"#d8576b\"], [0.6666666666666666, \"#ed7953\"], [0.7777777777777778, \"#fb9f3a\"], [0.8888888888888888, \"#fdca26\"], [1.0, \"#f0f921\"]], \"type\": \"histogram2dcontour\"}], \"mesh3d\": [{\"colorbar\": {\"outlinewidth\": 0, \"ticks\": \"\"}, \"type\": \"mesh3d\"}], \"parcoords\": [{\"line\": {\"colorbar\": {\"outlinewidth\": 0, \"ticks\": \"\"}}, \"type\": \"parcoords\"}], \"pie\": [{\"automargin\": true, \"type\": \"pie\"}], \"scatter\": [{\"marker\": {\"colorbar\": {\"outlinewidth\": 0, \"ticks\": \"\"}}, \"type\": \"scatter\"}], \"scatter3d\": [{\"line\": {\"colorbar\": {\"outlinewidth\": 0, \"ticks\": \"\"}}, \"marker\": {\"colorbar\": {\"outlinewidth\": 0, \"ticks\": \"\"}}, \"type\": \"scatter3d\"}], \"scattercarpet\": [{\"marker\": {\"colorbar\": {\"outlinewidth\": 0, \"ticks\": \"\"}}, \"type\": \"scattercarpet\"}], \"scattergeo\": [{\"marker\": {\"colorbar\": {\"outlinewidth\": 0, \"ticks\": \"\"}}, \"type\": \"scattergeo\"}], \"scattergl\": [{\"marker\": {\"colorbar\": {\"outlinewidth\": 0, \"ticks\": \"\"}}, \"type\": \"scattergl\"}], \"scattermapbox\": [{\"marker\": {\"colorbar\": {\"outlinewidth\": 0, \"ticks\": \"\"}}, \"type\": \"scattermapbox\"}], \"scatterpolar\": [{\"marker\": {\"colorbar\": {\"outlinewidth\": 0, \"ticks\": \"\"}}, \"type\": \"scatterpolar\"}], \"scatterpolargl\": [{\"marker\": {\"colorbar\": {\"outlinewidth\": 0, \"ticks\": \"\"}}, \"type\": \"scatterpolargl\"}], \"scatterternary\": [{\"marker\": {\"colorbar\": {\"outlinewidth\": 0, \"ticks\": \"\"}}, \"type\": \"scatterternary\"}], \"surface\": [{\"colorbar\": {\"outlinewidth\": 0, \"ticks\": \"\"}, \"colorscale\": [[0.0, \"#0d0887\"], [0.1111111111111111, \"#46039f\"], [0.2222222222222222, \"#7201a8\"], [0.3333333333333333, \"#9c179e\"], [0.4444444444444444, \"#bd3786\"], [0.5555555555555556, \"#d8576b\"], [0.6666666666666666, \"#ed7953\"], [0.7777777777777778, \"#fb9f3a\"], [0.8888888888888888, \"#fdca26\"], [1.0, \"#f0f921\"]], \"type\": \"surface\"}], \"table\": [{\"cells\": {\"fill\": {\"color\": \"#EBF0F8\"}, \"line\": {\"color\": \"white\"}}, \"header\": {\"fill\": {\"color\": \"#C8D4E3\"}, \"line\": {\"color\": \"white\"}}, \"type\": \"table\"}]}, \"layout\": {\"annotationdefaults\": {\"arrowcolor\": \"#2a3f5f\", \"arrowhead\": 0, \"arrowwidth\": 1}, \"autotypenumbers\": \"strict\", \"coloraxis\": {\"colorbar\": {\"outlinewidth\": 0, \"ticks\": \"\"}}, \"colorscale\": {\"diverging\": [[0, \"#8e0152\"], [0.1, \"#c51b7d\"], [0.2, \"#de77ae\"], [0.3, \"#f1b6da\"], [0.4, \"#fde0ef\"], [0.5, \"#f7f7f7\"], [0.6, \"#e6f5d0\"], [0.7, \"#b8e186\"], [0.8, \"#7fbc41\"], [0.9, \"#4d9221\"], [1, \"#276419\"]], \"sequential\": [[0.0, \"#0d0887\"], [0.1111111111111111, \"#46039f\"], [0.2222222222222222, \"#7201a8\"], [0.3333333333333333, \"#9c179e\"], [0.4444444444444444, \"#bd3786\"], [0.5555555555555556, \"#d8576b\"], [0.6666666666666666, \"#ed7953\"], [0.7777777777777778, \"#fb9f3a\"], [0.8888888888888888, \"#fdca26\"], [1.0, \"#f0f921\"]], \"sequentialminus\": [[0.0, \"#0d0887\"], [0.1111111111111111, \"#46039f\"], [0.2222222222222222, \"#7201a8\"], [0.3333333333333333, \"#9c179e\"], [0.4444444444444444, \"#bd3786\"], [0.5555555555555556, \"#d8576b\"], [0.6666666666666666, \"#ed7953\"], [0.7777777777777778, \"#fb9f3a\"], [0.8888888888888888, \"#fdca26\"], [1.0, \"#f0f921\"]]}, \"colorway\": [\"#636efa\", \"#EF553B\", \"#00cc96\", \"#ab63fa\", \"#FFA15A\", \"#19d3f3\", \"#FF6692\", \"#B6E880\", \"#FF97FF\", \"#FECB52\"], \"font\": {\"color\": \"#2a3f5f\"}, \"geo\": {\"bgcolor\": \"white\", \"lakecolor\": \"white\", \"landcolor\": \"#E5ECF6\", \"showlakes\": true, \"showland\": true, \"subunitcolor\": \"white\"}, \"hoverlabel\": {\"align\": \"left\"}, \"hovermode\": \"closest\", \"mapbox\": {\"style\": \"light\"}, \"paper_bgcolor\": \"white\", \"plot_bgcolor\": \"#E5ECF6\", \"polar\": {\"angularaxis\": {\"gridcolor\": \"white\", \"linecolor\": \"white\", \"ticks\": \"\"}, \"bgcolor\": \"#E5ECF6\", \"radialaxis\": {\"gridcolor\": \"white\", \"linecolor\": \"white\", \"ticks\": \"\"}}, \"scene\": {\"xaxis\": {\"backgroundcolor\": \"#E5ECF6\", \"gridcolor\": \"white\", \"gridwidth\": 2, \"linecolor\": \"white\", \"showbackground\": true, \"ticks\": \"\", \"zerolinecolor\": \"white\"}, \"yaxis\": {\"backgroundcolor\": \"#E5ECF6\", \"gridcolor\": \"white\", \"gridwidth\": 2, \"linecolor\": \"white\", \"showbackground\": true, \"ticks\": \"\", \"zerolinecolor\": \"white\"}, \"zaxis\": {\"backgroundcolor\": \"#E5ECF6\", \"gridcolor\": \"white\", \"gridwidth\": 2, \"linecolor\": \"white\", \"showbackground\": true, \"ticks\": \"\", \"zerolinecolor\": \"white\"}}, \"shapedefaults\": {\"line\": {\"color\": \"#2a3f5f\"}}, \"ternary\": {\"aaxis\": {\"gridcolor\": \"white\", \"linecolor\": \"white\", \"ticks\": \"\"}, \"baxis\": {\"gridcolor\": \"white\", \"linecolor\": \"white\", \"ticks\": \"\"}, \"bgcolor\": \"#E5ECF6\", \"caxis\": {\"gridcolor\": \"white\", \"linecolor\": \"white\", \"ticks\": \"\"}}, \"title\": {\"x\": 0.05}, \"xaxis\": {\"automargin\": true, \"gridcolor\": \"white\", \"linecolor\": \"white\", \"ticks\": \"\", \"title\": {\"standoff\": 15}, \"zerolinecolor\": \"white\", \"zerolinewidth\": 2}, \"yaxis\": {\"automargin\": true, \"gridcolor\": \"white\", \"linecolor\": \"white\", \"ticks\": \"\", \"title\": {\"standoff\": 15}, \"zerolinecolor\": \"white\", \"zerolinewidth\": 2}}}, \"title\": {\"text\": \"Tipo de Lan\\u00e7amento x Rompimento 28 Dias\"}, \"xaxis\": {\"anchor\": \"y\", \"domain\": [0.0, 1.0], \"title\": {\"text\": \"TipoLancamento\"}}, \"yaxis\": {\"anchor\": \"x\", \"domain\": [0.0, 1.0], \"title\": {\"text\": \"Rompimento28Dias\"}}},                        {\"responsive\": true}                    ).then(function(){\n",
       "                            \n",
       "var gd = document.getElementById('a8dcce9f-d6db-48fa-a862-dfa1508a97ac');\n",
       "var x = new MutationObserver(function (mutations, observer) {{\n",
       "        var display = window.getComputedStyle(gd).display;\n",
       "        if (!display || display === 'none') {{\n",
       "            console.log([gd, 'removed!']);\n",
       "            Plotly.purge(gd);\n",
       "            observer.disconnect();\n",
       "        }}\n",
       "}});\n",
       "\n",
       "// Listen for the removal of the full notebook cells\n",
       "var notebookContainer = gd.closest('#notebook-container');\n",
       "if (notebookContainer) {{\n",
       "    x.observe(notebookContainer, {childList: true});\n",
       "}}\n",
       "\n",
       "// Listen for the clearing of the current output cell\n",
       "var outputEl = gd.closest('.output');\n",
       "if (outputEl) {{\n",
       "    x.observe(outputEl, {childList: true});\n",
       "}}\n",
       "\n",
       "                        })                };                });            </script>        </div>"
      ]
     },
     "metadata": {},
     "output_type": "display_data"
    }
   ],
   "source": [
    "fig = px.box(dados_aglomerante, x=\"TipoLancamento\", y=\"Rompimento28Dias\", title='Tipo de Lançamento x Rompimento 28 Dias')\n",
    "fig.show()"
   ]
  },
  {
   "cell_type": "code",
   "execution_count": 337,
   "metadata": {},
   "outputs": [
    {
     "data": {
      "application/vnd.plotly.v1+json": {
       "config": {
        "plotlyServerURL": "https://plot.ly"
       },
       "data": [
        {
         "alignmentgroup": "True",
         "hovertemplate": "TipoTraco=%{x}<br>Rompimento28Dias=%{y}<extra></extra>",
         "legendgroup": "",
         "marker": {
          "color": "#636efa"
         },
         "name": "",
         "notched": false,
         "offsetgroup": "",
         "orientation": "v",
         "showlegend": false,
         "type": "box",
         "x": [
          "N",
          "N",
          "N",
          "N",
          "N",
          "N",
          "N",
          "N",
          "N",
          "N",
          "N",
          "N",
          "N",
          "N",
          "N",
          "N",
          "N",
          "N",
          "N",
          "N",
          "N",
          "N",
          "N",
          "N",
          "N",
          "N",
          "N",
          "N",
          "N",
          "N",
          "E",
          "E",
          "E",
          "E",
          "E",
          "E",
          "E",
          "E",
          "E",
          "E",
          "E",
          "E",
          "E",
          "E",
          "E",
          "E",
          "E",
          "E",
          "E",
          "E",
          "E",
          "E",
          "E",
          "E",
          "E",
          "E",
          "E",
          "E",
          "E",
          "E",
          "E",
          "E",
          "E",
          "E",
          "E",
          "E",
          "N",
          "N",
          "N",
          "N",
          "N",
          "N",
          "N",
          "N",
          "N",
          "N",
          "N",
          "N",
          "N",
          "N",
          "N",
          "N",
          "N",
          "N",
          "N",
          "N",
          "N",
          "N",
          "N",
          "N",
          "N",
          "N",
          "N",
          "N",
          "N",
          "E",
          "E",
          "E",
          "E",
          "E",
          "E",
          "E",
          "E",
          "E",
          "E",
          "E",
          "N",
          "N",
          "N",
          "N",
          "N",
          "N",
          "N",
          "N",
          "N",
          "N",
          "N",
          "N",
          "N",
          "N",
          "N",
          "N",
          "N",
          "N",
          "N",
          "N",
          "N",
          "N",
          "N",
          "N",
          "N",
          "N",
          "N",
          "N",
          "N",
          "N",
          "N",
          "N",
          "N",
          "N",
          "N",
          "N",
          "N",
          "N",
          "N",
          "N",
          "N",
          "N",
          "N",
          "N",
          "N",
          "N",
          "N",
          "N",
          "N",
          "N",
          "N",
          "N",
          "N",
          "N",
          "N",
          "N",
          "N",
          "N",
          "N",
          "E",
          "E",
          "E",
          "E",
          "E",
          "E",
          "E",
          "E",
          "E",
          "E",
          "E",
          "E",
          "E",
          "E",
          "N",
          "N",
          "N",
          "N",
          "N",
          "N",
          "N",
          "N",
          "N",
          "N",
          "N",
          "N",
          "N",
          "N",
          "N",
          "N",
          "N",
          "N",
          "N",
          "N",
          "N",
          "N",
          "N",
          "N",
          "N",
          "N",
          "N",
          "N",
          "N",
          "N",
          "N",
          "N",
          "N",
          "N",
          "N",
          "N",
          "N",
          "N",
          "N",
          "N",
          "N",
          "N",
          "N",
          "N",
          "N",
          "N",
          "N",
          "N",
          "N",
          "N",
          "N",
          "N",
          "N",
          "N",
          "N",
          "N",
          "N",
          "N",
          "N",
          "N",
          "N",
          "N",
          "N",
          "N",
          "N",
          "N",
          "N",
          "N",
          "N",
          "N",
          "N",
          "N",
          "N",
          "N",
          "N",
          "N",
          "N",
          "N",
          "N",
          "N",
          "E",
          "N",
          "N",
          "N",
          "N",
          "N",
          "N",
          "N",
          "N",
          "N",
          "N",
          "N",
          "N",
          "N",
          "N",
          "N",
          "N",
          "N",
          "N",
          "N",
          "N",
          "N",
          "N",
          "N",
          "N",
          "N",
          "N",
          "N",
          "N",
          "N",
          "N",
          "N",
          "N",
          "N",
          "N",
          "N",
          "N",
          "N",
          "N",
          "N",
          "N",
          "N",
          "N",
          "N",
          "N",
          "N",
          "N",
          "N",
          "N",
          "N",
          "N",
          "N",
          "N",
          "N",
          "N",
          "N",
          "N",
          "N",
          "N",
          "N",
          "N",
          "N",
          "N",
          "N",
          "N",
          "N",
          "N",
          "N",
          "N",
          "N",
          "N",
          "N",
          "N",
          "N",
          "N",
          "N",
          "N",
          "N",
          "N",
          "N",
          "N",
          "N",
          "N",
          "N",
          "N",
          "N",
          "N",
          "N",
          "N",
          "N",
          "N",
          "N",
          "N",
          "N",
          "N",
          "N",
          "N",
          "N",
          "N",
          "N",
          "N",
          "N",
          "N",
          "N",
          "N",
          "N",
          "N",
          "N",
          "N",
          "E",
          "E",
          "E",
          "E",
          "E",
          "E",
          "E",
          "N",
          "N",
          "N",
          "N",
          "N",
          "N",
          "N",
          "N",
          "E",
          "E",
          "E",
          "E",
          "E",
          "E",
          "E",
          "E",
          "E",
          "E",
          "E",
          "E",
          "E",
          "E",
          "E",
          "E",
          "E",
          "E",
          "E",
          "E",
          "E",
          "E",
          "E",
          "E",
          "E",
          "E",
          "N",
          "N",
          "N",
          "N",
          "N",
          "N",
          "N",
          "N",
          "N",
          "N",
          "N",
          "N",
          "N",
          "N",
          "N",
          "N",
          "N",
          "N",
          "N",
          "N",
          "N",
          "N",
          "N",
          "N",
          "N",
          "N",
          "N",
          "N",
          "N",
          "N",
          "N",
          "N",
          "N",
          "N",
          "N",
          "E",
          "E",
          "E",
          "E",
          "N",
          "E",
          "E",
          "E",
          "N",
          "N",
          "N",
          "N",
          "N",
          "N",
          "N",
          "N",
          "N",
          "N",
          "N",
          "E",
          "E",
          "E"
         ],
         "x0": " ",
         "xaxis": "x",
         "y": [
          35.08,
          33.4,
          31.72,
          31.12,
          28.39,
          29.7,
          27.47,
          27.61,
          31.63,
          26.3,
          27.13,
          22.49,
          24.66,
          16.96,
          20.15,
          30.93,
          31.9,
          31.3,
          30.83,
          31.02,
          30.3,
          30.6,
          30.6,
          33.52,
          32.47,
          32.41,
          32.14,
          33.9,
          32.83,
          35.01,
          51.28,
          43.52,
          42.89,
          49.06,
          44.21,
          45.48,
          44.6,
          38.14,
          33.43,
          46.48,
          46.74,
          46.78,
          42.62,
          46.6,
          46.46,
          52,
          49.79,
          51.63,
          49.51,
          41.84,
          38.95,
          52.97,
          49.15,
          33.26,
          33.77,
          38.85,
          37.04,
          35.9,
          37.06,
          36.23,
          33.84,
          36.62,
          33.86,
          36.65,
          34.59,
          37.24,
          25.32,
          26.27,
          25.46,
          28.11,
          30.02,
          25,
          31.89,
          30.4,
          30.58,
          32.55,
          27.38,
          23.81,
          22.79,
          20.28,
          23.33,
          24.34,
          20.74,
          18.1,
          21.53,
          22.81,
          20.43,
          21.72,
          20.52,
          23.31,
          22.72,
          22.04,
          24.11,
          26.34,
          25.23,
          39.12,
          34.09,
          31.18,
          31.25,
          30.49,
          31.01,
          34.94,
          34.73,
          33.26,
          30.4,
          39.45,
          36.56,
          37.59,
          34.38,
          27.27,
          26.77,
          24.99,
          26.67,
          29.5,
          29.06,
          31.79,
          27.15,
          28.49,
          29.67,
          28.73,
          38.37,
          37.64,
          44.87,
          43.54,
          45.08,
          37.38,
          44.91,
          37.72,
          35.68,
          31.77,
          30.22,
          32.61,
          33.11,
          36.06,
          33.79,
          31.01,
          34.14,
          36.59,
          32.32,
          36.4,
          35.01,
          36.48,
          35.68,
          37.27,
          38.2,
          39.58,
          41.4,
          38.88,
          37.34,
          33.03,
          37.85,
          36.12,
          41.45,
          32.42,
          33.51,
          37.2,
          33.63,
          38.44,
          32.46,
          32.78,
          28.08,
          33.8,
          30.87,
          26.86,
          40.19,
          38.51,
          39.11,
          43.12,
          39.79,
          38.92,
          40.86,
          42.29,
          33.2,
          34.45,
          38.18,
          43.15,
          37.24,
          34.5,
          45.71,
          29.78,
          27.93,
          30.76,
          35.22,
          36.01,
          29.84,
          30.51,
          28.5,
          32.35,
          34.28,
          32.74,
          33.45,
          33.71,
          30.4,
          29.56,
          27.56,
          28.85,
          29.74,
          30.78,
          28.53,
          31.74,
          32.92,
          35.62,
          38.09,
          36.31,
          37.81,
          35.4,
          36.2,
          35.11,
          30,
          26.39,
          27.87,
          28.99,
          25.41,
          25.14,
          29.98,
          25.54,
          25.21,
          32.73,
          25.01,
          24.54,
          34.88,
          29.67,
          30.69,
          36.28,
          34.07,
          28.25,
          37.54,
          39.53,
          31.48,
          29.69,
          32.49,
          35.22,
          34.09,
          35.22,
          33.79,
          37.96,
          37.03,
          37.66,
          40,
          32.44,
          35.92,
          31.86,
          35.2,
          35.89,
          35.39,
          40.53,
          40.14,
          34.91,
          38.42,
          36.59,
          30.88,
          34,
          32.64,
          30.87,
          35.15,
          31.94,
          35.39,
          37.73,
          37.77,
          32.05,
          38.36,
          42.61,
          43.19,
          38.3,
          37.46,
          31.07,
          32.51,
          33.02,
          38.61,
          28.72,
          30.44,
          30.26,
          27.53,
          34.54,
          26.54,
          27.39,
          21.2,
          33.9,
          31.71,
          34.49,
          35.72,
          27.98,
          26.02,
          29,
          27.06,
          26.39,
          24.03,
          33.17,
          27.43,
          31.39,
          28.41,
          30.16,
          29.92,
          30.02,
          29.46,
          27.31,
          28.38,
          29.64,
          30.5,
          40.23,
          39.69,
          35.81,
          34.7,
          38.75,
          30.32,
          35.07,
          29.37,
          33.09,
          31.39,
          31.19,
          31.76,
          33.84,
          30.49,
          34.47,
          29.24,
          31.72,
          38.11,
          35.69,
          37.13,
          34.04,
          33.82,
          32.46,
          30.58,
          29.93,
          34.49,
          38.16,
          32.56,
          32.54,
          32.31,
          32.6,
          29.51,
          31.26,
          32.16,
          31.26,
          33.01,
          21.27,
          23.67,
          25.79,
          29.67,
          27.15,
          22.14,
          25.69,
          23.59,
          27.62,
          24.96,
          22.79,
          22.12,
          22.21,
          22.79,
          26.82,
          25.29,
          32.84,
          26.07,
          25.56,
          26.66,
          27.64,
          26.95,
          32.4,
          27.28,
          27.28,
          29.56,
          31.61,
          37.24,
          33.4,
          36.56,
          37.67,
          33.07,
          34.88,
          39.48,
          37.77,
          41.83,
          40.1,
          39.59,
          40.66,
          31.24,
          40.21,
          39.14,
          36.4,
          38.04,
          40.48,
          36.24,
          35.22,
          37.81,
          25.1,
          26.16,
          29.65,
          25.89,
          28.43,
          27.34,
          28.71,
          30.68,
          27.69,
          33.25,
          31.54,
          28.22,
          32.02,
          38.06,
          37.31,
          33.48,
          38.79,
          42.01,
          38.08,
          34.63,
          28.4,
          32.64,
          33.01,
          38.7,
          33.66,
          34.69,
          22.25,
          27.36,
          31.42,
          31.74,
          30.62,
          29.6,
          28.29,
          37.17,
          34.45,
          37.54,
          39.44,
          42.79,
          37.86,
          37.46,
          36.98,
          41.96,
          44.3,
          39.97,
          42.35,
          37.32,
          36.4,
          35.29,
          35.55,
          33.93,
          34.74,
          36.2,
          32.68,
          30,
          30.44,
          31.34,
          29.48,
          33.72,
          28.94,
          34.8,
          21.92,
          33.07,
          31.74,
          29.56,
          37.04,
          34.65,
          33.19,
          34.38,
          36.17,
          49.94,
          38.19,
          28.88,
          28.01,
          29.1,
          32.45,
          25.68,
          31.51,
          22.32,
          20.79,
          33.29,
          49.8,
          48.35,
          46.11
         ],
         "y0": " ",
         "yaxis": "y"
        }
       ],
       "layout": {
        "boxmode": "group",
        "legend": {
         "tracegroupgap": 0
        },
        "template": {
         "data": {
          "bar": [
           {
            "error_x": {
             "color": "#2a3f5f"
            },
            "error_y": {
             "color": "#2a3f5f"
            },
            "marker": {
             "line": {
              "color": "#E5ECF6",
              "width": 0.5
             }
            },
            "type": "bar"
           }
          ],
          "barpolar": [
           {
            "marker": {
             "line": {
              "color": "#E5ECF6",
              "width": 0.5
             }
            },
            "type": "barpolar"
           }
          ],
          "carpet": [
           {
            "aaxis": {
             "endlinecolor": "#2a3f5f",
             "gridcolor": "white",
             "linecolor": "white",
             "minorgridcolor": "white",
             "startlinecolor": "#2a3f5f"
            },
            "baxis": {
             "endlinecolor": "#2a3f5f",
             "gridcolor": "white",
             "linecolor": "white",
             "minorgridcolor": "white",
             "startlinecolor": "#2a3f5f"
            },
            "type": "carpet"
           }
          ],
          "choropleth": [
           {
            "colorbar": {
             "outlinewidth": 0,
             "ticks": ""
            },
            "type": "choropleth"
           }
          ],
          "contour": [
           {
            "colorbar": {
             "outlinewidth": 0,
             "ticks": ""
            },
            "colorscale": [
             [
              0,
              "#0d0887"
             ],
             [
              0.1111111111111111,
              "#46039f"
             ],
             [
              0.2222222222222222,
              "#7201a8"
             ],
             [
              0.3333333333333333,
              "#9c179e"
             ],
             [
              0.4444444444444444,
              "#bd3786"
             ],
             [
              0.5555555555555556,
              "#d8576b"
             ],
             [
              0.6666666666666666,
              "#ed7953"
             ],
             [
              0.7777777777777778,
              "#fb9f3a"
             ],
             [
              0.8888888888888888,
              "#fdca26"
             ],
             [
              1,
              "#f0f921"
             ]
            ],
            "type": "contour"
           }
          ],
          "contourcarpet": [
           {
            "colorbar": {
             "outlinewidth": 0,
             "ticks": ""
            },
            "type": "contourcarpet"
           }
          ],
          "heatmap": [
           {
            "colorbar": {
             "outlinewidth": 0,
             "ticks": ""
            },
            "colorscale": [
             [
              0,
              "#0d0887"
             ],
             [
              0.1111111111111111,
              "#46039f"
             ],
             [
              0.2222222222222222,
              "#7201a8"
             ],
             [
              0.3333333333333333,
              "#9c179e"
             ],
             [
              0.4444444444444444,
              "#bd3786"
             ],
             [
              0.5555555555555556,
              "#d8576b"
             ],
             [
              0.6666666666666666,
              "#ed7953"
             ],
             [
              0.7777777777777778,
              "#fb9f3a"
             ],
             [
              0.8888888888888888,
              "#fdca26"
             ],
             [
              1,
              "#f0f921"
             ]
            ],
            "type": "heatmap"
           }
          ],
          "heatmapgl": [
           {
            "colorbar": {
             "outlinewidth": 0,
             "ticks": ""
            },
            "colorscale": [
             [
              0,
              "#0d0887"
             ],
             [
              0.1111111111111111,
              "#46039f"
             ],
             [
              0.2222222222222222,
              "#7201a8"
             ],
             [
              0.3333333333333333,
              "#9c179e"
             ],
             [
              0.4444444444444444,
              "#bd3786"
             ],
             [
              0.5555555555555556,
              "#d8576b"
             ],
             [
              0.6666666666666666,
              "#ed7953"
             ],
             [
              0.7777777777777778,
              "#fb9f3a"
             ],
             [
              0.8888888888888888,
              "#fdca26"
             ],
             [
              1,
              "#f0f921"
             ]
            ],
            "type": "heatmapgl"
           }
          ],
          "histogram": [
           {
            "marker": {
             "colorbar": {
              "outlinewidth": 0,
              "ticks": ""
             }
            },
            "type": "histogram"
           }
          ],
          "histogram2d": [
           {
            "colorbar": {
             "outlinewidth": 0,
             "ticks": ""
            },
            "colorscale": [
             [
              0,
              "#0d0887"
             ],
             [
              0.1111111111111111,
              "#46039f"
             ],
             [
              0.2222222222222222,
              "#7201a8"
             ],
             [
              0.3333333333333333,
              "#9c179e"
             ],
             [
              0.4444444444444444,
              "#bd3786"
             ],
             [
              0.5555555555555556,
              "#d8576b"
             ],
             [
              0.6666666666666666,
              "#ed7953"
             ],
             [
              0.7777777777777778,
              "#fb9f3a"
             ],
             [
              0.8888888888888888,
              "#fdca26"
             ],
             [
              1,
              "#f0f921"
             ]
            ],
            "type": "histogram2d"
           }
          ],
          "histogram2dcontour": [
           {
            "colorbar": {
             "outlinewidth": 0,
             "ticks": ""
            },
            "colorscale": [
             [
              0,
              "#0d0887"
             ],
             [
              0.1111111111111111,
              "#46039f"
             ],
             [
              0.2222222222222222,
              "#7201a8"
             ],
             [
              0.3333333333333333,
              "#9c179e"
             ],
             [
              0.4444444444444444,
              "#bd3786"
             ],
             [
              0.5555555555555556,
              "#d8576b"
             ],
             [
              0.6666666666666666,
              "#ed7953"
             ],
             [
              0.7777777777777778,
              "#fb9f3a"
             ],
             [
              0.8888888888888888,
              "#fdca26"
             ],
             [
              1,
              "#f0f921"
             ]
            ],
            "type": "histogram2dcontour"
           }
          ],
          "mesh3d": [
           {
            "colorbar": {
             "outlinewidth": 0,
             "ticks": ""
            },
            "type": "mesh3d"
           }
          ],
          "parcoords": [
           {
            "line": {
             "colorbar": {
              "outlinewidth": 0,
              "ticks": ""
             }
            },
            "type": "parcoords"
           }
          ],
          "pie": [
           {
            "automargin": true,
            "type": "pie"
           }
          ],
          "scatter": [
           {
            "marker": {
             "colorbar": {
              "outlinewidth": 0,
              "ticks": ""
             }
            },
            "type": "scatter"
           }
          ],
          "scatter3d": [
           {
            "line": {
             "colorbar": {
              "outlinewidth": 0,
              "ticks": ""
             }
            },
            "marker": {
             "colorbar": {
              "outlinewidth": 0,
              "ticks": ""
             }
            },
            "type": "scatter3d"
           }
          ],
          "scattercarpet": [
           {
            "marker": {
             "colorbar": {
              "outlinewidth": 0,
              "ticks": ""
             }
            },
            "type": "scattercarpet"
           }
          ],
          "scattergeo": [
           {
            "marker": {
             "colorbar": {
              "outlinewidth": 0,
              "ticks": ""
             }
            },
            "type": "scattergeo"
           }
          ],
          "scattergl": [
           {
            "marker": {
             "colorbar": {
              "outlinewidth": 0,
              "ticks": ""
             }
            },
            "type": "scattergl"
           }
          ],
          "scattermapbox": [
           {
            "marker": {
             "colorbar": {
              "outlinewidth": 0,
              "ticks": ""
             }
            },
            "type": "scattermapbox"
           }
          ],
          "scatterpolar": [
           {
            "marker": {
             "colorbar": {
              "outlinewidth": 0,
              "ticks": ""
             }
            },
            "type": "scatterpolar"
           }
          ],
          "scatterpolargl": [
           {
            "marker": {
             "colorbar": {
              "outlinewidth": 0,
              "ticks": ""
             }
            },
            "type": "scatterpolargl"
           }
          ],
          "scatterternary": [
           {
            "marker": {
             "colorbar": {
              "outlinewidth": 0,
              "ticks": ""
             }
            },
            "type": "scatterternary"
           }
          ],
          "surface": [
           {
            "colorbar": {
             "outlinewidth": 0,
             "ticks": ""
            },
            "colorscale": [
             [
              0,
              "#0d0887"
             ],
             [
              0.1111111111111111,
              "#46039f"
             ],
             [
              0.2222222222222222,
              "#7201a8"
             ],
             [
              0.3333333333333333,
              "#9c179e"
             ],
             [
              0.4444444444444444,
              "#bd3786"
             ],
             [
              0.5555555555555556,
              "#d8576b"
             ],
             [
              0.6666666666666666,
              "#ed7953"
             ],
             [
              0.7777777777777778,
              "#fb9f3a"
             ],
             [
              0.8888888888888888,
              "#fdca26"
             ],
             [
              1,
              "#f0f921"
             ]
            ],
            "type": "surface"
           }
          ],
          "table": [
           {
            "cells": {
             "fill": {
              "color": "#EBF0F8"
             },
             "line": {
              "color": "white"
             }
            },
            "header": {
             "fill": {
              "color": "#C8D4E3"
             },
             "line": {
              "color": "white"
             }
            },
            "type": "table"
           }
          ]
         },
         "layout": {
          "annotationdefaults": {
           "arrowcolor": "#2a3f5f",
           "arrowhead": 0,
           "arrowwidth": 1
          },
          "autotypenumbers": "strict",
          "coloraxis": {
           "colorbar": {
            "outlinewidth": 0,
            "ticks": ""
           }
          },
          "colorscale": {
           "diverging": [
            [
             0,
             "#8e0152"
            ],
            [
             0.1,
             "#c51b7d"
            ],
            [
             0.2,
             "#de77ae"
            ],
            [
             0.3,
             "#f1b6da"
            ],
            [
             0.4,
             "#fde0ef"
            ],
            [
             0.5,
             "#f7f7f7"
            ],
            [
             0.6,
             "#e6f5d0"
            ],
            [
             0.7,
             "#b8e186"
            ],
            [
             0.8,
             "#7fbc41"
            ],
            [
             0.9,
             "#4d9221"
            ],
            [
             1,
             "#276419"
            ]
           ],
           "sequential": [
            [
             0,
             "#0d0887"
            ],
            [
             0.1111111111111111,
             "#46039f"
            ],
            [
             0.2222222222222222,
             "#7201a8"
            ],
            [
             0.3333333333333333,
             "#9c179e"
            ],
            [
             0.4444444444444444,
             "#bd3786"
            ],
            [
             0.5555555555555556,
             "#d8576b"
            ],
            [
             0.6666666666666666,
             "#ed7953"
            ],
            [
             0.7777777777777778,
             "#fb9f3a"
            ],
            [
             0.8888888888888888,
             "#fdca26"
            ],
            [
             1,
             "#f0f921"
            ]
           ],
           "sequentialminus": [
            [
             0,
             "#0d0887"
            ],
            [
             0.1111111111111111,
             "#46039f"
            ],
            [
             0.2222222222222222,
             "#7201a8"
            ],
            [
             0.3333333333333333,
             "#9c179e"
            ],
            [
             0.4444444444444444,
             "#bd3786"
            ],
            [
             0.5555555555555556,
             "#d8576b"
            ],
            [
             0.6666666666666666,
             "#ed7953"
            ],
            [
             0.7777777777777778,
             "#fb9f3a"
            ],
            [
             0.8888888888888888,
             "#fdca26"
            ],
            [
             1,
             "#f0f921"
            ]
           ]
          },
          "colorway": [
           "#636efa",
           "#EF553B",
           "#00cc96",
           "#ab63fa",
           "#FFA15A",
           "#19d3f3",
           "#FF6692",
           "#B6E880",
           "#FF97FF",
           "#FECB52"
          ],
          "font": {
           "color": "#2a3f5f"
          },
          "geo": {
           "bgcolor": "white",
           "lakecolor": "white",
           "landcolor": "#E5ECF6",
           "showlakes": true,
           "showland": true,
           "subunitcolor": "white"
          },
          "hoverlabel": {
           "align": "left"
          },
          "hovermode": "closest",
          "mapbox": {
           "style": "light"
          },
          "paper_bgcolor": "white",
          "plot_bgcolor": "#E5ECF6",
          "polar": {
           "angularaxis": {
            "gridcolor": "white",
            "linecolor": "white",
            "ticks": ""
           },
           "bgcolor": "#E5ECF6",
           "radialaxis": {
            "gridcolor": "white",
            "linecolor": "white",
            "ticks": ""
           }
          },
          "scene": {
           "xaxis": {
            "backgroundcolor": "#E5ECF6",
            "gridcolor": "white",
            "gridwidth": 2,
            "linecolor": "white",
            "showbackground": true,
            "ticks": "",
            "zerolinecolor": "white"
           },
           "yaxis": {
            "backgroundcolor": "#E5ECF6",
            "gridcolor": "white",
            "gridwidth": 2,
            "linecolor": "white",
            "showbackground": true,
            "ticks": "",
            "zerolinecolor": "white"
           },
           "zaxis": {
            "backgroundcolor": "#E5ECF6",
            "gridcolor": "white",
            "gridwidth": 2,
            "linecolor": "white",
            "showbackground": true,
            "ticks": "",
            "zerolinecolor": "white"
           }
          },
          "shapedefaults": {
           "line": {
            "color": "#2a3f5f"
           }
          },
          "ternary": {
           "aaxis": {
            "gridcolor": "white",
            "linecolor": "white",
            "ticks": ""
           },
           "baxis": {
            "gridcolor": "white",
            "linecolor": "white",
            "ticks": ""
           },
           "bgcolor": "#E5ECF6",
           "caxis": {
            "gridcolor": "white",
            "linecolor": "white",
            "ticks": ""
           }
          },
          "title": {
           "x": 0.05
          },
          "xaxis": {
           "automargin": true,
           "gridcolor": "white",
           "linecolor": "white",
           "ticks": "",
           "title": {
            "standoff": 15
           },
           "zerolinecolor": "white",
           "zerolinewidth": 2
          },
          "yaxis": {
           "automargin": true,
           "gridcolor": "white",
           "linecolor": "white",
           "ticks": "",
           "title": {
            "standoff": 15
           },
           "zerolinecolor": "white",
           "zerolinewidth": 2
          }
         }
        },
        "title": {
         "text": "Tipo de Traço x Rompimento 28 Dias"
        },
        "xaxis": {
         "anchor": "y",
         "domain": [
          0,
          1
         ],
         "title": {
          "text": "TipoTraco"
         }
        },
        "yaxis": {
         "anchor": "x",
         "domain": [
          0,
          1
         ],
         "title": {
          "text": "Rompimento28Dias"
         }
        }
       }
      },
      "text/html": [
       "<div>                            <div id=\"b5ec6071-28e1-4b11-be61-37fd6f2c4b0c\" class=\"plotly-graph-div\" style=\"height:525px; width:100%;\"></div>            <script type=\"text/javascript\">                require([\"plotly\"], function(Plotly) {                    window.PLOTLYENV=window.PLOTLYENV || {};                                    if (document.getElementById(\"b5ec6071-28e1-4b11-be61-37fd6f2c4b0c\")) {                    Plotly.newPlot(                        \"b5ec6071-28e1-4b11-be61-37fd6f2c4b0c\",                        [{\"alignmentgroup\": \"True\", \"hovertemplate\": \"TipoTraco=%{x}<br>Rompimento28Dias=%{y}<extra></extra>\", \"legendgroup\": \"\", \"marker\": {\"color\": \"#636efa\"}, \"name\": \"\", \"notched\": false, \"offsetgroup\": \"\", \"orientation\": \"v\", \"showlegend\": false, \"type\": \"box\", \"x\": [\"N\", \"N\", \"N\", \"N\", \"N\", \"N\", \"N\", \"N\", \"N\", \"N\", \"N\", \"N\", \"N\", \"N\", \"N\", \"N\", \"N\", \"N\", \"N\", \"N\", \"N\", \"N\", \"N\", \"N\", \"N\", \"N\", \"N\", \"N\", \"N\", \"N\", \"E\", \"E\", \"E\", \"E\", \"E\", \"E\", \"E\", \"E\", \"E\", \"E\", \"E\", \"E\", \"E\", \"E\", \"E\", \"E\", \"E\", \"E\", \"E\", \"E\", \"E\", \"E\", \"E\", \"E\", \"E\", \"E\", \"E\", \"E\", \"E\", \"E\", \"E\", \"E\", \"E\", \"E\", \"E\", \"E\", \"N\", \"N\", \"N\", \"N\", \"N\", \"N\", \"N\", \"N\", \"N\", \"N\", \"N\", \"N\", \"N\", \"N\", \"N\", \"N\", \"N\", \"N\", \"N\", \"N\", \"N\", \"N\", \"N\", \"N\", \"N\", \"N\", \"N\", \"N\", \"N\", \"E\", \"E\", \"E\", \"E\", \"E\", \"E\", \"E\", \"E\", \"E\", \"E\", \"E\", \"N\", \"N\", \"N\", \"N\", \"N\", \"N\", \"N\", \"N\", \"N\", \"N\", \"N\", \"N\", \"N\", \"N\", \"N\", \"N\", \"N\", \"N\", \"N\", \"N\", \"N\", \"N\", \"N\", \"N\", \"N\", \"N\", \"N\", \"N\", \"N\", \"N\", \"N\", \"N\", \"N\", \"N\", \"N\", \"N\", \"N\", \"N\", \"N\", \"N\", \"N\", \"N\", \"N\", \"N\", \"N\", \"N\", \"N\", \"N\", \"N\", \"N\", \"N\", \"N\", \"N\", \"N\", \"N\", \"N\", \"N\", \"N\", \"N\", \"E\", \"E\", \"E\", \"E\", \"E\", \"E\", \"E\", \"E\", \"E\", \"E\", \"E\", \"E\", \"E\", \"E\", \"N\", \"N\", \"N\", \"N\", \"N\", \"N\", \"N\", \"N\", \"N\", \"N\", \"N\", \"N\", \"N\", \"N\", \"N\", \"N\", \"N\", \"N\", \"N\", \"N\", \"N\", \"N\", \"N\", \"N\", \"N\", \"N\", \"N\", \"N\", \"N\", \"N\", \"N\", \"N\", \"N\", \"N\", \"N\", \"N\", \"N\", \"N\", \"N\", \"N\", \"N\", \"N\", \"N\", \"N\", \"N\", \"N\", \"N\", \"N\", \"N\", \"N\", \"N\", \"N\", \"N\", \"N\", \"N\", \"N\", \"N\", \"N\", \"N\", \"N\", \"N\", \"N\", \"N\", \"N\", \"N\", \"N\", \"N\", \"N\", \"N\", \"N\", \"N\", \"N\", \"N\", \"N\", \"N\", \"N\", \"N\", \"N\", \"N\", \"N\", \"E\", \"N\", \"N\", \"N\", \"N\", \"N\", \"N\", \"N\", \"N\", \"N\", \"N\", \"N\", \"N\", \"N\", \"N\", \"N\", \"N\", \"N\", \"N\", \"N\", \"N\", \"N\", \"N\", \"N\", \"N\", \"N\", \"N\", \"N\", \"N\", \"N\", \"N\", \"N\", \"N\", \"N\", \"N\", \"N\", \"N\", \"N\", \"N\", \"N\", \"N\", \"N\", \"N\", \"N\", \"N\", \"N\", \"N\", \"N\", \"N\", \"N\", \"N\", \"N\", \"N\", \"N\", \"N\", \"N\", \"N\", \"N\", \"N\", \"N\", \"N\", \"N\", \"N\", \"N\", \"N\", \"N\", \"N\", \"N\", \"N\", \"N\", \"N\", \"N\", \"N\", \"N\", \"N\", \"N\", \"N\", \"N\", \"N\", \"N\", \"N\", \"N\", \"N\", \"N\", \"N\", \"N\", \"N\", \"N\", \"N\", \"N\", \"N\", \"N\", \"N\", \"N\", \"N\", \"N\", \"N\", \"N\", \"N\", \"N\", \"N\", \"N\", \"N\", \"N\", \"N\", \"N\", \"N\", \"N\", \"N\", \"E\", \"E\", \"E\", \"E\", \"E\", \"E\", \"E\", \"N\", \"N\", \"N\", \"N\", \"N\", \"N\", \"N\", \"N\", \"E\", \"E\", \"E\", \"E\", \"E\", \"E\", \"E\", \"E\", \"E\", \"E\", \"E\", \"E\", \"E\", \"E\", \"E\", \"E\", \"E\", \"E\", \"E\", \"E\", \"E\", \"E\", \"E\", \"E\", \"E\", \"E\", \"N\", \"N\", \"N\", \"N\", \"N\", \"N\", \"N\", \"N\", \"N\", \"N\", \"N\", \"N\", \"N\", \"N\", \"N\", \"N\", \"N\", \"N\", \"N\", \"N\", \"N\", \"N\", \"N\", \"N\", \"N\", \"N\", \"N\", \"N\", \"N\", \"N\", \"N\", \"N\", \"N\", \"N\", \"N\", \"E\", \"E\", \"E\", \"E\", \"N\", \"E\", \"E\", \"E\", \"N\", \"N\", \"N\", \"N\", \"N\", \"N\", \"N\", \"N\", \"N\", \"N\", \"N\", \"E\", \"E\", \"E\"], \"x0\": \" \", \"xaxis\": \"x\", \"y\": [35.08, 33.4, 31.72, 31.12, 28.39, 29.7, 27.47, 27.61, 31.63, 26.3, 27.13, 22.49, 24.66, 16.96, 20.15, 30.93, 31.9, 31.3, 30.83, 31.02, 30.3, 30.6, 30.6, 33.52, 32.47, 32.41, 32.14, 33.9, 32.83, 35.01, 51.28, 43.52, 42.89, 49.06, 44.21, 45.48, 44.6, 38.14, 33.43, 46.48, 46.74, 46.78, 42.62, 46.6, 46.46, 52.0, 49.79, 51.63, 49.51, 41.84, 38.95, 52.97, 49.15, 33.26, 33.77, 38.85, 37.04, 35.9, 37.06, 36.23, 33.84, 36.62, 33.86, 36.65, 34.59, 37.24, 25.32, 26.27, 25.46, 28.11, 30.02, 25.0, 31.89, 30.4, 30.58, 32.55, 27.38, 23.81, 22.79, 20.28, 23.33, 24.34, 20.74, 18.1, 21.53, 22.81, 20.43, 21.72, 20.52, 23.31, 22.72, 22.04, 24.11, 26.34, 25.23, 39.12, 34.09, 31.18, 31.25, 30.49, 31.01, 34.94, 34.73, 33.26, 30.4, 39.45, 36.56, 37.59, 34.38, 27.27, 26.77, 24.99, 26.67, 29.5, 29.06, 31.79, 27.15, 28.49, 29.67, 28.73, 38.37, 37.64, 44.87, 43.54, 45.08, 37.38, 44.91, 37.72, 35.68, 31.77, 30.22, 32.61, 33.11, 36.06, 33.79, 31.01, 34.14, 36.59, 32.32, 36.4, 35.01, 36.48, 35.68, 37.27, 38.2, 39.58, 41.4, 38.88, 37.34, 33.03, 37.85, 36.12, 41.45, 32.42, 33.51, 37.2, 33.63, 38.44, 32.46, 32.78, 28.08, 33.8, 30.87, 26.86, 40.19, 38.51, 39.11, 43.12, 39.79, 38.92, 40.86, 42.29, 33.2, 34.45, 38.18, 43.15, 37.24, 34.5, 45.71, 29.78, 27.93, 30.76, 35.22, 36.01, 29.84, 30.51, 28.5, 32.35, 34.28, 32.74, 33.45, 33.71, 30.4, 29.56, 27.56, 28.85, 29.74, 30.78, 28.53, 31.74, 32.92, 35.62, 38.09, 36.31, 37.81, 35.4, 36.2, 35.11, 30.0, 26.39, 27.87, 28.99, 25.41, 25.14, 29.98, 25.54, 25.21, 32.73, 25.01, 24.54, 34.88, 29.67, 30.69, 36.28, 34.07, 28.25, 37.54, 39.53, 31.48, 29.69, 32.49, 35.22, 34.09, 35.22, 33.79, 37.96, 37.03, 37.66, 40.0, 32.44, 35.92, 31.86, 35.2, 35.89, 35.39, 40.53, 40.14, 34.91, 38.42, 36.59, 30.88, 34.0, 32.64, 30.87, 35.15, 31.94, 35.39, 37.73, 37.77, 32.05, 38.36, 42.61, 43.19, 38.3, 37.46, 31.07, 32.51, 33.02, 38.61, 28.72, 30.44, 30.26, 27.53, 34.54, 26.54, 27.39, 21.2, 33.9, 31.71, 34.49, 35.72, 27.98, 26.02, 29.0, 27.06, 26.39, 24.03, 33.17, 27.43, 31.39, 28.41, 30.16, 29.92, 30.02, 29.46, 27.31, 28.38, 29.64, 30.5, 40.23, 39.69, 35.81, 34.7, 38.75, 30.32, 35.07, 29.37, 33.09, 31.39, 31.19, 31.76, 33.84, 30.49, 34.47, 29.24, 31.72, 38.11, 35.69, 37.13, 34.04, 33.82, 32.46, 30.58, 29.93, 34.49, 38.16, 32.56, 32.54, 32.31, 32.6, 29.51, 31.26, 32.16, 31.26, 33.01, 21.27, 23.67, 25.79, 29.67, 27.15, 22.14, 25.69, 23.59, 27.62, 24.96, 22.79, 22.12, 22.21, 22.79, 26.82, 25.29, 32.84, 26.07, 25.56, 26.66, 27.64, 26.95, 32.4, 27.28, 27.28, 29.56, 31.61, 37.24, 33.4, 36.56, 37.67, 33.07, 34.88, 39.48, 37.77, 41.83, 40.1, 39.59, 40.66, 31.24, 40.21, 39.14, 36.4, 38.04, 40.48, 36.24, 35.22, 37.81, 25.1, 26.16, 29.65, 25.89, 28.43, 27.34, 28.71, 30.68, 27.69, 33.25, 31.54, 28.22, 32.02, 38.06, 37.31, 33.48, 38.79, 42.01, 38.08, 34.63, 28.4, 32.64, 33.01, 38.7, 33.66, 34.69, 22.25, 27.36, 31.42, 31.74, 30.62, 29.6, 28.29, 37.17, 34.45, 37.54, 39.44, 42.79, 37.86, 37.46, 36.98, 41.96, 44.3, 39.97, 42.35, 37.32, 36.4, 35.29, 35.55, 33.93, 34.74, 36.2, 32.68, 30.0, 30.44, 31.34, 29.48, 33.72, 28.94, 34.8, 21.92, 33.07, 31.74, 29.56, 37.04, 34.65, 33.19, 34.38, 36.17, 49.94, 38.19, 28.88, 28.01, 29.1, 32.45, 25.68, 31.51, 22.32, 20.79, 33.29, 49.8, 48.35, 46.11], \"y0\": \" \", \"yaxis\": \"y\"}],                        {\"boxmode\": \"group\", \"legend\": {\"tracegroupgap\": 0}, \"template\": {\"data\": {\"bar\": [{\"error_x\": {\"color\": \"#2a3f5f\"}, \"error_y\": {\"color\": \"#2a3f5f\"}, \"marker\": {\"line\": {\"color\": \"#E5ECF6\", \"width\": 0.5}}, \"type\": \"bar\"}], \"barpolar\": [{\"marker\": {\"line\": {\"color\": \"#E5ECF6\", \"width\": 0.5}}, \"type\": \"barpolar\"}], \"carpet\": [{\"aaxis\": {\"endlinecolor\": \"#2a3f5f\", \"gridcolor\": \"white\", \"linecolor\": \"white\", \"minorgridcolor\": \"white\", \"startlinecolor\": \"#2a3f5f\"}, \"baxis\": {\"endlinecolor\": \"#2a3f5f\", \"gridcolor\": \"white\", \"linecolor\": \"white\", \"minorgridcolor\": \"white\", \"startlinecolor\": \"#2a3f5f\"}, \"type\": \"carpet\"}], \"choropleth\": [{\"colorbar\": {\"outlinewidth\": 0, \"ticks\": \"\"}, \"type\": \"choropleth\"}], \"contour\": [{\"colorbar\": {\"outlinewidth\": 0, \"ticks\": \"\"}, \"colorscale\": [[0.0, \"#0d0887\"], [0.1111111111111111, \"#46039f\"], [0.2222222222222222, \"#7201a8\"], [0.3333333333333333, \"#9c179e\"], [0.4444444444444444, \"#bd3786\"], [0.5555555555555556, \"#d8576b\"], [0.6666666666666666, \"#ed7953\"], [0.7777777777777778, \"#fb9f3a\"], [0.8888888888888888, \"#fdca26\"], [1.0, \"#f0f921\"]], \"type\": \"contour\"}], \"contourcarpet\": [{\"colorbar\": {\"outlinewidth\": 0, \"ticks\": \"\"}, \"type\": \"contourcarpet\"}], \"heatmap\": [{\"colorbar\": {\"outlinewidth\": 0, \"ticks\": \"\"}, \"colorscale\": [[0.0, \"#0d0887\"], [0.1111111111111111, \"#46039f\"], [0.2222222222222222, \"#7201a8\"], [0.3333333333333333, \"#9c179e\"], [0.4444444444444444, \"#bd3786\"], [0.5555555555555556, \"#d8576b\"], [0.6666666666666666, \"#ed7953\"], [0.7777777777777778, \"#fb9f3a\"], [0.8888888888888888, \"#fdca26\"], [1.0, \"#f0f921\"]], \"type\": \"heatmap\"}], \"heatmapgl\": [{\"colorbar\": {\"outlinewidth\": 0, \"ticks\": \"\"}, \"colorscale\": [[0.0, \"#0d0887\"], [0.1111111111111111, \"#46039f\"], [0.2222222222222222, \"#7201a8\"], [0.3333333333333333, \"#9c179e\"], [0.4444444444444444, \"#bd3786\"], [0.5555555555555556, \"#d8576b\"], [0.6666666666666666, \"#ed7953\"], [0.7777777777777778, \"#fb9f3a\"], [0.8888888888888888, \"#fdca26\"], [1.0, \"#f0f921\"]], \"type\": \"heatmapgl\"}], \"histogram\": [{\"marker\": {\"colorbar\": {\"outlinewidth\": 0, \"ticks\": \"\"}}, \"type\": \"histogram\"}], \"histogram2d\": [{\"colorbar\": {\"outlinewidth\": 0, \"ticks\": \"\"}, \"colorscale\": [[0.0, \"#0d0887\"], [0.1111111111111111, \"#46039f\"], [0.2222222222222222, \"#7201a8\"], [0.3333333333333333, \"#9c179e\"], [0.4444444444444444, \"#bd3786\"], [0.5555555555555556, \"#d8576b\"], [0.6666666666666666, \"#ed7953\"], [0.7777777777777778, \"#fb9f3a\"], [0.8888888888888888, \"#fdca26\"], [1.0, \"#f0f921\"]], \"type\": \"histogram2d\"}], \"histogram2dcontour\": [{\"colorbar\": {\"outlinewidth\": 0, \"ticks\": \"\"}, \"colorscale\": [[0.0, \"#0d0887\"], [0.1111111111111111, \"#46039f\"], [0.2222222222222222, \"#7201a8\"], [0.3333333333333333, \"#9c179e\"], [0.4444444444444444, \"#bd3786\"], [0.5555555555555556, \"#d8576b\"], [0.6666666666666666, \"#ed7953\"], [0.7777777777777778, \"#fb9f3a\"], [0.8888888888888888, \"#fdca26\"], [1.0, \"#f0f921\"]], \"type\": \"histogram2dcontour\"}], \"mesh3d\": [{\"colorbar\": {\"outlinewidth\": 0, \"ticks\": \"\"}, \"type\": \"mesh3d\"}], \"parcoords\": [{\"line\": {\"colorbar\": {\"outlinewidth\": 0, \"ticks\": \"\"}}, \"type\": \"parcoords\"}], \"pie\": [{\"automargin\": true, \"type\": \"pie\"}], \"scatter\": [{\"marker\": {\"colorbar\": {\"outlinewidth\": 0, \"ticks\": \"\"}}, \"type\": \"scatter\"}], \"scatter3d\": [{\"line\": {\"colorbar\": {\"outlinewidth\": 0, \"ticks\": \"\"}}, \"marker\": {\"colorbar\": {\"outlinewidth\": 0, \"ticks\": \"\"}}, \"type\": \"scatter3d\"}], \"scattercarpet\": [{\"marker\": {\"colorbar\": {\"outlinewidth\": 0, \"ticks\": \"\"}}, \"type\": \"scattercarpet\"}], \"scattergeo\": [{\"marker\": {\"colorbar\": {\"outlinewidth\": 0, \"ticks\": \"\"}}, \"type\": \"scattergeo\"}], \"scattergl\": [{\"marker\": {\"colorbar\": {\"outlinewidth\": 0, \"ticks\": \"\"}}, \"type\": \"scattergl\"}], \"scattermapbox\": [{\"marker\": {\"colorbar\": {\"outlinewidth\": 0, \"ticks\": \"\"}}, \"type\": \"scattermapbox\"}], \"scatterpolar\": [{\"marker\": {\"colorbar\": {\"outlinewidth\": 0, \"ticks\": \"\"}}, \"type\": \"scatterpolar\"}], \"scatterpolargl\": [{\"marker\": {\"colorbar\": {\"outlinewidth\": 0, \"ticks\": \"\"}}, \"type\": \"scatterpolargl\"}], \"scatterternary\": [{\"marker\": {\"colorbar\": {\"outlinewidth\": 0, \"ticks\": \"\"}}, \"type\": \"scatterternary\"}], \"surface\": [{\"colorbar\": {\"outlinewidth\": 0, \"ticks\": \"\"}, \"colorscale\": [[0.0, \"#0d0887\"], [0.1111111111111111, \"#46039f\"], [0.2222222222222222, \"#7201a8\"], [0.3333333333333333, \"#9c179e\"], [0.4444444444444444, \"#bd3786\"], [0.5555555555555556, \"#d8576b\"], [0.6666666666666666, \"#ed7953\"], [0.7777777777777778, \"#fb9f3a\"], [0.8888888888888888, \"#fdca26\"], [1.0, \"#f0f921\"]], \"type\": \"surface\"}], \"table\": [{\"cells\": {\"fill\": {\"color\": \"#EBF0F8\"}, \"line\": {\"color\": \"white\"}}, \"header\": {\"fill\": {\"color\": \"#C8D4E3\"}, \"line\": {\"color\": \"white\"}}, \"type\": \"table\"}]}, \"layout\": {\"annotationdefaults\": {\"arrowcolor\": \"#2a3f5f\", \"arrowhead\": 0, \"arrowwidth\": 1}, \"autotypenumbers\": \"strict\", \"coloraxis\": {\"colorbar\": {\"outlinewidth\": 0, \"ticks\": \"\"}}, \"colorscale\": {\"diverging\": [[0, \"#8e0152\"], [0.1, \"#c51b7d\"], [0.2, \"#de77ae\"], [0.3, \"#f1b6da\"], [0.4, \"#fde0ef\"], [0.5, \"#f7f7f7\"], [0.6, \"#e6f5d0\"], [0.7, \"#b8e186\"], [0.8, \"#7fbc41\"], [0.9, \"#4d9221\"], [1, \"#276419\"]], \"sequential\": [[0.0, \"#0d0887\"], [0.1111111111111111, \"#46039f\"], [0.2222222222222222, \"#7201a8\"], [0.3333333333333333, \"#9c179e\"], [0.4444444444444444, \"#bd3786\"], [0.5555555555555556, \"#d8576b\"], [0.6666666666666666, \"#ed7953\"], [0.7777777777777778, \"#fb9f3a\"], [0.8888888888888888, \"#fdca26\"], [1.0, \"#f0f921\"]], \"sequentialminus\": [[0.0, \"#0d0887\"], [0.1111111111111111, \"#46039f\"], [0.2222222222222222, \"#7201a8\"], [0.3333333333333333, \"#9c179e\"], [0.4444444444444444, \"#bd3786\"], [0.5555555555555556, \"#d8576b\"], [0.6666666666666666, \"#ed7953\"], [0.7777777777777778, \"#fb9f3a\"], [0.8888888888888888, \"#fdca26\"], [1.0, \"#f0f921\"]]}, \"colorway\": [\"#636efa\", \"#EF553B\", \"#00cc96\", \"#ab63fa\", \"#FFA15A\", \"#19d3f3\", \"#FF6692\", \"#B6E880\", \"#FF97FF\", \"#FECB52\"], \"font\": {\"color\": \"#2a3f5f\"}, \"geo\": {\"bgcolor\": \"white\", \"lakecolor\": \"white\", \"landcolor\": \"#E5ECF6\", \"showlakes\": true, \"showland\": true, \"subunitcolor\": \"white\"}, \"hoverlabel\": {\"align\": \"left\"}, \"hovermode\": \"closest\", \"mapbox\": {\"style\": \"light\"}, \"paper_bgcolor\": \"white\", \"plot_bgcolor\": \"#E5ECF6\", \"polar\": {\"angularaxis\": {\"gridcolor\": \"white\", \"linecolor\": \"white\", \"ticks\": \"\"}, \"bgcolor\": \"#E5ECF6\", \"radialaxis\": {\"gridcolor\": \"white\", \"linecolor\": \"white\", \"ticks\": \"\"}}, \"scene\": {\"xaxis\": {\"backgroundcolor\": \"#E5ECF6\", \"gridcolor\": \"white\", \"gridwidth\": 2, \"linecolor\": \"white\", \"showbackground\": true, \"ticks\": \"\", \"zerolinecolor\": \"white\"}, \"yaxis\": {\"backgroundcolor\": \"#E5ECF6\", \"gridcolor\": \"white\", \"gridwidth\": 2, \"linecolor\": \"white\", \"showbackground\": true, \"ticks\": \"\", \"zerolinecolor\": \"white\"}, \"zaxis\": {\"backgroundcolor\": \"#E5ECF6\", \"gridcolor\": \"white\", \"gridwidth\": 2, \"linecolor\": \"white\", \"showbackground\": true, \"ticks\": \"\", \"zerolinecolor\": \"white\"}}, \"shapedefaults\": {\"line\": {\"color\": \"#2a3f5f\"}}, \"ternary\": {\"aaxis\": {\"gridcolor\": \"white\", \"linecolor\": \"white\", \"ticks\": \"\"}, \"baxis\": {\"gridcolor\": \"white\", \"linecolor\": \"white\", \"ticks\": \"\"}, \"bgcolor\": \"#E5ECF6\", \"caxis\": {\"gridcolor\": \"white\", \"linecolor\": \"white\", \"ticks\": \"\"}}, \"title\": {\"x\": 0.05}, \"xaxis\": {\"automargin\": true, \"gridcolor\": \"white\", \"linecolor\": \"white\", \"ticks\": \"\", \"title\": {\"standoff\": 15}, \"zerolinecolor\": \"white\", \"zerolinewidth\": 2}, \"yaxis\": {\"automargin\": true, \"gridcolor\": \"white\", \"linecolor\": \"white\", \"ticks\": \"\", \"title\": {\"standoff\": 15}, \"zerolinecolor\": \"white\", \"zerolinewidth\": 2}}}, \"title\": {\"text\": \"Tipo de Tra\\u00e7o x Rompimento 28 Dias\"}, \"xaxis\": {\"anchor\": \"y\", \"domain\": [0.0, 1.0], \"title\": {\"text\": \"TipoTraco\"}}, \"yaxis\": {\"anchor\": \"x\", \"domain\": [0.0, 1.0], \"title\": {\"text\": \"Rompimento28Dias\"}}},                        {\"responsive\": true}                    ).then(function(){\n",
       "                            \n",
       "var gd = document.getElementById('b5ec6071-28e1-4b11-be61-37fd6f2c4b0c');\n",
       "var x = new MutationObserver(function (mutations, observer) {{\n",
       "        var display = window.getComputedStyle(gd).display;\n",
       "        if (!display || display === 'none') {{\n",
       "            console.log([gd, 'removed!']);\n",
       "            Plotly.purge(gd);\n",
       "            observer.disconnect();\n",
       "        }}\n",
       "}});\n",
       "\n",
       "// Listen for the removal of the full notebook cells\n",
       "var notebookContainer = gd.closest('#notebook-container');\n",
       "if (notebookContainer) {{\n",
       "    x.observe(notebookContainer, {childList: true});\n",
       "}}\n",
       "\n",
       "// Listen for the clearing of the current output cell\n",
       "var outputEl = gd.closest('.output');\n",
       "if (outputEl) {{\n",
       "    x.observe(outputEl, {childList: true});\n",
       "}}\n",
       "\n",
       "                        })                };                });            </script>        </div>"
      ]
     },
     "metadata": {},
     "output_type": "display_data"
    }
   ],
   "source": [
    "fig = px.box(dados_aglomerante, x=\"TipoTraco\", y=\"Rompimento28Dias\", title='Tipo de Traço x Rompimento 28 Dias')\n",
    "fig.show()"
   ]
  },
  {
   "cell_type": "code",
   "execution_count": 338,
   "metadata": {},
   "outputs": [
    {
     "data": {
      "application/vnd.plotly.v1+json": {
       "config": {
        "plotlyServerURL": "https://plot.ly"
       },
       "data": [
        {
         "alignmentgroup": "True",
         "hovertemplate": "FCK=%{x}<br>Rompimento28Dias=%{y}<extra></extra>",
         "legendgroup": "",
         "marker": {
          "color": "#636efa"
         },
         "name": "",
         "notched": false,
         "offsetgroup": "",
         "orientation": "v",
         "showlegend": false,
         "type": "box",
         "x": [
          30,
          25,
          25,
          25,
          25,
          25,
          25,
          25,
          25,
          15,
          15,
          15,
          15,
          15,
          15,
          30,
          30,
          30,
          30,
          30,
          30,
          30,
          30,
          35,
          35,
          35,
          35,
          35,
          35,
          35,
          35,
          35,
          35,
          35,
          35,
          35,
          35,
          35,
          35,
          35,
          35,
          35,
          35,
          35,
          35,
          35,
          35,
          35,
          35,
          35,
          35,
          35,
          35,
          30,
          30,
          30,
          30,
          30,
          30,
          30,
          30,
          30,
          30,
          30,
          30,
          30,
          20,
          20,
          20,
          20,
          20,
          20,
          20,
          20,
          20,
          20,
          20,
          20,
          20,
          20,
          20,
          20,
          20,
          20,
          20,
          20,
          20,
          20,
          20,
          20,
          20,
          20,
          20,
          20,
          20,
          30,
          20,
          20,
          20,
          20,
          20,
          20,
          20,
          20,
          20,
          20,
          25,
          25,
          25,
          20,
          25,
          25,
          25,
          25,
          25,
          25,
          25,
          25,
          25,
          25,
          30,
          30,
          30,
          30,
          30,
          30,
          30,
          30,
          30,
          30,
          30,
          30,
          30,
          30,
          30,
          30,
          30,
          30,
          30,
          30,
          30,
          30,
          30,
          30,
          30,
          30,
          30,
          30,
          30,
          30,
          30,
          30,
          30,
          30,
          30,
          30,
          30,
          30,
          30,
          30,
          30,
          30,
          30,
          30,
          30,
          25,
          25,
          25,
          25,
          25,
          25,
          25,
          25,
          25,
          25,
          25,
          25,
          25,
          25,
          25,
          25,
          25,
          25,
          25,
          25,
          25,
          25,
          25,
          25,
          25,
          25,
          25,
          25,
          25,
          25,
          25,
          25,
          25,
          25,
          25,
          25,
          25,
          25,
          25,
          25,
          25,
          25,
          25,
          25,
          25,
          25,
          25,
          25,
          25,
          25,
          25,
          25,
          25,
          25,
          25,
          25,
          25,
          25,
          25,
          25,
          25,
          30,
          30,
          30,
          30,
          30,
          30,
          30,
          30,
          30,
          30,
          30,
          30,
          30,
          30,
          30,
          30,
          30,
          30,
          30,
          30,
          30,
          30,
          30,
          30,
          30,
          30,
          30,
          30,
          30,
          30,
          30,
          35,
          35,
          30,
          25,
          25,
          25,
          25,
          25,
          25,
          25,
          25,
          25,
          25,
          25,
          25,
          25,
          25,
          20,
          20,
          20,
          25,
          25,
          25,
          25,
          25,
          25,
          25,
          25,
          25,
          25,
          25,
          25,
          25,
          25,
          25,
          25,
          25,
          25,
          25,
          25,
          25,
          25,
          25,
          25,
          25,
          25,
          25,
          25,
          25,
          25,
          25,
          25,
          25,
          25,
          25,
          25,
          25,
          25,
          25,
          25,
          25,
          25,
          25,
          25,
          25,
          25,
          25,
          25,
          25,
          25,
          25,
          25,
          25,
          25,
          25,
          25,
          25,
          25,
          25,
          25,
          25,
          25,
          25,
          25,
          25,
          25,
          25,
          25,
          25,
          25,
          25,
          25,
          25,
          25,
          25,
          25,
          25,
          25,
          25,
          25,
          25,
          25,
          25,
          25,
          25,
          25,
          25,
          25,
          25,
          25,
          25,
          25,
          25,
          25,
          25,
          25,
          25,
          25,
          30,
          30,
          30,
          30,
          30,
          30,
          30,
          30,
          25,
          25,
          25,
          25,
          25,
          25,
          25,
          25,
          25,
          25,
          25,
          25,
          30,
          30,
          30,
          30,
          30,
          30,
          30,
          30,
          30,
          30,
          30,
          30,
          30,
          30,
          20,
          20,
          30,
          30,
          30,
          30,
          30,
          30,
          30,
          30,
          30,
          30,
          30,
          30,
          30,
          30,
          30,
          30,
          30,
          30,
          30,
          30,
          30,
          30,
          30,
          30,
          30,
          30,
          30,
          30,
          25,
          25,
          25,
          25,
          20,
          25,
          25,
          25,
          25,
          25,
          30,
          30,
          30,
          35,
          35,
          30,
          25,
          25,
          25,
          25,
          25,
          15,
          15,
          20,
          30,
          30,
          30
         ],
         "x0": " ",
         "xaxis": "x",
         "y": [
          35.08,
          33.4,
          31.72,
          31.12,
          28.39,
          29.7,
          27.47,
          27.61,
          31.63,
          26.3,
          27.13,
          22.49,
          24.66,
          16.96,
          20.15,
          30.93,
          31.9,
          31.3,
          30.83,
          31.02,
          30.3,
          30.6,
          30.6,
          33.52,
          32.47,
          32.41,
          32.14,
          33.9,
          32.83,
          35.01,
          51.28,
          43.52,
          42.89,
          49.06,
          44.21,
          45.48,
          44.6,
          38.14,
          33.43,
          46.48,
          46.74,
          46.78,
          42.62,
          46.6,
          46.46,
          52,
          49.79,
          51.63,
          49.51,
          41.84,
          38.95,
          52.97,
          49.15,
          33.26,
          33.77,
          38.85,
          37.04,
          35.9,
          37.06,
          36.23,
          33.84,
          36.62,
          33.86,
          36.65,
          34.59,
          37.24,
          25.32,
          26.27,
          25.46,
          28.11,
          30.02,
          25,
          31.89,
          30.4,
          30.58,
          32.55,
          27.38,
          23.81,
          22.79,
          20.28,
          23.33,
          24.34,
          20.74,
          18.1,
          21.53,
          22.81,
          20.43,
          21.72,
          20.52,
          23.31,
          22.72,
          22.04,
          24.11,
          26.34,
          25.23,
          39.12,
          34.09,
          31.18,
          31.25,
          30.49,
          31.01,
          34.94,
          34.73,
          33.26,
          30.4,
          39.45,
          36.56,
          37.59,
          34.38,
          27.27,
          26.77,
          24.99,
          26.67,
          29.5,
          29.06,
          31.79,
          27.15,
          28.49,
          29.67,
          28.73,
          38.37,
          37.64,
          44.87,
          43.54,
          45.08,
          37.38,
          44.91,
          37.72,
          35.68,
          31.77,
          30.22,
          32.61,
          33.11,
          36.06,
          33.79,
          31.01,
          34.14,
          36.59,
          32.32,
          36.4,
          35.01,
          36.48,
          35.68,
          37.27,
          38.2,
          39.58,
          41.4,
          38.88,
          37.34,
          33.03,
          37.85,
          36.12,
          41.45,
          32.42,
          33.51,
          37.2,
          33.63,
          38.44,
          32.46,
          32.78,
          28.08,
          33.8,
          30.87,
          26.86,
          40.19,
          38.51,
          39.11,
          43.12,
          39.79,
          38.92,
          40.86,
          42.29,
          33.2,
          34.45,
          38.18,
          43.15,
          37.24,
          34.5,
          45.71,
          29.78,
          27.93,
          30.76,
          35.22,
          36.01,
          29.84,
          30.51,
          28.5,
          32.35,
          34.28,
          32.74,
          33.45,
          33.71,
          30.4,
          29.56,
          27.56,
          28.85,
          29.74,
          30.78,
          28.53,
          31.74,
          32.92,
          35.62,
          38.09,
          36.31,
          37.81,
          35.4,
          36.2,
          35.11,
          30,
          26.39,
          27.87,
          28.99,
          25.41,
          25.14,
          29.98,
          25.54,
          25.21,
          32.73,
          25.01,
          24.54,
          34.88,
          29.67,
          30.69,
          36.28,
          34.07,
          28.25,
          37.54,
          39.53,
          31.48,
          29.69,
          32.49,
          35.22,
          34.09,
          35.22,
          33.79,
          37.96,
          37.03,
          37.66,
          40,
          32.44,
          35.92,
          31.86,
          35.2,
          35.89,
          35.39,
          40.53,
          40.14,
          34.91,
          38.42,
          36.59,
          30.88,
          34,
          32.64,
          30.87,
          35.15,
          31.94,
          35.39,
          37.73,
          37.77,
          32.05,
          38.36,
          42.61,
          43.19,
          38.3,
          37.46,
          31.07,
          32.51,
          33.02,
          38.61,
          28.72,
          30.44,
          30.26,
          27.53,
          34.54,
          26.54,
          27.39,
          21.2,
          33.9,
          31.71,
          34.49,
          35.72,
          27.98,
          26.02,
          29,
          27.06,
          26.39,
          24.03,
          33.17,
          27.43,
          31.39,
          28.41,
          30.16,
          29.92,
          30.02,
          29.46,
          27.31,
          28.38,
          29.64,
          30.5,
          40.23,
          39.69,
          35.81,
          34.7,
          38.75,
          30.32,
          35.07,
          29.37,
          33.09,
          31.39,
          31.19,
          31.76,
          33.84,
          30.49,
          34.47,
          29.24,
          31.72,
          38.11,
          35.69,
          37.13,
          34.04,
          33.82,
          32.46,
          30.58,
          29.93,
          34.49,
          38.16,
          32.56,
          32.54,
          32.31,
          32.6,
          29.51,
          31.26,
          32.16,
          31.26,
          33.01,
          21.27,
          23.67,
          25.79,
          29.67,
          27.15,
          22.14,
          25.69,
          23.59,
          27.62,
          24.96,
          22.79,
          22.12,
          22.21,
          22.79,
          26.82,
          25.29,
          32.84,
          26.07,
          25.56,
          26.66,
          27.64,
          26.95,
          32.4,
          27.28,
          27.28,
          29.56,
          31.61,
          37.24,
          33.4,
          36.56,
          37.67,
          33.07,
          34.88,
          39.48,
          37.77,
          41.83,
          40.1,
          39.59,
          40.66,
          31.24,
          40.21,
          39.14,
          36.4,
          38.04,
          40.48,
          36.24,
          35.22,
          37.81,
          25.1,
          26.16,
          29.65,
          25.89,
          28.43,
          27.34,
          28.71,
          30.68,
          27.69,
          33.25,
          31.54,
          28.22,
          32.02,
          38.06,
          37.31,
          33.48,
          38.79,
          42.01,
          38.08,
          34.63,
          28.4,
          32.64,
          33.01,
          38.7,
          33.66,
          34.69,
          22.25,
          27.36,
          31.42,
          31.74,
          30.62,
          29.6,
          28.29,
          37.17,
          34.45,
          37.54,
          39.44,
          42.79,
          37.86,
          37.46,
          36.98,
          41.96,
          44.3,
          39.97,
          42.35,
          37.32,
          36.4,
          35.29,
          35.55,
          33.93,
          34.74,
          36.2,
          32.68,
          30,
          30.44,
          31.34,
          29.48,
          33.72,
          28.94,
          34.8,
          21.92,
          33.07,
          31.74,
          29.56,
          37.04,
          34.65,
          33.19,
          34.38,
          36.17,
          49.94,
          38.19,
          28.88,
          28.01,
          29.1,
          32.45,
          25.68,
          31.51,
          22.32,
          20.79,
          33.29,
          49.8,
          48.35,
          46.11
         ],
         "y0": " ",
         "yaxis": "y"
        }
       ],
       "layout": {
        "boxmode": "group",
        "legend": {
         "tracegroupgap": 0
        },
        "template": {
         "data": {
          "bar": [
           {
            "error_x": {
             "color": "#2a3f5f"
            },
            "error_y": {
             "color": "#2a3f5f"
            },
            "marker": {
             "line": {
              "color": "#E5ECF6",
              "width": 0.5
             }
            },
            "type": "bar"
           }
          ],
          "barpolar": [
           {
            "marker": {
             "line": {
              "color": "#E5ECF6",
              "width": 0.5
             }
            },
            "type": "barpolar"
           }
          ],
          "carpet": [
           {
            "aaxis": {
             "endlinecolor": "#2a3f5f",
             "gridcolor": "white",
             "linecolor": "white",
             "minorgridcolor": "white",
             "startlinecolor": "#2a3f5f"
            },
            "baxis": {
             "endlinecolor": "#2a3f5f",
             "gridcolor": "white",
             "linecolor": "white",
             "minorgridcolor": "white",
             "startlinecolor": "#2a3f5f"
            },
            "type": "carpet"
           }
          ],
          "choropleth": [
           {
            "colorbar": {
             "outlinewidth": 0,
             "ticks": ""
            },
            "type": "choropleth"
           }
          ],
          "contour": [
           {
            "colorbar": {
             "outlinewidth": 0,
             "ticks": ""
            },
            "colorscale": [
             [
              0,
              "#0d0887"
             ],
             [
              0.1111111111111111,
              "#46039f"
             ],
             [
              0.2222222222222222,
              "#7201a8"
             ],
             [
              0.3333333333333333,
              "#9c179e"
             ],
             [
              0.4444444444444444,
              "#bd3786"
             ],
             [
              0.5555555555555556,
              "#d8576b"
             ],
             [
              0.6666666666666666,
              "#ed7953"
             ],
             [
              0.7777777777777778,
              "#fb9f3a"
             ],
             [
              0.8888888888888888,
              "#fdca26"
             ],
             [
              1,
              "#f0f921"
             ]
            ],
            "type": "contour"
           }
          ],
          "contourcarpet": [
           {
            "colorbar": {
             "outlinewidth": 0,
             "ticks": ""
            },
            "type": "contourcarpet"
           }
          ],
          "heatmap": [
           {
            "colorbar": {
             "outlinewidth": 0,
             "ticks": ""
            },
            "colorscale": [
             [
              0,
              "#0d0887"
             ],
             [
              0.1111111111111111,
              "#46039f"
             ],
             [
              0.2222222222222222,
              "#7201a8"
             ],
             [
              0.3333333333333333,
              "#9c179e"
             ],
             [
              0.4444444444444444,
              "#bd3786"
             ],
             [
              0.5555555555555556,
              "#d8576b"
             ],
             [
              0.6666666666666666,
              "#ed7953"
             ],
             [
              0.7777777777777778,
              "#fb9f3a"
             ],
             [
              0.8888888888888888,
              "#fdca26"
             ],
             [
              1,
              "#f0f921"
             ]
            ],
            "type": "heatmap"
           }
          ],
          "heatmapgl": [
           {
            "colorbar": {
             "outlinewidth": 0,
             "ticks": ""
            },
            "colorscale": [
             [
              0,
              "#0d0887"
             ],
             [
              0.1111111111111111,
              "#46039f"
             ],
             [
              0.2222222222222222,
              "#7201a8"
             ],
             [
              0.3333333333333333,
              "#9c179e"
             ],
             [
              0.4444444444444444,
              "#bd3786"
             ],
             [
              0.5555555555555556,
              "#d8576b"
             ],
             [
              0.6666666666666666,
              "#ed7953"
             ],
             [
              0.7777777777777778,
              "#fb9f3a"
             ],
             [
              0.8888888888888888,
              "#fdca26"
             ],
             [
              1,
              "#f0f921"
             ]
            ],
            "type": "heatmapgl"
           }
          ],
          "histogram": [
           {
            "marker": {
             "colorbar": {
              "outlinewidth": 0,
              "ticks": ""
             }
            },
            "type": "histogram"
           }
          ],
          "histogram2d": [
           {
            "colorbar": {
             "outlinewidth": 0,
             "ticks": ""
            },
            "colorscale": [
             [
              0,
              "#0d0887"
             ],
             [
              0.1111111111111111,
              "#46039f"
             ],
             [
              0.2222222222222222,
              "#7201a8"
             ],
             [
              0.3333333333333333,
              "#9c179e"
             ],
             [
              0.4444444444444444,
              "#bd3786"
             ],
             [
              0.5555555555555556,
              "#d8576b"
             ],
             [
              0.6666666666666666,
              "#ed7953"
             ],
             [
              0.7777777777777778,
              "#fb9f3a"
             ],
             [
              0.8888888888888888,
              "#fdca26"
             ],
             [
              1,
              "#f0f921"
             ]
            ],
            "type": "histogram2d"
           }
          ],
          "histogram2dcontour": [
           {
            "colorbar": {
             "outlinewidth": 0,
             "ticks": ""
            },
            "colorscale": [
             [
              0,
              "#0d0887"
             ],
             [
              0.1111111111111111,
              "#46039f"
             ],
             [
              0.2222222222222222,
              "#7201a8"
             ],
             [
              0.3333333333333333,
              "#9c179e"
             ],
             [
              0.4444444444444444,
              "#bd3786"
             ],
             [
              0.5555555555555556,
              "#d8576b"
             ],
             [
              0.6666666666666666,
              "#ed7953"
             ],
             [
              0.7777777777777778,
              "#fb9f3a"
             ],
             [
              0.8888888888888888,
              "#fdca26"
             ],
             [
              1,
              "#f0f921"
             ]
            ],
            "type": "histogram2dcontour"
           }
          ],
          "mesh3d": [
           {
            "colorbar": {
             "outlinewidth": 0,
             "ticks": ""
            },
            "type": "mesh3d"
           }
          ],
          "parcoords": [
           {
            "line": {
             "colorbar": {
              "outlinewidth": 0,
              "ticks": ""
             }
            },
            "type": "parcoords"
           }
          ],
          "pie": [
           {
            "automargin": true,
            "type": "pie"
           }
          ],
          "scatter": [
           {
            "marker": {
             "colorbar": {
              "outlinewidth": 0,
              "ticks": ""
             }
            },
            "type": "scatter"
           }
          ],
          "scatter3d": [
           {
            "line": {
             "colorbar": {
              "outlinewidth": 0,
              "ticks": ""
             }
            },
            "marker": {
             "colorbar": {
              "outlinewidth": 0,
              "ticks": ""
             }
            },
            "type": "scatter3d"
           }
          ],
          "scattercarpet": [
           {
            "marker": {
             "colorbar": {
              "outlinewidth": 0,
              "ticks": ""
             }
            },
            "type": "scattercarpet"
           }
          ],
          "scattergeo": [
           {
            "marker": {
             "colorbar": {
              "outlinewidth": 0,
              "ticks": ""
             }
            },
            "type": "scattergeo"
           }
          ],
          "scattergl": [
           {
            "marker": {
             "colorbar": {
              "outlinewidth": 0,
              "ticks": ""
             }
            },
            "type": "scattergl"
           }
          ],
          "scattermapbox": [
           {
            "marker": {
             "colorbar": {
              "outlinewidth": 0,
              "ticks": ""
             }
            },
            "type": "scattermapbox"
           }
          ],
          "scatterpolar": [
           {
            "marker": {
             "colorbar": {
              "outlinewidth": 0,
              "ticks": ""
             }
            },
            "type": "scatterpolar"
           }
          ],
          "scatterpolargl": [
           {
            "marker": {
             "colorbar": {
              "outlinewidth": 0,
              "ticks": ""
             }
            },
            "type": "scatterpolargl"
           }
          ],
          "scatterternary": [
           {
            "marker": {
             "colorbar": {
              "outlinewidth": 0,
              "ticks": ""
             }
            },
            "type": "scatterternary"
           }
          ],
          "surface": [
           {
            "colorbar": {
             "outlinewidth": 0,
             "ticks": ""
            },
            "colorscale": [
             [
              0,
              "#0d0887"
             ],
             [
              0.1111111111111111,
              "#46039f"
             ],
             [
              0.2222222222222222,
              "#7201a8"
             ],
             [
              0.3333333333333333,
              "#9c179e"
             ],
             [
              0.4444444444444444,
              "#bd3786"
             ],
             [
              0.5555555555555556,
              "#d8576b"
             ],
             [
              0.6666666666666666,
              "#ed7953"
             ],
             [
              0.7777777777777778,
              "#fb9f3a"
             ],
             [
              0.8888888888888888,
              "#fdca26"
             ],
             [
              1,
              "#f0f921"
             ]
            ],
            "type": "surface"
           }
          ],
          "table": [
           {
            "cells": {
             "fill": {
              "color": "#EBF0F8"
             },
             "line": {
              "color": "white"
             }
            },
            "header": {
             "fill": {
              "color": "#C8D4E3"
             },
             "line": {
              "color": "white"
             }
            },
            "type": "table"
           }
          ]
         },
         "layout": {
          "annotationdefaults": {
           "arrowcolor": "#2a3f5f",
           "arrowhead": 0,
           "arrowwidth": 1
          },
          "autotypenumbers": "strict",
          "coloraxis": {
           "colorbar": {
            "outlinewidth": 0,
            "ticks": ""
           }
          },
          "colorscale": {
           "diverging": [
            [
             0,
             "#8e0152"
            ],
            [
             0.1,
             "#c51b7d"
            ],
            [
             0.2,
             "#de77ae"
            ],
            [
             0.3,
             "#f1b6da"
            ],
            [
             0.4,
             "#fde0ef"
            ],
            [
             0.5,
             "#f7f7f7"
            ],
            [
             0.6,
             "#e6f5d0"
            ],
            [
             0.7,
             "#b8e186"
            ],
            [
             0.8,
             "#7fbc41"
            ],
            [
             0.9,
             "#4d9221"
            ],
            [
             1,
             "#276419"
            ]
           ],
           "sequential": [
            [
             0,
             "#0d0887"
            ],
            [
             0.1111111111111111,
             "#46039f"
            ],
            [
             0.2222222222222222,
             "#7201a8"
            ],
            [
             0.3333333333333333,
             "#9c179e"
            ],
            [
             0.4444444444444444,
             "#bd3786"
            ],
            [
             0.5555555555555556,
             "#d8576b"
            ],
            [
             0.6666666666666666,
             "#ed7953"
            ],
            [
             0.7777777777777778,
             "#fb9f3a"
            ],
            [
             0.8888888888888888,
             "#fdca26"
            ],
            [
             1,
             "#f0f921"
            ]
           ],
           "sequentialminus": [
            [
             0,
             "#0d0887"
            ],
            [
             0.1111111111111111,
             "#46039f"
            ],
            [
             0.2222222222222222,
             "#7201a8"
            ],
            [
             0.3333333333333333,
             "#9c179e"
            ],
            [
             0.4444444444444444,
             "#bd3786"
            ],
            [
             0.5555555555555556,
             "#d8576b"
            ],
            [
             0.6666666666666666,
             "#ed7953"
            ],
            [
             0.7777777777777778,
             "#fb9f3a"
            ],
            [
             0.8888888888888888,
             "#fdca26"
            ],
            [
             1,
             "#f0f921"
            ]
           ]
          },
          "colorway": [
           "#636efa",
           "#EF553B",
           "#00cc96",
           "#ab63fa",
           "#FFA15A",
           "#19d3f3",
           "#FF6692",
           "#B6E880",
           "#FF97FF",
           "#FECB52"
          ],
          "font": {
           "color": "#2a3f5f"
          },
          "geo": {
           "bgcolor": "white",
           "lakecolor": "white",
           "landcolor": "#E5ECF6",
           "showlakes": true,
           "showland": true,
           "subunitcolor": "white"
          },
          "hoverlabel": {
           "align": "left"
          },
          "hovermode": "closest",
          "mapbox": {
           "style": "light"
          },
          "paper_bgcolor": "white",
          "plot_bgcolor": "#E5ECF6",
          "polar": {
           "angularaxis": {
            "gridcolor": "white",
            "linecolor": "white",
            "ticks": ""
           },
           "bgcolor": "#E5ECF6",
           "radialaxis": {
            "gridcolor": "white",
            "linecolor": "white",
            "ticks": ""
           }
          },
          "scene": {
           "xaxis": {
            "backgroundcolor": "#E5ECF6",
            "gridcolor": "white",
            "gridwidth": 2,
            "linecolor": "white",
            "showbackground": true,
            "ticks": "",
            "zerolinecolor": "white"
           },
           "yaxis": {
            "backgroundcolor": "#E5ECF6",
            "gridcolor": "white",
            "gridwidth": 2,
            "linecolor": "white",
            "showbackground": true,
            "ticks": "",
            "zerolinecolor": "white"
           },
           "zaxis": {
            "backgroundcolor": "#E5ECF6",
            "gridcolor": "white",
            "gridwidth": 2,
            "linecolor": "white",
            "showbackground": true,
            "ticks": "",
            "zerolinecolor": "white"
           }
          },
          "shapedefaults": {
           "line": {
            "color": "#2a3f5f"
           }
          },
          "ternary": {
           "aaxis": {
            "gridcolor": "white",
            "linecolor": "white",
            "ticks": ""
           },
           "baxis": {
            "gridcolor": "white",
            "linecolor": "white",
            "ticks": ""
           },
           "bgcolor": "#E5ECF6",
           "caxis": {
            "gridcolor": "white",
            "linecolor": "white",
            "ticks": ""
           }
          },
          "title": {
           "x": 0.05
          },
          "xaxis": {
           "automargin": true,
           "gridcolor": "white",
           "linecolor": "white",
           "ticks": "",
           "title": {
            "standoff": 15
           },
           "zerolinecolor": "white",
           "zerolinewidth": 2
          },
          "yaxis": {
           "automargin": true,
           "gridcolor": "white",
           "linecolor": "white",
           "ticks": "",
           "title": {
            "standoff": 15
           },
           "zerolinecolor": "white",
           "zerolinewidth": 2
          }
         }
        },
        "title": {
         "text": "FCK x Rompimento 28 Dias"
        },
        "xaxis": {
         "anchor": "y",
         "domain": [
          0,
          1
         ],
         "title": {
          "text": "FCK"
         }
        },
        "yaxis": {
         "anchor": "x",
         "domain": [
          0,
          1
         ],
         "title": {
          "text": "Rompimento28Dias"
         }
        }
       }
      },
      "text/html": [
       "<div>                            <div id=\"db3411ab-ee95-458d-9a98-4b53bdb3b007\" class=\"plotly-graph-div\" style=\"height:525px; width:100%;\"></div>            <script type=\"text/javascript\">                require([\"plotly\"], function(Plotly) {                    window.PLOTLYENV=window.PLOTLYENV || {};                                    if (document.getElementById(\"db3411ab-ee95-458d-9a98-4b53bdb3b007\")) {                    Plotly.newPlot(                        \"db3411ab-ee95-458d-9a98-4b53bdb3b007\",                        [{\"alignmentgroup\": \"True\", \"hovertemplate\": \"FCK=%{x}<br>Rompimento28Dias=%{y}<extra></extra>\", \"legendgroup\": \"\", \"marker\": {\"color\": \"#636efa\"}, \"name\": \"\", \"notched\": false, \"offsetgroup\": \"\", \"orientation\": \"v\", \"showlegend\": false, \"type\": \"box\", \"x\": [30.0, 25.0, 25.0, 25.0, 25.0, 25.0, 25.0, 25.0, 25.0, 15.0, 15.0, 15.0, 15.0, 15.0, 15.0, 30.0, 30.0, 30.0, 30.0, 30.0, 30.0, 30.0, 30.0, 35.0, 35.0, 35.0, 35.0, 35.0, 35.0, 35.0, 35.0, 35.0, 35.0, 35.0, 35.0, 35.0, 35.0, 35.0, 35.0, 35.0, 35.0, 35.0, 35.0, 35.0, 35.0, 35.0, 35.0, 35.0, 35.0, 35.0, 35.0, 35.0, 35.0, 30.0, 30.0, 30.0, 30.0, 30.0, 30.0, 30.0, 30.0, 30.0, 30.0, 30.0, 30.0, 30.0, 20.0, 20.0, 20.0, 20.0, 20.0, 20.0, 20.0, 20.0, 20.0, 20.0, 20.0, 20.0, 20.0, 20.0, 20.0, 20.0, 20.0, 20.0, 20.0, 20.0, 20.0, 20.0, 20.0, 20.0, 20.0, 20.0, 20.0, 20.0, 20.0, 30.0, 20.0, 20.0, 20.0, 20.0, 20.0, 20.0, 20.0, 20.0, 20.0, 20.0, 25.0, 25.0, 25.0, 20.0, 25.0, 25.0, 25.0, 25.0, 25.0, 25.0, 25.0, 25.0, 25.0, 25.0, 30.0, 30.0, 30.0, 30.0, 30.0, 30.0, 30.0, 30.0, 30.0, 30.0, 30.0, 30.0, 30.0, 30.0, 30.0, 30.0, 30.0, 30.0, 30.0, 30.0, 30.0, 30.0, 30.0, 30.0, 30.0, 30.0, 30.0, 30.0, 30.0, 30.0, 30.0, 30.0, 30.0, 30.0, 30.0, 30.0, 30.0, 30.0, 30.0, 30.0, 30.0, 30.0, 30.0, 30.0, 30.0, 25.0, 25.0, 25.0, 25.0, 25.0, 25.0, 25.0, 25.0, 25.0, 25.0, 25.0, 25.0, 25.0, 25.0, 25.0, 25.0, 25.0, 25.0, 25.0, 25.0, 25.0, 25.0, 25.0, 25.0, 25.0, 25.0, 25.0, 25.0, 25.0, 25.0, 25.0, 25.0, 25.0, 25.0, 25.0, 25.0, 25.0, 25.0, 25.0, 25.0, 25.0, 25.0, 25.0, 25.0, 25.0, 25.0, 25.0, 25.0, 25.0, 25.0, 25.0, 25.0, 25.0, 25.0, 25.0, 25.0, 25.0, 25.0, 25.0, 25.0, 25.0, 30.0, 30.0, 30.0, 30.0, 30.0, 30.0, 30.0, 30.0, 30.0, 30.0, 30.0, 30.0, 30.0, 30.0, 30.0, 30.0, 30.0, 30.0, 30.0, 30.0, 30.0, 30.0, 30.0, 30.0, 30.0, 30.0, 30.0, 30.0, 30.0, 30.0, 30.0, 35.0, 35.0, 30.0, 25.0, 25.0, 25.0, 25.0, 25.0, 25.0, 25.0, 25.0, 25.0, 25.0, 25.0, 25.0, 25.0, 25.0, 20.0, 20.0, 20.0, 25.0, 25.0, 25.0, 25.0, 25.0, 25.0, 25.0, 25.0, 25.0, 25.0, 25.0, 25.0, 25.0, 25.0, 25.0, 25.0, 25.0, 25.0, 25.0, 25.0, 25.0, 25.0, 25.0, 25.0, 25.0, 25.0, 25.0, 25.0, 25.0, 25.0, 25.0, 25.0, 25.0, 25.0, 25.0, 25.0, 25.0, 25.0, 25.0, 25.0, 25.0, 25.0, 25.0, 25.0, 25.0, 25.0, 25.0, 25.0, 25.0, 25.0, 25.0, 25.0, 25.0, 25.0, 25.0, 25.0, 25.0, 25.0, 25.0, 25.0, 25.0, 25.0, 25.0, 25.0, 25.0, 25.0, 25.0, 25.0, 25.0, 25.0, 25.0, 25.0, 25.0, 25.0, 25.0, 25.0, 25.0, 25.0, 25.0, 25.0, 25.0, 25.0, 25.0, 25.0, 25.0, 25.0, 25.0, 25.0, 25.0, 25.0, 25.0, 25.0, 25.0, 25.0, 25.0, 25.0, 25.0, 25.0, 30.0, 30.0, 30.0, 30.0, 30.0, 30.0, 30.0, 30.0, 25.0, 25.0, 25.0, 25.0, 25.0, 25.0, 25.0, 25.0, 25.0, 25.0, 25.0, 25.0, 30.0, 30.0, 30.0, 30.0, 30.0, 30.0, 30.0, 30.0, 30.0, 30.0, 30.0, 30.0, 30.0, 30.0, 20.0, 20.0, 30.0, 30.0, 30.0, 30.0, 30.0, 30.0, 30.0, 30.0, 30.0, 30.0, 30.0, 30.0, 30.0, 30.0, 30.0, 30.0, 30.0, 30.0, 30.0, 30.0, 30.0, 30.0, 30.0, 30.0, 30.0, 30.0, 30.0, 30.0, 25.0, 25.0, 25.0, 25.0, 20.0, 25.0, 25.0, 25.0, 25.0, 25.0, 30.0, 30.0, 30.0, 35.0, 35.0, 30.0, 25.0, 25.0, 25.0, 25.0, 25.0, 15.0, 15.0, 20.0, 30.0, 30.0, 30.0], \"x0\": \" \", \"xaxis\": \"x\", \"y\": [35.08, 33.4, 31.72, 31.12, 28.39, 29.7, 27.47, 27.61, 31.63, 26.3, 27.13, 22.49, 24.66, 16.96, 20.15, 30.93, 31.9, 31.3, 30.83, 31.02, 30.3, 30.6, 30.6, 33.52, 32.47, 32.41, 32.14, 33.9, 32.83, 35.01, 51.28, 43.52, 42.89, 49.06, 44.21, 45.48, 44.6, 38.14, 33.43, 46.48, 46.74, 46.78, 42.62, 46.6, 46.46, 52.0, 49.79, 51.63, 49.51, 41.84, 38.95, 52.97, 49.15, 33.26, 33.77, 38.85, 37.04, 35.9, 37.06, 36.23, 33.84, 36.62, 33.86, 36.65, 34.59, 37.24, 25.32, 26.27, 25.46, 28.11, 30.02, 25.0, 31.89, 30.4, 30.58, 32.55, 27.38, 23.81, 22.79, 20.28, 23.33, 24.34, 20.74, 18.1, 21.53, 22.81, 20.43, 21.72, 20.52, 23.31, 22.72, 22.04, 24.11, 26.34, 25.23, 39.12, 34.09, 31.18, 31.25, 30.49, 31.01, 34.94, 34.73, 33.26, 30.4, 39.45, 36.56, 37.59, 34.38, 27.27, 26.77, 24.99, 26.67, 29.5, 29.06, 31.79, 27.15, 28.49, 29.67, 28.73, 38.37, 37.64, 44.87, 43.54, 45.08, 37.38, 44.91, 37.72, 35.68, 31.77, 30.22, 32.61, 33.11, 36.06, 33.79, 31.01, 34.14, 36.59, 32.32, 36.4, 35.01, 36.48, 35.68, 37.27, 38.2, 39.58, 41.4, 38.88, 37.34, 33.03, 37.85, 36.12, 41.45, 32.42, 33.51, 37.2, 33.63, 38.44, 32.46, 32.78, 28.08, 33.8, 30.87, 26.86, 40.19, 38.51, 39.11, 43.12, 39.79, 38.92, 40.86, 42.29, 33.2, 34.45, 38.18, 43.15, 37.24, 34.5, 45.71, 29.78, 27.93, 30.76, 35.22, 36.01, 29.84, 30.51, 28.5, 32.35, 34.28, 32.74, 33.45, 33.71, 30.4, 29.56, 27.56, 28.85, 29.74, 30.78, 28.53, 31.74, 32.92, 35.62, 38.09, 36.31, 37.81, 35.4, 36.2, 35.11, 30.0, 26.39, 27.87, 28.99, 25.41, 25.14, 29.98, 25.54, 25.21, 32.73, 25.01, 24.54, 34.88, 29.67, 30.69, 36.28, 34.07, 28.25, 37.54, 39.53, 31.48, 29.69, 32.49, 35.22, 34.09, 35.22, 33.79, 37.96, 37.03, 37.66, 40.0, 32.44, 35.92, 31.86, 35.2, 35.89, 35.39, 40.53, 40.14, 34.91, 38.42, 36.59, 30.88, 34.0, 32.64, 30.87, 35.15, 31.94, 35.39, 37.73, 37.77, 32.05, 38.36, 42.61, 43.19, 38.3, 37.46, 31.07, 32.51, 33.02, 38.61, 28.72, 30.44, 30.26, 27.53, 34.54, 26.54, 27.39, 21.2, 33.9, 31.71, 34.49, 35.72, 27.98, 26.02, 29.0, 27.06, 26.39, 24.03, 33.17, 27.43, 31.39, 28.41, 30.16, 29.92, 30.02, 29.46, 27.31, 28.38, 29.64, 30.5, 40.23, 39.69, 35.81, 34.7, 38.75, 30.32, 35.07, 29.37, 33.09, 31.39, 31.19, 31.76, 33.84, 30.49, 34.47, 29.24, 31.72, 38.11, 35.69, 37.13, 34.04, 33.82, 32.46, 30.58, 29.93, 34.49, 38.16, 32.56, 32.54, 32.31, 32.6, 29.51, 31.26, 32.16, 31.26, 33.01, 21.27, 23.67, 25.79, 29.67, 27.15, 22.14, 25.69, 23.59, 27.62, 24.96, 22.79, 22.12, 22.21, 22.79, 26.82, 25.29, 32.84, 26.07, 25.56, 26.66, 27.64, 26.95, 32.4, 27.28, 27.28, 29.56, 31.61, 37.24, 33.4, 36.56, 37.67, 33.07, 34.88, 39.48, 37.77, 41.83, 40.1, 39.59, 40.66, 31.24, 40.21, 39.14, 36.4, 38.04, 40.48, 36.24, 35.22, 37.81, 25.1, 26.16, 29.65, 25.89, 28.43, 27.34, 28.71, 30.68, 27.69, 33.25, 31.54, 28.22, 32.02, 38.06, 37.31, 33.48, 38.79, 42.01, 38.08, 34.63, 28.4, 32.64, 33.01, 38.7, 33.66, 34.69, 22.25, 27.36, 31.42, 31.74, 30.62, 29.6, 28.29, 37.17, 34.45, 37.54, 39.44, 42.79, 37.86, 37.46, 36.98, 41.96, 44.3, 39.97, 42.35, 37.32, 36.4, 35.29, 35.55, 33.93, 34.74, 36.2, 32.68, 30.0, 30.44, 31.34, 29.48, 33.72, 28.94, 34.8, 21.92, 33.07, 31.74, 29.56, 37.04, 34.65, 33.19, 34.38, 36.17, 49.94, 38.19, 28.88, 28.01, 29.1, 32.45, 25.68, 31.51, 22.32, 20.79, 33.29, 49.8, 48.35, 46.11], \"y0\": \" \", \"yaxis\": \"y\"}],                        {\"boxmode\": \"group\", \"legend\": {\"tracegroupgap\": 0}, \"template\": {\"data\": {\"bar\": [{\"error_x\": {\"color\": \"#2a3f5f\"}, \"error_y\": {\"color\": \"#2a3f5f\"}, \"marker\": {\"line\": {\"color\": \"#E5ECF6\", \"width\": 0.5}}, \"type\": \"bar\"}], \"barpolar\": [{\"marker\": {\"line\": {\"color\": \"#E5ECF6\", \"width\": 0.5}}, \"type\": \"barpolar\"}], \"carpet\": [{\"aaxis\": {\"endlinecolor\": \"#2a3f5f\", \"gridcolor\": \"white\", \"linecolor\": \"white\", \"minorgridcolor\": \"white\", \"startlinecolor\": \"#2a3f5f\"}, \"baxis\": {\"endlinecolor\": \"#2a3f5f\", \"gridcolor\": \"white\", \"linecolor\": \"white\", \"minorgridcolor\": \"white\", \"startlinecolor\": \"#2a3f5f\"}, \"type\": \"carpet\"}], \"choropleth\": [{\"colorbar\": {\"outlinewidth\": 0, \"ticks\": \"\"}, \"type\": \"choropleth\"}], \"contour\": [{\"colorbar\": {\"outlinewidth\": 0, \"ticks\": \"\"}, \"colorscale\": [[0.0, \"#0d0887\"], [0.1111111111111111, \"#46039f\"], [0.2222222222222222, \"#7201a8\"], [0.3333333333333333, \"#9c179e\"], [0.4444444444444444, \"#bd3786\"], [0.5555555555555556, \"#d8576b\"], [0.6666666666666666, \"#ed7953\"], [0.7777777777777778, \"#fb9f3a\"], [0.8888888888888888, \"#fdca26\"], [1.0, \"#f0f921\"]], \"type\": \"contour\"}], \"contourcarpet\": [{\"colorbar\": {\"outlinewidth\": 0, \"ticks\": \"\"}, \"type\": \"contourcarpet\"}], \"heatmap\": [{\"colorbar\": {\"outlinewidth\": 0, \"ticks\": \"\"}, \"colorscale\": [[0.0, \"#0d0887\"], [0.1111111111111111, \"#46039f\"], [0.2222222222222222, \"#7201a8\"], [0.3333333333333333, \"#9c179e\"], [0.4444444444444444, \"#bd3786\"], [0.5555555555555556, \"#d8576b\"], [0.6666666666666666, \"#ed7953\"], [0.7777777777777778, \"#fb9f3a\"], [0.8888888888888888, \"#fdca26\"], [1.0, \"#f0f921\"]], \"type\": \"heatmap\"}], \"heatmapgl\": [{\"colorbar\": {\"outlinewidth\": 0, \"ticks\": \"\"}, \"colorscale\": [[0.0, \"#0d0887\"], [0.1111111111111111, \"#46039f\"], [0.2222222222222222, \"#7201a8\"], [0.3333333333333333, \"#9c179e\"], [0.4444444444444444, \"#bd3786\"], [0.5555555555555556, \"#d8576b\"], [0.6666666666666666, \"#ed7953\"], [0.7777777777777778, \"#fb9f3a\"], [0.8888888888888888, \"#fdca26\"], [1.0, \"#f0f921\"]], \"type\": \"heatmapgl\"}], \"histogram\": [{\"marker\": {\"colorbar\": {\"outlinewidth\": 0, \"ticks\": \"\"}}, \"type\": \"histogram\"}], \"histogram2d\": [{\"colorbar\": {\"outlinewidth\": 0, \"ticks\": \"\"}, \"colorscale\": [[0.0, \"#0d0887\"], [0.1111111111111111, \"#46039f\"], [0.2222222222222222, \"#7201a8\"], [0.3333333333333333, \"#9c179e\"], [0.4444444444444444, \"#bd3786\"], [0.5555555555555556, \"#d8576b\"], [0.6666666666666666, \"#ed7953\"], [0.7777777777777778, \"#fb9f3a\"], [0.8888888888888888, \"#fdca26\"], [1.0, \"#f0f921\"]], \"type\": \"histogram2d\"}], \"histogram2dcontour\": [{\"colorbar\": {\"outlinewidth\": 0, \"ticks\": \"\"}, \"colorscale\": [[0.0, \"#0d0887\"], [0.1111111111111111, \"#46039f\"], [0.2222222222222222, \"#7201a8\"], [0.3333333333333333, \"#9c179e\"], [0.4444444444444444, \"#bd3786\"], [0.5555555555555556, \"#d8576b\"], [0.6666666666666666, \"#ed7953\"], [0.7777777777777778, \"#fb9f3a\"], [0.8888888888888888, \"#fdca26\"], [1.0, \"#f0f921\"]], \"type\": \"histogram2dcontour\"}], \"mesh3d\": [{\"colorbar\": {\"outlinewidth\": 0, \"ticks\": \"\"}, \"type\": \"mesh3d\"}], \"parcoords\": [{\"line\": {\"colorbar\": {\"outlinewidth\": 0, \"ticks\": \"\"}}, \"type\": \"parcoords\"}], \"pie\": [{\"automargin\": true, \"type\": \"pie\"}], \"scatter\": [{\"marker\": {\"colorbar\": {\"outlinewidth\": 0, \"ticks\": \"\"}}, \"type\": \"scatter\"}], \"scatter3d\": [{\"line\": {\"colorbar\": {\"outlinewidth\": 0, \"ticks\": \"\"}}, \"marker\": {\"colorbar\": {\"outlinewidth\": 0, \"ticks\": \"\"}}, \"type\": \"scatter3d\"}], \"scattercarpet\": [{\"marker\": {\"colorbar\": {\"outlinewidth\": 0, \"ticks\": \"\"}}, \"type\": \"scattercarpet\"}], \"scattergeo\": [{\"marker\": {\"colorbar\": {\"outlinewidth\": 0, \"ticks\": \"\"}}, \"type\": \"scattergeo\"}], \"scattergl\": [{\"marker\": {\"colorbar\": {\"outlinewidth\": 0, \"ticks\": \"\"}}, \"type\": \"scattergl\"}], \"scattermapbox\": [{\"marker\": {\"colorbar\": {\"outlinewidth\": 0, \"ticks\": \"\"}}, \"type\": \"scattermapbox\"}], \"scatterpolar\": [{\"marker\": {\"colorbar\": {\"outlinewidth\": 0, \"ticks\": \"\"}}, \"type\": \"scatterpolar\"}], \"scatterpolargl\": [{\"marker\": {\"colorbar\": {\"outlinewidth\": 0, \"ticks\": \"\"}}, \"type\": \"scatterpolargl\"}], \"scatterternary\": [{\"marker\": {\"colorbar\": {\"outlinewidth\": 0, \"ticks\": \"\"}}, \"type\": \"scatterternary\"}], \"surface\": [{\"colorbar\": {\"outlinewidth\": 0, \"ticks\": \"\"}, \"colorscale\": [[0.0, \"#0d0887\"], [0.1111111111111111, \"#46039f\"], [0.2222222222222222, \"#7201a8\"], [0.3333333333333333, \"#9c179e\"], [0.4444444444444444, \"#bd3786\"], [0.5555555555555556, \"#d8576b\"], [0.6666666666666666, \"#ed7953\"], [0.7777777777777778, \"#fb9f3a\"], [0.8888888888888888, \"#fdca26\"], [1.0, \"#f0f921\"]], \"type\": \"surface\"}], \"table\": [{\"cells\": {\"fill\": {\"color\": \"#EBF0F8\"}, \"line\": {\"color\": \"white\"}}, \"header\": {\"fill\": {\"color\": \"#C8D4E3\"}, \"line\": {\"color\": \"white\"}}, \"type\": \"table\"}]}, \"layout\": {\"annotationdefaults\": {\"arrowcolor\": \"#2a3f5f\", \"arrowhead\": 0, \"arrowwidth\": 1}, \"autotypenumbers\": \"strict\", \"coloraxis\": {\"colorbar\": {\"outlinewidth\": 0, \"ticks\": \"\"}}, \"colorscale\": {\"diverging\": [[0, \"#8e0152\"], [0.1, \"#c51b7d\"], [0.2, \"#de77ae\"], [0.3, \"#f1b6da\"], [0.4, \"#fde0ef\"], [0.5, \"#f7f7f7\"], [0.6, \"#e6f5d0\"], [0.7, \"#b8e186\"], [0.8, \"#7fbc41\"], [0.9, \"#4d9221\"], [1, \"#276419\"]], \"sequential\": [[0.0, \"#0d0887\"], [0.1111111111111111, \"#46039f\"], [0.2222222222222222, \"#7201a8\"], [0.3333333333333333, \"#9c179e\"], [0.4444444444444444, \"#bd3786\"], [0.5555555555555556, \"#d8576b\"], [0.6666666666666666, \"#ed7953\"], [0.7777777777777778, \"#fb9f3a\"], [0.8888888888888888, \"#fdca26\"], [1.0, \"#f0f921\"]], \"sequentialminus\": [[0.0, \"#0d0887\"], [0.1111111111111111, \"#46039f\"], [0.2222222222222222, \"#7201a8\"], [0.3333333333333333, \"#9c179e\"], [0.4444444444444444, \"#bd3786\"], [0.5555555555555556, \"#d8576b\"], [0.6666666666666666, \"#ed7953\"], [0.7777777777777778, \"#fb9f3a\"], [0.8888888888888888, \"#fdca26\"], [1.0, \"#f0f921\"]]}, \"colorway\": [\"#636efa\", \"#EF553B\", \"#00cc96\", \"#ab63fa\", \"#FFA15A\", \"#19d3f3\", \"#FF6692\", \"#B6E880\", \"#FF97FF\", \"#FECB52\"], \"font\": {\"color\": \"#2a3f5f\"}, \"geo\": {\"bgcolor\": \"white\", \"lakecolor\": \"white\", \"landcolor\": \"#E5ECF6\", \"showlakes\": true, \"showland\": true, \"subunitcolor\": \"white\"}, \"hoverlabel\": {\"align\": \"left\"}, \"hovermode\": \"closest\", \"mapbox\": {\"style\": \"light\"}, \"paper_bgcolor\": \"white\", \"plot_bgcolor\": \"#E5ECF6\", \"polar\": {\"angularaxis\": {\"gridcolor\": \"white\", \"linecolor\": \"white\", \"ticks\": \"\"}, \"bgcolor\": \"#E5ECF6\", \"radialaxis\": {\"gridcolor\": \"white\", \"linecolor\": \"white\", \"ticks\": \"\"}}, \"scene\": {\"xaxis\": {\"backgroundcolor\": \"#E5ECF6\", \"gridcolor\": \"white\", \"gridwidth\": 2, \"linecolor\": \"white\", \"showbackground\": true, \"ticks\": \"\", \"zerolinecolor\": \"white\"}, \"yaxis\": {\"backgroundcolor\": \"#E5ECF6\", \"gridcolor\": \"white\", \"gridwidth\": 2, \"linecolor\": \"white\", \"showbackground\": true, \"ticks\": \"\", \"zerolinecolor\": \"white\"}, \"zaxis\": {\"backgroundcolor\": \"#E5ECF6\", \"gridcolor\": \"white\", \"gridwidth\": 2, \"linecolor\": \"white\", \"showbackground\": true, \"ticks\": \"\", \"zerolinecolor\": \"white\"}}, \"shapedefaults\": {\"line\": {\"color\": \"#2a3f5f\"}}, \"ternary\": {\"aaxis\": {\"gridcolor\": \"white\", \"linecolor\": \"white\", \"ticks\": \"\"}, \"baxis\": {\"gridcolor\": \"white\", \"linecolor\": \"white\", \"ticks\": \"\"}, \"bgcolor\": \"#E5ECF6\", \"caxis\": {\"gridcolor\": \"white\", \"linecolor\": \"white\", \"ticks\": \"\"}}, \"title\": {\"x\": 0.05}, \"xaxis\": {\"automargin\": true, \"gridcolor\": \"white\", \"linecolor\": \"white\", \"ticks\": \"\", \"title\": {\"standoff\": 15}, \"zerolinecolor\": \"white\", \"zerolinewidth\": 2}, \"yaxis\": {\"automargin\": true, \"gridcolor\": \"white\", \"linecolor\": \"white\", \"ticks\": \"\", \"title\": {\"standoff\": 15}, \"zerolinecolor\": \"white\", \"zerolinewidth\": 2}}}, \"title\": {\"text\": \"FCK x Rompimento 28 Dias\"}, \"xaxis\": {\"anchor\": \"y\", \"domain\": [0.0, 1.0], \"title\": {\"text\": \"FCK\"}}, \"yaxis\": {\"anchor\": \"x\", \"domain\": [0.0, 1.0], \"title\": {\"text\": \"Rompimento28Dias\"}}},                        {\"responsive\": true}                    ).then(function(){\n",
       "                            \n",
       "var gd = document.getElementById('db3411ab-ee95-458d-9a98-4b53bdb3b007');\n",
       "var x = new MutationObserver(function (mutations, observer) {{\n",
       "        var display = window.getComputedStyle(gd).display;\n",
       "        if (!display || display === 'none') {{\n",
       "            console.log([gd, 'removed!']);\n",
       "            Plotly.purge(gd);\n",
       "            observer.disconnect();\n",
       "        }}\n",
       "}});\n",
       "\n",
       "// Listen for the removal of the full notebook cells\n",
       "var notebookContainer = gd.closest('#notebook-container');\n",
       "if (notebookContainer) {{\n",
       "    x.observe(notebookContainer, {childList: true});\n",
       "}}\n",
       "\n",
       "// Listen for the clearing of the current output cell\n",
       "var outputEl = gd.closest('.output');\n",
       "if (outputEl) {{\n",
       "    x.observe(outputEl, {childList: true});\n",
       "}}\n",
       "\n",
       "                        })                };                });            </script>        </div>"
      ]
     },
     "metadata": {},
     "output_type": "display_data"
    }
   ],
   "source": [
    "fig = px.box(dados_aglomerante, x=\"FCK\", y=\"Rompimento28Dias\", title='FCK x Rompimento 28 Dias')\n",
    "fig.show()"
   ]
  },
  {
   "cell_type": "code",
   "execution_count": 339,
   "metadata": {},
   "outputs": [
    {
     "name": "stderr",
     "output_type": "stream",
     "text": [
      "/home/marina/anaconda3/lib/python3.8/site-packages/pandas/core/series.py:4563: SettingWithCopyWarning:\n",
      "\n",
      "\n",
      "A value is trying to be set on a copy of a slice from a DataFrame\n",
      "\n",
      "See the caveats in the documentation: https://pandas.pydata.org/pandas-docs/stable/user_guide/indexing.html#returning-a-view-versus-a-copy\n",
      "\n"
     ]
    }
   ],
   "source": [
    "dados_aglomerante[\"TipoLancamento\"].replace('C', 0, inplace = True)\n",
    "dados_aglomerante[\"TipoLancamento\"].replace('B', 1, inplace = True)\n",
    "\n",
    "dados_aglomerante[\"TipoTraco\"].replace('N', 0, inplace = True)\n",
    "dados_aglomerante[\"TipoTraco\"].replace('E', 1, inplace = True)"
   ]
  },
  {
   "cell_type": "code",
   "execution_count": 340,
   "metadata": {},
   "outputs": [],
   "source": [
    "class TypeSelector(BaseEstimator, TransformerMixin):\n",
    "    def __init__(self, dtype):\n",
    "        self.dtype = dtype\n",
    "    def fit(self, X, y=None):\n",
    "        return self\n",
    "    def transform(self, X):        \n",
    "        assert isinstance(X, pd.DataFrame)\n",
    "        return X.select_dtypes(include=[self.dtype])\n",
    "    \n",
    "class Debug(BaseEstimator, TransformerMixin):\n",
    "    def __init__(self, dtype):\n",
    "        self.dtype = dtype\n",
    "    def fit(self, X, y=None):\n",
    "        return self\n",
    "    def transform(self, X):        \n",
    "        print(X)\n",
    "\n",
    "modelo = Pipeline([\n",
    "  #('features', FeatureUnion(\n",
    "  #    transformer_list=[\n",
    "  #        ('numericals', Pipeline([\n",
    "  #            ('scaler', MinMaxScaler())\n",
    "  #        ]))\n",
    "  #    ]\n",
    "  #)),\n",
    "  ('model', GradientBoostingRegressor(learning_rate = 0.22, n_estimators = 12,  random_state = 1))\n",
    "  #('model', DecisionTreeRegressor())\n",
    "  #('model', xgb.XGBRegressor())\n",
    "])"
   ]
  },
  {
   "cell_type": "code",
   "execution_count": 341,
   "metadata": {},
   "outputs": [
    {
     "data": {
      "text/html": [
       "<div>\n",
       "<style scoped>\n",
       "    .dataframe tbody tr th:only-of-type {\n",
       "        vertical-align: middle;\n",
       "    }\n",
       "\n",
       "    .dataframe tbody tr th {\n",
       "        vertical-align: top;\n",
       "    }\n",
       "\n",
       "    .dataframe thead th {\n",
       "        text-align: right;\n",
       "    }\n",
       "</style>\n",
       "<table border=\"1\" class=\"dataframe\">\n",
       "  <thead>\n",
       "    <tr style=\"text-align: right;\">\n",
       "      <th></th>\n",
       "      <th>CodigoReceita</th>\n",
       "      <th>Volume</th>\n",
       "      <th>TipoLancamento</th>\n",
       "      <th>DataEmissaoNotaFiscal</th>\n",
       "      <th>CodigoCliente</th>\n",
       "      <th>CodigoMotorista</th>\n",
       "      <th>TempoPermanenciaObra</th>\n",
       "      <th>ConsumoTotal</th>\n",
       "      <th>Idade</th>\n",
       "      <th>TipoTraco</th>\n",
       "      <th>...</th>\n",
       "      <th>FCK</th>\n",
       "      <th>Rompimento7Dias</th>\n",
       "      <th>Rompimento28Dias</th>\n",
       "      <th>ConsumoPorM3</th>\n",
       "      <th>DesvioAplicado</th>\n",
       "      <th>ResultadoProjetado</th>\n",
       "      <th>PercentualCrescimentoReal</th>\n",
       "      <th>PercentualCrescimentoProjetado</th>\n",
       "      <th>RelacaoAguaCimento</th>\n",
       "      <th>DataProjecao</th>\n",
       "    </tr>\n",
       "  </thead>\n",
       "  <tbody>\n",
       "    <tr>\n",
       "      <th>38008</th>\n",
       "      <td>33488051</td>\n",
       "      <td>6.0</td>\n",
       "      <td>1</td>\n",
       "      <td>2017-03-08 14:43:53.140</td>\n",
       "      <td>133258051</td>\n",
       "      <td>812051</td>\n",
       "      <td>00:54:00</td>\n",
       "      <td>2.172.000</td>\n",
       "      <td>28</td>\n",
       "      <td>0</td>\n",
       "      <td>...</td>\n",
       "      <td>30.0</td>\n",
       "      <td>25.73</td>\n",
       "      <td>35.08</td>\n",
       "      <td>362.0</td>\n",
       "      <td>6.0</td>\n",
       "      <td>35.882105</td>\n",
       "      <td>36.338904</td>\n",
       "      <td>39.456298</td>\n",
       "      <td>0.538674</td>\n",
       "      <td>2017-03-10</td>\n",
       "    </tr>\n",
       "    <tr>\n",
       "      <th>38066</th>\n",
       "      <td>33535051</td>\n",
       "      <td>8.0</td>\n",
       "      <td>1</td>\n",
       "      <td>2017-11-13 08:06:27.303</td>\n",
       "      <td>225643998</td>\n",
       "      <td>85079</td>\n",
       "      <td>01:05:00</td>\n",
       "      <td>2.560.000</td>\n",
       "      <td>28</td>\n",
       "      <td>0</td>\n",
       "      <td>...</td>\n",
       "      <td>25.0</td>\n",
       "      <td>24.26</td>\n",
       "      <td>33.40</td>\n",
       "      <td>320.0</td>\n",
       "      <td>6.0</td>\n",
       "      <td>28.834552</td>\n",
       "      <td>37.675185</td>\n",
       "      <td>18.856358</td>\n",
       "      <td>0.559375</td>\n",
       "      <td>2017-11-17</td>\n",
       "    </tr>\n",
       "    <tr>\n",
       "      <th>38067</th>\n",
       "      <td>33535051</td>\n",
       "      <td>8.0</td>\n",
       "      <td>1</td>\n",
       "      <td>2017-11-21 07:35:58.153</td>\n",
       "      <td>225643998</td>\n",
       "      <td>624051</td>\n",
       "      <td>01:39:00</td>\n",
       "      <td>2.560.000</td>\n",
       "      <td>28</td>\n",
       "      <td>0</td>\n",
       "      <td>...</td>\n",
       "      <td>25.0</td>\n",
       "      <td>24.24</td>\n",
       "      <td>31.72</td>\n",
       "      <td>320.0</td>\n",
       "      <td>6.0</td>\n",
       "      <td>28.817159</td>\n",
       "      <td>30.858086</td>\n",
       "      <td>18.882667</td>\n",
       "      <td>0.678125</td>\n",
       "      <td>2017-11-24</td>\n",
       "    </tr>\n",
       "    <tr>\n",
       "      <th>38068</th>\n",
       "      <td>33535051</td>\n",
       "      <td>8.0</td>\n",
       "      <td>1</td>\n",
       "      <td>2017-12-11 08:50:55.937</td>\n",
       "      <td>225643998</td>\n",
       "      <td>731051</td>\n",
       "      <td>01:09:00</td>\n",
       "      <td>2.560.000</td>\n",
       "      <td>28</td>\n",
       "      <td>0</td>\n",
       "      <td>...</td>\n",
       "      <td>25.0</td>\n",
       "      <td>23.45</td>\n",
       "      <td>31.12</td>\n",
       "      <td>320.0</td>\n",
       "      <td>6.0</td>\n",
       "      <td>28.125844</td>\n",
       "      <td>32.707889</td>\n",
       "      <td>19.939631</td>\n",
       "      <td>0.678125</td>\n",
       "      <td>2017-12-15</td>\n",
       "    </tr>\n",
       "    <tr>\n",
       "      <th>38069</th>\n",
       "      <td>33535051</td>\n",
       "      <td>8.0</td>\n",
       "      <td>1</td>\n",
       "      <td>2017-12-12 08:02:35.123</td>\n",
       "      <td>225643998</td>\n",
       "      <td>340051</td>\n",
       "      <td>01:28:00</td>\n",
       "      <td>2.560.000</td>\n",
       "      <td>28</td>\n",
       "      <td>0</td>\n",
       "      <td>...</td>\n",
       "      <td>25.0</td>\n",
       "      <td>20.88</td>\n",
       "      <td>28.39</td>\n",
       "      <td>320.0</td>\n",
       "      <td>6.0</td>\n",
       "      <td>25.816563</td>\n",
       "      <td>35.967433</td>\n",
       "      <td>23.642543</td>\n",
       "      <td>0.678125</td>\n",
       "      <td>2017-12-15</td>\n",
       "    </tr>\n",
       "  </tbody>\n",
       "</table>\n",
       "<p>5 rows × 21 columns</p>\n",
       "</div>"
      ],
      "text/plain": [
       "       CodigoReceita  Volume  TipoLancamento    DataEmissaoNotaFiscal  \\\n",
       "38008       33488051     6.0               1  2017-03-08 14:43:53.140   \n",
       "38066       33535051     8.0               1  2017-11-13 08:06:27.303   \n",
       "38067       33535051     8.0               1  2017-11-21 07:35:58.153   \n",
       "38068       33535051     8.0               1  2017-12-11 08:50:55.937   \n",
       "38069       33535051     8.0               1  2017-12-12 08:02:35.123   \n",
       "\n",
       "       CodigoCliente  CodigoMotorista TempoPermanenciaObra ConsumoTotal  \\\n",
       "38008      133258051           812051             00:54:00    2.172.000   \n",
       "38066      225643998            85079             01:05:00    2.560.000   \n",
       "38067      225643998           624051             01:39:00    2.560.000   \n",
       "38068      225643998           731051             01:09:00    2.560.000   \n",
       "38069      225643998           340051             01:28:00    2.560.000   \n",
       "\n",
       "       Idade  TipoTraco  ...   FCK  Rompimento7Dias  Rompimento28Dias  \\\n",
       "38008     28          0  ...  30.0            25.73             35.08   \n",
       "38066     28          0  ...  25.0            24.26             33.40   \n",
       "38067     28          0  ...  25.0            24.24             31.72   \n",
       "38068     28          0  ...  25.0            23.45             31.12   \n",
       "38069     28          0  ...  25.0            20.88             28.39   \n",
       "\n",
       "       ConsumoPorM3  DesvioAplicado  ResultadoProjetado  \\\n",
       "38008         362.0             6.0           35.882105   \n",
       "38066         320.0             6.0           28.834552   \n",
       "38067         320.0             6.0           28.817159   \n",
       "38068         320.0             6.0           28.125844   \n",
       "38069         320.0             6.0           25.816563   \n",
       "\n",
       "       PercentualCrescimentoReal  PercentualCrescimentoProjetado  \\\n",
       "38008                  36.338904                       39.456298   \n",
       "38066                  37.675185                       18.856358   \n",
       "38067                  30.858086                       18.882667   \n",
       "38068                  32.707889                       19.939631   \n",
       "38069                  35.967433                       23.642543   \n",
       "\n",
       "       RelacaoAguaCimento  DataProjecao  \n",
       "38008            0.538674    2017-03-10  \n",
       "38066            0.559375    2017-11-17  \n",
       "38067            0.678125    2017-11-24  \n",
       "38068            0.678125    2017-12-15  \n",
       "38069            0.678125    2017-12-15  \n",
       "\n",
       "[5 rows x 21 columns]"
      ]
     },
     "execution_count": 341,
     "metadata": {},
     "output_type": "execute_result"
    }
   ],
   "source": [
    "dados_aglomerante.head()"
   ]
  },
  {
   "cell_type": "code",
   "execution_count": 342,
   "metadata": {},
   "outputs": [],
   "source": [
    "dados_aglomerante_modelo = dados_aglomerante[[\"Rompimento7Dias\", \"Rompimento28Dias\", \"ResultadoProjetado\"]]\n",
    "\n",
    "X = dados_aglomerante_modelo[[\"Rompimento7Dias\", \"ResultadoProjetado\"]]\n",
    "Y = dados_aglomerante_modelo[\"Rompimento28Dias\"].values\n",
    "\n",
    "x_train, x_test, y_train, y_test = train_test_split(X, Y, test_size=0.33, random_state = 1)"
   ]
  },
  {
   "cell_type": "code",
   "execution_count": 343,
   "metadata": {},
   "outputs": [],
   "source": [
    "y_train = y_train.reshape(-1, 1)\n",
    "#x_train = x_train.reshape(-1, 1)\n",
    "y_test = y_test.reshape(-1, 1)\n",
    "#x_test = x_test.reshape(-1, 1)"
   ]
  },
  {
   "cell_type": "code",
   "execution_count": 344,
   "metadata": {},
   "outputs": [],
   "source": [
    "x_train_modelo = x_train[\"Rompimento7Dias\"].values\n",
    "x_test_modelo = x_test[\"Rompimento7Dias\"].values\n",
    "\n",
    "x_train_modelo = x_train_modelo.reshape(-1,1)\n",
    "x_test_modelo = x_test_modelo.reshape(-1,1)"
   ]
  },
  {
   "cell_type": "code",
   "execution_count": 345,
   "metadata": {},
   "outputs": [
    {
     "name": "stderr",
     "output_type": "stream",
     "text": [
      "/home/marina/anaconda3/lib/python3.8/site-packages/sklearn/utils/validation.py:72: DataConversionWarning:\n",
      "\n",
      "A column-vector y was passed when a 1d array was expected. Please change the shape of y to (n_samples, ), for example using ravel().\n",
      "\n"
     ]
    }
   ],
   "source": [
    "modelo.fit(x_train_modelo, y_train)\n",
    "y_pred = modelo.predict(x_test_modelo)"
   ]
  },
  {
   "cell_type": "code",
   "execution_count": 346,
   "metadata": {},
   "outputs": [],
   "source": [
    "df = pd.DataFrame(columns = [\"Rompimento28Dias\", \"ResultadoProjetado\", \"ResultadoPredito\"])\n",
    "\n",
    "df[\"Rompimento28Dias\"] = y_test.reshape(1, -1)[0]\n",
    "df[\"ResultadoProjetado\"] = x_test[\"ResultadoProjetado\"].values\n",
    "df[\"ResultadoPredito\"] = y_pred"
   ]
  },
  {
   "cell_type": "code",
   "execution_count": 347,
   "metadata": {},
   "outputs": [],
   "source": [
    "df[\"ErroProjetado\"] = abs(df[\"ResultadoProjetado\"] - df[\"Rompimento28Dias\"])\n",
    "df[\"ErroPredito\"] = abs(df[\"ResultadoPredito\"] - df[\"Rompimento28Dias\"])"
   ]
  },
  {
   "cell_type": "code",
   "execution_count": 348,
   "metadata": {},
   "outputs": [
    {
     "data": {
      "text/html": [
       "<div>\n",
       "<style scoped>\n",
       "    .dataframe tbody tr th:only-of-type {\n",
       "        vertical-align: middle;\n",
       "    }\n",
       "\n",
       "    .dataframe tbody tr th {\n",
       "        vertical-align: top;\n",
       "    }\n",
       "\n",
       "    .dataframe thead th {\n",
       "        text-align: right;\n",
       "    }\n",
       "</style>\n",
       "<table border=\"1\" class=\"dataframe\">\n",
       "  <thead>\n",
       "    <tr style=\"text-align: right;\">\n",
       "      <th></th>\n",
       "      <th>Rompimento28Dias</th>\n",
       "      <th>ResultadoProjetado</th>\n",
       "      <th>ResultadoPredito</th>\n",
       "      <th>ErroProjetado</th>\n",
       "      <th>ErroPredito</th>\n",
       "    </tr>\n",
       "  </thead>\n",
       "  <tbody>\n",
       "    <tr>\n",
       "      <th>0</th>\n",
       "      <td>28.41</td>\n",
       "      <td>33.010421</td>\n",
       "      <td>30.875256</td>\n",
       "      <td>4.600421</td>\n",
       "      <td>2.465256</td>\n",
       "    </tr>\n",
       "    <tr>\n",
       "      <th>1</th>\n",
       "      <td>30.00</td>\n",
       "      <td>34.044437</td>\n",
       "      <td>35.734285</td>\n",
       "      <td>4.044437</td>\n",
       "      <td>5.734285</td>\n",
       "    </tr>\n",
       "    <tr>\n",
       "      <th>2</th>\n",
       "      <td>33.17</td>\n",
       "      <td>35.628759</td>\n",
       "      <td>32.647650</td>\n",
       "      <td>2.458759</td>\n",
       "      <td>0.522350</td>\n",
       "    </tr>\n",
       "    <tr>\n",
       "      <th>3</th>\n",
       "      <td>34.09</td>\n",
       "      <td>29.838738</td>\n",
       "      <td>33.364843</td>\n",
       "      <td>4.251262</td>\n",
       "      <td>0.725157</td>\n",
       "    </tr>\n",
       "    <tr>\n",
       "      <th>4</th>\n",
       "      <td>26.27</td>\n",
       "      <td>24.704825</td>\n",
       "      <td>24.821577</td>\n",
       "      <td>1.565175</td>\n",
       "      <td>1.448423</td>\n",
       "    </tr>\n",
       "  </tbody>\n",
       "</table>\n",
       "</div>"
      ],
      "text/plain": [
       "   Rompimento28Dias  ResultadoProjetado  ResultadoPredito  ErroProjetado  \\\n",
       "0             28.41           33.010421         30.875256       4.600421   \n",
       "1             30.00           34.044437         35.734285       4.044437   \n",
       "2             33.17           35.628759         32.647650       2.458759   \n",
       "3             34.09           29.838738         33.364843       4.251262   \n",
       "4             26.27           24.704825         24.821577       1.565175   \n",
       "\n",
       "   ErroPredito  \n",
       "0     2.465256  \n",
       "1     5.734285  \n",
       "2     0.522350  \n",
       "3     0.725157  \n",
       "4     1.448423  "
      ]
     },
     "execution_count": 348,
     "metadata": {},
     "output_type": "execute_result"
    }
   ],
   "source": [
    "df.head()"
   ]
  },
  {
   "cell_type": "code",
   "execution_count": 349,
   "metadata": {},
   "outputs": [
    {
     "data": {
      "text/plain": [
       "372.3348749931759"
      ]
     },
     "execution_count": 349,
     "metadata": {},
     "output_type": "execute_result"
    }
   ],
   "source": [
    "df[\"ErroProjetado\"].sum()"
   ]
  },
  {
   "cell_type": "code",
   "execution_count": 350,
   "metadata": {},
   "outputs": [
    {
     "data": {
      "text/plain": [
       "280.04967977847525"
      ]
     },
     "execution_count": 350,
     "metadata": {},
     "output_type": "execute_result"
    }
   ],
   "source": [
    "df[\"ErroPredito\"].sum()"
   ]
  },
  {
   "cell_type": "code",
   "execution_count": 351,
   "metadata": {},
   "outputs": [
    {
     "data": {
      "text/plain": [
       "0.6493506493506493"
      ]
     },
     "execution_count": 351,
     "metadata": {},
     "output_type": "execute_result"
    }
   ],
   "source": [
    "mask_modelo_predito_melhor = df[\"ErroPredito\"] < df[\"ErroProjetado\"]\n",
    "quantidade_nf_modelo_eh_melhor = len(df[mask_modelo_predito_melhor])\n",
    "quantidade_total = len(df)\n",
    "\n",
    "quantidade_nf_modelo_eh_melhor/quantidade_total"
   ]
  },
  {
   "cell_type": "code",
   "execution_count": null,
   "metadata": {},
   "outputs": [],
   "source": [
    "0.6493506493506493  - 0,22 - 12 - GradientBoostingRegressor"
   ]
  },
  {
   "cell_type": "code",
   "execution_count": null,
   "metadata": {},
   "outputs": [],
   "source": []
  }
 ],
 "metadata": {
  "kernelspec": {
   "display_name": "Python 3",
   "language": "python",
   "name": "python3"
  },
  "language_info": {
   "codemirror_mode": {
    "name": "ipython",
    "version": 3
   },
   "file_extension": ".py",
   "mimetype": "text/x-python",
   "name": "python",
   "nbconvert_exporter": "python",
   "pygments_lexer": "ipython3",
   "version": "3.8.5"
  }
 },
 "nbformat": 4,
 "nbformat_minor": 4
}
